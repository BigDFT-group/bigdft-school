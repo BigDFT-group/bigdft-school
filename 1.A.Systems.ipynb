{
  "cells": [
    {
      "cell_type": "markdown",
      "id": "4e27ab20",
      "metadata": {
        "id": "4e27ab20"
      },
      "source": [
        "# Introduction\n",
        "\n",
        "In this series of tutorials, the fundamental aspects of a BigDFT calculation are inspected.\n",
        "\n",
        "The **topics** addressed are:\n",
        "- building a system\n",
        "- running a simple calculation\n",
        "- reading a Logfile\n",
        "\n",
        "Those subjects are then each followed by **exercises**.\n",
        "\n",
        "The **prerequisites** are:\n",
        "- beginner level in python programming (1)\n",
        "- understanding of *ab initio* methods (2)\n",
        "\n",
        "In the following, PyBigDFT is used to build systems and then compute their first-principles properties using BigDFT.\n",
        "\n",
        "The code packages are installed through the following"
      ]
    },
    {
      "cell_type": "code",
      "source": [
        "install = \"client (Google drive)\" #@param [\"full_suite\", \"client (Google drive)\", \"client\"]\n",
        "install_var=install\n",
        "!wget https://gitlab.com/luigigenovese/bigdft-school/-/raw/main/packaging/install.py &> /dev/null\n",
        "args={'locally': True} if install == 'client' else {}\n",
        "import install\n",
        "getattr(install,install_var.split()[0])(**args)"
      ],
      "metadata": {
        "cellView": "form",
        "id": "3S0OSOVQ8OIl"
      },
      "id": "3S0OSOVQ8OIl",
      "execution_count": null,
      "outputs": []
    },
    {
      "cell_type": "markdown",
      "id": "bb9527df",
      "metadata": {
        "id": "bb9527df"
      },
      "source": [
        "For this part of the tutorial we have to install an extra package.\n",
        "If your client installation is performed on the google drive, such command will not be needed in the future.\n"
      ]
    },
    {
      "cell_type": "code",
      "source": [
        "install.packages('py3Dmol')"
      ],
      "metadata": {
        "id": "c-z8AjUC9s5K"
      },
      "id": "c-z8AjUC9s5K",
      "execution_count": null,
      "outputs": []
    },
    {
      "cell_type": "markdown",
      "id": "f94bdcb8",
      "metadata": {
        "id": "f94bdcb8"
      },
      "source": [
        "## Python intrinsics manipulation\n",
        "\n",
        "In python, two datastructures are very common: **lists** and **dictionaries**."
      ]
    },
    {
      "cell_type": "code",
      "execution_count": null,
      "id": "cfd1b854",
      "metadata": {
        "colab": {
          "base_uri": "https://localhost:8080/"
        },
        "id": "cfd1b854",
        "outputId": "4d82f868-fb5e-4827-ff36-29e75239d12b"
      },
      "outputs": [
        {
          "output_type": "stream",
          "name": "stdout",
          "text": [
            "3\n",
            "4\n"
          ]
        }
      ],
      "source": [
        "my_list = [0, 1, 2, 3]\n",
        "print(my_list[-1])\n",
        "my_dict = {\"a\": \"word\", \"c\": 4}\n",
        "print(my_dict[\"c\"])"
      ]
    },
    {
      "cell_type": "markdown",
      "id": "614991a9",
      "metadata": {
        "id": "614991a9"
      },
      "source": [
        "Those objects are easily built and manipulated using comprehensions"
      ]
    },
    {
      "cell_type": "code",
      "execution_count": null,
      "id": "18c3df57",
      "metadata": {
        "colab": {
          "base_uri": "https://localhost:8080/"
        },
        "id": "18c3df57",
        "outputId": "a285cecc-0073-4f54-fecb-230576c9e3cb"
      },
      "outputs": [
        {
          "output_type": "stream",
          "name": "stdout",
          "text": [
            "[0, 3, 6, 9]\n",
            "{'a2': 'word', 'c2': 4}\n"
          ]
        }
      ],
      "source": [
        "my_list2 = [x*3 for x in my_list]\n",
        "print(my_list2)\n",
        "my_dict2 = {k+\"2\": v for k,v in my_dict.items()}\n",
        "print(my_dict2)"
      ]
    },
    {
      "cell_type": "markdown",
      "id": "7994a78c",
      "metadata": {
        "id": "7994a78c"
      },
      "source": [
        "Additionally, those objects are serializable in yaml format for improved readability"
      ]
    },
    {
      "cell_type": "code",
      "execution_count": null,
      "id": "c0d07d78",
      "metadata": {
        "colab": {
          "base_uri": "https://localhost:8080/"
        },
        "id": "c0d07d78",
        "outputId": "a522f1a2-fb46-42dd-bc4b-1c438d86913c"
      },
      "outputs": [
        {
          "output_type": "stream",
          "name": "stdout",
          "text": [
            "a2: word\n",
            "c2: 4\n",
            "\n"
          ]
        }
      ],
      "source": [
        "from yaml import dump\n",
        "\n",
        "print(dump(my_dict2))"
      ]
    },
    {
      "cell_type": "markdown",
      "id": "f8e1a5f5",
      "metadata": {
        "id": "f8e1a5f5"
      },
      "source": [
        "## What we mean with *ab initio* methods?\n",
        "\n",
        "Ab initio quantum chemistry methods attempt to solve Schrödinger's equation given the **positions** of the nuclei and the **number of electrons**, yielding useful information such as electron densities, energies and other properties of the system.\n",
        "\n",
        "A first-principles calculation therefore requires:\n",
        "- a geometry (along with a lattice for solid-state)\n",
        "- an exchange-correlation (XC) functional\n",
        "- a set of input parameters which are specific of the numerical treatment of the method"
      ]
    },
    {
      "cell_type": "markdown",
      "id": "3279bc37",
      "metadata": {
        "id": "3279bc37"
      },
      "source": [
        "# The Geometry: Building a system\n",
        "\n",
        "In PyBigDFT, geometries are build upon different layers:\n",
        "- Atoms: stores any information (dict)\n",
        "- Fragments: are collection of Atoms (list)\n",
        "- Systems: are collection of Fragments (dict)"
      ]
    },
    {
      "cell_type": "markdown",
      "id": "precise-parish",
      "metadata": {
        "id": "precise-parish"
      },
      "source": [
        "## Atoms\n",
        "\n",
        "Any system is composed of atoms, which require both a **symbol** and a **position**. \n",
        "\n",
        "The most appropriate way to store such information (or any other) about an atom is inside a `dict`"
      ]
    },
    {
      "cell_type": "code",
      "execution_count": null,
      "id": "incomplete-chester",
      "metadata": {
        "colab": {
          "base_uri": "https://localhost:8080/"
        },
        "id": "incomplete-chester",
        "outputId": "ae705331-e517-41df-9f79-f2b3d27281f1"
      },
      "outputs": [
        {
          "output_type": "stream",
          "name": "stdout",
          "text": [
            "r:\n",
            "- 1\n",
            "- 0\n",
            "- 0\n",
            "sym: H\n",
            "units: angstroem\n",
            "\n"
          ]
        }
      ],
      "source": [
        "at = {\"sym\": \"H\", \"r\": [1, 0, 0], \"units\": \"angstroem\"}\n",
        "print(dump(at))"
      ]
    },
    {
      "cell_type": "markdown",
      "id": "regulated-flashing",
      "metadata": {
        "id": "regulated-flashing"
      },
      "source": [
        "The `Atoms` class wraps up `dict` in order to provide helpful subroutines."
      ]
    },
    {
      "cell_type": "code",
      "execution_count": null,
      "id": "undefined-closing",
      "metadata": {
        "colab": {
          "base_uri": "https://localhost:8080/"
        },
        "id": "undefined-closing",
        "outputId": "658354d5-b59b-4714-82b9-cbd989556d5f"
      },
      "outputs": [
        {
          "output_type": "stream",
          "name": "stdout",
          "text": [
            "!!python/object:BigDFT.Atoms.Atom\n",
            "store:\n",
            "  r:\n",
            "  - 1\n",
            "  - 0\n",
            "  - 0\n",
            "  sym: H\n",
            "  units: angstroem\n",
            "\n"
          ]
        }
      ],
      "source": [
        "from BigDFT.Atoms import Atom\n",
        "\n",
        "atom = Atom(at)\n",
        "print(dump(atom))"
      ]
    },
    {
      "cell_type": "markdown",
      "id": "recognized-collapse",
      "metadata": {
        "id": "recognized-collapse"
      },
      "source": [
        "Some of the built in subroutines are demonstrated below."
      ]
    },
    {
      "cell_type": "code",
      "execution_count": null,
      "id": "silver-composer",
      "metadata": {
        "colab": {
          "base_uri": "https://localhost:8080/"
        },
        "id": "silver-composer",
        "outputId": "b54aee18-d16a-4a2d-b74a-99b8bbfbf205"
      },
      "outputs": [
        {
          "output_type": "stream",
          "name": "stdout",
          "text": [
            "H\n",
            "1\n",
            "[1.0, 0.0, 0.0]\n",
            "[1.8897261245650618, 0.0, 0.0]\n"
          ]
        }
      ],
      "source": [
        "print(atom.sym)\n",
        "print(atom.atomic_number)\n",
        "print(atom.get_position(\"angstroem\"))\n",
        "print(atom.get_position(\"bohr\"))"
      ]
    },
    {
      "cell_type": "markdown",
      "id": "accurate-tyler",
      "metadata": {
        "id": "accurate-tyler"
      },
      "source": [
        "With this approach, the flexibility of a `dict` is retained."
      ]
    },
    {
      "cell_type": "code",
      "execution_count": null,
      "id": "everyday-guyana",
      "metadata": {
        "colab": {
          "base_uri": "https://localhost:8080/"
        },
        "id": "everyday-guyana",
        "outputId": "2f8da78a-5407-4346-af85-ebda346da32f"
      },
      "outputs": [
        {
          "output_type": "stream",
          "name": "stdout",
          "text": [
            "tutorial\n",
            "sym H\n",
            "r [1, 0, 0]\n",
            "units angstroem\n",
            "source tutorial\n"
          ]
        }
      ],
      "source": [
        "atom[\"source\"] = \"tutorial\"\n",
        "print(atom[\"source\"])\n",
        "for k,v in atom.items():\n",
        "    print(k,v)"
      ]
    },
    {
      "cell_type": "markdown",
      "id": "postal-blackjack",
      "metadata": {
        "id": "postal-blackjack"
      },
      "source": [
        "## Fragments\n",
        "\n",
        "Calculations involve not single atoms but instead **groups of atoms**. In this case, lists are used as model data structures, with the wrapper class referred to as a `Fragment`. "
      ]
    },
    {
      "cell_type": "code",
      "execution_count": null,
      "id": "shaped-institution",
      "metadata": {
        "id": "shaped-institution"
      },
      "outputs": [],
      "source": [
        "at1 = Atom({\"sym\": \"O\", \"r\": [2.3229430273, 1.3229430273, 1.7139430273], \"units\": \"angstroem\"})\n",
        "at2 = Atom({\"sym\": \"H\", \"r\": [2.3229430273, 2.0801430273, 1.1274430273], \"units\": \"angstroem\"})\n",
        "at3 = Atom({\"sym\": \"H\", \"r\": [2.3229430273, 0.5657430273000001, 1.1274430273], \"units\": \"angstroem\"})"
      ]
    },
    {
      "cell_type": "code",
      "execution_count": null,
      "id": "killing-keyboard",
      "metadata": {
        "colab": {
          "base_uri": "https://localhost:8080/"
        },
        "id": "killing-keyboard",
        "outputId": "640ff3dd-cd91-4959-ee45-b7ccf6066d89"
      },
      "outputs": [
        {
          "output_type": "stream",
          "name": "stdout",
          "text": [
            "3\n",
            "[4.38972612 2.5        2.5       ]\n"
          ]
        }
      ],
      "source": [
        "from BigDFT.Fragments import Fragment\n",
        "\n",
        "frag1 = Fragment([at1, at2, at3])\n",
        "print(len(frag1))\n",
        "print(frag1.centroid)"
      ]
    },
    {
      "cell_type": "markdown",
      "id": "unable-behalf",
      "metadata": {
        "id": "unable-behalf"
      },
      "source": [
        "It's also possible to build up a fragment in a more step by step process."
      ]
    },
    {
      "cell_type": "code",
      "execution_count": null,
      "id": "burning-muscle",
      "metadata": {
        "id": "burning-muscle"
      },
      "outputs": [],
      "source": [
        "frag1 = Fragment()\n",
        "frag1.append(at1)\n",
        "frag1 += Fragment([at2])\n",
        "frag1.extend(Fragment([at3]))"
      ]
    },
    {
      "cell_type": "markdown",
      "id": "bfac1e70",
      "metadata": {
        "id": "bfac1e70"
      },
      "source": [
        "The fragment properties are then visualized in yaml format"
      ]
    },
    {
      "cell_type": "code",
      "execution_count": null,
      "id": "selective-packaging",
      "metadata": {
        "colab": {
          "base_uri": "https://localhost:8080/"
        },
        "id": "selective-packaging",
        "outputId": "98f69491-9358-4205-bb23-e876e67d649a"
      },
      "outputs": [
        {
          "output_type": "stream",
          "name": "stdout",
          "text": [
            "!!python/object:BigDFT.Fragments.Fragment\n",
            "atoms:\n",
            "- !!python/object:BigDFT.Atoms.Atom\n",
            "  store:\n",
            "    r:\n",
            "    - 2.3229430273\n",
            "    - 1.3229430273\n",
            "    - 1.7139430273\n",
            "    sym: O\n",
            "    units: angstroem\n",
            "- !!python/object:BigDFT.Atoms.Atom\n",
            "  store:\n",
            "    r:\n",
            "    - 2.3229430273\n",
            "    - 2.0801430273\n",
            "    - 1.1274430273\n",
            "    sym: H\n",
            "    units: angstroem\n",
            "- !!python/object:BigDFT.Atoms.Atom\n",
            "  store:\n",
            "    r:\n",
            "    - 2.3229430273\n",
            "    - 0.5657430273000001\n",
            "    - 1.1274430273\n",
            "    sym: H\n",
            "    units: angstroem\n",
            "conmat: null\n",
            "frozen: null\n",
            "q1: null\n",
            "q2: null\n",
            "\n"
          ]
        }
      ],
      "source": [
        "print(dump(frag1))"
      ]
    },
    {
      "cell_type": "markdown",
      "id": "boxed-valuable",
      "metadata": {
        "id": "boxed-valuable"
      },
      "source": [
        "## Systems\n",
        "\n",
        "In PyBigDFT, we have the `System` class at the top, based on a `dict`.\n",
        "Systems are **named collections of fragments**, with the convention for naming fragments as \"NAME:ID\" (where name is a string and ID is a number)."
      ]
    },
    {
      "cell_type": "code",
      "execution_count": null,
      "id": "common-result",
      "metadata": {
        "id": "common-result"
      },
      "outputs": [],
      "source": [
        "from BigDFT.Systems import System\n",
        "\n",
        "sys = System()\n",
        "sys[\"WAT:0\"] = frag1"
      ]
    },
    {
      "cell_type": "markdown",
      "id": "dc6b3191",
      "metadata": {
        "id": "dc6b3191"
      },
      "source": [
        "Similarly, systems are easily readable"
      ]
    },
    {
      "cell_type": "code",
      "execution_count": null,
      "id": "coastal-salvation",
      "metadata": {
        "colab": {
          "base_uri": "https://localhost:8080/"
        },
        "id": "coastal-salvation",
        "outputId": "9c07be59-80b7-4e53-87b2-ec9785fa518b"
      },
      "outputs": [
        {
          "output_type": "stream",
          "name": "stdout",
          "text": [
            "!!python/object:BigDFT.Systems.System\n",
            "cell: !!python/object:BigDFT.UnitCells.UnitCell\n",
            "  cell:\n",
            "  - - .inf\n",
            "    - 0\n",
            "    - 0\n",
            "  - - 0\n",
            "    - .inf\n",
            "    - 0\n",
            "  - - 0\n",
            "    - 0\n",
            "    - .inf\n",
            "conmat: null\n",
            "store:\n",
            "  WAT:0: !!python/object:BigDFT.Fragments.Fragment\n",
            "    atoms:\n",
            "    - !!python/object:BigDFT.Atoms.Atom\n",
            "      store:\n",
            "        r:\n",
            "        - 2.3229430273\n",
            "        - 1.3229430273\n",
            "        - 1.7139430273\n",
            "        sym: O\n",
            "        units: angstroem\n",
            "    - !!python/object:BigDFT.Atoms.Atom\n",
            "      store:\n",
            "        r:\n",
            "        - 2.3229430273\n",
            "        - 2.0801430273\n",
            "        - 1.1274430273\n",
            "        sym: H\n",
            "        units: angstroem\n",
            "    - !!python/object:BigDFT.Atoms.Atom\n",
            "      store:\n",
            "        r:\n",
            "        - 2.3229430273\n",
            "        - 0.5657430273000001\n",
            "        - 1.1274430273\n",
            "        sym: H\n",
            "        units: angstroem\n",
            "    conmat: null\n",
            "    frozen: null\n",
            "    q1: null\n",
            "    q2: null\n",
            "\n"
          ]
        }
      ],
      "source": [
        "print(dump(sys))"
      ]
    },
    {
      "cell_type": "markdown",
      "id": "2d01506b",
      "metadata": {
        "id": "2d01506b"
      },
      "source": [
        "Additional properties can also be displayed, like the **connectivity matrix** and the **unit cell**."
      ]
    },
    {
      "cell_type": "markdown",
      "id": "growing-madrid",
      "metadata": {
        "id": "growing-madrid"
      },
      "source": [
        "## System visualization and fragments manipulation\n",
        "\n",
        "It is extremely convenient to visualize `System` objects, just do"
      ]
    },
    {
      "cell_type": "code",
      "execution_count": null,
      "id": "liable-conclusion",
      "metadata": {
        "colab": {
          "base_uri": "https://localhost:8080/",
          "height": 335
        },
        "id": "liable-conclusion",
        "outputId": "f72d0c84-1714-479f-eaae-fc50af3af3b2"
      },
      "outputs": [
        {
          "output_type": "display_data",
          "data": {
            "application/3dmoljs_load.v0": "<div id=\"3dmolviewer_1663764251919332\"  style=\"position: relative; width: 400px; height: 300px\">\n        <p id=\"3dmolwarning_1663764251919332\" style=\"background-color:#ffcccc;color:black\">You appear to be running in JupyterLab (or JavaScript failed to load for some other reason).  You need to install the 3dmol extension: <br>\n        <tt>jupyter labextension install jupyterlab_3dmol</tt></p>\n        </div>\n<script>\n\nvar loadScriptAsync = function(uri){\n  return new Promise((resolve, reject) => {\n    var tag = document.createElement('script');\n    tag.src = uri;\n    tag.async = true;\n    tag.onload = () => {\n      resolve();\n    };\n  var firstScriptTag = document.getElementsByTagName('script')[0];\n  firstScriptTag.parentNode.insertBefore(tag, firstScriptTag);\n});\n};\n\nif(typeof $3Dmolpromise === 'undefined') {\n$3Dmolpromise = null;\n  $3Dmolpromise = loadScriptAsync('https://cdn.jsdelivr.net/npm/3dmol@latest/build/3Dmol-min.min.js');\n}\n\nvar viewer_1663764251919332 = null;\nvar warn = document.getElementById(\"3dmolwarning_1663764251919332\");\nif(warn) {\n    warn.parentNode.removeChild(warn);\n}\n$3Dmolpromise.then(function() {\nvar viewergrid_1663764251919332 = null;\nviewergrid_1663764251919332 = $3Dmol.createViewerGrid($(\"#3dmolviewer_1663764251919332\"),{rows: 1, cols: 1, control_all: false},{backgroundColor:\"white\"});\nviewer_1663764251919332 = viewergrid_1663764251919332[0][0];\nviewergrid_1663764251919332[0][0].zoomTo();\tviewergrid_1663764251919332[0][0].addModelsAsFrames(\"MODEL 0\\nHETATM    1 O    WAT A   0       2.323   1.323   1.714  1.00  0.00       B   O  \\nHETATM    2 H    WAT A   0       2.323   2.080   1.127  1.00  0.00       B   H  \\nHETATM    3 H    WAT A   0       2.323   0.566   1.127  1.00  0.00       B   H  \\nENDMDL\\n\",\"pdb\",{\"keepH\": \"true\"});\n\tviewergrid_1663764251919332[0][0].setStyle({\"model\": -1},{\"line\": {\"color\": \"black\"}});\n\tviewergrid_1663764251919332[0][0].addModelsAsFrames(\"MODEL 0\\nHETATM    1 O    WAT A   0       2.323   1.323   1.714  1.00  0.00       B   O  \\nHETATM    2 H    WAT A   0       2.323   2.080   1.127  1.00  0.00       B   H  \\nHETATM    3 H    WAT A   0       2.323   0.566   1.127  1.00  0.00       B   H  \\nENDMDL\\n\",\"pdb\",{\"keepH\": \"true\"});\n\tviewergrid_1663764251919332[0][0].setStyle({\"model\": -1, \"serial\": 1},{\"sphere\": {\"scale\": 0.2, \"color\": \"#7F00FF\"}});\n\tviewergrid_1663764251919332[0][0].addModelsAsFrames(\"MODEL 0\\nHETATM    1 O    WAT A   0       2.323   1.323   1.714  1.00  0.00       B   O  \\nHETATM    2 H    WAT A   0       2.323   2.080   1.127  1.00  0.00       B   H  \\nHETATM    3 H    WAT A   0       2.323   0.566   1.127  1.00  0.00       B   H  \\nENDMDL\\n\",\"pdb\",{\"keepH\": \"true\"});\n\tviewergrid_1663764251919332[0][0].setStyle({\"model\": -1, \"serial\": 2},{\"sphere\": {\"scale\": 0.2, \"color\": \"#7F00FF\"}});\n\tviewergrid_1663764251919332[0][0].addModelsAsFrames(\"MODEL 0\\nHETATM    1 O    WAT A   0       2.323   1.323   1.714  1.00  0.00       B   O  \\nHETATM    2 H    WAT A   0       2.323   2.080   1.127  1.00  0.00       B   H  \\nHETATM    3 H    WAT A   0       2.323   0.566   1.127  1.00  0.00       B   H  \\nENDMDL\\n\",\"pdb\",{\"keepH\": \"true\"});\n\tviewergrid_1663764251919332[0][0].setStyle({\"model\": -1, \"serial\": 3},{\"sphere\": {\"scale\": 0.2, \"color\": \"#7F00FF\"}});\n\tviewergrid_1663764251919332[0][0].addUnitCell({\"model\": -1},{\"box\": {\"color\": \"black\"}, \"alabel\": \"\", \"blabel\": \"\", \"clabel\": \"\"});\n\tviewergrid_1663764251919332[0][0].zoomTo();\nviewergrid_1663764251919332[0][0].render();\n});\n</script>",
            "text/html": [
              "<div id=\"3dmolviewer_1663764251919332\"  style=\"position: relative; width: 400px; height: 300px\">\n",
              "        <p id=\"3dmolwarning_1663764251919332\" style=\"background-color:#ffcccc;color:black\">You appear to be running in JupyterLab (or JavaScript failed to load for some other reason).  You need to install the 3dmol extension: <br>\n",
              "        <tt>jupyter labextension install jupyterlab_3dmol</tt></p>\n",
              "        </div>\n",
              "<script>\n",
              "\n",
              "var loadScriptAsync = function(uri){\n",
              "  return new Promise((resolve, reject) => {\n",
              "    var tag = document.createElement('script');\n",
              "    tag.src = uri;\n",
              "    tag.async = true;\n",
              "    tag.onload = () => {\n",
              "      resolve();\n",
              "    };\n",
              "  var firstScriptTag = document.getElementsByTagName('script')[0];\n",
              "  firstScriptTag.parentNode.insertBefore(tag, firstScriptTag);\n",
              "});\n",
              "};\n",
              "\n",
              "if(typeof $3Dmolpromise === 'undefined') {\n",
              "$3Dmolpromise = null;\n",
              "  $3Dmolpromise = loadScriptAsync('https://cdn.jsdelivr.net/npm/3dmol@latest/build/3Dmol-min.min.js');\n",
              "}\n",
              "\n",
              "var viewer_1663764251919332 = null;\n",
              "var warn = document.getElementById(\"3dmolwarning_1663764251919332\");\n",
              "if(warn) {\n",
              "    warn.parentNode.removeChild(warn);\n",
              "}\n",
              "$3Dmolpromise.then(function() {\n",
              "var viewergrid_1663764251919332 = null;\n",
              "viewergrid_1663764251919332 = $3Dmol.createViewerGrid($(\"#3dmolviewer_1663764251919332\"),{rows: 1, cols: 1, control_all: false},{backgroundColor:\"white\"});\n",
              "viewer_1663764251919332 = viewergrid_1663764251919332[0][0];\n",
              "viewergrid_1663764251919332[0][0].zoomTo();\tviewergrid_1663764251919332[0][0].addModelsAsFrames(\"MODEL 0\\nHETATM    1 O    WAT A   0       2.323   1.323   1.714  1.00  0.00       B   O  \\nHETATM    2 H    WAT A   0       2.323   2.080   1.127  1.00  0.00       B   H  \\nHETATM    3 H    WAT A   0       2.323   0.566   1.127  1.00  0.00       B   H  \\nENDMDL\\n\",\"pdb\",{\"keepH\": \"true\"});\n",
              "\tviewergrid_1663764251919332[0][0].setStyle({\"model\": -1},{\"line\": {\"color\": \"black\"}});\n",
              "\tviewergrid_1663764251919332[0][0].addModelsAsFrames(\"MODEL 0\\nHETATM    1 O    WAT A   0       2.323   1.323   1.714  1.00  0.00       B   O  \\nHETATM    2 H    WAT A   0       2.323   2.080   1.127  1.00  0.00       B   H  \\nHETATM    3 H    WAT A   0       2.323   0.566   1.127  1.00  0.00       B   H  \\nENDMDL\\n\",\"pdb\",{\"keepH\": \"true\"});\n",
              "\tviewergrid_1663764251919332[0][0].setStyle({\"model\": -1, \"serial\": 1},{\"sphere\": {\"scale\": 0.2, \"color\": \"#7F00FF\"}});\n",
              "\tviewergrid_1663764251919332[0][0].addModelsAsFrames(\"MODEL 0\\nHETATM    1 O    WAT A   0       2.323   1.323   1.714  1.00  0.00       B   O  \\nHETATM    2 H    WAT A   0       2.323   2.080   1.127  1.00  0.00       B   H  \\nHETATM    3 H    WAT A   0       2.323   0.566   1.127  1.00  0.00       B   H  \\nENDMDL\\n\",\"pdb\",{\"keepH\": \"true\"});\n",
              "\tviewergrid_1663764251919332[0][0].setStyle({\"model\": -1, \"serial\": 2},{\"sphere\": {\"scale\": 0.2, \"color\": \"#7F00FF\"}});\n",
              "\tviewergrid_1663764251919332[0][0].addModelsAsFrames(\"MODEL 0\\nHETATM    1 O    WAT A   0       2.323   1.323   1.714  1.00  0.00       B   O  \\nHETATM    2 H    WAT A   0       2.323   2.080   1.127  1.00  0.00       B   H  \\nHETATM    3 H    WAT A   0       2.323   0.566   1.127  1.00  0.00       B   H  \\nENDMDL\\n\",\"pdb\",{\"keepH\": \"true\"});\n",
              "\tviewergrid_1663764251919332[0][0].setStyle({\"model\": -1, \"serial\": 3},{\"sphere\": {\"scale\": 0.2, \"color\": \"#7F00FF\"}});\n",
              "\tviewergrid_1663764251919332[0][0].addUnitCell({\"model\": -1},{\"box\": {\"color\": \"black\"}, \"alabel\": \"\", \"blabel\": \"\", \"clabel\": \"\"});\n",
              "\tviewergrid_1663764251919332[0][0].zoomTo();\n",
              "viewergrid_1663764251919332[0][0].render();\n",
              "});\n",
              "</script>"
            ]
          },
          "metadata": {}
        },
        {
          "output_type": "execute_result",
          "data": {
            "text/plain": [
              "<BigDFT.Visualization.InlineVisualizer at 0x7fc0ec7e5f90>"
            ]
          },
          "metadata": {},
          "execution_count": 17
        }
      ],
      "source": [
        "sys.display()"
      ]
    },
    {
      "cell_type": "markdown",
      "id": "danish-potato",
      "metadata": {
        "id": "danish-potato"
      },
      "source": [
        "It is equally convenient to manipulate fragments within systems.\n",
        "\n",
        "Let us **rotate** and **translate** the previous water fragment and add it to the system."
      ]
    },
    {
      "cell_type": "code",
      "execution_count": null,
      "id": "pregnant-experience",
      "metadata": {
        "id": "pregnant-experience"
      },
      "outputs": [],
      "source": [
        "from copy import deepcopy\n",
        "\n",
        "frag2 = deepcopy(frag1)\n",
        "frag2.translate([10, 0, 0])\n",
        "frag2.rotate(x=90, units=\"degrees\")\n",
        "sys[\"WAT:1\"] = frag2"
      ]
    },
    {
      "cell_type": "code",
      "execution_count": null,
      "id": "ethical-wiring",
      "metadata": {
        "scrolled": true,
        "colab": {
          "base_uri": "https://localhost:8080/",
          "height": 335
        },
        "id": "ethical-wiring",
        "outputId": "794dfb90-f8dc-401d-bd02-3bd4ce4db354"
      },
      "outputs": [
        {
          "output_type": "display_data",
          "data": {
            "application/3dmoljs_load.v0": "<div id=\"3dmolviewer_16637642608442073\"  style=\"position: relative; width: 400px; height: 300px\">\n        <p id=\"3dmolwarning_16637642608442073\" style=\"background-color:#ffcccc;color:black\">You appear to be running in JupyterLab (or JavaScript failed to load for some other reason).  You need to install the 3dmol extension: <br>\n        <tt>jupyter labextension install jupyterlab_3dmol</tt></p>\n        </div>\n<script>\n\nvar loadScriptAsync = function(uri){\n  return new Promise((resolve, reject) => {\n    var tag = document.createElement('script');\n    tag.src = uri;\n    tag.async = true;\n    tag.onload = () => {\n      resolve();\n    };\n  var firstScriptTag = document.getElementsByTagName('script')[0];\n  firstScriptTag.parentNode.insertBefore(tag, firstScriptTag);\n});\n};\n\nif(typeof $3Dmolpromise === 'undefined') {\n$3Dmolpromise = null;\n  $3Dmolpromise = loadScriptAsync('https://cdn.jsdelivr.net/npm/3dmol@latest/build/3Dmol-min.min.js');\n}\n\nvar viewer_16637642608442073 = null;\nvar warn = document.getElementById(\"3dmolwarning_16637642608442073\");\nif(warn) {\n    warn.parentNode.removeChild(warn);\n}\n$3Dmolpromise.then(function() {\nvar viewergrid_16637642608442073 = null;\nviewergrid_16637642608442073 = $3Dmol.createViewerGrid($(\"#3dmolviewer_16637642608442073\"),{rows: 1, cols: 1, control_all: false},{backgroundColor:\"white\"});\nviewer_16637642608442073 = viewergrid_16637642608442073[0][0];\nviewergrid_16637642608442073[0][0].zoomTo();\tviewergrid_16637642608442073[0][0].addModelsAsFrames(\"MODEL 0\\nHETATM    1 O    WAT A   0       2.323   1.323   1.714  1.00  0.00       B   O  \\nHETATM    2 H    WAT A   0       2.323   2.080   1.127  1.00  0.00       B   H  \\nHETATM    3 H    WAT A   0       2.323   0.566   1.127  1.00  0.00       B   H  \\nHETATM    4 O    WAT A   1       7.615   0.932   1.323  1.00  0.00       B   O  \\nHETATM    5 H    WAT A   1       7.615   1.518   2.080  1.00  0.00       B   H  \\nHETATM    6 H    WAT A   1       7.615   1.518   0.566  1.00  0.00       B   H  \\nENDMDL\\n\",\"pdb\",{\"keepH\": \"true\"});\n\tviewergrid_16637642608442073[0][0].setStyle({\"model\": -1},{\"line\": {\"color\": \"black\"}});\n\tviewergrid_16637642608442073[0][0].addModelsAsFrames(\"MODEL 0\\nHETATM    1 O    WAT A   0       2.323   1.323   1.714  1.00  0.00       B   O  \\nHETATM    2 H    WAT A   0       2.323   2.080   1.127  1.00  0.00       B   H  \\nHETATM    3 H    WAT A   0       2.323   0.566   1.127  1.00  0.00       B   H  \\nHETATM    4 O    WAT A   1       7.615   0.932   1.323  1.00  0.00       B   O  \\nHETATM    5 H    WAT A   1       7.615   1.518   2.080  1.00  0.00       B   H  \\nHETATM    6 H    WAT A   1       7.615   1.518   0.566  1.00  0.00       B   H  \\nENDMDL\\n\",\"pdb\",{\"keepH\": \"true\"});\n\tviewergrid_16637642608442073[0][0].setStyle({\"model\": -1, \"serial\": 1},{\"sphere\": {\"scale\": 0.2, \"color\": \"#7F00FF\"}});\n\tviewergrid_16637642608442073[0][0].addModelsAsFrames(\"MODEL 0\\nHETATM    1 O    WAT A   0       2.323   1.323   1.714  1.00  0.00       B   O  \\nHETATM    2 H    WAT A   0       2.323   2.080   1.127  1.00  0.00       B   H  \\nHETATM    3 H    WAT A   0       2.323   0.566   1.127  1.00  0.00       B   H  \\nHETATM    4 O    WAT A   1       7.615   0.932   1.323  1.00  0.00       B   O  \\nHETATM    5 H    WAT A   1       7.615   1.518   2.080  1.00  0.00       B   H  \\nHETATM    6 H    WAT A   1       7.615   1.518   0.566  1.00  0.00       B   H  \\nENDMDL\\n\",\"pdb\",{\"keepH\": \"true\"});\n\tviewergrid_16637642608442073[0][0].setStyle({\"model\": -1, \"serial\": 2},{\"sphere\": {\"scale\": 0.2, \"color\": \"#7F00FF\"}});\n\tviewergrid_16637642608442073[0][0].addModelsAsFrames(\"MODEL 0\\nHETATM    1 O    WAT A   0       2.323   1.323   1.714  1.00  0.00       B   O  \\nHETATM    2 H    WAT A   0       2.323   2.080   1.127  1.00  0.00       B   H  \\nHETATM    3 H    WAT A   0       2.323   0.566   1.127  1.00  0.00       B   H  \\nHETATM    4 O    WAT A   1       7.615   0.932   1.323  1.00  0.00       B   O  \\nHETATM    5 H    WAT A   1       7.615   1.518   2.080  1.00  0.00       B   H  \\nHETATM    6 H    WAT A   1       7.615   1.518   0.566  1.00  0.00       B   H  \\nENDMDL\\n\",\"pdb\",{\"keepH\": \"true\"});\n\tviewergrid_16637642608442073[0][0].setStyle({\"model\": -1, \"serial\": 3},{\"sphere\": {\"scale\": 0.2, \"color\": \"#7F00FF\"}});\n\tviewergrid_16637642608442073[0][0].addModelsAsFrames(\"MODEL 0\\nHETATM    1 O    WAT A   0       2.323   1.323   1.714  1.00  0.00       B   O  \\nHETATM    2 H    WAT A   0       2.323   2.080   1.127  1.00  0.00       B   H  \\nHETATM    3 H    WAT A   0       2.323   0.566   1.127  1.00  0.00       B   H  \\nHETATM    4 O    WAT A   1       7.615   0.932   1.323  1.00  0.00       B   O  \\nHETATM    5 H    WAT A   1       7.615   1.518   2.080  1.00  0.00       B   H  \\nHETATM    6 H    WAT A   1       7.615   1.518   0.566  1.00  0.00       B   H  \\nENDMDL\\n\",\"pdb\",{\"keepH\": \"true\"});\n\tviewergrid_16637642608442073[0][0].setStyle({\"model\": -1},{\"line\": {\"color\": \"black\"}});\n\tviewergrid_16637642608442073[0][0].addModelsAsFrames(\"MODEL 0\\nHETATM    1 O    WAT A   0       2.323   1.323   1.714  1.00  0.00       B   O  \\nHETATM    2 H    WAT A   0       2.323   2.080   1.127  1.00  0.00       B   H  \\nHETATM    3 H    WAT A   0       2.323   0.566   1.127  1.00  0.00       B   H  \\nHETATM    4 O    WAT A   1       7.615   0.932   1.323  1.00  0.00       B   O  \\nHETATM    5 H    WAT A   1       7.615   1.518   2.080  1.00  0.00       B   H  \\nHETATM    6 H    WAT A   1       7.615   1.518   0.566  1.00  0.00       B   H  \\nENDMDL\\n\",\"pdb\",{\"keepH\": \"true\"});\n\tviewergrid_16637642608442073[0][0].setStyle({\"model\": -1, \"serial\": 4},{\"sphere\": {\"scale\": 0.2, \"color\": \"#FF0000\"}});\n\tviewergrid_16637642608442073[0][0].addModelsAsFrames(\"MODEL 0\\nHETATM    1 O    WAT A   0       2.323   1.323   1.714  1.00  0.00       B   O  \\nHETATM    2 H    WAT A   0       2.323   2.080   1.127  1.00  0.00       B   H  \\nHETATM    3 H    WAT A   0       2.323   0.566   1.127  1.00  0.00       B   H  \\nHETATM    4 O    WAT A   1       7.615   0.932   1.323  1.00  0.00       B   O  \\nHETATM    5 H    WAT A   1       7.615   1.518   2.080  1.00  0.00       B   H  \\nHETATM    6 H    WAT A   1       7.615   1.518   0.566  1.00  0.00       B   H  \\nENDMDL\\n\",\"pdb\",{\"keepH\": \"true\"});\n\tviewergrid_16637642608442073[0][0].setStyle({\"model\": -1, \"serial\": 5},{\"sphere\": {\"scale\": 0.2, \"color\": \"#FF0000\"}});\n\tviewergrid_16637642608442073[0][0].addModelsAsFrames(\"MODEL 0\\nHETATM    1 O    WAT A   0       2.323   1.323   1.714  1.00  0.00       B   O  \\nHETATM    2 H    WAT A   0       2.323   2.080   1.127  1.00  0.00       B   H  \\nHETATM    3 H    WAT A   0       2.323   0.566   1.127  1.00  0.00       B   H  \\nHETATM    4 O    WAT A   1       7.615   0.932   1.323  1.00  0.00       B   O  \\nHETATM    5 H    WAT A   1       7.615   1.518   2.080  1.00  0.00       B   H  \\nHETATM    6 H    WAT A   1       7.615   1.518   0.566  1.00  0.00       B   H  \\nENDMDL\\n\",\"pdb\",{\"keepH\": \"true\"});\n\tviewergrid_16637642608442073[0][0].setStyle({\"model\": -1, \"serial\": 6},{\"sphere\": {\"scale\": 0.2, \"color\": \"#FF0000\"}});\n\tviewergrid_16637642608442073[0][0].addUnitCell({\"model\": -1},{\"box\": {\"color\": \"black\"}, \"alabel\": \"\", \"blabel\": \"\", \"clabel\": \"\"});\n\tviewergrid_16637642608442073[0][0].zoomTo();\nviewergrid_16637642608442073[0][0].render();\n});\n</script>",
            "text/html": [
              "<div id=\"3dmolviewer_16637642608442073\"  style=\"position: relative; width: 400px; height: 300px\">\n",
              "        <p id=\"3dmolwarning_16637642608442073\" style=\"background-color:#ffcccc;color:black\">You appear to be running in JupyterLab (or JavaScript failed to load for some other reason).  You need to install the 3dmol extension: <br>\n",
              "        <tt>jupyter labextension install jupyterlab_3dmol</tt></p>\n",
              "        </div>\n",
              "<script>\n",
              "\n",
              "var loadScriptAsync = function(uri){\n",
              "  return new Promise((resolve, reject) => {\n",
              "    var tag = document.createElement('script');\n",
              "    tag.src = uri;\n",
              "    tag.async = true;\n",
              "    tag.onload = () => {\n",
              "      resolve();\n",
              "    };\n",
              "  var firstScriptTag = document.getElementsByTagName('script')[0];\n",
              "  firstScriptTag.parentNode.insertBefore(tag, firstScriptTag);\n",
              "});\n",
              "};\n",
              "\n",
              "if(typeof $3Dmolpromise === 'undefined') {\n",
              "$3Dmolpromise = null;\n",
              "  $3Dmolpromise = loadScriptAsync('https://cdn.jsdelivr.net/npm/3dmol@latest/build/3Dmol-min.min.js');\n",
              "}\n",
              "\n",
              "var viewer_16637642608442073 = null;\n",
              "var warn = document.getElementById(\"3dmolwarning_16637642608442073\");\n",
              "if(warn) {\n",
              "    warn.parentNode.removeChild(warn);\n",
              "}\n",
              "$3Dmolpromise.then(function() {\n",
              "var viewergrid_16637642608442073 = null;\n",
              "viewergrid_16637642608442073 = $3Dmol.createViewerGrid($(\"#3dmolviewer_16637642608442073\"),{rows: 1, cols: 1, control_all: false},{backgroundColor:\"white\"});\n",
              "viewer_16637642608442073 = viewergrid_16637642608442073[0][0];\n",
              "viewergrid_16637642608442073[0][0].zoomTo();\tviewergrid_16637642608442073[0][0].addModelsAsFrames(\"MODEL 0\\nHETATM    1 O    WAT A   0       2.323   1.323   1.714  1.00  0.00       B   O  \\nHETATM    2 H    WAT A   0       2.323   2.080   1.127  1.00  0.00       B   H  \\nHETATM    3 H    WAT A   0       2.323   0.566   1.127  1.00  0.00       B   H  \\nHETATM    4 O    WAT A   1       7.615   0.932   1.323  1.00  0.00       B   O  \\nHETATM    5 H    WAT A   1       7.615   1.518   2.080  1.00  0.00       B   H  \\nHETATM    6 H    WAT A   1       7.615   1.518   0.566  1.00  0.00       B   H  \\nENDMDL\\n\",\"pdb\",{\"keepH\": \"true\"});\n",
              "\tviewergrid_16637642608442073[0][0].setStyle({\"model\": -1},{\"line\": {\"color\": \"black\"}});\n",
              "\tviewergrid_16637642608442073[0][0].addModelsAsFrames(\"MODEL 0\\nHETATM    1 O    WAT A   0       2.323   1.323   1.714  1.00  0.00       B   O  \\nHETATM    2 H    WAT A   0       2.323   2.080   1.127  1.00  0.00       B   H  \\nHETATM    3 H    WAT A   0       2.323   0.566   1.127  1.00  0.00       B   H  \\nHETATM    4 O    WAT A   1       7.615   0.932   1.323  1.00  0.00       B   O  \\nHETATM    5 H    WAT A   1       7.615   1.518   2.080  1.00  0.00       B   H  \\nHETATM    6 H    WAT A   1       7.615   1.518   0.566  1.00  0.00       B   H  \\nENDMDL\\n\",\"pdb\",{\"keepH\": \"true\"});\n",
              "\tviewergrid_16637642608442073[0][0].setStyle({\"model\": -1, \"serial\": 1},{\"sphere\": {\"scale\": 0.2, \"color\": \"#7F00FF\"}});\n",
              "\tviewergrid_16637642608442073[0][0].addModelsAsFrames(\"MODEL 0\\nHETATM    1 O    WAT A   0       2.323   1.323   1.714  1.00  0.00       B   O  \\nHETATM    2 H    WAT A   0       2.323   2.080   1.127  1.00  0.00       B   H  \\nHETATM    3 H    WAT A   0       2.323   0.566   1.127  1.00  0.00       B   H  \\nHETATM    4 O    WAT A   1       7.615   0.932   1.323  1.00  0.00       B   O  \\nHETATM    5 H    WAT A   1       7.615   1.518   2.080  1.00  0.00       B   H  \\nHETATM    6 H    WAT A   1       7.615   1.518   0.566  1.00  0.00       B   H  \\nENDMDL\\n\",\"pdb\",{\"keepH\": \"true\"});\n",
              "\tviewergrid_16637642608442073[0][0].setStyle({\"model\": -1, \"serial\": 2},{\"sphere\": {\"scale\": 0.2, \"color\": \"#7F00FF\"}});\n",
              "\tviewergrid_16637642608442073[0][0].addModelsAsFrames(\"MODEL 0\\nHETATM    1 O    WAT A   0       2.323   1.323   1.714  1.00  0.00       B   O  \\nHETATM    2 H    WAT A   0       2.323   2.080   1.127  1.00  0.00       B   H  \\nHETATM    3 H    WAT A   0       2.323   0.566   1.127  1.00  0.00       B   H  \\nHETATM    4 O    WAT A   1       7.615   0.932   1.323  1.00  0.00       B   O  \\nHETATM    5 H    WAT A   1       7.615   1.518   2.080  1.00  0.00       B   H  \\nHETATM    6 H    WAT A   1       7.615   1.518   0.566  1.00  0.00       B   H  \\nENDMDL\\n\",\"pdb\",{\"keepH\": \"true\"});\n",
              "\tviewergrid_16637642608442073[0][0].setStyle({\"model\": -1, \"serial\": 3},{\"sphere\": {\"scale\": 0.2, \"color\": \"#7F00FF\"}});\n",
              "\tviewergrid_16637642608442073[0][0].addModelsAsFrames(\"MODEL 0\\nHETATM    1 O    WAT A   0       2.323   1.323   1.714  1.00  0.00       B   O  \\nHETATM    2 H    WAT A   0       2.323   2.080   1.127  1.00  0.00       B   H  \\nHETATM    3 H    WAT A   0       2.323   0.566   1.127  1.00  0.00       B   H  \\nHETATM    4 O    WAT A   1       7.615   0.932   1.323  1.00  0.00       B   O  \\nHETATM    5 H    WAT A   1       7.615   1.518   2.080  1.00  0.00       B   H  \\nHETATM    6 H    WAT A   1       7.615   1.518   0.566  1.00  0.00       B   H  \\nENDMDL\\n\",\"pdb\",{\"keepH\": \"true\"});\n",
              "\tviewergrid_16637642608442073[0][0].setStyle({\"model\": -1},{\"line\": {\"color\": \"black\"}});\n",
              "\tviewergrid_16637642608442073[0][0].addModelsAsFrames(\"MODEL 0\\nHETATM    1 O    WAT A   0       2.323   1.323   1.714  1.00  0.00       B   O  \\nHETATM    2 H    WAT A   0       2.323   2.080   1.127  1.00  0.00       B   H  \\nHETATM    3 H    WAT A   0       2.323   0.566   1.127  1.00  0.00       B   H  \\nHETATM    4 O    WAT A   1       7.615   0.932   1.323  1.00  0.00       B   O  \\nHETATM    5 H    WAT A   1       7.615   1.518   2.080  1.00  0.00       B   H  \\nHETATM    6 H    WAT A   1       7.615   1.518   0.566  1.00  0.00       B   H  \\nENDMDL\\n\",\"pdb\",{\"keepH\": \"true\"});\n",
              "\tviewergrid_16637642608442073[0][0].setStyle({\"model\": -1, \"serial\": 4},{\"sphere\": {\"scale\": 0.2, \"color\": \"#FF0000\"}});\n",
              "\tviewergrid_16637642608442073[0][0].addModelsAsFrames(\"MODEL 0\\nHETATM    1 O    WAT A   0       2.323   1.323   1.714  1.00  0.00       B   O  \\nHETATM    2 H    WAT A   0       2.323   2.080   1.127  1.00  0.00       B   H  \\nHETATM    3 H    WAT A   0       2.323   0.566   1.127  1.00  0.00       B   H  \\nHETATM    4 O    WAT A   1       7.615   0.932   1.323  1.00  0.00       B   O  \\nHETATM    5 H    WAT A   1       7.615   1.518   2.080  1.00  0.00       B   H  \\nHETATM    6 H    WAT A   1       7.615   1.518   0.566  1.00  0.00       B   H  \\nENDMDL\\n\",\"pdb\",{\"keepH\": \"true\"});\n",
              "\tviewergrid_16637642608442073[0][0].setStyle({\"model\": -1, \"serial\": 5},{\"sphere\": {\"scale\": 0.2, \"color\": \"#FF0000\"}});\n",
              "\tviewergrid_16637642608442073[0][0].addModelsAsFrames(\"MODEL 0\\nHETATM    1 O    WAT A   0       2.323   1.323   1.714  1.00  0.00       B   O  \\nHETATM    2 H    WAT A   0       2.323   2.080   1.127  1.00  0.00       B   H  \\nHETATM    3 H    WAT A   0       2.323   0.566   1.127  1.00  0.00       B   H  \\nHETATM    4 O    WAT A   1       7.615   0.932   1.323  1.00  0.00       B   O  \\nHETATM    5 H    WAT A   1       7.615   1.518   2.080  1.00  0.00       B   H  \\nHETATM    6 H    WAT A   1       7.615   1.518   0.566  1.00  0.00       B   H  \\nENDMDL\\n\",\"pdb\",{\"keepH\": \"true\"});\n",
              "\tviewergrid_16637642608442073[0][0].setStyle({\"model\": -1, \"serial\": 6},{\"sphere\": {\"scale\": 0.2, \"color\": \"#FF0000\"}});\n",
              "\tviewergrid_16637642608442073[0][0].addUnitCell({\"model\": -1},{\"box\": {\"color\": \"black\"}, \"alabel\": \"\", \"blabel\": \"\", \"clabel\": \"\"});\n",
              "\tviewergrid_16637642608442073[0][0].zoomTo();\n",
              "viewergrid_16637642608442073[0][0].render();\n",
              "});\n",
              "</script>"
            ]
          },
          "metadata": {}
        },
        {
          "output_type": "execute_result",
          "data": {
            "text/plain": [
              "<BigDFT.Visualization.InlineVisualizer at 0x7fc0ec768b50>"
            ]
          },
          "metadata": {},
          "execution_count": 19
        }
      ],
      "source": [
        "sys.display()"
      ]
    },
    {
      "cell_type": "markdown",
      "id": "decimal-costs",
      "metadata": {
        "id": "decimal-costs"
      },
      "source": [
        "The visualization module has identified that there are two separate fragments, coloring them accordingly (merging fragments would render a uniform visualization)."
      ]
    },
    {
      "cell_type": "markdown",
      "id": "relevant-ottawa",
      "metadata": {
        "id": "relevant-ottawa"
      },
      "source": [
        "To summarize the hierarchy, let's iterate over our `System`."
      ]
    },
    {
      "cell_type": "code",
      "execution_count": null,
      "id": "tropical-photography",
      "metadata": {
        "colab": {
          "base_uri": "https://localhost:8080/"
        },
        "id": "tropical-photography",
        "outputId": "c040bec2-9f22-4e52-8e2d-84294955c676"
      },
      "outputs": [
        {
          "output_type": "stream",
          "name": "stdout",
          "text": [
            "WAT:0\n",
            "{'sym': 'O', 'r': [2.3229430273, 1.3229430273, 1.7139430273], 'units': 'angstroem'}\n",
            "{'sym': 'H', 'r': [2.3229430273, 2.0801430273, 1.1274430273], 'units': 'angstroem'}\n",
            "{'sym': 'H', 'r': [2.3229430273, 0.5657430273000001, 1.1274430273], 'units': 'angstroem'}\n",
            "WAT:1\n",
            "{'sym': 'O', 'r': [14.389726124565062, 1.7611170852950608, 2.499999999999999], 'units': 'bohr'}\n",
            "{'sym': 'H', 'r': [14.389726124565062, 2.86944145735247, 3.930900621520664], 'units': 'bohr'}\n",
            "{'sym': 'H', 'r': [14.389726124565062, 2.86944145735247, 1.0690993784793343], 'units': 'bohr'}\n"
          ]
        }
      ],
      "source": [
        "for fragid, frag in sys.items():\n",
        "    print(fragid)\n",
        "    for atm in frag:\n",
        "        print(dict(atm))"
      ]
    },
    {
      "cell_type": "code",
      "source": [
        "# atom iteration, if we do not want to keep track of the fragment\n",
        "for atm in sys.get_atoms():\n",
        "  print(dict(atm))"
      ],
      "metadata": {
        "colab": {
          "base_uri": "https://localhost:8080/"
        },
        "id": "piNqcW_kFDMU",
        "outputId": "d6f8f252-c75e-4b33-8f13-6929bf0db702"
      },
      "id": "piNqcW_kFDMU",
      "execution_count": null,
      "outputs": [
        {
          "output_type": "stream",
          "name": "stdout",
          "text": [
            "{'sym': 'O', 'r': [2.3229430273, 1.3229430273, 1.7139430273], 'units': 'angstroem'}\n",
            "{'sym': 'H', 'r': [2.3229430273, 2.0801430273, 1.1274430273], 'units': 'angstroem'}\n",
            "{'sym': 'H', 'r': [2.3229430273, 0.5657430273000001, 1.1274430273], 'units': 'angstroem'}\n",
            "{'sym': 'O', 'r': [14.389726124565062, 1.7611170852950608, 2.499999999999999], 'units': 'bohr'}\n",
            "{'sym': 'H', 'r': [14.389726124565062, 2.86944145735247, 3.930900621520664], 'units': 'bohr'}\n",
            "{'sym': 'H', 'r': [14.389726124565062, 2.86944145735247, 1.0690993784793343], 'units': 'bohr'}\n"
          ]
        }
      ]
    },
    {
      "cell_type": "markdown",
      "id": "0a6ba746",
      "metadata": {
        "id": "0a6ba746"
      },
      "source": [
        "## Solid State Systems\n",
        "\n",
        "The cell attribute of the `System` object enables to investigate systems ranging from **molecular biology** to **condensed matter physics**, by fixing the periodic boundaries conditions. \n",
        "\n",
        "The `UnitCell` class is available to manage the cell."
      ]
    },
    {
      "cell_type": "code",
      "execution_count": null,
      "id": "f01c3a88",
      "metadata": {
        "id": "f01c3a88"
      },
      "outputs": [],
      "source": [
        "from BigDFT.UnitCells import UnitCell\n",
        "\n",
        "sys.cell = UnitCell([5, 5, 5], units=\"bohr\")"
      ]
    },
    {
      "cell_type": "code",
      "execution_count": null,
      "id": "714d6415",
      "metadata": {
        "colab": {
          "base_uri": "https://localhost:8080/"
        },
        "id": "714d6415",
        "outputId": "944aee4d-ad4d-4837-c528-59115f1677d8"
      },
      "outputs": [
        {
          "output_type": "stream",
          "name": "stdout",
          "text": [
            "[5.0, 5.0, 5.0]\n"
          ]
        }
      ],
      "source": [
        "print(sys.cell.get_posinp())"
      ]
    },
    {
      "cell_type": "markdown",
      "id": "ad427cca",
      "metadata": {
        "id": "ad427cca"
      },
      "source": [
        "BigDFT is able to handle several boundary conditions, depending on the cell. \n",
        "- if set to `None`: free boundary\n",
        "- if $x$ and $y$ are set to `inf`: 1D system \n",
        "- if $y$ is set to `inf`: 2D periodic system (note that $y$ direction is free)\n",
        "- if all values are `float`: 3D periodic system."
      ]
    },
    {
      "cell_type": "markdown",
      "id": "712f1b61",
      "metadata": {
        "id": "712f1b61"
      },
      "source": [
        "For wire boundary conditions"
      ]
    },
    {
      "cell_type": "code",
      "execution_count": null,
      "id": "37fa9adf",
      "metadata": {
        "colab": {
          "base_uri": "https://localhost:8080/"
        },
        "id": "37fa9adf",
        "outputId": "5ea772aa-defa-42c3-c032-f42114d0e984"
      },
      "outputs": [
        {
          "output_type": "stream",
          "name": "stdout",
          "text": [
            "[inf, inf, 5.0]\n"
          ]
        }
      ],
      "source": [
        "sys.cell = UnitCell([float(\"inf\"), float(\"inf\"), 5], units=\"bohr\")\n",
        "print(sys.cell.get_posinp(\"bohr\"))"
      ]
    },
    {
      "cell_type": "markdown",
      "id": "4f83071f",
      "metadata": {
        "id": "4f83071f"
      },
      "source": [
        "For the surface condition"
      ]
    },
    {
      "cell_type": "code",
      "execution_count": null,
      "id": "00ae28d8",
      "metadata": {
        "colab": {
          "base_uri": "https://localhost:8080/"
        },
        "id": "00ae28d8",
        "outputId": "55261357-97cb-46a1-ba3b-8394ea0516c8"
      },
      "outputs": [
        {
          "output_type": "stream",
          "name": "stdout",
          "text": [
            "[5.0, inf, 5.0]\n"
          ]
        }
      ],
      "source": [
        "sys.cell = UnitCell([5, float(\"inf\"), 5], units=\"bohr\")\n",
        "print(sys.cell.get_posinp(\"bohr\"))"
      ]
    },
    {
      "cell_type": "markdown",
      "id": "cf5f0997",
      "metadata": {
        "id": "cf5f0997"
      },
      "source": [
        "Note that **reduced** (fractional) coordinates can be employed to alternatively specify the locations of atoms (*for fully periodic boundary conditions*)."
      ]
    },
    {
      "cell_type": "code",
      "execution_count": null,
      "id": "50a8eefa",
      "metadata": {
        "id": "50a8eefa"
      },
      "outputs": [],
      "source": [
        "cell = UnitCell([10, 10, 10], units=\"bohr\")"
      ]
    },
    {
      "cell_type": "code",
      "execution_count": null,
      "id": "2625773f",
      "metadata": {
        "scrolled": true,
        "colab": {
          "base_uri": "https://localhost:8080/"
        },
        "id": "2625773f",
        "outputId": "2122ae3d-6102-496b-ba9a-3e2cb8608cba"
      },
      "outputs": [
        {
          "output_type": "stream",
          "name": "stdout",
          "text": [
            "[0.5, 0.25, 0.0]\n",
            "[5.0, 2.5, 0.0]\n",
            "[2.6458860546, 1.3229430273, 0.0]\n"
          ]
        }
      ],
      "source": [
        "at = Atom({'r': [0.5, 0.25, 0.0], 'sym': \"He\", 'units': 'reduced'})\n",
        "\n",
        "print(at.get_position(\"reduced\", cell))\n",
        "print(at.get_position(\"bohr\", cell))\n",
        "print(at.get_position(\"angstroem\", cell))"
      ]
    },
    {
      "cell_type": "markdown",
      "id": "fc1d7221",
      "metadata": {
        "id": "fc1d7221"
      },
      "source": [
        "## File I/O\n",
        "\n",
        "A wide range of standard files can easily be manipulated with PyBigDFT."
      ]
    },
    {
      "cell_type": "markdown",
      "id": "703734c1",
      "metadata": {
        "id": "703734c1"
      },
      "source": [
        "### XYZ Files\n",
        "\n",
        "The `XYZReader` class enables to access the some built in molecules in the database (available [here](https://gitlab.com/l_sim/bigdft-suite/-/tree/devel/PyBigDFT/BigDFT/Database/XYZs)). Otherwise, a path for the filename is required."
      ]
    },
    {
      "cell_type": "code",
      "execution_count": null,
      "id": "dae55825",
      "metadata": {
        "id": "dae55825"
      },
      "outputs": [],
      "source": [
        "from BigDFT.IO import XYZReader\n",
        "\n",
        "sys = System()\n",
        "sys[\"CH4:0\"] = Fragment()\n",
        "with XYZReader(\"CH4\") as ifile:\n",
        "    for atom in ifile:\n",
        "        sys[\"CH4:0\"].append(atom)\n",
        "        \n",
        "sys[\"CH2F:1\"] = Fragment()\n",
        "with XYZReader(\"CH2F\") as ifile:\n",
        "    for atom in ifile:\n",
        "        sys[\"CH2F:1\"].append(atom)\n",
        "        \n",
        "sys[\"CH2F:1\"].translate([-5, 0, 0])"
      ]
    },
    {
      "cell_type": "markdown",
      "id": "90ad090c",
      "metadata": {
        "id": "90ad090c"
      },
      "source": [
        "The resulting system is"
      ]
    },
    {
      "cell_type": "code",
      "execution_count": null,
      "id": "98116fc4",
      "metadata": {
        "colab": {
          "base_uri": "https://localhost:8080/",
          "height": 335
        },
        "id": "98116fc4",
        "outputId": "089c3c79-db45-4007-cacd-69ec73d5754c"
      },
      "outputs": [
        {
          "output_type": "display_data",
          "data": {
            "application/3dmoljs_load.v0": "<div id=\"3dmolviewer_1663764593315393\"  style=\"position: relative; width: 400px; height: 300px\">\n        <p id=\"3dmolwarning_1663764593315393\" style=\"background-color:#ffcccc;color:black\">You appear to be running in JupyterLab (or JavaScript failed to load for some other reason).  You need to install the 3dmol extension: <br>\n        <tt>jupyter labextension install jupyterlab_3dmol</tt></p>\n        </div>\n<script>\n\nvar loadScriptAsync = function(uri){\n  return new Promise((resolve, reject) => {\n    var tag = document.createElement('script');\n    tag.src = uri;\n    tag.async = true;\n    tag.onload = () => {\n      resolve();\n    };\n  var firstScriptTag = document.getElementsByTagName('script')[0];\n  firstScriptTag.parentNode.insertBefore(tag, firstScriptTag);\n});\n};\n\nif(typeof $3Dmolpromise === 'undefined') {\n$3Dmolpromise = null;\n  $3Dmolpromise = loadScriptAsync('https://cdn.jsdelivr.net/npm/3dmol@latest/build/3Dmol-min.min.js');\n}\n\nvar viewer_1663764593315393 = null;\nvar warn = document.getElementById(\"3dmolwarning_1663764593315393\");\nif(warn) {\n    warn.parentNode.removeChild(warn);\n}\n$3Dmolpromise.then(function() {\nvar viewergrid_1663764593315393 = null;\nviewergrid_1663764593315393 = $3Dmol.createViewerGrid($(\"#3dmolviewer_1663764593315393\"),{rows: 1, cols: 1, control_all: false},{backgroundColor:\"white\"});\nviewer_1663764593315393 = viewergrid_1663764593315393[0][0];\nviewergrid_1663764593315393[0][0].zoomTo();\tviewergrid_1663764593315393[0][0].addModelsAsFrames(\"MODEL 0\\nHETATM    1 C    CH4 A   0       0.000   0.000   0.000  1.00  0.00       B   C  \\nHETATM    2 H    CH4 A   0       0.628   0.628   0.628  1.00  0.00       B   H  \\nHETATM    3 H    CH4 A   0       0.628  -0.628  -0.628  1.00  0.00       B   H  \\nHETATM    4 H    CH4 A   0      -0.628   0.628  -0.628  1.00  0.00       B   H  \\nHETATM    5 H    CH4 A   0      -0.628  -0.628   0.628  1.00  0.00       B   H  \\nHETATM    6 C    CH2 A   1      -2.675   0.655   0.000  1.00  0.00       B   C  \\nHETATM    7 F    CH2 A   1      -2.675  -0.682   0.000  1.00  0.00       B   F  \\nHETATM    8 H    CH2 A   1      -2.431   1.104   0.947  1.00  0.00       B   H  \\nHETATM    9 H    CH2 A   1      -2.431   1.104  -0.947  1.00  0.00       B   H  \\nENDMDL\\n\",\"pdb\",{\"keepH\": \"true\"});\n\tviewergrid_1663764593315393[0][0].setStyle({\"model\": -1},{\"line\": {\"color\": \"black\"}});\n\tviewergrid_1663764593315393[0][0].addModelsAsFrames(\"MODEL 0\\nHETATM    1 C    CH4 A   0       0.000   0.000   0.000  1.00  0.00       B   C  \\nHETATM    2 H    CH4 A   0       0.628   0.628   0.628  1.00  0.00       B   H  \\nHETATM    3 H    CH4 A   0       0.628  -0.628  -0.628  1.00  0.00       B   H  \\nHETATM    4 H    CH4 A   0      -0.628   0.628  -0.628  1.00  0.00       B   H  \\nHETATM    5 H    CH4 A   0      -0.628  -0.628   0.628  1.00  0.00       B   H  \\nHETATM    6 C    CH2 A   1      -2.675   0.655   0.000  1.00  0.00       B   C  \\nHETATM    7 F    CH2 A   1      -2.675  -0.682   0.000  1.00  0.00       B   F  \\nHETATM    8 H    CH2 A   1      -2.431   1.104   0.947  1.00  0.00       B   H  \\nHETATM    9 H    CH2 A   1      -2.431   1.104  -0.947  1.00  0.00       B   H  \\nENDMDL\\n\",\"pdb\",{\"keepH\": \"true\"});\n\tviewergrid_1663764593315393[0][0].setStyle({\"model\": -1, \"serial\": 1},{\"sphere\": {\"scale\": 0.2, \"color\": \"#FF0000\"}});\n\tviewergrid_1663764593315393[0][0].addModelsAsFrames(\"MODEL 0\\nHETATM    1 C    CH4 A   0       0.000   0.000   0.000  1.00  0.00       B   C  \\nHETATM    2 H    CH4 A   0       0.628   0.628   0.628  1.00  0.00       B   H  \\nHETATM    3 H    CH4 A   0       0.628  -0.628  -0.628  1.00  0.00       B   H  \\nHETATM    4 H    CH4 A   0      -0.628   0.628  -0.628  1.00  0.00       B   H  \\nHETATM    5 H    CH4 A   0      -0.628  -0.628   0.628  1.00  0.00       B   H  \\nHETATM    6 C    CH2 A   1      -2.675   0.655   0.000  1.00  0.00       B   C  \\nHETATM    7 F    CH2 A   1      -2.675  -0.682   0.000  1.00  0.00       B   F  \\nHETATM    8 H    CH2 A   1      -2.431   1.104   0.947  1.00  0.00       B   H  \\nHETATM    9 H    CH2 A   1      -2.431   1.104  -0.947  1.00  0.00       B   H  \\nENDMDL\\n\",\"pdb\",{\"keepH\": \"true\"});\n\tviewergrid_1663764593315393[0][0].setStyle({\"model\": -1, \"serial\": 2},{\"sphere\": {\"scale\": 0.2, \"color\": \"#FF0000\"}});\n\tviewergrid_1663764593315393[0][0].addModelsAsFrames(\"MODEL 0\\nHETATM    1 C    CH4 A   0       0.000   0.000   0.000  1.00  0.00       B   C  \\nHETATM    2 H    CH4 A   0       0.628   0.628   0.628  1.00  0.00       B   H  \\nHETATM    3 H    CH4 A   0       0.628  -0.628  -0.628  1.00  0.00       B   H  \\nHETATM    4 H    CH4 A   0      -0.628   0.628  -0.628  1.00  0.00       B   H  \\nHETATM    5 H    CH4 A   0      -0.628  -0.628   0.628  1.00  0.00       B   H  \\nHETATM    6 C    CH2 A   1      -2.675   0.655   0.000  1.00  0.00       B   C  \\nHETATM    7 F    CH2 A   1      -2.675  -0.682   0.000  1.00  0.00       B   F  \\nHETATM    8 H    CH2 A   1      -2.431   1.104   0.947  1.00  0.00       B   H  \\nHETATM    9 H    CH2 A   1      -2.431   1.104  -0.947  1.00  0.00       B   H  \\nENDMDL\\n\",\"pdb\",{\"keepH\": \"true\"});\n\tviewergrid_1663764593315393[0][0].setStyle({\"model\": -1, \"serial\": 3},{\"sphere\": {\"scale\": 0.2, \"color\": \"#FF0000\"}});\n\tviewergrid_1663764593315393[0][0].addModelsAsFrames(\"MODEL 0\\nHETATM    1 C    CH4 A   0       0.000   0.000   0.000  1.00  0.00       B   C  \\nHETATM    2 H    CH4 A   0       0.628   0.628   0.628  1.00  0.00       B   H  \\nHETATM    3 H    CH4 A   0       0.628  -0.628  -0.628  1.00  0.00       B   H  \\nHETATM    4 H    CH4 A   0      -0.628   0.628  -0.628  1.00  0.00       B   H  \\nHETATM    5 H    CH4 A   0      -0.628  -0.628   0.628  1.00  0.00       B   H  \\nHETATM    6 C    CH2 A   1      -2.675   0.655   0.000  1.00  0.00       B   C  \\nHETATM    7 F    CH2 A   1      -2.675  -0.682   0.000  1.00  0.00       B   F  \\nHETATM    8 H    CH2 A   1      -2.431   1.104   0.947  1.00  0.00       B   H  \\nHETATM    9 H    CH2 A   1      -2.431   1.104  -0.947  1.00  0.00       B   H  \\nENDMDL\\n\",\"pdb\",{\"keepH\": \"true\"});\n\tviewergrid_1663764593315393[0][0].setStyle({\"model\": -1, \"serial\": 4},{\"sphere\": {\"scale\": 0.2, \"color\": \"#FF0000\"}});\n\tviewergrid_1663764593315393[0][0].addModelsAsFrames(\"MODEL 0\\nHETATM    1 C    CH4 A   0       0.000   0.000   0.000  1.00  0.00       B   C  \\nHETATM    2 H    CH4 A   0       0.628   0.628   0.628  1.00  0.00       B   H  \\nHETATM    3 H    CH4 A   0       0.628  -0.628  -0.628  1.00  0.00       B   H  \\nHETATM    4 H    CH4 A   0      -0.628   0.628  -0.628  1.00  0.00       B   H  \\nHETATM    5 H    CH4 A   0      -0.628  -0.628   0.628  1.00  0.00       B   H  \\nHETATM    6 C    CH2 A   1      -2.675   0.655   0.000  1.00  0.00       B   C  \\nHETATM    7 F    CH2 A   1      -2.675  -0.682   0.000  1.00  0.00       B   F  \\nHETATM    8 H    CH2 A   1      -2.431   1.104   0.947  1.00  0.00       B   H  \\nHETATM    9 H    CH2 A   1      -2.431   1.104  -0.947  1.00  0.00       B   H  \\nENDMDL\\n\",\"pdb\",{\"keepH\": \"true\"});\n\tviewergrid_1663764593315393[0][0].setStyle({\"model\": -1, \"serial\": 5},{\"sphere\": {\"scale\": 0.2, \"color\": \"#FF0000\"}});\n\tviewergrid_1663764593315393[0][0].addModelsAsFrames(\"MODEL 0\\nHETATM    1 C    CH4 A   0       0.000   0.000   0.000  1.00  0.00       B   C  \\nHETATM    2 H    CH4 A   0       0.628   0.628   0.628  1.00  0.00       B   H  \\nHETATM    3 H    CH4 A   0       0.628  -0.628  -0.628  1.00  0.00       B   H  \\nHETATM    4 H    CH4 A   0      -0.628   0.628  -0.628  1.00  0.00       B   H  \\nHETATM    5 H    CH4 A   0      -0.628  -0.628   0.628  1.00  0.00       B   H  \\nHETATM    6 C    CH2 A   1      -2.675   0.655   0.000  1.00  0.00       B   C  \\nHETATM    7 F    CH2 A   1      -2.675  -0.682   0.000  1.00  0.00       B   F  \\nHETATM    8 H    CH2 A   1      -2.431   1.104   0.947  1.00  0.00       B   H  \\nHETATM    9 H    CH2 A   1      -2.431   1.104  -0.947  1.00  0.00       B   H  \\nENDMDL\\n\",\"pdb\",{\"keepH\": \"true\"});\n\tviewergrid_1663764593315393[0][0].setStyle({\"model\": -1},{\"line\": {\"color\": \"black\"}});\n\tviewergrid_1663764593315393[0][0].addModelsAsFrames(\"MODEL 0\\nHETATM    1 C    CH4 A   0       0.000   0.000   0.000  1.00  0.00       B   C  \\nHETATM    2 H    CH4 A   0       0.628   0.628   0.628  1.00  0.00       B   H  \\nHETATM    3 H    CH4 A   0       0.628  -0.628  -0.628  1.00  0.00       B   H  \\nHETATM    4 H    CH4 A   0      -0.628   0.628  -0.628  1.00  0.00       B   H  \\nHETATM    5 H    CH4 A   0      -0.628  -0.628   0.628  1.00  0.00       B   H  \\nHETATM    6 C    CH2 A   1      -2.675   0.655   0.000  1.00  0.00       B   C  \\nHETATM    7 F    CH2 A   1      -2.675  -0.682   0.000  1.00  0.00       B   F  \\nHETATM    8 H    CH2 A   1      -2.431   1.104   0.947  1.00  0.00       B   H  \\nHETATM    9 H    CH2 A   1      -2.431   1.104  -0.947  1.00  0.00       B   H  \\nENDMDL\\n\",\"pdb\",{\"keepH\": \"true\"});\n\tviewergrid_1663764593315393[0][0].setStyle({\"model\": -1, \"serial\": 6},{\"sphere\": {\"scale\": 0.2, \"color\": \"#7F00FF\"}});\n\tviewergrid_1663764593315393[0][0].addModelsAsFrames(\"MODEL 0\\nHETATM    1 C    CH4 A   0       0.000   0.000   0.000  1.00  0.00       B   C  \\nHETATM    2 H    CH4 A   0       0.628   0.628   0.628  1.00  0.00       B   H  \\nHETATM    3 H    CH4 A   0       0.628  -0.628  -0.628  1.00  0.00       B   H  \\nHETATM    4 H    CH4 A   0      -0.628   0.628  -0.628  1.00  0.00       B   H  \\nHETATM    5 H    CH4 A   0      -0.628  -0.628   0.628  1.00  0.00       B   H  \\nHETATM    6 C    CH2 A   1      -2.675   0.655   0.000  1.00  0.00       B   C  \\nHETATM    7 F    CH2 A   1      -2.675  -0.682   0.000  1.00  0.00       B   F  \\nHETATM    8 H    CH2 A   1      -2.431   1.104   0.947  1.00  0.00       B   H  \\nHETATM    9 H    CH2 A   1      -2.431   1.104  -0.947  1.00  0.00       B   H  \\nENDMDL\\n\",\"pdb\",{\"keepH\": \"true\"});\n\tviewergrid_1663764593315393[0][0].setStyle({\"model\": -1, \"serial\": 7},{\"sphere\": {\"scale\": 0.2, \"color\": \"#7F00FF\"}});\n\tviewergrid_1663764593315393[0][0].addModelsAsFrames(\"MODEL 0\\nHETATM    1 C    CH4 A   0       0.000   0.000   0.000  1.00  0.00       B   C  \\nHETATM    2 H    CH4 A   0       0.628   0.628   0.628  1.00  0.00       B   H  \\nHETATM    3 H    CH4 A   0       0.628  -0.628  -0.628  1.00  0.00       B   H  \\nHETATM    4 H    CH4 A   0      -0.628   0.628  -0.628  1.00  0.00       B   H  \\nHETATM    5 H    CH4 A   0      -0.628  -0.628   0.628  1.00  0.00       B   H  \\nHETATM    6 C    CH2 A   1      -2.675   0.655   0.000  1.00  0.00       B   C  \\nHETATM    7 F    CH2 A   1      -2.675  -0.682   0.000  1.00  0.00       B   F  \\nHETATM    8 H    CH2 A   1      -2.431   1.104   0.947  1.00  0.00       B   H  \\nHETATM    9 H    CH2 A   1      -2.431   1.104  -0.947  1.00  0.00       B   H  \\nENDMDL\\n\",\"pdb\",{\"keepH\": \"true\"});\n\tviewergrid_1663764593315393[0][0].setStyle({\"model\": -1, \"serial\": 8},{\"sphere\": {\"scale\": 0.2, \"color\": \"#7F00FF\"}});\n\tviewergrid_1663764593315393[0][0].addModelsAsFrames(\"MODEL 0\\nHETATM    1 C    CH4 A   0       0.000   0.000   0.000  1.00  0.00       B   C  \\nHETATM    2 H    CH4 A   0       0.628   0.628   0.628  1.00  0.00       B   H  \\nHETATM    3 H    CH4 A   0       0.628  -0.628  -0.628  1.00  0.00       B   H  \\nHETATM    4 H    CH4 A   0      -0.628   0.628  -0.628  1.00  0.00       B   H  \\nHETATM    5 H    CH4 A   0      -0.628  -0.628   0.628  1.00  0.00       B   H  \\nHETATM    6 C    CH2 A   1      -2.675   0.655   0.000  1.00  0.00       B   C  \\nHETATM    7 F    CH2 A   1      -2.675  -0.682   0.000  1.00  0.00       B   F  \\nHETATM    8 H    CH2 A   1      -2.431   1.104   0.947  1.00  0.00       B   H  \\nHETATM    9 H    CH2 A   1      -2.431   1.104  -0.947  1.00  0.00       B   H  \\nENDMDL\\n\",\"pdb\",{\"keepH\": \"true\"});\n\tviewergrid_1663764593315393[0][0].setStyle({\"model\": -1, \"serial\": 9},{\"sphere\": {\"scale\": 0.2, \"color\": \"#7F00FF\"}});\n\tviewergrid_1663764593315393[0][0].addUnitCell({\"model\": -1},{\"box\": {\"color\": \"black\"}, \"alabel\": \"\", \"blabel\": \"\", \"clabel\": \"\"});\n\tviewergrid_1663764593315393[0][0].zoomTo();\nviewergrid_1663764593315393[0][0].render();\n});\n</script>",
            "text/html": [
              "<div id=\"3dmolviewer_1663764593315393\"  style=\"position: relative; width: 400px; height: 300px\">\n",
              "        <p id=\"3dmolwarning_1663764593315393\" style=\"background-color:#ffcccc;color:black\">You appear to be running in JupyterLab (or JavaScript failed to load for some other reason).  You need to install the 3dmol extension: <br>\n",
              "        <tt>jupyter labextension install jupyterlab_3dmol</tt></p>\n",
              "        </div>\n",
              "<script>\n",
              "\n",
              "var loadScriptAsync = function(uri){\n",
              "  return new Promise((resolve, reject) => {\n",
              "    var tag = document.createElement('script');\n",
              "    tag.src = uri;\n",
              "    tag.async = true;\n",
              "    tag.onload = () => {\n",
              "      resolve();\n",
              "    };\n",
              "  var firstScriptTag = document.getElementsByTagName('script')[0];\n",
              "  firstScriptTag.parentNode.insertBefore(tag, firstScriptTag);\n",
              "});\n",
              "};\n",
              "\n",
              "if(typeof $3Dmolpromise === 'undefined') {\n",
              "$3Dmolpromise = null;\n",
              "  $3Dmolpromise = loadScriptAsync('https://cdn.jsdelivr.net/npm/3dmol@latest/build/3Dmol-min.min.js');\n",
              "}\n",
              "\n",
              "var viewer_1663764593315393 = null;\n",
              "var warn = document.getElementById(\"3dmolwarning_1663764593315393\");\n",
              "if(warn) {\n",
              "    warn.parentNode.removeChild(warn);\n",
              "}\n",
              "$3Dmolpromise.then(function() {\n",
              "var viewergrid_1663764593315393 = null;\n",
              "viewergrid_1663764593315393 = $3Dmol.createViewerGrid($(\"#3dmolviewer_1663764593315393\"),{rows: 1, cols: 1, control_all: false},{backgroundColor:\"white\"});\n",
              "viewer_1663764593315393 = viewergrid_1663764593315393[0][0];\n",
              "viewergrid_1663764593315393[0][0].zoomTo();\tviewergrid_1663764593315393[0][0].addModelsAsFrames(\"MODEL 0\\nHETATM    1 C    CH4 A   0       0.000   0.000   0.000  1.00  0.00       B   C  \\nHETATM    2 H    CH4 A   0       0.628   0.628   0.628  1.00  0.00       B   H  \\nHETATM    3 H    CH4 A   0       0.628  -0.628  -0.628  1.00  0.00       B   H  \\nHETATM    4 H    CH4 A   0      -0.628   0.628  -0.628  1.00  0.00       B   H  \\nHETATM    5 H    CH4 A   0      -0.628  -0.628   0.628  1.00  0.00       B   H  \\nHETATM    6 C    CH2 A   1      -2.675   0.655   0.000  1.00  0.00       B   C  \\nHETATM    7 F    CH2 A   1      -2.675  -0.682   0.000  1.00  0.00       B   F  \\nHETATM    8 H    CH2 A   1      -2.431   1.104   0.947  1.00  0.00       B   H  \\nHETATM    9 H    CH2 A   1      -2.431   1.104  -0.947  1.00  0.00       B   H  \\nENDMDL\\n\",\"pdb\",{\"keepH\": \"true\"});\n",
              "\tviewergrid_1663764593315393[0][0].setStyle({\"model\": -1},{\"line\": {\"color\": \"black\"}});\n",
              "\tviewergrid_1663764593315393[0][0].addModelsAsFrames(\"MODEL 0\\nHETATM    1 C    CH4 A   0       0.000   0.000   0.000  1.00  0.00       B   C  \\nHETATM    2 H    CH4 A   0       0.628   0.628   0.628  1.00  0.00       B   H  \\nHETATM    3 H    CH4 A   0       0.628  -0.628  -0.628  1.00  0.00       B   H  \\nHETATM    4 H    CH4 A   0      -0.628   0.628  -0.628  1.00  0.00       B   H  \\nHETATM    5 H    CH4 A   0      -0.628  -0.628   0.628  1.00  0.00       B   H  \\nHETATM    6 C    CH2 A   1      -2.675   0.655   0.000  1.00  0.00       B   C  \\nHETATM    7 F    CH2 A   1      -2.675  -0.682   0.000  1.00  0.00       B   F  \\nHETATM    8 H    CH2 A   1      -2.431   1.104   0.947  1.00  0.00       B   H  \\nHETATM    9 H    CH2 A   1      -2.431   1.104  -0.947  1.00  0.00       B   H  \\nENDMDL\\n\",\"pdb\",{\"keepH\": \"true\"});\n",
              "\tviewergrid_1663764593315393[0][0].setStyle({\"model\": -1, \"serial\": 1},{\"sphere\": {\"scale\": 0.2, \"color\": \"#FF0000\"}});\n",
              "\tviewergrid_1663764593315393[0][0].addModelsAsFrames(\"MODEL 0\\nHETATM    1 C    CH4 A   0       0.000   0.000   0.000  1.00  0.00       B   C  \\nHETATM    2 H    CH4 A   0       0.628   0.628   0.628  1.00  0.00       B   H  \\nHETATM    3 H    CH4 A   0       0.628  -0.628  -0.628  1.00  0.00       B   H  \\nHETATM    4 H    CH4 A   0      -0.628   0.628  -0.628  1.00  0.00       B   H  \\nHETATM    5 H    CH4 A   0      -0.628  -0.628   0.628  1.00  0.00       B   H  \\nHETATM    6 C    CH2 A   1      -2.675   0.655   0.000  1.00  0.00       B   C  \\nHETATM    7 F    CH2 A   1      -2.675  -0.682   0.000  1.00  0.00       B   F  \\nHETATM    8 H    CH2 A   1      -2.431   1.104   0.947  1.00  0.00       B   H  \\nHETATM    9 H    CH2 A   1      -2.431   1.104  -0.947  1.00  0.00       B   H  \\nENDMDL\\n\",\"pdb\",{\"keepH\": \"true\"});\n",
              "\tviewergrid_1663764593315393[0][0].setStyle({\"model\": -1, \"serial\": 2},{\"sphere\": {\"scale\": 0.2, \"color\": \"#FF0000\"}});\n",
              "\tviewergrid_1663764593315393[0][0].addModelsAsFrames(\"MODEL 0\\nHETATM    1 C    CH4 A   0       0.000   0.000   0.000  1.00  0.00       B   C  \\nHETATM    2 H    CH4 A   0       0.628   0.628   0.628  1.00  0.00       B   H  \\nHETATM    3 H    CH4 A   0       0.628  -0.628  -0.628  1.00  0.00       B   H  \\nHETATM    4 H    CH4 A   0      -0.628   0.628  -0.628  1.00  0.00       B   H  \\nHETATM    5 H    CH4 A   0      -0.628  -0.628   0.628  1.00  0.00       B   H  \\nHETATM    6 C    CH2 A   1      -2.675   0.655   0.000  1.00  0.00       B   C  \\nHETATM    7 F    CH2 A   1      -2.675  -0.682   0.000  1.00  0.00       B   F  \\nHETATM    8 H    CH2 A   1      -2.431   1.104   0.947  1.00  0.00       B   H  \\nHETATM    9 H    CH2 A   1      -2.431   1.104  -0.947  1.00  0.00       B   H  \\nENDMDL\\n\",\"pdb\",{\"keepH\": \"true\"});\n",
              "\tviewergrid_1663764593315393[0][0].setStyle({\"model\": -1, \"serial\": 3},{\"sphere\": {\"scale\": 0.2, \"color\": \"#FF0000\"}});\n",
              "\tviewergrid_1663764593315393[0][0].addModelsAsFrames(\"MODEL 0\\nHETATM    1 C    CH4 A   0       0.000   0.000   0.000  1.00  0.00       B   C  \\nHETATM    2 H    CH4 A   0       0.628   0.628   0.628  1.00  0.00       B   H  \\nHETATM    3 H    CH4 A   0       0.628  -0.628  -0.628  1.00  0.00       B   H  \\nHETATM    4 H    CH4 A   0      -0.628   0.628  -0.628  1.00  0.00       B   H  \\nHETATM    5 H    CH4 A   0      -0.628  -0.628   0.628  1.00  0.00       B   H  \\nHETATM    6 C    CH2 A   1      -2.675   0.655   0.000  1.00  0.00       B   C  \\nHETATM    7 F    CH2 A   1      -2.675  -0.682   0.000  1.00  0.00       B   F  \\nHETATM    8 H    CH2 A   1      -2.431   1.104   0.947  1.00  0.00       B   H  \\nHETATM    9 H    CH2 A   1      -2.431   1.104  -0.947  1.00  0.00       B   H  \\nENDMDL\\n\",\"pdb\",{\"keepH\": \"true\"});\n",
              "\tviewergrid_1663764593315393[0][0].setStyle({\"model\": -1, \"serial\": 4},{\"sphere\": {\"scale\": 0.2, \"color\": \"#FF0000\"}});\n",
              "\tviewergrid_1663764593315393[0][0].addModelsAsFrames(\"MODEL 0\\nHETATM    1 C    CH4 A   0       0.000   0.000   0.000  1.00  0.00       B   C  \\nHETATM    2 H    CH4 A   0       0.628   0.628   0.628  1.00  0.00       B   H  \\nHETATM    3 H    CH4 A   0       0.628  -0.628  -0.628  1.00  0.00       B   H  \\nHETATM    4 H    CH4 A   0      -0.628   0.628  -0.628  1.00  0.00       B   H  \\nHETATM    5 H    CH4 A   0      -0.628  -0.628   0.628  1.00  0.00       B   H  \\nHETATM    6 C    CH2 A   1      -2.675   0.655   0.000  1.00  0.00       B   C  \\nHETATM    7 F    CH2 A   1      -2.675  -0.682   0.000  1.00  0.00       B   F  \\nHETATM    8 H    CH2 A   1      -2.431   1.104   0.947  1.00  0.00       B   H  \\nHETATM    9 H    CH2 A   1      -2.431   1.104  -0.947  1.00  0.00       B   H  \\nENDMDL\\n\",\"pdb\",{\"keepH\": \"true\"});\n",
              "\tviewergrid_1663764593315393[0][0].setStyle({\"model\": -1, \"serial\": 5},{\"sphere\": {\"scale\": 0.2, \"color\": \"#FF0000\"}});\n",
              "\tviewergrid_1663764593315393[0][0].addModelsAsFrames(\"MODEL 0\\nHETATM    1 C    CH4 A   0       0.000   0.000   0.000  1.00  0.00       B   C  \\nHETATM    2 H    CH4 A   0       0.628   0.628   0.628  1.00  0.00       B   H  \\nHETATM    3 H    CH4 A   0       0.628  -0.628  -0.628  1.00  0.00       B   H  \\nHETATM    4 H    CH4 A   0      -0.628   0.628  -0.628  1.00  0.00       B   H  \\nHETATM    5 H    CH4 A   0      -0.628  -0.628   0.628  1.00  0.00       B   H  \\nHETATM    6 C    CH2 A   1      -2.675   0.655   0.000  1.00  0.00       B   C  \\nHETATM    7 F    CH2 A   1      -2.675  -0.682   0.000  1.00  0.00       B   F  \\nHETATM    8 H    CH2 A   1      -2.431   1.104   0.947  1.00  0.00       B   H  \\nHETATM    9 H    CH2 A   1      -2.431   1.104  -0.947  1.00  0.00       B   H  \\nENDMDL\\n\",\"pdb\",{\"keepH\": \"true\"});\n",
              "\tviewergrid_1663764593315393[0][0].setStyle({\"model\": -1},{\"line\": {\"color\": \"black\"}});\n",
              "\tviewergrid_1663764593315393[0][0].addModelsAsFrames(\"MODEL 0\\nHETATM    1 C    CH4 A   0       0.000   0.000   0.000  1.00  0.00       B   C  \\nHETATM    2 H    CH4 A   0       0.628   0.628   0.628  1.00  0.00       B   H  \\nHETATM    3 H    CH4 A   0       0.628  -0.628  -0.628  1.00  0.00       B   H  \\nHETATM    4 H    CH4 A   0      -0.628   0.628  -0.628  1.00  0.00       B   H  \\nHETATM    5 H    CH4 A   0      -0.628  -0.628   0.628  1.00  0.00       B   H  \\nHETATM    6 C    CH2 A   1      -2.675   0.655   0.000  1.00  0.00       B   C  \\nHETATM    7 F    CH2 A   1      -2.675  -0.682   0.000  1.00  0.00       B   F  \\nHETATM    8 H    CH2 A   1      -2.431   1.104   0.947  1.00  0.00       B   H  \\nHETATM    9 H    CH2 A   1      -2.431   1.104  -0.947  1.00  0.00       B   H  \\nENDMDL\\n\",\"pdb\",{\"keepH\": \"true\"});\n",
              "\tviewergrid_1663764593315393[0][0].setStyle({\"model\": -1, \"serial\": 6},{\"sphere\": {\"scale\": 0.2, \"color\": \"#7F00FF\"}});\n",
              "\tviewergrid_1663764593315393[0][0].addModelsAsFrames(\"MODEL 0\\nHETATM    1 C    CH4 A   0       0.000   0.000   0.000  1.00  0.00       B   C  \\nHETATM    2 H    CH4 A   0       0.628   0.628   0.628  1.00  0.00       B   H  \\nHETATM    3 H    CH4 A   0       0.628  -0.628  -0.628  1.00  0.00       B   H  \\nHETATM    4 H    CH4 A   0      -0.628   0.628  -0.628  1.00  0.00       B   H  \\nHETATM    5 H    CH4 A   0      -0.628  -0.628   0.628  1.00  0.00       B   H  \\nHETATM    6 C    CH2 A   1      -2.675   0.655   0.000  1.00  0.00       B   C  \\nHETATM    7 F    CH2 A   1      -2.675  -0.682   0.000  1.00  0.00       B   F  \\nHETATM    8 H    CH2 A   1      -2.431   1.104   0.947  1.00  0.00       B   H  \\nHETATM    9 H    CH2 A   1      -2.431   1.104  -0.947  1.00  0.00       B   H  \\nENDMDL\\n\",\"pdb\",{\"keepH\": \"true\"});\n",
              "\tviewergrid_1663764593315393[0][0].setStyle({\"model\": -1, \"serial\": 7},{\"sphere\": {\"scale\": 0.2, \"color\": \"#7F00FF\"}});\n",
              "\tviewergrid_1663764593315393[0][0].addModelsAsFrames(\"MODEL 0\\nHETATM    1 C    CH4 A   0       0.000   0.000   0.000  1.00  0.00       B   C  \\nHETATM    2 H    CH4 A   0       0.628   0.628   0.628  1.00  0.00       B   H  \\nHETATM    3 H    CH4 A   0       0.628  -0.628  -0.628  1.00  0.00       B   H  \\nHETATM    4 H    CH4 A   0      -0.628   0.628  -0.628  1.00  0.00       B   H  \\nHETATM    5 H    CH4 A   0      -0.628  -0.628   0.628  1.00  0.00       B   H  \\nHETATM    6 C    CH2 A   1      -2.675   0.655   0.000  1.00  0.00       B   C  \\nHETATM    7 F    CH2 A   1      -2.675  -0.682   0.000  1.00  0.00       B   F  \\nHETATM    8 H    CH2 A   1      -2.431   1.104   0.947  1.00  0.00       B   H  \\nHETATM    9 H    CH2 A   1      -2.431   1.104  -0.947  1.00  0.00       B   H  \\nENDMDL\\n\",\"pdb\",{\"keepH\": \"true\"});\n",
              "\tviewergrid_1663764593315393[0][0].setStyle({\"model\": -1, \"serial\": 8},{\"sphere\": {\"scale\": 0.2, \"color\": \"#7F00FF\"}});\n",
              "\tviewergrid_1663764593315393[0][0].addModelsAsFrames(\"MODEL 0\\nHETATM    1 C    CH4 A   0       0.000   0.000   0.000  1.00  0.00       B   C  \\nHETATM    2 H    CH4 A   0       0.628   0.628   0.628  1.00  0.00       B   H  \\nHETATM    3 H    CH4 A   0       0.628  -0.628  -0.628  1.00  0.00       B   H  \\nHETATM    4 H    CH4 A   0      -0.628   0.628  -0.628  1.00  0.00       B   H  \\nHETATM    5 H    CH4 A   0      -0.628  -0.628   0.628  1.00  0.00       B   H  \\nHETATM    6 C    CH2 A   1      -2.675   0.655   0.000  1.00  0.00       B   C  \\nHETATM    7 F    CH2 A   1      -2.675  -0.682   0.000  1.00  0.00       B   F  \\nHETATM    8 H    CH2 A   1      -2.431   1.104   0.947  1.00  0.00       B   H  \\nHETATM    9 H    CH2 A   1      -2.431   1.104  -0.947  1.00  0.00       B   H  \\nENDMDL\\n\",\"pdb\",{\"keepH\": \"true\"});\n",
              "\tviewergrid_1663764593315393[0][0].setStyle({\"model\": -1, \"serial\": 9},{\"sphere\": {\"scale\": 0.2, \"color\": \"#7F00FF\"}});\n",
              "\tviewergrid_1663764593315393[0][0].addUnitCell({\"model\": -1},{\"box\": {\"color\": \"black\"}, \"alabel\": \"\", \"blabel\": \"\", \"clabel\": \"\"});\n",
              "\tviewergrid_1663764593315393[0][0].zoomTo();\n",
              "viewergrid_1663764593315393[0][0].render();\n",
              "});\n",
              "</script>"
            ]
          },
          "metadata": {}
        },
        {
          "output_type": "execute_result",
          "data": {
            "text/plain": [
              "<BigDFT.Visualization.InlineVisualizer at 0x7fc0ebbc65d0>"
            ]
          },
          "metadata": {},
          "execution_count": 30
        }
      ],
      "source": [
        "sys.display()"
      ]
    },
    {
      "cell_type": "markdown",
      "id": "efa73301",
      "metadata": {
        "id": "efa73301"
      },
      "source": [
        "Afterwards, the `XYZWriter` class enables to write down our data in the `xyz` format."
      ]
    },
    {
      "cell_type": "code",
      "execution_count": null,
      "id": "d26e5ce3",
      "metadata": {
        "id": "d26e5ce3"
      },
      "outputs": [],
      "source": [
        "from BigDFT.IO import XYZWriter\n",
        "\n",
        "natoms = sum([len(x) for x in sys.values()])\n",
        "with XYZWriter(\"sys.xyz\", natoms=natoms) as ofile:\n",
        "    for frag in sys.values():\n",
        "        for at in frag:\n",
        "            ofile.write(at)"
      ]
    },
    {
      "cell_type": "markdown",
      "id": "220e96ce",
      "metadata": {
        "id": "220e96ce"
      },
      "source": [
        "Or, similarly"
      ]
    },
    {
      "cell_type": "code",
      "execution_count": null,
      "id": "ec0309a6",
      "metadata": {
        "id": "ec0309a6"
      },
      "outputs": [],
      "source": [
        "from BigDFT import IO\n",
        "\n",
        "with open('sys.xyz','w') as infile:\n",
        "    IO.write_xyz(sys,infile)"
      ]
    },
    {
      "cell_type": "markdown",
      "id": "63afdd1b",
      "metadata": {
        "id": "63afdd1b"
      },
      "source": [
        "The advantage of the `XYZreader` (or `XYZwriter`) approach is to directly yield the following attributes: `units`, `natoms` and `cell`. \n",
        "\n",
        "Warning: when reading an `xyz` file, **there is no fragment information available**\n",
        "\n",
        "The system is either defined as one fragment (`single`) or each atoms are a single fragment (`atomic`)\n",
        "\n",
        "**Important**: from the point of view of the BigDFT code, the only important thing is the position of the atoms. The distribution of a system into fragment can be useful for building and (especially) for post-processing purposes. The code will not care about two different fragmentations if the atomic positions are the same."
      ]
    },
    {
      "cell_type": "code",
      "execution_count": null,
      "id": "04adfe31",
      "metadata": {
        "colab": {
          "base_uri": "https://localhost:8080/",
          "height": 335
        },
        "id": "04adfe31",
        "outputId": "7536a82c-876a-4685-ff33-1d606ec67609"
      },
      "outputs": [
        {
          "output_type": "display_data",
          "data": {
            "application/3dmoljs_load.v0": "<div id=\"3dmolviewer_16637646188875446\"  style=\"position: relative; width: 400px; height: 300px\">\n        <p id=\"3dmolwarning_16637646188875446\" style=\"background-color:#ffcccc;color:black\">You appear to be running in JupyterLab (or JavaScript failed to load for some other reason).  You need to install the 3dmol extension: <br>\n        <tt>jupyter labextension install jupyterlab_3dmol</tt></p>\n        </div>\n<script>\n\nvar loadScriptAsync = function(uri){\n  return new Promise((resolve, reject) => {\n    var tag = document.createElement('script');\n    tag.src = uri;\n    tag.async = true;\n    tag.onload = () => {\n      resolve();\n    };\n  var firstScriptTag = document.getElementsByTagName('script')[0];\n  firstScriptTag.parentNode.insertBefore(tag, firstScriptTag);\n});\n};\n\nif(typeof $3Dmolpromise === 'undefined') {\n$3Dmolpromise = null;\n  $3Dmolpromise = loadScriptAsync('https://cdn.jsdelivr.net/npm/3dmol@latest/build/3Dmol-min.min.js');\n}\n\nvar viewer_16637646188875446 = null;\nvar warn = document.getElementById(\"3dmolwarning_16637646188875446\");\nif(warn) {\n    warn.parentNode.removeChild(warn);\n}\n$3Dmolpromise.then(function() {\nvar viewergrid_16637646188875446 = null;\nviewergrid_16637646188875446 = $3Dmol.createViewerGrid($(\"#3dmolviewer_16637646188875446\"),{rows: 1, cols: 1, control_all: false},{backgroundColor:\"white\"});\nviewer_16637646188875446 = viewergrid_16637646188875446[0][0];\nviewergrid_16637646188875446[0][0].zoomTo();\tviewergrid_16637646188875446[0][0].addModelsAsFrames(\"MODEL 0\\nHETATM    1 C    FRA A   0       0.000   0.000   0.000  1.00  0.00       B   C  \\nHETATM    2 H    FRA A   0       0.628   0.628   0.628  1.00  0.00       B   H  \\nHETATM    3 H    FRA A   0       0.628  -0.628  -0.628  1.00  0.00       B   H  \\nHETATM    4 H    FRA A   0      -0.628   0.628  -0.628  1.00  0.00       B   H  \\nHETATM    5 H    FRA A   0      -0.628  -0.628   0.628  1.00  0.00       B   H  \\nHETATM    6 C    FRA A   0      -2.675   0.655   0.000  1.00  0.00       B   C  \\nHETATM    7 F    FRA A   0      -2.675  -0.682   0.000  1.00  0.00       B   F  \\nHETATM    8 H    FRA A   0      -2.431   1.104   0.947  1.00  0.00       B   H  \\nHETATM    9 H    FRA A   0      -2.431   1.104  -0.947  1.00  0.00       B   H  \\nENDMDL\\n\",\"pdb\",{\"keepH\": \"true\"});\n\tviewergrid_16637646188875446[0][0].setStyle({\"model\": -1},{\"line\": {\"color\": \"black\"}});\n\tviewergrid_16637646188875446[0][0].addModelsAsFrames(\"MODEL 0\\nHETATM    1 C    FRA A   0       0.000   0.000   0.000  1.00  0.00       B   C  \\nHETATM    2 H    FRA A   0       0.628   0.628   0.628  1.00  0.00       B   H  \\nHETATM    3 H    FRA A   0       0.628  -0.628  -0.628  1.00  0.00       B   H  \\nHETATM    4 H    FRA A   0      -0.628   0.628  -0.628  1.00  0.00       B   H  \\nHETATM    5 H    FRA A   0      -0.628  -0.628   0.628  1.00  0.00       B   H  \\nHETATM    6 C    FRA A   0      -2.675   0.655   0.000  1.00  0.00       B   C  \\nHETATM    7 F    FRA A   0      -2.675  -0.682   0.000  1.00  0.00       B   F  \\nHETATM    8 H    FRA A   0      -2.431   1.104   0.947  1.00  0.00       B   H  \\nHETATM    9 H    FRA A   0      -2.431   1.104  -0.947  1.00  0.00       B   H  \\nENDMDL\\n\",\"pdb\",{\"keepH\": \"true\"});\n\tviewergrid_16637646188875446[0][0].setStyle({\"model\": -1, \"serial\": 1},{\"sphere\": {\"scale\": 0.2, \"color\": \"#7F00FF\"}});\n\tviewergrid_16637646188875446[0][0].addModelsAsFrames(\"MODEL 0\\nHETATM    1 C    FRA A   0       0.000   0.000   0.000  1.00  0.00       B   C  \\nHETATM    2 H    FRA A   0       0.628   0.628   0.628  1.00  0.00       B   H  \\nHETATM    3 H    FRA A   0       0.628  -0.628  -0.628  1.00  0.00       B   H  \\nHETATM    4 H    FRA A   0      -0.628   0.628  -0.628  1.00  0.00       B   H  \\nHETATM    5 H    FRA A   0      -0.628  -0.628   0.628  1.00  0.00       B   H  \\nHETATM    6 C    FRA A   0      -2.675   0.655   0.000  1.00  0.00       B   C  \\nHETATM    7 F    FRA A   0      -2.675  -0.682   0.000  1.00  0.00       B   F  \\nHETATM    8 H    FRA A   0      -2.431   1.104   0.947  1.00  0.00       B   H  \\nHETATM    9 H    FRA A   0      -2.431   1.104  -0.947  1.00  0.00       B   H  \\nENDMDL\\n\",\"pdb\",{\"keepH\": \"true\"});\n\tviewergrid_16637646188875446[0][0].setStyle({\"model\": -1, \"serial\": 2},{\"sphere\": {\"scale\": 0.2, \"color\": \"#7F00FF\"}});\n\tviewergrid_16637646188875446[0][0].addModelsAsFrames(\"MODEL 0\\nHETATM    1 C    FRA A   0       0.000   0.000   0.000  1.00  0.00       B   C  \\nHETATM    2 H    FRA A   0       0.628   0.628   0.628  1.00  0.00       B   H  \\nHETATM    3 H    FRA A   0       0.628  -0.628  -0.628  1.00  0.00       B   H  \\nHETATM    4 H    FRA A   0      -0.628   0.628  -0.628  1.00  0.00       B   H  \\nHETATM    5 H    FRA A   0      -0.628  -0.628   0.628  1.00  0.00       B   H  \\nHETATM    6 C    FRA A   0      -2.675   0.655   0.000  1.00  0.00       B   C  \\nHETATM    7 F    FRA A   0      -2.675  -0.682   0.000  1.00  0.00       B   F  \\nHETATM    8 H    FRA A   0      -2.431   1.104   0.947  1.00  0.00       B   H  \\nHETATM    9 H    FRA A   0      -2.431   1.104  -0.947  1.00  0.00       B   H  \\nENDMDL\\n\",\"pdb\",{\"keepH\": \"true\"});\n\tviewergrid_16637646188875446[0][0].setStyle({\"model\": -1, \"serial\": 3},{\"sphere\": {\"scale\": 0.2, \"color\": \"#7F00FF\"}});\n\tviewergrid_16637646188875446[0][0].addModelsAsFrames(\"MODEL 0\\nHETATM    1 C    FRA A   0       0.000   0.000   0.000  1.00  0.00       B   C  \\nHETATM    2 H    FRA A   0       0.628   0.628   0.628  1.00  0.00       B   H  \\nHETATM    3 H    FRA A   0       0.628  -0.628  -0.628  1.00  0.00       B   H  \\nHETATM    4 H    FRA A   0      -0.628   0.628  -0.628  1.00  0.00       B   H  \\nHETATM    5 H    FRA A   0      -0.628  -0.628   0.628  1.00  0.00       B   H  \\nHETATM    6 C    FRA A   0      -2.675   0.655   0.000  1.00  0.00       B   C  \\nHETATM    7 F    FRA A   0      -2.675  -0.682   0.000  1.00  0.00       B   F  \\nHETATM    8 H    FRA A   0      -2.431   1.104   0.947  1.00  0.00       B   H  \\nHETATM    9 H    FRA A   0      -2.431   1.104  -0.947  1.00  0.00       B   H  \\nENDMDL\\n\",\"pdb\",{\"keepH\": \"true\"});\n\tviewergrid_16637646188875446[0][0].setStyle({\"model\": -1, \"serial\": 4},{\"sphere\": {\"scale\": 0.2, \"color\": \"#7F00FF\"}});\n\tviewergrid_16637646188875446[0][0].addModelsAsFrames(\"MODEL 0\\nHETATM    1 C    FRA A   0       0.000   0.000   0.000  1.00  0.00       B   C  \\nHETATM    2 H    FRA A   0       0.628   0.628   0.628  1.00  0.00       B   H  \\nHETATM    3 H    FRA A   0       0.628  -0.628  -0.628  1.00  0.00       B   H  \\nHETATM    4 H    FRA A   0      -0.628   0.628  -0.628  1.00  0.00       B   H  \\nHETATM    5 H    FRA A   0      -0.628  -0.628   0.628  1.00  0.00       B   H  \\nHETATM    6 C    FRA A   0      -2.675   0.655   0.000  1.00  0.00       B   C  \\nHETATM    7 F    FRA A   0      -2.675  -0.682   0.000  1.00  0.00       B   F  \\nHETATM    8 H    FRA A   0      -2.431   1.104   0.947  1.00  0.00       B   H  \\nHETATM    9 H    FRA A   0      -2.431   1.104  -0.947  1.00  0.00       B   H  \\nENDMDL\\n\",\"pdb\",{\"keepH\": \"true\"});\n\tviewergrid_16637646188875446[0][0].setStyle({\"model\": -1, \"serial\": 5},{\"sphere\": {\"scale\": 0.2, \"color\": \"#7F00FF\"}});\n\tviewergrid_16637646188875446[0][0].addModelsAsFrames(\"MODEL 0\\nHETATM    1 C    FRA A   0       0.000   0.000   0.000  1.00  0.00       B   C  \\nHETATM    2 H    FRA A   0       0.628   0.628   0.628  1.00  0.00       B   H  \\nHETATM    3 H    FRA A   0       0.628  -0.628  -0.628  1.00  0.00       B   H  \\nHETATM    4 H    FRA A   0      -0.628   0.628  -0.628  1.00  0.00       B   H  \\nHETATM    5 H    FRA A   0      -0.628  -0.628   0.628  1.00  0.00       B   H  \\nHETATM    6 C    FRA A   0      -2.675   0.655   0.000  1.00  0.00       B   C  \\nHETATM    7 F    FRA A   0      -2.675  -0.682   0.000  1.00  0.00       B   F  \\nHETATM    8 H    FRA A   0      -2.431   1.104   0.947  1.00  0.00       B   H  \\nHETATM    9 H    FRA A   0      -2.431   1.104  -0.947  1.00  0.00       B   H  \\nENDMDL\\n\",\"pdb\",{\"keepH\": \"true\"});\n\tviewergrid_16637646188875446[0][0].setStyle({\"model\": -1, \"serial\": 6},{\"sphere\": {\"scale\": 0.2, \"color\": \"#7F00FF\"}});\n\tviewergrid_16637646188875446[0][0].addModelsAsFrames(\"MODEL 0\\nHETATM    1 C    FRA A   0       0.000   0.000   0.000  1.00  0.00       B   C  \\nHETATM    2 H    FRA A   0       0.628   0.628   0.628  1.00  0.00       B   H  \\nHETATM    3 H    FRA A   0       0.628  -0.628  -0.628  1.00  0.00       B   H  \\nHETATM    4 H    FRA A   0      -0.628   0.628  -0.628  1.00  0.00       B   H  \\nHETATM    5 H    FRA A   0      -0.628  -0.628   0.628  1.00  0.00       B   H  \\nHETATM    6 C    FRA A   0      -2.675   0.655   0.000  1.00  0.00       B   C  \\nHETATM    7 F    FRA A   0      -2.675  -0.682   0.000  1.00  0.00       B   F  \\nHETATM    8 H    FRA A   0      -2.431   1.104   0.947  1.00  0.00       B   H  \\nHETATM    9 H    FRA A   0      -2.431   1.104  -0.947  1.00  0.00       B   H  \\nENDMDL\\n\",\"pdb\",{\"keepH\": \"true\"});\n\tviewergrid_16637646188875446[0][0].setStyle({\"model\": -1, \"serial\": 7},{\"sphere\": {\"scale\": 0.2, \"color\": \"#7F00FF\"}});\n\tviewergrid_16637646188875446[0][0].addModelsAsFrames(\"MODEL 0\\nHETATM    1 C    FRA A   0       0.000   0.000   0.000  1.00  0.00       B   C  \\nHETATM    2 H    FRA A   0       0.628   0.628   0.628  1.00  0.00       B   H  \\nHETATM    3 H    FRA A   0       0.628  -0.628  -0.628  1.00  0.00       B   H  \\nHETATM    4 H    FRA A   0      -0.628   0.628  -0.628  1.00  0.00       B   H  \\nHETATM    5 H    FRA A   0      -0.628  -0.628   0.628  1.00  0.00       B   H  \\nHETATM    6 C    FRA A   0      -2.675   0.655   0.000  1.00  0.00       B   C  \\nHETATM    7 F    FRA A   0      -2.675  -0.682   0.000  1.00  0.00       B   F  \\nHETATM    8 H    FRA A   0      -2.431   1.104   0.947  1.00  0.00       B   H  \\nHETATM    9 H    FRA A   0      -2.431   1.104  -0.947  1.00  0.00       B   H  \\nENDMDL\\n\",\"pdb\",{\"keepH\": \"true\"});\n\tviewergrid_16637646188875446[0][0].setStyle({\"model\": -1, \"serial\": 8},{\"sphere\": {\"scale\": 0.2, \"color\": \"#7F00FF\"}});\n\tviewergrid_16637646188875446[0][0].addModelsAsFrames(\"MODEL 0\\nHETATM    1 C    FRA A   0       0.000   0.000   0.000  1.00  0.00       B   C  \\nHETATM    2 H    FRA A   0       0.628   0.628   0.628  1.00  0.00       B   H  \\nHETATM    3 H    FRA A   0       0.628  -0.628  -0.628  1.00  0.00       B   H  \\nHETATM    4 H    FRA A   0      -0.628   0.628  -0.628  1.00  0.00       B   H  \\nHETATM    5 H    FRA A   0      -0.628  -0.628   0.628  1.00  0.00       B   H  \\nHETATM    6 C    FRA A   0      -2.675   0.655   0.000  1.00  0.00       B   C  \\nHETATM    7 F    FRA A   0      -2.675  -0.682   0.000  1.00  0.00       B   F  \\nHETATM    8 H    FRA A   0      -2.431   1.104   0.947  1.00  0.00       B   H  \\nHETATM    9 H    FRA A   0      -2.431   1.104  -0.947  1.00  0.00       B   H  \\nENDMDL\\n\",\"pdb\",{\"keepH\": \"true\"});\n\tviewergrid_16637646188875446[0][0].setStyle({\"model\": -1, \"serial\": 9},{\"sphere\": {\"scale\": 0.2, \"color\": \"#7F00FF\"}});\n\tviewergrid_16637646188875446[0][0].addUnitCell({\"model\": -1},{\"box\": {\"color\": \"black\"}, \"alabel\": \"\", \"blabel\": \"\", \"clabel\": \"\"});\n\tviewergrid_16637646188875446[0][0].zoomTo();\nviewergrid_16637646188875446[0][0].render();\n});\n</script>",
            "text/html": [
              "<div id=\"3dmolviewer_16637646188875446\"  style=\"position: relative; width: 400px; height: 300px\">\n",
              "        <p id=\"3dmolwarning_16637646188875446\" style=\"background-color:#ffcccc;color:black\">You appear to be running in JupyterLab (or JavaScript failed to load for some other reason).  You need to install the 3dmol extension: <br>\n",
              "        <tt>jupyter labextension install jupyterlab_3dmol</tt></p>\n",
              "        </div>\n",
              "<script>\n",
              "\n",
              "var loadScriptAsync = function(uri){\n",
              "  return new Promise((resolve, reject) => {\n",
              "    var tag = document.createElement('script');\n",
              "    tag.src = uri;\n",
              "    tag.async = true;\n",
              "    tag.onload = () => {\n",
              "      resolve();\n",
              "    };\n",
              "  var firstScriptTag = document.getElementsByTagName('script')[0];\n",
              "  firstScriptTag.parentNode.insertBefore(tag, firstScriptTag);\n",
              "});\n",
              "};\n",
              "\n",
              "if(typeof $3Dmolpromise === 'undefined') {\n",
              "$3Dmolpromise = null;\n",
              "  $3Dmolpromise = loadScriptAsync('https://cdn.jsdelivr.net/npm/3dmol@latest/build/3Dmol-min.min.js');\n",
              "}\n",
              "\n",
              "var viewer_16637646188875446 = null;\n",
              "var warn = document.getElementById(\"3dmolwarning_16637646188875446\");\n",
              "if(warn) {\n",
              "    warn.parentNode.removeChild(warn);\n",
              "}\n",
              "$3Dmolpromise.then(function() {\n",
              "var viewergrid_16637646188875446 = null;\n",
              "viewergrid_16637646188875446 = $3Dmol.createViewerGrid($(\"#3dmolviewer_16637646188875446\"),{rows: 1, cols: 1, control_all: false},{backgroundColor:\"white\"});\n",
              "viewer_16637646188875446 = viewergrid_16637646188875446[0][0];\n",
              "viewergrid_16637646188875446[0][0].zoomTo();\tviewergrid_16637646188875446[0][0].addModelsAsFrames(\"MODEL 0\\nHETATM    1 C    FRA A   0       0.000   0.000   0.000  1.00  0.00       B   C  \\nHETATM    2 H    FRA A   0       0.628   0.628   0.628  1.00  0.00       B   H  \\nHETATM    3 H    FRA A   0       0.628  -0.628  -0.628  1.00  0.00       B   H  \\nHETATM    4 H    FRA A   0      -0.628   0.628  -0.628  1.00  0.00       B   H  \\nHETATM    5 H    FRA A   0      -0.628  -0.628   0.628  1.00  0.00       B   H  \\nHETATM    6 C    FRA A   0      -2.675   0.655   0.000  1.00  0.00       B   C  \\nHETATM    7 F    FRA A   0      -2.675  -0.682   0.000  1.00  0.00       B   F  \\nHETATM    8 H    FRA A   0      -2.431   1.104   0.947  1.00  0.00       B   H  \\nHETATM    9 H    FRA A   0      -2.431   1.104  -0.947  1.00  0.00       B   H  \\nENDMDL\\n\",\"pdb\",{\"keepH\": \"true\"});\n",
              "\tviewergrid_16637646188875446[0][0].setStyle({\"model\": -1},{\"line\": {\"color\": \"black\"}});\n",
              "\tviewergrid_16637646188875446[0][0].addModelsAsFrames(\"MODEL 0\\nHETATM    1 C    FRA A   0       0.000   0.000   0.000  1.00  0.00       B   C  \\nHETATM    2 H    FRA A   0       0.628   0.628   0.628  1.00  0.00       B   H  \\nHETATM    3 H    FRA A   0       0.628  -0.628  -0.628  1.00  0.00       B   H  \\nHETATM    4 H    FRA A   0      -0.628   0.628  -0.628  1.00  0.00       B   H  \\nHETATM    5 H    FRA A   0      -0.628  -0.628   0.628  1.00  0.00       B   H  \\nHETATM    6 C    FRA A   0      -2.675   0.655   0.000  1.00  0.00       B   C  \\nHETATM    7 F    FRA A   0      -2.675  -0.682   0.000  1.00  0.00       B   F  \\nHETATM    8 H    FRA A   0      -2.431   1.104   0.947  1.00  0.00       B   H  \\nHETATM    9 H    FRA A   0      -2.431   1.104  -0.947  1.00  0.00       B   H  \\nENDMDL\\n\",\"pdb\",{\"keepH\": \"true\"});\n",
              "\tviewergrid_16637646188875446[0][0].setStyle({\"model\": -1, \"serial\": 1},{\"sphere\": {\"scale\": 0.2, \"color\": \"#7F00FF\"}});\n",
              "\tviewergrid_16637646188875446[0][0].addModelsAsFrames(\"MODEL 0\\nHETATM    1 C    FRA A   0       0.000   0.000   0.000  1.00  0.00       B   C  \\nHETATM    2 H    FRA A   0       0.628   0.628   0.628  1.00  0.00       B   H  \\nHETATM    3 H    FRA A   0       0.628  -0.628  -0.628  1.00  0.00       B   H  \\nHETATM    4 H    FRA A   0      -0.628   0.628  -0.628  1.00  0.00       B   H  \\nHETATM    5 H    FRA A   0      -0.628  -0.628   0.628  1.00  0.00       B   H  \\nHETATM    6 C    FRA A   0      -2.675   0.655   0.000  1.00  0.00       B   C  \\nHETATM    7 F    FRA A   0      -2.675  -0.682   0.000  1.00  0.00       B   F  \\nHETATM    8 H    FRA A   0      -2.431   1.104   0.947  1.00  0.00       B   H  \\nHETATM    9 H    FRA A   0      -2.431   1.104  -0.947  1.00  0.00       B   H  \\nENDMDL\\n\",\"pdb\",{\"keepH\": \"true\"});\n",
              "\tviewergrid_16637646188875446[0][0].setStyle({\"model\": -1, \"serial\": 2},{\"sphere\": {\"scale\": 0.2, \"color\": \"#7F00FF\"}});\n",
              "\tviewergrid_16637646188875446[0][0].addModelsAsFrames(\"MODEL 0\\nHETATM    1 C    FRA A   0       0.000   0.000   0.000  1.00  0.00       B   C  \\nHETATM    2 H    FRA A   0       0.628   0.628   0.628  1.00  0.00       B   H  \\nHETATM    3 H    FRA A   0       0.628  -0.628  -0.628  1.00  0.00       B   H  \\nHETATM    4 H    FRA A   0      -0.628   0.628  -0.628  1.00  0.00       B   H  \\nHETATM    5 H    FRA A   0      -0.628  -0.628   0.628  1.00  0.00       B   H  \\nHETATM    6 C    FRA A   0      -2.675   0.655   0.000  1.00  0.00       B   C  \\nHETATM    7 F    FRA A   0      -2.675  -0.682   0.000  1.00  0.00       B   F  \\nHETATM    8 H    FRA A   0      -2.431   1.104   0.947  1.00  0.00       B   H  \\nHETATM    9 H    FRA A   0      -2.431   1.104  -0.947  1.00  0.00       B   H  \\nENDMDL\\n\",\"pdb\",{\"keepH\": \"true\"});\n",
              "\tviewergrid_16637646188875446[0][0].setStyle({\"model\": -1, \"serial\": 3},{\"sphere\": {\"scale\": 0.2, \"color\": \"#7F00FF\"}});\n",
              "\tviewergrid_16637646188875446[0][0].addModelsAsFrames(\"MODEL 0\\nHETATM    1 C    FRA A   0       0.000   0.000   0.000  1.00  0.00       B   C  \\nHETATM    2 H    FRA A   0       0.628   0.628   0.628  1.00  0.00       B   H  \\nHETATM    3 H    FRA A   0       0.628  -0.628  -0.628  1.00  0.00       B   H  \\nHETATM    4 H    FRA A   0      -0.628   0.628  -0.628  1.00  0.00       B   H  \\nHETATM    5 H    FRA A   0      -0.628  -0.628   0.628  1.00  0.00       B   H  \\nHETATM    6 C    FRA A   0      -2.675   0.655   0.000  1.00  0.00       B   C  \\nHETATM    7 F    FRA A   0      -2.675  -0.682   0.000  1.00  0.00       B   F  \\nHETATM    8 H    FRA A   0      -2.431   1.104   0.947  1.00  0.00       B   H  \\nHETATM    9 H    FRA A   0      -2.431   1.104  -0.947  1.00  0.00       B   H  \\nENDMDL\\n\",\"pdb\",{\"keepH\": \"true\"});\n",
              "\tviewergrid_16637646188875446[0][0].setStyle({\"model\": -1, \"serial\": 4},{\"sphere\": {\"scale\": 0.2, \"color\": \"#7F00FF\"}});\n",
              "\tviewergrid_16637646188875446[0][0].addModelsAsFrames(\"MODEL 0\\nHETATM    1 C    FRA A   0       0.000   0.000   0.000  1.00  0.00       B   C  \\nHETATM    2 H    FRA A   0       0.628   0.628   0.628  1.00  0.00       B   H  \\nHETATM    3 H    FRA A   0       0.628  -0.628  -0.628  1.00  0.00       B   H  \\nHETATM    4 H    FRA A   0      -0.628   0.628  -0.628  1.00  0.00       B   H  \\nHETATM    5 H    FRA A   0      -0.628  -0.628   0.628  1.00  0.00       B   H  \\nHETATM    6 C    FRA A   0      -2.675   0.655   0.000  1.00  0.00       B   C  \\nHETATM    7 F    FRA A   0      -2.675  -0.682   0.000  1.00  0.00       B   F  \\nHETATM    8 H    FRA A   0      -2.431   1.104   0.947  1.00  0.00       B   H  \\nHETATM    9 H    FRA A   0      -2.431   1.104  -0.947  1.00  0.00       B   H  \\nENDMDL\\n\",\"pdb\",{\"keepH\": \"true\"});\n",
              "\tviewergrid_16637646188875446[0][0].setStyle({\"model\": -1, \"serial\": 5},{\"sphere\": {\"scale\": 0.2, \"color\": \"#7F00FF\"}});\n",
              "\tviewergrid_16637646188875446[0][0].addModelsAsFrames(\"MODEL 0\\nHETATM    1 C    FRA A   0       0.000   0.000   0.000  1.00  0.00       B   C  \\nHETATM    2 H    FRA A   0       0.628   0.628   0.628  1.00  0.00       B   H  \\nHETATM    3 H    FRA A   0       0.628  -0.628  -0.628  1.00  0.00       B   H  \\nHETATM    4 H    FRA A   0      -0.628   0.628  -0.628  1.00  0.00       B   H  \\nHETATM    5 H    FRA A   0      -0.628  -0.628   0.628  1.00  0.00       B   H  \\nHETATM    6 C    FRA A   0      -2.675   0.655   0.000  1.00  0.00       B   C  \\nHETATM    7 F    FRA A   0      -2.675  -0.682   0.000  1.00  0.00       B   F  \\nHETATM    8 H    FRA A   0      -2.431   1.104   0.947  1.00  0.00       B   H  \\nHETATM    9 H    FRA A   0      -2.431   1.104  -0.947  1.00  0.00       B   H  \\nENDMDL\\n\",\"pdb\",{\"keepH\": \"true\"});\n",
              "\tviewergrid_16637646188875446[0][0].setStyle({\"model\": -1, \"serial\": 6},{\"sphere\": {\"scale\": 0.2, \"color\": \"#7F00FF\"}});\n",
              "\tviewergrid_16637646188875446[0][0].addModelsAsFrames(\"MODEL 0\\nHETATM    1 C    FRA A   0       0.000   0.000   0.000  1.00  0.00       B   C  \\nHETATM    2 H    FRA A   0       0.628   0.628   0.628  1.00  0.00       B   H  \\nHETATM    3 H    FRA A   0       0.628  -0.628  -0.628  1.00  0.00       B   H  \\nHETATM    4 H    FRA A   0      -0.628   0.628  -0.628  1.00  0.00       B   H  \\nHETATM    5 H    FRA A   0      -0.628  -0.628   0.628  1.00  0.00       B   H  \\nHETATM    6 C    FRA A   0      -2.675   0.655   0.000  1.00  0.00       B   C  \\nHETATM    7 F    FRA A   0      -2.675  -0.682   0.000  1.00  0.00       B   F  \\nHETATM    8 H    FRA A   0      -2.431   1.104   0.947  1.00  0.00       B   H  \\nHETATM    9 H    FRA A   0      -2.431   1.104  -0.947  1.00  0.00       B   H  \\nENDMDL\\n\",\"pdb\",{\"keepH\": \"true\"});\n",
              "\tviewergrid_16637646188875446[0][0].setStyle({\"model\": -1, \"serial\": 7},{\"sphere\": {\"scale\": 0.2, \"color\": \"#7F00FF\"}});\n",
              "\tviewergrid_16637646188875446[0][0].addModelsAsFrames(\"MODEL 0\\nHETATM    1 C    FRA A   0       0.000   0.000   0.000  1.00  0.00       B   C  \\nHETATM    2 H    FRA A   0       0.628   0.628   0.628  1.00  0.00       B   H  \\nHETATM    3 H    FRA A   0       0.628  -0.628  -0.628  1.00  0.00       B   H  \\nHETATM    4 H    FRA A   0      -0.628   0.628  -0.628  1.00  0.00       B   H  \\nHETATM    5 H    FRA A   0      -0.628  -0.628   0.628  1.00  0.00       B   H  \\nHETATM    6 C    FRA A   0      -2.675   0.655   0.000  1.00  0.00       B   C  \\nHETATM    7 F    FRA A   0      -2.675  -0.682   0.000  1.00  0.00       B   F  \\nHETATM    8 H    FRA A   0      -2.431   1.104   0.947  1.00  0.00       B   H  \\nHETATM    9 H    FRA A   0      -2.431   1.104  -0.947  1.00  0.00       B   H  \\nENDMDL\\n\",\"pdb\",{\"keepH\": \"true\"});\n",
              "\tviewergrid_16637646188875446[0][0].setStyle({\"model\": -1, \"serial\": 8},{\"sphere\": {\"scale\": 0.2, \"color\": \"#7F00FF\"}});\n",
              "\tviewergrid_16637646188875446[0][0].addModelsAsFrames(\"MODEL 0\\nHETATM    1 C    FRA A   0       0.000   0.000   0.000  1.00  0.00       B   C  \\nHETATM    2 H    FRA A   0       0.628   0.628   0.628  1.00  0.00       B   H  \\nHETATM    3 H    FRA A   0       0.628  -0.628  -0.628  1.00  0.00       B   H  \\nHETATM    4 H    FRA A   0      -0.628   0.628  -0.628  1.00  0.00       B   H  \\nHETATM    5 H    FRA A   0      -0.628  -0.628   0.628  1.00  0.00       B   H  \\nHETATM    6 C    FRA A   0      -2.675   0.655   0.000  1.00  0.00       B   C  \\nHETATM    7 F    FRA A   0      -2.675  -0.682   0.000  1.00  0.00       B   F  \\nHETATM    8 H    FRA A   0      -2.431   1.104   0.947  1.00  0.00       B   H  \\nHETATM    9 H    FRA A   0      -2.431   1.104  -0.947  1.00  0.00       B   H  \\nENDMDL\\n\",\"pdb\",{\"keepH\": \"true\"});\n",
              "\tviewergrid_16637646188875446[0][0].setStyle({\"model\": -1, \"serial\": 9},{\"sphere\": {\"scale\": 0.2, \"color\": \"#7F00FF\"}});\n",
              "\tviewergrid_16637646188875446[0][0].addUnitCell({\"model\": -1},{\"box\": {\"color\": \"black\"}, \"alabel\": \"\", \"blabel\": \"\", \"clabel\": \"\"});\n",
              "\tviewergrid_16637646188875446[0][0].zoomTo();\n",
              "viewergrid_16637646188875446[0][0].render();\n",
              "});\n",
              "</script>"
            ]
          },
          "metadata": {}
        },
        {
          "output_type": "execute_result",
          "data": {
            "text/plain": [
              "<BigDFT.Visualization.InlineVisualizer at 0x7fc0ebc9ff10>"
            ]
          },
          "metadata": {},
          "execution_count": 33
        }
      ],
      "source": [
        "with open('sys.xyz','r') as ifile:\n",
        "    sys_a = IO.read_xyz(ifile,fragmentation=\"single\")\n",
        "sys_a.display()"
      ]
    },
    {
      "cell_type": "code",
      "execution_count": null,
      "id": "355fdb13",
      "metadata": {
        "colab": {
          "base_uri": "https://localhost:8080/",
          "height": 335
        },
        "id": "355fdb13",
        "outputId": "830893e9-f6b2-4dbe-ba19-e70e079998c1"
      },
      "outputs": [
        {
          "output_type": "display_data",
          "data": {
            "application/3dmoljs_load.v0": "<div id=\"3dmolviewer_16637647326511998\"  style=\"position: relative; width: 400px; height: 300px\">\n        <p id=\"3dmolwarning_16637647326511998\" style=\"background-color:#ffcccc;color:black\">You appear to be running in JupyterLab (or JavaScript failed to load for some other reason).  You need to install the 3dmol extension: <br>\n        <tt>jupyter labextension install jupyterlab_3dmol</tt></p>\n        </div>\n<script>\n\nvar loadScriptAsync = function(uri){\n  return new Promise((resolve, reject) => {\n    var tag = document.createElement('script');\n    tag.src = uri;\n    tag.async = true;\n    tag.onload = () => {\n      resolve();\n    };\n  var firstScriptTag = document.getElementsByTagName('script')[0];\n  firstScriptTag.parentNode.insertBefore(tag, firstScriptTag);\n});\n};\n\nif(typeof $3Dmolpromise === 'undefined') {\n$3Dmolpromise = null;\n  $3Dmolpromise = loadScriptAsync('https://cdn.jsdelivr.net/npm/3dmol@latest/build/3Dmol-min.min.js');\n}\n\nvar viewer_16637647326511998 = null;\nvar warn = document.getElementById(\"3dmolwarning_16637647326511998\");\nif(warn) {\n    warn.parentNode.removeChild(warn);\n}\n$3Dmolpromise.then(function() {\nvar viewergrid_16637647326511998 = null;\nviewergrid_16637647326511998 = $3Dmol.createViewerGrid($(\"#3dmolviewer_16637647326511998\"),{rows: 1, cols: 1, control_all: false},{backgroundColor:\"white\"});\nviewer_16637647326511998 = viewergrid_16637647326511998[0][0];\nviewergrid_16637647326511998[0][0].zoomTo();\tviewergrid_16637647326511998[0][0].addModelsAsFrames(\"MODEL 0\\nHETATM    1 C    ATM A   0       0.000   0.000   0.000  1.00  0.00       B   C  \\nHETATM    2 H    ATM A   1       0.628   0.628   0.628  1.00  0.00       B   H  \\nHETATM    3 H    ATM A   2       0.628  -0.628  -0.628  1.00  0.00       B   H  \\nHETATM    4 H    ATM A   3      -0.628   0.628  -0.628  1.00  0.00       B   H  \\nHETATM    5 H    ATM A   4      -0.628  -0.628   0.628  1.00  0.00       B   H  \\nHETATM    6 C    ATM A   5      -2.675   0.655   0.000  1.00  0.00       B   C  \\nHETATM    7 F    ATM A   6      -2.675  -0.682   0.000  1.00  0.00       B   F  \\nHETATM    8 H    ATM A   7      -2.431   1.104   0.947  1.00  0.00       B   H  \\nHETATM    9 H    ATM A   8      -2.431   1.104  -0.947  1.00  0.00       B   H  \\nENDMDL\\n\",\"pdb\",{\"keepH\": \"true\"});\n\tviewergrid_16637647326511998[0][0].setStyle({\"model\": -1},{\"line\": {\"color\": \"black\"}});\n\tviewergrid_16637647326511998[0][0].addModelsAsFrames(\"MODEL 0\\nHETATM    1 C    ATM A   0       0.000   0.000   0.000  1.00  0.00       B   C  \\nHETATM    2 H    ATM A   1       0.628   0.628   0.628  1.00  0.00       B   H  \\nHETATM    3 H    ATM A   2       0.628  -0.628  -0.628  1.00  0.00       B   H  \\nHETATM    4 H    ATM A   3      -0.628   0.628  -0.628  1.00  0.00       B   H  \\nHETATM    5 H    ATM A   4      -0.628  -0.628   0.628  1.00  0.00       B   H  \\nHETATM    6 C    ATM A   5      -2.675   0.655   0.000  1.00  0.00       B   C  \\nHETATM    7 F    ATM A   6      -2.675  -0.682   0.000  1.00  0.00       B   F  \\nHETATM    8 H    ATM A   7      -2.431   1.104   0.947  1.00  0.00       B   H  \\nHETATM    9 H    ATM A   8      -2.431   1.104  -0.947  1.00  0.00       B   H  \\nENDMDL\\n\",\"pdb\",{\"keepH\": \"true\"});\n\tviewergrid_16637647326511998[0][0].setStyle({\"model\": -1, \"serial\": 1},{\"sphere\": {\"scale\": 0.2, \"color\": \"#FF5F30\"}});\n\tviewergrid_16637647326511998[0][0].addModelsAsFrames(\"MODEL 0\\nHETATM    1 C    ATM A   0       0.000   0.000   0.000  1.00  0.00       B   C  \\nHETATM    2 H    ATM A   1       0.628   0.628   0.628  1.00  0.00       B   H  \\nHETATM    3 H    ATM A   2       0.628  -0.628  -0.628  1.00  0.00       B   H  \\nHETATM    4 H    ATM A   3      -0.628   0.628  -0.628  1.00  0.00       B   H  \\nHETATM    5 H    ATM A   4      -0.628  -0.628   0.628  1.00  0.00       B   H  \\nHETATM    6 C    ATM A   5      -2.675   0.655   0.000  1.00  0.00       B   C  \\nHETATM    7 F    ATM A   6      -2.675  -0.682   0.000  1.00  0.00       B   F  \\nHETATM    8 H    ATM A   7      -2.431   1.104   0.947  1.00  0.00       B   H  \\nHETATM    9 H    ATM A   8      -2.431   1.104  -0.947  1.00  0.00       B   H  \\nENDMDL\\n\",\"pdb\",{\"keepH\": \"true\"});\n\tviewergrid_16637647326511998[0][0].setStyle({\"model\": -1},{\"line\": {\"color\": \"black\"}});\n\tviewergrid_16637647326511998[0][0].addModelsAsFrames(\"MODEL 0\\nHETATM    1 C    ATM A   0       0.000   0.000   0.000  1.00  0.00       B   C  \\nHETATM    2 H    ATM A   1       0.628   0.628   0.628  1.00  0.00       B   H  \\nHETATM    3 H    ATM A   2       0.628  -0.628  -0.628  1.00  0.00       B   H  \\nHETATM    4 H    ATM A   3      -0.628   0.628  -0.628  1.00  0.00       B   H  \\nHETATM    5 H    ATM A   4      -0.628  -0.628   0.628  1.00  0.00       B   H  \\nHETATM    6 C    ATM A   5      -2.675   0.655   0.000  1.00  0.00       B   C  \\nHETATM    7 F    ATM A   6      -2.675  -0.682   0.000  1.00  0.00       B   F  \\nHETATM    8 H    ATM A   7      -2.431   1.104   0.947  1.00  0.00       B   H  \\nHETATM    9 H    ATM A   8      -2.431   1.104  -0.947  1.00  0.00       B   H  \\nENDMDL\\n\",\"pdb\",{\"keepH\": \"true\"});\n\tviewergrid_16637647326511998[0][0].setStyle({\"model\": -1, \"serial\": 2},{\"sphere\": {\"scale\": 0.2, \"color\": \"#3F61FA\"}});\n\tviewergrid_16637647326511998[0][0].addModelsAsFrames(\"MODEL 0\\nHETATM    1 C    ATM A   0       0.000   0.000   0.000  1.00  0.00       B   C  \\nHETATM    2 H    ATM A   1       0.628   0.628   0.628  1.00  0.00       B   H  \\nHETATM    3 H    ATM A   2       0.628  -0.628  -0.628  1.00  0.00       B   H  \\nHETATM    4 H    ATM A   3      -0.628   0.628  -0.628  1.00  0.00       B   H  \\nHETATM    5 H    ATM A   4      -0.628  -0.628   0.628  1.00  0.00       B   H  \\nHETATM    6 C    ATM A   5      -2.675   0.655   0.000  1.00  0.00       B   C  \\nHETATM    7 F    ATM A   6      -2.675  -0.682   0.000  1.00  0.00       B   F  \\nHETATM    8 H    ATM A   7      -2.431   1.104   0.947  1.00  0.00       B   H  \\nHETATM    9 H    ATM A   8      -2.431   1.104  -0.947  1.00  0.00       B   H  \\nENDMDL\\n\",\"pdb\",{\"keepH\": \"true\"});\n\tviewergrid_16637647326511998[0][0].setStyle({\"model\": -1},{\"line\": {\"color\": \"black\"}});\n\tviewergrid_16637647326511998[0][0].addModelsAsFrames(\"MODEL 0\\nHETATM    1 C    ATM A   0       0.000   0.000   0.000  1.00  0.00       B   C  \\nHETATM    2 H    ATM A   1       0.628   0.628   0.628  1.00  0.00       B   H  \\nHETATM    3 H    ATM A   2       0.628  -0.628  -0.628  1.00  0.00       B   H  \\nHETATM    4 H    ATM A   3      -0.628   0.628  -0.628  1.00  0.00       B   H  \\nHETATM    5 H    ATM A   4      -0.628  -0.628   0.628  1.00  0.00       B   H  \\nHETATM    6 C    ATM A   5      -2.675   0.655   0.000  1.00  0.00       B   C  \\nHETATM    7 F    ATM A   6      -2.675  -0.682   0.000  1.00  0.00       B   F  \\nHETATM    8 H    ATM A   7      -2.431   1.104   0.947  1.00  0.00       B   H  \\nHETATM    9 H    ATM A   8      -2.431   1.104  -0.947  1.00  0.00       B   H  \\nENDMDL\\n\",\"pdb\",{\"keepH\": \"true\"});\n\tviewergrid_16637647326511998[0][0].setStyle({\"model\": -1, \"serial\": 3},{\"sphere\": {\"scale\": 0.2, \"color\": \"#FF0000\"}});\n\tviewergrid_16637647326511998[0][0].addModelsAsFrames(\"MODEL 0\\nHETATM    1 C    ATM A   0       0.000   0.000   0.000  1.00  0.00       B   C  \\nHETATM    2 H    ATM A   1       0.628   0.628   0.628  1.00  0.00       B   H  \\nHETATM    3 H    ATM A   2       0.628  -0.628  -0.628  1.00  0.00       B   H  \\nHETATM    4 H    ATM A   3      -0.628   0.628  -0.628  1.00  0.00       B   H  \\nHETATM    5 H    ATM A   4      -0.628  -0.628   0.628  1.00  0.00       B   H  \\nHETATM    6 C    ATM A   5      -2.675   0.655   0.000  1.00  0.00       B   C  \\nHETATM    7 F    ATM A   6      -2.675  -0.682   0.000  1.00  0.00       B   F  \\nHETATM    8 H    ATM A   7      -2.431   1.104   0.947  1.00  0.00       B   H  \\nHETATM    9 H    ATM A   8      -2.431   1.104  -0.947  1.00  0.00       B   H  \\nENDMDL\\n\",\"pdb\",{\"keepH\": \"true\"});\n\tviewergrid_16637647326511998[0][0].setStyle({\"model\": -1},{\"line\": {\"color\": \"black\"}});\n\tviewergrid_16637647326511998[0][0].addModelsAsFrames(\"MODEL 0\\nHETATM    1 C    ATM A   0       0.000   0.000   0.000  1.00  0.00       B   C  \\nHETATM    2 H    ATM A   1       0.628   0.628   0.628  1.00  0.00       B   H  \\nHETATM    3 H    ATM A   2       0.628  -0.628  -0.628  1.00  0.00       B   H  \\nHETATM    4 H    ATM A   3      -0.628   0.628  -0.628  1.00  0.00       B   H  \\nHETATM    5 H    ATM A   4      -0.628  -0.628   0.628  1.00  0.00       B   H  \\nHETATM    6 C    ATM A   5      -2.675   0.655   0.000  1.00  0.00       B   C  \\nHETATM    7 F    ATM A   6      -2.675  -0.682   0.000  1.00  0.00       B   F  \\nHETATM    8 H    ATM A   7      -2.431   1.104   0.947  1.00  0.00       B   H  \\nHETATM    9 H    ATM A   8      -2.431   1.104  -0.947  1.00  0.00       B   H  \\nENDMDL\\n\",\"pdb\",{\"keepH\": \"true\"});\n\tviewergrid_16637647326511998[0][0].setStyle({\"model\": -1, \"serial\": 4},{\"sphere\": {\"scale\": 0.2, \"color\": \"#00B4EB\"}});\n\tviewergrid_16637647326511998[0][0].addModelsAsFrames(\"MODEL 0\\nHETATM    1 C    ATM A   0       0.000   0.000   0.000  1.00  0.00       B   C  \\nHETATM    2 H    ATM A   1       0.628   0.628   0.628  1.00  0.00       B   H  \\nHETATM    3 H    ATM A   2       0.628  -0.628  -0.628  1.00  0.00       B   H  \\nHETATM    4 H    ATM A   3      -0.628   0.628  -0.628  1.00  0.00       B   H  \\nHETATM    5 H    ATM A   4      -0.628  -0.628   0.628  1.00  0.00       B   H  \\nHETATM    6 C    ATM A   5      -2.675   0.655   0.000  1.00  0.00       B   C  \\nHETATM    7 F    ATM A   6      -2.675  -0.682   0.000  1.00  0.00       B   F  \\nHETATM    8 H    ATM A   7      -2.431   1.104   0.947  1.00  0.00       B   H  \\nHETATM    9 H    ATM A   8      -2.431   1.104  -0.947  1.00  0.00       B   H  \\nENDMDL\\n\",\"pdb\",{\"keepH\": \"true\"});\n\tviewergrid_16637647326511998[0][0].setStyle({\"model\": -1},{\"line\": {\"color\": \"black\"}});\n\tviewergrid_16637647326511998[0][0].addModelsAsFrames(\"MODEL 0\\nHETATM    1 C    ATM A   0       0.000   0.000   0.000  1.00  0.00       B   C  \\nHETATM    2 H    ATM A   1       0.628   0.628   0.628  1.00  0.00       B   H  \\nHETATM    3 H    ATM A   2       0.628  -0.628  -0.628  1.00  0.00       B   H  \\nHETATM    4 H    ATM A   3      -0.628   0.628  -0.628  1.00  0.00       B   H  \\nHETATM    5 H    ATM A   4      -0.628  -0.628   0.628  1.00  0.00       B   H  \\nHETATM    6 C    ATM A   5      -2.675   0.655   0.000  1.00  0.00       B   C  \\nHETATM    7 F    ATM A   6      -2.675  -0.682   0.000  1.00  0.00       B   F  \\nHETATM    8 H    ATM A   7      -2.431   1.104   0.947  1.00  0.00       B   H  \\nHETATM    9 H    ATM A   8      -2.431   1.104  -0.947  1.00  0.00       B   H  \\nENDMDL\\n\",\"pdb\",{\"keepH\": \"true\"});\n\tviewergrid_16637647326511998[0][0].setStyle({\"model\": -1, \"serial\": 5},{\"sphere\": {\"scale\": 0.2, \"color\": \"#80FEB3\"}});\n\tviewergrid_16637647326511998[0][0].addModelsAsFrames(\"MODEL 0\\nHETATM    1 C    ATM A   0       0.000   0.000   0.000  1.00  0.00       B   C  \\nHETATM    2 H    ATM A   1       0.628   0.628   0.628  1.00  0.00       B   H  \\nHETATM    3 H    ATM A   2       0.628  -0.628  -0.628  1.00  0.00       B   H  \\nHETATM    4 H    ATM A   3      -0.628   0.628  -0.628  1.00  0.00       B   H  \\nHETATM    5 H    ATM A   4      -0.628  -0.628   0.628  1.00  0.00       B   H  \\nHETATM    6 C    ATM A   5      -2.675   0.655   0.000  1.00  0.00       B   C  \\nHETATM    7 F    ATM A   6      -2.675  -0.682   0.000  1.00  0.00       B   F  \\nHETATM    8 H    ATM A   7      -2.431   1.104   0.947  1.00  0.00       B   H  \\nHETATM    9 H    ATM A   8      -2.431   1.104  -0.947  1.00  0.00       B   H  \\nENDMDL\\n\",\"pdb\",{\"keepH\": \"true\"});\n\tviewergrid_16637647326511998[0][0].setStyle({\"model\": -1},{\"line\": {\"color\": \"black\"}});\n\tviewergrid_16637647326511998[0][0].addModelsAsFrames(\"MODEL 0\\nHETATM    1 C    ATM A   0       0.000   0.000   0.000  1.00  0.00       B   C  \\nHETATM    2 H    ATM A   1       0.628   0.628   0.628  1.00  0.00       B   H  \\nHETATM    3 H    ATM A   2       0.628  -0.628  -0.628  1.00  0.00       B   H  \\nHETATM    4 H    ATM A   3      -0.628   0.628  -0.628  1.00  0.00       B   H  \\nHETATM    5 H    ATM A   4      -0.628  -0.628   0.628  1.00  0.00       B   H  \\nHETATM    6 C    ATM A   5      -2.675   0.655   0.000  1.00  0.00       B   C  \\nHETATM    7 F    ATM A   6      -2.675  -0.682   0.000  1.00  0.00       B   F  \\nHETATM    8 H    ATM A   7      -2.431   1.104   0.947  1.00  0.00       B   H  \\nHETATM    9 H    ATM A   8      -2.431   1.104  -0.947  1.00  0.00       B   H  \\nENDMDL\\n\",\"pdb\",{\"keepH\": \"true\"});\n\tviewergrid_16637647326511998[0][0].setStyle({\"model\": -1, \"serial\": 6},{\"sphere\": {\"scale\": 0.2, \"color\": \"#FFB260\"}});\n\tviewergrid_16637647326511998[0][0].addModelsAsFrames(\"MODEL 0\\nHETATM    1 C    ATM A   0       0.000   0.000   0.000  1.00  0.00       B   C  \\nHETATM    2 H    ATM A   1       0.628   0.628   0.628  1.00  0.00       B   H  \\nHETATM    3 H    ATM A   2       0.628  -0.628  -0.628  1.00  0.00       B   H  \\nHETATM    4 H    ATM A   3      -0.628   0.628  -0.628  1.00  0.00       B   H  \\nHETATM    5 H    ATM A   4      -0.628  -0.628   0.628  1.00  0.00       B   H  \\nHETATM    6 C    ATM A   5      -2.675   0.655   0.000  1.00  0.00       B   C  \\nHETATM    7 F    ATM A   6      -2.675  -0.682   0.000  1.00  0.00       B   F  \\nHETATM    8 H    ATM A   7      -2.431   1.104   0.947  1.00  0.00       B   H  \\nHETATM    9 H    ATM A   8      -2.431   1.104  -0.947  1.00  0.00       B   H  \\nENDMDL\\n\",\"pdb\",{\"keepH\": \"true\"});\n\tviewergrid_16637647326511998[0][0].setStyle({\"model\": -1},{\"line\": {\"color\": \"black\"}});\n\tviewergrid_16637647326511998[0][0].addModelsAsFrames(\"MODEL 0\\nHETATM    1 C    ATM A   0       0.000   0.000   0.000  1.00  0.00       B   C  \\nHETATM    2 H    ATM A   1       0.628   0.628   0.628  1.00  0.00       B   H  \\nHETATM    3 H    ATM A   2       0.628  -0.628  -0.628  1.00  0.00       B   H  \\nHETATM    4 H    ATM A   3      -0.628   0.628  -0.628  1.00  0.00       B   H  \\nHETATM    5 H    ATM A   4      -0.628  -0.628   0.628  1.00  0.00       B   H  \\nHETATM    6 C    ATM A   5      -2.675   0.655   0.000  1.00  0.00       B   C  \\nHETATM    7 F    ATM A   6      -2.675  -0.682   0.000  1.00  0.00       B   F  \\nHETATM    8 H    ATM A   7      -2.431   1.104   0.947  1.00  0.00       B   H  \\nHETATM    9 H    ATM A   8      -2.431   1.104  -0.947  1.00  0.00       B   H  \\nENDMDL\\n\",\"pdb\",{\"keepH\": \"true\"});\n\tviewergrid_16637647326511998[0][0].setStyle({\"model\": -1, \"serial\": 7},{\"sphere\": {\"scale\": 0.2, \"color\": \"#40ECD3\"}});\n\tviewergrid_16637647326511998[0][0].addModelsAsFrames(\"MODEL 0\\nHETATM    1 C    ATM A   0       0.000   0.000   0.000  1.00  0.00       B   C  \\nHETATM    2 H    ATM A   1       0.628   0.628   0.628  1.00  0.00       B   H  \\nHETATM    3 H    ATM A   2       0.628  -0.628  -0.628  1.00  0.00       B   H  \\nHETATM    4 H    ATM A   3      -0.628   0.628  -0.628  1.00  0.00       B   H  \\nHETATM    5 H    ATM A   4      -0.628  -0.628   0.628  1.00  0.00       B   H  \\nHETATM    6 C    ATM A   5      -2.675   0.655   0.000  1.00  0.00       B   C  \\nHETATM    7 F    ATM A   6      -2.675  -0.682   0.000  1.00  0.00       B   F  \\nHETATM    8 H    ATM A   7      -2.431   1.104   0.947  1.00  0.00       B   H  \\nHETATM    9 H    ATM A   8      -2.431   1.104  -0.947  1.00  0.00       B   H  \\nENDMDL\\n\",\"pdb\",{\"keepH\": \"true\"});\n\tviewergrid_16637647326511998[0][0].setStyle({\"model\": -1},{\"line\": {\"color\": \"black\"}});\n\tviewergrid_16637647326511998[0][0].addModelsAsFrames(\"MODEL 0\\nHETATM    1 C    ATM A   0       0.000   0.000   0.000  1.00  0.00       B   C  \\nHETATM    2 H    ATM A   1       0.628   0.628   0.628  1.00  0.00       B   H  \\nHETATM    3 H    ATM A   2       0.628  -0.628  -0.628  1.00  0.00       B   H  \\nHETATM    4 H    ATM A   3      -0.628   0.628  -0.628  1.00  0.00       B   H  \\nHETATM    5 H    ATM A   4      -0.628  -0.628   0.628  1.00  0.00       B   H  \\nHETATM    6 C    ATM A   5      -2.675   0.655   0.000  1.00  0.00       B   C  \\nHETATM    7 F    ATM A   6      -2.675  -0.682   0.000  1.00  0.00       B   F  \\nHETATM    8 H    ATM A   7      -2.431   1.104   0.947  1.00  0.00       B   H  \\nHETATM    9 H    ATM A   8      -2.431   1.104  -0.947  1.00  0.00       B   H  \\nENDMDL\\n\",\"pdb\",{\"keepH\": \"true\"});\n\tviewergrid_16637647326511998[0][0].setStyle({\"model\": -1, \"serial\": 8},{\"sphere\": {\"scale\": 0.2, \"color\": \"#C0EA8C\"}});\n\tviewergrid_16637647326511998[0][0].addModelsAsFrames(\"MODEL 0\\nHETATM    1 C    ATM A   0       0.000   0.000   0.000  1.00  0.00       B   C  \\nHETATM    2 H    ATM A   1       0.628   0.628   0.628  1.00  0.00       B   H  \\nHETATM    3 H    ATM A   2       0.628  -0.628  -0.628  1.00  0.00       B   H  \\nHETATM    4 H    ATM A   3      -0.628   0.628  -0.628  1.00  0.00       B   H  \\nHETATM    5 H    ATM A   4      -0.628  -0.628   0.628  1.00  0.00       B   H  \\nHETATM    6 C    ATM A   5      -2.675   0.655   0.000  1.00  0.00       B   C  \\nHETATM    7 F    ATM A   6      -2.675  -0.682   0.000  1.00  0.00       B   F  \\nHETATM    8 H    ATM A   7      -2.431   1.104   0.947  1.00  0.00       B   H  \\nHETATM    9 H    ATM A   8      -2.431   1.104  -0.947  1.00  0.00       B   H  \\nENDMDL\\n\",\"pdb\",{\"keepH\": \"true\"});\n\tviewergrid_16637647326511998[0][0].setStyle({\"model\": -1},{\"line\": {\"color\": \"black\"}});\n\tviewergrid_16637647326511998[0][0].addModelsAsFrames(\"MODEL 0\\nHETATM    1 C    ATM A   0       0.000   0.000   0.000  1.00  0.00       B   C  \\nHETATM    2 H    ATM A   1       0.628   0.628   0.628  1.00  0.00       B   H  \\nHETATM    3 H    ATM A   2       0.628  -0.628  -0.628  1.00  0.00       B   H  \\nHETATM    4 H    ATM A   3      -0.628   0.628  -0.628  1.00  0.00       B   H  \\nHETATM    5 H    ATM A   4      -0.628  -0.628   0.628  1.00  0.00       B   H  \\nHETATM    6 C    ATM A   5      -2.675   0.655   0.000  1.00  0.00       B   C  \\nHETATM    7 F    ATM A   6      -2.675  -0.682   0.000  1.00  0.00       B   F  \\nHETATM    8 H    ATM A   7      -2.431   1.104   0.947  1.00  0.00       B   H  \\nHETATM    9 H    ATM A   8      -2.431   1.104  -0.947  1.00  0.00       B   H  \\nENDMDL\\n\",\"pdb\",{\"keepH\": \"true\"});\n\tviewergrid_16637647326511998[0][0].setStyle({\"model\": -1, \"serial\": 9},{\"sphere\": {\"scale\": 0.2, \"color\": \"#7F00FF\"}});\n\tviewergrid_16637647326511998[0][0].addUnitCell({\"model\": -1},{\"box\": {\"color\": \"black\"}, \"alabel\": \"\", \"blabel\": \"\", \"clabel\": \"\"});\n\tviewergrid_16637647326511998[0][0].zoomTo();\nviewergrid_16637647326511998[0][0].render();\n});\n</script>",
            "text/html": [
              "<div id=\"3dmolviewer_16637647326511998\"  style=\"position: relative; width: 400px; height: 300px\">\n",
              "        <p id=\"3dmolwarning_16637647326511998\" style=\"background-color:#ffcccc;color:black\">You appear to be running in JupyterLab (or JavaScript failed to load for some other reason).  You need to install the 3dmol extension: <br>\n",
              "        <tt>jupyter labextension install jupyterlab_3dmol</tt></p>\n",
              "        </div>\n",
              "<script>\n",
              "\n",
              "var loadScriptAsync = function(uri){\n",
              "  return new Promise((resolve, reject) => {\n",
              "    var tag = document.createElement('script');\n",
              "    tag.src = uri;\n",
              "    tag.async = true;\n",
              "    tag.onload = () => {\n",
              "      resolve();\n",
              "    };\n",
              "  var firstScriptTag = document.getElementsByTagName('script')[0];\n",
              "  firstScriptTag.parentNode.insertBefore(tag, firstScriptTag);\n",
              "});\n",
              "};\n",
              "\n",
              "if(typeof $3Dmolpromise === 'undefined') {\n",
              "$3Dmolpromise = null;\n",
              "  $3Dmolpromise = loadScriptAsync('https://cdn.jsdelivr.net/npm/3dmol@latest/build/3Dmol-min.min.js');\n",
              "}\n",
              "\n",
              "var viewer_16637647326511998 = null;\n",
              "var warn = document.getElementById(\"3dmolwarning_16637647326511998\");\n",
              "if(warn) {\n",
              "    warn.parentNode.removeChild(warn);\n",
              "}\n",
              "$3Dmolpromise.then(function() {\n",
              "var viewergrid_16637647326511998 = null;\n",
              "viewergrid_16637647326511998 = $3Dmol.createViewerGrid($(\"#3dmolviewer_16637647326511998\"),{rows: 1, cols: 1, control_all: false},{backgroundColor:\"white\"});\n",
              "viewer_16637647326511998 = viewergrid_16637647326511998[0][0];\n",
              "viewergrid_16637647326511998[0][0].zoomTo();\tviewergrid_16637647326511998[0][0].addModelsAsFrames(\"MODEL 0\\nHETATM    1 C    ATM A   0       0.000   0.000   0.000  1.00  0.00       B   C  \\nHETATM    2 H    ATM A   1       0.628   0.628   0.628  1.00  0.00       B   H  \\nHETATM    3 H    ATM A   2       0.628  -0.628  -0.628  1.00  0.00       B   H  \\nHETATM    4 H    ATM A   3      -0.628   0.628  -0.628  1.00  0.00       B   H  \\nHETATM    5 H    ATM A   4      -0.628  -0.628   0.628  1.00  0.00       B   H  \\nHETATM    6 C    ATM A   5      -2.675   0.655   0.000  1.00  0.00       B   C  \\nHETATM    7 F    ATM A   6      -2.675  -0.682   0.000  1.00  0.00       B   F  \\nHETATM    8 H    ATM A   7      -2.431   1.104   0.947  1.00  0.00       B   H  \\nHETATM    9 H    ATM A   8      -2.431   1.104  -0.947  1.00  0.00       B   H  \\nENDMDL\\n\",\"pdb\",{\"keepH\": \"true\"});\n",
              "\tviewergrid_16637647326511998[0][0].setStyle({\"model\": -1},{\"line\": {\"color\": \"black\"}});\n",
              "\tviewergrid_16637647326511998[0][0].addModelsAsFrames(\"MODEL 0\\nHETATM    1 C    ATM A   0       0.000   0.000   0.000  1.00  0.00       B   C  \\nHETATM    2 H    ATM A   1       0.628   0.628   0.628  1.00  0.00       B   H  \\nHETATM    3 H    ATM A   2       0.628  -0.628  -0.628  1.00  0.00       B   H  \\nHETATM    4 H    ATM A   3      -0.628   0.628  -0.628  1.00  0.00       B   H  \\nHETATM    5 H    ATM A   4      -0.628  -0.628   0.628  1.00  0.00       B   H  \\nHETATM    6 C    ATM A   5      -2.675   0.655   0.000  1.00  0.00       B   C  \\nHETATM    7 F    ATM A   6      -2.675  -0.682   0.000  1.00  0.00       B   F  \\nHETATM    8 H    ATM A   7      -2.431   1.104   0.947  1.00  0.00       B   H  \\nHETATM    9 H    ATM A   8      -2.431   1.104  -0.947  1.00  0.00       B   H  \\nENDMDL\\n\",\"pdb\",{\"keepH\": \"true\"});\n",
              "\tviewergrid_16637647326511998[0][0].setStyle({\"model\": -1, \"serial\": 1},{\"sphere\": {\"scale\": 0.2, \"color\": \"#FF5F30\"}});\n",
              "\tviewergrid_16637647326511998[0][0].addModelsAsFrames(\"MODEL 0\\nHETATM    1 C    ATM A   0       0.000   0.000   0.000  1.00  0.00       B   C  \\nHETATM    2 H    ATM A   1       0.628   0.628   0.628  1.00  0.00       B   H  \\nHETATM    3 H    ATM A   2       0.628  -0.628  -0.628  1.00  0.00       B   H  \\nHETATM    4 H    ATM A   3      -0.628   0.628  -0.628  1.00  0.00       B   H  \\nHETATM    5 H    ATM A   4      -0.628  -0.628   0.628  1.00  0.00       B   H  \\nHETATM    6 C    ATM A   5      -2.675   0.655   0.000  1.00  0.00       B   C  \\nHETATM    7 F    ATM A   6      -2.675  -0.682   0.000  1.00  0.00       B   F  \\nHETATM    8 H    ATM A   7      -2.431   1.104   0.947  1.00  0.00       B   H  \\nHETATM    9 H    ATM A   8      -2.431   1.104  -0.947  1.00  0.00       B   H  \\nENDMDL\\n\",\"pdb\",{\"keepH\": \"true\"});\n",
              "\tviewergrid_16637647326511998[0][0].setStyle({\"model\": -1},{\"line\": {\"color\": \"black\"}});\n",
              "\tviewergrid_16637647326511998[0][0].addModelsAsFrames(\"MODEL 0\\nHETATM    1 C    ATM A   0       0.000   0.000   0.000  1.00  0.00       B   C  \\nHETATM    2 H    ATM A   1       0.628   0.628   0.628  1.00  0.00       B   H  \\nHETATM    3 H    ATM A   2       0.628  -0.628  -0.628  1.00  0.00       B   H  \\nHETATM    4 H    ATM A   3      -0.628   0.628  -0.628  1.00  0.00       B   H  \\nHETATM    5 H    ATM A   4      -0.628  -0.628   0.628  1.00  0.00       B   H  \\nHETATM    6 C    ATM A   5      -2.675   0.655   0.000  1.00  0.00       B   C  \\nHETATM    7 F    ATM A   6      -2.675  -0.682   0.000  1.00  0.00       B   F  \\nHETATM    8 H    ATM A   7      -2.431   1.104   0.947  1.00  0.00       B   H  \\nHETATM    9 H    ATM A   8      -2.431   1.104  -0.947  1.00  0.00       B   H  \\nENDMDL\\n\",\"pdb\",{\"keepH\": \"true\"});\n",
              "\tviewergrid_16637647326511998[0][0].setStyle({\"model\": -1, \"serial\": 2},{\"sphere\": {\"scale\": 0.2, \"color\": \"#3F61FA\"}});\n",
              "\tviewergrid_16637647326511998[0][0].addModelsAsFrames(\"MODEL 0\\nHETATM    1 C    ATM A   0       0.000   0.000   0.000  1.00  0.00       B   C  \\nHETATM    2 H    ATM A   1       0.628   0.628   0.628  1.00  0.00       B   H  \\nHETATM    3 H    ATM A   2       0.628  -0.628  -0.628  1.00  0.00       B   H  \\nHETATM    4 H    ATM A   3      -0.628   0.628  -0.628  1.00  0.00       B   H  \\nHETATM    5 H    ATM A   4      -0.628  -0.628   0.628  1.00  0.00       B   H  \\nHETATM    6 C    ATM A   5      -2.675   0.655   0.000  1.00  0.00       B   C  \\nHETATM    7 F    ATM A   6      -2.675  -0.682   0.000  1.00  0.00       B   F  \\nHETATM    8 H    ATM A   7      -2.431   1.104   0.947  1.00  0.00       B   H  \\nHETATM    9 H    ATM A   8      -2.431   1.104  -0.947  1.00  0.00       B   H  \\nENDMDL\\n\",\"pdb\",{\"keepH\": \"true\"});\n",
              "\tviewergrid_16637647326511998[0][0].setStyle({\"model\": -1},{\"line\": {\"color\": \"black\"}});\n",
              "\tviewergrid_16637647326511998[0][0].addModelsAsFrames(\"MODEL 0\\nHETATM    1 C    ATM A   0       0.000   0.000   0.000  1.00  0.00       B   C  \\nHETATM    2 H    ATM A   1       0.628   0.628   0.628  1.00  0.00       B   H  \\nHETATM    3 H    ATM A   2       0.628  -0.628  -0.628  1.00  0.00       B   H  \\nHETATM    4 H    ATM A   3      -0.628   0.628  -0.628  1.00  0.00       B   H  \\nHETATM    5 H    ATM A   4      -0.628  -0.628   0.628  1.00  0.00       B   H  \\nHETATM    6 C    ATM A   5      -2.675   0.655   0.000  1.00  0.00       B   C  \\nHETATM    7 F    ATM A   6      -2.675  -0.682   0.000  1.00  0.00       B   F  \\nHETATM    8 H    ATM A   7      -2.431   1.104   0.947  1.00  0.00       B   H  \\nHETATM    9 H    ATM A   8      -2.431   1.104  -0.947  1.00  0.00       B   H  \\nENDMDL\\n\",\"pdb\",{\"keepH\": \"true\"});\n",
              "\tviewergrid_16637647326511998[0][0].setStyle({\"model\": -1, \"serial\": 3},{\"sphere\": {\"scale\": 0.2, \"color\": \"#FF0000\"}});\n",
              "\tviewergrid_16637647326511998[0][0].addModelsAsFrames(\"MODEL 0\\nHETATM    1 C    ATM A   0       0.000   0.000   0.000  1.00  0.00       B   C  \\nHETATM    2 H    ATM A   1       0.628   0.628   0.628  1.00  0.00       B   H  \\nHETATM    3 H    ATM A   2       0.628  -0.628  -0.628  1.00  0.00       B   H  \\nHETATM    4 H    ATM A   3      -0.628   0.628  -0.628  1.00  0.00       B   H  \\nHETATM    5 H    ATM A   4      -0.628  -0.628   0.628  1.00  0.00       B   H  \\nHETATM    6 C    ATM A   5      -2.675   0.655   0.000  1.00  0.00       B   C  \\nHETATM    7 F    ATM A   6      -2.675  -0.682   0.000  1.00  0.00       B   F  \\nHETATM    8 H    ATM A   7      -2.431   1.104   0.947  1.00  0.00       B   H  \\nHETATM    9 H    ATM A   8      -2.431   1.104  -0.947  1.00  0.00       B   H  \\nENDMDL\\n\",\"pdb\",{\"keepH\": \"true\"});\n",
              "\tviewergrid_16637647326511998[0][0].setStyle({\"model\": -1},{\"line\": {\"color\": \"black\"}});\n",
              "\tviewergrid_16637647326511998[0][0].addModelsAsFrames(\"MODEL 0\\nHETATM    1 C    ATM A   0       0.000   0.000   0.000  1.00  0.00       B   C  \\nHETATM    2 H    ATM A   1       0.628   0.628   0.628  1.00  0.00       B   H  \\nHETATM    3 H    ATM A   2       0.628  -0.628  -0.628  1.00  0.00       B   H  \\nHETATM    4 H    ATM A   3      -0.628   0.628  -0.628  1.00  0.00       B   H  \\nHETATM    5 H    ATM A   4      -0.628  -0.628   0.628  1.00  0.00       B   H  \\nHETATM    6 C    ATM A   5      -2.675   0.655   0.000  1.00  0.00       B   C  \\nHETATM    7 F    ATM A   6      -2.675  -0.682   0.000  1.00  0.00       B   F  \\nHETATM    8 H    ATM A   7      -2.431   1.104   0.947  1.00  0.00       B   H  \\nHETATM    9 H    ATM A   8      -2.431   1.104  -0.947  1.00  0.00       B   H  \\nENDMDL\\n\",\"pdb\",{\"keepH\": \"true\"});\n",
              "\tviewergrid_16637647326511998[0][0].setStyle({\"model\": -1, \"serial\": 4},{\"sphere\": {\"scale\": 0.2, \"color\": \"#00B4EB\"}});\n",
              "\tviewergrid_16637647326511998[0][0].addModelsAsFrames(\"MODEL 0\\nHETATM    1 C    ATM A   0       0.000   0.000   0.000  1.00  0.00       B   C  \\nHETATM    2 H    ATM A   1       0.628   0.628   0.628  1.00  0.00       B   H  \\nHETATM    3 H    ATM A   2       0.628  -0.628  -0.628  1.00  0.00       B   H  \\nHETATM    4 H    ATM A   3      -0.628   0.628  -0.628  1.00  0.00       B   H  \\nHETATM    5 H    ATM A   4      -0.628  -0.628   0.628  1.00  0.00       B   H  \\nHETATM    6 C    ATM A   5      -2.675   0.655   0.000  1.00  0.00       B   C  \\nHETATM    7 F    ATM A   6      -2.675  -0.682   0.000  1.00  0.00       B   F  \\nHETATM    8 H    ATM A   7      -2.431   1.104   0.947  1.00  0.00       B   H  \\nHETATM    9 H    ATM A   8      -2.431   1.104  -0.947  1.00  0.00       B   H  \\nENDMDL\\n\",\"pdb\",{\"keepH\": \"true\"});\n",
              "\tviewergrid_16637647326511998[0][0].setStyle({\"model\": -1},{\"line\": {\"color\": \"black\"}});\n",
              "\tviewergrid_16637647326511998[0][0].addModelsAsFrames(\"MODEL 0\\nHETATM    1 C    ATM A   0       0.000   0.000   0.000  1.00  0.00       B   C  \\nHETATM    2 H    ATM A   1       0.628   0.628   0.628  1.00  0.00       B   H  \\nHETATM    3 H    ATM A   2       0.628  -0.628  -0.628  1.00  0.00       B   H  \\nHETATM    4 H    ATM A   3      -0.628   0.628  -0.628  1.00  0.00       B   H  \\nHETATM    5 H    ATM A   4      -0.628  -0.628   0.628  1.00  0.00       B   H  \\nHETATM    6 C    ATM A   5      -2.675   0.655   0.000  1.00  0.00       B   C  \\nHETATM    7 F    ATM A   6      -2.675  -0.682   0.000  1.00  0.00       B   F  \\nHETATM    8 H    ATM A   7      -2.431   1.104   0.947  1.00  0.00       B   H  \\nHETATM    9 H    ATM A   8      -2.431   1.104  -0.947  1.00  0.00       B   H  \\nENDMDL\\n\",\"pdb\",{\"keepH\": \"true\"});\n",
              "\tviewergrid_16637647326511998[0][0].setStyle({\"model\": -1, \"serial\": 5},{\"sphere\": {\"scale\": 0.2, \"color\": \"#80FEB3\"}});\n",
              "\tviewergrid_16637647326511998[0][0].addModelsAsFrames(\"MODEL 0\\nHETATM    1 C    ATM A   0       0.000   0.000   0.000  1.00  0.00       B   C  \\nHETATM    2 H    ATM A   1       0.628   0.628   0.628  1.00  0.00       B   H  \\nHETATM    3 H    ATM A   2       0.628  -0.628  -0.628  1.00  0.00       B   H  \\nHETATM    4 H    ATM A   3      -0.628   0.628  -0.628  1.00  0.00       B   H  \\nHETATM    5 H    ATM A   4      -0.628  -0.628   0.628  1.00  0.00       B   H  \\nHETATM    6 C    ATM A   5      -2.675   0.655   0.000  1.00  0.00       B   C  \\nHETATM    7 F    ATM A   6      -2.675  -0.682   0.000  1.00  0.00       B   F  \\nHETATM    8 H    ATM A   7      -2.431   1.104   0.947  1.00  0.00       B   H  \\nHETATM    9 H    ATM A   8      -2.431   1.104  -0.947  1.00  0.00       B   H  \\nENDMDL\\n\",\"pdb\",{\"keepH\": \"true\"});\n",
              "\tviewergrid_16637647326511998[0][0].setStyle({\"model\": -1},{\"line\": {\"color\": \"black\"}});\n",
              "\tviewergrid_16637647326511998[0][0].addModelsAsFrames(\"MODEL 0\\nHETATM    1 C    ATM A   0       0.000   0.000   0.000  1.00  0.00       B   C  \\nHETATM    2 H    ATM A   1       0.628   0.628   0.628  1.00  0.00       B   H  \\nHETATM    3 H    ATM A   2       0.628  -0.628  -0.628  1.00  0.00       B   H  \\nHETATM    4 H    ATM A   3      -0.628   0.628  -0.628  1.00  0.00       B   H  \\nHETATM    5 H    ATM A   4      -0.628  -0.628   0.628  1.00  0.00       B   H  \\nHETATM    6 C    ATM A   5      -2.675   0.655   0.000  1.00  0.00       B   C  \\nHETATM    7 F    ATM A   6      -2.675  -0.682   0.000  1.00  0.00       B   F  \\nHETATM    8 H    ATM A   7      -2.431   1.104   0.947  1.00  0.00       B   H  \\nHETATM    9 H    ATM A   8      -2.431   1.104  -0.947  1.00  0.00       B   H  \\nENDMDL\\n\",\"pdb\",{\"keepH\": \"true\"});\n",
              "\tviewergrid_16637647326511998[0][0].setStyle({\"model\": -1, \"serial\": 6},{\"sphere\": {\"scale\": 0.2, \"color\": \"#FFB260\"}});\n",
              "\tviewergrid_16637647326511998[0][0].addModelsAsFrames(\"MODEL 0\\nHETATM    1 C    ATM A   0       0.000   0.000   0.000  1.00  0.00       B   C  \\nHETATM    2 H    ATM A   1       0.628   0.628   0.628  1.00  0.00       B   H  \\nHETATM    3 H    ATM A   2       0.628  -0.628  -0.628  1.00  0.00       B   H  \\nHETATM    4 H    ATM A   3      -0.628   0.628  -0.628  1.00  0.00       B   H  \\nHETATM    5 H    ATM A   4      -0.628  -0.628   0.628  1.00  0.00       B   H  \\nHETATM    6 C    ATM A   5      -2.675   0.655   0.000  1.00  0.00       B   C  \\nHETATM    7 F    ATM A   6      -2.675  -0.682   0.000  1.00  0.00       B   F  \\nHETATM    8 H    ATM A   7      -2.431   1.104   0.947  1.00  0.00       B   H  \\nHETATM    9 H    ATM A   8      -2.431   1.104  -0.947  1.00  0.00       B   H  \\nENDMDL\\n\",\"pdb\",{\"keepH\": \"true\"});\n",
              "\tviewergrid_16637647326511998[0][0].setStyle({\"model\": -1},{\"line\": {\"color\": \"black\"}});\n",
              "\tviewergrid_16637647326511998[0][0].addModelsAsFrames(\"MODEL 0\\nHETATM    1 C    ATM A   0       0.000   0.000   0.000  1.00  0.00       B   C  \\nHETATM    2 H    ATM A   1       0.628   0.628   0.628  1.00  0.00       B   H  \\nHETATM    3 H    ATM A   2       0.628  -0.628  -0.628  1.00  0.00       B   H  \\nHETATM    4 H    ATM A   3      -0.628   0.628  -0.628  1.00  0.00       B   H  \\nHETATM    5 H    ATM A   4      -0.628  -0.628   0.628  1.00  0.00       B   H  \\nHETATM    6 C    ATM A   5      -2.675   0.655   0.000  1.00  0.00       B   C  \\nHETATM    7 F    ATM A   6      -2.675  -0.682   0.000  1.00  0.00       B   F  \\nHETATM    8 H    ATM A   7      -2.431   1.104   0.947  1.00  0.00       B   H  \\nHETATM    9 H    ATM A   8      -2.431   1.104  -0.947  1.00  0.00       B   H  \\nENDMDL\\n\",\"pdb\",{\"keepH\": \"true\"});\n",
              "\tviewergrid_16637647326511998[0][0].setStyle({\"model\": -1, \"serial\": 7},{\"sphere\": {\"scale\": 0.2, \"color\": \"#40ECD3\"}});\n",
              "\tviewergrid_16637647326511998[0][0].addModelsAsFrames(\"MODEL 0\\nHETATM    1 C    ATM A   0       0.000   0.000   0.000  1.00  0.00       B   C  \\nHETATM    2 H    ATM A   1       0.628   0.628   0.628  1.00  0.00       B   H  \\nHETATM    3 H    ATM A   2       0.628  -0.628  -0.628  1.00  0.00       B   H  \\nHETATM    4 H    ATM A   3      -0.628   0.628  -0.628  1.00  0.00       B   H  \\nHETATM    5 H    ATM A   4      -0.628  -0.628   0.628  1.00  0.00       B   H  \\nHETATM    6 C    ATM A   5      -2.675   0.655   0.000  1.00  0.00       B   C  \\nHETATM    7 F    ATM A   6      -2.675  -0.682   0.000  1.00  0.00       B   F  \\nHETATM    8 H    ATM A   7      -2.431   1.104   0.947  1.00  0.00       B   H  \\nHETATM    9 H    ATM A   8      -2.431   1.104  -0.947  1.00  0.00       B   H  \\nENDMDL\\n\",\"pdb\",{\"keepH\": \"true\"});\n",
              "\tviewergrid_16637647326511998[0][0].setStyle({\"model\": -1},{\"line\": {\"color\": \"black\"}});\n",
              "\tviewergrid_16637647326511998[0][0].addModelsAsFrames(\"MODEL 0\\nHETATM    1 C    ATM A   0       0.000   0.000   0.000  1.00  0.00       B   C  \\nHETATM    2 H    ATM A   1       0.628   0.628   0.628  1.00  0.00       B   H  \\nHETATM    3 H    ATM A   2       0.628  -0.628  -0.628  1.00  0.00       B   H  \\nHETATM    4 H    ATM A   3      -0.628   0.628  -0.628  1.00  0.00       B   H  \\nHETATM    5 H    ATM A   4      -0.628  -0.628   0.628  1.00  0.00       B   H  \\nHETATM    6 C    ATM A   5      -2.675   0.655   0.000  1.00  0.00       B   C  \\nHETATM    7 F    ATM A   6      -2.675  -0.682   0.000  1.00  0.00       B   F  \\nHETATM    8 H    ATM A   7      -2.431   1.104   0.947  1.00  0.00       B   H  \\nHETATM    9 H    ATM A   8      -2.431   1.104  -0.947  1.00  0.00       B   H  \\nENDMDL\\n\",\"pdb\",{\"keepH\": \"true\"});\n",
              "\tviewergrid_16637647326511998[0][0].setStyle({\"model\": -1, \"serial\": 8},{\"sphere\": {\"scale\": 0.2, \"color\": \"#C0EA8C\"}});\n",
              "\tviewergrid_16637647326511998[0][0].addModelsAsFrames(\"MODEL 0\\nHETATM    1 C    ATM A   0       0.000   0.000   0.000  1.00  0.00       B   C  \\nHETATM    2 H    ATM A   1       0.628   0.628   0.628  1.00  0.00       B   H  \\nHETATM    3 H    ATM A   2       0.628  -0.628  -0.628  1.00  0.00       B   H  \\nHETATM    4 H    ATM A   3      -0.628   0.628  -0.628  1.00  0.00       B   H  \\nHETATM    5 H    ATM A   4      -0.628  -0.628   0.628  1.00  0.00       B   H  \\nHETATM    6 C    ATM A   5      -2.675   0.655   0.000  1.00  0.00       B   C  \\nHETATM    7 F    ATM A   6      -2.675  -0.682   0.000  1.00  0.00       B   F  \\nHETATM    8 H    ATM A   7      -2.431   1.104   0.947  1.00  0.00       B   H  \\nHETATM    9 H    ATM A   8      -2.431   1.104  -0.947  1.00  0.00       B   H  \\nENDMDL\\n\",\"pdb\",{\"keepH\": \"true\"});\n",
              "\tviewergrid_16637647326511998[0][0].setStyle({\"model\": -1},{\"line\": {\"color\": \"black\"}});\n",
              "\tviewergrid_16637647326511998[0][0].addModelsAsFrames(\"MODEL 0\\nHETATM    1 C    ATM A   0       0.000   0.000   0.000  1.00  0.00       B   C  \\nHETATM    2 H    ATM A   1       0.628   0.628   0.628  1.00  0.00       B   H  \\nHETATM    3 H    ATM A   2       0.628  -0.628  -0.628  1.00  0.00       B   H  \\nHETATM    4 H    ATM A   3      -0.628   0.628  -0.628  1.00  0.00       B   H  \\nHETATM    5 H    ATM A   4      -0.628  -0.628   0.628  1.00  0.00       B   H  \\nHETATM    6 C    ATM A   5      -2.675   0.655   0.000  1.00  0.00       B   C  \\nHETATM    7 F    ATM A   6      -2.675  -0.682   0.000  1.00  0.00       B   F  \\nHETATM    8 H    ATM A   7      -2.431   1.104   0.947  1.00  0.00       B   H  \\nHETATM    9 H    ATM A   8      -2.431   1.104  -0.947  1.00  0.00       B   H  \\nENDMDL\\n\",\"pdb\",{\"keepH\": \"true\"});\n",
              "\tviewergrid_16637647326511998[0][0].setStyle({\"model\": -1, \"serial\": 9},{\"sphere\": {\"scale\": 0.2, \"color\": \"#7F00FF\"}});\n",
              "\tviewergrid_16637647326511998[0][0].addUnitCell({\"model\": -1},{\"box\": {\"color\": \"black\"}, \"alabel\": \"\", \"blabel\": \"\", \"clabel\": \"\"});\n",
              "\tviewergrid_16637647326511998[0][0].zoomTo();\n",
              "viewergrid_16637647326511998[0][0].render();\n",
              "});\n",
              "</script>"
            ]
          },
          "metadata": {}
        },
        {
          "output_type": "execute_result",
          "data": {
            "text/plain": [
              "<BigDFT.Visualization.InlineVisualizer at 0x7fc0ebbd1e10>"
            ]
          },
          "metadata": {},
          "execution_count": 35
        }
      ],
      "source": [
        "with open('sys.xyz','r') as ifile:\n",
        "    sys_b = IO.read_xyz(ifile,fragmentation=\"atomic\")\n",
        "sys_b.display()"
      ]
    },
    {
      "cell_type": "markdown",
      "id": "d8390cae",
      "metadata": {
        "id": "d8390cae"
      },
      "source": [
        "### Other Formats\n",
        "\n",
        "Similarly to `xyz` files, let us write a PDB file (for example)."
      ]
    },
    {
      "cell_type": "code",
      "execution_count": null,
      "id": "bd8f4fda",
      "metadata": {
        "id": "bd8f4fda"
      },
      "outputs": [],
      "source": [
        "with open('sys.pdb', 'w') as ofile:\n",
        "    IO.write_pdb(sys, ofile)"
      ]
    },
    {
      "cell_type": "markdown",
      "id": "ed4f2bdb",
      "metadata": {
        "id": "ed4f2bdb"
      },
      "source": [
        "Let us then inspect this pdb file"
      ]
    },
    {
      "cell_type": "code",
      "execution_count": null,
      "id": "4a699045",
      "metadata": {
        "colab": {
          "base_uri": "https://localhost:8080/"
        },
        "id": "4a699045",
        "outputId": "f3d45420-9534-4f42-a7de-c94e205d8637"
      },
      "outputs": [
        {
          "output_type": "stream",
          "name": "stdout",
          "text": [
            "HETATM    1 C    CH4 A   0       0.000   0.000   0.000  1.00  0.00       B   C  \n",
            "HETATM    2 H    CH4 A   0       0.628   0.628   0.628  1.00  0.00       B   H  \n",
            "HETATM    3 H    CH4 A   0       0.628  -0.628  -0.628  1.00  0.00       B   H  \n",
            "HETATM    4 H    CH4 A   0      -0.628   0.628  -0.628  1.00  0.00       B   H  \n",
            "HETATM    5 H    CH4 A   0      -0.628  -0.628   0.628  1.00  0.00       B   H  \n",
            "HETATM    6 C    CH2 A   1      -2.675   0.655   0.000  1.00  0.00       B   C  \n",
            "HETATM    7 F    CH2 A   1      -2.675  -0.682   0.000  1.00  0.00       B   F  \n",
            "HETATM    8 H    CH2 A   1      -2.431   1.104   0.947  1.00  0.00       B   H  \n",
            "HETATM    9 H    CH2 A   1      -2.431   1.104  -0.947  1.00  0.00       B   H  \n"
          ]
        }
      ],
      "source": [
        "with open('sys.pdb','r') as ifile:\n",
        "    for line in ifile:\n",
        "        print(line, end=\"\")"
      ]
    },
    {
      "cell_type": "markdown",
      "id": "a8fea3c1",
      "metadata": {
        "id": "a8fea3c1"
      },
      "source": [
        "Of course, a pdb system is also readable"
      ]
    },
    {
      "cell_type": "code",
      "execution_count": null,
      "id": "f29269c6",
      "metadata": {
        "colab": {
          "base_uri": "https://localhost:8080/"
        },
        "id": "f29269c6",
        "outputId": "1366c2f7-d156-43de-d3cf-9242b908756d"
      },
      "outputs": [
        {
          "output_type": "stream",
          "name": "stdout",
          "text": [
            "CH4:0\n",
            "{'sym': 'C', 'r': [0.0, 0.0, 0.0], 'name': 'C', 'units': 'angstroem'}\n",
            "{'sym': 'H', 'r': [0.628, 0.628, 0.628], 'name': 'H', 'units': 'angstroem'}\n",
            "{'sym': 'H', 'r': [0.628, -0.628, -0.628], 'name': 'H', 'units': 'angstroem'}\n",
            "{'sym': 'H', 'r': [-0.628, 0.628, -0.628], 'name': 'H', 'units': 'angstroem'}\n",
            "{'sym': 'H', 'r': [-0.628, -0.628, 0.628], 'name': 'H', 'units': 'angstroem'}\n",
            "CH2:1\n",
            "{'sym': 'C', 'r': [-2.675, 0.655, 0.0], 'name': 'C', 'units': 'angstroem'}\n",
            "{'sym': 'F', 'r': [-2.675, -0.682, 0.0], 'name': 'F', 'units': 'angstroem'}\n",
            "{'sym': 'H', 'r': [-2.431, 1.104, 0.947], 'name': 'H', 'units': 'angstroem'}\n",
            "{'sym': 'H', 'r': [-2.431, 1.104, -0.947], 'name': 'H', 'units': 'angstroem'}\n"
          ]
        }
      ],
      "source": [
        "for fragid, frag in IO.read_pdb(open('sys.pdb','r')).items():\n",
        "    print(fragid)\n",
        "    for at in frag:\n",
        "        print(dict(at))"
      ]
    },
    {
      "cell_type": "markdown",
      "id": "66704abb",
      "metadata": {
        "id": "66704abb"
      },
      "source": [
        "Notice how the **information on fragments is conserved** "
      ]
    },
    {
      "cell_type": "markdown",
      "id": "8019dee4",
      "metadata": {
        "id": "8019dee4"
      },
      "source": [
        "## Exercises on systems \n",
        "\n",
        "1) Construct a complex of C2H4 molecules, arranged in a equilateral triangle, using the molecule database.\n",
        "\n",
        "2) Construct a carbon chain of inter-atomic distance of 1.5 angstroem.\n",
        "\n",
        "3) Construct a graphene lattice using a rectangular cell and a carbon-carbon bond of 1.42 angstroem. (**Advanced**)"
      ]
    }
  ],
  "metadata": {
    "kernelspec": {
      "display_name": "Python 3 (ipykernel)",
      "language": "python",
      "name": "python3"
    },
    "language_info": {
      "codemirror_mode": {
        "name": "ipython",
        "version": 3
      },
      "file_extension": ".py",
      "mimetype": "text/x-python",
      "name": "python",
      "nbconvert_exporter": "python",
      "pygments_lexer": "ipython3",
      "version": "3.9.13"
    },
    "colab": {
      "provenance": [],
      "toc_visible": true
    }
  },
  "nbformat": 4,
  "nbformat_minor": 5
}