{
 "cells": [
  {
   "cell_type": "markdown",
   "id": "f09de3be-35c2-4031-965f-d18ca7ebf7f1",
   "metadata": {},
   "source": [
    "# Initial PyBigDFT tour - Basic functionalities\n",
    "we start by presenting a broad overview of using the PyBigDFT library to drive BigDFT calculations using Python.\n",
    "If you have installed from source, you should make sure you have setup the proper environment variables using the following command:\n",
    "\n",
    "```\n",
    "source install/bin/bigdftvars.sh\n",
    "```"
   ]
  },
  {
   "cell_type": "markdown",
   "id": "0b40b074-888f-4139-9716-c46eb68e585f",
   "metadata": {},
   "source": [
    "## System Manipulation\n",
    "Here we define a system which is composed of two fragments: H2 and Helium."
   ]
  },
  {
   "cell_type": "code",
   "execution_count": 1,
   "id": "599891d0-26e7-417e-8662-8dd0d0106243",
   "metadata": {},
   "outputs": [],
   "source": [
    "# to have a cleaner output\n",
    "import warnings\n",
    "warnings.filterwarnings(\"ignore\")"
   ]
  },
  {
   "cell_type": "code",
   "execution_count": 2,
   "id": "509f8617-9aae-49ac-9b16-70bd9378e1c2",
   "metadata": {},
   "outputs": [],
   "source": [
    "from BigDFT.Systems import System\n",
    "from BigDFT.Fragments import Fragment\n",
    "from BigDFT.Atoms import Atom"
   ]
  },
  {
   "cell_type": "code",
   "execution_count": 3,
   "id": "a3555d4f-7551-411e-acc1-de078bc27ef4",
   "metadata": {},
   "outputs": [
    {
     "name": "stdout",
     "output_type": "stream",
     "text": [
      "H [0.0, 0.0, 0.0]\n",
      "H [0.0, 0.0, 1.4]\n",
      "He [10.0, 0.0, 0.0]\n",
      "H2:1\n",
      "  H [0.0, 0.0, 0.0]\n",
      "  H [0.0, 0.0, 1.4]\n",
      "He:2\n",
      "  He [10.0, 0.0, 0.0]\n"
     ]
    }
   ],
   "source": [
    "# Create Three Atoms\n",
    "at1 = Atom({\"H\": [0, 0, 0], \"units\": \"bohr\"})\n",
    "at2 = Atom({\"H\": [0, 0, 1.4], \"units\": \"bohr\"})\n",
    "at3 = Atom({\"He\": [10, 0, 0], \"units\": \"bohr\"})\n",
    "# Construct a System from Two Fragments (H2, He)\n",
    "sys = System()\n",
    "sys[\"H2:1\"] = Fragment([at1, at2])\n",
    "sys[\"He:2\"] = Fragment([at3])\n",
    "\n",
    "# Iterate Over The System to inspect the atoms positions\n",
    "for at in sys.get_atoms():\n",
    "    print(at.sym, at.get_position())\n",
    "# or alternatively, two-level iteration (fragment first)\n",
    "for fragid, frag in sys.items():\n",
    "    print(fragid)\n",
    "    for at in frag:\n",
    "        print(' ', at.sym, at.get_position())"
   ]
  },
  {
   "cell_type": "code",
   "execution_count": 4,
   "id": "16fcffb7-c5c4-43ff-b45d-fbcc613c4a3f",
   "metadata": {},
   "outputs": [
    {
     "data": {
      "application/3dmoljs_load.v0": "<div id=\"3dmolviewer_16623040580525222\"  style=\"position: relative; width: 400px; height: 300px\">\n        <p id=\"3dmolwarning_16623040580525222\" style=\"background-color:#ffcccc;color:black\">You appear to be running in JupyterLab (or JavaScript failed to load for some other reason).  You need to install the 3dmol extension: <br>\n        <tt>jupyter labextension install jupyterlab_3dmol</tt></p>\n        </div>\n<script>\n\nvar loadScriptAsync = function(uri){\n  return new Promise((resolve, reject) => {\n    var tag = document.createElement('script');\n    tag.src = uri;\n    tag.async = true;\n    tag.onload = () => {\n      resolve();\n    };\n  var firstScriptTag = document.getElementsByTagName('script')[0];\n  firstScriptTag.parentNode.insertBefore(tag, firstScriptTag);\n});\n};\n\nif(typeof $3Dmolpromise === 'undefined') {\n$3Dmolpromise = null;\n  $3Dmolpromise = loadScriptAsync('https://cdn.jsdelivr.net/npm/3dmol@latest/build/3Dmol-min.min.js');\n}\n\nvar viewer_16623040580525222 = null;\nvar warn = document.getElementById(\"3dmolwarning_16623040580525222\");\nif(warn) {\n    warn.parentNode.removeChild(warn);\n}\n$3Dmolpromise.then(function() {\nvar viewergrid_16623040580525222 = null;\nviewergrid_16623040580525222 = $3Dmol.createViewerGrid($(\"#3dmolviewer_16623040580525222\"),{rows: 1, cols: 1, control_all: false},{backgroundColor:\"white\"});\nviewer_16623040580525222 = viewergrid_16623040580525222[0][0];\nviewergrid_16623040580525222[0][0].zoomTo();\tviewergrid_16623040580525222[0][0].addModelsAsFrames(\"MODEL 0\\nHETATM    1 H    H2  A   1       0.000   0.000   0.000  1.00  0.00       B   H  \\nHETATM    2 H    H2  A   1       0.000   0.000   0.741  1.00  0.00       B   H  \\nHETATM    3 He   He  A   2       5.292   0.000   0.000  1.00  0.00       B  He  \\nENDMDL\\n\",\"pdb\",{\"keepH\": \"true\"});\n\tviewergrid_16623040580525222[0][0].setStyle({\"model\": -1},{\"line\": {\"color\": \"black\"}});\n\tviewergrid_16623040580525222[0][0].addModelsAsFrames(\"MODEL 0\\nHETATM    1 H    H2  A   1       0.000   0.000   0.000  1.00  0.00       B   H  \\nHETATM    2 H    H2  A   1       0.000   0.000   0.741  1.00  0.00       B   H  \\nHETATM    3 He   He  A   2       5.292   0.000   0.000  1.00  0.00       B  He  \\nENDMDL\\n\",\"pdb\",{\"keepH\": \"true\"});\n\tviewergrid_16623040580525222[0][0].setStyle({\"model\": -1, \"serial\": 1},{\"sphere\": {\"scale\": 0.2, \"color\": \"#800000\"}});\n\tviewergrid_16623040580525222[0][0].addModelsAsFrames(\"MODEL 0\\nHETATM    1 H    H2  A   1       0.000   0.000   0.000  1.00  0.00       B   H  \\nHETATM    2 H    H2  A   1       0.000   0.000   0.741  1.00  0.00       B   H  \\nHETATM    3 He   He  A   2       5.292   0.000   0.000  1.00  0.00       B  He  \\nENDMDL\\n\",\"pdb\",{\"keepH\": \"true\"});\n\tviewergrid_16623040580525222[0][0].setStyle({\"model\": -1, \"serial\": 2},{\"sphere\": {\"scale\": 0.2, \"color\": \"#800000\"}});\n\tviewergrid_16623040580525222[0][0].addModelsAsFrames(\"MODEL 0\\nHETATM    1 H    H2  A   1       0.000   0.000   0.000  1.00  0.00       B   H  \\nHETATM    2 H    H2  A   1       0.000   0.000   0.741  1.00  0.00       B   H  \\nHETATM    3 He   He  A   2       5.292   0.000   0.000  1.00  0.00       B  He  \\nENDMDL\\n\",\"pdb\",{\"keepH\": \"true\"});\n\tviewergrid_16623040580525222[0][0].setStyle({\"model\": -1},{\"line\": {\"color\": \"black\"}});\n\tviewergrid_16623040580525222[0][0].addModelsAsFrames(\"MODEL 0\\nHETATM    1 H    H2  A   1       0.000   0.000   0.000  1.00  0.00       B   H  \\nHETATM    2 H    H2  A   1       0.000   0.000   0.741  1.00  0.00       B   H  \\nHETATM    3 He   He  A   2       5.292   0.000   0.000  1.00  0.00       B  He  \\nENDMDL\\n\",\"pdb\",{\"keepH\": \"true\"});\n\tviewergrid_16623040580525222[0][0].setStyle({\"model\": -1, \"serial\": 3},{\"sphere\": {\"scale\": 0.2, \"color\": \"#00FF40\"}});\n\tviewergrid_16623040580525222[0][0].addUnitCell({\"model\": -1},{\"box\": {\"color\": \"black\"}, \"alabel\": \"\", \"blabel\": \"\", \"clabel\": \"\"});\n\tviewergrid_16623040580525222[0][0].zoomTo();\nviewergrid_16623040580525222[0][0].render();\n});\n</script>",
      "text/html": [
       "<div id=\"3dmolviewer_16623040580525222\"  style=\"position: relative; width: 400px; height: 300px\">\n",
       "        <p id=\"3dmolwarning_16623040580525222\" style=\"background-color:#ffcccc;color:black\">You appear to be running in JupyterLab (or JavaScript failed to load for some other reason).  You need to install the 3dmol extension: <br>\n",
       "        <tt>jupyter labextension install jupyterlab_3dmol</tt></p>\n",
       "        </div>\n",
       "<script>\n",
       "\n",
       "var loadScriptAsync = function(uri){\n",
       "  return new Promise((resolve, reject) => {\n",
       "    var tag = document.createElement('script');\n",
       "    tag.src = uri;\n",
       "    tag.async = true;\n",
       "    tag.onload = () => {\n",
       "      resolve();\n",
       "    };\n",
       "  var firstScriptTag = document.getElementsByTagName('script')[0];\n",
       "  firstScriptTag.parentNode.insertBefore(tag, firstScriptTag);\n",
       "});\n",
       "};\n",
       "\n",
       "if(typeof $3Dmolpromise === 'undefined') {\n",
       "$3Dmolpromise = null;\n",
       "  $3Dmolpromise = loadScriptAsync('https://cdn.jsdelivr.net/npm/3dmol@latest/build/3Dmol-min.min.js');\n",
       "}\n",
       "\n",
       "var viewer_16623040580525222 = null;\n",
       "var warn = document.getElementById(\"3dmolwarning_16623040580525222\");\n",
       "if(warn) {\n",
       "    warn.parentNode.removeChild(warn);\n",
       "}\n",
       "$3Dmolpromise.then(function() {\n",
       "var viewergrid_16623040580525222 = null;\n",
       "viewergrid_16623040580525222 = $3Dmol.createViewerGrid($(\"#3dmolviewer_16623040580525222\"),{rows: 1, cols: 1, control_all: false},{backgroundColor:\"white\"});\n",
       "viewer_16623040580525222 = viewergrid_16623040580525222[0][0];\n",
       "viewergrid_16623040580525222[0][0].zoomTo();\tviewergrid_16623040580525222[0][0].addModelsAsFrames(\"MODEL 0\\nHETATM    1 H    H2  A   1       0.000   0.000   0.000  1.00  0.00       B   H  \\nHETATM    2 H    H2  A   1       0.000   0.000   0.741  1.00  0.00       B   H  \\nHETATM    3 He   He  A   2       5.292   0.000   0.000  1.00  0.00       B  He  \\nENDMDL\\n\",\"pdb\",{\"keepH\": \"true\"});\n",
       "\tviewergrid_16623040580525222[0][0].setStyle({\"model\": -1},{\"line\": {\"color\": \"black\"}});\n",
       "\tviewergrid_16623040580525222[0][0].addModelsAsFrames(\"MODEL 0\\nHETATM    1 H    H2  A   1       0.000   0.000   0.000  1.00  0.00       B   H  \\nHETATM    2 H    H2  A   1       0.000   0.000   0.741  1.00  0.00       B   H  \\nHETATM    3 He   He  A   2       5.292   0.000   0.000  1.00  0.00       B  He  \\nENDMDL\\n\",\"pdb\",{\"keepH\": \"true\"});\n",
       "\tviewergrid_16623040580525222[0][0].setStyle({\"model\": -1, \"serial\": 1},{\"sphere\": {\"scale\": 0.2, \"color\": \"#800000\"}});\n",
       "\tviewergrid_16623040580525222[0][0].addModelsAsFrames(\"MODEL 0\\nHETATM    1 H    H2  A   1       0.000   0.000   0.000  1.00  0.00       B   H  \\nHETATM    2 H    H2  A   1       0.000   0.000   0.741  1.00  0.00       B   H  \\nHETATM    3 He   He  A   2       5.292   0.000   0.000  1.00  0.00       B  He  \\nENDMDL\\n\",\"pdb\",{\"keepH\": \"true\"});\n",
       "\tviewergrid_16623040580525222[0][0].setStyle({\"model\": -1, \"serial\": 2},{\"sphere\": {\"scale\": 0.2, \"color\": \"#800000\"}});\n",
       "\tviewergrid_16623040580525222[0][0].addModelsAsFrames(\"MODEL 0\\nHETATM    1 H    H2  A   1       0.000   0.000   0.000  1.00  0.00       B   H  \\nHETATM    2 H    H2  A   1       0.000   0.000   0.741  1.00  0.00       B   H  \\nHETATM    3 He   He  A   2       5.292   0.000   0.000  1.00  0.00       B  He  \\nENDMDL\\n\",\"pdb\",{\"keepH\": \"true\"});\n",
       "\tviewergrid_16623040580525222[0][0].setStyle({\"model\": -1},{\"line\": {\"color\": \"black\"}});\n",
       "\tviewergrid_16623040580525222[0][0].addModelsAsFrames(\"MODEL 0\\nHETATM    1 H    H2  A   1       0.000   0.000   0.000  1.00  0.00       B   H  \\nHETATM    2 H    H2  A   1       0.000   0.000   0.741  1.00  0.00       B   H  \\nHETATM    3 He   He  A   2       5.292   0.000   0.000  1.00  0.00       B  He  \\nENDMDL\\n\",\"pdb\",{\"keepH\": \"true\"});\n",
       "\tviewergrid_16623040580525222[0][0].setStyle({\"model\": -1, \"serial\": 3},{\"sphere\": {\"scale\": 0.2, \"color\": \"#00FF40\"}});\n",
       "\tviewergrid_16623040580525222[0][0].addUnitCell({\"model\": -1},{\"box\": {\"color\": \"black\"}, \"alabel\": \"\", \"blabel\": \"\", \"clabel\": \"\"});\n",
       "\tviewergrid_16623040580525222[0][0].zoomTo();\n",
       "viewergrid_16623040580525222[0][0].render();\n",
       "});\n",
       "</script>"
      ]
     },
     "metadata": {},
     "output_type": "display_data"
    },
    {
     "data": {
      "text/plain": [
       "<BigDFT.Visualization.InlineVisualizer at 0x14d2b268eaf0>"
      ]
     },
     "execution_count": 4,
     "metadata": {},
     "output_type": "execute_result"
    }
   ],
   "source": [
    "# this is what we have created\n",
    "sys.display()"
   ]
  },
  {
   "cell_type": "markdown",
   "id": "9cc443d5-34d0-4bf1-b0ef-ca3a989875cd",
   "metadata": {},
   "source": [
    "This is a very simple initial example. We will inspect in more details the constructors for a BigDFT system in the System-Generation notebook."
   ]
  },
  {
   "cell_type": "markdown",
   "id": "f95188d7-f105-43be-8b1d-2541f86301a8",
   "metadata": {},
   "source": [
    "## Calculation\n",
    "Calculate the created system using a wavelet grid spacing of $0.4$ bohr (good for the large majority of the systems) and the PBE functional. A logfile is generated from which we can access the computed properties. This logfile has built in properties and can be accessed like a dictionary."
   ]
  },
  {
   "cell_type": "code",
   "execution_count": 5,
   "id": "f64a3d96-8e7e-412a-ac70-2bf8935716a3",
   "metadata": {},
   "outputs": [],
   "source": [
    "from BigDFT.Inputfiles import Inputfile\n",
    "inp = Inputfile()\n",
    "inp.set_hgrid(0.4)\n",
    "inp.set_xc(\"PBE\")\n",
    "# we remove the calculation of the forces\n",
    "inp[\"perf\"] = {\"calculate_forces\": False}"
   ]
  },
  {
   "cell_type": "code",
   "execution_count": 6,
   "id": "37169f5f-7b1d-426e-ae68-98fedfe37425",
   "metadata": {},
   "outputs": [],
   "source": [
    "from BigDFT.Calculators import SystemCalculator\n",
    "calc = SystemCalculator(skip=True, verbose=False)"
   ]
  },
  {
   "cell_type": "code",
   "execution_count": 7,
   "id": "3a0f1f0e-ca8f-4d22-944f-61d5ff47916f",
   "metadata": {},
   "outputs": [],
   "source": [
    "from os import environ\n",
    "environ['I_MPI_FABRICS']='shm'"
   ]
  },
  {
   "cell_type": "code",
   "execution_count": 8,
   "id": "69fe7d62-34c6-4a70-8187-59c00be86920",
   "metadata": {},
   "outputs": [],
   "source": [
    "log = calc.run(sys=sys, input=inp, name=\"quick\", run_dir=\"scratch\")"
   ]
  },
  {
   "cell_type": "code",
   "execution_count": 9,
   "id": "6c9a2285-c343-47a3-8fdf-0c5504d25f80",
   "metadata": {},
   "outputs": [
    {
     "name": "stdout",
     "output_type": "stream",
     "text": [
      "-4.054615157686378\n",
      "[BandArray([[-0.57600357, -0.38118857]])]\n",
      "{'Peak Value (MB)': 230.69, 'for the array': 'f_i', 'in the routine': 'vxcpostprocessing', 'Memory Peak of process': '342.196 MB'}\n"
     ]
    }
   ],
   "source": [
    "#some basic info\n",
    "print(log.energy)\n",
    "print(list(log.evals))\n",
    "print(log.log[\"Memory Consumption Report\"]\n",
    "             [\"Memory occupation\"])"
   ]
  },
  {
   "cell_type": "markdown",
   "id": "d0699b6c-fdf9-4b6f-ba09-c001a4adab91",
   "metadata": {},
   "source": [
    "We have executed a very simple calculation with two Kohn-Sham orbitals. The description of the possible input parameters and how to trigger larger calculations (even on remote computers) will be provided in the forthcoming lessons."
   ]
  },
  {
   "cell_type": "markdown",
   "id": "a48292dd-a9eb-4537-91eb-242d9fcc1682",
   "metadata": {},
   "source": [
    "## Calculation of Periodic Systems\n",
    "We setup a BCC unit cell of iron and perform the calculation using a 2x2x2 k-point grid with a Monkhorst-Pack grid."
   ]
  },
  {
   "cell_type": "code",
   "execution_count": 10,
   "id": "0d747fac-9e83-4b97-b432-741956e34a06",
   "metadata": {},
   "outputs": [],
   "source": [
    "from BigDFT.UnitCells import UnitCell\n",
    "# one single periodic atom\n",
    "pat = Atom({\"Fe\": [0, 0, 0], \"units\": \"angstroem\"})\n",
    "psys = System({\"CEL:0\": Fragment([pat])})\n",
    "psys.cell = UnitCell([2.867, 2.867, 2.867], units=\"angstroem\")"
   ]
  },
  {
   "cell_type": "code",
   "execution_count": 11,
   "id": "541426b3-9859-48cb-a533-289c3c3ad693",
   "metadata": {},
   "outputs": [
    {
     "data": {
      "application/3dmoljs_load.v0": "<div id=\"3dmolviewer_16623040585301626\"  style=\"position: relative; width: 400px; height: 300px\">\n        <p id=\"3dmolwarning_16623040585301626\" style=\"background-color:#ffcccc;color:black\">You appear to be running in JupyterLab (or JavaScript failed to load for some other reason).  You need to install the 3dmol extension: <br>\n        <tt>jupyter labextension install jupyterlab_3dmol</tt></p>\n        </div>\n<script>\n\nvar loadScriptAsync = function(uri){\n  return new Promise((resolve, reject) => {\n    var tag = document.createElement('script');\n    tag.src = uri;\n    tag.async = true;\n    tag.onload = () => {\n      resolve();\n    };\n  var firstScriptTag = document.getElementsByTagName('script')[0];\n  firstScriptTag.parentNode.insertBefore(tag, firstScriptTag);\n});\n};\n\nif(typeof $3Dmolpromise === 'undefined') {\n$3Dmolpromise = null;\n  $3Dmolpromise = loadScriptAsync('https://cdn.jsdelivr.net/npm/3dmol@latest/build/3Dmol-min.min.js');\n}\n\nvar viewer_16623040585301626 = null;\nvar warn = document.getElementById(\"3dmolwarning_16623040585301626\");\nif(warn) {\n    warn.parentNode.removeChild(warn);\n}\n$3Dmolpromise.then(function() {\nvar viewergrid_16623040585301626 = null;\nviewergrid_16623040585301626 = $3Dmol.createViewerGrid($(\"#3dmolviewer_16623040585301626\"),{rows: 1, cols: 1, control_all: false},{backgroundColor:\"white\"});\nviewer_16623040585301626 = viewergrid_16623040585301626[0][0];\nviewergrid_16623040585301626[0][0].zoomTo();\tviewergrid_16623040585301626[0][0].addModelsAsFrames(\"MODEL 0\\nCRYST1    2.867    2.867    2.867     90     90     90                          \\nHETATM    1 Fe   CEL A   0       0.000   0.000   0.000  1.00  0.00       B  Fe  \\nENDMDL\\n\",\"pdb\",{\"keepH\": \"true\"});\n\tviewergrid_16623040585301626[0][0].setStyle({\"model\": -1},{\"line\": {\"color\": \"black\"}});\n\tviewergrid_16623040585301626[0][0].addModelsAsFrames(\"MODEL 0\\nCRYST1    2.867    2.867    2.867     90     90     90                          \\nHETATM    1 Fe   CEL A   0       0.000   0.000   0.000  1.00  0.00       B  Fe  \\nENDMDL\\n\",\"pdb\",{\"keepH\": \"true\"});\n\tviewergrid_16623040585301626[0][0].setStyle({\"model\": -1, \"serial\": 1},{\"sphere\": {\"scale\": 0.2, \"color\": \"#800000\"}});\n\tviewergrid_16623040585301626[0][0].addUnitCell({\"model\": -1},{\"box\": {\"color\": \"black\"}, \"alabel\": \"\", \"blabel\": \"\", \"clabel\": \"\"});\n\tviewergrid_16623040585301626[0][0].zoomTo();\nviewergrid_16623040585301626[0][0].render();\n});\n</script>",
      "text/html": [
       "<div id=\"3dmolviewer_16623040585301626\"  style=\"position: relative; width: 400px; height: 300px\">\n",
       "        <p id=\"3dmolwarning_16623040585301626\" style=\"background-color:#ffcccc;color:black\">You appear to be running in JupyterLab (or JavaScript failed to load for some other reason).  You need to install the 3dmol extension: <br>\n",
       "        <tt>jupyter labextension install jupyterlab_3dmol</tt></p>\n",
       "        </div>\n",
       "<script>\n",
       "\n",
       "var loadScriptAsync = function(uri){\n",
       "  return new Promise((resolve, reject) => {\n",
       "    var tag = document.createElement('script');\n",
       "    tag.src = uri;\n",
       "    tag.async = true;\n",
       "    tag.onload = () => {\n",
       "      resolve();\n",
       "    };\n",
       "  var firstScriptTag = document.getElementsByTagName('script')[0];\n",
       "  firstScriptTag.parentNode.insertBefore(tag, firstScriptTag);\n",
       "});\n",
       "};\n",
       "\n",
       "if(typeof $3Dmolpromise === 'undefined') {\n",
       "$3Dmolpromise = null;\n",
       "  $3Dmolpromise = loadScriptAsync('https://cdn.jsdelivr.net/npm/3dmol@latest/build/3Dmol-min.min.js');\n",
       "}\n",
       "\n",
       "var viewer_16623040585301626 = null;\n",
       "var warn = document.getElementById(\"3dmolwarning_16623040585301626\");\n",
       "if(warn) {\n",
       "    warn.parentNode.removeChild(warn);\n",
       "}\n",
       "$3Dmolpromise.then(function() {\n",
       "var viewergrid_16623040585301626 = null;\n",
       "viewergrid_16623040585301626 = $3Dmol.createViewerGrid($(\"#3dmolviewer_16623040585301626\"),{rows: 1, cols: 1, control_all: false},{backgroundColor:\"white\"});\n",
       "viewer_16623040585301626 = viewergrid_16623040585301626[0][0];\n",
       "viewergrid_16623040585301626[0][0].zoomTo();\tviewergrid_16623040585301626[0][0].addModelsAsFrames(\"MODEL 0\\nCRYST1    2.867    2.867    2.867     90     90     90                          \\nHETATM    1 Fe   CEL A   0       0.000   0.000   0.000  1.00  0.00       B  Fe  \\nENDMDL\\n\",\"pdb\",{\"keepH\": \"true\"});\n",
       "\tviewergrid_16623040585301626[0][0].setStyle({\"model\": -1},{\"line\": {\"color\": \"black\"}});\n",
       "\tviewergrid_16623040585301626[0][0].addModelsAsFrames(\"MODEL 0\\nCRYST1    2.867    2.867    2.867     90     90     90                          \\nHETATM    1 Fe   CEL A   0       0.000   0.000   0.000  1.00  0.00       B  Fe  \\nENDMDL\\n\",\"pdb\",{\"keepH\": \"true\"});\n",
       "\tviewergrid_16623040585301626[0][0].setStyle({\"model\": -1, \"serial\": 1},{\"sphere\": {\"scale\": 0.2, \"color\": \"#800000\"}});\n",
       "\tviewergrid_16623040585301626[0][0].addUnitCell({\"model\": -1},{\"box\": {\"color\": \"black\"}, \"alabel\": \"\", \"blabel\": \"\", \"clabel\": \"\"});\n",
       "\tviewergrid_16623040585301626[0][0].zoomTo();\n",
       "viewergrid_16623040585301626[0][0].render();\n",
       "});\n",
       "</script>"
      ]
     },
     "metadata": {},
     "output_type": "display_data"
    },
    {
     "data": {
      "text/plain": [
       "<BigDFT.Visualization.InlineVisualizer at 0x14d27c6d4ee0>"
      ]
     },
     "execution_count": 11,
     "metadata": {},
     "output_type": "execute_result"
    }
   ],
   "source": [
    "psys.display()"
   ]
  },
  {
   "cell_type": "code",
   "execution_count": 12,
   "id": "94c39810-fbf5-4b5b-8902-a708e6e596da",
   "metadata": {},
   "outputs": [],
   "source": [
    "# very small k-point mesh, just for comparison\n",
    "inp = Inputfile()\n",
    "inp.set_hgrid(0.3)\n",
    "inp.set_xc(\"LDA\") # can be omitted as this is the default\n",
    "inp[\"kpt\"] = {\"method\": \"mpgrid\", \"ngkpt\": [2, 2, 2]}"
   ]
  },
  {
   "cell_type": "code",
   "execution_count": 13,
   "id": "fb5b6ced-9f02-4c90-9f32-2087bd33346d",
   "metadata": {},
   "outputs": [],
   "source": [
    "log = calc.run(sys=psys, input=inp, name=\"psys\", run_dir=\"scratch\")"
   ]
  },
  {
   "cell_type": "code",
   "execution_count": 14,
   "id": "5a85d7b7-c753-4897-867a-9569857703b5",
   "metadata": {},
   "outputs": [
    {
     "data": {
      "image/png": "[encoded data removed]",
      "text/plain": [
       "<Figure size 640x480 with 1 Axes>"
      ]
     },
     "metadata": {},
     "output_type": "display_data"
    }
   ],
   "source": [
    "# NBVAL_IGNORE_OUTPUT\n",
    "_ = log.get_dos().plot()"
   ]
  },
  {
   "cell_type": "markdown",
   "id": "b7d17482-9187-4086-b607-3b395d46e506",
   "metadata": {},
   "source": [
    "After this first tour, we can explore further those functionalities with the following tutorials."
   ]
  },
  {
   "cell_type": "code",
   "execution_count": null,
   "id": "d0799b0c-388f-4919-a19a-9660cc53f471",
   "metadata": {},
   "outputs": [],
   "source": []
  }
 ],
 "metadata": {
  "kernelspec": {
   "display_name": "Python 3 (ipykernel)",
   "language": "python",
   "name": "python3"
  },
  "language_info": {
   "codemirror_mode": {
    "name": "ipython",
    "version": 3
   },
   "file_extension": ".py",
   "mimetype": "text/x-python",
   "name": "python",
   "nbconvert_exporter": "python",
   "pygments_lexer": "ipython3",
   "version": "3.9.7"
  }
 },
 "nbformat": 4,
 "nbformat_minor": 5
}
