{
 "cells": [
  {
   "cell_type": "markdown",
   "metadata": {},
   "source": [
    "# The Molecular Fragment Approach: Anthracene Dimer\n",
    "\n",
    "In this tutorial you will learn how to use the molecular fragment approach of BigDFT, which generates optimised support functions for an isolated molecular template, and then uses them as a fixed basis for a larger system. In this tutorial, we consider the case of an anthrancene dimer. The anthracene molecules are kept rigid, and thus we do not need to pay attention to any internal molecular distortions.\n",
    "\n",
    "This tutorial follows the methodology described in L. E. Ratcliff, L. Genovese, S. Mohr and T. Deutsch, J. Chem. Phys. 142, 234105 (2015) and L. E. Ratcliff, L. Grisanti, L. Genovese, T. Deutsch, T. Neumann, D. Danilov, W. Wenzel, D. Beljonne and J. Cornil, J. Chem. Theory Comput. 11, 2077 (2015).\n",
    "\n",
    "This tutorial assumes that you are familiar with the basics of PyBigDFT and BigDFT, including the system class, linear scaling BigDFT, and running calculations.\n",
    "\n",
    "Notebook by Dr. Laura Ratcliff. "
   ]
  },
  {
   "cell_type": "markdown",
   "metadata": {},
   "source": [
    "## Anthracene Dimer\n",
    "\n",
    "### Template Calculation\n",
    "\n",
    "We are going to consider an anthracene dimer, with various orientations, however the approach can easily be generalised to a system containing many more molecules. Let's take a look at a single molecule of anthracene, which will form our template:"
   ]
  },
  {
   "cell_type": "code",
   "execution_count": null,
   "metadata": {},
   "outputs": [],
   "source": [
    "from BigDFT.Visualization import InlineVisualizer\n",
    "from BigDFT.Systems import System\n",
    "from BigDFT.IO import read_xyz\n",
    "\n",
    "# first we read in the molecule\n",
    "template_name = 'monomer'\n",
    "ifile = open(template_name+'.xyz')\n",
    "template = read_xyz(ifile, fragmentation='single')\n",
    "ifile.close()\n",
    "\n",
    "# then we can visualise it\n",
    "viz = InlineVisualizer(200, 200)\n",
    "viz.display_system(template, zoom=1.0)"
   ]
  },
  {
   "cell_type": "markdown",
   "metadata": {},
   "source": [
    "First we setup the linear scaling input file for the template molecule. At the same time, we also create an input file for the fragment calculation, so we can set some common parameters."
   ]
  },
  {
   "cell_type": "code",
   "execution_count": null,
   "metadata": {},
   "outputs": [],
   "source": [
    "from BigDFT import Inputfiles as I, InputActions as A\n",
    "\n",
    "# template input file\n",
    "inpt = I.Inputfile()\n",
    "\n",
    "# fragment input file\n",
    "inpf = I.Inputfile()\n",
    "\n",
    "# common parameters\n",
    "for inp in [inpt, inpf]:\n",
    "    # set the grid spacing, XC functional and specify pseudopotential type\n",
    "    inp.set_hgrid(0.5)\n",
    "    inp.set_xc('PBE')\n",
    "    inp.set_psp_nlcc()\n",
    "    \n",
    "    # import the linear scaling profile\n",
    "    inp['import'] = 'linear'\n",
    "    \n",
    "    # turn off the communications checks, which can be costly for larger systems\n",
    "    inp.update({'perf': {'check_sumrho': 0, 'check_overlap': 0}})\n",
    "    \n",
    "    # output the SFs in binary format, and skip the multipole calculation\n",
    "    inp.update({'lin_general': {'output_wf': 2, 'charge_multipoles': 0}})"
   ]
  },
  {
   "cell_type": "markdown",
   "metadata": {},
   "source": [
    "Now we set up the system calculator. Here we are using 16 MPI tasks and 2 OpenMP threads, due to the size of the machine. However, this can easily be adjusted for your own setup. \n",
    "\n",
    "It is also possible to set the ```BIGDFT_MPIRUN``` and ```OMP_NUM_THREADS``` environment variables before launching the notebook, in which case there is no need to set the values agin in the system calculator."
   ]
  },
  {
   "cell_type": "code",
   "execution_count": null,
   "metadata": {},
   "outputs": [],
   "source": [
    "from BigDFT import Calculators as C\n",
    "code = C.SystemCalculator(omp=2, mpi_run='mpirun -n 16', verbose=False, skip=True)"
   ]
  },
  {
   "cell_type": "markdown",
   "metadata": {},
   "source": [
    "Let's also define some functions to check convergence in both the full linear scaling and fixed support function calculations."
   ]
  },
  {
   "cell_type": "code",
   "execution_count": null,
   "metadata": {},
   "outputs": [],
   "source": [
    "def check_convergence_optimised_sfs(run):\n",
    "    \n",
    "    # in this case we check the convergence of the outer loop\n",
    "    dout = run.log['Ground State Optimization'][-1]['self consistency summary'][-1]['delta out']\n",
    "\n",
    "    # check what threshold we were trying to meet\n",
    "    dthresh = float(run.log['lin_general']['rpnrm_cv'])\n",
    "    \n",
    "    if dout > dthresh:\n",
    "        print('WARNING, calculation did not converge')\n",
    "        return False\n",
    "    else:\n",
    "        return True\n",
    "    \n",
    "def check_convergence_fixed_sfs(run):\n",
    "    \n",
    "    # in this case we check the convergence of the kernel loop\n",
    "    dout = run.log['Ground State Optimization'][-1]['kernel optimization'][-1]['summary']['delta']\n",
    "\n",
    "    # check what threshold we were trying to meet\n",
    "    dthresh = float(run.log['lin_kernel']['rpnrm_cv'])\n",
    "    \n",
    "    if dout > dthresh:\n",
    "        print('WARNING, calculation did not converge')\n",
    "        return False\n",
    "    else:\n",
    "        return True"
   ]
  },
  {
   "cell_type": "markdown",
   "metadata": {},
   "source": [
    "Now we are ready to run the template calculation."
   ]
  },
  {
   "cell_type": "code",
   "execution_count": null,
   "metadata": {},
   "outputs": [],
   "source": [
    "run_template = code.run(input=inpt, sys=template, name=template_name)                \n",
    "\n",
    "# check if the calculation converged\n",
    "converged = check_convergence_optimised_sfs(run_template)\n",
    "\n",
    "Ha2eV = 27.211396132\n",
    "template_energy = Ha2eV * run_template.energy / run_template.nat\n",
    "template_time = run_template.log['Timings for root process']['Elapsed time (s)'] / 60.0   \n",
    "                    \n",
    "print('Anthracene template took '+'{0:.1f}'.format(template_time)+' minutes, E = '+\\\n",
    "      '{0:.3f}'.format(template_energy)+' eV/atom')"
   ]
  },
  {
   "cell_type": "markdown",
   "metadata": {},
   "source": [
    "### Dimer Calculation - Full Linear Scaling\n",
    "\n",
    "Now we have finished the template calculation, let's calculate the dimer energies using the full linear scaling approach, using a similar input file. This will give us a reference to which we can compare the fragment approach. First let's visualise an example dimer."
   ]
  },
  {
   "cell_type": "code",
   "execution_count": null,
   "metadata": {},
   "outputs": [],
   "source": [
    "dimer_name = 'dimer_4_0_0_0'\n",
    "ifile = open(dimer_name+'.xyz')\n",
    "# as above, we read the system in as a single fragment.\n",
    "# we could define the fragments correctly, but for this tutorial we don't need to do so\n",
    "dimer = read_xyz(ifile, fragmentation='single')\n",
    "ifile.close()\n",
    "\n",
    "viz = InlineVisualizer(400, 400)\n",
    "viz.display_system(dimer, zoom=1.0)"
   ]
  },
  {
   "cell_type": "markdown",
   "metadata": {},
   "source": [
    "Now let's run the dimer."
   ]
  },
  {
   "cell_type": "code",
   "execution_count": null,
   "metadata": {},
   "outputs": [],
   "source": [
    "# we will give the run a different name from the xyz file,\n",
    "# in order to distinguish it from the fragment calculation we will do on the same system\n",
    "name = dimer_name+'_linear'\n",
    "\n",
    "# we also don't need to print the matrices or support functions, so we can turn that off\n",
    "inpt['lin_general'].update({'output_wf': 0, 'output_mat': 0})\n",
    "\n",
    "# however, we do want to calculate the KS energies using a one-off diagonalisation\n",
    "# this is activated by default when the support functions are written to disk, so we will turn it on explicitly\n",
    "inpt['lin_general'].update({'subspace_diag': True})\n",
    "\n",
    "run_full = code.run(input=inpt, sys=dimer, name=name)    \n",
    "\n",
    "# check if the calculation converged\n",
    "converged = check_convergence_optimised_sfs(run_full)\n",
    "\n",
    "full_energy = Ha2eV * run_full.energy / run_full.nat\n",
    "full_time = run_full.log['Timings for root process']['Elapsed time (s)'] / 60.0   \n",
    "                    \n",
    "print('Fully optimised anthracene dimer took '+'{0:.1f}'.format(full_time)+' minutes, E = '+\\\n",
    "      '{0:.3f}'.format(full_energy)+' eV/atom')"
   ]
  },
  {
   "cell_type": "markdown",
   "metadata": {},
   "source": [
    "### Single Dimer Calculation - Fragment Approach\n",
    "\n",
    "Let's now set up the fragment calculation for the same dimer - first we need to do some directory manipulation. \n",
    "\n",
    "The folder in which we are running the calculations must both the position file, e.g. ```dimer.xyz```, and an associated BigDFT data directory, ```data-dimer```. The equivalent files for the template must be contained inside the dimer data directory, i.e. ```data-dimer``` should contain ```monomer.xyz``` and ```data-monomer```.\n",
    "\n",
    "We will use symbolic links to achieve this by linkinh to the already generated template files."
   ]
  },
  {
   "cell_type": "code",
   "execution_count": null,
   "metadata": {},
   "outputs": [],
   "source": [
    "# first identify the current working directory\n",
    "import os\n",
    "main_dir = os.getcwd()\n",
    "\n",
    "# make a data directory for our fragment calculation\n",
    "# define the name which will be given to the calculation\n",
    "fragment_name = dimer_name+'_fragment'\n",
    "data_dir = 'data-'+fragment_name\n",
    "if not os.path.exists(data_dir):\n",
    "    os.makedirs(data_dir)\n",
    "\n",
    "# now let's enter the data directory\n",
    "os.chdir(data_dir)\n",
    "\n",
    "# in here we need both the atomic structure of the template molecule...\n",
    "if not os.path.islink(template_name+'.xyz'):\n",
    "    os.symlink('../'+template_name+'.xyz', template_name+'.xyz')\n",
    "\n",
    "# and the data directory associated with the template\n",
    "if not os.path.islink('data-'+template_name):\n",
    "    os.symlink('../data-'+template_name, 'data-'+template_name)\n",
    "\n",
    "# since we now have everything we need, we can go back to the main directory    \n",
    "os.chdir(main_dir)"
   ]
  },
  {
   "cell_type": "markdown",
   "metadata": {},
   "source": [
    "Now we can set up the fragment input file - the basic parameters are the same as the full calculation, but we need to make some adjustments."
   ]
  },
  {
   "cell_type": "code",
   "execution_count": null,
   "metadata": {},
   "outputs": [],
   "source": [
    "# we want to restart from the existing SFs and matrices\n",
    "inpf['dft'].update({'inputpsiid': 'linear_restart'})\n",
    "\n",
    "# we don't want any of the kernel convergence thresholds to be automatically modified\n",
    "inpf['perf'].update({'adjust_kernel_iterations': False, 'adjust_kernel_threshold': False})\n",
    "\n",
    "# we also turn off hybrid mode, I/O etc, and change the outer loop iterations to 1\n",
    "inpf['lin_general'].update({'hybrid': False, 'nit': [0, 1], 'output_mat': 0, 'output_wf': 0,\n",
    "                            'subspace_diag': True})\n",
    "\n",
    "# we dont't want to further optimise the SF basis\n",
    "inpf.update({'lin_basis': {'nit': 1, 'idsx': 1}})\n",
    "\n",
    "# and we need to increase the number of kernel iterations, to ensure it fully converges\n",
    "inpf.update({'lin_kernel': {'nit': 200, 'rpnrm_cv': 1.0e-11, 'delta_pnrm': -1, 'alphamix': 0.1}})\n",
    "\n",
    "# finally, we need to setup the list of fragments, for which we need to know how many fragments the system has\n",
    "# we could manually set it to 2, but the code below is more easily generalisable, to e.g. a trimer\n",
    "# since all fragments are identical so we can simply use the number of atoms\n",
    "nat_dimer = len([at for at in dimer.get_atoms()])\n",
    "nat_template = len([at for at in template.get_atoms()])\n",
    "nfrag = int(nat_dimer / nat_template)\n",
    "\n",
    "# all fragments have the same template, so we can simply make a list of fragment indices \n",
    "# and associate it with that template\n",
    "# this tells BigDFT which atoms in the full system are associated with which template instance\n",
    "inpf.update({'frag': {template_name: [i for i in range(1, nfrag + 1)]}})"
   ]
  },
  {
   "cell_type": "markdown",
   "metadata": {},
   "source": [
    "Now we have everything we need to run the fragment calculation."
   ]
  },
  {
   "cell_type": "code",
   "execution_count": null,
   "metadata": {},
   "outputs": [],
   "source": [
    "name = dimer_name+'_fragment'\n",
    "\n",
    "# we need to remember to use the fragment input file, instead of the template one\n",
    "run_fragment = code.run(input=inpf, sys=dimer, name=name)    \n",
    "\n",
    "converged = check_convergence_fixed_sfs(run_fragment)\n",
    "\n",
    "fragment_energy = Ha2eV * run_fragment.energy / run_fragment.nat\n",
    "fragment_time = run_fragment.log['Timings for root process']['Elapsed time (s)'] / 60.0   \n",
    "                    \n",
    "print('Fragment calculation for the anthracene dimer took '+'{0:.1f}'.format(fragment_time)+' minutes, E = '+\\\n",
    "      '{0:.3f}'.format(fragment_energy)+' eV/atom')"
   ]
  },
  {
   "cell_type": "markdown",
   "metadata": {},
   "source": [
    "### Results\n",
    "\n",
    "Now that we've finished the calculations, let's make a table summarising the results, where we show:\n",
    "- the total energy\n",
    "- the interaction energy, defined as $E_{interaction} = E_{dimer} - 2 E_{monomer}$\n",
    "- the error relative to the full linear scaling result\n",
    "- the total time taken, which in the fragment case includes the cost of the template calculation\n",
    "\n",
    "The error resulting from using the fragment approach is very small - around 2 meV/atom. This is because we are in a good regime for the fragment approach, with rigid templates and relatively weakly interacting fragments, as evidenced by the relatively low interaction energy."
   ]
  },
  {
   "cell_type": "code",
   "execution_count": null,
   "metadata": {},
   "outputs": [],
   "source": [
    "import pandas as pd\n",
    "from IPython.display import display\n",
    "\n",
    "rows = ['Linear Scaling', 'Fragment']\n",
    "columns = ['Total Energy (eV)', 'Interaction Energy (eV)', 'Error (meV/atom)', 'Total Time (s)']\n",
    "\n",
    "table_data = [[full_energy * run_full.nat, \n",
    "               full_energy * run_full.nat - nfrag * template_energy * run_template.nat,\n",
    "               0.0, \n",
    "               60.0 * full_time],\n",
    "              [fragment_energy * run_fragment.nat, \n",
    "               fragment_energy * run_fragment.nat - nfrag * template_energy * run_template.nat,\n",
    "               1000.0 * (fragment_energy - full_energy),\n",
    "               60.0 * (template_time + fragment_time)]]\n",
    "\n",
    "table = pd.DataFrame(table_data, index=rows, columns=columns)\n",
    "\n",
    "table.round(4)"
   ]
  },
  {
   "cell_type": "markdown",
   "metadata": {},
   "source": [
    "## Rotating Dimer\n",
    "\n",
    "Now we know we how to run the dimer calculation, we can try varying the orientation between the molecules. First let's define our list of pre-rotated input structures, where one of the molecules has been rotated by a range of angles between 0 and 90$^\\circ$, in intervals of 15$^\\circ$."
   ]
  },
  {
   "cell_type": "code",
   "execution_count": null,
   "metadata": {},
   "outputs": [],
   "source": [
    "# the structures are named with the separation distance, and angle of rotation for each axis\n",
    "angles = range(0, 105, 15)\n",
    "dimer_names = ['dimer_4_0_'+str(i)+'_0' for i in angles]\n",
    "print(dimer_names)"
   ]
  },
  {
   "cell_type": "markdown",
   "metadata": {},
   "source": [
    "### Linear Scaling Calculations\n",
    "\n",
    "We can use the same input file to run the linear scaling calculations. Since we have set ```skip=True``` in the calculator, the 0$^\\circ$ structure will not be rerun by BigDFT."
   ]
  },
  {
   "cell_type": "code",
   "execution_count": null,
   "metadata": {},
   "outputs": [],
   "source": [
    "linear_dimer_runs = []\n",
    "for dimer_name in dimer_names:  \n",
    "    \n",
    "    name = dimer_name+'_linear'\n",
    "\n",
    "    # we're not going to display the dimer, so we can run BigDFT directly using the .xyz file\n",
    "    # rather than passing a system\n",
    "    run = code.run(input=inpt, posinp=dimer_name+'.xyz', name=name)    \n",
    "    \n",
    "    # let's save the runs in a list, for post-processing later\n",
    "    linear_dimer_runs.append(run)\n",
    "\n",
    "    converged = check_convergence_optimised_sfs(run)\n",
    "\n",
    "    # since we will post-process later, let's just print a message to confirm the calculation has finished\n",
    "    print('Calculation for',dimer_name,'complete')"
   ]
  },
  {
   "cell_type": "markdown",
   "metadata": {},
   "source": [
    "### Fragment Calculations\n",
    "\n",
    "We can use the same template as before, so there is no need to rerun. We could follow the same process as before to link directories. However, we can also just use the existing dimer directory by changing the radical of the calculation. Since we are not writing out any matrices or support functions, we will not overwrite any of the directory's contents, so this is safe to do."
   ]
  },
  {
   "cell_type": "code",
   "execution_count": null,
   "metadata": {},
   "outputs": [],
   "source": [
    "fragment_dimer_runs = []\n",
    "for dimer_name in dimer_names:\n",
    "    \n",
    "    name = dimer_name+'_fragment'\n",
    "    \n",
    "    # update the radical to match the first dimer structure considered\n",
    "    inpf.update({'radical': dimer_names[0]+'_fragment'})\n",
    "\n",
    "    run = code.run(input=inpf, posinp=dimer_name+'.xyz', name=name)  \n",
    "    \n",
    "    fragment_dimer_runs.append(run)\n",
    "\n",
    "    converged = check_convergence_fixed_sfs(run)\n",
    "\n",
    "    print('Calculation for',dimer_name,'complete')"
   ]
  },
  {
   "cell_type": "markdown",
   "metadata": {},
   "source": [
    "### Results\n",
    "\n",
    "Now let's visualise the results."
   ]
  },
  {
   "cell_type": "code",
   "execution_count": null,
   "metadata": {},
   "outputs": [],
   "source": [
    "from matplotlib import pyplot as plt\n",
    "import matplotlib.ticker as ticker\n",
    "%matplotlib inline\n",
    "\n",
    "plt.rcParams.update({'font.size': 14})\n",
    "fig, axs = plt.subplots(2, 1, figsize=(8, 8))\n",
    "\n",
    "fig.subplots_adjust(hspace=0.0)\n",
    "\n",
    "# first plot the interaction energy\n",
    "ax = axs[1]\n",
    "ax.plot(angles,\n",
    "        [Ha2eV * run.energy - 2 * template_energy * run_template.nat for run in linear_dimer_runs],\n",
    "        color='black', marker='s', label='Linear Scaling')\n",
    "\n",
    "ax.plot(angles,\n",
    "        [Ha2eV * run.energy - 2 * template_energy * run_template.nat for run in fragment_dimer_runs],\n",
    "        color='green', marker='o', label='Fragment')\n",
    "\n",
    "ax.set_ylabel('$E_{interaction}$ (eV)')\n",
    "ax.set_xlabel('$\\\\theta$ ($^\\circ$)')\n",
    "\n",
    "# now plot the error coming from the fragment approach\n",
    "ax = axs[0]\n",
    "\n",
    "ax.plot(angles,\n",
    "        [1000.0 * (Ha2eV * run.energy/run.nat - Ha2eV * linear_dimer_runs[i].energy/linear_dimer_runs[i].nat)\n",
    "         for i,run in enumerate(fragment_dimer_runs)],\n",
    "         color='green', marker='o', label='Fragment')\n",
    "\n",
    "ax.set_ylabel('$E_{fragment} - E_{linear}$ (meV/atom)')\n",
    "\n",
    "for i in range(2):\n",
    "    ax = axs[i]\n",
    "    ax.xaxis.set_major_locator(ticker.MultipleLocator(15))\n",
    "    ax.legend(loc='upper left')\n",
    "\n",
    "plt.show()"
   ]
  },
  {
   "cell_type": "markdown",
   "metadata": {},
   "source": [
    "While the fragment approach overall follows the trend of the linear scaling results, the error is larger for the larger angles. We can understand this a bit better by looking at the structure for the system which is rotated by 90$^\\circ$."
   ]
  },
  {
   "cell_type": "code",
   "execution_count": null,
   "metadata": {},
   "outputs": [],
   "source": [
    "dimer_name = 'dimer_4_0_90_0'\n",
    "ifile = open(dimer_name+'.xyz')\n",
    "dimer90 = read_xyz(ifile, fragmentation='single')\n",
    "ifile.close()\n",
    "\n",
    "viz = InlineVisualizer(400, 400)\n",
    "viz.display_system(dimer90, zoom=1.0)"
   ]
  },
  {
   "cell_type": "markdown",
   "metadata": {},
   "source": [
    "Unlike the unrotated dimer, we can see that the minimum separation distance between atoms of each of molecule is much smaller, so that the molecules are much more strongly interacting. Indeed, this is what we could already see in the graph of the interaction energy. In other words, the more strongly interacting the fragments, the larger the error induced by using the fragment approach. This error will of course depend on both the system, and the _quantity of interest_. To illustrate this point, let's also try looking at the density of states (DoS)."
   ]
  },
  {
   "cell_type": "code",
   "execution_count": null,
   "metadata": {},
   "outputs": [],
   "source": [
    "# Gaussian smearing width\n",
    "sigma = 0.3\n",
    "# energy range over which to generate the DoS\n",
    "e_min = -35.0\n",
    "e_max = 10.0\n",
    "# energy resolution of the DoS\n",
    "de = 0.05\n",
    "\n",
    "# BigDFT has its own plotting routines for the DoS\n",
    "# however here we define our own function to access quantities in a way which can easily be manipulated\n",
    "def extract_dos(run):\n",
    "    dos_log = run.get_dos(sigma=sigma, deltae=de, e_min=e_min, e_max=e_max)\n",
    "    curves = dos_log.get_curves()\n",
    "    energies = curves['1'][0]\n",
    "    spectrum = curves['1'][1]\n",
    "    return {'dos': dos_log, 'energies': energies, 'spectrum': spectrum}\n",
    "\n",
    "# extract the DoS for select runs\n",
    "template_dos = extract_dos(run_template)\n",
    "linear_dos = []\n",
    "for run in linear_dimer_runs:\n",
    "    linear_dos.append(extract_dos(run))\n",
    "fragment_dos = []\n",
    "for run in fragment_dimer_runs:\n",
    "    fragment_dos.append(extract_dos(run))"
   ]
  },
  {
   "cell_type": "markdown",
   "metadata": {},
   "source": [
    "Having extracted the DoS, now we can plot the comparison."
   ]
  },
  {
   "cell_type": "code",
   "execution_count": null,
   "metadata": {},
   "outputs": [],
   "source": [
    "plt.rcParams.update({'font.size': 14})\n",
    "fig, axs = plt.subplots(3, 1, figsize=(8, 12))\n",
    "\n",
    "fig.subplots_adjust(hspace=0.0)\n",
    "\n",
    "# plot comparison for 0, 45 and 90 degrees\n",
    "inds = [0, 3, -1]\n",
    "degs = [0, 45, 90]\n",
    "\n",
    "for i in range(3):\n",
    "    ax = axs[i]\n",
    "    ind = inds[i]\n",
    "    \n",
    "    ax.plot(template_dos['energies'], [2.0 * td for td in template_dos['spectrum']],\n",
    "            color='grey', label='Monomer (x2)')\n",
    "    ax.plot(linear_dos[ind]['energies'], linear_dos[ind]['spectrum'],\n",
    "            color='black', label='Linear Scaling '+str(degs[i])+'$^\\circ$ Dimer')\n",
    "    ax.plot(fragment_dos[ind]['energies'], fragment_dos[ind]['spectrum'],\n",
    "            color='green', label='Fragment $'+str(degs[i])+'^\\circ$ Dimer')\n",
    "\n",
    "    ax.set_xlabel('$E$ (eV)')\n",
    "    ax.get_yaxis().set_ticks([])\n",
    "    ax.set_ylabel('DoS (arb. units)')\n",
    "    ax.legend(loc='upper left')\n",
    "    ax.set_xlim([-31, 4])\n",
    "\n",
    "plt.show()"
   ]
  },
  {
   "cell_type": "markdown",
   "metadata": {},
   "source": [
    "As expected, the differences between the linear scaling and fragment-calculated DoS are more noticeable for the larger angles. However, even in the 90$^\\circ$ case, these discrepancies are much smaller than the difference between the sum of the monomer DoS. In other words, the interactions are still reasonably well captured, even in the most strongly interacting case. \n",
    "\n",
    "We can also quantify these differences in the DoS by taking the average absolute difference between the linear scaling and fragment DoS for each timer. As expected, the larger angles show larger differences in the DoS, although unlike the total energy, this is not monotonic. As with the error in total energy, whether or not such differences are significant will depend on the particular application."
   ]
  },
  {
   "cell_type": "code",
   "execution_count": null,
   "metadata": {},
   "outputs": [],
   "source": [
    "for l in range(len(angles)):\n",
    "    ldos = linear_dos[l]\n",
    "    fdos = fragment_dos[l]\n",
    "    diff = sum(abs(ldos['spectrum'][i] - fdos['spectrum'][i]) for i in range(len(ldos['spectrum'])))\n",
    "    diff /= len(ldos['spectrum'])\n",
    "    print('Average difference for dimer rotated by '+'{0:.0f}'.format(angles[l])+\\\n",
    "          ' degrees = '+'{0:.2f}'.format(diff))"
   ]
  },
  {
   "cell_type": "markdown",
   "metadata": {},
   "source": [
    "## Exercise\n",
    "\n",
    "Now you know how to run fragment calculations, you can combine this knowledge with the tools PyBigDFT has for building systems. In other words, you can use the System and Fragment classes to build your own systems which can then be calculated using the fragment approach. \n",
    "\n",
    "- Build a set of dimers without rotation (i.e. 0$^\\circ$), but varying the separation distance along the _x_ axis from 2.5 to 12 $\\\\A$ in increments of 0.5 $\\\\A$, (so far this has been fixed at 4 $\\\\A$). \n",
    "- Hint1: you can use the fragment \"translate\" function from the system generation tutorial to shift the template monomer, but don't forget to convert the shift from angstroms to atomic units.\n",
    "- Hint2: template is a \"system\" containing a single \"fragment\". When a name isn't specified, the first fragments will be by default named \"FRA:0\".\n",
    "- Use the visualizer to check your structures look sensible.\n",
    "- Write the structures to file using the same naming convention as before, i.e. dimer_d_0_0_0.xyz, where _d_ is the distance."
   ]
  },
  {
   "cell_type": "code",
   "execution_count": null,
   "metadata": {},
   "outputs": [],
   "source": []
  },
  {
   "cell_type": "markdown",
   "metadata": {},
   "source": [
    "- The structures have been pre-prepared and written to file, using the name ref_d.xyz, where _d_ is the distance. Check that your files are correct using the diff command below - you may wish to add a loop over distance."
   ]
  },
  {
   "cell_type": "code",
   "execution_count": null,
   "metadata": {},
   "outputs": [],
   "source": [
    "!diff dimer_4_0_0_0.xyz ref_4.xyz"
   ]
  },
  {
   "cell_type": "markdown",
   "metadata": {},
   "source": [
    "- Run full linear scaling and fragment calculations using the same inputs as above. Hint: if you save the new dimer names to a list, you can copy cells 13 and 14 above to run the calculations, but make sure you don't overwrite the old list, as we still need to know the name of the data directory to use for the fragments."
   ]
  },
  {
   "cell_type": "code",
   "execution_count": null,
   "metadata": {},
   "outputs": [],
   "source": []
  },
  {
   "cell_type": "code",
   "execution_count": null,
   "metadata": {},
   "outputs": [],
   "source": []
  },
  {
   "cell_type": "markdown",
   "metadata": {},
   "source": [
    "- Plot the results using the same format as cell 15. How does the error in energy vary with distance? "
   ]
  },
  {
   "cell_type": "code",
   "execution_count": null,
   "metadata": {},
   "outputs": [],
   "source": []
  },
  {
   "cell_type": "markdown",
   "metadata": {},
   "source": [
    "You may have noticed that the error at longer distances doesn't tail off to zero, but is instead roughly cyclical, albeit small (around 6 meV/atom or less). This is due to the eggbox effect which comes from interpolating the support functions as they are shifted relative to the grid. It could be reduced either by using a smaller grid spacing, or using a grid spacing which is commensurate with the shift, so that no interpolation is required."
   ]
  },
  {
   "cell_type": "code",
   "execution_count": null,
   "metadata": {},
   "outputs": [],
   "source": []
  },
  {
   "cell_type": "code",
   "execution_count": null,
   "metadata": {},
   "outputs": [],
   "source": []
  }
 ],
 "metadata": {
  "kernelspec": {
   "display_name": "Python 3",
   "language": "python",
   "name": "python3"
  },
  "language_info": {
   "codemirror_mode": {
    "name": "ipython",
    "version": 3
   },
   "file_extension": ".py",
   "mimetype": "text/x-python",
   "name": "python",
   "nbconvert_exporter": "python",
   "pygments_lexer": "ipython3",
   "version": "3.8.10"
  }
 },
 "nbformat": 4,
 "nbformat_minor": 4
}
