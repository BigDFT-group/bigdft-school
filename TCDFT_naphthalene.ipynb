{
 "cells": [
  {
   "cell_type": "markdown",
   "metadata": {},
   "source": [
    "# Transition-Based Constrained DFT in BigDFT\n",
    "\n",
    "This notebook showcases a full workflow for computing vertical excitation energies for the low lying states of molecules using the transition-based CDFT (T-CDFT) approach within the linear scaling formalism in BigDFT. This follows the methodology described in M. Stella, K. Thapa, L. Genovese and L. E. Ratcliff, J. Chem Theory Comput. 18, 3027 (2022).\n",
    "\n",
    "We present an example workflow for naphthalene. For the purposes of reducing the computational cost, we use a minimal support function (SF) basis. Note that for accurate convergence of the results, a larger basis would be required.\n",
    "\n",
    "The first step is the generation of the fixed SF basis which will be later used for running T-CDFT calculations. The workflow also computes a simple descriptor for characterising the nature of the selected excited state (charge-transfer or local excitation) and a TDDFT analysis to identify whether the excitation is e.g. purely HOMO-LUMO or if it involves multiple orbitals, e.g HOMO to LUMO and HOMO to LUMO+1.\n",
    "\n",
    "This tutorial assumes that you are familiar with the basics of PyBigDFT and BigDFT, including the system class, linear scaling BigDFT, and running calculations. The T-CDFT calculation also uses the same file structure as fragment calculations, and thus it may also be useful to look at the fragment tutorial.\n",
    "\n",
    "Notebook by Dr. Martina Stella and Dr. Laura Ratcliff. "
   ]
  },
  {
   "cell_type": "markdown",
   "metadata": {},
   "source": [
    "## STEP 1: Generate Support Function Basis\n",
    "\n",
    "Our first step is to generate SFs which are suitable for excited state calculations. This involves two calculations, the first of which will use the standard linear scaling protocol. The SFs and density from this calculation are then used as an input for a non-self-consistent calculation, which will also optimise the SFs to represent a given number of virtual states.\n",
    "\n",
    "First we make the BigDFT input files, where we will have a separate input dictionary for each of the two calculations."
   ]
  },
  {
   "cell_type": "code",
   "execution_count": 1,
   "metadata": {},
   "outputs": [],
   "source": [
    "from BigDFT import Inputfiles as I, InputActions as A\n",
    "import sf_sizes\n",
    "\n",
    "inpl = I.Inputfile()\n",
    "inpv = I.Inputfile()\n",
    "\n",
    "# set the XC functional and basis set parameters\n",
    "xc = 'PBE'\n",
    "hgrid = 0.5\n",
    "crmult = 5\n",
    "frmult = 7\n",
    "rloc = 8\n",
    "basis_size = 's_sp'\n",
    "\n",
    "# set the common parameters\n",
    "for inp in [inpl, inpv]:\n",
    "    inp.set_hgrid(hgrid)\n",
    "    inp.set_rmult(coarse=crmult, fine=frmult) \n",
    "    inp.set_xc(xc)\n",
    "    inp.set_psp_nlcc()\n",
    "    inp['import'] = 'linear'\n",
    "    inp.update({'perf': {'check_sumrho': 0, 'check_overlap': 0}})\n",
    "    inp.update({'lin_general': {'rpnrm_cv': 1.0e-11, 'output_wf': 1, 'output_mat': 1,\n",
    "                                'charge_multipoles': 0}})\n",
    "    # set up the basis, making sure the kernel cutoff is much larger than the SF radius\n",
    "    lin_basis_dict = sf_sizes.set_support_function_dict(rloc, rloc + 10, basis_size)\n",
    "    inp.update(lin_basis_dict)\n",
    "    \n",
    "# linear calculation for ground state\n",
    "inpl.update({'lin_kernel': {'linear_method': 'DIAG', 'alphamix': 0.1}})\n",
    "    \n",
    "# non-self-consistent linear calculations for virtual state(s)\n",
    "inpv['dft'].update({'inputpsiid': 'linear_restart'}) \n",
    "inpv['perf'].update({'adjust_kernel_iterations': False, 'adjust_kernel_threshold': False})\n",
    "inpv['lin_general'].update({'hybrid': False, 'kernel_restart_mode': 'coeff', 'nit': [0, 200],\n",
    "                            'rpnrm_cv': 1.0e-8})\n",
    "inpv.update({'lin_basis': {'nit': 4, 'idsx': 2, 'fix_basis': 0.0, 'gnrm_cv': 1.0e-2}})\n",
    "inpv.update({'lin_kernel': {'nit': 1, 'rpnrm_cv': 1.0e-8, 'delta_pnrm': -1, 'linear_method': 'DIRMIN', \n",
    "                            'alphamix': 0.0, 'nstep':  500, 'gnrm_cv_coeff': 1.0e-4}})\n",
    "inpv.update({'output': {'orbitals': 'text'}})\n",
    "\n",
    "# set the number of virtual states we want to optimise\n",
    "# this should be big enough to include all virtual states which are involved in the excitation\n",
    "# but should not include high energy delocalised virtual states, \n",
    "# since these are challenging to represent in a localised basis\n",
    "# here, we choose the number so as to correspond to the number of negative states in a cubic scaling calculation\n",
    "nvirt = 3\n",
    "inpv['lin_general'].update({'extra_states': nvirt})\n",
    "inpv.update({'mix': {'norbsempty': nvirt}})"
   ]
  },
  {
   "cell_type": "markdown",
   "metadata": {},
   "source": [
    "Next we set up the BigDFT calculator."
   ]
  },
  {
   "cell_type": "code",
   "execution_count": 2,
   "metadata": {},
   "outputs": [],
   "source": [
    "from BigDFT import Calculators as C\n",
    "code = C.SystemCalculator(omp=2, mpi_run='mpirun -n 16', verbose=False, skip=True)"
   ]
  },
  {
   "cell_type": "markdown",
   "metadata": {},
   "source": [
    "Now we have everything we need to run the calculations."
   ]
  },
  {
   "cell_type": "code",
   "execution_count": 3,
   "metadata": {
    "scrolled": true
   },
   "outputs": [
    {
     "name": "stdout",
     "output_type": "stream",
     "text": [
      "naphthalene with linopt_s_sp_8 took 2.0 minutes, E = -106.58 eV/atom, HOMO = -5.45 eV, LUMO = -1.22 eV\n",
      "naphthalene with virtopt_s_sp_8 took 0.6 minutes, E = -106.57 eV/atom, HOMO = -5.44 eV, LUMO = -2.04 eV\n"
     ]
    }
   ],
   "source": [
    "from BigDFT import Logfiles as lf\n",
    "import sf_sizes\n",
    "\n",
    "Ha2eV = 27.211396132\n",
    "\n",
    "# the name of the xyz file\n",
    "molecule = 'naphthalene'\n",
    "\n",
    "# both calculations will use the same data directory\n",
    "# so let's name it using the key calculation parameters\n",
    "radical = molecule+'_'+str(xc)+'_S0_SF_'+basis_size+'_'+str(rloc)\n",
    "\n",
    "basis_types = ['linopt', 'virtopt']\n",
    "\n",
    "for lv,linvirt in enumerate(basis_types):\n",
    "    basis = linvirt+'_'+basis_size+'_'+str(rloc)\n",
    "    name = molecule+'_'+str(xc)+'_S0_'+basis\n",
    "\n",
    "    # run the calculation, setting the appropriate radical\n",
    "    if linvirt == 'linopt':\n",
    "        inpl.update({'radical': radical})\n",
    "        lin_run = code.run(input=inpl, posinp=molecule+'.xyz', name=name)\n",
    "        run = lin_run\n",
    "    else:\n",
    "        inpv.update({'radical': radical})   \n",
    "        virt_run = code.run(input=inpv, posinp=molecule+'.xyz', name=name) \n",
    "        run = virt_run\n",
    "           \n",
    "    # let's also summarise some of the results\n",
    "    energy = Ha2eV * run.energy / run.nat\n",
    "                \n",
    "    if linvirt == 'linopt':\n",
    "        ihomo = run.log['Total Number of Orbitals']\n",
    "                    \n",
    "    homo = Ha2eV * run.evals[0][0][ihomo - 1]\n",
    "    lumo = Ha2eV * run.evals[0][0][ihomo]\n",
    "    time = run.log['Timings for root process']['Elapsed time (s)'] / 60.0   \n",
    "                    \n",
    "    print(molecule+' with '+basis+' took '+'{0:.1f}'.format(time)+' minutes, E = '+\\\n",
    "          '{0:.2f}'.format(energy)+' eV/atom, HOMO = '+'{0:.2f}'.format(homo)+' eV, LUMO = '+\\\n",
    "          '{0:.2f}'.format(lumo)+' eV')"
   ]
  },
  {
   "cell_type": "markdown",
   "metadata": {},
   "source": [
    "We can see from the above results that the HOMO does not change much between the ground state and virtual calculations, however the LUMO decreases in energy significantly. This is because the LUMO was not well represented in the ground state calculation.\n",
    "\n",
    "The total energy increases slightly, as it is more challenging to also represent virtual states in the same basis - the larger the basis, the smaller this increase would be."
   ]
  },
  {
   "cell_type": "markdown",
   "metadata": {},
   "source": [
    "## STEP 2: Calculate Transition Breakdown using TDDFT\n",
    "\n",
    "Now that we have our basis, we want to determine the transition breakdown, i.e. which transitions contribute to the targeted excitations. To do this, we will use TDDFT.\n",
    "\n",
    "Although TDDFT is performed using cubic scaling BigDFT, we can use the KS wavefunction files which we already generated for a cubic scaling calculation. In other words, we can skip the wavefunction optimisation step of BigDFT, and jump straight to the TDDFT calculation.\n",
    "\n",
    "However, the virtual wavefunctions need renaming before we can use them for TDDFT, while the orbital index also needs editing. Let's make a function to do this manipulation."
   ]
  },
  {
   "cell_type": "code",
   "execution_count": 4,
   "metadata": {},
   "outputs": [],
   "source": [
    "def wavefunctions_to_virtuals(radical, ihomo, nvirt=1):\n",
    "    import os\n",
    "    import shutil\n",
    "    import subprocess\n",
    "        \n",
    "    os.chdir('data-'+radical)\n",
    "                        \n",
    "    # loop over unoccupied states\n",
    "    for vsf in range(nvirt):\n",
    "        vsfstr = str(vsf + 1).zfill(6)\n",
    "        isf = ihomo + vsf\n",
    "        isfstr = str(isf + 1).zfill(6)\n",
    "        if not os.path.exists('virtuals-k001-NR.b'+vsfstr):\n",
    "            shutil.copy('wavefunction-k001-NR.b'+isfstr,\n",
    "                        'virtuals-k001-NR.b'+vsfstr)\n",
    "            \n",
    "        # finally, we need to modify the first number in virtual state files,\n",
    "        # since the first virtual orbital needs to be 1\n",
    "        # but first check whether or not we did this already\n",
    "        COMMAND = \"awk 'NR==1{print $1}' $1\"\n",
    "        ind = int(subprocess.check_output([COMMAND, \"sh\", 'virtuals-k001-NR.b'+vsfstr], shell=True))\n",
    "        if ind == isf + 1:\n",
    "            COMMAND = 'i='+str(isf+1)+'; j='+str(vsf+1)+'; sed -i -e \"1s/$i /$j /\" $1'\n",
    "            out = subprocess.check_output([COMMAND, \"sh\", 'virtuals-k001-NR.b'+vsfstr], shell=True)\n",
    "            \n",
    "    os.chdir('../')\n",
    "\n",
    "    \n",
    "# the number of virtual states should equal the basis size minus the number of occupied states\n",
    "sf_dict = sf_sizes.set_support_function_dict(-1, -1, basis_size)\n",
    "nbasis = sf_sizes.get_number_of_sfs(lin_run, sf_dict)\n",
    "nocc = lin_run.number_of_orbitals\n",
    "nvirt_tddft = nbasis - nocc\n",
    "wavefunctions_to_virtuals(radical, ihomo, nvirt=nvirt_tddft)"
   ]
  },
  {
   "cell_type": "markdown",
   "metadata": {},
   "source": [
    "Now that we have the wavefunctions in the correct format, let's define our input dictionary. We want the same wavelet parameters as for the linear scaling calculations."
   ]
  },
  {
   "cell_type": "code",
   "execution_count": 5,
   "metadata": {},
   "outputs": [],
   "source": [
    "inpt = I.Inputfile()\n",
    "inpt.set_hgrid(hgrid)\n",
    "inpt.set_rmult(coarse=crmult, fine=frmult) \n",
    "inpt.set_psp_nlcc()\n",
    "# TDDFT can currently only be performed using the ABINIT version of LDA (not LibXC)\n",
    "inpt.set_xc(1)  \n",
    "inpt['dft'].update({'inputpsiid': 2, 'itermax': 1}) \n",
    "inpt.update({'tddft': {'tddft_approach':'full'}})\n",
    "\n",
    "# use the existing data directory\n",
    "radical = molecule+'_'+xc+'_S0_SF_'+basis_size+'_'+str(rloc)  \n",
    "inpt.update({'radical': radical})\n",
    "inpt.extract_virtual_states(nvirt_tddft, davidson=True, norbv=nvirt_tddft, itermax_virt=1)"
   ]
  },
  {
   "cell_type": "markdown",
   "metadata": {},
   "source": [
    "Before we run the calculation, let's also define a function which will help with post-processing the results."
   ]
  },
  {
   "cell_type": "code",
   "execution_count": 6,
   "metadata": {},
   "outputs": [],
   "source": [
    "def decompose_excitation(np, nalpha, evec, tol):\n",
    "    \"\"\"\n",
    "    Express the excitaion in the basis of the KS transitions, according to a given tolerance\n",
    "    \n",
    "    Args:\n",
    "        np (tuple): (norbu, norbd) occupied orbitals: when of length 1 assumed spin averaged\n",
    "        nalpha (tuple): (norbu, norbd) virtual orbitals: when of length 1 assumed spin averaged\n",
    "        evec (array): the components of the excitation vector\n",
    "        tol (float): the tolerance to be used to determine whather a transition contributes to the excitation\n",
    "    \"\"\"\n",
    "\n",
    "    transitions = []\n",
    "    considered_norm = 0.0\n",
    "    for ispin in [0, 1]:\n",
    "        jspin = ispin if len(nalpha) == 2 else 0\n",
    "        \n",
    "        for iorb in range(np[jspin]):\n",
    "            \n",
    "            for ialpha in range(nalpha[jspin]):\n",
    "                index = LR.transition_indexes(np, nalpha, [[iorb, ialpha, ispin]])\n",
    "                val = evec[0, index[0]]\n",
    "                \n",
    "                if val**2 > tol: \n",
    "                    transitions.append({'ovsigma': [-np[jspin]+iorb+1, ialpha, ispin], 'W': val})\n",
    "                    considered_norm += val**2\n",
    "                    \n",
    "    return transitions, considered_norm, 1.0 - considered_norm < tol"
   ]
  },
  {
   "cell_type": "markdown",
   "metadata": {},
   "source": [
    "Now we're ready to run the TDDFT calculation using the pre-existing basis."
   ]
  },
  {
   "cell_type": "code",
   "execution_count": 7,
   "metadata": {},
   "outputs": [
    {
     "name": "stdout",
     "output_type": "stream",
     "text": [
      "TDDFT calculation for naphthalene with LDA and s_sp and Rloc = 8 took 7.2 minutes\n",
      "Loading data with  (24,)  occupied and  (24,)  empty states, from file \" /Users/martinastella/Desktop/leeds_tutorials/naphthalene_tcdft/data-naphthalene_PBE_S0_SF_s_sp_8/coupling_matrix.txt \"\n",
      "Using pandas:\n",
      "done\n",
      "Shape is conformal with the number of orbitals\n",
      "Casida Matrix is symmetric True\n",
      "Loading data with  (24,)  occupied and  (24,)  empty states, from file \" /Users/martinastella/Desktop/leeds_tutorials/naphthalene_tcdft/data-naphthalene_PBE_S0_SF_s_sp_8/transition_quantities.txt \"\n",
      "Using pandas:\n",
      "done\n",
      "Shape is conformal with the number of orbitals\n",
      "Diagonalizing Coupling matrix of shape (1152, 1152)\n",
      "Eigensystem solved\n"
     ]
    }
   ],
   "source": [
    "from BigDFT import LRTDDFT as LR\n",
    "import numpy as np\n",
    "\n",
    "# the number of excitations we are interested, for now the lowest 3\n",
    "num_excitations = 3\n",
    "\n",
    "# whether or not to produce some of the more detailed information\n",
    "plot_doe = False\n",
    "print_decomposition = False\n",
    "\n",
    "name = molecule+'_LDA_S0_SF_'+basis_size+'_'+str(rloc)+'_tddft'\n",
    "tddft_run = code.run(input=inpt, posinp=molecule+'.xyz', name=name)   \n",
    "time = tddft_run.log['Timings for root process']['Elapsed time (s)'] / 60.0  \n",
    "\n",
    "print('TDDFT calculation for '+molecule+' with LDA and '+basis_size+\\\n",
    "      ' and Rloc = '+str(rloc)+' took '+'{0:.1f}'.format(time)+' minutes')\n",
    "\n",
    "# load coupling matrix and transition multipoles from the TDDFT outputs\n",
    "cm = LR.CouplingMatrix(log=tddft_run)\n",
    "tm = LR.TransitionMultipoles(log=tddft_run)\n",
    "\n",
    "# extract excitation energies\n",
    "evals = tddft_run.evals\n",
    "ex = LR.Excitations(cm=cm, tm=tm)\n",
    "ex.split_excitations(evals=evals, tol=1.e-2)\n",
    "ex.identify_singlet_and_triplets(tol=1.e-2)\n",
    "eigenvalues = ex.eigenvalues \n",
    "\n",
    "st = ['singlets', 'triplets']\n",
    "\n",
    "# extract data to plot density of excitations\n",
    "if plot_doe:\n",
    "    DoE = ex.dos(label='full')\n",
    "    for state in st:\n",
    "        tmp = ex.dos_dict(group=state)\n",
    "        tmp.update(label=state)\n",
    "        DoE.append(**tmp)\n",
    "    DoE.plot(xlmax=10, ylmax=500, ylmin=0, sigma=0.1)\n",
    "\n",
    "# extract energies and decomposition for both singlets and triplets\n",
    "excitations = {}\n",
    "for state in st:\n",
    "    excitations[state] = []\n",
    "    lu = ex.lookup(group=state)\n",
    "    if print_decomposition:\n",
    "        print(state+': ')\n",
    "    for i in range(num_excitations):\n",
    "        energy = np.sqrt(ex.eigenvalues[lu][i]) * Ha2eV\n",
    "        if print_decomposition:\n",
    "            print('{0:.2f}'.format(energy), ' ', end=' ') \n",
    "        decomposition = decompose_excitation(cm.norb_occ, cm.norb_virt, ex.eigenvectors[lu][i], 5.e-4)\n",
    "        if print_decomposition:\n",
    "            print(decomposition)\n",
    "        excitations[state].append({'energy': energy, 'decomposition': decomposition}) "
   ]
  },
  {
   "cell_type": "markdown",
   "metadata": {},
   "source": [
    "Finally, let's display the results in a table."
   ]
  },
  {
   "cell_type": "code",
   "execution_count": 8,
   "metadata": {},
   "outputs": [
    {
     "data": {
      "text/html": [
       "<div>\n",
       "<style scoped>\n",
       "    .dataframe tbody tr th:only-of-type {\n",
       "        vertical-align: middle;\n",
       "    }\n",
       "\n",
       "    .dataframe tbody tr th {\n",
       "        vertical-align: top;\n",
       "    }\n",
       "\n",
       "    .dataframe thead tr th {\n",
       "        text-align: left;\n",
       "    }\n",
       "</style>\n",
       "<table border=\"1\" class=\"dataframe\">\n",
       "  <thead>\n",
       "    <tr>\n",
       "      <th></th>\n",
       "      <th></th>\n",
       "      <th colspan=\"3\" halign=\"left\">HOMO</th>\n",
       "      <th colspan=\"3\" halign=\"left\">HOMO-1</th>\n",
       "      <th colspan=\"3\" halign=\"left\">HOMO-2</th>\n",
       "      <th>Sum</th>\n",
       "    </tr>\n",
       "    <tr>\n",
       "      <th></th>\n",
       "      <th>Energy</th>\n",
       "      <th>LUMO</th>\n",
       "      <th>LUMO+1</th>\n",
       "      <th>LUMO+2</th>\n",
       "      <th>LUMO</th>\n",
       "      <th>LUMO+1</th>\n",
       "      <th>LUMO+2</th>\n",
       "      <th>LUMO</th>\n",
       "      <th>LUMO+1</th>\n",
       "      <th>LUMO+2</th>\n",
       "      <th>Sum</th>\n",
       "    </tr>\n",
       "  </thead>\n",
       "  <tbody>\n",
       "    <tr>\n",
       "      <th>S1</th>\n",
       "      <td>4.13</td>\n",
       "      <td>-0.915</td>\n",
       "      <td></td>\n",
       "      <td></td>\n",
       "      <td></td>\n",
       "      <td>0.028</td>\n",
       "      <td></td>\n",
       "      <td></td>\n",
       "      <td></td>\n",
       "      <td>-0.050</td>\n",
       "      <td>0.993</td>\n",
       "    </tr>\n",
       "    <tr>\n",
       "      <th>S2</th>\n",
       "      <td>4.26</td>\n",
       "      <td></td>\n",
       "      <td>0.507</td>\n",
       "      <td></td>\n",
       "      <td>0.493</td>\n",
       "      <td></td>\n",
       "      <td></td>\n",
       "      <td></td>\n",
       "      <td></td>\n",
       "      <td></td>\n",
       "      <td>1.000</td>\n",
       "    </tr>\n",
       "    <tr>\n",
       "      <th>S3</th>\n",
       "      <td>5.00</td>\n",
       "      <td></td>\n",
       "      <td></td>\n",
       "      <td>-0.603</td>\n",
       "      <td></td>\n",
       "      <td></td>\n",
       "      <td></td>\n",
       "      <td>-0.397</td>\n",
       "      <td></td>\n",
       "      <td></td>\n",
       "      <td>1.000</td>\n",
       "    </tr>\n",
       "  </tbody>\n",
       "</table>\n",
       "</div>"
      ],
      "text/plain": [
       "             HOMO                HOMO-1                HOMO-2                 \\\n",
       "   Energy    LUMO LUMO+1  LUMO+2   LUMO LUMO+1 LUMO+2    LUMO LUMO+1  LUMO+2   \n",
       "S1   4.13  -0.915                        0.028                        -0.050   \n",
       "S2   4.26          0.507          0.493                                        \n",
       "S3   5.00                 -0.603                       -0.397                  \n",
       "\n",
       "      Sum  \n",
       "      Sum  \n",
       "S1  0.993  \n",
       "S2  1.000  \n",
       "S3  1.000  "
      ]
     },
     "metadata": {},
     "output_type": "display_data"
    },
    {
     "name": "stdout",
     "output_type": "stream",
     "text": [
      "\n"
     ]
    },
    {
     "data": {
      "text/html": [
       "<div>\n",
       "<style scoped>\n",
       "    .dataframe tbody tr th:only-of-type {\n",
       "        vertical-align: middle;\n",
       "    }\n",
       "\n",
       "    .dataframe tbody tr th {\n",
       "        vertical-align: top;\n",
       "    }\n",
       "\n",
       "    .dataframe thead tr th {\n",
       "        text-align: left;\n",
       "    }\n",
       "</style>\n",
       "<table border=\"1\" class=\"dataframe\">\n",
       "  <thead>\n",
       "    <tr>\n",
       "      <th></th>\n",
       "      <th></th>\n",
       "      <th colspan=\"3\" halign=\"left\">HOMO</th>\n",
       "      <th colspan=\"3\" halign=\"left\">HOMO-1</th>\n",
       "      <th colspan=\"3\" halign=\"left\">HOMO-2</th>\n",
       "      <th>Sum</th>\n",
       "    </tr>\n",
       "    <tr>\n",
       "      <th></th>\n",
       "      <th>Energy</th>\n",
       "      <th>LUMO</th>\n",
       "      <th>LUMO+1</th>\n",
       "      <th>LUMO+2</th>\n",
       "      <th>LUMO</th>\n",
       "      <th>LUMO+1</th>\n",
       "      <th>LUMO+2</th>\n",
       "      <th>LUMO</th>\n",
       "      <th>LUMO+1</th>\n",
       "      <th>LUMO+2</th>\n",
       "      <th>Sum</th>\n",
       "    </tr>\n",
       "  </thead>\n",
       "  <tbody>\n",
       "    <tr>\n",
       "      <th>T1</th>\n",
       "      <td>3.06</td>\n",
       "      <td>-0.991</td>\n",
       "      <td></td>\n",
       "      <td></td>\n",
       "      <td></td>\n",
       "      <td>0.004</td>\n",
       "      <td></td>\n",
       "      <td></td>\n",
       "      <td></td>\n",
       "      <td>0.004</td>\n",
       "      <td>0.999</td>\n",
       "    </tr>\n",
       "    <tr>\n",
       "      <th>T2</th>\n",
       "      <td>3.92</td>\n",
       "      <td></td>\n",
       "      <td>-0.498</td>\n",
       "      <td></td>\n",
       "      <td>0.502</td>\n",
       "      <td></td>\n",
       "      <td></td>\n",
       "      <td></td>\n",
       "      <td></td>\n",
       "      <td></td>\n",
       "      <td>1.000</td>\n",
       "    </tr>\n",
       "    <tr>\n",
       "      <th>T3</th>\n",
       "      <td>4.06</td>\n",
       "      <td></td>\n",
       "      <td>-0.502</td>\n",
       "      <td></td>\n",
       "      <td>-0.498</td>\n",
       "      <td></td>\n",
       "      <td></td>\n",
       "      <td></td>\n",
       "      <td></td>\n",
       "      <td></td>\n",
       "      <td>1.000</td>\n",
       "    </tr>\n",
       "  </tbody>\n",
       "</table>\n",
       "</div>"
      ],
      "text/plain": [
       "             HOMO                 HOMO-1               HOMO-2                \\\n",
       "   Energy    LUMO  LUMO+1 LUMO+2    LUMO LUMO+1 LUMO+2   LUMO LUMO+1 LUMO+2   \n",
       "T1   3.06  -0.991                         0.004                       0.004   \n",
       "T2   3.92          -0.498          0.502                                      \n",
       "T3   4.06          -0.502         -0.498                                      \n",
       "\n",
       "      Sum  \n",
       "      Sum  \n",
       "T1  0.999  \n",
       "T2  1.000  \n",
       "T3  1.000  "
      ]
     },
     "metadata": {},
     "output_type": "display_data"
    }
   ],
   "source": [
    "import pandas as pd\n",
    "from IPython.display import display\n",
    "\n",
    "def get_table(state, num_excitations, excitations, num_orbitals, spin):\n",
    "    \n",
    "    occ_orbitals = ['']\n",
    "    virt_orbitals = ['Energy']\n",
    "    for iocc in range(num_orbitals):\n",
    "        for jvirt in range(num_orbitals):\n",
    "            if iocc == 0:\n",
    "                occ_orbitals.append('HOMO')\n",
    "            else:\n",
    "                occ_orbitals.append('HOMO-'+str(iocc))\n",
    "            if jvirt == 0:\n",
    "                virt_orbitals.append('LUMO')\n",
    "            else:\n",
    "                virt_orbitals.append('LUMO+'+str(jvirt))\n",
    "    occ_orbitals.append('Sum')            \n",
    "    virt_orbitals.append('Sum')          \n",
    "            \n",
    "    arrays = [occ_orbitals, virt_orbitals]\n",
    "    columns = pd.MultiIndex.from_arrays(arrays, names=['', ''])\n",
    "\n",
    "    if state == 'singlets':\n",
    "        tag = 'S'\n",
    "    else:\n",
    "        tag = 'T'\n",
    "    rows = [tag + str(i + 1) for i in range(num_excitations)]    \n",
    "\n",
    "    table_data = []\n",
    "    \n",
    "    for i in range(num_excitations):\n",
    "        table_row = []\n",
    "        energy = excitations[state][i]['energy']\n",
    "        table_row.append('{0:.2f}'.format(energy))\n",
    "        \n",
    "        # get breakdown of contributions\n",
    "        decomposition = excitations[state][i]['decomposition'][0]\n",
    "        \n",
    "        exc_contrib = np.array([])    \n",
    "        for i in range(len(decomposition)):\n",
    "            exc_contrib = np.append(exc_contrib, decomposition[i]['W'])    \n",
    "        \n",
    "        sum_contributions = 0.0\n",
    "        for iocc in range(num_orbitals):\n",
    "            for jvirt in range(num_orbitals):\n",
    "                \n",
    "                pi = ''\n",
    "                for dec in decomposition:\n",
    "                    if dec['ovsigma'][0] == -iocc and dec['ovsigma'][1] == jvirt and dec['ovsigma'][2] == spin:\n",
    "                        # take the square, but also retain the sign\n",
    "                        pi = dec['W'] * dec['W'] / (np.sum(exc_contrib**2) / 2.0)\n",
    "                        sum_contributions += pi\n",
    "                        pi = '{0:.3f}'.format(np.sign(dec['W']) * pi)\n",
    "                        break\n",
    "                        \n",
    "                table_row.append(pi)\n",
    "                              \n",
    "        table_row.append('{0:.3f}'.format(sum_contributions))\n",
    "                \n",
    "        table_data.append(table_row)\n",
    "        \n",
    "    table = pd.DataFrame(table_data, index=rows, columns=columns)\n",
    "\n",
    "    return table\n",
    "\n",
    "\n",
    "# summarise the transition breakdown for a given spin channel,\n",
    "# include transition contributions up to HOMO-/LUMO+(norb - 1) orbitals\n",
    "spin = 0\n",
    "norb = 3\n",
    "singlets_table = get_table('singlets', num_excitations, excitations, norb, spin)\n",
    "display(singlets_table)\n",
    "\n",
    "print('')\n",
    "        \n",
    "triplets_table = get_table('triplets', num_excitations, excitations, norb, spin)\n",
    "display(triplets_table)"
   ]
  },
  {
   "cell_type": "markdown",
   "metadata": {},
   "source": [
    "The above tables shows the energies and transition breakdowns for the 3 lowest singlet and triplet states. We have chosen to only show the contributions coming from the 3 highest occupied and 3 lowest unoccupied molecular orbitals. \n",
    "\n",
    "As can be seen, there is an additional small contribution from other orbitals for the lowest singlet state. We can also see that both $S_1$ and $T_1$ are dominated by the HOMO-LUMO transition, with S$_1$ also including more significant contributions from other transitions. This information will be used later on when defining the constraint to impose."
   ]
  },
  {
   "cell_type": "markdown",
   "metadata": {},
   "source": [
    "## STEP 3: Calculate HOMO-LUMO Spatial Overlap\n",
    "\n",
    "Our next step in characterising the excitation is to calculate the spatial overlap between the HOMO and the LUMO. For a pure HOMO-LUMO excitation, this quantity is indicative of the charge transfer nature of the excitation - a high value indicates a strongly local excitation, while a small value indicates a charge transfer excitation.\n",
    "\n",
    "This step uses the cubetools package, so we need cube files of the HOMO and LUMO. At the end of the virtual calculation, we already wrote the KS wavefunctions to file, so now we need to convert them to cube format. We can do that using BigDFT-tool - let's define a function to wrap the process."
   ]
  },
  {
   "cell_type": "code",
   "execution_count": 9,
   "metadata": {},
   "outputs": [],
   "source": [
    "def generate_cube(molecule, log, name, iorb, tag='wavefunction'):\n",
    "    import os\n",
    "    import shutil\n",
    "    \n",
    "    data_dir = log.data_directory\n",
    "    filename = data_dir+'/'+tag+'-k001-NR.b'+'{:06d}'.format(iorb)\n",
    "    \n",
    "    # BigDFT-tool does not like too long an argument, so we'll copy the input file to tmp.yaml\n",
    "    shutil.copy(name+'.yaml', 'tmp.yaml')\n",
    "\n",
    "    # now we can call BigDFT-tool\n",
    "    cmd = '$BIGDFT_ROOT/bigdft-tool -a export-wf '+filename+' --name=tmp'+' > log-bigdft-tool.yaml'\n",
    "    os.system(cmd)\n",
    "    \n",
    "    # for some reason the name from BigDFT and BigDFT-tool is not consistent, so we override it\n",
    "    if tag == 'virtuals':\n",
    "        tag = 'virtual'\n",
    "    \n",
    "    # we need to move the files into the data directory\n",
    "    shutil.move(tag+'-k001-NR.b'+'{:06d}'.format(iorb)+'.cube', filename+'.cube')\n",
    "    for xyz in ['x', 'y', 'z']:\n",
    "        shutil.move(tag+'-k001-NR.b'+'{:06d}'.format(iorb)+'_avg_'+xyz+'.dat', filename+'_avg_'+xyz+'.dat')\n",
    "    \n",
    "    # finally we remove the temporary file we created\n",
    "    os.remove('tmp.yaml')"
   ]
  },
  {
   "cell_type": "markdown",
   "metadata": {},
   "source": [
    "Now we can use the function to convert to cube format, and calculate the spatial overlap. The value is high, indicating a local excitation."
   ]
  },
  {
   "cell_type": "code",
   "execution_count": 10,
   "metadata": {},
   "outputs": [
    {
     "name": "stdout",
     "output_type": "stream",
     "text": [
      "Spatial overlap = 0.89\n"
     ]
    }
   ],
   "source": [
    "import cubetools\n",
    "        \n",
    "data_dir = virt_run.data_directory\n",
    "        \n",
    "generate_cube(molecule, virt_run, name, ihomo)\n",
    "cube_file = data_dir+'wavefunction-k001-NR.b'+'{:06d}'.format(ihomo)+'.cube'\n",
    "datah, metah = cubetools.read_cube(cube_file)\n",
    "\n",
    "# the virtual orbitals are indexed starting at 1\n",
    "ilumo = 1\n",
    "generate_cube(molecule, virt_run, name, ilumo, tag='virtuals')\n",
    "cube_file = data_dir+'virtuals-k001-NR.b'+'{:06d}'.format(ilumo)+'.cube'\n",
    "datal, metal = cubetools.read_cube(cube_file)\n",
    "\n",
    "ct = np.sum(np.sqrt(datah**2 * datal**2))\n",
    "print(\"Spatial overlap = \"+'{0:.2f}'.format(ct))"
   ]
  },
  {
   "cell_type": "markdown",
   "metadata": {},
   "source": [
    "## STEP 4: Perform a T-CDFT Calculation with a Pure Constraint\n",
    "\n",
    "We now have everything we need to perform a T-CDFT calculation, using the basis generated in step 1.\n",
    "\n",
    "Despite still being farily pure, as noted, the $S_1$ excitation in naphthalene does display some contributions from transitions other than the HOMO-LUMO. As a first approximation we will first assume a pure HOMO-LUMO transition. We may then compare the results to the scenario where additional transitions are included.\n",
    "\n",
    "First we need to define a new input file, starting from the one used to generate the basis."
   ]
  },
  {
   "cell_type": "code",
   "execution_count": 11,
   "metadata": {},
   "outputs": [],
   "source": [
    "from BigDFT import CDFT\n",
    "from copy import deepcopy\n",
    "\n",
    "# we'll make a copy of the input dictionary to be safe\n",
    "inpc = deepcopy(inpv)\n",
    "\n",
    "# the input follows along a fragment calculation, in that we do not want to further optimise the basis\n",
    "inpc['lin_general'].update({'nit': [0, 1], 'extra_states': 0, 'rpnrm_cv': 1.0e-11, 'output_fragments': 2})\n",
    "inpc['lin_basis'].update({'nit': 1, 'idsx': 0})\n",
    "inpc['lin_kernel'].update({'nit': 100, 'rpnrm_cv': 1.0e-10, 'alphamix': 0.1, 'linear_method': 'DIAG'})\n",
    "inpc.pop('output')\n",
    "inpc.pop('mix')\n",
    "\n",
    "Vc = -20.0\n",
    "\n",
    "# now we can generate the constraints\n",
    "s1 = CDFT.OpticalConstraint(kind='SINGLET')\n",
    "s1.append_hole_component(fragment=1, orbital='HOMO', coefficient=1.0)\n",
    "s1.append_electron_component(fragment=1, orbital='LUMO', coefficient=1.0)\n",
    "s1.set_Vc(Vc)\n",
    "\n",
    "t1 = CDFT.OpticalConstraint(kind='TRIPLET')\n",
    "t1.append_hole_component(fragment=1, orbital='HOMO', coefficient=1.0)\n",
    "t1.append_electron_component(fragment=1, orbital='LUMO', coefficient=1.0)\n",
    "t1.set_Vc(Vc)\n",
    "\n",
    "# as with any fragment calculation, we also need an extra directory layer\n",
    "cdft_dir_name = 'tcdft'"
   ]
  },
  {
   "cell_type": "markdown",
   "metadata": {},
   "source": [
    "Now let's set up the directories for the fragment approach."
   ]
  },
  {
   "cell_type": "code",
   "execution_count": 12,
   "metadata": {},
   "outputs": [],
   "source": [
    "import os\n",
    "\n",
    "# we first create the directory\n",
    "cdft_dir = 'data-'+cdft_dir_name\n",
    "if not os.path.exists(cdft_dir):\n",
    "    os.makedirs(cdft_dir)\n",
    "                    \n",
    "# arrange folders for fragment style calculation\n",
    "basis_dir = molecule+'_'+str(xc)+'_S0_SF_'+basis_size+'_'+str(rloc)\n",
    "os.chdir(cdft_dir)\n",
    "if not os.path.exists('data-'+basis_dir):\n",
    "    os.symlink('../data-'+basis_dir, 'data-'+basis_dir)\n",
    "if not os.path.islink(basis_dir+'.xyz'): \n",
    "    os.symlink('../'+molecule+'.xyz', basis_dir+'.xyz')\n",
    "os.chdir('../')"
   ]
  },
  {
   "cell_type": "markdown",
   "metadata": {},
   "source": [
    "Our SF basis will be generated using a spin restricted calculation, while the T-CDFT triplet calculation will be performed in an unrestricted formalism. \n",
    "\n",
    "We therefore define a function which will use symbolic links to enable the T-CDFT calculation to read in the SFs for an unrestricted calculation, i.e. with both up and down SFs (which in this case are identical)."
   ]
  },
  {
   "cell_type": "code",
   "execution_count": 13,
   "metadata": {},
   "outputs": [],
   "source": [
    "def link_support_functions(radical, nsfs):\n",
    "    import os\n",
    "        \n",
    "    os.chdir('data-'+radical)\n",
    "    \n",
    "    for isf in range(nsfs):\n",
    "        isfstr = str(isf + 1).zfill(6)\n",
    "        # if we have the files already delete them to be safe\n",
    "        if os.path.exists('minBasis-k001-UR.b'+isfstr):\n",
    "            os.remove('minBasis-k001-UR.b'+isfstr)\n",
    "        if os.path.exists('minBasis-k001-DR.b'+isfstr):\n",
    "            os.remove('minBasis-k001-DR.b'+isfstr)\n",
    "        # now make the links\n",
    "        if not os.path.islink('minBasis-k001-UR.b'+isfstr):\n",
    "            os.symlink('minBasis-k001-NR.b'+isfstr, 'minBasis-k001-UR.b'+isfstr)\n",
    "        if not os.path.islink('minBasis-k001-DR.b'+isfstr):   \n",
    "            os.symlink('minBasis-k001-NR.b'+isfstr, 'minBasis-k001-DR.b'+isfstr)\n",
    "            \n",
    "    os.chdir('../')\n",
    "\n",
    "    \n",
    "nsfs = lin_run.log['Total No. Support Functions']\n",
    "link_support_functions(basis_dir, nsfs)"
   ]
  },
  {
   "cell_type": "markdown",
   "metadata": {},
   "source": [
    "Let's now define a function to check the convergence. This is similar to the function used in the fragment tutorial, but in this case we also check whether the Lagrange multiplier was large enough to transfer the correct number of electrons."
   ]
  },
  {
   "cell_type": "code",
   "execution_count": 14,
   "metadata": {},
   "outputs": [],
   "source": [
    "def check_convergence(run, cdft=False, cdft_thresh=0.01):\n",
    "    \n",
    "    # in this case we check the convergence of the kernel loop\n",
    "    dout = run.log['Ground State Optimization'][-1]['kernel optimization'][-1]['summary']['delta']\n",
    "\n",
    "    # check what threshold we were trying to meet\n",
    "    dthresh = float(run.log['lin_kernel']['rpnrm_cv'])\n",
    "    \n",
    "    converged = True\n",
    "    \n",
    "    if dout > dthresh:\n",
    "        converged = False\n",
    "        print('WARNING, calculation did not converge')\n",
    "    \n",
    "    if cdft:\n",
    "        kw = run.log['Ground State Optimization'][-1]['kernel optimization'][-1]['summary']\\\n",
    "                    ['Constraint 1']['Tr(KW)']\n",
    "        if abs(1.0 - kw) > cdft_thresh:\n",
    "            converged = False\n",
    "            print('WARNING, Tr(KW) != 1.0', kw)\n",
    "            \n",
    "    return converged"
   ]
  },
  {
   "cell_type": "markdown",
   "metadata": {},
   "source": [
    "Finally we can run the singlet and triplet calculations."
   ]
  },
  {
   "cell_type": "code",
   "execution_count": 15,
   "metadata": {},
   "outputs": [
    {
     "name": "stdout",
     "output_type": "stream",
     "text": [
      "naphthalene S0 with PBE and s_sp and Rloc = 8 took 0.3 minutes, E = -106.57 eV/atom\n",
      "naphthalene S1 with PBE and s_sp and Rloc = 8 took 0.4 minutes, Delta E = 4.35 eV\n",
      "naphthalene T1 with PBE and s_sp and Rloc = 8 took 1.0 minutes, Delta E = 2.97 eV\n"
     ]
    }
   ],
   "source": [
    "import shutil\n",
    "\n",
    "for state in ['S0', 'S1', 'T1']:\n",
    "    \n",
    "    # reset the CDFT part of the input\n",
    "    if 'constrained_dft' in inpc:\n",
    "        inpc.pop('constrained_dft', None)\n",
    "                \n",
    "    if state == 'S0':\n",
    "        name = molecule+'_'+str(xc)+'_S0_SF_'+basis_size+'_'+str(rloc)\n",
    "                    \n",
    "        # don't run this calculation as a fragment calculation\n",
    "        # otherwise the coefficients will not be written corectly\n",
    "        inpc.update({'radical': basis_dir})\n",
    "        inpc['dft'].update({'nspin': 1})\n",
    "        inpc['lin_general'].update({'kernel_restart_mode': 'kernel', 'output_wf': 1, 'output_mat': 0})\n",
    "        if 'frag' in inpc:\n",
    "            inpc.pop('frag', None)\n",
    "                \n",
    "    else:\n",
    "        # we'll include the constraint in the name, to avoid confusion with different constraints\n",
    "        name = molecule+'_'+str(xc)+'_'+state+'_SF_'+basis_size+'_'+str(rloc)+'_HOMO_LUMO'\n",
    "                    \n",
    "        inpc.update({'radical': cdft_dir_name})\n",
    "        inpc.update({'frag': {basis_dir: [1]}})\n",
    "        inpc['lin_general'].update({'kernel_restart_mode': 'diag', 'output_wf': 0, 'output_mat': 1})\n",
    "\n",
    "        if state == 'S1':\n",
    "            inpc['dft'].update({'nspin': 1})\n",
    "            inpc.add_cdft_constraint(s1, homo_per_fragment={1: ihomo})\n",
    "\n",
    "        elif state == 'T1':\n",
    "            inpc['dft'].update({'nspin': 2})\n",
    "            inpc.add_cdft_constraint(t1, homo_per_fragment={1: ihomo})\n",
    "            \n",
    "    run = code.run(input=inpc, posinp=molecule+'.xyz', name=name) \n",
    "\n",
    "    if state == 'S0':\n",
    "        s0_energy = Ha2eV * run.energy  \n",
    "        converged = check_convergence(run)\n",
    "    else: \n",
    "        energy = Ha2eV * run.energy - s0_energy\n",
    "        converged = check_convergence(run, cdft=True)\n",
    "        \n",
    "        # in this case, we will reuse the kernel for the mixed constraint\n",
    "        # so let's rename it to avoid overwriting it  \n",
    "        src_file = 'data-'+cdft_dir_name+'/density_kernel_sparse.mtx'\n",
    "        dest_file = 'data-'+cdft_dir_name+'/density_kernel_sparse_HOMO_LUMO_'+state+'.mtx'\n",
    "        # we assume that if it exists already, it's the correct version\n",
    "        # if it isn't the case, this step would need to be taken care of manually\n",
    "        if not os.path.isfile(dest_file):\n",
    "            shutil.move(src_file, dest_file)  \n",
    "            \n",
    "        # save the value for comparison with the mixed constraint\n",
    "        if state == 'S1':\n",
    "            pure_energy = energy\n",
    "\n",
    "    time = run.log['Timings for root process']['Elapsed time (s)'] / 60.0  \n",
    "\n",
    "    if state == 'S0':\n",
    "        print(molecule+' S0 with '+xc+' and '+basis_size+' and Rloc = '+\\\n",
    "              str(rloc)+' took '+'{0:.1f}'.format(time)+' minutes, E = '+\\\n",
    "              '{0:.2f}'.format(s0_energy/run.nat)+' eV/atom')\n",
    "    else:\n",
    "        print(molecule+' '+state+' with '+xc+' and '+basis_size+' and Rloc = '+\\\n",
    "              str(rloc)+' took '+'{0:.1f}'.format(time)+' minutes, Delta E = '+\\\n",
    "              '{0:.2f}'.format(energy)+' eV')"
   ]
  },
  {
   "cell_type": "markdown",
   "metadata": {},
   "source": [
    "These values are slightly higher than the published values (see reference in the introduction), because we used a smaller basis set, but the difference is small."
   ]
  },
  {
   "cell_type": "markdown",
   "metadata": {},
   "source": [
    "## STEP 5: Perform a T-CDFT Calculation with a Mixed Constraint\n",
    "\n",
    "Finally, we will repeat our T-CDFT calculation of $S_1$, including additional orbital contributions to $S_1$, guided by the TDDFT transition break down from Step 2.\n",
    "\n",
    "First we run a T-CDFT calculation for each component of the targeted excitation. For the HOMO-LUMO component this will already have been run, but we will include it in the list of transitions for completeness."
   ]
  },
  {
   "cell_type": "code",
   "execution_count": 16,
   "metadata": {},
   "outputs": [
    {
     "name": "stdout",
     "output_type": "stream",
     "text": [
      "naphthalene S1 HOMO -> LUMO took 1.0 minutes, Delta E = 4.35 eV\n",
      "naphthalene S1 HOMO-1 -> LUMO+1 took 1.0 minutes, Delta E = 6.16 eV\n",
      "naphthalene S1 HOMO-2 -> LUMO+2 took 1.0 minutes, Delta E = 7.24 eV\n"
     ]
    }
   ],
   "source": [
    "# whether this is a singlet or triplet excitation\n",
    "state = 'S1'\n",
    "\n",
    "# here we define the orbitals involved in the transition, in this case coming from TDDFT\n",
    "# we are assuming for now that we never have one hole -> more than one electron,\n",
    "# although this can straightforwardly be generalised\n",
    "electrons_holes = [['HOMO', 'LUMO'], ['HOMO-1', 'LUMO+1'], ['HOMO-2', 'LUMO+2']]\n",
    "coefficients = [[1.0, 1.0], [1.0, 1.0], [1.0, 1.0]]\n",
    "    \n",
    "for eh,electron_hole in enumerate(electrons_holes):\n",
    "    \n",
    "    if 'constrained_dft' in inpc:\n",
    "        inpc.pop('constrained_dft', None)\n",
    "\n",
    "    if state[0] == 'S':\n",
    "        constraint = CDFT.OpticalConstraint(kind='SINGLET')\n",
    "        inpc['dft'].update({'nspin': 1})\n",
    "    else:\n",
    "        constraint = CDFT.OpticalConstraint(kind='TRIPLET')\n",
    "        inpc['dft'].update({'nspin': 2})\n",
    "      \n",
    "    constraint.set_Vc(Vc)\n",
    "    constraint.append_hole_component(fragment=1, orbital=electron_hole[0], coefficient=coefficients[eh][0])\n",
    "    constraint.append_electron_component(fragment=1, orbital=electron_hole[1], coefficient=coefficients[eh][1])\n",
    "    inpc.add_cdft_constraint(constraint, homo_per_fragment={1: ihomo})\n",
    "\n",
    "    # run calculation\n",
    "    name = molecule+'_'+str(xc)+'_SF_'+basis_size+'_'+str(rloc)+'_'+electron_hole[0]+'_'+electron_hole[1]\n",
    "    run = code.run(input=inpc, posinp=molecule+'.xyz', name=name) \n",
    "    \n",
    "    converged = check_convergence(run, cdft=True)\n",
    "    \n",
    "    energy = Ha2eV * run.energy - s0_energy\n",
    "    \n",
    "    # in this case, we will reuse the kernel for the mixed constraint\n",
    "    # so let's rename it to avoid overwriting it  \n",
    "    src_file = 'data-'+cdft_dir_name+'/density_kernel_sparse.mtx'\n",
    "    dest_file = 'data-'+cdft_dir_name+'/density_kernel_sparse_'+electron_hole[0]+'_'+electron_hole[1]+\\\n",
    "                '_'+state+'.mtx'\n",
    "    # we assume that if it exists already, it's the correct version\n",
    "    # if it isn't the case, this step would need to be taken care of manually\n",
    "    if not os.path.isfile(dest_file):\n",
    "        shutil.move(src_file, dest_file)  \n",
    "\n",
    "    # print energies, for information only\n",
    "    print (molecule+' '+state+' '+electron_hole[0]+' -> '+electron_hole[1]+\\\n",
    "           ' took '+'{0:.1f}'.format(time)+' minutes, Delta E = '+'{0:.2f}'.format(energy)+' eV')"
   ]
  },
  {
   "cell_type": "markdown",
   "metadata": {},
   "source": [
    "In order to get the energy for the mixed constraint, we need to modify the input file."
   ]
  },
  {
   "cell_type": "code",
   "execution_count": 17,
   "metadata": {},
   "outputs": [
    {
     "data": {
      "text/plain": [
       "[{'Vc': -20.0,\n",
       "  'constraint_type': 'OPTICAL',\n",
       "  'hole': [{'fragment': 1, 'orbitals': {22: 1.0}}],\n",
       "  'electron': [{'fragment': 1, 'orbitals': {27: 1.0}}],\n",
       "  'excitation_type': 'SINGLET'}]"
      ]
     },
     "execution_count": 17,
     "metadata": {},
     "output_type": "execute_result"
    }
   ],
   "source": [
    "# we'll copy and modify the input file for the pure constraints\n",
    "inpm = deepcopy(inpc)\n",
    "\n",
    "inpm['lin_general'].update({'kernel_restart_mode': 'full_kernel'})\n",
    "# we want to run without any SCF iterations\n",
    "# here for technical reasons we set nit = 1, otherwise the resulting logfile is not valid\n",
    "inpm['lin_kernel'].update({'nit': 1})\n",
    "\n",
    "# there is also no need any more to apply a constraint\n",
    "inpm.pop('constrained_dft', None)"
   ]
  },
  {
   "cell_type": "markdown",
   "metadata": {},
   "source": [
    "We also need to construct a new density kernel, weighting the constituent kernels based on the TDDFT transition breakdown."
   ]
  },
  {
   "cell_type": "code",
   "execution_count": 18,
   "metadata": {},
   "outputs": [
    {
     "name": "stdout",
     "output_type": "stream",
     "text": [
      "Running mixed T-CDFT with coefficients  [0.9214501510574018, 0.02819738167170191, 0.05035246727089627]\n"
     ]
    }
   ],
   "source": [
    "from scipy.io import mmread, mmwrite\n",
    "\n",
    "# define the transition weightings, based on the TDDFT breakdown\n",
    "coefficients = [0.915, 0.028, 0.050]\n",
    "\n",
    "# since this is not guaranteed to be normalised (due to missing small contributions), explicitly normalise it\n",
    "coeff_sum = sum(coefficients)\n",
    "coefficients = [c / coeff_sum for c in coefficients]\n",
    "print('Running mixed T-CDFT with coefficients ', coefficients)\n",
    "\n",
    "# combine the kernels\n",
    "for eh,electron_hole in enumerate(electrons_holes):   \n",
    "    kernel_file = 'data-'+cdft_dir_name+'/density_kernel_sparse'+'_'+\\\n",
    "                  electron_hole[0]+'_'+electron_hole[1]+'_S1.mtx'\n",
    "    kernel = mmread(kernel_file)\n",
    "\n",
    "    if eh == 0:\n",
    "        combined_kernel = deepcopy(kernel)\n",
    "        combined_kernel.data[:] = 0.0\n",
    "        \n",
    "    combined_kernel += coefficients[eh] * kernel     \n",
    "\n",
    "mmwrite('data-'+cdft_dir_name+'/density_kernel_sparse.mtx', combined_kernel)"
   ]
  },
  {
   "cell_type": "markdown",
   "metadata": {},
   "source": [
    "Finally, we can run the mixed calculation using this new kernel."
   ]
  },
  {
   "cell_type": "code",
   "execution_count": 19,
   "metadata": {},
   "outputs": [
    {
     "name": "stdout",
     "output_type": "stream",
     "text": [
      "naphthalene S1 with a mixed constraint took 1.0 minutes, Delta E = 4.51 eV\n",
      "naphthalene S1 with a pure constraint Delta E = 4.35 eV\n"
     ]
    }
   ],
   "source": [
    "# for simplicity, we name the run simply with \"mixed\" as a suffix\n",
    "# in the case where other trnasition breakdowns need to be tested, this would have to be modified\n",
    "name = molecule+'_'+str(xc)+'_'+state+'_SF_'+basis_size+'_'+str(rloc)+'_mixed'\n",
    "run = code.run(input=inpm, posinp=molecule+'.xyz', name=name) \n",
    "\n",
    "# take the energy from the first field where it's calculated\n",
    "# instead of taking from run.energy, as this result is not correctly calculated in the case where nit=1\n",
    "e = run.log['Ground State Optimization'][4]['support function optimization'][1]['Omega']['ENERGY']\n",
    "mixed_energy = Ha2eV * e - s0_energy\n",
    "\n",
    "print (molecule+' '+state+' with a mixed constraint took '+'{0:.1f}'.format(time)+\\\n",
    "       ' minutes, Delta E = '+'{0:.2f}'.format(mixed_energy)+' eV')\n",
    "print (molecule+' '+state+' with a pure constraint Delta E = '+'{0:.2f}'.format(pure_energy)+' eV')"
   ]
  },
  {
   "cell_type": "markdown",
   "metadata": {},
   "source": [
    "As with the pure excitation, the energy is higher than the value given in the publication. This is both because of the smaller basis set, and because the transition breakdown was calculated using a smaller basis set."
   ]
  },
  {
   "cell_type": "code",
   "execution_count": null,
   "metadata": {},
   "outputs": [],
   "source": [
    "#Final remarks"
   ]
  },
  {
   "cell_type": "code",
   "execution_count": null,
   "metadata": {},
   "outputs": [],
   "source": []
  },
  {
   "cell_type": "code",
   "execution_count": null,
   "metadata": {},
   "outputs": [],
   "source": []
  }
 ],
 "metadata": {
  "kernelspec": {
   "display_name": "Python 3 (ipykernel)",
   "language": "python",
   "name": "python3"
  },
  "language_info": {
   "codemirror_mode": {
    "name": "ipython",
    "version": 3
   },
   "file_extension": ".py",
   "mimetype": "text/x-python",
   "name": "python",
   "nbconvert_exporter": "python",
   "pygments_lexer": "ipython3",
   "version": "3.9.13"
  }
 },
 "nbformat": 4,
 "nbformat_minor": 2
}
