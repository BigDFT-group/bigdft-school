{
  "cells": [
    {
      "cell_type": "markdown",
      "id": "f09de3be-35c2-4031-965f-d18ca7ebf7f1",
      "metadata": {
        "id": "f09de3be-35c2-4031-965f-d18ca7ebf7f1"
      },
      "source": [
        "# Initial PyBigDFT tour - Basic functionalities\n",
        "we start by presenting a broad overview of using the PyBigDFT library to drive BigDFT calculations using Python. In this lesson we will go quickly, returning in the future lessons to go into detail about each part.\n",
        "\n",
        "For this tutorial, we have to ensure that at least the bigdft client is installed."
      ]
    },
    {
      "cell_type": "code",
      "source": [
        "# in the google colab session this can be done with the following command:\n",
        "!wget https://gitlab.com/luigigenovese/bigdft-school/-/raw/main/packaging/install.py &> /dev/null\n",
        "import install\n",
        "install.client(locally=True)"
      ],
      "metadata": {
        "id": "ydYVh9YKAJlT"
      },
      "id": "ydYVh9YKAJlT",
      "execution_count": null,
      "outputs": []
    },
    {
      "cell_type": "markdown",
      "source": [
        "As well as the `py3dmol` package."
      ],
      "metadata": {
        "id": "kAWWwda47BE9"
      },
      "id": "kAWWwda47BE9"
    },
    {
      "cell_type": "code",
      "source": [
        "install.packages('py3Dmol')"
      ],
      "metadata": {
        "id": "-c7F1ZZqKOFH"
      },
      "id": "-c7F1ZZqKOFH",
      "execution_count": null,
      "outputs": []
    },
    {
      "cell_type": "markdown",
      "id": "0b40b074-888f-4139-9716-c46eb68e585f",
      "metadata": {
        "id": "0b40b074-888f-4139-9716-c46eb68e585f"
      },
      "source": [
        "## System Manipulation\n",
        "Here we define a system which is composed of two fragments: H2 and Helium."
      ]
    },
    {
      "cell_type": "code",
      "execution_count": null,
      "id": "509f8617-9aae-49ac-9b16-70bd9378e1c2",
      "metadata": {
        "id": "509f8617-9aae-49ac-9b16-70bd9378e1c2"
      },
      "outputs": [],
      "source": [
        "from BigDFT.Systems import System\n",
        "from BigDFT.Fragments import Fragment\n",
        "from BigDFT.Atoms import Atom"
      ]
    },
    {
      "cell_type": "code",
      "execution_count": null,
      "id": "a3555d4f-7551-411e-acc1-de078bc27ef4",
      "metadata": {
        "id": "a3555d4f-7551-411e-acc1-de078bc27ef4"
      },
      "outputs": [],
      "source": [
        "# Create Three Atoms\n",
        "at1 = Atom({\"H\": [0, 0, 0], \"units\": \"bohr\"})\n",
        "at2 = Atom({\"H\": [0, 0, 1.4], \"units\": \"bohr\"})\n",
        "at3 = Atom({\"He\": [10, 0, 0], \"units\": \"bohr\"})\n",
        "# Construct a System from Two Fragments (H2, He)\n",
        "sys = System()\n",
        "sys[\"H2:1\"] = Fragment([at1, at2])\n",
        "sys[\"He:2\"] = Fragment([at3])\n",
        "\n",
        "# Iterate Over The System to inspect the atoms positions\n",
        "for at in sys.get_atoms():\n",
        "    print(at.sym, at.get_position())\n",
        "# or alternatively, two-level iteration (fragment first)\n",
        "for fragid, frag in sys.items():\n",
        "    print(fragid)\n",
        "    for at in frag:\n",
        "        print(' ', at.sym, at.get_position())"
      ]
    },
    {
      "cell_type": "code",
      "execution_count": null,
      "id": "16fcffb7-c5c4-43ff-b45d-fbcc613c4a3f",
      "metadata": {
        "id": "16fcffb7-c5c4-43ff-b45d-fbcc613c4a3f"
      },
      "outputs": [],
      "source": [
        "# this is what we have created\n",
        "_ = sys.display()"
      ]
    },
    {
      "cell_type": "markdown",
      "id": "9cc443d5-34d0-4bf1-b0ef-ca3a989875cd",
      "metadata": {
        "id": "9cc443d5-34d0-4bf1-b0ef-ca3a989875cd"
      },
      "source": [
        "This is a very simple initial example. We will inspect in more details the constructors for a BigDFT system in the System-Generation notebook."
      ]
    },
    {
      "cell_type": "markdown",
      "id": "f95188d7-f105-43be-8b1d-2541f86301a8",
      "metadata": {
        "id": "f95188d7-f105-43be-8b1d-2541f86301a8"
      },
      "source": [
        "## Calculation\n",
        "Perform a calculation on the created system using a wavelet grid spacing of $0.4$ bohr (good for the large majority of the systems) and the PBE functional. A logfile is generated from which we can access the computed properties. This logfile has built in properties and can be accessed like a dictionary."
      ]
    },
    {
      "cell_type": "code",
      "execution_count": null,
      "id": "f64a3d96-8e7e-412a-ac70-2bf8935716a3",
      "metadata": {
        "id": "f64a3d96-8e7e-412a-ac70-2bf8935716a3"
      },
      "outputs": [],
      "source": [
        "from BigDFT.Inputfiles import Inputfile\n",
        "inp = Inputfile()\n",
        "inp.set_hgrid(0.4)\n",
        "inp.set_xc(\"PBE\")\n",
        "# input file is treated like a nested dictionary\n",
        "inp[\"perf\"] = {\"calculate_forces\": False}"
      ]
    },
    {
      "cell_type": "code",
      "execution_count": null,
      "id": "37169f5f-7b1d-426e-ae68-98fedfe37425",
      "metadata": {
        "id": "37169f5f-7b1d-426e-ae68-98fedfe37425"
      },
      "outputs": [],
      "source": [
        "from BigDFT.Calculators import SystemCalculator\n",
        "calc = SystemCalculator(skip=True, verbose=False)"
      ]
    },
    {
      "cell_type": "code",
      "execution_count": null,
      "id": "69fe7d62-34c6-4a70-8187-59c00be86920",
      "metadata": {
        "id": "69fe7d62-34c6-4a70-8187-59c00be86920"
      },
      "outputs": [],
      "source": [
        "log = calc.run(sys=sys, input=inp, name=\"quick\", run_dir=\"scratch\")"
      ]
    },
    {
      "cell_type": "code",
      "execution_count": null,
      "id": "6c9a2285-c343-47a3-8fdf-0c5504d25f80",
      "metadata": {
        "id": "6c9a2285-c343-47a3-8fdf-0c5504d25f80"
      },
      "outputs": [],
      "source": [
        "#some basic info\n",
        "print(log.energy)\n",
        "print(list(log.evals))\n",
        "print(log.log[\"Memory Consumption Report\"]\n",
        "             [\"Memory occupation\"])"
      ]
    },
    {
      "cell_type": "markdown",
      "id": "d0699b6c-fdf9-4b6f-ba09-c001a4adab91",
      "metadata": {
        "id": "d0699b6c-fdf9-4b6f-ba09-c001a4adab91"
      },
      "source": [
        "We have \"executed\" (the calculation result is provided with the school material here) a very simple calculation with two Kohn-Sham orbitals. The description of the possible input parameters and how to trigger larger calculations (even on remote computers) will be provided in the forthcoming lessons."
      ]
    },
    {
      "cell_type": "markdown",
      "id": "a48292dd-a9eb-4537-91eb-242d9fcc1682",
      "metadata": {
        "id": "a48292dd-a9eb-4537-91eb-242d9fcc1682"
      },
      "source": [
        "## Calculation of Periodic Systems\n",
        "We setup a BCC unit cell of iron and perform the calculation using a 2x2x2 k-point grid with a Monkhorst-Pack grid."
      ]
    },
    {
      "cell_type": "code",
      "execution_count": null,
      "id": "0d747fac-9e83-4b97-b432-741956e34a06",
      "metadata": {
        "id": "0d747fac-9e83-4b97-b432-741956e34a06"
      },
      "outputs": [],
      "source": [
        "from BigDFT.UnitCells import UnitCell\n",
        "# one single periodic atom\n",
        "pat = Atom({\"Fe\": [0, 0, 0], \"units\": \"angstroem\"})\n",
        "psys = System({\"CEL:0\": Fragment([pat])})\n",
        "psys.cell = UnitCell([2.867, 2.867, 2.867], units=\"angstroem\")"
      ]
    },
    {
      "cell_type": "code",
      "execution_count": null,
      "id": "541426b3-9859-48cb-a533-289c3c3ad693",
      "metadata": {
        "id": "541426b3-9859-48cb-a533-289c3c3ad693"
      },
      "outputs": [],
      "source": [
        "_ = psys.display()"
      ]
    },
    {
      "cell_type": "code",
      "execution_count": null,
      "id": "94c39810-fbf5-4b5b-8902-a708e6e596da",
      "metadata": {
        "id": "94c39810-fbf5-4b5b-8902-a708e6e596da"
      },
      "outputs": [],
      "source": [
        "# very small grid spacing, just for comparison\n",
        "inp = Inputfile()\n",
        "inp.set_hgrid(0.3)\n",
        "inp.set_xc(\"LDA\") # can be omitted as this is the default\n",
        "inp[\"kpt\"] = {\"method\": \"mpgrid\", \"ngkpt\": [2, 2, 2]}"
      ]
    },
    {
      "cell_type": "code",
      "execution_count": null,
      "id": "fb5b6ced-9f02-4c90-9f32-2087bd33346d",
      "metadata": {
        "id": "fb5b6ced-9f02-4c90-9f32-2087bd33346d"
      },
      "outputs": [],
      "source": [
        "log = calc.run(sys=psys, input=inp, name=\"psys\", run_dir=\"scratch\")"
      ]
    },
    {
      "cell_type": "code",
      "execution_count": null,
      "id": "5a85d7b7-c753-4897-867a-9569857703b5",
      "metadata": {
        "id": "5a85d7b7-c753-4897-867a-9569857703b5"
      },
      "outputs": [],
      "source": [
        "_ = log.get_dos().plot()"
      ]
    },
    {
      "cell_type": "markdown",
      "id": "b7d17482-9187-4086-b607-3b395d46e506",
      "metadata": {
        "id": "b7d17482-9187-4086-b607-3b395d46e506"
      },
      "source": [
        "After this first tour, we can explore further those functionalities with the following tutorials."
      ]
    },
    {
      "cell_type": "code",
      "execution_count": null,
      "id": "d0799b0c-388f-4919-a19a-9660cc53f471",
      "metadata": {
        "id": "d0799b0c-388f-4919-a19a-9660cc53f471"
      },
      "outputs": [],
      "source": [
        "#this is helpful to preserve the py3dmol installation\n",
        "install.close_drive()"
      ]
    }
  ],
  "metadata": {
    "kernelspec": {
      "display_name": "Python 3 (ipykernel)",
      "language": "python",
      "name": "python3"
    },
    "language_info": {
      "codemirror_mode": {
        "name": "ipython",
        "version": 3
      },
      "file_extension": ".py",
      "mimetype": "text/x-python",
      "name": "python",
      "nbconvert_exporter": "python",
      "pygments_lexer": "ipython3",
      "version": "3.9.7"
    },
    "colab": {
      "provenance": []
    }
  },
  "nbformat": 4,
  "nbformat_minor": 5
}