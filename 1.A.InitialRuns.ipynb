{
  "cells": [
    {
      "cell_type": "markdown",
      "id": "f09de3be-35c2-4031-965f-d18ca7ebf7f1",
      "metadata": {
        "id": "f09de3be-35c2-4031-965f-d18ca7ebf7f1"
      },
      "source": [
        "# Initial PyBigDFT tour - Basic functionalities\n",
        "we start by presenting a broad overview of using the PyBigDFT library to drive BigDFT calculations using Python.\n",
        "If you have installed from source, you should make sure you have setup the proper environment variables using the following command:\n",
        "\n",
        "```\n",
        "source install/bin/bigdftvars.sh\n",
        "```\n",
        "\n",
        "For this tutorial, we have to ensure at least the installation of the bigdft client."
      ]
    },
    {
      "cell_type": "code",
      "source": [
        "# in the google colab session this can be done with the following command:\n",
        "!wget https://gitlab.com/luigigenovese/bigdft-school/-/raw/main/packaging/install.py &> /dev/null\n",
        "import install\n",
        "install.client(locally=True)"
      ],
      "metadata": {
        "id": "ydYVh9YKAJlT"
      },
      "id": "ydYVh9YKAJlT",
      "execution_count": null,
      "outputs": []
    },
    {
      "cell_type": "code",
      "source": [
        "# we also need to install the py3dmol package in this case\n",
        "install.packages('py3Dmol')"
      ],
      "metadata": {
        "colab": {
          "base_uri": "https://localhost:8080/"
        },
        "id": "-c7F1ZZqKOFH",
        "outputId": "a8222ac6-c6d7-4b0c-bcc4-570e89bd0ef9"
      },
      "id": "-c7F1ZZqKOFH",
      "execution_count": 9,
      "outputs": [
        {
          "output_type": "stream",
          "name": "stdout",
          "text": [
            "Looking in indexes: https://pypi.org/simple, https://us-python.pkg.dev/colab-wheels/public/simple/\n",
            "Collecting py3Dmol\n",
            "  Downloading py3Dmol-1.8.1-py2.py3-none-any.whl (6.5 kB)\n",
            "Installing collected packages: py3Dmol\n",
            "Successfully installed py3Dmol-1.8.1\n"
          ]
        }
      ]
    },
    {
      "cell_type": "markdown",
      "id": "0b40b074-888f-4139-9716-c46eb68e585f",
      "metadata": {
        "id": "0b40b074-888f-4139-9716-c46eb68e585f"
      },
      "source": [
        "## System Manipulation\n",
        "Here we define a system which is composed of two fragments: H2 and Helium."
      ]
    },
    {
      "cell_type": "code",
      "execution_count": 4,
      "id": "599891d0-26e7-417e-8662-8dd0d0106243",
      "metadata": {
        "id": "599891d0-26e7-417e-8662-8dd0d0106243"
      },
      "outputs": [],
      "source": [
        "# to have a cleaner output\n",
        "import warnings\n",
        "warnings.filterwarnings(\"ignore\")"
      ]
    },
    {
      "cell_type": "code",
      "execution_count": 5,
      "id": "509f8617-9aae-49ac-9b16-70bd9378e1c2",
      "metadata": {
        "id": "509f8617-9aae-49ac-9b16-70bd9378e1c2"
      },
      "outputs": [],
      "source": [
        "from BigDFT.Systems import System\n",
        "from BigDFT.Fragments import Fragment\n",
        "from BigDFT.Atoms import Atom"
      ]
    },
    {
      "cell_type": "code",
      "execution_count": 6,
      "id": "a3555d4f-7551-411e-acc1-de078bc27ef4",
      "metadata": {
        "colab": {
          "base_uri": "https://localhost:8080/"
        },
        "id": "a3555d4f-7551-411e-acc1-de078bc27ef4",
        "outputId": "5615698b-249f-4c91-84be-ee13c26c0344"
      },
      "outputs": [
        {
          "output_type": "stream",
          "name": "stdout",
          "text": [
            "H [0.0, 0.0, 0.0]\n",
            "H [0.0, 0.0, 1.4]\n",
            "He [10.0, 0.0, 0.0]\n",
            "H2:1\n",
            "  H [0.0, 0.0, 0.0]\n",
            "  H [0.0, 0.0, 1.4]\n",
            "He:2\n",
            "  He [10.0, 0.0, 0.0]\n"
          ]
        }
      ],
      "source": [
        "# Create Three Atoms\n",
        "at1 = Atom({\"H\": [0, 0, 0], \"units\": \"bohr\"})\n",
        "at2 = Atom({\"H\": [0, 0, 1.4], \"units\": \"bohr\"})\n",
        "at3 = Atom({\"He\": [10, 0, 0], \"units\": \"bohr\"})\n",
        "# Construct a System from Two Fragments (H2, He)\n",
        "sys = System()\n",
        "sys[\"H2:1\"] = Fragment([at1, at2])\n",
        "sys[\"He:2\"] = Fragment([at3])\n",
        "\n",
        "# Iterate Over The System to inspect the atoms positions\n",
        "for at in sys.get_atoms():\n",
        "    print(at.sym, at.get_position())\n",
        "# or alternatively, two-level iteration (fragment first)\n",
        "for fragid, frag in sys.items():\n",
        "    print(fragid)\n",
        "    for at in frag:\n",
        "        print(' ', at.sym, at.get_position())"
      ]
    },
    {
      "cell_type": "code",
      "execution_count": 10,
      "id": "16fcffb7-c5c4-43ff-b45d-fbcc613c4a3f",
      "metadata": {
        "colab": {
          "base_uri": "https://localhost:8080/",
          "height": 335
        },
        "id": "16fcffb7-c5c4-43ff-b45d-fbcc613c4a3f",
        "outputId": "56268f20-cae4-41d4-d6bc-a9e6419c18ba"
      },
      "outputs": [
        {
          "output_type": "display_data",
          "data": {
            "application/3dmoljs_load.v0": "<div id=\"3dmolviewer_16634302269107542\"  style=\"position: relative; width: 400px; height: 300px\">\n        <p id=\"3dmolwarning_16634302269107542\" style=\"background-color:#ffcccc;color:black\">You appear to be running in JupyterLab (or JavaScript failed to load for some other reason).  You need to install the 3dmol extension: <br>\n        <tt>jupyter labextension install jupyterlab_3dmol</tt></p>\n        </div>\n<script>\n\nvar loadScriptAsync = function(uri){\n  return new Promise((resolve, reject) => {\n    var tag = document.createElement('script');\n    tag.src = uri;\n    tag.async = true;\n    tag.onload = () => {\n      resolve();\n    };\n  var firstScriptTag = document.getElementsByTagName('script')[0];\n  firstScriptTag.parentNode.insertBefore(tag, firstScriptTag);\n});\n};\n\nif(typeof $3Dmolpromise === 'undefined') {\n$3Dmolpromise = null;\n  $3Dmolpromise = loadScriptAsync('https://cdn.jsdelivr.net/npm/3dmol@latest/build/3Dmol-min.min.js');\n}\n\nvar viewer_16634302269107542 = null;\nvar warn = document.getElementById(\"3dmolwarning_16634302269107542\");\nif(warn) {\n    warn.parentNode.removeChild(warn);\n}\n$3Dmolpromise.then(function() {\nvar viewergrid_16634302269107542 = null;\nviewergrid_16634302269107542 = $3Dmol.createViewerGrid($(\"#3dmolviewer_16634302269107542\"),{rows: 1, cols: 1, control_all: false},{backgroundColor:\"white\"});\nviewer_16634302269107542 = viewergrid_16634302269107542[0][0];\nviewergrid_16634302269107542[0][0].zoomTo();\tviewergrid_16634302269107542[0][0].addModelsAsFrames(\"MODEL 0\\nHETATM    1 H    H2  A   1       0.000   0.000   0.000  1.00  0.00       B   H  \\nHETATM    2 H    H2  A   1       0.000   0.000   0.741  1.00  0.00       B   H  \\nHETATM    3 He   He  A   2       5.292   0.000   0.000  1.00  0.00       B  He  \\nENDMDL\\n\",\"pdb\",{\"keepH\": \"true\"});\n\tviewergrid_16634302269107542[0][0].setStyle({\"model\": -1},{\"line\": {\"color\": \"black\"}});\n\tviewergrid_16634302269107542[0][0].addModelsAsFrames(\"MODEL 0\\nHETATM    1 H    H2  A   1       0.000   0.000   0.000  1.00  0.00       B   H  \\nHETATM    2 H    H2  A   1       0.000   0.000   0.741  1.00  0.00       B   H  \\nHETATM    3 He   He  A   2       5.292   0.000   0.000  1.00  0.00       B  He  \\nENDMDL\\n\",\"pdb\",{\"keepH\": \"true\"});\n\tviewergrid_16634302269107542[0][0].setStyle({\"model\": -1, \"serial\": 1},{\"sphere\": {\"scale\": 0.2, \"color\": \"#FF0000\"}});\n\tviewergrid_16634302269107542[0][0].addModelsAsFrames(\"MODEL 0\\nHETATM    1 H    H2  A   1       0.000   0.000   0.000  1.00  0.00       B   H  \\nHETATM    2 H    H2  A   1       0.000   0.000   0.741  1.00  0.00       B   H  \\nHETATM    3 He   He  A   2       5.292   0.000   0.000  1.00  0.00       B  He  \\nENDMDL\\n\",\"pdb\",{\"keepH\": \"true\"});\n\tviewergrid_16634302269107542[0][0].setStyle({\"model\": -1, \"serial\": 2},{\"sphere\": {\"scale\": 0.2, \"color\": \"#FF0000\"}});\n\tviewergrid_16634302269107542[0][0].addModelsAsFrames(\"MODEL 0\\nHETATM    1 H    H2  A   1       0.000   0.000   0.000  1.00  0.00       B   H  \\nHETATM    2 H    H2  A   1       0.000   0.000   0.741  1.00  0.00       B   H  \\nHETATM    3 He   He  A   2       5.292   0.000   0.000  1.00  0.00       B  He  \\nENDMDL\\n\",\"pdb\",{\"keepH\": \"true\"});\n\tviewergrid_16634302269107542[0][0].setStyle({\"model\": -1},{\"line\": {\"color\": \"black\"}});\n\tviewergrid_16634302269107542[0][0].addModelsAsFrames(\"MODEL 0\\nHETATM    1 H    H2  A   1       0.000   0.000   0.000  1.00  0.00       B   H  \\nHETATM    2 H    H2  A   1       0.000   0.000   0.741  1.00  0.00       B   H  \\nHETATM    3 He   He  A   2       5.292   0.000   0.000  1.00  0.00       B  He  \\nENDMDL\\n\",\"pdb\",{\"keepH\": \"true\"});\n\tviewergrid_16634302269107542[0][0].setStyle({\"model\": -1, \"serial\": 3},{\"sphere\": {\"scale\": 0.2, \"color\": \"#7F00FF\"}});\n\tviewergrid_16634302269107542[0][0].addUnitCell({\"model\": -1},{\"box\": {\"color\": \"black\"}, \"alabel\": \"\", \"blabel\": \"\", \"clabel\": \"\"});\n\tviewergrid_16634302269107542[0][0].zoomTo();\nviewergrid_16634302269107542[0][0].render();\n});\n</script>",
            "text/html": [
              "<div id=\"3dmolviewer_16634302269107542\"  style=\"position: relative; width: 400px; height: 300px\">\n",
              "        <p id=\"3dmolwarning_16634302269107542\" style=\"background-color:#ffcccc;color:black\">You appear to be running in JupyterLab (or JavaScript failed to load for some other reason).  You need to install the 3dmol extension: <br>\n",
              "        <tt>jupyter labextension install jupyterlab_3dmol</tt></p>\n",
              "        </div>\n",
              "<script>\n",
              "\n",
              "var loadScriptAsync = function(uri){\n",
              "  return new Promise((resolve, reject) => {\n",
              "    var tag = document.createElement('script');\n",
              "    tag.src = uri;\n",
              "    tag.async = true;\n",
              "    tag.onload = () => {\n",
              "      resolve();\n",
              "    };\n",
              "  var firstScriptTag = document.getElementsByTagName('script')[0];\n",
              "  firstScriptTag.parentNode.insertBefore(tag, firstScriptTag);\n",
              "});\n",
              "};\n",
              "\n",
              "if(typeof $3Dmolpromise === 'undefined') {\n",
              "$3Dmolpromise = null;\n",
              "  $3Dmolpromise = loadScriptAsync('https://cdn.jsdelivr.net/npm/3dmol@latest/build/3Dmol-min.min.js');\n",
              "}\n",
              "\n",
              "var viewer_16634302269107542 = null;\n",
              "var warn = document.getElementById(\"3dmolwarning_16634302269107542\");\n",
              "if(warn) {\n",
              "    warn.parentNode.removeChild(warn);\n",
              "}\n",
              "$3Dmolpromise.then(function() {\n",
              "var viewergrid_16634302269107542 = null;\n",
              "viewergrid_16634302269107542 = $3Dmol.createViewerGrid($(\"#3dmolviewer_16634302269107542\"),{rows: 1, cols: 1, control_all: false},{backgroundColor:\"white\"});\n",
              "viewer_16634302269107542 = viewergrid_16634302269107542[0][0];\n",
              "viewergrid_16634302269107542[0][0].zoomTo();\tviewergrid_16634302269107542[0][0].addModelsAsFrames(\"MODEL 0\\nHETATM    1 H    H2  A   1       0.000   0.000   0.000  1.00  0.00       B   H  \\nHETATM    2 H    H2  A   1       0.000   0.000   0.741  1.00  0.00       B   H  \\nHETATM    3 He   He  A   2       5.292   0.000   0.000  1.00  0.00       B  He  \\nENDMDL\\n\",\"pdb\",{\"keepH\": \"true\"});\n",
              "\tviewergrid_16634302269107542[0][0].setStyle({\"model\": -1},{\"line\": {\"color\": \"black\"}});\n",
              "\tviewergrid_16634302269107542[0][0].addModelsAsFrames(\"MODEL 0\\nHETATM    1 H    H2  A   1       0.000   0.000   0.000  1.00  0.00       B   H  \\nHETATM    2 H    H2  A   1       0.000   0.000   0.741  1.00  0.00       B   H  \\nHETATM    3 He   He  A   2       5.292   0.000   0.000  1.00  0.00       B  He  \\nENDMDL\\n\",\"pdb\",{\"keepH\": \"true\"});\n",
              "\tviewergrid_16634302269107542[0][0].setStyle({\"model\": -1, \"serial\": 1},{\"sphere\": {\"scale\": 0.2, \"color\": \"#FF0000\"}});\n",
              "\tviewergrid_16634302269107542[0][0].addModelsAsFrames(\"MODEL 0\\nHETATM    1 H    H2  A   1       0.000   0.000   0.000  1.00  0.00       B   H  \\nHETATM    2 H    H2  A   1       0.000   0.000   0.741  1.00  0.00       B   H  \\nHETATM    3 He   He  A   2       5.292   0.000   0.000  1.00  0.00       B  He  \\nENDMDL\\n\",\"pdb\",{\"keepH\": \"true\"});\n",
              "\tviewergrid_16634302269107542[0][0].setStyle({\"model\": -1, \"serial\": 2},{\"sphere\": {\"scale\": 0.2, \"color\": \"#FF0000\"}});\n",
              "\tviewergrid_16634302269107542[0][0].addModelsAsFrames(\"MODEL 0\\nHETATM    1 H    H2  A   1       0.000   0.000   0.000  1.00  0.00       B   H  \\nHETATM    2 H    H2  A   1       0.000   0.000   0.741  1.00  0.00       B   H  \\nHETATM    3 He   He  A   2       5.292   0.000   0.000  1.00  0.00       B  He  \\nENDMDL\\n\",\"pdb\",{\"keepH\": \"true\"});\n",
              "\tviewergrid_16634302269107542[0][0].setStyle({\"model\": -1},{\"line\": {\"color\": \"black\"}});\n",
              "\tviewergrid_16634302269107542[0][0].addModelsAsFrames(\"MODEL 0\\nHETATM    1 H    H2  A   1       0.000   0.000   0.000  1.00  0.00       B   H  \\nHETATM    2 H    H2  A   1       0.000   0.000   0.741  1.00  0.00       B   H  \\nHETATM    3 He   He  A   2       5.292   0.000   0.000  1.00  0.00       B  He  \\nENDMDL\\n\",\"pdb\",{\"keepH\": \"true\"});\n",
              "\tviewergrid_16634302269107542[0][0].setStyle({\"model\": -1, \"serial\": 3},{\"sphere\": {\"scale\": 0.2, \"color\": \"#7F00FF\"}});\n",
              "\tviewergrid_16634302269107542[0][0].addUnitCell({\"model\": -1},{\"box\": {\"color\": \"black\"}, \"alabel\": \"\", \"blabel\": \"\", \"clabel\": \"\"});\n",
              "\tviewergrid_16634302269107542[0][0].zoomTo();\n",
              "viewergrid_16634302269107542[0][0].render();\n",
              "});\n",
              "</script>"
            ]
          },
          "metadata": {}
        },
        {
          "output_type": "execute_result",
          "data": {
            "text/plain": [
              "<BigDFT.Visualization.InlineVisualizer at 0x7fea981dd310>"
            ]
          },
          "metadata": {},
          "execution_count": 10
        }
      ],
      "source": [
        "# this is what we have created\n",
        "sys.display()"
      ]
    },
    {
      "cell_type": "markdown",
      "id": "9cc443d5-34d0-4bf1-b0ef-ca3a989875cd",
      "metadata": {
        "id": "9cc443d5-34d0-4bf1-b0ef-ca3a989875cd"
      },
      "source": [
        "This is a very simple initial example. We will inspect in more details the constructors for a BigDFT system in the System-Generation notebook."
      ]
    },
    {
      "cell_type": "markdown",
      "id": "f95188d7-f105-43be-8b1d-2541f86301a8",
      "metadata": {
        "id": "f95188d7-f105-43be-8b1d-2541f86301a8"
      },
      "source": [
        "## Calculation\n",
        "Calculate the created system using a wavelet grid spacing of $0.4$ bohr (good for the large majority of the systems) and the PBE functional. A logfile is generated from which we can access the computed properties. This logfile has built in properties and can be accessed like a dictionary."
      ]
    },
    {
      "cell_type": "code",
      "execution_count": 11,
      "id": "f64a3d96-8e7e-412a-ac70-2bf8935716a3",
      "metadata": {
        "id": "f64a3d96-8e7e-412a-ac70-2bf8935716a3"
      },
      "outputs": [],
      "source": [
        "from BigDFT.Inputfiles import Inputfile\n",
        "inp = Inputfile()\n",
        "inp.set_hgrid(0.4)\n",
        "inp.set_xc(\"PBE\")\n",
        "# we remove the calculation of the forces\n",
        "inp[\"perf\"] = {\"calculate_forces\": False}"
      ]
    },
    {
      "cell_type": "code",
      "execution_count": 12,
      "id": "37169f5f-7b1d-426e-ae68-98fedfe37425",
      "metadata": {
        "id": "37169f5f-7b1d-426e-ae68-98fedfe37425"
      },
      "outputs": [],
      "source": [
        "from BigDFT.Calculators import SystemCalculator\n",
        "calc = SystemCalculator(skip=True, verbose=False)"
      ]
    },
    {
      "cell_type": "code",
      "execution_count": 13,
      "id": "69fe7d62-34c6-4a70-8187-59c00be86920",
      "metadata": {
        "id": "69fe7d62-34c6-4a70-8187-59c00be86920"
      },
      "outputs": [],
      "source": [
        "log = calc.run(sys=sys, input=inp, name=\"quick\", run_dir=\"scratch\")"
      ]
    },
    {
      "cell_type": "code",
      "execution_count": 14,
      "id": "6c9a2285-c343-47a3-8fdf-0c5504d25f80",
      "metadata": {
        "colab": {
          "base_uri": "https://localhost:8080/"
        },
        "id": "6c9a2285-c343-47a3-8fdf-0c5504d25f80",
        "outputId": "6d5206e9-5920-4466-f0eb-6871542d44a9"
      },
      "outputs": [
        {
          "output_type": "stream",
          "name": "stdout",
          "text": [
            "-4.054615157686378\n",
            "[BandArray([[-0.57600357, -0.38118857]])]\n",
            "{'Peak Value (MB)': 230.69, 'for the array': 'f_i', 'in the routine': 'vxcpostprocessing', 'Memory Peak of process': '342.196 MB'}\n"
          ]
        }
      ],
      "source": [
        "#some basic info\n",
        "print(log.energy)\n",
        "print(list(log.evals))\n",
        "print(log.log[\"Memory Consumption Report\"]\n",
        "             [\"Memory occupation\"])"
      ]
    },
    {
      "cell_type": "markdown",
      "id": "d0699b6c-fdf9-4b6f-ba09-c001a4adab91",
      "metadata": {
        "id": "d0699b6c-fdf9-4b6f-ba09-c001a4adab91"
      },
      "source": [
        "We have \"executed\" (the calculation result is provided with the school material here) a very simple calculation with two Kohn-Sham orbitals. The description of the possible input parameters and how to trigger larger calculations (even on remote computers) will be provided in the forthcoming lessons."
      ]
    },
    {
      "cell_type": "markdown",
      "id": "a48292dd-a9eb-4537-91eb-242d9fcc1682",
      "metadata": {
        "id": "a48292dd-a9eb-4537-91eb-242d9fcc1682"
      },
      "source": [
        "## Calculation of Periodic Systems\n",
        "We setup a BCC unit cell of iron and perform the calculation using a 2x2x2 k-point grid with a Monkhorst-Pack grid."
      ]
    },
    {
      "cell_type": "code",
      "execution_count": 15,
      "id": "0d747fac-9e83-4b97-b432-741956e34a06",
      "metadata": {
        "id": "0d747fac-9e83-4b97-b432-741956e34a06"
      },
      "outputs": [],
      "source": [
        "from BigDFT.UnitCells import UnitCell\n",
        "# one single periodic atom\n",
        "pat = Atom({\"Fe\": [0, 0, 0], \"units\": \"angstroem\"})\n",
        "psys = System({\"CEL:0\": Fragment([pat])})\n",
        "psys.cell = UnitCell([2.867, 2.867, 2.867], units=\"angstroem\")"
      ]
    },
    {
      "cell_type": "code",
      "execution_count": 16,
      "id": "541426b3-9859-48cb-a533-289c3c3ad693",
      "metadata": {
        "colab": {
          "base_uri": "https://localhost:8080/",
          "height": 335
        },
        "id": "541426b3-9859-48cb-a533-289c3c3ad693",
        "outputId": "ea8848ad-5ec0-47fd-8d1c-13bd84f5e619"
      },
      "outputs": [
        {
          "output_type": "display_data",
          "data": {
            "application/3dmoljs_load.v0": "<div id=\"3dmolviewer_16634302876335135\"  style=\"position: relative; width: 400px; height: 300px\">\n        <p id=\"3dmolwarning_16634302876335135\" style=\"background-color:#ffcccc;color:black\">You appear to be running in JupyterLab (or JavaScript failed to load for some other reason).  You need to install the 3dmol extension: <br>\n        <tt>jupyter labextension install jupyterlab_3dmol</tt></p>\n        </div>\n<script>\n\nvar loadScriptAsync = function(uri){\n  return new Promise((resolve, reject) => {\n    var tag = document.createElement('script');\n    tag.src = uri;\n    tag.async = true;\n    tag.onload = () => {\n      resolve();\n    };\n  var firstScriptTag = document.getElementsByTagName('script')[0];\n  firstScriptTag.parentNode.insertBefore(tag, firstScriptTag);\n});\n};\n\nif(typeof $3Dmolpromise === 'undefined') {\n$3Dmolpromise = null;\n  $3Dmolpromise = loadScriptAsync('https://cdn.jsdelivr.net/npm/3dmol@latest/build/3Dmol-min.min.js');\n}\n\nvar viewer_16634302876335135 = null;\nvar warn = document.getElementById(\"3dmolwarning_16634302876335135\");\nif(warn) {\n    warn.parentNode.removeChild(warn);\n}\n$3Dmolpromise.then(function() {\nvar viewergrid_16634302876335135 = null;\nviewergrid_16634302876335135 = $3Dmol.createViewerGrid($(\"#3dmolviewer_16634302876335135\"),{rows: 1, cols: 1, control_all: false},{backgroundColor:\"white\"});\nviewer_16634302876335135 = viewergrid_16634302876335135[0][0];\nviewergrid_16634302876335135[0][0].zoomTo();\tviewergrid_16634302876335135[0][0].addModelsAsFrames(\"MODEL 0\\nCRYST1    2.867    2.867    2.867     90     90     90                          \\nHETATM    1 Fe   CEL A   0       0.000   0.000   0.000  1.00  0.00       B  Fe  \\nENDMDL\\n\",\"pdb\",{\"keepH\": \"true\"});\n\tviewergrid_16634302876335135[0][0].setStyle({\"model\": -1},{\"line\": {\"color\": \"black\"}});\n\tviewergrid_16634302876335135[0][0].addModelsAsFrames(\"MODEL 0\\nCRYST1    2.867    2.867    2.867     90     90     90                          \\nHETATM    1 Fe   CEL A   0       0.000   0.000   0.000  1.00  0.00       B  Fe  \\nENDMDL\\n\",\"pdb\",{\"keepH\": \"true\"});\n\tviewergrid_16634302876335135[0][0].setStyle({\"model\": -1, \"serial\": 1},{\"sphere\": {\"scale\": 0.2, \"color\": \"#7F00FF\"}});\n\tviewergrid_16634302876335135[0][0].addUnitCell({\"model\": -1},{\"box\": {\"color\": \"black\"}, \"alabel\": \"\", \"blabel\": \"\", \"clabel\": \"\"});\n\tviewergrid_16634302876335135[0][0].zoomTo();\nviewergrid_16634302876335135[0][0].render();\n});\n</script>",
            "text/html": [
              "<div id=\"3dmolviewer_16634302876335135\"  style=\"position: relative; width: 400px; height: 300px\">\n",
              "        <p id=\"3dmolwarning_16634302876335135\" style=\"background-color:#ffcccc;color:black\">You appear to be running in JupyterLab (or JavaScript failed to load for some other reason).  You need to install the 3dmol extension: <br>\n",
              "        <tt>jupyter labextension install jupyterlab_3dmol</tt></p>\n",
              "        </div>\n",
              "<script>\n",
              "\n",
              "var loadScriptAsync = function(uri){\n",
              "  return new Promise((resolve, reject) => {\n",
              "    var tag = document.createElement('script');\n",
              "    tag.src = uri;\n",
              "    tag.async = true;\n",
              "    tag.onload = () => {\n",
              "      resolve();\n",
              "    };\n",
              "  var firstScriptTag = document.getElementsByTagName('script')[0];\n",
              "  firstScriptTag.parentNode.insertBefore(tag, firstScriptTag);\n",
              "});\n",
              "};\n",
              "\n",
              "if(typeof $3Dmolpromise === 'undefined') {\n",
              "$3Dmolpromise = null;\n",
              "  $3Dmolpromise = loadScriptAsync('https://cdn.jsdelivr.net/npm/3dmol@latest/build/3Dmol-min.min.js');\n",
              "}\n",
              "\n",
              "var viewer_16634302876335135 = null;\n",
              "var warn = document.getElementById(\"3dmolwarning_16634302876335135\");\n",
              "if(warn) {\n",
              "    warn.parentNode.removeChild(warn);\n",
              "}\n",
              "$3Dmolpromise.then(function() {\n",
              "var viewergrid_16634302876335135 = null;\n",
              "viewergrid_16634302876335135 = $3Dmol.createViewerGrid($(\"#3dmolviewer_16634302876335135\"),{rows: 1, cols: 1, control_all: false},{backgroundColor:\"white\"});\n",
              "viewer_16634302876335135 = viewergrid_16634302876335135[0][0];\n",
              "viewergrid_16634302876335135[0][0].zoomTo();\tviewergrid_16634302876335135[0][0].addModelsAsFrames(\"MODEL 0\\nCRYST1    2.867    2.867    2.867     90     90     90                          \\nHETATM    1 Fe   CEL A   0       0.000   0.000   0.000  1.00  0.00       B  Fe  \\nENDMDL\\n\",\"pdb\",{\"keepH\": \"true\"});\n",
              "\tviewergrid_16634302876335135[0][0].setStyle({\"model\": -1},{\"line\": {\"color\": \"black\"}});\n",
              "\tviewergrid_16634302876335135[0][0].addModelsAsFrames(\"MODEL 0\\nCRYST1    2.867    2.867    2.867     90     90     90                          \\nHETATM    1 Fe   CEL A   0       0.000   0.000   0.000  1.00  0.00       B  Fe  \\nENDMDL\\n\",\"pdb\",{\"keepH\": \"true\"});\n",
              "\tviewergrid_16634302876335135[0][0].setStyle({\"model\": -1, \"serial\": 1},{\"sphere\": {\"scale\": 0.2, \"color\": \"#7F00FF\"}});\n",
              "\tviewergrid_16634302876335135[0][0].addUnitCell({\"model\": -1},{\"box\": {\"color\": \"black\"}, \"alabel\": \"\", \"blabel\": \"\", \"clabel\": \"\"});\n",
              "\tviewergrid_16634302876335135[0][0].zoomTo();\n",
              "viewergrid_16634302876335135[0][0].render();\n",
              "});\n",
              "</script>"
            ]
          },
          "metadata": {}
        },
        {
          "output_type": "execute_result",
          "data": {
            "text/plain": [
              "<BigDFT.Visualization.InlineVisualizer at 0x7fea97e3e950>"
            ]
          },
          "metadata": {},
          "execution_count": 16
        }
      ],
      "source": [
        "psys.display()"
      ]
    },
    {
      "cell_type": "code",
      "execution_count": 17,
      "id": "94c39810-fbf5-4b5b-8902-a708e6e596da",
      "metadata": {
        "id": "94c39810-fbf5-4b5b-8902-a708e6e596da"
      },
      "outputs": [],
      "source": [
        "# very small k-point mesh, just for comparison\n",
        "inp = Inputfile()\n",
        "inp.set_hgrid(0.3)\n",
        "inp.set_xc(\"LDA\") # can be omitted as this is the default\n",
        "inp[\"kpt\"] = {\"method\": \"mpgrid\", \"ngkpt\": [2, 2, 2]}"
      ]
    },
    {
      "cell_type": "code",
      "execution_count": 18,
      "id": "fb5b6ced-9f02-4c90-9f32-2087bd33346d",
      "metadata": {
        "id": "fb5b6ced-9f02-4c90-9f32-2087bd33346d"
      },
      "outputs": [],
      "source": [
        "log = calc.run(sys=psys, input=inp, name=\"psys\", run_dir=\"scratch\")"
      ]
    },
    {
      "cell_type": "code",
      "execution_count": 19,
      "id": "5a85d7b7-c753-4897-867a-9569857703b5",
      "metadata": {
        "colab": {
          "base_uri": "https://localhost:8080/",
          "height": 331
        },
        "id": "5a85d7b7-c753-4897-867a-9569857703b5",
        "outputId": "492d0b07-18a0-4a09-fe8e-3789b2aa2faf"
      },
      "outputs": [
        {
          "output_type": "display_data",
          "data": {
            "text/plain": [
              "<Figure size 460.8x345.6 with 1 Axes>"
            ],
            "image/png": "[encoded data removed]"
          },
          "metadata": {
            "needs_background": "light"
          }
        }
      ],
      "source": [
        "# NBVAL_IGNORE_OUTPUT\n",
        "_ = log.get_dos().plot()"
      ]
    },
    {
      "cell_type": "markdown",
      "id": "b7d17482-9187-4086-b607-3b395d46e506",
      "metadata": {
        "id": "b7d17482-9187-4086-b607-3b395d46e506"
      },
      "source": [
        "After this first tour, we can explore further those functionalities with the following tutorials."
      ]
    },
    {
      "cell_type": "code",
      "execution_count": null,
      "id": "d0799b0c-388f-4919-a19a-9660cc53f471",
      "metadata": {
        "id": "d0799b0c-388f-4919-a19a-9660cc53f471"
      },
      "outputs": [],
      "source": [
        "#this is helpful to preserve the py3dmol installation\n",
        "install.close_drive()"
      ]
    },
    {
      "cell_type": "code",
      "source": [],
      "metadata": {
        "id": "S9U0dY_tNO-_"
      },
      "id": "S9U0dY_tNO-_",
      "execution_count": null,
      "outputs": []
    }
  ],
  "metadata": {
    "kernelspec": {
      "display_name": "Python 3 (ipykernel)",
      "language": "python",
      "name": "python3"
    },
    "language_info": {
      "codemirror_mode": {
        "name": "ipython",
        "version": 3
      },
      "file_extension": ".py",
      "mimetype": "text/x-python",
      "name": "python",
      "nbconvert_exporter": "python",
      "pygments_lexer": "ipython3",
      "version": "3.9.7"
    },
    "colab": {
      "provenance": []
    }
  },
  "nbformat": 4,
  "nbformat_minor": 5
}