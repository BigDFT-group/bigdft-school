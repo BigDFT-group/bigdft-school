{
  "cells": [
    {
      "cell_type": "markdown",
      "id": "960c766c-3032-45c3-8cf3-7dd5d132b66f",
      "metadata": {
        "id": "960c766c-3032-45c3-8cf3-7dd5d132b66f"
      },
      "source": [
        "# System Manipulation\n",
        "We here illustrate some operations that can be performed on a system while building it.\n"
      ]
    },
    {
      "cell_type": "code",
      "source": [
        "# let us now install the bigdft suite (see previous lessons)\n",
        "!wget https://gitlab.com/luigigenovese/bigdft-school/-/raw/main/packaging/install.py &> /dev/null\n",
        "import install\n",
        "install.full_suite() #such installation is needed for the openbabel package"
      ],
      "metadata": {
        "id": "8LVxVxoRZGqZ"
      },
      "id": "8LVxVxoRZGqZ",
      "execution_count": null,
      "outputs": []
    },
    {
      "cell_type": "code",
      "source": [
        "import install\n",
        "install.set_ready()"
      ],
      "metadata": {
        "id": "p8RoV1rhhTAl"
      },
      "id": "p8RoV1rhhTAl",
      "execution_count": null,
      "outputs": []
    },
    {
      "cell_type": "markdown",
      "source": [
        "Let's start from the system we have manipulated in the last notebook. Here we will go straight from the Yaml specification to a system."
      ],
      "metadata": {
        "id": "ZkpVhcEOBGkJ"
      },
      "id": "ZkpVhcEOBGkJ"
    },
    {
      "cell_type": "code",
      "execution_count": null,
      "id": "696e3adc-bcdb-4ea8-9ace-fcd6966449a3",
      "metadata": {
        "id": "696e3adc-bcdb-4ea8-9ace-fcd6966449a3"
      },
      "outputs": [],
      "source": [
        "system_spec=\"\"\"\n",
        "- 'O': [2.3229430273, 1.3229430273, 1.7139430273]\n",
        "  'frag': ['WAT', '0']\n",
        "- 'H': [2.3229430273, 2.0801430273, 1.1274430273]\n",
        "  'frag': ['WAT', '0']\n",
        "- 'H': [2.3229430273, 0.5657430273000001, 1.1274430273]\n",
        "  'frag': ['WAT', '0']\n",
        "- 'O': [0.6147151365000005, 0.9319430273000001, 1.3229430272999996]\n",
        "  'frag': ['WAT', '1']\n",
        "- 'H': [0.6147151365000005, 1.5184430273000002, 2.0801430272999997]\n",
        "  'frag': ['WAT', '1']\n",
        "- 'H': [0.6147151365000005, 1.5184430273000002, 0.5657430272999997]\n",
        "  'frag': ['WAT', '1']\n",
        "\"\"\""
      ]
    },
    {
      "cell_type": "code",
      "execution_count": null,
      "id": "ff01dcd4-0a32-4d40-a5a1-765f75494e5b",
      "metadata": {
        "id": "ff01dcd4-0a32-4d40-a5a1-765f75494e5b"
      },
      "outputs": [],
      "source": [
        "from BigDFT.Systems import system_from_dict_positions\n",
        "from yaml import load, Loader\n",
        "posinp=load(system_spec,Loader=Loader)\n",
        "sys=system_from_dict_positions(posinp,units='angstroem')"
      ]
    },
    {
      "cell_type": "markdown",
      "id": "3f59b85e-0f52-43b0-94d2-1a703a5717d1",
      "metadata": {
        "tags": [],
        "id": "3f59b85e-0f52-43b0-94d2-1a703a5717d1"
      },
      "source": [
        "## File I/O\n",
        "You don't necessarily want to build systems every time, maybe you already have a file somewhere. For this purpose, we have the I/O module. We'll start with writing files as a demonstration."
      ]
    },
    {
      "cell_type": "code",
      "execution_count": null,
      "id": "bd90c0b0-27a6-4022-9ce9-9728ad1d285b",
      "metadata": {
        "id": "bd90c0b0-27a6-4022-9ce9-9728ad1d285b"
      },
      "outputs": [],
      "source": [
        "from BigDFT.IO import write_pdb\n",
        "with open(\"test.pdb\", \"w\") as ofile:\n",
        "    write_pdb(sys, ofile)"
      ]
    },
    {
      "cell_type": "code",
      "execution_count": null,
      "id": "03ee2159-16c3-4361-a1f3-0c5d09bb8892",
      "metadata": {
        "id": "03ee2159-16c3-4361-a1f3-0c5d09bb8892"
      },
      "outputs": [],
      "source": [
        "with open(\"test.pdb\") as ifile:\n",
        "    print(\"\".join([x for x in ifile]))"
      ]
    },
    {
      "cell_type": "markdown",
      "id": "4687d819-b39b-4f44-bebd-958152b88f5c",
      "metadata": {
        "id": "4687d819-b39b-4f44-bebd-958152b88f5c"
      },
      "source": [
        "This pdb file is a justification for our fragment naming convention: the fragment IDs and names have been written as residue information.\n",
        "\n",
        "Reading is of course the opposite process."
      ]
    },
    {
      "cell_type": "code",
      "execution_count": null,
      "id": "b302adc4-9df6-40b0-a961-0697df5e17de",
      "metadata": {
        "id": "b302adc4-9df6-40b0-a961-0697df5e17de"
      },
      "outputs": [],
      "source": [
        "from BigDFT.IO import read_pdb\n",
        "with open(\"test.pdb\") as ifile:\n",
        "    sys2 = read_pdb(ifile)"
      ]
    },
    {
      "cell_type": "markdown",
      "id": "800eba8a-5e61-49d7-808d-0279c809fc9e",
      "metadata": {
        "id": "800eba8a-5e61-49d7-808d-0279c809fc9e"
      },
      "source": [
        "We provide support for a few different file types (mol2, pdb, xyz), but this is not comphrensive. Fortunately, with python there is always some other library available to do what we want to do, such as [OpenBabel](http://openbabel.org/wiki/Main_Page)."
      ]
    },
    {
      "cell_type": "code",
      "execution_count": null,
      "id": "f3d061b8-355f-4bb8-97a9-c64af6387e04",
      "metadata": {
        "id": "f3d061b8-355f-4bb8-97a9-c64af6387e04"
      },
      "outputs": [],
      "source": [
        "from BigDFT.Interop.BabelInterop import convert_system_to_babel\n",
        "bsys = convert_system_to_babel(sys)"
      ]
    },
    {
      "cell_type": "code",
      "execution_count": null,
      "id": "88c788d2-3c72-48ae-89eb-5a69c22951d9",
      "metadata": {
        "id": "88c788d2-3c72-48ae-89eb-5a69c22951d9"
      },
      "outputs": [],
      "source": [
        "from openbabel.openbabel import OBConversion\n",
        "conv = OBConversion()\n",
        "conv.SetOutFormat(\"mol\")\n",
        "with open(\"test.mol\", \"w\") as ofile:\n",
        "    ofile.write(conv.WriteString(bsys))"
      ]
    },
    {
      "cell_type": "code",
      "execution_count": null,
      "id": "2b41cb26-5f57-4c5e-914f-56993b23f454",
      "metadata": {
        "id": "2b41cb26-5f57-4c5e-914f-56993b23f454"
      },
      "outputs": [],
      "source": [
        "with open(\"test.mol\") as ifile:\n",
        "    print(\"\".join([x for x in ifile]))"
      ]
    },
    {
      "cell_type": "code",
      "execution_count": null,
      "id": "1dae553e-aaea-4b8c-98f6-2c7b7c04f883",
      "metadata": {
        "id": "1dae553e-aaea-4b8c-98f6-2c7b7c04f883"
      },
      "outputs": [],
      "source": [
        "from openbabel.openbabel import OBMol\n",
        "from BigDFT.Interop.BabelInterop import convert_babel_to_system\n",
        "\n",
        "conv.SetInFormat(\"mol\")\n",
        "bsys2 = OBMol()\n",
        "conv.ReadFile(bsys2, \"test.mol\")\n",
        "sys2 = convert_babel_to_system(bsys2)"
      ]
    },
    {
      "cell_type": "markdown",
      "id": "95d4e838-30ba-48cd-896c-fa9161fe74ca",
      "metadata": {
        "id": "95d4e838-30ba-48cd-896c-fa9161fe74ca"
      },
      "source": [
        "The only downside to this back and forth process is that openbabel has forgotten our original fragmentation (data which is not stored in a `mol` file). We might notice that we've picked up some other `Atom` properties though."
      ]
    },
    {
      "cell_type": "code",
      "execution_count": null,
      "id": "b4a581eb-ab4c-45ad-a751-52d81ba6dbd8",
      "metadata": {
        "id": "b4a581eb-ab4c-45ad-a751-52d81ba6dbd8"
      },
      "outputs": [],
      "source": [
        "for fragid, frag in sys2.items():\n",
        "    print(fragid)\n",
        "    for at in frag:\n",
        "        print(dict(at))"
      ]
    },
    {
      "cell_type": "markdown",
      "id": "e5ff7c74-6c02-4093-8f15-8fe6c6c777ba",
      "metadata": {
        "id": "e5ff7c74-6c02-4093-8f15-8fe6c6c777ba"
      },
      "source": [
        "## Connectivity Matrix\n",
        "One nice side effect of using openbabel is that it automatically detects the bonds that exist in our molecule. And since we read that information in from the file, we now have access to it in our BigDFT `System`."
      ]
    },
    {
      "cell_type": "code",
      "execution_count": null,
      "id": "e548cc87-9d3c-4ae3-a13c-676146120a3c",
      "metadata": {
        "id": "e548cc87-9d3c-4ae3-a13c-676146120a3c"
      },
      "outputs": [],
      "source": [
        "print(sys2.conmat)"
      ]
    },
    {
      "cell_type": "markdown",
      "id": "3cb7258d-3efd-4af5-8827-d4d97640ef74",
      "metadata": {
        "id": "3cb7258d-3efd-4af5-8827-d4d97640ef74"
      },
      "source": [
        "As I mentioned before, OpenBabel has spoiled our original fragmentation. So let's copy this bonding information back to our original system."
      ]
    },
    {
      "cell_type": "code",
      "execution_count": null,
      "id": "9f5e8766-27dc-41c8-bbeb-64a6839ce519",
      "metadata": {
        "id": "9f5e8766-27dc-41c8-bbeb-64a6839ce519"
      },
      "outputs": [],
      "source": [
        "from BigDFT.Systems import copy_bonding_information\n",
        "copy_bonding_information(sys2, sys)"
      ]
    },
    {
      "cell_type": "markdown",
      "id": "1d4cb5bd-756c-42f7-83ac-f18fe2754045",
      "metadata": {
        "id": "1d4cb5bd-756c-42f7-83ac-f18fe2754045"
      },
      "source": [
        "The connectivity matrix is itself a `dict`. Let's iterate over it."
      ]
    },
    {
      "cell_type": "code",
      "execution_count": null,
      "id": "e1221845-5524-4805-853a-09ca4ec109a6",
      "metadata": {
        "id": "e1221845-5524-4805-853a-09ca4ec109a6"
      },
      "outputs": [],
      "source": [
        "for fragid, atm_list in sys.conmat.items(): # For each fragment in the system\n",
        "    print(\"Fragment:\", fragid)\n",
        "    for i, bond_list in enumerate(atm_list): # For each atm in a given fragment there are a list of bonds\n",
        "        print(\"\\tAtom:\", i)\n",
        "        for bond, order in bond_list.items():\n",
        "            print(\"\\t\\tFragment:\", bond[0], \", Atom Number:\", bond[1], \", Bond Order:\", order)"
      ]
    },
    {
      "cell_type": "markdown",
      "id": "bab7842b-3b12-441c-9b87-7d1e4d3ca43e",
      "metadata": {
        "id": "bab7842b-3b12-441c-9b87-7d1e4d3ca43e"
      },
      "source": [
        "We might consider generating a connectivity matrix that can be visualized with matplotlib. To that, we'll have to first assign an index to each of our atoms."
      ]
    },
    {
      "cell_type": "code",
      "execution_count": null,
      "id": "54cd42b5-5d53-4346-bdd4-0d798aad061b",
      "metadata": {
        "id": "54cd42b5-5d53-4346-bdd4-0d798aad061b"
      },
      "outputs": [],
      "source": [
        "indices = {}\n",
        "i = 0\n",
        "for fragid, frag in sys.items():\n",
        "    for j, at in enumerate(frag):\n",
        "        indices[(fragid, j)] = i\n",
        "        i += 1"
      ]
    },
    {
      "cell_type": "code",
      "execution_count": null,
      "id": "57c9cace-d4a6-4fee-9cf3-5dea02e47445",
      "metadata": {
        "id": "57c9cace-d4a6-4fee-9cf3-5dea02e47445"
      },
      "outputs": [],
      "source": [
        "print(indices)"
      ]
    },
    {
      "cell_type": "markdown",
      "id": "c3f7454b-906a-42d9-8113-dda1d12195cf",
      "metadata": {
        "id": "c3f7454b-906a-42d9-8113-dda1d12195cf"
      },
      "source": [
        "Now construct the matrix."
      ]
    },
    {
      "cell_type": "code",
      "execution_count": null,
      "id": "890edd9c-5d6e-4d47-bdee-97fd8ed79ba7",
      "metadata": {
        "id": "890edd9c-5d6e-4d47-bdee-97fd8ed79ba7"
      },
      "outputs": [],
      "source": [
        "from numpy import zeros\n",
        "\n",
        "N = sum([len(x) for x in sys.values()])  # Number of atoms in a system\n",
        "matrix = zeros((N, N))\n",
        "for fragid, atm_list in sys.conmat.items():\n",
        "    for i, bond_list in enumerate(atm_list):\n",
        "        idx_i = indices[(fragid, i)]\n",
        "        for bond, order in bond_list.items():\n",
        "            idx_j = indices[bond]\n",
        "            matrix[idx_i, idx_j] = order"
      ]
    },
    {
      "cell_type": "code",
      "execution_count": null,
      "id": "a6b9dda4-c240-4213-b0ca-0ce9381a200d",
      "metadata": {
        "id": "a6b9dda4-c240-4213-b0ca-0ce9381a200d"
      },
      "outputs": [],
      "source": [
        "from matplotlib import pyplot as plt\n",
        "fig, axs = plt.subplots(1, 1)\n",
        "axs.imshow(matrix)\n",
        "symlist = []\n",
        "for frag in sys.values():\n",
        "    for at in frag:\n",
        "        symlist.append(at.sym)\n",
        "axs.set_xticks(range(N))\n",
        "axs.set_xticklabels(symlist)\n",
        "axs.set_yticks(range(N))\n",
        "_ = axs.set_yticklabels(symlist)"
      ]
    },
    {
      "cell_type": "markdown",
      "id": "f5a33086-696f-4727-b711-3b2b9e68aa02",
      "metadata": {
        "id": "f5a33086-696f-4727-b711-3b2b9e68aa02"
      },
      "source": [
        "## Illustrative Example: Fragments from connectivity Mattrix\n",
        "Let's try to do something a little complicated to fit this all together. Let's consider the molecule Dapsone as a target of study."
      ]
    },
    {
      "cell_type": "code",
      "execution_count": null,
      "id": "b3315f6f-b0a6-4f77-912d-f3e452a41718",
      "metadata": {
        "id": "b3315f6f-b0a6-4f77-912d-f3e452a41718"
      },
      "outputs": [],
      "source": [
        "pdb_string = \"\"\"AUTHOR    GENERATED BY OPEN BABEL 3.1.0\n",
        "HETATM    1  S   UNL     1      -0.002   1.619   0.000  1.00  0.00           S  \n",
        "HETATM    2  O   UNL     1      -0.024   2.350  -1.259  1.00  0.00           O  \n",
        "HETATM    3  O   UNL     1       0.061   2.349   1.260  1.00  0.00           O  \n",
        "HETATM    4  N   UNL     1      -4.831  -1.851   0.004  1.00  0.00           N  \n",
        "HETATM    5  N   UNL     1       4.821  -1.858  -0.004  1.00  0.00           N  \n",
        "HETATM    6  C   UNL     1      -1.420   0.600   0.002  1.00  0.00           C  \n",
        "HETATM    7  C   UNL     1       1.435   0.582  -0.001  1.00  0.00           C  \n",
        "HETATM    8  C   UNL     1      -1.985   0.193   1.210  1.00  0.00           C  \n",
        "HETATM    9  C   UNL     1       1.978   0.190  -1.210  1.00  0.00           C  \n",
        "HETATM   10  C   UNL     1      -1.988   0.193  -1.206  1.00  0.00           C  \n",
        "HETATM   11  C   UNL     1       1.980   0.190   1.206  1.00  0.00           C  \n",
        "HETATM   12  C   UNL     1      -3.118  -0.621   1.211  1.00  0.00           C  \n",
        "HETATM   13  C   UNL     1       3.110  -0.626  -1.211  1.00  0.00           C  \n",
        "HETATM   14  C   UNL     1      -3.120  -0.621  -1.205  1.00  0.00           C  \n",
        "HETATM   15  C   UNL     1       3.112  -0.626   1.205  1.00  0.00           C  \n",
        "HETATM   16  C   UNL     1      -3.686  -1.028   0.003  1.00  0.00           C  \n",
        "HETATM   17  C   UNL     1       3.677  -1.034  -0.003  1.00  0.00           C  \n",
        "HETATM   18  H   UNL     1      -1.556   0.493   2.162  1.00  0.00           H  \n",
        "HETATM   19  H   UNL     1       1.547   0.491  -2.159  1.00  0.00           H  \n",
        "HETATM   20  H   UNL     1      -1.561   0.491  -2.160  1.00  0.00           H  \n",
        "HETATM   21  H   UNL     1       1.551   0.488   2.157  1.00  0.00           H  \n",
        "HETATM   22  H   UNL     1      -3.549  -0.933   2.159  1.00  0.00           H  \n",
        "HETATM   23  H   UNL     1       3.539  -0.939  -2.159  1.00  0.00           H  \n",
        "HETATM   24  H   UNL     1      -3.552  -0.932  -2.153  1.00  0.00           H  \n",
        "HETATM   25  H   UNL     1       3.543  -0.939   2.153  1.00  0.00           H  \n",
        "HETATM   26  H   UNL     1      -5.242  -2.146   0.880  1.00  0.00           H  \n",
        "HETATM   27  H   UNL     1      -5.244  -2.145  -0.871  1.00  0.00           H  \n",
        "HETATM   28  H   UNL     1       5.230  -2.155  -0.880  1.00  0.00           H  \n",
        "HETATM   29  H   UNL     1       5.232  -2.155   0.871  1.00  0.00           H  \n",
        "CONECT    1    2    2    3    3                                       \n",
        "CONECT    1    6    7                                                 \n",
        "CONECT    2    1    1                                                 \n",
        "CONECT    3    1    1                                                 \n",
        "CONECT    4   16   26   27                                            \n",
        "CONECT    5   17   28   29                                            \n",
        "CONECT    6    1    8    8   10                                       \n",
        "CONECT    7    1    9    9   11                                       \n",
        "CONECT    8    6    6   12   18                                       \n",
        "CONECT    9    7    7   13   19                                       \n",
        "CONECT   10    6   14   14   20                                       \n",
        "CONECT   11    7   15   15   21                                       \n",
        "CONECT   12    8   16   16   22                                       \n",
        "CONECT   13    9   17   17   23                                       \n",
        "CONECT   14   10   10   16   24                                       \n",
        "CONECT   15   11   11   17   25                                       \n",
        "CONECT   16    4   12   12   14                                       \n",
        "CONECT   17    5   13   13   15                                       \n",
        "CONECT   18    8                                                      \n",
        "CONECT   19    9                                                      \n",
        "CONECT   20   10                                                      \n",
        "CONECT   21   11                                                      \n",
        "CONECT   22   12                                                      \n",
        "CONECT   23   13                                                      \n",
        "CONECT   24   14                                                      \n",
        "CONECT   25   15                                                      \n",
        "CONECT   26    4                                                      \n",
        "CONECT   27    4                                                      \n",
        "CONECT   28    5                                                      \n",
        "CONECT   29    5                                                      \n",
        "MASTER        0    0    0    0    0    0    0    0   29    0   29    0\n",
        "END\n",
        "\"\"\""
      ]
    },
    {
      "cell_type": "markdown",
      "id": "80438f9c-22c7-4687-a473-25ca655c718b",
      "metadata": {
        "id": "80438f9c-22c7-4687-a473-25ca655c718b"
      },
      "source": [
        "Read it in from file."
      ]
    },
    {
      "cell_type": "code",
      "execution_count": null,
      "id": "5009b7b2-ead4-4288-bfeb-bf0810574266",
      "metadata": {
        "id": "5009b7b2-ead4-4288-bfeb-bf0810574266"
      },
      "outputs": [],
      "source": [
        "from io import StringIO\n",
        "sys = read_pdb(StringIO(pdb_string))"
      ]
    },
    {
      "cell_type": "code",
      "execution_count": null,
      "id": "a03842fb-e239-428b-83b7-07878804f70d",
      "metadata": {
        "id": "a03842fb-e239-428b-83b7-07878804f70d"
      },
      "outputs": [],
      "source": [
        "_ = sys.display()"
      ]
    },
    {
      "cell_type": "markdown",
      "id": "3b321b43-e8ac-40a0-8e67-23ef0e3c125f",
      "metadata": {
        "id": "3b321b43-e8ac-40a0-8e67-23ef0e3c125f"
      },
      "source": [
        "We want to partition it into three fragments, one for each of the rings and one for the connecting SO2. "
      ]
    },
    {
      "cell_type": "code",
      "execution_count": null,
      "id": "3baa943f-e805-4608-af79-f2d894334510",
      "metadata": {
        "id": "3baa943f-e805-4608-af79-f2d894334510"
      },
      "outputs": [],
      "source": [
        "from BigDFT.Systems import System\n",
        "from BigDFT.Fragments import Fragment\n",
        "splitsys = System()\n",
        "splitsys[\"CON:0\"] = Fragment()\n",
        "splitsys[\"RIN:1\"] = Fragment()\n",
        "splitsys[\"RIN:2\"] = Fragment()"
      ]
    },
    {
      "cell_type": "markdown",
      "id": "9d686a34-a659-4516-8406-6eb2dd9b07d2",
      "metadata": {
        "id": "9d686a34-a659-4516-8406-6eb2dd9b07d2"
      },
      "source": [
        "How can we do this automatically? One way is to follow the connectivity matrix in a depth first manner, assigning atoms as we go."
      ]
    },
    {
      "cell_type": "code",
      "execution_count": null,
      "id": "7ab306bb-24f8-4650-b589-b6012401b4f9",
      "metadata": {
        "id": "7ab306bb-24f8-4650-b589-b6012401b4f9"
      },
      "outputs": [],
      "source": [
        "# There is only one fragment, what is it's name?\n",
        "key = list(sys)[0]\n",
        "# Which atom is the sulfur?\n",
        "sidx = [i for i, at in enumerate(sys[key]) if at.sym == \"S\"][0]\n",
        "\n",
        "splitsys[\"CON:0\"].append(sys[key][sidx])\n",
        "\n",
        "# For bond connected to sulfur\n",
        "stack_rin = {\"RIN:1\": [], \"RIN:2\": []}\n",
        "stack_rin_2 = []\n",
        "for _, aidx in sys.conmat[key][sidx]:\n",
        "    atm = sys[key][aidx]\n",
        "    if atm.sym == \"O\":\n",
        "        splitsys[\"CON:0\"].append(atm)\n",
        "    elif len(stack_rin[\"RIN:1\"]) == 0:\n",
        "        stack_rin[\"RIN:1\"].append(aidx)\n",
        "    else:\n",
        "        stack_rin[\"RIN:2\"].append(aidx)"
      ]
    },
    {
      "cell_type": "markdown",
      "id": "eacf8b74-f238-44d4-b679-66f0b9d3a785",
      "metadata": {
        "id": "eacf8b74-f238-44d4-b679-66f0b9d3a785"
      },
      "source": [
        "We've created the connecting fragments, so now we just follow the bonds on each of the rings."
      ]
    },
    {
      "cell_type": "code",
      "execution_count": null,
      "id": "ae6c6d2b-ca25-4a94-815a-a86cf626fbe5",
      "metadata": {
        "id": "ae6c6d2b-ca25-4a94-815a-a86cf626fbe5"
      },
      "outputs": [],
      "source": [
        "for fid, stack in stack_rin.items():\n",
        "    processed = []\n",
        "    while(len(stack) > 0): \n",
        "        aidx = stack.pop(0)\n",
        "        processed.append(aidx)\n",
        "        atm = sys[key][aidx]\n",
        "        if atm.sym == \"S\":\n",
        "            continue\n",
        "        splitsys[fid].append(atm)\n",
        "\n",
        "        for _, link in sys.conmat[key][aidx]:\n",
        "            if link not in processed:\n",
        "                stack.append(link)"
      ]
    },
    {
      "cell_type": "code",
      "execution_count": null,
      "id": "2d1da144-40e6-4608-88e2-f92708d3d079",
      "metadata": {
        "id": "2d1da144-40e6-4608-88e2-f92708d3d079"
      },
      "outputs": [],
      "source": [
        "_ = splitsys.display()"
      ]
    },
    {
      "cell_type": "markdown",
      "id": "5cf9d1cc-7be9-4b80-8ca9-efa973ff4f15",
      "metadata": {
        "id": "5cf9d1cc-7be9-4b80-8ca9-efa973ff4f15"
      },
      "source": [
        "With the system split, our next goal is to explore the effect of bending the rings. We can think of that as rotating both rings about an axis which is sticking out of the sulfur, and has the same direction as a vector going through the two oxygens."
      ]
    },
    {
      "cell_type": "code",
      "execution_count": null,
      "id": "a855ed61-e3ae-4bc7-94ee-a181e116699d",
      "metadata": {
        "id": "a855ed61-e3ae-4bc7-94ee-a181e116699d"
      },
      "outputs": [],
      "source": [
        "axis_center = splitsys[\"CON:0\"][0].get_position()\n",
        "axis_vector = [x - y for x, y in zip(splitsys[\"CON:0\"][1].get_position(), \n",
        "                                     splitsys[\"CON:0\"][2].get_position())]"
      ]
    },
    {
      "cell_type": "code",
      "execution_count": null,
      "id": "cf9c8734-da47-485c-a8ae-1ad580122389",
      "metadata": {
        "id": "cf9c8734-da47-485c-a8ae-1ad580122389"
      },
      "outputs": [],
      "source": [
        "from copy import deepcopy\n",
        "systems = {}\n",
        "for angle in range(0, 46, 5):\n",
        "    systems[angle] = deepcopy(splitsys)\n",
        "    systems[angle][\"RIN:1\"].rotate_on_axis(angle=angle, axis=axis_vector, \n",
        "                                           centroid=axis_center, units=\"degrees\")"
      ]
    },
    {
      "cell_type": "markdown",
      "id": "d12dfbea-3582-4d93-8985-577db524a221",
      "metadata": {
        "id": "d12dfbea-3582-4d93-8985-577db524a221"
      },
      "source": [
        "To check, we want to draw each of the systems we created superimposed on each other. This can be done by exploiting the `show` option to `display_system`."
      ]
    },
    {
      "cell_type": "code",
      "execution_count": null,
      "id": "242d9cfd-41ee-4643-8024-08c344a70ec0",
      "metadata": {
        "id": "242d9cfd-41ee-4643-8024-08c344a70ec0"
      },
      "outputs": [],
      "source": [
        "from BigDFT.Visualization import InlineVisualizer\n",
        "viz = InlineVisualizer(400,300)\n",
        "for a, sys in systems.items():\n",
        "    viz.display_system(sys, show=(a == 45))"
      ]
    }
  ],
  "metadata": {
    "kernelspec": {
      "display_name": "Python 3 (ipykernel)",
      "language": "python",
      "name": "python3"
    },
    "language_info": {
      "codemirror_mode": {
        "name": "ipython",
        "version": 3
      },
      "file_extension": ".py",
      "mimetype": "text/x-python",
      "name": "python",
      "nbconvert_exporter": "python",
      "pygments_lexer": "ipython3",
      "version": "3.9.7"
    },
    "colab": {
      "provenance": []
    }
  },
  "nbformat": 4,
  "nbformat_minor": 5
}