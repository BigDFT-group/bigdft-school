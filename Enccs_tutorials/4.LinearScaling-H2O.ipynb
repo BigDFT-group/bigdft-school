{
  "cells": [
    {
      "cell_type": "markdown",
      "id": "ed94f118",
      "metadata": {
        "id": "ed94f118"
      },
      "source": [
        "# Calculations with linear-scaling BigDFT code\n",
        "In this tutorial we will build upon the cubic scaling tutorial to show how to run the linear scaling (LS) version of BigDFT. We are going to use the same .xyz files for water that we used for cubic scaling BigDFT.\n",
        "\n",
        "LS-BigDFT can only use semi-local functionals (no hybrid functionals), so for the purposes of this tutorial we will stick with using PBE. \n",
        "We will focus on the comparison of performance between the CS and the LS version for systems which are compatible with both algorithms."
      ]
    },
    {
      "cell_type": "markdown",
      "id": "a618bf55",
      "metadata": {
        "id": "a618bf55"
      },
      "source": [
        "## Remote calculation of a dataset of different runs of the water molecule\n",
        "We can use the function from the cubic scaling notebook as inspiration, but since we will be modifying more input parameters than in the cubic scaling case, we define the function to recieve the input dictionary as an argument, to allow greater flexibility.\n",
        "The `Inputfile` class can be handled by the methods which are described in [this](https://l_sim.gitlab.io/bigdft-suite/PyBigDFT/build/html/BigDFT.InputActions.html) page."
      ]
    },
    {
      "cell_type": "code",
      "execution_count": 1,
      "id": "5c3fbf9e",
      "metadata": {
        "id": "5c3fbf9e"
      },
      "outputs": [],
      "source": [
        "def calculate_single_point(run_name, filename, inp, run_directory='Calculations'):\n",
        "    from BigDFT import Calculators as C\n",
        "    from futile.Utils import create_tarball\n",
        "    from os.path import join\n",
        "    from os.path import isfile\n",
        "\n",
        "    # create the calculator\n",
        "    code = C.SystemCalculator(skip=True)\n",
        "    # launch the calculation and retrieve the logfile instance\n",
        "    log = code.run(input=inp, name=run_name, posinp=filename, run_dir=run_directory)\n",
        "    # we create a tarfile that contains the logfile as well as the information about the timing\n",
        "    files = [join(run_directory,'log-'+run_name+'.yaml')]\n",
        "    for timefile in [join(run_directory,'data-'+run_name,'time-'+run_name+'.yaml'),\n",
        "                     join(run_directory,'time-'+run_name+'.yaml')]:\n",
        "        if isfile(timefile):\n",
        "            files += [timefile]\n",
        "            break\n",
        "    create_tarball(run_name+'.tar.gz', files=files)\n",
        "    \n",
        "    # return the energy\n",
        "    return log.energy"
      ]
    },
    {
      "cell_type": "markdown",
      "id": "258dd41d",
      "metadata": {
        "id": "258dd41d"
      },
      "source": [
        "As with cubic scaling BigDFT, we now create a dataset of remote functions to execute the pool of jobs into Vega, from this notebook. In order to save rerunning the cubic scaling calculations, we also keep the same directories as before."
      ]
    },
    {
      "cell_type": "code",
      "source": [
        "#if you are in a Google colab session\n",
        "try:\n",
        "    from google.colab import drive\n",
        "    in_colab = True\n",
        "except:\n",
        "    in_colab = False\n",
        "print('We are in a google colab session: ',in_colab)\n",
        "if in_colab:\n",
        "    import subprocess\n",
        "    print(subprocess.check_output(['pip', 'install', '-U','pybigdft','pyfutile','py3Dmol','remotemanager']))"
      ],
      "metadata": {
        "id": "8X4PW9Ae6DBz",
        "outputId": "792e40d7-c480-47eb-8416-02fda142be52",
        "colab": {
          "base_uri": "https://localhost:8080/"
        }
      },
      "id": "8X4PW9Ae6DBz",
      "execution_count": 2,
      "outputs": [
        {
          "output_type": "stream",
          "name": "stdout",
          "text": [
            "We are in a google colab session:  True\n",
            "b'Looking in indexes: https://pypi.org/simple, https://us-python.pkg.dev/colab-wheels/public/simple/\\nCollecting pybigdft\\n  Downloading pybigdft-1.0.3-py3-none-any.whl (588 kB)\\nCollecting pyfutile\\n  Downloading pyfutile-1.9.3-py3-none-any.whl (56 kB)\\nCollecting py3Dmol\\n  Downloading py3Dmol-1.8.1-py2.py3-none-any.whl (6.5 kB)\\nCollecting remotemanager\\n  Downloading remotemanager-0.3.4-py3-none-any.whl (53 kB)\\nRequirement already satisfied: scipy in /usr/local/lib/python3.7/dist-packages (from pybigdft) (1.7.3)\\nRequirement already satisfied: numpy in /usr/local/lib/python3.7/dist-packages (from pybigdft) (1.21.6)\\nRequirement already satisfied: pyyaml in /usr/local/lib/python3.7/dist-packages (from pybigdft) (6.0)\\nInstalling collected packages: remotemanager, pyfutile, pybigdft, py3Dmol\\nSuccessfully installed py3Dmol-1.8.1 pybigdft-1.0.3 pyfutile-1.9.3 remotemanager-0.3.4\\n'\n"
          ]
        }
      ]
    },
    {
      "cell_type": "code",
      "execution_count": 4,
      "id": "df992515",
      "metadata": {
        "id": "df992515"
      },
      "outputs": [],
      "source": [
        "if in_colab:\n",
        "  from remotemanager import URL\n",
        "  url = URL()\n",
        "else:\n",
        "  # import the vega URL from the previous notebook\n",
        "  import yaml\n",
        "  from remotemanager.connection.computers import Vega\n",
        "  with open('vega.yaml') as ifile:\n",
        "      vega_spec=yaml.load(ifile,Loader=yaml.Loader)\n",
        "  url = Vega(host='vega')\n",
        "  for attribute, value in vega_spec.items():\n",
        "      setattr(url, attribute, value)"
      ]
    },
    {
      "cell_type": "markdown",
      "id": "b643372b",
      "metadata": {
        "id": "b643372b"
      },
      "source": [
        "Now let's set up a loop over two calculations - linear is true and false (i.e. cubic scaling).\n",
        "\n",
        "You will notice that running LS-BigDFT only requires a single change to the input file - this is because we are loading a _profile_, which itself sets a number of parameters relating to LS-BigDFT. Depending on the system and properties you are interested in calculating, you may need to make further changes, as we will see below, but for many scenarios this set of parameters is already robust enough and sufficient to run a single point calculation."
      ]
    },
    {
      "cell_type": "code",
      "execution_count": 5,
      "id": "14248027-b2ff-4035-82f6-febf6217b21d",
      "metadata": {
        "id": "14248027-b2ff-4035-82f6-febf6217b21d"
      },
      "outputs": [],
      "source": [
        "user = 'eugenovesel'"
      ]
    },
    {
      "cell_type": "code",
      "source": [
        "!wget https://raw.githubusercontent.com/BigDFT-group/bigdft-school/main/packaging/install.py 2> /dev/null\n",
        "import install\n",
        "if in_colab:\n",
        "  install.data('data/H2O-LS.tar.xz')"
      ],
      "metadata": {
        "id": "Dxu38sj87JME",
        "outputId": "fbf4165f-249f-4ee4-e9b4-d9c468bbcb3d",
        "colab": {
          "base_uri": "https://localhost:8080/"
        }
      },
      "id": "Dxu38sj87JME",
      "execution_count": 52,
      "outputs": [
        {
          "output_type": "stream",
          "name": "stdout",
          "text": [
            "Executing: wget https://gitlab.com/luigigenovese/bigdft-school/-/raw/main/data/H2O-LS.tar.xz -O H2O-LS.tar.xz\n",
            "--2022-11-16 19:57:41--  https://gitlab.com/luigigenovese/bigdft-school/-/raw/main/data/H2O-LS.tar.xz\n",
            "Resolving gitlab.com (gitlab.com)... 172.65.251.78, 2606:4700:90:0:f22e:fbec:5bed:a9b9\n",
            "Connecting to gitlab.com (gitlab.com)|172.65.251.78|:443... connected.\n",
            "HTTP request sent, awaiting response... 200 OK\n",
            "Length: 458572 (448K) [application/octet-stream]\n",
            "Saving to: ‘H2O-LS.tar.xz’\n",
            "\n",
            "     0K .......... .......... .......... .......... .......... 11% 13.7M 0s\n",
            "    50K .......... .......... .......... .......... .......... 22% 13.7M 0s\n",
            "   100K .......... .......... .......... .......... .......... 33% 55.7M 0s\n",
            "   150K .......... .......... .......... .......... .......... 44% 39.1M 0s\n",
            "   200K .......... .......... .......... .......... .......... 55% 25.6M 0s\n",
            "   250K .......... .......... .......... .......... .......... 66% 45.9M 0s\n",
            "   300K .......... .......... .......... .......... .......... 78% 48.9M 0s\n",
            "   350K .......... .......... .......... .......... .......... 89%  443M 0s\n",
            "   400K .......... .......... .......... .......... .......   100% 42.0M=0.01s\n",
            "\n",
            "2022-11-16 19:57:42 (30.3 MB/s) - ‘H2O-LS.tar.xz’ saved [458572/458572]\n",
            "\n",
            "\n",
            "Executing: mkdir -p /content\n",
            "\n",
            "Executing: tar xJf H2O-LS.tar.xz -C .\n",
            "\n"
          ]
        }
      ]
    },
    {
      "cell_type": "code",
      "execution_count": 22,
      "id": "4d545eeb",
      "metadata": {
        "id": "4d545eeb",
        "outputId": "d63d7e7e-2277-4a15-b3f4-81663d32c28d",
        "colab": {
          "base_uri": "https://localhost:8080/"
        }
      },
      "outputs": [
        {
          "output_type": "stream",
          "name": "stderr",
          "text": [
            "WARNING:remotemanager.logging.Dataset:no transport specified for this dataset, creating basic rsync\n",
            "WARNING:remotemanager.logging.Dataset:no serialiser specified,creating basic json\n"
          ]
        }
      ],
      "source": [
        "from os.path import join, relpath\n",
        "from BigDFT import Inputfiles as I\n",
        "from remotemanager import Dataset\n",
        "local_dir = 'H2O-linear-single'\n",
        "remote_dir = f'/ceph/hpc/data/d2021-135-users/bigdft-school/{user}/H2O-single-LS' #use your own directory for new calculations\n",
        "force_reinitialization = not in_colab # in case you rerun this cell multiple times\n",
        "filename = 'H2O-1.xyz'\n",
        "all_runs = Dataset(function = calculate_single_point,\n",
        "                   url = url,\n",
        "                   name = 'H2O-single-LS',\n",
        "                   remote_dir = remote_dir,\n",
        "                   local_dir = local_dir,\n",
        "                   extra_files_send=filename,\n",
        "                   block_reinit = force_reinitialization)\n",
        "\n",
        "#we collect the run names for future reuse\n",
        "run_names = []\n",
        "# the we append the runs we would like to perform\n",
        "functional = 'PBE'\n",
        "\n",
        "for linear in [True, False]:\n",
        "    #identify a name for the run\n",
        "    run_name = '-'.join([filename.split('.')[0],functional] + (['linear'] if linear else []))\n",
        "    \n",
        "    # create a reasonable set of input parameters for the molecule - these are the same as the cubic scaling case\n",
        "    inp = I.Inputfile()\n",
        "    inp.set_xc(functional)\n",
        "    inp.set_hgrid(0.4)\n",
        "    inp.set_psp_nlcc()\n",
        "\n",
        "    # activate the linear scaling mode if required\n",
        "    if linear:\n",
        "        inp[\"import\"] = \"linear\"        \n",
        "    \n",
        "    # we then pass the input dictionary to our function\n",
        "    func_kwargs = dict(run_name=run_name, filename=filename, inp=dict(inp))\n",
        "\n",
        "    run_args = {}\n",
        "    run_args['jobname'] = run_name\n",
        "    run_args['mpi'] = 4\n",
        "    run_args['omp'] = 4\n",
        "    run_args['time'] = 2 # minutes\n",
        "    \n",
        "    all_runs.append_run(args=func_kwargs, \n",
        "                        extra_files_recv=[run_name+'.tar.gz'],\n",
        "                        **run_args)\n",
        "    run_names.append(run_name)    \n"
      ]
    },
    {
      "cell_type": "code",
      "execution_count": 23,
      "id": "b57b9168-8d98-48f4-bff0-0b1e6945b9b4",
      "metadata": {
        "id": "b57b9168-8d98-48f4-bff0-0b1e6945b9b4"
      },
      "outputs": [],
      "source": [
        "#for slow connections\n",
        "# all_runs.url.timeout=120\n",
        "# all_runs.url.max_timeouts=20\n",
        "# all_runs.url.raise_errors=False #to override ssh error messages"
      ]
    },
    {
      "cell_type": "code",
      "execution_count": 25,
      "id": "3b4f9d09",
      "metadata": {
        "id": "3b4f9d09",
        "outputId": "24d387aa-5c6f-4bae-ea59-6b31ebfc1046",
        "colab": {
          "base_uri": "https://localhost:8080/"
        }
      },
      "outputs": [
        {
          "output_type": "stream",
          "name": "stdout",
          "text": [
            "run already completed, skipping\n",
            "run already completed, skipping\n",
            "run already completed, skipping\n"
          ]
        }
      ],
      "source": [
        "all_runs.run()  # if you want to redo the calculation you can put force=True)"
      ]
    },
    {
      "cell_type": "markdown",
      "id": "1a7421cd",
      "metadata": {
        "id": "1a7421cd"
      },
      "source": [
        "Both runs should be very quick, once they're done we can copy back the results."
      ]
    },
    {
      "cell_type": "code",
      "execution_count": null,
      "id": "f6b92775",
      "metadata": {
        "tags": [],
        "id": "f6b92775"
      },
      "outputs": [],
      "source": [
        "import time\n",
        "# while not all_runs.all_finished:\n",
        "#     time.sleep(1)\n",
        "all_runs.fetch_results(ignore_errors=True)"
      ]
    },
    {
      "cell_type": "code",
      "execution_count": 27,
      "id": "b71b179f-1c17-44a1-8faf-49baf085e8db",
      "metadata": {
        "id": "b71b179f-1c17-44a1-8faf-49baf085e8db"
      },
      "outputs": [],
      "source": [
        "energies = all_runs.results"
      ]
    },
    {
      "cell_type": "markdown",
      "id": "2c5fa557",
      "metadata": {
        "id": "2c5fa557"
      },
      "source": [
        "We can print out the energy values for reference, as well as the difference in energy - we can see that the LS value is a few mHa higher than the value for the cubic scaling case.\n",
        "\n",
        "Of course, the total energy itself is often not of interest, and we typically expect the energy error to be smaller when looking at energy differences, due to error cancellation.\n",
        "\n",
        "In the case where greater accuracy is required, it is also possible to modify the localisation radii which define the regions in which the support functions leave - the larger the radii, the closer to the cubic scaling value, although this typically implies an increase in cost. For the interested party, this is demonstrated in the 2.B notebook of bigdft-school/CCP-tutorials."
      ]
    },
    {
      "cell_type": "code",
      "execution_count": 28,
      "id": "94e29ffb",
      "metadata": {
        "id": "94e29ffb",
        "outputId": "8066b573-4d14-4dc1-c1e0-d6efb5dc752e",
        "colab": {
          "base_uri": "https://localhost:8080/"
        }
      },
      "outputs": [
        {
          "output_type": "stream",
          "name": "stdout",
          "text": [
            "[-17.601346664765046, -17.60611945369108, -17.60134666476504]\n",
            "0.004772788926032945\n"
          ]
        }
      ],
      "source": [
        "print(energies)\n",
        "print(energies[0] - energies[1])"
      ]
    },
    {
      "cell_type": "markdown",
      "id": "5d714350",
      "metadata": {
        "id": "5d714350"
      },
      "source": [
        "# Analysis of the runs\n",
        "After those runs have been executed we can compare different quantities among the various runs, for illustrative purposes.\n",
        "We will highlight:\n",
        "\n",
        "1. The Density of States\n",
        "2. The Molecule dipole\n",
        "3. The profiling of the different timing categories\n",
        "\n",
        "We start by unpacking the received data"
      ]
    },
    {
      "cell_type": "code",
      "source": [
        "#this is useful in colab\n",
        "!wget https://raw.githubusercontent.com/BigDFT-group/bigdft-school/main/Enccs_tutorials/analysis.py 2> /dev/null"
      ],
      "metadata": {
        "id": "qO1H_dM4AZCA"
      },
      "id": "qO1H_dM4AZCA",
      "execution_count": 29,
      "outputs": []
    },
    {
      "cell_type": "code",
      "execution_count": 30,
      "id": "e7d74bcd",
      "metadata": {
        "id": "e7d74bcd"
      },
      "outputs": [],
      "source": [
        "from analysis import extract_results"
      ]
    },
    {
      "cell_type": "code",
      "execution_count": 31,
      "id": "aff6d986",
      "metadata": {
        "id": "aff6d986"
      },
      "outputs": [],
      "source": [
        "# the data are unpacked in a \"Calculations\" subdirectory (see above arguments)\n",
        "extract_results('H2O-linear-single')"
      ]
    },
    {
      "cell_type": "markdown",
      "id": "ffe6eed7",
      "metadata": {
        "id": "ffe6eed7"
      },
      "source": [
        "We read the different logfiles\n"
      ]
    },
    {
      "cell_type": "code",
      "execution_count": 32,
      "id": "ea5801a5",
      "metadata": {
        "id": "ea5801a5"
      },
      "outputs": [],
      "source": [
        "from BigDFT.Logfiles import Logfile as L\n",
        "logs = {name.lstrip('H2O-1-'): L(join('H2O-linear-single','Calculations','log-'+name+'.yaml'))\n",
        "        for name in run_names}"
      ]
    },
    {
      "cell_type": "markdown",
      "id": "06ab735f",
      "metadata": {
        "id": "06ab735f"
      },
      "source": [
        "Where we see the localization effect of the Hybrid functional with respect to the energies of the semilocal ones."
      ]
    },
    {
      "cell_type": "markdown",
      "id": "dea5f22e",
      "metadata": {
        "id": "dea5f22e"
      },
      "source": [
        "## Total Dipole\n",
        "We can also again print the dipoles - we see here again the similarity between LS and cubic scaling results."
      ]
    },
    {
      "cell_type": "code",
      "execution_count": 33,
      "id": "3e6c6395-32f7-4361-8b8a-df7d2a23b7ba",
      "metadata": {
        "id": "3e6c6395-32f7-4361-8b8a-df7d2a23b7ba"
      },
      "outputs": [],
      "source": [
        "from analysis import dipole_info"
      ]
    },
    {
      "cell_type": "code",
      "execution_count": 34,
      "id": "053d39c0",
      "metadata": {
        "id": "053d39c0",
        "outputId": "27f7bb17-f87b-41e6-9223-487d200d825d",
        "colab": {
          "base_uri": "https://localhost:8080/",
          "height": 112
        }
      },
      "outputs": [
        {
          "output_type": "execute_result",
          "data": {
            "text/plain": [
              "            x (AU)  y (AU)  z (AU)  Norm (Debye)\n",
              "PBE-linear    0.60    0.34   -0.19          1.83\n",
              "PBE           0.59    0.34   -0.19          1.78"
            ],
            "text/html": [
              "\n",
              "  <div id=\"df-e9068f83-ea34-4c41-9309-334be83415f5\">\n",
              "    <div class=\"colab-df-container\">\n",
              "      <div>\n",
              "<style scoped>\n",
              "    .dataframe tbody tr th:only-of-type {\n",
              "        vertical-align: middle;\n",
              "    }\n",
              "\n",
              "    .dataframe tbody tr th {\n",
              "        vertical-align: top;\n",
              "    }\n",
              "\n",
              "    .dataframe thead th {\n",
              "        text-align: right;\n",
              "    }\n",
              "</style>\n",
              "<table border=\"1\" class=\"dataframe\">\n",
              "  <thead>\n",
              "    <tr style=\"text-align: right;\">\n",
              "      <th></th>\n",
              "      <th>x (AU)</th>\n",
              "      <th>y (AU)</th>\n",
              "      <th>z (AU)</th>\n",
              "      <th>Norm (Debye)</th>\n",
              "    </tr>\n",
              "  </thead>\n",
              "  <tbody>\n",
              "    <tr>\n",
              "      <th>PBE-linear</th>\n",
              "      <td>0.60</td>\n",
              "      <td>0.34</td>\n",
              "      <td>-0.19</td>\n",
              "      <td>1.83</td>\n",
              "    </tr>\n",
              "    <tr>\n",
              "      <th>PBE</th>\n",
              "      <td>0.59</td>\n",
              "      <td>0.34</td>\n",
              "      <td>-0.19</td>\n",
              "      <td>1.78</td>\n",
              "    </tr>\n",
              "  </tbody>\n",
              "</table>\n",
              "</div>\n",
              "      <button class=\"colab-df-convert\" onclick=\"convertToInteractive('df-e9068f83-ea34-4c41-9309-334be83415f5')\"\n",
              "              title=\"Convert this dataframe to an interactive table.\"\n",
              "              style=\"display:none;\">\n",
              "        \n",
              "  <svg xmlns=\"http://www.w3.org/2000/svg\" height=\"24px\"viewBox=\"0 0 24 24\"\n",
              "       width=\"24px\">\n",
              "    <path d=\"M0 0h24v24H0V0z\" fill=\"none\"/>\n",
              "    <path d=\"M18.56 5.44l.94 2.06.94-2.06 2.06-.94-2.06-.94-.94-2.06-.94 2.06-2.06.94zm-11 1L8.5 8.5l.94-2.06 2.06-.94-2.06-.94L8.5 2.5l-.94 2.06-2.06.94zm10 10l.94 2.06.94-2.06 2.06-.94-2.06-.94-.94-2.06-.94 2.06-2.06.94z\"/><path d=\"M17.41 7.96l-1.37-1.37c-.4-.4-.92-.59-1.43-.59-.52 0-1.04.2-1.43.59L10.3 9.45l-7.72 7.72c-.78.78-.78 2.05 0 2.83L4 21.41c.39.39.9.59 1.41.59.51 0 1.02-.2 1.41-.59l7.78-7.78 2.81-2.81c.8-.78.8-2.07 0-2.86zM5.41 20L4 18.59l7.72-7.72 1.47 1.35L5.41 20z\"/>\n",
              "  </svg>\n",
              "      </button>\n",
              "      \n",
              "  <style>\n",
              "    .colab-df-container {\n",
              "      display:flex;\n",
              "      flex-wrap:wrap;\n",
              "      gap: 12px;\n",
              "    }\n",
              "\n",
              "    .colab-df-convert {\n",
              "      background-color: #E8F0FE;\n",
              "      border: none;\n",
              "      border-radius: 50%;\n",
              "      cursor: pointer;\n",
              "      display: none;\n",
              "      fill: #1967D2;\n",
              "      height: 32px;\n",
              "      padding: 0 0 0 0;\n",
              "      width: 32px;\n",
              "    }\n",
              "\n",
              "    .colab-df-convert:hover {\n",
              "      background-color: #E2EBFA;\n",
              "      box-shadow: 0px 1px 2px rgba(60, 64, 67, 0.3), 0px 1px 3px 1px rgba(60, 64, 67, 0.15);\n",
              "      fill: #174EA6;\n",
              "    }\n",
              "\n",
              "    [theme=dark] .colab-df-convert {\n",
              "      background-color: #3B4455;\n",
              "      fill: #D2E3FC;\n",
              "    }\n",
              "\n",
              "    [theme=dark] .colab-df-convert:hover {\n",
              "      background-color: #434B5C;\n",
              "      box-shadow: 0px 1px 3px 1px rgba(0, 0, 0, 0.15);\n",
              "      filter: drop-shadow(0px 1px 2px rgba(0, 0, 0, 0.3));\n",
              "      fill: #FFFFFF;\n",
              "    }\n",
              "  </style>\n",
              "\n",
              "      <script>\n",
              "        const buttonEl =\n",
              "          document.querySelector('#df-e9068f83-ea34-4c41-9309-334be83415f5 button.colab-df-convert');\n",
              "        buttonEl.style.display =\n",
              "          google.colab.kernel.accessAllowed ? 'block' : 'none';\n",
              "\n",
              "        async function convertToInteractive(key) {\n",
              "          const element = document.querySelector('#df-e9068f83-ea34-4c41-9309-334be83415f5');\n",
              "          const dataTable =\n",
              "            await google.colab.kernel.invokeFunction('convertToInteractive',\n",
              "                                                     [key], {});\n",
              "          if (!dataTable) return;\n",
              "\n",
              "          const docLinkHtml = 'Like what you see? Visit the ' +\n",
              "            '<a target=\"_blank\" href=https://colab.research.google.com/notebooks/data_table.ipynb>data table notebook</a>'\n",
              "            + ' to learn more about interactive tables.';\n",
              "          element.innerHTML = '';\n",
              "          dataTable['output_type'] = 'display_data';\n",
              "          await google.colab.output.renderOutput(dataTable, element);\n",
              "          const docLink = document.createElement('div');\n",
              "          docLink.innerHTML = docLinkHtml;\n",
              "          element.appendChild(docLink);\n",
              "        }\n",
              "      </script>\n",
              "    </div>\n",
              "  </div>\n",
              "  "
            ]
          },
          "metadata": {},
          "execution_count": 34
        }
      ],
      "source": [
        "from pandas import DataFrame\n",
        "data = {name: dipole_info(log)for name, log in logs.items()}\n",
        "table = DataFrame(data).T\n",
        "table.round(2)"
      ]
    },
    {
      "cell_type": "markdown",
      "id": "83d17146",
      "metadata": {
        "id": "83d17146"
      },
      "source": [
        "Here we see the polarizability effect induced by the environment."
      ]
    },
    {
      "cell_type": "markdown",
      "id": "af161df8",
      "metadata": {
        "id": "af161df8"
      },
      "source": [
        "## Time to solution\n",
        "We can also inspect the different timings for this runs, to understand how the computational resources have been used in the different approximations"
      ]
    },
    {
      "cell_type": "code",
      "execution_count": 35,
      "id": "e5189ce8",
      "metadata": {
        "id": "e5189ce8"
      },
      "outputs": [],
      "source": [
        "times = {name.lstrip('H2O-1-'): join('H2O-linear-single','Calculations','data-'+name if 'linear' in name else '','time-'+name+'.yaml')\n",
        "        for name in run_names}"
      ]
    },
    {
      "cell_type": "code",
      "execution_count": 36,
      "id": "22cfe9eb",
      "metadata": {
        "id": "22cfe9eb"
      },
      "outputs": [],
      "source": [
        "from analysis import get_total_time_info"
      ]
    },
    {
      "cell_type": "markdown",
      "id": "7ed5e315",
      "metadata": {
        "id": "7ed5e315"
      },
      "source": [
        "Using the same function as for the cubic scaling notebook, we can extract a timing breakdown of the two runs.  Notice that the breakdown is different between the two codes, while LS-BigDFT also takes longer than cubic scaling BigDFT. This is not surprising for such a small system, as we are well below the crossover point."
      ]
    },
    {
      "cell_type": "code",
      "execution_count": 37,
      "id": "1176399b",
      "metadata": {
        "id": "1176399b",
        "outputId": "67724bc7-d55c-4e60-8538-5ec944f32541",
        "colab": {
          "base_uri": "https://localhost:8080/",
          "height": 112
        }
      },
      "outputs": [
        {
          "output_type": "execute_result",
          "data": {
            "text/plain": [
              "            INIT  WFN_OPT   LAST  Total  WFN_OPT %\n",
              "PBE-linear   2.1      7.2  0.001    9.3       77.1\n",
              "PBE          1.0      1.7  0.240    3.0       57.2"
            ],
            "text/html": [
              "\n",
              "  <div id=\"df-a8b528b2-9949-4d16-be9f-99f3cd4e27eb\">\n",
              "    <div class=\"colab-df-container\">\n",
              "      <div>\n",
              "<style scoped>\n",
              "    .dataframe tbody tr th:only-of-type {\n",
              "        vertical-align: middle;\n",
              "    }\n",
              "\n",
              "    .dataframe tbody tr th {\n",
              "        vertical-align: top;\n",
              "    }\n",
              "\n",
              "    .dataframe thead th {\n",
              "        text-align: right;\n",
              "    }\n",
              "</style>\n",
              "<table border=\"1\" class=\"dataframe\">\n",
              "  <thead>\n",
              "    <tr style=\"text-align: right;\">\n",
              "      <th></th>\n",
              "      <th>INIT</th>\n",
              "      <th>WFN_OPT</th>\n",
              "      <th>LAST</th>\n",
              "      <th>Total</th>\n",
              "      <th>WFN_OPT %</th>\n",
              "    </tr>\n",
              "  </thead>\n",
              "  <tbody>\n",
              "    <tr>\n",
              "      <th>PBE-linear</th>\n",
              "      <td>2.1</td>\n",
              "      <td>7.2</td>\n",
              "      <td>0.001</td>\n",
              "      <td>9.3</td>\n",
              "      <td>77.1</td>\n",
              "    </tr>\n",
              "    <tr>\n",
              "      <th>PBE</th>\n",
              "      <td>1.0</td>\n",
              "      <td>1.7</td>\n",
              "      <td>0.240</td>\n",
              "      <td>3.0</td>\n",
              "      <td>57.2</td>\n",
              "    </tr>\n",
              "  </tbody>\n",
              "</table>\n",
              "</div>\n",
              "      <button class=\"colab-df-convert\" onclick=\"convertToInteractive('df-a8b528b2-9949-4d16-be9f-99f3cd4e27eb')\"\n",
              "              title=\"Convert this dataframe to an interactive table.\"\n",
              "              style=\"display:none;\">\n",
              "        \n",
              "  <svg xmlns=\"http://www.w3.org/2000/svg\" height=\"24px\"viewBox=\"0 0 24 24\"\n",
              "       width=\"24px\">\n",
              "    <path d=\"M0 0h24v24H0V0z\" fill=\"none\"/>\n",
              "    <path d=\"M18.56 5.44l.94 2.06.94-2.06 2.06-.94-2.06-.94-.94-2.06-.94 2.06-2.06.94zm-11 1L8.5 8.5l.94-2.06 2.06-.94-2.06-.94L8.5 2.5l-.94 2.06-2.06.94zm10 10l.94 2.06.94-2.06 2.06-.94-2.06-.94-.94-2.06-.94 2.06-2.06.94z\"/><path d=\"M17.41 7.96l-1.37-1.37c-.4-.4-.92-.59-1.43-.59-.52 0-1.04.2-1.43.59L10.3 9.45l-7.72 7.72c-.78.78-.78 2.05 0 2.83L4 21.41c.39.39.9.59 1.41.59.51 0 1.02-.2 1.41-.59l7.78-7.78 2.81-2.81c.8-.78.8-2.07 0-2.86zM5.41 20L4 18.59l7.72-7.72 1.47 1.35L5.41 20z\"/>\n",
              "  </svg>\n",
              "      </button>\n",
              "      \n",
              "  <style>\n",
              "    .colab-df-container {\n",
              "      display:flex;\n",
              "      flex-wrap:wrap;\n",
              "      gap: 12px;\n",
              "    }\n",
              "\n",
              "    .colab-df-convert {\n",
              "      background-color: #E8F0FE;\n",
              "      border: none;\n",
              "      border-radius: 50%;\n",
              "      cursor: pointer;\n",
              "      display: none;\n",
              "      fill: #1967D2;\n",
              "      height: 32px;\n",
              "      padding: 0 0 0 0;\n",
              "      width: 32px;\n",
              "    }\n",
              "\n",
              "    .colab-df-convert:hover {\n",
              "      background-color: #E2EBFA;\n",
              "      box-shadow: 0px 1px 2px rgba(60, 64, 67, 0.3), 0px 1px 3px 1px rgba(60, 64, 67, 0.15);\n",
              "      fill: #174EA6;\n",
              "    }\n",
              "\n",
              "    [theme=dark] .colab-df-convert {\n",
              "      background-color: #3B4455;\n",
              "      fill: #D2E3FC;\n",
              "    }\n",
              "\n",
              "    [theme=dark] .colab-df-convert:hover {\n",
              "      background-color: #434B5C;\n",
              "      box-shadow: 0px 1px 3px 1px rgba(0, 0, 0, 0.15);\n",
              "      filter: drop-shadow(0px 1px 2px rgba(0, 0, 0, 0.3));\n",
              "      fill: #FFFFFF;\n",
              "    }\n",
              "  </style>\n",
              "\n",
              "      <script>\n",
              "        const buttonEl =\n",
              "          document.querySelector('#df-a8b528b2-9949-4d16-be9f-99f3cd4e27eb button.colab-df-convert');\n",
              "        buttonEl.style.display =\n",
              "          google.colab.kernel.accessAllowed ? 'block' : 'none';\n",
              "\n",
              "        async function convertToInteractive(key) {\n",
              "          const element = document.querySelector('#df-a8b528b2-9949-4d16-be9f-99f3cd4e27eb');\n",
              "          const dataTable =\n",
              "            await google.colab.kernel.invokeFunction('convertToInteractive',\n",
              "                                                     [key], {});\n",
              "          if (!dataTable) return;\n",
              "\n",
              "          const docLinkHtml = 'Like what you see? Visit the ' +\n",
              "            '<a target=\"_blank\" href=https://colab.research.google.com/notebooks/data_table.ipynb>data table notebook</a>'\n",
              "            + ' to learn more about interactive tables.';\n",
              "          element.innerHTML = '';\n",
              "          dataTable['output_type'] = 'display_data';\n",
              "          await google.colab.output.renderOutput(dataTable, element);\n",
              "          const docLink = document.createElement('div');\n",
              "          docLink.innerHTML = docLinkHtml;\n",
              "          element.appendChild(docLink);\n",
              "        }\n",
              "      </script>\n",
              "    </div>\n",
              "  </div>\n",
              "  "
            ]
          },
          "metadata": {},
          "execution_count": 37
        }
      ],
      "source": [
        "table=DataFrame({name:get_total_time_info(time) for name, time in times.items()}).T\n",
        "table.round(3)"
      ]
    },
    {
      "cell_type": "code",
      "execution_count": 38,
      "id": "cb94aa46-6928-4b1d-a089-ff3cd766e4b9",
      "metadata": {
        "id": "cb94aa46-6928-4b1d-a089-ff3cd766e4b9"
      },
      "outputs": [],
      "source": [
        "from analysis import plot_timings"
      ]
    },
    {
      "cell_type": "markdown",
      "id": "2a45c558-624b-40cd-a5c8-19fd1636d93d",
      "metadata": {
        "id": "2a45c558-624b-40cd-a5c8-19fd1636d93d"
      },
      "source": [
        "We can then compare the two different calculations, noticing that the algorithm is not the same."
      ]
    },
    {
      "cell_type": "code",
      "execution_count": 39,
      "id": "83529443-3946-495d-9234-376299686a5e",
      "metadata": {
        "id": "83529443-3946-495d-9234-376299686a5e",
        "outputId": "b33fbca7-39bf-482b-da48-0f6daf53bf41",
        "colab": {
          "base_uri": "https://localhost:8080/",
          "height": 498
        }
      },
      "outputs": [
        {
          "output_type": "stream",
          "name": "stdout",
          "text": [
            "EXCEPTION FOUND 'Linear Algebra'\n",
            "category Linear Algebra not present everywhere\n",
            "EXCEPTION FOUND 'chebyshev matrix expansion'\n",
            "category chebyshev matrix expansion not present everywhere\n",
            "EXCEPTION FOUND 'sparse matrix communications'\n",
            "category sparse matrix communications not present everywhere\n",
            "EXCEPTION FOUND 'sparse matrix manipulation'\n",
            "category sparse matrix manipulation not present everywhere\n"
          ]
        },
        {
          "output_type": "display_data",
          "data": {
            "text/plain": [
              "<Figure size 432x288 with 3 Axes>"
            ],
            "image/png": "[encoded data removed]"
          },
          "metadata": {}
        }
      ],
      "source": [
        "plot_timings(times)"
      ]
    },
    {
      "cell_type": "markdown",
      "id": "f48eccd5",
      "metadata": {
        "id": "f48eccd5"
      },
      "source": [
        "For such a small system, we see that the Linear Scaling algorithm it is considerably slower than the cubic scaling one.\n",
        "Each category of systems has a so-called \"crossover point\" in term of its number of atoms, after which the LS algorithm will become more convenient."
      ]
    },
    {
      "cell_type": "markdown",
      "id": "c24fee50",
      "metadata": {
        "id": "c24fee50"
      },
      "source": [
        "## Density of States\n",
        "\n",
        "So far the only quantity we haven't looked at yet from the cubic scaling notebook is the DoS. This is deliberate - if you run the cell below, you will see that we get an error message."
      ]
    },
    {
      "cell_type": "code",
      "execution_count": 40,
      "id": "2e9f47aa",
      "metadata": {
        "id": "2e9f47aa",
        "outputId": "a9cafa0c-89aa-472f-e3fb-2a6bb402d268",
        "colab": {
          "base_uri": "https://localhost:8080/",
          "height": 358
        }
      },
      "outputs": [
        {
          "output_type": "error",
          "ename": "AttributeError",
          "evalue": "ignored",
          "traceback": [
            "\u001b[0;31m---------------------------------------------------------------------------\u001b[0m",
            "\u001b[0;31mAttributeError\u001b[0m                            Traceback (most recent call last)",
            "\u001b[0;32m<ipython-input-40-031d1458ba24>\u001b[0m in \u001b[0;36m<module>\u001b[0;34m\u001b[0m\n\u001b[1;32m      1\u001b[0m \u001b[0;32mfrom\u001b[0m \u001b[0mBigDFT\u001b[0m\u001b[0;34m.\u001b[0m\u001b[0mDoS\u001b[0m \u001b[0;32mimport\u001b[0m \u001b[0mDoS\u001b[0m\u001b[0;34m\u001b[0m\u001b[0;34m\u001b[0m\u001b[0m\n\u001b[0;32m----> 2\u001b[0;31m \u001b[0mdos\u001b[0m \u001b[0;34m=\u001b[0m \u001b[0mDoS\u001b[0m\u001b[0;34m(\u001b[0m\u001b[0mlogfiles_dict\u001b[0m\u001b[0;34m=\u001b[0m\u001b[0mlogs\u001b[0m\u001b[0;34m)\u001b[0m\u001b[0;34m\u001b[0m\u001b[0;34m\u001b[0m\u001b[0m\n\u001b[0m\u001b[1;32m      3\u001b[0m \u001b[0mdos\u001b[0m\u001b[0;34m.\u001b[0m\u001b[0mplot\u001b[0m\u001b[0;34m(\u001b[0m\u001b[0;34m)\u001b[0m\u001b[0;34m.\u001b[0m\u001b[0mlegend\u001b[0m\u001b[0;34m(\u001b[0m\u001b[0mloc\u001b[0m\u001b[0;34m=\u001b[0m\u001b[0;34m'best'\u001b[0m\u001b[0;34m)\u001b[0m\u001b[0;34m\u001b[0m\u001b[0;34m\u001b[0m\u001b[0m\n",
            "\u001b[0;32m/usr/local/lib/python3.7/dist-packages/BigDFT/DoS.py\u001b[0m in \u001b[0;36m__init__\u001b[0;34m(self, bandarrays, energies, evals, logfiles_dict, units, reference_fermi_level, label, sigma, fermi_level, norm, sdos, **kwargs)\u001b[0m\n\u001b[1;32m    164\u001b[0m             \u001b[0mshifts\u001b[0m \u001b[0;34m=\u001b[0m \u001b[0;34m{\u001b[0m\u001b[0;34m}\u001b[0m\u001b[0;34m\u001b[0m\u001b[0;34m\u001b[0m\u001b[0m\n\u001b[1;32m    165\u001b[0m             \u001b[0;32mfor\u001b[0m \u001b[0mlb\u001b[0m\u001b[0;34m,\u001b[0m \u001b[0mlog\u001b[0m \u001b[0;32min\u001b[0m \u001b[0mlogfiles_dict\u001b[0m\u001b[0;34m.\u001b[0m\u001b[0mitems\u001b[0m\u001b[0;34m(\u001b[0m\u001b[0;34m)\u001b[0m\u001b[0;34m:\u001b[0m\u001b[0;34m\u001b[0m\u001b[0;34m\u001b[0m\u001b[0m\n\u001b[0;32m--> 166\u001b[0;31m                 \u001b[0mself\u001b[0m\u001b[0;34m.\u001b[0m\u001b[0mappend_from_bandarray\u001b[0m\u001b[0;34m(\u001b[0m\u001b[0mlog\u001b[0m\u001b[0;34m.\u001b[0m\u001b[0mevals\u001b[0m\u001b[0;34m,\u001b[0m \u001b[0mlabel\u001b[0m\u001b[0;34m=\u001b[0m\u001b[0mlb\u001b[0m\u001b[0;34m)\u001b[0m\u001b[0;34m\u001b[0m\u001b[0;34m\u001b[0m\u001b[0m\n\u001b[0m\u001b[1;32m    167\u001b[0m                 \u001b[0;32mif\u001b[0m \u001b[0mreference_fermi_level\u001b[0m \u001b[0;32mis\u001b[0m \u001b[0;32mnot\u001b[0m \u001b[0;32mNone\u001b[0m\u001b[0;34m:\u001b[0m\u001b[0;34m\u001b[0m\u001b[0;34m\u001b[0m\u001b[0m\n\u001b[1;32m    168\u001b[0m                     \u001b[0msh\u001b[0m \u001b[0;34m=\u001b[0m \u001b[0mreference_fermi_level\u001b[0m \u001b[0;34m-\u001b[0m \u001b[0mlog\u001b[0m\u001b[0;34m.\u001b[0m\u001b[0mfermi_level\u001b[0m\u001b[0;34m\u001b[0m\u001b[0;34m\u001b[0m\u001b[0m\n",
            "\u001b[0;31mAttributeError\u001b[0m: 'Logfile' object has no attribute 'evals'"
          ]
        }
      ],
      "source": [
        "from BigDFT.DoS import DoS\n",
        "dos = DoS(logfiles_dict=logs)\n",
        "dos.plot().legend(loc='best')"
      ]
    },
    {
      "cell_type": "markdown",
      "id": "481cc776",
      "metadata": {
        "id": "481cc776"
      },
      "source": [
        "One of the parameters set by the `linear` profile is the `linear_method` keyword, which sets the approach used for kernel optimisation.\n",
        "\n",
        "The linear scaling profile uses the Fermi Operator Expansion (FOE) approach, which is the recommended approach in most cases, particularly for very large systems. However, two other approaches are also available: direct minimisation of the Kohn Sham (KS) coefficients (DIRMIN), and diagonalisation (DIAG). These other approaches may be useful in different scenarios, as we will see.\n",
        "\n",
        "Since FOE works directly with the density kernel, not the coefficients, in a standard calculation, we don't have access to the eigenvalues and hence cannot plot the DoS.  This is what the error message is telling us -- we don't have any `evals` which are the eigenvalues.\n",
        "\n",
        "If we want to plot the DoS we could use the diagonalisation approach instead, or we can still use FOE, and just tell BigDFT to do a single diagonalisation at the end. Let's do that and rerun the calculation, by appending the calculation to the dataset."
      ]
    },
    {
      "cell_type": "code",
      "execution_count": 41,
      "id": "eca2ae89",
      "metadata": {
        "id": "eca2ae89"
      },
      "outputs": [],
      "source": [
        "# create again the input dictionary\n",
        "inp = I.Inputfile()\n",
        "inp.set_xc(functional)\n",
        "inp.set_hgrid(0.4)\n",
        "inp.set_psp_nlcc()\n",
        "inp[\"import\"] = \"linear\"    \n",
        "\n",
        "# update the input dictionary by switching on subspace diagonalisation\n",
        "inp.update({'lin_general': {'subspace_diag': True}})\n",
        "\n",
        "# identify a name for the new run\n",
        "run_name = 'H2O-1-PBE-linear-dos'\n",
        "func_kwargs = dict(run_name=run_name, filename=filename, inp=dict(inp))\n",
        "\n",
        "run_args = {}\n",
        "run_args['jobname'] = run_name\n",
        "run_args['mpi'] = 4\n",
        "run_args['omp'] = 4\n",
        "run_args['time'] = 2 # minutes\n",
        "\n",
        "all_runs.append_run(args=func_kwargs, \n",
        "                    extra_files_recv=[run_name+'.tar.gz'],\n",
        "                    **run_args)\n",
        "run_names.append(run_name)   \n"
      ]
    },
    {
      "cell_type": "markdown",
      "id": "82a565b3",
      "metadata": {
        "id": "82a565b3"
      },
      "source": [
        "As expected, we should see that two of the jobs are already submitted, so it's just the new calculation which should be submitted to the queue."
      ]
    },
    {
      "cell_type": "code",
      "execution_count": 42,
      "id": "cbce6a45",
      "metadata": {
        "id": "cbce6a45",
        "outputId": "831c1f6a-4a9a-4b6e-edcc-92f06e531729",
        "colab": {
          "base_uri": "https://localhost:8080/"
        }
      },
      "outputs": [
        {
          "output_type": "stream",
          "name": "stdout",
          "text": [
            "run already completed, skipping\n",
            "run already completed, skipping\n",
            "run already completed, skipping\n"
          ]
        }
      ],
      "source": [
        "all_runs.run() "
      ]
    },
    {
      "cell_type": "markdown",
      "id": "69be8e92",
      "metadata": {
        "id": "69be8e92"
      },
      "source": [
        "It should again be quick, so we can then fetch the results back."
      ]
    },
    {
      "cell_type": "code",
      "execution_count": 43,
      "id": "843daafb-371a-42ae-895e-a883fb0ad8e5",
      "metadata": {
        "id": "843daafb-371a-42ae-895e-a883fb0ad8e5"
      },
      "outputs": [],
      "source": [
        "if not in_colab:\n",
        "  all_runs.fetch_results(ignore_errors=True)"
      ]
    },
    {
      "cell_type": "code",
      "execution_count": 44,
      "id": "cebb67cf-3ab4-4d33-89eb-57db2cedfdd0",
      "metadata": {
        "id": "cebb67cf-3ab4-4d33-89eb-57db2cedfdd0"
      },
      "outputs": [],
      "source": [
        "energies = all_runs.results"
      ]
    },
    {
      "cell_type": "markdown",
      "id": "027d79ac",
      "metadata": {
        "id": "027d79ac"
      },
      "source": [
        "Let's print the energies - we can see that the extra diagonalisation at the end of the run made negligible difference to the total energy, as we might expect."
      ]
    },
    {
      "cell_type": "code",
      "execution_count": 45,
      "id": "9c19230d",
      "metadata": {
        "id": "9c19230d",
        "outputId": "eea80ba4-2e93-49f5-9c7b-cf45abf6adc8",
        "colab": {
          "base_uri": "https://localhost:8080/"
        }
      },
      "outputs": [
        {
          "output_type": "stream",
          "name": "stdout",
          "text": [
            "[-17.601346664765046, -17.60611945369108, -17.60134666476504]\n",
            "-7.105427357601002e-15\n"
          ]
        }
      ],
      "source": [
        "print(energies)\n",
        "print(energies[0] - energies[2])"
      ]
    },
    {
      "cell_type": "markdown",
      "id": "ade1ef31",
      "metadata": {
        "id": "ade1ef31"
      },
      "source": [
        "Let's also do the same processing steps as before."
      ]
    },
    {
      "cell_type": "code",
      "execution_count": 46,
      "id": "e5e81000",
      "metadata": {
        "id": "e5e81000"
      },
      "outputs": [],
      "source": [
        "# the data are unpacked in a \"Calculations\" subdirectory (see above arguments)\n",
        "extract_results('H2O-linear-single')\n",
        "\n",
        "# #patch the yaml files from a mistake in the case of low profiling depth\n",
        "# !sed -i s/^\\ *\\:\\ null/\\ \\ \\ \\ null/g H2O-linear-single/Calculations/time*\n",
        "\n",
        "from BigDFT.Logfiles import Logfile as L\n",
        "logs = {name.lstrip('H2O-1-'): L(join('H2O-linear-single','Calculations','log-'+name+'.yaml'))\n",
        "        for name in run_names}"
      ]
    },
    {
      "cell_type": "markdown",
      "id": "e75b71a5",
      "metadata": {
        "id": "e75b71a5"
      },
      "source": [
        "Finally let's look at the DoS. Note that the Fermi level is not automatically retrieved for LS-BigDFT, so we'll use the cubic scaling Fermi level.\n",
        "\n",
        "We can see that the two DoS look very similar, albeit with a small shift. The cubic scaling case also does not have any empty states - this is because we did not explicitly ask for them. \n",
        "\n",
        "On the other hand, the LS empty states should not be relied upon for a standard LS calculation. In the case where they are required - it is possible to use the direct minimisation approach to optimise the support functions to represent some low energy virtual states. This is explained in the 4.C tutorial of the bigdft-school/CCP-tutorials repository."
      ]
    },
    {
      "cell_type": "code",
      "execution_count": 47,
      "id": "2e196e88",
      "metadata": {
        "id": "2e196e88",
        "outputId": "1f2d886f-cdf3-47d4-f23f-37a861f2150d",
        "colab": {
          "base_uri": "https://localhost:8080/",
          "height": 349
        }
      },
      "outputs": [
        {
          "output_type": "execute_result",
          "data": {
            "text/plain": [
              "<matplotlib.legend.Legend at 0x7f6e85a30cd0>"
            ]
          },
          "metadata": {},
          "execution_count": 47
        },
        {
          "output_type": "display_data",
          "data": {
            "text/plain": [
              "<Figure size 460.8x345.6 with 1 Axes>"
            ],
            "image/png": "[encoded data removed]"
          },
          "metadata": {
            "needs_background": "light"
          }
        }
      ],
      "source": [
        "# here we modify the dict to ignore the initial LS calculation, and to rename the logs\n",
        "dos = DoS(logfiles_dict={'Linear': logs['PBE-linear-dos'], 'Cubic': logs['PBE']},\n",
        "          fermi_level=logs['PBE'].fermi_level)\n",
        "dos.plot().legend(loc='best')"
      ]
    },
    {
      "cell_type": "markdown",
      "id": "a2660d00",
      "metadata": {
        "id": "a2660d00"
      },
      "source": [
        "# Run of the full system\n",
        "\n",
        "Let's now look at the full system, which we will again run using both cubic and LS BigDFT. To save compute time, we will skip the diagonalisation step, i.e. we will not be able to calculate the DoS.\n",
        "\n",
        "We will use the same settings in terms of MPI and OpenMP as for the cubic notebook, but again changing the code to pass the input file directly to the function.\n",
        "\n",
        "We will also increase the grid spacing to 0.5 - this is to allow us to explore the performance of a larger system (with more orbitals) without making the walltime too high.\n",
        "\n",
        "Finally, since we want to measure the performance of the WFN_OPT section, we will furtherreduce the cost of the LS calculation by turning off matrix outputs, as well as the multipole calculation."
      ]
    },
    {
      "cell_type": "code",
      "execution_count": 53,
      "id": "95b907ba",
      "metadata": {
        "id": "95b907ba",
        "outputId": "b2c551c7-8837-4550-bbbd-94cb51563ff8",
        "colab": {
          "base_uri": "https://localhost:8080/"
        }
      },
      "outputs": [
        {
          "output_type": "stream",
          "name": "stderr",
          "text": [
            "WARNING:remotemanager.logging.Dataset:no transport specified for this dataset, creating basic rsync\n",
            "WARNING:remotemanager.logging.Dataset:no serialiser specified,creating basic json\n"
          ]
        }
      ],
      "source": [
        "local_dir = 'H2O-linear-many'\n",
        "remote_dir = f'/ceph/hpc/data/d2021-135-users/bigdft-school/{user}/H2O-many-LS' #use your own directory for new calculations\n",
        "force_reinitialization = not in_colab # in case you rerun this cell multiple times\n",
        "filename = 'H2O-32-free.xyz'\n",
        "all_large_runs = Dataset(function = calculate_single_point,\n",
        "                   url = url,\n",
        "                   name = 'H2O-many-LS',\n",
        "                   remote_dir = remote_dir,\n",
        "                   local_dir = local_dir,\n",
        "                   extra_files_send=filename,\n",
        "                   block_reinit = force_reinitialization)\n",
        "\n",
        "#we collect the run names for future reuse\n",
        "large_run_names = []\n",
        "# the we append the runs we would like to perform\n",
        "for linear in [True, False]:\n",
        "    #identify a name for the run\n",
        "    run_name = '-'.join([filename.split('.')[0],functional] + (['linear'] if linear else []))\n",
        "    \n",
        "    # create a reasonable set of input parameters for the molecule - these are the same as the cubic scaling case\n",
        "    inp = I.Inputfile()\n",
        "    inp.set_xc(functional)\n",
        "    inp.set_hgrid(0.5)\n",
        "    inp.set_psp_nlcc()\n",
        "\n",
        "    # activate the linear scaling mode if required\n",
        "    if linear:\n",
        "        inp[\"import\"] = \"linear\"  \n",
        "        inp.update({'lin_general': {'output_mat': 0, 'charge_multipoles': 0}})\n",
        "    \n",
        "    # we then pass the input dictionary to our function\n",
        "    func_kwargs = dict(run_name=run_name, filename=filename, inp=dict(inp))\n",
        "    \n",
        "\n",
        "    run_args = {}\n",
        "    run_args['jobname'] = run_name\n",
        "    run_args['mpi'] = 32\n",
        "    run_args['omp'] = 4\n",
        "    run_args['time'] = 15 # minutes\n",
        "    \n",
        "    all_large_runs.append_run(args=func_kwargs, \n",
        "                        extra_files_recv=[run_name+'.tar.gz'],\n",
        "                        **run_args)\n",
        "    large_run_names.append(run_name)\n"
      ]
    },
    {
      "cell_type": "code",
      "execution_count": 54,
      "id": "d816d4a1",
      "metadata": {
        "id": "d816d4a1",
        "outputId": "f59d895d-b0da-4d06-aeb6-b6fa4a48ad98",
        "colab": {
          "base_uri": "https://localhost:8080/"
        }
      },
      "outputs": [
        {
          "output_type": "stream",
          "name": "stdout",
          "text": [
            "run already completed, skipping\n",
            "run already completed, skipping\n"
          ]
        }
      ],
      "source": [
        "all_large_runs.run()"
      ]
    },
    {
      "cell_type": "markdown",
      "id": "ce625740",
      "metadata": {
        "id": "ce625740"
      },
      "source": [
        "These calculations will take slightly longer, so it may help to monitor the queue on Vega while they are running."
      ]
    },
    {
      "cell_type": "code",
      "execution_count": 55,
      "id": "a227e2fb",
      "metadata": {
        "id": "a227e2fb"
      },
      "outputs": [],
      "source": [
        "# while not all_large_runs.all_finished:\n",
        "#     time.sleep(1)\n",
        "if not in_colab:\n",
        "  all_large_runs.fetch_results(ignore_errors=True)"
      ]
    },
    {
      "cell_type": "markdown",
      "id": "ae3e5037",
      "metadata": {
        "id": "ae3e5037"
      },
      "source": [
        "Let's extract the results and plot a table of the times, as before. To avoid scrolling back and forth, we'll also reproduce the times for the single molecule.\n",
        "\n",
        "Notice that even though the LS calculation is still slower than the cubic scaling calculation, the difference is much smaller. In other words, we are still below the crossover, but getting closer."
      ]
    },
    {
      "cell_type": "code",
      "execution_count": 56,
      "id": "e0ebf9c3",
      "metadata": {
        "id": "e0ebf9c3"
      },
      "outputs": [],
      "source": [
        "extract_results('H2O-linear-many')"
      ]
    },
    {
      "cell_type": "code",
      "execution_count": 57,
      "id": "4c44385c",
      "metadata": {
        "id": "4c44385c"
      },
      "outputs": [],
      "source": [
        "large_logs = {name.lstrip('H2O-32-free-'): L(join('H2O-linear-many','Calculations','log-'+name+'.yaml'))\n",
        "              for name in reversed(large_run_names)}\n",
        "\n",
        "large_times = {name.lstrip('H2O-32-free-'): join('H2O-linear-many','Calculations','time-'+name+'.yaml')\n",
        "              for name in large_run_names}"
      ]
    },
    {
      "cell_type": "code",
      "execution_count": 58,
      "id": "2b0b2971",
      "metadata": {
        "id": "2b0b2971",
        "outputId": "fa4e6666-f7d2-4be0-d50c-d42b7fc36257",
        "colab": {
          "base_uri": "https://localhost:8080/",
          "height": 112
        }
      },
      "outputs": [
        {
          "output_type": "execute_result",
          "data": {
            "text/plain": [
              "            INIT  WFN_OPT   LAST  Total  WFN_OPT %\n",
              "PBE-linear  25.0     41.0  0.001   66.0       61.6\n",
              "PBE          4.4     33.0  2.800   40.0       82.0"
            ],
            "text/html": [
              "\n",
              "  <div id=\"df-68dbfade-9138-4564-af68-cd013032b61e\">\n",
              "    <div class=\"colab-df-container\">\n",
              "      <div>\n",
              "<style scoped>\n",
              "    .dataframe tbody tr th:only-of-type {\n",
              "        vertical-align: middle;\n",
              "    }\n",
              "\n",
              "    .dataframe tbody tr th {\n",
              "        vertical-align: top;\n",
              "    }\n",
              "\n",
              "    .dataframe thead th {\n",
              "        text-align: right;\n",
              "    }\n",
              "</style>\n",
              "<table border=\"1\" class=\"dataframe\">\n",
              "  <thead>\n",
              "    <tr style=\"text-align: right;\">\n",
              "      <th></th>\n",
              "      <th>INIT</th>\n",
              "      <th>WFN_OPT</th>\n",
              "      <th>LAST</th>\n",
              "      <th>Total</th>\n",
              "      <th>WFN_OPT %</th>\n",
              "    </tr>\n",
              "  </thead>\n",
              "  <tbody>\n",
              "    <tr>\n",
              "      <th>PBE-linear</th>\n",
              "      <td>25.0</td>\n",
              "      <td>41.0</td>\n",
              "      <td>0.001</td>\n",
              "      <td>66.0</td>\n",
              "      <td>61.6</td>\n",
              "    </tr>\n",
              "    <tr>\n",
              "      <th>PBE</th>\n",
              "      <td>4.4</td>\n",
              "      <td>33.0</td>\n",
              "      <td>2.800</td>\n",
              "      <td>40.0</td>\n",
              "      <td>82.0</td>\n",
              "    </tr>\n",
              "  </tbody>\n",
              "</table>\n",
              "</div>\n",
              "      <button class=\"colab-df-convert\" onclick=\"convertToInteractive('df-68dbfade-9138-4564-af68-cd013032b61e')\"\n",
              "              title=\"Convert this dataframe to an interactive table.\"\n",
              "              style=\"display:none;\">\n",
              "        \n",
              "  <svg xmlns=\"http://www.w3.org/2000/svg\" height=\"24px\"viewBox=\"0 0 24 24\"\n",
              "       width=\"24px\">\n",
              "    <path d=\"M0 0h24v24H0V0z\" fill=\"none\"/>\n",
              "    <path d=\"M18.56 5.44l.94 2.06.94-2.06 2.06-.94-2.06-.94-.94-2.06-.94 2.06-2.06.94zm-11 1L8.5 8.5l.94-2.06 2.06-.94-2.06-.94L8.5 2.5l-.94 2.06-2.06.94zm10 10l.94 2.06.94-2.06 2.06-.94-2.06-.94-.94-2.06-.94 2.06-2.06.94z\"/><path d=\"M17.41 7.96l-1.37-1.37c-.4-.4-.92-.59-1.43-.59-.52 0-1.04.2-1.43.59L10.3 9.45l-7.72 7.72c-.78.78-.78 2.05 0 2.83L4 21.41c.39.39.9.59 1.41.59.51 0 1.02-.2 1.41-.59l7.78-7.78 2.81-2.81c.8-.78.8-2.07 0-2.86zM5.41 20L4 18.59l7.72-7.72 1.47 1.35L5.41 20z\"/>\n",
              "  </svg>\n",
              "      </button>\n",
              "      \n",
              "  <style>\n",
              "    .colab-df-container {\n",
              "      display:flex;\n",
              "      flex-wrap:wrap;\n",
              "      gap: 12px;\n",
              "    }\n",
              "\n",
              "    .colab-df-convert {\n",
              "      background-color: #E8F0FE;\n",
              "      border: none;\n",
              "      border-radius: 50%;\n",
              "      cursor: pointer;\n",
              "      display: none;\n",
              "      fill: #1967D2;\n",
              "      height: 32px;\n",
              "      padding: 0 0 0 0;\n",
              "      width: 32px;\n",
              "    }\n",
              "\n",
              "    .colab-df-convert:hover {\n",
              "      background-color: #E2EBFA;\n",
              "      box-shadow: 0px 1px 2px rgba(60, 64, 67, 0.3), 0px 1px 3px 1px rgba(60, 64, 67, 0.15);\n",
              "      fill: #174EA6;\n",
              "    }\n",
              "\n",
              "    [theme=dark] .colab-df-convert {\n",
              "      background-color: #3B4455;\n",
              "      fill: #D2E3FC;\n",
              "    }\n",
              "\n",
              "    [theme=dark] .colab-df-convert:hover {\n",
              "      background-color: #434B5C;\n",
              "      box-shadow: 0px 1px 3px 1px rgba(0, 0, 0, 0.15);\n",
              "      filter: drop-shadow(0px 1px 2px rgba(0, 0, 0, 0.3));\n",
              "      fill: #FFFFFF;\n",
              "    }\n",
              "  </style>\n",
              "\n",
              "      <script>\n",
              "        const buttonEl =\n",
              "          document.querySelector('#df-68dbfade-9138-4564-af68-cd013032b61e button.colab-df-convert');\n",
              "        buttonEl.style.display =\n",
              "          google.colab.kernel.accessAllowed ? 'block' : 'none';\n",
              "\n",
              "        async function convertToInteractive(key) {\n",
              "          const element = document.querySelector('#df-68dbfade-9138-4564-af68-cd013032b61e');\n",
              "          const dataTable =\n",
              "            await google.colab.kernel.invokeFunction('convertToInteractive',\n",
              "                                                     [key], {});\n",
              "          if (!dataTable) return;\n",
              "\n",
              "          const docLinkHtml = 'Like what you see? Visit the ' +\n",
              "            '<a target=\"_blank\" href=https://colab.research.google.com/notebooks/data_table.ipynb>data table notebook</a>'\n",
              "            + ' to learn more about interactive tables.';\n",
              "          element.innerHTML = '';\n",
              "          dataTable['output_type'] = 'display_data';\n",
              "          await google.colab.output.renderOutput(dataTable, element);\n",
              "          const docLink = document.createElement('div');\n",
              "          docLink.innerHTML = docLinkHtml;\n",
              "          element.appendChild(docLink);\n",
              "        }\n",
              "      </script>\n",
              "    </div>\n",
              "  </div>\n",
              "  "
            ]
          },
          "metadata": {},
          "execution_count": 58
        }
      ],
      "source": [
        "table=DataFrame({name:get_total_time_info(time) for name, time in large_times.items()}).T\n",
        "table.round(3)"
      ]
    },
    {
      "cell_type": "code",
      "execution_count": 59,
      "id": "9a1b8ef2",
      "metadata": {
        "id": "9a1b8ef2",
        "outputId": "88810a14-ce5e-489b-dca2-96a638cbf00a",
        "colab": {
          "base_uri": "https://localhost:8080/",
          "height": 112
        }
      },
      "outputs": [
        {
          "output_type": "execute_result",
          "data": {
            "text/plain": [
              "            INIT  WFN_OPT   LAST  Total  WFN_OPT %\n",
              "PBE-linear   2.1      7.2  0.001    9.3       77.1\n",
              "PBE          1.0      1.7  0.240    3.0       57.2"
            ],
            "text/html": [
              "\n",
              "  <div id=\"df-5359697b-010b-4240-ae0f-255eaa352cf8\">\n",
              "    <div class=\"colab-df-container\">\n",
              "      <div>\n",
              "<style scoped>\n",
              "    .dataframe tbody tr th:only-of-type {\n",
              "        vertical-align: middle;\n",
              "    }\n",
              "\n",
              "    .dataframe tbody tr th {\n",
              "        vertical-align: top;\n",
              "    }\n",
              "\n",
              "    .dataframe thead th {\n",
              "        text-align: right;\n",
              "    }\n",
              "</style>\n",
              "<table border=\"1\" class=\"dataframe\">\n",
              "  <thead>\n",
              "    <tr style=\"text-align: right;\">\n",
              "      <th></th>\n",
              "      <th>INIT</th>\n",
              "      <th>WFN_OPT</th>\n",
              "      <th>LAST</th>\n",
              "      <th>Total</th>\n",
              "      <th>WFN_OPT %</th>\n",
              "    </tr>\n",
              "  </thead>\n",
              "  <tbody>\n",
              "    <tr>\n",
              "      <th>PBE-linear</th>\n",
              "      <td>2.1</td>\n",
              "      <td>7.2</td>\n",
              "      <td>0.001</td>\n",
              "      <td>9.3</td>\n",
              "      <td>77.1</td>\n",
              "    </tr>\n",
              "    <tr>\n",
              "      <th>PBE</th>\n",
              "      <td>1.0</td>\n",
              "      <td>1.7</td>\n",
              "      <td>0.240</td>\n",
              "      <td>3.0</td>\n",
              "      <td>57.2</td>\n",
              "    </tr>\n",
              "  </tbody>\n",
              "</table>\n",
              "</div>\n",
              "      <button class=\"colab-df-convert\" onclick=\"convertToInteractive('df-5359697b-010b-4240-ae0f-255eaa352cf8')\"\n",
              "              title=\"Convert this dataframe to an interactive table.\"\n",
              "              style=\"display:none;\">\n",
              "        \n",
              "  <svg xmlns=\"http://www.w3.org/2000/svg\" height=\"24px\"viewBox=\"0 0 24 24\"\n",
              "       width=\"24px\">\n",
              "    <path d=\"M0 0h24v24H0V0z\" fill=\"none\"/>\n",
              "    <path d=\"M18.56 5.44l.94 2.06.94-2.06 2.06-.94-2.06-.94-.94-2.06-.94 2.06-2.06.94zm-11 1L8.5 8.5l.94-2.06 2.06-.94-2.06-.94L8.5 2.5l-.94 2.06-2.06.94zm10 10l.94 2.06.94-2.06 2.06-.94-2.06-.94-.94-2.06-.94 2.06-2.06.94z\"/><path d=\"M17.41 7.96l-1.37-1.37c-.4-.4-.92-.59-1.43-.59-.52 0-1.04.2-1.43.59L10.3 9.45l-7.72 7.72c-.78.78-.78 2.05 0 2.83L4 21.41c.39.39.9.59 1.41.59.51 0 1.02-.2 1.41-.59l7.78-7.78 2.81-2.81c.8-.78.8-2.07 0-2.86zM5.41 20L4 18.59l7.72-7.72 1.47 1.35L5.41 20z\"/>\n",
              "  </svg>\n",
              "      </button>\n",
              "      \n",
              "  <style>\n",
              "    .colab-df-container {\n",
              "      display:flex;\n",
              "      flex-wrap:wrap;\n",
              "      gap: 12px;\n",
              "    }\n",
              "\n",
              "    .colab-df-convert {\n",
              "      background-color: #E8F0FE;\n",
              "      border: none;\n",
              "      border-radius: 50%;\n",
              "      cursor: pointer;\n",
              "      display: none;\n",
              "      fill: #1967D2;\n",
              "      height: 32px;\n",
              "      padding: 0 0 0 0;\n",
              "      width: 32px;\n",
              "    }\n",
              "\n",
              "    .colab-df-convert:hover {\n",
              "      background-color: #E2EBFA;\n",
              "      box-shadow: 0px 1px 2px rgba(60, 64, 67, 0.3), 0px 1px 3px 1px rgba(60, 64, 67, 0.15);\n",
              "      fill: #174EA6;\n",
              "    }\n",
              "\n",
              "    [theme=dark] .colab-df-convert {\n",
              "      background-color: #3B4455;\n",
              "      fill: #D2E3FC;\n",
              "    }\n",
              "\n",
              "    [theme=dark] .colab-df-convert:hover {\n",
              "      background-color: #434B5C;\n",
              "      box-shadow: 0px 1px 3px 1px rgba(0, 0, 0, 0.15);\n",
              "      filter: drop-shadow(0px 1px 2px rgba(0, 0, 0, 0.3));\n",
              "      fill: #FFFFFF;\n",
              "    }\n",
              "  </style>\n",
              "\n",
              "      <script>\n",
              "        const buttonEl =\n",
              "          document.querySelector('#df-5359697b-010b-4240-ae0f-255eaa352cf8 button.colab-df-convert');\n",
              "        buttonEl.style.display =\n",
              "          google.colab.kernel.accessAllowed ? 'block' : 'none';\n",
              "\n",
              "        async function convertToInteractive(key) {\n",
              "          const element = document.querySelector('#df-5359697b-010b-4240-ae0f-255eaa352cf8');\n",
              "          const dataTable =\n",
              "            await google.colab.kernel.invokeFunction('convertToInteractive',\n",
              "                                                     [key], {});\n",
              "          if (!dataTable) return;\n",
              "\n",
              "          const docLinkHtml = 'Like what you see? Visit the ' +\n",
              "            '<a target=\"_blank\" href=https://colab.research.google.com/notebooks/data_table.ipynb>data table notebook</a>'\n",
              "            + ' to learn more about interactive tables.';\n",
              "          element.innerHTML = '';\n",
              "          dataTable['output_type'] = 'display_data';\n",
              "          await google.colab.output.renderOutput(dataTable, element);\n",
              "          const docLink = document.createElement('div');\n",
              "          docLink.innerHTML = docLinkHtml;\n",
              "          element.appendChild(docLink);\n",
              "        }\n",
              "      </script>\n",
              "    </div>\n",
              "  </div>\n",
              "  "
            ]
          },
          "metadata": {},
          "execution_count": 59
        }
      ],
      "source": [
        "table=DataFrame({name:get_total_time_info(time) for name, time in times.items()}).T\n",
        "table.round(3)"
      ]
    },
    {
      "cell_type": "markdown",
      "id": "c37de8c2",
      "metadata": {
        "id": "c37de8c2"
      },
      "source": [
        "# Example plot of the Scaling\n",
        "\n",
        "Finally, let's look in more detail about the scalability of the LS code. There are a few key details concerning the parallelisation of LS-BigDFT:\n",
        "- GPUs: Not available with LS-BigDFT.\n",
        "- OpenMP: Up to 8 threads can typically be used without too large a loss of efficiency, but for low memory nodes it may be necessary to use more threads to avoid under-occupying a node.\n",
        "- MPI: MPI tasks are primarily parellelised over SFs (also in places over KS orbitals as in CS-BigDFT), so there is a strict maximum upper limit of MPI tasks which can be used. For best performance, it is better to have at leat 5-10 SFs per MPI.\n",
        "\n",
        "We can check the parallelisation setup of the current runs by inspecting various useful fields of the LS logfile:"
      ]
    },
    {
      "cell_type": "code",
      "execution_count": 60,
      "id": "cf6c82e2",
      "metadata": {
        "id": "cf6c82e2",
        "outputId": "8f2e4509-7f59-42ad-8fbe-e224898b79bb",
        "colab": {
          "base_uri": "https://localhost:8080/"
        }
      },
      "outputs": [
        {
          "output_type": "stream",
          "name": "stdout",
          "text": [
            "MPI tasks =  32\n",
            "OpenMP threads =  4\n",
            "Orbitals repartition {'MPI tasks  0- 31': 4}\n",
            "Support function repartition {'Minimum': 5, 'Maximum': 8, 'Average': 6.0}\n"
          ]
        }
      ],
      "source": [
        "log = large_logs['PBE-linear']\n",
        "\n",
        "print('MPI tasks = ',log.log['Number of MPI tasks'])\n",
        "print('OpenMP threads = ',log.log['Maximal OpenMP threads per MPI task'])\n",
        "\n",
        "print('Orbitals repartition', log.log['Orbitals Repartition'])\n",
        "print('Support function repartition',log.log['Support Function Repartition'])"
      ]
    },
    {
      "cell_type": "markdown",
      "id": "c5431150",
      "metadata": {
        "id": "c5431150"
      },
      "source": [
        "Above we can see the information about how many MPI tasks we used as well as how many threads per task - this agrees with what we requested. We can also see how both the orbitals and support functions are divided amongst MPI tasks - as an absolute minimum, each task should have at least one support function, but this will not be very efficient. Let's do a few final calculations with different number of MPI tasks in total, keeping the number of threads constant. For the sake of this tutorial, we will use a single node, but this can of course easily be generalised."
      ]
    },
    {
      "cell_type": "code",
      "execution_count": 61,
      "id": "80ba0f19",
      "metadata": {
        "id": "80ba0f19",
        "outputId": "519f5b1b-f180-4c68-f7a6-27de46b04c45",
        "colab": {
          "base_uri": "https://localhost:8080/"
        }
      },
      "outputs": [
        {
          "output_type": "stream",
          "name": "stderr",
          "text": [
            "WARNING:remotemanager.logging.Dataset:no transport specified for this dataset, creating basic rsync\n",
            "WARNING:remotemanager.logging.Dataset:no serialiser specified,creating basic json\n"
          ]
        }
      ],
      "source": [
        "local_dir = 'H2O-linear-scaling'\n",
        "remote_dir = f'/ceph/hpc/data/d2021-135-users/bigdft-school/{user}/H2O-scaling-LS' #use your own directory for new calculations\n",
        "\n",
        "force_reinitialization = not in_colab # in case you rerun this cell multiple times\n",
        "filename = 'H2O-32-free.xyz'\n",
        "all_scaling_runs = Dataset(function = calculate_single_point,\n",
        "                   url = url,\n",
        "                   name = 'H2O-scaling-LS',\n",
        "                   remote_dir = remote_dir,\n",
        "                   local_dir = local_dir,\n",
        "                   extra_files_send=filename,\n",
        "                   block_reinit = force_reinitialization)\n",
        "#we collect the run names for future reuse\n",
        "scaling_run_names = []\n",
        "# the we append the runs we would like to perform\n",
        "for nmpi in [8, 16, 24, 32]:\n",
        "    #identify a name for the run\n",
        "    run_name = '-'.join([filename.split('.')[0],functional] + [str(nmpi)])\n",
        "    \n",
        "    # create a reasonable set of input parameters for the molecule - these are the same as the cubic scaling case\n",
        "    inp = I.Inputfile()\n",
        "    inp.set_xc(functional)\n",
        "    inp.set_hgrid(0.5)\n",
        "    inp.set_psp_nlcc()\n",
        "    inp[\"import\"] = \"linear\"  \n",
        "    inp.update({'lin_general': {'output_mat': 0, 'charge_multipoles': 0}})\n",
        "    \n",
        "    # we then pass the input dictionary to our function\n",
        "    func_kwargs = dict(run_name=run_name, filename=filename, inp=dict(inp))\n",
        "\n",
        "    run_args = {}\n",
        "    run_args['jobname'] = run_name\n",
        "    run_args['mpi'] = nmpi\n",
        "    run_args['omp'] = 4\n",
        "    run_args['time'] = 15 # minutes\n",
        "    \n",
        "    all_scaling_runs.append_run(args=func_kwargs, \n",
        "                        extra_files_recv=[run_name+'.tar.gz'],\n",
        "                        **run_args)\n",
        "    scaling_run_names.append(run_name)    \n"
      ]
    },
    {
      "cell_type": "code",
      "execution_count": 62,
      "id": "7ca05c6b",
      "metadata": {
        "id": "7ca05c6b",
        "outputId": "cca476ea-4046-4735-dbfc-b4d2352e4cbf",
        "colab": {
          "base_uri": "https://localhost:8080/"
        }
      },
      "outputs": [
        {
          "output_type": "stream",
          "name": "stdout",
          "text": [
            "run already completed, skipping\n",
            "run already completed, skipping\n",
            "run already completed, skipping\n",
            "run already completed, skipping\n"
          ]
        }
      ],
      "source": [
        "all_scaling_runs.run()"
      ]
    },
    {
      "cell_type": "markdown",
      "id": "679dc147",
      "metadata": {
        "id": "679dc147"
      },
      "source": [
        "Let's extract the results and make a simple plot of the scaling."
      ]
    },
    {
      "cell_type": "code",
      "execution_count": 63,
      "id": "3937b7d7",
      "metadata": {
        "id": "3937b7d7"
      },
      "outputs": [],
      "source": [
        "# while not all_scaling_runs.all_finished:\n",
        "#     time.sleep(1)\n",
        "if not in_colab:\n",
        "  all_scaling_runs.fetch_results(ignore_errors=True)\n",
        "all_scaling_energies=all_scaling_runs.results"
      ]
    },
    {
      "cell_type": "code",
      "execution_count": 64,
      "id": "2d5c7aee",
      "metadata": {
        "id": "2d5c7aee"
      },
      "outputs": [],
      "source": [
        "extract_results('H2O-linear-scaling')\n",
        "\n",
        "     \n",
        "scaling_logs = {name: L(join('H2O-linear-scaling','Calculations','log-'+name+'.yaml'))\n",
        "              for name in reversed(scaling_run_names)}\n",
        "        \n",
        "scaling_times = {name: join('H2O-linear-scaling','Calculations','time-'+name+'.yaml')\n",
        "              for name in scaling_run_names}"
      ]
    },
    {
      "cell_type": "code",
      "execution_count": 65,
      "id": "8dbf24e6",
      "metadata": {
        "id": "8dbf24e6",
        "outputId": "3a15f056-557b-4f4f-8dc7-db94662b3ed0",
        "colab": {
          "base_uri": "https://localhost:8080/",
          "height": 396
        }
      },
      "outputs": [
        {
          "output_type": "display_data",
          "data": {
            "text/plain": [
              "<Figure size 1152x432 with 2 Axes>"
            ],
            "image/png": "[encoded data removed]"
          },
          "metadata": {
            "needs_background": "light"
          }
        }
      ],
      "source": [
        "from matplotlib import pyplot as plt\n",
        "\n",
        "plt.rcParams.update({'font.size': 14})\n",
        "fig, axs = plt.subplots(1, 2, figsize=(16, 6))\n",
        "\n",
        "\n",
        "wfn_opt_times = [{name:get_total_time_info(time) for name, time in scaling_times.items()}[name]['WFN_OPT']\n",
        "                 for name in scaling_run_names]\n",
        "nmpi = [scaling_logs[name].log['Number of MPI tasks'] for name in scaling_run_names]\n",
        "\n",
        "ax = axs[0]\n",
        "ax.plot(nmpi, wfn_opt_times, color='k', marker='o')\n",
        "ax.set_ylabel('WFN_OPT Time (s)')\n",
        "ax.set_xlabel('Number of MPI tasks')\n",
        "\n",
        "ax = axs[1]\n",
        "ax.plot(nmpi, [wfn_opt_times[0]/t for t in wfn_opt_times], color='k', marker='o')\n",
        "# also plot the ideal speedup\n",
        "ax.plot(nmpi, [n/nmpi[0] for n in nmpi], color='gray', ls='--')\n",
        "ax.set_ylabel('Speedup')\n",
        "ax.set_xlabel('Number of MPI tasks')\n",
        "\n",
        "plt.show()"
      ]
    },
    {
      "cell_type": "code",
      "execution_count": 66,
      "id": "1888d3d8-99b5-4b0d-88bf-b3a728f2402a",
      "metadata": {
        "id": "1888d3d8-99b5-4b0d-88bf-b3a728f2402a",
        "outputId": "9b8f020e-7379-403e-f359-847f119cb5dc",
        "colab": {
          "base_uri": "https://localhost:8080/",
          "height": 449
        }
      },
      "outputs": [
        {
          "output_type": "display_data",
          "data": {
            "text/plain": [
              "<Figure size 432x288 with 3 Axes>"
            ],
            "image/png": "[encoded data removed]"
          },
          "metadata": {}
        }
      ],
      "source": [
        "plot_timings(scaling_times)"
      ]
    },
    {
      "cell_type": "code",
      "execution_count": 67,
      "id": "0d07c88b",
      "metadata": {
        "id": "0d07c88b",
        "outputId": "820b40d8-519d-46aa-ee5e-286454d56150",
        "colab": {
          "base_uri": "https://localhost:8080/",
          "height": 425
        }
      },
      "outputs": [
        {
          "output_type": "display_data",
          "data": {
            "text/plain": [
              "<Figure size 432x288 with 3 Axes>"
            ],
            "image/png": "[encoded data removed]"
          },
          "metadata": {}
        }
      ],
      "source": [
        "plot_timings(scaling_times,plottype='Percent',nokey=True)"
      ]
    },
    {
      "cell_type": "code",
      "execution_count": null,
      "id": "02bd096a-f550-48c9-8e74-8732b52297d4",
      "metadata": {
        "id": "02bd096a-f550-48c9-8e74-8732b52297d4"
      },
      "outputs": [],
      "source": []
    }
  ],
  "metadata": {
    "kernelspec": {
      "display_name": "Python 3 (ipykernel)",
      "language": "python",
      "name": "python3"
    },
    "language_info": {
      "codemirror_mode": {
        "name": "ipython",
        "version": 3
      },
      "file_extension": ".py",
      "mimetype": "text/x-python",
      "name": "python",
      "nbconvert_exporter": "python",
      "pygments_lexer": "ipython3",
      "version": "3.9.7"
    },
    "colab": {
      "provenance": []
    }
  },
  "nbformat": 4,
  "nbformat_minor": 5
}