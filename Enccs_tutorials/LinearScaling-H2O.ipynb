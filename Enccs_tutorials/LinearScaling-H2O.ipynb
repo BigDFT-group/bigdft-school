{
 "cells": [
  {
   "cell_type": "markdown",
   "id": "ed94f118",
   "metadata": {},
   "source": [
    "# Calculations with linear-scaling BigDFT code\n",
    "In this tutorial we will build upon the cubic scaling tutorial to show how to run the linear scaling (LS) version of BigDFT. We are going to use the same .xyz files for water that we used for cubic scaling BigDFT.\n",
    "\n",
    "LS-BigDFT can only use semi-local functionals (no hybrid functionals), so for the purposes of this tutorial we will stick with using PBE. LS-BigDFT is also not ported to GPUs, so we will focus on CPU peformance only."
   ]
  },
  {
   "cell_type": "markdown",
   "id": "a618bf55",
   "metadata": {},
   "source": [
    "## Remote calculation of a dataset of different runs of the water molecule\n",
    "We can use the function from the cubic scaling notebook as inspiration, but since we will be modifying more input parameters than in the cubic scaling case, we define the function to recieve the input dictionary as an argument, to allow greater flexibility."
   ]
  },
  {
   "cell_type": "code",
   "execution_count": 1,
   "id": "5c3fbf9e",
   "metadata": {},
   "outputs": [],
   "source": [
    "def calculate_single_point(run_name, filename, inp, run_directory='Calculations'):\n",
    "    from BigDFT import Calculators as C\n",
    "    from futile.Utils import create_tarball\n",
    "    from os.path import join\n",
    "    from os.path import isfile\n",
    "\n",
    "    # create the calculator\n",
    "    code = C.SystemCalculator(skip=True)\n",
    "    # launch the calculation and retrieve the logfile instance\n",
    "    log = code.run(input=inp, name=run_name, posinp=filename, run_dir=run_directory)\n",
    "    # we create a tarfile that contains the logfile as well as the information about the timing\n",
    "    #create_tarball(run_name+'.tar.gz',files=[join(run_directory,'log-'+run_name+'.yaml'),\n",
    "    #                                         join(run_directory,'time-'+run_name+'.yaml')])\n",
    "    \n",
    "    files = [join(run_directory,'log-'+run_name+'.yaml')]\n",
    "    for timefile in [join(run_directory,'data-'+run_name,'time-'+run_name+'.yaml'),\n",
    "                     join(run_directory,'time-'+run_name+'.yaml')]:\n",
    "        if isfile(timefile):\n",
    "            files += [timefile]\n",
    "            break\n",
    "    create_tarball(run_name+'.tar.gz', files=files)\n",
    "    \n",
    "    # return the energy\n",
    "    return log.energy"
   ]
  },
  {
   "cell_type": "markdown",
   "id": "258dd41d",
   "metadata": {},
   "source": [
    "As with cubic scaling BigDFT, we now create a dataset of remote functions to execute the pool of jobs into Vega, from this notebook. In order to save rerunning the cubic scaling calculations, we also keep the same directories as before."
   ]
  },
  {
   "cell_type": "code",
   "execution_count": 2,
   "id": "df992515",
   "metadata": {},
   "outputs": [],
   "source": [
    "from BigDFT.Database.computers.vega import url as vega, submission_script_intel as cpu_script"
   ]
  },
  {
   "cell_type": "markdown",
   "id": "b643372b",
   "metadata": {},
   "source": [
    "Now let's set up a loop over two calculations - linear is true and false (i.e. cubic scaling).\n",
    "\n",
    "You will notice that running LS-BigDFT only requires a single change to the input file - this is because we are loading a _profile_, which itself sets a number of parameters relating to LS-BigDFT. Depending on the system and properties you are interested in calculating, you may need to make further changes, as we will see below, but for many scenarios this set of parameters is already robust enough and sufficient to run a single point calculation."
   ]
  },
  {
   "cell_type": "code",
   "execution_count": 3,
   "id": "4d545eeb",
   "metadata": {},
   "outputs": [],
   "source": [
    "from os.path import join, relpath\n",
    "from BigDFT import Inputfiles as I\n",
    "from BigDFT.RemoteRunners import computer_runner, RemoteDataset\n",
    "local_dir = 'H2O-linear-single'\n",
    "remote_dir = '/ceph/hpc/data/d2021-135-users/bigdft-school/eulaurar/H2O-linear-single' #use your own directory for new calculations\n",
    "\n",
    "all_runs = RemoteDataset(run_dir='.',remote_dir=remote_dir, local_dir=local_dir,\n",
    "                        database_file=join(local_dir,\"database.yaml\"),url=vega)\n",
    "filename = 'H2O-1.xyz'\n",
    "#we collect the run names for future reuse\n",
    "run_names = []\n",
    "# the we append the runs we would like to perform\n",
    "functional = 'PBE'\n",
    "\n",
    "for linear in [True, False]:\n",
    "    #identify a name for the run\n",
    "    run_name = '-'.join([filename.split('.')[0],functional] + (['linear'] if linear else []))\n",
    "    \n",
    "    # create a reasonable set of input parameters for the molecule - these are the same as the cubic scaling case\n",
    "    inp = I.Inputfile()\n",
    "    inp.set_xc(functional)\n",
    "    inp.set_hgrid(0.4)\n",
    "    inp.set_psp_nlcc()\n",
    "\n",
    "    # activate the linear scaling mode if required\n",
    "    if linear:\n",
    "        inp[\"import\"] = \"linear\"        \n",
    "    \n",
    "    # we then pass the input dictionary to our function\n",
    "    func_kwargs = dict(run_name=run_name, filename=filename, inp=dict(inp))\n",
    "    \n",
    "    # we decide to execute such calculations with cpu, 4 MPI and 4 OMP threads\n",
    "    cpu_script.jobname = run_name\n",
    "    cpu_script.mpi = 4\n",
    "    cpu_script.omp = 4\n",
    "    cpu_script.time = 2 #minutes\n",
    "    # create the remote function to be executed\n",
    "    single_point=computer_runner(calculate_single_point,\n",
    "                                 submission_script=cpu_script,\n",
    "                                 url=all_runs.url,\n",
    "                                 arguments=func_kwargs,\n",
    "                                 required_files=[relpath(filename,start=local_dir)],\n",
    "                                 output_files=[run_name+'.tar.gz'],\n",
    "                                 name=run_name,\n",
    "                                 remote_dir=remote_dir,local_dir=None)\n",
    "    all_runs.append_run(id={'linear':linear}, remote_runner=single_point)\n",
    "    run_names.append(run_name)"
   ]
  },
  {
   "cell_type": "code",
   "execution_count": 4,
   "id": "206172cf",
   "metadata": {},
   "outputs": [],
   "source": [
    "#all_runs.database.clean()"
   ]
  },
  {
   "cell_type": "code",
   "execution_count": 5,
   "id": "3b4f9d09",
   "metadata": {},
   "outputs": [
    {
     "name": "stderr",
     "output_type": "stream",
     "text": [
      "/home/ff21106/bigdft_gl_laura/Build/install/lib/python3.8/site-packages/BigDFT/RemoteRunners.py:608: UserWarning: (linear__True, .) already submitted\n",
      "  warn(warnmsg, UserWarning)\n",
      "/home/ff21106/bigdft_gl_laura/Build/install/lib/python3.8/site-packages/BigDFT/RemoteRunners.py:608: UserWarning: (linear__False, .) already submitted\n",
      "  warn(warnmsg, UserWarning)\n"
     ]
    },
    {
     "data": {
      "text/plain": [
       "{}"
      ]
     },
     "execution_count": 5,
     "metadata": {},
     "output_type": "execute_result"
    }
   ],
   "source": [
    "all_runs.run()  # if you want to redo the calculation you can put force=True)"
   ]
  },
  {
   "cell_type": "markdown",
   "id": "1a7421cd",
   "metadata": {},
   "source": [
    "Both runs should be very quick, once they're done we can copy back the results."
   ]
  },
  {
   "cell_type": "code",
   "execution_count": 6,
   "id": "f6b92775",
   "metadata": {
    "tags": []
   },
   "outputs": [
    {
     "name": "stdout",
     "output_type": "stream",
     "text": [
      "cmd returned: Calculations\n",
      "database.yaml\n",
      "H2O-1-PBE-function-files.tar.gz\n",
      "H2O-1-PBE-function-result.json\n",
      "H2O-1-PBE-function-run.py\n",
      "H2O-1-PBE-linear-dos-function-files.tar.gz\n",
      "H2O-1-PBE-linear-dos-function-result.json\n",
      "H2O-1-PBE-linear-dos-function-run.py\n",
      "H2O-1-PBE-linear-dos.tar.gz\n",
      "H2O-1-PBE-linear-function-files.tar.gz\n",
      "H2O-1-PBE-linear-function-result.json\n",
      "H2O-1-PBE-linear-function-run.py\n",
      "H2O-1-PBE-linear.tar.gz\n",
      "H2O-1-PBE.tar.gz\n",
      "linear__DOS-run.sh\n",
      "linear__False-run.sh\n",
      "linear__True-run.sh\n",
      "\n",
      "cmd returned: BigDFT_log.yaml\n",
      "Calculations\n",
      "H2O-1-PBE.e\n",
      "H2O-1-PBE-function-files.tar.gz\n",
      "H2O-1-PBE-function-result.json\n",
      "H2O-1-PBE-function-run.py\n",
      "H2O-1-PBE-linear-dos.e\n",
      "H2O-1-PBE-linear-dos-function-files.tar.gz\n",
      "H2O-1-PBE-linear-dos-function-result.json\n",
      "H2O-1-PBE-linear-dos-function-run.py\n",
      "H2O-1-PBE-linear-dos.o\n",
      "H2O-1-PBE-linear-dos.tar.gz\n",
      "H2O-1-PBE-linear.e\n",
      "H2O-1-PBE-linear-function-files.tar.gz\n",
      "H2O-1-PBE-linear-function-result.json\n",
      "H2O-1-PBE-linear-function-run.py\n",
      "H2O-1-PBE-linear.o\n",
      "H2O-1-PBE-linear.tar.gz\n",
      "H2O-1-PBE.o\n",
      "H2O-1-PBE.tar.gz\n",
      "H2O-1.xyz\n",
      "linear__DOS-run.sh\n",
      "linear__False-run.sh\n",
      "linear__True-run.sh\n",
      "\n",
      "Checking for finished run... locally... Yes (Found a results file)\n",
      "Checking for finished run... locally... Yes (Found a results file)\n"
     ]
    }
   ],
   "source": [
    "all_runs.url.verbose=False\n",
    "energies = all_runs.fetch_results()"
   ]
  },
  {
   "cell_type": "markdown",
   "id": "2c5fa557",
   "metadata": {},
   "source": [
    "We can print out the energy values for reference, as well as the difference in energy - we can see that the LS value is a few mHa higher than the value for the cubic scaling case.\n",
    "\n",
    "Of course, the total energy itself is often not of interest, and we typically expect the energy error to be smaller when looking at energy differences, due to error cancellation.\n",
    "\n",
    "In the case where greater accuracy is required, it is also possible to modify the localisation radii which define the regions in which the support functions leave - the larger the radii, the closer to the cubic scaling value, although this typically implies an increase in cost. For the interested party, this is demonstrated in the 2.B notebook of bigdft-school/CCP-tutorials."
   ]
  },
  {
   "cell_type": "code",
   "execution_count": 7,
   "id": "94e29ffb",
   "metadata": {},
   "outputs": [
    {
     "name": "stdout",
     "output_type": "stream",
     "text": [
      "[-17.60134666476504, -17.606119453691086]\n",
      "0.004772788926047156\n"
     ]
    }
   ],
   "source": [
    "print(energies)\n",
    "print(energies[0] - energies[1])"
   ]
  },
  {
   "cell_type": "markdown",
   "id": "5d714350",
   "metadata": {},
   "source": [
    "# Analysis of the runs\n",
    "After those runs have been executed we can compare different quantities among the various runs, for illustrative purposes.\n",
    "We will highlight:\n",
    "\n",
    "1. The Density of States\n",
    "2. The Molecule dipole\n",
    "3. The profiling of the different timing categories\n",
    "\n",
    "We start by unpacking the received data"
   ]
  },
  {
   "cell_type": "code",
   "execution_count": 8,
   "id": "e7d74bcd",
   "metadata": {},
   "outputs": [],
   "source": [
    "def extract_results(directory):\n",
    "    from futile.Utils import file_list\n",
    "    import tarfile\n",
    "    from os.path import join\n",
    "    for archive in file_list(directory,suffix='.tar.gz',exclude='files',include_directory_path=True):\n",
    "        arch = tarfile.open(archive)\n",
    "        arch.extractall(path=directory)\n",
    "        arch.close()"
   ]
  },
  {
   "cell_type": "code",
   "execution_count": 9,
   "id": "aff6d986",
   "metadata": {},
   "outputs": [],
   "source": [
    "# the data are unpacked in a \"Calculations\" subdirectory (see above arguments)\n",
    "extract_results('H2O-linear-single')"
   ]
  },
  {
   "cell_type": "code",
   "execution_count": 10,
   "id": "a86943eb",
   "metadata": {},
   "outputs": [],
   "source": [
    "#patch the yaml files from a mistake in the case of low profiling depth\n",
    "!sed -i s/^\\ *\\:\\ null/\\ \\ \\ \\ null/g H2O-linear-single/Calculations/time*\n",
    "!sed -i s/^\\ *\\:\\ null/\\ \\ \\ \\ null/g H2O-linear-single/Calculations/data*/time*"
   ]
  },
  {
   "cell_type": "markdown",
   "id": "ffe6eed7",
   "metadata": {},
   "source": [
    "We read the different logfiles\n"
   ]
  },
  {
   "cell_type": "code",
   "execution_count": 11,
   "id": "ea5801a5",
   "metadata": {},
   "outputs": [],
   "source": [
    "from BigDFT.Logfiles import Logfile as L\n",
    "logs = {name.lstrip('H2O-1-'): L(join('H2O-linear-single','Calculations','log-'+name+'.yaml'))\n",
    "        for name in run_names}"
   ]
  },
  {
   "cell_type": "markdown",
   "id": "06ab735f",
   "metadata": {},
   "source": [
    "Where we see the localization effect of the Hybrid functional with respect to the energies of the semilocal ones."
   ]
  },
  {
   "cell_type": "markdown",
   "id": "dea5f22e",
   "metadata": {},
   "source": [
    "## Total Dipole\n",
    "We can also again print the dipoles - we see here again the similarity between LS and cubic scaling results."
   ]
  },
  {
   "cell_type": "code",
   "execution_count": 12,
   "id": "520054da",
   "metadata": {},
   "outputs": [],
   "source": [
    "def dipole_info(log):\n",
    "    data = {coord+ ' (AU)': log.dipole[i] for i, coord in enumerate(['x', 'y', 'z'])}\n",
    "    data['Norm (Debye)'] = log.log['Electric Dipole Moment (Debye)']['norm(P)']\n",
    "    return data"
   ]
  },
  {
   "cell_type": "code",
   "execution_count": 13,
   "id": "053d39c0",
   "metadata": {},
   "outputs": [
    {
     "data": {
      "text/html": [
       "<div>\n",
       "<style scoped>\n",
       "    .dataframe tbody tr th:only-of-type {\n",
       "        vertical-align: middle;\n",
       "    }\n",
       "\n",
       "    .dataframe tbody tr th {\n",
       "        vertical-align: top;\n",
       "    }\n",
       "\n",
       "    .dataframe thead th {\n",
       "        text-align: right;\n",
       "    }\n",
       "</style>\n",
       "<table border=\"1\" class=\"dataframe\">\n",
       "  <thead>\n",
       "    <tr style=\"text-align: right;\">\n",
       "      <th></th>\n",
       "      <th>x (AU)</th>\n",
       "      <th>y (AU)</th>\n",
       "      <th>z (AU)</th>\n",
       "      <th>Norm (Debye)</th>\n",
       "    </tr>\n",
       "  </thead>\n",
       "  <tbody>\n",
       "    <tr>\n",
       "      <th>PBE-linear</th>\n",
       "      <td>0.60</td>\n",
       "      <td>0.34</td>\n",
       "      <td>-0.19</td>\n",
       "      <td>1.83</td>\n",
       "    </tr>\n",
       "    <tr>\n",
       "      <th>PBE</th>\n",
       "      <td>0.59</td>\n",
       "      <td>0.34</td>\n",
       "      <td>-0.19</td>\n",
       "      <td>1.78</td>\n",
       "    </tr>\n",
       "  </tbody>\n",
       "</table>\n",
       "</div>"
      ],
      "text/plain": [
       "            x (AU)  y (AU)  z (AU)  Norm (Debye)\n",
       "PBE-linear    0.60    0.34   -0.19          1.83\n",
       "PBE           0.59    0.34   -0.19          1.78"
      ]
     },
     "execution_count": 13,
     "metadata": {},
     "output_type": "execute_result"
    }
   ],
   "source": [
    "from pandas import DataFrame\n",
    "data = {name: dipole_info(log)for name, log in logs.items()}\n",
    "table = DataFrame(data).T\n",
    "table.round(2)"
   ]
  },
  {
   "cell_type": "markdown",
   "id": "83d17146",
   "metadata": {},
   "source": [
    "Here we see the polarizability effect induced by the environment."
   ]
  },
  {
   "cell_type": "markdown",
   "id": "af161df8",
   "metadata": {},
   "source": [
    "## Time to solution\n",
    "We can also inspect the different timings for this runs, to understand how the computational resources have been used in the different approximations"
   ]
  },
  {
   "cell_type": "code",
   "execution_count": 14,
   "id": "e5189ce8",
   "metadata": {},
   "outputs": [],
   "source": [
    "times = {name.lstrip('H2O-1-'): join('H2O-linear-single','Calculations','data-'+name if 'linear' in name else '','time-'+name+'.yaml')\n",
    "        for name in run_names}"
   ]
  },
  {
   "cell_type": "code",
   "execution_count": 15,
   "id": "22cfe9eb",
   "metadata": {},
   "outputs": [],
   "source": [
    "def get_total_time_info(time):\n",
    "    import yaml\n",
    "    with open(time) as ifile:\n",
    "        dt = yaml.load(ifile,Loader=yaml.Loader)\n",
    "    data = {k: v[1] for k, v in dt['SUMMARY'].items()}\n",
    "    data.update({'WFN_OPT %': dt['SUMMARY']['WFN_OPT'][0]})\n",
    "    return data"
   ]
  },
  {
   "cell_type": "markdown",
   "id": "7ed5e315",
   "metadata": {},
   "source": [
    "Using the same function as for the cubic scaling notebook, we can extract a timing breakdown of the two runs.  Notice that the breakdown is different between the two codes, while LS-BigDFT also takes longer than cubic scaling BigDFT. This is not surprising for such a small system, as we are well below the crossover point."
   ]
  },
  {
   "cell_type": "code",
   "execution_count": 16,
   "id": "1176399b",
   "metadata": {},
   "outputs": [
    {
     "data": {
      "text/html": [
       "<div>\n",
       "<style scoped>\n",
       "    .dataframe tbody tr th:only-of-type {\n",
       "        vertical-align: middle;\n",
       "    }\n",
       "\n",
       "    .dataframe tbody tr th {\n",
       "        vertical-align: top;\n",
       "    }\n",
       "\n",
       "    .dataframe thead th {\n",
       "        text-align: right;\n",
       "    }\n",
       "</style>\n",
       "<table border=\"1\" class=\"dataframe\">\n",
       "  <thead>\n",
       "    <tr style=\"text-align: right;\">\n",
       "      <th></th>\n",
       "      <th>INIT</th>\n",
       "      <th>WFN_OPT</th>\n",
       "      <th>LAST</th>\n",
       "      <th>Total</th>\n",
       "      <th>WFN_OPT %</th>\n",
       "    </tr>\n",
       "  </thead>\n",
       "  <tbody>\n",
       "    <tr>\n",
       "      <th>PBE-linear</th>\n",
       "      <td>2.80</td>\n",
       "      <td>12.0</td>\n",
       "      <td>0.002</td>\n",
       "      <td>14.0</td>\n",
       "      <td>80.6</td>\n",
       "    </tr>\n",
       "    <tr>\n",
       "      <th>PBE</th>\n",
       "      <td>0.85</td>\n",
       "      <td>2.0</td>\n",
       "      <td>0.290</td>\n",
       "      <td>3.1</td>\n",
       "      <td>63.2</td>\n",
       "    </tr>\n",
       "  </tbody>\n",
       "</table>\n",
       "</div>"
      ],
      "text/plain": [
       "            INIT  WFN_OPT   LAST  Total  WFN_OPT %\n",
       "PBE-linear  2.80     12.0  0.002   14.0       80.6\n",
       "PBE         0.85      2.0  0.290    3.1       63.2"
      ]
     },
     "execution_count": 16,
     "metadata": {},
     "output_type": "execute_result"
    }
   ],
   "source": [
    "table=DataFrame({name:get_total_time_info(time) for name, time in times.items()}).T\n",
    "table.round(3)"
   ]
  },
  {
   "cell_type": "markdown",
   "id": "79d6a4c8",
   "metadata": {},
   "source": [
    "# TODO: fix/say something about this"
   ]
  },
  {
   "cell_type": "code",
   "execution_count": 17,
   "id": "4c290b97",
   "metadata": {},
   "outputs": [
    {
     "name": "stdout",
     "output_type": "stream",
     "text": [
      "EXCEPTION FOUND 'Linear Algebra'\n",
      "category Linear Algebra not present everywhere\n",
      "EXCEPTION FOUND 'chebyshev matrix expansion'\n",
      "category chebyshev matrix expansion not present everywhere\n",
      "EXCEPTION FOUND 'sparse matrix communications'\n",
      "category sparse matrix communications not present everywhere\n",
      "EXCEPTION FOUND 'sparse matrix manipulation'\n",
      "category sparse matrix manipulation not present everywhere\n"
     ]
    },
    {
     "data": {
      "image/png": "[encoded data removed]",
      "text/plain": [
       "<Figure size 432x288 with 3 Axes>"
      ]
     },
     "metadata": {},
     "output_type": "display_data"
    }
   ],
   "source": [
    "from futile.Time import TimeData\n",
    "from matplotlib import pyplot as plt\n",
    "tt=TimeData(*times.values(),static=True,plottype='Seconds')\n",
    "#tweak the name of the labels\n",
    "fig=plt.gcf()\n",
    "ax=fig.get_axes()\n",
    "_=ax[0].set_xticklabels(run_names,rotation=90)#,size=self.fontsize)"
   ]
  },
  {
   "cell_type": "markdown",
   "id": "f48eccd5",
   "metadata": {},
   "source": [
    "## UP to here the most important thing they need to see is that LS is more expensive than CS for such a small system"
   ]
  },
  {
   "cell_type": "markdown",
   "id": "c24fee50",
   "metadata": {},
   "source": [
    "## Density of States\n",
    "\n",
    "So far the only quantity we haven't looked at yet from the cubic scaling notebook is the DoS. This is deliberate - if you run the cell below, you will see that we get an error message."
   ]
  },
  {
   "cell_type": "code",
   "execution_count": 18,
   "id": "2e9f47aa",
   "metadata": {},
   "outputs": [
    {
     "ename": "AttributeError",
     "evalue": "'Logfile' object has no attribute 'evals'",
     "output_type": "error",
     "traceback": [
      "\u001b[0;31m---------------------------------------------------------------------------\u001b[0m",
      "\u001b[0;31mAttributeError\u001b[0m                            Traceback (most recent call last)",
      "\u001b[0;32m<ipython-input-18-031d1458ba24>\u001b[0m in \u001b[0;36m<module>\u001b[0;34m\u001b[0m\n\u001b[1;32m      1\u001b[0m \u001b[0;32mfrom\u001b[0m \u001b[0mBigDFT\u001b[0m\u001b[0;34m.\u001b[0m\u001b[0mDoS\u001b[0m \u001b[0;32mimport\u001b[0m \u001b[0mDoS\u001b[0m\u001b[0;34m\u001b[0m\u001b[0;34m\u001b[0m\u001b[0m\n\u001b[0;32m----> 2\u001b[0;31m \u001b[0mdos\u001b[0m \u001b[0;34m=\u001b[0m \u001b[0mDoS\u001b[0m\u001b[0;34m(\u001b[0m\u001b[0mlogfiles_dict\u001b[0m\u001b[0;34m=\u001b[0m\u001b[0mlogs\u001b[0m\u001b[0;34m)\u001b[0m\u001b[0;34m\u001b[0m\u001b[0;34m\u001b[0m\u001b[0m\n\u001b[0m\u001b[1;32m      3\u001b[0m \u001b[0mdos\u001b[0m\u001b[0;34m.\u001b[0m\u001b[0mplot\u001b[0m\u001b[0;34m(\u001b[0m\u001b[0;34m)\u001b[0m\u001b[0;34m.\u001b[0m\u001b[0mlegend\u001b[0m\u001b[0;34m(\u001b[0m\u001b[0mloc\u001b[0m\u001b[0;34m=\u001b[0m\u001b[0;34m'best'\u001b[0m\u001b[0;34m)\u001b[0m\u001b[0;34m\u001b[0m\u001b[0;34m\u001b[0m\u001b[0m\n",
      "\u001b[0;32m~/bigdft_gl_laura/Build/install/lib/python3.8/site-packages/BigDFT/DoS.py\u001b[0m in \u001b[0;36m__init__\u001b[0;34m(self, bandarrays, energies, evals, logfiles_dict, units, reference_fermi_level, label, sigma, fermi_level, norm, sdos, **kwargs)\u001b[0m\n\u001b[1;32m    164\u001b[0m             \u001b[0mshifts\u001b[0m \u001b[0;34m=\u001b[0m \u001b[0;34m{\u001b[0m\u001b[0;34m}\u001b[0m\u001b[0;34m\u001b[0m\u001b[0;34m\u001b[0m\u001b[0m\n\u001b[1;32m    165\u001b[0m             \u001b[0;32mfor\u001b[0m \u001b[0mlb\u001b[0m\u001b[0;34m,\u001b[0m \u001b[0mlog\u001b[0m \u001b[0;32min\u001b[0m \u001b[0mlogfiles_dict\u001b[0m\u001b[0;34m.\u001b[0m\u001b[0mitems\u001b[0m\u001b[0;34m(\u001b[0m\u001b[0;34m)\u001b[0m\u001b[0;34m:\u001b[0m\u001b[0;34m\u001b[0m\u001b[0;34m\u001b[0m\u001b[0m\n\u001b[0;32m--> 166\u001b[0;31m                 \u001b[0mself\u001b[0m\u001b[0;34m.\u001b[0m\u001b[0mappend_from_bandarray\u001b[0m\u001b[0;34m(\u001b[0m\u001b[0mlog\u001b[0m\u001b[0;34m.\u001b[0m\u001b[0mevals\u001b[0m\u001b[0;34m,\u001b[0m \u001b[0mlabel\u001b[0m\u001b[0;34m=\u001b[0m\u001b[0mlb\u001b[0m\u001b[0;34m)\u001b[0m\u001b[0;34m\u001b[0m\u001b[0;34m\u001b[0m\u001b[0m\n\u001b[0m\u001b[1;32m    167\u001b[0m                 \u001b[0;32mif\u001b[0m \u001b[0mreference_fermi_level\u001b[0m \u001b[0;32mis\u001b[0m \u001b[0;32mnot\u001b[0m \u001b[0;32mNone\u001b[0m\u001b[0;34m:\u001b[0m\u001b[0;34m\u001b[0m\u001b[0;34m\u001b[0m\u001b[0m\n\u001b[1;32m    168\u001b[0m                     \u001b[0msh\u001b[0m \u001b[0;34m=\u001b[0m \u001b[0mreference_fermi_level\u001b[0m \u001b[0;34m-\u001b[0m \u001b[0mlog\u001b[0m\u001b[0;34m.\u001b[0m\u001b[0mfermi_level\u001b[0m\u001b[0;34m\u001b[0m\u001b[0;34m\u001b[0m\u001b[0m\n",
      "\u001b[0;31mAttributeError\u001b[0m: 'Logfile' object has no attribute 'evals'"
     ]
    }
   ],
   "source": [
    "from BigDFT.DoS import DoS\n",
    "dos = DoS(logfiles_dict=logs)\n",
    "dos.plot().legend(loc='best')"
   ]
  },
  {
   "cell_type": "markdown",
   "id": "481cc776",
   "metadata": {},
   "source": [
    "One of the parameters set by the `linear` profile is the `linear_method` keyword, which sets the approach used for kernel optimisation.\n",
    "\n",
    "The linear scaling profile uses the Fermi Operator Expansion (FOE) approach, which is the recommended approach in most cases, particularly for very large systems. However, two other approaches are also available: direct minimisation of the Kohn Sham (KS) coefficients (DIRMIN), and diagonalisation (DIAG). These other approaches may be useful in different scenarios, as we will see.\n",
    "\n",
    "Since FOE works directly with the density kernel, not the coefficients, in a standard calculation, we don't have access to the eigenvalues and hence cannot plot the DoS.  This is what the error message is telling us -- we don't have any `evals` which are the eigenvalues.\n",
    "\n",
    "If we want to plot the DoS we could use the diagonalisation approach instead, or we can still use FOE, and just tell BigDFT to do a single diagonalisation at the end. Let's do that and rerun the calculation, by appending the calculation to the dataset."
   ]
  },
  {
   "cell_type": "code",
   "execution_count": 23,
   "id": "eca2ae89",
   "metadata": {},
   "outputs": [
    {
     "ename": "ValueError",
     "evalue": "('The run id', 'linear__DOS', ' is already provided, modify the run id.')",
     "output_type": "error",
     "traceback": [
      "\u001b[0;31m---------------------------------------------------------------------------\u001b[0m",
      "\u001b[0;31mValueError\u001b[0m                                Traceback (most recent call last)",
      "\u001b[0;32m<ipython-input-23-05359f79bf11>\u001b[0m in \u001b[0;36m<module>\u001b[0;34m\u001b[0m\n\u001b[1;32m     24\u001b[0m                              \u001b[0mname\u001b[0m\u001b[0;34m=\u001b[0m\u001b[0mrun_name\u001b[0m\u001b[0;34m,\u001b[0m\u001b[0;34m\u001b[0m\u001b[0;34m\u001b[0m\u001b[0m\n\u001b[1;32m     25\u001b[0m                              remote_dir=remote_dir,local_dir=None)\n\u001b[0;32m---> 26\u001b[0;31m \u001b[0mall_runs\u001b[0m\u001b[0;34m.\u001b[0m\u001b[0mappend_run\u001b[0m\u001b[0;34m(\u001b[0m\u001b[0mid\u001b[0m\u001b[0;34m=\u001b[0m\u001b[0;34m{\u001b[0m\u001b[0;34m'linear'\u001b[0m\u001b[0;34m:\u001b[0m\u001b[0;34m'DOS'\u001b[0m\u001b[0;34m}\u001b[0m\u001b[0;34m,\u001b[0m \u001b[0mremote_runner\u001b[0m\u001b[0;34m=\u001b[0m\u001b[0msingle_point\u001b[0m\u001b[0;34m)\u001b[0m\u001b[0;34m\u001b[0m\u001b[0;34m\u001b[0m\u001b[0m\n\u001b[0m\u001b[1;32m     27\u001b[0m \u001b[0mrun_names\u001b[0m\u001b[0;34m.\u001b[0m\u001b[0mappend\u001b[0m\u001b[0;34m(\u001b[0m\u001b[0mrun_name\u001b[0m\u001b[0;34m)\u001b[0m\u001b[0;34m\u001b[0m\u001b[0;34m\u001b[0m\u001b[0m\n",
      "\u001b[0;32m~/bigdft_gl_laura/Build/install/lib/python3.8/site-packages/BigDFT/RemoteRunners.py\u001b[0m in \u001b[0;36mappend_run\u001b[0;34m(self, id, remote_runner, **kwargs)\u001b[0m\n\u001b[1;32m    548\u001b[0m             \u001b[0mvals\u001b[0m \u001b[0;34m=\u001b[0m \u001b[0mkwargs\u001b[0m\u001b[0;34m[\u001b[0m\u001b[0;34m'arguments'\u001b[0m\u001b[0;34m]\u001b[0m\u001b[0;34m.\u001b[0m\u001b[0mpop\u001b[0m\u001b[0;34m(\u001b[0m\u001b[0;34m'inp'\u001b[0m\u001b[0;34m)\u001b[0m\u001b[0;34m\u001b[0m\u001b[0;34m\u001b[0m\u001b[0m\n\u001b[1;32m    549\u001b[0m             \u001b[0mkwargs\u001b[0m\u001b[0;34m[\u001b[0m\u001b[0;34m'arguments'\u001b[0m\u001b[0;34m]\u001b[0m\u001b[0;34m[\u001b[0m\u001b[0;34m'input'\u001b[0m\u001b[0;34m]\u001b[0m \u001b[0;34m=\u001b[0m \u001b[0mvals\u001b[0m\u001b[0;34m\u001b[0m\u001b[0;34m\u001b[0m\u001b[0m\n\u001b[0;32m--> 550\u001b[0;31m         \u001b[0mDataset\u001b[0m\u001b[0;34m.\u001b[0m\u001b[0mappend_run\u001b[0m\u001b[0;34m(\u001b[0m\u001b[0mself\u001b[0m\u001b[0;34m,\u001b[0m \u001b[0mid\u001b[0m\u001b[0;34m,\u001b[0m \u001b[0mRunner\u001b[0m\u001b[0;34m(\u001b[0m\u001b[0;34m)\u001b[0m\u001b[0;34m,\u001b[0m \u001b[0;34m**\u001b[0m\u001b[0mkwargs\u001b[0m\u001b[0;34m)\u001b[0m\u001b[0;34m\u001b[0m\u001b[0;34m\u001b[0m\u001b[0m\n\u001b[0m\u001b[1;32m    551\u001b[0m         \u001b[0;31m# then create the actual remote runner to be included\u001b[0m\u001b[0;34m\u001b[0m\u001b[0;34m\u001b[0m\u001b[0;34m\u001b[0m\u001b[0m\n\u001b[1;32m    552\u001b[0m         \u001b[0mself\u001b[0m\u001b[0;34m.\u001b[0m\u001b[0m_logger\u001b[0m\u001b[0;34m.\u001b[0m\u001b[0mdebug\u001b[0m\u001b[0;34m(\u001b[0m\u001b[0;34m'creating runner for this run'\u001b[0m\u001b[0;34m)\u001b[0m\u001b[0;34m\u001b[0m\u001b[0;34m\u001b[0m\u001b[0m\n",
      "\u001b[0;32m~/bigdft_gl_laura/Build/install/lib/python3.8/site-packages/BigDFT/Datasets.py\u001b[0m in \u001b[0;36mappend_run\u001b[0;34m(self, id, runner, **kwargs)\u001b[0m\n\u001b[1;32m    151\u001b[0m         \u001b[0mname\u001b[0m \u001b[0;34m=\u001b[0m \u001b[0mname_from_id\u001b[0m\u001b[0;34m(\u001b[0m\u001b[0mid\u001b[0m\u001b[0;34m)\u001b[0m\u001b[0;34m\u001b[0m\u001b[0;34m\u001b[0m\u001b[0m\n\u001b[1;32m    152\u001b[0m         \u001b[0;32mif\u001b[0m \u001b[0mname\u001b[0m \u001b[0;32min\u001b[0m \u001b[0mself\u001b[0m\u001b[0;34m.\u001b[0m\u001b[0mnames\u001b[0m\u001b[0;34m:\u001b[0m\u001b[0;34m\u001b[0m\u001b[0;34m\u001b[0m\u001b[0m\n\u001b[0;32m--> 153\u001b[0;31m             raise ValueError('The run id', name,\n\u001b[0m\u001b[1;32m    154\u001b[0m                              ' is already provided, modify the run id.')\n\u001b[1;32m    155\u001b[0m         \u001b[0mself\u001b[0m\u001b[0;34m.\u001b[0m\u001b[0mnames\u001b[0m\u001b[0;34m.\u001b[0m\u001b[0mappend\u001b[0m\u001b[0;34m(\u001b[0m\u001b[0mname\u001b[0m\u001b[0;34m)\u001b[0m\u001b[0;34m\u001b[0m\u001b[0;34m\u001b[0m\u001b[0m\n",
      "\u001b[0;31mValueError\u001b[0m: ('The run id', 'linear__DOS', ' is already provided, modify the run id.')"
     ]
    }
   ],
   "source": [
    "# create again the input dictionary\n",
    "inp = I.Inputfile()\n",
    "inp.set_xc(functional)\n",
    "inp.set_hgrid(0.4)\n",
    "inp.set_psp_nlcc()\n",
    "inp[\"import\"] = \"linear\"    \n",
    "\n",
    "# update the input dictionary by switching on subspace diagonalisation\n",
    "inp.update({'lin_general': {'subspace_diag': True}})\n",
    "\n",
    "# identify a name for the new run\n",
    "run_name = 'H2O-1-PBE-linear-dos'\n",
    "func_kwargs = dict(run_name=run_name, filename=filename, inp=dict(inp))\n",
    "cpu_script.jobname = run_name\n",
    "cpu_script.mpi = 4\n",
    "cpu_script.omp = 4\n",
    "cpu_script.time = 2 #minutes\n",
    "single_point=computer_runner(calculate_single_point,\n",
    "                             submission_script=cpu_script,\n",
    "                             url=all_runs.url,\n",
    "                             arguments=func_kwargs,\n",
    "                             required_files=[relpath(filename,start=local_dir)],\n",
    "                             output_files=[run_name+'.tar.gz'],\n",
    "                             name=run_name,\n",
    "                             remote_dir=remote_dir,local_dir=None)\n",
    "all_runs.append_run(id={'linear':'DOS'}, remote_runner=single_point)\n",
    "run_names.append(run_name)"
   ]
  },
  {
   "cell_type": "markdown",
   "id": "82a565b3",
   "metadata": {},
   "source": [
    "As expected, we should see that two of the jobs are already submitted, so it's just the new calculation which should be submitted to the queue."
   ]
  },
  {
   "cell_type": "code",
   "execution_count": 20,
   "id": "cbce6a45",
   "metadata": {},
   "outputs": [
    {
     "name": "stderr",
     "output_type": "stream",
     "text": [
      "/home/ff21106/bigdft_gl_laura/Build/install/lib/python3.8/site-packages/BigDFT/RemoteRunners.py:608: UserWarning: (linear__True, .) already submitted\n",
      "  warn(warnmsg, UserWarning)\n",
      "/home/ff21106/bigdft_gl_laura/Build/install/lib/python3.8/site-packages/BigDFT/RemoteRunners.py:608: UserWarning: (linear__False, .) already submitted\n",
      "  warn(warnmsg, UserWarning)\n",
      "/home/ff21106/bigdft_gl_laura/Build/install/lib/python3.8/site-packages/BigDFT/RemoteRunners.py:608: UserWarning: (linear__DOS, .) already submitted\n",
      "  warn(warnmsg, UserWarning)\n"
     ]
    },
    {
     "data": {
      "text/plain": [
       "{}"
      ]
     },
     "execution_count": 20,
     "metadata": {},
     "output_type": "execute_result"
    }
   ],
   "source": [
    "all_runs.run() "
   ]
  },
  {
   "cell_type": "markdown",
   "id": "69be8e92",
   "metadata": {},
   "source": [
    "It should again be quick, so we can then fetch the results back."
   ]
  },
  {
   "cell_type": "code",
   "execution_count": 21,
   "id": "2c383f4f",
   "metadata": {},
   "outputs": [
    {
     "ename": "AttributeError",
     "evalue": "'RemoteRunner' object has no attribute 'local_directory'",
     "output_type": "error",
     "traceback": [
      "\u001b[0;31m---------------------------------------------------------------------------\u001b[0m",
      "\u001b[0;31mAttributeError\u001b[0m                            Traceback (most recent call last)",
      "\u001b[0;32m<ipython-input-21-83d8a053fa10>\u001b[0m in \u001b[0;36m<module>\u001b[0;34m\u001b[0m\n\u001b[1;32m      1\u001b[0m \u001b[0mall_runs\u001b[0m\u001b[0;34m.\u001b[0m\u001b[0murl\u001b[0m\u001b[0;34m.\u001b[0m\u001b[0mverbose\u001b[0m\u001b[0;34m=\u001b[0m\u001b[0;32mFalse\u001b[0m\u001b[0;34m\u001b[0m\u001b[0;34m\u001b[0m\u001b[0m\n\u001b[0;32m----> 2\u001b[0;31m \u001b[0menergies\u001b[0m \u001b[0;34m=\u001b[0m \u001b[0mall_runs\u001b[0m\u001b[0;34m.\u001b[0m\u001b[0mfetch_results\u001b[0m\u001b[0;34m(\u001b[0m\u001b[0;34m)\u001b[0m\u001b[0;34m\u001b[0m\u001b[0;34m\u001b[0m\u001b[0m\n\u001b[0m",
      "\u001b[0;32m~/bigdft_gl_laura/Build/install/lib/python3.8/site-packages/BigDFT/RemoteRunners.py\u001b[0m in \u001b[0;36mfetch_results\u001b[0;34m(self, id, lookup)\u001b[0m\n\u001b[1;32m    936\u001b[0m             \u001b[0mcalc\u001b[0m \u001b[0;34m=\u001b[0m \u001b[0mself\u001b[0m\u001b[0;34m.\u001b[0m\u001b[0mcalculators\u001b[0m\u001b[0;34m[\u001b[0m\u001b[0mirun\u001b[0m\u001b[0;34m]\u001b[0m\u001b[0;34m[\u001b[0m\u001b[0;34m'calc'\u001b[0m\u001b[0;34m]\u001b[0m\u001b[0;34m\u001b[0m\u001b[0;34m\u001b[0m\u001b[0m\n\u001b[1;32m    937\u001b[0m \u001b[0;34m\u001b[0m\u001b[0m\n\u001b[0;32m--> 938\u001b[0;31m             \u001b[0mlocal_dir\u001b[0m \u001b[0;34m=\u001b[0m \u001b[0mcalc\u001b[0m\u001b[0;34m.\u001b[0m\u001b[0mlocal_directory\u001b[0m\u001b[0;34m\u001b[0m\u001b[0;34m\u001b[0m\u001b[0m\n\u001b[0m\u001b[1;32m    939\u001b[0m             \u001b[0mresultfiles\u001b[0m \u001b[0;34m=\u001b[0m \u001b[0mcalc\u001b[0m\u001b[0;34m.\u001b[0m\u001b[0mresultfiles\u001b[0m\u001b[0;34m\u001b[0m\u001b[0;34m\u001b[0m\u001b[0m\n\u001b[1;32m    940\u001b[0m \u001b[0;34m\u001b[0m\u001b[0m\n",
      "\u001b[0;31mAttributeError\u001b[0m: 'RemoteRunner' object has no attribute 'local_directory'"
     ]
    }
   ],
   "source": [
    "all_runs.url.verbose=False\n",
    "energies = all_runs.fetch_results()"
   ]
  },
  {
   "cell_type": "markdown",
   "id": "027d79ac",
   "metadata": {},
   "source": [
    "Let's print the energies - we can see that the extra diagonalisation at the end of the run made negligible difference to the total energy, as we might expect."
   ]
  },
  {
   "cell_type": "code",
   "execution_count": null,
   "id": "9c19230d",
   "metadata": {},
   "outputs": [],
   "source": [
    "print(energies)\n",
    "print(energies[0] - energies[2])"
   ]
  },
  {
   "cell_type": "markdown",
   "id": "ade1ef31",
   "metadata": {},
   "source": [
    "Let's also do the same processing steps as before."
   ]
  },
  {
   "cell_type": "code",
   "execution_count": null,
   "id": "e5e81000",
   "metadata": {},
   "outputs": [],
   "source": [
    "# the data are unpacked in a \"Calculations\" subdirectory (see above arguments)\n",
    "extract_results('H2O-linear-single')\n",
    "\n",
    "#patch the yaml files from a mistake in the case of low profiling depth\n",
    "!sed -i s/^\\ *\\:\\ null/\\ \\ \\ \\ null/g H2O-linear-single/Calculations/time*\n",
    "\n",
    "from BigDFT.Logfiles import Logfile as L\n",
    "logs = {name.lstrip('H2O-1-'): L(join('H2O-linear-single','Calculations','log-'+name+'.yaml'))\n",
    "        for name in run_names}"
   ]
  },
  {
   "cell_type": "markdown",
   "id": "e75b71a5",
   "metadata": {},
   "source": [
    "Finally let's look at the DoS. Note that the Fermi level is not automatically retrieved for LS-BigDFT, so we'll use the cubic scaling Fermi level.\n",
    "\n",
    "We can see that the two DoS look very similar, albeit with a small shift. The cubic scaling case also does not have any empty states - this is because we did not explicitly ask for them. \n",
    "\n",
    "On the other hand, the LS empty states should not be relied upon for a standard LS calculation. In the case where they are required - it is possible to use the direct minimisation approach to optimise the support functions to represent some low energy virtual states. This is explained in the 4.C tutorial of the bigdft-school/CCP-tutorials repository."
   ]
  },
  {
   "cell_type": "code",
   "execution_count": null,
   "id": "2e196e88",
   "metadata": {},
   "outputs": [],
   "source": [
    "# here we modify the dict to ignore the initial LS calculation, and to rename the logs\n",
    "dos = DoS(logfiles_dict={'Linear': logs['PBE-linear-dos'], 'Cubic': logs['PBE']},\n",
    "          fermi_level=logs['PBE'].fermi_level)\n",
    "dos.plot().legend(loc='best')"
   ]
  },
  {
   "cell_type": "markdown",
   "id": "a2660d00",
   "metadata": {},
   "source": [
    "# Run of the full system\n",
    "\n",
    "Let's now look at the full system, which we will again run using both cubic and LS BigDFT. To save compute time, we will skip the diagonalisation step, i.e. we will not be able to calculate the DoS.\n",
    "\n",
    "We will use the same settings in terms of MPI and OpenMP as for the cubic notebook, but again changing the code to pass the input file directly to the function.\n",
    "\n",
    "We will also increase the grid spacing to 0.5 - this is to allow us to explore the performance of a larger system (with more orbitals) without making the walltime too high.\n",
    "\n",
    "Finally, since we want to measure the performance of the WFN_OPT section, we will furtherreduce the cost of the LS calculation by turning off matrix outputs, as well as the multipole calculation."
   ]
  },
  {
   "cell_type": "code",
   "execution_count": 24,
   "id": "95b907ba",
   "metadata": {},
   "outputs": [],
   "source": [
    "local_dir = 'H2O-linear-many'\n",
    "remote_dir = '/ceph/hpc/data/d2021-135-users/bigdft-school/eulaurar/H2O-linear-many'\n",
    "\n",
    "all_large_runs = RemoteDataset(run_dir='.',remote_dir=remote_dir, local_dir=local_dir,\n",
    "                               database_file=join(local_dir,\"database.yaml\"),url=vega)\n",
    "filename = 'H2O-32-free.xyz'\n",
    "#we collect the run names for future reuse\n",
    "large_run_names = []\n",
    "# the we append the runs we would like to perform\n",
    "for linear in [True, False]:\n",
    "    #identify a name for the run\n",
    "    run_name = '-'.join([filename.split('.')[0],functional] + (['linear'] if linear else []))\n",
    "    \n",
    "    # create a reasonable set of input parameters for the molecule - these are the same as the cubic scaling case\n",
    "    inp = I.Inputfile()\n",
    "    inp.set_xc(functional)\n",
    "    inp.set_hgrid(0.5)\n",
    "    inp.set_psp_nlcc()\n",
    "\n",
    "    # activate the linear scaling mode if required\n",
    "    if linear:\n",
    "        inp[\"import\"] = \"linear\"  \n",
    "        inp.update({'lin_general': {'output_mat': 0, 'charge_multipoles': 0}})\n",
    "    \n",
    "    # we then pass the input dictionary to our function\n",
    "    func_kwargs = dict(run_name=run_name, filename=filename, inp=dict(inp))\n",
    "    \n",
    "    script = cpu_script\n",
    "    script.jobname = run_name\n",
    "    script.mpi = 32\n",
    "    script.omp = 4\n",
    "    script.time = 15 #minutes\n",
    "    # create the remote function to be executed\n",
    "    single_point=computer_runner(calculate_single_point,\n",
    "                                 submission_script=script,\n",
    "                                 url=all_large_runs.url,\n",
    "                                 arguments=func_kwargs,\n",
    "                                 required_files=[relpath(filename,start=local_dir)],\n",
    "                                 output_files=[run_name+'.tar.gz'],\n",
    "                                 name=run_name,\n",
    "                                 remote_dir=remote_dir,local_dir=None)\n",
    "    all_large_runs.append_run(id={'linear':linear}, remote_runner=single_point)\n",
    "    large_run_names.append(run_name)"
   ]
  },
  {
   "cell_type": "code",
   "execution_count": 25,
   "id": "d816d4a1",
   "metadata": {},
   "outputs": [
    {
     "data": {
      "text/plain": [
       "{}"
      ]
     },
     "execution_count": 25,
     "metadata": {},
     "output_type": "execute_result"
    }
   ],
   "source": [
    "#all_large_runs.database.clean()\n",
    "all_large_runs.run()"
   ]
  },
  {
   "cell_type": "markdown",
   "id": "ce625740",
   "metadata": {},
   "source": [
    "These calculations will take slightly longer, so it may help to monitor the queue on Vega while they are running."
   ]
  },
  {
   "cell_type": "code",
   "execution_count": 26,
   "id": "a227e2fb",
   "metadata": {},
   "outputs": [
    {
     "name": "stdout",
     "output_type": "stream",
     "text": [
      "cmd returned: Calculations\n",
      "database.yaml\n",
      "H2O-32-free-PBE-function-files.tar.gz\n",
      "H2O-32-free-PBE-function-result.json\n",
      "H2O-32-free-PBE-function-run.py\n",
      "H2O-32-free-PBE-linear-function-files.tar.gz\n",
      "H2O-32-free-PBE-linear-function-result.json\n",
      "H2O-32-free-PBE-linear-function-run.py\n",
      "H2O-32-free-PBE-linear.tar.gz\n",
      "H2O-32-free-PBE.tar.gz\n",
      "linear__False-run.sh\n",
      "linear__True-run.sh\n",
      "\n",
      "cmd returned: BigDFT_log.yaml\n",
      "Calculations\n",
      "H2O-32-free-PBE.e\n",
      "H2O-32-free-PBE-function-files.tar.gz\n",
      "H2O-32-free-PBE-function-result.json\n",
      "H2O-32-free-PBE-function-run.py\n",
      "H2O-32-free-PBE-linear.e\n",
      "H2O-32-free-PBE-linear-function-files.tar.gz\n",
      "H2O-32-free-PBE-linear-function-result.json\n",
      "H2O-32-free-PBE-linear-function-run.py\n",
      "H2O-32-free-PBE-linear.o\n",
      "H2O-32-free-PBE-linear.tar.gz\n",
      "H2O-32-free-PBE.o\n",
      "H2O-32-free-PBE.tar.gz\n",
      "H2O-32-free.xyz\n",
      "linear__False-run.sh\n",
      "linear__True-run.sh\n",
      "\n",
      "Checking for finished run... locally... Yes (Found a results file)\n",
      "Checking for finished run... locally... Yes (Found a results file)\n"
     ]
    }
   ],
   "source": [
    "large_energies=all_large_runs.fetch_results()"
   ]
  },
  {
   "cell_type": "markdown",
   "id": "ae3e5037",
   "metadata": {},
   "source": [
    "Let's extract the results and plot a table of the times, as before. To avoid scrolling back and forth, we'll also reproduce the times for the single molecule.\n",
    "\n",
    "Notice that even though the LS calculation is still slower than the cubic scaling calculation, the difference is much smaller. In other words, we are still below the crossover, but getting closer."
   ]
  },
  {
   "cell_type": "code",
   "execution_count": 27,
   "id": "e0ebf9c3",
   "metadata": {},
   "outputs": [],
   "source": [
    "extract_results('H2O-linear-many')\n",
    "!sed -i s/^\\ *\\:\\ null/\\ \\ \\ \\ null/g H2O-linear-many/Calculations/time*"
   ]
  },
  {
   "cell_type": "code",
   "execution_count": 42,
   "id": "4c44385c",
   "metadata": {},
   "outputs": [],
   "source": [
    "large_logs = {name.lstrip('H2O-32-free-'): L(join('H2O-linear-many','Calculations','log-'+name+'.yaml'))\n",
    "              for name in reversed(large_run_names)}\n",
    "\n",
    "large_times = {name.lstrip('H2O-32-free-'): join('H2O-linear-many','Calculations','time-'+name+'.yaml')\n",
    "              for name in large_run_names}"
   ]
  },
  {
   "cell_type": "code",
   "execution_count": 45,
   "id": "2b0b2971",
   "metadata": {},
   "outputs": [
    {
     "data": {
      "text/html": [
       "<div>\n",
       "<style scoped>\n",
       "    .dataframe tbody tr th:only-of-type {\n",
       "        vertical-align: middle;\n",
       "    }\n",
       "\n",
       "    .dataframe tbody tr th {\n",
       "        vertical-align: top;\n",
       "    }\n",
       "\n",
       "    .dataframe thead th {\n",
       "        text-align: right;\n",
       "    }\n",
       "</style>\n",
       "<table border=\"1\" class=\"dataframe\">\n",
       "  <thead>\n",
       "    <tr style=\"text-align: right;\">\n",
       "      <th></th>\n",
       "      <th>INIT</th>\n",
       "      <th>WFN_OPT</th>\n",
       "      <th>LAST</th>\n",
       "      <th>Total</th>\n",
       "      <th>WFN_OPT %</th>\n",
       "    </tr>\n",
       "  </thead>\n",
       "  <tbody>\n",
       "    <tr>\n",
       "      <th>PBE-linear</th>\n",
       "      <td>7.4</td>\n",
       "      <td>57.0</td>\n",
       "      <td>0.01</td>\n",
       "      <td>64.0</td>\n",
       "      <td>88.6</td>\n",
       "    </tr>\n",
       "    <tr>\n",
       "      <th>PBE</th>\n",
       "      <td>4.7</td>\n",
       "      <td>36.0</td>\n",
       "      <td>3.00</td>\n",
       "      <td>43.0</td>\n",
       "      <td>82.2</td>\n",
       "    </tr>\n",
       "  </tbody>\n",
       "</table>\n",
       "</div>"
      ],
      "text/plain": [
       "            INIT  WFN_OPT  LAST  Total  WFN_OPT %\n",
       "PBE-linear   7.4     57.0  0.01   64.0       88.6\n",
       "PBE          4.7     36.0  3.00   43.0       82.2"
      ]
     },
     "execution_count": 45,
     "metadata": {},
     "output_type": "execute_result"
    }
   ],
   "source": [
    "table=DataFrame({name:get_total_time_info(time) for name, time in large_times.items()}).T\n",
    "table.round(3)"
   ]
  },
  {
   "cell_type": "code",
   "execution_count": 60,
   "id": "9a1b8ef2",
   "metadata": {},
   "outputs": [
    {
     "data": {
      "text/html": [
       "<div>\n",
       "<style scoped>\n",
       "    .dataframe tbody tr th:only-of-type {\n",
       "        vertical-align: middle;\n",
       "    }\n",
       "\n",
       "    .dataframe tbody tr th {\n",
       "        vertical-align: top;\n",
       "    }\n",
       "\n",
       "    .dataframe thead th {\n",
       "        text-align: right;\n",
       "    }\n",
       "</style>\n",
       "<table border=\"1\" class=\"dataframe\">\n",
       "  <thead>\n",
       "    <tr style=\"text-align: right;\">\n",
       "      <th></th>\n",
       "      <th>INIT</th>\n",
       "      <th>WFN_OPT</th>\n",
       "      <th>LAST</th>\n",
       "      <th>Total</th>\n",
       "      <th>WFN_OPT %</th>\n",
       "    </tr>\n",
       "  </thead>\n",
       "  <tbody>\n",
       "    <tr>\n",
       "      <th>PBE-linear</th>\n",
       "      <td>2.80</td>\n",
       "      <td>12.0</td>\n",
       "      <td>0.002</td>\n",
       "      <td>14.0</td>\n",
       "      <td>80.6</td>\n",
       "    </tr>\n",
       "    <tr>\n",
       "      <th>PBE</th>\n",
       "      <td>0.85</td>\n",
       "      <td>2.0</td>\n",
       "      <td>0.290</td>\n",
       "      <td>3.1</td>\n",
       "      <td>63.2</td>\n",
       "    </tr>\n",
       "  </tbody>\n",
       "</table>\n",
       "</div>"
      ],
      "text/plain": [
       "            INIT  WFN_OPT   LAST  Total  WFN_OPT %\n",
       "PBE-linear  2.80     12.0  0.002   14.0       80.6\n",
       "PBE         0.85      2.0  0.290    3.1       63.2"
      ]
     },
     "execution_count": 60,
     "metadata": {},
     "output_type": "execute_result"
    }
   ],
   "source": [
    "table=DataFrame({name:get_total_time_info(time) for name, time in times.items()}).T\n",
    "table.round(3)"
   ]
  },
  {
   "cell_type": "markdown",
   "id": "c37de8c2",
   "metadata": {},
   "source": [
    "# Scaling\n",
    "\n",
    "Finally, let's look in more detail about the scalability of the LS code. There are a few key details concerning the parallelisation of LS-BigDFT:\n",
    "- GPUs: Not available with LS-BigDFT.\n",
    "- OpenMP: Up to 8 threads can typically be used without too large a loss of efficiency, but for low memory nodes it may be necessary to use more threads to avoid under-occupying a node.\n",
    "- MPI: MPI tasks are primarily parellelised over SFs (also in places over KS orbitals as in CS-BigDFT), so there is a strict maximum upper limit of MPI tasks which can be used. For best performance, it is better to have at leat 5-10 SFs per MPI.\n",
    "\n",
    "We can check the parallelisation setup of the current runs by inspecting various useful fields of the LS logfile:"
   ]
  },
  {
   "cell_type": "code",
   "execution_count": 50,
   "id": "cf6c82e2",
   "metadata": {},
   "outputs": [
    {
     "name": "stdout",
     "output_type": "stream",
     "text": [
      "MPI tasks =  32\n",
      "OpenMP threads =  4\n",
      "Orbitals repartition {'MPI tasks  0- 31': 4}\n",
      "Support function repartition {'Minimum': 5, 'Maximum': 8, 'Average': 6.0}\n"
     ]
    }
   ],
   "source": [
    "log = large_logs['PBE-linear']\n",
    "\n",
    "print('MPI tasks = ',log.log['Number of MPI tasks'])\n",
    "print('OpenMP threads = ',log.log['Maximal OpenMP threads per MPI task'])\n",
    "\n",
    "print('Orbitals repartition', log.log['Orbitals Repartition'])\n",
    "print('Support function repartition',log.log['Support Function Repartition'])"
   ]
  },
  {
   "cell_type": "markdown",
   "id": "c5431150",
   "metadata": {},
   "source": [
    "Above we can see the information about how many MPI tasks we used as well as how many threads per task - this agrees with what we requested. We can also see how both the orbitals and support functions are divided amongst MPI tasks - as an absolute minimum, each task should have at least one support function, but this will not be very efficient. Let's do a few final calculations with different number of MPI tasks in total, keeping the number of threads constant. For the sake of this tutorial, we will use a single node, but this can of course easily be generalised."
   ]
  },
  {
   "cell_type": "code",
   "execution_count": 104,
   "id": "80ba0f19",
   "metadata": {},
   "outputs": [],
   "source": [
    "local_dir = 'H2O-linear-scaling'\n",
    "remote_dir = '/ceph/hpc/data/d2021-135-users/bigdft-school/eulaurar/H2O-linear-scaling'\n",
    "\n",
    "all_scaling_runs = RemoteDataset(run_dir='.',remote_dir=remote_dir, local_dir=local_dir,\n",
    "                               database_file=join(local_dir,\"database.yaml\"),url=vega)\n",
    "filename = 'H2O-32-free.xyz'\n",
    "#we collect the run names for future reuse\n",
    "scaling_run_names = []\n",
    "# the we append the runs we would like to perform\n",
    "for nmpi in [8, 16, 24, 32]:\n",
    "    #identify a name for the run\n",
    "    run_name = '-'.join([filename.split('.')[0],functional] + [str(nmpi)])\n",
    "    \n",
    "    # create a reasonable set of input parameters for the molecule - these are the same as the cubic scaling case\n",
    "    inp = I.Inputfile()\n",
    "    inp.set_xc(functional)\n",
    "    inp.set_hgrid(0.5)\n",
    "    inp.set_psp_nlcc()\n",
    "    inp[\"import\"] = \"linear\"  \n",
    "    inp.update({'lin_general': {'output_mat': 0, 'charge_multipoles': 0}})\n",
    "    \n",
    "    # we then pass the input dictionary to our function\n",
    "    func_kwargs = dict(run_name=run_name, filename=filename, inp=dict(inp))\n",
    "    \n",
    "    script = cpu_script\n",
    "    script.jobname = run_name\n",
    "    script.mpi = nmpi\n",
    "    script.omp = 4\n",
    "    script.time = 15 #minutes\n",
    "    # create the remote function to be executed\n",
    "    single_point=computer_runner(calculate_single_point,\n",
    "                                 submission_script=script,\n",
    "                                 url=all_scaling_runs.url,\n",
    "                                 arguments=func_kwargs,\n",
    "                                 required_files=[relpath(filename,start=local_dir)],\n",
    "                                 output_files=[run_name+'.tar.gz'],\n",
    "                                 name=run_name,\n",
    "                                 remote_dir=remote_dir,local_dir=None)\n",
    "    all_scaling_runs.append_run(id={'linear':nmpi}, remote_runner=single_point)\n",
    "    scaling_run_names.append(run_name)"
   ]
  },
  {
   "cell_type": "code",
   "execution_count": 103,
   "id": "7ca05c6b",
   "metadata": {},
   "outputs": [
    {
     "name": "stderr",
     "output_type": "stream",
     "text": [
      "/home/ff21106/bigdft_gl_laura/Build/install/lib/python3.8/site-packages/BigDFT/RemoteRunners.py:608: UserWarning: (linear__24, .) already submitted\n",
      "  warn(warnmsg, UserWarning)\n"
     ]
    },
    {
     "data": {
      "text/plain": [
       "{0: None}"
      ]
     },
     "execution_count": 103,
     "metadata": {},
     "output_type": "execute_result"
    }
   ],
   "source": [
    "all_scaling_runs.run()"
   ]
  },
  {
   "cell_type": "markdown",
   "id": "679dc147",
   "metadata": {},
   "source": [
    "Let's extract the results and make a simple plot of the scaling."
   ]
  },
  {
   "cell_type": "code",
   "execution_count": 88,
   "id": "3937b7d7",
   "metadata": {},
   "outputs": [
    {
     "name": "stdout",
     "output_type": "stream",
     "text": [
      "cmd returned: Calculations\n",
      "database.yaml\n",
      "H2O-32-free-PBE-16-function-files.tar.gz\n",
      "H2O-32-free-PBE-16-function-result.json\n",
      "H2O-32-free-PBE-16-function-run.py\n",
      "H2O-32-free-PBE-16.tar.gz\n",
      "H2O-32-free-PBE-24-function-files.tar.gz\n",
      "H2O-32-free-PBE-24-function-run.py\n",
      "H2O-32-free-PBE-32-function-files.tar.gz\n",
      "H2O-32-free-PBE-32-function-result.json\n",
      "H2O-32-free-PBE-32-function-run.py\n",
      "H2O-32-free-PBE-32.tar.gz\n",
      "H2O-32-free-PBE-8-function-files.tar.gz\n",
      "H2O-32-free-PBE-8-function-result.json\n",
      "H2O-32-free-PBE-8-function-run.py\n",
      "H2O-32-free-PBE-8.tar.gz\n",
      "linear__16-run.sh\n",
      "linear__24-run.sh\n",
      "linear__32-run.sh\n",
      "linear__8-run.sh\n",
      "\n",
      "cmd returned: BigDFT_log.yaml\n",
      "Calculations\n",
      "H2O-32-free-PBE-16.e\n",
      "H2O-32-free-PBE-16-function-files.tar.gz\n",
      "H2O-32-free-PBE-16-function-result.json\n",
      "H2O-32-free-PBE-16-function-run.py\n",
      "H2O-32-free-PBE-16.o\n",
      "H2O-32-free-PBE-16.tar.gz\n",
      "H2O-32-free-PBE-24.e\n",
      "H2O-32-free-PBE-24-function-files.tar.gz\n",
      "H2O-32-free-PBE-24-function-result.json\n",
      "H2O-32-free-PBE-24-function-run.py\n",
      "H2O-32-free-PBE-24.o\n",
      "H2O-32-free-PBE-24.tar.gz\n",
      "H2O-32-free-PBE-32.e\n",
      "H2O-32-free-PBE-32-function-files.tar.gz\n",
      "H2O-32-free-PBE-32-function-result.json\n",
      "H2O-32-free-PBE-32-function-run.py\n",
      "H2O-32-free-PBE-32.o\n",
      "H2O-32-free-PBE-32.tar.gz\n",
      "H2O-32-free-PBE-8.e\n",
      "H2O-32-free-PBE-8-function-files.tar.gz\n",
      "H2O-32-free-PBE-8-function-result.json\n",
      "H2O-32-free-PBE-8-function-run.py\n",
      "H2O-32-free-PBE-8.o\n",
      "H2O-32-free-PBE-8.tar.gz\n",
      "H2O-32-free.xyz\n",
      "linear__16-run.sh\n",
      "linear__24-run.sh\n",
      "linear__32-run.sh\n",
      "linear__8-run.sh\n",
      "\n",
      "Checking for finished run... locally... Yes (Found a results file)\n",
      "Checking for finished run... locally... Yes (Found a results file)\n",
      "Checking for finished run... locally... Yes (Found a results file)\n",
      "Checking for finished run... locally... Yes (Found a results file)\n"
     ]
    }
   ],
   "source": [
    "all_scaling_energies=all_scaling_runs.fetch_results()"
   ]
  },
  {
   "cell_type": "code",
   "execution_count": 105,
   "id": "2d5c7aee",
   "metadata": {},
   "outputs": [],
   "source": [
    "extract_results('H2O-linear-scaling')\n",
    "!sed -i s/^\\ *\\:\\ null/\\ \\ \\ \\ null/g H2O-linear-scaling/Calculations/time*\n",
    "     \n",
    "scaling_logs = {name: L(join('H2O-linear-scaling','Calculations','log-'+name+'.yaml'))\n",
    "              for name in reversed(scaling_run_names)}\n",
    "        \n",
    "scaling_times = {name: join('H2O-linear-scaling','Calculations','time-'+name+'.yaml')\n",
    "              for name in scaling_run_names}"
   ]
  },
  {
   "cell_type": "code",
   "execution_count": 106,
   "id": "8dbf24e6",
   "metadata": {},
   "outputs": [
    {
     "data": {
      "image/png": "[encoded data removed]",
      "text/plain": [
       "<Figure size 1152x432 with 2 Axes>"
      ]
     },
     "metadata": {
      "needs_background": "light"
     },
     "output_type": "display_data"
    }
   ],
   "source": [
    "from matplotlib import pyplot as plt\n",
    "\n",
    "plt.rcParams.update({'font.size': 14})\n",
    "fig, axs = plt.subplots(1, 2, figsize=(16, 6))\n",
    "\n",
    "\n",
    "wfn_opt_times = [{name:get_total_time_info(time) for name, time in scaling_times.items()}[name]['WFN_OPT']\n",
    "                 for name in scaling_run_names]\n",
    "nmpi = [scaling_logs[name].log['Number of MPI tasks'] for name in scaling_run_names]\n",
    "\n",
    "ax = axs[0]\n",
    "ax.plot(nmpi, wfn_opt_times, color='k', marker='o')\n",
    "ax.set_ylabel('WFN_OPT Time (s)')\n",
    "ax.set_xlabel('Number of MPI tasks')\n",
    "\n",
    "ax = axs[1]\n",
    "ax.plot(nmpi, [wfn_opt_times[0]/t for t in wfn_opt_times], color='k', marker='o')\n",
    "# also plot the ideal speedup\n",
    "ax.plot(nmpi, [n/nmpi[0] for n in nmpi], color='gray', ls='--')\n",
    "ax.set_ylabel('Speedup')\n",
    "ax.set_xlabel('Number of MPI tasks')\n",
    "\n",
    "plt.show()"
   ]
  },
  {
   "cell_type": "markdown",
   "id": "1ff2c553",
   "metadata": {},
   "source": [
    "# TODO: add some final comment, and maybe an exercise?  E.g. look at the total time instead of WFN_OPT, plot the efficiency as well??\n",
    "\n",
    "# should we also show the breakdown of the timings plot for different number of MPI?"
   ]
  },
  {
   "cell_type": "code",
   "execution_count": null,
   "id": "0d07c88b",
   "metadata": {},
   "outputs": [],
   "source": []
  },
  {
   "cell_type": "code",
   "execution_count": null,
   "id": "f28ddc70",
   "metadata": {},
   "outputs": [],
   "source": []
  },
  {
   "cell_type": "code",
   "execution_count": null,
   "id": "ec83a68e",
   "metadata": {},
   "outputs": [],
   "source": []
  },
  {
   "cell_type": "code",
   "execution_count": null,
   "id": "3d258375",
   "metadata": {},
   "outputs": [],
   "source": []
  }
 ],
 "metadata": {
  "kernelspec": {
   "display_name": "Python 3 (ipykernel)",
   "language": "python",
   "name": "python3"
  },
  "language_info": {
   "codemirror_mode": {
    "name": "ipython",
    "version": 3
   },
   "file_extension": ".py",
   "mimetype": "text/x-python",
   "name": "python",
   "nbconvert_exporter": "python",
   "pygments_lexer": "ipython3",
   "version": "3.9.7"
  }
 },
 "nbformat": 4,
 "nbformat_minor": 5
}
