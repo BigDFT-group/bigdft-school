{
 "cells": [
  {
   "cell_type": "markdown",
   "id": "F4v-JNX-KecM",
   "metadata": {
    "id": "F4v-JNX-KecM"
   },
   "source": [
    "# Remote manager tutorial\n",
    "We will see here the engin which is employed by BigDFT to run calculations on a remote supercomputer. After this tutorial you will be able to trigger the usage of the nodes from the local workstation.\n",
    "\n",
    "The `remotemanager` package will have to be installed on your machine (or in the colab session)"
   ]
  },
  {
   "cell_type": "code",
   "execution_count": 9,
   "id": "qgFas_R8K7KS",
   "metadata": {
    "colab": {
     "base_uri": "https://localhost:8080/"
    },
    "id": "qgFas_R8K7KS",
    "outputId": "36fd533c-34f6-4752-cb06-cebb2f8227fc"
   },
   "outputs": [
    {
     "name": "stdout",
     "output_type": "stream",
     "text": [
      "Defaulting to user installation because normal site-packages is not writeable\n",
      "Requirement already satisfied: remotemanager in /home/genovese/.local/lib/python3.9/site-packages (0.3.2)\n",
      "Collecting remotemanager\n",
      "  Downloading remotemanager-0.3.3-py3-none-any.whl (53 kB)\n",
      "\u001b[K     |████████████████████████████████| 53 kB 1.2 MB/s eta 0:00:011\n",
      "\u001b[?25hRequirement already satisfied: numpy in /opt/intel/oneapi/intelpython/python3.9/lib/python3.9/site-packages (from remotemanager) (1.21.2)\n",
      "Requirement already satisfied: pyyaml in /opt/upstream/lib/python3.9/site-packages (from remotemanager) (6.0)\n",
      "Installing collected packages: remotemanager\n",
      "  Attempting uninstall: remotemanager\n",
      "    Found existing installation: remotemanager 0.3.2\n",
      "    Uninstalling remotemanager-0.3.2:\n",
      "      Successfully uninstalled remotemanager-0.3.2\n",
      "Successfully installed remotemanager-0.3.3\n"
     ]
    }
   ],
   "source": [
    "!pip install -U remotemanager"
   ]
  },
  {
   "cell_type": "markdown",
   "id": "98f68bde-8fd4-4279-8c61-8cc55aa02edd",
   "metadata": {
    "id": "98f68bde-8fd4-4279-8c61-8cc55aa02edd"
   },
   "source": [
    "Begin with the common imports, `Dataset` and `URL`. As these two are always used, they are available from `remotemanager` root."
   ]
  },
  {
   "cell_type": "code",
   "execution_count": 1,
   "id": "a5b98769-79b9-4a1a-8bfd-632fb9e88093",
   "metadata": {
    "id": "a5b98769-79b9-4a1a-8bfd-632fb9e88093"
   },
   "outputs": [],
   "source": [
    "from remotemanager import Dataset, URL\n",
    "from remotemanager.serialisation import serialjson"
   ]
  },
  {
   "cell_type": "markdown",
   "id": "6d34eb03-35be-48b4-9ac0-3c8d958f404a",
   "metadata": {
    "id": "6d34eb03-35be-48b4-9ac0-3c8d958f404a"
   },
   "source": [
    "Define a simple function to run:"
   ]
  },
  {
   "cell_type": "code",
   "execution_count": 2,
   "id": "a97f2fb6-fac6-4b5d-bc78-ace703c4a239",
   "metadata": {
    "id": "a97f2fb6-fac6-4b5d-bc78-ace703c4a239"
   },
   "outputs": [],
   "source": [
    "def basic_function(inp):\n",
    "    import time\n",
    "    \n",
    "    time.sleep(1)\n",
    "    \n",
    "    return inp*inp"
   ]
  },
  {
   "cell_type": "markdown",
   "id": "4303d124-3c0d-4b4b-a6e0-608c2a8620da",
   "metadata": {
    "id": "4303d124-3c0d-4b4b-a6e0-608c2a8620da"
   },
   "source": [
    "For the moment, we're just running on our local machines"
   ]
  },
  {
   "cell_type": "code",
   "execution_count": 3,
   "id": "17bc1095-f90f-4b44-8c1e-72510a189e76",
   "metadata": {
    "id": "17bc1095-f90f-4b44-8c1e-72510a189e76"
   },
   "outputs": [],
   "source": [
    "url = URL()\n",
    "#url = URL(host='vega') #switch on this after the first walkthrough of this notebook"
   ]
  },
  {
   "cell_type": "markdown",
   "id": "ca11dc44-2a45-4582-adf5-114c6b9ca59e",
   "metadata": {
    "id": "ca11dc44-2a45-4582-adf5-114c6b9ca59e"
   },
   "source": [
    "# The basis concept: Dataset\n",
    "\n",
    "We here see the main concept of the remotemanager spirit. A function can ran multiple times on a remote machine with different values of its arguments.\n",
    "\n",
    "This will be useful to control the running of different calculations of more complex data submissions.\n",
    "\n",
    "As basic setup is done, lets create the Dataset"
   ]
  },
  {
   "cell_type": "code",
   "execution_count": 4,
   "id": "94e571e5-b718-4b23-9718-79805931f4d6",
   "metadata": {
    "colab": {
     "base_uri": "https://localhost:8080/"
    },
    "id": "94e571e5-b718-4b23-9718-79805931f4d6",
    "outputId": "a6688ba0-bd89-42f3-c61a-3b1de59274f8"
   },
   "outputs": [],
   "source": [
    "ds = Dataset(function=basic_function,\n",
    "             url=url,\n",
    "             # script='module load Python', # we need python to execute a python function, such script loads it  \n",
    "             # serialiser=serialjson(),  # needs updating as yaml isn't available\n",
    "            )"
   ]
  },
  {
   "cell_type": "markdown",
   "id": "bb1e9979-0ca0-4797-b601-797d6147a886",
   "metadata": {
    "id": "bb1e9979-0ca0-4797-b601-797d6147a886"
   },
   "source": [
    "The Dataset stores the _function_, the Runners store the _arguments_\n",
    "\n",
    "Right now all we have is a function, need to create the args:"
   ]
  },
  {
   "cell_type": "code",
   "execution_count": 5,
   "id": "26424ae4-3d83-444f-b652-4f44a07847db",
   "metadata": {
    "id": "26424ae4-3d83-444f-b652-4f44a07847db"
   },
   "outputs": [],
   "source": [
    "values = [1, 3, 7, 50]\n",
    "\n",
    "for val in values:\n",
    "    ds.append_run(args={'inp': val})"
   ]
  },
  {
   "cell_type": "markdown",
   "id": "6874ea33-db94-4860-bfbd-056866a77d80",
   "metadata": {
    "id": "6874ea33-db94-4860-bfbd-056866a77d80"
   },
   "source": [
    "Now we have all the material required:\n",
    "\n",
    "- Function\n",
    "- Connection\n",
    "- Arguments\n",
    "\n",
    "Time to run:"
   ]
  },
  {
   "cell_type": "markdown",
   "id": "e53fe8a3-c462-44e2-af32-3fd1541dc694",
   "metadata": {},
   "source": [
    "Here we run the dataset.\n",
    "\n",
    "**WARNING**: If you have timeout problems in this part, try to increase the `timeout` value in the URL class attributes."
   ]
  },
  {
   "cell_type": "code",
   "execution_count": 6,
   "id": "e91542de-2b2c-463b-889d-73e60a874ece",
   "metadata": {
    "id": "e91542de-2b2c-463b-889d-73e60a874ece"
   },
   "outputs": [],
   "source": [
    "#ds.url.timeout = 120\n",
    "#ds.url.max_timeouts = 4\n",
    "ds.run(force=True)"
   ]
  },
  {
   "cell_type": "markdown",
   "id": "f8ce4066-b85f-4638-8e29-1b7ebbd985e8",
   "metadata": {
    "id": "f8ce4066-b85f-4638-8e29-1b7ebbd985e8"
   },
   "source": [
    "The below cell is useful to wait on a run function, there are two sections to it:\n",
    "\n",
    "### `print(ds.run_cmds)`\n",
    "\n",
    "This checks the commands that were used to launch the command were okay. If there was any errors, you'll see them here.\n",
    "\n",
    "### `while not ds.all_finished: ...`\n",
    "\n",
    "This block waits for the dataset to be completed. `Dataset.all_finished` only returns `True` when all the runners are completed.\n",
    "\n",
    "Note: You can also use `Dataset.is_finished` to see the state on a per-runner basis.\n",
    "\n",
    "**WARNING (for the exercise)**: If you have an error like 'python not found' here, define a script header in the dataset."
   ]
  },
  {
   "cell_type": "code",
   "execution_count": 7,
   "id": "925e82a6-3e9f-44c6-af0d-5eb72dd81d0e",
   "metadata": {
    "colab": {
     "base_uri": "https://localhost:8080/"
    },
    "id": "925e82a6-3e9f-44c6-af0d-5eb72dd81d0e",
    "outputId": "0a9e874a-0c9a-4b01-bee2-caa7850d0eeb"
   },
   "outputs": [
    {
     "name": "stdout",
     "output_type": "stream",
     "text": [
      "[]\n"
     ]
    }
   ],
   "source": [
    "print(ds.run_cmds)\n",
    "\n",
    "import time\n",
    "while not ds.all_finished:\n",
    "    print('dataset not finished yet, sleeping for 1s')\n",
    "    time.sleep(1)"
   ]
  },
  {
   "cell_type": "markdown",
   "id": "f93b41cb-36ef-41c5-88b7-ea9e9caeb12c",
   "metadata": {
    "id": "f93b41cb-36ef-41c5-88b7-ea9e9caeb12c"
   },
   "source": [
    "If we've made it through the wait block then we must have results, let's fetch them:"
   ]
  },
  {
   "cell_type": "code",
   "execution_count": 8,
   "id": "3a6524f7-fb15-4a7c-81cb-b9899aed564c",
   "metadata": {
    "id": "3a6524f7-fb15-4a7c-81cb-b9899aed564c"
   },
   "outputs": [],
   "source": [
    "ds.fetch_results()"
   ]
  },
  {
   "cell_type": "markdown",
   "id": "d595829e-be34-48d7-ba04-3f43114fd814",
   "metadata": {
    "id": "d595829e-be34-48d7-ba04-3f43114fd814"
   },
   "source": [
    "Now they're fetched, we can access them via the `results` property without having to talk to the remote again:"
   ]
  },
  {
   "cell_type": "code",
   "execution_count": 9,
   "id": "68b0233b-b775-4b17-9f1e-ec7f59d6816a",
   "metadata": {
    "colab": {
     "base_uri": "https://localhost:8080/"
    },
    "id": "68b0233b-b775-4b17-9f1e-ec7f59d6816a",
    "outputId": "7db7cbaf-5a54-4499-976a-b0ef6f8e1922"
   },
   "outputs": [
    {
     "data": {
      "text/plain": [
       "[1, 9, 49, 2500]"
      ]
     },
     "execution_count": 9,
     "metadata": {},
     "output_type": "execute_result"
    }
   ],
   "source": [
    "ds.results"
   ]
  },
  {
   "cell_type": "code",
   "execution_count": 10,
   "id": "efc369c3-77de-4250-becb-8e2c66b9d242",
   "metadata": {
    "colab": {
     "base_uri": "https://localhost:8080/"
    },
    "id": "efc369c3-77de-4250-becb-8e2c66b9d242",
    "outputId": "d874ed79-e34e-4005-f2d1-8337d9e6ae76"
   },
   "outputs": [
    {
     "data": {
      "text/plain": [
       "{'2022-11-16 11:44:19/0': 'created',\n",
       " '2022-11-16 11:49:34/0': 'submitted',\n",
       " '2022-11-16 12:45:25/0': 'submitted',\n",
       " '2022-11-16 12:59:01/0': 'submitted',\n",
       " '2022-11-16 13:01:23/0': 'submitted',\n",
       " '2022-11-16 13:04:30/0': 'submitted',\n",
       " '2022-11-16 14:30:01/0': 'submitted',\n",
       " '2022-11-16 14:30:39/0': 'resultfile created remotely',\n",
       " '2022-11-16 14:32:24/0': 'completed'}"
      ]
     },
     "execution_count": 10,
     "metadata": {},
     "output_type": "execute_result"
    }
   ],
   "source": [
    "ds.runners[0].history"
   ]
  },
  {
   "cell_type": "markdown",
   "id": "gUBo01R0MI62",
   "metadata": {
    "id": "gUBo01R0MI62"
   },
   "source": [
    "# Exercise\n",
    "Run this simple function on vega.\n",
    "Change the URL to `vega` (it should be enough to put in the URL command the same host you put for your `ssh` connection - e.g. `ssh vega`).\n",
    "Pay attention to the various steps of the procedure.\n",
    "\n",
    "**Important**: contact us in case you are using a setup that would not work for the excercise. You can run the following tutorials also on google colab in case there are difficulties in installing a jupyter notebook environment on your workstation."
   ]
  }
 ],
 "metadata": {
  "colab": {
   "provenance": []
  },
  "kernelspec": {
   "display_name": "Python 3 (ipykernel)",
   "language": "python",
   "name": "python3"
  },
  "language_info": {
   "codemirror_mode": {
    "name": "ipython",
    "version": 3
   },
   "file_extension": ".py",
   "mimetype": "text/x-python",
   "name": "python",
   "nbconvert_exporter": "python",
   "pygments_lexer": "ipython3",
   "version": "3.9.7"
  }
 },
 "nbformat": 4,
 "nbformat_minor": 5
}
