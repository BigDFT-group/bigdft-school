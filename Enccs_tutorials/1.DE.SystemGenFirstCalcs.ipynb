{
 "cells": [
  {
   "cell_type": "markdown",
   "id": "1c5b174b",
   "metadata": {},
   "source": [
    "# Introductory PyBigDFT tour - Basic functionalities and first calculations\n",
    "We start here by presenting a walkthrough overview of using the PyBigDFT library to set up and run BigDFT calculations using Python.\n",
    "\n",
    "If you have installed from source, you should make sure you have setup the proper environment variables using the following command:\n",
    "\n",
    "```\n",
    "source install/bin/bigdftvars.sh\n",
    "```\n",
    "\n",
    "For this tutorial, we have to ensure at least the installation of the bigdft client."
   ]
  },
  {
   "cell_type": "code",
   "execution_count": 1,
   "id": "7i2e9d3pMW7j",
   "metadata": {
    "cellView": "form",
    "id": "7i2e9d3pMW7j"
   },
   "outputs": [],
   "source": [
    "#This is here for testing purpose on my laptop. Remove and insert proper instructions to install/set up the client\n",
    "import sys\n",
    "sys.path.insert(0,'/Users/martinastella/bigdft-suite/Build/install/lib/python3.9/site-packages')\n",
    "#install = \"client (Google drive)\" #@param [\"full_suite\", \"client (Google drive)\", \"client\"]\n",
    "#install_var=install\n",
    "#!wget https://gitlab.com/luigigenovese/bigdft-school/-/raw/main/packaging/install.py &> /dev/null\n",
    "#args={'locally': True} if install == 'client' else {}\n",
    "#import install\n",
    "#getattr(install,install_var.split()[0])(**args)"
   ]
  },
  {
   "cell_type": "code",
   "execution_count": 2,
   "id": "0b4fa359",
   "metadata": {},
   "outputs": [],
   "source": [
    "#This needs to be commented in once on Colab\n",
    "# we also need to install the py3dmol package in this case\n",
    "#install.packages('py3Dmol')\n"
   ]
  },
  {
   "cell_type": "markdown",
   "id": "lasting-luxury",
   "metadata": {
    "id": "lasting-luxury"
   },
   "source": [
    "# System Generation\n",
    "In this first overview, we will introduce the data structures available in PyBigDFT for creating and manipulating the systems we want to study (whether molecular or solid state). "
   ]
  },
  {
   "cell_type": "markdown",
   "id": "precise-parish",
   "metadata": {
    "id": "precise-parish"
   },
   "source": [
    "## 1) Atom Class\n",
    "Any system we want to study is going to be made up of atoms. Considering the features available in Python, the best way to store information about atoms is a dictonary (`dict`), which are serializable in human readable formats like json or yaml. For example, in BigDFT, we use yaml dictonaries. "
   ]
  },
  {
   "cell_type": "code",
   "execution_count": 3,
   "id": "incomplete-chester",
   "metadata": {
    "colab": {
     "base_uri": "https://localhost:8080/"
    },
    "id": "incomplete-chester",
    "outputId": "417f4405-e73b-46e8-e8b3-de1bc66afb87"
   },
   "outputs": [
    {
     "name": "stdout",
     "output_type": "stream",
     "text": [
      "r:\n",
      "- 1\n",
      "- 0\n",
      "- 0\n",
      "sym: H\n",
      "units: angstroem\n",
      "\n"
     ]
    }
   ],
   "source": [
    "from yaml import dump\n",
    "datm = {\"sym\": \"H\", \"r\": [1, 0, 0], \"units\": \"angstroem\"}\n",
    "print(dump(datm))"
   ]
  },
  {
   "cell_type": "markdown",
   "id": "regulated-flashing",
   "metadata": {
    "id": "regulated-flashing"
   },
   "source": [
    "Nonetheless, just manipulating a `dict` by itself is error prone, and you might want some extra helpful subroutines. For these reasons, we've wrapped up a `dict` in the Atom class."
   ]
  },
  {
   "cell_type": "code",
   "execution_count": 4,
   "id": "undefined-closing",
   "metadata": {
    "colab": {
     "base_uri": "https://localhost:8080/"
    },
    "id": "undefined-closing",
    "outputId": "89c74dcd-405a-45ae-bc4f-df55be4c58e0"
   },
   "outputs": [
    {
     "name": "stdout",
     "output_type": "stream",
     "text": [
      "!!python/object:BigDFT.Atoms.Atom\n",
      "store:\n",
      "  H:\n",
      "  - 1\n",
      "  - 0\n",
      "  - 0\n",
      "  units: angstroem\n",
      "\n"
     ]
    }
   ],
   "source": [
    "from BigDFT.Atoms import Atom\n",
    "atom = Atom(datm)\n",
    "# the following also works\n",
    "atom = Atom({\"sym\": \"H\", \"r\": [1, 0, 0], \"units\": \"angstroem\"})\n",
    "atom = Atom({\"H\": [1, 0, 0], \"units\": \"angstroem\"})\n",
    "print(dump(atom))"
   ]
  },
  {
   "cell_type": "markdown",
   "id": "recognized-collapse",
   "metadata": {
    "id": "recognized-collapse"
   },
   "source": [
    "Some of in-built subroutines for Atom class manipulation are demonstrated below."
   ]
  },
  {
   "cell_type": "code",
   "execution_count": 5,
   "id": "silver-composer",
   "metadata": {
    "colab": {
     "base_uri": "https://localhost:8080/"
    },
    "id": "silver-composer",
    "outputId": "d6bb8ac4-4db2-4022-8bcf-e25cf2a34ac1"
   },
   "outputs": [
    {
     "name": "stdout",
     "output_type": "stream",
     "text": [
      "H\n",
      "1\n",
      "[1.0, 0.0, 0.0]\n",
      "[1.8897261245650618, 0.0, 0.0]\n"
     ]
    }
   ],
   "source": [
    "print(atom.sym)\n",
    "print(atom.atomic_number)\n",
    "print(atom.get_position(\"angstroem\"))\n",
    "print(atom.get_position(\"bohr\"))"
   ]
  },
  {
   "cell_type": "markdown",
   "id": "accurate-tyler",
   "metadata": {
    "id": "accurate-tyler"
   },
   "source": [
    "With this approach, we nonetheless retain the flexibility of a `dict`."
   ]
  },
  {
   "cell_type": "code",
   "execution_count": 6,
   "id": "everyday-guyana",
   "metadata": {
    "colab": {
     "base_uri": "https://localhost:8080/"
    },
    "id": "everyday-guyana",
    "outputId": "22284e16-068e-4fcd-a909-69a1f516248a"
   },
   "outputs": [
    {
     "name": "stdout",
     "output_type": "stream",
     "text": [
      "tutorial\n",
      "H [1, 0, 0]\n",
      "units angstroem\n",
      "source tutorial\n"
     ]
    }
   ],
   "source": [
    "atom[\"source\"] = \"tutorial\"\n",
    "print(atom[\"source\"])\n",
    "for k, v in atom.items():\n",
    "    print(k, v)"
   ]
  },
  {
   "cell_type": "markdown",
   "id": "postal-blackjack",
   "metadata": {
    "id": "postal-blackjack"
   },
   "source": [
    "## 2) Fragment Class\n",
    "We won't do many calculations involving a single atom, instead we want to put together groups of atoms. In this case, we will use a list as our model data structure, with the wrapper class refered to as a `Fragment`. "
   ]
  },
  {
   "cell_type": "code",
   "execution_count": 7,
   "id": "shaped-institution",
   "metadata": {
    "id": "shaped-institution"
   },
   "outputs": [],
   "source": [
    "atm1 = Atom({\"sym\": \"O\", \"r\": [2.3229430273, 1.3229430273, 1.7139430273], \"units\": \"angstroem\"})\n",
    "atm2 = Atom({\"sym\": \"H\", \"r\": [2.3229430273, 2.0801430273, 1.1274430273], \"units\": \"angstroem\"})\n",
    "atm3 = Atom({\"sym\": \"H\", \"r\": [2.3229430273, 0.5657430273000001, 1.1274430273], \"units\": \"angstroem\"})"
   ]
  },
  {
   "cell_type": "code",
   "execution_count": 8,
   "id": "killing-keyboard",
   "metadata": {
    "colab": {
     "base_uri": "https://localhost:8080/"
    },
    "id": "killing-keyboard",
    "outputId": "26cc5015-d3e3-40d2-915b-06429eeadbab"
   },
   "outputs": [
    {
     "name": "stdout",
     "output_type": "stream",
     "text": [
      "3\n",
      "[4.38972612 2.5        2.5       ]\n"
     ]
    }
   ],
   "source": [
    "from BigDFT.Fragments import Fragment\n",
    "frag1 = Fragment([atm1, atm2, atm3])\n",
    "print(len(frag1))\n",
    "print(frag1.centroid)"
   ]
  },
  {
   "cell_type": "markdown",
   "id": "unable-behalf",
   "metadata": {
    "id": "unable-behalf"
   },
   "source": [
    "It's also possible to build up a fragment in a more step by step process."
   ]
  },
  {
   "cell_type": "code",
   "execution_count": 9,
   "id": "burning-muscle",
   "metadata": {
    "id": "burning-muscle"
   },
   "outputs": [],
   "source": [
    "frag1 = Fragment()\n",
    "frag1.append(atm1)\n",
    "frag1 += Fragment([atm2])\n",
    "frag1.extend(Fragment([atm3]))"
   ]
  },
  {
   "cell_type": "markdown",
   "id": "danish-potato",
   "metadata": {
    "id": "danish-potato"
   },
   "source": [
    "We added features to translate and rotate a fragment."
   ]
  },
  {
   "cell_type": "code",
   "execution_count": 10,
   "id": "pregnant-experience",
   "metadata": {
    "id": "pregnant-experience"
   },
   "outputs": [],
   "source": [
    "from copy import deepcopy\n",
    "frag2 = deepcopy(frag1)\n",
    "frag2.translate([10, 0, 0])\n",
    "frag2.rotate(x=90, units=\"degrees\")"
   ]
  },
  {
   "cell_type": "code",
   "execution_count": 11,
   "id": "selective-packaging",
   "metadata": {
    "colab": {
     "base_uri": "https://localhost:8080/"
    },
    "id": "selective-packaging",
    "outputId": "1a7fdfc6-6a91-4421-8760-5f6fb8eaee84"
   },
   "outputs": [
    {
     "name": "stdout",
     "output_type": "stream",
     "text": [
      "!!python/object:BigDFT.Fragments.Fragment\n",
      "atoms:\n",
      "- !!python/object:BigDFT.Atoms.Atom\n",
      "  store:\n",
      "    r:\n",
      "    - 14.389726124565062\n",
      "    - 1.7611170852950608\n",
      "    - 2.499999999999999\n",
      "    sym: O\n",
      "    units: bohr\n",
      "- !!python/object:BigDFT.Atoms.Atom\n",
      "  store:\n",
      "    r:\n",
      "    - 14.389726124565062\n",
      "    - 2.86944145735247\n",
      "    - 3.930900621520664\n",
      "    sym: H\n",
      "    units: bohr\n",
      "- !!python/object:BigDFT.Atoms.Atom\n",
      "  store:\n",
      "    r:\n",
      "    - 14.389726124565062\n",
      "    - 2.86944145735247\n",
      "    - 1.0690993784793343\n",
      "    sym: H\n",
      "    units: bohr\n",
      "conmat: null\n",
      "frozen: null\n",
      "q1: null\n",
      "q2: null\n",
      "\n"
     ]
    }
   ],
   "source": [
    "print(dump(frag2))"
   ]
  },
  {
   "cell_type": "markdown",
   "id": "boxed-valuable",
   "metadata": {
    "id": "boxed-valuable"
   },
   "source": [
    "## 3) System Class\n",
    "Many electronic structure codes top off at the list of atoms level, but in PyBigDFT we go one step further. At the top, we have the `System` class which is again based on a `dict`."
   ]
  },
  {
   "cell_type": "code",
   "execution_count": 12,
   "id": "common-result",
   "metadata": {
    "id": "common-result"
   },
   "outputs": [],
   "source": [
    "from BigDFT.Systems import System\n",
    "sys = System()\n",
    "sys[\"WAT:0\"] = frag1\n",
    "sys[\"WAT:1\"] = frag2"
   ]
  },
  {
   "cell_type": "code",
   "execution_count": 13,
   "id": "coastal-salvation",
   "metadata": {
    "colab": {
     "base_uri": "https://localhost:8080/"
    },
    "id": "coastal-salvation",
    "outputId": "83134285-f847-4b12-a1e1-b9caa6130a61"
   },
   "outputs": [
    {
     "name": "stdout",
     "output_type": "stream",
     "text": [
      "!!python/object:BigDFT.Systems.System\n",
      "cell: !!python/object:BigDFT.UnitCells.UnitCell\n",
      "  cell:\n",
      "  - - .inf\n",
      "    - 0\n",
      "    - 0\n",
      "  - - 0\n",
      "    - .inf\n",
      "    - 0\n",
      "  - - 0\n",
      "    - 0\n",
      "    - .inf\n",
      "conmat: null\n",
      "store:\n",
      "  WAT:0: !!python/object:BigDFT.Fragments.Fragment\n",
      "    atoms:\n",
      "    - !!python/object:BigDFT.Atoms.Atom\n",
      "      store:\n",
      "        r:\n",
      "        - 2.3229430273\n",
      "        - 1.3229430273\n",
      "        - 1.7139430273\n",
      "        sym: O\n",
      "        units: angstroem\n",
      "    - !!python/object:BigDFT.Atoms.Atom\n",
      "      store:\n",
      "        r:\n",
      "        - 2.3229430273\n",
      "        - 2.0801430273\n",
      "        - 1.1274430273\n",
      "        sym: H\n",
      "        units: angstroem\n",
      "    - !!python/object:BigDFT.Atoms.Atom\n",
      "      store:\n",
      "        r:\n",
      "        - 2.3229430273\n",
      "        - 0.5657430273000001\n",
      "        - 1.1274430273\n",
      "        sym: H\n",
      "        units: angstroem\n",
      "    conmat: null\n",
      "    frozen: null\n",
      "    q1: null\n",
      "    q2: null\n",
      "  WAT:1: !!python/object:BigDFT.Fragments.Fragment\n",
      "    atoms:\n",
      "    - !!python/object:BigDFT.Atoms.Atom\n",
      "      store:\n",
      "        r:\n",
      "        - 14.389726124565062\n",
      "        - 1.7611170852950608\n",
      "        - 2.499999999999999\n",
      "        sym: O\n",
      "        units: bohr\n",
      "    - !!python/object:BigDFT.Atoms.Atom\n",
      "      store:\n",
      "        r:\n",
      "        - 14.389726124565062\n",
      "        - 2.86944145735247\n",
      "        - 3.930900621520664\n",
      "        sym: H\n",
      "        units: bohr\n",
      "    - !!python/object:BigDFT.Atoms.Atom\n",
      "      store:\n",
      "        r:\n",
      "        - 14.389726124565062\n",
      "        - 2.86944145735247\n",
      "        - 1.0690993784793343\n",
      "        sym: H\n",
      "        units: bohr\n",
      "    conmat: null\n",
      "    frozen: null\n",
      "    q1: null\n",
      "    q2: null\n",
      "\n"
     ]
    }
   ],
   "source": [
    "print(dump(sys))"
   ]
  },
  {
   "cell_type": "markdown",
   "id": "relevant-ottawa",
   "metadata": {
    "id": "relevant-ottawa"
   },
   "source": [
    "In principle, any dictionary key is fine to use for our `System` class, but in practice we follow the convention of giving it a name and identifier separated by a colon. To summarize the hierarchy, let's iterate over our `System`."
   ]
  },
  {
   "cell_type": "code",
   "execution_count": 14,
   "id": "tropical-photography",
   "metadata": {
    "colab": {
     "base_uri": "https://localhost:8080/"
    },
    "id": "tropical-photography",
    "outputId": "cf0b7b52-38ff-47b4-8651-7d3ae7c1d468"
   },
   "outputs": [
    {
     "name": "stdout",
     "output_type": "stream",
     "text": [
      "WAT:0\n",
      "{'sym': 'O', 'r': [2.3229430273, 1.3229430273, 1.7139430273], 'units': 'angstroem'}\n",
      "{'sym': 'H', 'r': [2.3229430273, 2.0801430273, 1.1274430273], 'units': 'angstroem'}\n",
      "{'sym': 'H', 'r': [2.3229430273, 0.5657430273000001, 1.1274430273], 'units': 'angstroem'}\n",
      "WAT:1\n",
      "{'sym': 'O', 'r': [14.389726124565062, 1.7611170852950608, 2.499999999999999], 'units': 'bohr'}\n",
      "{'sym': 'H', 'r': [14.389726124565062, 2.86944145735247, 3.930900621520664], 'units': 'bohr'}\n",
      "{'sym': 'H', 'r': [14.389726124565062, 2.86944145735247, 1.0690993784793343], 'units': 'bohr'}\n"
     ]
    }
   ],
   "source": [
    "for fragid, frag in sys.items():\n",
    "    print(fragid)\n",
    "    for atm in frag:\n",
    "        print(dict(atm))"
   ]
  },
  {
   "cell_type": "markdown",
   "id": "growing-madrid",
   "metadata": {
    "id": "growing-madrid"
   },
   "source": [
    "Now that we've reached the top level, let's visualize the system we have built."
   ]
  },
  {
   "cell_type": "code",
   "execution_count": 15,
   "id": "liable-conclusion",
   "metadata": {
    "colab": {
     "base_uri": "https://localhost:8080/",
     "height": 317
    },
    "id": "liable-conclusion",
    "outputId": "2985961e-872d-4ae9-8150-89992622e76e"
   },
   "outputs": [
    {
     "data": {
      "application/3dmoljs_load.v0": "<div id=\"3dmolviewer_16684380692284899\"  style=\"position: relative; width: 400px; height: 300px\">\n        <p id=\"3dmolwarning_16684380692284899\" style=\"background-color:#ffcccc;color:black\">You appear to be running in JupyterLab (or JavaScript failed to load for some other reason).  You need to install the 3dmol extension: <br>\n        <tt>jupyter labextension install jupyterlab_3dmol</tt></p>\n        </div>\n<script>\n\nvar loadScriptAsync = function(uri){\n  return new Promise((resolve, reject) => {\n    var tag = document.createElement('script');\n    tag.src = uri;\n    tag.async = true;\n    tag.onload = () => {\n      resolve();\n    };\n  var firstScriptTag = document.getElementsByTagName('script')[0];\n  firstScriptTag.parentNode.insertBefore(tag, firstScriptTag);\n});\n};\n\nif(typeof $3Dmolpromise === 'undefined') {\n$3Dmolpromise = null;\n  $3Dmolpromise = loadScriptAsync('https://cdn.jsdelivr.net/npm/3dmol@latest/build/3Dmol-min.min.js');\n}\n\nvar viewer_16684380692284899 = null;\nvar warn = document.getElementById(\"3dmolwarning_16684380692284899\");\nif(warn) {\n    warn.parentNode.removeChild(warn);\n}\n$3Dmolpromise.then(function() {\nvar viewergrid_16684380692284899 = null;\nviewergrid_16684380692284899 = $3Dmol.createViewerGrid($(\"#3dmolviewer_16684380692284899\"),{rows: 1, cols: 1, control_all: false},{backgroundColor:\"white\"});\nviewer_16684380692284899 = viewergrid_16684380692284899[0][0];\nviewergrid_16684380692284899[0][0].zoomTo();\tviewergrid_16684380692284899[0][0].addModelsAsFrames(\"MODEL 0\\nHETATM    1 O    WAT A   0       2.323   1.323   1.714  1.00  0.00       B   O  \\nHETATM    2 H    WAT A   0       2.323   2.080   1.127  1.00  0.00       B   H  \\nHETATM    3 H    WAT A   0       2.323   0.566   1.127  1.00  0.00       B   H  \\nHETATM    4 O    WAT A   1       7.615   0.932   1.323  1.00  0.00       B   O  \\nHETATM    5 H    WAT A   1       7.615   1.518   2.080  1.00  0.00       B   H  \\nHETATM    6 H    WAT A   1       7.615   1.518   0.566  1.00  0.00       B   H  \\nENDMDL\\n\",\"pdb\",{\"keepH\": \"true\"});\n\tviewergrid_16684380692284899[0][0].setStyle({\"model\": -1},{\"line\": {\"color\": \"black\"}});\n\tviewergrid_16684380692284899[0][0].addModelsAsFrames(\"MODEL 0\\nHETATM    1 O    WAT A   0       2.323   1.323   1.714  1.00  0.00       B   O  \\nHETATM    2 H    WAT A   0       2.323   2.080   1.127  1.00  0.00       B   H  \\nHETATM    3 H    WAT A   0       2.323   0.566   1.127  1.00  0.00       B   H  \\nHETATM    4 O    WAT A   1       7.615   0.932   1.323  1.00  0.00       B   O  \\nHETATM    5 H    WAT A   1       7.615   1.518   2.080  1.00  0.00       B   H  \\nHETATM    6 H    WAT A   1       7.615   1.518   0.566  1.00  0.00       B   H  \\nENDMDL\\n\",\"pdb\",{\"keepH\": \"true\"});\n\tviewergrid_16684380692284899[0][0].setStyle({\"model\": -1, \"serial\": 1},{\"sphere\": {\"scale\": 0.2, \"color\": \"#800000\"}});\n\tviewergrid_16684380692284899[0][0].addModelsAsFrames(\"MODEL 0\\nHETATM    1 O    WAT A   0       2.323   1.323   1.714  1.00  0.00       B   O  \\nHETATM    2 H    WAT A   0       2.323   2.080   1.127  1.00  0.00       B   H  \\nHETATM    3 H    WAT A   0       2.323   0.566   1.127  1.00  0.00       B   H  \\nHETATM    4 O    WAT A   1       7.615   0.932   1.323  1.00  0.00       B   O  \\nHETATM    5 H    WAT A   1       7.615   1.518   2.080  1.00  0.00       B   H  \\nHETATM    6 H    WAT A   1       7.615   1.518   0.566  1.00  0.00       B   H  \\nENDMDL\\n\",\"pdb\",{\"keepH\": \"true\"});\n\tviewergrid_16684380692284899[0][0].setStyle({\"model\": -1, \"serial\": 2},{\"sphere\": {\"scale\": 0.2, \"color\": \"#800000\"}});\n\tviewergrid_16684380692284899[0][0].addModelsAsFrames(\"MODEL 0\\nHETATM    1 O    WAT A   0       2.323   1.323   1.714  1.00  0.00       B   O  \\nHETATM    2 H    WAT A   0       2.323   2.080   1.127  1.00  0.00       B   H  \\nHETATM    3 H    WAT A   0       2.323   0.566   1.127  1.00  0.00       B   H  \\nHETATM    4 O    WAT A   1       7.615   0.932   1.323  1.00  0.00       B   O  \\nHETATM    5 H    WAT A   1       7.615   1.518   2.080  1.00  0.00       B   H  \\nHETATM    6 H    WAT A   1       7.615   1.518   0.566  1.00  0.00       B   H  \\nENDMDL\\n\",\"pdb\",{\"keepH\": \"true\"});\n\tviewergrid_16684380692284899[0][0].setStyle({\"model\": -1, \"serial\": 3},{\"sphere\": {\"scale\": 0.2, \"color\": \"#800000\"}});\n\tviewergrid_16684380692284899[0][0].addModelsAsFrames(\"MODEL 0\\nHETATM    1 O    WAT A   0       2.323   1.323   1.714  1.00  0.00       B   O  \\nHETATM    2 H    WAT A   0       2.323   2.080   1.127  1.00  0.00       B   H  \\nHETATM    3 H    WAT A   0       2.323   0.566   1.127  1.00  0.00       B   H  \\nHETATM    4 O    WAT A   1       7.615   0.932   1.323  1.00  0.00       B   O  \\nHETATM    5 H    WAT A   1       7.615   1.518   2.080  1.00  0.00       B   H  \\nHETATM    6 H    WAT A   1       7.615   1.518   0.566  1.00  0.00       B   H  \\nENDMDL\\n\",\"pdb\",{\"keepH\": \"true\"});\n\tviewergrid_16684380692284899[0][0].setStyle({\"model\": -1},{\"line\": {\"color\": \"black\"}});\n\tviewergrid_16684380692284899[0][0].addModelsAsFrames(\"MODEL 0\\nHETATM    1 O    WAT A   0       2.323   1.323   1.714  1.00  0.00       B   O  \\nHETATM    2 H    WAT A   0       2.323   2.080   1.127  1.00  0.00       B   H  \\nHETATM    3 H    WAT A   0       2.323   0.566   1.127  1.00  0.00       B   H  \\nHETATM    4 O    WAT A   1       7.615   0.932   1.323  1.00  0.00       B   O  \\nHETATM    5 H    WAT A   1       7.615   1.518   2.080  1.00  0.00       B   H  \\nHETATM    6 H    WAT A   1       7.615   1.518   0.566  1.00  0.00       B   H  \\nENDMDL\\n\",\"pdb\",{\"keepH\": \"true\"});\n\tviewergrid_16684380692284899[0][0].setStyle({\"model\": -1, \"serial\": 4},{\"sphere\": {\"scale\": 0.2, \"color\": \"#00FF40\"}});\n\tviewergrid_16684380692284899[0][0].addModelsAsFrames(\"MODEL 0\\nHETATM    1 O    WAT A   0       2.323   1.323   1.714  1.00  0.00       B   O  \\nHETATM    2 H    WAT A   0       2.323   2.080   1.127  1.00  0.00       B   H  \\nHETATM    3 H    WAT A   0       2.323   0.566   1.127  1.00  0.00       B   H  \\nHETATM    4 O    WAT A   1       7.615   0.932   1.323  1.00  0.00       B   O  \\nHETATM    5 H    WAT A   1       7.615   1.518   2.080  1.00  0.00       B   H  \\nHETATM    6 H    WAT A   1       7.615   1.518   0.566  1.00  0.00       B   H  \\nENDMDL\\n\",\"pdb\",{\"keepH\": \"true\"});\n\tviewergrid_16684380692284899[0][0].setStyle({\"model\": -1, \"serial\": 5},{\"sphere\": {\"scale\": 0.2, \"color\": \"#00FF40\"}});\n\tviewergrid_16684380692284899[0][0].addModelsAsFrames(\"MODEL 0\\nHETATM    1 O    WAT A   0       2.323   1.323   1.714  1.00  0.00       B   O  \\nHETATM    2 H    WAT A   0       2.323   2.080   1.127  1.00  0.00       B   H  \\nHETATM    3 H    WAT A   0       2.323   0.566   1.127  1.00  0.00       B   H  \\nHETATM    4 O    WAT A   1       7.615   0.932   1.323  1.00  0.00       B   O  \\nHETATM    5 H    WAT A   1       7.615   1.518   2.080  1.00  0.00       B   H  \\nHETATM    6 H    WAT A   1       7.615   1.518   0.566  1.00  0.00       B   H  \\nENDMDL\\n\",\"pdb\",{\"keepH\": \"true\"});\n\tviewergrid_16684380692284899[0][0].setStyle({\"model\": -1, \"serial\": 6},{\"sphere\": {\"scale\": 0.2, \"color\": \"#00FF40\"}});\n\tviewergrid_16684380692284899[0][0].addUnitCell({\"model\": -1},{\"box\": {\"color\": \"black\"}, \"alabel\": \"\", \"blabel\": \"\", \"clabel\": \"\"});\n\tviewergrid_16684380692284899[0][0].zoomTo();\nviewergrid_16684380692284899[0][0].render();\n});\n</script>",
      "text/html": [
       "<div id=\"3dmolviewer_16684380692284899\"  style=\"position: relative; width: 400px; height: 300px\">\n",
       "        <p id=\"3dmolwarning_16684380692284899\" style=\"background-color:#ffcccc;color:black\">You appear to be running in JupyterLab (or JavaScript failed to load for some other reason).  You need to install the 3dmol extension: <br>\n",
       "        <tt>jupyter labextension install jupyterlab_3dmol</tt></p>\n",
       "        </div>\n",
       "<script>\n",
       "\n",
       "var loadScriptAsync = function(uri){\n",
       "  return new Promise((resolve, reject) => {\n",
       "    var tag = document.createElement('script');\n",
       "    tag.src = uri;\n",
       "    tag.async = true;\n",
       "    tag.onload = () => {\n",
       "      resolve();\n",
       "    };\n",
       "  var firstScriptTag = document.getElementsByTagName('script')[0];\n",
       "  firstScriptTag.parentNode.insertBefore(tag, firstScriptTag);\n",
       "});\n",
       "};\n",
       "\n",
       "if(typeof $3Dmolpromise === 'undefined') {\n",
       "$3Dmolpromise = null;\n",
       "  $3Dmolpromise = loadScriptAsync('https://cdn.jsdelivr.net/npm/3dmol@latest/build/3Dmol-min.min.js');\n",
       "}\n",
       "\n",
       "var viewer_16684380692284899 = null;\n",
       "var warn = document.getElementById(\"3dmolwarning_16684380692284899\");\n",
       "if(warn) {\n",
       "    warn.parentNode.removeChild(warn);\n",
       "}\n",
       "$3Dmolpromise.then(function() {\n",
       "var viewergrid_16684380692284899 = null;\n",
       "viewergrid_16684380692284899 = $3Dmol.createViewerGrid($(\"#3dmolviewer_16684380692284899\"),{rows: 1, cols: 1, control_all: false},{backgroundColor:\"white\"});\n",
       "viewer_16684380692284899 = viewergrid_16684380692284899[0][0];\n",
       "viewergrid_16684380692284899[0][0].zoomTo();\tviewergrid_16684380692284899[0][0].addModelsAsFrames(\"MODEL 0\\nHETATM    1 O    WAT A   0       2.323   1.323   1.714  1.00  0.00       B   O  \\nHETATM    2 H    WAT A   0       2.323   2.080   1.127  1.00  0.00       B   H  \\nHETATM    3 H    WAT A   0       2.323   0.566   1.127  1.00  0.00       B   H  \\nHETATM    4 O    WAT A   1       7.615   0.932   1.323  1.00  0.00       B   O  \\nHETATM    5 H    WAT A   1       7.615   1.518   2.080  1.00  0.00       B   H  \\nHETATM    6 H    WAT A   1       7.615   1.518   0.566  1.00  0.00       B   H  \\nENDMDL\\n\",\"pdb\",{\"keepH\": \"true\"});\n",
       "\tviewergrid_16684380692284899[0][0].setStyle({\"model\": -1},{\"line\": {\"color\": \"black\"}});\n",
       "\tviewergrid_16684380692284899[0][0].addModelsAsFrames(\"MODEL 0\\nHETATM    1 O    WAT A   0       2.323   1.323   1.714  1.00  0.00       B   O  \\nHETATM    2 H    WAT A   0       2.323   2.080   1.127  1.00  0.00       B   H  \\nHETATM    3 H    WAT A   0       2.323   0.566   1.127  1.00  0.00       B   H  \\nHETATM    4 O    WAT A   1       7.615   0.932   1.323  1.00  0.00       B   O  \\nHETATM    5 H    WAT A   1       7.615   1.518   2.080  1.00  0.00       B   H  \\nHETATM    6 H    WAT A   1       7.615   1.518   0.566  1.00  0.00       B   H  \\nENDMDL\\n\",\"pdb\",{\"keepH\": \"true\"});\n",
       "\tviewergrid_16684380692284899[0][0].setStyle({\"model\": -1, \"serial\": 1},{\"sphere\": {\"scale\": 0.2, \"color\": \"#800000\"}});\n",
       "\tviewergrid_16684380692284899[0][0].addModelsAsFrames(\"MODEL 0\\nHETATM    1 O    WAT A   0       2.323   1.323   1.714  1.00  0.00       B   O  \\nHETATM    2 H    WAT A   0       2.323   2.080   1.127  1.00  0.00       B   H  \\nHETATM    3 H    WAT A   0       2.323   0.566   1.127  1.00  0.00       B   H  \\nHETATM    4 O    WAT A   1       7.615   0.932   1.323  1.00  0.00       B   O  \\nHETATM    5 H    WAT A   1       7.615   1.518   2.080  1.00  0.00       B   H  \\nHETATM    6 H    WAT A   1       7.615   1.518   0.566  1.00  0.00       B   H  \\nENDMDL\\n\",\"pdb\",{\"keepH\": \"true\"});\n",
       "\tviewergrid_16684380692284899[0][0].setStyle({\"model\": -1, \"serial\": 2},{\"sphere\": {\"scale\": 0.2, \"color\": \"#800000\"}});\n",
       "\tviewergrid_16684380692284899[0][0].addModelsAsFrames(\"MODEL 0\\nHETATM    1 O    WAT A   0       2.323   1.323   1.714  1.00  0.00       B   O  \\nHETATM    2 H    WAT A   0       2.323   2.080   1.127  1.00  0.00       B   H  \\nHETATM    3 H    WAT A   0       2.323   0.566   1.127  1.00  0.00       B   H  \\nHETATM    4 O    WAT A   1       7.615   0.932   1.323  1.00  0.00       B   O  \\nHETATM    5 H    WAT A   1       7.615   1.518   2.080  1.00  0.00       B   H  \\nHETATM    6 H    WAT A   1       7.615   1.518   0.566  1.00  0.00       B   H  \\nENDMDL\\n\",\"pdb\",{\"keepH\": \"true\"});\n",
       "\tviewergrid_16684380692284899[0][0].setStyle({\"model\": -1, \"serial\": 3},{\"sphere\": {\"scale\": 0.2, \"color\": \"#800000\"}});\n",
       "\tviewergrid_16684380692284899[0][0].addModelsAsFrames(\"MODEL 0\\nHETATM    1 O    WAT A   0       2.323   1.323   1.714  1.00  0.00       B   O  \\nHETATM    2 H    WAT A   0       2.323   2.080   1.127  1.00  0.00       B   H  \\nHETATM    3 H    WAT A   0       2.323   0.566   1.127  1.00  0.00       B   H  \\nHETATM    4 O    WAT A   1       7.615   0.932   1.323  1.00  0.00       B   O  \\nHETATM    5 H    WAT A   1       7.615   1.518   2.080  1.00  0.00       B   H  \\nHETATM    6 H    WAT A   1       7.615   1.518   0.566  1.00  0.00       B   H  \\nENDMDL\\n\",\"pdb\",{\"keepH\": \"true\"});\n",
       "\tviewergrid_16684380692284899[0][0].setStyle({\"model\": -1},{\"line\": {\"color\": \"black\"}});\n",
       "\tviewergrid_16684380692284899[0][0].addModelsAsFrames(\"MODEL 0\\nHETATM    1 O    WAT A   0       2.323   1.323   1.714  1.00  0.00       B   O  \\nHETATM    2 H    WAT A   0       2.323   2.080   1.127  1.00  0.00       B   H  \\nHETATM    3 H    WAT A   0       2.323   0.566   1.127  1.00  0.00       B   H  \\nHETATM    4 O    WAT A   1       7.615   0.932   1.323  1.00  0.00       B   O  \\nHETATM    5 H    WAT A   1       7.615   1.518   2.080  1.00  0.00       B   H  \\nHETATM    6 H    WAT A   1       7.615   1.518   0.566  1.00  0.00       B   H  \\nENDMDL\\n\",\"pdb\",{\"keepH\": \"true\"});\n",
       "\tviewergrid_16684380692284899[0][0].setStyle({\"model\": -1, \"serial\": 4},{\"sphere\": {\"scale\": 0.2, \"color\": \"#00FF40\"}});\n",
       "\tviewergrid_16684380692284899[0][0].addModelsAsFrames(\"MODEL 0\\nHETATM    1 O    WAT A   0       2.323   1.323   1.714  1.00  0.00       B   O  \\nHETATM    2 H    WAT A   0       2.323   2.080   1.127  1.00  0.00       B   H  \\nHETATM    3 H    WAT A   0       2.323   0.566   1.127  1.00  0.00       B   H  \\nHETATM    4 O    WAT A   1       7.615   0.932   1.323  1.00  0.00       B   O  \\nHETATM    5 H    WAT A   1       7.615   1.518   2.080  1.00  0.00       B   H  \\nHETATM    6 H    WAT A   1       7.615   1.518   0.566  1.00  0.00       B   H  \\nENDMDL\\n\",\"pdb\",{\"keepH\": \"true\"});\n",
       "\tviewergrid_16684380692284899[0][0].setStyle({\"model\": -1, \"serial\": 5},{\"sphere\": {\"scale\": 0.2, \"color\": \"#00FF40\"}});\n",
       "\tviewergrid_16684380692284899[0][0].addModelsAsFrames(\"MODEL 0\\nHETATM    1 O    WAT A   0       2.323   1.323   1.714  1.00  0.00       B   O  \\nHETATM    2 H    WAT A   0       2.323   2.080   1.127  1.00  0.00       B   H  \\nHETATM    3 H    WAT A   0       2.323   0.566   1.127  1.00  0.00       B   H  \\nHETATM    4 O    WAT A   1       7.615   0.932   1.323  1.00  0.00       B   O  \\nHETATM    5 H    WAT A   1       7.615   1.518   2.080  1.00  0.00       B   H  \\nHETATM    6 H    WAT A   1       7.615   1.518   0.566  1.00  0.00       B   H  \\nENDMDL\\n\",\"pdb\",{\"keepH\": \"true\"});\n",
       "\tviewergrid_16684380692284899[0][0].setStyle({\"model\": -1, \"serial\": 6},{\"sphere\": {\"scale\": 0.2, \"color\": \"#00FF40\"}});\n",
       "\tviewergrid_16684380692284899[0][0].addUnitCell({\"model\": -1},{\"box\": {\"color\": \"black\"}, \"alabel\": \"\", \"blabel\": \"\", \"clabel\": \"\"});\n",
       "\tviewergrid_16684380692284899[0][0].zoomTo();\n",
       "viewergrid_16684380692284899[0][0].render();\n",
       "});\n",
       "</script>"
      ]
     },
     "metadata": {},
     "output_type": "display_data"
    }
   ],
   "source": [
    "_ = sys.display()"
   ]
  },
  {
   "cell_type": "markdown",
   "id": "decimal-costs",
   "metadata": {
    "id": "decimal-costs"
   },
   "source": [
    "The visualization module has identified that there are two separate fragments, and colored them accordingly. Of course if we merged our fragments, the visualization would look different."
   ]
  },
  {
   "cell_type": "code",
   "execution_count": 16,
   "id": "delayed-compact",
   "metadata": {
    "id": "delayed-compact"
   },
   "outputs": [],
   "source": [
    "sys2 = System()\n",
    "sys2[\"COM:0\"] = sum(sys.values())"
   ]
  },
  {
   "cell_type": "code",
   "execution_count": 17,
   "id": "ethical-wiring",
   "metadata": {
    "colab": {
     "base_uri": "https://localhost:8080/",
     "height": 317
    },
    "id": "ethical-wiring",
    "outputId": "a1f4788b-e0ae-46df-b4f4-ad560bb07980"
   },
   "outputs": [
    {
     "data": {
      "application/3dmoljs_load.v0": "<div id=\"3dmolviewer_1668438071943011\"  style=\"position: relative; width: 400px; height: 300px\">\n        <p id=\"3dmolwarning_1668438071943011\" style=\"background-color:#ffcccc;color:black\">You appear to be running in JupyterLab (or JavaScript failed to load for some other reason).  You need to install the 3dmol extension: <br>\n        <tt>jupyter labextension install jupyterlab_3dmol</tt></p>\n        </div>\n<script>\n\nvar loadScriptAsync = function(uri){\n  return new Promise((resolve, reject) => {\n    var tag = document.createElement('script');\n    tag.src = uri;\n    tag.async = true;\n    tag.onload = () => {\n      resolve();\n    };\n  var firstScriptTag = document.getElementsByTagName('script')[0];\n  firstScriptTag.parentNode.insertBefore(tag, firstScriptTag);\n});\n};\n\nif(typeof $3Dmolpromise === 'undefined') {\n$3Dmolpromise = null;\n  $3Dmolpromise = loadScriptAsync('https://cdn.jsdelivr.net/npm/3dmol@latest/build/3Dmol-min.min.js');\n}\n\nvar viewer_1668438071943011 = null;\nvar warn = document.getElementById(\"3dmolwarning_1668438071943011\");\nif(warn) {\n    warn.parentNode.removeChild(warn);\n}\n$3Dmolpromise.then(function() {\nvar viewergrid_1668438071943011 = null;\nviewergrid_1668438071943011 = $3Dmol.createViewerGrid($(\"#3dmolviewer_1668438071943011\"),{rows: 1, cols: 1, control_all: false},{backgroundColor:\"white\"});\nviewer_1668438071943011 = viewergrid_1668438071943011[0][0];\nviewergrid_1668438071943011[0][0].zoomTo();\tviewergrid_1668438071943011[0][0].addModelsAsFrames(\"MODEL 0\\nHETATM    1 O    COM A   0       2.323   1.323   1.714  1.00  0.00       B   O  \\nHETATM    2 H    COM A   0       2.323   2.080   1.127  1.00  0.00       B   H  \\nHETATM    3 H    COM A   0       2.323   0.566   1.127  1.00  0.00       B   H  \\nHETATM    4 O    COM A   0       7.615   0.932   1.323  1.00  0.00       B   O  \\nHETATM    5 H    COM A   0       7.615   1.518   2.080  1.00  0.00       B   H  \\nHETATM    6 H    COM A   0       7.615   1.518   0.566  1.00  0.00       B   H  \\nENDMDL\\n\",\"pdb\",{\"keepH\": \"true\"});\n\tviewergrid_1668438071943011[0][0].setStyle({\"model\": -1},{\"line\": {\"color\": \"black\"}});\n\tviewergrid_1668438071943011[0][0].addModelsAsFrames(\"MODEL 0\\nHETATM    1 O    COM A   0       2.323   1.323   1.714  1.00  0.00       B   O  \\nHETATM    2 H    COM A   0       2.323   2.080   1.127  1.00  0.00       B   H  \\nHETATM    3 H    COM A   0       2.323   0.566   1.127  1.00  0.00       B   H  \\nHETATM    4 O    COM A   0       7.615   0.932   1.323  1.00  0.00       B   O  \\nHETATM    5 H    COM A   0       7.615   1.518   2.080  1.00  0.00       B   H  \\nHETATM    6 H    COM A   0       7.615   1.518   0.566  1.00  0.00       B   H  \\nENDMDL\\n\",\"pdb\",{\"keepH\": \"true\"});\n\tviewergrid_1668438071943011[0][0].setStyle({\"model\": -1, \"serial\": 1},{\"sphere\": {\"scale\": 0.2, \"color\": \"#800000\"}});\n\tviewergrid_1668438071943011[0][0].addModelsAsFrames(\"MODEL 0\\nHETATM    1 O    COM A   0       2.323   1.323   1.714  1.00  0.00       B   O  \\nHETATM    2 H    COM A   0       2.323   2.080   1.127  1.00  0.00       B   H  \\nHETATM    3 H    COM A   0       2.323   0.566   1.127  1.00  0.00       B   H  \\nHETATM    4 O    COM A   0       7.615   0.932   1.323  1.00  0.00       B   O  \\nHETATM    5 H    COM A   0       7.615   1.518   2.080  1.00  0.00       B   H  \\nHETATM    6 H    COM A   0       7.615   1.518   0.566  1.00  0.00       B   H  \\nENDMDL\\n\",\"pdb\",{\"keepH\": \"true\"});\n\tviewergrid_1668438071943011[0][0].setStyle({\"model\": -1, \"serial\": 2},{\"sphere\": {\"scale\": 0.2, \"color\": \"#800000\"}});\n\tviewergrid_1668438071943011[0][0].addModelsAsFrames(\"MODEL 0\\nHETATM    1 O    COM A   0       2.323   1.323   1.714  1.00  0.00       B   O  \\nHETATM    2 H    COM A   0       2.323   2.080   1.127  1.00  0.00       B   H  \\nHETATM    3 H    COM A   0       2.323   0.566   1.127  1.00  0.00       B   H  \\nHETATM    4 O    COM A   0       7.615   0.932   1.323  1.00  0.00       B   O  \\nHETATM    5 H    COM A   0       7.615   1.518   2.080  1.00  0.00       B   H  \\nHETATM    6 H    COM A   0       7.615   1.518   0.566  1.00  0.00       B   H  \\nENDMDL\\n\",\"pdb\",{\"keepH\": \"true\"});\n\tviewergrid_1668438071943011[0][0].setStyle({\"model\": -1, \"serial\": 3},{\"sphere\": {\"scale\": 0.2, \"color\": \"#800000\"}});\n\tviewergrid_1668438071943011[0][0].addModelsAsFrames(\"MODEL 0\\nHETATM    1 O    COM A   0       2.323   1.323   1.714  1.00  0.00       B   O  \\nHETATM    2 H    COM A   0       2.323   2.080   1.127  1.00  0.00       B   H  \\nHETATM    3 H    COM A   0       2.323   0.566   1.127  1.00  0.00       B   H  \\nHETATM    4 O    COM A   0       7.615   0.932   1.323  1.00  0.00       B   O  \\nHETATM    5 H    COM A   0       7.615   1.518   2.080  1.00  0.00       B   H  \\nHETATM    6 H    COM A   0       7.615   1.518   0.566  1.00  0.00       B   H  \\nENDMDL\\n\",\"pdb\",{\"keepH\": \"true\"});\n\tviewergrid_1668438071943011[0][0].setStyle({\"model\": -1, \"serial\": 4},{\"sphere\": {\"scale\": 0.2, \"color\": \"#800000\"}});\n\tviewergrid_1668438071943011[0][0].addModelsAsFrames(\"MODEL 0\\nHETATM    1 O    COM A   0       2.323   1.323   1.714  1.00  0.00       B   O  \\nHETATM    2 H    COM A   0       2.323   2.080   1.127  1.00  0.00       B   H  \\nHETATM    3 H    COM A   0       2.323   0.566   1.127  1.00  0.00       B   H  \\nHETATM    4 O    COM A   0       7.615   0.932   1.323  1.00  0.00       B   O  \\nHETATM    5 H    COM A   0       7.615   1.518   2.080  1.00  0.00       B   H  \\nHETATM    6 H    COM A   0       7.615   1.518   0.566  1.00  0.00       B   H  \\nENDMDL\\n\",\"pdb\",{\"keepH\": \"true\"});\n\tviewergrid_1668438071943011[0][0].setStyle({\"model\": -1, \"serial\": 5},{\"sphere\": {\"scale\": 0.2, \"color\": \"#800000\"}});\n\tviewergrid_1668438071943011[0][0].addModelsAsFrames(\"MODEL 0\\nHETATM    1 O    COM A   0       2.323   1.323   1.714  1.00  0.00       B   O  \\nHETATM    2 H    COM A   0       2.323   2.080   1.127  1.00  0.00       B   H  \\nHETATM    3 H    COM A   0       2.323   0.566   1.127  1.00  0.00       B   H  \\nHETATM    4 O    COM A   0       7.615   0.932   1.323  1.00  0.00       B   O  \\nHETATM    5 H    COM A   0       7.615   1.518   2.080  1.00  0.00       B   H  \\nHETATM    6 H    COM A   0       7.615   1.518   0.566  1.00  0.00       B   H  \\nENDMDL\\n\",\"pdb\",{\"keepH\": \"true\"});\n\tviewergrid_1668438071943011[0][0].setStyle({\"model\": -1, \"serial\": 6},{\"sphere\": {\"scale\": 0.2, \"color\": \"#800000\"}});\n\tviewergrid_1668438071943011[0][0].addUnitCell({\"model\": -1},{\"box\": {\"color\": \"black\"}, \"alabel\": \"\", \"blabel\": \"\", \"clabel\": \"\"});\n\tviewergrid_1668438071943011[0][0].zoomTo();\nviewergrid_1668438071943011[0][0].render();\n});\n</script>",
      "text/html": [
       "<div id=\"3dmolviewer_1668438071943011\"  style=\"position: relative; width: 400px; height: 300px\">\n",
       "        <p id=\"3dmolwarning_1668438071943011\" style=\"background-color:#ffcccc;color:black\">You appear to be running in JupyterLab (or JavaScript failed to load for some other reason).  You need to install the 3dmol extension: <br>\n",
       "        <tt>jupyter labextension install jupyterlab_3dmol</tt></p>\n",
       "        </div>\n",
       "<script>\n",
       "\n",
       "var loadScriptAsync = function(uri){\n",
       "  return new Promise((resolve, reject) => {\n",
       "    var tag = document.createElement('script');\n",
       "    tag.src = uri;\n",
       "    tag.async = true;\n",
       "    tag.onload = () => {\n",
       "      resolve();\n",
       "    };\n",
       "  var firstScriptTag = document.getElementsByTagName('script')[0];\n",
       "  firstScriptTag.parentNode.insertBefore(tag, firstScriptTag);\n",
       "});\n",
       "};\n",
       "\n",
       "if(typeof $3Dmolpromise === 'undefined') {\n",
       "$3Dmolpromise = null;\n",
       "  $3Dmolpromise = loadScriptAsync('https://cdn.jsdelivr.net/npm/3dmol@latest/build/3Dmol-min.min.js');\n",
       "}\n",
       "\n",
       "var viewer_1668438071943011 = null;\n",
       "var warn = document.getElementById(\"3dmolwarning_1668438071943011\");\n",
       "if(warn) {\n",
       "    warn.parentNode.removeChild(warn);\n",
       "}\n",
       "$3Dmolpromise.then(function() {\n",
       "var viewergrid_1668438071943011 = null;\n",
       "viewergrid_1668438071943011 = $3Dmol.createViewerGrid($(\"#3dmolviewer_1668438071943011\"),{rows: 1, cols: 1, control_all: false},{backgroundColor:\"white\"});\n",
       "viewer_1668438071943011 = viewergrid_1668438071943011[0][0];\n",
       "viewergrid_1668438071943011[0][0].zoomTo();\tviewergrid_1668438071943011[0][0].addModelsAsFrames(\"MODEL 0\\nHETATM    1 O    COM A   0       2.323   1.323   1.714  1.00  0.00       B   O  \\nHETATM    2 H    COM A   0       2.323   2.080   1.127  1.00  0.00       B   H  \\nHETATM    3 H    COM A   0       2.323   0.566   1.127  1.00  0.00       B   H  \\nHETATM    4 O    COM A   0       7.615   0.932   1.323  1.00  0.00       B   O  \\nHETATM    5 H    COM A   0       7.615   1.518   2.080  1.00  0.00       B   H  \\nHETATM    6 H    COM A   0       7.615   1.518   0.566  1.00  0.00       B   H  \\nENDMDL\\n\",\"pdb\",{\"keepH\": \"true\"});\n",
       "\tviewergrid_1668438071943011[0][0].setStyle({\"model\": -1},{\"line\": {\"color\": \"black\"}});\n",
       "\tviewergrid_1668438071943011[0][0].addModelsAsFrames(\"MODEL 0\\nHETATM    1 O    COM A   0       2.323   1.323   1.714  1.00  0.00       B   O  \\nHETATM    2 H    COM A   0       2.323   2.080   1.127  1.00  0.00       B   H  \\nHETATM    3 H    COM A   0       2.323   0.566   1.127  1.00  0.00       B   H  \\nHETATM    4 O    COM A   0       7.615   0.932   1.323  1.00  0.00       B   O  \\nHETATM    5 H    COM A   0       7.615   1.518   2.080  1.00  0.00       B   H  \\nHETATM    6 H    COM A   0       7.615   1.518   0.566  1.00  0.00       B   H  \\nENDMDL\\n\",\"pdb\",{\"keepH\": \"true\"});\n",
       "\tviewergrid_1668438071943011[0][0].setStyle({\"model\": -1, \"serial\": 1},{\"sphere\": {\"scale\": 0.2, \"color\": \"#800000\"}});\n",
       "\tviewergrid_1668438071943011[0][0].addModelsAsFrames(\"MODEL 0\\nHETATM    1 O    COM A   0       2.323   1.323   1.714  1.00  0.00       B   O  \\nHETATM    2 H    COM A   0       2.323   2.080   1.127  1.00  0.00       B   H  \\nHETATM    3 H    COM A   0       2.323   0.566   1.127  1.00  0.00       B   H  \\nHETATM    4 O    COM A   0       7.615   0.932   1.323  1.00  0.00       B   O  \\nHETATM    5 H    COM A   0       7.615   1.518   2.080  1.00  0.00       B   H  \\nHETATM    6 H    COM A   0       7.615   1.518   0.566  1.00  0.00       B   H  \\nENDMDL\\n\",\"pdb\",{\"keepH\": \"true\"});\n",
       "\tviewergrid_1668438071943011[0][0].setStyle({\"model\": -1, \"serial\": 2},{\"sphere\": {\"scale\": 0.2, \"color\": \"#800000\"}});\n",
       "\tviewergrid_1668438071943011[0][0].addModelsAsFrames(\"MODEL 0\\nHETATM    1 O    COM A   0       2.323   1.323   1.714  1.00  0.00       B   O  \\nHETATM    2 H    COM A   0       2.323   2.080   1.127  1.00  0.00       B   H  \\nHETATM    3 H    COM A   0       2.323   0.566   1.127  1.00  0.00       B   H  \\nHETATM    4 O    COM A   0       7.615   0.932   1.323  1.00  0.00       B   O  \\nHETATM    5 H    COM A   0       7.615   1.518   2.080  1.00  0.00       B   H  \\nHETATM    6 H    COM A   0       7.615   1.518   0.566  1.00  0.00       B   H  \\nENDMDL\\n\",\"pdb\",{\"keepH\": \"true\"});\n",
       "\tviewergrid_1668438071943011[0][0].setStyle({\"model\": -1, \"serial\": 3},{\"sphere\": {\"scale\": 0.2, \"color\": \"#800000\"}});\n",
       "\tviewergrid_1668438071943011[0][0].addModelsAsFrames(\"MODEL 0\\nHETATM    1 O    COM A   0       2.323   1.323   1.714  1.00  0.00       B   O  \\nHETATM    2 H    COM A   0       2.323   2.080   1.127  1.00  0.00       B   H  \\nHETATM    3 H    COM A   0       2.323   0.566   1.127  1.00  0.00       B   H  \\nHETATM    4 O    COM A   0       7.615   0.932   1.323  1.00  0.00       B   O  \\nHETATM    5 H    COM A   0       7.615   1.518   2.080  1.00  0.00       B   H  \\nHETATM    6 H    COM A   0       7.615   1.518   0.566  1.00  0.00       B   H  \\nENDMDL\\n\",\"pdb\",{\"keepH\": \"true\"});\n",
       "\tviewergrid_1668438071943011[0][0].setStyle({\"model\": -1, \"serial\": 4},{\"sphere\": {\"scale\": 0.2, \"color\": \"#800000\"}});\n",
       "\tviewergrid_1668438071943011[0][0].addModelsAsFrames(\"MODEL 0\\nHETATM    1 O    COM A   0       2.323   1.323   1.714  1.00  0.00       B   O  \\nHETATM    2 H    COM A   0       2.323   2.080   1.127  1.00  0.00       B   H  \\nHETATM    3 H    COM A   0       2.323   0.566   1.127  1.00  0.00       B   H  \\nHETATM    4 O    COM A   0       7.615   0.932   1.323  1.00  0.00       B   O  \\nHETATM    5 H    COM A   0       7.615   1.518   2.080  1.00  0.00       B   H  \\nHETATM    6 H    COM A   0       7.615   1.518   0.566  1.00  0.00       B   H  \\nENDMDL\\n\",\"pdb\",{\"keepH\": \"true\"});\n",
       "\tviewergrid_1668438071943011[0][0].setStyle({\"model\": -1, \"serial\": 5},{\"sphere\": {\"scale\": 0.2, \"color\": \"#800000\"}});\n",
       "\tviewergrid_1668438071943011[0][0].addModelsAsFrames(\"MODEL 0\\nHETATM    1 O    COM A   0       2.323   1.323   1.714  1.00  0.00       B   O  \\nHETATM    2 H    COM A   0       2.323   2.080   1.127  1.00  0.00       B   H  \\nHETATM    3 H    COM A   0       2.323   0.566   1.127  1.00  0.00       B   H  \\nHETATM    4 O    COM A   0       7.615   0.932   1.323  1.00  0.00       B   O  \\nHETATM    5 H    COM A   0       7.615   1.518   2.080  1.00  0.00       B   H  \\nHETATM    6 H    COM A   0       7.615   1.518   0.566  1.00  0.00       B   H  \\nENDMDL\\n\",\"pdb\",{\"keepH\": \"true\"});\n",
       "\tviewergrid_1668438071943011[0][0].setStyle({\"model\": -1, \"serial\": 6},{\"sphere\": {\"scale\": 0.2, \"color\": \"#800000\"}});\n",
       "\tviewergrid_1668438071943011[0][0].addUnitCell({\"model\": -1},{\"box\": {\"color\": \"black\"}, \"alabel\": \"\", \"blabel\": \"\", \"clabel\": \"\"});\n",
       "\tviewergrid_1668438071943011[0][0].zoomTo();\n",
       "viewergrid_1668438071943011[0][0].render();\n",
       "});\n",
       "</script>"
      ]
     },
     "metadata": {},
     "output_type": "display_data"
    }
   ],
   "source": [
    "_ = sys2.display()"
   ]
  },
  {
   "cell_type": "markdown",
   "id": "musical-return",
   "metadata": {
    "id": "musical-return"
   },
   "source": [
    "## Multiple Views\n",
    "\n",
    "We can take advantage of deepcopying to construct multiple views of the same system. For example, we might want to have two separate views of the same set of atoms. In one view, we split the set into two molecules, and the other we have just one big fragment. This might be convenient if, for example, we want to be able to rotate the entire system as a group."
   ]
  },
  {
   "cell_type": "code",
   "execution_count": 18,
   "id": "17e36f7f",
   "metadata": {},
   "outputs": [
    {
     "name": "stdout",
     "output_type": "stream",
     "text": [
      "[{'x': '1'}, {'x': '2'}]\n",
      "[{'x': 3}, {'x': '2'}]\n"
     ]
    }
   ],
   "source": [
    "#Reminder of standard shallow copy\n",
    "a = {\"x\": \"1\"}\n",
    "b = {\"x\": \"2\"}\n",
    "my_list = [a, b]\n",
    "print(my_list)\n",
    "a[\"x\"] = 3\n",
    "print(my_list)"
   ]
  },
  {
   "cell_type": "code",
   "execution_count": 19,
   "id": "wrong-breakdown",
   "metadata": {
    "id": "wrong-breakdown"
   },
   "outputs": [],
   "source": [
    "#Deep copy\n",
    "sep = deepcopy(sys)\n",
    "joint = System()\n",
    "joint[\"COM:0\"] = sum(sep.values())"
   ]
  },
  {
   "cell_type": "code",
   "execution_count": 20,
   "id": "suited-waste",
   "metadata": {
    "id": "suited-waste"
   },
   "outputs": [],
   "source": [
    "joint[\"COM:0\"].rotate(y=90, units=\"degrees\")"
   ]
  },
  {
   "cell_type": "code",
   "execution_count": 21,
   "id": "cultural-making",
   "metadata": {
    "colab": {
     "base_uri": "https://localhost:8080/",
     "height": 317
    },
    "id": "cultural-making",
    "outputId": "d6de4587-a4c1-4180-ed8d-d4b501518d73"
   },
   "outputs": [
    {
     "data": {
      "application/3dmoljs_load.v0": "<div id=\"3dmolviewer_1668438077185086\"  style=\"position: relative; width: 400px; height: 300px\">\n        <p id=\"3dmolwarning_1668438077185086\" style=\"background-color:#ffcccc;color:black\">You appear to be running in JupyterLab (or JavaScript failed to load for some other reason).  You need to install the 3dmol extension: <br>\n        <tt>jupyter labextension install jupyterlab_3dmol</tt></p>\n        </div>\n<script>\n\nvar loadScriptAsync = function(uri){\n  return new Promise((resolve, reject) => {\n    var tag = document.createElement('script');\n    tag.src = uri;\n    tag.async = true;\n    tag.onload = () => {\n      resolve();\n    };\n  var firstScriptTag = document.getElementsByTagName('script')[0];\n  firstScriptTag.parentNode.insertBefore(tag, firstScriptTag);\n});\n};\n\nif(typeof $3Dmolpromise === 'undefined') {\n$3Dmolpromise = null;\n  $3Dmolpromise = loadScriptAsync('https://cdn.jsdelivr.net/npm/3dmol@latest/build/3Dmol-min.min.js');\n}\n\nvar viewer_1668438077185086 = null;\nvar warn = document.getElementById(\"3dmolwarning_1668438077185086\");\nif(warn) {\n    warn.parentNode.removeChild(warn);\n}\n$3Dmolpromise.then(function() {\nvar viewergrid_1668438077185086 = null;\nviewergrid_1668438077185086 = $3Dmol.createViewerGrid($(\"#3dmolviewer_1668438077185086\"),{rows: 1, cols: 1, control_all: false},{backgroundColor:\"white\"});\nviewer_1668438077185086 = viewergrid_1668438077185086[0][0];\nviewergrid_1668438077185086[0][0].zoomTo();\tviewergrid_1668438077185086[0][0].addModelsAsFrames(\"MODEL 0\\nHETATM    1 O    WAT A   0       5.360   1.323   3.969  1.00  0.00       B   O  \\nHETATM    2 H    WAT A   0       4.773   2.080   3.969  1.00  0.00       B   H  \\nHETATM    3 H    WAT A   0       4.773   0.566   3.969  1.00  0.00       B   H  \\nHETATM    4 O    WAT A   1       4.969   0.932  -1.323  1.00  0.00       B   O  \\nHETATM    5 H    WAT A   1       5.726   1.518  -1.323  1.00  0.00       B   H  \\nHETATM    6 H    WAT A   1       4.212   1.518  -1.323  1.00  0.00       B   H  \\nENDMDL\\n\",\"pdb\",{\"keepH\": \"true\"});\n\tviewergrid_1668438077185086[0][0].setStyle({\"model\": -1},{\"line\": {\"color\": \"black\"}});\n\tviewergrid_1668438077185086[0][0].addModelsAsFrames(\"MODEL 0\\nHETATM    1 O    WAT A   0       5.360   1.323   3.969  1.00  0.00       B   O  \\nHETATM    2 H    WAT A   0       4.773   2.080   3.969  1.00  0.00       B   H  \\nHETATM    3 H    WAT A   0       4.773   0.566   3.969  1.00  0.00       B   H  \\nHETATM    4 O    WAT A   1       4.969   0.932  -1.323  1.00  0.00       B   O  \\nHETATM    5 H    WAT A   1       5.726   1.518  -1.323  1.00  0.00       B   H  \\nHETATM    6 H    WAT A   1       4.212   1.518  -1.323  1.00  0.00       B   H  \\nENDMDL\\n\",\"pdb\",{\"keepH\": \"true\"});\n\tviewergrid_1668438077185086[0][0].setStyle({\"model\": -1, \"serial\": 1},{\"sphere\": {\"scale\": 0.2, \"color\": \"#800000\"}});\n\tviewergrid_1668438077185086[0][0].addModelsAsFrames(\"MODEL 0\\nHETATM    1 O    WAT A   0       5.360   1.323   3.969  1.00  0.00       B   O  \\nHETATM    2 H    WAT A   0       4.773   2.080   3.969  1.00  0.00       B   H  \\nHETATM    3 H    WAT A   0       4.773   0.566   3.969  1.00  0.00       B   H  \\nHETATM    4 O    WAT A   1       4.969   0.932  -1.323  1.00  0.00       B   O  \\nHETATM    5 H    WAT A   1       5.726   1.518  -1.323  1.00  0.00       B   H  \\nHETATM    6 H    WAT A   1       4.212   1.518  -1.323  1.00  0.00       B   H  \\nENDMDL\\n\",\"pdb\",{\"keepH\": \"true\"});\n\tviewergrid_1668438077185086[0][0].setStyle({\"model\": -1, \"serial\": 2},{\"sphere\": {\"scale\": 0.2, \"color\": \"#800000\"}});\n\tviewergrid_1668438077185086[0][0].addModelsAsFrames(\"MODEL 0\\nHETATM    1 O    WAT A   0       5.360   1.323   3.969  1.00  0.00       B   O  \\nHETATM    2 H    WAT A   0       4.773   2.080   3.969  1.00  0.00       B   H  \\nHETATM    3 H    WAT A   0       4.773   0.566   3.969  1.00  0.00       B   H  \\nHETATM    4 O    WAT A   1       4.969   0.932  -1.323  1.00  0.00       B   O  \\nHETATM    5 H    WAT A   1       5.726   1.518  -1.323  1.00  0.00       B   H  \\nHETATM    6 H    WAT A   1       4.212   1.518  -1.323  1.00  0.00       B   H  \\nENDMDL\\n\",\"pdb\",{\"keepH\": \"true\"});\n\tviewergrid_1668438077185086[0][0].setStyle({\"model\": -1, \"serial\": 3},{\"sphere\": {\"scale\": 0.2, \"color\": \"#800000\"}});\n\tviewergrid_1668438077185086[0][0].addModelsAsFrames(\"MODEL 0\\nHETATM    1 O    WAT A   0       5.360   1.323   3.969  1.00  0.00       B   O  \\nHETATM    2 H    WAT A   0       4.773   2.080   3.969  1.00  0.00       B   H  \\nHETATM    3 H    WAT A   0       4.773   0.566   3.969  1.00  0.00       B   H  \\nHETATM    4 O    WAT A   1       4.969   0.932  -1.323  1.00  0.00       B   O  \\nHETATM    5 H    WAT A   1       5.726   1.518  -1.323  1.00  0.00       B   H  \\nHETATM    6 H    WAT A   1       4.212   1.518  -1.323  1.00  0.00       B   H  \\nENDMDL\\n\",\"pdb\",{\"keepH\": \"true\"});\n\tviewergrid_1668438077185086[0][0].setStyle({\"model\": -1},{\"line\": {\"color\": \"black\"}});\n\tviewergrid_1668438077185086[0][0].addModelsAsFrames(\"MODEL 0\\nHETATM    1 O    WAT A   0       5.360   1.323   3.969  1.00  0.00       B   O  \\nHETATM    2 H    WAT A   0       4.773   2.080   3.969  1.00  0.00       B   H  \\nHETATM    3 H    WAT A   0       4.773   0.566   3.969  1.00  0.00       B   H  \\nHETATM    4 O    WAT A   1       4.969   0.932  -1.323  1.00  0.00       B   O  \\nHETATM    5 H    WAT A   1       5.726   1.518  -1.323  1.00  0.00       B   H  \\nHETATM    6 H    WAT A   1       4.212   1.518  -1.323  1.00  0.00       B   H  \\nENDMDL\\n\",\"pdb\",{\"keepH\": \"true\"});\n\tviewergrid_1668438077185086[0][0].setStyle({\"model\": -1, \"serial\": 4},{\"sphere\": {\"scale\": 0.2, \"color\": \"#00FF40\"}});\n\tviewergrid_1668438077185086[0][0].addModelsAsFrames(\"MODEL 0\\nHETATM    1 O    WAT A   0       5.360   1.323   3.969  1.00  0.00       B   O  \\nHETATM    2 H    WAT A   0       4.773   2.080   3.969  1.00  0.00       B   H  \\nHETATM    3 H    WAT A   0       4.773   0.566   3.969  1.00  0.00       B   H  \\nHETATM    4 O    WAT A   1       4.969   0.932  -1.323  1.00  0.00       B   O  \\nHETATM    5 H    WAT A   1       5.726   1.518  -1.323  1.00  0.00       B   H  \\nHETATM    6 H    WAT A   1       4.212   1.518  -1.323  1.00  0.00       B   H  \\nENDMDL\\n\",\"pdb\",{\"keepH\": \"true\"});\n\tviewergrid_1668438077185086[0][0].setStyle({\"model\": -1, \"serial\": 5},{\"sphere\": {\"scale\": 0.2, \"color\": \"#00FF40\"}});\n\tviewergrid_1668438077185086[0][0].addModelsAsFrames(\"MODEL 0\\nHETATM    1 O    WAT A   0       5.360   1.323   3.969  1.00  0.00       B   O  \\nHETATM    2 H    WAT A   0       4.773   2.080   3.969  1.00  0.00       B   H  \\nHETATM    3 H    WAT A   0       4.773   0.566   3.969  1.00  0.00       B   H  \\nHETATM    4 O    WAT A   1       4.969   0.932  -1.323  1.00  0.00       B   O  \\nHETATM    5 H    WAT A   1       5.726   1.518  -1.323  1.00  0.00       B   H  \\nHETATM    6 H    WAT A   1       4.212   1.518  -1.323  1.00  0.00       B   H  \\nENDMDL\\n\",\"pdb\",{\"keepH\": \"true\"});\n\tviewergrid_1668438077185086[0][0].setStyle({\"model\": -1, \"serial\": 6},{\"sphere\": {\"scale\": 0.2, \"color\": \"#00FF40\"}});\n\tviewergrid_1668438077185086[0][0].addUnitCell({\"model\": -1},{\"box\": {\"color\": \"black\"}, \"alabel\": \"\", \"blabel\": \"\", \"clabel\": \"\"});\n\tviewergrid_1668438077185086[0][0].zoomTo();\nviewergrid_1668438077185086[0][0].render();\n});\n</script>",
      "text/html": [
       "<div id=\"3dmolviewer_1668438077185086\"  style=\"position: relative; width: 400px; height: 300px\">\n",
       "        <p id=\"3dmolwarning_1668438077185086\" style=\"background-color:#ffcccc;color:black\">You appear to be running in JupyterLab (or JavaScript failed to load for some other reason).  You need to install the 3dmol extension: <br>\n",
       "        <tt>jupyter labextension install jupyterlab_3dmol</tt></p>\n",
       "        </div>\n",
       "<script>\n",
       "\n",
       "var loadScriptAsync = function(uri){\n",
       "  return new Promise((resolve, reject) => {\n",
       "    var tag = document.createElement('script');\n",
       "    tag.src = uri;\n",
       "    tag.async = true;\n",
       "    tag.onload = () => {\n",
       "      resolve();\n",
       "    };\n",
       "  var firstScriptTag = document.getElementsByTagName('script')[0];\n",
       "  firstScriptTag.parentNode.insertBefore(tag, firstScriptTag);\n",
       "});\n",
       "};\n",
       "\n",
       "if(typeof $3Dmolpromise === 'undefined') {\n",
       "$3Dmolpromise = null;\n",
       "  $3Dmolpromise = loadScriptAsync('https://cdn.jsdelivr.net/npm/3dmol@latest/build/3Dmol-min.min.js');\n",
       "}\n",
       "\n",
       "var viewer_1668438077185086 = null;\n",
       "var warn = document.getElementById(\"3dmolwarning_1668438077185086\");\n",
       "if(warn) {\n",
       "    warn.parentNode.removeChild(warn);\n",
       "}\n",
       "$3Dmolpromise.then(function() {\n",
       "var viewergrid_1668438077185086 = null;\n",
       "viewergrid_1668438077185086 = $3Dmol.createViewerGrid($(\"#3dmolviewer_1668438077185086\"),{rows: 1, cols: 1, control_all: false},{backgroundColor:\"white\"});\n",
       "viewer_1668438077185086 = viewergrid_1668438077185086[0][0];\n",
       "viewergrid_1668438077185086[0][0].zoomTo();\tviewergrid_1668438077185086[0][0].addModelsAsFrames(\"MODEL 0\\nHETATM    1 O    WAT A   0       5.360   1.323   3.969  1.00  0.00       B   O  \\nHETATM    2 H    WAT A   0       4.773   2.080   3.969  1.00  0.00       B   H  \\nHETATM    3 H    WAT A   0       4.773   0.566   3.969  1.00  0.00       B   H  \\nHETATM    4 O    WAT A   1       4.969   0.932  -1.323  1.00  0.00       B   O  \\nHETATM    5 H    WAT A   1       5.726   1.518  -1.323  1.00  0.00       B   H  \\nHETATM    6 H    WAT A   1       4.212   1.518  -1.323  1.00  0.00       B   H  \\nENDMDL\\n\",\"pdb\",{\"keepH\": \"true\"});\n",
       "\tviewergrid_1668438077185086[0][0].setStyle({\"model\": -1},{\"line\": {\"color\": \"black\"}});\n",
       "\tviewergrid_1668438077185086[0][0].addModelsAsFrames(\"MODEL 0\\nHETATM    1 O    WAT A   0       5.360   1.323   3.969  1.00  0.00       B   O  \\nHETATM    2 H    WAT A   0       4.773   2.080   3.969  1.00  0.00       B   H  \\nHETATM    3 H    WAT A   0       4.773   0.566   3.969  1.00  0.00       B   H  \\nHETATM    4 O    WAT A   1       4.969   0.932  -1.323  1.00  0.00       B   O  \\nHETATM    5 H    WAT A   1       5.726   1.518  -1.323  1.00  0.00       B   H  \\nHETATM    6 H    WAT A   1       4.212   1.518  -1.323  1.00  0.00       B   H  \\nENDMDL\\n\",\"pdb\",{\"keepH\": \"true\"});\n",
       "\tviewergrid_1668438077185086[0][0].setStyle({\"model\": -1, \"serial\": 1},{\"sphere\": {\"scale\": 0.2, \"color\": \"#800000\"}});\n",
       "\tviewergrid_1668438077185086[0][0].addModelsAsFrames(\"MODEL 0\\nHETATM    1 O    WAT A   0       5.360   1.323   3.969  1.00  0.00       B   O  \\nHETATM    2 H    WAT A   0       4.773   2.080   3.969  1.00  0.00       B   H  \\nHETATM    3 H    WAT A   0       4.773   0.566   3.969  1.00  0.00       B   H  \\nHETATM    4 O    WAT A   1       4.969   0.932  -1.323  1.00  0.00       B   O  \\nHETATM    5 H    WAT A   1       5.726   1.518  -1.323  1.00  0.00       B   H  \\nHETATM    6 H    WAT A   1       4.212   1.518  -1.323  1.00  0.00       B   H  \\nENDMDL\\n\",\"pdb\",{\"keepH\": \"true\"});\n",
       "\tviewergrid_1668438077185086[0][0].setStyle({\"model\": -1, \"serial\": 2},{\"sphere\": {\"scale\": 0.2, \"color\": \"#800000\"}});\n",
       "\tviewergrid_1668438077185086[0][0].addModelsAsFrames(\"MODEL 0\\nHETATM    1 O    WAT A   0       5.360   1.323   3.969  1.00  0.00       B   O  \\nHETATM    2 H    WAT A   0       4.773   2.080   3.969  1.00  0.00       B   H  \\nHETATM    3 H    WAT A   0       4.773   0.566   3.969  1.00  0.00       B   H  \\nHETATM    4 O    WAT A   1       4.969   0.932  -1.323  1.00  0.00       B   O  \\nHETATM    5 H    WAT A   1       5.726   1.518  -1.323  1.00  0.00       B   H  \\nHETATM    6 H    WAT A   1       4.212   1.518  -1.323  1.00  0.00       B   H  \\nENDMDL\\n\",\"pdb\",{\"keepH\": \"true\"});\n",
       "\tviewergrid_1668438077185086[0][0].setStyle({\"model\": -1, \"serial\": 3},{\"sphere\": {\"scale\": 0.2, \"color\": \"#800000\"}});\n",
       "\tviewergrid_1668438077185086[0][0].addModelsAsFrames(\"MODEL 0\\nHETATM    1 O    WAT A   0       5.360   1.323   3.969  1.00  0.00       B   O  \\nHETATM    2 H    WAT A   0       4.773   2.080   3.969  1.00  0.00       B   H  \\nHETATM    3 H    WAT A   0       4.773   0.566   3.969  1.00  0.00       B   H  \\nHETATM    4 O    WAT A   1       4.969   0.932  -1.323  1.00  0.00       B   O  \\nHETATM    5 H    WAT A   1       5.726   1.518  -1.323  1.00  0.00       B   H  \\nHETATM    6 H    WAT A   1       4.212   1.518  -1.323  1.00  0.00       B   H  \\nENDMDL\\n\",\"pdb\",{\"keepH\": \"true\"});\n",
       "\tviewergrid_1668438077185086[0][0].setStyle({\"model\": -1},{\"line\": {\"color\": \"black\"}});\n",
       "\tviewergrid_1668438077185086[0][0].addModelsAsFrames(\"MODEL 0\\nHETATM    1 O    WAT A   0       5.360   1.323   3.969  1.00  0.00       B   O  \\nHETATM    2 H    WAT A   0       4.773   2.080   3.969  1.00  0.00       B   H  \\nHETATM    3 H    WAT A   0       4.773   0.566   3.969  1.00  0.00       B   H  \\nHETATM    4 O    WAT A   1       4.969   0.932  -1.323  1.00  0.00       B   O  \\nHETATM    5 H    WAT A   1       5.726   1.518  -1.323  1.00  0.00       B   H  \\nHETATM    6 H    WAT A   1       4.212   1.518  -1.323  1.00  0.00       B   H  \\nENDMDL\\n\",\"pdb\",{\"keepH\": \"true\"});\n",
       "\tviewergrid_1668438077185086[0][0].setStyle({\"model\": -1, \"serial\": 4},{\"sphere\": {\"scale\": 0.2, \"color\": \"#00FF40\"}});\n",
       "\tviewergrid_1668438077185086[0][0].addModelsAsFrames(\"MODEL 0\\nHETATM    1 O    WAT A   0       5.360   1.323   3.969  1.00  0.00       B   O  \\nHETATM    2 H    WAT A   0       4.773   2.080   3.969  1.00  0.00       B   H  \\nHETATM    3 H    WAT A   0       4.773   0.566   3.969  1.00  0.00       B   H  \\nHETATM    4 O    WAT A   1       4.969   0.932  -1.323  1.00  0.00       B   O  \\nHETATM    5 H    WAT A   1       5.726   1.518  -1.323  1.00  0.00       B   H  \\nHETATM    6 H    WAT A   1       4.212   1.518  -1.323  1.00  0.00       B   H  \\nENDMDL\\n\",\"pdb\",{\"keepH\": \"true\"});\n",
       "\tviewergrid_1668438077185086[0][0].setStyle({\"model\": -1, \"serial\": 5},{\"sphere\": {\"scale\": 0.2, \"color\": \"#00FF40\"}});\n",
       "\tviewergrid_1668438077185086[0][0].addModelsAsFrames(\"MODEL 0\\nHETATM    1 O    WAT A   0       5.360   1.323   3.969  1.00  0.00       B   O  \\nHETATM    2 H    WAT A   0       4.773   2.080   3.969  1.00  0.00       B   H  \\nHETATM    3 H    WAT A   0       4.773   0.566   3.969  1.00  0.00       B   H  \\nHETATM    4 O    WAT A   1       4.969   0.932  -1.323  1.00  0.00       B   O  \\nHETATM    5 H    WAT A   1       5.726   1.518  -1.323  1.00  0.00       B   H  \\nHETATM    6 H    WAT A   1       4.212   1.518  -1.323  1.00  0.00       B   H  \\nENDMDL\\n\",\"pdb\",{\"keepH\": \"true\"});\n",
       "\tviewergrid_1668438077185086[0][0].setStyle({\"model\": -1, \"serial\": 6},{\"sphere\": {\"scale\": 0.2, \"color\": \"#00FF40\"}});\n",
       "\tviewergrid_1668438077185086[0][0].addUnitCell({\"model\": -1},{\"box\": {\"color\": \"black\"}, \"alabel\": \"\", \"blabel\": \"\", \"clabel\": \"\"});\n",
       "\tviewergrid_1668438077185086[0][0].zoomTo();\n",
       "viewergrid_1668438077185086[0][0].render();\n",
       "});\n",
       "</script>"
      ]
     },
     "metadata": {},
     "output_type": "display_data"
    }
   ],
   "source": [
    "_ = sep.display()"
   ]
  },
  {
   "cell_type": "code",
   "execution_count": 22,
   "id": "clinical-profession",
   "metadata": {
    "colab": {
     "base_uri": "https://localhost:8080/",
     "height": 317
    },
    "id": "clinical-profession",
    "outputId": "6041da9f-8d82-4f57-d435-743542152a62"
   },
   "outputs": [
    {
     "data": {
      "application/3dmoljs_load.v0": "<div id=\"3dmolviewer_166843807783833\"  style=\"position: relative; width: 400px; height: 300px\">\n        <p id=\"3dmolwarning_166843807783833\" style=\"background-color:#ffcccc;color:black\">You appear to be running in JupyterLab (or JavaScript failed to load for some other reason).  You need to install the 3dmol extension: <br>\n        <tt>jupyter labextension install jupyterlab_3dmol</tt></p>\n        </div>\n<script>\n\nvar loadScriptAsync = function(uri){\n  return new Promise((resolve, reject) => {\n    var tag = document.createElement('script');\n    tag.src = uri;\n    tag.async = true;\n    tag.onload = () => {\n      resolve();\n    };\n  var firstScriptTag = document.getElementsByTagName('script')[0];\n  firstScriptTag.parentNode.insertBefore(tag, firstScriptTag);\n});\n};\n\nif(typeof $3Dmolpromise === 'undefined') {\n$3Dmolpromise = null;\n  $3Dmolpromise = loadScriptAsync('https://cdn.jsdelivr.net/npm/3dmol@latest/build/3Dmol-min.min.js');\n}\n\nvar viewer_166843807783833 = null;\nvar warn = document.getElementById(\"3dmolwarning_166843807783833\");\nif(warn) {\n    warn.parentNode.removeChild(warn);\n}\n$3Dmolpromise.then(function() {\nvar viewergrid_166843807783833 = null;\nviewergrid_166843807783833 = $3Dmol.createViewerGrid($(\"#3dmolviewer_166843807783833\"),{rows: 1, cols: 1, control_all: false},{backgroundColor:\"white\"});\nviewer_166843807783833 = viewergrid_166843807783833[0][0];\nviewergrid_166843807783833[0][0].zoomTo();\tviewergrid_166843807783833[0][0].addModelsAsFrames(\"MODEL 0\\nHETATM    1 O    COM A   0       5.360   1.323   3.969  1.00  0.00       B   O  \\nHETATM    2 H    COM A   0       4.773   2.080   3.969  1.00  0.00       B   H  \\nHETATM    3 H    COM A   0       4.773   0.566   3.969  1.00  0.00       B   H  \\nHETATM    4 O    COM A   0       4.969   0.932  -1.323  1.00  0.00       B   O  \\nHETATM    5 H    COM A   0       5.726   1.518  -1.323  1.00  0.00       B   H  \\nHETATM    6 H    COM A   0       4.212   1.518  -1.323  1.00  0.00       B   H  \\nENDMDL\\n\",\"pdb\",{\"keepH\": \"true\"});\n\tviewergrid_166843807783833[0][0].setStyle({\"model\": -1},{\"line\": {\"color\": \"black\"}});\n\tviewergrid_166843807783833[0][0].addModelsAsFrames(\"MODEL 0\\nHETATM    1 O    COM A   0       5.360   1.323   3.969  1.00  0.00       B   O  \\nHETATM    2 H    COM A   0       4.773   2.080   3.969  1.00  0.00       B   H  \\nHETATM    3 H    COM A   0       4.773   0.566   3.969  1.00  0.00       B   H  \\nHETATM    4 O    COM A   0       4.969   0.932  -1.323  1.00  0.00       B   O  \\nHETATM    5 H    COM A   0       5.726   1.518  -1.323  1.00  0.00       B   H  \\nHETATM    6 H    COM A   0       4.212   1.518  -1.323  1.00  0.00       B   H  \\nENDMDL\\n\",\"pdb\",{\"keepH\": \"true\"});\n\tviewergrid_166843807783833[0][0].setStyle({\"model\": -1, \"serial\": 1},{\"sphere\": {\"scale\": 0.2, \"color\": \"#800000\"}});\n\tviewergrid_166843807783833[0][0].addModelsAsFrames(\"MODEL 0\\nHETATM    1 O    COM A   0       5.360   1.323   3.969  1.00  0.00       B   O  \\nHETATM    2 H    COM A   0       4.773   2.080   3.969  1.00  0.00       B   H  \\nHETATM    3 H    COM A   0       4.773   0.566   3.969  1.00  0.00       B   H  \\nHETATM    4 O    COM A   0       4.969   0.932  -1.323  1.00  0.00       B   O  \\nHETATM    5 H    COM A   0       5.726   1.518  -1.323  1.00  0.00       B   H  \\nHETATM    6 H    COM A   0       4.212   1.518  -1.323  1.00  0.00       B   H  \\nENDMDL\\n\",\"pdb\",{\"keepH\": \"true\"});\n\tviewergrid_166843807783833[0][0].setStyle({\"model\": -1, \"serial\": 2},{\"sphere\": {\"scale\": 0.2, \"color\": \"#800000\"}});\n\tviewergrid_166843807783833[0][0].addModelsAsFrames(\"MODEL 0\\nHETATM    1 O    COM A   0       5.360   1.323   3.969  1.00  0.00       B   O  \\nHETATM    2 H    COM A   0       4.773   2.080   3.969  1.00  0.00       B   H  \\nHETATM    3 H    COM A   0       4.773   0.566   3.969  1.00  0.00       B   H  \\nHETATM    4 O    COM A   0       4.969   0.932  -1.323  1.00  0.00       B   O  \\nHETATM    5 H    COM A   0       5.726   1.518  -1.323  1.00  0.00       B   H  \\nHETATM    6 H    COM A   0       4.212   1.518  -1.323  1.00  0.00       B   H  \\nENDMDL\\n\",\"pdb\",{\"keepH\": \"true\"});\n\tviewergrid_166843807783833[0][0].setStyle({\"model\": -1, \"serial\": 3},{\"sphere\": {\"scale\": 0.2, \"color\": \"#800000\"}});\n\tviewergrid_166843807783833[0][0].addModelsAsFrames(\"MODEL 0\\nHETATM    1 O    COM A   0       5.360   1.323   3.969  1.00  0.00       B   O  \\nHETATM    2 H    COM A   0       4.773   2.080   3.969  1.00  0.00       B   H  \\nHETATM    3 H    COM A   0       4.773   0.566   3.969  1.00  0.00       B   H  \\nHETATM    4 O    COM A   0       4.969   0.932  -1.323  1.00  0.00       B   O  \\nHETATM    5 H    COM A   0       5.726   1.518  -1.323  1.00  0.00       B   H  \\nHETATM    6 H    COM A   0       4.212   1.518  -1.323  1.00  0.00       B   H  \\nENDMDL\\n\",\"pdb\",{\"keepH\": \"true\"});\n\tviewergrid_166843807783833[0][0].setStyle({\"model\": -1, \"serial\": 4},{\"sphere\": {\"scale\": 0.2, \"color\": \"#800000\"}});\n\tviewergrid_166843807783833[0][0].addModelsAsFrames(\"MODEL 0\\nHETATM    1 O    COM A   0       5.360   1.323   3.969  1.00  0.00       B   O  \\nHETATM    2 H    COM A   0       4.773   2.080   3.969  1.00  0.00       B   H  \\nHETATM    3 H    COM A   0       4.773   0.566   3.969  1.00  0.00       B   H  \\nHETATM    4 O    COM A   0       4.969   0.932  -1.323  1.00  0.00       B   O  \\nHETATM    5 H    COM A   0       5.726   1.518  -1.323  1.00  0.00       B   H  \\nHETATM    6 H    COM A   0       4.212   1.518  -1.323  1.00  0.00       B   H  \\nENDMDL\\n\",\"pdb\",{\"keepH\": \"true\"});\n\tviewergrid_166843807783833[0][0].setStyle({\"model\": -1, \"serial\": 5},{\"sphere\": {\"scale\": 0.2, \"color\": \"#800000\"}});\n\tviewergrid_166843807783833[0][0].addModelsAsFrames(\"MODEL 0\\nHETATM    1 O    COM A   0       5.360   1.323   3.969  1.00  0.00       B   O  \\nHETATM    2 H    COM A   0       4.773   2.080   3.969  1.00  0.00       B   H  \\nHETATM    3 H    COM A   0       4.773   0.566   3.969  1.00  0.00       B   H  \\nHETATM    4 O    COM A   0       4.969   0.932  -1.323  1.00  0.00       B   O  \\nHETATM    5 H    COM A   0       5.726   1.518  -1.323  1.00  0.00       B   H  \\nHETATM    6 H    COM A   0       4.212   1.518  -1.323  1.00  0.00       B   H  \\nENDMDL\\n\",\"pdb\",{\"keepH\": \"true\"});\n\tviewergrid_166843807783833[0][0].setStyle({\"model\": -1, \"serial\": 6},{\"sphere\": {\"scale\": 0.2, \"color\": \"#800000\"}});\n\tviewergrid_166843807783833[0][0].addUnitCell({\"model\": -1},{\"box\": {\"color\": \"black\"}, \"alabel\": \"\", \"blabel\": \"\", \"clabel\": \"\"});\n\tviewergrid_166843807783833[0][0].zoomTo();\nviewergrid_166843807783833[0][0].render();\n});\n</script>",
      "text/html": [
       "<div id=\"3dmolviewer_166843807783833\"  style=\"position: relative; width: 400px; height: 300px\">\n",
       "        <p id=\"3dmolwarning_166843807783833\" style=\"background-color:#ffcccc;color:black\">You appear to be running in JupyterLab (or JavaScript failed to load for some other reason).  You need to install the 3dmol extension: <br>\n",
       "        <tt>jupyter labextension install jupyterlab_3dmol</tt></p>\n",
       "        </div>\n",
       "<script>\n",
       "\n",
       "var loadScriptAsync = function(uri){\n",
       "  return new Promise((resolve, reject) => {\n",
       "    var tag = document.createElement('script');\n",
       "    tag.src = uri;\n",
       "    tag.async = true;\n",
       "    tag.onload = () => {\n",
       "      resolve();\n",
       "    };\n",
       "  var firstScriptTag = document.getElementsByTagName('script')[0];\n",
       "  firstScriptTag.parentNode.insertBefore(tag, firstScriptTag);\n",
       "});\n",
       "};\n",
       "\n",
       "if(typeof $3Dmolpromise === 'undefined') {\n",
       "$3Dmolpromise = null;\n",
       "  $3Dmolpromise = loadScriptAsync('https://cdn.jsdelivr.net/npm/3dmol@latest/build/3Dmol-min.min.js');\n",
       "}\n",
       "\n",
       "var viewer_166843807783833 = null;\n",
       "var warn = document.getElementById(\"3dmolwarning_166843807783833\");\n",
       "if(warn) {\n",
       "    warn.parentNode.removeChild(warn);\n",
       "}\n",
       "$3Dmolpromise.then(function() {\n",
       "var viewergrid_166843807783833 = null;\n",
       "viewergrid_166843807783833 = $3Dmol.createViewerGrid($(\"#3dmolviewer_166843807783833\"),{rows: 1, cols: 1, control_all: false},{backgroundColor:\"white\"});\n",
       "viewer_166843807783833 = viewergrid_166843807783833[0][0];\n",
       "viewergrid_166843807783833[0][0].zoomTo();\tviewergrid_166843807783833[0][0].addModelsAsFrames(\"MODEL 0\\nHETATM    1 O    COM A   0       5.360   1.323   3.969  1.00  0.00       B   O  \\nHETATM    2 H    COM A   0       4.773   2.080   3.969  1.00  0.00       B   H  \\nHETATM    3 H    COM A   0       4.773   0.566   3.969  1.00  0.00       B   H  \\nHETATM    4 O    COM A   0       4.969   0.932  -1.323  1.00  0.00       B   O  \\nHETATM    5 H    COM A   0       5.726   1.518  -1.323  1.00  0.00       B   H  \\nHETATM    6 H    COM A   0       4.212   1.518  -1.323  1.00  0.00       B   H  \\nENDMDL\\n\",\"pdb\",{\"keepH\": \"true\"});\n",
       "\tviewergrid_166843807783833[0][0].setStyle({\"model\": -1},{\"line\": {\"color\": \"black\"}});\n",
       "\tviewergrid_166843807783833[0][0].addModelsAsFrames(\"MODEL 0\\nHETATM    1 O    COM A   0       5.360   1.323   3.969  1.00  0.00       B   O  \\nHETATM    2 H    COM A   0       4.773   2.080   3.969  1.00  0.00       B   H  \\nHETATM    3 H    COM A   0       4.773   0.566   3.969  1.00  0.00       B   H  \\nHETATM    4 O    COM A   0       4.969   0.932  -1.323  1.00  0.00       B   O  \\nHETATM    5 H    COM A   0       5.726   1.518  -1.323  1.00  0.00       B   H  \\nHETATM    6 H    COM A   0       4.212   1.518  -1.323  1.00  0.00       B   H  \\nENDMDL\\n\",\"pdb\",{\"keepH\": \"true\"});\n",
       "\tviewergrid_166843807783833[0][0].setStyle({\"model\": -1, \"serial\": 1},{\"sphere\": {\"scale\": 0.2, \"color\": \"#800000\"}});\n",
       "\tviewergrid_166843807783833[0][0].addModelsAsFrames(\"MODEL 0\\nHETATM    1 O    COM A   0       5.360   1.323   3.969  1.00  0.00       B   O  \\nHETATM    2 H    COM A   0       4.773   2.080   3.969  1.00  0.00       B   H  \\nHETATM    3 H    COM A   0       4.773   0.566   3.969  1.00  0.00       B   H  \\nHETATM    4 O    COM A   0       4.969   0.932  -1.323  1.00  0.00       B   O  \\nHETATM    5 H    COM A   0       5.726   1.518  -1.323  1.00  0.00       B   H  \\nHETATM    6 H    COM A   0       4.212   1.518  -1.323  1.00  0.00       B   H  \\nENDMDL\\n\",\"pdb\",{\"keepH\": \"true\"});\n",
       "\tviewergrid_166843807783833[0][0].setStyle({\"model\": -1, \"serial\": 2},{\"sphere\": {\"scale\": 0.2, \"color\": \"#800000\"}});\n",
       "\tviewergrid_166843807783833[0][0].addModelsAsFrames(\"MODEL 0\\nHETATM    1 O    COM A   0       5.360   1.323   3.969  1.00  0.00       B   O  \\nHETATM    2 H    COM A   0       4.773   2.080   3.969  1.00  0.00       B   H  \\nHETATM    3 H    COM A   0       4.773   0.566   3.969  1.00  0.00       B   H  \\nHETATM    4 O    COM A   0       4.969   0.932  -1.323  1.00  0.00       B   O  \\nHETATM    5 H    COM A   0       5.726   1.518  -1.323  1.00  0.00       B   H  \\nHETATM    6 H    COM A   0       4.212   1.518  -1.323  1.00  0.00       B   H  \\nENDMDL\\n\",\"pdb\",{\"keepH\": \"true\"});\n",
       "\tviewergrid_166843807783833[0][0].setStyle({\"model\": -1, \"serial\": 3},{\"sphere\": {\"scale\": 0.2, \"color\": \"#800000\"}});\n",
       "\tviewergrid_166843807783833[0][0].addModelsAsFrames(\"MODEL 0\\nHETATM    1 O    COM A   0       5.360   1.323   3.969  1.00  0.00       B   O  \\nHETATM    2 H    COM A   0       4.773   2.080   3.969  1.00  0.00       B   H  \\nHETATM    3 H    COM A   0       4.773   0.566   3.969  1.00  0.00       B   H  \\nHETATM    4 O    COM A   0       4.969   0.932  -1.323  1.00  0.00       B   O  \\nHETATM    5 H    COM A   0       5.726   1.518  -1.323  1.00  0.00       B   H  \\nHETATM    6 H    COM A   0       4.212   1.518  -1.323  1.00  0.00       B   H  \\nENDMDL\\n\",\"pdb\",{\"keepH\": \"true\"});\n",
       "\tviewergrid_166843807783833[0][0].setStyle({\"model\": -1, \"serial\": 4},{\"sphere\": {\"scale\": 0.2, \"color\": \"#800000\"}});\n",
       "\tviewergrid_166843807783833[0][0].addModelsAsFrames(\"MODEL 0\\nHETATM    1 O    COM A   0       5.360   1.323   3.969  1.00  0.00       B   O  \\nHETATM    2 H    COM A   0       4.773   2.080   3.969  1.00  0.00       B   H  \\nHETATM    3 H    COM A   0       4.773   0.566   3.969  1.00  0.00       B   H  \\nHETATM    4 O    COM A   0       4.969   0.932  -1.323  1.00  0.00       B   O  \\nHETATM    5 H    COM A   0       5.726   1.518  -1.323  1.00  0.00       B   H  \\nHETATM    6 H    COM A   0       4.212   1.518  -1.323  1.00  0.00       B   H  \\nENDMDL\\n\",\"pdb\",{\"keepH\": \"true\"});\n",
       "\tviewergrid_166843807783833[0][0].setStyle({\"model\": -1, \"serial\": 5},{\"sphere\": {\"scale\": 0.2, \"color\": \"#800000\"}});\n",
       "\tviewergrid_166843807783833[0][0].addModelsAsFrames(\"MODEL 0\\nHETATM    1 O    COM A   0       5.360   1.323   3.969  1.00  0.00       B   O  \\nHETATM    2 H    COM A   0       4.773   2.080   3.969  1.00  0.00       B   H  \\nHETATM    3 H    COM A   0       4.773   0.566   3.969  1.00  0.00       B   H  \\nHETATM    4 O    COM A   0       4.969   0.932  -1.323  1.00  0.00       B   O  \\nHETATM    5 H    COM A   0       5.726   1.518  -1.323  1.00  0.00       B   H  \\nHETATM    6 H    COM A   0       4.212   1.518  -1.323  1.00  0.00       B   H  \\nENDMDL\\n\",\"pdb\",{\"keepH\": \"true\"});\n",
       "\tviewergrid_166843807783833[0][0].setStyle({\"model\": -1, \"serial\": 6},{\"sphere\": {\"scale\": 0.2, \"color\": \"#800000\"}});\n",
       "\tviewergrid_166843807783833[0][0].addUnitCell({\"model\": -1},{\"box\": {\"color\": \"black\"}, \"alabel\": \"\", \"blabel\": \"\", \"clabel\": \"\"});\n",
       "\tviewergrid_166843807783833[0][0].zoomTo();\n",
       "viewergrid_166843807783833[0][0].render();\n",
       "});\n",
       "</script>"
      ]
     },
     "metadata": {},
     "output_type": "display_data"
    }
   ],
   "source": [
    "_  = joint.display()"
   ]
  },
  {
   "cell_type": "markdown",
   "id": "curious-acrobat",
   "metadata": {
    "id": "curious-acrobat"
   },
   "source": [
    "## Extended Systems\n",
    "For building and manipulating extended systems, the extra ingredient required is a `UnitCell`. "
   ]
  },
  {
   "cell_type": "code",
   "execution_count": 23,
   "id": "proved-dining",
   "metadata": {
    "id": "proved-dining"
   },
   "outputs": [],
   "source": [
    "from BigDFT.UnitCells import UnitCell\n",
    "sys.cell = UnitCell([7.0, 7.0, 7.0], units=\"angstroem\")"
   ]
  },
  {
   "cell_type": "code",
   "execution_count": 25,
   "id": "super-amount",
   "metadata": {
    "colab": {
     "base_uri": "https://localhost:8080/",
     "height": 317
    },
    "id": "super-amount",
    "outputId": "bd925091-effd-4792-a47d-8188ea1342a6"
   },
   "outputs": [
    {
     "data": {
      "application/3dmoljs_load.v0": "<div id=\"3dmolviewer_1668438090654845\"  style=\"position: relative; width: 400px; height: 300px\">\n        <p id=\"3dmolwarning_1668438090654845\" style=\"background-color:#ffcccc;color:black\">You appear to be running in JupyterLab (or JavaScript failed to load for some other reason).  You need to install the 3dmol extension: <br>\n        <tt>jupyter labextension install jupyterlab_3dmol</tt></p>\n        </div>\n<script>\n\nvar loadScriptAsync = function(uri){\n  return new Promise((resolve, reject) => {\n    var tag = document.createElement('script');\n    tag.src = uri;\n    tag.async = true;\n    tag.onload = () => {\n      resolve();\n    };\n  var firstScriptTag = document.getElementsByTagName('script')[0];\n  firstScriptTag.parentNode.insertBefore(tag, firstScriptTag);\n});\n};\n\nif(typeof $3Dmolpromise === 'undefined') {\n$3Dmolpromise = null;\n  $3Dmolpromise = loadScriptAsync('https://cdn.jsdelivr.net/npm/3dmol@latest/build/3Dmol-min.min.js');\n}\n\nvar viewer_1668438090654845 = null;\nvar warn = document.getElementById(\"3dmolwarning_1668438090654845\");\nif(warn) {\n    warn.parentNode.removeChild(warn);\n}\n$3Dmolpromise.then(function() {\nvar viewergrid_1668438090654845 = null;\nviewergrid_1668438090654845 = $3Dmol.createViewerGrid($(\"#3dmolviewer_1668438090654845\"),{rows: 1, cols: 1, control_all: false},{backgroundColor:\"white\"});\nviewer_1668438090654845 = viewergrid_1668438090654845[0][0];\nviewergrid_1668438090654845[0][0].zoomTo();\tviewergrid_1668438090654845[0][0].addModelsAsFrames(\"MODEL 0\\nCRYST1    7.000    7.000    7.000     90     90     90                          \\nHETATM    1 O    WAT A   0       2.323   1.323   1.714  1.00  0.00       B   O  \\nHETATM    2 H    WAT A   0       2.323   2.080   1.127  1.00  0.00       B   H  \\nHETATM    3 H    WAT A   0       2.323   0.566   1.127  1.00  0.00       B   H  \\nHETATM    4 O    WAT A   1       0.615   0.932   1.323  1.00  0.00       B   O  \\nHETATM    5 H    WAT A   1       0.615   1.518   2.080  1.00  0.00       B   H  \\nHETATM    6 H    WAT A   1       0.615   1.518   0.566  1.00  0.00       B   H  \\nENDMDL\\n\",\"pdb\",{\"keepH\": \"true\"});\n\tviewergrid_1668438090654845[0][0].setStyle({\"model\": -1},{\"line\": {\"color\": \"black\"}});\n\tviewergrid_1668438090654845[0][0].addModelsAsFrames(\"MODEL 0\\nCRYST1    7.000    7.000    7.000     90     90     90                          \\nHETATM    1 O    WAT A   0       2.323   1.323   1.714  1.00  0.00       B   O  \\nHETATM    2 H    WAT A   0       2.323   2.080   1.127  1.00  0.00       B   H  \\nHETATM    3 H    WAT A   0       2.323   0.566   1.127  1.00  0.00       B   H  \\nHETATM    4 O    WAT A   1       0.615   0.932   1.323  1.00  0.00       B   O  \\nHETATM    5 H    WAT A   1       0.615   1.518   2.080  1.00  0.00       B   H  \\nHETATM    6 H    WAT A   1       0.615   1.518   0.566  1.00  0.00       B   H  \\nENDMDL\\n\",\"pdb\",{\"keepH\": \"true\"});\n\tviewergrid_1668438090654845[0][0].setStyle({\"model\": -1, \"serial\": 1},{\"sphere\": {\"scale\": 0.2, \"color\": \"#800000\"}});\n\tviewergrid_1668438090654845[0][0].addModelsAsFrames(\"MODEL 0\\nCRYST1    7.000    7.000    7.000     90     90     90                          \\nHETATM    1 O    WAT A   0       2.323   1.323   1.714  1.00  0.00       B   O  \\nHETATM    2 H    WAT A   0       2.323   2.080   1.127  1.00  0.00       B   H  \\nHETATM    3 H    WAT A   0       2.323   0.566   1.127  1.00  0.00       B   H  \\nHETATM    4 O    WAT A   1       0.615   0.932   1.323  1.00  0.00       B   O  \\nHETATM    5 H    WAT A   1       0.615   1.518   2.080  1.00  0.00       B   H  \\nHETATM    6 H    WAT A   1       0.615   1.518   0.566  1.00  0.00       B   H  \\nENDMDL\\n\",\"pdb\",{\"keepH\": \"true\"});\n\tviewergrid_1668438090654845[0][0].setStyle({\"model\": -1, \"serial\": 2},{\"sphere\": {\"scale\": 0.2, \"color\": \"#800000\"}});\n\tviewergrid_1668438090654845[0][0].addModelsAsFrames(\"MODEL 0\\nCRYST1    7.000    7.000    7.000     90     90     90                          \\nHETATM    1 O    WAT A   0       2.323   1.323   1.714  1.00  0.00       B   O  \\nHETATM    2 H    WAT A   0       2.323   2.080   1.127  1.00  0.00       B   H  \\nHETATM    3 H    WAT A   0       2.323   0.566   1.127  1.00  0.00       B   H  \\nHETATM    4 O    WAT A   1       0.615   0.932   1.323  1.00  0.00       B   O  \\nHETATM    5 H    WAT A   1       0.615   1.518   2.080  1.00  0.00       B   H  \\nHETATM    6 H    WAT A   1       0.615   1.518   0.566  1.00  0.00       B   H  \\nENDMDL\\n\",\"pdb\",{\"keepH\": \"true\"});\n\tviewergrid_1668438090654845[0][0].setStyle({\"model\": -1, \"serial\": 3},{\"sphere\": {\"scale\": 0.2, \"color\": \"#800000\"}});\n\tviewergrid_1668438090654845[0][0].addModelsAsFrames(\"MODEL 0\\nCRYST1    7.000    7.000    7.000     90     90     90                          \\nHETATM    1 O    WAT A   0       2.323   1.323   1.714  1.00  0.00       B   O  \\nHETATM    2 H    WAT A   0       2.323   2.080   1.127  1.00  0.00       B   H  \\nHETATM    3 H    WAT A   0       2.323   0.566   1.127  1.00  0.00       B   H  \\nHETATM    4 O    WAT A   1       0.615   0.932   1.323  1.00  0.00       B   O  \\nHETATM    5 H    WAT A   1       0.615   1.518   2.080  1.00  0.00       B   H  \\nHETATM    6 H    WAT A   1       0.615   1.518   0.566  1.00  0.00       B   H  \\nENDMDL\\n\",\"pdb\",{\"keepH\": \"true\"});\n\tviewergrid_1668438090654845[0][0].setStyle({\"model\": -1},{\"line\": {\"color\": \"black\"}});\n\tviewergrid_1668438090654845[0][0].addModelsAsFrames(\"MODEL 0\\nCRYST1    7.000    7.000    7.000     90     90     90                          \\nHETATM    1 O    WAT A   0       2.323   1.323   1.714  1.00  0.00       B   O  \\nHETATM    2 H    WAT A   0       2.323   2.080   1.127  1.00  0.00       B   H  \\nHETATM    3 H    WAT A   0       2.323   0.566   1.127  1.00  0.00       B   H  \\nHETATM    4 O    WAT A   1       0.615   0.932   1.323  1.00  0.00       B   O  \\nHETATM    5 H    WAT A   1       0.615   1.518   2.080  1.00  0.00       B   H  \\nHETATM    6 H    WAT A   1       0.615   1.518   0.566  1.00  0.00       B   H  \\nENDMDL\\n\",\"pdb\",{\"keepH\": \"true\"});\n\tviewergrid_1668438090654845[0][0].setStyle({\"model\": -1, \"serial\": 4},{\"sphere\": {\"scale\": 0.2, \"color\": \"#00FF40\"}});\n\tviewergrid_1668438090654845[0][0].addModelsAsFrames(\"MODEL 0\\nCRYST1    7.000    7.000    7.000     90     90     90                          \\nHETATM    1 O    WAT A   0       2.323   1.323   1.714  1.00  0.00       B   O  \\nHETATM    2 H    WAT A   0       2.323   2.080   1.127  1.00  0.00       B   H  \\nHETATM    3 H    WAT A   0       2.323   0.566   1.127  1.00  0.00       B   H  \\nHETATM    4 O    WAT A   1       0.615   0.932   1.323  1.00  0.00       B   O  \\nHETATM    5 H    WAT A   1       0.615   1.518   2.080  1.00  0.00       B   H  \\nHETATM    6 H    WAT A   1       0.615   1.518   0.566  1.00  0.00       B   H  \\nENDMDL\\n\",\"pdb\",{\"keepH\": \"true\"});\n\tviewergrid_1668438090654845[0][0].setStyle({\"model\": -1, \"serial\": 5},{\"sphere\": {\"scale\": 0.2, \"color\": \"#00FF40\"}});\n\tviewergrid_1668438090654845[0][0].addModelsAsFrames(\"MODEL 0\\nCRYST1    7.000    7.000    7.000     90     90     90                          \\nHETATM    1 O    WAT A   0       2.323   1.323   1.714  1.00  0.00       B   O  \\nHETATM    2 H    WAT A   0       2.323   2.080   1.127  1.00  0.00       B   H  \\nHETATM    3 H    WAT A   0       2.323   0.566   1.127  1.00  0.00       B   H  \\nHETATM    4 O    WAT A   1       0.615   0.932   1.323  1.00  0.00       B   O  \\nHETATM    5 H    WAT A   1       0.615   1.518   2.080  1.00  0.00       B   H  \\nHETATM    6 H    WAT A   1       0.615   1.518   0.566  1.00  0.00       B   H  \\nENDMDL\\n\",\"pdb\",{\"keepH\": \"true\"});\n\tviewergrid_1668438090654845[0][0].setStyle({\"model\": -1, \"serial\": 6},{\"sphere\": {\"scale\": 0.2, \"color\": \"#00FF40\"}});\n\tviewergrid_1668438090654845[0][0].addUnitCell({\"model\": -1},{\"box\": {\"color\": \"black\"}, \"alabel\": \"\", \"blabel\": \"\", \"clabel\": \"\"});\n\tviewergrid_1668438090654845[0][0].zoomTo();\nviewergrid_1668438090654845[0][0].render();\n});\n</script>",
      "text/html": [
       "<div id=\"3dmolviewer_1668438090654845\"  style=\"position: relative; width: 400px; height: 300px\">\n",
       "        <p id=\"3dmolwarning_1668438090654845\" style=\"background-color:#ffcccc;color:black\">You appear to be running in JupyterLab (or JavaScript failed to load for some other reason).  You need to install the 3dmol extension: <br>\n",
       "        <tt>jupyter labextension install jupyterlab_3dmol</tt></p>\n",
       "        </div>\n",
       "<script>\n",
       "\n",
       "var loadScriptAsync = function(uri){\n",
       "  return new Promise((resolve, reject) => {\n",
       "    var tag = document.createElement('script');\n",
       "    tag.src = uri;\n",
       "    tag.async = true;\n",
       "    tag.onload = () => {\n",
       "      resolve();\n",
       "    };\n",
       "  var firstScriptTag = document.getElementsByTagName('script')[0];\n",
       "  firstScriptTag.parentNode.insertBefore(tag, firstScriptTag);\n",
       "});\n",
       "};\n",
       "\n",
       "if(typeof $3Dmolpromise === 'undefined') {\n",
       "$3Dmolpromise = null;\n",
       "  $3Dmolpromise = loadScriptAsync('https://cdn.jsdelivr.net/npm/3dmol@latest/build/3Dmol-min.min.js');\n",
       "}\n",
       "\n",
       "var viewer_1668438090654845 = null;\n",
       "var warn = document.getElementById(\"3dmolwarning_1668438090654845\");\n",
       "if(warn) {\n",
       "    warn.parentNode.removeChild(warn);\n",
       "}\n",
       "$3Dmolpromise.then(function() {\n",
       "var viewergrid_1668438090654845 = null;\n",
       "viewergrid_1668438090654845 = $3Dmol.createViewerGrid($(\"#3dmolviewer_1668438090654845\"),{rows: 1, cols: 1, control_all: false},{backgroundColor:\"white\"});\n",
       "viewer_1668438090654845 = viewergrid_1668438090654845[0][0];\n",
       "viewergrid_1668438090654845[0][0].zoomTo();\tviewergrid_1668438090654845[0][0].addModelsAsFrames(\"MODEL 0\\nCRYST1    7.000    7.000    7.000     90     90     90                          \\nHETATM    1 O    WAT A   0       2.323   1.323   1.714  1.00  0.00       B   O  \\nHETATM    2 H    WAT A   0       2.323   2.080   1.127  1.00  0.00       B   H  \\nHETATM    3 H    WAT A   0       2.323   0.566   1.127  1.00  0.00       B   H  \\nHETATM    4 O    WAT A   1       0.615   0.932   1.323  1.00  0.00       B   O  \\nHETATM    5 H    WAT A   1       0.615   1.518   2.080  1.00  0.00       B   H  \\nHETATM    6 H    WAT A   1       0.615   1.518   0.566  1.00  0.00       B   H  \\nENDMDL\\n\",\"pdb\",{\"keepH\": \"true\"});\n",
       "\tviewergrid_1668438090654845[0][0].setStyle({\"model\": -1},{\"line\": {\"color\": \"black\"}});\n",
       "\tviewergrid_1668438090654845[0][0].addModelsAsFrames(\"MODEL 0\\nCRYST1    7.000    7.000    7.000     90     90     90                          \\nHETATM    1 O    WAT A   0       2.323   1.323   1.714  1.00  0.00       B   O  \\nHETATM    2 H    WAT A   0       2.323   2.080   1.127  1.00  0.00       B   H  \\nHETATM    3 H    WAT A   0       2.323   0.566   1.127  1.00  0.00       B   H  \\nHETATM    4 O    WAT A   1       0.615   0.932   1.323  1.00  0.00       B   O  \\nHETATM    5 H    WAT A   1       0.615   1.518   2.080  1.00  0.00       B   H  \\nHETATM    6 H    WAT A   1       0.615   1.518   0.566  1.00  0.00       B   H  \\nENDMDL\\n\",\"pdb\",{\"keepH\": \"true\"});\n",
       "\tviewergrid_1668438090654845[0][0].setStyle({\"model\": -1, \"serial\": 1},{\"sphere\": {\"scale\": 0.2, \"color\": \"#800000\"}});\n",
       "\tviewergrid_1668438090654845[0][0].addModelsAsFrames(\"MODEL 0\\nCRYST1    7.000    7.000    7.000     90     90     90                          \\nHETATM    1 O    WAT A   0       2.323   1.323   1.714  1.00  0.00       B   O  \\nHETATM    2 H    WAT A   0       2.323   2.080   1.127  1.00  0.00       B   H  \\nHETATM    3 H    WAT A   0       2.323   0.566   1.127  1.00  0.00       B   H  \\nHETATM    4 O    WAT A   1       0.615   0.932   1.323  1.00  0.00       B   O  \\nHETATM    5 H    WAT A   1       0.615   1.518   2.080  1.00  0.00       B   H  \\nHETATM    6 H    WAT A   1       0.615   1.518   0.566  1.00  0.00       B   H  \\nENDMDL\\n\",\"pdb\",{\"keepH\": \"true\"});\n",
       "\tviewergrid_1668438090654845[0][0].setStyle({\"model\": -1, \"serial\": 2},{\"sphere\": {\"scale\": 0.2, \"color\": \"#800000\"}});\n",
       "\tviewergrid_1668438090654845[0][0].addModelsAsFrames(\"MODEL 0\\nCRYST1    7.000    7.000    7.000     90     90     90                          \\nHETATM    1 O    WAT A   0       2.323   1.323   1.714  1.00  0.00       B   O  \\nHETATM    2 H    WAT A   0       2.323   2.080   1.127  1.00  0.00       B   H  \\nHETATM    3 H    WAT A   0       2.323   0.566   1.127  1.00  0.00       B   H  \\nHETATM    4 O    WAT A   1       0.615   0.932   1.323  1.00  0.00       B   O  \\nHETATM    5 H    WAT A   1       0.615   1.518   2.080  1.00  0.00       B   H  \\nHETATM    6 H    WAT A   1       0.615   1.518   0.566  1.00  0.00       B   H  \\nENDMDL\\n\",\"pdb\",{\"keepH\": \"true\"});\n",
       "\tviewergrid_1668438090654845[0][0].setStyle({\"model\": -1, \"serial\": 3},{\"sphere\": {\"scale\": 0.2, \"color\": \"#800000\"}});\n",
       "\tviewergrid_1668438090654845[0][0].addModelsAsFrames(\"MODEL 0\\nCRYST1    7.000    7.000    7.000     90     90     90                          \\nHETATM    1 O    WAT A   0       2.323   1.323   1.714  1.00  0.00       B   O  \\nHETATM    2 H    WAT A   0       2.323   2.080   1.127  1.00  0.00       B   H  \\nHETATM    3 H    WAT A   0       2.323   0.566   1.127  1.00  0.00       B   H  \\nHETATM    4 O    WAT A   1       0.615   0.932   1.323  1.00  0.00       B   O  \\nHETATM    5 H    WAT A   1       0.615   1.518   2.080  1.00  0.00       B   H  \\nHETATM    6 H    WAT A   1       0.615   1.518   0.566  1.00  0.00       B   H  \\nENDMDL\\n\",\"pdb\",{\"keepH\": \"true\"});\n",
       "\tviewergrid_1668438090654845[0][0].setStyle({\"model\": -1},{\"line\": {\"color\": \"black\"}});\n",
       "\tviewergrid_1668438090654845[0][0].addModelsAsFrames(\"MODEL 0\\nCRYST1    7.000    7.000    7.000     90     90     90                          \\nHETATM    1 O    WAT A   0       2.323   1.323   1.714  1.00  0.00       B   O  \\nHETATM    2 H    WAT A   0       2.323   2.080   1.127  1.00  0.00       B   H  \\nHETATM    3 H    WAT A   0       2.323   0.566   1.127  1.00  0.00       B   H  \\nHETATM    4 O    WAT A   1       0.615   0.932   1.323  1.00  0.00       B   O  \\nHETATM    5 H    WAT A   1       0.615   1.518   2.080  1.00  0.00       B   H  \\nHETATM    6 H    WAT A   1       0.615   1.518   0.566  1.00  0.00       B   H  \\nENDMDL\\n\",\"pdb\",{\"keepH\": \"true\"});\n",
       "\tviewergrid_1668438090654845[0][0].setStyle({\"model\": -1, \"serial\": 4},{\"sphere\": {\"scale\": 0.2, \"color\": \"#00FF40\"}});\n",
       "\tviewergrid_1668438090654845[0][0].addModelsAsFrames(\"MODEL 0\\nCRYST1    7.000    7.000    7.000     90     90     90                          \\nHETATM    1 O    WAT A   0       2.323   1.323   1.714  1.00  0.00       B   O  \\nHETATM    2 H    WAT A   0       2.323   2.080   1.127  1.00  0.00       B   H  \\nHETATM    3 H    WAT A   0       2.323   0.566   1.127  1.00  0.00       B   H  \\nHETATM    4 O    WAT A   1       0.615   0.932   1.323  1.00  0.00       B   O  \\nHETATM    5 H    WAT A   1       0.615   1.518   2.080  1.00  0.00       B   H  \\nHETATM    6 H    WAT A   1       0.615   1.518   0.566  1.00  0.00       B   H  \\nENDMDL\\n\",\"pdb\",{\"keepH\": \"true\"});\n",
       "\tviewergrid_1668438090654845[0][0].setStyle({\"model\": -1, \"serial\": 5},{\"sphere\": {\"scale\": 0.2, \"color\": \"#00FF40\"}});\n",
       "\tviewergrid_1668438090654845[0][0].addModelsAsFrames(\"MODEL 0\\nCRYST1    7.000    7.000    7.000     90     90     90                          \\nHETATM    1 O    WAT A   0       2.323   1.323   1.714  1.00  0.00       B   O  \\nHETATM    2 H    WAT A   0       2.323   2.080   1.127  1.00  0.00       B   H  \\nHETATM    3 H    WAT A   0       2.323   0.566   1.127  1.00  0.00       B   H  \\nHETATM    4 O    WAT A   1       0.615   0.932   1.323  1.00  0.00       B   O  \\nHETATM    5 H    WAT A   1       0.615   1.518   2.080  1.00  0.00       B   H  \\nHETATM    6 H    WAT A   1       0.615   1.518   0.566  1.00  0.00       B   H  \\nENDMDL\\n\",\"pdb\",{\"keepH\": \"true\"});\n",
       "\tviewergrid_1668438090654845[0][0].setStyle({\"model\": -1, \"serial\": 6},{\"sphere\": {\"scale\": 0.2, \"color\": \"#00FF40\"}});\n",
       "\tviewergrid_1668438090654845[0][0].addUnitCell({\"model\": -1},{\"box\": {\"color\": \"black\"}, \"alabel\": \"\", \"blabel\": \"\", \"clabel\": \"\"});\n",
       "\tviewergrid_1668438090654845[0][0].zoomTo();\n",
       "viewergrid_1668438090654845[0][0].render();\n",
       "});\n",
       "</script>"
      ]
     },
     "metadata": {},
     "output_type": "display_data"
    }
   ],
   "source": [
    "_ = sys.display()"
   ]
  },
  {
   "cell_type": "markdown",
   "id": "experienced-worry",
   "metadata": {
    "id": "experienced-worry"
   },
   "source": [
    "We see that the minimum image convention has wrapped the red fragment around so that it is now on the left side. We can inspect this position values closer from the `Atom` class."
   ]
  },
  {
   "cell_type": "code",
   "execution_count": 26,
   "id": "cooperative-vegetarian",
   "metadata": {
    "colab": {
     "base_uri": "https://localhost:8080/"
    },
    "id": "cooperative-vegetarian",
    "outputId": "abbbb166-bebc-4539-bb6e-bbd752105af9"
   },
   "outputs": [
    {
     "name": "stdout",
     "output_type": "stream",
     "text": [
      "WAT:0\n",
      "[2.3229430273, 1.3229430273, 1.7139430273] [2.3229430273, 1.3229430273, 1.7139430273]\n",
      "[2.3229430273, 2.0801430273, 1.1274430273] [2.3229430273, 2.0801430273, 1.1274430273]\n",
      "[2.3229430273, 0.5657430273000001, 1.1274430273] [2.3229430273, 0.5657430273000001, 1.1274430273]\n",
      "WAT:1\n",
      "[7.6147151365, 0.9319430273000001, 1.3229430272999996] [0.6147151365000005, 0.9319430273000001, 1.3229430272999996]\n",
      "[7.6147151365, 1.5184430273000002, 2.0801430272999997] [0.6147151365000005, 1.5184430273000002, 2.0801430272999997]\n",
      "[7.6147151365, 1.5184430273000002, 0.5657430272999997] [0.6147151365000005, 1.5184430273000002, 0.5657430272999997]\n"
     ]
    }
   ],
   "source": [
    "for fragid, frag in sys.items():\n",
    "    print(fragid)\n",
    "    for at in frag:\n",
    "        print(at.get_position(\"angstroem\"), at.get_position(\"angstroem\", cell=sys.cell))"
   ]
  },
  {
   "cell_type": "markdown",
   "id": "democratic-italy",
   "metadata": {
    "id": "democratic-italy"
   },
   "source": [
    "We also can get accessed to fractional units this way."
   ]
  },
  {
   "cell_type": "code",
   "execution_count": 27,
   "id": "partial-bunch",
   "metadata": {
    "colab": {
     "base_uri": "https://localhost:8080/"
    },
    "id": "partial-bunch",
    "outputId": "dfdaf7bb-d108-48d4-af65-93db7022f4a2"
   },
   "outputs": [
    {
     "name": "stdout",
     "output_type": "stream",
     "text": [
      "WAT:0\n",
      "[0.3318490039, 0.18899186104285715, 0.2448490039]\n",
      "[0.3318490039, 0.29716328961428573, 0.1610632896142857]\n",
      "[0.3318490039, 0.08082043247142859, 0.1610632896142857]\n",
      "WAT:1\n",
      "[0.08781644807142865, 0.1331347181857143, 0.1889918610428571]\n",
      "[0.08781644807142865, 0.21692043247142861, 0.2971632896142857]\n",
      "[0.08781644807142865, 0.21692043247142861, 0.08082043247142852]\n"
     ]
    }
   ],
   "source": [
    "for fragid, frag in sys.items():\n",
    "    print(fragid)\n",
    "    for at in frag:\n",
    "        print(at.get_position(\"reduced\", cell=sys.cell))"
   ]
  },
  {
   "cell_type": "markdown",
   "id": "357e65fe-54fc-44c2-8367-a29a4bd1c556",
   "metadata": {
    "id": "357e65fe-54fc-44c2-8367-a29a4bd1c556"
   },
   "source": [
    "The ```sys.get_posinp()``` method provides the information written in `YAML` markup format:"
   ]
  },
  {
   "cell_type": "code",
   "execution_count": 28,
   "id": "be8c3440-9f1e-44ab-8e00-fdeca6543262",
   "metadata": {
    "colab": {
     "base_uri": "https://localhost:8080/"
    },
    "id": "be8c3440-9f1e-44ab-8e00-fdeca6543262",
    "outputId": "a96db1b4-2e63-480a-8ca2-6e55816aebaf"
   },
   "outputs": [
    {
     "data": {
      "text/plain": [
       "{'positions': [{'O': [2.3229430273, 1.3229430273, 1.7139430273],\n",
       "   'frag': ['WAT', '0']},\n",
       "  {'H': [2.3229430273, 2.0801430273, 1.1274430273], 'frag': ['WAT', '0']},\n",
       "  {'H': [2.3229430273, 0.5657430273000001, 1.1274430273],\n",
       "   'frag': ['WAT', '0']},\n",
       "  {'O': [0.6147151365000005, 0.9319430273000001, 1.3229430272999996],\n",
       "   'frag': ['WAT', '1']},\n",
       "  {'H': [0.6147151365000005, 1.5184430273000002, 2.0801430272999997],\n",
       "   'frag': ['WAT', '1']},\n",
       "  {'H': [0.6147151365000005, 1.5184430273000002, 0.5657430272999997],\n",
       "   'frag': ['WAT', '1']}],\n",
       " 'units': 'angstroem',\n",
       " 'cell': [7.0, 7.0, 7.0]}"
      ]
     },
     "execution_count": 28,
     "metadata": {},
     "output_type": "execute_result"
    }
   ],
   "source": [
    "sys.get_posinp()"
   ]
  },
  {
   "cell_type": "markdown",
   "id": "fdf09f42",
   "metadata": {},
   "source": [
    "## Calculation examples\n",
    "1 - Simple finite system\n",
    "\n",
    "2 - Periodic system"
   ]
  },
  {
   "cell_type": "markdown",
   "id": "c89d4c90",
   "metadata": {},
   "source": [
    "1 - Let us create a simple system using the tools described so far and run a calculation with a wavelet grid spacing of $0.4$ bohr (good for the large majority of the systems) and the PBE functional. A logfile is generated from which we can access the computed properties. This logfile has built in properties and can be accessed like a dictionary."
   ]
  },
  {
   "cell_type": "code",
   "execution_count": 29,
   "id": "054f3374",
   "metadata": {},
   "outputs": [
    {
     "name": "stdout",
     "output_type": "stream",
     "text": [
      "H [0.0, 0.0, 0.0]\n",
      "H [0.0, 0.0, 1.4]\n",
      "He [10.0, 0.0, 0.0]\n",
      "H2:1\n",
      "  H [0.0, 0.0, 0.0]\n",
      "  H [0.0, 0.0, 1.4]\n",
      "He:2\n",
      "  He [10.0, 0.0, 0.0]\n"
     ]
    }
   ],
   "source": [
    "# Create Three Atoms\n",
    "at1 = Atom({\"H\": [0, 0, 0], \"units\": \"bohr\"})\n",
    "at2 = Atom({\"H\": [0, 0, 1.4], \"units\": \"bohr\"})\n",
    "at3 = Atom({\"He\": [10, 0, 0], \"units\": \"bohr\"})\n",
    "# Construct a System from Two Fragments (H2, He)\n",
    "sys = System()\n",
    "sys[\"H2:1\"] = Fragment([at1, at2])\n",
    "sys[\"He:2\"] = Fragment([at3])\n",
    "\n",
    "# Iterate Over The System to inspect the atoms positions\n",
    "for at in sys.get_atoms():\n",
    "    print(at.sym, at.get_position())\n",
    "# or alternatively, two-level iteration (fragment first)\n",
    "for fragid, frag in sys.items():\n",
    "    print(fragid)\n",
    "    for at in frag:\n",
    "        print(' ', at.sym, at.get_position())"
   ]
  },
  {
   "cell_type": "code",
   "execution_count": 32,
   "id": "17d90d1c",
   "metadata": {},
   "outputs": [
    {
     "data": {
      "application/3dmoljs_load.v0": "<div id=\"3dmolviewer_1668438121013525\"  style=\"position: relative; width: 400px; height: 300px\">\n        <p id=\"3dmolwarning_1668438121013525\" style=\"background-color:#ffcccc;color:black\">You appear to be running in JupyterLab (or JavaScript failed to load for some other reason).  You need to install the 3dmol extension: <br>\n        <tt>jupyter labextension install jupyterlab_3dmol</tt></p>\n        </div>\n<script>\n\nvar loadScriptAsync = function(uri){\n  return new Promise((resolve, reject) => {\n    var tag = document.createElement('script');\n    tag.src = uri;\n    tag.async = true;\n    tag.onload = () => {\n      resolve();\n    };\n  var firstScriptTag = document.getElementsByTagName('script')[0];\n  firstScriptTag.parentNode.insertBefore(tag, firstScriptTag);\n});\n};\n\nif(typeof $3Dmolpromise === 'undefined') {\n$3Dmolpromise = null;\n  $3Dmolpromise = loadScriptAsync('https://cdn.jsdelivr.net/npm/3dmol@latest/build/3Dmol-min.min.js');\n}\n\nvar viewer_1668438121013525 = null;\nvar warn = document.getElementById(\"3dmolwarning_1668438121013525\");\nif(warn) {\n    warn.parentNode.removeChild(warn);\n}\n$3Dmolpromise.then(function() {\nvar viewergrid_1668438121013525 = null;\nviewergrid_1668438121013525 = $3Dmol.createViewerGrid($(\"#3dmolviewer_1668438121013525\"),{rows: 1, cols: 1, control_all: false},{backgroundColor:\"white\"});\nviewer_1668438121013525 = viewergrid_1668438121013525[0][0];\nviewergrid_1668438121013525[0][0].zoomTo();\tviewergrid_1668438121013525[0][0].addModelsAsFrames(\"MODEL 0\\nHETATM    1 H    H2  A   1       0.000   0.000   0.000  1.00  0.00       B   H  \\nHETATM    2 H    H2  A   1       0.000   0.000   0.741  1.00  0.00       B   H  \\nHETATM    3 He   He  A   2       5.292   0.000   0.000  1.00  0.00       B  He  \\nENDMDL\\n\",\"pdb\",{\"keepH\": \"true\"});\n\tviewergrid_1668438121013525[0][0].setStyle({\"model\": -1},{\"line\": {\"color\": \"black\"}});\n\tviewergrid_1668438121013525[0][0].addModelsAsFrames(\"MODEL 0\\nHETATM    1 H    H2  A   1       0.000   0.000   0.000  1.00  0.00       B   H  \\nHETATM    2 H    H2  A   1       0.000   0.000   0.741  1.00  0.00       B   H  \\nHETATM    3 He   He  A   2       5.292   0.000   0.000  1.00  0.00       B  He  \\nENDMDL\\n\",\"pdb\",{\"keepH\": \"true\"});\n\tviewergrid_1668438121013525[0][0].setStyle({\"model\": -1, \"serial\": 1},{\"sphere\": {\"scale\": 0.2, \"color\": \"#800000\"}});\n\tviewergrid_1668438121013525[0][0].addModelsAsFrames(\"MODEL 0\\nHETATM    1 H    H2  A   1       0.000   0.000   0.000  1.00  0.00       B   H  \\nHETATM    2 H    H2  A   1       0.000   0.000   0.741  1.00  0.00       B   H  \\nHETATM    3 He   He  A   2       5.292   0.000   0.000  1.00  0.00       B  He  \\nENDMDL\\n\",\"pdb\",{\"keepH\": \"true\"});\n\tviewergrid_1668438121013525[0][0].setStyle({\"model\": -1, \"serial\": 2},{\"sphere\": {\"scale\": 0.2, \"color\": \"#800000\"}});\n\tviewergrid_1668438121013525[0][0].addModelsAsFrames(\"MODEL 0\\nHETATM    1 H    H2  A   1       0.000   0.000   0.000  1.00  0.00       B   H  \\nHETATM    2 H    H2  A   1       0.000   0.000   0.741  1.00  0.00       B   H  \\nHETATM    3 He   He  A   2       5.292   0.000   0.000  1.00  0.00       B  He  \\nENDMDL\\n\",\"pdb\",{\"keepH\": \"true\"});\n\tviewergrid_1668438121013525[0][0].setStyle({\"model\": -1},{\"line\": {\"color\": \"black\"}});\n\tviewergrid_1668438121013525[0][0].addModelsAsFrames(\"MODEL 0\\nHETATM    1 H    H2  A   1       0.000   0.000   0.000  1.00  0.00       B   H  \\nHETATM    2 H    H2  A   1       0.000   0.000   0.741  1.00  0.00       B   H  \\nHETATM    3 He   He  A   2       5.292   0.000   0.000  1.00  0.00       B  He  \\nENDMDL\\n\",\"pdb\",{\"keepH\": \"true\"});\n\tviewergrid_1668438121013525[0][0].setStyle({\"model\": -1, \"serial\": 3},{\"sphere\": {\"scale\": 0.2, \"color\": \"#00FF40\"}});\n\tviewergrid_1668438121013525[0][0].addUnitCell({\"model\": -1},{\"box\": {\"color\": \"black\"}, \"alabel\": \"\", \"blabel\": \"\", \"clabel\": \"\"});\n\tviewergrid_1668438121013525[0][0].zoomTo();\nviewergrid_1668438121013525[0][0].render();\n});\n</script>",
      "text/html": [
       "<div id=\"3dmolviewer_1668438121013525\"  style=\"position: relative; width: 400px; height: 300px\">\n",
       "        <p id=\"3dmolwarning_1668438121013525\" style=\"background-color:#ffcccc;color:black\">You appear to be running in JupyterLab (or JavaScript failed to load for some other reason).  You need to install the 3dmol extension: <br>\n",
       "        <tt>jupyter labextension install jupyterlab_3dmol</tt></p>\n",
       "        </div>\n",
       "<script>\n",
       "\n",
       "var loadScriptAsync = function(uri){\n",
       "  return new Promise((resolve, reject) => {\n",
       "    var tag = document.createElement('script');\n",
       "    tag.src = uri;\n",
       "    tag.async = true;\n",
       "    tag.onload = () => {\n",
       "      resolve();\n",
       "    };\n",
       "  var firstScriptTag = document.getElementsByTagName('script')[0];\n",
       "  firstScriptTag.parentNode.insertBefore(tag, firstScriptTag);\n",
       "});\n",
       "};\n",
       "\n",
       "if(typeof $3Dmolpromise === 'undefined') {\n",
       "$3Dmolpromise = null;\n",
       "  $3Dmolpromise = loadScriptAsync('https://cdn.jsdelivr.net/npm/3dmol@latest/build/3Dmol-min.min.js');\n",
       "}\n",
       "\n",
       "var viewer_1668438121013525 = null;\n",
       "var warn = document.getElementById(\"3dmolwarning_1668438121013525\");\n",
       "if(warn) {\n",
       "    warn.parentNode.removeChild(warn);\n",
       "}\n",
       "$3Dmolpromise.then(function() {\n",
       "var viewergrid_1668438121013525 = null;\n",
       "viewergrid_1668438121013525 = $3Dmol.createViewerGrid($(\"#3dmolviewer_1668438121013525\"),{rows: 1, cols: 1, control_all: false},{backgroundColor:\"white\"});\n",
       "viewer_1668438121013525 = viewergrid_1668438121013525[0][0];\n",
       "viewergrid_1668438121013525[0][0].zoomTo();\tviewergrid_1668438121013525[0][0].addModelsAsFrames(\"MODEL 0\\nHETATM    1 H    H2  A   1       0.000   0.000   0.000  1.00  0.00       B   H  \\nHETATM    2 H    H2  A   1       0.000   0.000   0.741  1.00  0.00       B   H  \\nHETATM    3 He   He  A   2       5.292   0.000   0.000  1.00  0.00       B  He  \\nENDMDL\\n\",\"pdb\",{\"keepH\": \"true\"});\n",
       "\tviewergrid_1668438121013525[0][0].setStyle({\"model\": -1},{\"line\": {\"color\": \"black\"}});\n",
       "\tviewergrid_1668438121013525[0][0].addModelsAsFrames(\"MODEL 0\\nHETATM    1 H    H2  A   1       0.000   0.000   0.000  1.00  0.00       B   H  \\nHETATM    2 H    H2  A   1       0.000   0.000   0.741  1.00  0.00       B   H  \\nHETATM    3 He   He  A   2       5.292   0.000   0.000  1.00  0.00       B  He  \\nENDMDL\\n\",\"pdb\",{\"keepH\": \"true\"});\n",
       "\tviewergrid_1668438121013525[0][0].setStyle({\"model\": -1, \"serial\": 1},{\"sphere\": {\"scale\": 0.2, \"color\": \"#800000\"}});\n",
       "\tviewergrid_1668438121013525[0][0].addModelsAsFrames(\"MODEL 0\\nHETATM    1 H    H2  A   1       0.000   0.000   0.000  1.00  0.00       B   H  \\nHETATM    2 H    H2  A   1       0.000   0.000   0.741  1.00  0.00       B   H  \\nHETATM    3 He   He  A   2       5.292   0.000   0.000  1.00  0.00       B  He  \\nENDMDL\\n\",\"pdb\",{\"keepH\": \"true\"});\n",
       "\tviewergrid_1668438121013525[0][0].setStyle({\"model\": -1, \"serial\": 2},{\"sphere\": {\"scale\": 0.2, \"color\": \"#800000\"}});\n",
       "\tviewergrid_1668438121013525[0][0].addModelsAsFrames(\"MODEL 0\\nHETATM    1 H    H2  A   1       0.000   0.000   0.000  1.00  0.00       B   H  \\nHETATM    2 H    H2  A   1       0.000   0.000   0.741  1.00  0.00       B   H  \\nHETATM    3 He   He  A   2       5.292   0.000   0.000  1.00  0.00       B  He  \\nENDMDL\\n\",\"pdb\",{\"keepH\": \"true\"});\n",
       "\tviewergrid_1668438121013525[0][0].setStyle({\"model\": -1},{\"line\": {\"color\": \"black\"}});\n",
       "\tviewergrid_1668438121013525[0][0].addModelsAsFrames(\"MODEL 0\\nHETATM    1 H    H2  A   1       0.000   0.000   0.000  1.00  0.00       B   H  \\nHETATM    2 H    H2  A   1       0.000   0.000   0.741  1.00  0.00       B   H  \\nHETATM    3 He   He  A   2       5.292   0.000   0.000  1.00  0.00       B  He  \\nENDMDL\\n\",\"pdb\",{\"keepH\": \"true\"});\n",
       "\tviewergrid_1668438121013525[0][0].setStyle({\"model\": -1, \"serial\": 3},{\"sphere\": {\"scale\": 0.2, \"color\": \"#00FF40\"}});\n",
       "\tviewergrid_1668438121013525[0][0].addUnitCell({\"model\": -1},{\"box\": {\"color\": \"black\"}, \"alabel\": \"\", \"blabel\": \"\", \"clabel\": \"\"});\n",
       "\tviewergrid_1668438121013525[0][0].zoomTo();\n",
       "viewergrid_1668438121013525[0][0].render();\n",
       "});\n",
       "</script>"
      ]
     },
     "metadata": {},
     "output_type": "display_data"
    },
    {
     "data": {
      "text/plain": [
       "<BigDFT.Visualization.InlineVisualizer at 0x111a10190>"
      ]
     },
     "execution_count": 32,
     "metadata": {},
     "output_type": "execute_result"
    }
   ],
   "source": [
    "# this is what we have created\n",
    "sys.display()"
   ]
  },
  {
   "cell_type": "code",
   "execution_count": 33,
   "id": "a6afb2fa",
   "metadata": {},
   "outputs": [],
   "source": [
    "#install.data('data/session1.tar.xz')"
   ]
  },
  {
   "cell_type": "code",
   "execution_count": 34,
   "id": "5720f306",
   "metadata": {},
   "outputs": [],
   "source": [
    "from BigDFT.Inputfiles import Inputfile\n",
    "inp = Inputfile()\n",
    "inp.set_hgrid(0.4)\n",
    "inp.set_xc(\"PBE\")\n",
    "# we remove the calculation of the forces\n",
    "inp[\"perf\"] = {\"calculate_forces\": False}"
   ]
  },
  {
   "cell_type": "code",
   "execution_count": 35,
   "id": "111951f3",
   "metadata": {},
   "outputs": [],
   "source": [
    "from BigDFT.Calculators import SystemCalculator\n",
    "calc = SystemCalculator(skip=True, verbose=False)"
   ]
  },
  {
   "cell_type": "code",
   "execution_count": 36,
   "id": "0c7ac143",
   "metadata": {},
   "outputs": [],
   "source": [
    "log = calc.run(sys=sys, input=inp, name=\"quick\", run_dir=\"scratch\")"
   ]
  },
  {
   "cell_type": "code",
   "execution_count": 37,
   "id": "982208da",
   "metadata": {},
   "outputs": [
    {
     "name": "stdout",
     "output_type": "stream",
     "text": [
      "-4.0546151576846\n",
      "[BandArray([[-0.57600357, -0.38118857]])]\n",
      "{'Peak Value (MB)': 230.69, 'for the array': 'f_i', 'in the routine': 'vxcpostprocessing', 'Memory Peak of process': 'unknown'}\n"
     ]
    }
   ],
   "source": [
    "#some basic info\n",
    "print(log.energy)\n",
    "print(list(log.evals))\n",
    "print(log.log[\"Memory Consumption Report\"]\n",
    "             [\"Memory occupation\"])"
   ]
  },
  {
   "cell_type": "markdown",
   "id": "062a9f3d",
   "metadata": {},
   "source": [
    "We have \"executed\" (the calculation result is provided with the school material here) a very simple calculation with two Kohn-Sham orbitals. The description of the possible input parameters and how to trigger larger calculations (even on remote computers) will be provided in the forthcoming tutorials."
   ]
  },
  {
   "cell_type": "markdown",
   "id": "0ba68dc1",
   "metadata": {},
   "source": [
    "\n",
    "2 - We setup a BCC unit cell of iron and perform the calculation using a 2x2x2 k-point grid with a Monkhorst-Pack grid."
   ]
  },
  {
   "cell_type": "code",
   "execution_count": 38,
   "id": "ffb344f5",
   "metadata": {},
   "outputs": [],
   "source": [
    "from BigDFT.UnitCells import UnitCell\n",
    "# one single periodic atom\n",
    "pat = Atom({\"Fe\": [0, 0, 0], \"units\": \"angstroem\"})\n",
    "psys = System({\"CEL:0\": Fragment([pat])})\n",
    "psys.cell = UnitCell([2.867, 2.867, 2.867], units=\"angstroem\")"
   ]
  },
  {
   "cell_type": "code",
   "execution_count": 40,
   "id": "b950ff36",
   "metadata": {},
   "outputs": [
    {
     "data": {
      "application/3dmoljs_load.v0": "<div id=\"3dmolviewer_1668438141196661\"  style=\"position: relative; width: 400px; height: 300px\">\n        <p id=\"3dmolwarning_1668438141196661\" style=\"background-color:#ffcccc;color:black\">You appear to be running in JupyterLab (or JavaScript failed to load for some other reason).  You need to install the 3dmol extension: <br>\n        <tt>jupyter labextension install jupyterlab_3dmol</tt></p>\n        </div>\n<script>\n\nvar loadScriptAsync = function(uri){\n  return new Promise((resolve, reject) => {\n    var tag = document.createElement('script');\n    tag.src = uri;\n    tag.async = true;\n    tag.onload = () => {\n      resolve();\n    };\n  var firstScriptTag = document.getElementsByTagName('script')[0];\n  firstScriptTag.parentNode.insertBefore(tag, firstScriptTag);\n});\n};\n\nif(typeof $3Dmolpromise === 'undefined') {\n$3Dmolpromise = null;\n  $3Dmolpromise = loadScriptAsync('https://cdn.jsdelivr.net/npm/3dmol@latest/build/3Dmol-min.min.js');\n}\n\nvar viewer_1668438141196661 = null;\nvar warn = document.getElementById(\"3dmolwarning_1668438141196661\");\nif(warn) {\n    warn.parentNode.removeChild(warn);\n}\n$3Dmolpromise.then(function() {\nvar viewergrid_1668438141196661 = null;\nviewergrid_1668438141196661 = $3Dmol.createViewerGrid($(\"#3dmolviewer_1668438141196661\"),{rows: 1, cols: 1, control_all: false},{backgroundColor:\"white\"});\nviewer_1668438141196661 = viewergrid_1668438141196661[0][0];\nviewergrid_1668438141196661[0][0].zoomTo();\tviewergrid_1668438141196661[0][0].addModelsAsFrames(\"MODEL 0\\nCRYST1    2.867    2.867    2.867     90     90     90                          \\nHETATM    1 Fe   CEL A   0       0.000   0.000   0.000  1.00  0.00       B  Fe  \\nENDMDL\\n\",\"pdb\",{\"keepH\": \"true\"});\n\tviewergrid_1668438141196661[0][0].setStyle({\"model\": -1},{\"line\": {\"color\": \"black\"}});\n\tviewergrid_1668438141196661[0][0].addModelsAsFrames(\"MODEL 0\\nCRYST1    2.867    2.867    2.867     90     90     90                          \\nHETATM    1 Fe   CEL A   0       0.000   0.000   0.000  1.00  0.00       B  Fe  \\nENDMDL\\n\",\"pdb\",{\"keepH\": \"true\"});\n\tviewergrid_1668438141196661[0][0].setStyle({\"model\": -1, \"serial\": 1},{\"sphere\": {\"scale\": 0.2, \"color\": \"#800000\"}});\n\tviewergrid_1668438141196661[0][0].addUnitCell({\"model\": -1},{\"box\": {\"color\": \"black\"}, \"alabel\": \"\", \"blabel\": \"\", \"clabel\": \"\"});\n\tviewergrid_1668438141196661[0][0].zoomTo();\nviewergrid_1668438141196661[0][0].render();\n});\n</script>",
      "text/html": [
       "<div id=\"3dmolviewer_1668438141196661\"  style=\"position: relative; width: 400px; height: 300px\">\n",
       "        <p id=\"3dmolwarning_1668438141196661\" style=\"background-color:#ffcccc;color:black\">You appear to be running in JupyterLab (or JavaScript failed to load for some other reason).  You need to install the 3dmol extension: <br>\n",
       "        <tt>jupyter labextension install jupyterlab_3dmol</tt></p>\n",
       "        </div>\n",
       "<script>\n",
       "\n",
       "var loadScriptAsync = function(uri){\n",
       "  return new Promise((resolve, reject) => {\n",
       "    var tag = document.createElement('script');\n",
       "    tag.src = uri;\n",
       "    tag.async = true;\n",
       "    tag.onload = () => {\n",
       "      resolve();\n",
       "    };\n",
       "  var firstScriptTag = document.getElementsByTagName('script')[0];\n",
       "  firstScriptTag.parentNode.insertBefore(tag, firstScriptTag);\n",
       "});\n",
       "};\n",
       "\n",
       "if(typeof $3Dmolpromise === 'undefined') {\n",
       "$3Dmolpromise = null;\n",
       "  $3Dmolpromise = loadScriptAsync('https://cdn.jsdelivr.net/npm/3dmol@latest/build/3Dmol-min.min.js');\n",
       "}\n",
       "\n",
       "var viewer_1668438141196661 = null;\n",
       "var warn = document.getElementById(\"3dmolwarning_1668438141196661\");\n",
       "if(warn) {\n",
       "    warn.parentNode.removeChild(warn);\n",
       "}\n",
       "$3Dmolpromise.then(function() {\n",
       "var viewergrid_1668438141196661 = null;\n",
       "viewergrid_1668438141196661 = $3Dmol.createViewerGrid($(\"#3dmolviewer_1668438141196661\"),{rows: 1, cols: 1, control_all: false},{backgroundColor:\"white\"});\n",
       "viewer_1668438141196661 = viewergrid_1668438141196661[0][0];\n",
       "viewergrid_1668438141196661[0][0].zoomTo();\tviewergrid_1668438141196661[0][0].addModelsAsFrames(\"MODEL 0\\nCRYST1    2.867    2.867    2.867     90     90     90                          \\nHETATM    1 Fe   CEL A   0       0.000   0.000   0.000  1.00  0.00       B  Fe  \\nENDMDL\\n\",\"pdb\",{\"keepH\": \"true\"});\n",
       "\tviewergrid_1668438141196661[0][0].setStyle({\"model\": -1},{\"line\": {\"color\": \"black\"}});\n",
       "\tviewergrid_1668438141196661[0][0].addModelsAsFrames(\"MODEL 0\\nCRYST1    2.867    2.867    2.867     90     90     90                          \\nHETATM    1 Fe   CEL A   0       0.000   0.000   0.000  1.00  0.00       B  Fe  \\nENDMDL\\n\",\"pdb\",{\"keepH\": \"true\"});\n",
       "\tviewergrid_1668438141196661[0][0].setStyle({\"model\": -1, \"serial\": 1},{\"sphere\": {\"scale\": 0.2, \"color\": \"#800000\"}});\n",
       "\tviewergrid_1668438141196661[0][0].addUnitCell({\"model\": -1},{\"box\": {\"color\": \"black\"}, \"alabel\": \"\", \"blabel\": \"\", \"clabel\": \"\"});\n",
       "\tviewergrid_1668438141196661[0][0].zoomTo();\n",
       "viewergrid_1668438141196661[0][0].render();\n",
       "});\n",
       "</script>"
      ]
     },
     "metadata": {},
     "output_type": "display_data"
    },
    {
     "data": {
      "text/plain": [
       "<BigDFT.Visualization.InlineVisualizer at 0x111afdc10>"
      ]
     },
     "execution_count": 40,
     "metadata": {},
     "output_type": "execute_result"
    }
   ],
   "source": [
    "psys.display()"
   ]
  },
  {
   "cell_type": "code",
   "execution_count": 41,
   "id": "d18ec9b6",
   "metadata": {},
   "outputs": [],
   "source": [
    "# very small k-point mesh, just for comparison\n",
    "inp = Inputfile()\n",
    "inp.set_hgrid(0.3)\n",
    "inp.set_xc(\"LDA\") # can be omitted as this is the default\n",
    "inp[\"kpt\"] = {\"method\": \"mpgrid\", \"ngkpt\": [2, 2, 2]}"
   ]
  },
  {
   "cell_type": "code",
   "execution_count": 42,
   "id": "17f27d6c",
   "metadata": {},
   "outputs": [],
   "source": [
    "log = calc.run(sys=psys, input=inp, name=\"psys\", run_dir=\"scratch\")"
   ]
  },
  {
   "cell_type": "code",
   "execution_count": 43,
   "id": "c9a0260e",
   "metadata": {},
   "outputs": [
    {
     "data": {
      "image/png": "[encoded data removed]",
      "text/plain": [
       "<Figure size 460.8x345.6 with 1 Axes>"
      ]
     },
     "metadata": {
      "needs_background": "light"
     },
     "output_type": "display_data"
    }
   ],
   "source": [
    "# NBVAL_IGNORE_OUTPUT\n",
    "_ = log.get_dos().plot()"
   ]
  },
  {
   "cell_type": "code",
   "execution_count": null,
   "id": "6T784eS-NwKa",
   "metadata": {
    "id": "6T784eS-NwKa"
   },
   "outputs": [],
   "source": [
    "#install.close_drive()"
   ]
  },
  {
   "cell_type": "code",
   "execution_count": null,
   "id": "bcc485e7",
   "metadata": {},
   "outputs": [],
   "source": []
  }
 ],
 "metadata": {
  "colab": {
   "provenance": []
  },
  "kernelspec": {
   "display_name": "Python 3 (ipykernel)",
   "language": "python",
   "name": "python3"
  },
  "language_info": {
   "codemirror_mode": {
    "name": "ipython",
    "version": 3
   },
   "file_extension": ".py",
   "mimetype": "text/x-python",
   "name": "python",
   "nbconvert_exporter": "python",
   "pygments_lexer": "ipython3",
   "version": "3.9.13"
  }
 },
 "nbformat": 4,
 "nbformat_minor": 5
}
