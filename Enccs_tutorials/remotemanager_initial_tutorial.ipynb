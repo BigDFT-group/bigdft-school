{
 "cells": [
  {
   "cell_type": "markdown",
   "id": "98f68bde-8fd4-4279-8c61-8cc55aa02edd",
   "metadata": {},
   "source": [
    "Begin with the common imports, `Dataset` and `URL`. As these two are always used, they are available from `remotemanager` root."
   ]
  },
  {
   "cell_type": "code",
   "execution_count": 1,
   "id": "a5b98769-79b9-4a1a-8bfd-632fb9e88093",
   "metadata": {},
   "outputs": [],
   "source": [
    "from remotemanager import Dataset, URL\n",
    "from remotemanager.serialisation import serialjson"
   ]
  },
  {
   "cell_type": "markdown",
   "id": "6d34eb03-35be-48b4-9ac0-3c8d958f404a",
   "metadata": {},
   "source": [
    "Define a simple function to run:"
   ]
  },
  {
   "cell_type": "code",
   "execution_count": 2,
   "id": "a97f2fb6-fac6-4b5d-bc78-ace703c4a239",
   "metadata": {},
   "outputs": [],
   "source": [
    "def basic_function(inp):\n",
    "    import time\n",
    "    \n",
    "    time.sleep(1)\n",
    "    \n",
    "    return inp*inp"
   ]
  },
  {
   "cell_type": "markdown",
   "id": "4303d124-3c0d-4b4b-a6e0-608c2a8620da",
   "metadata": {},
   "source": [
    "For the moment, we're just running on our local machines"
   ]
  },
  {
   "cell_type": "code",
   "execution_count": 3,
   "id": "17bc1095-f90f-4b44-8c1e-72510a189e76",
   "metadata": {},
   "outputs": [],
   "source": [
    "url = URL()\n",
    "# url = URL(host='vega')"
   ]
  },
  {
   "cell_type": "markdown",
   "id": "ca11dc44-2a45-4582-adf5-114c6b9ca59e",
   "metadata": {},
   "source": [
    "Basic setup done, lets create the Dataset"
   ]
  },
  {
   "cell_type": "code",
   "execution_count": 4,
   "id": "94e571e5-b718-4b23-9718-79805931f4d6",
   "metadata": {},
   "outputs": [],
   "source": [
    "ds = Dataset(function=basic_function,\n",
    "             url=url,\n",
    "             # script='module load Python/3.10.4-GCCcore-11.3.0',  # not changing the script to load the python module causes issues\n",
    "             # serialiser=serialjson(),  # needs updating as yaml isn't available\n",
    "            )"
   ]
  },
  {
   "cell_type": "markdown",
   "id": "bb1e9979-0ca0-4797-b601-797d6147a886",
   "metadata": {},
   "source": [
    "The Dataset stores the _function_, the Runners store the _arguments_\n",
    "\n",
    "Right now all we have is a function, need to create the args:"
   ]
  },
  {
   "cell_type": "code",
   "execution_count": 5,
   "id": "26424ae4-3d83-444f-b652-4f44a07847db",
   "metadata": {},
   "outputs": [],
   "source": [
    "values = [1, 3, 7, 50]\n",
    "\n",
    "for val in values:\n",
    "    ds.append_run(args={'inp': val})"
   ]
  },
  {
   "cell_type": "markdown",
   "id": "6874ea33-db94-4860-bfbd-056866a77d80",
   "metadata": {},
   "source": [
    "Now we have all the material required:\n",
    "\n",
    "- Function\n",
    "- Connection\n",
    "- Arguments\n",
    "\n",
    "Time to run:"
   ]
  },
  {
   "cell_type": "code",
   "execution_count": 6,
   "id": "e91542de-2b2c-463b-889d-73e60a874ece",
   "metadata": {},
   "outputs": [],
   "source": [
    "ds.run(force=True)"
   ]
  },
  {
   "cell_type": "markdown",
   "id": "f8ce4066-b85f-4638-8e29-1b7ebbd985e8",
   "metadata": {},
   "source": [
    "The below cell is useful to wait on a run function, there are two sections to it:\n",
    "\n",
    "### `print(ds.run_cmds)`\n",
    "\n",
    "This checks the commands that were used to launch the command were okay. If there was any errors, you'll see them here.\n",
    "\n",
    "### `while not ds.all_finished: ...`\n",
    "\n",
    "This block waits for the dataset to be completed. `Dataset.all_finished` only returns `True` when all the runners are completed.\n",
    "\n",
    "Note: You can also use `Dataset.is_finished` to see the state on a per-runner basis."
   ]
  },
  {
   "cell_type": "code",
   "execution_count": 7,
   "id": "925e82a6-3e9f-44c6-af0d-5eb72dd81d0e",
   "metadata": {},
   "outputs": [
    {
     "name": "stdout",
     "output_type": "stream",
     "text": [
      "[]\n"
     ]
    }
   ],
   "source": [
    "print(ds.run_cmds)\n",
    "\n",
    "import time\n",
    "while not ds.all_finished:\n",
    "    print('dataset not finished yet, sleeping for 1s')\n",
    "    time.sleep(1)"
   ]
  },
  {
   "cell_type": "markdown",
   "id": "f93b41cb-36ef-41c5-88b7-ea9e9caeb12c",
   "metadata": {},
   "source": [
    "If we've made it through the wait block then we must have results, lets fetch them:"
   ]
  },
  {
   "cell_type": "code",
   "execution_count": 11,
   "id": "3a6524f7-fb15-4a7c-81cb-b9899aed564c",
   "metadata": {},
   "outputs": [],
   "source": [
    "ds.fetch_results()"
   ]
  },
  {
   "cell_type": "markdown",
   "id": "d595829e-be34-48d7-ba04-3f43114fd814",
   "metadata": {},
   "source": [
    "Now they're fetched, we can access them via the `results` property without having to talk to the remote again:"
   ]
  },
  {
   "cell_type": "code",
   "execution_count": 12,
   "id": "68b0233b-b775-4b17-9f1e-ec7f59d6816a",
   "metadata": {},
   "outputs": [
    {
     "data": {
      "text/plain": [
       "[1, 9, 49, 2500]"
      ]
     },
     "execution_count": 12,
     "metadata": {},
     "output_type": "execute_result"
    }
   ],
   "source": [
    "ds.results"
   ]
  },
  {
   "cell_type": "code",
   "execution_count": 13,
   "id": "efc369c3-77de-4250-becb-8e2c66b9d242",
   "metadata": {},
   "outputs": [
    {
     "data": {
      "text/plain": [
       "{'2022-11-07 13:48:48/0': 'created',\n",
       " '2022-11-07 13:48:48/1': 'submitted',\n",
       " '2022-11-07 13:48:49/0': 'resultfile created remotely',\n",
       " '2022-11-07 13:48:49/1': 'completed',\n",
       " '2022-11-07 13:50:14/0': 'submitted',\n",
       " '2022-11-07 13:52:16/0': 'submitted',\n",
       " '2022-11-07 13:52:34/0': 'submitted'}"
      ]
     },
     "execution_count": 13,
     "metadata": {},
     "output_type": "execute_result"
    }
   ],
   "source": [
    "ds.runners[0].history"
   ]
  }
 ],
 "metadata": {
  "kernelspec": {
   "display_name": "Python 3 (ipykernel)",
   "language": "python",
   "name": "python3"
  },
  "language_info": {
   "codemirror_mode": {
    "name": "ipython",
    "version": 3
   },
   "file_extension": ".py",
   "mimetype": "text/x-python",
   "name": "python",
   "nbconvert_exporter": "python",
   "pygments_lexer": "ipython3",
   "version": "3.10.8"
  }
 },
 "nbformat": 4,
 "nbformat_minor": 5
}
