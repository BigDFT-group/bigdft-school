{
  "cells": [
    {
      "cell_type": "markdown",
      "metadata": {
        "id": "N8UJPt0JXChy"
      },
      "source": [
        "# Handling the log files : solution to exercise on N2 molecule\n",
        "\n",
        "Compare the values of the HOMO and HOMO-1 eigenvalues for the LDA and the HF run.\n",
        "Change the values of the *hgrid* and *crmult* to find the converged values. Note that a thorough description of those two (essential) parameters is provided later on when studying a [CH4 molecule](https://l_sim.gitlab.io/bigdft-suite/tutorials/CH4.html).\n",
        "\n",
        "Note that, both in the LDA and in the HF calculation, a norm-conserving PSP is used.\n",
        "\n",
        "The results can be compared to all-electron calculations, done with different basis sets, from references (units are eV)\n",
        "(1) S.&nbsp;Hamel <i>et&nbsp;al.</i> J. Electron Spectrospcopy and Related Phenomena 123 (2002) 345-363 and (2) P.&nbsp;Politzer, F.&nbsp;Abu-Awwad, Theor. Chem. Acc. (1998), 99, 83-87:\n",
        "\n",
        "eigenvalues          | LDA(1) | HF(1) | HF(2) | (Exp.)\n",
        "---------------------|--------|-------|-------|-------\n",
        "3&sigma;<sub>g</sub> | 10.36  | 17.25 | 17.31 | (15.60)\n",
        "1&pi;<sub>u</sub>    | 11.84  | 16.71 | 17.02 | (16.98)\n",
        "2&sigma;<sub>u</sub> | 13.41  | 21.25 | 21.08 | (18.78)\n",
        "\n",
        "The results depends, of course, on the precision chosen for the calculation, and of the presence of the pseudopotential.\n",
        "As it is well-known, the pseudopotential appoximation is however much less severe than the approximation induced by typical XC functionals. We might see that, even in the HF case, the presence of a LDA-based pseudopotential (of rather good quality) does not alter so much the results.\n",
        "\n",
        "Here you can find the values from BigDFT calculation using a very good precision (*hgrid=0.3*, *crmult=7.0*).\n",
        "Note that 1 Ha=27.21138386 eV.\n",
        "\n",
        "eigenvalues          | LDA    | HF\n",
        "---------------------|--------|------\n",
        "3&sigma;<sub>g</sub> | 10.41  | 16.82\n",
        "1&pi;<sub>u</sub>    | 11.88  | 17.37\n",
        "2&sigma;<sub>u</sub> | 13.42  | 21.18\n",
        "\n",
        "How much do these values differ from the calculation with default parameters? Do they converge to a given value?\n",
        "What is the *correlation* for the N2 molecule in (PSP) LDA?"
      ]
    },
    {
      "cell_type": "code",
      "source": [
        "install = \"client\" #@param [\"full_suite\", \"client\"]\n",
        "use_google_drive = False # @param {type:\"boolean\"}\n",
        "install_var=install\n",
        "!wget https://raw.githubusercontent.com/BigDFT-group/bigdft-school/data/packaging/install.py &> /dev/null\n",
        "args={'locally': True} if not use_google_drive else {}\n",
        "import install\n",
        "getattr(install,install_var.split()[0])(**args)"
      ],
      "metadata": {
        "id": "NT1p6RAbXZrB"
      },
      "execution_count": null,
      "outputs": []
    },
    {
      "cell_type": "code",
      "source": [
        "install.data_archive('data/session1.tar.xz')"
      ],
      "metadata": {
        "id": "IcsijgQ-XhbA"
      },
      "execution_count": null,
      "outputs": []
    },
    {
      "cell_type": "code",
      "execution_count": null,
      "metadata": {
        "id": "L0w7Iy_JXCh4"
      },
      "outputs": [],
      "source": [
        "from BigDFT.Systems import System\n",
        "from BigDFT.Fragments import Fragment\n",
        "from BigDFT.IO import XYZReader\n",
        "\n",
        "N2 = System()\n",
        "with XYZReader(\"N2\") as ifile:\n",
        "    N2[\"N:0\"] = Fragment(xyzfile=ifile)"
      ]
    },
    {
      "cell_type": "code",
      "execution_count": null,
      "metadata": {
        "id": "GyS1QNhYXCh6"
      },
      "outputs": [],
      "source": [
        "from BigDFT.Calculators import SystemCalculator\n",
        "from BigDFT.Logfiles import Logfile\n",
        "from BigDFT.Inputfiles import Inputfile\n",
        "\n",
        "HtoeV = 27.21138386 #Conversion Hartree to meV\n",
        "\n",
        "inp = Inputfile()\n",
        "inp['psppar.N']={'Pseudopotential XC': 1}\n",
        "study = SystemCalculator(skip=True, verbose=False) #Create a calculator\n",
        "\n",
        "#Run the code with the name scheme LDA\n",
        "inp.set_xc('LDA')\n",
        "LDA = study.run(input=inp, name=\"LDA\",posinp=N2.get_posinp(), run_dir=\"scratch\")\n",
        "\n",
        "#Run the code with the name scheme HF\n",
        "inp.set_xc('HF')\n",
        "HF = study.run(input=inp, name=\"HF\",posinp=N2.get_posinp(), run_dir=\"scratch\")\n",
        "\n",
        "#Run the code with the name scheme HF\n",
        "inp.set_xc('PBE0')\n",
        "PBE0 = study.run(input=inp, name=\"PBE0\",posinp=N2.get_posinp(), run_dir=\"scratch\")"
      ]
    },
    {
      "cell_type": "markdown",
      "metadata": {
        "id": "-VHirpaXXCh8"
      },
      "source": [
        "The variables *first*, *LDA*, *HF* and *PBE0* are instances of the class *BigDFT.Logfiles.Logfile* which contain all information as the total energy.\n",
        "We should also use directly this call loading the corresponding output file as"
      ]
    },
    {
      "cell_type": "code",
      "execution_count": null,
      "metadata": {
        "id": "cOHfdisPXCh8"
      },
      "outputs": [],
      "source": [
        "PBE0 = Logfile(\"scratch/log-PBE0.yaml\")"
      ]
    },
    {
      "cell_type": "markdown",
      "metadata": {
        "id": "LlEmrzgKXCh9"
      },
      "source": [
        "We compare the values for LDA and HF."
      ]
    },
    {
      "cell_type": "code",
      "execution_count": null,
      "metadata": {
        "id": "MAz-ncbAXCh9"
      },
      "outputs": [],
      "source": [
        "from pandas import DataFrame, options\n",
        "\n",
        "df = DataFrame(columns=[\"eigenvalues\", \"LDA\", \"HF\"])\n",
        "options.display.float_format = '{:,.2f}'.format\n",
        "\n",
        "lda_evals = LDA.evals[0][0]\n",
        "hf_evals = HF.evals[0][0]\n",
        "\n",
        "df.loc[0] = [r\"3$\\sigma_g$\", lda_evals[-1]*HtoeV, hf_evals[-1]*HtoeV]\n",
        "df.loc[1] = [r\"1$\\pi_u$\", lda_evals[-3]*HtoeV, hf_evals[-3]*HtoeV]\n",
        "df.loc[2] = [r\"2$\\sigma_u$\", lda_evals[-4]*HtoeV, hf_evals[-4]*HtoeV]\n",
        "\n",
        "display(df)"
      ]
    },
    {
      "cell_type": "markdown",
      "metadata": {
        "id": "XHdwVI6QXCh_"
      },
      "source": [
        "## Modifications of the calculation parameters\n",
        "Then we do a convergence curve varying *hgrid* which controls the grid step of the Daubechies basis set and *crmult* the extension. The default values are:"
      ]
    },
    {
      "cell_type": "code",
      "execution_count": null,
      "metadata": {
        "id": "I7mZJEsmXCiA"
      },
      "outputs": [],
      "source": [
        "print('hgrids',LDA.log['dft']['hgrids'])\n",
        "print('rmult',LDA.log['dft']['rmult'])"
      ]
    },
    {
      "cell_type": "markdown",
      "metadata": {
        "id": "rGIeWV12XCiA"
      },
      "source": [
        "*hgrids* is an array of 3 values for the x, y, and z direction. A simple scalar can be indicated for the input.\n",
        "*rmult* is composed into two multiplied factors, one for the coarse grid, and the second one for the fine grid.\n",
        "We build our script for LDA and run it (on one core, it takes 10 minutes roughly for all calculations)."
      ]
    },
    {
      "cell_type": "code",
      "execution_count": null,
      "metadata": {
        "id": "rohMzNqyXCiB"
      },
      "outputs": [],
      "source": [
        "Hgrids = [0.45, 0.40, 0.35, 0.30, 0.25]\n",
        "Crmult = [3.0, 5.0, 7.0, 9.0]\n",
        "log_LDA = {}\n",
        "\n",
        "inp.set_xc('LDA')\n",
        "\n",
        "emin_LDA = 0.0\n",
        "for crmult in Crmult:\n",
        "    log_LDA[crmult] = []\n",
        "    for hgrid in Hgrids:\n",
        "        inp.set_hgrid(hgrid)\n",
        "        inp['dft']['rmult'] = [ crmult, 8.0]\n",
        "        name = \"LDA-%4.2f-%04.1f\" % (hgrid,crmult)\n",
        "        log = study.run(input=inp, name=name, posinp=N2.get_posinp(), run_dir=\"scratch\")\n",
        "        log_LDA[crmult].append( log )\n",
        "        emin_LDA =min(emin_LDA,log.energy)"
      ]
    },
    {
      "cell_type": "markdown",
      "metadata": {
        "id": "FDSgWhG0XCiC"
      },
      "source": [
        "We do the same loops to run the Hartree-Fock calculations."
      ]
    },
    {
      "cell_type": "code",
      "execution_count": null,
      "metadata": {
        "id": "Z3G0e-7dXCiC"
      },
      "outputs": [],
      "source": [
        "log_HF = {}\n",
        "inp.set_xc(\"HF\")\n",
        "\n",
        "emin_HF = 0.0\n",
        "for crmult in Crmult:\n",
        "    log_HF[crmult] = []\n",
        "    for hgrid in Hgrids:\n",
        "        inp.set_hgrid(hgrid)\n",
        "        inp['dft']['rmult'] = [ crmult, 8.0]\n",
        "        name = \"HF-%4.2f-%04.1f\" % (hgrid,crmult)\n",
        "        log = study.run(input=inp, name=name, posinp=N2.get_posinp(), run_dir=\"scratch\")\n",
        "        log_HF[crmult].append(log)\n",
        "        emin_HF = min(emin_HF,log.energy)"
      ]
    },
    {
      "cell_type": "code",
      "execution_count": null,
      "metadata": {
        "id": "EzxBMjF_XCiC"
      },
      "outputs": [],
      "source": [
        "import matplotlib.pyplot as plt\n",
        "import numpy as np\n",
        "# Lists of markers and colors (for matplotlib)\n",
        "colors = ['#74a9cf', '#2b8cbe', '#045a8d', '#009900', '#FF8000']\n",
        "colors = ['#000000', '#ff0000', '#045a8d', '#009900', '#FF8000']\n",
        "markers = ['o','s','d','d','d']\n",
        "\n",
        "plt.figure(figsize=(15,7))\n",
        "# Plot with matplotlib\n",
        "for i,crmult in enumerate(Crmult):\n",
        "    im = i%len(colors)\n",
        "    ener = [ HtoeV*(l.energy-emin_LDA) for l in log_LDA[crmult] ]\n",
        "    plt.plot(Hgrids, ener, marker=markers[im],\n",
        "             ls='-', label=str(crmult),color=colors[im])\n",
        "\n",
        "plt.yscale('log')\n",
        "plt.xlabel('Grid step (Bohr)')\n",
        "plt.ylabel('Total energy $\\Delta E$ (eV)')\n",
        "plt.title('Dissociation energy of the N2 dimer for different rmult')\n",
        "plt.legend(loc=4)\n",
        "plt.show()"
      ]
    },
    {
      "cell_type": "markdown",
      "metadata": {
        "id": "BZqniEfVXCiE"
      },
      "source": [
        "In order to converge the result, you need to decrease the grid step and also increase the extension of the mesh. For a given *crmult*, the curve are almost flat. For a *hgrid* value of of 0.35, there is few difference between the values with *crmult*=5.0 and 7.0 but for a *hgrid* value of 0.20 it is important. Now we give the HOMO-1 and HOMO eigenvalues both for LDA and HF functionals"
      ]
    },
    {
      "cell_type": "code",
      "execution_count": null,
      "metadata": {
        "id": "6VmIRruZXCiE"
      },
      "outputs": [],
      "source": [
        "ih = Hgrids.index(0.3)\n",
        "lda_evals = log_LDA[7.0][ih].evals[0][0]\n",
        "hf_evals = log_HF[7.0][ih].evals[0][0]\n",
        "\n",
        "df = DataFrame(columns=[\"LDA\", \"HF\"])\n",
        "for idx, (l,h) in enumerate(zip(reversed(lda_evals),reversed(hf_evals))):\n",
        "    df.loc[idx] = [-HtoeV*l, -HtoeV*h]\n",
        "\n",
        "display(df)"
      ]
    },
    {
      "cell_type": "code",
      "source": [],
      "metadata": {
        "id": "8u2o8zVcMLtT"
      },
      "execution_count": null,
      "outputs": []
    }
  ],
  "metadata": {
    "kernelspec": {
      "display_name": "Python 3 (ipykernel)",
      "language": "python",
      "name": "python3"
    },
    "language_info": {
      "codemirror_mode": {
        "name": "ipython",
        "version": 3
      },
      "file_extension": ".py",
      "mimetype": "text/x-python",
      "name": "python",
      "nbconvert_exporter": "python",
      "pygments_lexer": "ipython3",
      "version": "3.7.12"
    },
    "colab": {
      "provenance": []
    }
  },
  "nbformat": 4,
  "nbformat_minor": 0
}