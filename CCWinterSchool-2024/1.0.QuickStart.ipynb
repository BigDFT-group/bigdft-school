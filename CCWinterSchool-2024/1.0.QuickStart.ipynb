{
  "cells": [
    {
      "cell_type": "markdown",
      "id": "similar-reply",
      "metadata": {
        "id": "similar-reply"
      },
      "source": [
        "# Quick Start - From Python\n",
        "Here we present a broad overview of using the PyBigDFT library to drive BigDFT calculations using Python. Such overview is intended to provide an initial walkthrough among the basic functionalities of the PyBigDFT objects and API.\n",
        "\n",
        "The other notebooks of this section will present the main details of each of the functionalities described here."
      ]
    },
    {
      "cell_type": "markdown",
      "id": "5eb63018",
      "metadata": {
        "id": "5eb63018"
      },
      "source": [
        "## Colab Installation\n",
        "For this tutorial it is enough to install the client version of the BigDFT code.\n",
        "This means that the actual `bigdft` calculations will not be performed, but emulated (the so called \"skip\" mode) starting from the data present in the notebook session. Such data come from pre-executed runs and will be downloaded prior to the execution. This would reproduce exctly the same approach for running the actual calculation (`skip=False`)"
      ]
    },
    {
      "cell_type": "code",
      "source": [
        "install = \"client\" #@param [\"full_suite\", \"client\"]\n",
        "use_google_drive = False # @param {type:\"boolean\"}\n",
        "install_var=install\n",
        "!wget https://raw.githubusercontent.com/BigDFT-group/bigdft-school/data/packaging/install.py &> /dev/null\n",
        "args={'locally': True} if not use_google_drive else {}\n",
        "import install\n",
        "getattr(install,install_var.split()[0])(**args)"
      ],
      "metadata": {
        "cellView": "form",
        "id": "SM0jWYXi0MVa"
      },
      "id": "SM0jWYXi0MVa",
      "execution_count": null,
      "outputs": []
    },
    {
      "cell_type": "code",
      "execution_count": null,
      "id": "12927453",
      "metadata": {
        "collapsed": true,
        "id": "12927453"
      },
      "outputs": [],
      "source": [
        "install.data_archive('data/session1.tar.xz')"
      ]
    },
    {
      "cell_type": "markdown",
      "id": "1566a70a",
      "metadata": {
        "id": "1566a70a"
      },
      "source": [
        "The excution of the above cell should take about ten seconds.\n",
        "Now you can proceed to the execution of the cells below."
      ]
    },
    {
      "cell_type": "markdown",
      "id": "59c59d05",
      "metadata": {
        "id": "59c59d05"
      },
      "source": [
        "## System Manipulation\n",
        "Here we define a system which is compsed of two fragments: H2 and Helium."
      ]
    },
    {
      "cell_type": "code",
      "execution_count": null,
      "id": "jewish-country",
      "metadata": {
        "tags": [],
        "id": "jewish-country"
      },
      "outputs": [],
      "source": [
        "from BigDFT.Systems import System\n",
        "from BigDFT.Fragments import Fragment\n",
        "from BigDFT.Atoms import Atom\n",
        "from BigDFT.Visualization import InlineVisualizer"
      ]
    },
    {
      "cell_type": "code",
      "execution_count": null,
      "id": "bored-scottish",
      "metadata": {
        "tags": [],
        "id": "bored-scottish"
      },
      "outputs": [],
      "source": [
        "# Create Three Atoms\n",
        "at1 = Atom({\"r\": [0, 0, 0], \"sym\": \"H\", \"units\": \"bohr\"})\n",
        "at2 = Atom({\"r\": [0, 0, 1.4], \"sym\": \"H\", \"units\": \"bohr\"})\n",
        "at3 = Atom({\"r\": [10, 0, 0], \"sym\": \"He\", \"units\": \"bohr\"})\n",
        "\n",
        "# Construct a System from Two Fragments (H2, He)\n",
        "sys = System()\n",
        "sys[\"H2:1\"] = Fragment([at1, at2])\n",
        "sys[\"He:2\"] = Fragment([at3])\n",
        "\n",
        "# Iterate Over The System\n",
        "for fragid, frag in sys.items():\n",
        "    for at in frag:\n",
        "        print(fragid, at.sym, at.get_position())"
      ]
    },
    {
      "cell_type": "code",
      "execution_count": null,
      "id": "colonial-bottom",
      "metadata": {
        "tags": [],
        "id": "colonial-bottom"
      },
      "outputs": [],
      "source": [
        "_ = sys.display()"
      ]
    },
    {
      "cell_type": "markdown",
      "id": "caring-timeline",
      "metadata": {
        "id": "caring-timeline"
      },
      "source": [
        "## Calculation\n",
        "Calculate the created system using a grid spacing of $0.4$ and the PBE functional. A logfile is generated from which we can access the computed properties. This logfile has built in properties and can be accessed like a dictionary."
      ]
    },
    {
      "cell_type": "code",
      "execution_count": null,
      "id": "acquired-headline",
      "metadata": {
        "tags": [],
        "id": "acquired-headline"
      },
      "outputs": [],
      "source": [
        "from BigDFT.Inputfiles import Inputfile\n",
        "inp = Inputfile()\n",
        "inp.set_hgrid(0.4)\n",
        "inp.set_xc(\"PBE\")\n",
        "inp[\"perf\"] = {\"calculate_forces\": False,\n",
        "               \"multipole_preserving\": True}"
      ]
    },
    {
      "cell_type": "code",
      "execution_count": null,
      "id": "decent-irish",
      "metadata": {
        "tags": [],
        "id": "decent-irish"
      },
      "outputs": [],
      "source": [
        "from BigDFT.Calculators import SystemCalculator\n",
        "calc = SystemCalculator(skip=True, verbose=False)"
      ]
    },
    {
      "cell_type": "code",
      "execution_count": null,
      "id": "responsible-smoke",
      "metadata": {
        "tags": [],
        "id": "responsible-smoke"
      },
      "outputs": [],
      "source": [
        "log = calc.run(sys=sys, input=inp, name=\"quick\", run_dir=\"scratch\")"
      ]
    },
    {
      "cell_type": "code",
      "execution_count": null,
      "id": "modified-romance",
      "metadata": {
        "tags": [],
        "id": "modified-romance"
      },
      "outputs": [],
      "source": [
        "print(log.energy)\n",
        "print(log.log[\"Memory Consumption Report\"]\n",
        "             [\"Memory occupation\"])"
      ]
    },
    {
      "cell_type": "markdown",
      "id": "worldwide-situation",
      "metadata": {
        "id": "worldwide-situation"
      },
      "source": [
        "## Periodic Systems (optional)\n",
        "The code can treat also extended systems.\n",
        "We setup a BCC unit cell of iron and perform the calculation using a 2x2x2 k-point grid with a Monkhorst-Pack grid."
      ]
    },
    {
      "cell_type": "code",
      "execution_count": null,
      "id": "champion-parliament",
      "metadata": {
        "tags": [],
        "id": "champion-parliament"
      },
      "outputs": [],
      "source": [
        "from BigDFT.UnitCells import UnitCell"
      ]
    },
    {
      "cell_type": "code",
      "execution_count": null,
      "id": "official-yellow",
      "metadata": {
        "tags": [],
        "id": "official-yellow"
      },
      "outputs": [],
      "source": [
        "pat = Atom({\"Fe\": [0, 0, 0], \"units\": \"angstroem\"})\n",
        "psys = System({\"CEL:0\": Fragment([pat])})\n",
        "psys.cell = UnitCell([2.867, 2.867, 2.867], units=\"angstroem\")"
      ]
    },
    {
      "cell_type": "code",
      "execution_count": null,
      "id": "documented-recorder",
      "metadata": {
        "tags": [],
        "id": "documented-recorder"
      },
      "outputs": [],
      "source": [
        "_ = psys.display()"
      ]
    },
    {
      "cell_type": "code",
      "execution_count": null,
      "id": "tracked-honey",
      "metadata": {
        "tags": [],
        "id": "tracked-honey"
      },
      "outputs": [],
      "source": [
        "inp = Inputfile()\n",
        "inp.set_hgrid(0.4)\n",
        "inp.set_xc(\"LDA\")\n",
        "inp.set_kpt_mesh(method='mpgrid',ngkpt=[2, 2, 2])"
      ]
    },
    {
      "cell_type": "code",
      "execution_count": null,
      "id": "buried-tolerance",
      "metadata": {
        "tags": [],
        "id": "buried-tolerance"
      },
      "outputs": [],
      "source": [
        "log = calc.run(sys=psys, input=inp, name=\"psys\", run_dir=\"scratch\")"
      ]
    },
    {
      "cell_type": "code",
      "execution_count": null,
      "id": "sunrise-interim",
      "metadata": {
        "tags": [],
        "id": "sunrise-interim"
      },
      "outputs": [],
      "source": [
        "_ = log.get_dos().plot()"
      ]
    },
    {
      "cell_type": "markdown",
      "id": "aging-extraction",
      "metadata": {
        "id": "aging-extraction"
      },
      "source": [
        "## File I/O\n",
        "Read and write a PDB file. The writing can be done with the `to_file` routine."
      ]
    },
    {
      "cell_type": "code",
      "execution_count": null,
      "id": "158c0ad5-5703-409b-991b-cacbfe2885d2",
      "metadata": {
        "tags": [],
        "id": "158c0ad5-5703-409b-991b-cacbfe2885d2"
      },
      "outputs": [],
      "source": [
        "sys.to_file('scratch/temp.pdb')"
      ]
    },
    {
      "cell_type": "markdown",
      "id": "f37804a9",
      "metadata": {
        "tags": [],
        "id": "f37804a9"
      },
      "source": [
        "For the reading, we can use the more pythonic way.\n",
        "We here read another file."
      ]
    },
    {
      "cell_type": "code",
      "execution_count": null,
      "id": "uniform-theory",
      "metadata": {
        "tags": [],
        "id": "uniform-theory"
      },
      "outputs": [],
      "source": [
        "from BigDFT.IO import read_pdb\n",
        "with open(\"scratch/test.pdb\", \"r\") as ifile:\n",
        "    sys = read_pdb(ifile)"
      ]
    },
    {
      "cell_type": "markdown",
      "source": [
        "Exercise: in case you feel already confident with the `System` class, can you tell which is the content of thi system? How many fragments are inside?\n",
        "Hint: `System` inherits for a dictionary (more precisely a `collections.MutableMapping`)"
      ],
      "metadata": {
        "id": "sFVvk8neLz6q"
      },
      "id": "sFVvk8neLz6q"
    },
    {
      "cell_type": "code",
      "source": [],
      "metadata": {
        "id": "xy5NRU_sMO4Q"
      },
      "id": "xy5NRU_sMO4Q",
      "execution_count": null,
      "outputs": []
    }
  ],
  "metadata": {
    "kernelspec": {
      "display_name": "Python 3 (ipykernel)",
      "language": "python",
      "name": "python3"
    },
    "language_info": {
      "codemirror_mode": {
        "name": "ipython",
        "version": 3
      },
      "file_extension": ".py",
      "mimetype": "text/x-python",
      "name": "python",
      "nbconvert_exporter": "python",
      "pygments_lexer": "ipython3",
      "version": "3.11.3"
    },
    "colab": {
      "provenance": []
    }
  },
  "nbformat": 4,
  "nbformat_minor": 5
}