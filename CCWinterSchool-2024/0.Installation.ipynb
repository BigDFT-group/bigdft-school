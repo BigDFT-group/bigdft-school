{
  "cells": [
    {
      "cell_type": "markdown",
      "metadata": {
        "id": "eDuqtyWFwZk3"
      },
      "source": [
        "# Install BigDFT code or client in Google Colab, locally or into your google drive folder\n",
        "This notebook will install the code in your google drive folder, which will be useful to excute the other tutorials of the school.\n",
        "\n",
        "You should provide authorisation to access your google drive after the execution of the first cell.\n",
        "\n",
        "The files of the school will go in the `bigdft-school` directory. Such folder can be moved to your local disk or deleted once you are done.\n",
        "\n",
        "The entire installation procedure should take about one minute.\n",
        "\n",
        "In the forthcoming lessons, some other packages will be also installed in this folder."
      ]
    },
    {
      "cell_type": "code",
      "source": [
        "install = \"client\" #@param [\"full_suite\", \"client\"]\n",
        "use_google_drive = False # @param {type:\"boolean\"}\n",
        "install_var=install\n",
        "!wget https://raw.githubusercontent.com/BigDFT-group/bigdft-school/data/packaging/install.py &> /dev/null\n",
        "args={'locally': True} if not use_google_drive else {}\n",
        "import install\n",
        "getattr(install,install_var.split()[0])(**args)"
      ],
      "metadata": {
        "colab": {
          "base_uri": "https://localhost:8080/"
        },
        "id": "Cul4g5UBCMs_",
        "outputId": "a7bd906e-80f8-4ad9-8ac0-d2838d9fba0e",
        "cellView": "form"
      },
      "execution_count": null,
      "outputs": [
        {
          "output_type": "stream",
          "name": "stdout",
          "text": [
            "Executing: mkdir -p /content\n",
            "\n",
            "Executing: git clone --depth 1 https://github.com/BigDFT-group/bigdft-school\n",
            "Cloning into 'bigdft-school'...\n",
            "Updating files: 100% (67/67), done.\n",
            "\n",
            "Executing: mkdir -p /content/bigdft-school\n",
            "\n",
            "Executing: pip install -q pybigdft py3dmol ase spglib\n",
            "     ━━━━━━━━━━━━━━━━━━━━━━━━━━━━━━━━━━━━━━━━ 448.5/448.5 kB 7.0 MB/s eta 0:00:00\n",
            "     ━━━━━━━━━━━━━━━━━━━━━━━━━━━━━━━━━━━━━━━━ 2.2/2.2 MB 21.0 MB/s eta 0:00:00\n",
            "     ━━━━━━━━━━━━━━━━━━━━━━━━━━━━━━━━━━━━━━━━ 807.7/807.7 kB 23.0 MB/s eta 0:00:00\n",
            "     ━━━━━━━━━━━━━━━━━━━━━━━━━━━━━━━━━━━━━━━━ 56.1/56.1 kB 3.8 MB/s eta 0:00:00\n",
            "\n"
          ]
        }
      ]
    },
    {
      "cell_type": "code",
      "source": [
        "from BigDFT import Systems"
      ],
      "metadata": {
        "id": "bVdpEFCVE3oV"
      },
      "execution_count": null,
      "outputs": []
    },
    {
      "cell_type": "code",
      "source": [
        "\n"
      ],
      "metadata": {
        "id": "oMsMyke-E7C6"
      },
      "execution_count": null,
      "outputs": []
    },
    {
      "cell_type": "markdown",
      "source": [
        "Done! Now you can move to the [next tutorial](https://githubtocolab.com/BigDFT-group/bigdft-school/blob/main/CCWinterSchool-2024/1.A.Systems.ipynb)"
      ],
      "metadata": {
        "id": "Jl2TTDS2E79K"
      }
    },
    {
      "cell_type": "code",
      "execution_count": null,
      "metadata": {
        "id": "85XHZLop-7GY"
      },
      "outputs": [],
      "source": [
        "!wget https://gitlab.com/luigigenovese/bigdft-school/-/raw/main/packaging/install.py &> /dev/null\n",
        "import install\n",
        "install.full_suite() # Kernel will restart after this, it is normal. Count about 3 minutes"
      ]
    },
    {
      "cell_type": "markdown",
      "metadata": {
        "id": "ae9PJolRCX1P"
      },
      "source": [
        "The notebook should have restarted at present. You may want to remove the runtime warning at the bottom of the page.\n",
        "\n",
        "Also, you may have seen a message about an inconsistent environment at the end of the installation procedure. This message is harmless, you can safely ignore it.\n",
        "\n",
        "The install module will have to be imported again to set the notebook ready for execution.\n",
        "\n",
        "To see if everything looks OK you can execute this cell to see if an energy value is output at the end:"
      ]
    },
    {
      "cell_type": "code",
      "execution_count": null,
      "metadata": {
        "id": "rm0l6B97wZk8"
      },
      "outputs": [],
      "source": [
        "import install\n",
        "install.set_ready() #this resets the basic environment variables and puts us in the correct directory, (only needed for the full suite installation)"
      ]
    },
    {
      "cell_type": "code",
      "execution_count": null,
      "metadata": {
        "id": "kR0i8GZ6_1Jh",
        "colab": {
          "base_uri": "https://localhost:8080/",
          "height": 443
        },
        "outputId": "15498c45-27bd-4977-8653-fb7d55f15593"
      },
      "outputs": [
        {
          "output_type": "stream",
          "name": "stdout",
          "text": [
            "Initialize a Calculator with OMP_NUM_THREADS=1 and command /content/bigdft-school/install/bin/bigdft\n",
            "Creating the yaml input file \"./input.yaml\"\n",
            "Executing command:  /content/bigdft-school/install/bin/bigdft -s Yes\n"
          ]
        },
        {
          "output_type": "error",
          "ename": "ValueError",
          "evalue": "The logfile ./log.yaml does not exist.",
          "traceback": [
            "\u001b[0;31m---------------------------------------------------------------------------\u001b[0m",
            "\u001b[0;31mValueError\u001b[0m                                Traceback (most recent call last)",
            "\u001b[0;32m<ipython-input-2-ab0dd0d05bd3>\u001b[0m in \u001b[0;36m<cell line: 22>\u001b[0;34m()\u001b[0m\n\u001b[1;32m     20\u001b[0m \u001b[0minp\u001b[0m\u001b[0;34m.\u001b[0m\u001b[0mset_hgrid\u001b[0m\u001b[0;34m(\u001b[0m\u001b[0;36m0.4\u001b[0m\u001b[0;34m)\u001b[0m\u001b[0;34m\u001b[0m\u001b[0;34m\u001b[0m\u001b[0m\n\u001b[1;32m     21\u001b[0m \u001b[0;34m\u001b[0m\u001b[0m\n\u001b[0;32m---> 22\u001b[0;31m \u001b[0mlog\u001b[0m \u001b[0;34m=\u001b[0m \u001b[0mcode\u001b[0m\u001b[0;34m.\u001b[0m\u001b[0mrun\u001b[0m\u001b[0;34m(\u001b[0m\u001b[0msys\u001b[0m\u001b[0;34m=\u001b[0m\u001b[0msys\u001b[0m\u001b[0;34m,\u001b[0m \u001b[0minput\u001b[0m\u001b[0;34m=\u001b[0m\u001b[0minp\u001b[0m\u001b[0;34m)\u001b[0m\u001b[0;34m\u001b[0m\u001b[0;34m\u001b[0m\u001b[0m\n\u001b[0m\u001b[1;32m     23\u001b[0m \u001b[0mprint\u001b[0m\u001b[0;34m(\u001b[0m\u001b[0mlog\u001b[0m\u001b[0;34m.\u001b[0m\u001b[0menergy\u001b[0m\u001b[0;34m)\u001b[0m\u001b[0;34m\u001b[0m\u001b[0;34m\u001b[0m\u001b[0m\n\u001b[1;32m     24\u001b[0m \u001b[0;34m\u001b[0m\u001b[0m\n",
            "\u001b[0;32m/usr/local/lib/python3.10/dist-packages/BigDFT/Calculators.py\u001b[0m in \u001b[0;36mrun\u001b[0;34m(self, **kwargs)\u001b[0m\n\u001b[1;32m    261\u001b[0m         \u001b[0mdict_merge\u001b[0m\u001b[0;34m(\u001b[0m\u001b[0mdest\u001b[0m\u001b[0;34m=\u001b[0m\u001b[0mrun_args\u001b[0m\u001b[0;34m,\u001b[0m \u001b[0msrc\u001b[0m\u001b[0;34m=\u001b[0m\u001b[0mrun_results\u001b[0m\u001b[0;34m)\u001b[0m\u001b[0;34m\u001b[0m\u001b[0;34m\u001b[0m\u001b[0m\n\u001b[1;32m    262\u001b[0m         \u001b[0;31m# safe_print('run_updated, again',run_args)\u001b[0m\u001b[0;34m\u001b[0m\u001b[0;34m\u001b[0m\u001b[0m\n\u001b[0;32m--> 263\u001b[0;31m         \u001b[0;32mreturn\u001b[0m \u001b[0mself\u001b[0m\u001b[0;34m.\u001b[0m\u001b[0mpost_processing\u001b[0m\u001b[0;34m(\u001b[0m\u001b[0;34m**\u001b[0m\u001b[0mrun_args\u001b[0m\u001b[0;34m)\u001b[0m\u001b[0;34m\u001b[0m\u001b[0;34m\u001b[0m\u001b[0m\n\u001b[0m\u001b[1;32m    264\u001b[0m \u001b[0;34m\u001b[0m\u001b[0m\n\u001b[1;32m    265\u001b[0m     \u001b[0;32mdef\u001b[0m \u001b[0mpre_processing\u001b[0m\u001b[0;34m(\u001b[0m\u001b[0mself\u001b[0m\u001b[0;34m)\u001b[0m\u001b[0;34m:\u001b[0m\u001b[0;34m\u001b[0m\u001b[0;34m\u001b[0m\u001b[0m\n",
            "\u001b[0;32m/usr/local/lib/python3.10/dist-packages/BigDFT/Calculators.py\u001b[0m in \u001b[0;36mpost_processing\u001b[0;34m(self, timedbg, logname, command)\u001b[0m\n\u001b[1;32m    561\u001b[0m                         \u001b[0msafe_print\u001b[0m\u001b[0;34m(\u001b[0m\u001b[0;34mf' {i}: {line}'\u001b[0m\u001b[0;34m)\u001b[0m\u001b[0;34m\u001b[0m\u001b[0;34m\u001b[0m\u001b[0m\n\u001b[1;32m    562\u001b[0m                         \u001b[0mi\u001b[0m \u001b[0;34m+=\u001b[0m \u001b[0;36m1\u001b[0m\u001b[0;34m\u001b[0m\u001b[0;34m\u001b[0m\u001b[0m\n\u001b[0;32m--> 563\u001b[0;31m             \u001b[0;32mraise\u001b[0m \u001b[0mValueError\u001b[0m\u001b[0;34m(\u001b[0m\u001b[0;34mf'The logfile {logname} does not exist.'\u001b[0m\u001b[0;34m)\u001b[0m\u001b[0;34m\u001b[0m\u001b[0;34m\u001b[0m\u001b[0m\n\u001b[0m\u001b[1;32m    564\u001b[0m \u001b[0;34m\u001b[0m\u001b[0m\n\u001b[1;32m    565\u001b[0m     \u001b[0;32mdef\u001b[0m \u001b[0m_get_command\u001b[0m\u001b[0;34m(\u001b[0m\u001b[0mself\u001b[0m\u001b[0;34m)\u001b[0m\u001b[0;34m:\u001b[0m\u001b[0;34m\u001b[0m\u001b[0;34m\u001b[0m\u001b[0m\n",
            "\u001b[0;31mValueError\u001b[0m: The logfile ./log.yaml does not exist."
          ]
        }
      ],
      "source": [
        "# Test that we can import everything\n",
        "import futile\n",
        "import BigDFT\n",
        "\n",
        "# Test A Full Calculation with PyBigDFT\n",
        "from BigDFT.Systems import System\n",
        "from BigDFT.Fragments import Fragment\n",
        "from BigDFT.Atoms import Atom\n",
        "\n",
        "at = Atom({\"He\": [0, 0, 0]})\n",
        "frag = Fragment([at])\n",
        "sys = System({\"FRA:0\": frag})\n",
        "\n",
        "from BigDFT.Calculators import SystemCalculator\n",
        "code = SystemCalculator(skip=True) #this skip option would not run the code if the result is present.\n",
        "\n",
        "from BigDFT.Inputfiles import Inputfile\n",
        "inp = Inputfile()\n",
        "inp.set_xc(\"PBE\")\n",
        "inp.set_hgrid(0.4)\n",
        "\n",
        "log = code.run(sys=sys, input=inp)\n",
        "print(log.energy)\n",
        "\n"
      ]
    },
    {
      "cell_type": "markdown",
      "source": [
        "Such energy value should be `-2.8893983558799454` (Hartree)\n",
        "\n",
        "We can now present another possible installation of the code, which is performed via only the bigdft client. This installation is lighter as it only involves the python pakages employed by PyBigDFT for pre- and post- processing, and it will be enough for most of the tutorials of the school.\n"
      ],
      "metadata": {
        "id": "aGzsd8RG2fzC"
      }
    },
    {
      "cell_type": "code",
      "source": [
        "import install\n",
        "install.client(locally=True)"
      ],
      "metadata": {
        "id": "kKL2-3DY3Duf"
      },
      "execution_count": null,
      "outputs": []
    },
    {
      "cell_type": "markdown",
      "source": [
        "# Verification step\n",
        "Rerun the execution step now that the client is installed instead to see if the energy is the same even without the BigDFT executable.\n",
        "\n",
        "Tips: restart the runtime without erasing the files, and run the installation command. (`import install` first, then `install.client(locally=True)`)\n",
        "\n",
        "# Installation of the client on your google drive\n",
        "\n",
        "Install the bigdft client on your google drive folder to continue with the school trainings.\n",
        "\n",
        "To trigger this installation you have to authorize the usage of your google drive folder. This would prevent the installation to be performed every time.\n",
        "\n",
        "Tips: it is just enough to remove the ``locally=True`` option.\n"
      ],
      "metadata": {
        "id": "vPRVpI7F6RFp"
      }
    },
    {
      "cell_type": "code",
      "source": [
        "install.client()"
      ],
      "metadata": {
        "id": "P7UL4ZIBId2U"
      },
      "execution_count": null,
      "outputs": []
    },
    {
      "cell_type": "markdown",
      "source": [
        "# Installation form\n",
        "In the forthcoming notebooks you have to setup the bigdft installation each time.\n",
        "If you performed your installation on google drive, this will just remount your drive and set the correct python environment. For the other installation flavours, it would be necessary to perform the installation steps from scratch.\n",
        "We include a form at the beginning of each notebook to suggest the preferred installation method for each session. When suitable, you can choose another one.\n",
        "\n",
        "If you want to test the form, restart the runtime, choose your installation method, and push the \"Play\" button."
      ],
      "metadata": {
        "id": "XCKvJttDV4qy"
      }
    },
    {
      "cell_type": "code",
      "source": [
        "install = \"client (Google drive)\" #@param [\"full_suite\", \"client (Google drive)\", \"client\"]\n",
        "install_var=install\n",
        "!wget https://gitlab.com/luigigenovese/bigdft-school/-/raw/main/packaging/install.py &> /dev/null\n",
        "args={'locally': True} if install == 'client' else {}\n",
        "import install\n",
        "getattr(install,install_var.split()[0])(**args)"
      ],
      "metadata": {
        "id": "1T80WRo-_Sim",
        "cellView": "form"
      },
      "execution_count": null,
      "outputs": []
    },
    {
      "cell_type": "markdown",
      "source": [
        "# Closing the environment\n",
        "\n",
        "There are also commodity functions which unmount your google drive (to keep it in sync with the data that have been copied in it) and to erase every file that has been put in by this school project."
      ],
      "metadata": {
        "id": "yvAx2lawWjTV"
      }
    },
    {
      "cell_type": "code",
      "source": [
        "#this command can be executed to clean completely the google drive (don't do this now, but at the end of the school!)\n",
        "# install.purge_drive()\n"
      ],
      "metadata": {
        "id": "pwQcIIyMXAdV",
        "outputId": "1295c053-cc68-4206-bd28-7fff13d78c05",
        "colab": {
          "base_uri": "https://localhost:8080/"
        }
      },
      "execution_count": null,
      "outputs": [
        {
          "output_type": "stream",
          "name": "stdout",
          "text": [
            "Executing: rm -rf /content/drive/MyDrive/bigdft-school\n"
          ]
        }
      ]
    },
    {
      "cell_type": "code",
      "source": [
        "#we flush the google drive at the end of the process (this can take a long time. You can install locally the client if it takes too long)\n",
        "install.close_drive()"
      ],
      "metadata": {
        "id": "v_VaMsDyI3d2"
      },
      "execution_count": null,
      "outputs": []
    },
    {
      "cell_type": "code",
      "source": [],
      "metadata": {
        "id": "OjFVe4xlkMyc"
      },
      "execution_count": null,
      "outputs": []
    }
  ],
  "metadata": {
    "colab": {
      "provenance": []
    },
    "kernelspec": {
      "display_name": "Python 3 (ipykernel)",
      "language": "python",
      "name": "python3"
    },
    "language_info": {
      "codemirror_mode": {
        "name": "ipython",
        "version": 3
      },
      "file_extension": ".py",
      "mimetype": "text/x-python",
      "name": "python",
      "nbconvert_exporter": "python",
      "pygments_lexer": "ipython3",
      "version": "3.9.7"
    }
  },
  "nbformat": 4,
  "nbformat_minor": 0
}