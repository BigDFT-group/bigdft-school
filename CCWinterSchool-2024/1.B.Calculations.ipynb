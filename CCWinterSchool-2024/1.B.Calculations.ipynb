{
  "cells": [
    {
      "cell_type": "markdown",
      "id": "abd98406",
      "metadata": {
        "id": "abd98406"
      },
      "source": [
        "# A first-principles calculation : Nitrogen molecule\n",
        "\n",
        "Let us go through the fundamentals of simple BigDFT calculation.\n",
        "\n",
        "The following parameters need to addressed one by one:\n",
        "- the atomic positions\n",
        "- the exchange-correlation functional\n",
        "- the proper converged parameters\n",
        "\n",
        "For this part of the tutorial, it is interesting to install the full suite, as some calculations can be performed live."
      ]
    },
    {
      "cell_type": "code",
      "source": [
        "install = \"client (Google drive)\" #@param [\"full_suite\", \"client (Google drive)\", \"client\"]\n",
        "install_var=install\n",
        "!pip install -q pybigdft py3dmol\n",
        "!wget https://raw.githubusercontent.com/BigDFT-group/bigdft-school/data/packaging/install.py &> /dev/null\n",
        "args={'locally': True} if install == 'client' else {}\n",
        "import install"
      ],
      "metadata": {
        "id": "7p4LfcLuIPyv"
      },
      "id": "7p4LfcLuIPyv",
      "execution_count": null,
      "outputs": []
    },
    {
      "cell_type": "code",
      "source": [
        "# we need some data to be installed also\n",
        "install.data('data/session1.tar.xz')"
      ],
      "metadata": {
        "id": "2dDd-AfrJYYq"
      },
      "id": "2dDd-AfrJYYq",
      "execution_count": null,
      "outputs": []
    },
    {
      "cell_type": "markdown",
      "id": "944731df",
      "metadata": {
        "id": "944731df"
      },
      "source": [
        "## How to perform a first run\n",
        "\n",
        "Atomic positions can be obtained from the BigDFT database (available [here](https://gitlab.com/l_sim/bigdft-suite/-/tree/devel/PyBigDFT/BigDFT/Database/XYZs))."
      ]
    },
    {
      "cell_type": "code",
      "execution_count": null,
      "id": "0fd73cbd",
      "metadata": {
        "id": "0fd73cbd"
      },
      "outputs": [],
      "source": [
        "from BigDFT.Systems import System\n",
        "from BigDFT.Fragments import Fragment\n",
        "from BigDFT.IO import XYZReader\n",
        "\n",
        "N2 = System()\n",
        "with XYZReader(\"N2\") as ifile:\n",
        "    N2[\"N:0\"] = Fragment([next(ifile)])\n",
        "    N2[\"N:1\"] = Fragment([next(ifile)])"
      ]
    },
    {
      "cell_type": "markdown",
      "id": "c0a5814e",
      "metadata": {
        "id": "c0a5814e"
      },
      "source": [
        "The atomic positions are then"
      ]
    },
    {
      "cell_type": "code",
      "execution_count": null,
      "id": "8670348d",
      "metadata": {
        "id": "8670348d"
      },
      "outputs": [],
      "source": [
        "print(N2.get_posinp())"
      ]
    },
    {
      "cell_type": "markdown",
      "id": "2a10aba3",
      "metadata": {
        "id": "2a10aba3"
      },
      "source": [
        "A calculation is run using the `Calculator` class."
      ]
    },
    {
      "cell_type": "code",
      "execution_count": null,
      "id": "de4c8435",
      "metadata": {
        "id": "de4c8435"
      },
      "outputs": [],
      "source": [
        "from BigDFT import Calculators as C\n",
        "\n",
        "study = C.SystemCalculator(verbose=True) #Create a calculator\n",
        "log = study.run(posinp=N2.get_posinp(),name=\"N2\",run_dir='scratch') #run the code"
      ]
    },
    {
      "cell_type": "markdown",
      "id": "d278f930",
      "metadata": {
        "id": "d278f930"
      },
      "source": [
        "An instance of the `Logfile` class is returned, containing information about the electronic structure (and more) of the system.\n",
        "\n",
        "For example, the total energy of the system is"
      ]
    },
    {
      "cell_type": "code",
      "execution_count": null,
      "id": "93abba65",
      "metadata": {
        "id": "93abba65"
      },
      "outputs": [],
      "source": [
        "log.energy #this value is in Ha"
      ]
    },
    {
      "cell_type": "markdown",
      "id": "186cef9d",
      "metadata": {
        "id": "186cef9d"
      },
      "source": [
        "Similarly, the eigenvalues and the DoS are obtained as"
      ]
    },
    {
      "cell_type": "code",
      "execution_count": null,
      "id": "51ed2a1c",
      "metadata": {
        "id": "51ed2a1c"
      },
      "outputs": [],
      "source": [
        "log.evals[0].tolist() # the eigenvalues in Ha ([0] stands for the first K-point, here meaningless)"
      ]
    },
    {
      "cell_type": "code",
      "execution_count": null,
      "id": "38f5257a",
      "metadata": {
        "id": "38f5257a"
      },
      "outputs": [],
      "source": [
        "log.get_dos().plot(); #the density of states"
      ]
    },
    {
      "cell_type": "markdown",
      "id": "643b8938",
      "metadata": {
        "id": "643b8938"
      },
      "source": [
        "### Calculators\n",
        "\n",
        "let us look closer at the SystemCalculator that was presented above."
      ]
    },
    {
      "cell_type": "code",
      "execution_count": null,
      "id": "9a27a103",
      "metadata": {
        "id": "9a27a103"
      },
      "outputs": [],
      "source": [
        "# we use very little resources asa we are in the cloud.\n",
        "calc = C.SystemCalculator(verbose=False,omp=2,mpi_run='mpirun --allow-run-as-root -np 1')"
      ]
    },
    {
      "cell_type": "markdown",
      "id": "a578dd69",
      "metadata": {
        "id": "a578dd69"
      },
      "source": [
        "This allows to set the computational parameters such as the OpenMP and MPI parallelisations, which is of **crucial importance** for memory and time efficiency.\n",
        "\n",
        "**Important**: this tutorial is not representative of the actual time spent in running the code. Here we are using google Colab resources and therefore the runs are \"skipped\". The data which you have installed in the beginning of this notebook enables the code to behave as if the calculation were made on-the-fly.\n",
        "\n",
        "The global options of the runner (or calculator) can then be accessed by"
      ]
    },
    {
      "cell_type": "code",
      "execution_count": null,
      "id": "be3e2efa",
      "metadata": {
        "id": "be3e2efa"
      },
      "outputs": [],
      "source": [
        "calc.global_options()"
      ]
    },
    {
      "cell_type": "markdown",
      "id": "95094664",
      "metadata": {
        "id": "95094664"
      },
      "source": [
        "### RemoteRunner\n",
        "\n",
        "Note that PyBigDFT also enables to run workflows remotely, as explained in this [tutorial](../tutorials/RemoteRunner.ipynb)."
      ]
    },
    {
      "cell_type": "markdown",
      "id": "2d990c22",
      "metadata": {
        "id": "2d990c22"
      },
      "source": [
        "## How to modify the input parameters\n",
        "\n",
        "To specify non-default input parameters to the code, we should employ a `Inputfile` object.\n",
        "\n",
        "For instance, the XC functional can be chosen via the `set_xc` method.\n",
        "All methods are accessible [here](https://l_sim.gitlab.io/bigdft-suite/PyBigDFT/build/html/BigDFT.InputActions.html)"
      ]
    },
    {
      "cell_type": "code",
      "execution_count": null,
      "id": "3f6600da",
      "metadata": {
        "id": "3f6600da"
      },
      "outputs": [],
      "source": [
        "from BigDFT import Inputfiles as I\n",
        "\n",
        "inp = I.Inputfile()\n",
        "inp.set_xc('LDA')"
      ]
    },
    {
      "cell_type": "markdown",
      "id": "64665bd8",
      "metadata": {
        "id": "64665bd8"
      },
      "source": [
        "In the same spirit, a Hartree-Fock calculation is performed using."
      ]
    },
    {
      "cell_type": "code",
      "execution_count": null,
      "id": "8a88f2bf",
      "metadata": {
        "id": "8a88f2bf"
      },
      "outputs": [],
      "source": [
        "inp.set_xc('HF')\n",
        "HF = study.run(name=\"HF\",input=inp,run_dir='scratch') #Run the code with the name scheme HF"
      ]
    },
    {
      "cell_type": "markdown",
      "id": "0584038a",
      "metadata": {
        "id": "0584038a"
      },
      "source": [
        "An **error** occurred !\n",
        "\n",
        "Let us identify the issue by opening [debug/bigdft-err-0.yaml](./debug/bigdft-err-0.yaml)\n",
        "\n",
        "<pre>\n",
        " Additional Info:\n",
        "   The pseudopotential parameter file \"psppar.N\" is lacking, and no registered pseudo found\n",
        "   for \"N\"</pre>\n",
        "   \n",
        "The issue is that the pseudopotential is assigned by default in the code **only for LDA and PBE** XC approximations.\n",
        "\n",
        "Therefore, one simply needs to specify it."
      ]
    },
    {
      "cell_type": "code",
      "execution_count": null,
      "id": "4ef47529",
      "metadata": {
        "id": "4ef47529"
      },
      "outputs": [],
      "source": [
        "inp['psppar.N']={'Pseudopotential XC': 1} #here 1 stands for LDA as per the XC codes\n",
        "study.update_global_options(skip=True) #if a finalized calculation is found in scratch, the calculation is not performed\n",
        "HF = study.run(name=\"HF\",input=inp,run_dir='scratch')"
      ]
    },
    {
      "cell_type": "markdown",
      "id": "e53fe688",
      "metadata": {
        "id": "e53fe688"
      },
      "source": [
        "One should be careful in **choosing a pseudopotential** which has been **generated with the same XC approximation** used.\n",
        "\n",
        "At present, Hartwigsen-Goedeker-Hutter (HGH) data are unfortunately only available for semilocal functionals. For example, the same exercise as follows could have been done with Hybrid XC functionals (e.g. PBE0 (ixc=-406)).\n",
        "\n",
        "In the case of Hartree-Fock calculations, using semilocal functionals generally yield accurate results (see [Physical Review B 37.5 (1988): 2674](https://journals.aps.org/prb/pdf/10.1103/PhysRevB.37.2674)).\n",
        "\n",
        "In BigDFT, XC functionals are specified using the built in named functionals, or using the [LibXC codes](https://www.tddft.org/programs/libxc/functionals/)."
      ]
    },
    {
      "cell_type": "markdown",
      "id": "bb7ae13d",
      "metadata": {
        "id": "bb7ae13d"
      },
      "source": [
        "## How to perform a convergence analysis\n",
        "\n",
        "Daubechies Wavelets is a systematic basis set (as plane waves are), where accuracy is arbitrarily increased by varying some parameters, i.e. (typically) `hgrid` and `rmult`.\n",
        "\n",
        "**`hgrids`**\n",
        "      set up the grid step for the basis set spatial expansion. There is **one float value** describing the grid         steps in the three space directions (i.e. $x$, $y$ and $z$) or a **3D array** is also accepted.\n",
        "      These values are in bohr unit and typically range from 0.3 to 0.65.\n",
        "      The harder the pseudo-potential, the lower value should be set up.\n",
        "      These values are set using the `set_hgrid` method of the `Inpufile` class.\n",
        "        \n",
        "**`rmult`**\n",
        "      set up the basis set spatial expansion. It contains an array of two float values that are **two multiplying       factors** defining chemical-species-dependent quantities.\n",
        "      The first factor is the most important since it describes the spatial expansion of the basis set, defined as       a set of real space points with non-zero values inside spheres centered on atoms.\n",
        "      The first multiplying factor is called `crmult` for Coarse grid Radius MULTiplier, with typical values of 5       to 7.\n",
        "      The second one called `frmult` for Fine grid Radius MULTiplier is related to the fine resolution.\n",
        "      This parameter is less pertinent for the convergence of energy and can be ignored.\n",
        "      It is possible to indicate only one float value, the `crmult` parameter.\n",
        "      Such parameters can be set by the method `set_rmult` of `Inputfile` class."
      ]
    },
    {
      "cell_type": "markdown",
      "id": "06c4f443",
      "metadata": {
        "id": "06c4f443"
      },
      "source": [
        "Let us find the appropriate parameters to characterize a N2 molecule using the `Dataset`class, by comparing the extracted energies depending on `hgrid` and `rmult`."
      ]
    },
    {
      "cell_type": "code",
      "execution_count": null,
      "id": "f896379c",
      "metadata": {
        "id": "f896379c"
      },
      "outputs": [],
      "source": [
        "hgrids = [0.55, 0.5, 0.45, 0.4, 0.35, 0.3, 0.25, 0.2] #bohr\n",
        "rmult = [3.5, 4.0, 4.5, 5.0, 5.5, 6.0, 6.5, 7.0]"
      ]
    },
    {
      "cell_type": "markdown",
      "id": "63963e74",
      "metadata": {
        "id": "63963e74"
      },
      "source": [
        "Let us build three different datasets, by varying:\n",
        "- `hgrid` and `rmult` together.\n",
        "- only `hgrid`\n",
        "- only `rmult`\n",
        "\n",
        "Each input dictionary is also labeled by a unique name."
      ]
    },
    {
      "cell_type": "code",
      "execution_count": null,
      "id": "81df65ec",
      "metadata": {
        "id": "81df65ec"
      },
      "outputs": [],
      "source": [
        "from BigDFT import Datasets as D\n",
        "from copy import deepcopy\n",
        "\n",
        "inp = I.Inputfile()\n",
        "pos = N2.get_posinp()\n",
        "study = C.SystemCalculator(verbose=True, skip=True) #to avoid long waiting time\n",
        "\n",
        "h_and_c_dataset = D.Dataset('h_and_c')\n",
        "for h,c in zip(hgrids,rmult):\n",
        "    inp_run = deepcopy(inp) # to avoid modifications of `inp`\n",
        "    inp_run.set_hgrid(h)\n",
        "    inp_run.set_rmult([c,9.0])\n",
        "    h_and_c_dataset.append_run(id={'h':h,'c':c},run_dir='scratch',input=inp_run,posinp=pos,runner=study)"
      ]
    },
    {
      "cell_type": "code",
      "execution_count": null,
      "id": "3089271c",
      "metadata": {
        "id": "3089271c"
      },
      "outputs": [],
      "source": [
        "h_only_dataset = D.Dataset('h_only')\n",
        "for h in hgrids:\n",
        "    inp_run = deepcopy(inp)\n",
        "    inp_run.set_hgrid(h)\n",
        "    h_only_dataset.append_run(id={'h':h},run_dir='scratch',input=inp_run,posinp=pos,runner=study)"
      ]
    },
    {
      "cell_type": "code",
      "execution_count": null,
      "id": "ee1d6a52",
      "metadata": {
        "id": "ee1d6a52"
      },
      "outputs": [],
      "source": [
        "c_only_dataset = D.Dataset('c_only')\n",
        "for c in rmult:\n",
        "    inp_run = deepcopy(inp)\n",
        "    inp_run.set_rmult([c,9.0])\n",
        "    c_only_dataset.append_run(id={'c':c},run_dir='scratch',input=inp_run,posinp=pos,runner=study)"
      ]
    },
    {
      "cell_type": "markdown",
      "id": "5f1ee9d3",
      "metadata": {
        "id": "5f1ee9d3"
      },
      "source": [
        "Each dataset is then run. This cell, when executed with the `skip=False` varaible (and the full_suite installation), would take about 6-7 minutes to complete. Instead we execute it in `dry_run` scheme (namely without actually running the computations)."
      ]
    },
    {
      "cell_type": "code",
      "execution_count": null,
      "id": "0dfbfce3",
      "metadata": {
        "id": "0dfbfce3"
      },
      "outputs": [],
      "source": [
        "h_only_dataset.run()\n",
        "c_only_dataset.run()\n",
        "h_and_c_dataset.run()"
      ]
    },
    {
      "cell_type": "markdown",
      "id": "3a8be190",
      "metadata": {
        "id": "3a8be190"
      },
      "source": [
        "We now store the energies of each of the dataset runs, and identify the minimum as the minimum value from the `h_and_c` dataset:"
      ]
    },
    {
      "cell_type": "code",
      "execution_count": null,
      "id": "feb2d70c",
      "metadata": {
        "id": "feb2d70c"
      },
      "outputs": [],
      "source": [
        "from numpy import array\n",
        "\n",
        "energies_h = array(h_only_dataset.fetch_results(attribute='energy'))\n",
        "energies_c = array(c_only_dataset.fetch_results(attribute='energy'))\n",
        "energies_hc = array(h_and_c_dataset.fetch_results(attribute='energy'))\n",
        "#find the minimum and subtract (do you understand numpy syntax? Otherwise don't be afraid to ask...)\n",
        "emin = min(energies_hc)\n",
        "h_data=energies_h-emin\n",
        "c_data=energies_c-emin\n",
        "h_and_c_data=energies_hc-emin"
      ]
    },
    {
      "cell_type": "markdown",
      "id": "94ac56c2",
      "metadata": {
        "id": "94ac56c2"
      },
      "source": [
        "We plot the energy values varying the grid spacing or the wavelet extension"
      ]
    },
    {
      "cell_type": "code",
      "source": [
        "h_and_c_dataset.ids"
      ],
      "metadata": {
        "id": "oUaTsBlHOawX"
      },
      "id": "oUaTsBlHOawX",
      "execution_count": null,
      "outputs": []
    },
    {
      "cell_type": "code",
      "execution_count": null,
      "id": "84683888",
      "metadata": {
        "id": "84683888"
      },
      "outputs": [],
      "source": [
        "import matplotlib.pyplot as plt\n",
        "\n",
        "plt.xlabel('Grid step (Bohr)')\n",
        "plt.yscale('log')\n",
        "plt.plot(hgrids,h_data,label='c=3.5',marker='o',linestyle='solid')\n",
        "for dt,e in zip(h_and_c_dataset.ids,h_and_c_data):\n",
        "    x=dt['h']\n",
        "    plt.scatter(x,e,label='c='+str(dt['c']))\n",
        "plt.legend(loc='best');"
      ]
    },
    {
      "cell_type": "markdown",
      "id": "850afb92",
      "metadata": {
        "id": "850afb92"
      },
      "source": [
        "Likewise, we plot the energy values for the grid spacing"
      ]
    },
    {
      "cell_type": "code",
      "execution_count": null,
      "id": "f0418728",
      "metadata": {
        "id": "f0418728"
      },
      "outputs": [],
      "source": [
        "plt.xlabel('Rmult value')\n",
        "plt.plot(rmult,c_data,label='h=0.55')\n",
        "for dt,e in zip(h_and_c_dataset.ids,h_and_c_data):\n",
        "    x=dt['c']\n",
        "    plt.scatter(x,e,label='h='+str(dt['h']))\n",
        "plt.yscale('log')\n",
        "plt.legend(loc='best');"
      ]
    },
    {
      "cell_type": "markdown",
      "id": "43c99f7d",
      "metadata": {
        "id": "43c99f7d"
      },
      "source": [
        "Importantly, both hgrids and rmult have to be decreased and increased (respectively) in order to achieve convergence. Increasing only one of the two parameter will eventually lead to **saturation of the absolute error** on the energy."
      ]
    },
    {
      "cell_type": "markdown",
      "id": "6238248d",
      "metadata": {
        "id": "6238248d"
      },
      "source": [
        "### Exercise on XC functional\n",
        "\n",
        "Compare the values of the HOMO and HOMO-1 eigenvalues for the LDA, PBE, HF and PBE0 functionals. The corresponding outputs are already available in the directory `scratch`, therefore you may run them in skip mode.\n",
        "\n",
        "The calculation were run with `hgrid=.3` and `rmult=6` using the `Dataset` class, as detailed below.  \n",
        "\n",
        "**Hint**: the attributes of a `Logfile` object are listed [here](https://l_sim.gitlab.io/bigdft-suite/PyBigDFT/build/html/_modules/BigDFT/Logfiles.html#get_logs). The following totorial will also explain some tips."
      ]
    },
    {
      "cell_type": "code",
      "execution_count": null,
      "id": "bb7f343e",
      "metadata": {
        "id": "bb7f343e"
      },
      "outputs": [],
      "source": [
        "xc_list = ['LDA','PBE','HF','PBE0']"
      ]
    },
    {
      "cell_type": "code",
      "execution_count": null,
      "id": "c04627fa",
      "metadata": {
        "id": "c04627fa"
      },
      "outputs": [],
      "source": [
        "from BigDFT import Datasets as D\n",
        "\n",
        "inp = I.Inputfile()\n",
        "inp.set_hgrid(.3)\n",
        "inp.set_rmult(6)\n",
        "pos = N2.get_posinp()\n",
        "study = C.SystemCalculator(skip=True,verbose=True)\n",
        "\n",
        "xc_dataset = D.Dataset('xc')\n",
        "for xc in xc_list:\n",
        "    inp_run = deepcopy(inp)\n",
        "    inp_run.set_xc(xc)\n",
        "    if xc in ['HF','PBE0']:\n",
        "        inp_run['psppar.N']={'Pseudopotential XC': 1}\n",
        "    xc_dataset.append_run(id={'xc':xc},run_dir='scratch',input=inp_run,posinp=pos,runner=study)"
      ]
    },
    {
      "cell_type": "code",
      "execution_count": null,
      "id": "1f09047f",
      "metadata": {
        "id": "1f09047f"
      },
      "outputs": [],
      "source": [
        "xc_dataset.run() #if you run this in skip=False mode you'll need about 6 minutes in Colab cloud resources."
      ]
    },
    {
      "cell_type": "markdown",
      "id": "ad8de6ff",
      "metadata": {
        "id": "ad8de6ff"
      },
      "source": [
        "### Solution"
      ]
    },
    {
      "cell_type": "code",
      "execution_count": null,
      "id": "da9e0748",
      "metadata": {
        "id": "da9e0748"
      },
      "outputs": [],
      "source": [
        "from numpy import array\n",
        "#this is a qlick look at the difference in evals, possible because we have very few orbitals\n",
        "evals = array(xc_dataset.fetch_results(attribute='evals'))\n",
        "\n",
        "plt.plot(xc_list,evals[:,0,0,:],'o');"
      ]
    },
    {
      "cell_type": "markdown",
      "id": "81a266f6",
      "metadata": {
        "id": "81a266f6"
      },
      "source": [
        "## Exercise (summary)\n",
        "\n",
        "Compare the convergence characteristics (`hgrid` and `rmult`) of N2 depending on the XC functional (semilocal vs non-local). **Warning**: To perform these tutorials you have to install the code in the full suite mode, with the ability of running calculations.\n",
        "\n",
        "(**Optional, requires time**) Compute the dissociation energies of CH4 (and compare with data [here](https://aip.scitation.org/doi/10.1063/1.469843))"
      ]
    },
    {
      "cell_type": "code",
      "source": [],
      "metadata": {
        "id": "PYd6Da5DEuzi"
      },
      "id": "PYd6Da5DEuzi",
      "execution_count": null,
      "outputs": []
    }
  ],
  "metadata": {
    "kernelspec": {
      "display_name": "Python 3 (ipykernel)",
      "language": "python",
      "name": "python3"
    },
    "language_info": {
      "codemirror_mode": {
        "name": "ipython",
        "version": 3
      },
      "file_extension": ".py",
      "mimetype": "text/x-python",
      "name": "python",
      "nbconvert_exporter": "python",
      "pygments_lexer": "ipython3",
      "version": "3.9.13"
    },
    "colab": {
      "provenance": []
    }
  },
  "nbformat": 4,
  "nbformat_minor": 5
}
