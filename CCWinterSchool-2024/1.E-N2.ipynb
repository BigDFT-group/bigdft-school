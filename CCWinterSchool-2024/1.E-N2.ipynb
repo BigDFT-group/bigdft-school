{
  "cells": [
    {
      "cell_type": "markdown",
      "metadata": {
        "id": "-SeUGki0qb5s"
      },
      "source": [
        "# Basics of BigDFT: N2 molecule as example\n",
        "\n",
        "This is a simple notebook that shows how to execute a simple calculation with BigDFT.\n",
        "You will learn how to manipulate basic DFT objects from a python script.\n",
        "This expands some of the concepts which have been briefly introduced in the quickstart tutorial."
      ]
    },
    {
      "cell_type": "markdown",
      "metadata": {
        "id": "1K3z68tbH92k"
      },
      "source": [
        "## Setup Environment\n",
        "Recall that installing conda will crash the kernel. This is necessary."
      ]
    },
    {
      "cell_type": "code",
      "execution_count": null,
      "metadata": {
        "cellView": "form",
        "id": "FtusyhXVr5P2",
        "tags": []
      },
      "outputs": [],
      "source": [
        "install = \"client\" #@param [\"full_suite\", \"client\"]\n",
        "use_google_drive = False # @param {type:\"boolean\"}\n",
        "install_var=install\n",
        "!wget https://raw.githubusercontent.com/BigDFT-group/bigdft-school/data/packaging/install.py &> /dev/null\n",
        "args={'locally': True} if not use_google_drive else {}\n",
        "import install\n",
        "getattr(install,install_var.split()[0])(**args)"
      ]
    },
    {
      "cell_type": "markdown",
      "metadata": {
        "id": "HMSW6UelH92l"
      },
      "source": [
        "Now the dependencies can be installed."
      ]
    },
    {
      "cell_type": "code",
      "execution_count": null,
      "metadata": {
        "cellView": "form",
        "tags": [],
        "id": "TqGmImzTH92l"
      },
      "outputs": [],
      "source": [
        "install.data_archive('data/session1.tar.xz')"
      ]
    },
    {
      "cell_type": "markdown",
      "metadata": {
        "id": "cdRf0V9Yqb5w"
      },
      "source": [
        "## How to perform a first run with default parameters\n",
        "\n",
        "For this tutorial, we will run just a simple N2 molecule, taken from the BigDFT database (available [here](https://gitlab.com/l_sim/bigdft-suite/-/tree/devel/PyBigDFT/BigDFT/Database/XYZs))."
      ]
    },
    {
      "cell_type": "code",
      "execution_count": null,
      "metadata": {
        "id": "VMqG8rYpqb5w",
        "tags": []
      },
      "outputs": [],
      "source": [
        "from BigDFT.Systems import System\n",
        "from BigDFT.Fragments import Fragment\n",
        "from BigDFT.IO import XYZReader\n",
        "\n",
        "N2 = System()\n",
        "with XYZReader(\"N2\") as ifile:\n",
        "    N2[\"N:0\"] = Fragment([next(ifile)])\n",
        "    N2[\"N:1\"] = Fragment([next(ifile)])"
      ]
    },
    {
      "cell_type": "markdown",
      "metadata": {
        "id": "62MlXzoIqb5y"
      },
      "source": [
        "Every system object has a `posinp` representation, which is a dictionary representation of the geometry."
      ]
    },
    {
      "cell_type": "code",
      "execution_count": null,
      "metadata": {
        "id": "7kCQ7bOcqb5y",
        "tags": []
      },
      "outputs": [],
      "source": [
        "print(N2.get_posinp())"
      ]
    },
    {
      "cell_type": "markdown",
      "metadata": {
        "id": "CyO3K2Xkqb5z"
      },
      "source": [
        "We now run the DFT calculation (with the default input parameters) of this molecule.\n",
        "This can be done by instantiating a class from the `Calculators` module. Then we call the run method of that calculator with the system of interest."
      ]
    },
    {
      "cell_type": "code",
      "execution_count": null,
      "metadata": {
        "id": "o0VpcvnVqb5z",
        "tags": []
      },
      "outputs": [],
      "source": [
        "from BigDFT import Calculators as C\n",
        "study = C.SystemCalculator(verbose=False,skip=True) #Create a calculator\n",
        "log = study.run(sys=N2,name=\"N2\",run_dir='scratch') #run the code"
      ]
    },
    {
      "cell_type": "markdown",
      "metadata": {
        "id": "9avMgOvQqb50"
      },
      "source": [
        "The `run` method of the `BigDFT.Calculators.SystemCalculator` class shows in the standard output which is the\n",
        "command that is invoked.\n",
        "Then, an instance of the `Logfile` class is returned.\n",
        "Such class can be used (we will see after) to extract the information about the electronic structure of the system."
      ]
    },
    {
      "cell_type": "markdown",
      "metadata": {
        "id": "y7uRCgUGqb51"
      },
      "source": [
        "Now we can retrieve important informations on the run. See the examples below:"
      ]
    },
    {
      "cell_type": "code",
      "execution_count": null,
      "metadata": {
        "id": "FYwP1QNrqb51",
        "tags": []
      },
      "outputs": [],
      "source": [
        "log.energy #this value is in Ha"
      ]
    },
    {
      "cell_type": "code",
      "execution_count": null,
      "metadata": {
        "id": "oKPRzUwqqb52",
        "tags": []
      },
      "outputs": [],
      "source": [
        "log.evals[0].tolist() # the eigenvalues in Ha ([0] stands for the first K-point, here meaningless)"
      ]
    },
    {
      "cell_type": "code",
      "execution_count": null,
      "metadata": {
        "id": "zZhv2tqMqb52",
        "tags": []
      },
      "outputs": [],
      "source": [
        "log.get_dos().plot() #the density of states"
      ]
    },
    {
      "cell_type": "markdown",
      "metadata": {
        "id": "WptrjJZxqb52"
      },
      "source": [
        "The tutorial [DoS Manipulation](https://githubtocolab.com/BigDFT-group/bigdft-school/blob/main/CCP_tutorials/1.J.DoS-Manipulation.ipynb) can be followed to learn how to plot Density of States from a Logfile"
      ]
    },
    {
      "cell_type": "markdown",
      "metadata": {
        "id": "L9JldAMPqb53"
      },
      "source": [
        "## How to use the SystemCalculator instance\n",
        "\n",
        "Before managing different calculations at once, let us look closer at the `SystemCalculator` that was presented above."
      ]
    },
    {
      "cell_type": "code",
      "execution_count": null,
      "metadata": {
        "id": "ZzD7C0HWqb53",
        "tags": []
      },
      "outputs": [],
      "source": [
        "study = C.SystemCalculator(verbose=False,omp=1,mpi_run='mpirun -np 2', skip=True)"
      ]
    },
    {
      "cell_type": "markdown",
      "metadata": {
        "id": "-2xPfaG5qb53"
      },
      "source": [
        "As you can see, initiating an instance allows to set the computational parameters such as the OpenMP and MPI parallelisation. In this case, a single thread is used while two processes are running in parallel, therefore reducing the computation time.\n",
        "The global options of the runner (or calculator) can then be accessed by"
      ]
    },
    {
      "cell_type": "code",
      "execution_count": null,
      "metadata": {
        "id": "tar3VDW9qb54",
        "tags": []
      },
      "outputs": [],
      "source": [
        "study.global_options()"
      ]
    },
    {
      "cell_type": "markdown",
      "metadata": {
        "id": "tPAO4kFwqb54"
      },
      "source": [
        "Global options can be also added and removed as follows"
      ]
    },
    {
      "cell_type": "code",
      "execution_count": null,
      "metadata": {
        "id": "IdRFfXq-qb54",
        "tags": []
      },
      "outputs": [],
      "source": [
        "study.update_global_options(new_option = 'value')\n",
        "study.global_options()"
      ]
    },
    {
      "cell_type": "markdown",
      "metadata": {
        "id": "XRMYdEsAqb55"
      },
      "source": [
        "Similarly, global options can also be removed"
      ]
    },
    {
      "cell_type": "code",
      "execution_count": null,
      "metadata": {
        "id": "3K5oBpO9qb55",
        "tags": []
      },
      "outputs": [],
      "source": [
        "study.pop_global_option('new_option')\n",
        "study.global_options()"
      ]
    },
    {
      "cell_type": "markdown",
      "metadata": {
        "id": "B036Q-ceqb55"
      },
      "source": [
        "Lastly, note that PyBigDFT also enables to run workflows remotely, as explained in the following tutorial."
      ]
    },
    {
      "cell_type": "markdown",
      "metadata": {
        "id": "xO-dwVvwqb55"
      },
      "source": [
        "## How to modify the input parameters from the default ones\n",
        "\n",
        "To specify non-default input parameters to the code, we should employ a `Inputfile` object. One can choose a naming prefix for a run, which enables to classify the runs which are performed, and ease the subsequent postprocessing.\n",
        "\n",
        "Methods of the class can be employed for modifying the input parameters. For instance, the XC functional can be chosen via the `set_xc` method.\n",
        "Imagine for example that you are interested in visualizing the wavefunctions output of the calculation. To do that, the suitable method of the class instance should be called.\n",
        "Create a new calculation set by using, for instance, the `LDA` prefix."
      ]
    },
    {
      "cell_type": "code",
      "execution_count": null,
      "metadata": {
        "id": "XrTW1Ro8qb56",
        "tags": []
      },
      "outputs": [],
      "source": [
        "from BigDFT import Inputfiles as I\n",
        "\n",
        "inp = I.Inputfile()\n",
        "inp.set_xc('LDA')\n",
        "inp.write_orbitals_on_disk()"
      ]
    },
    {
      "cell_type": "markdown",
      "metadata": {
        "id": "DRA0kmi7qb56"
      },
      "source": [
        "The wavefunctions will be present at the end of calculation, by indicating the value of the key *orbitals* in the output dictionary."
      ]
    },
    {
      "cell_type": "code",
      "execution_count": null,
      "metadata": {
        "id": "B12t8uT82dvZ",
        "tags": []
      },
      "outputs": [],
      "source": [
        "study.update_global_options(skip=True) # this would avoid to rerun the calculation and consider the data on the drive"
      ]
    },
    {
      "cell_type": "code",
      "execution_count": null,
      "metadata": {
        "id": "GbdftdtRqb56",
        "tags": []
      },
      "outputs": [],
      "source": [
        "#Run the code with the LDA prefix\n",
        "LDA = study.run(name=\"LDA\",input=inp,posinp=N2.get_posinp(),run_dir='scratch')"
      ]
    },
    {
      "cell_type": "markdown",
      "metadata": {
        "id": "bujByS8Xqb56"
      },
      "source": [
        "When using a naming scheme, the output files are placed in a directory called  **data-LDA**. In our LDA example, the wavefunctions of the system can thus be found in the **data-LDA** directory:"
      ]
    },
    {
      "cell_type": "code",
      "execution_count": null,
      "metadata": {
        "id": "NtlMf9rpqb56",
        "tags": []
      },
      "outputs": [],
      "source": [
        "!ls scratch/data-LDA"
      ]
    },
    {
      "cell_type": "markdown",
      "metadata": {
        "id": "tTqkI75Uqb57"
      },
      "source": [
        "Here 001 means the first K-point (meaningless in this case), N stands for non spin-polarized, R for real part and the remaining number is the orbital ID. Post-processing of these files is done in the another tutorial.\n",
        "\n",
        "In the same spirit, another calculation can be done with different parameters. Imagine we want to perform a Hartree-Fock calculation.\n",
        "We should simply change the XC functional used. However, we also have to specify the pseudopotential."
      ]
    },
    {
      "cell_type": "code",
      "execution_count": null,
      "metadata": {
        "id": "rR-ScvFsqb57",
        "tags": []
      },
      "outputs": [],
      "source": [
        "inp.set_xc('HF')\n",
        "inp['psppar.N']={'Pseudopotential XC': 1} #this set the default PSP for LDA\n",
        "HF = study.run(name=\"HF\",input=inp,run_dir='scratch') #Run the code with the name scheme HF"
      ]
    },
    {
      "cell_type": "markdown",
      "metadata": {
        "id": "EGUz_5b8qb57"
      },
      "source": [
        "Without specifying the PSP, an error will occur. The same error is specified at the end of the log file,\n",
        "and also in [debug/bigdft-err-0.yaml](./scratch/debug/bigdft-err-0.yaml):\n",
        "<pre>\n",
        " Additional Info:\n",
        "   The pseudopotential parameter file \"psppar.N\" is lacking, and no registered pseudo found\n",
        "   for \"N\"</pre>"
      ]
    },
    {
      "cell_type": "markdown",
      "metadata": {
        "id": "ii1mQg-hqb57"
      },
      "source": [
        "This is because the pseudopotential is assigned by default in the code only for LDA and PBE XC approximations.\n",
        "Another alternative is to specify the internal PSP that might be used, taking from the default database of BigDFT. This can be done as follows:"
      ]
    },
    {
      "cell_type": "code",
      "execution_count": null,
      "metadata": {
        "id": "n-TotTY7qb57",
        "tags": []
      },
      "outputs": [],
      "source": [
        "inp['psppar.N']={'Pseudopotential XC': 1} #here 1 stands for LDA as per the XC codes"
      ]
    },
    {
      "cell_type": "markdown",
      "metadata": {
        "id": "xIO0-14nH92x"
      },
      "source": [
        "There are also some routines built into PyBigDFT for setting Krack or NLCC pseudoptentials."
      ]
    },
    {
      "cell_type": "code",
      "execution_count": null,
      "metadata": {
        "id": "kqAgehxdH92x"
      },
      "outputs": [],
      "source": [
        "inp.set_psp_krack(functional=\"LDA\")\n",
        "inp.set_psp_nlcc()"
      ]
    },
    {
      "cell_type": "markdown",
      "metadata": {
        "id": "82YzmHqDqb57"
      },
      "source": [
        "When possible, care should be taken in choosing a pseudopotential which has been generated with the same XC approximation used. Unfortunately, at present HGH data are only available for semilocal functionals. For example, the same exercise as follows could have been done with Hybrid XC functionals, like for example PBE0 (ixc=-406). In the case of Hartree-Fock calculations, using semilocal functionals generally yield accurate results (see [Physical Review B 37.5 (1988): 2674](https://journals.aps.org/prb/pdf/10.1103/PhysRevB.37.2674)).\n",
        "\n",
        "In BigDFT, XC functionals are specified using the built in named functionals, or using the [LibXC codes](https://www.tddft.org/programs/libxc/functionals/)."
      ]
    },
    {
      "cell_type": "code",
      "execution_count": null,
      "metadata": {
        "id": "-dckC7l2qb58",
        "tags": []
      },
      "outputs": [],
      "source": [
        "inp.set_xc('PBE0')\n",
        "PBE0 = study.run(name=\"PBE0\",input=inp,run_dir='scratch') #Run the code with the name scheme PBE0"
      ]
    },
    {
      "cell_type": "markdown",
      "metadata": {
        "id": "5Mxtox8Kqb58"
      },
      "source": [
        "The variables *LDA*, *HF*, and *PBE0* contains all information about the calculation. This is a class Logfile which simplify considerably the extraction of parameters of the associated output file *log-LDA.yaml*. If we simply type:"
      ]
    },
    {
      "cell_type": "code",
      "execution_count": null,
      "metadata": {
        "id": "64s2cCyhqb58",
        "tags": []
      },
      "outputs": [],
      "source": [
        "print(LDA)"
      ]
    },
    {
      "cell_type": "markdown",
      "metadata": {
        "id": "F8voIETcqb58"
      },
      "source": [
        "We display some information about the LDA calculation. For instance, we can extract the eigenvalues of the Hamiltonian *i.e.* the DOS (Density of States):"
      ]
    },
    {
      "cell_type": "code",
      "execution_count": null,
      "metadata": {
        "id": "tYGjU82xqb58",
        "tags": []
      },
      "outputs": [],
      "source": [
        "LDA.evals[0].tolist()"
      ]
    },
    {
      "cell_type": "markdown",
      "metadata": {
        "id": "aa4r3cAmqb59"
      },
      "source": [
        "Note that *LDA.log* is the python dictionary associated to the full output file.\n",
        "This [tutorial](./CCP_tutorials/1.I.Logfile-basics.ipynb) explains the basic methods."
      ]
    },
    {
      "cell_type": "code",
      "execution_count": null,
      "metadata": {
        "id": "TxHHn02rqb59",
        "tags": []
      },
      "outputs": [],
      "source": [
        "print(PBE0)"
      ]
    },
    {
      "cell_type": "markdown",
      "metadata": {
        "id": "OZTr4rf5qb59"
      },
      "source": [
        "The following exercise (and its [solution](../CCP_tutorials/1.E.N2-solution.ipynb)) gives some clues about it."
      ]
    },
    {
      "cell_type": "markdown",
      "metadata": {
        "id": "0QV9J2s9qb59"
      },
      "source": [
        "## The overall structure of files in the disk\n",
        "\n",
        "In the disk, after that the run is performed, different files are created:\n",
        "* `input_minimal.yaml` which contains the minimal set of input variables to perform the run;\n",
        "* `log.yaml` which contains the log of the run with all calculated quantities;\n",
        "* `time.yaml` is associated to the time profiling.\n",
        "\n",
        "For its I/O, BigDFT uses the [yaml](http://www.yaml.org/spec) format.\n",
        "If you look at the `N2_minimal.yaml` file, you can see:"
      ]
    },
    {
      "cell_type": "code",
      "execution_count": null,
      "metadata": {
        "id": "4_ViGAjIH92z"
      },
      "outputs": [],
      "source": [
        "! cat scratch/N2_minimal.yaml"
      ]
    },
    {
      "cell_type": "markdown",
      "metadata": {
        "id": "RL49-hhJH92z"
      },
      "source": [
        "In this case, only the atomic positions are indicated using a yaml format.\n",
        "\n",
        "However, there is a one-to-one correspondence between a yaml file and a python dictionary. For this reason\n",
        "we will create the input parameters of this runs from dictionaries. See the useful [yaml online parser](http://yaml-online-parser.appspot.com/) page to understand the correspondence.\n",
        "\n",
        "In the log file `log-N2.yaml`, BigDFT automatically displays all the input parameters used for the calculations.\n",
        "\n",
        "The parameters which were not explicitly given are set to a default value, except the atomic positions of course, which have to be given. As we did not specified input files here, our run is a single-point LDA calculation, without spin-polarisation."
      ]
    },
    {
      "cell_type": "code",
      "source": [],
      "metadata": {
        "id": "OXK2KVzyK9NS"
      },
      "execution_count": null,
      "outputs": []
    }
  ],
  "metadata": {
    "colab": {
      "provenance": []
    },
    "kernelspec": {
      "display_name": "Python 3 (ipykernel)",
      "language": "python",
      "name": "python3"
    },
    "language_info": {
      "codemirror_mode": {
        "name": "ipython",
        "version": 3
      },
      "file_extension": ".py",
      "mimetype": "text/x-python",
      "name": "python",
      "nbconvert_exporter": "python",
      "pygments_lexer": "ipython3",
      "version": "3.11.3"
    }
  },
  "nbformat": 4,
  "nbformat_minor": 0
}