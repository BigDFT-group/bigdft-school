{
  "cells": [
    {
      "cell_type": "markdown",
      "id": "4e27ab20",
      "metadata": {
        "id": "4e27ab20"
      },
      "source": [
        "# Introduction\n",
        "\n",
        "In this series of tutorials, the fundamental aspects of a BigDFT calculation are inspected.\n",
        "\n",
        "The **topics** addressed are:\n",
        "- building a system\n",
        "- running a simple calculation\n",
        "- reading a Logfile\n",
        "\n",
        "Those subjects are then each followed by **exercises**.\n",
        "\n",
        "The **prerequisites** are:\n",
        "- beginner level in python programming (1)\n",
        "- understanding of *ab initio* methods (2)\n",
        "\n",
        "In the following, PyBigDFT is used to build systems and then compute their first-principles properties using BigDFT.\n",
        "\n",
        "The code packages are installed through the following"
      ]
    },
    {
      "cell_type": "code",
      "source": [
        "install = \"client\" #@param [\"full_suite\", \"client\"]\n",
        "use_google_drive = False # @param {type:\"boolean\"}\n",
        "install_var=install\n",
        "!wget https://raw.githubusercontent.com/BigDFT-group/bigdft-school/data/packaging/install.py &> /dev/null\n",
        "args={'locally': True} if not use_google_drive else {}\n",
        "import install\n",
        "getattr(install,install_var.split()[0])(**args)"
      ],
      "metadata": {
        "id": "3S0OSOVQ8OIl",
        "cellView": "form"
      },
      "id": "3S0OSOVQ8OIl",
      "execution_count": null,
      "outputs": []
    },
    {
      "cell_type": "markdown",
      "id": "bb9527df",
      "metadata": {
        "id": "bb9527df"
      },
      "source": [
        "For this part of the tutorial we have to install an extra package.\n",
        "If your client installation is performed on the google drive, such command will not be needed in the future.\n"
      ]
    },
    {
      "cell_type": "code",
      "source": [
        "install.packages('py3Dmol')"
      ],
      "metadata": {
        "id": "c-z8AjUC9s5K"
      },
      "id": "c-z8AjUC9s5K",
      "execution_count": null,
      "outputs": []
    },
    {
      "cell_type": "markdown",
      "id": "f94bdcb8",
      "metadata": {
        "id": "f94bdcb8"
      },
      "source": [
        "## Python intrinsics manipulation\n",
        "\n",
        "In python, two datastructures are very common: **lists** and **dictionaries**."
      ]
    },
    {
      "cell_type": "code",
      "execution_count": null,
      "id": "cfd1b854",
      "metadata": {
        "id": "cfd1b854"
      },
      "outputs": [],
      "source": [
        "my_list = [0, 1, 2, 3]\n",
        "print(my_list[-1])\n",
        "my_dict = {\"a\": \"word\", \"c\": 4}\n",
        "print(my_dict[\"c\"])"
      ]
    },
    {
      "cell_type": "markdown",
      "id": "614991a9",
      "metadata": {
        "id": "614991a9"
      },
      "source": [
        "Those objects are easily built and manipulated using comprehensions"
      ]
    },
    {
      "cell_type": "code",
      "execution_count": null,
      "id": "18c3df57",
      "metadata": {
        "id": "18c3df57"
      },
      "outputs": [],
      "source": [
        "my_list2 = [x*3 for x in my_list]\n",
        "print(my_list2)\n",
        "my_dict2 = {k+\"2\": v for k,v in my_dict.items()}\n",
        "print(my_dict2)"
      ]
    },
    {
      "cell_type": "markdown",
      "id": "7994a78c",
      "metadata": {
        "id": "7994a78c"
      },
      "source": [
        "Additionally, those objects are serializable in yaml format for improved readability"
      ]
    },
    {
      "cell_type": "code",
      "execution_count": null,
      "id": "c0d07d78",
      "metadata": {
        "id": "c0d07d78"
      },
      "outputs": [],
      "source": [
        "from yaml import dump\n",
        "\n",
        "print(dump(my_dict2))"
      ]
    },
    {
      "cell_type": "markdown",
      "id": "f8e1a5f5",
      "metadata": {
        "id": "f8e1a5f5"
      },
      "source": [
        "## What do we mean by *ab initio* methods?\n",
        "\n",
        "Ab initio quantum chemistry methods attempt to solve Schrödinger's equation given the **positions** of the nuclei and the **number of electrons**, yielding useful information such as electron densities, energies and other properties of the system.\n",
        "\n",
        "A first-principles calculation therefore requires:\n",
        "- a geometry (along with a lattice for solid-state)\n",
        "- an exchange-correlation (XC) functional\n",
        "- a set of input parameters which are specific of the numerical treatment of the method"
      ]
    },
    {
      "cell_type": "markdown",
      "id": "3279bc37",
      "metadata": {
        "id": "3279bc37"
      },
      "source": [
        "# The Geometry: Building a system\n",
        "\n",
        "In PyBigDFT, geometries are build upon different layers:\n",
        "- Atoms: stores any information (dict)\n",
        "- Fragments: are collection of Atoms (list)\n",
        "- Systems: are collection of Fragments (dict)"
      ]
    },
    {
      "cell_type": "markdown",
      "id": "precise-parish",
      "metadata": {
        "id": "precise-parish"
      },
      "source": [
        "## Atoms\n",
        "\n",
        "Any system is composed of atoms, which require both a **symbol** and a **position**.\n",
        "\n",
        "The most appropriate way to store such information (or any other) about an atom is inside a `dict`"
      ]
    },
    {
      "cell_type": "code",
      "execution_count": null,
      "id": "incomplete-chester",
      "metadata": {
        "id": "incomplete-chester"
      },
      "outputs": [],
      "source": [
        "at = {\"sym\": \"H\", \"r\": [1, 0, 0], \"units\": \"angstroem\"}\n",
        "print(dump(at))"
      ]
    },
    {
      "cell_type": "markdown",
      "id": "regulated-flashing",
      "metadata": {
        "id": "regulated-flashing"
      },
      "source": [
        "The `Atoms` class wraps up `dict` in order to provide helpful subroutines."
      ]
    },
    {
      "cell_type": "code",
      "execution_count": null,
      "id": "undefined-closing",
      "metadata": {
        "id": "undefined-closing"
      },
      "outputs": [],
      "source": [
        "from BigDFT.Atoms import Atom\n",
        "\n",
        "atom = Atom(at)\n",
        "print(dump(atom))"
      ]
    },
    {
      "cell_type": "markdown",
      "id": "recognized-collapse",
      "metadata": {
        "id": "recognized-collapse"
      },
      "source": [
        "Some of the built in subroutines are demonstrated below."
      ]
    },
    {
      "cell_type": "code",
      "execution_count": null,
      "id": "silver-composer",
      "metadata": {
        "id": "silver-composer"
      },
      "outputs": [],
      "source": [
        "print(atom.sym)\n",
        "print(atom.atomic_number)\n",
        "print(atom.get_position(\"angstroem\"))\n",
        "print(atom.get_position(\"bohr\"))"
      ]
    },
    {
      "cell_type": "markdown",
      "id": "accurate-tyler",
      "metadata": {
        "id": "accurate-tyler"
      },
      "source": [
        "With this approach, the flexibility of a `dict` is retained."
      ]
    },
    {
      "cell_type": "code",
      "execution_count": null,
      "id": "everyday-guyana",
      "metadata": {
        "id": "everyday-guyana"
      },
      "outputs": [],
      "source": [
        "atom[\"source\"] = \"tutorial\"\n",
        "print(atom[\"source\"])\n",
        "for k,v in atom.items():\n",
        "    print(k,v)"
      ]
    },
    {
      "cell_type": "markdown",
      "id": "postal-blackjack",
      "metadata": {
        "id": "postal-blackjack"
      },
      "source": [
        "## Fragments\n",
        "\n",
        "Calculations involve not single atoms but instead **groups of atoms**. In this case, lists are used as model data structures, with the wrapper class referred to as a `Fragment`."
      ]
    },
    {
      "cell_type": "code",
      "execution_count": null,
      "id": "shaped-institution",
      "metadata": {
        "id": "shaped-institution"
      },
      "outputs": [],
      "source": [
        "at1 = Atom({\"sym\": \"O\", \"r\": [2.3229430273, 1.3229430273, 1.7139430273], \"units\": \"angstroem\"})\n",
        "at2 = Atom({\"sym\": \"H\", \"r\": [2.3229430273, 2.0801430273, 1.1274430273], \"units\": \"angstroem\"})\n",
        "at3 = Atom({\"sym\": \"H\", \"r\": [2.3229430273, 0.5657430273000001, 1.1274430273], \"units\": \"angstroem\"})"
      ]
    },
    {
      "cell_type": "code",
      "execution_count": null,
      "id": "killing-keyboard",
      "metadata": {
        "id": "killing-keyboard"
      },
      "outputs": [],
      "source": [
        "from BigDFT.Fragments import Fragment\n",
        "\n",
        "frag1 = Fragment([at1, at2, at3])\n",
        "print(len(frag1))\n",
        "print(frag1.centroid)"
      ]
    },
    {
      "cell_type": "markdown",
      "id": "unable-behalf",
      "metadata": {
        "id": "unable-behalf"
      },
      "source": [
        "It's also possible to build up a fragment in a more step by step process."
      ]
    },
    {
      "cell_type": "code",
      "execution_count": null,
      "id": "burning-muscle",
      "metadata": {
        "id": "burning-muscle"
      },
      "outputs": [],
      "source": [
        "frag1 = Fragment()\n",
        "frag1.append(at1)\n",
        "frag1 += Fragment([at2])\n",
        "frag1.extend(Fragment([at3]))"
      ]
    },
    {
      "cell_type": "markdown",
      "id": "bfac1e70",
      "metadata": {
        "id": "bfac1e70"
      },
      "source": [
        "The fragment properties are then visualized in yaml format"
      ]
    },
    {
      "cell_type": "code",
      "execution_count": null,
      "id": "selective-packaging",
      "metadata": {
        "id": "selective-packaging"
      },
      "outputs": [],
      "source": [
        "print(dump(frag1))"
      ]
    },
    {
      "cell_type": "markdown",
      "id": "boxed-valuable",
      "metadata": {
        "id": "boxed-valuable"
      },
      "source": [
        "## Systems\n",
        "\n",
        "In PyBigDFT, we have the `System` class at the top, based on a `dict`.\n",
        "Systems are **named collections of fragments**, with the convention for naming fragments as \"NAME:ID\" (where name is a string and ID is a number)."
      ]
    },
    {
      "cell_type": "code",
      "execution_count": null,
      "id": "common-result",
      "metadata": {
        "id": "common-result"
      },
      "outputs": [],
      "source": [
        "from BigDFT.Systems import System\n",
        "\n",
        "sys = System()\n",
        "sys[\"WAT:0\"] = frag1"
      ]
    },
    {
      "cell_type": "markdown",
      "id": "dc6b3191",
      "metadata": {
        "id": "dc6b3191"
      },
      "source": [
        "Similarly, systems are easily readable"
      ]
    },
    {
      "cell_type": "code",
      "execution_count": null,
      "id": "coastal-salvation",
      "metadata": {
        "id": "coastal-salvation"
      },
      "outputs": [],
      "source": [
        "print(dump(sys))"
      ]
    },
    {
      "cell_type": "markdown",
      "id": "2d01506b",
      "metadata": {
        "id": "2d01506b"
      },
      "source": [
        "Additional properties can also be displayed, like the **connectivity matrix** and the **unit cell**."
      ]
    },
    {
      "cell_type": "markdown",
      "id": "growing-madrid",
      "metadata": {
        "id": "growing-madrid"
      },
      "source": [
        "## System visualization and fragments manipulation\n",
        "\n",
        "It is extremely convenient to visualize `System` objects, just do"
      ]
    },
    {
      "cell_type": "code",
      "execution_count": null,
      "id": "liable-conclusion",
      "metadata": {
        "id": "liable-conclusion"
      },
      "outputs": [],
      "source": [
        "sys.display()"
      ]
    },
    {
      "cell_type": "markdown",
      "id": "danish-potato",
      "metadata": {
        "id": "danish-potato"
      },
      "source": [
        "It is equally convenient to manipulate fragments within systems.\n",
        "\n",
        "Let us **rotate** and **translate** the previous water fragment and add it to the system."
      ]
    },
    {
      "cell_type": "code",
      "execution_count": null,
      "id": "pregnant-experience",
      "metadata": {
        "id": "pregnant-experience"
      },
      "outputs": [],
      "source": [
        "from copy import deepcopy\n",
        "\n",
        "frag2 = deepcopy(frag1)\n",
        "frag2.translate([10, 0, 0])\n",
        "frag2.rotate(x=90, units=\"degrees\")\n",
        "sys[\"WAT:1\"] = frag2"
      ]
    },
    {
      "cell_type": "code",
      "execution_count": null,
      "id": "ethical-wiring",
      "metadata": {
        "scrolled": true,
        "id": "ethical-wiring"
      },
      "outputs": [],
      "source": [
        "sys.display()"
      ]
    },
    {
      "cell_type": "markdown",
      "id": "decimal-costs",
      "metadata": {
        "id": "decimal-costs"
      },
      "source": [
        "The visualization module has identified that there are two separate fragments, coloring them accordingly (merging fragments would render a uniform visualization). Note for the reader: this was the systems presented in the `test.pdb` file of the QuickStart tutorial."
      ]
    },
    {
      "cell_type": "markdown",
      "id": "relevant-ottawa",
      "metadata": {
        "id": "relevant-ottawa"
      },
      "source": [
        "To summarize the hierarchy, let's iterate over our `System`."
      ]
    },
    {
      "cell_type": "code",
      "execution_count": null,
      "id": "tropical-photography",
      "metadata": {
        "id": "tropical-photography"
      },
      "outputs": [],
      "source": [
        "for fragid, frag in sys.items():\n",
        "    print(fragid)\n",
        "    for atm in frag:\n",
        "        print(dict(atm))"
      ]
    },
    {
      "cell_type": "code",
      "source": [
        "# atom iteration, if we do not want to keep track of the fragment\n",
        "for atm in sys.get_atoms():\n",
        "  print(dict(atm))"
      ],
      "metadata": {
        "id": "piNqcW_kFDMU"
      },
      "id": "piNqcW_kFDMU",
      "execution_count": null,
      "outputs": []
    },
    {
      "cell_type": "markdown",
      "id": "0a6ba746",
      "metadata": {
        "id": "0a6ba746"
      },
      "source": [
        "## Solid State Systems\n",
        "\n",
        "The cell attribute of the `System` object enables to investigate systems ranging from **molecular biology** to **condensed matter physics**, by fixing the periodic boundaries conditions.\n",
        "\n",
        "The `UnitCell` class is available to manage the cell."
      ]
    },
    {
      "cell_type": "code",
      "execution_count": null,
      "id": "f01c3a88",
      "metadata": {
        "id": "f01c3a88"
      },
      "outputs": [],
      "source": [
        "from BigDFT.UnitCells import UnitCell\n",
        "\n",
        "sys.cell = UnitCell([5, 5, 5], units=\"bohr\")"
      ]
    },
    {
      "cell_type": "code",
      "execution_count": null,
      "id": "714d6415",
      "metadata": {
        "id": "714d6415"
      },
      "outputs": [],
      "source": [
        "print(sys.cell.get_posinp())"
      ]
    },
    {
      "cell_type": "markdown",
      "id": "ad427cca",
      "metadata": {
        "id": "ad427cca"
      },
      "source": [
        "BigDFT is able to handle several boundary conditions, depending on the cell.\n",
        "- if set to `None`: free boundary\n",
        "- if $x$ and $y$ are set to `inf`: 1D system\n",
        "- if $y$ is set to `inf`: 2D periodic system (note that $y$ direction is free)\n",
        "- if all values are `float`: 3D periodic system."
      ]
    },
    {
      "cell_type": "markdown",
      "id": "712f1b61",
      "metadata": {
        "id": "712f1b61"
      },
      "source": [
        "For wire boundary conditions"
      ]
    },
    {
      "cell_type": "code",
      "execution_count": null,
      "id": "37fa9adf",
      "metadata": {
        "id": "37fa9adf"
      },
      "outputs": [],
      "source": [
        "sys.cell = UnitCell([float(\"inf\"), float(\"inf\"), 5], units=\"bohr\")\n",
        "print(sys.cell.get_posinp(\"bohr\"))"
      ]
    },
    {
      "cell_type": "markdown",
      "id": "4f83071f",
      "metadata": {
        "id": "4f83071f"
      },
      "source": [
        "For the surface condition"
      ]
    },
    {
      "cell_type": "code",
      "execution_count": null,
      "id": "00ae28d8",
      "metadata": {
        "id": "00ae28d8"
      },
      "outputs": [],
      "source": [
        "sys.cell = UnitCell([5, float(\"inf\"), 5], units=\"bohr\")\n",
        "print(sys.cell.get_posinp(\"bohr\"))"
      ]
    },
    {
      "cell_type": "markdown",
      "id": "cf5f0997",
      "metadata": {
        "id": "cf5f0997"
      },
      "source": [
        "Note that **reduced** (fractional) coordinates can be employed to alternatively specify the locations of atoms (*for fully periodic boundary conditions*)."
      ]
    },
    {
      "cell_type": "code",
      "execution_count": null,
      "id": "50a8eefa",
      "metadata": {
        "id": "50a8eefa"
      },
      "outputs": [],
      "source": [
        "cell = UnitCell([10, 10, 10], units=\"bohr\")"
      ]
    },
    {
      "cell_type": "code",
      "execution_count": null,
      "id": "2625773f",
      "metadata": {
        "scrolled": true,
        "id": "2625773f"
      },
      "outputs": [],
      "source": [
        "at = Atom({'r': [0.5, 0.25, 0.0], 'sym': \"He\", 'units': 'reduced'})\n",
        "\n",
        "print(at.get_position(\"reduced\", cell))\n",
        "print(at.get_position(\"bohr\", cell))\n",
        "print(at.get_position(\"angstroem\", cell))"
      ]
    },
    {
      "cell_type": "markdown",
      "id": "fc1d7221",
      "metadata": {
        "id": "fc1d7221"
      },
      "source": [
        "## File I/O\n",
        "\n",
        "A wide range of standard files can easily be manipulated with PyBigDFT."
      ]
    },
    {
      "cell_type": "markdown",
      "id": "703734c1",
      "metadata": {
        "id": "703734c1"
      },
      "source": [
        "### XYZ Files\n",
        "\n",
        "The `XYZReader` class enables to access the some built in molecules in the database (available [here](https://gitlab.com/l_sim/bigdft-suite/-/tree/devel/PyBigDFT/BigDFT/Database/XYZs)). Otherwise, a path for the filename is required."
      ]
    },
    {
      "cell_type": "code",
      "execution_count": null,
      "id": "dae55825",
      "metadata": {
        "id": "dae55825"
      },
      "outputs": [],
      "source": [
        "from BigDFT.IO import XYZReader\n",
        "\n",
        "sys = System()\n",
        "sys[\"CH4:0\"] = Fragment()\n",
        "with XYZReader(\"CH4\") as ifile:\n",
        "    for atom in ifile:\n",
        "        sys[\"CH4:0\"].append(atom)\n",
        "\n",
        "sys[\"CH2F:1\"] = Fragment()\n",
        "with XYZReader(\"CH2F\") as ifile:\n",
        "    for atom in ifile:\n",
        "        sys[\"CH2F:1\"].append(atom)\n",
        "\n",
        "sys[\"CH2F:1\"].translate([-5, 0, 0])"
      ]
    },
    {
      "cell_type": "markdown",
      "id": "90ad090c",
      "metadata": {
        "id": "90ad090c"
      },
      "source": [
        "The resulting system is"
      ]
    },
    {
      "cell_type": "code",
      "execution_count": null,
      "id": "98116fc4",
      "metadata": {
        "id": "98116fc4"
      },
      "outputs": [],
      "source": [
        "sys.display()"
      ]
    },
    {
      "cell_type": "markdown",
      "id": "efa73301",
      "metadata": {
        "id": "efa73301"
      },
      "source": [
        "Afterwards, the `XYZWriter` class enables to write down our data in the `xyz` format."
      ]
    },
    {
      "cell_type": "code",
      "execution_count": null,
      "id": "d26e5ce3",
      "metadata": {
        "id": "d26e5ce3"
      },
      "outputs": [],
      "source": [
        "from BigDFT.IO import XYZWriter\n",
        "\n",
        "natoms = sum([len(x) for x in sys.values()])\n",
        "with XYZWriter(\"sys.xyz\", natoms=natoms) as ofile:\n",
        "    for frag in sys.values():\n",
        "        for at in frag:\n",
        "            ofile.write(at)"
      ]
    },
    {
      "cell_type": "markdown",
      "id": "220e96ce",
      "metadata": {
        "id": "220e96ce"
      },
      "source": [
        "Or, similarly"
      ]
    },
    {
      "cell_type": "code",
      "execution_count": null,
      "id": "ec0309a6",
      "metadata": {
        "id": "ec0309a6"
      },
      "outputs": [],
      "source": [
        "from BigDFT import IO\n",
        "\n",
        "with open('sys.xyz','w') as infile:\n",
        "    IO.write_xyz(sys,infile)"
      ]
    },
    {
      "cell_type": "markdown",
      "id": "63afdd1b",
      "metadata": {
        "id": "63afdd1b"
      },
      "source": [
        "The advantage of the `XYZreader` (or `XYZwriter`) approach is to directly yield the following attributes: `units`, `natoms` and `cell`.\n",
        "\n",
        "Warning: when reading an `xyz` file, **there is no fragment information available**\n",
        "\n",
        "The system is either defined as one fragment (`single`) or each atoms are a single fragment (`atomic`)\n",
        "\n",
        "**Important**: from the point of view of the BigDFT code, the only important thing is the position of the atoms. The distribution of a system into fragment can be useful for building and (especially) for post-processing purposes. The code will not care about two different fragmentations if the atomic positions are the same."
      ]
    },
    {
      "cell_type": "code",
      "execution_count": null,
      "id": "04adfe31",
      "metadata": {
        "id": "04adfe31"
      },
      "outputs": [],
      "source": [
        "with open('sys.xyz','r') as ifile:\n",
        "    sys_a = IO.read_xyz(ifile,fragmentation=\"single\")\n",
        "    sys_a.cell=UnitCell()\n",
        "sys_a.display()"
      ]
    },
    {
      "cell_type": "code",
      "source": [
        "# look at the defaul name for the fragmentation\n",
        "list(sys_a)"
      ],
      "metadata": {
        "id": "VHa6pT0QC97E"
      },
      "id": "VHa6pT0QC97E",
      "execution_count": null,
      "outputs": []
    },
    {
      "cell_type": "code",
      "execution_count": null,
      "id": "355fdb13",
      "metadata": {
        "id": "355fdb13"
      },
      "outputs": [],
      "source": [
        "with open('sys.xyz','r') as ifile:\n",
        "    sys_b = IO.read_xyz(ifile,fragmentation=\"atomic\")\n",
        "sys_b.display()"
      ]
    },
    {
      "cell_type": "code",
      "source": [
        "# look at the defaul name for the fragmentation\n",
        "list(sys_b)"
      ],
      "metadata": {
        "id": "cht7jk5wDJF6"
      },
      "id": "cht7jk5wDJF6",
      "execution_count": null,
      "outputs": []
    },
    {
      "cell_type": "markdown",
      "id": "d8390cae",
      "metadata": {
        "id": "d8390cae"
      },
      "source": [
        "### Other Formats\n",
        "\n",
        "Similarly to `xyz` files, let us write a PDB file (for example)."
      ]
    },
    {
      "cell_type": "code",
      "execution_count": null,
      "id": "bd8f4fda",
      "metadata": {
        "id": "bd8f4fda"
      },
      "outputs": [],
      "source": [
        "with open('sys.pdb', 'w') as ofile:\n",
        "    IO.write_pdb(sys, ofile)\n",
        "# the above lines can be replaced by \"sys.to_file('sys.pdb')\""
      ]
    },
    {
      "cell_type": "markdown",
      "id": "ed4f2bdb",
      "metadata": {
        "id": "ed4f2bdb"
      },
      "source": [
        "Let us then inspect this pdb file"
      ]
    },
    {
      "cell_type": "code",
      "execution_count": null,
      "id": "4a699045",
      "metadata": {
        "id": "4a699045"
      },
      "outputs": [],
      "source": [
        "with open('sys.pdb','r') as ifile:\n",
        "    for line in ifile:\n",
        "        print(line, end=\"\")"
      ]
    },
    {
      "cell_type": "markdown",
      "id": "a8fea3c1",
      "metadata": {
        "id": "a8fea3c1"
      },
      "source": [
        "Of course, a pdb system is also readable"
      ]
    },
    {
      "cell_type": "code",
      "execution_count": null,
      "id": "f29269c6",
      "metadata": {
        "id": "f29269c6"
      },
      "outputs": [],
      "source": [
        "for fragid, frag in IO.read_pdb(open('sys.pdb','r')).items():\n",
        "    print(fragid)\n",
        "    for at in frag:\n",
        "        print(dict(at))"
      ]
    },
    {
      "cell_type": "markdown",
      "id": "66704abb",
      "metadata": {
        "id": "66704abb"
      },
      "source": [
        "Notice how the **information on fragments is conserved**"
      ]
    },
    {
      "cell_type": "markdown",
      "id": "8019dee4",
      "metadata": {
        "id": "8019dee4"
      },
      "source": [
        "## Exercises on systems\n",
        "\n",
        "1) Construct a carbon chain of inter-atomic distance of 1.5 angstroem.\n",
        "\n",
        "2) Construct a complex of C2H4 molecules, arranged in a equilateral triangle, using the molecule database.\n",
        "\n",
        "3) Construct a graphene lattice using a rectangular cell and a carbon-carbon bond of 1.42 angstroem. (**Advanced**)"
      ]
    },
    {
      "cell_type": "code",
      "source": [],
      "metadata": {
        "id": "T81GLFBUSePX"
      },
      "id": "T81GLFBUSePX",
      "execution_count": null,
      "outputs": []
    }
  ],
  "metadata": {
    "kernelspec": {
      "display_name": "Python 3 (ipykernel)",
      "language": "python",
      "name": "python3"
    },
    "language_info": {
      "codemirror_mode": {
        "name": "ipython",
        "version": 3
      },
      "file_extension": ".py",
      "mimetype": "text/x-python",
      "name": "python",
      "nbconvert_exporter": "python",
      "pygments_lexer": "ipython3",
      "version": "3.9.13"
    },
    "colab": {
      "provenance": []
    }
  },
  "nbformat": 4,
  "nbformat_minor": 5
}