{
  "cells": [
    {
      "cell_type": "markdown",
      "id": "4733472b",
      "metadata": {
        "id": "4733472b"
      },
      "source": [
        "# Logfiles analysis\n",
        "\n",
        "Let us inspect the result of a BigDFT calculation from the `Logfile` class.\n",
        "\n",
        "An instance is returned after the execution is finished in the form of a `yaml` file, from which the `Logfile` object is extracted.\n",
        "\n",
        "Let us for example investigate the logfile of the LDA calculation of N2."
      ]
    },
    {
      "cell_type": "code",
      "source": [
        "install = \"client (Google drive)\" #@param [\"full_suite\", \"client (Google drive)\", \"client\"]\n",
        "install_var=install\n",
        "!wget https://raw.githubusercontent.com/BigDFT-group/bigdft-school/data/packaging/install.py &> /dev/null\n",
        "args={'locally': True} if install == 'client' else {}\n",
        "import install\n",
        "#getattr(install,install_var.split()[0])(**args)"
      ],
      "metadata": {
        "id": "GU5BV3ndT7RJ"
      },
      "id": "GU5BV3ndT7RJ",
      "execution_count": null,
      "outputs": []
    },
    {
      "cell_type": "code",
      "source": [
        "!pip install pybigdft py3dmol spglib ase -q\n"
      ],
      "metadata": {
        "id": "RdZwCWl_44sS"
      },
      "id": "RdZwCWl_44sS",
      "execution_count": null,
      "outputs": []
    },
    {
      "cell_type": "code",
      "source": [
        "install.data('data/session1.tar.xz')"
      ],
      "metadata": {
        "id": "nsC8fxGwH6wn"
      },
      "id": "nsC8fxGwH6wn",
      "execution_count": null,
      "outputs": []
    },
    {
      "cell_type": "code",
      "execution_count": null,
      "id": "88cd1317",
      "metadata": {
        "id": "88cd1317"
      },
      "outputs": [],
      "source": [
        "from BigDFT import Logfiles as L\n",
        "\n",
        "logfile = L.Logfile('./scratch/log-xc__LDA.yaml')"
      ]
    },
    {
      "cell_type": "markdown",
      "id": "dd5fe3e3",
      "metadata": {
        "id": "dd5fe3e3"
      },
      "source": [
        "From this instance, it is first possible to visualize the associated system"
      ]
    },
    {
      "cell_type": "code",
      "execution_count": null,
      "id": "597b2971",
      "metadata": {
        "id": "597b2971"
      },
      "outputs": [],
      "source": [
        "from BigDFT import Systems as S\n",
        "\n",
        "sys = S.system_from_log(logfile,fragmentation='full')\n",
        "sys.display();"
      ]
    },
    {
      "cell_type": "markdown",
      "id": "6fa5ac4e",
      "metadata": {
        "id": "6fa5ac4e"
      },
      "source": [
        "The information of the logfile are presented also if the class instance is printed\n",
        "\n",
        "---\n",
        "\n"
      ]
    },
    {
      "cell_type": "code",
      "execution_count": null,
      "id": "3b20779e",
      "metadata": {
        "id": "3b20779e"
      },
      "outputs": [],
      "source": [
        "print(logfile)"
      ]
    },
    {
      "cell_type": "markdown",
      "id": "c668323e",
      "metadata": {
        "id": "c668323e"
      },
      "source": [
        "The `yaml` serialization is easily obtainable by calling the `log` attribute, in the form of a `dict`. However, this serialization is not particularly useful to visualize the output. Better to refer directly to the logfile."
      ]
    },
    {
      "cell_type": "code",
      "execution_count": null,
      "id": "59744774",
      "metadata": {
        "id": "59744774"
      },
      "outputs": [],
      "source": [
        "from yaml import dump\n",
        "print(dump(logfile.log))"
      ]
    },
    {
      "cell_type": "markdown",
      "id": "f0258cfc",
      "metadata": {
        "id": "f0258cfc"
      },
      "source": [
        "For example, information on the Poisson solver is accessible by"
      ]
    },
    {
      "cell_type": "code",
      "execution_count": null,
      "id": "10b65a06",
      "metadata": {
        "id": "10b65a06"
      },
      "outputs": [],
      "source": [
        "logfile.log[\"Poisson Solver\"]"
      ]
    },
    {
      "cell_type": "markdown",
      "id": "639ee6c8",
      "metadata": {
        "id": "639ee6c8"
      },
      "source": [
        "Or similarly, the self-consistent field cycle"
      ]
    },
    {
      "cell_type": "code",
      "execution_count": null,
      "id": "e5672197",
      "metadata": {
        "id": "e5672197"
      },
      "outputs": [],
      "source": [
        "logfile.SCF_convergence()"
      ]
    },
    {
      "cell_type": "markdown",
      "id": "c228613d",
      "metadata": {
        "id": "c228613d"
      },
      "source": [
        "All `keys` elements are listed afterwards"
      ]
    },
    {
      "cell_type": "code",
      "execution_count": null,
      "id": "a6c5379c",
      "metadata": {
        "id": "a6c5379c"
      },
      "outputs": [],
      "source": [
        "print(logfile.log.keys())"
      ]
    },
    {
      "cell_type": "markdown",
      "id": "c5f98073",
      "metadata": {
        "id": "c5f98073"
      },
      "source": [
        "## Extended systems: graphene\n",
        "\n",
        "Let us inspect a simple example of a solid state calculation by considering a two-dimensional (2D) materials, graphene."
      ]
    },
    {
      "cell_type": "code",
      "execution_count": null,
      "id": "a2812728",
      "metadata": {
        "id": "a2812728"
      },
      "outputs": [],
      "source": [
        "gr = L.Logfile(\"./scratch/log-graphene.yaml\")"
      ]
    },
    {
      "cell_type": "markdown",
      "id": "e99415df",
      "metadata": {
        "id": "e99415df"
      },
      "source": [
        "[Graphene](https://en.wikipedia.org/wiki/Graphene) is a 2D carbon allotrope in the form of a honeycomb network that consists of a two inequivalent triangular lattices, with a C-C bond of 1.42$~$angstroem, or equivalently, a lattice parameter such that $a_0 = 2.46~$angstroem."
      ]
    },
    {
      "cell_type": "code",
      "execution_count": null,
      "id": "8b4325f9",
      "metadata": {
        "id": "8b4325f9"
      },
      "outputs": [],
      "source": [
        "# or gr.log[\"Atomic structure\"]\n",
        "gr.astruct"
      ]
    },
    {
      "cell_type": "code",
      "execution_count": null,
      "id": "ed20dab7",
      "metadata": {
        "id": "ed20dab7"
      },
      "outputs": [],
      "source": [
        "# this only visualizes the unit cell atoms\n",
        "sys = S.system_from_log(gr,fragmentation='full')\n",
        "sys.display();"
      ]
    },
    {
      "cell_type": "markdown",
      "id": "dc44d407",
      "metadata": {
        "id": "dc44d407"
      },
      "source": [
        "In order to properly characterize extended systems, a $k$-points mesh is required to handle periodicity."
      ]
    },
    {
      "cell_type": "code",
      "execution_count": null,
      "id": "0bde594c",
      "metadata": {
        "id": "0bde594c"
      },
      "outputs": [],
      "source": [
        "gr.kpt_mesh"
      ]
    },
    {
      "cell_type": "markdown",
      "id": "6fdb2f88",
      "metadata": {
        "id": "6fdb2f88"
      },
      "source": [
        "Additionally, mixing is sometimes needed for convergence, such that the effect of abrupt changes in the density are smoothened away."
      ]
    },
    {
      "cell_type": "code",
      "execution_count": null,
      "id": "8826eec8",
      "metadata": {
        "id": "8826eec8"
      },
      "outputs": [],
      "source": [
        "print(dump(gr.log[\"mix\"]))\n",
        "# inp[\"import\"] = \"mixing\""
      ]
    },
    {
      "cell_type": "markdown",
      "id": "41077f6c",
      "metadata": {
        "id": "41077f6c"
      },
      "source": [
        "The interested reader is invited to go through this [tutorial](https://l_sim.gitlab.io/bigdft-suite/tutorials/SolidState.html)\n",
        "\n",
        "### Graphene massless Dirac fermions (optional)\n",
        "\n",
        "When analyzing electronic properties, the $k$-dependence is obtained by plotting the band structure. This is done along a given path, that can be specified by the user."
      ]
    },
    {
      "cell_type": "code",
      "execution_count": null,
      "id": "222ed0e2",
      "metadata": {
        "id": "222ed0e2"
      },
      "outputs": [],
      "source": [
        "BZ_gr = gr.get_brillouin_zone()\n",
        "\n",
        "hsp = BZ_gr.special_points # high symmetry points\n",
        "[print(i) for i in hsp.items()]\n",
        "paths = BZ_gr.special_paths # high symmetry path list\n",
        "print(paths)"
      ]
    },
    {
      "cell_type": "markdown",
      "id": "2cbc1b3e",
      "metadata": {
        "id": "2cbc1b3e"
      },
      "source": [
        "Here we choose half the first path, since the 2D character of our system implies no dependence in $k_x$."
      ]
    },
    {
      "cell_type": "code",
      "execution_count": null,
      "id": "e16c09b8",
      "metadata": {
        "id": "e16c09b8"
      },
      "outputs": [],
      "source": [
        "path = paths[0][:5]"
      ]
    },
    {
      "cell_type": "markdown",
      "id": "0a3dafe5",
      "metadata": {
        "id": "0a3dafe5"
      },
      "source": [
        "Eventually, the band structure is plotted using the `BZ` class by giving a list of special $k$-points (i.e. the `path` defined above)"
      ]
    },
    {
      "cell_type": "code",
      "execution_count": null,
      "id": "07a808e5",
      "metadata": {
        "id": "07a808e5"
      },
      "outputs": [],
      "source": [
        "import BigDFT.BZ as BZ\n",
        "\n",
        "npts = 200\n",
        "path_bs = BZ.BZPath(BZ_gr.lattice,path,hsp,npts=npts)\n",
        "\n",
        "ax = BZ_gr.plot(path=path_bs,npts=npts)\n",
        "ax.set_ylim([-10,5]);"
      ]
    }
  ],
  "metadata": {
    "kernelspec": {
      "display_name": "Python 3 (ipykernel)",
      "language": "python",
      "name": "python3"
    },
    "language_info": {
      "codemirror_mode": {
        "name": "ipython",
        "version": 3
      },
      "file_extension": ".py",
      "mimetype": "text/x-python",
      "name": "python",
      "nbconvert_exporter": "python",
      "pygments_lexer": "ipython3",
      "version": "3.9.13"
    },
    "colab": {
      "provenance": []
    }
  },
  "nbformat": 4,
  "nbformat_minor": 5
}
