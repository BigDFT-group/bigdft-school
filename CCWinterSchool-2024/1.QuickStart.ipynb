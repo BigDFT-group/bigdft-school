{
 "cells": [
  {
   "cell_type": "markdown",
   "id": "similar-reply",
   "metadata": {},
   "source": [
    "# Quick Start - From Python\n",
    "Here we present a broad overview of using the PyBigDFT library to drive BigDFT calculations using Python. If you have installed from source, you should make sure you have setup the proper environment variables using the following command:\n",
    "```\n",
    "source install/bin/bigdftvars.sh\n",
    "```"
   ]
  },
  {
   "cell_type": "markdown",
   "id": "5eb63018",
   "metadata": {},
   "source": [
    "## Colab Installation\n",
    "We will install BigDFT using Conda. First we need to setup conda."
   ]
  },
  {
   "cell_type": "code",
   "execution_count": null,
   "id": "12927453",
   "metadata": {},
   "outputs": [],
   "source": [
    "! pip install -q condacolab\n",
    "import condacolab\n",
    "condacolab.install()"
   ]
  },
  {
   "cell_type": "markdown",
   "id": "7a76fed6",
   "metadata": {},
   "source": [
    "When this finishes, the kernel will crash. This is necessary. After it restarts, you can proceed to install the BigDFT executable."
   ]
  },
  {
   "cell_type": "code",
   "execution_count": null,
   "id": "f18d4557",
   "metadata": {},
   "outputs": [],
   "source": [
    "! conda install -c \"conda-forge/label/bigdft_dev\" bigdft-suite  > /dev/null  2> /dev/null"
   ]
  },
  {
   "cell_type": "markdown",
   "id": "1566a70a",
   "metadata": {},
   "source": [
    "And the required python libraries for this notebook."
   ]
  },
  {
   "cell_type": "code",
   "execution_count": null,
   "id": "276fe4d8",
   "metadata": {},
   "outputs": [],
   "source": [
    "! pip install PyBigDFT  > /dev/null  2> /dev/null\n",
    "! pip install py3dmol  > /dev/null  2> /dev/null"
   ]
  },
  {
   "cell_type": "markdown",
   "id": "59c59d05",
   "metadata": {},
   "source": [
    "## System Manipulation\n",
    "Here we define a system which is compsed of two fragments: H2 and Helium."
   ]
  },
  {
   "cell_type": "code",
   "execution_count": null,
   "id": "jewish-country",
   "metadata": {
    "tags": []
   },
   "outputs": [],
   "source": [
    "from BigDFT.Systems import System\n",
    "from BigDFT.Fragments import Fragment\n",
    "from BigDFT.Atoms import Atom\n",
    "from BigDFT.Visualization import InlineVisualizer"
   ]
  },
  {
   "cell_type": "code",
   "execution_count": null,
   "id": "bored-scottish",
   "metadata": {
    "tags": []
   },
   "outputs": [],
   "source": [
    "# Create Three Atoms\n",
    "at1 = Atom({\"r\": [0, 0, 0], \"sym\": \"H\", \"units\": \"bohr\"})\n",
    "at2 = Atom({\"r\": [0, 0, 1.4], \"sym\": \"H\", \"units\": \"bohr\"})\n",
    "at3 = Atom({\"r\": [10, 0, 0], \"sym\": \"He\", \"units\": \"bohr\"})\n",
    "\n",
    "# Construct a System from Two Fragments (H2, He)\n",
    "sys = System()\n",
    "sys[\"H2:1\"] = Fragment([at1, at2])\n",
    "sys[\"He:2\"] = Fragment([at3])\n",
    "\n",
    "# Iterate Over The System\n",
    "for fragid, frag in sys.items():\n",
    "    for at in frag:\n",
    "        print(fragid, at.sym, at.get_position())"
   ]
  },
  {
   "cell_type": "code",
   "execution_count": null,
   "id": "colonial-bottom",
   "metadata": {
    "tags": []
   },
   "outputs": [],
   "source": [
    "_ = sys.display()"
   ]
  },
  {
   "cell_type": "markdown",
   "id": "caring-timeline",
   "metadata": {},
   "source": [
    "## Calculation\n",
    "Calculate the created system using a grid spacing of $0.4$ and the PBE functional. A logfile is generated from which we can access the computed properties. This logfile has built in properties and can be accessed like a dictionary."
   ]
  },
  {
   "cell_type": "code",
   "execution_count": null,
   "id": "acquired-headline",
   "metadata": {
    "tags": []
   },
   "outputs": [],
   "source": [
    "from BigDFT.Inputfiles import Inputfile\n",
    "inp = Inputfile()\n",
    "inp.set_hgrid(0.4)\n",
    "inp.set_xc(\"PBE\")\n",
    "inp[\"perf\"] = {\"calculate_forces\": False,\n",
    "               \"multipole_preserving\": True}"
   ]
  },
  {
   "cell_type": "code",
   "execution_count": null,
   "id": "decent-irish",
   "metadata": {
    "tags": []
   },
   "outputs": [],
   "source": [
    "from BigDFT.Calculators import SystemCalculator\n",
    "calc = SystemCalculator(skip=True, verbose=False)"
   ]
  },
  {
   "cell_type": "code",
   "execution_count": null,
   "id": "responsible-smoke",
   "metadata": {
    "tags": []
   },
   "outputs": [],
   "source": [
    "log = calc.run(sys=sys, input=inp, name=\"quick\", run_dir=\"scratch\")"
   ]
  },
  {
   "cell_type": "code",
   "execution_count": null,
   "id": "modified-romance",
   "metadata": {
    "tags": []
   },
   "outputs": [],
   "source": [
    "print(log.energy)\n",
    "print(log.log[\"Memory Consumption Report\"]\n",
    "             [\"Memory occupation\"])"
   ]
  },
  {
   "cell_type": "markdown",
   "id": "worldwide-situation",
   "metadata": {},
   "source": [
    "## Periodic Systems (optional)\n",
    "The code can treat also extended systems.\n",
    "We setup a BCC unit cell of iron and perform the calculation using a 2x2x2 k-point grid with a Monkhorst-Pack grid."
   ]
  },
  {
   "cell_type": "code",
   "execution_count": null,
   "id": "champion-parliament",
   "metadata": {
    "tags": []
   },
   "outputs": [],
   "source": [
    "from BigDFT.UnitCells import UnitCell"
   ]
  },
  {
   "cell_type": "code",
   "execution_count": null,
   "id": "official-yellow",
   "metadata": {
    "tags": []
   },
   "outputs": [],
   "source": [
    "pat = Atom({\"Fe\": [0, 0, 0], \"units\": \"angstroem\"})\n",
    "psys = System({\"CEL:0\": Fragment([pat])})\n",
    "psys.cell = UnitCell([2.867, 2.867, 2.867], units=\"angstroem\")"
   ]
  },
  {
   "cell_type": "code",
   "execution_count": null,
   "id": "documented-recorder",
   "metadata": {
    "tags": []
   },
   "outputs": [],
   "source": [
    "_ = psys.display()"
   ]
  },
  {
   "cell_type": "code",
   "execution_count": null,
   "id": "tracked-honey",
   "metadata": {
    "tags": []
   },
   "outputs": [],
   "source": [
    "inp = Inputfile()\n",
    "inp.set_hgrid(0.4)\n",
    "inp.set_xc(\"LDA\")\n",
    "inp.set_kpt_mesh(method='mpgrid',ngkpt=[2, 2, 2])"
   ]
  },
  {
   "cell_type": "code",
   "execution_count": null,
   "id": "buried-tolerance",
   "metadata": {
    "tags": []
   },
   "outputs": [],
   "source": [
    "log = calc.run(sys=psys, input=inp, name=\"psys\", run_dir=\"scratch\")"
   ]
  },
  {
   "cell_type": "code",
   "execution_count": null,
   "id": "sunrise-interim",
   "metadata": {
    "tags": []
   },
   "outputs": [],
   "source": [
    "_ = log.get_dos().plot()"
   ]
  },
  {
   "cell_type": "markdown",
   "id": "aging-extraction",
   "metadata": {},
   "source": [
    "## File I/O\n",
    "Read and write a PDB file. It can be done with the `to_file` routine."
   ]
  },
  {
   "cell_type": "code",
   "execution_count": null,
   "id": "158c0ad5-5703-409b-991b-cacbfe2885d2",
   "metadata": {
    "tags": []
   },
   "outputs": [],
   "source": [
    "sys.to_file('scratch/temp.pdb')"
   ]
  },
  {
   "cell_type": "markdown",
   "id": "f37804a9",
   "metadata": {
    "tags": []
   },
   "source": [
    "Or the more pythonic way."
   ]
  },
  {
   "cell_type": "code",
   "execution_count": null,
   "id": "uniform-theory",
   "metadata": {
    "tags": []
   },
   "outputs": [],
   "source": [
    "from BigDFT.IO import read_pdb\n",
    "with open(\"scratch/temp.pdb\", \"r\") as ifile:\n",
    "    sys = read_pdb(ifile)"
   ]
  }
 ],
 "metadata": {
  "kernelspec": {
   "display_name": "Python 3 (ipykernel)",
   "language": "python",
   "name": "python3"
  },
  "language_info": {
   "codemirror_mode": {
    "name": "ipython",
    "version": 3
   },
   "file_extension": ".py",
   "mimetype": "text/x-python",
   "name": "python",
   "nbconvert_exporter": "python",
   "pygments_lexer": "ipython3",
   "version": "3.11.3"
  }
 },
 "nbformat": 4,
 "nbformat_minor": 5
}
