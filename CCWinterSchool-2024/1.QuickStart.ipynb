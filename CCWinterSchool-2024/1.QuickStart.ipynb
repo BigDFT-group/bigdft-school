{
  "cells": [
    {
      "cell_type": "markdown",
      "id": "similar-reply",
      "metadata": {
        "id": "similar-reply"
      },
      "source": [
        "# Quick Start - From Python\n",
        "Here we present a broad overview of using the PyBigDFT library to drive BigDFT calculations using Python. Such overview is intended to provide an initial walkthrough among the basic functionalities of the PyBigDFT objects and API.\n",
        "\n",
        "The other notebooks of this section will present the main details of each of the functionalities described here."
      ]
    },
    {
      "cell_type": "markdown",
      "id": "5eb63018",
      "metadata": {
        "id": "5eb63018"
      },
      "source": [
        "## Colab Installation\n",
        "For this tutorial it is enough to install the client version of the BigDFT code.\n",
        "This means that the actual `bigdft` calculations will not be performed, but emulated (the so called \"skip\" mode) starting from the data present in the notebook session. Such data come from pre-executed runs and will be downloaded prior to the execution. This would reproduce exctly the same approach for running the actual calculation (`skip=False`)"
      ]
    },
    {
      "cell_type": "code",
      "execution_count": 1,
      "id": "12927453",
      "metadata": {
        "id": "12927453",
        "outputId": "e5882143-8f81-4361-bcf6-fcbf94691747",
        "colab": {
          "base_uri": "https://localhost:8080/"
        }
      },
      "outputs": [
        {
          "output_type": "stream",
          "name": "stdout",
          "text": [
            "\u001b[2K     \u001b[90m━━━━━━━━━━━━━━━━━━━━━━━━━━━━━━━━━━━━━━━━\u001b[0m \u001b[32m448.5/448.5 kB\u001b[0m \u001b[31m3.5 MB/s\u001b[0m eta \u001b[36m0:00:00\u001b[0m\n",
            "\u001b[2K     \u001b[90m━━━━━━━━━━━━━━━━━━━━━━━━━━━━━━━━━━━━━━━━\u001b[0m \u001b[32m56.1/56.1 kB\u001b[0m \u001b[31m5.6 MB/s\u001b[0m eta \u001b[36m0:00:00\u001b[0m\n",
            "\u001b[?25hExecuting: wget https://gitlab.com/luigigenovese/bigdft-school/-/raw/main/data/session1.tar.xz -O session1.tar.xz\n",
            "--2024-01-27 13:47:15--  https://gitlab.com/luigigenovese/bigdft-school/-/raw/main/data/session1.tar.xz\n",
            "Resolving gitlab.com (gitlab.com)... 172.65.251.78, 2606:4700:90:0:f22e:fbec:5bed:a9b9\n",
            "Connecting to gitlab.com (gitlab.com)|172.65.251.78|:443... connected.\n",
            "HTTP request sent, awaiting response... 200 OK\n",
            "Length: 3298788 (3.1M) [application/octet-stream]\n",
            "Saving to: ‘session1.tar.xz’\n",
            "\n",
            "     0K .......... .......... .......... .......... ..........  1% 4.27M 1s\n",
            "    50K .......... .......... .......... .......... ..........  3% 12.1M 0s\n",
            "   100K .......... .......... .......... .......... ..........  4% 4.80M 1s\n",
            "   150K .......... .......... .......... .......... ..........  6% 12.6M 0s\n",
            "   200K .......... .......... .......... .......... ..........  7% 12.4M 0s\n",
            "   250K .......... .......... .......... .......... ..........  9% 19.3M 0s\n",
            "   300K .......... .......... .......... .......... .......... 10% 16.0M 0s\n",
            "   350K .......... .......... .......... .......... .......... 12% 19.9M 0s\n",
            "   400K .......... .......... .......... .......... .......... 13% 15.3M 0s\n",
            "   450K .......... .......... .......... .......... .......... 15% 31.9M 0s\n",
            "   500K .......... .......... .......... .......... .......... 17% 28.9M 0s\n",
            "   550K .......... .......... .......... .......... .......... 18% 23.7M 0s\n",
            "   600K .......... .......... .......... .......... .......... 20% 52.9M 0s\n",
            "   650K .......... .......... .......... .......... .......... 21% 53.4M 0s\n",
            "   700K .......... .......... .......... .......... .......... 23% 32.4M 0s\n",
            "   750K .......... .......... .......... .......... .......... 24% 50.5M 0s\n",
            "   800K .......... .......... .......... .......... .......... 26% 38.5M 0s\n",
            "   850K .......... .......... .......... .......... .......... 27% 45.6M 0s\n",
            "   900K .......... .......... .......... .......... .......... 29% 82.0M 0s\n",
            "   950K .......... .......... .......... .......... .......... 31% 37.3M 0s\n",
            "  1000K .......... .......... .......... .......... .......... 32% 42.2M 0s\n",
            "  1050K .......... .......... .......... .......... .......... 34% 68.2M 0s\n",
            "  1100K .......... .......... .......... .......... .......... 35% 94.4M 0s\n",
            "  1150K .......... .......... .......... .......... .......... 37% 44.1M 0s\n",
            "  1200K .......... .......... .......... .......... .......... 38% 46.6M 0s\n",
            "  1250K .......... .......... .......... .......... .......... 40% 73.9M 0s\n",
            "  1300K .......... .......... .......... .......... .......... 41% 62.1M 0s\n",
            "  1350K .......... .......... .......... .......... .......... 43% 60.6M 0s\n",
            "  1400K .......... .......... .......... .......... .......... 45% 68.5M 0s\n",
            "  1450K .......... .......... .......... .......... .......... 46%  106M 0s\n",
            "  1500K .......... .......... .......... .......... .......... 48% 82.8M 0s\n",
            "  1550K .......... .......... .......... .......... .......... 49% 93.3M 0s\n",
            "  1600K .......... .......... .......... .......... .......... 51% 89.0M 0s\n",
            "  1650K .......... .......... .......... .......... .......... 52% 42.5M 0s\n",
            "  1700K .......... .......... .......... .......... .......... 54% 83.2M 0s\n",
            "  1750K .......... .......... .......... .......... .......... 55%  101M 0s\n",
            "  1800K .......... .......... .......... .......... .......... 57% 21.1M 0s\n",
            "  1850K .......... .......... .......... .......... .......... 58% 78.1M 0s\n",
            "  1900K .......... .......... .......... .......... .......... 60% 72.6M 0s\n",
            "  1950K .......... .......... .......... .......... .......... 62% 78.9M 0s\n",
            "  2000K .......... .......... .......... .......... .......... 63% 49.1M 0s\n",
            "  2050K .......... .......... .......... .......... .......... 65% 73.6M 0s\n",
            "  2100K .......... .......... .......... .......... .......... 66% 69.0M 0s\n",
            "  2150K .......... .......... .......... .......... .......... 68%  245M 0s\n",
            "  2200K .......... .......... .......... .......... .......... 69%  213M 0s\n",
            "  2250K .......... .......... .......... .......... .......... 71%  283M 0s\n",
            "  2300K .......... .......... .......... .......... .......... 72%  260M 0s\n",
            "  2350K .......... .......... .......... .......... .......... 74%  262M 0s\n",
            "  2400K .......... .......... .......... .......... .......... 76%  232M 0s\n",
            "  2450K .......... .......... .......... .......... .......... 77%  271M 0s\n",
            "  2500K .......... .......... .......... .......... .......... 79%  288M 0s\n",
            "  2550K .......... .......... .......... .......... .......... 80%  239M 0s\n",
            "  2600K .......... .......... .......... .......... .......... 82%  176M 0s\n",
            "  2650K .......... .......... .......... .......... .......... 83%  267M 0s\n",
            "  2700K .......... .......... .......... .......... .......... 85%  250M 0s\n",
            "  2750K .......... .......... .......... .......... .......... 86%  300M 0s\n",
            "  2800K .......... .......... .......... .......... .......... 88%  224M 0s\n",
            "  2850K .......... .......... .......... .......... .......... 90%  227M 0s\n",
            "  2900K .......... .......... .......... .......... .......... 91%  278M 0s\n",
            "  2950K .......... .......... .......... .......... .......... 93%  277M 0s\n",
            "  3000K .......... .......... .......... .......... .......... 94%  208M 0s\n",
            "  3050K .......... .......... .......... .......... .......... 96%  254M 0s\n",
            "  3100K .......... .......... .......... .......... .......... 97%  245M 0s\n",
            "  3150K .......... .......... .......... .......... .......... 99%  310M 0s\n",
            "  3200K .......... .......... .                               100%  269M=0.08s\n",
            "\n",
            "2024-01-27 13:47:16 (38.8 MB/s) - ‘session1.tar.xz’ saved [3298788/3298788]\n",
            "\n",
            "\n",
            "Executing: mkdir -p /content\n",
            "\n",
            "Executing: tar xJf session1.tar.xz -C .\n",
            "\n"
          ]
        }
      ],
      "source": [
        "!pip install -q pybigdft py3dmol\n",
        "!wget https://gitlab.com/luigigenovese/bigdft-school/-/raw/main/packaging/install.py &> /dev/null\n",
        "import install\n",
        "install.data('data/session1.tar.xz')"
      ]
    },
    {
      "cell_type": "markdown",
      "id": "1566a70a",
      "metadata": {
        "id": "1566a70a"
      },
      "source": [
        "The excution of the above cell should take about ten seconds.\n",
        "Now you can proceed to the execution of the cells below."
      ]
    },
    {
      "cell_type": "markdown",
      "id": "59c59d05",
      "metadata": {
        "id": "59c59d05"
      },
      "source": [
        "## System Manipulation\n",
        "Here we define a system which is compsed of two fragments: H2 and Helium."
      ]
    },
    {
      "cell_type": "code",
      "execution_count": 2,
      "id": "jewish-country",
      "metadata": {
        "tags": [],
        "id": "jewish-country"
      },
      "outputs": [],
      "source": [
        "from BigDFT.Systems import System\n",
        "from BigDFT.Fragments import Fragment\n",
        "from BigDFT.Atoms import Atom\n",
        "from BigDFT.Visualization import InlineVisualizer"
      ]
    },
    {
      "cell_type": "code",
      "execution_count": 3,
      "id": "bored-scottish",
      "metadata": {
        "tags": [],
        "id": "bored-scottish",
        "outputId": "528d9278-36e0-47bf-d035-bd1ad9c039f2",
        "colab": {
          "base_uri": "https://localhost:8080/"
        }
      },
      "outputs": [
        {
          "output_type": "stream",
          "name": "stdout",
          "text": [
            "H2:1 H [0.0, 0.0, 0.0]\n",
            "H2:1 H [0.0, 0.0, 1.4]\n",
            "He:2 He [10.0, 0.0, 0.0]\n"
          ]
        }
      ],
      "source": [
        "# Create Three Atoms\n",
        "at1 = Atom({\"r\": [0, 0, 0], \"sym\": \"H\", \"units\": \"bohr\"})\n",
        "at2 = Atom({\"r\": [0, 0, 1.4], \"sym\": \"H\", \"units\": \"bohr\"})\n",
        "at3 = Atom({\"r\": [10, 0, 0], \"sym\": \"He\", \"units\": \"bohr\"})\n",
        "\n",
        "# Construct a System from Two Fragments (H2, He)\n",
        "sys = System()\n",
        "sys[\"H2:1\"] = Fragment([at1, at2])\n",
        "sys[\"He:2\"] = Fragment([at3])\n",
        "\n",
        "# Iterate Over The System\n",
        "for fragid, frag in sys.items():\n",
        "    for at in frag:\n",
        "        print(fragid, at.sym, at.get_position())"
      ]
    },
    {
      "cell_type": "code",
      "execution_count": 4,
      "id": "colonial-bottom",
      "metadata": {
        "tags": [],
        "id": "colonial-bottom",
        "outputId": "55577fcc-2631-47ef-d64b-c38e66b36f8e",
        "colab": {
          "base_uri": "https://localhost:8080/",
          "height": 317
        }
      },
      "outputs": [
        {
          "output_type": "display_data",
          "data": {
            "application/3dmoljs_load.v0": "<div id=\"3dmolviewer_17063632986381612\"  style=\"position: relative; width: 400px; height: 300px;\">\n        <p id=\"3dmolwarning_17063632986381612\" style=\"background-color:#ffcccc;color:black\">You appear to be running in JupyterLab (or JavaScript failed to load for some other reason).  You need to install the 3dmol extension: <br>\n        <tt>jupyter labextension install jupyterlab_3dmol</tt></p>\n        </div>\n<script>\n\nvar loadScriptAsync = function(uri){\n  return new Promise((resolve, reject) => {\n    //this is to ignore the existence of requirejs amd\n    var savedexports, savedmodule;\n    if (typeof exports !== 'undefined') savedexports = exports;\n    else exports = {}\n    if (typeof module !== 'undefined') savedmodule = module;\n    else module = {}\n\n    var tag = document.createElement('script');\n    tag.src = uri;\n    tag.async = true;\n    tag.onload = () => {\n        exports = savedexports;\n        module = savedmodule;\n        resolve();\n    };\n  var firstScriptTag = document.getElementsByTagName('script')[0];\n  firstScriptTag.parentNode.insertBefore(tag, firstScriptTag);\n});\n};\n\nif(typeof $3Dmolpromise === 'undefined') {\n$3Dmolpromise = null;\n  $3Dmolpromise = loadScriptAsync('https://cdnjs.cloudflare.com/ajax/libs/3Dmol/2.0.4/3Dmol-min.js');\n}\n\nvar viewer_17063632986381612 = null;\nvar warn = document.getElementById(\"3dmolwarning_17063632986381612\");\nif(warn) {\n    warn.parentNode.removeChild(warn);\n}\n$3Dmolpromise.then(function() {\nvar viewergrid_17063632986381612 = null;\nviewergrid_17063632986381612 = $3Dmol.createViewerGrid(document.getElementById(\"3dmolviewer_17063632986381612\"),{rows: 1, cols: 1, control_all: false},{backgroundColor:\"white\"});\nviewer_17063632986381612 = viewergrid_17063632986381612[0][0];\nviewergrid_17063632986381612[0][0].zoomTo();\tviewergrid_17063632986381612[0][0].addModelsAsFrames(\"MODEL 0\\nHETATM    1 H    H2  A   1       0.000   0.000   0.000  1.00  0.00       B   H  \\nHETATM    2 H    H2  A   1       0.000   0.000   0.741  1.00  0.00       B   H  \\nHETATM    3 He   He  A   2       5.292   0.000   0.000  1.00  0.00       B  He  \\nENDMDL\\n\",\"pdb\",{\"keepH\": \"true\"});\n\tviewergrid_17063632986381612[0][0].setStyle({\"model\": -1},{\"line\": {\"color\": \"black\"}});\n\tviewergrid_17063632986381612[0][0].addModelsAsFrames(\"MODEL 0\\nHETATM    1 H    H2  A   1       0.000   0.000   0.000  1.00  0.00       B   H  \\nHETATM    2 H    H2  A   1       0.000   0.000   0.741  1.00  0.00       B   H  \\nHETATM    3 He   He  A   2       5.292   0.000   0.000  1.00  0.00       B  He  \\nENDMDL\\n\",\"pdb\",{\"keepH\": \"true\"});\n\tviewergrid_17063632986381612[0][0].setStyle({\"model\": -1, \"serial\": 1},{\"sphere\": {\"scale\": 0.2, \"color\": \"#7F00FF\"}});\n\tviewergrid_17063632986381612[0][0].addModelsAsFrames(\"MODEL 0\\nHETATM    1 H    H2  A   1       0.000   0.000   0.000  1.00  0.00       B   H  \\nHETATM    2 H    H2  A   1       0.000   0.000   0.741  1.00  0.00       B   H  \\nHETATM    3 He   He  A   2       5.292   0.000   0.000  1.00  0.00       B  He  \\nENDMDL\\n\",\"pdb\",{\"keepH\": \"true\"});\n\tviewergrid_17063632986381612[0][0].setStyle({\"model\": -1, \"serial\": 2},{\"sphere\": {\"scale\": 0.2, \"color\": \"#7F00FF\"}});\n\tviewergrid_17063632986381612[0][0].addModelsAsFrames(\"MODEL 0\\nHETATM    1 H    H2  A   1       0.000   0.000   0.000  1.00  0.00       B   H  \\nHETATM    2 H    H2  A   1       0.000   0.000   0.741  1.00  0.00       B   H  \\nHETATM    3 He   He  A   2       5.292   0.000   0.000  1.00  0.00       B  He  \\nENDMDL\\n\",\"pdb\",{\"keepH\": \"true\"});\n\tviewergrid_17063632986381612[0][0].setStyle({\"model\": -1},{\"line\": {\"color\": \"black\"}});\n\tviewergrid_17063632986381612[0][0].addModelsAsFrames(\"MODEL 0\\nHETATM    1 H    H2  A   1       0.000   0.000   0.000  1.00  0.00       B   H  \\nHETATM    2 H    H2  A   1       0.000   0.000   0.741  1.00  0.00       B   H  \\nHETATM    3 He   He  A   2       5.292   0.000   0.000  1.00  0.00       B  He  \\nENDMDL\\n\",\"pdb\",{\"keepH\": \"true\"});\n\tviewergrid_17063632986381612[0][0].setStyle({\"model\": -1, \"serial\": 3},{\"sphere\": {\"scale\": 0.2, \"color\": \"#FF0000\"}});\n\tviewergrid_17063632986381612[0][0].addUnitCell({\"model\": -1},{\"box\": {\"color\": \"black\"}, \"alabel\": \"\", \"blabel\": \"\", \"clabel\": \"\"});\n\tviewergrid_17063632986381612[0][0].zoomTo();\nviewergrid_17063632986381612[0][0].render();\n});\n</script>",
            "text/html": [
              "<div id=\"3dmolviewer_17063632986381612\"  style=\"position: relative; width: 400px; height: 300px;\">\n",
              "        <p id=\"3dmolwarning_17063632986381612\" style=\"background-color:#ffcccc;color:black\">You appear to be running in JupyterLab (or JavaScript failed to load for some other reason).  You need to install the 3dmol extension: <br>\n",
              "        <tt>jupyter labextension install jupyterlab_3dmol</tt></p>\n",
              "        </div>\n",
              "<script>\n",
              "\n",
              "var loadScriptAsync = function(uri){\n",
              "  return new Promise((resolve, reject) => {\n",
              "    //this is to ignore the existence of requirejs amd\n",
              "    var savedexports, savedmodule;\n",
              "    if (typeof exports !== 'undefined') savedexports = exports;\n",
              "    else exports = {}\n",
              "    if (typeof module !== 'undefined') savedmodule = module;\n",
              "    else module = {}\n",
              "\n",
              "    var tag = document.createElement('script');\n",
              "    tag.src = uri;\n",
              "    tag.async = true;\n",
              "    tag.onload = () => {\n",
              "        exports = savedexports;\n",
              "        module = savedmodule;\n",
              "        resolve();\n",
              "    };\n",
              "  var firstScriptTag = document.getElementsByTagName('script')[0];\n",
              "  firstScriptTag.parentNode.insertBefore(tag, firstScriptTag);\n",
              "});\n",
              "};\n",
              "\n",
              "if(typeof $3Dmolpromise === 'undefined') {\n",
              "$3Dmolpromise = null;\n",
              "  $3Dmolpromise = loadScriptAsync('https://cdnjs.cloudflare.com/ajax/libs/3Dmol/2.0.4/3Dmol-min.js');\n",
              "}\n",
              "\n",
              "var viewer_17063632986381612 = null;\n",
              "var warn = document.getElementById(\"3dmolwarning_17063632986381612\");\n",
              "if(warn) {\n",
              "    warn.parentNode.removeChild(warn);\n",
              "}\n",
              "$3Dmolpromise.then(function() {\n",
              "var viewergrid_17063632986381612 = null;\n",
              "viewergrid_17063632986381612 = $3Dmol.createViewerGrid(document.getElementById(\"3dmolviewer_17063632986381612\"),{rows: 1, cols: 1, control_all: false},{backgroundColor:\"white\"});\n",
              "viewer_17063632986381612 = viewergrid_17063632986381612[0][0];\n",
              "viewergrid_17063632986381612[0][0].zoomTo();\tviewergrid_17063632986381612[0][0].addModelsAsFrames(\"MODEL 0\\nHETATM    1 H    H2  A   1       0.000   0.000   0.000  1.00  0.00       B   H  \\nHETATM    2 H    H2  A   1       0.000   0.000   0.741  1.00  0.00       B   H  \\nHETATM    3 He   He  A   2       5.292   0.000   0.000  1.00  0.00       B  He  \\nENDMDL\\n\",\"pdb\",{\"keepH\": \"true\"});\n",
              "\tviewergrid_17063632986381612[0][0].setStyle({\"model\": -1},{\"line\": {\"color\": \"black\"}});\n",
              "\tviewergrid_17063632986381612[0][0].addModelsAsFrames(\"MODEL 0\\nHETATM    1 H    H2  A   1       0.000   0.000   0.000  1.00  0.00       B   H  \\nHETATM    2 H    H2  A   1       0.000   0.000   0.741  1.00  0.00       B   H  \\nHETATM    3 He   He  A   2       5.292   0.000   0.000  1.00  0.00       B  He  \\nENDMDL\\n\",\"pdb\",{\"keepH\": \"true\"});\n",
              "\tviewergrid_17063632986381612[0][0].setStyle({\"model\": -1, \"serial\": 1},{\"sphere\": {\"scale\": 0.2, \"color\": \"#7F00FF\"}});\n",
              "\tviewergrid_17063632986381612[0][0].addModelsAsFrames(\"MODEL 0\\nHETATM    1 H    H2  A   1       0.000   0.000   0.000  1.00  0.00       B   H  \\nHETATM    2 H    H2  A   1       0.000   0.000   0.741  1.00  0.00       B   H  \\nHETATM    3 He   He  A   2       5.292   0.000   0.000  1.00  0.00       B  He  \\nENDMDL\\n\",\"pdb\",{\"keepH\": \"true\"});\n",
              "\tviewergrid_17063632986381612[0][0].setStyle({\"model\": -1, \"serial\": 2},{\"sphere\": {\"scale\": 0.2, \"color\": \"#7F00FF\"}});\n",
              "\tviewergrid_17063632986381612[0][0].addModelsAsFrames(\"MODEL 0\\nHETATM    1 H    H2  A   1       0.000   0.000   0.000  1.00  0.00       B   H  \\nHETATM    2 H    H2  A   1       0.000   0.000   0.741  1.00  0.00       B   H  \\nHETATM    3 He   He  A   2       5.292   0.000   0.000  1.00  0.00       B  He  \\nENDMDL\\n\",\"pdb\",{\"keepH\": \"true\"});\n",
              "\tviewergrid_17063632986381612[0][0].setStyle({\"model\": -1},{\"line\": {\"color\": \"black\"}});\n",
              "\tviewergrid_17063632986381612[0][0].addModelsAsFrames(\"MODEL 0\\nHETATM    1 H    H2  A   1       0.000   0.000   0.000  1.00  0.00       B   H  \\nHETATM    2 H    H2  A   1       0.000   0.000   0.741  1.00  0.00       B   H  \\nHETATM    3 He   He  A   2       5.292   0.000   0.000  1.00  0.00       B  He  \\nENDMDL\\n\",\"pdb\",{\"keepH\": \"true\"});\n",
              "\tviewergrid_17063632986381612[0][0].setStyle({\"model\": -1, \"serial\": 3},{\"sphere\": {\"scale\": 0.2, \"color\": \"#FF0000\"}});\n",
              "\tviewergrid_17063632986381612[0][0].addUnitCell({\"model\": -1},{\"box\": {\"color\": \"black\"}, \"alabel\": \"\", \"blabel\": \"\", \"clabel\": \"\"});\n",
              "\tviewergrid_17063632986381612[0][0].zoomTo();\n",
              "viewergrid_17063632986381612[0][0].render();\n",
              "});\n",
              "</script>"
            ]
          },
          "metadata": {}
        }
      ],
      "source": [
        "_ = sys.display()"
      ]
    },
    {
      "cell_type": "markdown",
      "id": "caring-timeline",
      "metadata": {
        "id": "caring-timeline"
      },
      "source": [
        "## Calculation\n",
        "Calculate the created system using a grid spacing of $0.4$ and the PBE functional. A logfile is generated from which we can access the computed properties. This logfile has built in properties and can be accessed like a dictionary."
      ]
    },
    {
      "cell_type": "code",
      "execution_count": 5,
      "id": "acquired-headline",
      "metadata": {
        "tags": [],
        "id": "acquired-headline"
      },
      "outputs": [],
      "source": [
        "from BigDFT.Inputfiles import Inputfile\n",
        "inp = Inputfile()\n",
        "inp.set_hgrid(0.4)\n",
        "inp.set_xc(\"PBE\")\n",
        "inp[\"perf\"] = {\"calculate_forces\": False,\n",
        "               \"multipole_preserving\": True}"
      ]
    },
    {
      "cell_type": "code",
      "execution_count": 6,
      "id": "decent-irish",
      "metadata": {
        "tags": [],
        "id": "decent-irish"
      },
      "outputs": [],
      "source": [
        "from BigDFT.Calculators import SystemCalculator\n",
        "calc = SystemCalculator(skip=True, verbose=False)"
      ]
    },
    {
      "cell_type": "code",
      "execution_count": 7,
      "id": "responsible-smoke",
      "metadata": {
        "tags": [],
        "id": "responsible-smoke"
      },
      "outputs": [],
      "source": [
        "log = calc.run(sys=sys, input=inp, name=\"quick\", run_dir=\"scratch\")"
      ]
    },
    {
      "cell_type": "code",
      "execution_count": 8,
      "id": "modified-romance",
      "metadata": {
        "tags": [],
        "id": "modified-romance",
        "outputId": "bfcb1a88-72fc-4be2-96c1-8e8a002c8af9",
        "colab": {
          "base_uri": "https://localhost:8080/"
        }
      },
      "outputs": [
        {
          "output_type": "stream",
          "name": "stdout",
          "text": [
            "-4.054615157686378\n",
            "{'Peak Value (MB)': 230.69, 'for the array': 'f_i', 'in the routine': 'vxcpostprocessing', 'Memory Peak of process': '342.196 MB'}\n"
          ]
        }
      ],
      "source": [
        "print(log.energy)\n",
        "print(log.log[\"Memory Consumption Report\"]\n",
        "             [\"Memory occupation\"])"
      ]
    },
    {
      "cell_type": "markdown",
      "id": "worldwide-situation",
      "metadata": {
        "id": "worldwide-situation"
      },
      "source": [
        "## Periodic Systems (optional)\n",
        "The code can treat also extended systems.\n",
        "We setup a BCC unit cell of iron and perform the calculation using a 2x2x2 k-point grid with a Monkhorst-Pack grid."
      ]
    },
    {
      "cell_type": "code",
      "execution_count": 9,
      "id": "champion-parliament",
      "metadata": {
        "tags": [],
        "id": "champion-parliament"
      },
      "outputs": [],
      "source": [
        "from BigDFT.UnitCells import UnitCell"
      ]
    },
    {
      "cell_type": "code",
      "execution_count": 10,
      "id": "official-yellow",
      "metadata": {
        "tags": [],
        "id": "official-yellow"
      },
      "outputs": [],
      "source": [
        "pat = Atom({\"Fe\": [0, 0, 0], \"units\": \"angstroem\"})\n",
        "psys = System({\"CEL:0\": Fragment([pat])})\n",
        "psys.cell = UnitCell([2.867, 2.867, 2.867], units=\"angstroem\")"
      ]
    },
    {
      "cell_type": "code",
      "execution_count": 11,
      "id": "documented-recorder",
      "metadata": {
        "tags": [],
        "id": "documented-recorder",
        "outputId": "674fcb72-6337-4e1b-b65f-692ef68ac184",
        "colab": {
          "base_uri": "https://localhost:8080/",
          "height": 317
        }
      },
      "outputs": [
        {
          "output_type": "display_data",
          "data": {
            "application/3dmoljs_load.v0": "<div id=\"3dmolviewer_17063633400146222\"  style=\"position: relative; width: 400px; height: 300px;\">\n        <p id=\"3dmolwarning_17063633400146222\" style=\"background-color:#ffcccc;color:black\">You appear to be running in JupyterLab (or JavaScript failed to load for some other reason).  You need to install the 3dmol extension: <br>\n        <tt>jupyter labextension install jupyterlab_3dmol</tt></p>\n        </div>\n<script>\n\nvar loadScriptAsync = function(uri){\n  return new Promise((resolve, reject) => {\n    //this is to ignore the existence of requirejs amd\n    var savedexports, savedmodule;\n    if (typeof exports !== 'undefined') savedexports = exports;\n    else exports = {}\n    if (typeof module !== 'undefined') savedmodule = module;\n    else module = {}\n\n    var tag = document.createElement('script');\n    tag.src = uri;\n    tag.async = true;\n    tag.onload = () => {\n        exports = savedexports;\n        module = savedmodule;\n        resolve();\n    };\n  var firstScriptTag = document.getElementsByTagName('script')[0];\n  firstScriptTag.parentNode.insertBefore(tag, firstScriptTag);\n});\n};\n\nif(typeof $3Dmolpromise === 'undefined') {\n$3Dmolpromise = null;\n  $3Dmolpromise = loadScriptAsync('https://cdnjs.cloudflare.com/ajax/libs/3Dmol/2.0.4/3Dmol-min.js');\n}\n\nvar viewer_17063633400146222 = null;\nvar warn = document.getElementById(\"3dmolwarning_17063633400146222\");\nif(warn) {\n    warn.parentNode.removeChild(warn);\n}\n$3Dmolpromise.then(function() {\nvar viewergrid_17063633400146222 = null;\nviewergrid_17063633400146222 = $3Dmol.createViewerGrid(document.getElementById(\"3dmolviewer_17063633400146222\"),{rows: 1, cols: 1, control_all: false},{backgroundColor:\"white\"});\nviewer_17063633400146222 = viewergrid_17063633400146222[0][0];\nviewergrid_17063633400146222[0][0].zoomTo();\tviewergrid_17063633400146222[0][0].addModelsAsFrames(\"MODEL 0\\nCRYST1    2.867    2.867    2.867 90.000 90.000 90.000                          \\nHETATM    1 Fe   CEL A   0       0.000   0.000   0.000  1.00  0.00       B  Fe  \\nENDMDL\\n\",\"pdb\",{\"keepH\": \"true\"});\n\tviewergrid_17063633400146222[0][0].setStyle({\"model\": -1},{\"line\": {\"color\": \"black\"}});\n\tviewergrid_17063633400146222[0][0].addModelsAsFrames(\"MODEL 0\\nCRYST1    2.867    2.867    2.867 90.000 90.000 90.000                          \\nHETATM    1 Fe   CEL A   0       0.000   0.000   0.000  1.00  0.00       B  Fe  \\nENDMDL\\n\",\"pdb\",{\"keepH\": \"true\"});\n\tviewergrid_17063633400146222[0][0].setStyle({\"model\": -1, \"serial\": 1},{\"sphere\": {\"scale\": 0.2, \"color\": \"#7F00FF\"}});\n\tviewergrid_17063633400146222[0][0].addUnitCell({\"model\": -1},{\"box\": {\"color\": \"black\"}, \"alabel\": \"\", \"blabel\": \"\", \"clabel\": \"\"});\n\tviewergrid_17063633400146222[0][0].zoomTo();\nviewergrid_17063633400146222[0][0].render();\n});\n</script>",
            "text/html": [
              "<div id=\"3dmolviewer_17063633400146222\"  style=\"position: relative; width: 400px; height: 300px;\">\n",
              "        <p id=\"3dmolwarning_17063633400146222\" style=\"background-color:#ffcccc;color:black\">You appear to be running in JupyterLab (or JavaScript failed to load for some other reason).  You need to install the 3dmol extension: <br>\n",
              "        <tt>jupyter labextension install jupyterlab_3dmol</tt></p>\n",
              "        </div>\n",
              "<script>\n",
              "\n",
              "var loadScriptAsync = function(uri){\n",
              "  return new Promise((resolve, reject) => {\n",
              "    //this is to ignore the existence of requirejs amd\n",
              "    var savedexports, savedmodule;\n",
              "    if (typeof exports !== 'undefined') savedexports = exports;\n",
              "    else exports = {}\n",
              "    if (typeof module !== 'undefined') savedmodule = module;\n",
              "    else module = {}\n",
              "\n",
              "    var tag = document.createElement('script');\n",
              "    tag.src = uri;\n",
              "    tag.async = true;\n",
              "    tag.onload = () => {\n",
              "        exports = savedexports;\n",
              "        module = savedmodule;\n",
              "        resolve();\n",
              "    };\n",
              "  var firstScriptTag = document.getElementsByTagName('script')[0];\n",
              "  firstScriptTag.parentNode.insertBefore(tag, firstScriptTag);\n",
              "});\n",
              "};\n",
              "\n",
              "if(typeof $3Dmolpromise === 'undefined') {\n",
              "$3Dmolpromise = null;\n",
              "  $3Dmolpromise = loadScriptAsync('https://cdnjs.cloudflare.com/ajax/libs/3Dmol/2.0.4/3Dmol-min.js');\n",
              "}\n",
              "\n",
              "var viewer_17063633400146222 = null;\n",
              "var warn = document.getElementById(\"3dmolwarning_17063633400146222\");\n",
              "if(warn) {\n",
              "    warn.parentNode.removeChild(warn);\n",
              "}\n",
              "$3Dmolpromise.then(function() {\n",
              "var viewergrid_17063633400146222 = null;\n",
              "viewergrid_17063633400146222 = $3Dmol.createViewerGrid(document.getElementById(\"3dmolviewer_17063633400146222\"),{rows: 1, cols: 1, control_all: false},{backgroundColor:\"white\"});\n",
              "viewer_17063633400146222 = viewergrid_17063633400146222[0][0];\n",
              "viewergrid_17063633400146222[0][0].zoomTo();\tviewergrid_17063633400146222[0][0].addModelsAsFrames(\"MODEL 0\\nCRYST1    2.867    2.867    2.867 90.000 90.000 90.000                          \\nHETATM    1 Fe   CEL A   0       0.000   0.000   0.000  1.00  0.00       B  Fe  \\nENDMDL\\n\",\"pdb\",{\"keepH\": \"true\"});\n",
              "\tviewergrid_17063633400146222[0][0].setStyle({\"model\": -1},{\"line\": {\"color\": \"black\"}});\n",
              "\tviewergrid_17063633400146222[0][0].addModelsAsFrames(\"MODEL 0\\nCRYST1    2.867    2.867    2.867 90.000 90.000 90.000                          \\nHETATM    1 Fe   CEL A   0       0.000   0.000   0.000  1.00  0.00       B  Fe  \\nENDMDL\\n\",\"pdb\",{\"keepH\": \"true\"});\n",
              "\tviewergrid_17063633400146222[0][0].setStyle({\"model\": -1, \"serial\": 1},{\"sphere\": {\"scale\": 0.2, \"color\": \"#7F00FF\"}});\n",
              "\tviewergrid_17063633400146222[0][0].addUnitCell({\"model\": -1},{\"box\": {\"color\": \"black\"}, \"alabel\": \"\", \"blabel\": \"\", \"clabel\": \"\"});\n",
              "\tviewergrid_17063633400146222[0][0].zoomTo();\n",
              "viewergrid_17063633400146222[0][0].render();\n",
              "});\n",
              "</script>"
            ]
          },
          "metadata": {}
        }
      ],
      "source": [
        "_ = psys.display()"
      ]
    },
    {
      "cell_type": "code",
      "execution_count": 12,
      "id": "tracked-honey",
      "metadata": {
        "tags": [],
        "id": "tracked-honey"
      },
      "outputs": [],
      "source": [
        "inp = Inputfile()\n",
        "inp.set_hgrid(0.4)\n",
        "inp.set_xc(\"LDA\")\n",
        "inp.set_kpt_mesh(method='mpgrid',ngkpt=[2, 2, 2])"
      ]
    },
    {
      "cell_type": "code",
      "execution_count": 13,
      "id": "buried-tolerance",
      "metadata": {
        "tags": [],
        "id": "buried-tolerance"
      },
      "outputs": [],
      "source": [
        "log = calc.run(sys=psys, input=inp, name=\"psys\", run_dir=\"scratch\")"
      ]
    },
    {
      "cell_type": "code",
      "execution_count": 14,
      "id": "sunrise-interim",
      "metadata": {
        "tags": [],
        "id": "sunrise-interim",
        "outputId": "0296da0e-ca4f-4b31-a22e-49ee05f44b31",
        "colab": {
          "base_uri": "https://localhost:8080/",
          "height": 459
        }
      },
      "outputs": [
        {
          "output_type": "display_data",
          "data": {
            "text/plain": [
              "<Figure size 640x480 with 1 Axes>"
            ],
            "image/png": "[encoded data removed]"
          },
          "metadata": {}
        }
      ],
      "source": [
        "_ = log.get_dos().plot()"
      ]
    },
    {
      "cell_type": "markdown",
      "id": "aging-extraction",
      "metadata": {
        "id": "aging-extraction"
      },
      "source": [
        "## File I/O\n",
        "Read and write a PDB file. The writing can be done with the `to_file` routine."
      ]
    },
    {
      "cell_type": "code",
      "execution_count": null,
      "id": "158c0ad5-5703-409b-991b-cacbfe2885d2",
      "metadata": {
        "tags": [],
        "id": "158c0ad5-5703-409b-991b-cacbfe2885d2"
      },
      "outputs": [],
      "source": [
        "sys.to_file('scratch/temp.pdb')"
      ]
    },
    {
      "cell_type": "markdown",
      "id": "f37804a9",
      "metadata": {
        "tags": [],
        "id": "f37804a9"
      },
      "source": [
        "For the reading, we can use the more pythonic way.\n",
        "We here read another file."
      ]
    },
    {
      "cell_type": "code",
      "execution_count": 15,
      "id": "uniform-theory",
      "metadata": {
        "tags": [],
        "id": "uniform-theory"
      },
      "outputs": [],
      "source": [
        "from BigDFT.IO import read_pdb\n",
        "with open(\"scratch/test.pdb\", \"r\") as ifile:\n",
        "    sys = read_pdb(ifile)"
      ]
    },
    {
      "cell_type": "markdown",
      "source": [
        "Exercise: in case you feel already confident with the `System` class, can you tell which is the content of thi system? How many fragments are inside?\n",
        "Hint: `System` inherits for a dictionary (more precisely a `collections.MutableMapping`)"
      ],
      "metadata": {
        "id": "sFVvk8neLz6q"
      },
      "id": "sFVvk8neLz6q"
    },
    {
      "cell_type": "code",
      "source": [],
      "metadata": {
        "id": "xy5NRU_sMO4Q"
      },
      "id": "xy5NRU_sMO4Q",
      "execution_count": null,
      "outputs": []
    }
  ],
  "metadata": {
    "kernelspec": {
      "display_name": "Python 3 (ipykernel)",
      "language": "python",
      "name": "python3"
    },
    "language_info": {
      "codemirror_mode": {
        "name": "ipython",
        "version": 3
      },
      "file_extension": ".py",
      "mimetype": "text/x-python",
      "name": "python",
      "nbconvert_exporter": "python",
      "pygments_lexer": "ipython3",
      "version": "3.11.3"
    },
    "colab": {
      "provenance": []
    }
  },
  "nbformat": 4,
  "nbformat_minor": 5
}