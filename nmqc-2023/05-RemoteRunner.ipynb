{
 "cells": [
  {
   "cell_type": "markdown",
   "metadata": {},
   "source": [
    "# Quickstart\n",
    "\n",
    "This notebook will cover all the basic and most useful functionality available to get a user up and running as fast as possible.\n",
    "\n",
    "We will skim over these topics:\n",
    "\n",
    "- installation\n",
    "- function definition\n",
    "- remote connection\n",
    "- dataset creation\n",
    "- creating runs\n",
    "- running and retrieving results"
   ]
  },
  {
   "cell_type": "markdown",
   "metadata": {},
   "source": [
    "### Installation\n",
    "\n",
    "Installation can be done via a pip install:\n",
    "\n",
    "`pip install remotemanager` for the most recent stable version.\n",
    "\n",
    "However if you would like the bleeding edge version, you can clone the `devel` branch of the git [repository](https://gitlab.com/ljbeal/remotemanager):\n",
    "\n",
    "`git clone --branch devel`\n",
    "\n",
    "`cd remotemanager && pip install .`"
   ]
  },
  {
   "cell_type": "markdown",
   "metadata": {},
   "source": [
    "### Function Definition\n",
    "\n",
    "remotemanager executes user defined python functions at the location of choice. Below is a basic function example which will serve our purposes for this guide\n",
    "\n",
    ".. note::\n",
    "    The function must stand by itself when running, so any imports or necessary functionality should be contained within"
   ]
  },
  {
   "cell_type": "code",
   "execution_count": 11,
   "metadata": {
    "tags": []
   },
   "outputs": [
    {
     "name": "stdout",
     "output_type": "stream",
     "text": [
      "Defaulting to user installation because normal site-packages is not writeable\n",
      "Requirement already satisfied: remotemanager in /opt/intel/oneapi/intelpython/python3.9/lib/python3.9/site-packages (0.5.12)\n",
      "Collecting remotemanager\n",
      "  Downloading remotemanager-0.5.17-py3-none-any.whl (66 kB)\n",
      "\u001b[2K     \u001b[90m━━━━━━━━━━━━━━━━━━━━━━━━━━━━━━━━━━━━━━━━\u001b[0m \u001b[32m66.9/66.9 kB\u001b[0m \u001b[31m1.6 MB/s\u001b[0m eta \u001b[36m0:00:00\u001b[0ma \u001b[36m0:00:01\u001b[0m\n",
      "\u001b[?25hRequirement already satisfied: numpy in /opt/intel/oneapi/intelpython/python3.9/lib/python3.9/site-packages (from remotemanager) (1.23.5)\n",
      "Requirement already satisfied: pyyaml in /opt/upstream/lib/python3.9/site-packages (from remotemanager) (6.0)\n",
      "Installing collected packages: remotemanager\n",
      "Successfully installed remotemanager-0.5.17\n"
     ]
    }
   ],
   "source": [
    "!pip install -U remotemanager"
   ]
  },
  {
   "cell_type": "code",
   "execution_count": 1,
   "metadata": {
    "tags": []
   },
   "outputs": [],
   "source": [
    "def multiply(a, b):\n",
    "    import time\n",
    "    \n",
    "    time.sleep(1)\n",
    "    \n",
    "    return a * b"
   ]
  },
  {
   "cell_type": "markdown",
   "metadata": {},
   "source": [
    "### Remote Connection\n",
    "\n",
    "This function would run just fine on any workstation, however imagine that the function is something significantly more demanding. We would need to connect to some more powerful resources for this.\n",
    "\n",
    "remotemanager provides the powerful URL module for this purpose"
   ]
  },
  {
   "cell_type": "code",
   "execution_count": 2,
   "metadata": {
    "tags": []
   },
   "outputs": [],
   "source": [
    "from remotemanager import URL\n",
    "\n",
    "connection = URL(host='localhost')"
   ]
  },
  {
   "cell_type": "markdown",
   "metadata": {},
   "source": [
    "This example connection is simply pointed at `localhost`, however you may define a connection to a machine with address or IP:\n",
    "\n",
    "`connection = URL(user='username', host='remote.connection.address')`\n",
    "\n",
    "`connection = URL(user='username', host='192.168.123.456')`\n",
    "\n",
    ".. note::\n",
    "    The only requirement for `URL` to function is that you must be able to ssh into the remote machine without any additional prompts from the remote. For connection difficulties regarding permssions, see the [relevant section](../Introduction.html#Connecting-to-a-Remote-Machine) of the introduction.\n",
    "\n",
    "### Running Commands\n",
    "\n",
    "With the concept of this remote `connection`, we can excecute commands and (more importantly) our function on this machine.\n",
    "\n",
    "For commands, url provides a `cmd` method, which will execute any strings given"
   ]
  },
  {
   "cell_type": "code",
   "execution_count": 3,
   "metadata": {
    "tags": []
   },
   "outputs": [],
   "source": [
    "#connection.raise_errors=False"
   ]
  },
  {
   "cell_type": "code",
   "execution_count": 4,
   "metadata": {
    "tags": []
   },
   "outputs": [],
   "source": [
    "connection.submitter='sh'"
   ]
  },
  {
   "cell_type": "code",
   "execution_count": 5,
   "metadata": {
    "tags": []
   },
   "outputs": [
    {
     "ename": "RuntimeError",
     "evalue": "received the following stderr: \n/bin/bash: /opt/intel/oneapi/intelpython/python3.9/lib/libtinfo.so.6: no version information available (required by /bin/bash)\n",
     "output_type": "error",
     "traceback": [
      "\u001b[0;31m---------------------------------------------------------------------------\u001b[0m",
      "\u001b[0;31mRuntimeError\u001b[0m                              Traceback (most recent call last)",
      "Cell \u001b[0;32mIn[5], line 1\u001b[0m\n\u001b[0;32m----> 1\u001b[0m \u001b[43mconnection\u001b[49m\u001b[38;5;241;43m.\u001b[39;49m\u001b[43mcmd\u001b[49m\u001b[43m(\u001b[49m\u001b[38;5;124;43m'\u001b[39;49m\u001b[38;5;124;43mecho \u001b[39;49m\u001b[38;5;124;43m\"\u001b[39;49m\u001b[38;5;124;43mthis command is executed on the remote\u001b[39;49m\u001b[38;5;124;43m\"\u001b[39;49m\u001b[38;5;124;43m'\u001b[39;49m\u001b[43m)\u001b[49m\n",
      "File \u001b[0;32m~/.local/lib/python3.9/site-packages/remotemanager/connection/url.py:423\u001b[0m, in \u001b[0;36mURL.cmd\u001b[0;34m(self, cmd, asynchronous, local, stdout, stderr, timeout, max_timeouts, raise_errors, dry_run, prepend)\u001b[0m\n\u001b[1;32m    412\u001b[0m     \u001b[38;5;28;01mreturn\u001b[39;00m cmd\u001b[38;5;241m.\u001b[39mstrip()\n\u001b[1;32m    414\u001b[0m thiscmd \u001b[38;5;241m=\u001b[39m CMD(\n\u001b[1;32m    415\u001b[0m     cmd\u001b[38;5;241m.\u001b[39mstrip(),\n\u001b[1;32m    416\u001b[0m     asynchronous\u001b[38;5;241m=\u001b[39masynchronous,\n\u001b[0;32m   (...)\u001b[0m\n\u001b[1;32m    421\u001b[0m     raise_errors\u001b[38;5;241m=\u001b[39mraise_errors,\n\u001b[1;32m    422\u001b[0m )\n\u001b[0;32m--> 423\u001b[0m \u001b[43mthiscmd\u001b[49m\u001b[38;5;241;43m.\u001b[39;49m\u001b[43mexec\u001b[49m\u001b[43m(\u001b[49m\u001b[43m)\u001b[49m\n\u001b[1;32m    424\u001b[0m \u001b[38;5;28;01mif\u001b[39;00m \u001b[38;5;129;01mnot\u001b[39;00m local:\n\u001b[1;32m    425\u001b[0m     \u001b[38;5;28mself\u001b[39m\u001b[38;5;241m.\u001b[39m_callcount \u001b[38;5;241m+\u001b[39m\u001b[38;5;241m=\u001b[39m \u001b[38;5;241m1\u001b[39m\n",
      "File \u001b[0;32m~/.local/lib/python3.9/site-packages/remotemanager/connection/cmd.py:280\u001b[0m, in \u001b[0;36mCMD.exec\u001b[0;34m(self)\u001b[0m\n\u001b[1;32m    277\u001b[0m     \u001b[38;5;28;01mreturn\u001b[39;00m \u001b[38;5;28mself\u001b[39m\u001b[38;5;241m.\u001b[39m_fexec(stdout, stderr)\n\u001b[1;32m    279\u001b[0m \u001b[38;5;28;01mtry\u001b[39;00m:\n\u001b[0;32m--> 280\u001b[0m     \u001b[38;5;28;43mself\u001b[39;49m\u001b[38;5;241;43m.\u001b[39;49m\u001b[43m_exec\u001b[49m\u001b[43m(\u001b[49m\u001b[43mstdout\u001b[49m\u001b[43m,\u001b[49m\u001b[43m \u001b[49m\u001b[43mstderr\u001b[49m\u001b[43m)\u001b[49m\n\u001b[1;32m    281\u001b[0m \u001b[38;5;28;01mexcept\u001b[39;00m \u001b[38;5;167;01mOSError\u001b[39;00m \u001b[38;5;28;01mas\u001b[39;00m E:\n\u001b[1;32m    282\u001b[0m     msg \u001b[38;5;241m=\u001b[39m \u001b[38;5;124m\"\u001b[39m\u001b[38;5;124mEncountered an OSError on exec, attempting file exec\u001b[39m\u001b[38;5;124m\"\u001b[39m\n",
      "File \u001b[0;32m~/.local/lib/python3.9/site-packages/remotemanager/connection/cmd.py:319\u001b[0m, in \u001b[0;36mCMD._exec\u001b[0;34m(self, stdout, stderr)\u001b[0m\n\u001b[1;32m    317\u001b[0m \u001b[38;5;28;01mif\u001b[39;00m \u001b[38;5;129;01mnot\u001b[39;00m \u001b[38;5;28mself\u001b[39m\u001b[38;5;241m.\u001b[39m_async \u001b[38;5;129;01mand\u001b[39;00m \u001b[38;5;129;01mnot\u001b[39;00m \u001b[38;5;28mself\u001b[39m\u001b[38;5;241m.\u001b[39mis_redirected:\n\u001b[1;32m    318\u001b[0m     \u001b[38;5;28mself\u001b[39m\u001b[38;5;241m.\u001b[39m_logger\u001b[38;5;241m.\u001b[39mdebug(\u001b[38;5;124m\"\u001b[39m\u001b[38;5;124min-exec communication triggered\u001b[39m\u001b[38;5;124m\"\u001b[39m)\n\u001b[0;32m--> 319\u001b[0m     \u001b[38;5;28;43mself\u001b[39;49m\u001b[38;5;241;43m.\u001b[39;49m\u001b[43mcommunicate\u001b[49m\u001b[43m(\u001b[49m\u001b[43m)\u001b[49m\n",
      "File \u001b[0;32m~/.local/lib/python3.9/site-packages/remotemanager/connection/cmd.py:414\u001b[0m, in \u001b[0;36mCMD.communicate\u001b[0;34m(self, use_cache, ignore_errors)\u001b[0m\n\u001b[1;32m    411\u001b[0m         \u001b[38;5;28;01mpass\u001b[39;00m\n\u001b[1;32m    413\u001b[0m \u001b[38;5;28;01mif\u001b[39;00m \u001b[38;5;28mself\u001b[39m\u001b[38;5;241m.\u001b[39m_raise_errors \u001b[38;5;129;01mand\u001b[39;00m \u001b[38;5;129;01mnot\u001b[39;00m ignore_errors \u001b[38;5;129;01mand\u001b[39;00m err \u001b[38;5;129;01mis\u001b[39;00m \u001b[38;5;129;01mnot\u001b[39;00m \u001b[38;5;28;01mNone\u001b[39;00m \u001b[38;5;129;01mand\u001b[39;00m err \u001b[38;5;241m!=\u001b[39m \u001b[38;5;124m\"\u001b[39m\u001b[38;5;124m\"\u001b[39m:\n\u001b[0;32m--> 414\u001b[0m     \u001b[38;5;28;01mraise\u001b[39;00m \u001b[38;5;167;01mRuntimeError\u001b[39;00m(\u001b[38;5;124mf\u001b[39m\u001b[38;5;124m\"\u001b[39m\u001b[38;5;124mreceived the following stderr: \u001b[39m\u001b[38;5;130;01m\\n\u001b[39;00m\u001b[38;5;132;01m{\u001b[39;00merr\u001b[38;5;132;01m}\u001b[39;00m\u001b[38;5;124m\"\u001b[39m)\n\u001b[1;32m    416\u001b[0m \u001b[38;5;28;01mreturn\u001b[39;00m {\u001b[38;5;124m\"\u001b[39m\u001b[38;5;124mstdout\u001b[39m\u001b[38;5;124m\"\u001b[39m: _clean_output(std), \u001b[38;5;124m\"\u001b[39m\u001b[38;5;124mstderr\u001b[39m\u001b[38;5;124m\"\u001b[39m: _clean_output(err)}\n",
      "\u001b[0;31mRuntimeError\u001b[0m: received the following stderr: \n/bin/bash: /opt/intel/oneapi/intelpython/python3.9/lib/libtinfo.so.6: no version information available (required by /bin/bash)\n"
     ]
    }
   ],
   "source": [
    "connection.cmd('echo \"this command is executed on the remote\"')"
   ]
  },
  {
   "cell_type": "markdown",
   "metadata": {},
   "source": [
    "### Running Functions\n",
    "\n",
    "For function execution, we require a `Dataset`. Think of this dataset as a container for your function, with calculations to be added later on.\n",
    "\n",
    "Like `URL`, this can be imported directly from `remotemanager`\n",
    "\n",
    "To create a dataset, the only requirement is a callable function object. You must pass this object to the Dataset\n",
    "\n",
    ".. note::\n",
    "    When passing a function to the dataset, do not call it within the assigment. For example, for our multiply function, we should pass `function=multiply` _not_ `function=multiply()`\n",
    "\n",
    "Here we are additionally specifying the `local_dir` and the `remote_dir`, which tells the Dataset where to put all relevant files on the local and remote machines, respectively.\n",
    "\n",
    "If it suits your workflow, you can additionally specify a `run_dir` when appending a run. This is an additional folder within `remote_dir` where the script will be executed from. Thus, any files created by your function will be placed here."
   ]
  },
  {
   "cell_type": "code",
   "execution_count": 5,
   "metadata": {
    "tags": []
   },
   "outputs": [
    {
     "ename": "NameError",
     "evalue": "name 'multiply' is not defined",
     "output_type": "error",
     "traceback": [
      "\u001b[0;31m---------------------------------------------------------------------------\u001b[0m",
      "\u001b[0;31mNameError\u001b[0m                                 Traceback (most recent call last)",
      "Cell \u001b[0;32mIn[5], line 3\u001b[0m\n\u001b[1;32m      1\u001b[0m \u001b[38;5;28;01mfrom\u001b[39;00m \u001b[38;5;21;01mremotemanager\u001b[39;00m \u001b[38;5;28;01mimport\u001b[39;00m Dataset\n\u001b[0;32m----> 3\u001b[0m ds \u001b[38;5;241m=\u001b[39m Dataset(function\u001b[38;5;241m=\u001b[39m\u001b[43mmultiply\u001b[49m,\n\u001b[1;32m      4\u001b[0m              url\u001b[38;5;241m=\u001b[39mconnection,\n\u001b[1;32m      5\u001b[0m              local_dir\u001b[38;5;241m=\u001b[39m\u001b[38;5;124m'\u001b[39m\u001b[38;5;124mtemp_local\u001b[39m\u001b[38;5;124m'\u001b[39m,\n\u001b[1;32m      6\u001b[0m              remote_dir\u001b[38;5;241m=\u001b[39m\u001b[38;5;124m'\u001b[39m\u001b[38;5;124mtemp_remote\u001b[39m\u001b[38;5;124m'\u001b[39m,block_reinit\u001b[38;5;241m=\u001b[39m\u001b[38;5;28;01mTrue\u001b[39;00m)\n",
      "\u001b[0;31mNameError\u001b[0m: name 'multiply' is not defined"
     ]
    }
   ],
   "source": [
    "from remotemanager import Dataset\n",
    "\n",
    "ds = Dataset(function=multiply,\n",
    "             url=connection,\n",
    "             local_dir='temp_local',\n",
    "             remote_dir='temp_remote',block_reinit=True)"
   ]
  },
  {
   "cell_type": "markdown",
   "metadata": {},
   "source": [
    "### Creating runs\n",
    "\n",
    "As the dataset is simply a container for the function, it is essentially useless in this state. To get some use out of it, we must append some runs.\n",
    "\n",
    "To do this we use the `Dataset.append_run()` method. This will take the arguments in `dict` format, and store them for later.\n",
    "\n",
    "You may do this in any way you see fit, the important part is to pass a dictionary which contains all ncessary arguments for the running of your function:"
   ]
  },
  {
   "cell_type": "code",
   "execution_count": 19,
   "metadata": {
    "tags": []
   },
   "outputs": [
    {
     "name": "stdout",
     "output_type": "stream",
     "text": [
      "appended run runner-0\n",
      "appended run runner-1\n",
      "appended run runner-2\n"
     ]
    }
   ],
   "source": [
    "runs = [[21, 2],\n",
    "        [64, 8],\n",
    "        [10, 7]]\n",
    "\n",
    "for run in runs:\n",
    "    \n",
    "    a = run[0]\n",
    "    b = run[1]\n",
    "    \n",
    "    arguments = {'a': a, 'b': b}\n",
    "    \n",
    "    ds.append_run(arguments=arguments)"
   ]
  },
  {
   "cell_type": "markdown",
   "metadata": {},
   "source": [
    "### Running and Retrieving your results\n",
    "\n",
    "Now we have created a dataset and appended some runs, we can launch the calculations. This is done via the Dataset.run() method\n",
    "\n",
    "Once the runs have completed, you can retrieve your results with `ds.fetch_results()`, and access them via `ds.results` once this is done\n",
    "\n",
    ".. note::\n",
    "    Be aware that the `fetch_results` method does not return your results, simply stores them in the `results` property."
   ]
  },
  {
   "cell_type": "code",
   "execution_count": 21,
   "metadata": {
    "tags": []
   },
   "outputs": [
    {
     "name": "stdout",
     "output_type": "stream",
     "text": [
      "assessing run for runner dataset-62eb4971-runner-0... checks passed, running\n",
      "assessing run for runner dataset-62eb4971-runner-1... checks passed, running\n",
      "assessing run for runner dataset-62eb4971-runner-2... checks passed, running\n"
     ]
    },
    {
     "ename": "RuntimeError",
     "evalue": "received the following stderr: \n/bin/bash: /opt/intel/oneapi/intelpython/python3.9/lib/libtinfo.so.6: no version information available (required by /bin/bash)\n",
     "output_type": "error",
     "traceback": [
      "\u001b[0;31m---------------------------------------------------------------------------\u001b[0m",
      "\u001b[0;31mRuntimeError\u001b[0m                              Traceback (most recent call last)",
      "Cell \u001b[0;32mIn[21], line 1\u001b[0m\n\u001b[0;32m----> 1\u001b[0m \u001b[43mds\u001b[49m\u001b[38;5;241;43m.\u001b[39;49m\u001b[43mrun\u001b[49m\u001b[43m(\u001b[49m\u001b[43mraise_errors\u001b[49m\u001b[38;5;241;43m=\u001b[39;49m\u001b[38;5;28;43;01mFalse\u001b[39;49;00m\u001b[43m)\u001b[49m\n",
      "File \u001b[0;32m~/.local/lib/python3.9/site-packages/remotemanager/dataset/dataset.py:1053\u001b[0m, in \u001b[0;36mDataset.run\u001b[0;34m(self, force, dry_run, quiet, **run_args)\u001b[0m\n\u001b[1;32m   1050\u001b[0m     Quiet\u001b[38;5;241m.\u001b[39mstate \u001b[38;5;241m=\u001b[39m quiet\n\u001b[1;32m   1051\u001b[0m     \u001b[38;5;28;01mreturn\u001b[39;00m\n\u001b[0;32m-> 1053\u001b[0m \u001b[38;5;28;43mself\u001b[39;49m\u001b[38;5;241;43m.\u001b[39;49m\u001b[43m_run\u001b[49m\u001b[43m(\u001b[49m\u001b[43mforce\u001b[49m\u001b[43m,\u001b[49m\u001b[43m \u001b[49m\u001b[43mdry_run\u001b[49m\u001b[43m,\u001b[49m\u001b[43m \u001b[49m\u001b[38;5;241;43m*\u001b[39;49m\u001b[38;5;241;43m*\u001b[39;49m\u001b[43mrun_args\u001b[49m\u001b[43m)\u001b[49m\n\u001b[1;32m   1054\u001b[0m Quiet\u001b[38;5;241m.\u001b[39mstate \u001b[38;5;241m=\u001b[39m quiet\n",
      "File \u001b[0;32m~/.local/lib/python3.9/site-packages/remotemanager/dataset/dataset.py:1145\u001b[0m, in \u001b[0;36mDataset._run\u001b[0;34m(self, force, dry_run, **run_args)\u001b[0m\n\u001b[1;32m   1142\u001b[0m     \u001b[38;5;28mself\u001b[39m\u001b[38;5;241m.\u001b[39m_write_to_repo(\u001b[38;5;28mself\u001b[39m\u001b[38;5;241m.\u001b[39mlocal_dir, remote)\n\u001b[1;32m   1144\u001b[0m \u001b[38;5;28;01mif\u001b[39;00m \u001b[38;5;129;01mnot\u001b[39;00m dry_run:\n\u001b[0;32m-> 1145\u001b[0m     \u001b[38;5;28;43mself\u001b[39;49m\u001b[38;5;241;43m.\u001b[39;49m\u001b[43mtransport\u001b[49m\u001b[38;5;241;43m.\u001b[39;49m\u001b[43mtransfer\u001b[49m\u001b[43m(\u001b[49m\u001b[43m)\u001b[49m\n\u001b[1;32m   1146\u001b[0m     \u001b[38;5;28mself\u001b[39m\u001b[38;5;241m.\u001b[39mset_runner_states(\u001b[38;5;124m\"\u001b[39m\u001b[38;5;124mfiles copied to remote\u001b[39m\u001b[38;5;124m\"\u001b[39m, runners_to_update)\n\u001b[1;32m   1147\u001b[0m     \u001b[38;5;28;01mif\u001b[39;00m \u001b[38;5;28mself\u001b[39m\u001b[38;5;241m.\u001b[39mis_child:\n",
      "File \u001b[0;32m~/.local/lib/python3.9/site-packages/remotemanager/transport/transport.py:311\u001b[0m, in \u001b[0;36mTransport.transfer\u001b[0;34m(self, dry_run, prepend)\u001b[0m\n\u001b[1;32m    305\u001b[0m     \u001b[38;5;28;01mreturn\u001b[39;00m [\n\u001b[1;32m    306\u001b[0m         \u001b[38;5;28mself\u001b[39m\u001b[38;5;241m.\u001b[39murl\u001b[38;5;241m.\u001b[39mcmd(cmd, dry_run\u001b[38;5;241m=\u001b[39m\u001b[38;5;28;01mTrue\u001b[39;00m, local\u001b[38;5;241m=\u001b[39m\u001b[38;5;28;01mTrue\u001b[39;00m, prepend\u001b[38;5;241m=\u001b[39mprepend)\n\u001b[1;32m    307\u001b[0m         \u001b[38;5;28;01mfor\u001b[39;00m cmd \u001b[38;5;129;01min\u001b[39;00m commands\n\u001b[1;32m    308\u001b[0m     ]\n\u001b[1;32m    310\u001b[0m \u001b[38;5;28;01mfor\u001b[39;00m cmd \u001b[38;5;129;01min\u001b[39;00m commands:\n\u001b[0;32m--> 311\u001b[0m     \u001b[38;5;28;43mself\u001b[39;49m\u001b[38;5;241;43m.\u001b[39;49m\u001b[43murl\u001b[49m\u001b[38;5;241;43m.\u001b[39;49m\u001b[43mcmd\u001b[49m\u001b[43m(\u001b[49m\u001b[43mcmd\u001b[49m\u001b[43m,\u001b[49m\u001b[43m \u001b[49m\u001b[43mlocal\u001b[49m\u001b[38;5;241;43m=\u001b[39;49m\u001b[38;5;28;43;01mTrue\u001b[39;49;00m\u001b[43m,\u001b[49m\u001b[43m \u001b[49m\u001b[43mprepend\u001b[49m\u001b[38;5;241;43m=\u001b[39;49m\u001b[43mprepend\u001b[49m\u001b[43m)\u001b[49m\n\u001b[1;32m    312\u001b[0m     \u001b[38;5;66;03m# wipe the transfer queue\u001b[39;00m\n\u001b[1;32m    313\u001b[0m     \u001b[38;5;28mself\u001b[39m\u001b[38;5;241m.\u001b[39mwipe_transfers()\n",
      "File \u001b[0;32m~/.local/lib/python3.9/site-packages/remotemanager/connection/url.py:423\u001b[0m, in \u001b[0;36mURL.cmd\u001b[0;34m(self, cmd, asynchronous, local, stdout, stderr, timeout, max_timeouts, raise_errors, dry_run, prepend)\u001b[0m\n\u001b[1;32m    412\u001b[0m     \u001b[38;5;28;01mreturn\u001b[39;00m cmd\u001b[38;5;241m.\u001b[39mstrip()\n\u001b[1;32m    414\u001b[0m thiscmd \u001b[38;5;241m=\u001b[39m CMD(\n\u001b[1;32m    415\u001b[0m     cmd\u001b[38;5;241m.\u001b[39mstrip(),\n\u001b[1;32m    416\u001b[0m     asynchronous\u001b[38;5;241m=\u001b[39masynchronous,\n\u001b[0;32m   (...)\u001b[0m\n\u001b[1;32m    421\u001b[0m     raise_errors\u001b[38;5;241m=\u001b[39mraise_errors,\n\u001b[1;32m    422\u001b[0m )\n\u001b[0;32m--> 423\u001b[0m \u001b[43mthiscmd\u001b[49m\u001b[38;5;241;43m.\u001b[39;49m\u001b[43mexec\u001b[49m\u001b[43m(\u001b[49m\u001b[43m)\u001b[49m\n\u001b[1;32m    424\u001b[0m \u001b[38;5;28;01mif\u001b[39;00m \u001b[38;5;129;01mnot\u001b[39;00m local:\n\u001b[1;32m    425\u001b[0m     \u001b[38;5;28mself\u001b[39m\u001b[38;5;241m.\u001b[39m_callcount \u001b[38;5;241m+\u001b[39m\u001b[38;5;241m=\u001b[39m \u001b[38;5;241m1\u001b[39m\n",
      "File \u001b[0;32m~/.local/lib/python3.9/site-packages/remotemanager/connection/cmd.py:280\u001b[0m, in \u001b[0;36mCMD.exec\u001b[0;34m(self)\u001b[0m\n\u001b[1;32m    277\u001b[0m     \u001b[38;5;28;01mreturn\u001b[39;00m \u001b[38;5;28mself\u001b[39m\u001b[38;5;241m.\u001b[39m_fexec(stdout, stderr)\n\u001b[1;32m    279\u001b[0m \u001b[38;5;28;01mtry\u001b[39;00m:\n\u001b[0;32m--> 280\u001b[0m     \u001b[38;5;28;43mself\u001b[39;49m\u001b[38;5;241;43m.\u001b[39;49m\u001b[43m_exec\u001b[49m\u001b[43m(\u001b[49m\u001b[43mstdout\u001b[49m\u001b[43m,\u001b[49m\u001b[43m \u001b[49m\u001b[43mstderr\u001b[49m\u001b[43m)\u001b[49m\n\u001b[1;32m    281\u001b[0m \u001b[38;5;28;01mexcept\u001b[39;00m \u001b[38;5;167;01mOSError\u001b[39;00m \u001b[38;5;28;01mas\u001b[39;00m E:\n\u001b[1;32m    282\u001b[0m     msg \u001b[38;5;241m=\u001b[39m \u001b[38;5;124m\"\u001b[39m\u001b[38;5;124mEncountered an OSError on exec, attempting file exec\u001b[39m\u001b[38;5;124m\"\u001b[39m\n",
      "File \u001b[0;32m~/.local/lib/python3.9/site-packages/remotemanager/connection/cmd.py:319\u001b[0m, in \u001b[0;36mCMD._exec\u001b[0;34m(self, stdout, stderr)\u001b[0m\n\u001b[1;32m    317\u001b[0m \u001b[38;5;28;01mif\u001b[39;00m \u001b[38;5;129;01mnot\u001b[39;00m \u001b[38;5;28mself\u001b[39m\u001b[38;5;241m.\u001b[39m_async \u001b[38;5;129;01mand\u001b[39;00m \u001b[38;5;129;01mnot\u001b[39;00m \u001b[38;5;28mself\u001b[39m\u001b[38;5;241m.\u001b[39mis_redirected:\n\u001b[1;32m    318\u001b[0m     \u001b[38;5;28mself\u001b[39m\u001b[38;5;241m.\u001b[39m_logger\u001b[38;5;241m.\u001b[39mdebug(\u001b[38;5;124m\"\u001b[39m\u001b[38;5;124min-exec communication triggered\u001b[39m\u001b[38;5;124m\"\u001b[39m)\n\u001b[0;32m--> 319\u001b[0m     \u001b[38;5;28;43mself\u001b[39;49m\u001b[38;5;241;43m.\u001b[39;49m\u001b[43mcommunicate\u001b[49m\u001b[43m(\u001b[49m\u001b[43m)\u001b[49m\n",
      "File \u001b[0;32m~/.local/lib/python3.9/site-packages/remotemanager/connection/cmd.py:414\u001b[0m, in \u001b[0;36mCMD.communicate\u001b[0;34m(self, use_cache, ignore_errors)\u001b[0m\n\u001b[1;32m    411\u001b[0m         \u001b[38;5;28;01mpass\u001b[39;00m\n\u001b[1;32m    413\u001b[0m \u001b[38;5;28;01mif\u001b[39;00m \u001b[38;5;28mself\u001b[39m\u001b[38;5;241m.\u001b[39m_raise_errors \u001b[38;5;129;01mand\u001b[39;00m \u001b[38;5;129;01mnot\u001b[39;00m ignore_errors \u001b[38;5;129;01mand\u001b[39;00m err \u001b[38;5;129;01mis\u001b[39;00m \u001b[38;5;129;01mnot\u001b[39;00m \u001b[38;5;28;01mNone\u001b[39;00m \u001b[38;5;129;01mand\u001b[39;00m err \u001b[38;5;241m!=\u001b[39m \u001b[38;5;124m\"\u001b[39m\u001b[38;5;124m\"\u001b[39m:\n\u001b[0;32m--> 414\u001b[0m     \u001b[38;5;28;01mraise\u001b[39;00m \u001b[38;5;167;01mRuntimeError\u001b[39;00m(\u001b[38;5;124mf\u001b[39m\u001b[38;5;124m\"\u001b[39m\u001b[38;5;124mreceived the following stderr: \u001b[39m\u001b[38;5;130;01m\\n\u001b[39;00m\u001b[38;5;132;01m{\u001b[39;00merr\u001b[38;5;132;01m}\u001b[39;00m\u001b[38;5;124m\"\u001b[39m)\n\u001b[1;32m    416\u001b[0m \u001b[38;5;28;01mreturn\u001b[39;00m {\u001b[38;5;124m\"\u001b[39m\u001b[38;5;124mstdout\u001b[39m\u001b[38;5;124m\"\u001b[39m: _clean_output(std), \u001b[38;5;124m\"\u001b[39m\u001b[38;5;124mstderr\u001b[39m\u001b[38;5;124m\"\u001b[39m: _clean_output(err)}\n",
      "\u001b[0;31mRuntimeError\u001b[0m: received the following stderr: \n/bin/bash: /opt/intel/oneapi/intelpython/python3.9/lib/libtinfo.so.6: no version information available (required by /bin/bash)\n"
     ]
    }
   ],
   "source": [
    "ds.run(raise_errors=False)"
   ]
  },
  {
   "cell_type": "code",
   "execution_count": 10,
   "metadata": {
    "tags": []
   },
   "outputs": [
    {
     "name": "stdout",
     "output_type": "stream",
     "text": [
      "checking remotely for finished runs\n",
      "None\n"
     ]
    }
   ],
   "source": [
    "# fetch the results, this loads them into the ds.results property for later access\n",
    "import time\n",
    "\n",
    "time.sleep(3)\n",
    "results = ds.fetch_results()\n",
    "print(results)  # This will print None, as fetch_results does not return anything"
   ]
  },
  {
   "cell_type": "code",
   "execution_count": 11,
   "metadata": {
    "tags": []
   },
   "outputs": [
    {
     "name": "stdout",
     "output_type": "stream",
     "text": [
      "[None, None, None, None, None, None]\n"
     ]
    }
   ],
   "source": [
    "# access this property any time after the results have been fetched. \n",
    "# This prevents the dataset attempting to poll the remote each time\n",
    "\n",
    "print(ds.results)"
   ]
  },
  {
   "cell_type": "code",
   "execution_count": null,
   "metadata": {},
   "outputs": [],
   "source": []
  }
 ],
 "metadata": {
  "kernelspec": {
   "display_name": "Python 3 (ipykernel)",
   "language": "python",
   "name": "python3"
  },
  "language_info": {
   "codemirror_mode": {
    "name": "ipython",
    "version": 3
   },
   "file_extension": ".py",
   "mimetype": "text/x-python",
   "name": "python",
   "nbconvert_exporter": "python",
   "pygments_lexer": "ipython3",
   "version": "3.9.16"
  }
 },
 "nbformat": 4,
 "nbformat_minor": 4
}
