{
 "cells": [
  {
   "cell_type": "markdown",
   "id": "6a28ee66",
   "metadata": {},
   "source": [
    "# N2 Exercise\n",
    "Before starting the exercise, we will verify that you have access to the cluster, can log in, and can run a calculation using the remotemanager."
   ]
  },
  {
   "cell_type": "code",
   "execution_count": null,
   "id": "ca4ee968",
   "metadata": {},
   "outputs": [],
   "source": [
    "! pip install remotemanager > /dev/null 2> /dev/null\n",
    "! pip install requests > /dev/null 2> /dev/null\n",
    "! pip install PyBigDFT > /dev/null 2> /dev/null"
   ]
  },
  {
   "cell_type": "code",
   "execution_count": 1,
   "id": "51a511c1",
   "metadata": {},
   "outputs": [],
   "source": [
    "from remotemanager.connection.computers.base import BaseComputer, \\\n",
    "    required, optional\n",
    "\n",
    "\n",
    "def fram_parser(resources):\n",
    "    from remotemanager.connection.computers.base import format_time\n",
    "    output = []\n",
    "    \n",
    "    cores_per_node = 32\n",
    "    if resources['mpi_per_node']:\n",
    "        if not resources['nodes']:\n",
    "            raise RuntimeError('nodes must be specified with mpi_per_node')\n",
    "        if resources['mpi_per_node'].value > cores_per_node:\n",
    "            raise ValueError(f'mpi_per_node cannot be greater than cores_per_node ({cores_per_node})')\n",
    "\n",
    "        nodes = resources['nodes'].value\n",
    "        ntasks = resources['mpi_per_node'].value * nodes\n",
    "        omp = resources[\"omp\"].value\n",
    "        \n",
    "        output.append(f\"#SBATCH --nodes={nodes}\")\n",
    "        output.append(f\"#SBATCH --ntasks={ntasks}\")\n",
    "    else:\n",
    "        # extract our mpi and omp request, calculate total cores\n",
    "        mpi = resources[\"mpi\"].value\n",
    "        omp = resources[\"omp\"].value\n",
    "        ntasks = mpi * omp\n",
    "        print(f'{ntasks} total mpi requested')\n",
    "        \n",
    "        nodes = int(round(max(1, ntasks / cores_per_node)))\n",
    "        output.append(f\"#SBATCH --nodes={nodes}\")\n",
    "        output.append(f\"#SBATCH --ntasks={ntasks}\")\n",
    "\n",
    "    if not resources[\"partition\"]:\n",
    "        resources[\"partition\"] = resources[\"queue\"].value\n",
    "\n",
    "    #options['--export'] = 'none'    \n",
    "    for k, v in resources.items():\n",
    "        if k in ['nodes', 'mpi' 'mpi_per_node']:\n",
    "            continue\n",
    "        if k == \"time\":\n",
    "            output.append(f\"#SBATCH --{v.flag}={format_time(v.value)}\")\n",
    "        elif v:\n",
    "            output.append(f\"#SBATCH --{v.flag}={v.value}\")\n",
    "    \n",
    "    output.append(f'\\nexport OMP_NUM_THREADS={omp}')\n",
    "\n",
    "    return output\n",
    "\n",
    "\n",
    "class Fram(BaseComputer):\n",
    "    \"\"\"\n",
    "    class for connecting to Fram, note settings correspond to the large memory nodes which will be used for the tutorial\n",
    "    \"\"\"\n",
    "\n",
    "    def __init__(self,\n",
    "                 module_purge=False,\n",
    "                 **kwargs):\n",
    "\n",
    "        if 'host' not in kwargs:\n",
    "            kwargs['host'] = 'fram.sigma2.no'\n",
    "\n",
    "        super().__init__(**kwargs)\n",
    "\n",
    "        self.submitter = 'sbatch'\n",
    "        self.shebang = '#!/bin/bash'\n",
    "\n",
    "        self.mpi = required('ntasks')\n",
    "        self.mpi_per_node = required('tasks-per-node')\n",
    "        self.omp = required('cpus-per-task')\n",
    "        self.walltime = required('time')\n",
    "        self.memory = required('mem-per-cpu')        \n",
    "        self.nodes = optional('nodes')\n",
    "        self.jobname = optional('job-name')\n",
    "        self.outfile = optional('output')\n",
    "        self.errfile = optional('error')\n",
    "        self.account = optional('account')\n",
    "        \n",
    "        #self.queue = optional('')\n",
    "        self.partition = optional('partition', 'bigmem')\n",
    "\n",
    "        self.choice_groupings = [[\"mpi\", \"mpi_per_node\"]]\n",
    "\n",
    "        self._parser = fram_parser"
   ]
  },
  {
   "cell_type": "code",
   "execution_count": 2,
   "id": "189ea548",
   "metadata": {},
   "outputs": [],
   "source": [
    "url = Fram(user=\"user35\")\n",
    "url.mpi = 1\n",
    "url.omp = 1\n",
    "url.memory = '1GB'\n",
    "url.walltime = \"00:10:00\"\n",
    "url.account = \"nn8999k\"\n",
    "url.extra = \"\"\"export BIGDFT_MPIRUN='srun --distribution=cyclic:cyclic'\n",
    "source /cluster/projects/nn8999k/bigdft-suite/Build/install/bin/bigdftvars.sh\n",
    "module load intel/2022b\n",
    "module load Python/3.9.6-GCCcore-11.2.0\n",
    "\"\"\"\n",
    "remote_dir = \"/cluster/home/user35\""
   ]
  },
  {
   "cell_type": "code",
   "execution_count": 3,
   "id": "9bf581b1",
   "metadata": {},
   "outputs": [
    {
     "data": {
      "text/plain": [
       "/cluster/home/user35"
      ]
     },
     "execution_count": 3,
     "metadata": {},
     "output_type": "execute_result"
    }
   ],
   "source": [
    "url.cmd('pwd')"
   ]
  },
  {
   "cell_type": "code",
   "execution_count": 4,
   "id": "4a2426d2",
   "metadata": {},
   "outputs": [],
   "source": [
    "%load_ext remotemanager"
   ]
  },
  {
   "cell_type": "code",
   "execution_count": 5,
   "id": "0c199c4c",
   "metadata": {},
   "outputs": [
    {
     "name": "stdout",
     "output_type": "stream",
     "text": [
      "appended run runner-0\n",
      "assessing run for runner dataset-47f02ba2-runner-0... checks passed, running\n",
      "1 total mpi requested\n",
      "checking remotely for finished runs\n"
     ]
    }
   ],
   "source": [
    "%%sanzu url=url\n",
    "3"
   ]
  },
  {
   "cell_type": "code",
   "execution_count": 6,
   "id": "a7dbddee",
   "metadata": {},
   "outputs": [
    {
     "name": "stdout",
     "output_type": "stream",
     "text": [
      "3\n"
     ]
    }
   ],
   "source": [
    "print(magic_dataset.results[0])"
   ]
  },
  {
   "cell_type": "markdown",
   "id": "a9342768",
   "metadata": {},
   "source": [
    "Example of 2 BigDFT runs with different parameters, run remotely on Fram"
   ]
  },
  {
   "cell_type": "code",
   "execution_count": 7,
   "id": "acbbb30d",
   "metadata": {},
   "outputs": [
    {
     "name": "stdout",
     "output_type": "stream",
     "text": [
      "appended run runner-0\n",
      "assessing run for runner dataset-74cfff4e-runner-0... checks passed, running\n",
      "1 total mpi requested\n",
      "checking remotely for finished runs\n"
     ]
    }
   ],
   "source": [
    "%%sanzu url=url\n",
    "\n",
    "# import and setup the calculator\n",
    "from BigDFT.Calculators import SystemCalculator\n",
    "# no arguments need to be given, as these are taken from url above\n",
    "calc = SystemCalculator()\n",
    "\n",
    "# import the database of xyz structures\n",
    "from BigDFT.Database import Molecules\n",
    "\n",
    "# import and setup an initial input file\n",
    "from BigDFT import Inputfiles as I\n",
    "\n",
    "inp = I.Inputfile()\n",
    "inp.set_xc('LDA')\n",
    "inp.set_hgrid(0.5)\n",
    "\n",
    "# now run the calculation, setting the system and name of the run\n",
    "energy1 = calc.run(sys=Molecules.get_molecule('N2'), input=inp, name='calc1').energy\n",
    "\n",
    "# now modify hgrid and run again with a different name\n",
    "inp.set_hgrid(0.45)\n",
    "energy2 = calc.run(sys=Molecules.get_molecule('N2'), input=inp, name='calc2').energy\n",
    "\n",
    "# return both energies\n",
    "energy1, energy2"
   ]
  },
  {
   "cell_type": "markdown",
   "id": "af2030cb",
   "metadata": {},
   "source": [
    "Print the two energies"
   ]
  },
  {
   "cell_type": "code",
   "execution_count": 8,
   "id": "1fa665f5",
   "metadata": {},
   "outputs": [
    {
     "name": "stdout",
     "output_type": "stream",
     "text": [
      "[-19.87945480437057, -19.884615273242606]\n"
     ]
    }
   ],
   "source": [
    "print(magic_dataset.results[0])"
   ]
  },
  {
   "cell_type": "markdown",
   "id": "ee85b982",
   "metadata": {},
   "source": [
    "### Exercise\n",
    "\n",
    "Compare the values of the HOMO and HOMO-1 eigenvalues for the LDA and the HF run.\n",
    "Change the values of the *hgrid* and *crmult* to find the converged values.\n",
    "\n",
    "Note that, both in the LDA and in the HF calculation, a norm-conserving PSP is used.\n",
    "\n",
    "The results can be compared to all-electron calculations, done with different basis sets, from references (units are eV) \n",
    "(1) S.&nbsp;Hamel <i>et&nbsp;al.</i> J. Electron Spectrospcopy and Related Phenomena 123 (2002) 345-363 and (2) P.&nbsp;Politzer, F.&nbsp;Abu-Awwad, Theor. Chem. Acc. (1998), 99, 83-87:\n",
    "\n",
    "eigenvalues          | LDA(1) | HF(1) | HF(2) | (Exp.)\n",
    "---------------------|--------|-------|-------|-------\n",
    "3&sigma;<sub>g</sub> | 10.36  | 17.25 | 17.31 | (15.60)\n",
    "1&pi;<sub>u</sub>    | 11.84  | 16.71 | 17.02 | (16.98)\n",
    "2&sigma;<sub>u</sub> | 13.41  | 21.25 | 21.08 | (18.78)\n",
    "\n",
    "The results depends, of course, on the precision chosen for the calculation, and of the presence of the pseudopotential.\n",
    "As it is well-known, the pseudopotential appoximation is however much less severe than the approximation induced by typical XC functionals. We might see that, even in the HF case, the presence of a LDA-based pseudopotential (of rather good quality) does not alter so much the results. \n",
    "\n",
    "Here you can find the values from BigDFT calculation using a very good precision (*hgrid=0.3*, *crmult=7.0*). \n",
    "Note that 1 Ha=27.21138386 eV.\n",
    " \n",
    "eigenvalues          | LDA   | HF\n",
    "---------------------|-------|------\n",
    "3&sigma;<sub>g</sub> | 10.40 | 17.32\n",
    "1&pi;<sub>u</sub>    | 11.75 | 16.62\n",
    "2&sigma;<sub>u</sub> | 13.52 | 21.30\n",
    "\n",
    "How much do these values differ from the calculation with default parameters? Do they converge to a given value?\n",
    "What is the *correlation* for the N2 molecule in (PSP) LDA?\n",
    "\n",
    "See here the [solution](https://github.com/BigDFT-group/bigdft-school/blob/main/CCP_tutorials/1.H.N2Exercise.ipynb)."
   ]
  }
 ],
 "metadata": {
  "kernelspec": {
   "display_name": "Python 3 (ipykernel)",
   "language": "python",
   "name": "python3"
  },
  "language_info": {
   "codemirror_mode": {
    "name": "ipython",
    "version": 3
   },
   "file_extension": ".py",
   "mimetype": "text/x-python",
   "name": "python",
   "nbconvert_exporter": "python",
   "pygments_lexer": "ipython3",
   "version": "3.11.3"
  }
 },
 "nbformat": 4,
 "nbformat_minor": 5
}
