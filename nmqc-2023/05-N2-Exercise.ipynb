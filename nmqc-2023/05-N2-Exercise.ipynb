{
 "cells": [
  {
   "cell_type": "markdown",
   "id": "ee85b982",
   "metadata": {},
   "source": [
    "### Exercise\n",
    "\n",
    "Compare the values of the HOMO and HOMO-1 eigenvalues for the LDA and the HF run.\n",
    "Change the values of the *hgrid* and *crmult* to find the converged values. Note that a thorough description of those two (essential) parameters is provided later on when studying a [CH4 molecule](https://l_sim.gitlab.io/bigdft-suite/tutorials/CH4.html).\n",
    "\n",
    "Note that, both in the LDA and in the HF calculation, a norm-conserving PSP is used.\n",
    "\n",
    "The results can be compared to all-electron calculations, done with different basis sets, from references (units are eV) \n",
    "(1) S.&nbsp;Hamel <i>et&nbsp;al.</i> J. Electron Spectrospcopy and Related Phenomena 123 (2002) 345-363 and (2) P.&nbsp;Politzer, F.&nbsp;Abu-Awwad, Theor. Chem. Acc. (1998), 99, 83-87:\n",
    "\n",
    "eigenvalues          | LDA(1) | HF(1) | HF(2) | (Exp.)\n",
    "---------------------|--------|-------|-------|-------\n",
    "3&sigma;<sub>g</sub> | 10.36  | 17.25 | 17.31 | (15.60)\n",
    "1&pi;<sub>u</sub>    | 11.84  | 16.71 | 17.02 | (16.98)\n",
    "2&sigma;<sub>u</sub> | 13.41  | 21.25 | 21.08 | (18.78)\n",
    "\n",
    "The results depends, of course, on the precision chosen for the calculation, and of the presence of the pseudopotential.\n",
    "As it is well-known, the pseudopotential appoximation is however much less severe than the approximation induced by typical XC functionals. We might see that, even in the HF case, the presence of a LDA-based pseudopotential (of rather good quality) does not alter so much the results. \n",
    "\n",
    "Here you can find the values from BigDFT calculation using a very good precision (*hgrid=0.3*, *crmult=7.0*). \n",
    "Note that 1 Ha=27.21138386 eV.\n",
    " \n",
    "eigenvalues          | LDA   | HF\n",
    "---------------------|-------|------\n",
    "3&sigma;<sub>g</sub> | 10.40 | 17.32\n",
    "1&pi;<sub>u</sub>    | 11.75 | 16.62\n",
    "2&sigma;<sub>u</sub> | 13.52 | 21.30\n",
    "\n",
    "How much do these values differ from the calculation with default parameters? Do they converge to a given value?\n",
    "What is the *correlation* for the N2 molecule in (PSP) LDA?\n",
    "\n",
    "See here the [solution](https://github.com/BigDFT-group/bigdft-school/blob/main/CCP_tutorials/1.H.N2Exercise.ipynb)."
   ]
  }
 ],
 "metadata": {
  "kernelspec": {
   "display_name": "Python 3 (ipykernel)",
   "language": "python",
   "name": "python3"
  },
  "language_info": {
   "codemirror_mode": {
    "name": "ipython",
    "version": 3
   },
   "file_extension": ".py",
   "mimetype": "text/x-python",
   "name": "python",
   "nbconvert_exporter": "python",
   "pygments_lexer": "ipython3",
   "version": "3.11.3"
  }
 },
 "nbformat": 4,
 "nbformat_minor": 5
}
