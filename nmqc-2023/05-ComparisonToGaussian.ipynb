{
 "cells": [
  {
   "cell_type": "markdown",
   "metadata": {},
   "source": [
    "# Comparison To Gaussian Orbitals\n",
    "In this notebook, we will compare a calculation using the BigDFT code which is based on wavelets to a calculation from a code which is based on gaussian orbitals. As our representative gaussian code, we will use [PySCF](https://sunqm.github.io/pyscf/)."
   ]
  },
  {
   "cell_type": "code",
   "execution_count": null,
   "metadata": {},
   "outputs": [],
   "source": [
    "! pip install -q remotemanager\n",
    "! pip install -q requests\n",
    "! pip install -q PyBigDFT\n",
    "! pip install -q pyscf\n",
    "! pip install -q py3dmol\n",
    "! pip install -q matplotlib\n",
    "! pip install -q jsonpickle"
   ]
  },
  {
   "cell_type": "code",
   "execution_count": null,
   "metadata": {},
   "outputs": [],
   "source": [
    "! wget https://github.com/BigDFT-group/bigdft-school/raw/main/packaging/gdata.tar.gz ; tar -xvf gdata.tar.gz"
   ]
  },
  {
   "cell_type": "markdown",
   "metadata": {},
   "source": [
    "To do the comparison, we are going to look at a molecule composed of two fragments connected by a single bond. We will then rotate one fragment along that bond, computing the energy at each step. We will do this calculation using different basis sets, and see how the energy values converge and compare.\n",
    "\n",
    "First, we will load in the system."
   ]
  },
  {
   "cell_type": "code",
   "execution_count": null,
   "metadata": {},
   "outputs": [],
   "source": [
    "from BigDFT.IO import XYZReader\n",
    "from BigDFT.Systems import System\n",
    "from BigDFT.Fragments import Fragment\n",
    "\n",
    "geom = \"CH3SH\"\n",
    "\n",
    "sys = System()\n",
    "sys[\"FRA:0\"] = Fragment()\n",
    "sys[\"FRA:1\"] = Fragment()\n",
    "\n",
    "with XYZReader(geom) as ifile:\n",
    "    for i, at in enumerate(ifile):\n",
    "        if i == 0 or i == 3 or i == 4 or i == 5:\n",
    "            sys[\"FRA:0\"] += Fragment([at])\n",
    "        else:\n",
    "            sys[\"FRA:1\"] += Fragment([at])"
   ]
  },
  {
   "cell_type": "markdown",
   "metadata": {},
   "source": [
    "We can visualize the molecule to verify that we have properly broken it into two fragments."
   ]
  },
  {
   "cell_type": "code",
   "execution_count": null,
   "metadata": {},
   "outputs": [],
   "source": [
    "from BigDFT.Visualization import InlineVisualizer\n",
    "viz = InlineVisualizer(400,300)\n",
    "viz.display_system(sys)"
   ]
  },
  {
   "cell_type": "markdown",
   "metadata": {},
   "source": [
    "We want to rotate along the bond connecting the two fragments. To do this we need to compute that vector to rotate on."
   ]
  },
  {
   "cell_type": "code",
   "execution_count": null,
   "metadata": {},
   "outputs": [],
   "source": [
    "vec = [x - y for x, y in \n",
    "       zip(sys[\"FRA:0\"][0].get_position(), sys[\"FRA:1\"][0].get_position())]"
   ]
  },
  {
   "cell_type": "markdown",
   "metadata": {},
   "source": [
    "Now we can time step over 120 degrees."
   ]
  },
  {
   "cell_type": "code",
   "execution_count": null,
   "metadata": {},
   "outputs": [],
   "source": [
    "from copy import deepcopy\n",
    "\n",
    "systems = []\n",
    "angles = []\n",
    "steps = 10\n",
    "\n",
    "for i in range(steps):\n",
    "    newsys = deepcopy(sys)\n",
    "    newsys[\"FRA:0\"].rotate_on_axis(angle=120/(steps-1) * i, \n",
    "                                   axis=vec, units=\"degrees\")\n",
    "    systems.append(newsys)\n",
    "    angles += [120/(steps-1) * i]"
   ]
  },
  {
   "cell_type": "markdown",
   "metadata": {},
   "source": [
    "## PySCF Calcuations\n",
    "Now let's calculate the energy of this system using the PySCF code at the Hartree-Fock level of theory. Hartree-Fock is more convenient than DFT because we do not have to consider the integration grid used for the exchange and correlation potential. We will repeat this calculation using various Karlsruhe basis sets."
   ]
  },
  {
   "cell_type": "code",
   "execution_count": null,
   "metadata": {},
   "outputs": [],
   "source": [
    "basis = [\"sto-3g\", \"def2-SVP\", \"def2-TZVP\"]"
   ]
  },
  {
   "cell_type": "markdown",
   "metadata": {},
   "source": [
    "We need a simple routine to convert to the pyscf format."
   ]
  },
  {
   "cell_type": "code",
   "execution_count": null,
   "metadata": {},
   "outputs": [],
   "source": [
    "def convert_bigdft_to_pyscf(sys, basis, verbose = 0):\n",
    "    from pyscf import gto\n",
    "    mol = gto.Mole()\n",
    "    for frag in sys.values():\n",
    "        for at in frag:\n",
    "            mol.atom.append([at.sym, at.get_position(\"angstroem\")])\\\n",
    "    mol.basis = b\n",
    "    mol.verbose = 0\n",
    "    mol.build()\n",
    "    return mol"
   ]
  },
  {
   "cell_type": "markdown",
   "metadata": {},
   "source": [
    "Run and extract energy and forces."
   ]
  },
  {
   "cell_type": "code",
   "execution_count": null,
   "metadata": {},
   "outputs": [],
   "source": [
    "from pyscf.scf import HF\n",
    "from numpy.linalg import norm\n",
    "\n",
    "pyscf_forces = {}\n",
    "pyscf_energies = {}\n",
    "\n",
    "for b in basis:\n",
    "    pyscf_energies[b] = []\n",
    "    pyscf_forces[b] = []\n",
    "    for sys in systems:\n",
    "        m = convert_bigdft_to_pyscf(sys)\n",
    "        \n",
    "        mf = HF(m)\n",
    "        pyscf_energies[b].append(mf.kernel())\n",
    "        \n",
    "        g = mf.nuc_grad_method()\n",
    "        grad = g.kernel()\n",
    "        pyscf_forces[b].append(grad.tolist())"
   ]
  },
  {
   "cell_type": "markdown",
   "metadata": {},
   "source": [
    "With the calculations completed, we can now plot the values. We'll look at how the energy changes from the starting configuration, and compute the norm of the difference in forces."
   ]
  },
  {
   "cell_type": "code",
   "execution_count": null,
   "metadata": {},
   "outputs": [],
   "source": [
    "from matplotlib import pyplot as plt\n",
    "from numpy.linalg import norm\n",
    "from numpy import array\n",
    "\n",
    "fig, axs = plt.subplots(2,1,figsize=(8,6))\n",
    "\n",
    "markers = [\"+\", \"x\", \".\", \"o\"]\n",
    "for m, b in zip(markers, basis):\n",
    "    axs[0].plot(angles, \n",
    "                [(x - pyscf_energies[b][0]) for x in pyscf_energies[b]], \n",
    "                label=b, marker=m, linestyle='--')\n",
    "    axs[1].plot(angles, \n",
    "                [(norm(array(x) - array(pyscf_forces[b][0]))) for x in pyscf_forces[b]], \n",
    "                label=b, marker=m, linestyle='--')\n",
    "    \n",
    "axs[0].set_ylabel(\"Energy Change (AU)\", fontsize=12)\n",
    "axs[1].set_ylabel(\"Forces (AU)\", fontsize=12)\n",
    "axs[1].set_xlabel(\"Angle (degrees)\", fontsize=12)\n",
    "    \n",
    "axs[0].legend()\n",
    "fig.tight_layout()"
   ]
  },
  {
   "cell_type": "markdown",
   "metadata": {},
   "source": [
    "We see that the energy does seem to successfully converge. We also see a good part about Gaussian basis functions: even with the small basis, the values are qualitatively correct. On the other hand, we see a weakness of this approach, where the smaller basis set (STO-3G) performs better than a bigger one (def2-SVP). Care must be taken to determine if a large enough basis was used."
   ]
  },
  {
   "cell_type": "markdown",
   "metadata": {},
   "source": [
    "## BigDFT Calculations"
   ]
  },
  {
   "cell_type": "markdown",
   "metadata": {},
   "source": [
    "We will now repeat this calculation using the BigDFT code. BigDFT's accuracy is controlled by the grid spacing. A smaller grid spacing leads to more accurate energies."
   ]
  },
  {
   "cell_type": "code",
   "execution_count": null,
   "metadata": {},
   "outputs": [],
   "source": [
    "hgrid = [0.5, 0.4, 0.35, 0.3]"
   ]
  },
  {
   "cell_type": "code",
   "execution_count": null,
   "metadata": {},
   "outputs": [],
   "source": [
    "from BigDFT.Inputfiles import Inputfile\n",
    "inp = Inputfile()\n",
    "inp.set_xc(\"HF\")\n",
    "\n",
    "# Set the pseudopotential functional of Hartree-Fock. We will pick the LDA built in pseudopotential.\n",
    "inp['psppar.C']={'Pseudopotential XC': 1}\n",
    "inp['psppar.O']={'Pseudopotential XC': 1}\n",
    "inp['psppar.H']={'Pseudopotential XC': 1}\n",
    "inp['psppar.S']={'Pseudopotential XC': 1}"
   ]
  },
  {
   "cell_type": "markdown",
   "metadata": {},
   "source": [
    "Now we repeat the calculation for each grid spacing."
   ]
  },
  {
   "cell_type": "code",
   "execution_count": null,
   "metadata": {},
   "outputs": [],
   "source": [
    "from numpy import array\n",
    "from BigDFT.Calculators import SystemCalculator\n",
    "\n",
    "code = SystemCalculator(verbose=False, skip=True)\n",
    "\n",
    "bigdft_energies = {}\n",
    "bigdft_forces = {}\n",
    "for h in hgrid:\n",
    "    inp.set_hgrid(h)\n",
    "    bigdft_energies[h] = []\n",
    "    bigdft_forces[h] = []\n",
    "    for i, m in enumerate(systems):\n",
    "        log = code.run(input=inp, posinp=m.get_posinp(), \n",
    "                       name=str(h) + \"-\" + str(i), run_dir=\"scr\")\n",
    "\n",
    "        m.set_atom_forces(log)\n",
    "        bigdft_energies[h].append(log.energy)\n",
    "        \n",
    "        forces = []\n",
    "        for frag in m.values():\n",
    "            for at in frag:\n",
    "                forces.append(at.get_force())\n",
    "        bigdft_forces[h].append(array(forces))"
   ]
  },
  {
   "cell_type": "markdown",
   "metadata": {},
   "source": [
    "And we can plot the results."
   ]
  },
  {
   "cell_type": "code",
   "execution_count": null,
   "metadata": {},
   "outputs": [],
   "source": [
    "from matplotlib import pyplot as plt\n",
    "fig, axs = plt.subplots(2,1,figsize=(8,6))\n",
    "\n",
    "markers = [\"+\", \"x\", \".\", \"o\"]\n",
    "for m, b in zip(markers, hgrid):\n",
    "    axs[0].plot(angles, \n",
    "                [(x - bigdft_energies[str(b)][0]) for x in bigdft_energies[str(b)]], \n",
    "                label=b, marker=m, linestyle='--')\n",
    "    axs[1].plot(angles, \n",
    "                [(norm(x - bigdft_forces[str(b)][0])) for x in bigdft_forces[str(b)]], \n",
    "                label=b, marker=m, linestyle='--')\n",
    "    \n",
    "axs[0].set_ylabel(\"Energy Change (AU)\", fontsize=12)\n",
    "axs[1].set_ylabel(\"Forces (AU)\", fontsize=12)\n",
    "axs[1].set_xlabel(\"Angle (degrees)\", fontsize=12)\n",
    "    \n",
    "axs[0].legend()\n",
    "fig.tight_layout()"
   ]
  },
  {
   "cell_type": "markdown",
   "metadata": {},
   "source": [
    "We see here that energy improves systematically with the choice of hgrid due to the variational formulism applied. We also see that a loose cutoff can lead to disastrous results. In the case of Gaussian basis sets, a small basis might be qualitatively right since it was fitted to similar types of systems. But a numerical basis is more \"all or nothing\"."
   ]
  },
  {
   "cell_type": "markdown",
   "metadata": {},
   "source": [
    "We can also plot the best energy values of the two codes on the same axis."
   ]
  },
  {
   "cell_type": "code",
   "execution_count": null,
   "metadata": {
    "scrolled": true
   },
   "outputs": [],
   "source": [
    "fig, axs = plt.subplots(2,1,figsize=(8,6))\n",
    "\n",
    "axs[0].plot(angles, \n",
    "            [(x - pyscf_energies[basis[-1]][0]) \n",
    "             for x in pyscf_energies[basis[-1]]],\n",
    "            label=\"pyscf-\" + str(basis[-1]), color='k', marker='*', \n",
    "            linestyle='-', markersize=12)\n",
    "axs[0].plot(angles, \n",
    "            [(x - pyscf_energies[basis[-2]][0]) \n",
    "             for x in pyscf_energies[basis[-2]]],\n",
    "            label=\"pyscf-\" + str(basis[-2]), color='k', marker='.', \n",
    "            linestyle='dotted', markersize=12)\n",
    "axs[0].plot(angles, \n",
    "            [(x - bigdft_energies[str(hgrid[-1])][0]) \n",
    "             for x in bigdft_energies[str(hgrid[-1])]],\n",
    "            label=\"bigdft-\" + str(hgrid[-1]), color='r', marker='x', \n",
    "            linestyle='-', markersize=12)\n",
    "axs[0].plot(angles, \n",
    "            [(x - bigdft_energies[str(hgrid[-2])][0]) \n",
    "             for x in bigdft_energies[str(hgrid[-2])]],\n",
    "            label=\"bigdft-\" + str(hgrid[-2]), color='r', marker='+', \n",
    "            linestyle='dotted', markersize=12)\n",
    "\n",
    "axs[1].plot(angles, \n",
    "            [(norm(array(x) - array(pyscf_forces[basis[-1]][0]))) \n",
    "             for x in pyscf_forces[basis[-1]]],\n",
    "            label=\"pyscf-\" + str(basis[-1]), color='k', marker='*', \n",
    "            linestyle='-', markersize=12)\n",
    "axs[1].plot(angles, \n",
    "            [(norm(array(x) - array(pyscf_forces[basis[-2]][0]))) \n",
    "             for x in pyscf_forces[basis[-2]]],\n",
    "            label=\"pyscf-\" + str(basis[-2]), color='k', \n",
    "            marker='.', linestyle='dotted', markersize=12)\n",
    "axs[1].plot(angles, \n",
    "            [(norm(array(x) - array(bigdft_forces[str(hgrid[-1])][0])))\n",
    "             for x in bigdft_forces[str(hgrid[-1])]],\n",
    "            label=\"bigdft-\" + str(hgrid[-1]), color='r', marker='x', \n",
    "            linestyle='-', markersize=12)\n",
    "axs[1].plot(angles, \n",
    "            [(norm(array(x) - array(bigdft_forces[str(hgrid[-2])][0]))) \n",
    "             for x in bigdft_forces[str(hgrid[-2])]],\n",
    "            label=\"bigdft-\" + str(hgrid[-2]), color='r', \n",
    "            marker='+', linestyle='dotted', markersize=12)\n",
    "    \n",
    "axs[0].set_ylabel(\"Energy Change (AU)\", fontsize=12)\n",
    "axs[1].set_ylabel(\"Forces (AU)\", fontsize=12)\n",
    "axs[1].set_xlabel(\"Angle (degrees)\", fontsize=12)\n",
    "    \n",
    "axs[0].legend()\n",
    "fig.tight_layout()"
   ]
  },
  {
   "cell_type": "markdown",
   "metadata": {},
   "source": [
    "We note that even though the two calculations are \"converged\", the pseudopotential approximation remains, which leads to different energy values for these two codes."
   ]
  }
 ],
 "metadata": {
  "kernelspec": {
   "display_name": "Python 3 (ipykernel)",
   "language": "python",
   "name": "python3"
  },
  "language_info": {
   "codemirror_mode": {
    "name": "ipython",
    "version": 3
   },
   "file_extension": ".py",
   "mimetype": "text/x-python",
   "name": "python",
   "nbconvert_exporter": "python",
   "pygments_lexer": "ipython3",
   "version": "3.11.3"
  }
 },
 "nbformat": 4,
 "nbformat_minor": 4
}
