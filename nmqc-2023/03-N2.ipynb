{
 "cells": [
  {
   "cell_type": "markdown",
   "metadata": {
    "id": "-SeUGki0qb5s"
   },
   "source": [
    "# Basics of BigDFT: N2 molecule as example\n",
    "\n",
    "This is a simple notebook that shows how to execute a simple calculation with BigDFT.\n",
    "You will learn how to manipulate basic DFT objects from a python script.\n",
    "This expands some of the concepts which have been briefly introduced in the quickstart tutorial."
   ]
  },
  {
   "cell_type": "code",
   "execution_count": 3,
   "metadata": {
    "cellView": "form",
    "id": "FtusyhXVr5P2",
    "tags": []
   },
   "outputs": [
    {
     "name": "stdout",
     "output_type": "stream",
     "text": [
      "--2023-05-23 14:03:42--  https://gitlab.com/luigigenovese/bigdft-school/-/raw/main/packaging/install.py\n",
      "Resolving gitlab.com (gitlab.com)... 2606:4700:90:0:f22e:fbec:5bed:a9b9, 172.65.251.78\n",
      "Connecting to gitlab.com (gitlab.com)|2606:4700:90:0:f22e:fbec:5bed:a9b9|:443... connected.\n",
      "HTTP request sent, awaiting response... 200 OK\n",
      "Length: 4231 (4.1K) [text/plain]\n",
      "Saving to: ‘install.py’\n",
      "\n",
      "install.py          100%[===================>]   4.13K  --.-KB/s    in 0s      \n",
      "\n",
      "2023-05-23 14:03:43 (27.8 MB/s) - ‘install.py’ saved [4231/4231]\n",
      "\n"
     ]
    }
   ],
   "source": [
    "install = \"client (Google drive)\" #@param [\"full_suite\", \"client (Google drive)\", \"client\"]\n",
    "install_var=install\n",
    "!wget https://gitlab.com/luigigenovese/bigdft-school/-/raw/main/packaging/install.py "
   ]
  },
  {
   "cell_type": "code",
   "execution_count": 4,
   "metadata": {
    "cellView": "form",
    "id": "FtusyhXVr5P2",
    "tags": []
   },
   "outputs": [
    {
     "ename": "ModuleNotFoundError",
     "evalue": "No module named 'google'",
     "output_type": "error",
     "traceback": [
      "\u001b[0;31m---------------------------------------------------------------------------\u001b[0m",
      "\u001b[0;31mModuleNotFoundError\u001b[0m                       Traceback (most recent call last)",
      "Cell \u001b[0;32mIn[4], line 3\u001b[0m\n\u001b[1;32m      1\u001b[0m args\u001b[38;5;241m=\u001b[39m{\u001b[38;5;124m'\u001b[39m\u001b[38;5;124mlocally\u001b[39m\u001b[38;5;124m'\u001b[39m: \u001b[38;5;28;01mTrue\u001b[39;00m} \u001b[38;5;28;01mif\u001b[39;00m install \u001b[38;5;241m==\u001b[39m \u001b[38;5;124m'\u001b[39m\u001b[38;5;124mclient\u001b[39m\u001b[38;5;124m'\u001b[39m \u001b[38;5;28;01melse\u001b[39;00m {}\n\u001b[1;32m      2\u001b[0m \u001b[38;5;28;01mimport\u001b[39;00m \u001b[38;5;21;01minstall\u001b[39;00m\n\u001b[0;32m----> 3\u001b[0m \u001b[38;5;28;43mgetattr\u001b[39;49m\u001b[43m(\u001b[49m\u001b[43minstall\u001b[49m\u001b[43m,\u001b[49m\u001b[43minstall_var\u001b[49m\u001b[38;5;241;43m.\u001b[39;49m\u001b[43msplit\u001b[49m\u001b[43m(\u001b[49m\u001b[43m)\u001b[49m\u001b[43m[\u001b[49m\u001b[38;5;241;43m0\u001b[39;49m\u001b[43m]\u001b[49m\u001b[43m)\u001b[49m\u001b[43m(\u001b[49m\u001b[38;5;241;43m*\u001b[39;49m\u001b[38;5;241;43m*\u001b[39;49m\u001b[43margs\u001b[49m\u001b[43m)\u001b[49m\n",
      "File \u001b[0;32m/work/gitprojects/bigdft-school/nmqc-2023/install.py:129\u001b[0m, in \u001b[0;36mclient\u001b[0;34m(locally)\u001b[0m\n\u001b[1;32m    127\u001b[0m \u001b[38;5;28;01melse\u001b[39;00m:\n\u001b[1;32m    128\u001b[0m     base \u001b[38;5;241m=\u001b[39m join(drive_path, \u001b[38;5;124m'\u001b[39m\u001b[38;5;124mMyDrive\u001b[39m\u001b[38;5;124m'\u001b[39m)\n\u001b[0;32m--> 129\u001b[0m     \u001b[43mmount_drive\u001b[49m\u001b[43m(\u001b[49m\u001b[43m)\u001b[49m\n\u001b[1;32m    130\u001b[0m change_dir(base)\n\u001b[1;32m    131\u001b[0m get_school_repo()\n",
      "File \u001b[0;32m/work/gitprojects/bigdft-school/nmqc-2023/install.py:33\u001b[0m, in \u001b[0;36mmount_drive\u001b[0;34m()\u001b[0m\n\u001b[1;32m     32\u001b[0m \u001b[38;5;28;01mdef\u001b[39;00m \u001b[38;5;21mmount_drive\u001b[39m():\n\u001b[0;32m---> 33\u001b[0m     \u001b[38;5;28;01mfrom\u001b[39;00m \u001b[38;5;21;01mgoogle\u001b[39;00m\u001b[38;5;21;01m.\u001b[39;00m\u001b[38;5;21;01mcolab\u001b[39;00m \u001b[38;5;28;01mimport\u001b[39;00m drive\n\u001b[1;32m     34\u001b[0m     drive\u001b[38;5;241m.\u001b[39mmount(drive_path, force_remount\u001b[38;5;241m=\u001b[39m\u001b[38;5;28;01mTrue\u001b[39;00m)\n",
      "\u001b[0;31mModuleNotFoundError\u001b[0m: No module named 'google'"
     ]
    }
   ],
   "source": [
    "args={'locally': True} if install == 'client' else {}\n",
    "import install\n",
    "getattr(install,install_var.split()[0])(**args)"
   ]
  },
  {
   "cell_type": "code",
   "execution_count": 9,
   "metadata": {
    "id": "N_x8W89sxcbA",
    "tags": []
   },
   "outputs": [
    {
     "name": "stdout",
     "output_type": "stream",
     "text": [
      "Executing: wget https://gitlab.com/luigigenovese/bigdft-school/-/raw/main/data/N2.tar.gz -O N2.tar.gz\n",
      "--2023-05-23 14:05:25--  https://gitlab.com/luigigenovese/bigdft-school/-/raw/main/data/N2.tar.gz\n",
      "Resolving gitlab.com (gitlab.com)... 2606:4700:90:0:f22e:fbec:5bed:a9b9, 172.65.251.78\n",
      "Connecting to gitlab.com (gitlab.com)|2606:4700:90:0:f22e:fbec:5bed:a9b9|:443... connected.\n",
      "HTTP request sent, awaiting response... 200 OK\n",
      "Length: 3036419 (2.9M) [application/octet-stream]\n",
      "Saving to: ‘N2.tar.gz’\n",
      "\n",
      "     0K .......... .......... .......... .......... ..........  1% 2.03M 1s\n",
      "    50K .......... .......... .......... .......... ..........  3% 7.28M 1s\n",
      "   100K .......... .......... .......... .......... ..........  5% 4.97M 1s\n",
      "   150K .......... .......... .......... .......... ..........  6% 9.27M 1s\n",
      "   200K .......... .......... .......... .......... ..........  8% 11.1M 1s\n",
      "   250K .......... .......... .......... .......... .......... 10% 8.47M 0s\n",
      "   300K .......... .......... .......... .......... .......... 11% 11.6M 0s\n",
      "   350K .......... .......... .......... .......... .......... 13% 11.4M 0s\n",
      "   400K .......... .......... .......... .......... .......... 15% 11.3M 0s\n",
      "   450K .......... .......... .......... .......... .......... 16% 11.6M 0s\n",
      "   500K .......... .......... .......... .......... .......... 18% 11.3M 0s\n",
      "   550K .......... .......... .......... .......... .......... 20% 1.70M 0s\n",
      "   600K .......... .......... .......... .......... .......... 21% 18.8M 0s\n",
      "   650K .......... .......... .......... .......... .......... 23% 15.1M 0s\n",
      "   700K .......... .......... .......... .......... .......... 25%  353M 0s\n",
      "   750K .......... .......... .......... .......... .......... 26% 10.6M 0s\n",
      "   800K .......... .......... .......... .......... .......... 28% 10.5M 0s\n",
      "   850K .......... .......... .......... .......... .......... 30%  355M 0s\n",
      "   900K .......... .......... .......... .......... .......... 32%  399M 0s\n",
      "   950K .......... .......... .......... .......... .......... 33%  357M 0s\n",
      "  1000K .......... .......... .......... .......... .......... 35%  377M 0s\n",
      "  1050K .......... .......... .......... .......... .......... 37% 9.27M 0s\n",
      "  1100K .......... .......... .......... .......... .......... 38% 11.7M 0s\n",
      "  1150K .......... .......... .......... .......... .......... 40% 1.76M 0s\n",
      "  1200K .......... .......... .......... .......... .......... 42% 22.1M 0s\n",
      "  1250K .......... .......... .......... .......... .......... 43% 22.7M 0s\n",
      "  1300K .......... .......... .......... .......... .......... 45% 20.9M 0s\n",
      "  1350K .......... .......... .......... .......... .......... 47%  403M 0s\n",
      "  1400K .......... .......... .......... .......... .......... 48%  435M 0s\n",
      "  1450K .......... .......... .......... .......... .......... 50%  365M 0s\n",
      "  1500K .......... .......... .......... .......... .......... 52% 3.22M 0s\n",
      "  1550K .......... .......... .......... .......... .......... 53%  384M 0s\n",
      "  1600K .......... .......... .......... .......... .......... 55%  399M 0s\n",
      "  1650K .......... .......... .......... .......... .......... 57%  397M 0s\n",
      "  1700K .......... .......... .......... .......... .......... 59% 20.6M 0s\n",
      "  1750K .......... .......... .......... .......... .......... 60% 1.67M 0s\n",
      "  1800K .......... .......... .......... .......... .......... 62% 26.8M 0s\n",
      "  1850K .......... .......... .......... .......... .......... 64% 14.5M 0s\n",
      "  1900K .......... .......... .......... .......... .......... 65% 19.9M 0s\n",
      "  1950K .......... .......... .......... .......... .......... 67% 16.1M 0s\n",
      "  2000K .......... .......... .......... .......... .......... 69% 19.9M 0s\n",
      "  2050K .......... .......... .......... .......... .......... 70% 27.7M 0s\n",
      "  2100K .......... .......... .......... .......... .......... 72% 23.2M 0s\n",
      "  2150K .......... .......... .......... .......... .......... 74% 19.0M 0s\n",
      "  2200K .......... .......... .......... .......... .......... 75% 18.2M 0s\n",
      "  2250K .......... .......... .......... .......... .......... 77% 1.64M 0s\n",
      "  2300K .......... .......... .......... .......... .......... 79% 83.4M 0s\n",
      "  2350K .......... .......... .......... .......... .......... 80% 38.2M 0s\n",
      "  2400K .......... .......... .......... .......... .......... 82% 27.9M 0s\n",
      "  2450K .......... .......... .......... .......... .......... 84% 25.9M 0s\n",
      "  2500K .......... .......... .......... .......... .......... 85% 21.0M 0s\n",
      "  2550K .......... .......... .......... .......... .......... 87% 38.1M 0s\n",
      "  2600K .......... .......... .......... .......... .......... 89% 16.8M 0s\n",
      "  2650K .......... .......... .......... .......... .......... 91% 16.8M 0s\n",
      "  2700K .......... .......... .......... .......... .......... 92% 22.1M 0s\n",
      "  2750K .......... .......... .......... .......... .......... 94% 22.0M 0s\n",
      "  2800K .......... .......... .......... .......... .......... 96% 26.1M 0s\n",
      "  2850K .......... .......... .......... .......... .......... 97% 21.9M 0s\n",
      "  2900K .......... .......... .......... .......... .......... 99% 22.1M 0s\n",
      "  2950K .......... .....                                      100% 32.1M=0.3s\n",
      "\n",
      "2023-05-23 14:05:26 (9.94 MB/s) - ‘N2.tar.gz’ saved [3036419/3036419]\n",
      "\n",
      "\n",
      "Executing: mkdir -p /work/gitprojects/bigdft-school/nmqc-2023/scratch\n",
      "\n",
      "Executing: tar xf N2.tar.gz -C scratch\n",
      "\n"
     ]
    }
   ],
   "source": [
    "install.data('data/N2.tar.gz',dest='scratch')"
   ]
  },
  {
   "cell_type": "markdown",
   "metadata": {
    "id": "cdRf0V9Yqb5w"
   },
   "source": [
    "## How to perform a first run with default parameters\n",
    "\n",
    "For this tutorial, we will run just a simple N2 molecule, taken from the BigDFT database (available [here](https://gitlab.com/l_sim/bigdft-suite/-/tree/devel/PyBigDFT/BigDFT/Database/XYZs))."
   ]
  },
  {
   "cell_type": "code",
   "execution_count": 10,
   "metadata": {
    "id": "VMqG8rYpqb5w",
    "tags": []
   },
   "outputs": [],
   "source": [
    "from BigDFT.Systems import System\n",
    "from BigDFT.Fragments import Fragment\n",
    "from BigDFT.IO import XYZReader\n",
    "\n",
    "N2 = System()\n",
    "with XYZReader(\"N2\") as ifile:\n",
    "    N2[\"N:0\"] = Fragment([next(ifile)])\n",
    "    N2[\"N:1\"] = Fragment([next(ifile)])"
   ]
  },
  {
   "cell_type": "markdown",
   "metadata": {
    "id": "62MlXzoIqb5y"
   },
   "source": [
    "Every system object has a `posinp` representation, which is a dictionary representation of the geometry. We will use this representation later."
   ]
  },
  {
   "cell_type": "code",
   "execution_count": 11,
   "metadata": {
    "colab": {
     "base_uri": "https://localhost:8080/"
    },
    "id": "7kCQ7bOcqb5y",
    "outputId": "dfca2cc3-9b77-4556-f9ed-9400b371d17a",
    "tags": []
   },
   "outputs": [
    {
     "name": "stdout",
     "output_type": "stream",
     "text": [
      "{'positions': [{'frag': ['N', '0'], 'N': [0.0, 0.0, 0.5488]}, {'frag': ['N', '1'], 'N': [0.0, 0.0, -0.5488]}], 'units': 'angstroem', 'cell': [inf, inf, inf]}\n"
     ]
    }
   ],
   "source": [
    "print(N2.get_posinp())"
   ]
  },
  {
   "cell_type": "markdown",
   "metadata": {
    "id": "CyO3K2Xkqb5z"
   },
   "source": [
    "We now run the DFT calculation (with the default input parameters) of this molecule.\n",
    "This can be done by instantiating a class from the `Calculators` module. Then we call the run method of that calculator with the `posinp` of N2 as a parameter."
   ]
  },
  {
   "cell_type": "code",
   "execution_count": 12,
   "metadata": {
    "id": "o0VpcvnVqb5z",
    "tags": []
   },
   "outputs": [],
   "source": [
    "from BigDFT import Calculators as C\n",
    "study = C.SystemCalculator(verbose=False,skip=True) #Create a calculator\n",
    "log = study.run(posinp=N2.get_posinp(),name=\"N2\",run_dir='scratch') #run the code"
   ]
  },
  {
   "cell_type": "markdown",
   "metadata": {
    "id": "9avMgOvQqb50"
   },
   "source": [
    "The `run` method of the `BigDFT.Calculators.SystemCalculator` class shows in the standard output which is the \n",
    "command that is invoked.\n",
    "Then, an instance of the `Logfile` class is returned.\n",
    "Such class can be used (we will see after) to extract the information about the electronic structure of the system."
   ]
  },
  {
   "cell_type": "markdown",
   "metadata": {
    "id": "y7uRCgUGqb51"
   },
   "source": [
    "Now we can retrieve important informations on the run. See the examples below:"
   ]
  },
  {
   "cell_type": "code",
   "execution_count": 13,
   "metadata": {
    "colab": {
     "base_uri": "https://localhost:8080/"
    },
    "id": "FYwP1QNrqb51",
    "outputId": "c942a8bc-f9d0-4c9b-ac19-a98955827634",
    "tags": []
   },
   "outputs": [
    {
     "data": {
      "text/plain": [
       "-19.884615273244822"
      ]
     },
     "execution_count": 13,
     "metadata": {},
     "output_type": "execute_result"
    }
   ],
   "source": [
    "log.energy #this value is in Ha"
   ]
  },
  {
   "cell_type": "code",
   "execution_count": 14,
   "metadata": {
    "colab": {
     "base_uri": "https://localhost:8080/"
    },
    "id": "oKPRzUwqqb52",
    "outputId": "45eebcdf-ebd9-421f-db5b-04b1ca072c96",
    "tags": []
   },
   "outputs": [
    {
     "data": {
      "text/plain": [
       "[[-1.041353673208,\n",
       "  -0.4926440819324,\n",
       "  -0.4357815638016,\n",
       "  -0.4357812404171,\n",
       "  -0.3818323179544]]"
      ]
     },
     "execution_count": 14,
     "metadata": {},
     "output_type": "execute_result"
    }
   ],
   "source": [
    "log.evals[0].tolist() # the eigenvalues in Ha ([0] stands for the first K-point, here meaningless)"
   ]
  },
  {
   "cell_type": "code",
   "execution_count": 15,
   "metadata": {
    "colab": {
     "base_uri": "https://localhost:8080/",
     "height": 349
    },
    "id": "zZhv2tqMqb52",
    "outputId": "8abe09ea-b681-4049-9094-b7f4fd79e255",
    "tags": []
   },
   "outputs": [
    {
     "data": {
      "text/plain": [
       "<Axes: xlabel='Energy [eV]', ylabel='DoS'>"
      ]
     },
     "execution_count": 15,
     "metadata": {},
     "output_type": "execute_result"
    },
    {
     "data": {
      "image/png": "[encoded data removed]",
      "text/plain": [
       "<Figure size 640x480 with 1 Axes>"
      ]
     },
     "metadata": {},
     "output_type": "display_data"
    }
   ],
   "source": [
    "log.get_dos().plot() #the density of states"
   ]
  },
  {
   "cell_type": "markdown",
   "metadata": {
    "id": "WptrjJZxqb52"
   },
   "source": [
    "The tutorial [DoS Manipulation](https://githubtocolab.com/BigDFT-group/bigdft-school/blob/main/CCP_tutorials/1.J.DoS-Manipulation.ipynb) can be followed to learn how to plot Density of States from a Logfile"
   ]
  },
  {
   "cell_type": "markdown",
   "metadata": {
    "id": "L9JldAMPqb53"
   },
   "source": [
    "## How to use the SystemCalculator instance \n",
    "\n",
    "Before managing different calculations at once, let us look closer at the `SystemCalculator` that was presented above."
   ]
  },
  {
   "cell_type": "code",
   "execution_count": 16,
   "metadata": {
    "id": "ZzD7C0HWqb53",
    "tags": []
   },
   "outputs": [],
   "source": [
    "study = C.SystemCalculator(verbose=False,omp=1,mpi_run='mpirun -np 2')"
   ]
  },
  {
   "cell_type": "markdown",
   "metadata": {
    "id": "-2xPfaG5qb53"
   },
   "source": [
    "As you can see, initiating an instance allows to set the computational parameters such as the OpenMP and MPI parallelisation. In this case, a single thread is used while two processes are running in parallel, therefore reducing the computation time. \n",
    "The global options of the runner (or calculator) can then be accessed by "
   ]
  },
  {
   "cell_type": "code",
   "execution_count": 17,
   "metadata": {
    "colab": {
     "base_uri": "https://localhost:8080/"
    },
    "id": "tar3VDW9qb54",
    "outputId": "86790a0b-90e1-4fe5-b34a-ca557cfc148f",
    "tags": []
   },
   "outputs": [
    {
     "data": {
      "text/plain": [
       "{'omp': '1',\n",
       " 'mpi_run': 'mpirun -np 2',\n",
       " 'dry_run': False,\n",
       " 'skip': False,\n",
       " 'verbose': False}"
      ]
     },
     "execution_count": 17,
     "metadata": {},
     "output_type": "execute_result"
    }
   ],
   "source": [
    "study.global_options()"
   ]
  },
  {
   "cell_type": "markdown",
   "metadata": {
    "id": "tPAO4kFwqb54"
   },
   "source": [
    "Global options can be also added and removed as follows"
   ]
  },
  {
   "cell_type": "code",
   "execution_count": 18,
   "metadata": {
    "colab": {
     "base_uri": "https://localhost:8080/"
    },
    "id": "IdRFfXq-qb54",
    "outputId": "9aa0926a-e56a-4c48-d6b9-9bbd4ab3d8a4",
    "tags": []
   },
   "outputs": [
    {
     "data": {
      "text/plain": [
       "{'omp': '1',\n",
       " 'mpi_run': 'mpirun -np 2',\n",
       " 'dry_run': False,\n",
       " 'skip': False,\n",
       " 'verbose': False,\n",
       " 'new_option': 'value'}"
      ]
     },
     "execution_count": 18,
     "metadata": {},
     "output_type": "execute_result"
    }
   ],
   "source": [
    "study.update_global_options(new_option = 'value')\n",
    "study.global_options()"
   ]
  },
  {
   "cell_type": "markdown",
   "metadata": {
    "id": "XRMYdEsAqb55"
   },
   "source": [
    "Similarly, global options can also be removed"
   ]
  },
  {
   "cell_type": "code",
   "execution_count": 19,
   "metadata": {
    "colab": {
     "base_uri": "https://localhost:8080/"
    },
    "id": "3K5oBpO9qb55",
    "outputId": "ee67158b-35cc-43d7-92bd-8c7923b497da",
    "tags": []
   },
   "outputs": [
    {
     "data": {
      "text/plain": [
       "{'omp': '1',\n",
       " 'mpi_run': 'mpirun -np 2',\n",
       " 'dry_run': False,\n",
       " 'skip': False,\n",
       " 'verbose': False}"
      ]
     },
     "execution_count": 19,
     "metadata": {},
     "output_type": "execute_result"
    }
   ],
   "source": [
    "study.pop_global_option('new_option')\n",
    "study.global_options()"
   ]
  },
  {
   "cell_type": "markdown",
   "metadata": {
    "id": "B036Q-ceqb55"
   },
   "source": [
    "Lastly, note that PyBigDFT also enables to run workflows remotely, as explained in the following tutorial."
   ]
  },
  {
   "cell_type": "markdown",
   "metadata": {
    "id": "xO-dwVvwqb55"
   },
   "source": [
    "## How to modify the input parameters from the default ones\n",
    "\n",
    "To specify non-default input parameters to the code, we should employ a `Inputfile` object. One can choose a naming prefix for a run, which enables to classify the runs which are performed, and ease the subsequent postprocessing.\n",
    "\n",
    "Methods of the class can be employed for modifying the input parameters. For instance, the XC functional can be chosen via the `set_xc` method.\n",
    "Imagine for example that you are interested in visualizing the wavefunctions output of the calculation. To do that, the suitable method of the class instance should be called.\n",
    "Create a new calculation set by using, for instance, the `LDA` prefix."
   ]
  },
  {
   "cell_type": "code",
   "execution_count": 20,
   "metadata": {
    "id": "XrTW1Ro8qb56",
    "tags": []
   },
   "outputs": [],
   "source": [
    "from BigDFT import Inputfiles as I\n",
    "\n",
    "inp = I.Inputfile()\n",
    "inp.set_xc('LDA')\n",
    "inp.write_orbitals_on_disk()"
   ]
  },
  {
   "cell_type": "markdown",
   "metadata": {
    "id": "DRA0kmi7qb56"
   },
   "source": [
    "The wavefunctions will be present at the end of calculation, by indicating the value of the key *orbitals* in the output dictionary."
   ]
  },
  {
   "cell_type": "code",
   "execution_count": 21,
   "metadata": {
    "id": "B12t8uT82dvZ",
    "tags": []
   },
   "outputs": [],
   "source": [
    "study.update_global_options(skip=True) # this would avoid to rerun the calculation and consider the data on the drive"
   ]
  },
  {
   "cell_type": "code",
   "execution_count": 22,
   "metadata": {
    "id": "GbdftdtRqb56",
    "tags": []
   },
   "outputs": [],
   "source": [
    "#Run the code with the LDA prefix\n",
    "LDA = study.run(name=\"LDA\",input=inp,posinp=N2.get_posinp(),run_dir='scratch')"
   ]
  },
  {
   "cell_type": "markdown",
   "metadata": {
    "id": "bujByS8Xqb56"
   },
   "source": [
    "When using a naming scheme, the output files are placed in a directory called  **data-LDA**. In our LDA example, the wavefunctions of the system can thus be found in the **data-LDA** directory:"
   ]
  },
  {
   "cell_type": "code",
   "execution_count": 23,
   "metadata": {
    "colab": {
     "base_uri": "https://localhost:8080/"
    },
    "id": "NtlMf9rpqb56",
    "outputId": "fc3e7e45-a0ee-499a-bd95-5ec2eb31f4bd",
    "tags": []
   },
   "outputs": [
    {
     "name": "stdout",
     "output_type": "stream",
     "text": [
      "time-LDA.yaml\t\t\t  wavefunction-k001-NR.bin.b000004\n",
      "wavefunction-k001-NR.bin.b000001  wavefunction-k001-NR.bin.b000005\n",
      "wavefunction-k001-NR.bin.b000002  wavefunction-rhoij.bin\n",
      "wavefunction-k001-NR.bin.b000003\n"
     ]
    }
   ],
   "source": [
    "!ls scratch/data-LDA"
   ]
  },
  {
   "cell_type": "markdown",
   "metadata": {
    "id": "tTqkI75Uqb57"
   },
   "source": [
    "Here 001 means the first K-point (meaningless in this case), N stands for non spin-polarized, R for real part and the remaining number is the orbital ID. Post-processing of these files is done in the another tutorial.\n",
    "\n",
    "In the same spirit, another calculation can be done with different parameters. Imagine we want to perform a Hartree-Fock calculation.\n",
    "We should simply change the XC functional used. However, we also have to specify the pseudopotential."
   ]
  },
  {
   "cell_type": "code",
   "execution_count": 24,
   "metadata": {
    "id": "rR-ScvFsqb57",
    "tags": []
   },
   "outputs": [],
   "source": [
    "inp.set_xc('HF')\n",
    "inp['psppar.N']={'Pseudopotential XC': 1} #this set the default PSP for LDA\n",
    "HF = study.run(name=\"HF\",input=inp,run_dir='scratch') #Run the code with the name scheme HF"
   ]
  },
  {
   "cell_type": "markdown",
   "metadata": {
    "id": "EGUz_5b8qb57"
   },
   "source": [
    "Without specifying the PSP, an error will occur. The same error is specified at the end of the log file, \n",
    "and also in [debug/bigdft-err-0.yaml](./scratch/debug/bigdft-err-0.yaml):\n",
    "<pre>\n",
    " Additional Info:\n",
    "   The pseudopotential parameter file \"psppar.N\" is lacking, and no registered pseudo found \n",
    "   for \"N\"</pre>"
   ]
  },
  {
   "cell_type": "markdown",
   "metadata": {
    "id": "ii1mQg-hqb57"
   },
   "source": [
    "This is because the pseudopotential is assigned by default in the code only for LDA and PBE XC approximations. \n",
    "Another alternative is to specify the internal PSP that might be used, taking from the default database of BigDFT. This can be done as follows:"
   ]
  },
  {
   "cell_type": "code",
   "execution_count": 25,
   "metadata": {
    "id": "n-TotTY7qb57",
    "tags": []
   },
   "outputs": [],
   "source": [
    "inp['psppar.N']={'Pseudopotential XC': 1} #here 1 stands for LDA as per the XC codes"
   ]
  },
  {
   "cell_type": "markdown",
   "metadata": {
    "id": "82YzmHqDqb57"
   },
   "source": [
    "When possible, care should be taken in choosing a pseudopotential which has been generated with the same XC approximation used. Unfortunately, at present HGH data are only available for semilocal functionals. For example, the same exercise as follows could have been done with Hybrid XC functionals, like for example PBE0 (ixc=-406). In the case of Hartree-Fock calculations, using semilocal functionals generally yield accurate results (see [Physical Review B 37.5 (1988): 2674](https://journals.aps.org/prb/pdf/10.1103/PhysRevB.37.2674)). \n",
    "\n",
    "In BigDFT, XC functionals are specified using the built in named functionals, or using the [LibXC codes](https://www.tddft.org/programs/libxc/functionals/)."
   ]
  },
  {
   "cell_type": "code",
   "execution_count": 26,
   "metadata": {
    "id": "-dckC7l2qb58",
    "tags": []
   },
   "outputs": [],
   "source": [
    "inp.set_xc('PBE0')\n",
    "PBE0 = study.run(name=\"PBE0\",input=inp,run_dir='scratch') #Run the code with the name scheme PBE0"
   ]
  },
  {
   "cell_type": "markdown",
   "metadata": {
    "id": "5Mxtox8Kqb58"
   },
   "source": [
    "The variables *LDA*, *HF*, and *PBE0* contains all information about the calculation. This is a class Logfile which simplify considerably the extraction of parameters of the associated output file *log-LDA.yaml*. If we simply type:"
   ]
  },
  {
   "cell_type": "code",
   "execution_count": 27,
   "metadata": {
    "colab": {
     "base_uri": "https://localhost:8080/"
    },
    "id": "64s2cCyhqb58",
    "outputId": "9c2e1b0f-eb11-4817-e1a3-a1dd719b2401",
    "tags": []
   },
   "outputs": [
    {
     "name": "stdout",
     "output_type": "stream",
     "text": [
      "- Atom types:\n",
      "  - N\n",
      "- cell: Free BC\n",
      "- number_of_orbitals: 5\n",
      "- posinp_file: LDA.yaml\n",
      "- XC_parameter: -20\n",
      "- grid_spacing:\n",
      "  - 0.45\n",
      "  - 0.45\n",
      "  - 0.45\n",
      "- spin_polarization: 1\n",
      "- total_magn_moment: 0\n",
      "- system_charge: 0\n",
      "- rmult:\n",
      "  - 5.0\n",
      "  - 8.0\n",
      "- dipole:\n",
      "  - -0.0005134858\n",
      "  - -0.0005134858\n",
      "  - -0.000559708\n",
      "- energy: -19.88461527324464\n",
      "- fermi_level: -0.3818323179544\n",
      "- forcemax: 0.01156401391398\n",
      "- forcemax_cv: 0.0\n",
      "- gnrm_cv: 0.0001\n",
      "- nat: 2\n",
      "- symmetry: disabled\n",
      "- No. of KS orbitals:\n",
      "  - 5\n",
      "\n"
     ]
    }
   ],
   "source": [
    "print(LDA)"
   ]
  },
  {
   "cell_type": "markdown",
   "metadata": {
    "id": "F8voIETcqb58"
   },
   "source": [
    "We display some information about the LDA calculation. For instance, we can extract the eigenvalues of the Hamiltonian *i.e.* the DOS (Density of States):"
   ]
  },
  {
   "cell_type": "code",
   "execution_count": 28,
   "metadata": {
    "colab": {
     "base_uri": "https://localhost:8080/"
    },
    "id": "tYGjU82xqb58",
    "outputId": "90e952c9-2ca9-4fd0-e48a-97138e75eb13",
    "tags": []
   },
   "outputs": [
    {
     "data": {
      "text/plain": [
       "[[-1.041353673208,\n",
       "  -0.4926440819324,\n",
       "  -0.4357815638016,\n",
       "  -0.4357812404171,\n",
       "  -0.3818323179544]]"
      ]
     },
     "execution_count": 28,
     "metadata": {},
     "output_type": "execute_result"
    }
   ],
   "source": [
    "LDA.evals[0].tolist()"
   ]
  },
  {
   "cell_type": "markdown",
   "metadata": {
    "id": "aa4r3cAmqb59"
   },
   "source": [
    "Note that *LDA.log* is the python dictionary associated to the full output file. \n",
    "This [tutorial](./Logfile-basics.ipynb) explains the basic methods."
   ]
  },
  {
   "cell_type": "code",
   "execution_count": 29,
   "metadata": {
    "colab": {
     "base_uri": "https://localhost:8080/"
    },
    "id": "TxHHn02rqb59",
    "outputId": "a33b7fc3-023e-4d4a-acf9-2ec6ca4fc4ee",
    "tags": []
   },
   "outputs": [
    {
     "name": "stdout",
     "output_type": "stream",
     "text": [
      "- Atom types:\n",
      "  - N\n",
      "- cell: Free BC\n",
      "- number_of_orbitals: 5\n",
      "- posinp_file: PBE0.yaml\n",
      "- XC_parameter: -406\n",
      "- grid_spacing:\n",
      "  - 0.45\n",
      "  - 0.45\n",
      "  - 0.45\n",
      "- spin_polarization: 1\n",
      "- total_magn_moment: 0\n",
      "- system_charge: 0\n",
      "- rmult:\n",
      "  - 5.0\n",
      "  - 8.0\n",
      "- dipole:\n",
      "  - -0.0004219248\n",
      "  - -0.0004219248\n",
      "  - -0.0004512606\n",
      "- energy: -19.971244525934665\n",
      "- fermi_level: -0.4512290316272\n",
      "- forcemax: 0.05514199331393\n",
      "- forcemax_cv: 0.0\n",
      "- gnrm_cv: 0.0001\n",
      "- nat: 2\n",
      "- symmetry: disabled\n",
      "- No. of KS orbitals:\n",
      "  - 5\n",
      "\n"
     ]
    }
   ],
   "source": [
    "print(PBE0)"
   ]
  },
  {
   "cell_type": "markdown",
   "metadata": {
    "id": "OZTr4rf5qb59"
   },
   "source": [
    "The following exercise (and its [solution](./1.E.N2-solution.ipynb)) gives some clues about it."
   ]
  },
  {
   "cell_type": "markdown",
   "metadata": {
    "id": "0QV9J2s9qb59"
   },
   "source": [
    "## The overall structure of files in the disk\n",
    "\n",
    "In the disk, after that the run is performed, different files are created:\n",
    "* [input_minimal.yaml](./N2_minimal) which contains the minimal set of input variables to perform the run;\n",
    "* [log.yaml](./log-N2.yaml) which contains the log of the run with all calculated quantities;\n",
    "* [time.yaml](./time-N2.yaml) and [forces_posinp.yaml](./forces_N2.yaml) which we will see later.\n",
    "\n",
    "For its I/O, BigDFT uses the [yaml](http://www.yaml.org/spec) format.\n",
    "If you look at the [input_minimal.yaml](./scratch/N2_minimal.yaml) file, you can see:\n",
    "<pre>\n",
    "  #---------------------------------------------------------------------- Minimal input file\n",
    "  #This file indicates the minimal set of input variables which has to be given to perform \n",
    "  #the run. The code would produce the same output if this file is used as input.\n",
    " posinp:\n",
    "   units: angstroem\n",
    "   positions:\n",
    "   - N: [0.0, 0.0, 0.0]\n",
    "   - N: [0.0, 0.0, 1.114989995956421]\n",
    "   properties:\n",
    "     format: xyz\n",
    "     source: posinp.xyz</pre>\n",
    "\n",
    "In this case, only the atomic positions are indicated using a yaml format.\n",
    "\n",
    "However, there is a one-to-one correspondence between a yaml file and a python dictionary. For this reason\n",
    "we will create the input parameters of this runs from dictionaries. See the useful [yaml online parser](http://yaml-online-parser.appspot.com/) page to understand the correspondence.\n",
    "\n",
    "\n",
    "In the log file [log.yaml](./scratch/log-N2.yaml), BigDFT automatically displays all the input parameters used for the calculations. \n",
    "\n",
    "The parameters which were not explicitly given are set to a default value, except the atomic positions of course, which have to be given. As we did not specified input files here, our run is a single-point LDA calculation, without spin-polarisation."
   ]
  },
  {
   "cell_type": "markdown",
   "metadata": {
    "id": "dPbQNBvFqb59"
   },
   "source": [
    "### Exercise\n",
    "\n",
    "Compare the values of the HOMO and HOMO-1 eigenvalues for the LDA and the HF run.\n",
    "Change the values of the *hgrid* and *crmult* to find the converged values. Note that a thorough description of those two (essential) parameters is provided later on when studying a [CH4 molecule](https://l_sim.gitlab.io/bigdft-suite/tutorials/CH4.html).\n",
    "\n",
    "Note that, both in the LDA and in the HF calculation, a norm-conserving PSP is used.\n",
    "\n",
    "The results can be compared to all-electron calculations, done with different basis sets, from references (units are eV) \n",
    "(1) S.&nbsp;Hamel <i>et&nbsp;al.</i> J. Electron Spectrospcopy and Related Phenomena 123 (2002) 345-363 and (2) P.&nbsp;Politzer, F.&nbsp;Abu-Awwad, Theor. Chem. Acc. (1998), 99, 83-87:\n",
    "\n",
    "eigenvalues          | LDA(1) | HF(1) | HF(2) | (Exp.)\n",
    "---------------------|--------|-------|-------|-------\n",
    "3&sigma;<sub>g</sub> | 10.36  | 17.25 | 17.31 | (15.60)\n",
    "1&pi;<sub>u</sub>    | 11.84  | 16.71 | 17.02 | (16.98)\n",
    "2&sigma;<sub>u</sub> | 13.41  | 21.25 | 21.08 | (18.78)\n",
    "\n",
    "The results depends, of course, on the precision chosen for the calculation, and of the presence of the pseudopotential.\n",
    "As it is well-known, the pseudopotential appoximation is however much less severe than the approximation induced by typical XC functionals. We might see that, even in the HF case, the presence of a LDA-based pseudopotential (of rather good quality) does not alter so much the results. \n",
    "\n",
    "Here you can find the values from BigDFT calculation using a very good precision (*hgrid=0.3*, *crmult=7.0*). \n",
    "Note that 1 Ha=27.21138386 eV.\n",
    " \n",
    "eigenvalues          | LDA   | HF\n",
    "---------------------|-------|------\n",
    "3&sigma;<sub>g</sub> | 10.40 | 17.32\n",
    "1&pi;<sub>u</sub>    | 11.75 | 16.62\n",
    "2&sigma;<sub>u</sub> | 13.52 | 21.30\n",
    "\n",
    "How much do these values differ from the calculation with default parameters? Do they converge to a given value?\n",
    "What is the *correlation* for the N2 molecule in (PSP) LDA?\n",
    "\n",
    "See here the [solution](./1.E.N2Exercise.ipynb)."
   ]
  },
  {
   "cell_type": "code",
   "execution_count": null,
   "metadata": {
    "id": "9vSbIReZqb5-"
   },
   "outputs": [],
   "source": []
  }
 ],
 "metadata": {
  "colab": {
   "provenance": []
  },
  "kernelspec": {
   "display_name": "Python 3 (ipykernel)",
   "language": "python",
   "name": "python3"
  },
  "language_info": {
   "codemirror_mode": {
    "name": "ipython",
    "version": 3
   },
   "file_extension": ".py",
   "mimetype": "text/x-python",
   "name": "python",
   "nbconvert_exporter": "python",
   "pygments_lexer": "ipython3",
   "version": "3.9.16"
  }
 },
 "nbformat": 4,
 "nbformat_minor": 4
}
