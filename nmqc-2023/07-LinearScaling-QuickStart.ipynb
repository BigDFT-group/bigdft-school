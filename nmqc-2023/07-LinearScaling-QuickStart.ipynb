{
 "cells": [
  {
   "cell_type": "markdown",
   "id": "1a4a87be-8709-4445-bc5e-cfbc2a49e93a",
   "metadata": {},
   "source": [
    "# Quick Start Linear Scaling\n",
    "Activate the linear scaling mode of BigDFT and compute some per fragment quantities."
   ]
  },
  {
   "cell_type": "code",
   "execution_count": null,
   "id": "75d949a5",
   "metadata": {},
   "outputs": [],
   "source": [
    "! pip install PyBigDFT > /dev/null 2> /dev/null\n",
    "! pip install py3dmol > /dev/null 2> /dev/null"
   ]
  },
  {
   "cell_type": "code",
   "execution_count": null,
   "id": "6c38b62a-78d9-4ac6-ac64-3d6dd384fb91",
   "metadata": {
    "tags": []
   },
   "outputs": [],
   "source": [
    "from BigDFT.PostProcessing import BigDFTool\n",
    "from BigDFT.IO import read_mol2\n",
    "from BigDFT.Inputfiles import Inputfile\n",
    "from io import StringIO\n",
    "from matplotlib import pyplot as plt\n",
    "from BigDFT.Systems import plot_fragment_information"
   ]
  },
  {
   "cell_type": "markdown",
   "id": "254a6c57",
   "metadata": {},
   "source": [
    "Input file: import the linear profile to make the switch."
   ]
  },
  {
   "cell_type": "code",
   "execution_count": null,
   "id": "8332e404-bfb4-4835-9b06-05a45933b8e9",
   "metadata": {
    "tags": []
   },
   "outputs": [],
   "source": [
    "inp = Inputfile()\n",
    "inp.set_hgrid(0.55)\n",
    "inp.set_psp_nlcc()  # Soft pseudopotentials\n",
    "inp.set_xc(\"PBE\")\n",
    "inp[\"import\"] = \"linear\""
   ]
  },
  {
   "cell_type": "markdown",
   "id": "64bd2eab",
   "metadata": {},
   "source": [
    "This system is small for linear scaling. But it is interesting because it is made up of 3 distinct units (fragments)."
   ]
  },
  {
   "cell_type": "code",
   "execution_count": null,
   "id": "e5b99572-4f24-4448-b952-e46d36d258a7",
   "metadata": {
    "tags": []
   },
   "outputs": [],
   "source": [
    "istr = \"\"\"@<TRIPOS>MOLECULE\n",
    "N3\n",
    " 48 0 0 0 0\n",
    "SMALL\n",
    "GASTEIGER\n",
    "\n",
    "@<TRIPOS>ATOM\n",
    "      1  N        -15.9520   11.4820   75.1020 N.4     1  ALA         0.3855\n",
    "      2  H        -16.8590   11.1760   75.4220 H       1  ALA        -0.0890\n",
    "      3  H2       -15.9190   12.4910   75.1350 H       1  ALA        -0.0890\n",
    "      4  H3       -15.3270   11.2070   75.8460 H       1  ALA        -0.0890\n",
    "      5  CA       -15.6750   10.9380   73.6710 C.3     1  ALA        -0.0080\n",
    "      6  HA       -15.5000    9.8640   73.7340 H       1  ALA         0.0175\n",
    "      7  CB       -16.9370   11.1850   72.9780 C.3     1  ALA        -0.0702\n",
    "      8  HB1      -16.8760   10.8330   71.9480 H       1  ALA         0.0218\n",
    "      9  HB2      -17.7950   10.7240   73.4660 H       1  ALA         0.0218\n",
    "     10  HB3      -17.0660   12.2620   72.8690 H       1  ALA         0.0218\n",
    "     11  C        -14.3150   11.5090   73.1160 C.2     1  ALA         0.1989\n",
    "     12  O        -13.5240   11.9470   73.9260 O.2     1  ALA        -0.2776\n",
    "     13  N        -14.0770   11.2840   71.7960 N.am    2  VAL        -0.3051\n",
    "     14  H        -14.7740   10.8610   71.1990 H       2  VAL         0.1494\n",
    "     15  CA       -12.9310   11.8890   71.0690 C.3     2  VAL         0.1016\n",
    "     16  HA       -12.1370   12.1190   71.7800 H       2  VAL         0.0597\n",
    "     17  CB       -12.2680   10.8300   70.1710 C.3     2  VAL        -0.0197\n",
    "     18  HB       -13.0570   10.2210   69.7300 H       2  VAL         0.0318\n",
    "     19  CG1      -11.2730   11.3540   69.0870 C.3     2  VAL        -0.0605\n",
    "     20 HG11      -10.7560   10.5590   68.5490 H       2  VAL         0.0233\n",
    "     21 HG12      -11.7530   11.9770   68.3320 H       2  VAL         0.0233\n",
    "     22 HG13      -10.5100   11.8940   69.6470 H       2  VAL         0.0233\n",
    "     23  CG2      -11.4480    9.8090   70.9840 C.3     2  VAL        -0.0605\n",
    "     24 HG21      -11.9590    9.4330   71.8700 H       2  VAL         0.0233\n",
    "     25 HG22      -11.3140    8.9080   70.3860 H       2  VAL         0.0233\n",
    "     26 HG23      -10.4970   10.2560   71.2750 H       2  VAL         0.0233\n",
    "     27  C        -13.2980   13.1490   70.4060 C.2     2  VAL         0.2342\n",
    "     28  O        -14.1940   13.1280   69.5820 O.2     2  VAL        -0.2738\n",
    "     29  N        -12.5920   14.2640   70.6930 N.am    3  LEU        -0.3007\n",
    "     30  H        -11.8060   14.2210   71.3260 H       3  LEU         0.1496\n",
    "     31  CA       -12.8570   15.7250   70.2250 C.3     3  LEU         0.1249\n",
    "     32  HA       -13.7770   15.8070   69.6470 H       3  LEU         0.0616\n",
    "     33  CB       -12.9890   16.4610   71.5050 C.3     3  LEU        -0.0216\n",
    "     34  HB2      -12.3120   16.1130   72.2850 H       3  LEU         0.0291\n",
    "     35  HB3      -12.7420   17.5000   71.2880 H       3  LEU         0.0291\n",
    "     36  CG       -14.4560   16.4840   72.0620 C.3     3  LEU        -0.0445\n",
    "     37  HG       -15.0910   16.5870   71.1830 H       3  LEU         0.0296\n",
    "     38  CD1      -14.9030   15.1850   72.7940 C.3     3  LEU        -0.0626\n",
    "     39 HD11      -15.9610   15.3610   72.9910 H       3  LEU         0.0232\n",
    "     40 HD12      -14.8720   14.2770   72.1920 H       3  LEU         0.0232\n",
    "     41 HD13      -14.2220   15.0500   73.6340 H       3  LEU         0.0232\n",
    "     42  CD2      -14.5970   17.6630   72.9710 C.3     3  LEU        -0.0626\n",
    "     43 HD21      -15.6450   17.5910   73.2620 H       3  LEU         0.0232\n",
    "     44 HD22      -13.9320   17.5610   73.8280 H       3  LEU         0.0232\n",
    "     45 HD23      -14.3580   18.5620   72.4040 H       3  LEU         0.0232\n",
    "     46  C        -11.7070   16.2810   69.3360 C.2     3  LEU         0.3758\n",
    "     47  O        -10.5210   15.8410   69.5920 O.co2   3  LEU        -0.2443\n",
    "     48  OXT      -11.9460   17.0960   68.3940 O.co2   3  LEU        -0.2443\n",
    "\"\"\"\n",
    "Lsys = read_mol2(StringIO(istr))"
   ]
  },
  {
   "cell_type": "code",
   "execution_count": null,
   "id": "8d1c1b98",
   "metadata": {},
   "outputs": [],
   "source": [
    "_ = Lsys.display()"
   ]
  },
  {
   "cell_type": "markdown",
   "id": "4672b13e",
   "metadata": {},
   "source": [
    "Calculate as normal."
   ]
  },
  {
   "cell_type": "code",
   "execution_count": null,
   "id": "b0bbb342-2dd1-41d3-bceb-e7b3785df31c",
   "metadata": {
    "tags": []
   },
   "outputs": [],
   "source": [
    "from BigDFT.Calculators import SystemCalculator\n",
    "calc = SystemCalculator(skip=True, verbose=False)"
   ]
  },
  {
   "cell_type": "code",
   "execution_count": null,
   "id": "6d1fcb50-2f7a-4a27-9b22-eebeac4b53cf",
   "metadata": {
    "tags": []
   },
   "outputs": [],
   "source": [
    "log = calc.run(sys=Lsys, input=inp, name=\"Lsys\", run_dir=\"scratch\")"
   ]
  },
  {
   "cell_type": "markdown",
   "id": "cabb1749",
   "metadata": {},
   "source": [
    "Extract linear scaling type quantities: charges and purities."
   ]
  },
  {
   "cell_type": "code",
   "execution_count": null,
   "id": "25f2ae7d-dd1d-4bf1-8a82-d939bcdd2c7b",
   "metadata": {
    "tags": []
   },
   "outputs": [],
   "source": [
    "fig, axs = plt.subplots(2, 1)\n",
    "btool = BigDFTool()\n",
    "plot_fragment_information(axs[0], btool.fragment_population(Lsys, log))\n",
    "axs[0].set_ylabel(\"Charge\", fontsize=12)\n",
    "axs[0].set_xticks([])\n",
    "axs[0].set_xlabel(\"\")\n",
    "plot_fragment_information(axs[1], btool.run_compute_purity(Lsys, log))\n",
    "axs[1].set_ylabel(\"Purity\", fontsize=12)\n",
    "fig.tight_layout()"
   ]
  },
  {
   "cell_type": "markdown",
   "id": "2278066d",
   "metadata": {},
   "source": [
    "Display the charges in 3D."
   ]
  },
  {
   "cell_type": "code",
   "execution_count": null,
   "id": "9a9370e5-2cd3-459d-bfb6-bf0f5ece094b",
   "metadata": {},
   "outputs": [],
   "source": [
    "from BigDFT.Visualization import get_colordict\n",
    "charges=btool.fragment_population(Lsys, log)\n",
    "Lsys.display(colordict=get_colordict(keys=charges.keys(),field_vals=charges.values()))"
   ]
  }
 ],
 "metadata": {
  "kernelspec": {
   "display_name": "Python 3 (ipykernel)",
   "language": "python",
   "name": "python3"
  },
  "language_info": {
   "codemirror_mode": {
    "name": "ipython",
    "version": 3
   },
   "file_extension": ".py",
   "mimetype": "text/x-python",
   "name": "python",
   "nbconvert_exporter": "python",
   "pygments_lexer": "ipython3",
   "version": "3.11.3"
  }
 },
 "nbformat": 4,
 "nbformat_minor": 5
}
