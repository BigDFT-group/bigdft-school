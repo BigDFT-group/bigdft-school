{
 "cells": [
  {
   "cell_type": "markdown",
   "metadata": {},
   "source": [
    "# Quickstart\n",
    "\n",
    "In this tutorial, we will introduce the `remotemanager` library. Previously, we have seen how PyBigDFT can be useful for setting up and running BigDFT calculations. Unfortunately, most calculations we want to run are too computationally demanding for your workstation. This isn't limited to BigDFT runs: you may want to easily access a more powerful machine for pre/post-processing. \n",
    "\n",
    "The `remotemanager` library is designed with this in mind. What `remotemanager` does it allows you to run any python function you define on a remote computer. This will allow you to easily mix the interactive experience of your Jupyter notebook with the power of a supercomputer."
   ]
  },
  {
   "cell_type": "markdown",
   "metadata": {},
   "source": [
    "## Installation\n",
    "\n",
    "Installation can be done via a pip install:\n",
    "\n",
    "`pip install remotemanager` for the most recent stable version.\n",
    "\n",
    "We will also get some other goodies for this notebook."
   ]
  },
  {
   "cell_type": "code",
   "execution_count": null,
   "metadata": {
    "tags": []
   },
   "outputs": [
    {
     "name": "stdout",
     "output_type": "stream",
     "text": [
      "Defaulting to user installation because normal site-packages is not writeable\n",
      "Requirement already satisfied: remotemanager in /home/genovese/.local/lib/python3.9/site-packages (0.5.17)\n",
      "Collecting remotemanager\n",
      "  Downloading remotemanager-0.6.1-py3-none-any.whl (71 kB)\n",
      "\u001b[2K     \u001b[90m━━━━━━━━━━━━━━━━━━━━━━━━━━━━━━━━━━━━━━━━\u001b[0m \u001b[32m71.1/71.1 kB\u001b[0m \u001b[31m1.2 MB/s\u001b[0m eta \u001b[36m0:00:00\u001b[0ma \u001b[36m0:00:01\u001b[0m\n",
      "\u001b[?25hRequirement already satisfied: numpy in /home/genovese/.local/lib/python3.9/site-packages (from remotemanager) (1.22.4)\n",
      "Requirement already satisfied: requests in /opt/intel/oneapi/intelpython/python3.9/lib/python3.9/site-packages (from remotemanager) (2.28.1)\n",
      "Requirement already satisfied: pyyaml in /opt/upstream/lib/python3.9/site-packages (from remotemanager) (6.0)\n",
      "Requirement already satisfied: idna<4,>=2.5 in /opt/intel/oneapi/intelpython/python3.9/lib/python3.9/site-packages (from requests->remotemanager) (3.4)\n",
      "Requirement already satisfied: charset-normalizer<3,>=2 in /opt/intel/oneapi/intelpython/python3.9/lib/python3.9/site-packages (from requests->remotemanager) (2.0.4)\n",
      "Requirement already satisfied: certifi>=2017.4.17 in /opt/intel/oneapi/intelpython/python3.9/lib/python3.9/site-packages (from requests->remotemanager) (2022.12.7)\n",
      "Requirement already satisfied: urllib3<1.27,>=1.21.1 in /opt/intel/oneapi/intelpython/python3.9/lib/python3.9/site-packages (from requests->remotemanager) (1.26.14)\n",
      "Installing collected packages: remotemanager\n",
      "  Attempting uninstall: remotemanager\n",
      "    Found existing installation: remotemanager 0.5.17\n",
      "    Uninstalling remotemanager-0.5.17:\n",
      "      Successfully uninstalled remotemanager-0.5.17\n",
      "Successfully installed remotemanager-0.6.1\n"
     ]
    }
   ],
   "source": [
    "! pip install -U remotemanager\n",
    "! pip install -q requests\n",
    "! pip install -q scipy\n",
    "! pip install -q jsonpickle\n",
    "! pip install -q dill"
   ]
  },
  {
   "cell_type": "markdown",
   "metadata": {},
   "source": [
    "## Computer Creation\n",
    "First, we need to define the remote machine we are interested in running on. To do so, we use the URL class. In the simplest case, we can define our own workstation as the computer."
   ]
  },
  {
   "cell_type": "code",
   "execution_count": 1,
   "metadata": {
    "tags": []
   },
   "outputs": [],
   "source": [
    "# Google Colab seems far too verbose so we turn down the logging...\n",
    "from remotemanager import Logger\n",
    "Logger.level = \"CRITICAL\""
   ]
  },
  {
   "cell_type": "code",
   "execution_count": 2,
   "metadata": {
    "tags": []
   },
   "outputs": [],
   "source": [
    "from remotemanager import URL\n",
    "connection = URL(host='localhost')"
   ]
  },
  {
   "cell_type": "markdown",
   "metadata": {},
   "source": [
    "This example connection is simply pointed at `localhost`, however you may define a connection to a machine with address or IP:\n",
    "\n",
    "`connection = URL(user='username', host='remote.connection.address')`\n",
    "\n",
    "`connection = URL(user='username', host='192.168.123.456')`\n",
    "\n",
    ".. note::\n",
    "    The only requirement for `URL` to function is that you must be able to ssh into the remote machine without any additional prompts from the remote. For connection difficulties regarding permissions, see the [relevant section](../Introduction.html#Connecting-to-a-Remote-Machine) of the introduction.\n",
    "    \n",
    "We can also access some of the predefined computers which contain some predefined options and environment settings. You can further [build your own custom computer](https://l_sim.gitlab.io/remotemanager/tutorials/Submitting%20Via%20Scheduler.html)."
   ]
  },
  {
   "cell_type": "code",
   "execution_count": 3,
   "metadata": {
    "tags": []
   },
   "outputs": [
    {
     "name": "stdout",
     "output_type": "stream",
     "text": [
      "polling url https://gitlab.com/l_sim/remotemanager-computers/-/raw/main/storage/archer2.yaml\n",
      "Grabbed file 'archer2.yaml'\n"
     ]
    }
   ],
   "source": [
    "from remotemanager.connection.computers.base import BaseComputer\n",
    "archer_connection = BaseComputer.from_repo(name = \"archer2\")\n",
    "archer_connection.mpi = 16\n",
    "archer_connection.omp = 8\n",
    "archer_connection.time = 100"
   ]
  },
  {
   "cell_type": "markdown",
   "metadata": {},
   "source": [
    "Computer classes automatically generate jobscripts which are used to run your python function."
   ]
  },
  {
   "cell_type": "code",
   "execution_count": 4,
   "metadata": {
    "tags": []
   },
   "outputs": [
    {
     "name": "stdout",
     "output_type": "stream",
     "text": [
      "128 total mpi requested\n",
      "#!/bin/bash\n",
      "#SBATCH --nodes=1\n",
      "#SBATCH --ntasks=128\n",
      "#SBATCH --cpus-per-task=8\n",
      "#SBATCH --walltime=00:01:40\n",
      "#SBATCH --ntasks=16\n",
      "#SBATCH --job-name=test_job\n",
      "#SBATCH --qos=standard\n",
      "#SBATCH --export=none\n",
      "\n"
     ]
    }
   ],
   "source": [
    "print(archer_connection.script())"
   ]
  },
  {
   "cell_type": "markdown",
   "metadata": {},
   "source": [
    "For basic commands, url provides a `cmd` method, which will execute any strings given"
   ]
  },
  {
   "cell_type": "code",
   "execution_count": 6,
   "metadata": {
    "tags": []
   },
   "outputs": [],
   "source": [
    "connection.raise_errors=False"
   ]
  },
  {
   "cell_type": "code",
   "execution_count": 7,
   "metadata": {
    "tags": []
   },
   "outputs": [
    {
     "data": {
      "text/plain": [
       "bigdft/sdk:oneapi2023"
      ]
     },
     "execution_count": 7,
     "metadata": {},
     "output_type": "execute_result"
    }
   ],
   "source": [
    "connection.cmd('hostname')"
   ]
  },
  {
   "cell_type": "markdown",
   "metadata": {},
   "source": [
    "## Datasets\n",
    "The `remotemanager` library is able to execute user defined python functions at the location of choice. Below is a basic function example which will serve our purposes for this guide\n",
    "\n",
    ".. note::\n",
    "    The function must stand by itself when running, so any imports or necessary functionality should be contained within"
   ]
  },
  {
   "cell_type": "code",
   "execution_count": 8,
   "metadata": {
    "tags": []
   },
   "outputs": [],
   "source": [
    "def multiply(a, b):\n",
    "    import time\n",
    "    \n",
    "    time.sleep(1)\n",
    "    \n",
    "    return a * b"
   ]
  },
  {
   "cell_type": "markdown",
   "metadata": {},
   "source": [
    "This function would run just fine on any workstation, however imagine that the function is something significantly more demanding. We would need to connect to some more powerful resources for this.\n",
    "\n",
    "For function execution, we require a `Dataset`. Think of this dataset as a container for your function, with calculations to be added later on.\n",
    "\n",
    "Like `URL`, this can be imported directly from `remotemanager`\n",
    "\n",
    "To create a dataset, the only requirement is a callable function object. You must pass this object to the Dataset\n",
    "\n",
    ".. note::\n",
    "    When passing a function to the dataset, do not call it within the assigment. For example, for our multiply function, we should pass `function=multiply` _not_ `function=multiply()`\n",
    "\n",
    "Here we are additionally specifying the `local_dir` and the `remote_dir`, which tells the Dataset where to put all relevant files on the local and remote machines, respectively.\n",
    "\n",
    "If it suits your workflow, you can additionally specify a `run_dir` when appending a run. This is an additional folder within `remote_dir` where the script will be executed from. Thus, any files created by your function will be placed here."
   ]
  },
  {
   "cell_type": "code",
   "execution_count": 9,
   "metadata": {
    "tags": []
   },
   "outputs": [
    {
     "name": "stderr",
     "output_type": "stream",
     "text": [
      "/home/genovese/.local/lib/python3.9/site-packages/remotemanager/storage/database.py:64: UserWarning: database file (version 0.5.17) is less than current remotemanager install version\n",
      "  warnings.warn(msg)\n"
     ]
    }
   ],
   "source": [
    "from remotemanager import Dataset\n",
    "\n",
    "ds = Dataset(function=multiply,\n",
    "             url=connection,\n",
    "             local_dir='temp_local',\n",
    "             remote_dir='temp_remote')"
   ]
  },
  {
   "cell_type": "markdown",
   "metadata": {},
   "source": [
    "### Creating runs\n",
    "\n",
    "As the dataset is simply a container for the function, it is essentially useless in this state. To get some use out of it, we must append some runs.\n",
    "\n",
    "To do this we use the `Dataset.append_run()` method. This will take the arguments in `dict` format, and store them for later.\n",
    "\n",
    "You may do this in any way you see fit, the important part is to pass a dictionary which contains all ncessary arguments for the running of your function:"
   ]
  },
  {
   "cell_type": "code",
   "execution_count": 10,
   "metadata": {
    "tags": []
   },
   "outputs": [
    {
     "name": "stdout",
     "output_type": "stream",
     "text": [
      "runner runner-3 already exists\n",
      "runner runner-3 already exists\n",
      "runner runner-3 already exists\n"
     ]
    }
   ],
   "source": [
    "runs = [[21, 2],\n",
    "        [64, 8],\n",
    "        [10, 7]]\n",
    "\n",
    "for run in runs:\n",
    "    \n",
    "    a = run[0]\n",
    "    b = run[1]\n",
    "    \n",
    "    arguments = {'a': a, 'b': b}\n",
    "    \n",
    "    ds.append_run(arguments=arguments)"
   ]
  },
  {
   "cell_type": "markdown",
   "metadata": {},
   "source": [
    "### Running and Retrieving your results\n",
    "\n",
    "Now we have created a dataset and appended some runs, we can launch the calculations. This is done via the Dataset.run() method\n",
    "\n",
    "Once the runs have completed, you can retrieve your results with `ds.fetch_results()`, and access them via `ds.results` once this is done\n",
    "\n",
    ".. note::\n",
    "    Be aware that the `fetch_results` method does not return your results, simply stores them in the `results` property."
   ]
  },
  {
   "cell_type": "code",
   "execution_count": 11,
   "metadata": {
    "tags": []
   },
   "outputs": [
    {
     "name": "stdout",
     "output_type": "stream",
     "text": [
      "assessing run for runner dataset-62eb4971-runner-0... checks passed, running\n",
      "assessing run for runner dataset-62eb4971-runner-1... checks passed, running\n",
      "assessing run for runner dataset-62eb4971-runner-2... checks passed, running\n"
     ]
    },
    {
     "ename": "RuntimeError",
     "evalue": "received the following stderr: \n/bin/bash: /opt/intel/oneapi/intelpython/python3.9/lib/libtinfo.so.6: no version information available (required by /bin/bash)\n",
     "output_type": "error",
     "traceback": [
      "\u001b[0;31m---------------------------------------------------------------------------\u001b[0m",
      "\u001b[0;31mRuntimeError\u001b[0m                              Traceback (most recent call last)",
      "Cell \u001b[0;32mIn[11], line 1\u001b[0m\n\u001b[0;32m----> 1\u001b[0m \u001b[43mds\u001b[49m\u001b[38;5;241;43m.\u001b[39;49m\u001b[43mrun\u001b[49m\u001b[43m(\u001b[49m\u001b[43m)\u001b[49m\n",
      "File \u001b[0;32m~/.local/lib/python3.9/site-packages/remotemanager/dataset/dataset.py:1047\u001b[0m, in \u001b[0;36mDataset.run\u001b[0;34m(self, force, dry_run, quiet, **run_args)\u001b[0m\n\u001b[1;32m   1044\u001b[0m     Quiet\u001b[38;5;241m.\u001b[39mstate \u001b[38;5;241m=\u001b[39m quiet\n\u001b[1;32m   1045\u001b[0m     \u001b[38;5;28;01mreturn\u001b[39;00m\n\u001b[0;32m-> 1047\u001b[0m \u001b[38;5;28;43mself\u001b[39;49m\u001b[38;5;241;43m.\u001b[39;49m\u001b[43m_run\u001b[49m\u001b[43m(\u001b[49m\u001b[43mforce\u001b[49m\u001b[43m,\u001b[49m\u001b[43m \u001b[49m\u001b[43mdry_run\u001b[49m\u001b[43m,\u001b[49m\u001b[43m \u001b[49m\u001b[38;5;241;43m*\u001b[39;49m\u001b[38;5;241;43m*\u001b[39;49m\u001b[43mrun_args\u001b[49m\u001b[43m)\u001b[49m\n\u001b[1;32m   1048\u001b[0m Quiet\u001b[38;5;241m.\u001b[39mstate \u001b[38;5;241m=\u001b[39m quiet\n",
      "File \u001b[0;32m~/.local/lib/python3.9/site-packages/remotemanager/dataset/dataset.py:1144\u001b[0m, in \u001b[0;36mDataset._run\u001b[0;34m(self, force, dry_run, **run_args)\u001b[0m\n\u001b[1;32m   1141\u001b[0m     \u001b[38;5;28mself\u001b[39m\u001b[38;5;241m.\u001b[39m_write_to_repo(\u001b[38;5;28mself\u001b[39m\u001b[38;5;241m.\u001b[39mlocal_dir, remote)\n\u001b[1;32m   1143\u001b[0m \u001b[38;5;28;01mif\u001b[39;00m \u001b[38;5;129;01mnot\u001b[39;00m dry_run:\n\u001b[0;32m-> 1144\u001b[0m     \u001b[38;5;28;43mself\u001b[39;49m\u001b[38;5;241;43m.\u001b[39;49m\u001b[43mtransport\u001b[49m\u001b[38;5;241;43m.\u001b[39;49m\u001b[43mtransfer\u001b[49m\u001b[43m(\u001b[49m\u001b[43m)\u001b[49m\n\u001b[1;32m   1145\u001b[0m     \u001b[38;5;28mself\u001b[39m\u001b[38;5;241m.\u001b[39mset_runner_states(\u001b[38;5;124m\"\u001b[39m\u001b[38;5;124mfiles copied to remote\u001b[39m\u001b[38;5;124m\"\u001b[39m, runners_to_update)\n\u001b[1;32m   1146\u001b[0m     \u001b[38;5;28;01mif\u001b[39;00m \u001b[38;5;28mself\u001b[39m\u001b[38;5;241m.\u001b[39mis_child:\n",
      "File \u001b[0;32m~/.local/lib/python3.9/site-packages/remotemanager/transport/transport.py:311\u001b[0m, in \u001b[0;36mTransport.transfer\u001b[0;34m(self, dry_run, prepend)\u001b[0m\n\u001b[1;32m    305\u001b[0m     \u001b[38;5;28;01mreturn\u001b[39;00m [\n\u001b[1;32m    306\u001b[0m         \u001b[38;5;28mself\u001b[39m\u001b[38;5;241m.\u001b[39murl\u001b[38;5;241m.\u001b[39mcmd(cmd, dry_run\u001b[38;5;241m=\u001b[39m\u001b[38;5;28;01mTrue\u001b[39;00m, local\u001b[38;5;241m=\u001b[39m\u001b[38;5;28;01mTrue\u001b[39;00m, prepend\u001b[38;5;241m=\u001b[39mprepend)\n\u001b[1;32m    307\u001b[0m         \u001b[38;5;28;01mfor\u001b[39;00m cmd \u001b[38;5;129;01min\u001b[39;00m commands\n\u001b[1;32m    308\u001b[0m     ]\n\u001b[1;32m    310\u001b[0m \u001b[38;5;28;01mfor\u001b[39;00m cmd \u001b[38;5;129;01min\u001b[39;00m commands:\n\u001b[0;32m--> 311\u001b[0m     \u001b[38;5;28;43mself\u001b[39;49m\u001b[38;5;241;43m.\u001b[39;49m\u001b[43murl\u001b[49m\u001b[38;5;241;43m.\u001b[39;49m\u001b[43mcmd\u001b[49m\u001b[43m(\u001b[49m\u001b[43mcmd\u001b[49m\u001b[43m,\u001b[49m\u001b[43m \u001b[49m\u001b[43mlocal\u001b[49m\u001b[38;5;241;43m=\u001b[39;49m\u001b[38;5;28;43;01mTrue\u001b[39;49;00m\u001b[43m,\u001b[49m\u001b[43m \u001b[49m\u001b[43mprepend\u001b[49m\u001b[38;5;241;43m=\u001b[39;49m\u001b[43mprepend\u001b[49m\u001b[43m)\u001b[49m\n\u001b[1;32m    312\u001b[0m     \u001b[38;5;66;03m# wipe the transfer queue\u001b[39;00m\n\u001b[1;32m    313\u001b[0m     \u001b[38;5;28mself\u001b[39m\u001b[38;5;241m.\u001b[39mwipe_transfers()\n",
      "File \u001b[0;32m~/.local/lib/python3.9/site-packages/remotemanager/connection/url.py:458\u001b[0m, in \u001b[0;36mURL.cmd\u001b[0;34m(self, cmd, asynchronous, local, stdout, stderr, timeout, max_timeouts, raise_errors, dry_run, prepend)\u001b[0m\n\u001b[1;32m    447\u001b[0m     \u001b[38;5;28;01mreturn\u001b[39;00m cmd\u001b[38;5;241m.\u001b[39mstrip()\n\u001b[1;32m    449\u001b[0m thiscmd \u001b[38;5;241m=\u001b[39m CMD(\n\u001b[1;32m    450\u001b[0m     cmd\u001b[38;5;241m.\u001b[39mstrip(),\n\u001b[1;32m    451\u001b[0m     asynchronous\u001b[38;5;241m=\u001b[39masynchronous,\n\u001b[0;32m   (...)\u001b[0m\n\u001b[1;32m    456\u001b[0m     raise_errors\u001b[38;5;241m=\u001b[39mraise_errors,\n\u001b[1;32m    457\u001b[0m )\n\u001b[0;32m--> 458\u001b[0m \u001b[43mthiscmd\u001b[49m\u001b[38;5;241;43m.\u001b[39;49m\u001b[43mexec\u001b[49m\u001b[43m(\u001b[49m\u001b[43m)\u001b[49m\n\u001b[1;32m    459\u001b[0m \u001b[38;5;28;01mif\u001b[39;00m \u001b[38;5;129;01mnot\u001b[39;00m local:\n\u001b[1;32m    460\u001b[0m     \u001b[38;5;28mself\u001b[39m\u001b[38;5;241m.\u001b[39m_callcount \u001b[38;5;241m+\u001b[39m\u001b[38;5;241m=\u001b[39m \u001b[38;5;241m1\u001b[39m\n",
      "File \u001b[0;32m~/.local/lib/python3.9/site-packages/remotemanager/connection/cmd.py:285\u001b[0m, in \u001b[0;36mCMD.exec\u001b[0;34m(self)\u001b[0m\n\u001b[1;32m    282\u001b[0m     \u001b[38;5;28;01mreturn\u001b[39;00m \u001b[38;5;28mself\u001b[39m\u001b[38;5;241m.\u001b[39m_fexec(stdout, stderr)\n\u001b[1;32m    284\u001b[0m \u001b[38;5;28;01mtry\u001b[39;00m:\n\u001b[0;32m--> 285\u001b[0m     \u001b[38;5;28;43mself\u001b[39;49m\u001b[38;5;241;43m.\u001b[39;49m\u001b[43m_exec\u001b[49m\u001b[43m(\u001b[49m\u001b[43mstdout\u001b[49m\u001b[43m,\u001b[49m\u001b[43m \u001b[49m\u001b[43mstderr\u001b[49m\u001b[43m)\u001b[49m\n\u001b[1;32m    286\u001b[0m \u001b[38;5;28;01mexcept\u001b[39;00m \u001b[38;5;167;01mOSError\u001b[39;00m \u001b[38;5;28;01mas\u001b[39;00m E:\n\u001b[1;32m    287\u001b[0m     msg \u001b[38;5;241m=\u001b[39m \u001b[38;5;124m\"\u001b[39m\u001b[38;5;124mEncountered an OSError on exec, attempting file exec\u001b[39m\u001b[38;5;124m\"\u001b[39m\n",
      "File \u001b[0;32m~/.local/lib/python3.9/site-packages/remotemanager/connection/cmd.py:324\u001b[0m, in \u001b[0;36mCMD._exec\u001b[0;34m(self, stdout, stderr)\u001b[0m\n\u001b[1;32m    322\u001b[0m \u001b[38;5;28;01mif\u001b[39;00m \u001b[38;5;129;01mnot\u001b[39;00m \u001b[38;5;28mself\u001b[39m\u001b[38;5;241m.\u001b[39m_async \u001b[38;5;129;01mand\u001b[39;00m \u001b[38;5;129;01mnot\u001b[39;00m \u001b[38;5;28mself\u001b[39m\u001b[38;5;241m.\u001b[39mis_redirected:\n\u001b[1;32m    323\u001b[0m     \u001b[38;5;28mself\u001b[39m\u001b[38;5;241m.\u001b[39m_logger\u001b[38;5;241m.\u001b[39mdebug(\u001b[38;5;124m\"\u001b[39m\u001b[38;5;124min-exec communication triggered\u001b[39m\u001b[38;5;124m\"\u001b[39m)\n\u001b[0;32m--> 324\u001b[0m     \u001b[38;5;28;43mself\u001b[39;49m\u001b[38;5;241;43m.\u001b[39;49m\u001b[43mcommunicate\u001b[49m\u001b[43m(\u001b[49m\u001b[43m)\u001b[49m\n",
      "File \u001b[0;32m~/.local/lib/python3.9/site-packages/remotemanager/connection/cmd.py:422\u001b[0m, in \u001b[0;36mCMD.communicate\u001b[0;34m(self, use_cache, ignore_errors)\u001b[0m\n\u001b[1;32m    420\u001b[0m         \u001b[38;5;28mself\u001b[39m\u001b[38;5;241m.\u001b[39m_logger\u001b[38;5;241m.\u001b[39mwarning(\u001b[38;5;124mf\u001b[39m\u001b[38;5;124m\"\u001b[39m\u001b[38;5;124mlocale error detected: \u001b[39m\u001b[38;5;132;01m{\u001b[39;00merr\u001b[38;5;132;01m}\u001b[39;00m\u001b[38;5;124m\"\u001b[39m)\n\u001b[1;32m    421\u001b[0m     \u001b[38;5;28;01melse\u001b[39;00m:\n\u001b[0;32m--> 422\u001b[0m         \u001b[38;5;28;01mraise\u001b[39;00m \u001b[38;5;167;01mRuntimeError\u001b[39;00m(\u001b[38;5;124mf\u001b[39m\u001b[38;5;124m\"\u001b[39m\u001b[38;5;124mreceived the following stderr: \u001b[39m\u001b[38;5;130;01m\\n\u001b[39;00m\u001b[38;5;132;01m{\u001b[39;00merr\u001b[38;5;132;01m}\u001b[39;00m\u001b[38;5;124m\"\u001b[39m)\n\u001b[1;32m    424\u001b[0m \u001b[38;5;28;01mreturn\u001b[39;00m {\u001b[38;5;124m\"\u001b[39m\u001b[38;5;124mstdout\u001b[39m\u001b[38;5;124m\"\u001b[39m: _clean_output(std), \u001b[38;5;124m\"\u001b[39m\u001b[38;5;124mstderr\u001b[39m\u001b[38;5;124m\"\u001b[39m: _clean_output(err)}\n",
      "\u001b[0;31mRuntimeError\u001b[0m: received the following stderr: \n/bin/bash: /opt/intel/oneapi/intelpython/python3.9/lib/libtinfo.so.6: no version information available (required by /bin/bash)\n"
     ]
    }
   ],
   "source": [
    "ds.run()"
   ]
  },
  {
   "cell_type": "code",
   "execution_count": null,
   "metadata": {},
   "outputs": [],
   "source": [
    "# fetch the results, this loads them into the ds.results property for later access\n",
    "import time\n",
    "\n",
    "while not ds.is_finished:\n",
    "    time.sleep(3)\n",
    "_ = ds.fetch_results()"
   ]
  },
  {
   "cell_type": "code",
   "execution_count": null,
   "metadata": {},
   "outputs": [],
   "source": [
    "# access this property any time after the results have been fetched. \n",
    "# This prevents the dataset attempting to poll the remote each time\n",
    "\n",
    "print(ds.results)"
   ]
  },
  {
   "cell_type": "markdown",
   "metadata": {},
   "source": [
    "## Magic Commands\n",
    "For some tasks, the use of a dataset can be overkill and make it hard to read your notebook. For simple remote tasks, we have created the `sanzu` magic commands, which automatically wrap Jupyter cells for remote execution."
   ]
  },
  {
   "cell_type": "code",
   "execution_count": null,
   "metadata": {},
   "outputs": [],
   "source": [
    "%load_ext remotemanager"
   ]
  },
  {
   "cell_type": "markdown",
   "metadata": {},
   "source": [
    "We define an arbitrary cell in a Jupyter notebook, and decorate it so that it runs on the remote machine. The `%%sanzu` magic takes the same list of arguments you would send to a dataset."
   ]
  },
  {
   "cell_type": "code",
   "execution_count": null,
   "metadata": {},
   "outputs": [],
   "source": [
    "%%sanzu url=connection, remote_dir=\"rmagic\"\n",
    "from time import sleep\n",
    "sleep(5)"
   ]
  },
  {
   "cell_type": "markdown",
   "metadata": {},
   "source": [
    "If you run the cell above again, you will find that the result has been cached, and the function returns instantly. Now let's try a more useful function."
   ]
  },
  {
   "cell_type": "code",
   "execution_count": null,
   "metadata": {},
   "outputs": [],
   "source": [
    "%%sanzu url=connection\n",
    "%%sargs N = 1000, hermitian=True\n",
    "%%sargs idx = 0\n",
    "from numpy.random import rand\n",
    "from scipy.linalg import eigh\n",
    "\n",
    "mat = rand(N, N)\n",
    "if hermitian:\n",
    "    mat += mat.T\n",
    "\n",
    "vals, vecs = eigh(mat)\n",
    "vals[idx]"
   ]
  },
  {
   "cell_type": "markdown",
   "metadata": {},
   "source": [
    "In this case, we're build a random matrix, and computing its lowest eigenvalue. The `%%sargs` lines were used  In Jupyter, the last line of a cell is automatically returned. We can access this result through the magic dataset."
   ]
  },
  {
   "cell_type": "code",
   "execution_count": null,
   "metadata": {},
   "outputs": [],
   "source": [
    "print(magic_dataset.results)"
   ]
  },
  {
   "cell_type": "markdown",
   "metadata": {},
   "source": [
    "## Serialization and File Passing\n",
    "The way that `remotemanager` works is that it serializes whatever objects are passed to file. This can lead to some trip ups."
   ]
  },
  {
   "cell_type": "code",
   "execution_count": null,
   "metadata": {},
   "outputs": [],
   "source": [
    "from uuid import uuid1"
   ]
  },
  {
   "cell_type": "code",
   "execution_count": null,
   "metadata": {},
   "outputs": [],
   "source": [
    "%%sanzu\n",
    "%%sargs x = uuid1()\n",
    "print(x)"
   ]
  },
  {
   "cell_type": "markdown",
   "metadata": {},
   "source": [
    "This fails, because the default serializer writes json, and uuid is not a simple type. To pass this kind of type, we need to switch the serialiser to something more flexible. We recommend `jsonpickle` and `dill`."
   ]
  },
  {
   "cell_type": "code",
   "execution_count": null,
   "metadata": {},
   "outputs": [],
   "source": [
    "from remotemanager.serialisation import serialjsonpickle"
   ]
  },
  {
   "cell_type": "code",
   "execution_count": null,
   "metadata": {},
   "outputs": [],
   "source": [
    "%%sanzu serialiser = serialjsonpickle()\n",
    "%%sargs x = uuid1()\n",
    "x"
   ]
  },
  {
   "cell_type": "code",
   "execution_count": null,
   "metadata": {},
   "outputs": [],
   "source": [
    "print(magic_dataset.results)"
   ]
  },
  {
   "cell_type": "markdown",
   "metadata": {},
   "source": [
    "You need to take care of the remote environment and make sure any type that you send is available there. If the remote computer's Python environment is very limited, sending files back and forth can be a good option."
   ]
  },
  {
   "cell_type": "code",
   "execution_count": null,
   "metadata": {},
   "outputs": [],
   "source": [
    "with open(\"send_me.txt\", \"w\") as ofile:\n",
    "    ofile.write(\"test\")"
   ]
  },
  {
   "cell_type": "code",
   "execution_count": null,
   "metadata": {
    "scrolled": true
   },
   "outputs": [],
   "source": [
    "%%sanzu extra_files_send = [\"send_me.txt\"]\n",
    "%%sanzu extra_files_recv = [\"recv_me.txt\"]\n",
    "with open(\"send_me.txt\") as ifile:\n",
    "    f = next(ifile)\n",
    "with open(\"recv_me.txt\", \"w\") as ofile:\n",
    "    ofile.write(f + \" worked\")"
   ]
  },
  {
   "cell_type": "code",
   "execution_count": null,
   "metadata": {},
   "outputs": [],
   "source": [
    "with open(\"temp_runner_local/recv_me.txt\") as ifile:\n",
    "    print(next(ifile))"
   ]
  },
  {
   "cell_type": "markdown",
   "metadata": {},
   "source": [
    "## Exercise\n",
    "Install remotemanager on your own machine and access the Saga supercomputer."
   ]
  },
  {
   "cell_type": "code",
   "execution_count": null,
   "metadata": {},
   "outputs": [],
   "source": [
    "def calculate(hgrid):\n",
    "    from BigDFT.Calculators import SystemCalculator\n",
    "    from BigDFT.Inputfiles import Inputfile\n",
    "    from BigDFT.Database.Molecules import get_molecule\n",
    "    \n",
    "    sys = get_molecule(\"N2\")\n",
    "    inp = Inputfile()\n",
    "    inp.set_hgrid(hgrid)\n",
    "    calc = SystemCalculator()\n",
    "    log = calc.run(sys=sys, input=inp, name=str(hgrid))\n",
    "    \n",
    "    return log.energy"
   ]
  },
  {
   "cell_type": "code",
   "execution_count": null,
   "metadata": {},
   "outputs": [],
   "source": [
    "from remotemanager import URL  # Replace this with the computer of your choice\n",
    "from remotemanager import Dataset  # Store a set of remote calculations\n",
    "url = URL()\n",
    "ds = Dataset(function=calculate, url=url)\n",
    "for h in [0.3, 0.35, 0.4]:\n",
    "    ds.append_run({\"hgrid\": h})\n",
    "ds.run()"
   ]
  },
  {
   "cell_type": "code",
   "execution_count": null,
   "metadata": {},
   "outputs": [],
   "source": [
    "from time import sleep\n",
    "while not all(ds.is_finished):\n",
    "    sleep(10)\n",
    "ds.fetch_results()\n",
    "print(ds.results)"
   ]
  },
  {
   "cell_type": "code",
   "execution_count": null,
   "metadata": {},
   "outputs": [],
   "source": [
    "%%sanzu url=url\n",
    "%%sargs hgrid = 0.35\n",
    "from BigDFT.Logfiles import Logfile\n",
    "log = Logfile(\"log-\" + str(hgrid) + \".yaml\")\n",
    "log.log[\"Memory Consumption Report\"][\"Memory occupation\"]"
   ]
  },
  {
   "cell_type": "code",
   "execution_count": null,
   "metadata": {},
   "outputs": [],
   "source": [
    "print(magic_dataset.results)"
   ]
  }
 ],
 "metadata": {
  "kernelspec": {
   "display_name": "Python 3 (ipykernel)",
   "language": "python",
   "name": "python3"
  },
  "language_info": {
   "codemirror_mode": {
    "name": "ipython",
    "version": 3
   },
   "file_extension": ".py",
   "mimetype": "text/x-python",
   "name": "python",
   "nbconvert_exporter": "python",
   "pygments_lexer": "ipython3",
   "version": "3.9.16"
  }
 },
 "nbformat": 4,
 "nbformat_minor": 4
}
