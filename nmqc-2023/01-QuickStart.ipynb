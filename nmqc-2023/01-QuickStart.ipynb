{
 "cells": [
  {
   "cell_type": "markdown",
   "id": "similar-reply",
   "metadata": {},
   "source": [
    "# Quick Start - From Python\n",
    "Here we present a broad overview of using the PyBigDFT library to drive BigDFT calculations using Python. If you have installed from source, you should make sure you have setup the proper environment variables using the following command:\n",
    "\n",
    "```\n",
    "source install/bin/bigdftvars.sh\n",
    "```"
   ]
  },
  {
   "cell_type": "markdown",
   "id": "59c59d05",
   "metadata": {},
   "source": [
    "## System Manipulation\n",
    "Here we define a system which is compsed of two fragments: H2 and Helium."
   ]
  },
  {
   "cell_type": "code",
   "execution_count": 1,
   "id": "ede8e9ce",
   "metadata": {
    "tags": []
   },
   "outputs": [],
   "source": [
    "import warnings\n",
    "warnings.filterwarnings(\"ignore\")"
   ]
  },
  {
   "cell_type": "code",
   "execution_count": 2,
   "id": "jewish-country",
   "metadata": {
    "tags": []
   },
   "outputs": [],
   "source": [
    "from BigDFT.Systems import System\n",
    "from BigDFT.Fragments import Fragment\n",
    "from BigDFT.Atoms import Atom\n",
    "from BigDFT.Visualization import InlineVisualizer"
   ]
  },
  {
   "cell_type": "code",
   "execution_count": 3,
   "id": "bored-scottish",
   "metadata": {
    "tags": []
   },
   "outputs": [
    {
     "name": "stdout",
     "output_type": "stream",
     "text": [
      "H2:1 H [0.0, 0.0, 0.0]\n",
      "H2:1 H [0.0, 0.0, 1.4]\n",
      "He:2 He [10.0, 0.0, 0.0]\n"
     ]
    }
   ],
   "source": [
    "# Create Three Atoms\n",
    "at1 = Atom({\"r\": [0, 0, 0], \"sym\": \"H\", \"units\": \"bohr\"})\n",
    "at2 = Atom({\"r\": [0, 0, 1.4], \"sym\": \"H\", \"units\": \"bohr\"})\n",
    "at3 = Atom({\"r\": [10, 0, 0], \"sym\": \"He\", \"units\": \"bohr\"})\n",
    "\n",
    "# Construct a System from Two Fragments (H2, He)\n",
    "sys = System()\n",
    "sys[\"H2:1\"] = Fragment([at1, at2])\n",
    "sys[\"He:2\"] = Fragment([at3])\n",
    "\n",
    "# Iterate Over The System\n",
    "for fragid, frag in sys.items():\n",
    "    for at in frag:\n",
    "        print(fragid, at.sym, at.get_position())"
   ]
  },
  {
   "cell_type": "code",
   "execution_count": 4,
   "id": "colonial-bottom",
   "metadata": {
    "tags": []
   },
   "outputs": [
    {
     "data": {
      "application/3dmoljs_load.v0": "<div id=\"3dmolviewer_16854359917147405\"  style=\"position: relative; width: 400px; height: 300px\">\n        <p id=\"3dmolwarning_16854359917147405\" style=\"background-color:#ffcccc;color:black\">You appear to be running in JupyterLab (or JavaScript failed to load for some other reason).  You need to install the 3dmol extension: <br>\n        <tt>jupyter labextension install jupyterlab_3dmol</tt></p>\n        </div>\n<script>\n\nvar loadScriptAsync = function(uri){\n  return new Promise((resolve, reject) => {\n    //this is to ignore the existence of requirejs amd\n    var savedexports, savedmodule;\n    if (typeof exports !== 'undefined') savedexports = exports;\n    else exports = {}\n    if (typeof module !== 'undefined') savedmodule = module;\n    else module = {}\n\n    var tag = document.createElement('script');\n    tag.src = uri;\n    tag.async = true;\n    tag.onload = () => {\n        exports = savedexports;\n        module = savedmodule;\n        resolve();\n    };\n  var firstScriptTag = document.getElementsByTagName('script')[0];\n  firstScriptTag.parentNode.insertBefore(tag, firstScriptTag);\n});\n};\n\nif(typeof $3Dmolpromise === 'undefined') {\n$3Dmolpromise = null;\n  $3Dmolpromise = loadScriptAsync('https://cdnjs.cloudflare.com/ajax/libs/3Dmol/2.0.1/3Dmol-min.js');\n}\n\nvar viewer_16854359917147405 = null;\nvar warn = document.getElementById(\"3dmolwarning_16854359917147405\");\nif(warn) {\n    warn.parentNode.removeChild(warn);\n}\n$3Dmolpromise.then(function() {\nvar viewergrid_16854359917147405 = null;\nviewergrid_16854359917147405 = $3Dmol.createViewerGrid(document.getElementById(\"3dmolviewer_16854359917147405\"),{rows: 1, cols: 1, control_all: false},{backgroundColor:\"white\"});\nviewer_16854359917147405 = viewergrid_16854359917147405[0][0];\nviewergrid_16854359917147405[0][0].zoomTo();\tviewergrid_16854359917147405[0][0].addModelsAsFrames(\"MODEL 0\\nHETATM    1 H    H2  A   1       0.000   0.000   0.000  1.00  0.00       B   H  \\nHETATM    2 H    H2  A   1       0.000   0.000   0.741  1.00  0.00       B   H  \\nHETATM    3 He   He  A   2       5.292   0.000   0.000  1.00  0.00       B  He  \\nENDMDL\\n\",\"pdb\",{\"keepH\": \"true\"});\n\tviewergrid_16854359917147405[0][0].setStyle({\"model\": -1},{\"line\": {\"color\": \"black\"}});\n\tviewergrid_16854359917147405[0][0].addModelsAsFrames(\"MODEL 0\\nHETATM    1 H    H2  A   1       0.000   0.000   0.000  1.00  0.00       B   H  \\nHETATM    2 H    H2  A   1       0.000   0.000   0.741  1.00  0.00       B   H  \\nHETATM    3 He   He  A   2       5.292   0.000   0.000  1.00  0.00       B  He  \\nENDMDL\\n\",\"pdb\",{\"keepH\": \"true\"});\n\tviewergrid_16854359917147405[0][0].setStyle({\"model\": -1, \"serial\": 1},{\"sphere\": {\"scale\": 0.2, \"color\": \"#7F00FF\"}});\n\tviewergrid_16854359917147405[0][0].addModelsAsFrames(\"MODEL 0\\nHETATM    1 H    H2  A   1       0.000   0.000   0.000  1.00  0.00       B   H  \\nHETATM    2 H    H2  A   1       0.000   0.000   0.741  1.00  0.00       B   H  \\nHETATM    3 He   He  A   2       5.292   0.000   0.000  1.00  0.00       B  He  \\nENDMDL\\n\",\"pdb\",{\"keepH\": \"true\"});\n\tviewergrid_16854359917147405[0][0].setStyle({\"model\": -1, \"serial\": 2},{\"sphere\": {\"scale\": 0.2, \"color\": \"#7F00FF\"}});\n\tviewergrid_16854359917147405[0][0].addModelsAsFrames(\"MODEL 0\\nHETATM    1 H    H2  A   1       0.000   0.000   0.000  1.00  0.00       B   H  \\nHETATM    2 H    H2  A   1       0.000   0.000   0.741  1.00  0.00       B   H  \\nHETATM    3 He   He  A   2       5.292   0.000   0.000  1.00  0.00       B  He  \\nENDMDL\\n\",\"pdb\",{\"keepH\": \"true\"});\n\tviewergrid_16854359917147405[0][0].setStyle({\"model\": -1},{\"line\": {\"color\": \"black\"}});\n\tviewergrid_16854359917147405[0][0].addModelsAsFrames(\"MODEL 0\\nHETATM    1 H    H2  A   1       0.000   0.000   0.000  1.00  0.00       B   H  \\nHETATM    2 H    H2  A   1       0.000   0.000   0.741  1.00  0.00       B   H  \\nHETATM    3 He   He  A   2       5.292   0.000   0.000  1.00  0.00       B  He  \\nENDMDL\\n\",\"pdb\",{\"keepH\": \"true\"});\n\tviewergrid_16854359917147405[0][0].setStyle({\"model\": -1, \"serial\": 3},{\"sphere\": {\"scale\": 0.2, \"color\": \"#FF0000\"}});\n\tviewergrid_16854359917147405[0][0].addUnitCell({\"model\": -1},{\"box\": {\"color\": \"black\"}, \"alabel\": \"\", \"blabel\": \"\", \"clabel\": \"\"});\n\tviewergrid_16854359917147405[0][0].zoomTo();\nviewergrid_16854359917147405[0][0].render();\n});\n</script>",
      "text/html": [
       "<div id=\"3dmolviewer_16854359917147405\"  style=\"position: relative; width: 400px; height: 300px\">\n",
       "        <p id=\"3dmolwarning_16854359917147405\" style=\"background-color:#ffcccc;color:black\">You appear to be running in JupyterLab (or JavaScript failed to load for some other reason).  You need to install the 3dmol extension: <br>\n",
       "        <tt>jupyter labextension install jupyterlab_3dmol</tt></p>\n",
       "        </div>\n",
       "<script>\n",
       "\n",
       "var loadScriptAsync = function(uri){\n",
       "  return new Promise((resolve, reject) => {\n",
       "    //this is to ignore the existence of requirejs amd\n",
       "    var savedexports, savedmodule;\n",
       "    if (typeof exports !== 'undefined') savedexports = exports;\n",
       "    else exports = {}\n",
       "    if (typeof module !== 'undefined') savedmodule = module;\n",
       "    else module = {}\n",
       "\n",
       "    var tag = document.createElement('script');\n",
       "    tag.src = uri;\n",
       "    tag.async = true;\n",
       "    tag.onload = () => {\n",
       "        exports = savedexports;\n",
       "        module = savedmodule;\n",
       "        resolve();\n",
       "    };\n",
       "  var firstScriptTag = document.getElementsByTagName('script')[0];\n",
       "  firstScriptTag.parentNode.insertBefore(tag, firstScriptTag);\n",
       "});\n",
       "};\n",
       "\n",
       "if(typeof $3Dmolpromise === 'undefined') {\n",
       "$3Dmolpromise = null;\n",
       "  $3Dmolpromise = loadScriptAsync('https://cdnjs.cloudflare.com/ajax/libs/3Dmol/2.0.1/3Dmol-min.js');\n",
       "}\n",
       "\n",
       "var viewer_16854359917147405 = null;\n",
       "var warn = document.getElementById(\"3dmolwarning_16854359917147405\");\n",
       "if(warn) {\n",
       "    warn.parentNode.removeChild(warn);\n",
       "}\n",
       "$3Dmolpromise.then(function() {\n",
       "var viewergrid_16854359917147405 = null;\n",
       "viewergrid_16854359917147405 = $3Dmol.createViewerGrid(document.getElementById(\"3dmolviewer_16854359917147405\"),{rows: 1, cols: 1, control_all: false},{backgroundColor:\"white\"});\n",
       "viewer_16854359917147405 = viewergrid_16854359917147405[0][0];\n",
       "viewergrid_16854359917147405[0][0].zoomTo();\tviewergrid_16854359917147405[0][0].addModelsAsFrames(\"MODEL 0\\nHETATM    1 H    H2  A   1       0.000   0.000   0.000  1.00  0.00       B   H  \\nHETATM    2 H    H2  A   1       0.000   0.000   0.741  1.00  0.00       B   H  \\nHETATM    3 He   He  A   2       5.292   0.000   0.000  1.00  0.00       B  He  \\nENDMDL\\n\",\"pdb\",{\"keepH\": \"true\"});\n",
       "\tviewergrid_16854359917147405[0][0].setStyle({\"model\": -1},{\"line\": {\"color\": \"black\"}});\n",
       "\tviewergrid_16854359917147405[0][0].addModelsAsFrames(\"MODEL 0\\nHETATM    1 H    H2  A   1       0.000   0.000   0.000  1.00  0.00       B   H  \\nHETATM    2 H    H2  A   1       0.000   0.000   0.741  1.00  0.00       B   H  \\nHETATM    3 He   He  A   2       5.292   0.000   0.000  1.00  0.00       B  He  \\nENDMDL\\n\",\"pdb\",{\"keepH\": \"true\"});\n",
       "\tviewergrid_16854359917147405[0][0].setStyle({\"model\": -1, \"serial\": 1},{\"sphere\": {\"scale\": 0.2, \"color\": \"#7F00FF\"}});\n",
       "\tviewergrid_16854359917147405[0][0].addModelsAsFrames(\"MODEL 0\\nHETATM    1 H    H2  A   1       0.000   0.000   0.000  1.00  0.00       B   H  \\nHETATM    2 H    H2  A   1       0.000   0.000   0.741  1.00  0.00       B   H  \\nHETATM    3 He   He  A   2       5.292   0.000   0.000  1.00  0.00       B  He  \\nENDMDL\\n\",\"pdb\",{\"keepH\": \"true\"});\n",
       "\tviewergrid_16854359917147405[0][0].setStyle({\"model\": -1, \"serial\": 2},{\"sphere\": {\"scale\": 0.2, \"color\": \"#7F00FF\"}});\n",
       "\tviewergrid_16854359917147405[0][0].addModelsAsFrames(\"MODEL 0\\nHETATM    1 H    H2  A   1       0.000   0.000   0.000  1.00  0.00       B   H  \\nHETATM    2 H    H2  A   1       0.000   0.000   0.741  1.00  0.00       B   H  \\nHETATM    3 He   He  A   2       5.292   0.000   0.000  1.00  0.00       B  He  \\nENDMDL\\n\",\"pdb\",{\"keepH\": \"true\"});\n",
       "\tviewergrid_16854359917147405[0][0].setStyle({\"model\": -1},{\"line\": {\"color\": \"black\"}});\n",
       "\tviewergrid_16854359917147405[0][0].addModelsAsFrames(\"MODEL 0\\nHETATM    1 H    H2  A   1       0.000   0.000   0.000  1.00  0.00       B   H  \\nHETATM    2 H    H2  A   1       0.000   0.000   0.741  1.00  0.00       B   H  \\nHETATM    3 He   He  A   2       5.292   0.000   0.000  1.00  0.00       B  He  \\nENDMDL\\n\",\"pdb\",{\"keepH\": \"true\"});\n",
       "\tviewergrid_16854359917147405[0][0].setStyle({\"model\": -1, \"serial\": 3},{\"sphere\": {\"scale\": 0.2, \"color\": \"#FF0000\"}});\n",
       "\tviewergrid_16854359917147405[0][0].addUnitCell({\"model\": -1},{\"box\": {\"color\": \"black\"}, \"alabel\": \"\", \"blabel\": \"\", \"clabel\": \"\"});\n",
       "\tviewergrid_16854359917147405[0][0].zoomTo();\n",
       "viewergrid_16854359917147405[0][0].render();\n",
       "});\n",
       "</script>"
      ]
     },
     "metadata": {},
     "output_type": "display_data"
    },
    {
     "data": {
      "text/plain": [
       "<BigDFT.Visualization.InlineVisualizer at 0x1523ede95bb0>"
      ]
     },
     "execution_count": 4,
     "metadata": {},
     "output_type": "execute_result"
    }
   ],
   "source": [
    "sys.display()"
   ]
  },
  {
   "cell_type": "markdown",
   "id": "caring-timeline",
   "metadata": {},
   "source": [
    "## Calculation\n",
    "Calculate the created system using a grid spacing of $0.4$ and the PBE functional. A logfile is generated from which we can access the computed properties. This logfile has built in properties and can be accessed like a dictionary."
   ]
  },
  {
   "cell_type": "code",
   "execution_count": 5,
   "id": "acquired-headline",
   "metadata": {
    "tags": []
   },
   "outputs": [],
   "source": [
    "from BigDFT.Inputfiles import Inputfile\n",
    "inp = Inputfile()\n",
    "inp.set_hgrid(0.4)\n",
    "inp.set_xc(\"PBE\")\n",
    "inp[\"perf\"] = {\"calculate_forces\": False,\n",
    "               \"multipole_preserving\": True}"
   ]
  },
  {
   "cell_type": "code",
   "execution_count": 6,
   "id": "decent-irish",
   "metadata": {
    "tags": []
   },
   "outputs": [],
   "source": [
    "from BigDFT.Calculators import SystemCalculator\n",
    "calc = SystemCalculator(skip=True, verbose=False)"
   ]
  },
  {
   "cell_type": "code",
   "execution_count": 7,
   "id": "responsible-smoke",
   "metadata": {
    "tags": []
   },
   "outputs": [],
   "source": [
    "log = calc.run(sys=sys, input=inp, name=\"quick\", run_dir=\"scratch\")"
   ]
  },
  {
   "cell_type": "code",
   "execution_count": 8,
   "id": "modified-romance",
   "metadata": {
    "tags": []
   },
   "outputs": [
    {
     "name": "stdout",
     "output_type": "stream",
     "text": [
      "-4.053822554529116\n",
      "{'Peak Value (MB)': 230.69, 'for the array': 'f_i', 'in the routine': 'vxcpostprocessing', 'Memory Peak of process': '371.112 MB'}\n"
     ]
    }
   ],
   "source": [
    "print(log.energy)\n",
    "print(log.log[\"Memory Consumption Report\"]\n",
    "             [\"Memory occupation\"])"
   ]
  },
  {
   "cell_type": "markdown",
   "id": "worldwide-situation",
   "metadata": {},
   "source": [
    "## Periodic Systems (optional)\n",
    "The code can treat also extended systems.\n",
    "We setup a BCC unit cell of iron and perform the calculation using a 2x2x2 k-point grid with a Monkhorst-Pack grid."
   ]
  },
  {
   "cell_type": "code",
   "execution_count": 9,
   "id": "champion-parliament",
   "metadata": {
    "tags": []
   },
   "outputs": [],
   "source": [
    "from BigDFT.UnitCells import UnitCell"
   ]
  },
  {
   "cell_type": "code",
   "execution_count": 10,
   "id": "official-yellow",
   "metadata": {
    "tags": []
   },
   "outputs": [],
   "source": [
    "pat = Atom({\"Fe\": [0, 0, 0], \"units\": \"angstroem\"})\n",
    "psys = System({\"CEL:0\": Fragment([pat])})\n",
    "psys.cell = UnitCell([2.867, 2.867, 2.867], units=\"angstroem\")"
   ]
  },
  {
   "cell_type": "code",
   "execution_count": 11,
   "id": "documented-recorder",
   "metadata": {
    "tags": []
   },
   "outputs": [
    {
     "data": {
      "application/3dmoljs_load.v0": "<div id=\"3dmolviewer_16854360022493818\"  style=\"position: relative; width: 400px; height: 300px\">\n        <p id=\"3dmolwarning_16854360022493818\" style=\"background-color:#ffcccc;color:black\">You appear to be running in JupyterLab (or JavaScript failed to load for some other reason).  You need to install the 3dmol extension: <br>\n        <tt>jupyter labextension install jupyterlab_3dmol</tt></p>\n        </div>\n<script>\n\nvar loadScriptAsync = function(uri){\n  return new Promise((resolve, reject) => {\n    //this is to ignore the existence of requirejs amd\n    var savedexports, savedmodule;\n    if (typeof exports !== 'undefined') savedexports = exports;\n    else exports = {}\n    if (typeof module !== 'undefined') savedmodule = module;\n    else module = {}\n\n    var tag = document.createElement('script');\n    tag.src = uri;\n    tag.async = true;\n    tag.onload = () => {\n        exports = savedexports;\n        module = savedmodule;\n        resolve();\n    };\n  var firstScriptTag = document.getElementsByTagName('script')[0];\n  firstScriptTag.parentNode.insertBefore(tag, firstScriptTag);\n});\n};\n\nif(typeof $3Dmolpromise === 'undefined') {\n$3Dmolpromise = null;\n  $3Dmolpromise = loadScriptAsync('https://cdnjs.cloudflare.com/ajax/libs/3Dmol/2.0.1/3Dmol-min.js');\n}\n\nvar viewer_16854360022493818 = null;\nvar warn = document.getElementById(\"3dmolwarning_16854360022493818\");\nif(warn) {\n    warn.parentNode.removeChild(warn);\n}\n$3Dmolpromise.then(function() {\nvar viewergrid_16854360022493818 = null;\nviewergrid_16854360022493818 = $3Dmol.createViewerGrid(document.getElementById(\"3dmolviewer_16854360022493818\"),{rows: 1, cols: 1, control_all: false},{backgroundColor:\"white\"});\nviewer_16854360022493818 = viewergrid_16854360022493818[0][0];\nviewergrid_16854360022493818[0][0].zoomTo();\tviewergrid_16854360022493818[0][0].addModelsAsFrames(\"MODEL 0\\nCRYST1    2.867    2.867    2.867     90     90     90                          \\nHETATM    1 Fe   CEL A   0       0.000   0.000   0.000  1.00  0.00       B  Fe  \\nENDMDL\\n\",\"pdb\",{\"keepH\": \"true\"});\n\tviewergrid_16854360022493818[0][0].setStyle({\"model\": -1},{\"line\": {\"color\": \"black\"}});\n\tviewergrid_16854360022493818[0][0].addModelsAsFrames(\"MODEL 0\\nCRYST1    2.867    2.867    2.867     90     90     90                          \\nHETATM    1 Fe   CEL A   0       0.000   0.000   0.000  1.00  0.00       B  Fe  \\nENDMDL\\n\",\"pdb\",{\"keepH\": \"true\"});\n\tviewergrid_16854360022493818[0][0].setStyle({\"model\": -1, \"serial\": 1},{\"sphere\": {\"scale\": 0.2, \"color\": \"#7F00FF\"}});\n\tviewergrid_16854360022493818[0][0].addUnitCell({\"model\": -1},{\"box\": {\"color\": \"black\"}, \"alabel\": \"\", \"blabel\": \"\", \"clabel\": \"\"});\n\tviewergrid_16854360022493818[0][0].zoomTo();\nviewergrid_16854360022493818[0][0].render();\n});\n</script>",
      "text/html": [
       "<div id=\"3dmolviewer_16854360022493818\"  style=\"position: relative; width: 400px; height: 300px\">\n",
       "        <p id=\"3dmolwarning_16854360022493818\" style=\"background-color:#ffcccc;color:black\">You appear to be running in JupyterLab (or JavaScript failed to load for some other reason).  You need to install the 3dmol extension: <br>\n",
       "        <tt>jupyter labextension install jupyterlab_3dmol</tt></p>\n",
       "        </div>\n",
       "<script>\n",
       "\n",
       "var loadScriptAsync = function(uri){\n",
       "  return new Promise((resolve, reject) => {\n",
       "    //this is to ignore the existence of requirejs amd\n",
       "    var savedexports, savedmodule;\n",
       "    if (typeof exports !== 'undefined') savedexports = exports;\n",
       "    else exports = {}\n",
       "    if (typeof module !== 'undefined') savedmodule = module;\n",
       "    else module = {}\n",
       "\n",
       "    var tag = document.createElement('script');\n",
       "    tag.src = uri;\n",
       "    tag.async = true;\n",
       "    tag.onload = () => {\n",
       "        exports = savedexports;\n",
       "        module = savedmodule;\n",
       "        resolve();\n",
       "    };\n",
       "  var firstScriptTag = document.getElementsByTagName('script')[0];\n",
       "  firstScriptTag.parentNode.insertBefore(tag, firstScriptTag);\n",
       "});\n",
       "};\n",
       "\n",
       "if(typeof $3Dmolpromise === 'undefined') {\n",
       "$3Dmolpromise = null;\n",
       "  $3Dmolpromise = loadScriptAsync('https://cdnjs.cloudflare.com/ajax/libs/3Dmol/2.0.1/3Dmol-min.js');\n",
       "}\n",
       "\n",
       "var viewer_16854360022493818 = null;\n",
       "var warn = document.getElementById(\"3dmolwarning_16854360022493818\");\n",
       "if(warn) {\n",
       "    warn.parentNode.removeChild(warn);\n",
       "}\n",
       "$3Dmolpromise.then(function() {\n",
       "var viewergrid_16854360022493818 = null;\n",
       "viewergrid_16854360022493818 = $3Dmol.createViewerGrid(document.getElementById(\"3dmolviewer_16854360022493818\"),{rows: 1, cols: 1, control_all: false},{backgroundColor:\"white\"});\n",
       "viewer_16854360022493818 = viewergrid_16854360022493818[0][0];\n",
       "viewergrid_16854360022493818[0][0].zoomTo();\tviewergrid_16854360022493818[0][0].addModelsAsFrames(\"MODEL 0\\nCRYST1    2.867    2.867    2.867     90     90     90                          \\nHETATM    1 Fe   CEL A   0       0.000   0.000   0.000  1.00  0.00       B  Fe  \\nENDMDL\\n\",\"pdb\",{\"keepH\": \"true\"});\n",
       "\tviewergrid_16854360022493818[0][0].setStyle({\"model\": -1},{\"line\": {\"color\": \"black\"}});\n",
       "\tviewergrid_16854360022493818[0][0].addModelsAsFrames(\"MODEL 0\\nCRYST1    2.867    2.867    2.867     90     90     90                          \\nHETATM    1 Fe   CEL A   0       0.000   0.000   0.000  1.00  0.00       B  Fe  \\nENDMDL\\n\",\"pdb\",{\"keepH\": \"true\"});\n",
       "\tviewergrid_16854360022493818[0][0].setStyle({\"model\": -1, \"serial\": 1},{\"sphere\": {\"scale\": 0.2, \"color\": \"#7F00FF\"}});\n",
       "\tviewergrid_16854360022493818[0][0].addUnitCell({\"model\": -1},{\"box\": {\"color\": \"black\"}, \"alabel\": \"\", \"blabel\": \"\", \"clabel\": \"\"});\n",
       "\tviewergrid_16854360022493818[0][0].zoomTo();\n",
       "viewergrid_16854360022493818[0][0].render();\n",
       "});\n",
       "</script>"
      ]
     },
     "metadata": {},
     "output_type": "display_data"
    },
    {
     "data": {
      "text/plain": [
       "<BigDFT.Visualization.InlineVisualizer at 0x1523a5b32040>"
      ]
     },
     "execution_count": 11,
     "metadata": {},
     "output_type": "execute_result"
    }
   ],
   "source": [
    "psys.display()"
   ]
  },
  {
   "cell_type": "code",
   "execution_count": 12,
   "id": "tracked-honey",
   "metadata": {
    "tags": []
   },
   "outputs": [],
   "source": [
    "inp = Inputfile()\n",
    "inp.set_hgrid(0.3)\n",
    "inp.set_xc(\"LDA\")\n",
    "inp.set_kpt_mesh(method='mpgrid',ngkpt=[2, 2, 2])"
   ]
  },
  {
   "cell_type": "code",
   "execution_count": 13,
   "id": "buried-tolerance",
   "metadata": {
    "tags": []
   },
   "outputs": [],
   "source": [
    "log = calc.run(sys=psys, input=inp, name=\"psys\", run_dir=\"scratch\")"
   ]
  },
  {
   "cell_type": "code",
   "execution_count": 14,
   "id": "sunrise-interim",
   "metadata": {
    "tags": []
   },
   "outputs": [
    {
     "data": {
      "image/png": "[encoded data removed]",
      "text/plain": [
       "<Figure size 640x480 with 1 Axes>"
      ]
     },
     "metadata": {},
     "output_type": "display_data"
    }
   ],
   "source": [
    "_ = log.get_dos().plot()"
   ]
  },
  {
   "cell_type": "markdown",
   "id": "aging-extraction",
   "metadata": {},
   "source": [
    "## File I/O\n",
    "Read and write a PDB file."
   ]
  },
  {
   "cell_type": "code",
   "execution_count": 15,
   "id": "158c0ad5-5703-409b-991b-cacbfe2885d2",
   "metadata": {
    "tags": []
   },
   "outputs": [],
   "source": [
    "sys.to_file('scratch/temp.pdb')"
   ]
  },
  {
   "cell_type": "code",
   "execution_count": 16,
   "id": "informed-joyce",
   "metadata": {
    "tags": []
   },
   "outputs": [],
   "source": [
    "from BigDFT.IO import read_pdb"
   ]
  },
  {
   "cell_type": "code",
   "execution_count": 17,
   "id": "uniform-theory",
   "metadata": {
    "tags": []
   },
   "outputs": [],
   "source": [
    "with open(\"scratch/temp.pdb\", \"r\") as ifile:\n",
    "    sys = read_pdb(ifile)"
   ]
  },
  {
   "cell_type": "code",
   "execution_count": null,
   "id": "9c73cb6d-2606-4a33-a3d3-41662369587a",
   "metadata": {},
   "outputs": [],
   "source": []
  }
 ],
 "metadata": {
  "kernelspec": {
   "display_name": "Python 3 (ipykernel)",
   "language": "python",
   "name": "python3"
  },
  "language_info": {
   "codemirror_mode": {
    "name": "ipython",
    "version": 3
   },
   "file_extension": ".py",
   "mimetype": "text/x-python",
   "name": "python",
   "nbconvert_exporter": "python",
   "pygments_lexer": "ipython3",
   "version": "3.9.16"
  }
 },
 "nbformat": 4,
 "nbformat_minor": 5
}
