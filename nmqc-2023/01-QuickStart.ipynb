{
 "cells": [
  {
   "cell_type": "markdown",
   "id": "similar-reply",
   "metadata": {},
   "source": [
    "# Quick Start - From Python\n",
    "Here we present a broad overview of using the PyBigDFT library to drive BigDFT calculations using Python. If you have installed from source, you should make sure you have setup the proper environment variables using the following command:\n",
    "\n",
    "```\n",
    "source install/bin/bigdftvars.sh\n",
    "```"
   ]
  },
  {
   "cell_type": "markdown",
   "id": "59c59d05",
   "metadata": {},
   "source": [
    "## System Manipulation\n",
    "Here we define a system which is compsed of two fragments: H2 and Helium."
   ]
  },
  {
   "cell_type": "code",
   "execution_count": 1,
   "id": "ede8e9ce",
   "metadata": {},
   "outputs": [],
   "source": [
    "import warnings\n",
    "warnings.filterwarnings(\"ignore\")"
   ]
  },
  {
   "cell_type": "code",
   "execution_count": 2,
   "id": "jewish-country",
   "metadata": {},
   "outputs": [],
   "source": [
    "from BigDFT.Systems import System\n",
    "from BigDFT.Fragments import Fragment\n",
    "from BigDFT.Atoms import Atom\n",
    "from BigDFT.Visualization import InlineVisualizer"
   ]
  },
  {
   "cell_type": "code",
   "execution_count": 3,
   "id": "bored-scottish",
   "metadata": {},
   "outputs": [
    {
     "name": "stdout",
     "output_type": "stream",
     "text": [
      "H2:1 H [0.0, 0.0, 0.0]\n",
      "H2:1 H [0.0, 0.0, 1.4]\n",
      "He:2 He [10.0, 0.0, 0.0]\n"
     ]
    }
   ],
   "source": [
    "# Create Three Atoms\n",
    "at1 = Atom({\"r\": [0, 0, 0], \"sym\": \"H\", \"units\": \"bohr\"})\n",
    "at2 = Atom({\"r\": [0, 0, 1.4], \"sym\": \"H\", \"units\": \"bohr\"})\n",
    "at3 = Atom({\"r\": [10, 0, 0], \"sym\": \"He\", \"units\": \"bohr\"})\n",
    "\n",
    "# Construct a System from Two Fragments (H2, He)\n",
    "sys = System()\n",
    "sys[\"H2:1\"] = Fragment([at1, at2])\n",
    "sys[\"He:2\"] = Fragment([at3])\n",
    "\n",
    "# Iterate Over The System\n",
    "for fragid, frag in sys.items():\n",
    "    for at in frag:\n",
    "        print(fragid, at.sym, at.get_position())"
   ]
  },
  {
   "cell_type": "code",
   "execution_count": 4,
   "id": "colonial-bottom",
   "metadata": {},
   "outputs": [
    {
     "data": {
      "application/3dmoljs_load.v0": "<div id=\"3dmolviewer_1684307521210827\"  style=\"position: relative; width: 400px; height: 300px\">\n        <p id=\"3dmolwarning_1684307521210827\" style=\"background-color:#ffcccc;color:black\">You appear to be running in JupyterLab (or JavaScript failed to load for some other reason).  You need to install the 3dmol extension: <br>\n        <tt>jupyter labextension install jupyterlab_3dmol</tt></p>\n        </div>\n<script>\n\nvar loadScriptAsync = function(uri){\n  return new Promise((resolve, reject) => {\n    //this is to ignore the existence of requirejs amd\n    var savedexports, savedmodule;\n    if (typeof exports !== 'undefined') savedexports = exports;\n    else exports = {}\n    if (typeof module !== 'undefined') savedmodule = module;\n    else module = {}\n\n    var tag = document.createElement('script');\n    tag.src = uri;\n    tag.async = true;\n    tag.onload = () => {\n        exports = savedexports;\n        module = savedmodule;\n        resolve();\n    };\n  var firstScriptTag = document.getElementsByTagName('script')[0];\n  firstScriptTag.parentNode.insertBefore(tag, firstScriptTag);\n});\n};\n\nif(typeof $3Dmolpromise === 'undefined') {\n$3Dmolpromise = null;\n  $3Dmolpromise = loadScriptAsync('https://cdnjs.cloudflare.com/ajax/libs/3Dmol/2.0.1/3Dmol-min.js');\n}\n\nvar viewer_1684307521210827 = null;\nvar warn = document.getElementById(\"3dmolwarning_1684307521210827\");\nif(warn) {\n    warn.parentNode.removeChild(warn);\n}\n$3Dmolpromise.then(function() {\nvar viewergrid_1684307521210827 = null;\nviewergrid_1684307521210827 = $3Dmol.createViewerGrid(document.getElementById(\"3dmolviewer_1684307521210827\"),{rows: 1, cols: 1, control_all: false},{backgroundColor:\"white\"});\nviewer_1684307521210827 = viewergrid_1684307521210827[0][0];\nviewergrid_1684307521210827[0][0].zoomTo();\tviewergrid_1684307521210827[0][0].addModelsAsFrames(\"MODEL 0\\nHETATM    1 H    H2  A   1       0.000   0.000   0.000  1.00  0.00       B   H  \\nHETATM    2 H    H2  A   1       0.000   0.000   0.741  1.00  0.00       B   H  \\nHETATM    3 He   He  A   2       5.292   0.000   0.000  1.00  0.00       B  He  \\nENDMDL\\n\",\"pdb\",{\"keepH\": \"true\"});\n\tviewergrid_1684307521210827[0][0].setStyle({\"model\": -1},{\"line\": {\"color\": \"black\"}});\n\tviewergrid_1684307521210827[0][0].addModelsAsFrames(\"MODEL 0\\nHETATM    1 H    H2  A   1       0.000   0.000   0.000  1.00  0.00       B   H  \\nHETATM    2 H    H2  A   1       0.000   0.000   0.741  1.00  0.00       B   H  \\nHETATM    3 He   He  A   2       5.292   0.000   0.000  1.00  0.00       B  He  \\nENDMDL\\n\",\"pdb\",{\"keepH\": \"true\"});\n\tviewergrid_1684307521210827[0][0].setStyle({\"model\": -1, \"serial\": 1},{\"sphere\": {\"scale\": 0.2, \"color\": \"#FF0000\"}});\n\tviewergrid_1684307521210827[0][0].addModelsAsFrames(\"MODEL 0\\nHETATM    1 H    H2  A   1       0.000   0.000   0.000  1.00  0.00       B   H  \\nHETATM    2 H    H2  A   1       0.000   0.000   0.741  1.00  0.00       B   H  \\nHETATM    3 He   He  A   2       5.292   0.000   0.000  1.00  0.00       B  He  \\nENDMDL\\n\",\"pdb\",{\"keepH\": \"true\"});\n\tviewergrid_1684307521210827[0][0].setStyle({\"model\": -1, \"serial\": 2},{\"sphere\": {\"scale\": 0.2, \"color\": \"#FF0000\"}});\n\tviewergrid_1684307521210827[0][0].addModelsAsFrames(\"MODEL 0\\nHETATM    1 H    H2  A   1       0.000   0.000   0.000  1.00  0.00       B   H  \\nHETATM    2 H    H2  A   1       0.000   0.000   0.741  1.00  0.00       B   H  \\nHETATM    3 He   He  A   2       5.292   0.000   0.000  1.00  0.00       B  He  \\nENDMDL\\n\",\"pdb\",{\"keepH\": \"true\"});\n\tviewergrid_1684307521210827[0][0].setStyle({\"model\": -1},{\"line\": {\"color\": \"black\"}});\n\tviewergrid_1684307521210827[0][0].addModelsAsFrames(\"MODEL 0\\nHETATM    1 H    H2  A   1       0.000   0.000   0.000  1.00  0.00       B   H  \\nHETATM    2 H    H2  A   1       0.000   0.000   0.741  1.00  0.00       B   H  \\nHETATM    3 He   He  A   2       5.292   0.000   0.000  1.00  0.00       B  He  \\nENDMDL\\n\",\"pdb\",{\"keepH\": \"true\"});\n\tviewergrid_1684307521210827[0][0].setStyle({\"model\": -1, \"serial\": 3},{\"sphere\": {\"scale\": 0.2, \"color\": \"#7F00FF\"}});\n\tviewergrid_1684307521210827[0][0].addUnitCell({\"model\": -1},{\"box\": {\"color\": \"black\"}, \"alabel\": \"\", \"blabel\": \"\", \"clabel\": \"\"});\n\tviewergrid_1684307521210827[0][0].zoomTo();\nviewergrid_1684307521210827[0][0].render();\n});\n</script>",
      "text/html": [
       "<div id=\"3dmolviewer_1684307521210827\"  style=\"position: relative; width: 400px; height: 300px\">\n",
       "        <p id=\"3dmolwarning_1684307521210827\" style=\"background-color:#ffcccc;color:black\">You appear to be running in JupyterLab (or JavaScript failed to load for some other reason).  You need to install the 3dmol extension: <br>\n",
       "        <tt>jupyter labextension install jupyterlab_3dmol</tt></p>\n",
       "        </div>\n",
       "<script>\n",
       "\n",
       "var loadScriptAsync = function(uri){\n",
       "  return new Promise((resolve, reject) => {\n",
       "    //this is to ignore the existence of requirejs amd\n",
       "    var savedexports, savedmodule;\n",
       "    if (typeof exports !== 'undefined') savedexports = exports;\n",
       "    else exports = {}\n",
       "    if (typeof module !== 'undefined') savedmodule = module;\n",
       "    else module = {}\n",
       "\n",
       "    var tag = document.createElement('script');\n",
       "    tag.src = uri;\n",
       "    tag.async = true;\n",
       "    tag.onload = () => {\n",
       "        exports = savedexports;\n",
       "        module = savedmodule;\n",
       "        resolve();\n",
       "    };\n",
       "  var firstScriptTag = document.getElementsByTagName('script')[0];\n",
       "  firstScriptTag.parentNode.insertBefore(tag, firstScriptTag);\n",
       "});\n",
       "};\n",
       "\n",
       "if(typeof $3Dmolpromise === 'undefined') {\n",
       "$3Dmolpromise = null;\n",
       "  $3Dmolpromise = loadScriptAsync('https://cdnjs.cloudflare.com/ajax/libs/3Dmol/2.0.1/3Dmol-min.js');\n",
       "}\n",
       "\n",
       "var viewer_1684307521210827 = null;\n",
       "var warn = document.getElementById(\"3dmolwarning_1684307521210827\");\n",
       "if(warn) {\n",
       "    warn.parentNode.removeChild(warn);\n",
       "}\n",
       "$3Dmolpromise.then(function() {\n",
       "var viewergrid_1684307521210827 = null;\n",
       "viewergrid_1684307521210827 = $3Dmol.createViewerGrid(document.getElementById(\"3dmolviewer_1684307521210827\"),{rows: 1, cols: 1, control_all: false},{backgroundColor:\"white\"});\n",
       "viewer_1684307521210827 = viewergrid_1684307521210827[0][0];\n",
       "viewergrid_1684307521210827[0][0].zoomTo();\tviewergrid_1684307521210827[0][0].addModelsAsFrames(\"MODEL 0\\nHETATM    1 H    H2  A   1       0.000   0.000   0.000  1.00  0.00       B   H  \\nHETATM    2 H    H2  A   1       0.000   0.000   0.741  1.00  0.00       B   H  \\nHETATM    3 He   He  A   2       5.292   0.000   0.000  1.00  0.00       B  He  \\nENDMDL\\n\",\"pdb\",{\"keepH\": \"true\"});\n",
       "\tviewergrid_1684307521210827[0][0].setStyle({\"model\": -1},{\"line\": {\"color\": \"black\"}});\n",
       "\tviewergrid_1684307521210827[0][0].addModelsAsFrames(\"MODEL 0\\nHETATM    1 H    H2  A   1       0.000   0.000   0.000  1.00  0.00       B   H  \\nHETATM    2 H    H2  A   1       0.000   0.000   0.741  1.00  0.00       B   H  \\nHETATM    3 He   He  A   2       5.292   0.000   0.000  1.00  0.00       B  He  \\nENDMDL\\n\",\"pdb\",{\"keepH\": \"true\"});\n",
       "\tviewergrid_1684307521210827[0][0].setStyle({\"model\": -1, \"serial\": 1},{\"sphere\": {\"scale\": 0.2, \"color\": \"#FF0000\"}});\n",
       "\tviewergrid_1684307521210827[0][0].addModelsAsFrames(\"MODEL 0\\nHETATM    1 H    H2  A   1       0.000   0.000   0.000  1.00  0.00       B   H  \\nHETATM    2 H    H2  A   1       0.000   0.000   0.741  1.00  0.00       B   H  \\nHETATM    3 He   He  A   2       5.292   0.000   0.000  1.00  0.00       B  He  \\nENDMDL\\n\",\"pdb\",{\"keepH\": \"true\"});\n",
       "\tviewergrid_1684307521210827[0][0].setStyle({\"model\": -1, \"serial\": 2},{\"sphere\": {\"scale\": 0.2, \"color\": \"#FF0000\"}});\n",
       "\tviewergrid_1684307521210827[0][0].addModelsAsFrames(\"MODEL 0\\nHETATM    1 H    H2  A   1       0.000   0.000   0.000  1.00  0.00       B   H  \\nHETATM    2 H    H2  A   1       0.000   0.000   0.741  1.00  0.00       B   H  \\nHETATM    3 He   He  A   2       5.292   0.000   0.000  1.00  0.00       B  He  \\nENDMDL\\n\",\"pdb\",{\"keepH\": \"true\"});\n",
       "\tviewergrid_1684307521210827[0][0].setStyle({\"model\": -1},{\"line\": {\"color\": \"black\"}});\n",
       "\tviewergrid_1684307521210827[0][0].addModelsAsFrames(\"MODEL 0\\nHETATM    1 H    H2  A   1       0.000   0.000   0.000  1.00  0.00       B   H  \\nHETATM    2 H    H2  A   1       0.000   0.000   0.741  1.00  0.00       B   H  \\nHETATM    3 He   He  A   2       5.292   0.000   0.000  1.00  0.00       B  He  \\nENDMDL\\n\",\"pdb\",{\"keepH\": \"true\"});\n",
       "\tviewergrid_1684307521210827[0][0].setStyle({\"model\": -1, \"serial\": 3},{\"sphere\": {\"scale\": 0.2, \"color\": \"#7F00FF\"}});\n",
       "\tviewergrid_1684307521210827[0][0].addUnitCell({\"model\": -1},{\"box\": {\"color\": \"black\"}, \"alabel\": \"\", \"blabel\": \"\", \"clabel\": \"\"});\n",
       "\tviewergrid_1684307521210827[0][0].zoomTo();\n",
       "viewergrid_1684307521210827[0][0].render();\n",
       "});\n",
       "</script>"
      ]
     },
     "metadata": {},
     "output_type": "display_data"
    }
   ],
   "source": [
    "# NBVAL_IGNORE_OUTPUT\n",
    "viz = InlineVisualizer(400, 300)\n",
    "viz.display_system(sys)"
   ]
  },
  {
   "cell_type": "markdown",
   "id": "caring-timeline",
   "metadata": {},
   "source": [
    "## Calculation\n",
    "Calculate the created system using a grid spacing of $0.4$ and the PBE functional. A logfile is generated from which we can access the computed properties. This logfile has built in properties and can be accessed like a dictionary."
   ]
  },
  {
   "cell_type": "code",
   "execution_count": 5,
   "id": "acquired-headline",
   "metadata": {},
   "outputs": [],
   "source": [
    "from BigDFT.Inputfiles import Inputfile\n",
    "inp = Inputfile()\n",
    "inp.set_hgrid(0.4)\n",
    "inp.set_xc(\"PBE\")\n",
    "inp[\"perf\"] = {\"calculate_forces\": False,\n",
    "               \"multipole_preserving\": True}"
   ]
  },
  {
   "cell_type": "code",
   "execution_count": 6,
   "id": "decent-irish",
   "metadata": {},
   "outputs": [],
   "source": [
    "from BigDFT.Calculators import SystemCalculator\n",
    "calc = SystemCalculator(skip=True, verbose=False)"
   ]
  },
  {
   "cell_type": "code",
   "execution_count": 7,
   "id": "responsible-smoke",
   "metadata": {},
   "outputs": [],
   "source": [
    "log = calc.run(sys=sys, input=inp, name=\"quick\", run_dir=\"scratch\")"
   ]
  },
  {
   "cell_type": "code",
   "execution_count": 8,
   "id": "modified-romance",
   "metadata": {},
   "outputs": [
    {
     "name": "stdout",
     "output_type": "stream",
     "text": [
      "-4.053822554528733\n",
      "{'Peak Value (MB)': 123.207, 'for the array': 'f_i', 'in the routine': 'vxcpostprocessing', 'Memory Peak of process': 'unknown'}\n"
     ]
    }
   ],
   "source": [
    "print(log.energy)\n",
    "print(log.log[\"Memory Consumption Report\"]\n",
    "             [\"Memory occupation\"])"
   ]
  },
  {
   "cell_type": "markdown",
   "id": "worldwide-situation",
   "metadata": {},
   "source": [
    "## Periodic Systems\n",
    "We setup a BCC unit cell of iron and perform the calculation using a 2x2x2 k-point grid with a Monkhorst-Pack grid."
   ]
  },
  {
   "cell_type": "code",
   "execution_count": 9,
   "id": "champion-parliament",
   "metadata": {},
   "outputs": [],
   "source": [
    "from BigDFT.UnitCells import UnitCell"
   ]
  },
  {
   "cell_type": "code",
   "execution_count": 10,
   "id": "official-yellow",
   "metadata": {},
   "outputs": [],
   "source": [
    "pat = Atom({\"Fe\": [0, 0, 0], \"units\": \"angstroem\"})\n",
    "psys = System({\"CEL:0\": Fragment([pat])})\n",
    "psys.cell = UnitCell([2.867, 2.867, 2.867], units=\"angstroem\")"
   ]
  },
  {
   "cell_type": "code",
   "execution_count": 11,
   "id": "documented-recorder",
   "metadata": {},
   "outputs": [
    {
     "data": {
      "application/3dmoljs_load.v0": "<div id=\"3dmolviewer_1684307521645998\"  style=\"position: relative; width: 400px; height: 300px\">\n        <p id=\"3dmolwarning_1684307521645998\" style=\"background-color:#ffcccc;color:black\">You appear to be running in JupyterLab (or JavaScript failed to load for some other reason).  You need to install the 3dmol extension: <br>\n        <tt>jupyter labextension install jupyterlab_3dmol</tt></p>\n        </div>\n<script>\n\nvar loadScriptAsync = function(uri){\n  return new Promise((resolve, reject) => {\n    //this is to ignore the existence of requirejs amd\n    var savedexports, savedmodule;\n    if (typeof exports !== 'undefined') savedexports = exports;\n    else exports = {}\n    if (typeof module !== 'undefined') savedmodule = module;\n    else module = {}\n\n    var tag = document.createElement('script');\n    tag.src = uri;\n    tag.async = true;\n    tag.onload = () => {\n        exports = savedexports;\n        module = savedmodule;\n        resolve();\n    };\n  var firstScriptTag = document.getElementsByTagName('script')[0];\n  firstScriptTag.parentNode.insertBefore(tag, firstScriptTag);\n});\n};\n\nif(typeof $3Dmolpromise === 'undefined') {\n$3Dmolpromise = null;\n  $3Dmolpromise = loadScriptAsync('https://cdnjs.cloudflare.com/ajax/libs/3Dmol/2.0.1/3Dmol-min.js');\n}\n\nvar viewer_1684307521645998 = null;\nvar warn = document.getElementById(\"3dmolwarning_1684307521645998\");\nif(warn) {\n    warn.parentNode.removeChild(warn);\n}\n$3Dmolpromise.then(function() {\nvar viewergrid_1684307521645998 = null;\nviewergrid_1684307521645998 = $3Dmol.createViewerGrid(document.getElementById(\"3dmolviewer_1684307521645998\"),{rows: 1, cols: 1, control_all: false},{backgroundColor:\"white\"});\nviewer_1684307521645998 = viewergrid_1684307521645998[0][0];\nviewergrid_1684307521645998[0][0].zoomTo();\tviewergrid_1684307521645998[0][0].addModelsAsFrames(\"MODEL 0\\nCRYST1    2.867    2.867    2.867     90     90     90                          \\nHETATM    1 Fe   CEL A   0       0.000   0.000   0.000  1.00  0.00       B  Fe  \\nENDMDL\\n\",\"pdb\",{\"keepH\": \"true\"});\n\tviewergrid_1684307521645998[0][0].setStyle({\"model\": -1},{\"line\": {\"color\": \"black\"}});\n\tviewergrid_1684307521645998[0][0].addModelsAsFrames(\"MODEL 0\\nCRYST1    2.867    2.867    2.867     90     90     90                          \\nHETATM    1 Fe   CEL A   0       0.000   0.000   0.000  1.00  0.00       B  Fe  \\nENDMDL\\n\",\"pdb\",{\"keepH\": \"true\"});\n\tviewergrid_1684307521645998[0][0].setStyle({\"model\": -1, \"serial\": 1},{\"sphere\": {\"scale\": 0.2, \"color\": \"#7F00FF\"}});\n\tviewergrid_1684307521645998[0][0].addUnitCell({\"model\": -1},{\"box\": {\"color\": \"black\"}, \"alabel\": \"\", \"blabel\": \"\", \"clabel\": \"\"});\n\tviewergrid_1684307521645998[0][0].zoomTo();\nviewergrid_1684307521645998[0][0].render();\n});\n</script>",
      "text/html": [
       "<div id=\"3dmolviewer_1684307521645998\"  style=\"position: relative; width: 400px; height: 300px\">\n",
       "        <p id=\"3dmolwarning_1684307521645998\" style=\"background-color:#ffcccc;color:black\">You appear to be running in JupyterLab (or JavaScript failed to load for some other reason).  You need to install the 3dmol extension: <br>\n",
       "        <tt>jupyter labextension install jupyterlab_3dmol</tt></p>\n",
       "        </div>\n",
       "<script>\n",
       "\n",
       "var loadScriptAsync = function(uri){\n",
       "  return new Promise((resolve, reject) => {\n",
       "    //this is to ignore the existence of requirejs amd\n",
       "    var savedexports, savedmodule;\n",
       "    if (typeof exports !== 'undefined') savedexports = exports;\n",
       "    else exports = {}\n",
       "    if (typeof module !== 'undefined') savedmodule = module;\n",
       "    else module = {}\n",
       "\n",
       "    var tag = document.createElement('script');\n",
       "    tag.src = uri;\n",
       "    tag.async = true;\n",
       "    tag.onload = () => {\n",
       "        exports = savedexports;\n",
       "        module = savedmodule;\n",
       "        resolve();\n",
       "    };\n",
       "  var firstScriptTag = document.getElementsByTagName('script')[0];\n",
       "  firstScriptTag.parentNode.insertBefore(tag, firstScriptTag);\n",
       "});\n",
       "};\n",
       "\n",
       "if(typeof $3Dmolpromise === 'undefined') {\n",
       "$3Dmolpromise = null;\n",
       "  $3Dmolpromise = loadScriptAsync('https://cdnjs.cloudflare.com/ajax/libs/3Dmol/2.0.1/3Dmol-min.js');\n",
       "}\n",
       "\n",
       "var viewer_1684307521645998 = null;\n",
       "var warn = document.getElementById(\"3dmolwarning_1684307521645998\");\n",
       "if(warn) {\n",
       "    warn.parentNode.removeChild(warn);\n",
       "}\n",
       "$3Dmolpromise.then(function() {\n",
       "var viewergrid_1684307521645998 = null;\n",
       "viewergrid_1684307521645998 = $3Dmol.createViewerGrid(document.getElementById(\"3dmolviewer_1684307521645998\"),{rows: 1, cols: 1, control_all: false},{backgroundColor:\"white\"});\n",
       "viewer_1684307521645998 = viewergrid_1684307521645998[0][0];\n",
       "viewergrid_1684307521645998[0][0].zoomTo();\tviewergrid_1684307521645998[0][0].addModelsAsFrames(\"MODEL 0\\nCRYST1    2.867    2.867    2.867     90     90     90                          \\nHETATM    1 Fe   CEL A   0       0.000   0.000   0.000  1.00  0.00       B  Fe  \\nENDMDL\\n\",\"pdb\",{\"keepH\": \"true\"});\n",
       "\tviewergrid_1684307521645998[0][0].setStyle({\"model\": -1},{\"line\": {\"color\": \"black\"}});\n",
       "\tviewergrid_1684307521645998[0][0].addModelsAsFrames(\"MODEL 0\\nCRYST1    2.867    2.867    2.867     90     90     90                          \\nHETATM    1 Fe   CEL A   0       0.000   0.000   0.000  1.00  0.00       B  Fe  \\nENDMDL\\n\",\"pdb\",{\"keepH\": \"true\"});\n",
       "\tviewergrid_1684307521645998[0][0].setStyle({\"model\": -1, \"serial\": 1},{\"sphere\": {\"scale\": 0.2, \"color\": \"#7F00FF\"}});\n",
       "\tviewergrid_1684307521645998[0][0].addUnitCell({\"model\": -1},{\"box\": {\"color\": \"black\"}, \"alabel\": \"\", \"blabel\": \"\", \"clabel\": \"\"});\n",
       "\tviewergrid_1684307521645998[0][0].zoomTo();\n",
       "viewergrid_1684307521645998[0][0].render();\n",
       "});\n",
       "</script>"
      ]
     },
     "metadata": {},
     "output_type": "display_data"
    }
   ],
   "source": [
    "# NBVAL_IGNORE_OUTPUT\n",
    "viz = InlineVisualizer(400, 300)\n",
    "viz.display_system(psys)"
   ]
  },
  {
   "cell_type": "code",
   "execution_count": 12,
   "id": "tracked-honey",
   "metadata": {},
   "outputs": [],
   "source": [
    "inp = Inputfile()\n",
    "inp.set_hgrid(0.3)\n",
    "inp.set_xc(\"LDA\")\n",
    "inp[\"kpt\"] = {\"method\": \"mpgrid\", \"ngkpt\": [2, 2, 2]}"
   ]
  },
  {
   "cell_type": "code",
   "execution_count": 13,
   "id": "buried-tolerance",
   "metadata": {},
   "outputs": [],
   "source": [
    "log = calc.run(sys=psys, input=inp, name=\"psys\", run_dir=\"scratch\")"
   ]
  },
  {
   "cell_type": "code",
   "execution_count": 14,
   "id": "sunrise-interim",
   "metadata": {},
   "outputs": [
    {
     "data": {
      "image/png": "[encoded data removed]",
      "text/plain": [
       "<Figure size 640x480 with 1 Axes>"
      ]
     },
     "metadata": {},
     "output_type": "display_data"
    }
   ],
   "source": [
    "# NBVAL_IGNORE_OUTPUT\n",
    "_ = log.get_dos().plot()"
   ]
  },
  {
   "cell_type": "markdown",
   "id": "aging-extraction",
   "metadata": {},
   "source": [
    "## File I/O\n",
    "Read and write a PDB file."
   ]
  },
  {
   "cell_type": "code",
   "execution_count": 15,
   "id": "informed-joyce",
   "metadata": {},
   "outputs": [],
   "source": [
    "from BigDFT.IO import read_pdb, write_pdb"
   ]
  },
  {
   "cell_type": "code",
   "execution_count": 16,
   "id": "uniform-theory",
   "metadata": {},
   "outputs": [],
   "source": [
    "with open(\"scratch/temp.pdb\", \"w\") as ofile:\n",
    "    write_pdb(sys, ofile)\n",
    "with open(\"scratch/temp.pdb\", \"r\") as ifile:\n",
    "    sys = read_pdb(ifile)"
   ]
  },
  {
   "cell_type": "markdown",
   "id": "tracked-dialogue",
   "metadata": {},
   "source": [
    "## Linear Scaling\n",
    "Activate the linear scaling mode of BigDFT and compute some per fragment quantities."
   ]
  },
  {
   "cell_type": "code",
   "execution_count": 17,
   "id": "intended-yugoslavia",
   "metadata": {},
   "outputs": [],
   "source": [
    "from BigDFT.PostProcessing import BigDFTool\n",
    "from BigDFT.IO import read_mol2\n",
    "from io import StringIO\n",
    "from matplotlib import pyplot as plt\n",
    "from BigDFT.Systems import plot_fragment_information"
   ]
  },
  {
   "cell_type": "code",
   "execution_count": 18,
   "id": "varied-passion",
   "metadata": {},
   "outputs": [],
   "source": [
    "inp = Inputfile()\n",
    "inp.set_hgrid(0.55)\n",
    "inp.set_psp_nlcc()  # Soft pseudopotentials\n",
    "inp.set_xc(\"PBE\")\n",
    "inp[\"import\"] = \"linear\""
   ]
  },
  {
   "cell_type": "code",
   "execution_count": 19,
   "id": "expected-panel",
   "metadata": {},
   "outputs": [],
   "source": [
    "istr = \"\"\"@<TRIPOS>MOLECULE\n",
    "N3\n",
    " 48 0 0 0 0\n",
    "SMALL\n",
    "GASTEIGER\n",
    "\n",
    "@<TRIPOS>ATOM\n",
    "      1  N        -15.9520   11.4820   75.1020 N.4     1  ALA         0.3855\n",
    "      2  H        -16.8590   11.1760   75.4220 H       1  ALA        -0.0890\n",
    "      3  H2       -15.9190   12.4910   75.1350 H       1  ALA        -0.0890\n",
    "      4  H3       -15.3270   11.2070   75.8460 H       1  ALA        -0.0890\n",
    "      5  CA       -15.6750   10.9380   73.6710 C.3     1  ALA        -0.0080\n",
    "      6  HA       -15.5000    9.8640   73.7340 H       1  ALA         0.0175\n",
    "      7  CB       -16.9370   11.1850   72.9780 C.3     1  ALA        -0.0702\n",
    "      8  HB1      -16.8760   10.8330   71.9480 H       1  ALA         0.0218\n",
    "      9  HB2      -17.7950   10.7240   73.4660 H       1  ALA         0.0218\n",
    "     10  HB3      -17.0660   12.2620   72.8690 H       1  ALA         0.0218\n",
    "     11  C        -14.3150   11.5090   73.1160 C.2     1  ALA         0.1989\n",
    "     12  O        -13.5240   11.9470   73.9260 O.2     1  ALA        -0.2776\n",
    "     13  N        -14.0770   11.2840   71.7960 N.am    2  VAL        -0.3051\n",
    "     14  H        -14.7740   10.8610   71.1990 H       2  VAL         0.1494\n",
    "     15  CA       -12.9310   11.8890   71.0690 C.3     2  VAL         0.1016\n",
    "     16  HA       -12.1370   12.1190   71.7800 H       2  VAL         0.0597\n",
    "     17  CB       -12.2680   10.8300   70.1710 C.3     2  VAL        -0.0197\n",
    "     18  HB       -13.0570   10.2210   69.7300 H       2  VAL         0.0318\n",
    "     19  CG1      -11.2730   11.3540   69.0870 C.3     2  VAL        -0.0605\n",
    "     20 HG11      -10.7560   10.5590   68.5490 H       2  VAL         0.0233\n",
    "     21 HG12      -11.7530   11.9770   68.3320 H       2  VAL         0.0233\n",
    "     22 HG13      -10.5100   11.8940   69.6470 H       2  VAL         0.0233\n",
    "     23  CG2      -11.4480    9.8090   70.9840 C.3     2  VAL        -0.0605\n",
    "     24 HG21      -11.9590    9.4330   71.8700 H       2  VAL         0.0233\n",
    "     25 HG22      -11.3140    8.9080   70.3860 H       2  VAL         0.0233\n",
    "     26 HG23      -10.4970   10.2560   71.2750 H       2  VAL         0.0233\n",
    "     27  C        -13.2980   13.1490   70.4060 C.2     2  VAL         0.2342\n",
    "     28  O        -14.1940   13.1280   69.5820 O.2     2  VAL        -0.2738\n",
    "     29  N        -12.5920   14.2640   70.6930 N.am    3  LEU        -0.3007\n",
    "     30  H        -11.8060   14.2210   71.3260 H       3  LEU         0.1496\n",
    "     31  CA       -12.8570   15.7250   70.2250 C.3     3  LEU         0.1249\n",
    "     32  HA       -13.7770   15.8070   69.6470 H       3  LEU         0.0616\n",
    "     33  CB       -12.9890   16.4610   71.5050 C.3     3  LEU        -0.0216\n",
    "     34  HB2      -12.3120   16.1130   72.2850 H       3  LEU         0.0291\n",
    "     35  HB3      -12.7420   17.5000   71.2880 H       3  LEU         0.0291\n",
    "     36  CG       -14.4560   16.4840   72.0620 C.3     3  LEU        -0.0445\n",
    "     37  HG       -15.0910   16.5870   71.1830 H       3  LEU         0.0296\n",
    "     38  CD1      -14.9030   15.1850   72.7940 C.3     3  LEU        -0.0626\n",
    "     39 HD11      -15.9610   15.3610   72.9910 H       3  LEU         0.0232\n",
    "     40 HD12      -14.8720   14.2770   72.1920 H       3  LEU         0.0232\n",
    "     41 HD13      -14.2220   15.0500   73.6340 H       3  LEU         0.0232\n",
    "     42  CD2      -14.5970   17.6630   72.9710 C.3     3  LEU        -0.0626\n",
    "     43 HD21      -15.6450   17.5910   73.2620 H       3  LEU         0.0232\n",
    "     44 HD22      -13.9320   17.5610   73.8280 H       3  LEU         0.0232\n",
    "     45 HD23      -14.3580   18.5620   72.4040 H       3  LEU         0.0232\n",
    "     46  C        -11.7070   16.2810   69.3360 C.2     3  LEU         0.3758\n",
    "     47  O        -10.5210   15.8410   69.5920 O.co2   3  LEU        -0.2443\n",
    "     48  OXT      -11.9460   17.0960   68.3940 O.co2   3  LEU        -0.2443\n",
    "\"\"\"\n",
    "Lsys = read_mol2(StringIO(istr))"
   ]
  },
  {
   "cell_type": "code",
   "execution_count": 20,
   "id": "asian-soundtrack",
   "metadata": {},
   "outputs": [],
   "source": [
    "log = calc.run(sys=Lsys, input=inp, name=\"Lsys\", run_dir=\"scratch\")"
   ]
  },
  {
   "cell_type": "code",
   "execution_count": 21,
   "id": "native-giving",
   "metadata": {},
   "outputs": [
    {
     "data": {
      "image/png": "[encoded data removed]",
      "text/plain": [
       "<Figure size 640x480 with 2 Axes>"
      ]
     },
     "metadata": {},
     "output_type": "display_data"
    }
   ],
   "source": [
    "# NBVAL_IGNORE_OUTPUT\n",
    "fig, axs = plt.subplots(2, 1)\n",
    "btool = BigDFTool()\n",
    "plot_fragment_information(axs[0], btool.fragment_population(Lsys, log))\n",
    "axs[0].set_ylabel(\"Charge\", fontsize=12)\n",
    "axs[0].set_xticks([])\n",
    "axs[0].set_xlabel(\"\")\n",
    "plot_fragment_information(axs[1], btool.run_compute_purity(Lsys, log))\n",
    "axs[1].set_ylabel(\"Purity\", fontsize=12)\n",
    "fig.tight_layout()"
   ]
  },
  {
   "cell_type": "markdown",
   "id": "453874a3",
   "metadata": {},
   "source": [
    "## Remote Calculations\n",
    "Calculations of large systems require the use of powerful supercomputers. One way to run on a supercomputer is to write a python script (or convert a Jupyter notebook), copy the script and related data to the machine, and run the calculation through the job system. As an alternative, we have developed the [remotemanager](https://ljbeal.gitlab.io/remotemanager/) framework for automatically launching your jobs. It works by wrapping arbitrary python functions that are then sent and run on the remote machine."
   ]
  },
  {
   "cell_type": "code",
   "execution_count": 22,
   "id": "fe0429c4",
   "metadata": {},
   "outputs": [],
   "source": [
    "def calculate(hgrid):\n",
    "    from BigDFT.Calculators import SystemCalculator\n",
    "    from BigDFT.Inputfiles import Inputfile\n",
    "    from BigDFT.IO import read_xyz\n",
    "    from io import StringIO\n",
    "    \n",
    "    istr = \"\"\"2 angstroemd0\n",
    "free\n",
    "N 0.0000 0.0000 0.5488 \n",
    "N 0.0000 0.0000 -0.5488 \"\"\"\n",
    "    sys = read_xyz(StringIO(istr))\n",
    "\n",
    "    inp = Inputfile()\n",
    "    inp.set_hgrid(hgrid)\n",
    "    calc = SystemCalculator()\n",
    "    log = calc.run(sys=sys, input=inp, name=str(hgrid))\n",
    "    \n",
    "    return log.energy"
   ]
  },
  {
   "cell_type": "code",
   "execution_count": 23,
   "id": "0f238966",
   "metadata": {},
   "outputs": [
    {
     "name": "stdout",
     "output_type": "stream",
     "text": [
      "runner runner-3 already exists\n",
      "runner runner-3 already exists\n",
      "runner runner-3 already exists\n",
      "assessing run for runner dataset-0b06167e-runner-0... skipping already completed run\n",
      "assessing run for runner dataset-0b06167e-runner-1... skipping already completed run\n",
      "assessing run for runner dataset-0b06167e-runner-2... skipping already completed run\n"
     ]
    }
   ],
   "source": [
    "from remotemanager import URL  # Replace this with the computer of your choice\n",
    "from remotemanager import Dataset  # Store a set of remote calculations\n",
    "url = URL()\n",
    "ds = Dataset(function=calculate, url=url)\n",
    "for h in [0.3, 0.35, 0.4]:\n",
    "    ds.append_run({\"hgrid\": h})\n",
    "ds.run()"
   ]
  },
  {
   "cell_type": "code",
   "execution_count": 24,
   "id": "46bdb1d9",
   "metadata": {},
   "outputs": [
    {
     "name": "stdout",
     "output_type": "stream",
     "text": [
      "checking remotely for finished runs\n",
      "checking remotely for finished runs\n",
      "[-19.888866344196096, -19.888459196244888, -19.88727486068828]\n"
     ]
    }
   ],
   "source": [
    "from time import sleep\n",
    "while not all(ds.is_finished):\n",
    "    sleep(10)\n",
    "ds.fetch_results()\n",
    "print(ds.results)"
   ]
  },
  {
   "cell_type": "markdown",
   "id": "240dd4fc",
   "metadata": {},
   "source": [
    "For simpler runs, you can use Jupyter magics for the same effect."
   ]
  },
  {
   "cell_type": "code",
   "execution_count": 25,
   "id": "24e88acd",
   "metadata": {},
   "outputs": [],
   "source": [
    "%load_ext remotemanager"
   ]
  },
  {
   "cell_type": "code",
   "execution_count": 26,
   "id": "7456772a",
   "metadata": {},
   "outputs": [
    {
     "name": "stdout",
     "output_type": "stream",
     "text": [
      "runner runner-1 already exists\n",
      "assessing run for runner dataset-469c350d-runner-0... skipping already completed run\n",
      "checking remotely for finished runs\n"
     ]
    }
   ],
   "source": [
    "%%sanzu url=url\n",
    "%%sargs hgrid = 0.35\n",
    "from BigDFT.Logfiles import Logfile\n",
    "log = Logfile(\"log-\" + str(hgrid) + \".yaml\")\n",
    "log.log[\"Memory Consumption Report\"][\"Memory occupation\"]"
   ]
  },
  {
   "cell_type": "code",
   "execution_count": 27,
   "id": "e61a6925",
   "metadata": {},
   "outputs": [
    {
     "name": "stdout",
     "output_type": "stream",
     "text": [
      "[{'Peak Value (MB)': 101.461, 'for the array': 'zt', 'in the routine': 'G_PoissonSolver', 'Memory Peak of process': 'unknown'}]\n"
     ]
    }
   ],
   "source": [
    "print(magic_dataset.results)"
   ]
  }
 ],
 "metadata": {
  "kernelspec": {
   "display_name": "Python 3 (ipykernel)",
   "language": "python",
   "name": "python3"
  },
  "language_info": {
   "codemirror_mode": {
    "name": "ipython",
    "version": 3
   },
   "file_extension": ".py",
   "mimetype": "text/x-python",
   "name": "python",
   "nbconvert_exporter": "python",
   "pygments_lexer": "ipython3",
   "version": "3.11.0"
  }
 },
 "nbformat": 4,
 "nbformat_minor": 5
}
