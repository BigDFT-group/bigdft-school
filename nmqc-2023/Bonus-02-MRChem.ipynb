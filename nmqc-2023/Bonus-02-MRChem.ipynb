{
 "cells": [
  {
   "cell_type": "markdown",
   "id": "62419522",
   "metadata": {},
   "source": [
    "# MRChem Interoperability\n",
    "Since both [mrchem](https://mrchem.readthedocs.io/en/latest/) and BigDFT use wavelets, it might be useful to combine them in a calculation workflow. You can do this reasonably transparently with PyBigDFT."
   ]
  },
  {
   "cell_type": "code",
   "execution_count": 1,
   "id": "49886ea9",
   "metadata": {},
   "outputs": [],
   "source": [
    "from BigDFT.Database.Molecules import get_molecule\n",
    "sys = get_molecule(\"H2O\")"
   ]
  },
  {
   "cell_type": "markdown",
   "id": "554113d3",
   "metadata": {},
   "source": [
    "Input files are defined so that we can generate a json input file for mrchem."
   ]
  },
  {
   "cell_type": "code",
   "execution_count": 2,
   "id": "4716f158",
   "metadata": {},
   "outputs": [],
   "source": [
    "inp = {}\n",
    "inp[\"WaveFunction\"] = {\"method\": \"PBE\"}\n",
    "inp[\"world_prec\"] = 1.0e-2"
   ]
  },
  {
   "cell_type": "markdown",
   "id": "35f498a8",
   "metadata": {},
   "source": [
    "Run a calculator that looks like a BigDFT calculator."
   ]
  },
  {
   "cell_type": "code",
   "execution_count": 3,
   "id": "3c4a8fb3",
   "metadata": {
    "scrolled": true
   },
   "outputs": [
    {
     "name": "stdout",
     "output_type": "stream",
     "text": [
      "Initialize a Calculator with OMP_NUM_THREADS=2 and command mpirun -np 1 mrchem\n",
      "Run directory scr\n",
      "Executing command:  echo \"skip\"\n",
      "skip\n"
     ]
    }
   ],
   "source": [
    "from BigDFT.Interop.MRChemInterop import MRChemCalculator\n",
    "code = MRChemCalculator(mpi_run=\"mpirun -np 1\", skip=True)\n",
    "log = code.run(sys=sys, input=inp, run_dir=\"scr\", name=\"test\")"
   ]
  },
  {
   "cell_type": "markdown",
   "id": "83b13b6b",
   "metadata": {},
   "source": [
    "Access a BigDFT style logfile."
   ]
  },
  {
   "cell_type": "code",
   "execution_count": 4,
   "id": "4d873a0a",
   "metadata": {},
   "outputs": [
    {
     "name": "stdout",
     "output_type": "stream",
     "text": [
      "-76.05125263487123\n",
      "{'E_ee': 46.881640226746455, 'E_eext': 0.0, 'E_el': -85.24078639780613, 'E_en': -199.90119066210846, 'E_kin': 77.04766938541403, 'E_next': 0.0, 'E_nn': 9.189533762934902, 'E_nuc': 9.189533762934902, 'E_tot': -76.05125263487123, 'E_x': 0.0, 'E_xc': -9.268905347858148, 'Er_el': 0.0, 'Er_nuc': 0.0, 'Er_tot': 0.0}\n"
     ]
    }
   ],
   "source": [
    "print(log.energy)\n",
    "print(log[\"output\"][\"properties\"][\"scf_energy\"])"
   ]
  }
 ],
 "metadata": {
  "kernelspec": {
   "display_name": "Python 3 (ipykernel)",
   "language": "python",
   "name": "python3"
  },
  "language_info": {
   "codemirror_mode": {
    "name": "ipython",
    "version": 3
   },
   "file_extension": ".py",
   "mimetype": "text/x-python",
   "name": "python",
   "nbconvert_exporter": "python",
   "pygments_lexer": "ipython3",
   "version": "3.11.0"
  }
 },
 "nbformat": 4,
 "nbformat_minor": 5
}
