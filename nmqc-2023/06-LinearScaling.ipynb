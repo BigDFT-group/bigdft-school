{
 "cells": [
  {
   "cell_type": "markdown",
   "metadata": {
    "id": "-psQNxjEQqjP"
   },
   "source": [
    "# Linear Scaling BigDFT: Beyond Default Parameters\n",
    "\n",
    "In this notebook, we will explore some of the capabilites and behaviour of linear scaling BigDFT, going beyond the default parameters from the ```import: linear``` profile, using the example of glycine.\n",
    "\n",
    "This tutorial assumes that you are familiar with the basics of PyBigDFT and BigDFT, as well as the quick start linear scaling tutorial."
   ]
  },
  {
   "cell_type": "markdown",
   "metadata": {
    "id": "Ijd0-yZPQqjU"
   },
   "source": [
    "## Support Function Parameters\n",
    "\n",
    "### Cubic vs Linear\n",
    "\n",
    "Previously, we saw how to run linear scaling (LS) BigDFT, now let's see how the results compare to cubic scaling (CS) BigDFT. For this tutorial, we will take the example of glycine. Let's read in and visualise the system."
   ]
  },
  {
   "cell_type": "code",
   "execution_count": null,
   "metadata": {
    "cellView": "form",
    "id": "Lyc0_kDvQuuL"
   },
   "outputs": [],
   "source": [
    "install = \"client (Google drive)\" #@param [\"full_suite\", \"client (Google drive)\", \"client\"]\n",
    "install_var=install\n",
    "!wget https://gitlab.com/luigigenovese/bigdft-school/-/raw/main/packaging/install.py &> /dev/null\n",
    "args={'locally': True} if install == 'client' else {}\n",
    "import install\n",
    "getattr(install,install_var.split()[0])(**args)"
   ]
  },
  {
   "cell_type": "code",
   "execution_count": null,
   "metadata": {
    "id": "-OtGojvdQ-r1"
   },
   "outputs": [],
   "source": [
    "install.data('data/ls_data.tar.gz')"
   ]
  },
  {
   "cell_type": "code",
   "execution_count": 3,
   "metadata": {
    "colab": {
     "base_uri": "https://localhost:8080/",
     "height": 317
    },
    "id": "7vg-Z7t9QqjV",
    "outputId": "6b7fc2be-de04-4f30-b5ea-fbc26970f4d9"
   },
   "outputs": [
    {
     "data": {
      "application/3dmoljs_load.v0": "<div id=\"3dmolviewer_16637842437302969\"  style=\"position: relative; width: 300px; height: 300px\">\n        <p id=\"3dmolwarning_16637842437302969\" style=\"background-color:#ffcccc;color:black\">You appear to be running in JupyterLab (or JavaScript failed to load for some other reason).  You need to install the 3dmol extension: <br>\n        <tt>jupyter labextension install jupyterlab_3dmol</tt></p>\n        </div>\n<script>\n\nvar loadScriptAsync = function(uri){\n  return new Promise((resolve, reject) => {\n    var tag = document.createElement('script');\n    tag.src = uri;\n    tag.async = true;\n    tag.onload = () => {\n      resolve();\n    };\n  var firstScriptTag = document.getElementsByTagName('script')[0];\n  firstScriptTag.parentNode.insertBefore(tag, firstScriptTag);\n});\n};\n\nif(typeof $3Dmolpromise === 'undefined') {\n$3Dmolpromise = null;\n  $3Dmolpromise = loadScriptAsync('https://cdn.jsdelivr.net/npm/3dmol@latest/build/3Dmol-min.min.js');\n}\n\nvar viewer_16637842437302969 = null;\nvar warn = document.getElementById(\"3dmolwarning_16637842437302969\");\nif(warn) {\n    warn.parentNode.removeChild(warn);\n}\n$3Dmolpromise.then(function() {\nvar viewergrid_16637842437302969 = null;\nviewergrid_16637842437302969 = $3Dmol.createViewerGrid($(\"#3dmolviewer_16637842437302969\"),{rows: 1, cols: 1, control_all: false},{backgroundColor:\"white\"});\nviewer_16637842437302969 = viewergrid_16637842437302969[0][0];\nviewergrid_16637842437302969[0][0].zoomTo();\tviewergrid_16637842437302969[0][0].addModelsAsFrames(\"MODEL 0\\nHETATM    1 C    FRA A   0       0.707  -0.033   0.012  1.00  0.00       B   C  \\nHETATM    2 C    FRA A   0      -0.624  -0.802  -0.004  1.00  0.00       B   C  \\nHETATM    3 O    FRA A   0       0.541   1.304  -0.055  1.00  0.00       B   O  \\nHETATM    4 O    FRA A   0       1.784  -0.585   0.066  1.00  0.00       B   O  \\nHETATM    5 N    FRA A   0      -1.774   0.119   0.019  1.00  0.00       B   N  \\nHETATM    6 H    FRA A   0      -2.368   0.018  -0.801  1.00  0.00       B   H  \\nHETATM    7 H    FRA A   0      -0.616  -1.431  -0.905  1.00  0.00       B   H  \\nHETATM    8 H    FRA A   0      -2.355  -0.013   0.844  1.00  0.00       B   H  \\nHETATM    9 H    FRA A   0      -0.617  -1.487   0.855  1.00  0.00       B   H  \\nHETATM   10 H    FRA A   0      -0.455   1.412  -0.032  1.00  0.00       B   H  \\nENDMDL\\n\",\"pdb\",{\"keepH\": \"true\"});\n\tviewergrid_16637842437302969[0][0].setStyle({\"model\": -1},{\"line\": {\"color\": \"black\"}});\n\tviewergrid_16637842437302969[0][0].addModelsAsFrames(\"MODEL 0\\nHETATM    1 C    FRA A   0       0.707  -0.033   0.012  1.00  0.00       B   C  \\nHETATM    2 C    FRA A   0      -0.624  -0.802  -0.004  1.00  0.00       B   C  \\nHETATM    3 O    FRA A   0       0.541   1.304  -0.055  1.00  0.00       B   O  \\nHETATM    4 O    FRA A   0       1.784  -0.585   0.066  1.00  0.00       B   O  \\nHETATM    5 N    FRA A   0      -1.774   0.119   0.019  1.00  0.00       B   N  \\nHETATM    6 H    FRA A   0      -2.368   0.018  -0.801  1.00  0.00       B   H  \\nHETATM    7 H    FRA A   0      -0.616  -1.431  -0.905  1.00  0.00       B   H  \\nHETATM    8 H    FRA A   0      -2.355  -0.013   0.844  1.00  0.00       B   H  \\nHETATM    9 H    FRA A   0      -0.617  -1.487   0.855  1.00  0.00       B   H  \\nHETATM   10 H    FRA A   0      -0.455   1.412  -0.032  1.00  0.00       B   H  \\nENDMDL\\n\",\"pdb\",{\"keepH\": \"true\"});\n\tviewergrid_16637842437302969[0][0].setStyle({\"model\": -1, \"serial\": 1},{\"sphere\": {\"scale\": 0.2, \"color\": \"#7F00FF\"}});\n\tviewergrid_16637842437302969[0][0].addModelsAsFrames(\"MODEL 0\\nHETATM    1 C    FRA A   0       0.707  -0.033   0.012  1.00  0.00       B   C  \\nHETATM    2 C    FRA A   0      -0.624  -0.802  -0.004  1.00  0.00       B   C  \\nHETATM    3 O    FRA A   0       0.541   1.304  -0.055  1.00  0.00       B   O  \\nHETATM    4 O    FRA A   0       1.784  -0.585   0.066  1.00  0.00       B   O  \\nHETATM    5 N    FRA A   0      -1.774   0.119   0.019  1.00  0.00       B   N  \\nHETATM    6 H    FRA A   0      -2.368   0.018  -0.801  1.00  0.00       B   H  \\nHETATM    7 H    FRA A   0      -0.616  -1.431  -0.905  1.00  0.00       B   H  \\nHETATM    8 H    FRA A   0      -2.355  -0.013   0.844  1.00  0.00       B   H  \\nHETATM    9 H    FRA A   0      -0.617  -1.487   0.855  1.00  0.00       B   H  \\nHETATM   10 H    FRA A   0      -0.455   1.412  -0.032  1.00  0.00       B   H  \\nENDMDL\\n\",\"pdb\",{\"keepH\": \"true\"});\n\tviewergrid_16637842437302969[0][0].setStyle({\"model\": -1, \"serial\": 2},{\"sphere\": {\"scale\": 0.2, \"color\": \"#7F00FF\"}});\n\tviewergrid_16637842437302969[0][0].addModelsAsFrames(\"MODEL 0\\nHETATM    1 C    FRA A   0       0.707  -0.033   0.012  1.00  0.00       B   C  \\nHETATM    2 C    FRA A   0      -0.624  -0.802  -0.004  1.00  0.00       B   C  \\nHETATM    3 O    FRA A   0       0.541   1.304  -0.055  1.00  0.00       B   O  \\nHETATM    4 O    FRA A   0       1.784  -0.585   0.066  1.00  0.00       B   O  \\nHETATM    5 N    FRA A   0      -1.774   0.119   0.019  1.00  0.00       B   N  \\nHETATM    6 H    FRA A   0      -2.368   0.018  -0.801  1.00  0.00       B   H  \\nHETATM    7 H    FRA A   0      -0.616  -1.431  -0.905  1.00  0.00       B   H  \\nHETATM    8 H    FRA A   0      -2.355  -0.013   0.844  1.00  0.00       B   H  \\nHETATM    9 H    FRA A   0      -0.617  -1.487   0.855  1.00  0.00       B   H  \\nHETATM   10 H    FRA A   0      -0.455   1.412  -0.032  1.00  0.00       B   H  \\nENDMDL\\n\",\"pdb\",{\"keepH\": \"true\"});\n\tviewergrid_16637842437302969[0][0].setStyle({\"model\": -1, \"serial\": 3},{\"sphere\": {\"scale\": 0.2, \"color\": \"#7F00FF\"}});\n\tviewergrid_16637842437302969[0][0].addModelsAsFrames(\"MODEL 0\\nHETATM    1 C    FRA A   0       0.707  -0.033   0.012  1.00  0.00       B   C  \\nHETATM    2 C    FRA A   0      -0.624  -0.802  -0.004  1.00  0.00       B   C  \\nHETATM    3 O    FRA A   0       0.541   1.304  -0.055  1.00  0.00       B   O  \\nHETATM    4 O    FRA A   0       1.784  -0.585   0.066  1.00  0.00       B   O  \\nHETATM    5 N    FRA A   0      -1.774   0.119   0.019  1.00  0.00       B   N  \\nHETATM    6 H    FRA A   0      -2.368   0.018  -0.801  1.00  0.00       B   H  \\nHETATM    7 H    FRA A   0      -0.616  -1.431  -0.905  1.00  0.00       B   H  \\nHETATM    8 H    FRA A   0      -2.355  -0.013   0.844  1.00  0.00       B   H  \\nHETATM    9 H    FRA A   0      -0.617  -1.487   0.855  1.00  0.00       B   H  \\nHETATM   10 H    FRA A   0      -0.455   1.412  -0.032  1.00  0.00       B   H  \\nENDMDL\\n\",\"pdb\",{\"keepH\": \"true\"});\n\tviewergrid_16637842437302969[0][0].setStyle({\"model\": -1, \"serial\": 4},{\"sphere\": {\"scale\": 0.2, \"color\": \"#7F00FF\"}});\n\tviewergrid_16637842437302969[0][0].addModelsAsFrames(\"MODEL 0\\nHETATM    1 C    FRA A   0       0.707  -0.033   0.012  1.00  0.00       B   C  \\nHETATM    2 C    FRA A   0      -0.624  -0.802  -0.004  1.00  0.00       B   C  \\nHETATM    3 O    FRA A   0       0.541   1.304  -0.055  1.00  0.00       B   O  \\nHETATM    4 O    FRA A   0       1.784  -0.585   0.066  1.00  0.00       B   O  \\nHETATM    5 N    FRA A   0      -1.774   0.119   0.019  1.00  0.00       B   N  \\nHETATM    6 H    FRA A   0      -2.368   0.018  -0.801  1.00  0.00       B   H  \\nHETATM    7 H    FRA A   0      -0.616  -1.431  -0.905  1.00  0.00       B   H  \\nHETATM    8 H    FRA A   0      -2.355  -0.013   0.844  1.00  0.00       B   H  \\nHETATM    9 H    FRA A   0      -0.617  -1.487   0.855  1.00  0.00       B   H  \\nHETATM   10 H    FRA A   0      -0.455   1.412  -0.032  1.00  0.00       B   H  \\nENDMDL\\n\",\"pdb\",{\"keepH\": \"true\"});\n\tviewergrid_16637842437302969[0][0].setStyle({\"model\": -1, \"serial\": 5},{\"sphere\": {\"scale\": 0.2, \"color\": \"#7F00FF\"}});\n\tviewergrid_16637842437302969[0][0].addModelsAsFrames(\"MODEL 0\\nHETATM    1 C    FRA A   0       0.707  -0.033   0.012  1.00  0.00       B   C  \\nHETATM    2 C    FRA A   0      -0.624  -0.802  -0.004  1.00  0.00       B   C  \\nHETATM    3 O    FRA A   0       0.541   1.304  -0.055  1.00  0.00       B   O  \\nHETATM    4 O    FRA A   0       1.784  -0.585   0.066  1.00  0.00       B   O  \\nHETATM    5 N    FRA A   0      -1.774   0.119   0.019  1.00  0.00       B   N  \\nHETATM    6 H    FRA A   0      -2.368   0.018  -0.801  1.00  0.00       B   H  \\nHETATM    7 H    FRA A   0      -0.616  -1.431  -0.905  1.00  0.00       B   H  \\nHETATM    8 H    FRA A   0      -2.355  -0.013   0.844  1.00  0.00       B   H  \\nHETATM    9 H    FRA A   0      -0.617  -1.487   0.855  1.00  0.00       B   H  \\nHETATM   10 H    FRA A   0      -0.455   1.412  -0.032  1.00  0.00       B   H  \\nENDMDL\\n\",\"pdb\",{\"keepH\": \"true\"});\n\tviewergrid_16637842437302969[0][0].setStyle({\"model\": -1, \"serial\": 6},{\"sphere\": {\"scale\": 0.2, \"color\": \"#7F00FF\"}});\n\tviewergrid_16637842437302969[0][0].addModelsAsFrames(\"MODEL 0\\nHETATM    1 C    FRA A   0       0.707  -0.033   0.012  1.00  0.00       B   C  \\nHETATM    2 C    FRA A   0      -0.624  -0.802  -0.004  1.00  0.00       B   C  \\nHETATM    3 O    FRA A   0       0.541   1.304  -0.055  1.00  0.00       B   O  \\nHETATM    4 O    FRA A   0       1.784  -0.585   0.066  1.00  0.00       B   O  \\nHETATM    5 N    FRA A   0      -1.774   0.119   0.019  1.00  0.00       B   N  \\nHETATM    6 H    FRA A   0      -2.368   0.018  -0.801  1.00  0.00       B   H  \\nHETATM    7 H    FRA A   0      -0.616  -1.431  -0.905  1.00  0.00       B   H  \\nHETATM    8 H    FRA A   0      -2.355  -0.013   0.844  1.00  0.00       B   H  \\nHETATM    9 H    FRA A   0      -0.617  -1.487   0.855  1.00  0.00       B   H  \\nHETATM   10 H    FRA A   0      -0.455   1.412  -0.032  1.00  0.00       B   H  \\nENDMDL\\n\",\"pdb\",{\"keepH\": \"true\"});\n\tviewergrid_16637842437302969[0][0].setStyle({\"model\": -1, \"serial\": 7},{\"sphere\": {\"scale\": 0.2, \"color\": \"#7F00FF\"}});\n\tviewergrid_16637842437302969[0][0].addModelsAsFrames(\"MODEL 0\\nHETATM    1 C    FRA A   0       0.707  -0.033   0.012  1.00  0.00       B   C  \\nHETATM    2 C    FRA A   0      -0.624  -0.802  -0.004  1.00  0.00       B   C  \\nHETATM    3 O    FRA A   0       0.541   1.304  -0.055  1.00  0.00       B   O  \\nHETATM    4 O    FRA A   0       1.784  -0.585   0.066  1.00  0.00       B   O  \\nHETATM    5 N    FRA A   0      -1.774   0.119   0.019  1.00  0.00       B   N  \\nHETATM    6 H    FRA A   0      -2.368   0.018  -0.801  1.00  0.00       B   H  \\nHETATM    7 H    FRA A   0      -0.616  -1.431  -0.905  1.00  0.00       B   H  \\nHETATM    8 H    FRA A   0      -2.355  -0.013   0.844  1.00  0.00       B   H  \\nHETATM    9 H    FRA A   0      -0.617  -1.487   0.855  1.00  0.00       B   H  \\nHETATM   10 H    FRA A   0      -0.455   1.412  -0.032  1.00  0.00       B   H  \\nENDMDL\\n\",\"pdb\",{\"keepH\": \"true\"});\n\tviewergrid_16637842437302969[0][0].setStyle({\"model\": -1, \"serial\": 8},{\"sphere\": {\"scale\": 0.2, \"color\": \"#7F00FF\"}});\n\tviewergrid_16637842437302969[0][0].addModelsAsFrames(\"MODEL 0\\nHETATM    1 C    FRA A   0       0.707  -0.033   0.012  1.00  0.00       B   C  \\nHETATM    2 C    FRA A   0      -0.624  -0.802  -0.004  1.00  0.00       B   C  \\nHETATM    3 O    FRA A   0       0.541   1.304  -0.055  1.00  0.00       B   O  \\nHETATM    4 O    FRA A   0       1.784  -0.585   0.066  1.00  0.00       B   O  \\nHETATM    5 N    FRA A   0      -1.774   0.119   0.019  1.00  0.00       B   N  \\nHETATM    6 H    FRA A   0      -2.368   0.018  -0.801  1.00  0.00       B   H  \\nHETATM    7 H    FRA A   0      -0.616  -1.431  -0.905  1.00  0.00       B   H  \\nHETATM    8 H    FRA A   0      -2.355  -0.013   0.844  1.00  0.00       B   H  \\nHETATM    9 H    FRA A   0      -0.617  -1.487   0.855  1.00  0.00       B   H  \\nHETATM   10 H    FRA A   0      -0.455   1.412  -0.032  1.00  0.00       B   H  \\nENDMDL\\n\",\"pdb\",{\"keepH\": \"true\"});\n\tviewergrid_16637842437302969[0][0].setStyle({\"model\": -1, \"serial\": 9},{\"sphere\": {\"scale\": 0.2, \"color\": \"#7F00FF\"}});\n\tviewergrid_16637842437302969[0][0].addModelsAsFrames(\"MODEL 0\\nHETATM    1 C    FRA A   0       0.707  -0.033   0.012  1.00  0.00       B   C  \\nHETATM    2 C    FRA A   0      -0.624  -0.802  -0.004  1.00  0.00       B   C  \\nHETATM    3 O    FRA A   0       0.541   1.304  -0.055  1.00  0.00       B   O  \\nHETATM    4 O    FRA A   0       1.784  -0.585   0.066  1.00  0.00       B   O  \\nHETATM    5 N    FRA A   0      -1.774   0.119   0.019  1.00  0.00       B   N  \\nHETATM    6 H    FRA A   0      -2.368   0.018  -0.801  1.00  0.00       B   H  \\nHETATM    7 H    FRA A   0      -0.616  -1.431  -0.905  1.00  0.00       B   H  \\nHETATM    8 H    FRA A   0      -2.355  -0.013   0.844  1.00  0.00       B   H  \\nHETATM    9 H    FRA A   0      -0.617  -1.487   0.855  1.00  0.00       B   H  \\nHETATM   10 H    FRA A   0      -0.455   1.412  -0.032  1.00  0.00       B   H  \\nENDMDL\\n\",\"pdb\",{\"keepH\": \"true\"});\n\tviewergrid_16637842437302969[0][0].setStyle({\"model\": -1, \"serial\": 10},{\"sphere\": {\"scale\": 0.2, \"color\": \"#7F00FF\"}});\n\tviewergrid_16637842437302969[0][0].addUnitCell({\"model\": -1},{\"box\": {\"color\": \"black\"}, \"alabel\": \"\", \"blabel\": \"\", \"clabel\": \"\"});\n\tviewergrid_16637842437302969[0][0].zoomTo();\n\tviewergrid_16637842437302969[0][0].zoom(1.5);\nviewergrid_16637842437302969[0][0].render();\n});\n</script>",
      "text/html": [
       "<div id=\"3dmolviewer_16637842437302969\"  style=\"position: relative; width: 300px; height: 300px\">\n",
       "        <p id=\"3dmolwarning_16637842437302969\" style=\"background-color:#ffcccc;color:black\">You appear to be running in JupyterLab (or JavaScript failed to load for some other reason).  You need to install the 3dmol extension: <br>\n",
       "        <tt>jupyter labextension install jupyterlab_3dmol</tt></p>\n",
       "        </div>\n",
       "<script>\n",
       "\n",
       "var loadScriptAsync = function(uri){\n",
       "  return new Promise((resolve, reject) => {\n",
       "    var tag = document.createElement('script');\n",
       "    tag.src = uri;\n",
       "    tag.async = true;\n",
       "    tag.onload = () => {\n",
       "      resolve();\n",
       "    };\n",
       "  var firstScriptTag = document.getElementsByTagName('script')[0];\n",
       "  firstScriptTag.parentNode.insertBefore(tag, firstScriptTag);\n",
       "});\n",
       "};\n",
       "\n",
       "if(typeof $3Dmolpromise === 'undefined') {\n",
       "$3Dmolpromise = null;\n",
       "  $3Dmolpromise = loadScriptAsync('https://cdn.jsdelivr.net/npm/3dmol@latest/build/3Dmol-min.min.js');\n",
       "}\n",
       "\n",
       "var viewer_16637842437302969 = null;\n",
       "var warn = document.getElementById(\"3dmolwarning_16637842437302969\");\n",
       "if(warn) {\n",
       "    warn.parentNode.removeChild(warn);\n",
       "}\n",
       "$3Dmolpromise.then(function() {\n",
       "var viewergrid_16637842437302969 = null;\n",
       "viewergrid_16637842437302969 = $3Dmol.createViewerGrid($(\"#3dmolviewer_16637842437302969\"),{rows: 1, cols: 1, control_all: false},{backgroundColor:\"white\"});\n",
       "viewer_16637842437302969 = viewergrid_16637842437302969[0][0];\n",
       "viewergrid_16637842437302969[0][0].zoomTo();\tviewergrid_16637842437302969[0][0].addModelsAsFrames(\"MODEL 0\\nHETATM    1 C    FRA A   0       0.707  -0.033   0.012  1.00  0.00       B   C  \\nHETATM    2 C    FRA A   0      -0.624  -0.802  -0.004  1.00  0.00       B   C  \\nHETATM    3 O    FRA A   0       0.541   1.304  -0.055  1.00  0.00       B   O  \\nHETATM    4 O    FRA A   0       1.784  -0.585   0.066  1.00  0.00       B   O  \\nHETATM    5 N    FRA A   0      -1.774   0.119   0.019  1.00  0.00       B   N  \\nHETATM    6 H    FRA A   0      -2.368   0.018  -0.801  1.00  0.00       B   H  \\nHETATM    7 H    FRA A   0      -0.616  -1.431  -0.905  1.00  0.00       B   H  \\nHETATM    8 H    FRA A   0      -2.355  -0.013   0.844  1.00  0.00       B   H  \\nHETATM    9 H    FRA A   0      -0.617  -1.487   0.855  1.00  0.00       B   H  \\nHETATM   10 H    FRA A   0      -0.455   1.412  -0.032  1.00  0.00       B   H  \\nENDMDL\\n\",\"pdb\",{\"keepH\": \"true\"});\n",
       "\tviewergrid_16637842437302969[0][0].setStyle({\"model\": -1},{\"line\": {\"color\": \"black\"}});\n",
       "\tviewergrid_16637842437302969[0][0].addModelsAsFrames(\"MODEL 0\\nHETATM    1 C    FRA A   0       0.707  -0.033   0.012  1.00  0.00       B   C  \\nHETATM    2 C    FRA A   0      -0.624  -0.802  -0.004  1.00  0.00       B   C  \\nHETATM    3 O    FRA A   0       0.541   1.304  -0.055  1.00  0.00       B   O  \\nHETATM    4 O    FRA A   0       1.784  -0.585   0.066  1.00  0.00       B   O  \\nHETATM    5 N    FRA A   0      -1.774   0.119   0.019  1.00  0.00       B   N  \\nHETATM    6 H    FRA A   0      -2.368   0.018  -0.801  1.00  0.00       B   H  \\nHETATM    7 H    FRA A   0      -0.616  -1.431  -0.905  1.00  0.00       B   H  \\nHETATM    8 H    FRA A   0      -2.355  -0.013   0.844  1.00  0.00       B   H  \\nHETATM    9 H    FRA A   0      -0.617  -1.487   0.855  1.00  0.00       B   H  \\nHETATM   10 H    FRA A   0      -0.455   1.412  -0.032  1.00  0.00       B   H  \\nENDMDL\\n\",\"pdb\",{\"keepH\": \"true\"});\n",
       "\tviewergrid_16637842437302969[0][0].setStyle({\"model\": -1, \"serial\": 1},{\"sphere\": {\"scale\": 0.2, \"color\": \"#7F00FF\"}});\n",
       "\tviewergrid_16637842437302969[0][0].addModelsAsFrames(\"MODEL 0\\nHETATM    1 C    FRA A   0       0.707  -0.033   0.012  1.00  0.00       B   C  \\nHETATM    2 C    FRA A   0      -0.624  -0.802  -0.004  1.00  0.00       B   C  \\nHETATM    3 O    FRA A   0       0.541   1.304  -0.055  1.00  0.00       B   O  \\nHETATM    4 O    FRA A   0       1.784  -0.585   0.066  1.00  0.00       B   O  \\nHETATM    5 N    FRA A   0      -1.774   0.119   0.019  1.00  0.00       B   N  \\nHETATM    6 H    FRA A   0      -2.368   0.018  -0.801  1.00  0.00       B   H  \\nHETATM    7 H    FRA A   0      -0.616  -1.431  -0.905  1.00  0.00       B   H  \\nHETATM    8 H    FRA A   0      -2.355  -0.013   0.844  1.00  0.00       B   H  \\nHETATM    9 H    FRA A   0      -0.617  -1.487   0.855  1.00  0.00       B   H  \\nHETATM   10 H    FRA A   0      -0.455   1.412  -0.032  1.00  0.00       B   H  \\nENDMDL\\n\",\"pdb\",{\"keepH\": \"true\"});\n",
       "\tviewergrid_16637842437302969[0][0].setStyle({\"model\": -1, \"serial\": 2},{\"sphere\": {\"scale\": 0.2, \"color\": \"#7F00FF\"}});\n",
       "\tviewergrid_16637842437302969[0][0].addModelsAsFrames(\"MODEL 0\\nHETATM    1 C    FRA A   0       0.707  -0.033   0.012  1.00  0.00       B   C  \\nHETATM    2 C    FRA A   0      -0.624  -0.802  -0.004  1.00  0.00       B   C  \\nHETATM    3 O    FRA A   0       0.541   1.304  -0.055  1.00  0.00       B   O  \\nHETATM    4 O    FRA A   0       1.784  -0.585   0.066  1.00  0.00       B   O  \\nHETATM    5 N    FRA A   0      -1.774   0.119   0.019  1.00  0.00       B   N  \\nHETATM    6 H    FRA A   0      -2.368   0.018  -0.801  1.00  0.00       B   H  \\nHETATM    7 H    FRA A   0      -0.616  -1.431  -0.905  1.00  0.00       B   H  \\nHETATM    8 H    FRA A   0      -2.355  -0.013   0.844  1.00  0.00       B   H  \\nHETATM    9 H    FRA A   0      -0.617  -1.487   0.855  1.00  0.00       B   H  \\nHETATM   10 H    FRA A   0      -0.455   1.412  -0.032  1.00  0.00       B   H  \\nENDMDL\\n\",\"pdb\",{\"keepH\": \"true\"});\n",
       "\tviewergrid_16637842437302969[0][0].setStyle({\"model\": -1, \"serial\": 3},{\"sphere\": {\"scale\": 0.2, \"color\": \"#7F00FF\"}});\n",
       "\tviewergrid_16637842437302969[0][0].addModelsAsFrames(\"MODEL 0\\nHETATM    1 C    FRA A   0       0.707  -0.033   0.012  1.00  0.00       B   C  \\nHETATM    2 C    FRA A   0      -0.624  -0.802  -0.004  1.00  0.00       B   C  \\nHETATM    3 O    FRA A   0       0.541   1.304  -0.055  1.00  0.00       B   O  \\nHETATM    4 O    FRA A   0       1.784  -0.585   0.066  1.00  0.00       B   O  \\nHETATM    5 N    FRA A   0      -1.774   0.119   0.019  1.00  0.00       B   N  \\nHETATM    6 H    FRA A   0      -2.368   0.018  -0.801  1.00  0.00       B   H  \\nHETATM    7 H    FRA A   0      -0.616  -1.431  -0.905  1.00  0.00       B   H  \\nHETATM    8 H    FRA A   0      -2.355  -0.013   0.844  1.00  0.00       B   H  \\nHETATM    9 H    FRA A   0      -0.617  -1.487   0.855  1.00  0.00       B   H  \\nHETATM   10 H    FRA A   0      -0.455   1.412  -0.032  1.00  0.00       B   H  \\nENDMDL\\n\",\"pdb\",{\"keepH\": \"true\"});\n",
       "\tviewergrid_16637842437302969[0][0].setStyle({\"model\": -1, \"serial\": 4},{\"sphere\": {\"scale\": 0.2, \"color\": \"#7F00FF\"}});\n",
       "\tviewergrid_16637842437302969[0][0].addModelsAsFrames(\"MODEL 0\\nHETATM    1 C    FRA A   0       0.707  -0.033   0.012  1.00  0.00       B   C  \\nHETATM    2 C    FRA A   0      -0.624  -0.802  -0.004  1.00  0.00       B   C  \\nHETATM    3 O    FRA A   0       0.541   1.304  -0.055  1.00  0.00       B   O  \\nHETATM    4 O    FRA A   0       1.784  -0.585   0.066  1.00  0.00       B   O  \\nHETATM    5 N    FRA A   0      -1.774   0.119   0.019  1.00  0.00       B   N  \\nHETATM    6 H    FRA A   0      -2.368   0.018  -0.801  1.00  0.00       B   H  \\nHETATM    7 H    FRA A   0      -0.616  -1.431  -0.905  1.00  0.00       B   H  \\nHETATM    8 H    FRA A   0      -2.355  -0.013   0.844  1.00  0.00       B   H  \\nHETATM    9 H    FRA A   0      -0.617  -1.487   0.855  1.00  0.00       B   H  \\nHETATM   10 H    FRA A   0      -0.455   1.412  -0.032  1.00  0.00       B   H  \\nENDMDL\\n\",\"pdb\",{\"keepH\": \"true\"});\n",
       "\tviewergrid_16637842437302969[0][0].setStyle({\"model\": -1, \"serial\": 5},{\"sphere\": {\"scale\": 0.2, \"color\": \"#7F00FF\"}});\n",
       "\tviewergrid_16637842437302969[0][0].addModelsAsFrames(\"MODEL 0\\nHETATM    1 C    FRA A   0       0.707  -0.033   0.012  1.00  0.00       B   C  \\nHETATM    2 C    FRA A   0      -0.624  -0.802  -0.004  1.00  0.00       B   C  \\nHETATM    3 O    FRA A   0       0.541   1.304  -0.055  1.00  0.00       B   O  \\nHETATM    4 O    FRA A   0       1.784  -0.585   0.066  1.00  0.00       B   O  \\nHETATM    5 N    FRA A   0      -1.774   0.119   0.019  1.00  0.00       B   N  \\nHETATM    6 H    FRA A   0      -2.368   0.018  -0.801  1.00  0.00       B   H  \\nHETATM    7 H    FRA A   0      -0.616  -1.431  -0.905  1.00  0.00       B   H  \\nHETATM    8 H    FRA A   0      -2.355  -0.013   0.844  1.00  0.00       B   H  \\nHETATM    9 H    FRA A   0      -0.617  -1.487   0.855  1.00  0.00       B   H  \\nHETATM   10 H    FRA A   0      -0.455   1.412  -0.032  1.00  0.00       B   H  \\nENDMDL\\n\",\"pdb\",{\"keepH\": \"true\"});\n",
       "\tviewergrid_16637842437302969[0][0].setStyle({\"model\": -1, \"serial\": 6},{\"sphere\": {\"scale\": 0.2, \"color\": \"#7F00FF\"}});\n",
       "\tviewergrid_16637842437302969[0][0].addModelsAsFrames(\"MODEL 0\\nHETATM    1 C    FRA A   0       0.707  -0.033   0.012  1.00  0.00       B   C  \\nHETATM    2 C    FRA A   0      -0.624  -0.802  -0.004  1.00  0.00       B   C  \\nHETATM    3 O    FRA A   0       0.541   1.304  -0.055  1.00  0.00       B   O  \\nHETATM    4 O    FRA A   0       1.784  -0.585   0.066  1.00  0.00       B   O  \\nHETATM    5 N    FRA A   0      -1.774   0.119   0.019  1.00  0.00       B   N  \\nHETATM    6 H    FRA A   0      -2.368   0.018  -0.801  1.00  0.00       B   H  \\nHETATM    7 H    FRA A   0      -0.616  -1.431  -0.905  1.00  0.00       B   H  \\nHETATM    8 H    FRA A   0      -2.355  -0.013   0.844  1.00  0.00       B   H  \\nHETATM    9 H    FRA A   0      -0.617  -1.487   0.855  1.00  0.00       B   H  \\nHETATM   10 H    FRA A   0      -0.455   1.412  -0.032  1.00  0.00       B   H  \\nENDMDL\\n\",\"pdb\",{\"keepH\": \"true\"});\n",
       "\tviewergrid_16637842437302969[0][0].setStyle({\"model\": -1, \"serial\": 7},{\"sphere\": {\"scale\": 0.2, \"color\": \"#7F00FF\"}});\n",
       "\tviewergrid_16637842437302969[0][0].addModelsAsFrames(\"MODEL 0\\nHETATM    1 C    FRA A   0       0.707  -0.033   0.012  1.00  0.00       B   C  \\nHETATM    2 C    FRA A   0      -0.624  -0.802  -0.004  1.00  0.00       B   C  \\nHETATM    3 O    FRA A   0       0.541   1.304  -0.055  1.00  0.00       B   O  \\nHETATM    4 O    FRA A   0       1.784  -0.585   0.066  1.00  0.00       B   O  \\nHETATM    5 N    FRA A   0      -1.774   0.119   0.019  1.00  0.00       B   N  \\nHETATM    6 H    FRA A   0      -2.368   0.018  -0.801  1.00  0.00       B   H  \\nHETATM    7 H    FRA A   0      -0.616  -1.431  -0.905  1.00  0.00       B   H  \\nHETATM    8 H    FRA A   0      -2.355  -0.013   0.844  1.00  0.00       B   H  \\nHETATM    9 H    FRA A   0      -0.617  -1.487   0.855  1.00  0.00       B   H  \\nHETATM   10 H    FRA A   0      -0.455   1.412  -0.032  1.00  0.00       B   H  \\nENDMDL\\n\",\"pdb\",{\"keepH\": \"true\"});\n",
       "\tviewergrid_16637842437302969[0][0].setStyle({\"model\": -1, \"serial\": 8},{\"sphere\": {\"scale\": 0.2, \"color\": \"#7F00FF\"}});\n",
       "\tviewergrid_16637842437302969[0][0].addModelsAsFrames(\"MODEL 0\\nHETATM    1 C    FRA A   0       0.707  -0.033   0.012  1.00  0.00       B   C  \\nHETATM    2 C    FRA A   0      -0.624  -0.802  -0.004  1.00  0.00       B   C  \\nHETATM    3 O    FRA A   0       0.541   1.304  -0.055  1.00  0.00       B   O  \\nHETATM    4 O    FRA A   0       1.784  -0.585   0.066  1.00  0.00       B   O  \\nHETATM    5 N    FRA A   0      -1.774   0.119   0.019  1.00  0.00       B   N  \\nHETATM    6 H    FRA A   0      -2.368   0.018  -0.801  1.00  0.00       B   H  \\nHETATM    7 H    FRA A   0      -0.616  -1.431  -0.905  1.00  0.00       B   H  \\nHETATM    8 H    FRA A   0      -2.355  -0.013   0.844  1.00  0.00       B   H  \\nHETATM    9 H    FRA A   0      -0.617  -1.487   0.855  1.00  0.00       B   H  \\nHETATM   10 H    FRA A   0      -0.455   1.412  -0.032  1.00  0.00       B   H  \\nENDMDL\\n\",\"pdb\",{\"keepH\": \"true\"});\n",
       "\tviewergrid_16637842437302969[0][0].setStyle({\"model\": -1, \"serial\": 9},{\"sphere\": {\"scale\": 0.2, \"color\": \"#7F00FF\"}});\n",
       "\tviewergrid_16637842437302969[0][0].addModelsAsFrames(\"MODEL 0\\nHETATM    1 C    FRA A   0       0.707  -0.033   0.012  1.00  0.00       B   C  \\nHETATM    2 C    FRA A   0      -0.624  -0.802  -0.004  1.00  0.00       B   C  \\nHETATM    3 O    FRA A   0       0.541   1.304  -0.055  1.00  0.00       B   O  \\nHETATM    4 O    FRA A   0       1.784  -0.585   0.066  1.00  0.00       B   O  \\nHETATM    5 N    FRA A   0      -1.774   0.119   0.019  1.00  0.00       B   N  \\nHETATM    6 H    FRA A   0      -2.368   0.018  -0.801  1.00  0.00       B   H  \\nHETATM    7 H    FRA A   0      -0.616  -1.431  -0.905  1.00  0.00       B   H  \\nHETATM    8 H    FRA A   0      -2.355  -0.013   0.844  1.00  0.00       B   H  \\nHETATM    9 H    FRA A   0      -0.617  -1.487   0.855  1.00  0.00       B   H  \\nHETATM   10 H    FRA A   0      -0.455   1.412  -0.032  1.00  0.00       B   H  \\nENDMDL\\n\",\"pdb\",{\"keepH\": \"true\"});\n",
       "\tviewergrid_16637842437302969[0][0].setStyle({\"model\": -1, \"serial\": 10},{\"sphere\": {\"scale\": 0.2, \"color\": \"#7F00FF\"}});\n",
       "\tviewergrid_16637842437302969[0][0].addUnitCell({\"model\": -1},{\"box\": {\"color\": \"black\"}, \"alabel\": \"\", \"blabel\": \"\", \"clabel\": \"\"});\n",
       "\tviewergrid_16637842437302969[0][0].zoomTo();\n",
       "\tviewergrid_16637842437302969[0][0].zoom(1.5);\n",
       "viewergrid_16637842437302969[0][0].render();\n",
       "});\n",
       "</script>"
      ]
     },
     "metadata": {},
     "output_type": "display_data"
    }
   ],
   "source": [
    "from BigDFT.Visualization import InlineVisualizer\n",
    "from BigDFT.Systems import System\n",
    "from BigDFT.IO import read_xyz\n",
    "\n",
    "# first we read in the molecule\n",
    "name = 'glycine1'\n",
    "ifile = open(name+'.xyz')\n",
    "# we aren't going to use fragments for this tutorial, so we will read in the system as a single fragment\n",
    "gly1 = read_xyz(ifile, fragmentation='single')\n",
    "ifile.close()\n",
    "\n",
    "# then we can visualise it\n",
    "viz = InlineVisualizer(300, 300)\n",
    "viz.display_system(gly1, zoom=1.5)"
   ]
  },
  {
   "cell_type": "markdown",
   "metadata": {
    "id": "d8DWRzMQQqjX"
   },
   "source": [
    "Now let's set up our cubic and linear scaling input files, using the default linear profile as before."
   ]
  },
  {
   "cell_type": "code",
   "execution_count": 4,
   "metadata": {
    "id": "rOWruYjUQqjY"
   },
   "outputs": [],
   "source": [
    "from BigDFT.Inputfiles import Inputfile\n",
    "\n",
    "inpc = Inputfile()\n",
    "inpl = Inputfile()\n",
    "\n",
    "for inp in [inpc, inpl]:\n",
    "    inp.set_hgrid(0.5)\n",
    "    inp.set_psp_nlcc()\n",
    "    inp.set_xc(\"PBE\")\n",
    "\n",
    "inpl[\"import\"] = \"linear\""
   ]
  },
  {
   "cell_type": "markdown",
   "metadata": {
    "id": "ihBRlEG9QqjY"
   },
   "source": [
    "And now let's setup the BigDFT calculator and run both calculations.\n",
    "\n",
    "**Pay attention**: In dry-run mode, the run timings are written in the existing logfiles"
   ]
  },
  {
   "cell_type": "code",
   "execution_count": 5,
   "metadata": {
    "colab": {
     "base_uri": "https://localhost:8080/"
    },
    "id": "Z5rCd3IjQqjZ",
    "outputId": "91f1f313-34fc-4676-9e2d-10adc83329a5"
   },
   "outputs": [
    {
     "name": "stdout",
     "output_type": "stream",
     "text": [
      "Cubic scaling calculation took 0.1 minutes, E = -161.852 eV/atom\n",
      "Linear scaling calculation took 1.1 minutes, E = -161.816 eV/atom, E_linear - E_cubic = 35.5 meV/atom\n"
     ]
    }
   ],
   "source": [
    "from BigDFT.Calculators import SystemCalculator\n",
    "\n",
    "Ha2eV = 27.211396132\n",
    "\n",
    "calc = SystemCalculator(omp=2, mpi_run='mpirun -n 2', skip=True, verbose=False)\n",
    "\n",
    "run_cubic = calc.run(input=inpc, name=name+'_cubic', posinp=name+'.xyz')\n",
    "cubic_energy = Ha2eV * run_cubic.energy / run_cubic.nat\n",
    "cubic_time = run_cubic.log['Timings for root process']['Elapsed time (s)'] / 60.0   \n",
    "\n",
    "print('Cubic scaling calculation took '+'{0:.1f}'.format(cubic_time)+' minutes, E = '+\\\n",
    "      '{0:.3f}'.format(cubic_energy)+' eV/atom')\n",
    "\n",
    "run_linear = calc.run(input=inpl, name=name+'_linear', posinp=name+'.xyz')\n",
    "linear_energy = Ha2eV * run_linear.energy / run_linear.nat\n",
    "linear_time = run_linear.log['Timings for root process']['Elapsed time (s)'] / 60.0   \n",
    "                    \n",
    "print('Linear scaling calculation took '+'{0:.1f}'.format(linear_time)+' minutes, E = '+\\\n",
    "      '{0:.3f}'.format(linear_energy)+' eV/atom, E_linear - E_cubic = '+\\\n",
    "      '{0:.1f}'.format(1000.0 * (linear_energy - cubic_energy))+' meV/atom')"
   ]
  },
  {
   "cell_type": "markdown",
   "metadata": {
    "id": "g4P9YswAQqja"
   },
   "source": [
    "Here we can notice two things:\n",
    "- The LS calculation takes much longer than the CS calculation. This is because the system is well below the crossover point.\n",
    "- The LS calculation has a higher energy than the CS calculation. \n",
    "\n",
    "However, the absolute energy difference is not very informative, so let's try running a different conformer of glycine, and see how the _relative_ energies compare.\n",
    "\n",
    "First let's visualise the two conformers side by side, so we can see the differences."
   ]
  },
  {
   "cell_type": "code",
   "execution_count": 6,
   "metadata": {
    "colab": {
     "base_uri": "https://localhost:8080/",
     "height": 317
    },
    "id": "dG5EKg9aQqjb",
    "outputId": "4e5a8145-d299-484a-b97d-4265b18e7b0b"
   },
   "outputs": [
    {
     "data": {
      "application/3dmoljs_load.v0": "<div id=\"3dmolviewer_1663784333999396\"  style=\"position: relative; width: 600px; height: 300px\">\n        <p id=\"3dmolwarning_1663784333999396\" style=\"background-color:#ffcccc;color:black\">You appear to be running in JupyterLab (or JavaScript failed to load for some other reason).  You need to install the 3dmol extension: <br>\n        <tt>jupyter labextension install jupyterlab_3dmol</tt></p>\n        </div>\n<script>\n\nvar loadScriptAsync = function(uri){\n  return new Promise((resolve, reject) => {\n    var tag = document.createElement('script');\n    tag.src = uri;\n    tag.async = true;\n    tag.onload = () => {\n      resolve();\n    };\n  var firstScriptTag = document.getElementsByTagName('script')[0];\n  firstScriptTag.parentNode.insertBefore(tag, firstScriptTag);\n});\n};\n\nif(typeof $3Dmolpromise === 'undefined') {\n$3Dmolpromise = null;\n  $3Dmolpromise = loadScriptAsync('https://cdn.jsdelivr.net/npm/3dmol@latest/build/3Dmol-min.min.js');\n}\n\nvar viewer_1663784333999396 = null;\nvar warn = document.getElementById(\"3dmolwarning_1663784333999396\");\nif(warn) {\n    warn.parentNode.removeChild(warn);\n}\n$3Dmolpromise.then(function() {\nvar viewergrid_1663784333999396 = null;\nviewergrid_1663784333999396 = $3Dmol.createViewerGrid($(\"#3dmolviewer_1663784333999396\"),{rows: 1, cols: 2, control_all: false},{backgroundColor:\"white\"});\nviewer_1663784333999396 = viewergrid_1663784333999396[0][0];\nviewergrid_1663784333999396[0][0].zoomTo();viewergrid_1663784333999396[0][1].zoomTo();\tviewergrid_1663784333999396[0][0].removeAllModels();\n\tviewergrid_1663784333999396[0][0].addModelsAsFrames(\"MODEL 0\\nHETATM    1 C    FRA A   0       0.707  -0.033   0.012  1.00  0.00       B   C  \\nHETATM    2 C    FRA A   0      -0.624  -0.802  -0.004  1.00  0.00       B   C  \\nHETATM    3 O    FRA A   0       0.541   1.304  -0.055  1.00  0.00       B   O  \\nHETATM    4 O    FRA A   0       1.784  -0.585   0.066  1.00  0.00       B   O  \\nHETATM    5 N    FRA A   0      -1.774   0.119   0.019  1.00  0.00       B   N  \\nHETATM    6 H    FRA A   0      -2.368   0.018  -0.801  1.00  0.00       B   H  \\nHETATM    7 H    FRA A   0      -0.616  -1.431  -0.905  1.00  0.00       B   H  \\nHETATM    8 H    FRA A   0      -2.355  -0.013   0.844  1.00  0.00       B   H  \\nHETATM    9 H    FRA A   0      -0.617  -1.487   0.855  1.00  0.00       B   H  \\nHETATM   10 H    FRA A   0      -0.455   1.412  -0.032  1.00  0.00       B   H  \\nENDMDL\\n\",\"pdb\",{\"keepH\": \"true\"});\n\tviewergrid_1663784333999396[0][0].setStyle({\"model\": -1},{\"line\": {\"color\": \"black\"}});\n\tviewergrid_1663784333999396[0][0].addModelsAsFrames(\"MODEL 0\\nHETATM    1 C    FRA A   0       0.707  -0.033   0.012  1.00  0.00       B   C  \\nHETATM    2 C    FRA A   0      -0.624  -0.802  -0.004  1.00  0.00       B   C  \\nHETATM    3 O    FRA A   0       0.541   1.304  -0.055  1.00  0.00       B   O  \\nHETATM    4 O    FRA A   0       1.784  -0.585   0.066  1.00  0.00       B   O  \\nHETATM    5 N    FRA A   0      -1.774   0.119   0.019  1.00  0.00       B   N  \\nHETATM    6 H    FRA A   0      -2.368   0.018  -0.801  1.00  0.00       B   H  \\nHETATM    7 H    FRA A   0      -0.616  -1.431  -0.905  1.00  0.00       B   H  \\nHETATM    8 H    FRA A   0      -2.355  -0.013   0.844  1.00  0.00       B   H  \\nHETATM    9 H    FRA A   0      -0.617  -1.487   0.855  1.00  0.00       B   H  \\nHETATM   10 H    FRA A   0      -0.455   1.412  -0.032  1.00  0.00       B   H  \\nENDMDL\\n\",\"pdb\",{\"keepH\": \"true\"});\n\tviewergrid_1663784333999396[0][0].setStyle({\"model\": -1, \"serial\": 1},{\"sphere\": {\"scale\": 0.2, \"color\": \"#FF0000\"}});\n\tviewergrid_1663784333999396[0][0].addModelsAsFrames(\"MODEL 0\\nHETATM    1 C    FRA A   0       0.707  -0.033   0.012  1.00  0.00       B   C  \\nHETATM    2 C    FRA A   0      -0.624  -0.802  -0.004  1.00  0.00       B   C  \\nHETATM    3 O    FRA A   0       0.541   1.304  -0.055  1.00  0.00       B   O  \\nHETATM    4 O    FRA A   0       1.784  -0.585   0.066  1.00  0.00       B   O  \\nHETATM    5 N    FRA A   0      -1.774   0.119   0.019  1.00  0.00       B   N  \\nHETATM    6 H    FRA A   0      -2.368   0.018  -0.801  1.00  0.00       B   H  \\nHETATM    7 H    FRA A   0      -0.616  -1.431  -0.905  1.00  0.00       B   H  \\nHETATM    8 H    FRA A   0      -2.355  -0.013   0.844  1.00  0.00       B   H  \\nHETATM    9 H    FRA A   0      -0.617  -1.487   0.855  1.00  0.00       B   H  \\nHETATM   10 H    FRA A   0      -0.455   1.412  -0.032  1.00  0.00       B   H  \\nENDMDL\\n\",\"pdb\",{\"keepH\": \"true\"});\n\tviewergrid_1663784333999396[0][0].setStyle({\"model\": -1, \"serial\": 2},{\"sphere\": {\"scale\": 0.2, \"color\": \"#FF0000\"}});\n\tviewergrid_1663784333999396[0][0].addModelsAsFrames(\"MODEL 0\\nHETATM    1 C    FRA A   0       0.707  -0.033   0.012  1.00  0.00       B   C  \\nHETATM    2 C    FRA A   0      -0.624  -0.802  -0.004  1.00  0.00       B   C  \\nHETATM    3 O    FRA A   0       0.541   1.304  -0.055  1.00  0.00       B   O  \\nHETATM    4 O    FRA A   0       1.784  -0.585   0.066  1.00  0.00       B   O  \\nHETATM    5 N    FRA A   0      -1.774   0.119   0.019  1.00  0.00       B   N  \\nHETATM    6 H    FRA A   0      -2.368   0.018  -0.801  1.00  0.00       B   H  \\nHETATM    7 H    FRA A   0      -0.616  -1.431  -0.905  1.00  0.00       B   H  \\nHETATM    8 H    FRA A   0      -2.355  -0.013   0.844  1.00  0.00       B   H  \\nHETATM    9 H    FRA A   0      -0.617  -1.487   0.855  1.00  0.00       B   H  \\nHETATM   10 H    FRA A   0      -0.455   1.412  -0.032  1.00  0.00       B   H  \\nENDMDL\\n\",\"pdb\",{\"keepH\": \"true\"});\n\tviewergrid_1663784333999396[0][0].setStyle({\"model\": -1, \"serial\": 3},{\"sphere\": {\"scale\": 0.2, \"color\": \"#FF0000\"}});\n\tviewergrid_1663784333999396[0][0].addModelsAsFrames(\"MODEL 0\\nHETATM    1 C    FRA A   0       0.707  -0.033   0.012  1.00  0.00       B   C  \\nHETATM    2 C    FRA A   0      -0.624  -0.802  -0.004  1.00  0.00       B   C  \\nHETATM    3 O    FRA A   0       0.541   1.304  -0.055  1.00  0.00       B   O  \\nHETATM    4 O    FRA A   0       1.784  -0.585   0.066  1.00  0.00       B   O  \\nHETATM    5 N    FRA A   0      -1.774   0.119   0.019  1.00  0.00       B   N  \\nHETATM    6 H    FRA A   0      -2.368   0.018  -0.801  1.00  0.00       B   H  \\nHETATM    7 H    FRA A   0      -0.616  -1.431  -0.905  1.00  0.00       B   H  \\nHETATM    8 H    FRA A   0      -2.355  -0.013   0.844  1.00  0.00       B   H  \\nHETATM    9 H    FRA A   0      -0.617  -1.487   0.855  1.00  0.00       B   H  \\nHETATM   10 H    FRA A   0      -0.455   1.412  -0.032  1.00  0.00       B   H  \\nENDMDL\\n\",\"pdb\",{\"keepH\": \"true\"});\n\tviewergrid_1663784333999396[0][0].setStyle({\"model\": -1, \"serial\": 4},{\"sphere\": {\"scale\": 0.2, \"color\": \"#FF0000\"}});\n\tviewergrid_1663784333999396[0][0].addModelsAsFrames(\"MODEL 0\\nHETATM    1 C    FRA A   0       0.707  -0.033   0.012  1.00  0.00       B   C  \\nHETATM    2 C    FRA A   0      -0.624  -0.802  -0.004  1.00  0.00       B   C  \\nHETATM    3 O    FRA A   0       0.541   1.304  -0.055  1.00  0.00       B   O  \\nHETATM    4 O    FRA A   0       1.784  -0.585   0.066  1.00  0.00       B   O  \\nHETATM    5 N    FRA A   0      -1.774   0.119   0.019  1.00  0.00       B   N  \\nHETATM    6 H    FRA A   0      -2.368   0.018  -0.801  1.00  0.00       B   H  \\nHETATM    7 H    FRA A   0      -0.616  -1.431  -0.905  1.00  0.00       B   H  \\nHETATM    8 H    FRA A   0      -2.355  -0.013   0.844  1.00  0.00       B   H  \\nHETATM    9 H    FRA A   0      -0.617  -1.487   0.855  1.00  0.00       B   H  \\nHETATM   10 H    FRA A   0      -0.455   1.412  -0.032  1.00  0.00       B   H  \\nENDMDL\\n\",\"pdb\",{\"keepH\": \"true\"});\n\tviewergrid_1663784333999396[0][0].setStyle({\"model\": -1, \"serial\": 5},{\"sphere\": {\"scale\": 0.2, \"color\": \"#FF0000\"}});\n\tviewergrid_1663784333999396[0][0].addModelsAsFrames(\"MODEL 0\\nHETATM    1 C    FRA A   0       0.707  -0.033   0.012  1.00  0.00       B   C  \\nHETATM    2 C    FRA A   0      -0.624  -0.802  -0.004  1.00  0.00       B   C  \\nHETATM    3 O    FRA A   0       0.541   1.304  -0.055  1.00  0.00       B   O  \\nHETATM    4 O    FRA A   0       1.784  -0.585   0.066  1.00  0.00       B   O  \\nHETATM    5 N    FRA A   0      -1.774   0.119   0.019  1.00  0.00       B   N  \\nHETATM    6 H    FRA A   0      -2.368   0.018  -0.801  1.00  0.00       B   H  \\nHETATM    7 H    FRA A   0      -0.616  -1.431  -0.905  1.00  0.00       B   H  \\nHETATM    8 H    FRA A   0      -2.355  -0.013   0.844  1.00  0.00       B   H  \\nHETATM    9 H    FRA A   0      -0.617  -1.487   0.855  1.00  0.00       B   H  \\nHETATM   10 H    FRA A   0      -0.455   1.412  -0.032  1.00  0.00       B   H  \\nENDMDL\\n\",\"pdb\",{\"keepH\": \"true\"});\n\tviewergrid_1663784333999396[0][0].setStyle({\"model\": -1, \"serial\": 6},{\"sphere\": {\"scale\": 0.2, \"color\": \"#FF0000\"}});\n\tviewergrid_1663784333999396[0][0].addModelsAsFrames(\"MODEL 0\\nHETATM    1 C    FRA A   0       0.707  -0.033   0.012  1.00  0.00       B   C  \\nHETATM    2 C    FRA A   0      -0.624  -0.802  -0.004  1.00  0.00       B   C  \\nHETATM    3 O    FRA A   0       0.541   1.304  -0.055  1.00  0.00       B   O  \\nHETATM    4 O    FRA A   0       1.784  -0.585   0.066  1.00  0.00       B   O  \\nHETATM    5 N    FRA A   0      -1.774   0.119   0.019  1.00  0.00       B   N  \\nHETATM    6 H    FRA A   0      -2.368   0.018  -0.801  1.00  0.00       B   H  \\nHETATM    7 H    FRA A   0      -0.616  -1.431  -0.905  1.00  0.00       B   H  \\nHETATM    8 H    FRA A   0      -2.355  -0.013   0.844  1.00  0.00       B   H  \\nHETATM    9 H    FRA A   0      -0.617  -1.487   0.855  1.00  0.00       B   H  \\nHETATM   10 H    FRA A   0      -0.455   1.412  -0.032  1.00  0.00       B   H  \\nENDMDL\\n\",\"pdb\",{\"keepH\": \"true\"});\n\tviewergrid_1663784333999396[0][0].setStyle({\"model\": -1, \"serial\": 7},{\"sphere\": {\"scale\": 0.2, \"color\": \"#FF0000\"}});\n\tviewergrid_1663784333999396[0][0].addModelsAsFrames(\"MODEL 0\\nHETATM    1 C    FRA A   0       0.707  -0.033   0.012  1.00  0.00       B   C  \\nHETATM    2 C    FRA A   0      -0.624  -0.802  -0.004  1.00  0.00       B   C  \\nHETATM    3 O    FRA A   0       0.541   1.304  -0.055  1.00  0.00       B   O  \\nHETATM    4 O    FRA A   0       1.784  -0.585   0.066  1.00  0.00       B   O  \\nHETATM    5 N    FRA A   0      -1.774   0.119   0.019  1.00  0.00       B   N  \\nHETATM    6 H    FRA A   0      -2.368   0.018  -0.801  1.00  0.00       B   H  \\nHETATM    7 H    FRA A   0      -0.616  -1.431  -0.905  1.00  0.00       B   H  \\nHETATM    8 H    FRA A   0      -2.355  -0.013   0.844  1.00  0.00       B   H  \\nHETATM    9 H    FRA A   0      -0.617  -1.487   0.855  1.00  0.00       B   H  \\nHETATM   10 H    FRA A   0      -0.455   1.412  -0.032  1.00  0.00       B   H  \\nENDMDL\\n\",\"pdb\",{\"keepH\": \"true\"});\n\tviewergrid_1663784333999396[0][0].setStyle({\"model\": -1, \"serial\": 8},{\"sphere\": {\"scale\": 0.2, \"color\": \"#FF0000\"}});\n\tviewergrid_1663784333999396[0][0].addModelsAsFrames(\"MODEL 0\\nHETATM    1 C    FRA A   0       0.707  -0.033   0.012  1.00  0.00       B   C  \\nHETATM    2 C    FRA A   0      -0.624  -0.802  -0.004  1.00  0.00       B   C  \\nHETATM    3 O    FRA A   0       0.541   1.304  -0.055  1.00  0.00       B   O  \\nHETATM    4 O    FRA A   0       1.784  -0.585   0.066  1.00  0.00       B   O  \\nHETATM    5 N    FRA A   0      -1.774   0.119   0.019  1.00  0.00       B   N  \\nHETATM    6 H    FRA A   0      -2.368   0.018  -0.801  1.00  0.00       B   H  \\nHETATM    7 H    FRA A   0      -0.616  -1.431  -0.905  1.00  0.00       B   H  \\nHETATM    8 H    FRA A   0      -2.355  -0.013   0.844  1.00  0.00       B   H  \\nHETATM    9 H    FRA A   0      -0.617  -1.487   0.855  1.00  0.00       B   H  \\nHETATM   10 H    FRA A   0      -0.455   1.412  -0.032  1.00  0.00       B   H  \\nENDMDL\\n\",\"pdb\",{\"keepH\": \"true\"});\n\tviewergrid_1663784333999396[0][0].setStyle({\"model\": -1, \"serial\": 9},{\"sphere\": {\"scale\": 0.2, \"color\": \"#FF0000\"}});\n\tviewergrid_1663784333999396[0][0].addModelsAsFrames(\"MODEL 0\\nHETATM    1 C    FRA A   0       0.707  -0.033   0.012  1.00  0.00       B   C  \\nHETATM    2 C    FRA A   0      -0.624  -0.802  -0.004  1.00  0.00       B   C  \\nHETATM    3 O    FRA A   0       0.541   1.304  -0.055  1.00  0.00       B   O  \\nHETATM    4 O    FRA A   0       1.784  -0.585   0.066  1.00  0.00       B   O  \\nHETATM    5 N    FRA A   0      -1.774   0.119   0.019  1.00  0.00       B   N  \\nHETATM    6 H    FRA A   0      -2.368   0.018  -0.801  1.00  0.00       B   H  \\nHETATM    7 H    FRA A   0      -0.616  -1.431  -0.905  1.00  0.00       B   H  \\nHETATM    8 H    FRA A   0      -2.355  -0.013   0.844  1.00  0.00       B   H  \\nHETATM    9 H    FRA A   0      -0.617  -1.487   0.855  1.00  0.00       B   H  \\nHETATM   10 H    FRA A   0      -0.455   1.412  -0.032  1.00  0.00       B   H  \\nENDMDL\\n\",\"pdb\",{\"keepH\": \"true\"});\n\tviewergrid_1663784333999396[0][0].setStyle({\"model\": -1, \"serial\": 10},{\"sphere\": {\"scale\": 0.2, \"color\": \"#FF0000\"}});\n\tviewergrid_1663784333999396[0][0].render();\n\tviewergrid_1663784333999396[0][1].render();\n\tviewergrid_1663784333999396[0][1].removeAllModels();\n\tviewergrid_1663784333999396[0][1].addModelsAsFrames(\"MODEL 1\\nHETATM    1 C    FRA A   0       0.646   0.090   0.006  1.00  0.00       B   C  \\nHETATM    2 C    FRA A   0      -0.735   0.745  -0.004  1.00  0.00       B   C  \\nHETATM    3 O    FRA A   0       0.607  -1.276  -0.013  1.00  0.00       B   O  \\nHETATM    4 O    FRA A   0       1.686   0.714   0.031  1.00  0.00       B   O  \\nHETATM    5 N    FRA A   0      -1.938  -0.069   0.003  1.00  0.00       B   N  \\nHETATM    6 H    FRA A   0      -1.971  -0.682  -0.811  1.00  0.00       B   H  \\nHETATM    7 H    FRA A   0      -0.741   1.424   0.862  1.00  0.00       B   H  \\nHETATM    8 H    FRA A   0      -1.963  -0.672   0.826  1.00  0.00       B   H  \\nHETATM    9 H    FRA A   0      -0.742   1.408  -0.883  1.00  0.00       B   H  \\nHETATM   10 H    FRA A   0       1.541  -1.567  -0.017  1.00  0.00       B   H  \\nENDMDL\\n\",\"pdb\",{\"keepH\": \"true\"});\n\tviewergrid_1663784333999396[0][1].setStyle({\"model\": -1},{\"line\": {\"color\": \"black\"}});\n\tviewergrid_1663784333999396[0][1].addModelsAsFrames(\"MODEL 1\\nHETATM    1 C    FRA A   0       0.646   0.090   0.006  1.00  0.00       B   C  \\nHETATM    2 C    FRA A   0      -0.735   0.745  -0.004  1.00  0.00       B   C  \\nHETATM    3 O    FRA A   0       0.607  -1.276  -0.013  1.00  0.00       B   O  \\nHETATM    4 O    FRA A   0       1.686   0.714   0.031  1.00  0.00       B   O  \\nHETATM    5 N    FRA A   0      -1.938  -0.069   0.003  1.00  0.00       B   N  \\nHETATM    6 H    FRA A   0      -1.971  -0.682  -0.811  1.00  0.00       B   H  \\nHETATM    7 H    FRA A   0      -0.741   1.424   0.862  1.00  0.00       B   H  \\nHETATM    8 H    FRA A   0      -1.963  -0.672   0.826  1.00  0.00       B   H  \\nHETATM    9 H    FRA A   0      -0.742   1.408  -0.883  1.00  0.00       B   H  \\nHETATM   10 H    FRA A   0       1.541  -1.567  -0.017  1.00  0.00       B   H  \\nENDMDL\\n\",\"pdb\",{\"keepH\": \"true\"});\n\tviewergrid_1663784333999396[0][1].setStyle({\"model\": -1, \"serial\": 1},{\"sphere\": {\"scale\": 0.2, \"color\": \"#0000FF\"}});\n\tviewergrid_1663784333999396[0][1].addModelsAsFrames(\"MODEL 1\\nHETATM    1 C    FRA A   0       0.646   0.090   0.006  1.00  0.00       B   C  \\nHETATM    2 C    FRA A   0      -0.735   0.745  -0.004  1.00  0.00       B   C  \\nHETATM    3 O    FRA A   0       0.607  -1.276  -0.013  1.00  0.00       B   O  \\nHETATM    4 O    FRA A   0       1.686   0.714   0.031  1.00  0.00       B   O  \\nHETATM    5 N    FRA A   0      -1.938  -0.069   0.003  1.00  0.00       B   N  \\nHETATM    6 H    FRA A   0      -1.971  -0.682  -0.811  1.00  0.00       B   H  \\nHETATM    7 H    FRA A   0      -0.741   1.424   0.862  1.00  0.00       B   H  \\nHETATM    8 H    FRA A   0      -1.963  -0.672   0.826  1.00  0.00       B   H  \\nHETATM    9 H    FRA A   0      -0.742   1.408  -0.883  1.00  0.00       B   H  \\nHETATM   10 H    FRA A   0       1.541  -1.567  -0.017  1.00  0.00       B   H  \\nENDMDL\\n\",\"pdb\",{\"keepH\": \"true\"});\n\tviewergrid_1663784333999396[0][1].setStyle({\"model\": -1, \"serial\": 2},{\"sphere\": {\"scale\": 0.2, \"color\": \"#0000FF\"}});\n\tviewergrid_1663784333999396[0][1].addModelsAsFrames(\"MODEL 1\\nHETATM    1 C    FRA A   0       0.646   0.090   0.006  1.00  0.00       B   C  \\nHETATM    2 C    FRA A   0      -0.735   0.745  -0.004  1.00  0.00       B   C  \\nHETATM    3 O    FRA A   0       0.607  -1.276  -0.013  1.00  0.00       B   O  \\nHETATM    4 O    FRA A   0       1.686   0.714   0.031  1.00  0.00       B   O  \\nHETATM    5 N    FRA A   0      -1.938  -0.069   0.003  1.00  0.00       B   N  \\nHETATM    6 H    FRA A   0      -1.971  -0.682  -0.811  1.00  0.00       B   H  \\nHETATM    7 H    FRA A   0      -0.741   1.424   0.862  1.00  0.00       B   H  \\nHETATM    8 H    FRA A   0      -1.963  -0.672   0.826  1.00  0.00       B   H  \\nHETATM    9 H    FRA A   0      -0.742   1.408  -0.883  1.00  0.00       B   H  \\nHETATM   10 H    FRA A   0       1.541  -1.567  -0.017  1.00  0.00       B   H  \\nENDMDL\\n\",\"pdb\",{\"keepH\": \"true\"});\n\tviewergrid_1663784333999396[0][1].setStyle({\"model\": -1, \"serial\": 3},{\"sphere\": {\"scale\": 0.2, \"color\": \"#0000FF\"}});\n\tviewergrid_1663784333999396[0][1].addModelsAsFrames(\"MODEL 1\\nHETATM    1 C    FRA A   0       0.646   0.090   0.006  1.00  0.00       B   C  \\nHETATM    2 C    FRA A   0      -0.735   0.745  -0.004  1.00  0.00       B   C  \\nHETATM    3 O    FRA A   0       0.607  -1.276  -0.013  1.00  0.00       B   O  \\nHETATM    4 O    FRA A   0       1.686   0.714   0.031  1.00  0.00       B   O  \\nHETATM    5 N    FRA A   0      -1.938  -0.069   0.003  1.00  0.00       B   N  \\nHETATM    6 H    FRA A   0      -1.971  -0.682  -0.811  1.00  0.00       B   H  \\nHETATM    7 H    FRA A   0      -0.741   1.424   0.862  1.00  0.00       B   H  \\nHETATM    8 H    FRA A   0      -1.963  -0.672   0.826  1.00  0.00       B   H  \\nHETATM    9 H    FRA A   0      -0.742   1.408  -0.883  1.00  0.00       B   H  \\nHETATM   10 H    FRA A   0       1.541  -1.567  -0.017  1.00  0.00       B   H  \\nENDMDL\\n\",\"pdb\",{\"keepH\": \"true\"});\n\tviewergrid_1663784333999396[0][1].setStyle({\"model\": -1, \"serial\": 4},{\"sphere\": {\"scale\": 0.2, \"color\": \"#0000FF\"}});\n\tviewergrid_1663784333999396[0][1].addModelsAsFrames(\"MODEL 1\\nHETATM    1 C    FRA A   0       0.646   0.090   0.006  1.00  0.00       B   C  \\nHETATM    2 C    FRA A   0      -0.735   0.745  -0.004  1.00  0.00       B   C  \\nHETATM    3 O    FRA A   0       0.607  -1.276  -0.013  1.00  0.00       B   O  \\nHETATM    4 O    FRA A   0       1.686   0.714   0.031  1.00  0.00       B   O  \\nHETATM    5 N    FRA A   0      -1.938  -0.069   0.003  1.00  0.00       B   N  \\nHETATM    6 H    FRA A   0      -1.971  -0.682  -0.811  1.00  0.00       B   H  \\nHETATM    7 H    FRA A   0      -0.741   1.424   0.862  1.00  0.00       B   H  \\nHETATM    8 H    FRA A   0      -1.963  -0.672   0.826  1.00  0.00       B   H  \\nHETATM    9 H    FRA A   0      -0.742   1.408  -0.883  1.00  0.00       B   H  \\nHETATM   10 H    FRA A   0       1.541  -1.567  -0.017  1.00  0.00       B   H  \\nENDMDL\\n\",\"pdb\",{\"keepH\": \"true\"});\n\tviewergrid_1663784333999396[0][1].setStyle({\"model\": -1, \"serial\": 5},{\"sphere\": {\"scale\": 0.2, \"color\": \"#0000FF\"}});\n\tviewergrid_1663784333999396[0][1].addModelsAsFrames(\"MODEL 1\\nHETATM    1 C    FRA A   0       0.646   0.090   0.006  1.00  0.00       B   C  \\nHETATM    2 C    FRA A   0      -0.735   0.745  -0.004  1.00  0.00       B   C  \\nHETATM    3 O    FRA A   0       0.607  -1.276  -0.013  1.00  0.00       B   O  \\nHETATM    4 O    FRA A   0       1.686   0.714   0.031  1.00  0.00       B   O  \\nHETATM    5 N    FRA A   0      -1.938  -0.069   0.003  1.00  0.00       B   N  \\nHETATM    6 H    FRA A   0      -1.971  -0.682  -0.811  1.00  0.00       B   H  \\nHETATM    7 H    FRA A   0      -0.741   1.424   0.862  1.00  0.00       B   H  \\nHETATM    8 H    FRA A   0      -1.963  -0.672   0.826  1.00  0.00       B   H  \\nHETATM    9 H    FRA A   0      -0.742   1.408  -0.883  1.00  0.00       B   H  \\nHETATM   10 H    FRA A   0       1.541  -1.567  -0.017  1.00  0.00       B   H  \\nENDMDL\\n\",\"pdb\",{\"keepH\": \"true\"});\n\tviewergrid_1663784333999396[0][1].setStyle({\"model\": -1, \"serial\": 6},{\"sphere\": {\"scale\": 0.2, \"color\": \"#0000FF\"}});\n\tviewergrid_1663784333999396[0][1].addModelsAsFrames(\"MODEL 1\\nHETATM    1 C    FRA A   0       0.646   0.090   0.006  1.00  0.00       B   C  \\nHETATM    2 C    FRA A   0      -0.735   0.745  -0.004  1.00  0.00       B   C  \\nHETATM    3 O    FRA A   0       0.607  -1.276  -0.013  1.00  0.00       B   O  \\nHETATM    4 O    FRA A   0       1.686   0.714   0.031  1.00  0.00       B   O  \\nHETATM    5 N    FRA A   0      -1.938  -0.069   0.003  1.00  0.00       B   N  \\nHETATM    6 H    FRA A   0      -1.971  -0.682  -0.811  1.00  0.00       B   H  \\nHETATM    7 H    FRA A   0      -0.741   1.424   0.862  1.00  0.00       B   H  \\nHETATM    8 H    FRA A   0      -1.963  -0.672   0.826  1.00  0.00       B   H  \\nHETATM    9 H    FRA A   0      -0.742   1.408  -0.883  1.00  0.00       B   H  \\nHETATM   10 H    FRA A   0       1.541  -1.567  -0.017  1.00  0.00       B   H  \\nENDMDL\\n\",\"pdb\",{\"keepH\": \"true\"});\n\tviewergrid_1663784333999396[0][1].setStyle({\"model\": -1, \"serial\": 7},{\"sphere\": {\"scale\": 0.2, \"color\": \"#0000FF\"}});\n\tviewergrid_1663784333999396[0][1].addModelsAsFrames(\"MODEL 1\\nHETATM    1 C    FRA A   0       0.646   0.090   0.006  1.00  0.00       B   C  \\nHETATM    2 C    FRA A   0      -0.735   0.745  -0.004  1.00  0.00       B   C  \\nHETATM    3 O    FRA A   0       0.607  -1.276  -0.013  1.00  0.00       B   O  \\nHETATM    4 O    FRA A   0       1.686   0.714   0.031  1.00  0.00       B   O  \\nHETATM    5 N    FRA A   0      -1.938  -0.069   0.003  1.00  0.00       B   N  \\nHETATM    6 H    FRA A   0      -1.971  -0.682  -0.811  1.00  0.00       B   H  \\nHETATM    7 H    FRA A   0      -0.741   1.424   0.862  1.00  0.00       B   H  \\nHETATM    8 H    FRA A   0      -1.963  -0.672   0.826  1.00  0.00       B   H  \\nHETATM    9 H    FRA A   0      -0.742   1.408  -0.883  1.00  0.00       B   H  \\nHETATM   10 H    FRA A   0       1.541  -1.567  -0.017  1.00  0.00       B   H  \\nENDMDL\\n\",\"pdb\",{\"keepH\": \"true\"});\n\tviewergrid_1663784333999396[0][1].setStyle({\"model\": -1, \"serial\": 8},{\"sphere\": {\"scale\": 0.2, \"color\": \"#0000FF\"}});\n\tviewergrid_1663784333999396[0][1].addModelsAsFrames(\"MODEL 1\\nHETATM    1 C    FRA A   0       0.646   0.090   0.006  1.00  0.00       B   C  \\nHETATM    2 C    FRA A   0      -0.735   0.745  -0.004  1.00  0.00       B   C  \\nHETATM    3 O    FRA A   0       0.607  -1.276  -0.013  1.00  0.00       B   O  \\nHETATM    4 O    FRA A   0       1.686   0.714   0.031  1.00  0.00       B   O  \\nHETATM    5 N    FRA A   0      -1.938  -0.069   0.003  1.00  0.00       B   N  \\nHETATM    6 H    FRA A   0      -1.971  -0.682  -0.811  1.00  0.00       B   H  \\nHETATM    7 H    FRA A   0      -0.741   1.424   0.862  1.00  0.00       B   H  \\nHETATM    8 H    FRA A   0      -1.963  -0.672   0.826  1.00  0.00       B   H  \\nHETATM    9 H    FRA A   0      -0.742   1.408  -0.883  1.00  0.00       B   H  \\nHETATM   10 H    FRA A   0       1.541  -1.567  -0.017  1.00  0.00       B   H  \\nENDMDL\\n\",\"pdb\",{\"keepH\": \"true\"});\n\tviewergrid_1663784333999396[0][1].setStyle({\"model\": -1, \"serial\": 9},{\"sphere\": {\"scale\": 0.2, \"color\": \"#0000FF\"}});\n\tviewergrid_1663784333999396[0][1].addModelsAsFrames(\"MODEL 1\\nHETATM    1 C    FRA A   0       0.646   0.090   0.006  1.00  0.00       B   C  \\nHETATM    2 C    FRA A   0      -0.735   0.745  -0.004  1.00  0.00       B   C  \\nHETATM    3 O    FRA A   0       0.607  -1.276  -0.013  1.00  0.00       B   O  \\nHETATM    4 O    FRA A   0       1.686   0.714   0.031  1.00  0.00       B   O  \\nHETATM    5 N    FRA A   0      -1.938  -0.069   0.003  1.00  0.00       B   N  \\nHETATM    6 H    FRA A   0      -1.971  -0.682  -0.811  1.00  0.00       B   H  \\nHETATM    7 H    FRA A   0      -0.741   1.424   0.862  1.00  0.00       B   H  \\nHETATM    8 H    FRA A   0      -1.963  -0.672   0.826  1.00  0.00       B   H  \\nHETATM    9 H    FRA A   0      -0.742   1.408  -0.883  1.00  0.00       B   H  \\nHETATM   10 H    FRA A   0       1.541  -1.567  -0.017  1.00  0.00       B   H  \\nENDMDL\\n\",\"pdb\",{\"keepH\": \"true\"});\n\tviewergrid_1663784333999396[0][1].setStyle({\"model\": -1, \"serial\": 10},{\"sphere\": {\"scale\": 0.2, \"color\": \"#0000FF\"}});\n\tviewergrid_1663784333999396[0][0].render();\n\tviewergrid_1663784333999396[0][1].render();\n\tviewergrid_1663784333999396[0][0].addUnitCell({\"model\": -1},{\"box\": {\"color\": \"black\"}, \"alabel\": \"\", \"blabel\": \"\", \"clabel\": \"\"});\n\tviewergrid_1663784333999396[0][1].addUnitCell({\"model\": -1},{\"box\": {\"color\": \"black\"}, \"alabel\": \"\", \"blabel\": \"\", \"clabel\": \"\"});\n\tviewergrid_1663784333999396[0][0].zoomTo();\n\tviewergrid_1663784333999396[0][1].zoomTo();\n\tviewergrid_1663784333999396[0][0].zoom(1.5);\n\tviewergrid_1663784333999396[0][1].zoom(1.5);\nviewergrid_1663784333999396[0][1].render();\nviewergrid_1663784333999396[0][0].render();\n});\n</script>",
      "text/html": [
       "<div id=\"3dmolviewer_1663784333999396\"  style=\"position: relative; width: 600px; height: 300px\">\n",
       "        <p id=\"3dmolwarning_1663784333999396\" style=\"background-color:#ffcccc;color:black\">You appear to be running in JupyterLab (or JavaScript failed to load for some other reason).  You need to install the 3dmol extension: <br>\n",
       "        <tt>jupyter labextension install jupyterlab_3dmol</tt></p>\n",
       "        </div>\n",
       "<script>\n",
       "\n",
       "var loadScriptAsync = function(uri){\n",
       "  return new Promise((resolve, reject) => {\n",
       "    var tag = document.createElement('script');\n",
       "    tag.src = uri;\n",
       "    tag.async = true;\n",
       "    tag.onload = () => {\n",
       "      resolve();\n",
       "    };\n",
       "  var firstScriptTag = document.getElementsByTagName('script')[0];\n",
       "  firstScriptTag.parentNode.insertBefore(tag, firstScriptTag);\n",
       "});\n",
       "};\n",
       "\n",
       "if(typeof $3Dmolpromise === 'undefined') {\n",
       "$3Dmolpromise = null;\n",
       "  $3Dmolpromise = loadScriptAsync('https://cdn.jsdelivr.net/npm/3dmol@latest/build/3Dmol-min.min.js');\n",
       "}\n",
       "\n",
       "var viewer_1663784333999396 = null;\n",
       "var warn = document.getElementById(\"3dmolwarning_1663784333999396\");\n",
       "if(warn) {\n",
       "    warn.parentNode.removeChild(warn);\n",
       "}\n",
       "$3Dmolpromise.then(function() {\n",
       "var viewergrid_1663784333999396 = null;\n",
       "viewergrid_1663784333999396 = $3Dmol.createViewerGrid($(\"#3dmolviewer_1663784333999396\"),{rows: 1, cols: 2, control_all: false},{backgroundColor:\"white\"});\n",
       "viewer_1663784333999396 = viewergrid_1663784333999396[0][0];\n",
       "viewergrid_1663784333999396[0][0].zoomTo();viewergrid_1663784333999396[0][1].zoomTo();\tviewergrid_1663784333999396[0][0].removeAllModels();\n",
       "\tviewergrid_1663784333999396[0][0].addModelsAsFrames(\"MODEL 0\\nHETATM    1 C    FRA A   0       0.707  -0.033   0.012  1.00  0.00       B   C  \\nHETATM    2 C    FRA A   0      -0.624  -0.802  -0.004  1.00  0.00       B   C  \\nHETATM    3 O    FRA A   0       0.541   1.304  -0.055  1.00  0.00       B   O  \\nHETATM    4 O    FRA A   0       1.784  -0.585   0.066  1.00  0.00       B   O  \\nHETATM    5 N    FRA A   0      -1.774   0.119   0.019  1.00  0.00       B   N  \\nHETATM    6 H    FRA A   0      -2.368   0.018  -0.801  1.00  0.00       B   H  \\nHETATM    7 H    FRA A   0      -0.616  -1.431  -0.905  1.00  0.00       B   H  \\nHETATM    8 H    FRA A   0      -2.355  -0.013   0.844  1.00  0.00       B   H  \\nHETATM    9 H    FRA A   0      -0.617  -1.487   0.855  1.00  0.00       B   H  \\nHETATM   10 H    FRA A   0      -0.455   1.412  -0.032  1.00  0.00       B   H  \\nENDMDL\\n\",\"pdb\",{\"keepH\": \"true\"});\n",
       "\tviewergrid_1663784333999396[0][0].setStyle({\"model\": -1},{\"line\": {\"color\": \"black\"}});\n",
       "\tviewergrid_1663784333999396[0][0].addModelsAsFrames(\"MODEL 0\\nHETATM    1 C    FRA A   0       0.707  -0.033   0.012  1.00  0.00       B   C  \\nHETATM    2 C    FRA A   0      -0.624  -0.802  -0.004  1.00  0.00       B   C  \\nHETATM    3 O    FRA A   0       0.541   1.304  -0.055  1.00  0.00       B   O  \\nHETATM    4 O    FRA A   0       1.784  -0.585   0.066  1.00  0.00       B   O  \\nHETATM    5 N    FRA A   0      -1.774   0.119   0.019  1.00  0.00       B   N  \\nHETATM    6 H    FRA A   0      -2.368   0.018  -0.801  1.00  0.00       B   H  \\nHETATM    7 H    FRA A   0      -0.616  -1.431  -0.905  1.00  0.00       B   H  \\nHETATM    8 H    FRA A   0      -2.355  -0.013   0.844  1.00  0.00       B   H  \\nHETATM    9 H    FRA A   0      -0.617  -1.487   0.855  1.00  0.00       B   H  \\nHETATM   10 H    FRA A   0      -0.455   1.412  -0.032  1.00  0.00       B   H  \\nENDMDL\\n\",\"pdb\",{\"keepH\": \"true\"});\n",
       "\tviewergrid_1663784333999396[0][0].setStyle({\"model\": -1, \"serial\": 1},{\"sphere\": {\"scale\": 0.2, \"color\": \"#FF0000\"}});\n",
       "\tviewergrid_1663784333999396[0][0].addModelsAsFrames(\"MODEL 0\\nHETATM    1 C    FRA A   0       0.707  -0.033   0.012  1.00  0.00       B   C  \\nHETATM    2 C    FRA A   0      -0.624  -0.802  -0.004  1.00  0.00       B   C  \\nHETATM    3 O    FRA A   0       0.541   1.304  -0.055  1.00  0.00       B   O  \\nHETATM    4 O    FRA A   0       1.784  -0.585   0.066  1.00  0.00       B   O  \\nHETATM    5 N    FRA A   0      -1.774   0.119   0.019  1.00  0.00       B   N  \\nHETATM    6 H    FRA A   0      -2.368   0.018  -0.801  1.00  0.00       B   H  \\nHETATM    7 H    FRA A   0      -0.616  -1.431  -0.905  1.00  0.00       B   H  \\nHETATM    8 H    FRA A   0      -2.355  -0.013   0.844  1.00  0.00       B   H  \\nHETATM    9 H    FRA A   0      -0.617  -1.487   0.855  1.00  0.00       B   H  \\nHETATM   10 H    FRA A   0      -0.455   1.412  -0.032  1.00  0.00       B   H  \\nENDMDL\\n\",\"pdb\",{\"keepH\": \"true\"});\n",
       "\tviewergrid_1663784333999396[0][0].setStyle({\"model\": -1, \"serial\": 2},{\"sphere\": {\"scale\": 0.2, \"color\": \"#FF0000\"}});\n",
       "\tviewergrid_1663784333999396[0][0].addModelsAsFrames(\"MODEL 0\\nHETATM    1 C    FRA A   0       0.707  -0.033   0.012  1.00  0.00       B   C  \\nHETATM    2 C    FRA A   0      -0.624  -0.802  -0.004  1.00  0.00       B   C  \\nHETATM    3 O    FRA A   0       0.541   1.304  -0.055  1.00  0.00       B   O  \\nHETATM    4 O    FRA A   0       1.784  -0.585   0.066  1.00  0.00       B   O  \\nHETATM    5 N    FRA A   0      -1.774   0.119   0.019  1.00  0.00       B   N  \\nHETATM    6 H    FRA A   0      -2.368   0.018  -0.801  1.00  0.00       B   H  \\nHETATM    7 H    FRA A   0      -0.616  -1.431  -0.905  1.00  0.00       B   H  \\nHETATM    8 H    FRA A   0      -2.355  -0.013   0.844  1.00  0.00       B   H  \\nHETATM    9 H    FRA A   0      -0.617  -1.487   0.855  1.00  0.00       B   H  \\nHETATM   10 H    FRA A   0      -0.455   1.412  -0.032  1.00  0.00       B   H  \\nENDMDL\\n\",\"pdb\",{\"keepH\": \"true\"});\n",
       "\tviewergrid_1663784333999396[0][0].setStyle({\"model\": -1, \"serial\": 3},{\"sphere\": {\"scale\": 0.2, \"color\": \"#FF0000\"}});\n",
       "\tviewergrid_1663784333999396[0][0].addModelsAsFrames(\"MODEL 0\\nHETATM    1 C    FRA A   0       0.707  -0.033   0.012  1.00  0.00       B   C  \\nHETATM    2 C    FRA A   0      -0.624  -0.802  -0.004  1.00  0.00       B   C  \\nHETATM    3 O    FRA A   0       0.541   1.304  -0.055  1.00  0.00       B   O  \\nHETATM    4 O    FRA A   0       1.784  -0.585   0.066  1.00  0.00       B   O  \\nHETATM    5 N    FRA A   0      -1.774   0.119   0.019  1.00  0.00       B   N  \\nHETATM    6 H    FRA A   0      -2.368   0.018  -0.801  1.00  0.00       B   H  \\nHETATM    7 H    FRA A   0      -0.616  -1.431  -0.905  1.00  0.00       B   H  \\nHETATM    8 H    FRA A   0      -2.355  -0.013   0.844  1.00  0.00       B   H  \\nHETATM    9 H    FRA A   0      -0.617  -1.487   0.855  1.00  0.00       B   H  \\nHETATM   10 H    FRA A   0      -0.455   1.412  -0.032  1.00  0.00       B   H  \\nENDMDL\\n\",\"pdb\",{\"keepH\": \"true\"});\n",
       "\tviewergrid_1663784333999396[0][0].setStyle({\"model\": -1, \"serial\": 4},{\"sphere\": {\"scale\": 0.2, \"color\": \"#FF0000\"}});\n",
       "\tviewergrid_1663784333999396[0][0].addModelsAsFrames(\"MODEL 0\\nHETATM    1 C    FRA A   0       0.707  -0.033   0.012  1.00  0.00       B   C  \\nHETATM    2 C    FRA A   0      -0.624  -0.802  -0.004  1.00  0.00       B   C  \\nHETATM    3 O    FRA A   0       0.541   1.304  -0.055  1.00  0.00       B   O  \\nHETATM    4 O    FRA A   0       1.784  -0.585   0.066  1.00  0.00       B   O  \\nHETATM    5 N    FRA A   0      -1.774   0.119   0.019  1.00  0.00       B   N  \\nHETATM    6 H    FRA A   0      -2.368   0.018  -0.801  1.00  0.00       B   H  \\nHETATM    7 H    FRA A   0      -0.616  -1.431  -0.905  1.00  0.00       B   H  \\nHETATM    8 H    FRA A   0      -2.355  -0.013   0.844  1.00  0.00       B   H  \\nHETATM    9 H    FRA A   0      -0.617  -1.487   0.855  1.00  0.00       B   H  \\nHETATM   10 H    FRA A   0      -0.455   1.412  -0.032  1.00  0.00       B   H  \\nENDMDL\\n\",\"pdb\",{\"keepH\": \"true\"});\n",
       "\tviewergrid_1663784333999396[0][0].setStyle({\"model\": -1, \"serial\": 5},{\"sphere\": {\"scale\": 0.2, \"color\": \"#FF0000\"}});\n",
       "\tviewergrid_1663784333999396[0][0].addModelsAsFrames(\"MODEL 0\\nHETATM    1 C    FRA A   0       0.707  -0.033   0.012  1.00  0.00       B   C  \\nHETATM    2 C    FRA A   0      -0.624  -0.802  -0.004  1.00  0.00       B   C  \\nHETATM    3 O    FRA A   0       0.541   1.304  -0.055  1.00  0.00       B   O  \\nHETATM    4 O    FRA A   0       1.784  -0.585   0.066  1.00  0.00       B   O  \\nHETATM    5 N    FRA A   0      -1.774   0.119   0.019  1.00  0.00       B   N  \\nHETATM    6 H    FRA A   0      -2.368   0.018  -0.801  1.00  0.00       B   H  \\nHETATM    7 H    FRA A   0      -0.616  -1.431  -0.905  1.00  0.00       B   H  \\nHETATM    8 H    FRA A   0      -2.355  -0.013   0.844  1.00  0.00       B   H  \\nHETATM    9 H    FRA A   0      -0.617  -1.487   0.855  1.00  0.00       B   H  \\nHETATM   10 H    FRA A   0      -0.455   1.412  -0.032  1.00  0.00       B   H  \\nENDMDL\\n\",\"pdb\",{\"keepH\": \"true\"});\n",
       "\tviewergrid_1663784333999396[0][0].setStyle({\"model\": -1, \"serial\": 6},{\"sphere\": {\"scale\": 0.2, \"color\": \"#FF0000\"}});\n",
       "\tviewergrid_1663784333999396[0][0].addModelsAsFrames(\"MODEL 0\\nHETATM    1 C    FRA A   0       0.707  -0.033   0.012  1.00  0.00       B   C  \\nHETATM    2 C    FRA A   0      -0.624  -0.802  -0.004  1.00  0.00       B   C  \\nHETATM    3 O    FRA A   0       0.541   1.304  -0.055  1.00  0.00       B   O  \\nHETATM    4 O    FRA A   0       1.784  -0.585   0.066  1.00  0.00       B   O  \\nHETATM    5 N    FRA A   0      -1.774   0.119   0.019  1.00  0.00       B   N  \\nHETATM    6 H    FRA A   0      -2.368   0.018  -0.801  1.00  0.00       B   H  \\nHETATM    7 H    FRA A   0      -0.616  -1.431  -0.905  1.00  0.00       B   H  \\nHETATM    8 H    FRA A   0      -2.355  -0.013   0.844  1.00  0.00       B   H  \\nHETATM    9 H    FRA A   0      -0.617  -1.487   0.855  1.00  0.00       B   H  \\nHETATM   10 H    FRA A   0      -0.455   1.412  -0.032  1.00  0.00       B   H  \\nENDMDL\\n\",\"pdb\",{\"keepH\": \"true\"});\n",
       "\tviewergrid_1663784333999396[0][0].setStyle({\"model\": -1, \"serial\": 7},{\"sphere\": {\"scale\": 0.2, \"color\": \"#FF0000\"}});\n",
       "\tviewergrid_1663784333999396[0][0].addModelsAsFrames(\"MODEL 0\\nHETATM    1 C    FRA A   0       0.707  -0.033   0.012  1.00  0.00       B   C  \\nHETATM    2 C    FRA A   0      -0.624  -0.802  -0.004  1.00  0.00       B   C  \\nHETATM    3 O    FRA A   0       0.541   1.304  -0.055  1.00  0.00       B   O  \\nHETATM    4 O    FRA A   0       1.784  -0.585   0.066  1.00  0.00       B   O  \\nHETATM    5 N    FRA A   0      -1.774   0.119   0.019  1.00  0.00       B   N  \\nHETATM    6 H    FRA A   0      -2.368   0.018  -0.801  1.00  0.00       B   H  \\nHETATM    7 H    FRA A   0      -0.616  -1.431  -0.905  1.00  0.00       B   H  \\nHETATM    8 H    FRA A   0      -2.355  -0.013   0.844  1.00  0.00       B   H  \\nHETATM    9 H    FRA A   0      -0.617  -1.487   0.855  1.00  0.00       B   H  \\nHETATM   10 H    FRA A   0      -0.455   1.412  -0.032  1.00  0.00       B   H  \\nENDMDL\\n\",\"pdb\",{\"keepH\": \"true\"});\n",
       "\tviewergrid_1663784333999396[0][0].setStyle({\"model\": -1, \"serial\": 8},{\"sphere\": {\"scale\": 0.2, \"color\": \"#FF0000\"}});\n",
       "\tviewergrid_1663784333999396[0][0].addModelsAsFrames(\"MODEL 0\\nHETATM    1 C    FRA A   0       0.707  -0.033   0.012  1.00  0.00       B   C  \\nHETATM    2 C    FRA A   0      -0.624  -0.802  -0.004  1.00  0.00       B   C  \\nHETATM    3 O    FRA A   0       0.541   1.304  -0.055  1.00  0.00       B   O  \\nHETATM    4 O    FRA A   0       1.784  -0.585   0.066  1.00  0.00       B   O  \\nHETATM    5 N    FRA A   0      -1.774   0.119   0.019  1.00  0.00       B   N  \\nHETATM    6 H    FRA A   0      -2.368   0.018  -0.801  1.00  0.00       B   H  \\nHETATM    7 H    FRA A   0      -0.616  -1.431  -0.905  1.00  0.00       B   H  \\nHETATM    8 H    FRA A   0      -2.355  -0.013   0.844  1.00  0.00       B   H  \\nHETATM    9 H    FRA A   0      -0.617  -1.487   0.855  1.00  0.00       B   H  \\nHETATM   10 H    FRA A   0      -0.455   1.412  -0.032  1.00  0.00       B   H  \\nENDMDL\\n\",\"pdb\",{\"keepH\": \"true\"});\n",
       "\tviewergrid_1663784333999396[0][0].setStyle({\"model\": -1, \"serial\": 9},{\"sphere\": {\"scale\": 0.2, \"color\": \"#FF0000\"}});\n",
       "\tviewergrid_1663784333999396[0][0].addModelsAsFrames(\"MODEL 0\\nHETATM    1 C    FRA A   0       0.707  -0.033   0.012  1.00  0.00       B   C  \\nHETATM    2 C    FRA A   0      -0.624  -0.802  -0.004  1.00  0.00       B   C  \\nHETATM    3 O    FRA A   0       0.541   1.304  -0.055  1.00  0.00       B   O  \\nHETATM    4 O    FRA A   0       1.784  -0.585   0.066  1.00  0.00       B   O  \\nHETATM    5 N    FRA A   0      -1.774   0.119   0.019  1.00  0.00       B   N  \\nHETATM    6 H    FRA A   0      -2.368   0.018  -0.801  1.00  0.00       B   H  \\nHETATM    7 H    FRA A   0      -0.616  -1.431  -0.905  1.00  0.00       B   H  \\nHETATM    8 H    FRA A   0      -2.355  -0.013   0.844  1.00  0.00       B   H  \\nHETATM    9 H    FRA A   0      -0.617  -1.487   0.855  1.00  0.00       B   H  \\nHETATM   10 H    FRA A   0      -0.455   1.412  -0.032  1.00  0.00       B   H  \\nENDMDL\\n\",\"pdb\",{\"keepH\": \"true\"});\n",
       "\tviewergrid_1663784333999396[0][0].setStyle({\"model\": -1, \"serial\": 10},{\"sphere\": {\"scale\": 0.2, \"color\": \"#FF0000\"}});\n",
       "\tviewergrid_1663784333999396[0][0].render();\n",
       "\tviewergrid_1663784333999396[0][1].render();\n",
       "\tviewergrid_1663784333999396[0][1].removeAllModels();\n",
       "\tviewergrid_1663784333999396[0][1].addModelsAsFrames(\"MODEL 1\\nHETATM    1 C    FRA A   0       0.646   0.090   0.006  1.00  0.00       B   C  \\nHETATM    2 C    FRA A   0      -0.735   0.745  -0.004  1.00  0.00       B   C  \\nHETATM    3 O    FRA A   0       0.607  -1.276  -0.013  1.00  0.00       B   O  \\nHETATM    4 O    FRA A   0       1.686   0.714   0.031  1.00  0.00       B   O  \\nHETATM    5 N    FRA A   0      -1.938  -0.069   0.003  1.00  0.00       B   N  \\nHETATM    6 H    FRA A   0      -1.971  -0.682  -0.811  1.00  0.00       B   H  \\nHETATM    7 H    FRA A   0      -0.741   1.424   0.862  1.00  0.00       B   H  \\nHETATM    8 H    FRA A   0      -1.963  -0.672   0.826  1.00  0.00       B   H  \\nHETATM    9 H    FRA A   0      -0.742   1.408  -0.883  1.00  0.00       B   H  \\nHETATM   10 H    FRA A   0       1.541  -1.567  -0.017  1.00  0.00       B   H  \\nENDMDL\\n\",\"pdb\",{\"keepH\": \"true\"});\n",
       "\tviewergrid_1663784333999396[0][1].setStyle({\"model\": -1},{\"line\": {\"color\": \"black\"}});\n",
       "\tviewergrid_1663784333999396[0][1].addModelsAsFrames(\"MODEL 1\\nHETATM    1 C    FRA A   0       0.646   0.090   0.006  1.00  0.00       B   C  \\nHETATM    2 C    FRA A   0      -0.735   0.745  -0.004  1.00  0.00       B   C  \\nHETATM    3 O    FRA A   0       0.607  -1.276  -0.013  1.00  0.00       B   O  \\nHETATM    4 O    FRA A   0       1.686   0.714   0.031  1.00  0.00       B   O  \\nHETATM    5 N    FRA A   0      -1.938  -0.069   0.003  1.00  0.00       B   N  \\nHETATM    6 H    FRA A   0      -1.971  -0.682  -0.811  1.00  0.00       B   H  \\nHETATM    7 H    FRA A   0      -0.741   1.424   0.862  1.00  0.00       B   H  \\nHETATM    8 H    FRA A   0      -1.963  -0.672   0.826  1.00  0.00       B   H  \\nHETATM    9 H    FRA A   0      -0.742   1.408  -0.883  1.00  0.00       B   H  \\nHETATM   10 H    FRA A   0       1.541  -1.567  -0.017  1.00  0.00       B   H  \\nENDMDL\\n\",\"pdb\",{\"keepH\": \"true\"});\n",
       "\tviewergrid_1663784333999396[0][1].setStyle({\"model\": -1, \"serial\": 1},{\"sphere\": {\"scale\": 0.2, \"color\": \"#0000FF\"}});\n",
       "\tviewergrid_1663784333999396[0][1].addModelsAsFrames(\"MODEL 1\\nHETATM    1 C    FRA A   0       0.646   0.090   0.006  1.00  0.00       B   C  \\nHETATM    2 C    FRA A   0      -0.735   0.745  -0.004  1.00  0.00       B   C  \\nHETATM    3 O    FRA A   0       0.607  -1.276  -0.013  1.00  0.00       B   O  \\nHETATM    4 O    FRA A   0       1.686   0.714   0.031  1.00  0.00       B   O  \\nHETATM    5 N    FRA A   0      -1.938  -0.069   0.003  1.00  0.00       B   N  \\nHETATM    6 H    FRA A   0      -1.971  -0.682  -0.811  1.00  0.00       B   H  \\nHETATM    7 H    FRA A   0      -0.741   1.424   0.862  1.00  0.00       B   H  \\nHETATM    8 H    FRA A   0      -1.963  -0.672   0.826  1.00  0.00       B   H  \\nHETATM    9 H    FRA A   0      -0.742   1.408  -0.883  1.00  0.00       B   H  \\nHETATM   10 H    FRA A   0       1.541  -1.567  -0.017  1.00  0.00       B   H  \\nENDMDL\\n\",\"pdb\",{\"keepH\": \"true\"});\n",
       "\tviewergrid_1663784333999396[0][1].setStyle({\"model\": -1, \"serial\": 2},{\"sphere\": {\"scale\": 0.2, \"color\": \"#0000FF\"}});\n",
       "\tviewergrid_1663784333999396[0][1].addModelsAsFrames(\"MODEL 1\\nHETATM    1 C    FRA A   0       0.646   0.090   0.006  1.00  0.00       B   C  \\nHETATM    2 C    FRA A   0      -0.735   0.745  -0.004  1.00  0.00       B   C  \\nHETATM    3 O    FRA A   0       0.607  -1.276  -0.013  1.00  0.00       B   O  \\nHETATM    4 O    FRA A   0       1.686   0.714   0.031  1.00  0.00       B   O  \\nHETATM    5 N    FRA A   0      -1.938  -0.069   0.003  1.00  0.00       B   N  \\nHETATM    6 H    FRA A   0      -1.971  -0.682  -0.811  1.00  0.00       B   H  \\nHETATM    7 H    FRA A   0      -0.741   1.424   0.862  1.00  0.00       B   H  \\nHETATM    8 H    FRA A   0      -1.963  -0.672   0.826  1.00  0.00       B   H  \\nHETATM    9 H    FRA A   0      -0.742   1.408  -0.883  1.00  0.00       B   H  \\nHETATM   10 H    FRA A   0       1.541  -1.567  -0.017  1.00  0.00       B   H  \\nENDMDL\\n\",\"pdb\",{\"keepH\": \"true\"});\n",
       "\tviewergrid_1663784333999396[0][1].setStyle({\"model\": -1, \"serial\": 3},{\"sphere\": {\"scale\": 0.2, \"color\": \"#0000FF\"}});\n",
       "\tviewergrid_1663784333999396[0][1].addModelsAsFrames(\"MODEL 1\\nHETATM    1 C    FRA A   0       0.646   0.090   0.006  1.00  0.00       B   C  \\nHETATM    2 C    FRA A   0      -0.735   0.745  -0.004  1.00  0.00       B   C  \\nHETATM    3 O    FRA A   0       0.607  -1.276  -0.013  1.00  0.00       B   O  \\nHETATM    4 O    FRA A   0       1.686   0.714   0.031  1.00  0.00       B   O  \\nHETATM    5 N    FRA A   0      -1.938  -0.069   0.003  1.00  0.00       B   N  \\nHETATM    6 H    FRA A   0      -1.971  -0.682  -0.811  1.00  0.00       B   H  \\nHETATM    7 H    FRA A   0      -0.741   1.424   0.862  1.00  0.00       B   H  \\nHETATM    8 H    FRA A   0      -1.963  -0.672   0.826  1.00  0.00       B   H  \\nHETATM    9 H    FRA A   0      -0.742   1.408  -0.883  1.00  0.00       B   H  \\nHETATM   10 H    FRA A   0       1.541  -1.567  -0.017  1.00  0.00       B   H  \\nENDMDL\\n\",\"pdb\",{\"keepH\": \"true\"});\n",
       "\tviewergrid_1663784333999396[0][1].setStyle({\"model\": -1, \"serial\": 4},{\"sphere\": {\"scale\": 0.2, \"color\": \"#0000FF\"}});\n",
       "\tviewergrid_1663784333999396[0][1].addModelsAsFrames(\"MODEL 1\\nHETATM    1 C    FRA A   0       0.646   0.090   0.006  1.00  0.00       B   C  \\nHETATM    2 C    FRA A   0      -0.735   0.745  -0.004  1.00  0.00       B   C  \\nHETATM    3 O    FRA A   0       0.607  -1.276  -0.013  1.00  0.00       B   O  \\nHETATM    4 O    FRA A   0       1.686   0.714   0.031  1.00  0.00       B   O  \\nHETATM    5 N    FRA A   0      -1.938  -0.069   0.003  1.00  0.00       B   N  \\nHETATM    6 H    FRA A   0      -1.971  -0.682  -0.811  1.00  0.00       B   H  \\nHETATM    7 H    FRA A   0      -0.741   1.424   0.862  1.00  0.00       B   H  \\nHETATM    8 H    FRA A   0      -1.963  -0.672   0.826  1.00  0.00       B   H  \\nHETATM    9 H    FRA A   0      -0.742   1.408  -0.883  1.00  0.00       B   H  \\nHETATM   10 H    FRA A   0       1.541  -1.567  -0.017  1.00  0.00       B   H  \\nENDMDL\\n\",\"pdb\",{\"keepH\": \"true\"});\n",
       "\tviewergrid_1663784333999396[0][1].setStyle({\"model\": -1, \"serial\": 5},{\"sphere\": {\"scale\": 0.2, \"color\": \"#0000FF\"}});\n",
       "\tviewergrid_1663784333999396[0][1].addModelsAsFrames(\"MODEL 1\\nHETATM    1 C    FRA A   0       0.646   0.090   0.006  1.00  0.00       B   C  \\nHETATM    2 C    FRA A   0      -0.735   0.745  -0.004  1.00  0.00       B   C  \\nHETATM    3 O    FRA A   0       0.607  -1.276  -0.013  1.00  0.00       B   O  \\nHETATM    4 O    FRA A   0       1.686   0.714   0.031  1.00  0.00       B   O  \\nHETATM    5 N    FRA A   0      -1.938  -0.069   0.003  1.00  0.00       B   N  \\nHETATM    6 H    FRA A   0      -1.971  -0.682  -0.811  1.00  0.00       B   H  \\nHETATM    7 H    FRA A   0      -0.741   1.424   0.862  1.00  0.00       B   H  \\nHETATM    8 H    FRA A   0      -1.963  -0.672   0.826  1.00  0.00       B   H  \\nHETATM    9 H    FRA A   0      -0.742   1.408  -0.883  1.00  0.00       B   H  \\nHETATM   10 H    FRA A   0       1.541  -1.567  -0.017  1.00  0.00       B   H  \\nENDMDL\\n\",\"pdb\",{\"keepH\": \"true\"});\n",
       "\tviewergrid_1663784333999396[0][1].setStyle({\"model\": -1, \"serial\": 6},{\"sphere\": {\"scale\": 0.2, \"color\": \"#0000FF\"}});\n",
       "\tviewergrid_1663784333999396[0][1].addModelsAsFrames(\"MODEL 1\\nHETATM    1 C    FRA A   0       0.646   0.090   0.006  1.00  0.00       B   C  \\nHETATM    2 C    FRA A   0      -0.735   0.745  -0.004  1.00  0.00       B   C  \\nHETATM    3 O    FRA A   0       0.607  -1.276  -0.013  1.00  0.00       B   O  \\nHETATM    4 O    FRA A   0       1.686   0.714   0.031  1.00  0.00       B   O  \\nHETATM    5 N    FRA A   0      -1.938  -0.069   0.003  1.00  0.00       B   N  \\nHETATM    6 H    FRA A   0      -1.971  -0.682  -0.811  1.00  0.00       B   H  \\nHETATM    7 H    FRA A   0      -0.741   1.424   0.862  1.00  0.00       B   H  \\nHETATM    8 H    FRA A   0      -1.963  -0.672   0.826  1.00  0.00       B   H  \\nHETATM    9 H    FRA A   0      -0.742   1.408  -0.883  1.00  0.00       B   H  \\nHETATM   10 H    FRA A   0       1.541  -1.567  -0.017  1.00  0.00       B   H  \\nENDMDL\\n\",\"pdb\",{\"keepH\": \"true\"});\n",
       "\tviewergrid_1663784333999396[0][1].setStyle({\"model\": -1, \"serial\": 7},{\"sphere\": {\"scale\": 0.2, \"color\": \"#0000FF\"}});\n",
       "\tviewergrid_1663784333999396[0][1].addModelsAsFrames(\"MODEL 1\\nHETATM    1 C    FRA A   0       0.646   0.090   0.006  1.00  0.00       B   C  \\nHETATM    2 C    FRA A   0      -0.735   0.745  -0.004  1.00  0.00       B   C  \\nHETATM    3 O    FRA A   0       0.607  -1.276  -0.013  1.00  0.00       B   O  \\nHETATM    4 O    FRA A   0       1.686   0.714   0.031  1.00  0.00       B   O  \\nHETATM    5 N    FRA A   0      -1.938  -0.069   0.003  1.00  0.00       B   N  \\nHETATM    6 H    FRA A   0      -1.971  -0.682  -0.811  1.00  0.00       B   H  \\nHETATM    7 H    FRA A   0      -0.741   1.424   0.862  1.00  0.00       B   H  \\nHETATM    8 H    FRA A   0      -1.963  -0.672   0.826  1.00  0.00       B   H  \\nHETATM    9 H    FRA A   0      -0.742   1.408  -0.883  1.00  0.00       B   H  \\nHETATM   10 H    FRA A   0       1.541  -1.567  -0.017  1.00  0.00       B   H  \\nENDMDL\\n\",\"pdb\",{\"keepH\": \"true\"});\n",
       "\tviewergrid_1663784333999396[0][1].setStyle({\"model\": -1, \"serial\": 8},{\"sphere\": {\"scale\": 0.2, \"color\": \"#0000FF\"}});\n",
       "\tviewergrid_1663784333999396[0][1].addModelsAsFrames(\"MODEL 1\\nHETATM    1 C    FRA A   0       0.646   0.090   0.006  1.00  0.00       B   C  \\nHETATM    2 C    FRA A   0      -0.735   0.745  -0.004  1.00  0.00       B   C  \\nHETATM    3 O    FRA A   0       0.607  -1.276  -0.013  1.00  0.00       B   O  \\nHETATM    4 O    FRA A   0       1.686   0.714   0.031  1.00  0.00       B   O  \\nHETATM    5 N    FRA A   0      -1.938  -0.069   0.003  1.00  0.00       B   N  \\nHETATM    6 H    FRA A   0      -1.971  -0.682  -0.811  1.00  0.00       B   H  \\nHETATM    7 H    FRA A   0      -0.741   1.424   0.862  1.00  0.00       B   H  \\nHETATM    8 H    FRA A   0      -1.963  -0.672   0.826  1.00  0.00       B   H  \\nHETATM    9 H    FRA A   0      -0.742   1.408  -0.883  1.00  0.00       B   H  \\nHETATM   10 H    FRA A   0       1.541  -1.567  -0.017  1.00  0.00       B   H  \\nENDMDL\\n\",\"pdb\",{\"keepH\": \"true\"});\n",
       "\tviewergrid_1663784333999396[0][1].setStyle({\"model\": -1, \"serial\": 9},{\"sphere\": {\"scale\": 0.2, \"color\": \"#0000FF\"}});\n",
       "\tviewergrid_1663784333999396[0][1].addModelsAsFrames(\"MODEL 1\\nHETATM    1 C    FRA A   0       0.646   0.090   0.006  1.00  0.00       B   C  \\nHETATM    2 C    FRA A   0      -0.735   0.745  -0.004  1.00  0.00       B   C  \\nHETATM    3 O    FRA A   0       0.607  -1.276  -0.013  1.00  0.00       B   O  \\nHETATM    4 O    FRA A   0       1.686   0.714   0.031  1.00  0.00       B   O  \\nHETATM    5 N    FRA A   0      -1.938  -0.069   0.003  1.00  0.00       B   N  \\nHETATM    6 H    FRA A   0      -1.971  -0.682  -0.811  1.00  0.00       B   H  \\nHETATM    7 H    FRA A   0      -0.741   1.424   0.862  1.00  0.00       B   H  \\nHETATM    8 H    FRA A   0      -1.963  -0.672   0.826  1.00  0.00       B   H  \\nHETATM    9 H    FRA A   0      -0.742   1.408  -0.883  1.00  0.00       B   H  \\nHETATM   10 H    FRA A   0       1.541  -1.567  -0.017  1.00  0.00       B   H  \\nENDMDL\\n\",\"pdb\",{\"keepH\": \"true\"});\n",
       "\tviewergrid_1663784333999396[0][1].setStyle({\"model\": -1, \"serial\": 10},{\"sphere\": {\"scale\": 0.2, \"color\": \"#0000FF\"}});\n",
       "\tviewergrid_1663784333999396[0][0].render();\n",
       "\tviewergrid_1663784333999396[0][1].render();\n",
       "\tviewergrid_1663784333999396[0][0].addUnitCell({\"model\": -1},{\"box\": {\"color\": \"black\"}, \"alabel\": \"\", \"blabel\": \"\", \"clabel\": \"\"});\n",
       "\tviewergrid_1663784333999396[0][1].addUnitCell({\"model\": -1},{\"box\": {\"color\": \"black\"}, \"alabel\": \"\", \"blabel\": \"\", \"clabel\": \"\"});\n",
       "\tviewergrid_1663784333999396[0][0].zoomTo();\n",
       "\tviewergrid_1663784333999396[0][1].zoomTo();\n",
       "\tviewergrid_1663784333999396[0][0].zoom(1.5);\n",
       "\tviewergrid_1663784333999396[0][1].zoom(1.5);\n",
       "viewergrid_1663784333999396[0][1].render();\n",
       "viewergrid_1663784333999396[0][0].render();\n",
       "});\n",
       "</script>"
      ]
     },
     "metadata": {},
     "output_type": "display_data"
    }
   ],
   "source": [
    "name2 = 'glycine2'\n",
    "ifile = open(name2+'.xyz')\n",
    "gly2 = read_xyz(ifile, fragmentation='single')\n",
    "ifile.close()\n",
    "\n",
    "molecules = []\n",
    "molecules.append(gly1)\n",
    "molecules.append(gly2)\n",
    "gridlist = [[0, 0], [0, 1]]\n",
    "colordict = [{\"FRA:0\": '#FF0000'}, {\"FRA:0\": '#0000FF'}]\n",
    "viz = InlineVisualizer(300, 300, nrow=1, ncol=2)\n",
    "viz.display_system(*molecules, gridlist=gridlist, colordict=colordict, zoom=1.5)"
   ]
  },
  {
   "cell_type": "code",
   "execution_count": 7,
   "metadata": {
    "colab": {
     "base_uri": "https://localhost:8080/"
    },
    "id": "geMr94fOQqjc",
    "outputId": "7b39f3b6-3f14-4f7c-80fd-8f1258122aba"
   },
   "outputs": [
    {
     "name": "stdout",
     "output_type": "stream",
     "text": [
      "Cubic scaling Delta E = 0.098 eV\n",
      "Linear scaling Delta E = 0.118 eV, Delta E_linear - Delta E_cubic = 1.9 meV/atom\n"
     ]
    }
   ],
   "source": [
    "run_cubic2 = calc.run(input=inpc, name=name2+'_cubic', posinp=name2+'.xyz')\n",
    "deltae_cubic = Ha2eV * (run_cubic2.energy - run_cubic.energy)\n",
    "\n",
    "print('Cubic scaling Delta E = '+'{0:.3f}'.format(deltae_cubic)+' eV')\n",
    "\n",
    "run_linear2 = calc.run(input=inpl, name=name2+'_linear', posinp=name2+'.xyz')\n",
    "deltae_linear = Ha2eV * (run_linear2.energy - run_linear.energy)\n",
    "   \n",
    "error = (deltae_linear - deltae_cubic) / run_cubic.nat                 \n",
    "print('Linear scaling Delta E = '+'{0:.3f}'.format(deltae_linear)+' eV, Delta E_linear - Delta E_cubic = '+\\\n",
    "      '{0:.1f}'.format(1000.0 * (error))+' meV/atom')"
   ]
  },
  {
   "cell_type": "markdown",
   "metadata": {
    "id": "pQecilLbQqjc"
   },
   "source": [
    "As you can see, we benefit significantly from error cancellation, despite the fact that the support function optimisation means the basis set is not identical between the two conformers.\n",
    "\n",
    "### Convergence\n",
    "\n",
    "In many cases, the accuracy of the default linear profile is already sufficient. However, we may sometimes wish to push the accuracy further. In order to understand how, let's look at the input file in more detail.\n",
    "\n",
    "The support function (SF) basis is defined by a number of key parameters, which we can see if we inspect the ```lin_basis_params``` section of the logfile. Let's take a look."
   ]
  },
  {
   "cell_type": "code",
   "execution_count": 8,
   "metadata": {
    "colab": {
     "base_uri": "https://localhost:8080/"
    },
    "id": "6uulzJcJQqjd",
    "outputId": "3576c83b-86e5-432b-d20c-472b438eda88"
   },
   "outputs": [
    {
     "name": "stdout",
     "output_type": "stream",
     "text": [
      "H {'nbasis': 1, 'rloc': 5.0}\n",
      "C {'nbasis': 4, 'rloc': 5.5}\n",
      "N {'nbasis': 4, 'rloc': 5.5}\n",
      "O {'nbasis': 4, 'rloc': 5.5}\n"
     ]
    }
   ],
   "source": [
    "# the basis params are defined on a per-element basis, with a default value for unlisted elements\n",
    "# let's just look at the elements which are in glycine\n",
    "elements = ['H', 'C', 'N', 'O']\n",
    "for element in elements:\n",
    "    print(element, run_linear.log['lin_basis_params'][element])"
   ]
  },
  {
   "cell_type": "markdown",
   "metadata": {
    "id": "67Xzek3EQqjd"
   },
   "source": [
    "As you can see, here we have a minimal basis, with only _s_-like SFs for H, and both _s_ and _p_-like SFs for C, N, O. You can also see that the localisation radii is smaller for H than for the other elements. If we want to increase the accuracy of our LS calculation, we can vary rloc.\n",
    "\n",
    "For simplicity, let's set all the elements to have the same localisation radius, and see how the total energy converges with repect to increasing localisation radius.\n"
   ]
  },
  {
   "cell_type": "code",
   "execution_count": 9,
   "metadata": {
    "colab": {
     "base_uri": "https://localhost:8080/"
    },
    "id": "lDL9XrT6Qqjd",
    "outputId": "0e4804be-e674-4585-bddb-e7fc5849e3bd"
   },
   "outputs": [
    {
     "name": "stdout",
     "output_type": "stream",
     "text": [
      "Calculation with rloc = 5 is complete\n",
      "Calculation with rloc = 6 is complete\n",
      "Calculation with rloc = 7 is complete\n",
      "Calculation with rloc = 8 is complete\n",
      "Calculation with rloc = 9 is complete\n"
     ]
    }
   ],
   "source": [
    "# define a range of sensible values -- too small and the results will be nonsensical\n",
    "rlocs = range(5, 10)\n",
    "\n",
    "rloc_runs = []\n",
    "for rloc in rlocs:\n",
    "    # define the input dictionary depending on the value of rloc\n",
    "    inpl.update({'lin_basis_params': {'H': {'nbasis': 1, 'rloc': rloc},\n",
    "                                     'C': {'nbasis': 4, 'rloc': rloc},\n",
    "                                     'N': {'nbasis': 4, 'rloc': rloc},\n",
    "                                     'O': {'nbasis': 4, 'rloc': rloc}}})\n",
    "    \n",
    "    # run LS-BigDFT, saving the run to a list\n",
    "    rloc_runs.append(calc.run(input=inpl, name=name+'_rloc'+str(rloc), posinp=name+'.xyz'))\n",
    "    \n",
    "    print('Calculation with rloc = '+str(rloc)+' is complete')"
   ]
  },
  {
   "cell_type": "markdown",
   "metadata": {
    "id": "mmjxxHdJQqje"
   },
   "source": [
    "Note that for larger localisation radii, it's also necessary to increase both ```rloc_kernel``` and ```rloc_kernel_foe```,  which define the localisation radii for the density kernel and the matrix vector muliplications used by the Fermi Operator Expansion approach. Both variables are also part of ```lin_basis_params```."
   ]
  },
  {
   "cell_type": "markdown",
   "metadata": {
    "id": "xY0CFd54Qqje"
   },
   "source": [
    "Let's plot the total energy convergence, using the cubic scaling energy as a reference."
   ]
  },
  {
   "cell_type": "code",
   "execution_count": 10,
   "metadata": {
    "colab": {
     "base_uri": "https://localhost:8080/",
     "height": 399
    },
    "id": "G5avtkqOQqje",
    "outputId": "a01d73cd-7675-4966-dc1c-884cc0c52435"
   },
   "outputs": [
    {
     "data": {
      "image/png": "[encoded data removed]",
      "text/plain": [
       "<Figure size 576x432 with 1 Axes>"
      ]
     },
     "metadata": {
      "needs_background": "light"
     },
     "output_type": "display_data"
    }
   ],
   "source": [
    "from matplotlib import pyplot as plt\n",
    "import matplotlib.ticker as ticker\n",
    "\n",
    "plt.rcParams.update({'font.size': 14})\n",
    "fig, ax = plt.subplots(1, 1, figsize=(8, 6))\n",
    "\n",
    "ax.plot(rlocs, [1000.0 * Ha2eV * (run.energy - run_cubic.energy)/run.nat for run in rloc_runs],\n",
    "        color='k', marker='o')\n",
    "\n",
    "ax.set_ylabel('$E_{linear} - E_{cubic}$ (meV/atom)')\n",
    "ax.set_xlabel('$R_{\\mathrm{loc}}$ (bohr)')\n",
    "\n",
    "ax.xaxis.set_major_locator(ticker.MultipleLocator(1))\n",
    "\n",
    "plt.show()"
   ]
  },
  {
   "cell_type": "markdown",
   "metadata": {
    "id": "zKNt-i8yQqjf"
   },
   "source": [
    "As we can see, the error decreases monotonically with the localisation radius, being less than a few meV/atom for the largest radii.\n",
    "\n",
    "It's also interesting to see how the time varies. Let's generate a table summarising both the energies and timings."
   ]
  },
  {
   "cell_type": "code",
   "execution_count": 11,
   "metadata": {
    "colab": {
     "base_uri": "https://localhost:8080/",
     "height": 238
    },
    "id": "74s23zMUQqjf",
    "outputId": "ee09c86d-6778-4439-c3ef-4ee7a23011ba"
   },
   "outputs": [
    {
     "data": {
      "text/html": [
       "\n",
       "  <div id=\"df-80b8b601-489c-4200-af1d-8766c4761e6a\">\n",
       "    <div class=\"colab-df-container\">\n",
       "      <div>\n",
       "<style scoped>\n",
       "    .dataframe tbody tr th:only-of-type {\n",
       "        vertical-align: middle;\n",
       "    }\n",
       "\n",
       "    .dataframe tbody tr th {\n",
       "        vertical-align: top;\n",
       "    }\n",
       "\n",
       "    .dataframe thead th {\n",
       "        text-align: right;\n",
       "    }\n",
       "</style>\n",
       "<table border=\"1\" class=\"dataframe\">\n",
       "  <thead>\n",
       "    <tr style=\"text-align: right;\">\n",
       "      <th></th>\n",
       "      <th>Total Energy (eV)</th>\n",
       "      <th>Error (meV/atom)</th>\n",
       "      <th>Total Time (min.)</th>\n",
       "    </tr>\n",
       "  </thead>\n",
       "  <tbody>\n",
       "    <tr>\n",
       "      <th>LS, rloc=5 bohr</th>\n",
       "      <td>-1617.88</td>\n",
       "      <td>64.07</td>\n",
       "      <td>1.34</td>\n",
       "    </tr>\n",
       "    <tr>\n",
       "      <th>LS, rloc=6 bohr</th>\n",
       "      <td>-1618.34</td>\n",
       "      <td>17.35</td>\n",
       "      <td>1.08</td>\n",
       "    </tr>\n",
       "    <tr>\n",
       "      <th>LS, rloc=7 bohr</th>\n",
       "      <td>-1618.45</td>\n",
       "      <td>6.44</td>\n",
       "      <td>1.27</td>\n",
       "    </tr>\n",
       "    <tr>\n",
       "      <th>LS, rloc=8 bohr</th>\n",
       "      <td>-1618.49</td>\n",
       "      <td>2.94</td>\n",
       "      <td>1.32</td>\n",
       "    </tr>\n",
       "    <tr>\n",
       "      <th>LS, rloc=9 bohr</th>\n",
       "      <td>-1618.50</td>\n",
       "      <td>1.75</td>\n",
       "      <td>1.21</td>\n",
       "    </tr>\n",
       "    <tr>\n",
       "      <th>CS</th>\n",
       "      <td>-1618.52</td>\n",
       "      <td>0.00</td>\n",
       "      <td>0.11</td>\n",
       "    </tr>\n",
       "  </tbody>\n",
       "</table>\n",
       "</div>\n",
       "      <button class=\"colab-df-convert\" onclick=\"convertToInteractive('df-80b8b601-489c-4200-af1d-8766c4761e6a')\"\n",
       "              title=\"Convert this dataframe to an interactive table.\"\n",
       "              style=\"display:none;\">\n",
       "        \n",
       "  <svg xmlns=\"http://www.w3.org/2000/svg\" height=\"24px\"viewBox=\"0 0 24 24\"\n",
       "       width=\"24px\">\n",
       "    <path d=\"M0 0h24v24H0V0z\" fill=\"none\"/>\n",
       "    <path d=\"M18.56 5.44l.94 2.06.94-2.06 2.06-.94-2.06-.94-.94-2.06-.94 2.06-2.06.94zm-11 1L8.5 8.5l.94-2.06 2.06-.94-2.06-.94L8.5 2.5l-.94 2.06-2.06.94zm10 10l.94 2.06.94-2.06 2.06-.94-2.06-.94-.94-2.06-.94 2.06-2.06.94z\"/><path d=\"M17.41 7.96l-1.37-1.37c-.4-.4-.92-.59-1.43-.59-.52 0-1.04.2-1.43.59L10.3 9.45l-7.72 7.72c-.78.78-.78 2.05 0 2.83L4 21.41c.39.39.9.59 1.41.59.51 0 1.02-.2 1.41-.59l7.78-7.78 2.81-2.81c.8-.78.8-2.07 0-2.86zM5.41 20L4 18.59l7.72-7.72 1.47 1.35L5.41 20z\"/>\n",
       "  </svg>\n",
       "      </button>\n",
       "      \n",
       "  <style>\n",
       "    .colab-df-container {\n",
       "      display:flex;\n",
       "      flex-wrap:wrap;\n",
       "      gap: 12px;\n",
       "    }\n",
       "\n",
       "    .colab-df-convert {\n",
       "      background-color: #E8F0FE;\n",
       "      border: none;\n",
       "      border-radius: 50%;\n",
       "      cursor: pointer;\n",
       "      display: none;\n",
       "      fill: #1967D2;\n",
       "      height: 32px;\n",
       "      padding: 0 0 0 0;\n",
       "      width: 32px;\n",
       "    }\n",
       "\n",
       "    .colab-df-convert:hover {\n",
       "      background-color: #E2EBFA;\n",
       "      box-shadow: 0px 1px 2px rgba(60, 64, 67, 0.3), 0px 1px 3px 1px rgba(60, 64, 67, 0.15);\n",
       "      fill: #174EA6;\n",
       "    }\n",
       "\n",
       "    [theme=dark] .colab-df-convert {\n",
       "      background-color: #3B4455;\n",
       "      fill: #D2E3FC;\n",
       "    }\n",
       "\n",
       "    [theme=dark] .colab-df-convert:hover {\n",
       "      background-color: #434B5C;\n",
       "      box-shadow: 0px 1px 3px 1px rgba(0, 0, 0, 0.15);\n",
       "      filter: drop-shadow(0px 1px 2px rgba(0, 0, 0, 0.3));\n",
       "      fill: #FFFFFF;\n",
       "    }\n",
       "  </style>\n",
       "\n",
       "      <script>\n",
       "        const buttonEl =\n",
       "          document.querySelector('#df-80b8b601-489c-4200-af1d-8766c4761e6a button.colab-df-convert');\n",
       "        buttonEl.style.display =\n",
       "          google.colab.kernel.accessAllowed ? 'block' : 'none';\n",
       "\n",
       "        async function convertToInteractive(key) {\n",
       "          const element = document.querySelector('#df-80b8b601-489c-4200-af1d-8766c4761e6a');\n",
       "          const dataTable =\n",
       "            await google.colab.kernel.invokeFunction('convertToInteractive',\n",
       "                                                     [key], {});\n",
       "          if (!dataTable) return;\n",
       "\n",
       "          const docLinkHtml = 'Like what you see? Visit the ' +\n",
       "            '<a target=\"_blank\" href=https://colab.research.google.com/notebooks/data_table.ipynb>data table notebook</a>'\n",
       "            + ' to learn more about interactive tables.';\n",
       "          element.innerHTML = '';\n",
       "          dataTable['output_type'] = 'display_data';\n",
       "          await google.colab.output.renderOutput(dataTable, element);\n",
       "          const docLink = document.createElement('div');\n",
       "          docLink.innerHTML = docLinkHtml;\n",
       "          element.appendChild(docLink);\n",
       "        }\n",
       "      </script>\n",
       "    </div>\n",
       "  </div>\n",
       "  "
      ],
      "text/plain": [
       "                 Total Energy (eV)  Error (meV/atom)  Total Time (min.)\n",
       "LS, rloc=5 bohr           -1617.88             64.07               1.34\n",
       "LS, rloc=6 bohr           -1618.34             17.35               1.08\n",
       "LS, rloc=7 bohr           -1618.45              6.44               1.27\n",
       "LS, rloc=8 bohr           -1618.49              2.94               1.32\n",
       "LS, rloc=9 bohr           -1618.50              1.75               1.21\n",
       "CS                        -1618.52              0.00               0.11"
      ]
     },
     "execution_count": 11,
     "metadata": {},
     "output_type": "execute_result"
    }
   ],
   "source": [
    "import pandas as pd\n",
    "from IPython.display import display\n",
    "\n",
    "rows = ['LS, rloc='+str(rloc)+' bohr' for rloc in rlocs]\n",
    "rows += ['CS']\n",
    "columns = ['Total Energy (eV)', 'Error (meV/atom)', 'Total Time (min.)']\n",
    "\n",
    "table_data = []\n",
    "\n",
    "for run in rloc_runs:\n",
    "    table_data.append([Ha2eV * run.energy, 1000.0 * Ha2eV * (run.energy - run_cubic.energy) / run.nat,\n",
    "                 run.log['Timings for root process']['Elapsed time (s)'] / 60.0])\n",
    "    \n",
    "table_data.append([Ha2eV * run_cubic.energy, 0.0, cubic_time])\n",
    "\n",
    "table = pd.DataFrame(table_data, index=rows, columns=columns)\n",
    "\n",
    "table.round(2)"
   ]
  },
  {
   "cell_type": "markdown",
   "metadata": {
    "id": "l3PSqfULQqjf"
   },
   "source": [
    "Here we see that the walltime does not vary as systematically as the energy. This is because, while the cost of a given operation may increase due to larger localisation radii, the number of iterations may sometimes decrease when using larger radii. \n",
    "\n",
    "This behaviour is also very system dependent, since for this system size the matrices are fully dense, whereas for larger systems the sparsity pattern will influence the computational cost.\n",
    "\n",
    "### Exercise\n",
    "\n",
    "- Using the same input file, vary the localisation radius for the second glycine conformer. \n",
    "\n",
    "Use the same naming scheme, i.e. the runs should be called 'glycine2_rloc{r}.yaml', where r is the localisation radius (this would ease the retrieval of dry-run data)"
   ]
  },
  {
   "cell_type": "markdown",
   "metadata": {
    "id": "9UXnzu_2Qqjf"
   },
   "source": [
    "- Plot the convergence in the error of the _relative_ energies, again using the cubic scaling values as a reference."
   ]
  },
  {
   "cell_type": "markdown",
   "metadata": {
    "id": "YgQRjuMpQqjg"
   },
   "source": [
    "You should find that the errors are much smaller than for the total energies, regardless of the localisation radius.\n",
    "\n",
    "You may also notice that the error does not tail off exactly to zero. This small error can be reduced by fine-tuning other parameters, such as the convergence thresholds.\n",
    "\n",
    "In additon, as well as varying the localisation radii, we can also increase the number of SFs associated with each species. This can be useful in the case of heavier elements, either to ensure better convergence or guided by the pseudopotential definition, as well as for excited state simulations, as discussed in the tutorial on transition-based constrained DFT. But for most systems containing only light elements, a minimal basis will be sufficient.\n",
    "\n",
    "It is also possible to change parameters relating to the SF opimisation, including the convergence threshold, number of SF optimisation iterations etc. These are defined in the ```lin_basis``` input block, and the default values are printed below. In most cases (with the exception of fragment calculations, as we will see in later tutorials), it will not be necessary to adapt any of the parameters."
   ]
  },
  {
   "cell_type": "code",
   "execution_count": 12,
   "metadata": {
    "colab": {
     "base_uri": "https://localhost:8080/"
    },
    "id": "6jmZPFpOQqjg",
    "outputId": "de299e25-40fb-41ed-e35e-c6f5b0ed054b"
   },
   "outputs": [
    {
     "name": "stdout",
     "output_type": "stream",
     "text": [
      "{'nit': 8, 'idsx': 8, 'gnrm_cv': 0.002, 'deltae_cv': 0.0001, 'min_gnrm_for_dynamic': 0.004, 'alpha_diis': 0.5, 'alpha_sd': 0.5, 'nstep_prec': 6, 'fix_basis': 1e-12, 'correction_orthoconstraint': 0, 'gnrm_ig': 0.1, 'reset_DIIS_history': True, 'nit_ig': 50, 'extended_ig': False, 'orthogonalize_sfs': True, 'gnrm_dyn': 0.0001, 'orthogonalize_ao': True}\n"
     ]
    }
   ],
   "source": [
    "print(run_linear.log['lin_basis'])"
   ]
  },
  {
   "cell_type": "markdown",
   "metadata": {
    "id": "0X9zSguQQqji"
   },
   "source": [
    "## Density Kernel Parameters\n",
    "\n",
    "As well as the SF optimisation, we can also adjust the parameters relating to density kernel optimisation, which are defined in the ```lin_kernel``` block.\n",
    "\n",
    "Of these, one of the most important parameters is the approach used for kernel optimisation, which is set using the ```linear_method``` keyword.\n",
    "\n",
    "The linear scaling profile uses the Fermi Operator Expansion (```FOE```) approach, which is the recommended approach in most cases, particularly for very large systems. However, two other approaches are also available: direct minimisation of the Kohn Sham (KS) coefficients (```DIRMIN```), and diagonalisation (```DIAG```).\n",
    "\n",
    "These other approaches may be useful in different scenarios, as we will see.\n",
    "\n",
    "### Density of States\n",
    "\n",
    "First let's think about plotting a density of states (DoS). The LS runs we did all used FOE, which works directly with the density kernel, not the coefficients. As a result, in a standard calculation, we don't have access to the eigenvalues. \n",
    "\n",
    "If we want to plot the DoS we could use the diagonalisation approach instead, or we can still use FOE, and just tell BigDFT to do a single diagonalisation at the end. Let's do that and rerun one of the calculations."
   ]
  },
  {
   "cell_type": "code",
   "execution_count": 13,
   "metadata": {
    "id": "HribZaxfQqjj"
   },
   "outputs": [],
   "source": [
    "# turn on subspace diagonalisation\n",
    "inpl.update({'lin_general': {'subspace_diag': True}})\n",
    "\n",
    "# reset to the default rloc\n",
    "inpl.pop('lin_basis_params')\n",
    "\n",
    "run_linear_dos = calc.run(input=inpl, name=name+'_linear_dos', posinp=name+'.xyz')"
   ]
  },
  {
   "cell_type": "markdown",
   "metadata": {
    "id": "ShYfFpMwQqjj"
   },
   "source": [
    "We can now plot the DoS, comparing it to CS BigDFT (see the tutorial on the DoS for more information on how to extract and plot the DoS).\n",
    "\n",
    "Note that the Fermi level is not automatically retrieved for LS-BigDFT, so we'll use the CS Fermi level."
   ]
  },
  {
   "cell_type": "code",
   "execution_count": 14,
   "metadata": {
    "colab": {
     "base_uri": "https://localhost:8080/",
     "height": 335
    },
    "id": "pb0KeD45Qqjj",
    "outputId": "27fdf70d-7eba-4897-ffd2-ac693cd06200"
   },
   "outputs": [
    {
     "data": {
      "image/png": "[encoded data removed]",
      "text/plain": [
       "<Figure size 460.8x345.6 with 1 Axes>"
      ]
     },
     "metadata": {
      "needs_background": "light"
     },
     "output_type": "display_data"
    }
   ],
   "source": [
    "from BigDFT.DoS import DoS\n",
    "\n",
    "dos = DoS(logfiles_dict={'Linear': run_linear_dos, 'Cubic': run_cubic},\n",
    "          fermi_level=run_cubic.fermi_level, units='eV')\n",
    "\n",
    "ax = dos.plot()\n",
    "ax.legend(loc='best')\n",
    "plt.show()"
   ]
  },
  {
   "cell_type": "markdown",
   "metadata": {
    "id": "s8ZjY_4nQqjj"
   },
   "source": [
    "There are some small discrepancies, but overall the DoS for LS and CS are similar - as with the total energy, if better agreement is required, we could increase the localisation radii.\n",
    "\n",
    "Notice, however, that the virtual states are missing for the CS DoS. Let's rerun CS BigDFT, telling it to also calculate some empty states."
   ]
  },
  {
   "cell_type": "code",
   "execution_count": 15,
   "metadata": {
    "id": "seJTb78cQqjk"
   },
   "outputs": [],
   "source": [
    "# calculate 10 virtual states using the Davidson approach after the SCF cycle\n",
    "# setting a subspace of 20 virtual orbitals\n",
    "inpc.extract_virtual_states(nvirt=10, davidson=True, norbv=20)\n",
    "\n",
    "run_cubic_dos = calc.run(input=inpc, name=name+'_cubic_dos', posinp=name+'.xyz')"
   ]
  },
  {
   "cell_type": "markdown",
   "metadata": {
    "id": "ZAp4TozUQqjk"
   },
   "source": [
    "Let's replot the DoS comparison."
   ]
  },
  {
   "cell_type": "code",
   "execution_count": 16,
   "metadata": {
    "colab": {
     "base_uri": "https://localhost:8080/",
     "height": 335
    },
    "id": "fzCmay2SQqjk",
    "outputId": "f46931b3-c714-4041-923d-82a6b16fd152"
   },
   "outputs": [
    {
     "data": {
      "image/png": "[encoded data removed]",
      "text/plain": [
       "<Figure size 460.8x345.6 with 1 Axes>"
      ]
     },
     "metadata": {
      "needs_background": "light"
     },
     "output_type": "display_data"
    }
   ],
   "source": [
    "dos = DoS(logfiles_dict={'Linear': run_linear_dos, 'Cubic': run_cubic_dos},\n",
    "          fermi_level=run_cubic.fermi_level, units='eV')\n",
    "\n",
    "ax = dos.plot()\n",
    "ax.legend(loc='best')\n",
    "plt.show()"
   ]
  },
  {
   "cell_type": "markdown",
   "metadata": {
    "id": "j5Qv1x1AQqjk"
   },
   "source": [
    "Now we have the virtual states for both approaches, we can see that the agreement above the Fermi level is very poor. This is expected, as the SFs have been optimised to represent the occupied states only. Also, the Cubic Scaling suffers of the so-called continuum collapse, where unoccupied states of positive energy (for molecular systems) tend to accumulate to very low energy values.\n",
    "\n",
    "It is possible to also optimise the SFs to represent the low-lying virtual states (with negative energy) using the direct minimisation approach, as is explained in more detail in the tutorial on transition-based constrained DFT.\n",
    "\n",
    "As with SF optimisation parameters, the rest of the density kernel optimisation parameters can be safely kept at their default values for most calculations, except in the case of fragment calculations, as we will also see in later tutorials."
   ]
  },
  {
   "cell_type": "markdown",
   "metadata": {
    "id": "vLKOmrrbQqjk"
   },
   "source": [
    "## From Linear Scaling to Cubic Scaling\n",
    "\n",
    "Let's now briefly look at I/O in LS-BigDFT. By default, the profile will output the SF matrices (kernel, overlap etc.), however we may also wish to output the SFs themselves, either for visualisation, or for doing a restart calculation.\n",
    "\n",
    "This is activated by using the ```output_wf``` keyword in ```lin_general```. A restart calculation can then be performed starting from these SFs, which you can see an example of in the fragment tutorials.\n",
    "\n",
    "We also have another possibility - we can write the KS wavefunctions themselves, in a format which can be used for CS BigDFT. Let's try this now."
   ]
  },
  {
   "cell_type": "code",
   "execution_count": 17,
   "metadata": {
    "colab": {
     "base_uri": "https://localhost:8080/"
    },
    "id": "tXlzEuhAQqjl",
    "outputId": "0cba52b5-d45a-4ec8-f23b-53778ac3d5a8"
   },
   "outputs": [
    {
     "name": "stdout",
     "output_type": "stream",
     "text": [
      "Linear scaling calculation took 73.3 seconds, E = -161.8162 eV/atom\n",
      "Cubic scaling calculation took 1.0 seconds, E = -161.8164 eV/atom\n"
     ]
    }
   ],
   "source": [
    "# tell BigDFT to output the KS orbitals in text format\n",
    "inpl.update({'output': {'orbitals': 'text'}})\n",
    "\n",
    "run_linear_write = calc.run(input=inpl, name=name+'_linear_write', posinp=name+'.xyz')\n",
    "linear_write_energy = Ha2eV * run_linear_write.energy / run_linear_write.nat\n",
    "linear_write_time = run_linear_write.log['Timings for root process']['Elapsed time (s)']\n",
    "\n",
    "print('Linear scaling calculation took '+'{0:.1f}'.format(linear_write_time)+' seconds, E = '+\\\n",
    "      '{0:.4f}'.format(linear_write_energy)+' eV/atom')\n",
    "\n",
    "# and then run CS BigDFT using this as an input, without any further optimisation\n",
    "inpc['dft'].update({'inputpsiid': 2, 'itermax': 1}) \n",
    "# we also need to tell CS BigDFT what directory the files are in\n",
    "inpc.update({'radical': name+'_linear_write'})\n",
    "# and let's turn off the virtual states\n",
    "inpc.extract_virtual_states(nvirt=0)\n",
    "\n",
    "run_cubic_read = calc.run(input=inpc, name=name+'_cubic_read', posinp=name+'.xyz')\n",
    "cubic_read_energy = Ha2eV * run_cubic_read.energy / run_cubic_read.nat\n",
    "cubic_read_time = run_cubic_read.log['Timings for root process']['Elapsed time (s)']\n",
    "\n",
    "print('Cubic scaling calculation took '+'{0:.1f}'.format(cubic_read_time)+' seconds, E = '+\\\n",
    "      '{0:.4f}'.format(cubic_read_energy)+' eV/atom')"
   ]
  },
  {
   "cell_type": "markdown",
   "metadata": {
    "id": "kcEExIdVQqjl"
   },
   "source": [
    "You can see that the two calculations have very similar energies, apart from a small numerical discrepancy, but since we did not further optimise the KS orbitals, the cubic scaling calculation was very quick."
   ]
  },
  {
   "cell_type": "markdown",
   "metadata": {
    "id": "kFhNeEnUQqjl"
   },
   "source": [
    "## Linear Scaling BigDFT and HPC\n",
    "\n",
    "In this notebook the calculations were performed only using a handful of cores, however for most interesting systems where LS-BigDFT is applicable, we will be using supercomputers, with very many cores. There are a few extra points to bear in mind for such calculations:\n",
    "- GPUs: Not available with LS-BigDFT.\n",
    "- OpenMP: Up to 8 threads can typically be used without too large a loss of efficiency, but for low memory nodes it may be necessary to use more threads to avoid under-occupying a node.\n",
    "- MPI: MPI tasks are primarily parellelised over SFs (also in places over KS orbitals as in CS-BigDFT), so there is a strict maximum upper limit of MPI tasks which can be used. For best performance, it is better to have at leat 5-10 SFs per MPI.\n",
    "\n",
    "We can check the parallelisation setup by inspecting the logfile:"
   ]
  },
  {
   "cell_type": "code",
   "execution_count": 18,
   "metadata": {
    "colab": {
     "base_uri": "https://localhost:8080/"
    },
    "id": "ni1CU4KKQqjm",
    "outputId": "95765c71-3659-4efc-f880-b831f18b30f4"
   },
   "outputs": [
    {
     "name": "stdout",
     "output_type": "stream",
     "text": [
      "MPI tasks =  2\n",
      "OpenMP threads =  2\n",
      "Orbitals repartition {'MPI tasks  0- 0': 8, 'MPI tasks  1- 1': 7}\n",
      "Support function repartition {'Minimum': 12, 'Maximum': 13, 'Average': 12.5}\n"
     ]
    }
   ],
   "source": [
    "print('MPI tasks = ',run_linear.log['Number of MPI tasks'])\n",
    "print('OpenMP threads = ',run_linear.log['Maximal OpenMP threads per MPI task'])\n",
    "\n",
    "print('Orbitals repartition', run_linear.log['Orbitals Repartition'])\n",
    "print('Support function repartition',run_linear.log['Support Function Repartition'])"
   ]
  },
  {
   "cell_type": "markdown",
   "metadata": {
    "id": "9KktjrstQqjm"
   },
   "source": [
    "Here we can easily see that we have enough SFs per MPI to run efficiently, with each task having enough work and a well-balanced setup."
   ]
  },
  {
   "cell_type": "markdown",
   "metadata": {
    "id": "7Il9CG4DQqjm"
   },
   "source": [
    "## When to use Linear Scaling BigDFT\n",
    "\n",
    "As a final note, we may ask how to decide when to use LS vs CS BigDFT. This may depend on both the functionality we wish to use, e.g. hybrid functionals and _k_-points are only available in CS-BigDFT, whereas the complexity reduction framework is only compatible with LS-BigDFT.\n",
    "\n",
    "In addition, the applicability of each method will depend on the size of the system. For small systems, CS will be cheaper due to the smaller prefactor, as we already saw in this tutorial. The crossover point at which LS becomes cheaper is system dependent and influenced by a range of factors, including band gap, dimensionality, and various input parameters such as the localisation radii. Therefore it may be important to investigate on a system-dependent basis, but as a rule of thumb, above 1000 atoms it will usually be cheaper to use LS-BigDFT."
   ]
  },
  {
   "cell_type": "code",
   "execution_count": null,
   "metadata": {
    "id": "ovTfZ11TQqjm"
   },
   "outputs": [],
   "source": []
  }
 ],
 "metadata": {
  "colab": {
   "provenance": []
  },
  "kernelspec": {
   "display_name": "Python 3 (ipykernel)",
   "language": "python",
   "name": "python3"
  },
  "language_info": {
   "codemirror_mode": {
    "name": "ipython",
    "version": 3
   },
   "file_extension": ".py",
   "mimetype": "text/x-python",
   "name": "python",
   "nbconvert_exporter": "python",
   "pygments_lexer": "ipython3",
   "version": "3.9.16"
  }
 },
 "nbformat": 4,
 "nbformat_minor": 4
}
