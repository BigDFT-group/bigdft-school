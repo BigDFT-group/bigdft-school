{
 "cells": [
  {
   "cell_type": "code",
   "execution_count": null,
   "id": "49886ea9",
   "metadata": {},
   "outputs": [],
   "source": [
    "from BigDFT.IO import XYZReader\n",
    "from BigDFT.Systems import System\n",
    "from BigDFT.Fragments import Fragment\n",
    "\n",
    "sys = System()\n",
    "sys[\"WAT:0\"] = Fragment()\n",
    "\n",
    "with XYZReader(\"H2O\") as ifile:\n",
    "    for at in ifile:\n",
    "        sys[\"WAT:0\"].append(at)"
   ]
  },
  {
   "cell_type": "code",
   "execution_count": null,
   "id": "4716f158",
   "metadata": {},
   "outputs": [],
   "source": [
    "inp = {}\n",
    "inp[\"WaveFunction\"] = {\"method\": \"PBE\"}\n",
    "inp[\"world_prec\"] = 1.0e-2"
   ]
  },
  {
   "cell_type": "code",
   "execution_count": null,
   "id": "3c4a8fb3",
   "metadata": {
    "scrolled": true
   },
   "outputs": [],
   "source": [
    "from BigDFT.Interop.MRChemInterop import MRChemCalculator\n",
    "code = MRChemCalculator(mpi_run=\"mpirun -np 1\", skip=True)\n",
    "log = code.run(sys=sys, input=inp, run_dir=\"work\", name=\"test\")"
   ]
  },
  {
   "cell_type": "code",
   "execution_count": null,
   "id": "4d873a0a",
   "metadata": {},
   "outputs": [],
   "source": [
    "print(log.energy)"
   ]
  }
 ],
 "metadata": {
  "kernelspec": {
   "display_name": "Python 3 (ipykernel)",
   "language": "python",
   "name": "python3"
  },
  "language_info": {
   "codemirror_mode": {
    "name": "ipython",
    "version": 3
   },
   "file_extension": ".py",
   "mimetype": "text/x-python",
   "name": "python",
   "nbconvert_exporter": "python",
   "pygments_lexer": "ipython3",
   "version": "3.11.0"
  }
 },
 "nbformat": 4,
 "nbformat_minor": 5
}
