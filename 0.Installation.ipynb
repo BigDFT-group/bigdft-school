{
  "cells": [
    {
      "cell_type": "markdown",
      "metadata": {
        "id": "eDuqtyWFwZk3"
      },
      "source": [
        "# Install BigDFT code or client in Google Colab, locally or into your google drive folder\n",
        "This notebook will install the code in your google drive folder, which will be useful to excute the other tutorials of the school.\n",
        "\n",
        "You should provide authorisation to access your google drive after the execution of the first cell.\n",
        "\n",
        "The files of the school will go in the `bigdft-school` directory. Such folder can me moved to your local disk or deleted once you are done.\n",
        "\n",
        "The entire installation procedure should take about one minute.\n",
        "\n",
        "In the forthcoming lessons, some other packages will be also installed in this folder."
      ]
    },
    {
      "cell_type": "code",
      "execution_count": null,
      "metadata": {
        "id": "85XHZLop-7GY"
      },
      "outputs": [],
      "source": [
        "!wget https://gitlab.com/luigigenovese/bigdft-school/-/raw/main/packaging/install.py &> /dev/null\n",
        "import install\n",
        "install.full_suite() # Kernel will restart after this, it is normal. Count about 3 minutes"
      ]
    },
    {
      "cell_type": "markdown",
      "metadata": {
        "id": "ae9PJolRCX1P"
      },
      "source": [
        "The notebook should have restarted at present. You may want to remove the runtime warning at the bottom of the page.\n",
        "\n",
        "Also, you may have seen a message about an inconsistent environment at the end of the installation procedure. This message is harmless, you can safely ignore it.\n",
        "\n",
        "The install module will have to be imported again to set the notebook ready for execution.\n",
        "\n",
        "To see if everything looks OK you can execute this cell to see if an energy value is output at the end:"
      ]
    },
    {
      "cell_type": "code",
      "execution_count": 1,
      "metadata": {
        "id": "rm0l6B97wZk8",
        "outputId": "770d7d07-6d1a-456e-92e7-55ae95630306",
        "colab": {
          "base_uri": "https://localhost:8080/"
        }
      },
      "outputs": [
        {
          "output_type": "stream",
          "name": "stdout",
          "text": [
            "Executing: mkdir -p /content/bigdft-school\n",
            "\n"
          ]
        }
      ],
      "source": [
        "import install\n",
        "install.set_ready() #this resets the basic environment variables and puts us in the correct directory, (only needed for the full suite installation)"
      ]
    },
    {
      "cell_type": "code",
      "execution_count": 4,
      "metadata": {
        "id": "kR0i8GZ6_1Jh",
        "colab": {
          "base_uri": "https://localhost:8080/"
        },
        "outputId": "d2469ca0-35c0-44a6-c5d1-3e4da09a6bca"
      },
      "outputs": [
        {
          "output_type": "stream",
          "name": "stdout",
          "text": [
            "Initialize a Calculator with OMP_NUM_THREADS=1 and command /content/bigdft-school/install/bin/bigdft\n",
            "Creating the yaml input file \"./input.yaml\"\n",
            "Executing command:  /content/bigdft-school/install/bin/bigdft -s Yes\n",
            "-2.8893983558799454\n"
          ]
        }
      ],
      "source": [
        "# Test that we can import everything\n",
        "import futile\n",
        "import BigDFT\n",
        "\n",
        "# Test A Full Calculation with PyBigDFT\n",
        "from BigDFT.Systems import System\n",
        "from BigDFT.Fragments import Fragment\n",
        "from BigDFT.Atoms import Atom\n",
        "\n",
        "at = Atom({\"He\": [0, 0, 0]})\n",
        "frag = Fragment([at])\n",
        "sys = System({\"FRA:0\": frag})\n",
        "\n",
        "from BigDFT.Calculators import SystemCalculator\n",
        "code = SystemCalculator(skip=True) #this skip option would not run the code if the result is present.\n",
        "\n",
        "from BigDFT.Inputfiles import Inputfile\n",
        "inp = Inputfile()\n",
        "inp.set_xc(\"PBE\")\n",
        "inp.set_hgrid(0.4)\n",
        "\n",
        "log = code.run(sys=sys, input=inp)\n",
        "print(log.energy)\n",
        "\n"
      ]
    },
    {
      "cell_type": "markdown",
      "source": [
        "Such energy value should be `-2.8893983558799454` (Hartree)\n",
        "\n",
        "We can now present another possible installation of the code, which is performed via only the bigdft client. This installation is lighter as it only involves the python pakages employed by PyBigDFT for pre- and post- processing, and it will be enough for most of the tutorials of the school.\n"
      ],
      "metadata": {
        "id": "aGzsd8RG2fzC"
      }
    },
    {
      "cell_type": "code",
      "source": [
        "import install\n",
        "install.client(locally=True)"
      ],
      "metadata": {
        "id": "kKL2-3DY3Duf",
        "outputId": "5aee6518-bd30-4704-8b00-2f0fc08e2ca9",
        "colab": {
          "base_uri": "https://localhost:8080/"
        }
      },
      "execution_count": 3,
      "outputs": [
        {
          "output_type": "stream",
          "name": "stdout",
          "text": [
            "Executing: mkdir -p /content\n",
            "\n",
            "Executing: git clone --depth 1 https://gitlab.com/luigigenovese/bigdft-school\n",
            "Error Occurred:  \n",
            " fatal: destination path 'bigdft-school' already exists and is not an empty directory.\n",
            "\n",
            "Executing: mkdir -p /content/bigdft-school\n",
            "\n"
          ]
        }
      ]
    },
    {
      "cell_type": "markdown",
      "source": [
        "# Verification step\n",
        "Rerun the execution step now that the client is installed instead to see if the energy is the same even without the BigDFT executable.\n",
        "\n",
        "Tips: restart the runtime without erasing the files, and run the installation command. (`import install` first, then `install.client(locally=True)`)\n",
        "\n",
        "# Installation of the client on your google drive\n",
        "\n",
        "Install the bigdft client on your google drive folder to continue with the school trainings.\n",
        "\n",
        "To trigger this installation you have to authorize the usage of your google drive folder. This would prevent the installation to be performed evey time.\n",
        "\n",
        "Tips: it is just enough to remove the ``locally=True`` option.\n"
      ],
      "metadata": {
        "id": "vPRVpI7F6RFp"
      }
    },
    {
      "cell_type": "code",
      "source": [
        "install.client()"
      ],
      "metadata": {
        "id": "P7UL4ZIBId2U",
        "outputId": "ba030550-7421-4880-9296-86c231e1b259",
        "colab": {
          "base_uri": "https://localhost:8080/"
        }
      },
      "execution_count": 5,
      "outputs": [
        {
          "output_type": "stream",
          "name": "stdout",
          "text": [
            "Mounted at /content/drive\n",
            "Executing: mkdir -p /content/drive/MyDrive\n",
            "\n",
            "Executing: git clone --depth 1 https://gitlab.com/luigigenovese/bigdft-school\n",
            "Error Occurred:  \n",
            " fatal: destination path 'bigdft-school' already exists and is not an empty directory.\n",
            "\n",
            "Executing: mkdir -p /content/drive/MyDrive/bigdft-school\n",
            "\n"
          ]
        }
      ]
    },
    {
      "cell_type": "markdown",
      "source": [
        "# Installation form\n",
        "In the forthcoming notebooks you have to setup the bigdft installation each time.\n",
        "If you performed your installtion on google drive, this will just remount your drive and set the correct python environment. For the other installation flavours, it would be necessary to perform the installation steps from scratch.\n",
        "We include a form at the beginning of each notebook to suggest the preferred installation method for each session. When suitable, you can choose another one.\n",
        "\n",
        "If you want to test the form, restart the runtime, choose your installation method, and push the \"Play\" button."
      ],
      "metadata": {
        "id": "XCKvJttDV4qy"
      }
    },
    {
      "cell_type": "code",
      "source": [
        "install = \"client (Google drive)\" #@param [\"full_suite\", \"client (Google drive)\", \"client\"]\n",
        "install_var=install\n",
        "!wget https://gitlab.com/luigigenovese/bigdft-school/-/raw/main/packaging/install.py &> /dev/null\n",
        "args={'locally': True} if install == 'client' else {}\n",
        "import install\n",
        "getattr(install,install_var.split()[0])(**args)"
      ],
      "metadata": {
        "id": "1T80WRo-_Sim",
        "cellView": "form",
        "outputId": "41de63b9-1abf-49ea-d008-251dbb2e87d9",
        "colab": {
          "base_uri": "https://localhost:8080/"
        }
      },
      "execution_count": 7,
      "outputs": [
        {
          "output_type": "stream",
          "name": "stdout",
          "text": [
            "Mounted at /content/drive\n",
            "Executing: mkdir -p /content/drive/MyDrive\n",
            "\n",
            "Executing: git clone --depth 1 https://gitlab.com/luigigenovese/bigdft-school\n",
            "Error Occurred:  \n",
            " fatal: destination path 'bigdft-school' already exists and is not an empty directory.\n",
            "\n",
            "Executing: mkdir -p /content/drive/MyDrive/bigdft-school\n",
            "\n"
          ]
        }
      ]
    },
    {
      "cell_type": "markdown",
      "source": [
        "# Closing the environment\n",
        "\n",
        "There are also commodity functions which unmount your google drive (to keep it in sync with the data that have been copied in it) and to erase every file that has been put in by this school project."
      ],
      "metadata": {
        "id": "yvAx2lawWjTV"
      }
    },
    {
      "cell_type": "code",
      "source": [
        "#this command can be executed to clean completely the google drive (don't do this now, but ad the end of the school!)\n",
        "# install.purge_drive()\n"
      ],
      "metadata": {
        "id": "pwQcIIyMXAdV",
        "outputId": "1295c053-cc68-4206-bd28-7fff13d78c05",
        "colab": {
          "base_uri": "https://localhost:8080/"
        }
      },
      "execution_count": null,
      "outputs": [
        {
          "output_type": "stream",
          "name": "stdout",
          "text": [
            "Executing: rm -rf /content/drive/MyDrive/bigdft-school\n"
          ]
        }
      ]
    },
    {
      "cell_type": "code",
      "source": [
        "#we flush the google drive at the end of the process (this can take a long time. You can install locally the client if it takes too long)\n",
        "install.close_drive()"
      ],
      "metadata": {
        "id": "v_VaMsDyI3d2"
      },
      "execution_count": null,
      "outputs": []
    },
    {
      "cell_type": "code",
      "source": [],
      "metadata": {
        "id": "OjFVe4xlkMyc"
      },
      "execution_count": null,
      "outputs": []
    }
  ],
  "metadata": {
    "colab": {
      "collapsed_sections": [],
      "provenance": []
    },
    "kernelspec": {
      "display_name": "Python 3 (ipykernel)",
      "language": "python",
      "name": "python3"
    },
    "language_info": {
      "codemirror_mode": {
        "name": "ipython",
        "version": 3
      },
      "file_extension": ".py",
      "mimetype": "text/x-python",
      "name": "python",
      "nbconvert_exporter": "python",
      "pygments_lexer": "ipython3",
      "version": "3.9.7"
    }
  },
  "nbformat": 4,
  "nbformat_minor": 0
}