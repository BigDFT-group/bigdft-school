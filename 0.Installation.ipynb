{
  "cells": [
    {
      "cell_type": "markdown",
      "metadata": {
        "id": "eDuqtyWFwZk3"
      },
      "source": [
        "# Install BigDFT code or client in Google Colab, locally or into your google drive folder\n",
        "This notebook will install the code in your google drive folder, which will be useful to excute the other tutorials of the school.\n",
        "\n",
        "You should provide authorisation to access your google drive after the execution of the first cell.\n",
        "\n",
        "The files of the school will go in the `bigdft-school` directory. Such folder can me moved to your local disk or deleted once you are done.\n",
        "\n",
        "The entire installation procedure should take about one minute.\n",
        "\n",
        "In the forthcoming lessons, some other packages will be also installed in this folder."
      ]
    },
    {
      "cell_type": "code",
      "execution_count": 1,
      "metadata": {
        "id": "85XHZLop-7GY"
      },
      "outputs": [],
      "source": [
        "!wget https://gitlab.com/luigigenovese/bigdft-school/-/raw/main/packaging/install.py &> /dev/null\n",
        "import install\n",
        "install.full_suite() # Kernel will restart after this, it is normal. Count about 3 minutes"
      ]
    },
    {
      "cell_type": "markdown",
      "metadata": {
        "id": "ae9PJolRCX1P"
      },
      "source": [
        "The notebook should have restarted at present. You may want to remove the runtime warning at the bottom of the page.\n",
        "\n",
        "The install module will have to be imported again to set the notebook ready for execution.\n",
        "\n",
        "To see if everything looks OK you can execute this cell to see if an energy value is output at the end:"
      ]
    },
    {
      "cell_type": "code",
      "execution_count": null,
      "metadata": {
        "id": "rm0l6B97wZk8"
      },
      "outputs": [],
      "source": [
        "import install\n",
        "install.set_ready() #this resets the basic environment variables and puts us in the correct directory, (only needed for the full suite installation)"
      ]
    },
    {
      "cell_type": "code",
      "execution_count": null,
      "metadata": {
        "id": "kR0i8GZ6_1Jh",
        "colab": {
          "base_uri": "https://localhost:8080/"
        },
        "outputId": "7a02741c-e347-43c2-abb5-795d29b99794"
      },
      "outputs": [
        {
          "output_type": "stream",
          "name": "stdout",
          "text": [
            "Initialize a Calculator with OMP_NUM_THREADS=1 and command /content/bigdft-school/install/bin/bigdft\n",
            "Creating the yaml input file \"./input.yaml\"\n",
            "Executing command:  /content/bigdft-school/install/bin/bigdft -s Yes\n",
            "-2.8893983558799454\n"
          ]
        }
      ],
      "source": [
        "# Test that we can import everything\n",
        "import futile\n",
        "import BigDFT\n",
        "\n",
        "# Test A Full Calculation with PyBigDFT\n",
        "from BigDFT.Systems import System\n",
        "from BigDFT.Fragments import Fragment\n",
        "from BigDFT.Atoms import Atom\n",
        "\n",
        "at = Atom({\"He\": [0, 0, 0]})\n",
        "frag = Fragment([at])\n",
        "sys = System({\"FRA:0\": frag})\n",
        "\n",
        "from BigDFT.Calculators import SystemCalculator\n",
        "code = SystemCalculator(skip=True) #this skip option would not run the code if the result is present.\n",
        "\n",
        "from BigDFT.Inputfiles import Inputfile\n",
        "inp = Inputfile()\n",
        "inp.set_xc(\"PBE\")\n",
        "inp.set_hgrid(0.4)\n",
        "\n",
        "log = code.run(sys=sys, input=inp)\n",
        "print(log.energy)\n",
        "\n"
      ]
    },
    {
      "cell_type": "markdown",
      "source": [
        "Such energy value should be `-2.8893983558799454` (Hartree)\n",
        "\n",
        "We can now present another possible installation of the code, which is performed via only the bigdft client. This installation is lighter as it only involves the python pakages employed by PyBigDFT for pre- and post- processing, and it will be enough for most of the tutorials of the school.\n"
      ],
      "metadata": {
        "id": "aGzsd8RG2fzC"
      }
    },
    {
      "cell_type": "code",
      "source": [
        "install.client(locally=True)"
      ],
      "metadata": {
        "id": "kKL2-3DY3Duf"
      },
      "execution_count": null,
      "outputs": []
    },
    {
      "cell_type": "markdown",
      "source": [
        "# Exercise 1\n",
        "Rerun the notebook with the client instead to see if the energy is the same even without the BigDFT executable.\n",
        "\n",
        "Tips: restart the runtime without erasing the files, and run the installation command.\n",
        "\n",
        "# Exercise 2\n",
        "\n",
        "Install the bigdft client on your google drive folder to continue with the school trainings.\n",
        "\n",
        "To trigger this installation you have to authorize the usage of your google drive folder. This would prevent the installation to be performed evey time.\n",
        "\n",
        "Tips: it is just enough to remove the ``locally=True`` option.\n"
      ],
      "metadata": {
        "id": "vPRVpI7F6RFp"
      }
    },
    {
      "cell_type": "code",
      "source": [
        "# write your answer here"
      ],
      "metadata": {
        "id": "P7UL4ZIBId2U"
      },
      "execution_count": null,
      "outputs": []
    },
    {
      "cell_type": "code",
      "source": [
        "#we flush the google drive at the end of the process (this can take a long time. You can install locally the client if it takes too long)\n",
        "install.close_drive()"
      ],
      "metadata": {
        "id": "1T80WRo-_Sim"
      },
      "execution_count": 3,
      "outputs": []
    },
    {
      "cell_type": "code",
      "source": [],
      "metadata": {
        "id": "v_VaMsDyI3d2"
      },
      "execution_count": null,
      "outputs": []
    }
  ],
  "metadata": {
    "colab": {
      "collapsed_sections": [],
      "provenance": []
    },
    "kernelspec": {
      "display_name": "Python 3 (ipykernel)",
      "language": "python",
      "name": "python3"
    },
    "language_info": {
      "codemirror_mode": {
        "name": "ipython",
        "version": 3
      },
      "file_extension": ".py",
      "mimetype": "text/x-python",
      "name": "python",
      "nbconvert_exporter": "python",
      "pygments_lexer": "ipython3",
      "version": "3.9.7"
    }
  },
  "nbformat": 4,
  "nbformat_minor": 0
}