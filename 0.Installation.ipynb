{
 "cells": [
  {
   "cell_type": "markdown",
   "metadata": {},
   "source": [
    "# Install BigDFT code into your google drive folder\n",
    "This notebook will install the code in your google drive folder, which will be usefut to excute the other tutorials of the school.\n",
    "You should provide authorisation to access your google drive after the execution of the first cell.\n",
    "The files of the school will go in the `bigdft-school` directory. Such folder can me moved to your local disk or deleted once you are done.\n",
    "In the forthcoming lessons, some other packages will be also installed in this folder."
   ]
  },
  {
   "cell_type": "code",
   "execution_count": null,
   "metadata": {
    "id": "85XHZLop-7GY"
   },
   "outputs": [],
   "source": [
    "! wget https://gitlab.com/luigigenovese/bigdft-school/-/raw/main/packaging/install.py &> /dev/null\n",
    "import install  # Kernel will crash after this"
   ]
  },
  {
   "cell_type": "markdown",
   "metadata": {
    "id": "ae9PJolRCX1P"
   },
   "source": [
    "The notebook should have restarted at present. To see if everyithing looks OK you can execute this cell to see if an elergy value is output at the end:"
   ]
  },
  {
   "cell_type": "code",
   "execution_count": null,
   "metadata": {
    "id": "kR0i8GZ6_1Jh"
   },
   "outputs": [],
   "source": [
    "# Test that we can import everything\n",
    "import futile\n",
    "import BigDFT\n",
    "\n",
    "# Test A Full Calculation with PyBigDFT\n",
    "from BigDFT.Systems import System\n",
    "from BigDFT.Fragments import Fragment\n",
    "from BigDFT.Atoms import Atom\n",
    "\n",
    "at = Atom({\"He\": [0, 0, 0]})\n",
    "frag = Fragment([at])\n",
    "sys = System({\"FRA:0\": frag})\n",
    "\n",
    "from BigDFT.Calculators import SystemCalculator\n",
    "code = SystemCalculator()\n",
    "\n",
    "from BigDFT.Inputfiles import Inputfile\n",
    "inp = Inputfile()\n",
    "inp.set_xc(\"PBE\")\n",
    "inp.set_hgrid(0.4)\n",
    "\n",
    "log = code.run(sys=sys, input=inp)\n",
    "print(log.energy)\n",
    "\n"
   ]
  },
  {
   "cell_type": "code",
   "execution_count": null,
   "metadata": {
    "id": "aWEiwnXpDNrX"
   },
   "outputs": [],
   "source": []
  }
 ],
 "metadata": {
  "colab": {
   "collapsed_sections": [],
   "provenance": []
  },
  "kernelspec": {
   "display_name": "Python 3 (ipykernel)",
   "language": "python",
   "name": "python3"
  },
  "language_info": {
   "codemirror_mode": {
    "name": "ipython",
    "version": 3
   },
   "file_extension": ".py",
   "mimetype": "text/x-python",
   "name": "python",
   "nbconvert_exporter": "python",
   "pygments_lexer": "ipython3",
   "version": "3.9.7"
  }
 },
 "nbformat": 4,
 "nbformat_minor": 4
}
