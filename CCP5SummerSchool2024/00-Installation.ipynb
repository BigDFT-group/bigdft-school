{
 "cells": [
  {
   "cell_type": "markdown",
   "metadata": {
    "id": "eDuqtyWFwZk3"
   },
   "source": [
    "# Install BigDFT code or client in Google Colab, locally or into your google drive folder\n",
    "This notebook will install the code in your google drive folder, which will be useful to excute the other tutorials of the school.\n",
    "\n",
    "You should provide authorisation to access your google drive after the execution of the first cell.\n",
    "\n",
    "The files of the school will go in the `bigdft-school` directory. Such folder can be moved to your local disk or deleted once you are done.\n",
    "\n",
    "The entire installation procedure should take about one minute.\n",
    "\n",
    "In the forthcoming lessons, some other packages will be also installed in this folder."
   ]
  },
  {
   "cell_type": "code",
   "execution_count": null,
   "metadata": {
    "cellView": "form",
    "id": "Cul4g5UBCMs_"
   },
   "outputs": [],
   "source": [
    "install = \"client\" #@param [\"full_suite\", \"client\"]\n",
    "use_google_drive = False # @param {type:\"boolean\"}\n",
    "install_var=install\n",
    "!wget https://raw.githubusercontent.com/BigDFT-group/bigdft-school/data/packaging/install.py &> /dev/null\n",
    "args={'locally': True} if not use_google_drive else {}\n",
    "import install\n",
    "getattr(install,install_var.split()[0])(**args)"
   ]
  },
  {
   "cell_type": "code",
   "execution_count": null,
   "metadata": {
    "id": "bVdpEFCVE3oV"
   },
   "outputs": [],
   "source": [
    "from BigDFT import Systems"
   ]
  },
  {
   "cell_type": "markdown",
   "metadata": {
    "id": "Jl2TTDS2E79K"
   },
   "source": [
    "Done! Now you can move to the [next tutorial](https://colab.research.google.com/github/BigDFT-group/bigdft-school/blob/main/CCWinterSchool-2024/1.0.QuickStart.ipynb)"
   ]
  },
  {
   "cell_type": "code",
   "execution_count": null,
   "metadata": {
    "id": "sgy5MvMUviBP"
   },
   "outputs": [],
   "source": [
    "! pip install -q PyBigDFT > /dev/null 2> /dev/null\n",
    "! pip install -q pyscf > /dev/null 2> /dev/null\n",
    "! pip install -q py3dmol > /dev/null 2> /dev/null\n",
    "! pip install -q matplotlib > /dev/null 2> /dev/null"
   ]
  }
 ],
 "metadata": {
  "colab": {
   "provenance": []
  },
  "kernelspec": {
   "display_name": "Python 3 (ipykernel)",
   "language": "python",
   "name": "python3"
  },
  "language_info": {
   "codemirror_mode": {
    "name": "ipython",
    "version": 3
   },
   "file_extension": ".py",
   "mimetype": "text/x-python",
   "name": "python",
   "nbconvert_exporter": "python",
   "pygments_lexer": "ipython3",
   "version": "3.10.12"
  }
 },
 "nbformat": 4,
 "nbformat_minor": 1
}
