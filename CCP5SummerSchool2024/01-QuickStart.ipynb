{
 "cells": [
  {
   "cell_type": "markdown",
   "id": "3c14cd83",
   "metadata": {
    "id": "similar-reply"
   },
   "source": [
    "# Quick Start - From Python\n",
    "\n",
    "Here we present a broad overview of using the PyBigDFT library to drive BigDFT calculations using Python. Such an overview is intended to provide an initial walkthrough among the basic functionalities of the PyBigDFT objects and API.\n",
    "\n",
    "The other notebooks of this section will present the main details of each of the functionalities described here."
   ]
  },
  {
   "cell_type": "markdown",
   "id": "c13b28e3",
   "metadata": {},
   "source": [
    "## Installation\n",
    "\n",
    "If you have installed from source, you should make sure you have setup the proper environment variables using the following command:\n",
    "```\n",
    "source install/bin/bigdftvars.sh\n",
    "```\n",
    "\n",
    "### Colab Installation\n",
    "\n",
    "We will install BigDFT using Conda. First we need to setup conda."
   ]
  },
  {
   "cell_type": "code",
   "execution_count": null,
   "id": "cfc5ef29",
   "metadata": {},
   "outputs": [],
   "source": [
    "! pip install -q condacolab\n",
    "import condacolab\n",
    "condacolab.install()"
   ]
  },
  {
   "cell_type": "markdown",
   "id": "b1439507",
   "metadata": {},
   "source": [
    "When this finishes, the kernel will crash. This is necessary. After it restarts, you can proceed to install the BigDFT executable."
   ]
  },
  {
   "cell_type": "code",
   "execution_count": null,
   "id": "b30cd1ef",
   "metadata": {},
   "outputs": [],
   "source": [
    "! conda install -c \"conda-forge/label/bigdft_dev\" bigdft-suite  > /dev/null  2> /dev/null"
   ]
  },
  {
   "cell_type": "markdown",
   "id": "ebb3dfbf",
   "metadata": {},
   "source": [
    "And the required python libraries for this notebook."
   ]
  },
  {
   "cell_type": "code",
   "execution_count": null,
   "id": "565844b2",
   "metadata": {},
   "outputs": [],
   "source": [
    "! pip install PyBigDFT  > /dev/null  2> /dev/null\n",
    "! pip install py3dmol  > /dev/null  2> /dev/null"
   ]
  },
  {
   "cell_type": "markdown",
   "id": "fc01e806",
   "metadata": {
    "id": "59c59d05"
   },
   "source": [
    "## System Manipulation\n",
    "Here we define a system which is compsed of two fragments: H2 and Helium."
   ]
  },
  {
   "cell_type": "code",
   "execution_count": null,
   "id": "6cc0f820",
   "metadata": {
    "id": "jewish-country",
    "tags": []
   },
   "outputs": [],
   "source": [
    "from BigDFT.Systems import System\n",
    "from BigDFT.Fragments import Fragment\n",
    "from BigDFT.Atoms import Atom\n",
    "from BigDFT.Visualization import InlineVisualizer"
   ]
  },
  {
   "cell_type": "code",
   "execution_count": null,
   "id": "53e44b4d",
   "metadata": {
    "id": "bored-scottish",
    "tags": []
   },
   "outputs": [],
   "source": [
    "# Create Three Atoms\n",
    "at1 = Atom({\"r\": [0, 0, 0], \"sym\": \"H\", \"units\": \"bohr\"})\n",
    "at2 = Atom({\"r\": [0, 0, 1.4], \"sym\": \"H\", \"units\": \"bohr\"})\n",
    "at3 = Atom({\"r\": [10, 0, 0], \"sym\": \"He\", \"units\": \"bohr\"})\n",
    "\n",
    "# Construct a System from Two Fragments (H2, He)\n",
    "sys = System()\n",
    "sys[\"H2:1\"] = Fragment([at1, at2])\n",
    "sys[\"He:2\"] = Fragment([at3])\n",
    "\n",
    "# Iterate Over The System\n",
    "for fragid, frag in sys.items():\n",
    "    for at in frag:\n",
    "        print(fragid, at.sym, at.get_position())"
   ]
  },
  {
   "cell_type": "code",
   "execution_count": null,
   "id": "e06388a6",
   "metadata": {
    "id": "colonial-bottom",
    "tags": []
   },
   "outputs": [],
   "source": [
    "_ = sys.display()"
   ]
  },
  {
   "cell_type": "markdown",
   "id": "771ca27b",
   "metadata": {
    "id": "caring-timeline"
   },
   "source": [
    "## Calculation\n",
    "Calculate the created system using a grid spacing of $0.4$ and the PBE functional. A logfile is generated from which we can access the computed properties. This logfile has built in properties and can be accessed like a dictionary."
   ]
  },
  {
   "cell_type": "code",
   "execution_count": null,
   "id": "60126cc2",
   "metadata": {
    "id": "acquired-headline",
    "tags": []
   },
   "outputs": [],
   "source": [
    "from BigDFT.Inputfiles import Inputfile\n",
    "inp = Inputfile()\n",
    "inp.set_hgrid(0.4)\n",
    "inp.set_xc(\"PBE\")\n",
    "inp[\"perf\"] = {\"calculate_forces\": False,\n",
    "               \"multipole_preserving\": True}\n",
    "\n",
    "inp"
   ]
  },
  {
   "cell_type": "markdown",
   "id": "2a18696d",
   "metadata": {},
   "source": [
    "Here we can see that the input file takes the form of a python dictionary. We can now create a BigDFT calculator, which can be used to run BigDFT."
   ]
  },
  {
   "cell_type": "code",
   "execution_count": null,
   "id": "9410e4a4",
   "metadata": {
    "id": "decent-irish",
    "tags": []
   },
   "outputs": [],
   "source": [
    "from BigDFT.Calculators import SystemCalculator\n",
    "calc = SystemCalculator(skip=False, verbose=False)\n",
    "\n",
    "# as we're on colab, we don't want to use more than 1 core\n",
    "# but if we were running on a larger computer, we could do e.g.\n",
    "#calc = SystemCalculator(skip=False, verbose=False, omp=2, mpi_run='mpirun -np 2')"
   ]
  },
  {
   "cell_type": "markdown",
   "id": "985d689f",
   "metadata": {},
   "source": [
    "We can use this calculator to run BigDFT, but first let's run it with `dry_run=True`, which will create the input file without actually running BigDFT. Don't worry if it gives an error message."
   ]
  },
  {
   "cell_type": "code",
   "execution_count": null,
   "id": "e7225c9f",
   "metadata": {},
   "outputs": [],
   "source": [
    "log = calc.run(sys=sys, input=inp, name=\"quick\", run_dir=\"scratch\", dry_run=True)"
   ]
  },
  {
   "cell_type": "markdown",
   "id": "c591ba2e",
   "metadata": {},
   "source": [
    "If we look at this input file, you can see it contains the parameters that we set, as well as the atomic positions. This is all the information needed to run this calculation, so you could e.g. copy the file to scarf and run there."
   ]
  },
  {
   "cell_type": "code",
   "execution_count": null,
   "id": "aa1d773b",
   "metadata": {},
   "outputs": [],
   "source": [
    "!cat scratch/quick.yaml"
   ]
  },
  {
   "cell_type": "markdown",
   "id": "20acfa95",
   "metadata": {},
   "source": [
    "Instead let's use the calculator to run BigDFT without the `dry_run` variable."
   ]
  },
  {
   "cell_type": "code",
   "execution_count": null,
   "id": "09242da2",
   "metadata": {
    "id": "responsible-smoke",
    "tags": []
   },
   "outputs": [],
   "source": [
    "log = calc.run(sys=sys, input=inp, name=\"quick\", run_dir=\"scratch\")"
   ]
  },
  {
   "cell_type": "markdown",
   "id": "19a75030",
   "metadata": {},
   "source": [
    "We can then extract some informationfrom the lofile, e.g. the memory or time taken."
   ]
  },
  {
   "cell_type": "code",
   "execution_count": null,
   "id": "2c9dfe24",
   "metadata": {
    "id": "modified-romance",
    "tags": []
   },
   "outputs": [],
   "source": [
    "print(log.energy)\n",
    "print(log.log[\"Memory Consumption Report\"]\n",
    "             [\"Memory occupation\"])\n",
    "print(log.log[\"Timings for root process\"][\"Elapsed time (s)\"])"
   ]
  },
  {
   "cell_type": "markdown",
   "id": "155c25f3",
   "metadata": {
    "id": "worldwide-situation"
   },
   "source": [
    "## Periodic Systems (optional)\n",
    "The code can treat also extended systems.\n",
    "We setup a BCC unit cell of iron and perform the calculation using a 2x2x2 k-point grid with a Monkhorst-Pack grid. Since this calculation is more expensive, we'll also update the calculator to run the calculation in parallel."
   ]
  },
  {
   "cell_type": "code",
   "execution_count": null,
   "id": "6b788e5e",
   "metadata": {
    "id": "champion-parliament",
    "tags": []
   },
   "outputs": [],
   "source": [
    "from BigDFT.UnitCells import UnitCell"
   ]
  },
  {
   "cell_type": "code",
   "execution_count": null,
   "id": "c7c1eae7",
   "metadata": {
    "id": "official-yellow",
    "tags": []
   },
   "outputs": [],
   "source": [
    "pat = Atom({\"Fe\": [0, 0, 0], \"units\": \"angstroem\"})\n",
    "psys = System({\"CEL:0\": Fragment([pat])})\n",
    "psys.cell = UnitCell([2.867, 2.867, 2.867], units=\"angstroem\")"
   ]
  },
  {
   "cell_type": "code",
   "execution_count": null,
   "id": "bd826704",
   "metadata": {
    "id": "documented-recorder",
    "tags": []
   },
   "outputs": [],
   "source": [
    "_ = psys.display()"
   ]
  },
  {
   "cell_type": "code",
   "execution_count": null,
   "id": "fc1c4715",
   "metadata": {
    "id": "tracked-honey",
    "tags": []
   },
   "outputs": [],
   "source": [
    "inp = Inputfile()\n",
    "inp.set_hgrid(0.4)\n",
    "inp.set_xc(\"LDA\")\n",
    "inp.set_kpt_mesh(method='mpgrid',ngkpt=[2, 2, 2])"
   ]
  },
  {
   "cell_type": "code",
   "execution_count": null,
   "id": "592b2a30",
   "metadata": {
    "id": "tracked-honey",
    "tags": []
   },
   "outputs": [],
   "source": [
    "calc = SystemCalculator(skip=True, verbose=False)"
   ]
  },
  {
   "cell_type": "code",
   "execution_count": null,
   "id": "f2f9317b",
   "metadata": {
    "id": "buried-tolerance",
    "tags": []
   },
   "outputs": [],
   "source": [
    "log = calc.run(sys=psys, input=inp, name=\"psys\", run_dir=\"scratch\")"
   ]
  },
  {
   "cell_type": "code",
   "execution_count": null,
   "id": "75fb2841",
   "metadata": {
    "id": "sunrise-interim",
    "tags": []
   },
   "outputs": [],
   "source": [
    "_ = log.get_dos().plot()"
   ]
  },
  {
   "cell_type": "markdown",
   "id": "e899b78f",
   "metadata": {
    "id": "aging-extraction"
   },
   "source": [
    "## File I/O\n",
    "Read and write a PDB file. The writing can be done with the `to_file` routine."
   ]
  },
  {
   "cell_type": "code",
   "execution_count": null,
   "id": "87be04f1",
   "metadata": {
    "id": "158c0ad5-5703-409b-991b-cacbfe2885d2",
    "tags": []
   },
   "outputs": [],
   "source": [
    "sys.to_file('scratch/test.pdb')"
   ]
  },
  {
   "cell_type": "markdown",
   "id": "04ad7f43",
   "metadata": {
    "id": "f37804a9",
    "tags": []
   },
   "source": [
    "For the reading, we can use the more pythonic way.\n",
    "We here read another file."
   ]
  },
  {
   "cell_type": "code",
   "execution_count": null,
   "id": "dd7fe759",
   "metadata": {
    "id": "uniform-theory",
    "tags": []
   },
   "outputs": [],
   "source": [
    "from BigDFT.IO import read_pdb\n",
    "with open(\"scratch/temp.pdb\", \"r\") as ifile:\n",
    "    sys = read_pdb(ifile)"
   ]
  },
  {
   "cell_type": "markdown",
   "id": "045c5f87",
   "metadata": {
    "id": "sFVvk8neLz6q"
   },
   "source": [
    "And then display it."
   ]
  },
  {
   "cell_type": "code",
   "execution_count": null,
   "id": "00958a54",
   "metadata": {
    "id": "xy5NRU_sMO4Q"
   },
   "outputs": [],
   "source": [
    "_ = sys.display()"
   ]
  },
  {
   "cell_type": "code",
   "execution_count": null,
   "id": "cba5a781",
   "metadata": {},
   "outputs": [],
   "source": []
  }
 ],
 "metadata": {
  "colab": {
   "provenance": []
  },
  "kernelspec": {
   "display_name": "Python 3 (ipykernel)",
   "language": "python",
   "name": "python3"
  },
  "language_info": {
   "codemirror_mode": {
    "name": "ipython",
    "version": 3
   },
   "file_extension": ".py",
   "mimetype": "text/x-python",
   "name": "python",
   "nbconvert_exporter": "python",
   "pygments_lexer": "ipython3",
   "version": "3.8.10"
  }
 },
 "nbformat": 4,
 "nbformat_minor": 5
}
