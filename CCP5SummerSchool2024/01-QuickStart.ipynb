{
 "cells": [
  {
   "cell_type": "markdown",
   "id": "similar-reply",
   "metadata": {
    "id": "similar-reply"
   },
   "source": [
    "# Quick Start - From Python\n",
    "\n",
    "Here we present a broad overview of using the PyBigDFT library to drive BigDFT calculations using Python. Such an overview is intended to provide an initial walkthrough among the basic functionalities of the PyBigDFT objects and API.\n",
    "\n",
    "The other notebooks of this section will present the main details of each of the functionalities described here."
   ]
  },
  {
   "cell_type": "markdown",
   "id": "59c59d05",
   "metadata": {
    "id": "59c59d05"
   },
   "source": [
    "## System Manipulation\n",
    "Here we define a system which is compsed of two fragments: H2 and Helium."
   ]
  },
  {
   "cell_type": "code",
   "execution_count": null,
   "id": "jewish-country",
   "metadata": {
    "id": "jewish-country",
    "tags": []
   },
   "outputs": [],
   "source": [
    "from BigDFT.Systems import System\n",
    "from BigDFT.Fragments import Fragment\n",
    "from BigDFT.Atoms import Atom\n",
    "from BigDFT.Visualization import InlineVisualizer"
   ]
  },
  {
   "cell_type": "code",
   "execution_count": null,
   "id": "bored-scottish",
   "metadata": {
    "id": "bored-scottish",
    "tags": []
   },
   "outputs": [],
   "source": [
    "# Create Three Atoms\n",
    "at1 = Atom({\"r\": [0, 0, 0], \"sym\": \"H\", \"units\": \"bohr\"})\n",
    "at2 = Atom({\"r\": [0, 0, 1.4], \"sym\": \"H\", \"units\": \"bohr\"})\n",
    "at3 = Atom({\"r\": [10, 0, 0], \"sym\": \"He\", \"units\": \"bohr\"})\n",
    "\n",
    "# Construct a System from Two Fragments (H2, He)\n",
    "sys = System()\n",
    "sys[\"H2:1\"] = Fragment([at1, at2])\n",
    "sys[\"He:2\"] = Fragment([at3])\n",
    "\n",
    "# Iterate Over The System\n",
    "for fragid, frag in sys.items():\n",
    "    for at in frag:\n",
    "        print(fragid, at.sym, at.get_position())"
   ]
  },
  {
   "cell_type": "code",
   "execution_count": null,
   "id": "colonial-bottom",
   "metadata": {
    "id": "colonial-bottom",
    "tags": []
   },
   "outputs": [],
   "source": [
    "_ = sys.display()"
   ]
  },
  {
   "cell_type": "markdown",
   "id": "caring-timeline",
   "metadata": {
    "id": "caring-timeline"
   },
   "source": [
    "## Calculation\n",
    "Calculate the created system using a grid spacing of $0.4$ and the PBE functional. A logfile is generated from which we can access the computed properties. This logfile has built in properties and can be accessed like a dictionary."
   ]
  },
  {
   "cell_type": "code",
   "execution_count": null,
   "id": "acquired-headline",
   "metadata": {
    "id": "acquired-headline",
    "tags": []
   },
   "outputs": [],
   "source": [
    "from BigDFT.Inputfiles import Inputfile\n",
    "inp = Inputfile()\n",
    "inp.set_hgrid(0.4)\n",
    "inp.set_xc(\"PBE\")\n",
    "inp[\"perf\"] = {\"calculate_forces\": False,\n",
    "               \"multipole_preserving\": True}"
   ]
  },
  {
   "cell_type": "code",
   "execution_count": null,
   "id": "decent-irish",
   "metadata": {
    "id": "decent-irish",
    "tags": []
   },
   "outputs": [],
   "source": [
    "from BigDFT.Calculators import SystemCalculator\n",
    "calc = SystemCalculator(skip=True, verbose=False, omp=1, mpi_run='mpirun -np 1')"
   ]
  },
  {
   "cell_type": "code",
   "execution_count": null,
   "id": "responsible-smoke",
   "metadata": {
    "id": "responsible-smoke",
    "tags": []
   },
   "outputs": [],
   "source": [
    "log = calc.run(sys=sys, input=inp, name=\"quick\", run_dir=\"scratch\")"
   ]
  },
  {
   "cell_type": "code",
   "execution_count": null,
   "id": "modified-romance",
   "metadata": {
    "id": "modified-romance",
    "tags": []
   },
   "outputs": [],
   "source": [
    "print(log.energy)\n",
    "print(log.log[\"Memory Consumption Report\"]\n",
    "             [\"Memory occupation\"])"
   ]
  },
  {
   "cell_type": "markdown",
   "id": "worldwide-situation",
   "metadata": {
    "id": "worldwide-situation"
   },
   "source": [
    "## Periodic Systems (optional)\n",
    "The code can treat also extended systems.\n",
    "We setup a BCC unit cell of iron and perform the calculation using a 2x2x2 k-point grid with a Monkhorst-Pack grid. Since this calculation is more expensive, we'll also update the calculator to run the calculation in parallel."
   ]
  },
  {
   "cell_type": "code",
   "execution_count": null,
   "id": "champion-parliament",
   "metadata": {
    "id": "champion-parliament",
    "tags": []
   },
   "outputs": [],
   "source": [
    "from BigDFT.UnitCells import UnitCell"
   ]
  },
  {
   "cell_type": "code",
   "execution_count": null,
   "id": "official-yellow",
   "metadata": {
    "id": "official-yellow",
    "tags": []
   },
   "outputs": [],
   "source": [
    "pat = Atom({\"Fe\": [0, 0, 0], \"units\": \"angstroem\"})\n",
    "psys = System({\"CEL:0\": Fragment([pat])})\n",
    "psys.cell = UnitCell([2.867, 2.867, 2.867], units=\"angstroem\")"
   ]
  },
  {
   "cell_type": "code",
   "execution_count": null,
   "id": "documented-recorder",
   "metadata": {
    "id": "documented-recorder",
    "tags": []
   },
   "outputs": [],
   "source": [
    "_ = psys.display()"
   ]
  },
  {
   "cell_type": "code",
   "execution_count": null,
   "id": "6aed49f7-c7ae-4ba2-9f5d-299c84599c8f",
   "metadata": {
    "id": "tracked-honey",
    "tags": []
   },
   "outputs": [],
   "source": [
    "inp = Inputfile()\n",
    "inp.set_hgrid(0.4)\n",
    "inp.set_xc(\"LDA\")\n",
    "inp.set_kpt_mesh(method='mpgrid',ngkpt=[2, 2, 2])"
   ]
  },
  {
   "cell_type": "code",
   "execution_count": null,
   "id": "6c8d0efb-7e82-4b5b-9b96-1698f5868eca",
   "metadata": {
    "id": "tracked-honey",
    "tags": []
   },
   "outputs": [],
   "source": [
    "calc = SystemCalculator(skip=True, verbose=False, omp=1, mpi_run='mpirun -np 4')"
   ]
  },
  {
   "cell_type": "code",
   "execution_count": null,
   "id": "buried-tolerance",
   "metadata": {
    "id": "buried-tolerance",
    "tags": []
   },
   "outputs": [],
   "source": [
    "log = calc.run(sys=psys, input=inp, name=\"psys\", run_dir=\"scratch\")"
   ]
  },
  {
   "cell_type": "code",
   "execution_count": null,
   "id": "sunrise-interim",
   "metadata": {
    "id": "sunrise-interim",
    "tags": []
   },
   "outputs": [],
   "source": [
    "_ = log.get_dos().plot()"
   ]
  },
  {
   "cell_type": "markdown",
   "id": "aging-extraction",
   "metadata": {
    "id": "aging-extraction"
   },
   "source": [
    "## File I/O\n",
    "Read and write a PDB file. The writing can be done with the `to_file` routine."
   ]
  },
  {
   "cell_type": "code",
   "execution_count": null,
   "id": "158c0ad5-5703-409b-991b-cacbfe2885d2",
   "metadata": {
    "id": "158c0ad5-5703-409b-991b-cacbfe2885d2",
    "tags": []
   },
   "outputs": [],
   "source": [
    "sys.to_file('scratch/test.pdb')"
   ]
  },
  {
   "cell_type": "markdown",
   "id": "f37804a9",
   "metadata": {
    "id": "f37804a9",
    "tags": []
   },
   "source": [
    "For the reading, we can use the more pythonic way.\n",
    "We here read another file."
   ]
  },
  {
   "cell_type": "code",
   "execution_count": null,
   "id": "uniform-theory",
   "metadata": {
    "id": "uniform-theory",
    "tags": []
   },
   "outputs": [],
   "source": [
    "from BigDFT.IO import read_pdb\n",
    "with open(\"scratch/temp.pdb\", \"r\") as ifile:\n",
    "    sys = read_pdb(ifile)"
   ]
  },
  {
   "cell_type": "markdown",
   "id": "sFVvk8neLz6q",
   "metadata": {
    "id": "sFVvk8neLz6q"
   },
   "source": []
  },
  {
   "cell_type": "code",
   "execution_count": null,
   "id": "xy5NRU_sMO4Q",
   "metadata": {
    "id": "xy5NRU_sMO4Q"
   },
   "outputs": [],
   "source": [
    "_ = sys.display()"
   ]
  },
  {
   "cell_type": "code",
   "execution_count": null,
   "id": "4437abad-b0e4-45fc-b8b8-46256c943eb9",
   "metadata": {},
   "outputs": [],
   "source": []
  }
 ],
 "metadata": {
  "colab": {
   "provenance": []
  },
  "kernelspec": {
   "display_name": "Python 3 (ipykernel)",
   "language": "python",
   "name": "python3"
  },
  "language_info": {
   "codemirror_mode": {
    "name": "ipython",
    "version": 3
   },
   "file_extension": ".py",
   "mimetype": "text/x-python",
   "name": "python",
   "nbconvert_exporter": "python",
   "pygments_lexer": "ipython3",
   "version": "3.10.14"
  }
 },
 "nbformat": 4,
 "nbformat_minor": 5
}
