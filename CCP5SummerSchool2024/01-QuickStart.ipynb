{
 "cells": [
  {
   "cell_type": "markdown",
   "id": "380d79b7",
   "metadata": {
    "id": "similar-reply"
   },
   "source": [
    "# Quick Start - From Python\n",
    "\n",
    "Here we present a broad overview of using the PyBigDFT library to drive BigDFT calculations using Python. Such an overview is intended to provide an initial walkthrough among the basic functionalities of the PyBigDFT objects and API.\n",
    "\n",
    "The other notebooks of this section will present the main details of each of the functionalities described here."
   ]
  },
  {
   "cell_type": "markdown",
   "id": "92be8b59",
   "metadata": {
    "id": "59c59d05"
   },
   "source": [
    "## System Manipulation\n",
    "Here we define a system which is compsed of two fragments: H2 and Helium."
   ]
  },
  {
   "cell_type": "code",
   "execution_count": null,
   "id": "47efee77",
   "metadata": {
    "id": "jewish-country",
    "tags": []
   },
   "outputs": [],
   "source": [
    "from BigDFT.Systems import System\n",
    "from BigDFT.Fragments import Fragment\n",
    "from BigDFT.Atoms import Atom\n",
    "from BigDFT.Visualization import InlineVisualizer"
   ]
  },
  {
   "cell_type": "code",
   "execution_count": null,
   "id": "44eb00bc",
   "metadata": {
    "id": "bored-scottish",
    "tags": []
   },
   "outputs": [],
   "source": [
    "# Create Three Atoms\n",
    "at1 = Atom({\"r\": [0, 0, 0], \"sym\": \"H\", \"units\": \"bohr\"})\n",
    "at2 = Atom({\"r\": [0, 0, 1.4], \"sym\": \"H\", \"units\": \"bohr\"})\n",
    "at3 = Atom({\"r\": [10, 0, 0], \"sym\": \"He\", \"units\": \"bohr\"})\n",
    "\n",
    "# Construct a System from Two Fragments (H2, He)\n",
    "sys = System()\n",
    "sys[\"H2:1\"] = Fragment([at1, at2])\n",
    "sys[\"He:2\"] = Fragment([at3])\n",
    "\n",
    "# Iterate Over The System\n",
    "for fragid, frag in sys.items():\n",
    "    for at in frag:\n",
    "        print(fragid, at.sym, at.get_position())"
   ]
  },
  {
   "cell_type": "code",
   "execution_count": null,
   "id": "1c410d68",
   "metadata": {
    "id": "colonial-bottom",
    "tags": []
   },
   "outputs": [],
   "source": [
    "_ = sys.display()"
   ]
  },
  {
   "cell_type": "markdown",
   "id": "375f0e93",
   "metadata": {
    "id": "caring-timeline"
   },
   "source": [
    "## Calculation\n",
    "Calculate the created system using a grid spacing of $0.4$ and the PBE functional. A logfile is generated from which we can access the computed properties. This logfile has built in properties and can be accessed like a dictionary."
   ]
  },
  {
   "cell_type": "code",
   "execution_count": null,
   "id": "bbe6d8ba",
   "metadata": {
    "id": "acquired-headline",
    "tags": []
   },
   "outputs": [],
   "source": [
    "from BigDFT.Inputfiles import Inputfile\n",
    "inp = Inputfile()\n",
    "inp.set_hgrid(0.4)\n",
    "inp.set_xc(\"PBE\")\n",
    "inp[\"perf\"] = {\"calculate_forces\": False,\n",
    "               \"multipole_preserving\": True}\n",
    "\n",
    "inp"
   ]
  },
  {
   "cell_type": "markdown",
   "id": "0dfbd710",
   "metadata": {},
   "source": [
    "Here we can see that the input file takes the form of a python dictionary. We can now create a BigDFT calculator, which can be used to run BigDFT."
   ]
  },
  {
   "cell_type": "code",
   "execution_count": null,
   "id": "f4016c72",
   "metadata": {
    "id": "decent-irish",
    "tags": []
   },
   "outputs": [],
   "source": [
    "from BigDFT.Calculators import SystemCalculator\n",
    "calc = SystemCalculator(skip=False, verbose=False, omp=1, mpi_run='mpirun -np 1')"
   ]
  },
  {
   "cell_type": "markdown",
   "id": "c6986c06",
   "metadata": {},
   "source": [
    "We can use this calculator to run BigDFT, but first let's run it with `dry_run=True`, which will create the input file without actually running BigDFT. Don't worry if it gives an error message."
   ]
  },
  {
   "cell_type": "code",
   "execution_count": null,
   "id": "57c3e947",
   "metadata": {},
   "outputs": [],
   "source": [
    "log = calc.run(sys=sys, input=inp, name=\"quick\", run_dir=\"scratch\", dry_run=True)"
   ]
  },
  {
   "cell_type": "markdown",
   "id": "b1825c44",
   "metadata": {},
   "source": [
    "If we look at this input file, you can see it contains the parameters that we set, as well as the atomic positions. This is all the information needed to run this calculation, so you could e.g. copy the file to scarf and run there."
   ]
  },
  {
   "cell_type": "code",
   "execution_count": null,
   "id": "f27698bc",
   "metadata": {},
   "outputs": [],
   "source": [
    "!cat scratch/quick.yaml"
   ]
  },
  {
   "cell_type": "markdown",
   "id": "462076ab",
   "metadata": {},
   "source": [
    "Instead let's use the calculator to run BigDFT without the `dry_run` variable."
   ]
  },
  {
   "cell_type": "code",
   "execution_count": null,
   "id": "0e988acd",
   "metadata": {
    "id": "responsible-smoke",
    "tags": []
   },
   "outputs": [],
   "source": [
    "log = calc.run(sys=sys, input=inp, name=\"quick\", run_dir=\"scratch\")"
   ]
  },
  {
   "cell_type": "markdown",
   "id": "4cb912ad",
   "metadata": {},
   "source": [
    "We can then extract some informationfrom the lofile, e.g. the memory or time taken."
   ]
  },
  {
   "cell_type": "code",
   "execution_count": null,
   "id": "05e63f45",
   "metadata": {
    "id": "modified-romance",
    "tags": []
   },
   "outputs": [],
   "source": [
    "print(log.energy)\n",
    "print(log.log[\"Memory Consumption Report\"]\n",
    "             [\"Memory occupation\"])\n",
    "print(log.log[\"Timings for root process\"][\"Elapsed time (s)\"])"
   ]
  },
  {
   "cell_type": "markdown",
   "id": "36f84cbb",
   "metadata": {
    "id": "worldwide-situation"
   },
   "source": [
    "## Periodic Systems (optional)\n",
    "The code can treat also extended systems.\n",
    "We setup a BCC unit cell of iron and perform the calculation using a 2x2x2 k-point grid with a Monkhorst-Pack grid. Since this calculation is more expensive, we'll also update the calculator to run the calculation in parallel."
   ]
  },
  {
   "cell_type": "code",
   "execution_count": null,
   "id": "b182e9a1",
   "metadata": {
    "id": "champion-parliament",
    "tags": []
   },
   "outputs": [],
   "source": [
    "from BigDFT.UnitCells import UnitCell"
   ]
  },
  {
   "cell_type": "code",
   "execution_count": null,
   "id": "d24008d8",
   "metadata": {
    "id": "official-yellow",
    "tags": []
   },
   "outputs": [],
   "source": [
    "pat = Atom({\"Fe\": [0, 0, 0], \"units\": \"angstroem\"})\n",
    "psys = System({\"CEL:0\": Fragment([pat])})\n",
    "psys.cell = UnitCell([2.867, 2.867, 2.867], units=\"angstroem\")"
   ]
  },
  {
   "cell_type": "code",
   "execution_count": null,
   "id": "c561a2dc",
   "metadata": {
    "id": "documented-recorder",
    "tags": []
   },
   "outputs": [],
   "source": [
    "_ = psys.display()"
   ]
  },
  {
   "cell_type": "code",
   "execution_count": null,
   "id": "df3c9a46",
   "metadata": {
    "id": "tracked-honey",
    "tags": []
   },
   "outputs": [],
   "source": [
    "inp = Inputfile()\n",
    "inp.set_hgrid(0.4)\n",
    "inp.set_xc(\"LDA\")\n",
    "inp.set_kpt_mesh(method='mpgrid',ngkpt=[2, 2, 2])"
   ]
  },
  {
   "cell_type": "code",
   "execution_count": null,
   "id": "b45580ac",
   "metadata": {
    "id": "tracked-honey",
    "tags": []
   },
   "outputs": [],
   "source": [
    "calc = SystemCalculator(skip=True, verbose=False, omp=1, mpi_run='mpirun -np 4')"
   ]
  },
  {
   "cell_type": "code",
   "execution_count": null,
   "id": "059cf0dd",
   "metadata": {
    "id": "buried-tolerance",
    "tags": []
   },
   "outputs": [],
   "source": [
    "log = calc.run(sys=psys, input=inp, name=\"psys\", run_dir=\"scratch\")"
   ]
  },
  {
   "cell_type": "code",
   "execution_count": null,
   "id": "5d55dbe1",
   "metadata": {
    "id": "sunrise-interim",
    "tags": []
   },
   "outputs": [],
   "source": [
    "_ = log.get_dos().plot()"
   ]
  },
  {
   "cell_type": "markdown",
   "id": "f9f9318d",
   "metadata": {
    "id": "aging-extraction"
   },
   "source": [
    "## File I/O\n",
    "Read and write a PDB file. The writing can be done with the `to_file` routine."
   ]
  },
  {
   "cell_type": "code",
   "execution_count": null,
   "id": "f6e48048",
   "metadata": {
    "id": "158c0ad5-5703-409b-991b-cacbfe2885d2",
    "tags": []
   },
   "outputs": [],
   "source": [
    "sys.to_file('scratch/test.pdb')"
   ]
  },
  {
   "cell_type": "markdown",
   "id": "97a6b7d7",
   "metadata": {
    "id": "f37804a9",
    "tags": []
   },
   "source": [
    "For the reading, we can use the more pythonic way.\n",
    "We here read another file."
   ]
  },
  {
   "cell_type": "code",
   "execution_count": null,
   "id": "04189ebb",
   "metadata": {
    "id": "uniform-theory",
    "tags": []
   },
   "outputs": [],
   "source": [
    "from BigDFT.IO import read_pdb\n",
    "with open(\"scratch/temp.pdb\", \"r\") as ifile:\n",
    "    sys = read_pdb(ifile)"
   ]
  },
  {
   "cell_type": "markdown",
   "id": "204af929",
   "metadata": {
    "id": "sFVvk8neLz6q"
   },
   "source": [
    "And then display it."
   ]
  },
  {
   "cell_type": "code",
   "execution_count": null,
   "id": "a98d0549",
   "metadata": {
    "id": "xy5NRU_sMO4Q"
   },
   "outputs": [],
   "source": [
    "_ = sys.display()"
   ]
  },
  {
   "cell_type": "code",
   "execution_count": null,
   "id": "7fe469de",
   "metadata": {},
   "outputs": [],
   "source": []
  }
 ],
 "metadata": {
  "colab": {
   "provenance": []
  },
  "kernelspec": {
   "display_name": "Python 3 (ipykernel)",
   "language": "python",
   "name": "python3"
  },
  "language_info": {
   "codemirror_mode": {
    "name": "ipython",
    "version": 3
   },
   "file_extension": ".py",
   "mimetype": "text/x-python",
   "name": "python",
   "nbconvert_exporter": "python",
   "pygments_lexer": "ipython3",
   "version": "3.10.14"
  }
 },
 "nbformat": 4,
 "nbformat_minor": 5
}
