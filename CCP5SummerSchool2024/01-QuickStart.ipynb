{
 "cells": [
  {
   "cell_type": "markdown",
   "id": "e9128a69",
   "metadata": {
    "id": "similar-reply"
   },
   "source": [
    "# Quick Start - From Python\n",
    "\n",
    "Here we present a broad overview of using the PyBigDFT library to drive BigDFT calculations using Python. Such an overview is intended to provide an initial walkthrough among the basic functionalities of the PyBigDFT objects and API.\n",
    "\n",
    "The other notebooks of this section will present the main details of each of the functionalities described here."
   ]
  },
  {
   "cell_type": "markdown",
   "id": "cd9d1dbc",
   "metadata": {},
   "source": [
    "## Installation\n",
    "\n",
    "If you have installed from source, you should make sure you have setup the proper environment variables using the following command:\n",
    "```\n",
    "source install/bin/bigdftvars.sh\n",
    "```\n",
    "\n",
    "### Colab Installation\n",
    "\n",
    "We will install BigDFT using Conda. First we need to setup conda."
   ]
  },
  {
   "cell_type": "code",
   "execution_count": null,
   "id": "b28a3272",
   "metadata": {},
   "outputs": [],
   "source": [
    "! pip install -q condacolab\n",
    "import condacolab\n",
    "condacolab.install()"
   ]
  },
  {
   "cell_type": "markdown",
   "id": "0d1943ad",
   "metadata": {},
   "source": [
    "When this finishes, the kernel will crash. This is necessary. After it restarts, you can proceed to install the BigDFT executable."
   ]
  },
  {
   "cell_type": "code",
   "execution_count": null,
   "id": "b7d756f2",
   "metadata": {},
   "outputs": [],
   "source": [
    "! conda install -c \"conda-forge/label/bigdft_dev\" bigdft-suite  > /dev/null  2> /dev/null"
   ]
  },
  {
   "cell_type": "markdown",
   "id": "381d1835",
   "metadata": {},
   "source": [
    "And the required python libraries for this notebook."
   ]
  },
  {
   "cell_type": "code",
   "execution_count": null,
   "id": "7e6797ef",
   "metadata": {},
   "outputs": [],
   "source": [
    "! pip install PyBigDFT  > /dev/null  2> /dev/null\n",
    "! pip install py3dmol  > /dev/null  2> /dev/null"
   ]
  },
  {
   "cell_type": "markdown",
   "id": "8ec3ad66",
   "metadata": {
    "id": "59c59d05"
   },
   "source": [
    "## System Manipulation\n",
    "Here we define a system which is compsed of two fragments: H2 and Helium."
   ]
  },
  {
   "cell_type": "code",
   "execution_count": null,
   "id": "25b8fe03",
   "metadata": {
    "id": "jewish-country",
    "tags": []
   },
   "outputs": [],
   "source": [
    "from BigDFT.Systems import System\n",
    "from BigDFT.Fragments import Fragment\n",
    "from BigDFT.Atoms import Atom\n",
    "from BigDFT.Visualization import InlineVisualizer"
   ]
  },
  {
   "cell_type": "code",
   "execution_count": null,
   "id": "456e60d1",
   "metadata": {
    "id": "bored-scottish",
    "tags": []
   },
   "outputs": [],
   "source": [
    "# Create Three Atoms\n",
    "at1 = Atom({\"r\": [0, 0, 0], \"sym\": \"H\", \"units\": \"bohr\"})\n",
    "at2 = Atom({\"r\": [0, 0, 1.4], \"sym\": \"H\", \"units\": \"bohr\"})\n",
    "at3 = Atom({\"r\": [10, 0, 0], \"sym\": \"He\", \"units\": \"bohr\"})\n",
    "\n",
    "# Construct a System from Two Fragments (H2, He)\n",
    "sys = System()\n",
    "sys[\"H2:1\"] = Fragment([at1, at2])\n",
    "sys[\"He:2\"] = Fragment([at3])\n",
    "\n",
    "# Iterate Over The System\n",
    "for fragid, frag in sys.items():\n",
    "    for at in frag:\n",
    "        print(fragid, at.sym, at.get_position())"
   ]
  },
  {
   "cell_type": "code",
   "execution_count": null,
   "id": "82d56538",
   "metadata": {
    "id": "colonial-bottom",
    "tags": []
   },
   "outputs": [],
   "source": [
    "_ = sys.display()"
   ]
  },
  {
   "cell_type": "markdown",
   "id": "22fc4e21",
   "metadata": {
    "id": "caring-timeline"
   },
   "source": [
    "## Calculation\n",
    "Calculate the created system using a grid spacing of $0.4$ and the PBE functional. A logfile is generated from which we can access the computed properties. This logfile has built in properties and can be accessed like a dictionary."
   ]
  },
  {
   "cell_type": "code",
   "execution_count": null,
   "id": "8e6ffbf9",
   "metadata": {
    "id": "acquired-headline",
    "tags": []
   },
   "outputs": [],
   "source": [
    "from BigDFT.Inputfiles import Inputfile\n",
    "inp = Inputfile()\n",
    "inp.set_hgrid(0.4)\n",
    "inp.set_xc(\"PBE\")\n",
    "inp[\"perf\"] = {\"calculate_forces\": False,\n",
    "               \"multipole_preserving\": True}\n",
    "\n",
    "inp"
   ]
  },
  {
   "cell_type": "markdown",
   "id": "7a1b53f8",
   "metadata": {},
   "source": [
    "Here we can see that the input file takes the form of a python dictionary. We can now create a BigDFT calculator, which can be used to run BigDFT."
   ]
  },
  {
   "cell_type": "code",
   "execution_count": null,
   "id": "a2c99ee8",
   "metadata": {
    "id": "decent-irish",
    "tags": []
   },
   "outputs": [],
   "source": [
    "from BigDFT.Calculators import SystemCalculator\n",
    "calc = SystemCalculator(skip=False, verbose=False)\n",
    "\n",
    "# as we're on colab, we don't want to use more than 1 core\n",
    "# but if we were running on a larger computer, we could do e.g.\n",
    "#calc = SystemCalculator(skip=False, verbose=False, omp=2, mpi_run='mpirun -np 2')"
   ]
  },
  {
   "cell_type": "markdown",
   "id": "45156531",
   "metadata": {},
   "source": [
    "We can use this calculator to run BigDFT, but first let's run it with `dry_run=True`, which will create the input file without actually running BigDFT. Don't worry if it gives an error message."
   ]
  },
  {
   "cell_type": "code",
   "execution_count": null,
   "id": "c49ff76d",
   "metadata": {},
   "outputs": [],
   "source": [
    "log = calc.run(sys=sys, input=inp, name=\"quick\", run_dir=\"scratch\", dry_run=True)"
   ]
  },
  {
   "cell_type": "markdown",
   "id": "2a2907b6",
   "metadata": {},
   "source": [
    "If we look at this input file, you can see it contains the parameters that we set, as well as the atomic positions. This is all the information needed to run this calculation, so you could e.g. copy the file to scarf and run there."
   ]
  },
  {
   "cell_type": "code",
   "execution_count": null,
   "id": "e26f00b6",
   "metadata": {},
   "outputs": [],
   "source": [
    "!cat scratch/quick.yaml"
   ]
  },
  {
   "cell_type": "markdown",
   "id": "3db3bf6b",
   "metadata": {},
   "source": [
    "Instead let's use the calculator to run BigDFT without the `dry_run` variable."
   ]
  },
  {
   "cell_type": "code",
   "execution_count": null,
   "id": "06ff7005",
   "metadata": {
    "id": "responsible-smoke",
    "tags": []
   },
   "outputs": [],
   "source": [
    "log = calc.run(sys=sys, input=inp, name=\"quick\", run_dir=\"scratch\")"
   ]
  },
  {
   "cell_type": "markdown",
   "id": "e2179213",
   "metadata": {},
   "source": [
    "We can then extract some informationfrom the lofile, e.g. the memory or time taken."
   ]
  },
  {
   "cell_type": "code",
   "execution_count": null,
   "id": "1eb8fe8e",
   "metadata": {
    "id": "modified-romance",
    "tags": []
   },
   "outputs": [],
   "source": [
    "print(log.energy)\n",
    "print(log.log[\"Memory Consumption Report\"]\n",
    "             [\"Memory occupation\"])\n",
    "print(log.log[\"Timings for root process\"][\"Elapsed time (s)\"])"
   ]
  },
  {
   "cell_type": "markdown",
   "id": "35afc3ba",
   "metadata": {
    "id": "worldwide-situation"
   },
   "source": [
    "## Periodic Systems (optional)\n",
    "The code can treat also extended systems.\n",
    "We setup a BCC unit cell of iron and perform the calculation using a 2x2x2 k-point grid with a Monkhorst-Pack grid. Since this calculation is more expensive, we'll also update the calculator to run the calculation in parallel."
   ]
  },
  {
   "cell_type": "code",
   "execution_count": null,
   "id": "2a5ffdbc",
   "metadata": {
    "id": "champion-parliament",
    "tags": []
   },
   "outputs": [],
   "source": [
    "from BigDFT.UnitCells import UnitCell"
   ]
  },
  {
   "cell_type": "code",
   "execution_count": null,
   "id": "d586739c",
   "metadata": {
    "id": "official-yellow",
    "tags": []
   },
   "outputs": [],
   "source": [
    "pat = Atom({\"Fe\": [0, 0, 0], \"units\": \"angstroem\"})\n",
    "psys = System({\"CEL:0\": Fragment([pat])})\n",
    "psys.cell = UnitCell([2.867, 2.867, 2.867], units=\"angstroem\")"
   ]
  },
  {
   "cell_type": "code",
   "execution_count": null,
   "id": "27fcb323",
   "metadata": {
    "id": "documented-recorder",
    "tags": []
   },
   "outputs": [],
   "source": [
    "_ = psys.display()"
   ]
  },
  {
   "cell_type": "code",
   "execution_count": null,
   "id": "d4b454bc",
   "metadata": {
    "id": "tracked-honey",
    "tags": []
   },
   "outputs": [],
   "source": [
    "inp = Inputfile()\n",
    "inp.set_hgrid(0.4)\n",
    "inp.set_xc(\"LDA\")\n",
    "inp.set_kpt_mesh(method='mpgrid',ngkpt=[2, 2, 2])"
   ]
  },
  {
   "cell_type": "code",
   "execution_count": null,
   "id": "ceb941ea",
   "metadata": {
    "id": "tracked-honey",
    "tags": []
   },
   "outputs": [],
   "source": [
    "calc = SystemCalculator(skip=True, verbose=False)"
   ]
  },
  {
   "cell_type": "code",
   "execution_count": null,
   "id": "2ae4115b",
   "metadata": {
    "id": "buried-tolerance",
    "tags": []
   },
   "outputs": [],
   "source": [
    "log = calc.run(sys=psys, input=inp, name=\"psys\", run_dir=\"scratch\")"
   ]
  },
  {
   "cell_type": "code",
   "execution_count": null,
   "id": "05e4ea38",
   "metadata": {
    "id": "sunrise-interim",
    "tags": []
   },
   "outputs": [],
   "source": [
    "_ = log.get_dos().plot()"
   ]
  },
  {
   "cell_type": "markdown",
   "id": "54fb880a",
   "metadata": {
    "id": "aging-extraction"
   },
   "source": [
    "## File I/O\n",
    "Read and write a PDB file. The writing can be done with the `to_file` routine."
   ]
  },
  {
   "cell_type": "code",
   "execution_count": null,
   "id": "9d221e78",
   "metadata": {
    "id": "158c0ad5-5703-409b-991b-cacbfe2885d2",
    "tags": []
   },
   "outputs": [],
   "source": [
    "sys.to_file('scratch/test.pdb')"
   ]
  },
  {
   "cell_type": "markdown",
   "id": "2464626c",
   "metadata": {
    "id": "f37804a9",
    "tags": []
   },
   "source": [
    "For the reading, we can use the more pythonic way.\n",
    "We here read another file."
   ]
  },
  {
   "cell_type": "code",
   "execution_count": null,
   "id": "3d2f75aa",
   "metadata": {
    "id": "uniform-theory",
    "tags": []
   },
   "outputs": [],
   "source": [
    "from BigDFT.IO import read_pdb\n",
    "with open(\"scratch/test.pdb\", \"r\") as ifile:\n",
    "    sys = read_pdb(ifile)"
   ]
  },
  {
   "cell_type": "markdown",
   "id": "b5652294",
   "metadata": {
    "id": "sFVvk8neLz6q"
   },
   "source": [
    "And then display it."
   ]
  },
  {
   "cell_type": "code",
   "execution_count": null,
   "id": "0bf52371",
   "metadata": {
    "id": "xy5NRU_sMO4Q"
   },
   "outputs": [],
   "source": [
    "_ = sys.display()"
   ]
  },
  {
   "cell_type": "code",
   "execution_count": null,
   "id": "0a331f9c",
   "metadata": {},
   "outputs": [],
   "source": []
  }
 ],
 "metadata": {
  "colab": {
   "provenance": []
  },
  "kernelspec": {
   "display_name": "Python 3 (ipykernel)",
   "language": "python",
   "name": "python3"
  },
  "language_info": {
   "codemirror_mode": {
    "name": "ipython",
    "version": 3
   },
   "file_extension": ".py",
   "mimetype": "text/x-python",
   "name": "python",
   "nbconvert_exporter": "python",
   "pygments_lexer": "ipython3",
   "version": "3.8.10"
  }
 },
 "nbformat": 4,
 "nbformat_minor": 5
}
