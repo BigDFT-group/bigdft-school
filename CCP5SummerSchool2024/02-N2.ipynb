{
 "cells": [
  {
   "cell_type": "markdown",
   "metadata": {
    "id": "-SeUGki0qb5s"
   },
   "source": [
    "# Basics of BigDFT: N2 molecule as example\n",
    "\n",
    "This is a simple notebook that shows how to execute a simple calculation with BigDFT.\n",
    "You will learn how to manipulate basic DFT objects from a python script.\n",
    "This expands some of the concepts which have been briefly introduced in the quickstart tutorial.\n",
    "\n",
    "## Setup Environment\n",
    "\n",
    "Recall that installing conda will crash the kernel. This is necessary."
   ]
  },
  {
   "cell_type": "code",
   "execution_count": null,
   "metadata": {},
   "outputs": [],
   "source": [
    "! pip install -q condacolab\n",
    "import condacolab\n",
    "condacolab.install()"
   ]
  },
  {
   "cell_type": "code",
   "execution_count": null,
   "metadata": {},
   "outputs": [],
   "source": [
    "! conda install -c \"conda-forge/label/bigdft_dev\" bigdft-suite  > /dev/null  2> /dev/null"
   ]
  },
  {
   "cell_type": "code",
   "execution_count": null,
   "metadata": {},
   "outputs": [],
   "source": [
    "! pip install PyBigDFT  > /dev/null  2> /dev/null\n",
    "! pip install py3dmol  > /dev/null  2> /dev/null"
   ]
  },
  {
   "cell_type": "markdown",
   "metadata": {
    "id": "cdRf0V9Yqb5w"
   },
   "source": [
    "## How to perform a first run with default parameters\n",
    "\n",
    "For this tutorial, we will run just a simple N2 molecule, taken from the BigDFT database (available [here](https://gitlab.com/l_sim/bigdft-suite/-/tree/devel/PyBigDFT/BigDFT/Database/XYZs))."
   ]
  },
  {
   "cell_type": "code",
   "execution_count": null,
   "metadata": {
    "id": "VMqG8rYpqb5w",
    "tags": []
   },
   "outputs": [],
   "source": [
    "from BigDFT.Systems import System\n",
    "from BigDFT.Fragments import Fragment\n",
    "from BigDFT.IO import XYZReader\n",
    "\n",
    "N2 = System()\n",
    "with XYZReader(\"N2\") as ifile:\n",
    "    N2[\"N:0\"] = Fragment([next(ifile)])\n",
    "    N2[\"N:1\"] = Fragment([next(ifile)])"
   ]
  },
  {
   "cell_type": "markdown",
   "metadata": {
    "id": "62MlXzoIqb5y"
   },
   "source": [
    "Every system object has a `posinp` representation, which is a dictionary representation of the geometry."
   ]
  },
  {
   "cell_type": "code",
   "execution_count": null,
   "metadata": {
    "colab": {
     "base_uri": "https://localhost:8080/"
    },
    "id": "7kCQ7bOcqb5y",
    "outputId": "dfca2cc3-9b77-4556-f9ed-9400b371d17a",
    "tags": []
   },
   "outputs": [],
   "source": [
    "print(N2.get_posinp())"
   ]
  },
  {
   "cell_type": "markdown",
   "metadata": {
    "id": "CyO3K2Xkqb5z"
   },
   "source": [
    "We now run the DFT calculation (with the default input parameters) of this molecule.\n",
    "This can be done by instantiating a class from the `Calculators` module. Then we call the run method of that calculator with the system of interest."
   ]
  },
  {
   "cell_type": "code",
   "execution_count": null,
   "metadata": {
    "id": "o0VpcvnVqb5z",
    "tags": []
   },
   "outputs": [],
   "source": [
    "from BigDFT import Calculators as C\n",
    "study = C.SystemCalculator(verbose=False, skip=True) #Create a calculator\n",
    "log = study.run(sys=N2, name=\"N2\", run_dir='scratch') #run the code"
   ]
  },
  {
   "cell_type": "markdown",
   "metadata": {
    "id": "9avMgOvQqb50"
   },
   "source": [
    "The `run` method of the `BigDFT.Calculators.SystemCalculator` class shows in the standard output which is the \n",
    "command that is invoked.\n",
    "Then, an instance of the `Logfile` class is returned.\n",
    "Such class can be used (we will see after) to extract the information about the electronic structure of the system."
   ]
  },
  {
   "cell_type": "markdown",
   "metadata": {
    "id": "y7uRCgUGqb51"
   },
   "source": [
    "Now we can retrieve important informations on the run. See the examples below:"
   ]
  },
  {
   "cell_type": "code",
   "execution_count": null,
   "metadata": {
    "colab": {
     "base_uri": "https://localhost:8080/"
    },
    "id": "FYwP1QNrqb51",
    "outputId": "c942a8bc-f9d0-4c9b-ac19-a98955827634",
    "tags": []
   },
   "outputs": [],
   "source": [
    "log.energy #this value is in Ha"
   ]
  },
  {
   "cell_type": "code",
   "execution_count": null,
   "metadata": {
    "colab": {
     "base_uri": "https://localhost:8080/"
    },
    "id": "oKPRzUwqqb52",
    "outputId": "45eebcdf-ebd9-421f-db5b-04b1ca072c96",
    "tags": []
   },
   "outputs": [],
   "source": [
    "log.evals[0].tolist() # the eigenvalues in Ha ([0] stands for the first K-point, here meaningless)"
   ]
  },
  {
   "cell_type": "code",
   "execution_count": null,
   "metadata": {
    "colab": {
     "base_uri": "https://localhost:8080/",
     "height": 349
    },
    "id": "zZhv2tqMqb52",
    "outputId": "8abe09ea-b681-4049-9094-b7f4fd79e255",
    "tags": []
   },
   "outputs": [],
   "source": [
    "log.get_dos().plot() #the density of states"
   ]
  },
  {
   "cell_type": "markdown",
   "metadata": {
    "id": "WptrjJZxqb52"
   },
   "source": [
    "In case it's of interest, the tutorial [DoS Manipulation](https://githubtocolab.com/BigDFT-group/bigdft-school/blob/main/CCP_tutorials/1.J.DoS-Manipulation.ipynb) (created for a separate BigDFT tutorial) can be followed to learn how to plot Density of States from a Logfile"
   ]
  },
  {
   "cell_type": "markdown",
   "metadata": {
    "id": "L9JldAMPqb53"
   },
   "source": [
    "## How to use the SystemCalculator instance \n",
    "\n",
    "Before managing different calculations at once, let us look closer at the `SystemCalculator` that was presented above."
   ]
  },
  {
   "cell_type": "code",
   "execution_count": null,
   "metadata": {
    "id": "ZzD7C0HWqb53",
    "tags": []
   },
   "outputs": [],
   "source": [
    "study = C.SystemCalculator(verbose=False, omp=1, mpi_run='mpirun -np 2')"
   ]
  },
  {
   "cell_type": "markdown",
   "metadata": {
    "id": "-2xPfaG5qb53"
   },
   "source": [
    "As you can see, initiating an instance allows to set the computational parameters such as the OpenMP and MPI parallelisation. In this case, a single thread is used while two processes are running in parallel, therefore reducing the computation time. \n",
    "The global options of the runner (or calculator) can then be accessed by "
   ]
  },
  {
   "cell_type": "code",
   "execution_count": null,
   "metadata": {
    "colab": {
     "base_uri": "https://localhost:8080/"
    },
    "id": "tar3VDW9qb54",
    "outputId": "86790a0b-90e1-4fe5-b34a-ca557cfc148f",
    "tags": []
   },
   "outputs": [],
   "source": [
    "study.global_options()"
   ]
  },
  {
   "cell_type": "markdown",
   "metadata": {
    "id": "tPAO4kFwqb54"
   },
   "source": [
    "Global options can be also added and removed as follows"
   ]
  },
  {
   "cell_type": "code",
   "execution_count": null,
   "metadata": {
    "colab": {
     "base_uri": "https://localhost:8080/"
    },
    "id": "IdRFfXq-qb54",
    "outputId": "9aa0926a-e56a-4c48-d6b9-9bbd4ab3d8a4",
    "tags": []
   },
   "outputs": [],
   "source": [
    "study.update_global_options(new_option = 'value')\n",
    "study.global_options()"
   ]
  },
  {
   "cell_type": "markdown",
   "metadata": {
    "id": "XRMYdEsAqb55"
   },
   "source": [
    "Similarly, global options can also be removed. Since we can't run with OpenMP or MPI on colab, we'll remove the omp and mpi_run arguments"
   ]
  },
  {
   "cell_type": "code",
   "execution_count": null,
   "metadata": {
    "colab": {
     "base_uri": "https://localhost:8080/"
    },
    "id": "3K5oBpO9qb55",
    "outputId": "ee67158b-35cc-43d7-92bd-8c7923b497da",
    "tags": []
   },
   "outputs": [],
   "source": [
    "study.pop_global_option('omp')\n",
    "study.pop_global_option('mpi_run')\n",
    "study.global_options()"
   ]
  },
  {
   "cell_type": "markdown",
   "metadata": {
    "id": "B036Q-ceqb55"
   },
   "source": [
    "Lastly, note that PyBigDFT also enables to run workflows remotely, although this will not be covered in this school."
   ]
  },
  {
   "cell_type": "markdown",
   "metadata": {
    "id": "xO-dwVvwqb55"
   },
   "source": [
    "## How to modify the input parameters from the default ones\n",
    "\n",
    "To specify non-default input parameters to the code, we should employ a `Inputfile` object. One can choose a naming prefix for a run, which enables us to classify the runs which are performed, and ease the subsequent postprocessing.\n",
    "\n",
    "Methods of the class can be employed for modifying the input parameters. For instance, the XC functional can be chosen via the `set_xc` method.\n",
    "Imagine for example that you are interested in visualizing the wavefunctions output of the calculation. To do that, the suitable method of the class instance should be called.\n",
    "Create a new calculation set by using, for instance, the `LDA` prefix."
   ]
  },
  {
   "cell_type": "code",
   "execution_count": null,
   "metadata": {
    "id": "XrTW1Ro8qb56",
    "tags": []
   },
   "outputs": [],
   "source": [
    "from BigDFT import Inputfiles as I\n",
    "\n",
    "inp = I.Inputfile()\n",
    "inp.set_xc('LDA')\n",
    "inp.write_orbitals_on_disk()"
   ]
  },
  {
   "cell_type": "markdown",
   "metadata": {
    "id": "DRA0kmi7qb56"
   },
   "source": [
    "The wavefunctions will be present at the end of calculation, by indicating the value of the key *orbitals* in the output dictionary."
   ]
  },
  {
   "cell_type": "code",
   "execution_count": null,
   "metadata": {
    "id": "B12t8uT82dvZ",
    "tags": []
   },
   "outputs": [],
   "source": [
    "study.update_global_options(skip=True) # this would avoid to rerun the calculation and consider the data on the drive"
   ]
  },
  {
   "cell_type": "code",
   "execution_count": null,
   "metadata": {
    "id": "GbdftdtRqb56",
    "tags": []
   },
   "outputs": [],
   "source": [
    "#Run the code with the LDA prefix\n",
    "LDA = study.run(name=\"LDA\",input=inp,posinp=N2.get_posinp(),run_dir='scratch')"
   ]
  },
  {
   "cell_type": "markdown",
   "metadata": {
    "id": "bujByS8Xqb56"
   },
   "source": [
    "When using a naming scheme, the output files are placed in a directory called  **data-LDA**. In our LDA example, the wavefunctions of the system can thus be found in the **data-LDA** directory:"
   ]
  },
  {
   "cell_type": "code",
   "execution_count": null,
   "metadata": {
    "colab": {
     "base_uri": "https://localhost:8080/"
    },
    "id": "NtlMf9rpqb56",
    "outputId": "fc3e7e45-a0ee-499a-bd95-5ec2eb31f4bd",
    "tags": []
   },
   "outputs": [],
   "source": [
    "!ls scratch/data-LDA"
   ]
  },
  {
   "cell_type": "markdown",
   "metadata": {
    "id": "tTqkI75Uqb57"
   },
   "source": [
    "Here 001 means the first K-point (meaningless in this case), N stands for non spin-polarized, R for real part and the remaining number is the orbital ID. Post-processing of these files can be done for visualisation purposes, or they can be used as an input for another calculation, e.g. for restarting an unconverged calculation.\n",
    "\n",
    "In the same spirit, another calculation can be done with different parameters. Imagine we want to perform a Hartree-Fock calculation.\n",
    "We should simply change the XC functional used. However, we also have to specify the pseudopotential."
   ]
  },
  {
   "cell_type": "code",
   "execution_count": null,
   "metadata": {
    "id": "rR-ScvFsqb57",
    "tags": []
   },
   "outputs": [],
   "source": [
    "inp.set_xc('HF')\n",
    "HF = study.run(name=\"HF\",input=inp,run_dir='scratch') #Run the code with the name scheme HF"
   ]
  },
  {
   "cell_type": "markdown",
   "metadata": {
    "id": "EGUz_5b8qb57"
   },
   "source": [
    "Without specifying the pseudopotential, an error will occur:"
   ]
  },
  {
   "cell_type": "code",
   "execution_count": null,
   "metadata": {
    "id": "EGUz_5b8qb57"
   },
   "outputs": [],
   "source": [
    "!tail scratch/log-HF.yaml"
   ]
  },
  {
   "cell_type": "markdown",
   "metadata": {
    "id": "EGUz_5b8qb57"
   },
   "source": [
    "The same error is specified in [debug/bigdft-err-0.yaml](./scratch/debug/bigdft-err-0.yaml)"
   ]
  },
  {
   "cell_type": "markdown",
   "metadata": {
    "id": "ii1mQg-hqb57"
   },
   "source": [
    "This is because the pseudopotential is assigned by default in the code only for LDA and PBE XC approximations. \n",
    "Another alternative is to specify the internal PSP that might be used, taking from the default database of BigDFT. This can be done as follows:"
   ]
  },
  {
   "cell_type": "code",
   "execution_count": null,
   "metadata": {
    "id": "n-TotTY7qb57",
    "tags": []
   },
   "outputs": [],
   "source": [
    "inp['psppar.N']={'Pseudopotential XC': 1} #here 1 stands for LDA as per the XC codes"
   ]
  },
  {
   "cell_type": "markdown",
   "metadata": {},
   "source": [
    "There are also some routines built into PyBigDFT for setting Krack or NLCC pseudoptentials."
   ]
  },
  {
   "cell_type": "code",
   "execution_count": null,
   "metadata": {},
   "outputs": [],
   "source": [
    "# inp.set_psp_krack(functional=\"LDA\")\n",
    "# inp.set_psp_nlcc()"
   ]
  },
  {
   "cell_type": "markdown",
   "metadata": {
    "id": "82YzmHqDqb57"
   },
   "source": [
    "When possible, care should be taken in choosing a pseudopotential which has been generated with the same XC approximation used. Unfortunately, at present HGH data are only available for semilocal functionals. For example, the same exercise as follows could have been done with Hybrid XC functionals, like for example PBE0 (ixc=-406). In the case of Hartree-Fock calculations, using semilocal functionals generally yield accurate results (see [Physical Review B 37.5 (1988): 2674](https://journals.aps.org/prb/pdf/10.1103/PhysRevB.37.2674)). \n",
    "\n",
    "In BigDFT, XC functionals are specified using the built in named functionals, or using the [LibXC codes](https://www.tddft.org/programs/libxc/functionals/)."
   ]
  },
  {
   "cell_type": "markdown",
   "metadata": {},
   "source": [
    "Now we can run the Hartree Fock calculation, which will take around 30 seconds"
   ]
  },
  {
   "cell_type": "code",
   "execution_count": null,
   "metadata": {},
   "outputs": [],
   "source": [
    "HF = study.run(name=\"HF\",input=inp,run_dir='scratch') #Run the code with the name scheme HF"
   ]
  },
  {
   "cell_type": "markdown",
   "metadata": {},
   "source": [
    "Let's also now run using the PBE0 functional"
   ]
  },
  {
   "cell_type": "code",
   "execution_count": null,
   "metadata": {
    "id": "-dckC7l2qb58",
    "tags": []
   },
   "outputs": [],
   "source": [
    "inp.set_xc('PBE0')\n",
    "PBE0 = study.run(name=\"PBE0\",input=inp,run_dir='scratch') #Run the code with the name scheme PBE0"
   ]
  },
  {
   "cell_type": "markdown",
   "metadata": {
    "id": "5Mxtox8Kqb58"
   },
   "source": [
    "The variables *LDA*, *HF*, and *PBE0* contains all information about the calculation. This is a class Logfile which simplify considerably the extraction of parameters of the associated output file *log-LDA.yaml*. If we simply type:"
   ]
  },
  {
   "cell_type": "code",
   "execution_count": null,
   "metadata": {
    "colab": {
     "base_uri": "https://localhost:8080/"
    },
    "id": "64s2cCyhqb58",
    "outputId": "9c2e1b0f-eb11-4817-e1a3-a1dd719b2401",
    "tags": []
   },
   "outputs": [],
   "source": [
    "print(LDA)"
   ]
  },
  {
   "cell_type": "markdown",
   "metadata": {
    "id": "F8voIETcqb58"
   },
   "source": [
    "We display some information about the LDA calculation. For instance, we can extract the eigenvalues of the Hamiltonian *i.e.* the DOS (Density of States), in Ha:"
   ]
  },
  {
   "cell_type": "code",
   "execution_count": null,
   "metadata": {
    "colab": {
     "base_uri": "https://localhost:8080/"
    },
    "id": "tYGjU82xqb58",
    "outputId": "90e952c9-2ca9-4fd0-e48a-97138e75eb13",
    "tags": []
   },
   "outputs": [],
   "source": [
    "LDA.evals[0].tolist()"
   ]
  },
  {
   "cell_type": "markdown",
   "metadata": {
    "id": "aa4r3cAmqb59"
   },
   "source": [
    "Note that *LDA.log* is the python dictionary associated with the full output file, which is in yaml format, so if know the relevant key we can extract arbitrary information, e.g. we can print information about the Poisson solver"
   ]
  },
  {
   "cell_type": "code",
   "execution_count": null,
   "metadata": {
    "colab": {
     "base_uri": "https://localhost:8080/"
    },
    "id": "TxHHn02rqb59",
    "outputId": "a33b7fc3-023e-4d4a-acf9-2ec6ca4fc4ee",
    "tags": []
   },
   "outputs": [],
   "source": [
    "LDA.log[\"Poisson Solver\"]"
   ]
  },
  {
   "cell_type": "markdown",
   "metadata": {},
   "source": [
    "The results can be compared to all-electron calculations, done with different basis sets, from references (units are eV)\n",
    "(1) S.&nbsp;Hamel <i>et&nbsp;al.</i> J. Electron Spectrospcopy and Related Phenomena 123 (2002) 345-363 and (2) P.&nbsp;Politzer, F.&nbsp;Abu-Awwad, Theor. Chem. Acc. (1998), 99, 83-87:\n",
    "\n",
    "eigenvalues          | LDA(1) | HF(1) | HF(2) | (Exp.)\n",
    "---------------------|--------|-------|-------|-------\n",
    "3&sigma;<sub>g</sub> | 10.36  | 17.25 | 17.31 | (15.60)\n",
    "1&pi;<sub>u</sub>    | 11.84  | 16.71 | 17.02 | (16.98)\n",
    "2&sigma;<sub>u</sub> | 13.41  | 21.25 | 21.08 | (18.78)\n",
    "\n",
    "### Exercise\n",
    "\n",
    "How do the results from the different BigDFT runs compare? What approximations are we making?\n",
    "\n",
    "Example [solution](./solutions/02-N2-solution.py)"
   ]
  },
  {
   "cell_type": "code",
   "execution_count": null,
   "metadata": {},
   "outputs": [],
   "source": []
  },
  {
   "cell_type": "markdown",
   "metadata": {
    "id": "0QV9J2s9qb59"
   },
   "source": [
    "## The overall structure of files in the disk\n",
    "\n",
    "In the disk, after that the run is performed, different files are created:\n",
    "* [input_minimal.yaml](./N2_minimal) which contains the minimal set of input variables to perform the run;\n",
    "* [log.yaml](./log-N2.yaml) which contains the log of the run with all calculated quantities;\n",
    "* [time.yaml](./time-N2.yaml) and [forces_posinp.yaml](./forces_N2.yaml) which we will see later.\n",
    "\n",
    "For its I/O, BigDFT uses the [yaml](http://www.yaml.org/spec) format.\n",
    "If you look at the [N2_minimal.yaml](./scratch/N2_minimal.yaml) file, you can see:"
   ]
  },
  {
   "cell_type": "code",
   "execution_count": null,
   "metadata": {},
   "outputs": [],
   "source": [
    "! cat scratch/N2_minimal.yaml"
   ]
  },
  {
   "cell_type": "markdown",
   "metadata": {},
   "source": [
    "This file could be used to rerun the calculations, e.g. on scarf.\n",
    "\n",
    "In this case, only the atomic positions are indicated using a yaml format.\n",
    "\n",
    "However, there is a one-to-one correspondence between a yaml file and a python dictionary. For this reason\n",
    "we will create the input parameters of this runs from dictionaries. See the useful [yaml online parser](http://yaml-online-parser.appspot.com/) page to understand the correspondence.\n",
    "\n",
    "In the log file [log.yaml](./scratch/log-N2.yaml), BigDFT automatically displays all the input parameters used for the calculations. \n",
    "\n",
    "The parameters which were not explicitly given are set to a default value, except the atomic positions of course, which have to be given. As we did not specified input files here, our run is a single-point LDA calculation, without spin-polarisation."
   ]
  },
  {
   "cell_type": "code",
   "execution_count": null,
   "metadata": {},
   "outputs": [],
   "source": []
  },
  {
   "cell_type": "code",
   "execution_count": null,
   "metadata": {},
   "outputs": [],
   "source": []
  },
  {
   "cell_type": "code",
   "execution_count": null,
   "metadata": {},
   "outputs": [],
   "source": []
  },
  {
   "cell_type": "code",
   "execution_count": null,
   "metadata": {},
   "outputs": [],
   "source": []
  }
 ],
 "metadata": {
  "colab": {
   "provenance": []
  },
  "kernelspec": {
   "display_name": "Python 3 (ipykernel)",
   "language": "python",
   "name": "python3"
  },
  "language_info": {
   "codemirror_mode": {
    "name": "ipython",
    "version": 3
   },
   "file_extension": ".py",
   "mimetype": "text/x-python",
   "name": "python",
   "nbconvert_exporter": "python",
   "pygments_lexer": "ipython3",
   "version": "3.8.10"
  }
 },
 "nbformat": 4,
 "nbformat_minor": 4
}
