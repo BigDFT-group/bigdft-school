{
 "cells": [
  {
   "cell_type": "markdown",
   "id": "bb3ff752",
   "metadata": {},
   "source": [
    "# Convergence check on the basis set\n",
    "\n",
    "The purpose of this lesson is to get familiar with the basic variables needed to run a wavelet computation in isolated boundary conditions.\n",
    "Here we start from a different system, which will be also employed in comparing the results of BigDFT with gaussian basis set calculations."
   ]
  },
  {
   "cell_type": "markdown",
   "id": "f056c096",
   "metadata": {},
   "source": [
    "## The wavelet basis set, a convergence study\n",
    "\n",
    "Daubechies Wavelets is a systematic basis set (as plane waves are), which means than one can increase arbitrarily the accuracy of the results by varying some parameters which are defined in the `dft` dictionary (`inp['dft']`).\n",
    "We here explain what are the meaning and the typical values for the principal parameters, `hgrid` and `rmult`.\n",
    "\n",
    "**`hgrids`**\n",
    "      are used to set up the basis set. In free boundary conditions, the basis set is characterised\n",
    "      by a spatial expansion and a grid step, as shown in the side figure.\n",
    "      There is ''one float value'' describing the ''grid steps'' in the three space directions (''i.e.'' x, y and z)\n",
    "      or a 3D array is also accepted.\n",
    "      These values are in bohr unit and typically range from 0.3 to 0.65. The\n",
    "      harder the pseudo-potential, the lower value should be set up.\n",
    "      These values are called `hgrids` in the input dictionary, and can be set by the `set_hgrid` method of the \n",
    "      `Inpufile` class.\n",
    "        \n",
    "**`rmult`**\n",
    "      contains an array of two float values that are two multiplying factors.\n",
    "      They multiply quantities that are chemical species dependent.\n",
    "      The first factor is the most important since it\n",
    "      describes ''the spatial expansion'' of the basis set (in yellow on the figure beside).\n",
    "      Indeed the basis set is defined as a set of real space points with non-zero values.\n",
    "      These points are on a global regular mesh and located inside spheres centered on atoms.\n",
    "      The first multiplying factor is called `crmult` for Coarse grid Radius MULTiplier.\n",
    "      Increasing it means that further spatial expansion is possible for the wavefunctions. \n",
    "      Typical values are 5 to 7.\n",
    "      The second one called `frmult` for Fine grid Radius MULTiplier is related to the fine resolution.\n",
    "      This parameter is less pertinent for the convergence of energy and can be ignored.\n",
    "      It is possible to indicate only one float value, the `crmult` parameter.\n",
    "      Such parameters can be set by the method `set_rmult` of `Inputfile` class.\n",
    "      \n",
    "### Objective\n",
    "\n",
    "Let us run BigDFT for the following values of *hgrid* and *crmult* and plot the total energy convergence versus `hgrids`. \n",
    "The final total energy can be retrieved using the method `energy` from the result of each of the runs. The unit of the energies is in Hartree. \n",
    "\n",
    "In practice a more fine grained sampling of *hgrids* and/or *crmult* might be required."
   ]
  },
  {
   "cell_type": "code",
   "execution_count": null,
   "id": "3cb0bf1c",
   "metadata": {},
   "outputs": [],
   "source": [
    "from BigDFT.Database.Molecules import get_molecule\n",
    "sys=get_molecule('CH3SH')"
   ]
  },
  {
   "cell_type": "code",
   "execution_count": null,
   "id": "4d266eb3",
   "metadata": {
    "tags": []
   },
   "outputs": [],
   "source": [
    "hgrids = [0.55, 0.45, 0.35] #bohr\n",
    "crmult = [4.0, 5.0, 6.0, 7.0]"
   ]
  },
  {
   "cell_type": "code",
   "execution_count": null,
   "id": "9b523d40",
   "metadata": {
    "tags": []
   },
   "outputs": [],
   "source": [
    "from BigDFT.Inputfiles import Inputfile\n",
    "inp = Inputfile()\n",
    "inp.set_xc(\"LDA\")"
   ]
  },
  {
   "cell_type": "code",
   "execution_count": null,
   "id": "b748adc7",
   "metadata": {
    "tags": []
   },
   "outputs": [],
   "source": [
    "from BigDFT.Calculators import SystemCalculator\n",
    "code = SystemCalculator(verbose=False, skip=True, omp=1, mpi_run='mpirun -np 8')"
   ]
  },
  {
   "cell_type": "code",
   "execution_count": null,
   "id": "5d7bdbcd",
   "metadata": {
    "tags": []
   },
   "outputs": [],
   "source": [
    "from numpy import array\n",
    "\n",
    "bigdft_energies = {}\n",
    "bigdft_forces = {}\n",
    "bigdft_times = {}\n",
    "total_time = 0.0\n",
    "for h in hgrids:\n",
    "    print('Running different crmult values for h=',h)\n",
    "    inp.set_hgrid(h)\n",
    "    bigdft_energies[h] = []\n",
    "    bigdft_forces[h] = []\n",
    "    bigdft_times[h] = []\n",
    "    for c in crmult:\n",
    "        inp.set_rmult([c, 8.0])\n",
    "        log = code.run(input=inp, posinp=sys.get_posinp(), \n",
    "                       name='LDA-'+str(h) + \"-\" + str(c), run_dir=\"work\")\n",
    "        sys.set_atom_forces(log)\n",
    "        bigdft_energies[h].append(log.energy)\n",
    "        \n",
    "        forces = []\n",
    "        for frag in sys.values():\n",
    "            for at in frag:\n",
    "                forces.append(at.get_force())\n",
    "        bigdft_forces[h].append(array(forces))\n",
    "\n",
    "        time = log.log[\"Timings for root process\"][\"Elapsed time (s)\"]\n",
    "        bigdft_times[h].append(time)\n",
    "        total_time += time\n",
    "\n",
    "print('Runs took', total_time/60, 'minutes')"
   ]
  },
  {
   "cell_type": "markdown",
   "id": "f0876329",
   "metadata": {},
   "source": [
    "After the calculation have been issued, we can analyze the variation of the energy with respect to the best parameter."
   ]
  },
  {
   "cell_type": "code",
   "execution_count": null,
   "id": "1471f32d",
   "metadata": {
    "tags": []
   },
   "outputs": [],
   "source": [
    "from matplotlib import pyplot as plt\n",
    "from matplotlib.colors import LightSource\n",
    "from matplotlib import cm\n",
    "import numpy \n",
    "X=len(hgrids)*[crmult]\n",
    "Y=numpy.array([hgrids]*len(crmult)).T\n",
    "E=numpy.array([bigdft_energies[h] for h in hgrids])\n",
    "LogE=numpy.log(E-E.min())\n",
    "fig, ax = plt.subplots(subplot_kw=dict(projection='3d'))\n",
    "ls = LightSource(4, 0.4)\n",
    "# To use a custom hillshading mode, override the built-in shading and pass\n",
    "# in the rgb colors of the shaded surface calculated from \"shade\".\n",
    "rgb = ls.shade(LogE, cmap=cm.gist_earth, vert_exag=0.1, blend_mode='soft')\n",
    "ax.plot_surface(X,Y,LogE,cmap=cm.coolwarm)\n",
    "ax.set_ylabel('hgrid')\n",
    "ax.set_xlabel('crmult')\n",
    "ax.set_title(r'$Log (E-E_{min})$')"
   ]
  },
  {
   "cell_type": "markdown",
   "id": "81537297",
   "metadata": {},
   "source": [
    "This set of calculations would show the way in which the basis set approaches the systematic result.\n",
    "\n",
    "### Exercise\n",
    "\n",
    "How does the time vary with respect to the basis set parameters? How would you use the above data to decide on the appropriate parameters for a production calculation?"
   ]
  },
  {
   "cell_type": "code",
   "execution_count": null,
   "id": "6c7f170d",
   "metadata": {},
   "outputs": [],
   "source": []
  }
 ],
 "metadata": {
  "kernelspec": {
   "display_name": "Python 3 (ipykernel)",
   "language": "python",
   "name": "python3"
  },
  "language_info": {
   "codemirror_mode": {
    "name": "ipython",
    "version": 3
   },
   "file_extension": ".py",
   "mimetype": "text/x-python",
   "name": "python",
   "nbconvert_exporter": "python",
   "pygments_lexer": "ipython3",
   "version": "3.8.10"
  }
 },
 "nbformat": 4,
 "nbformat_minor": 5
}
