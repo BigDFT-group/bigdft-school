{
  "cells": [
    {
      "cell_type": "markdown",
      "id": "lasting-luxury",
      "metadata": {
        "id": "lasting-luxury"
      },
      "source": [
        "# System Generation\n",
        "In this lesson, we will describe the data structures available in PyBigDFT for manipulating the systems we want to study (whether molecular or solid state). This will also be a moment for us to introduce one of the main philosophy's of this framework. In python, we have two very common datastructures: lists and dictionaries."
      ]
    },
    {
      "cell_type": "code",
      "execution_count": 1,
      "id": "occasional-thirty",
      "metadata": {
        "id": "occasional-thirty",
        "outputId": "279838a3-5d5b-48da-e556-eaa805d34daf",
        "colab": {
          "base_uri": "https://localhost:8080/"
        }
      },
      "outputs": [
        {
          "output_type": "stream",
          "name": "stdout",
          "text": [
            "3\n",
            "4\n"
          ]
        }
      ],
      "source": [
        "my_list = [0, 1, 2, 3]\n",
        "print(my_list[-1])\n",
        "my_dict = {\"a\": \"word\", \"c\": 4}\n",
        "print(my_dict[\"c\"])"
      ]
    },
    {
      "cell_type": "markdown",
      "id": "improved-sunday",
      "metadata": {
        "id": "improved-sunday"
      },
      "source": [
        "These two datastructures have some nice features. First, they are serializable in human readable formats like [json](https://en.wikipedia.org/wiki/JSON) or [yaml](https://en.wikipedia.org/wiki/JSON)."
      ]
    },
    {
      "cell_type": "code",
      "execution_count": 2,
      "id": "starting-russia",
      "metadata": {
        "id": "starting-russia",
        "outputId": "43318a11-8b97-4734-acc8-56e6268bb8e9",
        "colab": {
          "base_uri": "https://localhost:8080/"
        }
      },
      "outputs": [
        {
          "output_type": "stream",
          "name": "stdout",
          "text": [
            "- 0\n",
            "- 1\n",
            "- 2\n",
            "- 3\n",
            "\n",
            "a: word\n",
            "c: 4\n",
            "\n"
          ]
        }
      ],
      "source": [
        "from yaml import dump\n",
        "print(dump(my_list))\n",
        "print(dump(my_dict))"
      ]
    },
    {
      "cell_type": "markdown",
      "id": "valuable-highway",
      "metadata": {
        "id": "valuable-highway"
      },
      "source": [
        "The second is that they can be quickly built and manipulated using comprehensions ([list](https://peps.python.org/pep-0202/) and [dict](https://peps.python.org/pep-0274/))."
      ]
    },
    {
      "cell_type": "code",
      "execution_count": 3,
      "id": "higher-tenant",
      "metadata": {
        "id": "higher-tenant",
        "outputId": "2c155dcf-5a15-4e7f-9827-7019b632a14a",
        "colab": {
          "base_uri": "https://localhost:8080/"
        }
      },
      "outputs": [
        {
          "output_type": "stream",
          "name": "stdout",
          "text": [
            "[0, 3, 6, 9]\n",
            "{'a2': 'word', 'c2': 4}\n"
          ]
        }
      ],
      "source": [
        "my_list2 = [x * 3 for x in my_list]\n",
        "print(my_list2)\n",
        "my_dict2 = {k + \"2\": v for k, v in my_dict.items()}\n",
        "print(my_dict2)"
      ]
    },
    {
      "cell_type": "markdown",
      "id": "precise-parish",
      "metadata": {
        "id": "precise-parish"
      },
      "source": [
        "## Atom Class\n",
        "Any system we want to study is going to be made up of Atoms. What is the best way to store information about an atom? From our previous discussion, a `dict` seems most appropriate."
      ]
    },
    {
      "cell_type": "code",
      "execution_count": 4,
      "id": "incomplete-chester",
      "metadata": {
        "id": "incomplete-chester",
        "outputId": "7b881319-e6ee-49b5-d65e-27189a5a7e79",
        "colab": {
          "base_uri": "https://localhost:8080/"
        }
      },
      "outputs": [
        {
          "output_type": "stream",
          "name": "stdout",
          "text": [
            "r:\n",
            "- 1\n",
            "- 0\n",
            "- 0\n",
            "sym: H\n",
            "units: angstroem\n",
            "\n"
          ]
        }
      ],
      "source": [
        "datm = {\"sym\": \"H\", \"r\": [1, 0, 0], \"units\": \"angstroem\"}\n",
        "# the following also works\n",
        "# datm = {\"H\": [1, 0, 0], \"units\": \"angstroem\"}\n",
        "print(dump(datm))"
      ]
    },
    {
      "cell_type": "markdown",
      "id": "regulated-flashing",
      "metadata": {
        "id": "regulated-flashing"
      },
      "source": [
        "Nonetheless, just manipulating a `dict` by itself is error prone, and you might want some helpful subroutines. For this reasons, we've wrapped up a `dict` in our Atom class."
      ]
    },
    {
      "cell_type": "code",
      "source": [
        "# let us now install the bigdft client (see previous lessons)\n",
        "!wget https://gitlab.com/luigigenovese/bigdft-school/-/raw/main/packaging/install.py &> /dev/null\n",
        "import install\n",
        "install.client() #such installation is already performed. It should take about 20 sec."
      ],
      "metadata": {
        "id": "7i2e9d3pMW7j"
      },
      "id": "7i2e9d3pMW7j",
      "execution_count": null,
      "outputs": []
    },
    {
      "cell_type": "code",
      "execution_count": 8,
      "id": "undefined-closing",
      "metadata": {
        "id": "undefined-closing",
        "outputId": "3c5c7765-1021-4123-dadd-6ada5e674d99",
        "colab": {
          "base_uri": "https://localhost:8080/"
        }
      },
      "outputs": [
        {
          "output_type": "stream",
          "name": "stdout",
          "text": [
            "!!python/object:BigDFT.Atoms.Atom\n",
            "store:\n",
            "  r:\n",
            "  - 1\n",
            "  - 0\n",
            "  - 0\n",
            "  sym: H\n",
            "  units: angstroem\n",
            "\n"
          ]
        }
      ],
      "source": [
        "from BigDFT.Atoms import Atom\n",
        "atom = Atom(datm)\n",
        "print(dump(atom))"
      ]
    },
    {
      "cell_type": "markdown",
      "id": "recognized-collapse",
      "metadata": {
        "id": "recognized-collapse"
      },
      "source": [
        "Some of the built in subroutines are demonstrated below."
      ]
    },
    {
      "cell_type": "code",
      "execution_count": 9,
      "id": "silver-composer",
      "metadata": {
        "id": "silver-composer",
        "outputId": "eb013ae9-dc7c-40db-f0fa-1b3b78ed4703",
        "colab": {
          "base_uri": "https://localhost:8080/"
        }
      },
      "outputs": [
        {
          "output_type": "stream",
          "name": "stdout",
          "text": [
            "H\n",
            "1\n",
            "[1.0, 0.0, 0.0]\n",
            "[1.8897261245650618, 0.0, 0.0]\n"
          ]
        }
      ],
      "source": [
        "print(atom.sym)\n",
        "print(atom.atomic_number)\n",
        "print(atom.get_position(\"angstroem\"))\n",
        "print(atom.get_position(\"bohr\"))"
      ]
    },
    {
      "cell_type": "markdown",
      "id": "accurate-tyler",
      "metadata": {
        "id": "accurate-tyler"
      },
      "source": [
        "With this approach, we nonetheless retain the flexibility of a `dict`."
      ]
    },
    {
      "cell_type": "code",
      "execution_count": 10,
      "id": "everyday-guyana",
      "metadata": {
        "id": "everyday-guyana",
        "outputId": "59ccd969-94c5-486c-de22-2457f2c8c426",
        "colab": {
          "base_uri": "https://localhost:8080/"
        }
      },
      "outputs": [
        {
          "output_type": "stream",
          "name": "stdout",
          "text": [
            "tutorial\n",
            "sym H\n",
            "r [1, 0, 0]\n",
            "units angstroem\n",
            "source tutorial\n"
          ]
        }
      ],
      "source": [
        "atom[\"source\"] = \"tutorial\"\n",
        "print(atom[\"source\"])\n",
        "for k, v in atom.items():\n",
        "    print(k, v)"
      ]
    },
    {
      "cell_type": "markdown",
      "id": "postal-blackjack",
      "metadata": {
        "id": "postal-blackjack"
      },
      "source": [
        "## Fragments\n",
        "We won't do many calculations involving a single atom, instead we want to put together groups of atoms. In this case, we will use a list as our model data structure, with the wrapper class refered to as a `Fragment`. "
      ]
    },
    {
      "cell_type": "code",
      "execution_count": 11,
      "id": "shaped-institution",
      "metadata": {
        "id": "shaped-institution"
      },
      "outputs": [],
      "source": [
        "atm1 = Atom({\"sym\": \"O\", \"r\": [2.3229430273, 1.3229430273, 1.7139430273], \"units\": \"angstroem\"})\n",
        "atm2 = Atom({\"sym\": \"H\", \"r\": [2.3229430273, 2.0801430273, 1.1274430273], \"units\": \"angstroem\"})\n",
        "atm3 = Atom({\"sym\": \"H\", \"r\": [2.3229430273, 0.5657430273000001, 1.1274430273], \"units\": \"angstroem\"})"
      ]
    },
    {
      "cell_type": "code",
      "execution_count": 12,
      "id": "killing-keyboard",
      "metadata": {
        "id": "killing-keyboard",
        "outputId": "a147e4e3-f3a7-46c8-923e-5e5c7b1bef96",
        "colab": {
          "base_uri": "https://localhost:8080/"
        }
      },
      "outputs": [
        {
          "output_type": "stream",
          "name": "stdout",
          "text": [
            "3\n",
            "[4.38972612 2.5        2.5       ]\n"
          ]
        }
      ],
      "source": [
        "from BigDFT.Fragments import Fragment\n",
        "frag1 = Fragment([atm1, atm2, atm3])\n",
        "print(len(frag1))\n",
        "print(frag1.centroid)"
      ]
    },
    {
      "cell_type": "markdown",
      "id": "unable-behalf",
      "metadata": {
        "id": "unable-behalf"
      },
      "source": [
        "It's also possible to build up a fragment in a more step by step process."
      ]
    },
    {
      "cell_type": "code",
      "execution_count": 13,
      "id": "burning-muscle",
      "metadata": {
        "id": "burning-muscle"
      },
      "outputs": [],
      "source": [
        "frag1 = Fragment()\n",
        "frag1.append(atm1)\n",
        "frag1 += Fragment([atm2])\n",
        "frag1.extend(Fragment([atm3]))"
      ]
    },
    {
      "cell_type": "markdown",
      "id": "danish-potato",
      "metadata": {
        "id": "danish-potato"
      },
      "source": [
        "We added the feature to translate and rotate a fragment."
      ]
    },
    {
      "cell_type": "code",
      "execution_count": 14,
      "id": "pregnant-experience",
      "metadata": {
        "id": "pregnant-experience"
      },
      "outputs": [],
      "source": [
        "from copy import deepcopy\n",
        "frag2 = deepcopy(frag1)\n",
        "frag2.translate([10, 0, 0])\n",
        "frag2.rotate(x=90, units=\"degrees\")"
      ]
    },
    {
      "cell_type": "code",
      "execution_count": 15,
      "id": "selective-packaging",
      "metadata": {
        "id": "selective-packaging",
        "outputId": "d4b5ba24-fcb5-44cc-9fd2-b505edec1af6",
        "colab": {
          "base_uri": "https://localhost:8080/"
        }
      },
      "outputs": [
        {
          "output_type": "stream",
          "name": "stdout",
          "text": [
            "!!python/object:BigDFT.Fragments.Fragment\n",
            "atoms:\n",
            "- !!python/object:BigDFT.Atoms.Atom\n",
            "  store:\n",
            "    r:\n",
            "    - 14.389726124565062\n",
            "    - 1.7611170852950608\n",
            "    - 2.499999999999999\n",
            "    sym: O\n",
            "    units: bohr\n",
            "- !!python/object:BigDFT.Atoms.Atom\n",
            "  store:\n",
            "    r:\n",
            "    - 14.389726124565062\n",
            "    - 2.86944145735247\n",
            "    - 3.930900621520664\n",
            "    sym: H\n",
            "    units: bohr\n",
            "- !!python/object:BigDFT.Atoms.Atom\n",
            "  store:\n",
            "    r:\n",
            "    - 14.389726124565062\n",
            "    - 2.86944145735247\n",
            "    - 1.0690993784793343\n",
            "    sym: H\n",
            "    units: bohr\n",
            "conmat: null\n",
            "frozen: null\n",
            "q1: null\n",
            "q2: null\n",
            "\n"
          ]
        }
      ],
      "source": [
        "print(dump(frag2))"
      ]
    },
    {
      "cell_type": "markdown",
      "id": "boxed-valuable",
      "metadata": {
        "id": "boxed-valuable"
      },
      "source": [
        "## Systems\n",
        "Many Quantum Mechanical codes top off at the list of atoms level, but in PyBigDFT we go one step further. At the top, we have the `System` class which is based on a `dict`."
      ]
    },
    {
      "cell_type": "code",
      "execution_count": 16,
      "id": "common-result",
      "metadata": {
        "id": "common-result"
      },
      "outputs": [],
      "source": [
        "from BigDFT.Systems import System\n",
        "sys = System()\n",
        "sys[\"WAT:0\"] = frag1\n",
        "sys[\"WAT:1\"] = frag2"
      ]
    },
    {
      "cell_type": "code",
      "execution_count": 17,
      "id": "coastal-salvation",
      "metadata": {
        "id": "coastal-salvation",
        "outputId": "88073fb9-dd12-47b7-aa42-f0059e945d95",
        "colab": {
          "base_uri": "https://localhost:8080/"
        }
      },
      "outputs": [
        {
          "output_type": "stream",
          "name": "stdout",
          "text": [
            "!!python/object:BigDFT.Systems.System\n",
            "cell: !!python/object:BigDFT.UnitCells.UnitCell\n",
            "  cell:\n",
            "  - - .inf\n",
            "    - 0\n",
            "    - 0\n",
            "  - - 0\n",
            "    - .inf\n",
            "    - 0\n",
            "  - - 0\n",
            "    - 0\n",
            "    - .inf\n",
            "conmat: null\n",
            "store:\n",
            "  WAT:0: !!python/object:BigDFT.Fragments.Fragment\n",
            "    atoms:\n",
            "    - !!python/object:BigDFT.Atoms.Atom\n",
            "      store:\n",
            "        r:\n",
            "        - 2.3229430273\n",
            "        - 1.3229430273\n",
            "        - 1.7139430273\n",
            "        sym: O\n",
            "        units: angstroem\n",
            "    - !!python/object:BigDFT.Atoms.Atom\n",
            "      store:\n",
            "        r:\n",
            "        - 2.3229430273\n",
            "        - 2.0801430273\n",
            "        - 1.1274430273\n",
            "        sym: H\n",
            "        units: angstroem\n",
            "    - !!python/object:BigDFT.Atoms.Atom\n",
            "      store:\n",
            "        r:\n",
            "        - 2.3229430273\n",
            "        - 0.5657430273000001\n",
            "        - 1.1274430273\n",
            "        sym: H\n",
            "        units: angstroem\n",
            "    conmat: null\n",
            "    frozen: null\n",
            "    q1: null\n",
            "    q2: null\n",
            "  WAT:1: !!python/object:BigDFT.Fragments.Fragment\n",
            "    atoms:\n",
            "    - !!python/object:BigDFT.Atoms.Atom\n",
            "      store:\n",
            "        r:\n",
            "        - 14.389726124565062\n",
            "        - 1.7611170852950608\n",
            "        - 2.499999999999999\n",
            "        sym: O\n",
            "        units: bohr\n",
            "    - !!python/object:BigDFT.Atoms.Atom\n",
            "      store:\n",
            "        r:\n",
            "        - 14.389726124565062\n",
            "        - 2.86944145735247\n",
            "        - 3.930900621520664\n",
            "        sym: H\n",
            "        units: bohr\n",
            "    - !!python/object:BigDFT.Atoms.Atom\n",
            "      store:\n",
            "        r:\n",
            "        - 14.389726124565062\n",
            "        - 2.86944145735247\n",
            "        - 1.0690993784793343\n",
            "        sym: H\n",
            "        units: bohr\n",
            "    conmat: null\n",
            "    frozen: null\n",
            "    q1: null\n",
            "    q2: null\n",
            "\n"
          ]
        }
      ],
      "source": [
        "print(dump(sys))"
      ]
    },
    {
      "cell_type": "markdown",
      "id": "relevant-ottawa",
      "metadata": {
        "id": "relevant-ottawa"
      },
      "source": [
        "In principle, any dictionary key is fine to use for our `System` class, but in practice we follow the convention of giving it a name and identifier separated by a colon. To summarize the hierarchy, let's iterate over our `System`."
      ]
    },
    {
      "cell_type": "code",
      "execution_count": 18,
      "id": "tropical-photography",
      "metadata": {
        "id": "tropical-photography",
        "outputId": "484c2ebf-9e59-4661-d73b-bd1d6a44d761",
        "colab": {
          "base_uri": "https://localhost:8080/"
        }
      },
      "outputs": [
        {
          "output_type": "stream",
          "name": "stdout",
          "text": [
            "WAT:0\n",
            "{'sym': 'O', 'r': [2.3229430273, 1.3229430273, 1.7139430273], 'units': 'angstroem'}\n",
            "{'sym': 'H', 'r': [2.3229430273, 2.0801430273, 1.1274430273], 'units': 'angstroem'}\n",
            "{'sym': 'H', 'r': [2.3229430273, 0.5657430273000001, 1.1274430273], 'units': 'angstroem'}\n",
            "WAT:1\n",
            "{'sym': 'O', 'r': [14.389726124565062, 1.7611170852950608, 2.499999999999999], 'units': 'bohr'}\n",
            "{'sym': 'H', 'r': [14.389726124565062, 2.86944145735247, 3.930900621520664], 'units': 'bohr'}\n",
            "{'sym': 'H', 'r': [14.389726124565062, 2.86944145735247, 1.0690993784793343], 'units': 'bohr'}\n"
          ]
        }
      ],
      "source": [
        "for fragid, frag in sys.items():\n",
        "    print(fragid)\n",
        "    for atm in frag:\n",
        "        print(dict(atm))"
      ]
    },
    {
      "cell_type": "markdown",
      "id": "growing-madrid",
      "metadata": {
        "id": "growing-madrid"
      },
      "source": [
        "Now that we've reached the top level, let's visualize the system we have built."
      ]
    },
    {
      "cell_type": "code",
      "source": [
        "# install.packages('py3Dmol') # in case this has not been done before"
      ],
      "metadata": {
        "id": "O-pQKJK9NWI9"
      },
      "id": "O-pQKJK9NWI9",
      "execution_count": 22,
      "outputs": []
    },
    {
      "cell_type": "code",
      "execution_count": 21,
      "id": "liable-conclusion",
      "metadata": {
        "id": "liable-conclusion",
        "outputId": "4dcca526-90e5-41cf-9100-c58e0eb0cd8f",
        "colab": {
          "base_uri": "https://localhost:8080/",
          "height": 335
        }
      },
      "outputs": [
        {
          "output_type": "display_data",
          "data": {
            "application/3dmoljs_load.v0": "<div id=\"3dmolviewer_16634309483664646\"  style=\"position: relative; width: 400px; height: 300px\">\n        <p id=\"3dmolwarning_16634309483664646\" style=\"background-color:#ffcccc;color:black\">You appear to be running in JupyterLab (or JavaScript failed to load for some other reason).  You need to install the 3dmol extension: <br>\n        <tt>jupyter labextension install jupyterlab_3dmol</tt></p>\n        </div>\n<script>\n\nvar loadScriptAsync = function(uri){\n  return new Promise((resolve, reject) => {\n    var tag = document.createElement('script');\n    tag.src = uri;\n    tag.async = true;\n    tag.onload = () => {\n      resolve();\n    };\n  var firstScriptTag = document.getElementsByTagName('script')[0];\n  firstScriptTag.parentNode.insertBefore(tag, firstScriptTag);\n});\n};\n\nif(typeof $3Dmolpromise === 'undefined') {\n$3Dmolpromise = null;\n  $3Dmolpromise = loadScriptAsync('https://cdn.jsdelivr.net/npm/3dmol@latest/build/3Dmol-min.min.js');\n}\n\nvar viewer_16634309483664646 = null;\nvar warn = document.getElementById(\"3dmolwarning_16634309483664646\");\nif(warn) {\n    warn.parentNode.removeChild(warn);\n}\n$3Dmolpromise.then(function() {\nvar viewergrid_16634309483664646 = null;\nviewergrid_16634309483664646 = $3Dmol.createViewerGrid($(\"#3dmolviewer_16634309483664646\"),{rows: 1, cols: 1, control_all: false},{backgroundColor:\"white\"});\nviewer_16634309483664646 = viewergrid_16634309483664646[0][0];\nviewergrid_16634309483664646[0][0].zoomTo();\tviewergrid_16634309483664646[0][0].addModelsAsFrames(\"MODEL 0\\nHETATM    1 O    WAT A   0       2.323   1.323   1.714  1.00  0.00       B   O  \\nHETATM    2 H    WAT A   0       2.323   2.080   1.127  1.00  0.00       B   H  \\nHETATM    3 H    WAT A   0       2.323   0.566   1.127  1.00  0.00       B   H  \\nHETATM    4 O    WAT A   1       7.615   0.932   1.323  1.00  0.00       B   O  \\nHETATM    5 H    WAT A   1       7.615   1.518   2.080  1.00  0.00       B   H  \\nHETATM    6 H    WAT A   1       7.615   1.518   0.566  1.00  0.00       B   H  \\nENDMDL\\n\",\"pdb\",{\"keepH\": \"true\"});\n\tviewergrid_16634309483664646[0][0].setStyle({\"model\": -1},{\"line\": {\"color\": \"black\"}});\n\tviewergrid_16634309483664646[0][0].addModelsAsFrames(\"MODEL 0\\nHETATM    1 O    WAT A   0       2.323   1.323   1.714  1.00  0.00       B   O  \\nHETATM    2 H    WAT A   0       2.323   2.080   1.127  1.00  0.00       B   H  \\nHETATM    3 H    WAT A   0       2.323   0.566   1.127  1.00  0.00       B   H  \\nHETATM    4 O    WAT A   1       7.615   0.932   1.323  1.00  0.00       B   O  \\nHETATM    5 H    WAT A   1       7.615   1.518   2.080  1.00  0.00       B   H  \\nHETATM    6 H    WAT A   1       7.615   1.518   0.566  1.00  0.00       B   H  \\nENDMDL\\n\",\"pdb\",{\"keepH\": \"true\"});\n\tviewergrid_16634309483664646[0][0].setStyle({\"model\": -1, \"serial\": 1},{\"sphere\": {\"scale\": 0.2, \"color\": \"#FF0000\"}});\n\tviewergrid_16634309483664646[0][0].addModelsAsFrames(\"MODEL 0\\nHETATM    1 O    WAT A   0       2.323   1.323   1.714  1.00  0.00       B   O  \\nHETATM    2 H    WAT A   0       2.323   2.080   1.127  1.00  0.00       B   H  \\nHETATM    3 H    WAT A   0       2.323   0.566   1.127  1.00  0.00       B   H  \\nHETATM    4 O    WAT A   1       7.615   0.932   1.323  1.00  0.00       B   O  \\nHETATM    5 H    WAT A   1       7.615   1.518   2.080  1.00  0.00       B   H  \\nHETATM    6 H    WAT A   1       7.615   1.518   0.566  1.00  0.00       B   H  \\nENDMDL\\n\",\"pdb\",{\"keepH\": \"true\"});\n\tviewergrid_16634309483664646[0][0].setStyle({\"model\": -1, \"serial\": 2},{\"sphere\": {\"scale\": 0.2, \"color\": \"#FF0000\"}});\n\tviewergrid_16634309483664646[0][0].addModelsAsFrames(\"MODEL 0\\nHETATM    1 O    WAT A   0       2.323   1.323   1.714  1.00  0.00       B   O  \\nHETATM    2 H    WAT A   0       2.323   2.080   1.127  1.00  0.00       B   H  \\nHETATM    3 H    WAT A   0       2.323   0.566   1.127  1.00  0.00       B   H  \\nHETATM    4 O    WAT A   1       7.615   0.932   1.323  1.00  0.00       B   O  \\nHETATM    5 H    WAT A   1       7.615   1.518   2.080  1.00  0.00       B   H  \\nHETATM    6 H    WAT A   1       7.615   1.518   0.566  1.00  0.00       B   H  \\nENDMDL\\n\",\"pdb\",{\"keepH\": \"true\"});\n\tviewergrid_16634309483664646[0][0].setStyle({\"model\": -1, \"serial\": 3},{\"sphere\": {\"scale\": 0.2, \"color\": \"#FF0000\"}});\n\tviewergrid_16634309483664646[0][0].addModelsAsFrames(\"MODEL 0\\nHETATM    1 O    WAT A   0       2.323   1.323   1.714  1.00  0.00       B   O  \\nHETATM    2 H    WAT A   0       2.323   2.080   1.127  1.00  0.00       B   H  \\nHETATM    3 H    WAT A   0       2.323   0.566   1.127  1.00  0.00       B   H  \\nHETATM    4 O    WAT A   1       7.615   0.932   1.323  1.00  0.00       B   O  \\nHETATM    5 H    WAT A   1       7.615   1.518   2.080  1.00  0.00       B   H  \\nHETATM    6 H    WAT A   1       7.615   1.518   0.566  1.00  0.00       B   H  \\nENDMDL\\n\",\"pdb\",{\"keepH\": \"true\"});\n\tviewergrid_16634309483664646[0][0].setStyle({\"model\": -1},{\"line\": {\"color\": \"black\"}});\n\tviewergrid_16634309483664646[0][0].addModelsAsFrames(\"MODEL 0\\nHETATM    1 O    WAT A   0       2.323   1.323   1.714  1.00  0.00       B   O  \\nHETATM    2 H    WAT A   0       2.323   2.080   1.127  1.00  0.00       B   H  \\nHETATM    3 H    WAT A   0       2.323   0.566   1.127  1.00  0.00       B   H  \\nHETATM    4 O    WAT A   1       7.615   0.932   1.323  1.00  0.00       B   O  \\nHETATM    5 H    WAT A   1       7.615   1.518   2.080  1.00  0.00       B   H  \\nHETATM    6 H    WAT A   1       7.615   1.518   0.566  1.00  0.00       B   H  \\nENDMDL\\n\",\"pdb\",{\"keepH\": \"true\"});\n\tviewergrid_16634309483664646[0][0].setStyle({\"model\": -1, \"serial\": 4},{\"sphere\": {\"scale\": 0.2, \"color\": \"#7F00FF\"}});\n\tviewergrid_16634309483664646[0][0].addModelsAsFrames(\"MODEL 0\\nHETATM    1 O    WAT A   0       2.323   1.323   1.714  1.00  0.00       B   O  \\nHETATM    2 H    WAT A   0       2.323   2.080   1.127  1.00  0.00       B   H  \\nHETATM    3 H    WAT A   0       2.323   0.566   1.127  1.00  0.00       B   H  \\nHETATM    4 O    WAT A   1       7.615   0.932   1.323  1.00  0.00       B   O  \\nHETATM    5 H    WAT A   1       7.615   1.518   2.080  1.00  0.00       B   H  \\nHETATM    6 H    WAT A   1       7.615   1.518   0.566  1.00  0.00       B   H  \\nENDMDL\\n\",\"pdb\",{\"keepH\": \"true\"});\n\tviewergrid_16634309483664646[0][0].setStyle({\"model\": -1, \"serial\": 5},{\"sphere\": {\"scale\": 0.2, \"color\": \"#7F00FF\"}});\n\tviewergrid_16634309483664646[0][0].addModelsAsFrames(\"MODEL 0\\nHETATM    1 O    WAT A   0       2.323   1.323   1.714  1.00  0.00       B   O  \\nHETATM    2 H    WAT A   0       2.323   2.080   1.127  1.00  0.00       B   H  \\nHETATM    3 H    WAT A   0       2.323   0.566   1.127  1.00  0.00       B   H  \\nHETATM    4 O    WAT A   1       7.615   0.932   1.323  1.00  0.00       B   O  \\nHETATM    5 H    WAT A   1       7.615   1.518   2.080  1.00  0.00       B   H  \\nHETATM    6 H    WAT A   1       7.615   1.518   0.566  1.00  0.00       B   H  \\nENDMDL\\n\",\"pdb\",{\"keepH\": \"true\"});\n\tviewergrid_16634309483664646[0][0].setStyle({\"model\": -1, \"serial\": 6},{\"sphere\": {\"scale\": 0.2, \"color\": \"#7F00FF\"}});\n\tviewergrid_16634309483664646[0][0].addUnitCell({\"model\": -1},{\"box\": {\"color\": \"black\"}, \"alabel\": \"\", \"blabel\": \"\", \"clabel\": \"\"});\n\tviewergrid_16634309483664646[0][0].zoomTo();\nviewergrid_16634309483664646[0][0].render();\n});\n</script>",
            "text/html": [
              "<div id=\"3dmolviewer_16634309483664646\"  style=\"position: relative; width: 400px; height: 300px\">\n",
              "        <p id=\"3dmolwarning_16634309483664646\" style=\"background-color:#ffcccc;color:black\">You appear to be running in JupyterLab (or JavaScript failed to load for some other reason).  You need to install the 3dmol extension: <br>\n",
              "        <tt>jupyter labextension install jupyterlab_3dmol</tt></p>\n",
              "        </div>\n",
              "<script>\n",
              "\n",
              "var loadScriptAsync = function(uri){\n",
              "  return new Promise((resolve, reject) => {\n",
              "    var tag = document.createElement('script');\n",
              "    tag.src = uri;\n",
              "    tag.async = true;\n",
              "    tag.onload = () => {\n",
              "      resolve();\n",
              "    };\n",
              "  var firstScriptTag = document.getElementsByTagName('script')[0];\n",
              "  firstScriptTag.parentNode.insertBefore(tag, firstScriptTag);\n",
              "});\n",
              "};\n",
              "\n",
              "if(typeof $3Dmolpromise === 'undefined') {\n",
              "$3Dmolpromise = null;\n",
              "  $3Dmolpromise = loadScriptAsync('https://cdn.jsdelivr.net/npm/3dmol@latest/build/3Dmol-min.min.js');\n",
              "}\n",
              "\n",
              "var viewer_16634309483664646 = null;\n",
              "var warn = document.getElementById(\"3dmolwarning_16634309483664646\");\n",
              "if(warn) {\n",
              "    warn.parentNode.removeChild(warn);\n",
              "}\n",
              "$3Dmolpromise.then(function() {\n",
              "var viewergrid_16634309483664646 = null;\n",
              "viewergrid_16634309483664646 = $3Dmol.createViewerGrid($(\"#3dmolviewer_16634309483664646\"),{rows: 1, cols: 1, control_all: false},{backgroundColor:\"white\"});\n",
              "viewer_16634309483664646 = viewergrid_16634309483664646[0][0];\n",
              "viewergrid_16634309483664646[0][0].zoomTo();\tviewergrid_16634309483664646[0][0].addModelsAsFrames(\"MODEL 0\\nHETATM    1 O    WAT A   0       2.323   1.323   1.714  1.00  0.00       B   O  \\nHETATM    2 H    WAT A   0       2.323   2.080   1.127  1.00  0.00       B   H  \\nHETATM    3 H    WAT A   0       2.323   0.566   1.127  1.00  0.00       B   H  \\nHETATM    4 O    WAT A   1       7.615   0.932   1.323  1.00  0.00       B   O  \\nHETATM    5 H    WAT A   1       7.615   1.518   2.080  1.00  0.00       B   H  \\nHETATM    6 H    WAT A   1       7.615   1.518   0.566  1.00  0.00       B   H  \\nENDMDL\\n\",\"pdb\",{\"keepH\": \"true\"});\n",
              "\tviewergrid_16634309483664646[0][0].setStyle({\"model\": -1},{\"line\": {\"color\": \"black\"}});\n",
              "\tviewergrid_16634309483664646[0][0].addModelsAsFrames(\"MODEL 0\\nHETATM    1 O    WAT A   0       2.323   1.323   1.714  1.00  0.00       B   O  \\nHETATM    2 H    WAT A   0       2.323   2.080   1.127  1.00  0.00       B   H  \\nHETATM    3 H    WAT A   0       2.323   0.566   1.127  1.00  0.00       B   H  \\nHETATM    4 O    WAT A   1       7.615   0.932   1.323  1.00  0.00       B   O  \\nHETATM    5 H    WAT A   1       7.615   1.518   2.080  1.00  0.00       B   H  \\nHETATM    6 H    WAT A   1       7.615   1.518   0.566  1.00  0.00       B   H  \\nENDMDL\\n\",\"pdb\",{\"keepH\": \"true\"});\n",
              "\tviewergrid_16634309483664646[0][0].setStyle({\"model\": -1, \"serial\": 1},{\"sphere\": {\"scale\": 0.2, \"color\": \"#FF0000\"}});\n",
              "\tviewergrid_16634309483664646[0][0].addModelsAsFrames(\"MODEL 0\\nHETATM    1 O    WAT A   0       2.323   1.323   1.714  1.00  0.00       B   O  \\nHETATM    2 H    WAT A   0       2.323   2.080   1.127  1.00  0.00       B   H  \\nHETATM    3 H    WAT A   0       2.323   0.566   1.127  1.00  0.00       B   H  \\nHETATM    4 O    WAT A   1       7.615   0.932   1.323  1.00  0.00       B   O  \\nHETATM    5 H    WAT A   1       7.615   1.518   2.080  1.00  0.00       B   H  \\nHETATM    6 H    WAT A   1       7.615   1.518   0.566  1.00  0.00       B   H  \\nENDMDL\\n\",\"pdb\",{\"keepH\": \"true\"});\n",
              "\tviewergrid_16634309483664646[0][0].setStyle({\"model\": -1, \"serial\": 2},{\"sphere\": {\"scale\": 0.2, \"color\": \"#FF0000\"}});\n",
              "\tviewergrid_16634309483664646[0][0].addModelsAsFrames(\"MODEL 0\\nHETATM    1 O    WAT A   0       2.323   1.323   1.714  1.00  0.00       B   O  \\nHETATM    2 H    WAT A   0       2.323   2.080   1.127  1.00  0.00       B   H  \\nHETATM    3 H    WAT A   0       2.323   0.566   1.127  1.00  0.00       B   H  \\nHETATM    4 O    WAT A   1       7.615   0.932   1.323  1.00  0.00       B   O  \\nHETATM    5 H    WAT A   1       7.615   1.518   2.080  1.00  0.00       B   H  \\nHETATM    6 H    WAT A   1       7.615   1.518   0.566  1.00  0.00       B   H  \\nENDMDL\\n\",\"pdb\",{\"keepH\": \"true\"});\n",
              "\tviewergrid_16634309483664646[0][0].setStyle({\"model\": -1, \"serial\": 3},{\"sphere\": {\"scale\": 0.2, \"color\": \"#FF0000\"}});\n",
              "\tviewergrid_16634309483664646[0][0].addModelsAsFrames(\"MODEL 0\\nHETATM    1 O    WAT A   0       2.323   1.323   1.714  1.00  0.00       B   O  \\nHETATM    2 H    WAT A   0       2.323   2.080   1.127  1.00  0.00       B   H  \\nHETATM    3 H    WAT A   0       2.323   0.566   1.127  1.00  0.00       B   H  \\nHETATM    4 O    WAT A   1       7.615   0.932   1.323  1.00  0.00       B   O  \\nHETATM    5 H    WAT A   1       7.615   1.518   2.080  1.00  0.00       B   H  \\nHETATM    6 H    WAT A   1       7.615   1.518   0.566  1.00  0.00       B   H  \\nENDMDL\\n\",\"pdb\",{\"keepH\": \"true\"});\n",
              "\tviewergrid_16634309483664646[0][0].setStyle({\"model\": -1},{\"line\": {\"color\": \"black\"}});\n",
              "\tviewergrid_16634309483664646[0][0].addModelsAsFrames(\"MODEL 0\\nHETATM    1 O    WAT A   0       2.323   1.323   1.714  1.00  0.00       B   O  \\nHETATM    2 H    WAT A   0       2.323   2.080   1.127  1.00  0.00       B   H  \\nHETATM    3 H    WAT A   0       2.323   0.566   1.127  1.00  0.00       B   H  \\nHETATM    4 O    WAT A   1       7.615   0.932   1.323  1.00  0.00       B   O  \\nHETATM    5 H    WAT A   1       7.615   1.518   2.080  1.00  0.00       B   H  \\nHETATM    6 H    WAT A   1       7.615   1.518   0.566  1.00  0.00       B   H  \\nENDMDL\\n\",\"pdb\",{\"keepH\": \"true\"});\n",
              "\tviewergrid_16634309483664646[0][0].setStyle({\"model\": -1, \"serial\": 4},{\"sphere\": {\"scale\": 0.2, \"color\": \"#7F00FF\"}});\n",
              "\tviewergrid_16634309483664646[0][0].addModelsAsFrames(\"MODEL 0\\nHETATM    1 O    WAT A   0       2.323   1.323   1.714  1.00  0.00       B   O  \\nHETATM    2 H    WAT A   0       2.323   2.080   1.127  1.00  0.00       B   H  \\nHETATM    3 H    WAT A   0       2.323   0.566   1.127  1.00  0.00       B   H  \\nHETATM    4 O    WAT A   1       7.615   0.932   1.323  1.00  0.00       B   O  \\nHETATM    5 H    WAT A   1       7.615   1.518   2.080  1.00  0.00       B   H  \\nHETATM    6 H    WAT A   1       7.615   1.518   0.566  1.00  0.00       B   H  \\nENDMDL\\n\",\"pdb\",{\"keepH\": \"true\"});\n",
              "\tviewergrid_16634309483664646[0][0].setStyle({\"model\": -1, \"serial\": 5},{\"sphere\": {\"scale\": 0.2, \"color\": \"#7F00FF\"}});\n",
              "\tviewergrid_16634309483664646[0][0].addModelsAsFrames(\"MODEL 0\\nHETATM    1 O    WAT A   0       2.323   1.323   1.714  1.00  0.00       B   O  \\nHETATM    2 H    WAT A   0       2.323   2.080   1.127  1.00  0.00       B   H  \\nHETATM    3 H    WAT A   0       2.323   0.566   1.127  1.00  0.00       B   H  \\nHETATM    4 O    WAT A   1       7.615   0.932   1.323  1.00  0.00       B   O  \\nHETATM    5 H    WAT A   1       7.615   1.518   2.080  1.00  0.00       B   H  \\nHETATM    6 H    WAT A   1       7.615   1.518   0.566  1.00  0.00       B   H  \\nENDMDL\\n\",\"pdb\",{\"keepH\": \"true\"});\n",
              "\tviewergrid_16634309483664646[0][0].setStyle({\"model\": -1, \"serial\": 6},{\"sphere\": {\"scale\": 0.2, \"color\": \"#7F00FF\"}});\n",
              "\tviewergrid_16634309483664646[0][0].addUnitCell({\"model\": -1},{\"box\": {\"color\": \"black\"}, \"alabel\": \"\", \"blabel\": \"\", \"clabel\": \"\"});\n",
              "\tviewergrid_16634309483664646[0][0].zoomTo();\n",
              "viewergrid_16634309483664646[0][0].render();\n",
              "});\n",
              "</script>"
            ]
          },
          "metadata": {}
        },
        {
          "output_type": "execute_result",
          "data": {
            "text/plain": [
              "<BigDFT.Visualization.InlineVisualizer at 0x7f87947a6250>"
            ]
          },
          "metadata": {},
          "execution_count": 21
        }
      ],
      "source": [
        "# NBVAL_IGNORE_OUTPUT\n",
        "sys.display()"
      ]
    },
    {
      "cell_type": "markdown",
      "id": "decimal-costs",
      "metadata": {
        "id": "decimal-costs"
      },
      "source": [
        "The visualization module has identified that there are two separate fragments, and colored them accordingly. Of course if we merged our fragments, the visualization would look different."
      ]
    },
    {
      "cell_type": "code",
      "execution_count": 23,
      "id": "delayed-compact",
      "metadata": {
        "id": "delayed-compact"
      },
      "outputs": [],
      "source": [
        "sys2 = System()\n",
        "sys2[\"COM:0\"] = sum(sys.values())"
      ]
    },
    {
      "cell_type": "code",
      "execution_count": 24,
      "id": "ethical-wiring",
      "metadata": {
        "id": "ethical-wiring",
        "outputId": "b56f05f3-41e2-4e36-f5f5-a759cadcbcd4",
        "colab": {
          "base_uri": "https://localhost:8080/",
          "height": 335
        }
      },
      "outputs": [
        {
          "output_type": "display_data",
          "data": {
            "application/3dmoljs_load.v0": "<div id=\"3dmolviewer_16634309859907725\"  style=\"position: relative; width: 400px; height: 300px\">\n        <p id=\"3dmolwarning_16634309859907725\" style=\"background-color:#ffcccc;color:black\">You appear to be running in JupyterLab (or JavaScript failed to load for some other reason).  You need to install the 3dmol extension: <br>\n        <tt>jupyter labextension install jupyterlab_3dmol</tt></p>\n        </div>\n<script>\n\nvar loadScriptAsync = function(uri){\n  return new Promise((resolve, reject) => {\n    var tag = document.createElement('script');\n    tag.src = uri;\n    tag.async = true;\n    tag.onload = () => {\n      resolve();\n    };\n  var firstScriptTag = document.getElementsByTagName('script')[0];\n  firstScriptTag.parentNode.insertBefore(tag, firstScriptTag);\n});\n};\n\nif(typeof $3Dmolpromise === 'undefined') {\n$3Dmolpromise = null;\n  $3Dmolpromise = loadScriptAsync('https://cdn.jsdelivr.net/npm/3dmol@latest/build/3Dmol-min.min.js');\n}\n\nvar viewer_16634309859907725 = null;\nvar warn = document.getElementById(\"3dmolwarning_16634309859907725\");\nif(warn) {\n    warn.parentNode.removeChild(warn);\n}\n$3Dmolpromise.then(function() {\nvar viewergrid_16634309859907725 = null;\nviewergrid_16634309859907725 = $3Dmol.createViewerGrid($(\"#3dmolviewer_16634309859907725\"),{rows: 1, cols: 1, control_all: false},{backgroundColor:\"white\"});\nviewer_16634309859907725 = viewergrid_16634309859907725[0][0];\nviewergrid_16634309859907725[0][0].zoomTo();\tviewergrid_16634309859907725[0][0].addModelsAsFrames(\"MODEL 0\\nHETATM    1 O    COM A   0       2.323   1.323   1.714  1.00  0.00       B   O  \\nHETATM    2 H    COM A   0       2.323   2.080   1.127  1.00  0.00       B   H  \\nHETATM    3 H    COM A   0       2.323   0.566   1.127  1.00  0.00       B   H  \\nHETATM    4 O    COM A   0       7.615   0.932   1.323  1.00  0.00       B   O  \\nHETATM    5 H    COM A   0       7.615   1.518   2.080  1.00  0.00       B   H  \\nHETATM    6 H    COM A   0       7.615   1.518   0.566  1.00  0.00       B   H  \\nENDMDL\\n\",\"pdb\",{\"keepH\": \"true\"});\n\tviewergrid_16634309859907725[0][0].setStyle({\"model\": -1},{\"line\": {\"color\": \"black\"}});\n\tviewergrid_16634309859907725[0][0].addModelsAsFrames(\"MODEL 0\\nHETATM    1 O    COM A   0       2.323   1.323   1.714  1.00  0.00       B   O  \\nHETATM    2 H    COM A   0       2.323   2.080   1.127  1.00  0.00       B   H  \\nHETATM    3 H    COM A   0       2.323   0.566   1.127  1.00  0.00       B   H  \\nHETATM    4 O    COM A   0       7.615   0.932   1.323  1.00  0.00       B   O  \\nHETATM    5 H    COM A   0       7.615   1.518   2.080  1.00  0.00       B   H  \\nHETATM    6 H    COM A   0       7.615   1.518   0.566  1.00  0.00       B   H  \\nENDMDL\\n\",\"pdb\",{\"keepH\": \"true\"});\n\tviewergrid_16634309859907725[0][0].setStyle({\"model\": -1, \"serial\": 1},{\"sphere\": {\"scale\": 0.2, \"color\": \"#7F00FF\"}});\n\tviewergrid_16634309859907725[0][0].addModelsAsFrames(\"MODEL 0\\nHETATM    1 O    COM A   0       2.323   1.323   1.714  1.00  0.00       B   O  \\nHETATM    2 H    COM A   0       2.323   2.080   1.127  1.00  0.00       B   H  \\nHETATM    3 H    COM A   0       2.323   0.566   1.127  1.00  0.00       B   H  \\nHETATM    4 O    COM A   0       7.615   0.932   1.323  1.00  0.00       B   O  \\nHETATM    5 H    COM A   0       7.615   1.518   2.080  1.00  0.00       B   H  \\nHETATM    6 H    COM A   0       7.615   1.518   0.566  1.00  0.00       B   H  \\nENDMDL\\n\",\"pdb\",{\"keepH\": \"true\"});\n\tviewergrid_16634309859907725[0][0].setStyle({\"model\": -1, \"serial\": 2},{\"sphere\": {\"scale\": 0.2, \"color\": \"#7F00FF\"}});\n\tviewergrid_16634309859907725[0][0].addModelsAsFrames(\"MODEL 0\\nHETATM    1 O    COM A   0       2.323   1.323   1.714  1.00  0.00       B   O  \\nHETATM    2 H    COM A   0       2.323   2.080   1.127  1.00  0.00       B   H  \\nHETATM    3 H    COM A   0       2.323   0.566   1.127  1.00  0.00       B   H  \\nHETATM    4 O    COM A   0       7.615   0.932   1.323  1.00  0.00       B   O  \\nHETATM    5 H    COM A   0       7.615   1.518   2.080  1.00  0.00       B   H  \\nHETATM    6 H    COM A   0       7.615   1.518   0.566  1.00  0.00       B   H  \\nENDMDL\\n\",\"pdb\",{\"keepH\": \"true\"});\n\tviewergrid_16634309859907725[0][0].setStyle({\"model\": -1, \"serial\": 3},{\"sphere\": {\"scale\": 0.2, \"color\": \"#7F00FF\"}});\n\tviewergrid_16634309859907725[0][0].addModelsAsFrames(\"MODEL 0\\nHETATM    1 O    COM A   0       2.323   1.323   1.714  1.00  0.00       B   O  \\nHETATM    2 H    COM A   0       2.323   2.080   1.127  1.00  0.00       B   H  \\nHETATM    3 H    COM A   0       2.323   0.566   1.127  1.00  0.00       B   H  \\nHETATM    4 O    COM A   0       7.615   0.932   1.323  1.00  0.00       B   O  \\nHETATM    5 H    COM A   0       7.615   1.518   2.080  1.00  0.00       B   H  \\nHETATM    6 H    COM A   0       7.615   1.518   0.566  1.00  0.00       B   H  \\nENDMDL\\n\",\"pdb\",{\"keepH\": \"true\"});\n\tviewergrid_16634309859907725[0][0].setStyle({\"model\": -1, \"serial\": 4},{\"sphere\": {\"scale\": 0.2, \"color\": \"#7F00FF\"}});\n\tviewergrid_16634309859907725[0][0].addModelsAsFrames(\"MODEL 0\\nHETATM    1 O    COM A   0       2.323   1.323   1.714  1.00  0.00       B   O  \\nHETATM    2 H    COM A   0       2.323   2.080   1.127  1.00  0.00       B   H  \\nHETATM    3 H    COM A   0       2.323   0.566   1.127  1.00  0.00       B   H  \\nHETATM    4 O    COM A   0       7.615   0.932   1.323  1.00  0.00       B   O  \\nHETATM    5 H    COM A   0       7.615   1.518   2.080  1.00  0.00       B   H  \\nHETATM    6 H    COM A   0       7.615   1.518   0.566  1.00  0.00       B   H  \\nENDMDL\\n\",\"pdb\",{\"keepH\": \"true\"});\n\tviewergrid_16634309859907725[0][0].setStyle({\"model\": -1, \"serial\": 5},{\"sphere\": {\"scale\": 0.2, \"color\": \"#7F00FF\"}});\n\tviewergrid_16634309859907725[0][0].addModelsAsFrames(\"MODEL 0\\nHETATM    1 O    COM A   0       2.323   1.323   1.714  1.00  0.00       B   O  \\nHETATM    2 H    COM A   0       2.323   2.080   1.127  1.00  0.00       B   H  \\nHETATM    3 H    COM A   0       2.323   0.566   1.127  1.00  0.00       B   H  \\nHETATM    4 O    COM A   0       7.615   0.932   1.323  1.00  0.00       B   O  \\nHETATM    5 H    COM A   0       7.615   1.518   2.080  1.00  0.00       B   H  \\nHETATM    6 H    COM A   0       7.615   1.518   0.566  1.00  0.00       B   H  \\nENDMDL\\n\",\"pdb\",{\"keepH\": \"true\"});\n\tviewergrid_16634309859907725[0][0].setStyle({\"model\": -1, \"serial\": 6},{\"sphere\": {\"scale\": 0.2, \"color\": \"#7F00FF\"}});\n\tviewergrid_16634309859907725[0][0].addUnitCell({\"model\": -1},{\"box\": {\"color\": \"black\"}, \"alabel\": \"\", \"blabel\": \"\", \"clabel\": \"\"});\n\tviewergrid_16634309859907725[0][0].zoomTo();\nviewergrid_16634309859907725[0][0].render();\n});\n</script>",
            "text/html": [
              "<div id=\"3dmolviewer_16634309859907725\"  style=\"position: relative; width: 400px; height: 300px\">\n",
              "        <p id=\"3dmolwarning_16634309859907725\" style=\"background-color:#ffcccc;color:black\">You appear to be running in JupyterLab (or JavaScript failed to load for some other reason).  You need to install the 3dmol extension: <br>\n",
              "        <tt>jupyter labextension install jupyterlab_3dmol</tt></p>\n",
              "        </div>\n",
              "<script>\n",
              "\n",
              "var loadScriptAsync = function(uri){\n",
              "  return new Promise((resolve, reject) => {\n",
              "    var tag = document.createElement('script');\n",
              "    tag.src = uri;\n",
              "    tag.async = true;\n",
              "    tag.onload = () => {\n",
              "      resolve();\n",
              "    };\n",
              "  var firstScriptTag = document.getElementsByTagName('script')[0];\n",
              "  firstScriptTag.parentNode.insertBefore(tag, firstScriptTag);\n",
              "});\n",
              "};\n",
              "\n",
              "if(typeof $3Dmolpromise === 'undefined') {\n",
              "$3Dmolpromise = null;\n",
              "  $3Dmolpromise = loadScriptAsync('https://cdn.jsdelivr.net/npm/3dmol@latest/build/3Dmol-min.min.js');\n",
              "}\n",
              "\n",
              "var viewer_16634309859907725 = null;\n",
              "var warn = document.getElementById(\"3dmolwarning_16634309859907725\");\n",
              "if(warn) {\n",
              "    warn.parentNode.removeChild(warn);\n",
              "}\n",
              "$3Dmolpromise.then(function() {\n",
              "var viewergrid_16634309859907725 = null;\n",
              "viewergrid_16634309859907725 = $3Dmol.createViewerGrid($(\"#3dmolviewer_16634309859907725\"),{rows: 1, cols: 1, control_all: false},{backgroundColor:\"white\"});\n",
              "viewer_16634309859907725 = viewergrid_16634309859907725[0][0];\n",
              "viewergrid_16634309859907725[0][0].zoomTo();\tviewergrid_16634309859907725[0][0].addModelsAsFrames(\"MODEL 0\\nHETATM    1 O    COM A   0       2.323   1.323   1.714  1.00  0.00       B   O  \\nHETATM    2 H    COM A   0       2.323   2.080   1.127  1.00  0.00       B   H  \\nHETATM    3 H    COM A   0       2.323   0.566   1.127  1.00  0.00       B   H  \\nHETATM    4 O    COM A   0       7.615   0.932   1.323  1.00  0.00       B   O  \\nHETATM    5 H    COM A   0       7.615   1.518   2.080  1.00  0.00       B   H  \\nHETATM    6 H    COM A   0       7.615   1.518   0.566  1.00  0.00       B   H  \\nENDMDL\\n\",\"pdb\",{\"keepH\": \"true\"});\n",
              "\tviewergrid_16634309859907725[0][0].setStyle({\"model\": -1},{\"line\": {\"color\": \"black\"}});\n",
              "\tviewergrid_16634309859907725[0][0].addModelsAsFrames(\"MODEL 0\\nHETATM    1 O    COM A   0       2.323   1.323   1.714  1.00  0.00       B   O  \\nHETATM    2 H    COM A   0       2.323   2.080   1.127  1.00  0.00       B   H  \\nHETATM    3 H    COM A   0       2.323   0.566   1.127  1.00  0.00       B   H  \\nHETATM    4 O    COM A   0       7.615   0.932   1.323  1.00  0.00       B   O  \\nHETATM    5 H    COM A   0       7.615   1.518   2.080  1.00  0.00       B   H  \\nHETATM    6 H    COM A   0       7.615   1.518   0.566  1.00  0.00       B   H  \\nENDMDL\\n\",\"pdb\",{\"keepH\": \"true\"});\n",
              "\tviewergrid_16634309859907725[0][0].setStyle({\"model\": -1, \"serial\": 1},{\"sphere\": {\"scale\": 0.2, \"color\": \"#7F00FF\"}});\n",
              "\tviewergrid_16634309859907725[0][0].addModelsAsFrames(\"MODEL 0\\nHETATM    1 O    COM A   0       2.323   1.323   1.714  1.00  0.00       B   O  \\nHETATM    2 H    COM A   0       2.323   2.080   1.127  1.00  0.00       B   H  \\nHETATM    3 H    COM A   0       2.323   0.566   1.127  1.00  0.00       B   H  \\nHETATM    4 O    COM A   0       7.615   0.932   1.323  1.00  0.00       B   O  \\nHETATM    5 H    COM A   0       7.615   1.518   2.080  1.00  0.00       B   H  \\nHETATM    6 H    COM A   0       7.615   1.518   0.566  1.00  0.00       B   H  \\nENDMDL\\n\",\"pdb\",{\"keepH\": \"true\"});\n",
              "\tviewergrid_16634309859907725[0][0].setStyle({\"model\": -1, \"serial\": 2},{\"sphere\": {\"scale\": 0.2, \"color\": \"#7F00FF\"}});\n",
              "\tviewergrid_16634309859907725[0][0].addModelsAsFrames(\"MODEL 0\\nHETATM    1 O    COM A   0       2.323   1.323   1.714  1.00  0.00       B   O  \\nHETATM    2 H    COM A   0       2.323   2.080   1.127  1.00  0.00       B   H  \\nHETATM    3 H    COM A   0       2.323   0.566   1.127  1.00  0.00       B   H  \\nHETATM    4 O    COM A   0       7.615   0.932   1.323  1.00  0.00       B   O  \\nHETATM    5 H    COM A   0       7.615   1.518   2.080  1.00  0.00       B   H  \\nHETATM    6 H    COM A   0       7.615   1.518   0.566  1.00  0.00       B   H  \\nENDMDL\\n\",\"pdb\",{\"keepH\": \"true\"});\n",
              "\tviewergrid_16634309859907725[0][0].setStyle({\"model\": -1, \"serial\": 3},{\"sphere\": {\"scale\": 0.2, \"color\": \"#7F00FF\"}});\n",
              "\tviewergrid_16634309859907725[0][0].addModelsAsFrames(\"MODEL 0\\nHETATM    1 O    COM A   0       2.323   1.323   1.714  1.00  0.00       B   O  \\nHETATM    2 H    COM A   0       2.323   2.080   1.127  1.00  0.00       B   H  \\nHETATM    3 H    COM A   0       2.323   0.566   1.127  1.00  0.00       B   H  \\nHETATM    4 O    COM A   0       7.615   0.932   1.323  1.00  0.00       B   O  \\nHETATM    5 H    COM A   0       7.615   1.518   2.080  1.00  0.00       B   H  \\nHETATM    6 H    COM A   0       7.615   1.518   0.566  1.00  0.00       B   H  \\nENDMDL\\n\",\"pdb\",{\"keepH\": \"true\"});\n",
              "\tviewergrid_16634309859907725[0][0].setStyle({\"model\": -1, \"serial\": 4},{\"sphere\": {\"scale\": 0.2, \"color\": \"#7F00FF\"}});\n",
              "\tviewergrid_16634309859907725[0][0].addModelsAsFrames(\"MODEL 0\\nHETATM    1 O    COM A   0       2.323   1.323   1.714  1.00  0.00       B   O  \\nHETATM    2 H    COM A   0       2.323   2.080   1.127  1.00  0.00       B   H  \\nHETATM    3 H    COM A   0       2.323   0.566   1.127  1.00  0.00       B   H  \\nHETATM    4 O    COM A   0       7.615   0.932   1.323  1.00  0.00       B   O  \\nHETATM    5 H    COM A   0       7.615   1.518   2.080  1.00  0.00       B   H  \\nHETATM    6 H    COM A   0       7.615   1.518   0.566  1.00  0.00       B   H  \\nENDMDL\\n\",\"pdb\",{\"keepH\": \"true\"});\n",
              "\tviewergrid_16634309859907725[0][0].setStyle({\"model\": -1, \"serial\": 5},{\"sphere\": {\"scale\": 0.2, \"color\": \"#7F00FF\"}});\n",
              "\tviewergrid_16634309859907725[0][0].addModelsAsFrames(\"MODEL 0\\nHETATM    1 O    COM A   0       2.323   1.323   1.714  1.00  0.00       B   O  \\nHETATM    2 H    COM A   0       2.323   2.080   1.127  1.00  0.00       B   H  \\nHETATM    3 H    COM A   0       2.323   0.566   1.127  1.00  0.00       B   H  \\nHETATM    4 O    COM A   0       7.615   0.932   1.323  1.00  0.00       B   O  \\nHETATM    5 H    COM A   0       7.615   1.518   2.080  1.00  0.00       B   H  \\nHETATM    6 H    COM A   0       7.615   1.518   0.566  1.00  0.00       B   H  \\nENDMDL\\n\",\"pdb\",{\"keepH\": \"true\"});\n",
              "\tviewergrid_16634309859907725[0][0].setStyle({\"model\": -1, \"serial\": 6},{\"sphere\": {\"scale\": 0.2, \"color\": \"#7F00FF\"}});\n",
              "\tviewergrid_16634309859907725[0][0].addUnitCell({\"model\": -1},{\"box\": {\"color\": \"black\"}, \"alabel\": \"\", \"blabel\": \"\", \"clabel\": \"\"});\n",
              "\tviewergrid_16634309859907725[0][0].zoomTo();\n",
              "viewergrid_16634309859907725[0][0].render();\n",
              "});\n",
              "</script>"
            ]
          },
          "metadata": {}
        },
        {
          "output_type": "execute_result",
          "data": {
            "text/plain": [
              "<BigDFT.Visualization.InlineVisualizer at 0x7f87947023d0>"
            ]
          },
          "metadata": {},
          "execution_count": 24
        }
      ],
      "source": [
        "# NBVAL_IGNORE_OUTPUT\n",
        "sys2.display()"
      ]
    },
    {
      "cell_type": "markdown",
      "id": "neutral-prefix",
      "metadata": {
        "id": "neutral-prefix"
      },
      "source": [
        "## Shallow Copies and Multiple Views\n",
        "It is worth recalling the copy semantics of python when dealing with complex objects."
      ]
    },
    {
      "cell_type": "code",
      "execution_count": 25,
      "id": "frozen-olympus",
      "metadata": {
        "id": "frozen-olympus",
        "outputId": "490988c2-33bb-459a-8c1a-7515850ecb90",
        "colab": {
          "base_uri": "https://localhost:8080/"
        }
      },
      "outputs": [
        {
          "output_type": "stream",
          "name": "stdout",
          "text": [
            "[{'x': '1'}, {'x': '2'}]\n",
            "[{'x': 3}, {'x': '2'}]\n"
          ]
        }
      ],
      "source": [
        "a = {\"x\": \"1\"}\n",
        "b = {\"x\": \"2\"}\n",
        "my_list = [a, b]\n",
        "print(my_list)\n",
        "a[\"x\"] = 3\n",
        "print(my_list)"
      ]
    },
    {
      "cell_type": "markdown",
      "id": "musical-return",
      "metadata": {
        "id": "musical-return"
      },
      "source": [
        "We can take advantage of this to construct multiple views of the same molecule. For example, we might want to have two separate views of the same set of atoms. In one view, we've split the set into two molecules, and the other we have just one big fragment. This might be convenient if, for example, we want to be able to rotate the entire system as a group."
      ]
    },
    {
      "cell_type": "code",
      "execution_count": 26,
      "id": "wrong-breakdown",
      "metadata": {
        "id": "wrong-breakdown"
      },
      "outputs": [],
      "source": [
        "sep = deepcopy(sys)\n",
        "joint = System()\n",
        "joint[\"COM:0\"] = sum(sep.values())"
      ]
    },
    {
      "cell_type": "code",
      "execution_count": 27,
      "id": "suited-waste",
      "metadata": {
        "id": "suited-waste"
      },
      "outputs": [],
      "source": [
        "joint[\"COM:0\"].rotate(y=90, units=\"degrees\")"
      ]
    },
    {
      "cell_type": "code",
      "execution_count": 28,
      "id": "cultural-making",
      "metadata": {
        "id": "cultural-making",
        "outputId": "af92322f-3b5a-4402-8342-0e69abe6e179",
        "colab": {
          "base_uri": "https://localhost:8080/",
          "height": 335
        }
      },
      "outputs": [
        {
          "output_type": "display_data",
          "data": {
            "application/3dmoljs_load.v0": "<div id=\"3dmolviewer_16634309926950448\"  style=\"position: relative; width: 400px; height: 300px\">\n        <p id=\"3dmolwarning_16634309926950448\" style=\"background-color:#ffcccc;color:black\">You appear to be running in JupyterLab (or JavaScript failed to load for some other reason).  You need to install the 3dmol extension: <br>\n        <tt>jupyter labextension install jupyterlab_3dmol</tt></p>\n        </div>\n<script>\n\nvar loadScriptAsync = function(uri){\n  return new Promise((resolve, reject) => {\n    var tag = document.createElement('script');\n    tag.src = uri;\n    tag.async = true;\n    tag.onload = () => {\n      resolve();\n    };\n  var firstScriptTag = document.getElementsByTagName('script')[0];\n  firstScriptTag.parentNode.insertBefore(tag, firstScriptTag);\n});\n};\n\nif(typeof $3Dmolpromise === 'undefined') {\n$3Dmolpromise = null;\n  $3Dmolpromise = loadScriptAsync('https://cdn.jsdelivr.net/npm/3dmol@latest/build/3Dmol-min.min.js');\n}\n\nvar viewer_16634309926950448 = null;\nvar warn = document.getElementById(\"3dmolwarning_16634309926950448\");\nif(warn) {\n    warn.parentNode.removeChild(warn);\n}\n$3Dmolpromise.then(function() {\nvar viewergrid_16634309926950448 = null;\nviewergrid_16634309926950448 = $3Dmol.createViewerGrid($(\"#3dmolviewer_16634309926950448\"),{rows: 1, cols: 1, control_all: false},{backgroundColor:\"white\"});\nviewer_16634309926950448 = viewergrid_16634309926950448[0][0];\nviewergrid_16634309926950448[0][0].zoomTo();\tviewergrid_16634309926950448[0][0].addModelsAsFrames(\"MODEL 0\\nHETATM    1 O    WAT A   0       5.360   1.323   3.969  1.00  0.00       B   O  \\nHETATM    2 H    WAT A   0       4.773   2.080   3.969  1.00  0.00       B   H  \\nHETATM    3 H    WAT A   0       4.773   0.566   3.969  1.00  0.00       B   H  \\nHETATM    4 O    WAT A   1       4.969   0.932  -1.323  1.00  0.00       B   O  \\nHETATM    5 H    WAT A   1       5.726   1.518  -1.323  1.00  0.00       B   H  \\nHETATM    6 H    WAT A   1       4.212   1.518  -1.323  1.00  0.00       B   H  \\nENDMDL\\n\",\"pdb\",{\"keepH\": \"true\"});\n\tviewergrid_16634309926950448[0][0].setStyle({\"model\": -1},{\"line\": {\"color\": \"black\"}});\n\tviewergrid_16634309926950448[0][0].addModelsAsFrames(\"MODEL 0\\nHETATM    1 O    WAT A   0       5.360   1.323   3.969  1.00  0.00       B   O  \\nHETATM    2 H    WAT A   0       4.773   2.080   3.969  1.00  0.00       B   H  \\nHETATM    3 H    WAT A   0       4.773   0.566   3.969  1.00  0.00       B   H  \\nHETATM    4 O    WAT A   1       4.969   0.932  -1.323  1.00  0.00       B   O  \\nHETATM    5 H    WAT A   1       5.726   1.518  -1.323  1.00  0.00       B   H  \\nHETATM    6 H    WAT A   1       4.212   1.518  -1.323  1.00  0.00       B   H  \\nENDMDL\\n\",\"pdb\",{\"keepH\": \"true\"});\n\tviewergrid_16634309926950448[0][0].setStyle({\"model\": -1, \"serial\": 1},{\"sphere\": {\"scale\": 0.2, \"color\": \"#FF0000\"}});\n\tviewergrid_16634309926950448[0][0].addModelsAsFrames(\"MODEL 0\\nHETATM    1 O    WAT A   0       5.360   1.323   3.969  1.00  0.00       B   O  \\nHETATM    2 H    WAT A   0       4.773   2.080   3.969  1.00  0.00       B   H  \\nHETATM    3 H    WAT A   0       4.773   0.566   3.969  1.00  0.00       B   H  \\nHETATM    4 O    WAT A   1       4.969   0.932  -1.323  1.00  0.00       B   O  \\nHETATM    5 H    WAT A   1       5.726   1.518  -1.323  1.00  0.00       B   H  \\nHETATM    6 H    WAT A   1       4.212   1.518  -1.323  1.00  0.00       B   H  \\nENDMDL\\n\",\"pdb\",{\"keepH\": \"true\"});\n\tviewergrid_16634309926950448[0][0].setStyle({\"model\": -1, \"serial\": 2},{\"sphere\": {\"scale\": 0.2, \"color\": \"#FF0000\"}});\n\tviewergrid_16634309926950448[0][0].addModelsAsFrames(\"MODEL 0\\nHETATM    1 O    WAT A   0       5.360   1.323   3.969  1.00  0.00       B   O  \\nHETATM    2 H    WAT A   0       4.773   2.080   3.969  1.00  0.00       B   H  \\nHETATM    3 H    WAT A   0       4.773   0.566   3.969  1.00  0.00       B   H  \\nHETATM    4 O    WAT A   1       4.969   0.932  -1.323  1.00  0.00       B   O  \\nHETATM    5 H    WAT A   1       5.726   1.518  -1.323  1.00  0.00       B   H  \\nHETATM    6 H    WAT A   1       4.212   1.518  -1.323  1.00  0.00       B   H  \\nENDMDL\\n\",\"pdb\",{\"keepH\": \"true\"});\n\tviewergrid_16634309926950448[0][0].setStyle({\"model\": -1, \"serial\": 3},{\"sphere\": {\"scale\": 0.2, \"color\": \"#FF0000\"}});\n\tviewergrid_16634309926950448[0][0].addModelsAsFrames(\"MODEL 0\\nHETATM    1 O    WAT A   0       5.360   1.323   3.969  1.00  0.00       B   O  \\nHETATM    2 H    WAT A   0       4.773   2.080   3.969  1.00  0.00       B   H  \\nHETATM    3 H    WAT A   0       4.773   0.566   3.969  1.00  0.00       B   H  \\nHETATM    4 O    WAT A   1       4.969   0.932  -1.323  1.00  0.00       B   O  \\nHETATM    5 H    WAT A   1       5.726   1.518  -1.323  1.00  0.00       B   H  \\nHETATM    6 H    WAT A   1       4.212   1.518  -1.323  1.00  0.00       B   H  \\nENDMDL\\n\",\"pdb\",{\"keepH\": \"true\"});\n\tviewergrid_16634309926950448[0][0].setStyle({\"model\": -1},{\"line\": {\"color\": \"black\"}});\n\tviewergrid_16634309926950448[0][0].addModelsAsFrames(\"MODEL 0\\nHETATM    1 O    WAT A   0       5.360   1.323   3.969  1.00  0.00       B   O  \\nHETATM    2 H    WAT A   0       4.773   2.080   3.969  1.00  0.00       B   H  \\nHETATM    3 H    WAT A   0       4.773   0.566   3.969  1.00  0.00       B   H  \\nHETATM    4 O    WAT A   1       4.969   0.932  -1.323  1.00  0.00       B   O  \\nHETATM    5 H    WAT A   1       5.726   1.518  -1.323  1.00  0.00       B   H  \\nHETATM    6 H    WAT A   1       4.212   1.518  -1.323  1.00  0.00       B   H  \\nENDMDL\\n\",\"pdb\",{\"keepH\": \"true\"});\n\tviewergrid_16634309926950448[0][0].setStyle({\"model\": -1, \"serial\": 4},{\"sphere\": {\"scale\": 0.2, \"color\": \"#7F00FF\"}});\n\tviewergrid_16634309926950448[0][0].addModelsAsFrames(\"MODEL 0\\nHETATM    1 O    WAT A   0       5.360   1.323   3.969  1.00  0.00       B   O  \\nHETATM    2 H    WAT A   0       4.773   2.080   3.969  1.00  0.00       B   H  \\nHETATM    3 H    WAT A   0       4.773   0.566   3.969  1.00  0.00       B   H  \\nHETATM    4 O    WAT A   1       4.969   0.932  -1.323  1.00  0.00       B   O  \\nHETATM    5 H    WAT A   1       5.726   1.518  -1.323  1.00  0.00       B   H  \\nHETATM    6 H    WAT A   1       4.212   1.518  -1.323  1.00  0.00       B   H  \\nENDMDL\\n\",\"pdb\",{\"keepH\": \"true\"});\n\tviewergrid_16634309926950448[0][0].setStyle({\"model\": -1, \"serial\": 5},{\"sphere\": {\"scale\": 0.2, \"color\": \"#7F00FF\"}});\n\tviewergrid_16634309926950448[0][0].addModelsAsFrames(\"MODEL 0\\nHETATM    1 O    WAT A   0       5.360   1.323   3.969  1.00  0.00       B   O  \\nHETATM    2 H    WAT A   0       4.773   2.080   3.969  1.00  0.00       B   H  \\nHETATM    3 H    WAT A   0       4.773   0.566   3.969  1.00  0.00       B   H  \\nHETATM    4 O    WAT A   1       4.969   0.932  -1.323  1.00  0.00       B   O  \\nHETATM    5 H    WAT A   1       5.726   1.518  -1.323  1.00  0.00       B   H  \\nHETATM    6 H    WAT A   1       4.212   1.518  -1.323  1.00  0.00       B   H  \\nENDMDL\\n\",\"pdb\",{\"keepH\": \"true\"});\n\tviewergrid_16634309926950448[0][0].setStyle({\"model\": -1, \"serial\": 6},{\"sphere\": {\"scale\": 0.2, \"color\": \"#7F00FF\"}});\n\tviewergrid_16634309926950448[0][0].addUnitCell({\"model\": -1},{\"box\": {\"color\": \"black\"}, \"alabel\": \"\", \"blabel\": \"\", \"clabel\": \"\"});\n\tviewergrid_16634309926950448[0][0].zoomTo();\nviewergrid_16634309926950448[0][0].render();\n});\n</script>",
            "text/html": [
              "<div id=\"3dmolviewer_16634309926950448\"  style=\"position: relative; width: 400px; height: 300px\">\n",
              "        <p id=\"3dmolwarning_16634309926950448\" style=\"background-color:#ffcccc;color:black\">You appear to be running in JupyterLab (or JavaScript failed to load for some other reason).  You need to install the 3dmol extension: <br>\n",
              "        <tt>jupyter labextension install jupyterlab_3dmol</tt></p>\n",
              "        </div>\n",
              "<script>\n",
              "\n",
              "var loadScriptAsync = function(uri){\n",
              "  return new Promise((resolve, reject) => {\n",
              "    var tag = document.createElement('script');\n",
              "    tag.src = uri;\n",
              "    tag.async = true;\n",
              "    tag.onload = () => {\n",
              "      resolve();\n",
              "    };\n",
              "  var firstScriptTag = document.getElementsByTagName('script')[0];\n",
              "  firstScriptTag.parentNode.insertBefore(tag, firstScriptTag);\n",
              "});\n",
              "};\n",
              "\n",
              "if(typeof $3Dmolpromise === 'undefined') {\n",
              "$3Dmolpromise = null;\n",
              "  $3Dmolpromise = loadScriptAsync('https://cdn.jsdelivr.net/npm/3dmol@latest/build/3Dmol-min.min.js');\n",
              "}\n",
              "\n",
              "var viewer_16634309926950448 = null;\n",
              "var warn = document.getElementById(\"3dmolwarning_16634309926950448\");\n",
              "if(warn) {\n",
              "    warn.parentNode.removeChild(warn);\n",
              "}\n",
              "$3Dmolpromise.then(function() {\n",
              "var viewergrid_16634309926950448 = null;\n",
              "viewergrid_16634309926950448 = $3Dmol.createViewerGrid($(\"#3dmolviewer_16634309926950448\"),{rows: 1, cols: 1, control_all: false},{backgroundColor:\"white\"});\n",
              "viewer_16634309926950448 = viewergrid_16634309926950448[0][0];\n",
              "viewergrid_16634309926950448[0][0].zoomTo();\tviewergrid_16634309926950448[0][0].addModelsAsFrames(\"MODEL 0\\nHETATM    1 O    WAT A   0       5.360   1.323   3.969  1.00  0.00       B   O  \\nHETATM    2 H    WAT A   0       4.773   2.080   3.969  1.00  0.00       B   H  \\nHETATM    3 H    WAT A   0       4.773   0.566   3.969  1.00  0.00       B   H  \\nHETATM    4 O    WAT A   1       4.969   0.932  -1.323  1.00  0.00       B   O  \\nHETATM    5 H    WAT A   1       5.726   1.518  -1.323  1.00  0.00       B   H  \\nHETATM    6 H    WAT A   1       4.212   1.518  -1.323  1.00  0.00       B   H  \\nENDMDL\\n\",\"pdb\",{\"keepH\": \"true\"});\n",
              "\tviewergrid_16634309926950448[0][0].setStyle({\"model\": -1},{\"line\": {\"color\": \"black\"}});\n",
              "\tviewergrid_16634309926950448[0][0].addModelsAsFrames(\"MODEL 0\\nHETATM    1 O    WAT A   0       5.360   1.323   3.969  1.00  0.00       B   O  \\nHETATM    2 H    WAT A   0       4.773   2.080   3.969  1.00  0.00       B   H  \\nHETATM    3 H    WAT A   0       4.773   0.566   3.969  1.00  0.00       B   H  \\nHETATM    4 O    WAT A   1       4.969   0.932  -1.323  1.00  0.00       B   O  \\nHETATM    5 H    WAT A   1       5.726   1.518  -1.323  1.00  0.00       B   H  \\nHETATM    6 H    WAT A   1       4.212   1.518  -1.323  1.00  0.00       B   H  \\nENDMDL\\n\",\"pdb\",{\"keepH\": \"true\"});\n",
              "\tviewergrid_16634309926950448[0][0].setStyle({\"model\": -1, \"serial\": 1},{\"sphere\": {\"scale\": 0.2, \"color\": \"#FF0000\"}});\n",
              "\tviewergrid_16634309926950448[0][0].addModelsAsFrames(\"MODEL 0\\nHETATM    1 O    WAT A   0       5.360   1.323   3.969  1.00  0.00       B   O  \\nHETATM    2 H    WAT A   0       4.773   2.080   3.969  1.00  0.00       B   H  \\nHETATM    3 H    WAT A   0       4.773   0.566   3.969  1.00  0.00       B   H  \\nHETATM    4 O    WAT A   1       4.969   0.932  -1.323  1.00  0.00       B   O  \\nHETATM    5 H    WAT A   1       5.726   1.518  -1.323  1.00  0.00       B   H  \\nHETATM    6 H    WAT A   1       4.212   1.518  -1.323  1.00  0.00       B   H  \\nENDMDL\\n\",\"pdb\",{\"keepH\": \"true\"});\n",
              "\tviewergrid_16634309926950448[0][0].setStyle({\"model\": -1, \"serial\": 2},{\"sphere\": {\"scale\": 0.2, \"color\": \"#FF0000\"}});\n",
              "\tviewergrid_16634309926950448[0][0].addModelsAsFrames(\"MODEL 0\\nHETATM    1 O    WAT A   0       5.360   1.323   3.969  1.00  0.00       B   O  \\nHETATM    2 H    WAT A   0       4.773   2.080   3.969  1.00  0.00       B   H  \\nHETATM    3 H    WAT A   0       4.773   0.566   3.969  1.00  0.00       B   H  \\nHETATM    4 O    WAT A   1       4.969   0.932  -1.323  1.00  0.00       B   O  \\nHETATM    5 H    WAT A   1       5.726   1.518  -1.323  1.00  0.00       B   H  \\nHETATM    6 H    WAT A   1       4.212   1.518  -1.323  1.00  0.00       B   H  \\nENDMDL\\n\",\"pdb\",{\"keepH\": \"true\"});\n",
              "\tviewergrid_16634309926950448[0][0].setStyle({\"model\": -1, \"serial\": 3},{\"sphere\": {\"scale\": 0.2, \"color\": \"#FF0000\"}});\n",
              "\tviewergrid_16634309926950448[0][0].addModelsAsFrames(\"MODEL 0\\nHETATM    1 O    WAT A   0       5.360   1.323   3.969  1.00  0.00       B   O  \\nHETATM    2 H    WAT A   0       4.773   2.080   3.969  1.00  0.00       B   H  \\nHETATM    3 H    WAT A   0       4.773   0.566   3.969  1.00  0.00       B   H  \\nHETATM    4 O    WAT A   1       4.969   0.932  -1.323  1.00  0.00       B   O  \\nHETATM    5 H    WAT A   1       5.726   1.518  -1.323  1.00  0.00       B   H  \\nHETATM    6 H    WAT A   1       4.212   1.518  -1.323  1.00  0.00       B   H  \\nENDMDL\\n\",\"pdb\",{\"keepH\": \"true\"});\n",
              "\tviewergrid_16634309926950448[0][0].setStyle({\"model\": -1},{\"line\": {\"color\": \"black\"}});\n",
              "\tviewergrid_16634309926950448[0][0].addModelsAsFrames(\"MODEL 0\\nHETATM    1 O    WAT A   0       5.360   1.323   3.969  1.00  0.00       B   O  \\nHETATM    2 H    WAT A   0       4.773   2.080   3.969  1.00  0.00       B   H  \\nHETATM    3 H    WAT A   0       4.773   0.566   3.969  1.00  0.00       B   H  \\nHETATM    4 O    WAT A   1       4.969   0.932  -1.323  1.00  0.00       B   O  \\nHETATM    5 H    WAT A   1       5.726   1.518  -1.323  1.00  0.00       B   H  \\nHETATM    6 H    WAT A   1       4.212   1.518  -1.323  1.00  0.00       B   H  \\nENDMDL\\n\",\"pdb\",{\"keepH\": \"true\"});\n",
              "\tviewergrid_16634309926950448[0][0].setStyle({\"model\": -1, \"serial\": 4},{\"sphere\": {\"scale\": 0.2, \"color\": \"#7F00FF\"}});\n",
              "\tviewergrid_16634309926950448[0][0].addModelsAsFrames(\"MODEL 0\\nHETATM    1 O    WAT A   0       5.360   1.323   3.969  1.00  0.00       B   O  \\nHETATM    2 H    WAT A   0       4.773   2.080   3.969  1.00  0.00       B   H  \\nHETATM    3 H    WAT A   0       4.773   0.566   3.969  1.00  0.00       B   H  \\nHETATM    4 O    WAT A   1       4.969   0.932  -1.323  1.00  0.00       B   O  \\nHETATM    5 H    WAT A   1       5.726   1.518  -1.323  1.00  0.00       B   H  \\nHETATM    6 H    WAT A   1       4.212   1.518  -1.323  1.00  0.00       B   H  \\nENDMDL\\n\",\"pdb\",{\"keepH\": \"true\"});\n",
              "\tviewergrid_16634309926950448[0][0].setStyle({\"model\": -1, \"serial\": 5},{\"sphere\": {\"scale\": 0.2, \"color\": \"#7F00FF\"}});\n",
              "\tviewergrid_16634309926950448[0][0].addModelsAsFrames(\"MODEL 0\\nHETATM    1 O    WAT A   0       5.360   1.323   3.969  1.00  0.00       B   O  \\nHETATM    2 H    WAT A   0       4.773   2.080   3.969  1.00  0.00       B   H  \\nHETATM    3 H    WAT A   0       4.773   0.566   3.969  1.00  0.00       B   H  \\nHETATM    4 O    WAT A   1       4.969   0.932  -1.323  1.00  0.00       B   O  \\nHETATM    5 H    WAT A   1       5.726   1.518  -1.323  1.00  0.00       B   H  \\nHETATM    6 H    WAT A   1       4.212   1.518  -1.323  1.00  0.00       B   H  \\nENDMDL\\n\",\"pdb\",{\"keepH\": \"true\"});\n",
              "\tviewergrid_16634309926950448[0][0].setStyle({\"model\": -1, \"serial\": 6},{\"sphere\": {\"scale\": 0.2, \"color\": \"#7F00FF\"}});\n",
              "\tviewergrid_16634309926950448[0][0].addUnitCell({\"model\": -1},{\"box\": {\"color\": \"black\"}, \"alabel\": \"\", \"blabel\": \"\", \"clabel\": \"\"});\n",
              "\tviewergrid_16634309926950448[0][0].zoomTo();\n",
              "viewergrid_16634309926950448[0][0].render();\n",
              "});\n",
              "</script>"
            ]
          },
          "metadata": {}
        },
        {
          "output_type": "execute_result",
          "data": {
            "text/plain": [
              "<BigDFT.Visualization.InlineVisualizer at 0x7f8794728090>"
            ]
          },
          "metadata": {},
          "execution_count": 28
        }
      ],
      "source": [
        "# NBVAL_IGNORE_OUTPUT\n",
        "sep.display()"
      ]
    },
    {
      "cell_type": "code",
      "execution_count": 29,
      "id": "clinical-profession",
      "metadata": {
        "id": "clinical-profession",
        "outputId": "c190dce0-69c9-495d-c952-7af82913a709",
        "colab": {
          "base_uri": "https://localhost:8080/",
          "height": 335
        }
      },
      "outputs": [
        {
          "output_type": "display_data",
          "data": {
            "application/3dmoljs_load.v0": "<div id=\"3dmolviewer_1663430996989687\"  style=\"position: relative; width: 400px; height: 300px\">\n        <p id=\"3dmolwarning_1663430996989687\" style=\"background-color:#ffcccc;color:black\">You appear to be running in JupyterLab (or JavaScript failed to load for some other reason).  You need to install the 3dmol extension: <br>\n        <tt>jupyter labextension install jupyterlab_3dmol</tt></p>\n        </div>\n<script>\n\nvar loadScriptAsync = function(uri){\n  return new Promise((resolve, reject) => {\n    var tag = document.createElement('script');\n    tag.src = uri;\n    tag.async = true;\n    tag.onload = () => {\n      resolve();\n    };\n  var firstScriptTag = document.getElementsByTagName('script')[0];\n  firstScriptTag.parentNode.insertBefore(tag, firstScriptTag);\n});\n};\n\nif(typeof $3Dmolpromise === 'undefined') {\n$3Dmolpromise = null;\n  $3Dmolpromise = loadScriptAsync('https://cdn.jsdelivr.net/npm/3dmol@latest/build/3Dmol-min.min.js');\n}\n\nvar viewer_1663430996989687 = null;\nvar warn = document.getElementById(\"3dmolwarning_1663430996989687\");\nif(warn) {\n    warn.parentNode.removeChild(warn);\n}\n$3Dmolpromise.then(function() {\nvar viewergrid_1663430996989687 = null;\nviewergrid_1663430996989687 = $3Dmol.createViewerGrid($(\"#3dmolviewer_1663430996989687\"),{rows: 1, cols: 1, control_all: false},{backgroundColor:\"white\"});\nviewer_1663430996989687 = viewergrid_1663430996989687[0][0];\nviewergrid_1663430996989687[0][0].zoomTo();\tviewergrid_1663430996989687[0][0].addModelsAsFrames(\"MODEL 0\\nHETATM    1 O    COM A   0       5.360   1.323   3.969  1.00  0.00       B   O  \\nHETATM    2 H    COM A   0       4.773   2.080   3.969  1.00  0.00       B   H  \\nHETATM    3 H    COM A   0       4.773   0.566   3.969  1.00  0.00       B   H  \\nHETATM    4 O    COM A   0       4.969   0.932  -1.323  1.00  0.00       B   O  \\nHETATM    5 H    COM A   0       5.726   1.518  -1.323  1.00  0.00       B   H  \\nHETATM    6 H    COM A   0       4.212   1.518  -1.323  1.00  0.00       B   H  \\nENDMDL\\n\",\"pdb\",{\"keepH\": \"true\"});\n\tviewergrid_1663430996989687[0][0].setStyle({\"model\": -1},{\"line\": {\"color\": \"black\"}});\n\tviewergrid_1663430996989687[0][0].addModelsAsFrames(\"MODEL 0\\nHETATM    1 O    COM A   0       5.360   1.323   3.969  1.00  0.00       B   O  \\nHETATM    2 H    COM A   0       4.773   2.080   3.969  1.00  0.00       B   H  \\nHETATM    3 H    COM A   0       4.773   0.566   3.969  1.00  0.00       B   H  \\nHETATM    4 O    COM A   0       4.969   0.932  -1.323  1.00  0.00       B   O  \\nHETATM    5 H    COM A   0       5.726   1.518  -1.323  1.00  0.00       B   H  \\nHETATM    6 H    COM A   0       4.212   1.518  -1.323  1.00  0.00       B   H  \\nENDMDL\\n\",\"pdb\",{\"keepH\": \"true\"});\n\tviewergrid_1663430996989687[0][0].setStyle({\"model\": -1, \"serial\": 1},{\"sphere\": {\"scale\": 0.2, \"color\": \"#7F00FF\"}});\n\tviewergrid_1663430996989687[0][0].addModelsAsFrames(\"MODEL 0\\nHETATM    1 O    COM A   0       5.360   1.323   3.969  1.00  0.00       B   O  \\nHETATM    2 H    COM A   0       4.773   2.080   3.969  1.00  0.00       B   H  \\nHETATM    3 H    COM A   0       4.773   0.566   3.969  1.00  0.00       B   H  \\nHETATM    4 O    COM A   0       4.969   0.932  -1.323  1.00  0.00       B   O  \\nHETATM    5 H    COM A   0       5.726   1.518  -1.323  1.00  0.00       B   H  \\nHETATM    6 H    COM A   0       4.212   1.518  -1.323  1.00  0.00       B   H  \\nENDMDL\\n\",\"pdb\",{\"keepH\": \"true\"});\n\tviewergrid_1663430996989687[0][0].setStyle({\"model\": -1, \"serial\": 2},{\"sphere\": {\"scale\": 0.2, \"color\": \"#7F00FF\"}});\n\tviewergrid_1663430996989687[0][0].addModelsAsFrames(\"MODEL 0\\nHETATM    1 O    COM A   0       5.360   1.323   3.969  1.00  0.00       B   O  \\nHETATM    2 H    COM A   0       4.773   2.080   3.969  1.00  0.00       B   H  \\nHETATM    3 H    COM A   0       4.773   0.566   3.969  1.00  0.00       B   H  \\nHETATM    4 O    COM A   0       4.969   0.932  -1.323  1.00  0.00       B   O  \\nHETATM    5 H    COM A   0       5.726   1.518  -1.323  1.00  0.00       B   H  \\nHETATM    6 H    COM A   0       4.212   1.518  -1.323  1.00  0.00       B   H  \\nENDMDL\\n\",\"pdb\",{\"keepH\": \"true\"});\n\tviewergrid_1663430996989687[0][0].setStyle({\"model\": -1, \"serial\": 3},{\"sphere\": {\"scale\": 0.2, \"color\": \"#7F00FF\"}});\n\tviewergrid_1663430996989687[0][0].addModelsAsFrames(\"MODEL 0\\nHETATM    1 O    COM A   0       5.360   1.323   3.969  1.00  0.00       B   O  \\nHETATM    2 H    COM A   0       4.773   2.080   3.969  1.00  0.00       B   H  \\nHETATM    3 H    COM A   0       4.773   0.566   3.969  1.00  0.00       B   H  \\nHETATM    4 O    COM A   0       4.969   0.932  -1.323  1.00  0.00       B   O  \\nHETATM    5 H    COM A   0       5.726   1.518  -1.323  1.00  0.00       B   H  \\nHETATM    6 H    COM A   0       4.212   1.518  -1.323  1.00  0.00       B   H  \\nENDMDL\\n\",\"pdb\",{\"keepH\": \"true\"});\n\tviewergrid_1663430996989687[0][0].setStyle({\"model\": -1, \"serial\": 4},{\"sphere\": {\"scale\": 0.2, \"color\": \"#7F00FF\"}});\n\tviewergrid_1663430996989687[0][0].addModelsAsFrames(\"MODEL 0\\nHETATM    1 O    COM A   0       5.360   1.323   3.969  1.00  0.00       B   O  \\nHETATM    2 H    COM A   0       4.773   2.080   3.969  1.00  0.00       B   H  \\nHETATM    3 H    COM A   0       4.773   0.566   3.969  1.00  0.00       B   H  \\nHETATM    4 O    COM A   0       4.969   0.932  -1.323  1.00  0.00       B   O  \\nHETATM    5 H    COM A   0       5.726   1.518  -1.323  1.00  0.00       B   H  \\nHETATM    6 H    COM A   0       4.212   1.518  -1.323  1.00  0.00       B   H  \\nENDMDL\\n\",\"pdb\",{\"keepH\": \"true\"});\n\tviewergrid_1663430996989687[0][0].setStyle({\"model\": -1, \"serial\": 5},{\"sphere\": {\"scale\": 0.2, \"color\": \"#7F00FF\"}});\n\tviewergrid_1663430996989687[0][0].addModelsAsFrames(\"MODEL 0\\nHETATM    1 O    COM A   0       5.360   1.323   3.969  1.00  0.00       B   O  \\nHETATM    2 H    COM A   0       4.773   2.080   3.969  1.00  0.00       B   H  \\nHETATM    3 H    COM A   0       4.773   0.566   3.969  1.00  0.00       B   H  \\nHETATM    4 O    COM A   0       4.969   0.932  -1.323  1.00  0.00       B   O  \\nHETATM    5 H    COM A   0       5.726   1.518  -1.323  1.00  0.00       B   H  \\nHETATM    6 H    COM A   0       4.212   1.518  -1.323  1.00  0.00       B   H  \\nENDMDL\\n\",\"pdb\",{\"keepH\": \"true\"});\n\tviewergrid_1663430996989687[0][0].setStyle({\"model\": -1, \"serial\": 6},{\"sphere\": {\"scale\": 0.2, \"color\": \"#7F00FF\"}});\n\tviewergrid_1663430996989687[0][0].addUnitCell({\"model\": -1},{\"box\": {\"color\": \"black\"}, \"alabel\": \"\", \"blabel\": \"\", \"clabel\": \"\"});\n\tviewergrid_1663430996989687[0][0].zoomTo();\nviewergrid_1663430996989687[0][0].render();\n});\n</script>",
            "text/html": [
              "<div id=\"3dmolviewer_1663430996989687\"  style=\"position: relative; width: 400px; height: 300px\">\n",
              "        <p id=\"3dmolwarning_1663430996989687\" style=\"background-color:#ffcccc;color:black\">You appear to be running in JupyterLab (or JavaScript failed to load for some other reason).  You need to install the 3dmol extension: <br>\n",
              "        <tt>jupyter labextension install jupyterlab_3dmol</tt></p>\n",
              "        </div>\n",
              "<script>\n",
              "\n",
              "var loadScriptAsync = function(uri){\n",
              "  return new Promise((resolve, reject) => {\n",
              "    var tag = document.createElement('script');\n",
              "    tag.src = uri;\n",
              "    tag.async = true;\n",
              "    tag.onload = () => {\n",
              "      resolve();\n",
              "    };\n",
              "  var firstScriptTag = document.getElementsByTagName('script')[0];\n",
              "  firstScriptTag.parentNode.insertBefore(tag, firstScriptTag);\n",
              "});\n",
              "};\n",
              "\n",
              "if(typeof $3Dmolpromise === 'undefined') {\n",
              "$3Dmolpromise = null;\n",
              "  $3Dmolpromise = loadScriptAsync('https://cdn.jsdelivr.net/npm/3dmol@latest/build/3Dmol-min.min.js');\n",
              "}\n",
              "\n",
              "var viewer_1663430996989687 = null;\n",
              "var warn = document.getElementById(\"3dmolwarning_1663430996989687\");\n",
              "if(warn) {\n",
              "    warn.parentNode.removeChild(warn);\n",
              "}\n",
              "$3Dmolpromise.then(function() {\n",
              "var viewergrid_1663430996989687 = null;\n",
              "viewergrid_1663430996989687 = $3Dmol.createViewerGrid($(\"#3dmolviewer_1663430996989687\"),{rows: 1, cols: 1, control_all: false},{backgroundColor:\"white\"});\n",
              "viewer_1663430996989687 = viewergrid_1663430996989687[0][0];\n",
              "viewergrid_1663430996989687[0][0].zoomTo();\tviewergrid_1663430996989687[0][0].addModelsAsFrames(\"MODEL 0\\nHETATM    1 O    COM A   0       5.360   1.323   3.969  1.00  0.00       B   O  \\nHETATM    2 H    COM A   0       4.773   2.080   3.969  1.00  0.00       B   H  \\nHETATM    3 H    COM A   0       4.773   0.566   3.969  1.00  0.00       B   H  \\nHETATM    4 O    COM A   0       4.969   0.932  -1.323  1.00  0.00       B   O  \\nHETATM    5 H    COM A   0       5.726   1.518  -1.323  1.00  0.00       B   H  \\nHETATM    6 H    COM A   0       4.212   1.518  -1.323  1.00  0.00       B   H  \\nENDMDL\\n\",\"pdb\",{\"keepH\": \"true\"});\n",
              "\tviewergrid_1663430996989687[0][0].setStyle({\"model\": -1},{\"line\": {\"color\": \"black\"}});\n",
              "\tviewergrid_1663430996989687[0][0].addModelsAsFrames(\"MODEL 0\\nHETATM    1 O    COM A   0       5.360   1.323   3.969  1.00  0.00       B   O  \\nHETATM    2 H    COM A   0       4.773   2.080   3.969  1.00  0.00       B   H  \\nHETATM    3 H    COM A   0       4.773   0.566   3.969  1.00  0.00       B   H  \\nHETATM    4 O    COM A   0       4.969   0.932  -1.323  1.00  0.00       B   O  \\nHETATM    5 H    COM A   0       5.726   1.518  -1.323  1.00  0.00       B   H  \\nHETATM    6 H    COM A   0       4.212   1.518  -1.323  1.00  0.00       B   H  \\nENDMDL\\n\",\"pdb\",{\"keepH\": \"true\"});\n",
              "\tviewergrid_1663430996989687[0][0].setStyle({\"model\": -1, \"serial\": 1},{\"sphere\": {\"scale\": 0.2, \"color\": \"#7F00FF\"}});\n",
              "\tviewergrid_1663430996989687[0][0].addModelsAsFrames(\"MODEL 0\\nHETATM    1 O    COM A   0       5.360   1.323   3.969  1.00  0.00       B   O  \\nHETATM    2 H    COM A   0       4.773   2.080   3.969  1.00  0.00       B   H  \\nHETATM    3 H    COM A   0       4.773   0.566   3.969  1.00  0.00       B   H  \\nHETATM    4 O    COM A   0       4.969   0.932  -1.323  1.00  0.00       B   O  \\nHETATM    5 H    COM A   0       5.726   1.518  -1.323  1.00  0.00       B   H  \\nHETATM    6 H    COM A   0       4.212   1.518  -1.323  1.00  0.00       B   H  \\nENDMDL\\n\",\"pdb\",{\"keepH\": \"true\"});\n",
              "\tviewergrid_1663430996989687[0][0].setStyle({\"model\": -1, \"serial\": 2},{\"sphere\": {\"scale\": 0.2, \"color\": \"#7F00FF\"}});\n",
              "\tviewergrid_1663430996989687[0][0].addModelsAsFrames(\"MODEL 0\\nHETATM    1 O    COM A   0       5.360   1.323   3.969  1.00  0.00       B   O  \\nHETATM    2 H    COM A   0       4.773   2.080   3.969  1.00  0.00       B   H  \\nHETATM    3 H    COM A   0       4.773   0.566   3.969  1.00  0.00       B   H  \\nHETATM    4 O    COM A   0       4.969   0.932  -1.323  1.00  0.00       B   O  \\nHETATM    5 H    COM A   0       5.726   1.518  -1.323  1.00  0.00       B   H  \\nHETATM    6 H    COM A   0       4.212   1.518  -1.323  1.00  0.00       B   H  \\nENDMDL\\n\",\"pdb\",{\"keepH\": \"true\"});\n",
              "\tviewergrid_1663430996989687[0][0].setStyle({\"model\": -1, \"serial\": 3},{\"sphere\": {\"scale\": 0.2, \"color\": \"#7F00FF\"}});\n",
              "\tviewergrid_1663430996989687[0][0].addModelsAsFrames(\"MODEL 0\\nHETATM    1 O    COM A   0       5.360   1.323   3.969  1.00  0.00       B   O  \\nHETATM    2 H    COM A   0       4.773   2.080   3.969  1.00  0.00       B   H  \\nHETATM    3 H    COM A   0       4.773   0.566   3.969  1.00  0.00       B   H  \\nHETATM    4 O    COM A   0       4.969   0.932  -1.323  1.00  0.00       B   O  \\nHETATM    5 H    COM A   0       5.726   1.518  -1.323  1.00  0.00       B   H  \\nHETATM    6 H    COM A   0       4.212   1.518  -1.323  1.00  0.00       B   H  \\nENDMDL\\n\",\"pdb\",{\"keepH\": \"true\"});\n",
              "\tviewergrid_1663430996989687[0][0].setStyle({\"model\": -1, \"serial\": 4},{\"sphere\": {\"scale\": 0.2, \"color\": \"#7F00FF\"}});\n",
              "\tviewergrid_1663430996989687[0][0].addModelsAsFrames(\"MODEL 0\\nHETATM    1 O    COM A   0       5.360   1.323   3.969  1.00  0.00       B   O  \\nHETATM    2 H    COM A   0       4.773   2.080   3.969  1.00  0.00       B   H  \\nHETATM    3 H    COM A   0       4.773   0.566   3.969  1.00  0.00       B   H  \\nHETATM    4 O    COM A   0       4.969   0.932  -1.323  1.00  0.00       B   O  \\nHETATM    5 H    COM A   0       5.726   1.518  -1.323  1.00  0.00       B   H  \\nHETATM    6 H    COM A   0       4.212   1.518  -1.323  1.00  0.00       B   H  \\nENDMDL\\n\",\"pdb\",{\"keepH\": \"true\"});\n",
              "\tviewergrid_1663430996989687[0][0].setStyle({\"model\": -1, \"serial\": 5},{\"sphere\": {\"scale\": 0.2, \"color\": \"#7F00FF\"}});\n",
              "\tviewergrid_1663430996989687[0][0].addModelsAsFrames(\"MODEL 0\\nHETATM    1 O    COM A   0       5.360   1.323   3.969  1.00  0.00       B   O  \\nHETATM    2 H    COM A   0       4.773   2.080   3.969  1.00  0.00       B   H  \\nHETATM    3 H    COM A   0       4.773   0.566   3.969  1.00  0.00       B   H  \\nHETATM    4 O    COM A   0       4.969   0.932  -1.323  1.00  0.00       B   O  \\nHETATM    5 H    COM A   0       5.726   1.518  -1.323  1.00  0.00       B   H  \\nHETATM    6 H    COM A   0       4.212   1.518  -1.323  1.00  0.00       B   H  \\nENDMDL\\n\",\"pdb\",{\"keepH\": \"true\"});\n",
              "\tviewergrid_1663430996989687[0][0].setStyle({\"model\": -1, \"serial\": 6},{\"sphere\": {\"scale\": 0.2, \"color\": \"#7F00FF\"}});\n",
              "\tviewergrid_1663430996989687[0][0].addUnitCell({\"model\": -1},{\"box\": {\"color\": \"black\"}, \"alabel\": \"\", \"blabel\": \"\", \"clabel\": \"\"});\n",
              "\tviewergrid_1663430996989687[0][0].zoomTo();\n",
              "viewergrid_1663430996989687[0][0].render();\n",
              "});\n",
              "</script>"
            ]
          },
          "metadata": {}
        },
        {
          "output_type": "execute_result",
          "data": {
            "text/plain": [
              "<BigDFT.Visualization.InlineVisualizer at 0x7f879477ab90>"
            ]
          },
          "metadata": {},
          "execution_count": 29
        }
      ],
      "source": [
        "# NBVAL_IGNORE_OUTPUT\n",
        "joint.display()"
      ]
    },
    {
      "cell_type": "markdown",
      "id": "curious-acrobat",
      "metadata": {
        "id": "curious-acrobat"
      },
      "source": [
        "## Extended Systems\n",
        "For extended systems, the extra ingredient required is a `UnitCell`. "
      ]
    },
    {
      "cell_type": "code",
      "execution_count": 30,
      "id": "proved-dining",
      "metadata": {
        "id": "proved-dining"
      },
      "outputs": [],
      "source": [
        "from BigDFT.UnitCells import UnitCell\n",
        "sys.cell = UnitCell([7.0, 7.0, 7.0], units=\"angstroem\")"
      ]
    },
    {
      "cell_type": "code",
      "execution_count": 31,
      "id": "super-amount",
      "metadata": {
        "id": "super-amount",
        "outputId": "fcc1b400-15d0-462e-f94d-80b5115a9792",
        "colab": {
          "base_uri": "https://localhost:8080/",
          "height": 335
        }
      },
      "outputs": [
        {
          "output_type": "display_data",
          "data": {
            "application/3dmoljs_load.v0": "<div id=\"3dmolviewer_1663431004562971\"  style=\"position: relative; width: 400px; height: 300px\">\n        <p id=\"3dmolwarning_1663431004562971\" style=\"background-color:#ffcccc;color:black\">You appear to be running in JupyterLab (or JavaScript failed to load for some other reason).  You need to install the 3dmol extension: <br>\n        <tt>jupyter labextension install jupyterlab_3dmol</tt></p>\n        </div>\n<script>\n\nvar loadScriptAsync = function(uri){\n  return new Promise((resolve, reject) => {\n    var tag = document.createElement('script');\n    tag.src = uri;\n    tag.async = true;\n    tag.onload = () => {\n      resolve();\n    };\n  var firstScriptTag = document.getElementsByTagName('script')[0];\n  firstScriptTag.parentNode.insertBefore(tag, firstScriptTag);\n});\n};\n\nif(typeof $3Dmolpromise === 'undefined') {\n$3Dmolpromise = null;\n  $3Dmolpromise = loadScriptAsync('https://cdn.jsdelivr.net/npm/3dmol@latest/build/3Dmol-min.min.js');\n}\n\nvar viewer_1663431004562971 = null;\nvar warn = document.getElementById(\"3dmolwarning_1663431004562971\");\nif(warn) {\n    warn.parentNode.removeChild(warn);\n}\n$3Dmolpromise.then(function() {\nvar viewergrid_1663431004562971 = null;\nviewergrid_1663431004562971 = $3Dmol.createViewerGrid($(\"#3dmolviewer_1663431004562971\"),{rows: 1, cols: 1, control_all: false},{backgroundColor:\"white\"});\nviewer_1663431004562971 = viewergrid_1663431004562971[0][0];\nviewergrid_1663431004562971[0][0].zoomTo();\tviewergrid_1663431004562971[0][0].addModelsAsFrames(\"MODEL 0\\nCRYST1    7.000    7.000    7.000     90     90     90                          \\nHETATM    1 O    WAT A   0       2.323   1.323   1.714  1.00  0.00       B   O  \\nHETATM    2 H    WAT A   0       2.323   2.080   1.127  1.00  0.00       B   H  \\nHETATM    3 H    WAT A   0       2.323   0.566   1.127  1.00  0.00       B   H  \\nHETATM    4 O    WAT A   1       0.615   0.932   1.323  1.00  0.00       B   O  \\nHETATM    5 H    WAT A   1       0.615   1.518   2.080  1.00  0.00       B   H  \\nHETATM    6 H    WAT A   1       0.615   1.518   0.566  1.00  0.00       B   H  \\nENDMDL\\n\",\"pdb\",{\"keepH\": \"true\"});\n\tviewergrid_1663431004562971[0][0].setStyle({\"model\": -1},{\"line\": {\"color\": \"black\"}});\n\tviewergrid_1663431004562971[0][0].addModelsAsFrames(\"MODEL 0\\nCRYST1    7.000    7.000    7.000     90     90     90                          \\nHETATM    1 O    WAT A   0       2.323   1.323   1.714  1.00  0.00       B   O  \\nHETATM    2 H    WAT A   0       2.323   2.080   1.127  1.00  0.00       B   H  \\nHETATM    3 H    WAT A   0       2.323   0.566   1.127  1.00  0.00       B   H  \\nHETATM    4 O    WAT A   1       0.615   0.932   1.323  1.00  0.00       B   O  \\nHETATM    5 H    WAT A   1       0.615   1.518   2.080  1.00  0.00       B   H  \\nHETATM    6 H    WAT A   1       0.615   1.518   0.566  1.00  0.00       B   H  \\nENDMDL\\n\",\"pdb\",{\"keepH\": \"true\"});\n\tviewergrid_1663431004562971[0][0].setStyle({\"model\": -1, \"serial\": 1},{\"sphere\": {\"scale\": 0.2, \"color\": \"#FF0000\"}});\n\tviewergrid_1663431004562971[0][0].addModelsAsFrames(\"MODEL 0\\nCRYST1    7.000    7.000    7.000     90     90     90                          \\nHETATM    1 O    WAT A   0       2.323   1.323   1.714  1.00  0.00       B   O  \\nHETATM    2 H    WAT A   0       2.323   2.080   1.127  1.00  0.00       B   H  \\nHETATM    3 H    WAT A   0       2.323   0.566   1.127  1.00  0.00       B   H  \\nHETATM    4 O    WAT A   1       0.615   0.932   1.323  1.00  0.00       B   O  \\nHETATM    5 H    WAT A   1       0.615   1.518   2.080  1.00  0.00       B   H  \\nHETATM    6 H    WAT A   1       0.615   1.518   0.566  1.00  0.00       B   H  \\nENDMDL\\n\",\"pdb\",{\"keepH\": \"true\"});\n\tviewergrid_1663431004562971[0][0].setStyle({\"model\": -1, \"serial\": 2},{\"sphere\": {\"scale\": 0.2, \"color\": \"#FF0000\"}});\n\tviewergrid_1663431004562971[0][0].addModelsAsFrames(\"MODEL 0\\nCRYST1    7.000    7.000    7.000     90     90     90                          \\nHETATM    1 O    WAT A   0       2.323   1.323   1.714  1.00  0.00       B   O  \\nHETATM    2 H    WAT A   0       2.323   2.080   1.127  1.00  0.00       B   H  \\nHETATM    3 H    WAT A   0       2.323   0.566   1.127  1.00  0.00       B   H  \\nHETATM    4 O    WAT A   1       0.615   0.932   1.323  1.00  0.00       B   O  \\nHETATM    5 H    WAT A   1       0.615   1.518   2.080  1.00  0.00       B   H  \\nHETATM    6 H    WAT A   1       0.615   1.518   0.566  1.00  0.00       B   H  \\nENDMDL\\n\",\"pdb\",{\"keepH\": \"true\"});\n\tviewergrid_1663431004562971[0][0].setStyle({\"model\": -1, \"serial\": 3},{\"sphere\": {\"scale\": 0.2, \"color\": \"#FF0000\"}});\n\tviewergrid_1663431004562971[0][0].addModelsAsFrames(\"MODEL 0\\nCRYST1    7.000    7.000    7.000     90     90     90                          \\nHETATM    1 O    WAT A   0       2.323   1.323   1.714  1.00  0.00       B   O  \\nHETATM    2 H    WAT A   0       2.323   2.080   1.127  1.00  0.00       B   H  \\nHETATM    3 H    WAT A   0       2.323   0.566   1.127  1.00  0.00       B   H  \\nHETATM    4 O    WAT A   1       0.615   0.932   1.323  1.00  0.00       B   O  \\nHETATM    5 H    WAT A   1       0.615   1.518   2.080  1.00  0.00       B   H  \\nHETATM    6 H    WAT A   1       0.615   1.518   0.566  1.00  0.00       B   H  \\nENDMDL\\n\",\"pdb\",{\"keepH\": \"true\"});\n\tviewergrid_1663431004562971[0][0].setStyle({\"model\": -1},{\"line\": {\"color\": \"black\"}});\n\tviewergrid_1663431004562971[0][0].addModelsAsFrames(\"MODEL 0\\nCRYST1    7.000    7.000    7.000     90     90     90                          \\nHETATM    1 O    WAT A   0       2.323   1.323   1.714  1.00  0.00       B   O  \\nHETATM    2 H    WAT A   0       2.323   2.080   1.127  1.00  0.00       B   H  \\nHETATM    3 H    WAT A   0       2.323   0.566   1.127  1.00  0.00       B   H  \\nHETATM    4 O    WAT A   1       0.615   0.932   1.323  1.00  0.00       B   O  \\nHETATM    5 H    WAT A   1       0.615   1.518   2.080  1.00  0.00       B   H  \\nHETATM    6 H    WAT A   1       0.615   1.518   0.566  1.00  0.00       B   H  \\nENDMDL\\n\",\"pdb\",{\"keepH\": \"true\"});\n\tviewergrid_1663431004562971[0][0].setStyle({\"model\": -1, \"serial\": 4},{\"sphere\": {\"scale\": 0.2, \"color\": \"#7F00FF\"}});\n\tviewergrid_1663431004562971[0][0].addModelsAsFrames(\"MODEL 0\\nCRYST1    7.000    7.000    7.000     90     90     90                          \\nHETATM    1 O    WAT A   0       2.323   1.323   1.714  1.00  0.00       B   O  \\nHETATM    2 H    WAT A   0       2.323   2.080   1.127  1.00  0.00       B   H  \\nHETATM    3 H    WAT A   0       2.323   0.566   1.127  1.00  0.00       B   H  \\nHETATM    4 O    WAT A   1       0.615   0.932   1.323  1.00  0.00       B   O  \\nHETATM    5 H    WAT A   1       0.615   1.518   2.080  1.00  0.00       B   H  \\nHETATM    6 H    WAT A   1       0.615   1.518   0.566  1.00  0.00       B   H  \\nENDMDL\\n\",\"pdb\",{\"keepH\": \"true\"});\n\tviewergrid_1663431004562971[0][0].setStyle({\"model\": -1, \"serial\": 5},{\"sphere\": {\"scale\": 0.2, \"color\": \"#7F00FF\"}});\n\tviewergrid_1663431004562971[0][0].addModelsAsFrames(\"MODEL 0\\nCRYST1    7.000    7.000    7.000     90     90     90                          \\nHETATM    1 O    WAT A   0       2.323   1.323   1.714  1.00  0.00       B   O  \\nHETATM    2 H    WAT A   0       2.323   2.080   1.127  1.00  0.00       B   H  \\nHETATM    3 H    WAT A   0       2.323   0.566   1.127  1.00  0.00       B   H  \\nHETATM    4 O    WAT A   1       0.615   0.932   1.323  1.00  0.00       B   O  \\nHETATM    5 H    WAT A   1       0.615   1.518   2.080  1.00  0.00       B   H  \\nHETATM    6 H    WAT A   1       0.615   1.518   0.566  1.00  0.00       B   H  \\nENDMDL\\n\",\"pdb\",{\"keepH\": \"true\"});\n\tviewergrid_1663431004562971[0][0].setStyle({\"model\": -1, \"serial\": 6},{\"sphere\": {\"scale\": 0.2, \"color\": \"#7F00FF\"}});\n\tviewergrid_1663431004562971[0][0].addUnitCell({\"model\": -1},{\"box\": {\"color\": \"black\"}, \"alabel\": \"\", \"blabel\": \"\", \"clabel\": \"\"});\n\tviewergrid_1663431004562971[0][0].zoomTo();\nviewergrid_1663431004562971[0][0].render();\n});\n</script>",
            "text/html": [
              "<div id=\"3dmolviewer_1663431004562971\"  style=\"position: relative; width: 400px; height: 300px\">\n",
              "        <p id=\"3dmolwarning_1663431004562971\" style=\"background-color:#ffcccc;color:black\">You appear to be running in JupyterLab (or JavaScript failed to load for some other reason).  You need to install the 3dmol extension: <br>\n",
              "        <tt>jupyter labextension install jupyterlab_3dmol</tt></p>\n",
              "        </div>\n",
              "<script>\n",
              "\n",
              "var loadScriptAsync = function(uri){\n",
              "  return new Promise((resolve, reject) => {\n",
              "    var tag = document.createElement('script');\n",
              "    tag.src = uri;\n",
              "    tag.async = true;\n",
              "    tag.onload = () => {\n",
              "      resolve();\n",
              "    };\n",
              "  var firstScriptTag = document.getElementsByTagName('script')[0];\n",
              "  firstScriptTag.parentNode.insertBefore(tag, firstScriptTag);\n",
              "});\n",
              "};\n",
              "\n",
              "if(typeof $3Dmolpromise === 'undefined') {\n",
              "$3Dmolpromise = null;\n",
              "  $3Dmolpromise = loadScriptAsync('https://cdn.jsdelivr.net/npm/3dmol@latest/build/3Dmol-min.min.js');\n",
              "}\n",
              "\n",
              "var viewer_1663431004562971 = null;\n",
              "var warn = document.getElementById(\"3dmolwarning_1663431004562971\");\n",
              "if(warn) {\n",
              "    warn.parentNode.removeChild(warn);\n",
              "}\n",
              "$3Dmolpromise.then(function() {\n",
              "var viewergrid_1663431004562971 = null;\n",
              "viewergrid_1663431004562971 = $3Dmol.createViewerGrid($(\"#3dmolviewer_1663431004562971\"),{rows: 1, cols: 1, control_all: false},{backgroundColor:\"white\"});\n",
              "viewer_1663431004562971 = viewergrid_1663431004562971[0][0];\n",
              "viewergrid_1663431004562971[0][0].zoomTo();\tviewergrid_1663431004562971[0][0].addModelsAsFrames(\"MODEL 0\\nCRYST1    7.000    7.000    7.000     90     90     90                          \\nHETATM    1 O    WAT A   0       2.323   1.323   1.714  1.00  0.00       B   O  \\nHETATM    2 H    WAT A   0       2.323   2.080   1.127  1.00  0.00       B   H  \\nHETATM    3 H    WAT A   0       2.323   0.566   1.127  1.00  0.00       B   H  \\nHETATM    4 O    WAT A   1       0.615   0.932   1.323  1.00  0.00       B   O  \\nHETATM    5 H    WAT A   1       0.615   1.518   2.080  1.00  0.00       B   H  \\nHETATM    6 H    WAT A   1       0.615   1.518   0.566  1.00  0.00       B   H  \\nENDMDL\\n\",\"pdb\",{\"keepH\": \"true\"});\n",
              "\tviewergrid_1663431004562971[0][0].setStyle({\"model\": -1},{\"line\": {\"color\": \"black\"}});\n",
              "\tviewergrid_1663431004562971[0][0].addModelsAsFrames(\"MODEL 0\\nCRYST1    7.000    7.000    7.000     90     90     90                          \\nHETATM    1 O    WAT A   0       2.323   1.323   1.714  1.00  0.00       B   O  \\nHETATM    2 H    WAT A   0       2.323   2.080   1.127  1.00  0.00       B   H  \\nHETATM    3 H    WAT A   0       2.323   0.566   1.127  1.00  0.00       B   H  \\nHETATM    4 O    WAT A   1       0.615   0.932   1.323  1.00  0.00       B   O  \\nHETATM    5 H    WAT A   1       0.615   1.518   2.080  1.00  0.00       B   H  \\nHETATM    6 H    WAT A   1       0.615   1.518   0.566  1.00  0.00       B   H  \\nENDMDL\\n\",\"pdb\",{\"keepH\": \"true\"});\n",
              "\tviewergrid_1663431004562971[0][0].setStyle({\"model\": -1, \"serial\": 1},{\"sphere\": {\"scale\": 0.2, \"color\": \"#FF0000\"}});\n",
              "\tviewergrid_1663431004562971[0][0].addModelsAsFrames(\"MODEL 0\\nCRYST1    7.000    7.000    7.000     90     90     90                          \\nHETATM    1 O    WAT A   0       2.323   1.323   1.714  1.00  0.00       B   O  \\nHETATM    2 H    WAT A   0       2.323   2.080   1.127  1.00  0.00       B   H  \\nHETATM    3 H    WAT A   0       2.323   0.566   1.127  1.00  0.00       B   H  \\nHETATM    4 O    WAT A   1       0.615   0.932   1.323  1.00  0.00       B   O  \\nHETATM    5 H    WAT A   1       0.615   1.518   2.080  1.00  0.00       B   H  \\nHETATM    6 H    WAT A   1       0.615   1.518   0.566  1.00  0.00       B   H  \\nENDMDL\\n\",\"pdb\",{\"keepH\": \"true\"});\n",
              "\tviewergrid_1663431004562971[0][0].setStyle({\"model\": -1, \"serial\": 2},{\"sphere\": {\"scale\": 0.2, \"color\": \"#FF0000\"}});\n",
              "\tviewergrid_1663431004562971[0][0].addModelsAsFrames(\"MODEL 0\\nCRYST1    7.000    7.000    7.000     90     90     90                          \\nHETATM    1 O    WAT A   0       2.323   1.323   1.714  1.00  0.00       B   O  \\nHETATM    2 H    WAT A   0       2.323   2.080   1.127  1.00  0.00       B   H  \\nHETATM    3 H    WAT A   0       2.323   0.566   1.127  1.00  0.00       B   H  \\nHETATM    4 O    WAT A   1       0.615   0.932   1.323  1.00  0.00       B   O  \\nHETATM    5 H    WAT A   1       0.615   1.518   2.080  1.00  0.00       B   H  \\nHETATM    6 H    WAT A   1       0.615   1.518   0.566  1.00  0.00       B   H  \\nENDMDL\\n\",\"pdb\",{\"keepH\": \"true\"});\n",
              "\tviewergrid_1663431004562971[0][0].setStyle({\"model\": -1, \"serial\": 3},{\"sphere\": {\"scale\": 0.2, \"color\": \"#FF0000\"}});\n",
              "\tviewergrid_1663431004562971[0][0].addModelsAsFrames(\"MODEL 0\\nCRYST1    7.000    7.000    7.000     90     90     90                          \\nHETATM    1 O    WAT A   0       2.323   1.323   1.714  1.00  0.00       B   O  \\nHETATM    2 H    WAT A   0       2.323   2.080   1.127  1.00  0.00       B   H  \\nHETATM    3 H    WAT A   0       2.323   0.566   1.127  1.00  0.00       B   H  \\nHETATM    4 O    WAT A   1       0.615   0.932   1.323  1.00  0.00       B   O  \\nHETATM    5 H    WAT A   1       0.615   1.518   2.080  1.00  0.00       B   H  \\nHETATM    6 H    WAT A   1       0.615   1.518   0.566  1.00  0.00       B   H  \\nENDMDL\\n\",\"pdb\",{\"keepH\": \"true\"});\n",
              "\tviewergrid_1663431004562971[0][0].setStyle({\"model\": -1},{\"line\": {\"color\": \"black\"}});\n",
              "\tviewergrid_1663431004562971[0][0].addModelsAsFrames(\"MODEL 0\\nCRYST1    7.000    7.000    7.000     90     90     90                          \\nHETATM    1 O    WAT A   0       2.323   1.323   1.714  1.00  0.00       B   O  \\nHETATM    2 H    WAT A   0       2.323   2.080   1.127  1.00  0.00       B   H  \\nHETATM    3 H    WAT A   0       2.323   0.566   1.127  1.00  0.00       B   H  \\nHETATM    4 O    WAT A   1       0.615   0.932   1.323  1.00  0.00       B   O  \\nHETATM    5 H    WAT A   1       0.615   1.518   2.080  1.00  0.00       B   H  \\nHETATM    6 H    WAT A   1       0.615   1.518   0.566  1.00  0.00       B   H  \\nENDMDL\\n\",\"pdb\",{\"keepH\": \"true\"});\n",
              "\tviewergrid_1663431004562971[0][0].setStyle({\"model\": -1, \"serial\": 4},{\"sphere\": {\"scale\": 0.2, \"color\": \"#7F00FF\"}});\n",
              "\tviewergrid_1663431004562971[0][0].addModelsAsFrames(\"MODEL 0\\nCRYST1    7.000    7.000    7.000     90     90     90                          \\nHETATM    1 O    WAT A   0       2.323   1.323   1.714  1.00  0.00       B   O  \\nHETATM    2 H    WAT A   0       2.323   2.080   1.127  1.00  0.00       B   H  \\nHETATM    3 H    WAT A   0       2.323   0.566   1.127  1.00  0.00       B   H  \\nHETATM    4 O    WAT A   1       0.615   0.932   1.323  1.00  0.00       B   O  \\nHETATM    5 H    WAT A   1       0.615   1.518   2.080  1.00  0.00       B   H  \\nHETATM    6 H    WAT A   1       0.615   1.518   0.566  1.00  0.00       B   H  \\nENDMDL\\n\",\"pdb\",{\"keepH\": \"true\"});\n",
              "\tviewergrid_1663431004562971[0][0].setStyle({\"model\": -1, \"serial\": 5},{\"sphere\": {\"scale\": 0.2, \"color\": \"#7F00FF\"}});\n",
              "\tviewergrid_1663431004562971[0][0].addModelsAsFrames(\"MODEL 0\\nCRYST1    7.000    7.000    7.000     90     90     90                          \\nHETATM    1 O    WAT A   0       2.323   1.323   1.714  1.00  0.00       B   O  \\nHETATM    2 H    WAT A   0       2.323   2.080   1.127  1.00  0.00       B   H  \\nHETATM    3 H    WAT A   0       2.323   0.566   1.127  1.00  0.00       B   H  \\nHETATM    4 O    WAT A   1       0.615   0.932   1.323  1.00  0.00       B   O  \\nHETATM    5 H    WAT A   1       0.615   1.518   2.080  1.00  0.00       B   H  \\nHETATM    6 H    WAT A   1       0.615   1.518   0.566  1.00  0.00       B   H  \\nENDMDL\\n\",\"pdb\",{\"keepH\": \"true\"});\n",
              "\tviewergrid_1663431004562971[0][0].setStyle({\"model\": -1, \"serial\": 6},{\"sphere\": {\"scale\": 0.2, \"color\": \"#7F00FF\"}});\n",
              "\tviewergrid_1663431004562971[0][0].addUnitCell({\"model\": -1},{\"box\": {\"color\": \"black\"}, \"alabel\": \"\", \"blabel\": \"\", \"clabel\": \"\"});\n",
              "\tviewergrid_1663431004562971[0][0].zoomTo();\n",
              "viewergrid_1663431004562971[0][0].render();\n",
              "});\n",
              "</script>"
            ]
          },
          "metadata": {}
        },
        {
          "output_type": "execute_result",
          "data": {
            "text/plain": [
              "<BigDFT.Visualization.InlineVisualizer at 0x7f879477a890>"
            ]
          },
          "metadata": {},
          "execution_count": 31
        }
      ],
      "source": [
        "# NBVAL_IGNORE_OUTPUT\n",
        "sys.display()"
      ]
    },
    {
      "cell_type": "markdown",
      "id": "experienced-worry",
      "metadata": {
        "id": "experienced-worry"
      },
      "source": [
        "We see that the minimum image convention has wrapped the red fragment around so that it is now on the left side. We can inspect this position values closer from the `Atom` class."
      ]
    },
    {
      "cell_type": "code",
      "execution_count": 32,
      "id": "cooperative-vegetarian",
      "metadata": {
        "id": "cooperative-vegetarian",
        "outputId": "aa22bebb-d9bd-404b-ddae-15ff4937a5c9",
        "colab": {
          "base_uri": "https://localhost:8080/"
        }
      },
      "outputs": [
        {
          "output_type": "stream",
          "name": "stdout",
          "text": [
            "WAT:0\n",
            "[2.3229430273, 1.3229430273, 1.7139430273] [2.3229430273, 1.3229430273, 1.7139430273]\n",
            "[2.3229430273, 2.0801430273, 1.1274430273] [2.3229430273, 2.0801430273, 1.1274430273]\n",
            "[2.3229430273, 0.5657430273000001, 1.1274430273] [2.3229430273, 0.5657430273000001, 1.1274430273]\n",
            "WAT:1\n",
            "[7.6147151365, 0.9319430273000001, 1.3229430272999996] [0.6147151365000005, 0.9319430273000001, 1.3229430272999996]\n",
            "[7.6147151365, 1.5184430273000002, 2.0801430272999997] [0.6147151365000005, 1.5184430273000002, 2.0801430272999997]\n",
            "[7.6147151365, 1.5184430273000002, 0.5657430272999997] [0.6147151365000005, 1.5184430273000002, 0.5657430272999997]\n"
          ]
        }
      ],
      "source": [
        "for fragid, frag in sys.items():\n",
        "    print(fragid)\n",
        "    for at in frag:\n",
        "        print(at.get_position(\"angstroem\"), at.get_position(\"angstroem\", cell=sys.cell))"
      ]
    },
    {
      "cell_type": "markdown",
      "id": "democratic-italy",
      "metadata": {
        "id": "democratic-italy"
      },
      "source": [
        "We also can get accessed to fractional units this way."
      ]
    },
    {
      "cell_type": "code",
      "execution_count": 33,
      "id": "partial-bunch",
      "metadata": {
        "id": "partial-bunch",
        "outputId": "beab81ce-c52f-46d7-ef5d-ca4518915e17",
        "colab": {
          "base_uri": "https://localhost:8080/"
        }
      },
      "outputs": [
        {
          "output_type": "stream",
          "name": "stdout",
          "text": [
            "WAT:0\n",
            "[0.3318490039, 0.18899186104285715, 0.2448490039]\n",
            "[0.3318490039, 0.29716328961428573, 0.1610632896142857]\n",
            "[0.3318490039, 0.08082043247142859, 0.1610632896142857]\n",
            "WAT:1\n",
            "[0.08781644807142865, 0.1331347181857143, 0.1889918610428571]\n",
            "[0.08781644807142865, 0.21692043247142861, 0.2971632896142857]\n",
            "[0.08781644807142865, 0.21692043247142861, 0.08082043247142852]\n"
          ]
        }
      ],
      "source": [
        "for fragid, frag in sys.items():\n",
        "    print(fragid)\n",
        "    for at in frag:\n",
        "        print(at.get_position(\"reduced\", cell=sys.cell))"
      ]
    },
    {
      "cell_type": "markdown",
      "id": "357e65fe-54fc-44c2-8367-a29a4bd1c556",
      "metadata": {
        "id": "357e65fe-54fc-44c2-8367-a29a4bd1c556"
      },
      "source": [
        "The ```sys.get_posinp()``` method provides the information written in `YAML` markup format:"
      ]
    },
    {
      "cell_type": "code",
      "execution_count": 34,
      "id": "be8c3440-9f1e-44ab-8e00-fdeca6543262",
      "metadata": {
        "id": "be8c3440-9f1e-44ab-8e00-fdeca6543262",
        "outputId": "1406d1b6-61ac-4feb-be7f-cb7526c73484",
        "colab": {
          "base_uri": "https://localhost:8080/"
        }
      },
      "outputs": [
        {
          "output_type": "execute_result",
          "data": {
            "text/plain": [
              "{'positions': [{'O': [2.3229430273, 1.3229430273, 1.7139430273],\n",
              "   'frag': ['WAT', '0']},\n",
              "  {'H': [2.3229430273, 2.0801430273, 1.1274430273], 'frag': ['WAT', '0']},\n",
              "  {'H': [2.3229430273, 0.5657430273000001, 1.1274430273],\n",
              "   'frag': ['WAT', '0']},\n",
              "  {'O': [0.6147151365000005, 0.9319430273000001, 1.3229430272999996],\n",
              "   'frag': ['WAT', '1']},\n",
              "  {'H': [0.6147151365000005, 1.5184430273000002, 2.0801430272999997],\n",
              "   'frag': ['WAT', '1']},\n",
              "  {'H': [0.6147151365000005, 1.5184430273000002, 0.5657430272999997],\n",
              "   'frag': ['WAT', '1']}],\n",
              " 'units': 'angstroem',\n",
              " 'cell': [7.0, 7.0, 7.0]}"
            ]
          },
          "metadata": {},
          "execution_count": 34
        }
      ],
      "source": [
        "sys.get_posinp()"
      ]
    },
    {
      "cell_type": "code",
      "source": [
        "install.close_drive()"
      ],
      "metadata": {
        "id": "6T784eS-NwKa"
      },
      "id": "6T784eS-NwKa",
      "execution_count": 35,
      "outputs": []
    },
    {
      "cell_type": "code",
      "source": [],
      "metadata": {
        "id": "MmGtyBbzOvfq"
      },
      "id": "MmGtyBbzOvfq",
      "execution_count": null,
      "outputs": []
    }
  ],
  "metadata": {
    "kernelspec": {
      "display_name": "Python 3 (ipykernel)",
      "language": "python",
      "name": "python3"
    },
    "language_info": {
      "codemirror_mode": {
        "name": "ipython",
        "version": 3
      },
      "file_extension": ".py",
      "mimetype": "text/x-python",
      "name": "python",
      "nbconvert_exporter": "python",
      "pygments_lexer": "ipython3",
      "version": "3.9.7"
    },
    "colab": {
      "provenance": []
    }
  },
  "nbformat": 4,
  "nbformat_minor": 5
}