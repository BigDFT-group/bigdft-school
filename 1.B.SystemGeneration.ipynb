{
  "cells": [
    {
      "cell_type": "markdown",
      "id": "lasting-luxury",
      "metadata": {
        "id": "lasting-luxury"
      },
      "source": [
        "# System Generation\n",
        "In this lesson, we will describe the data structures available in PyBigDFT for manipulating the systems we want to study (whether molecular or solid state). This will also be a moment for us to introduce one of the main philosophy's of this framework. In python, we have two very common datastructures: lists and dictionaries."
      ]
    },
    {
      "cell_type": "code",
      "execution_count": null,
      "id": "occasional-thirty",
      "metadata": {
        "id": "occasional-thirty"
      },
      "outputs": [],
      "source": [
        "my_list = [0, 1, 2, 3]\n",
        "print(my_list[-1])\n",
        "my_dict = {\"a\": \"word\", \"c\": 4}\n",
        "print(my_dict[\"c\"])"
      ]
    },
    {
      "cell_type": "markdown",
      "id": "improved-sunday",
      "metadata": {
        "id": "improved-sunday"
      },
      "source": [
        "These two datastructures have some nice features. First, they are serializable in human readable formats like [json](https://en.wikipedia.org/wiki/JSON) or [yaml](https://en.wikipedia.org/wiki/JSON)."
      ]
    },
    {
      "cell_type": "code",
      "execution_count": null,
      "id": "starting-russia",
      "metadata": {
        "id": "starting-russia"
      },
      "outputs": [],
      "source": [
        "from yaml import dump\n",
        "print(dump(my_list))\n",
        "print(dump(my_dict))"
      ]
    },
    {
      "cell_type": "markdown",
      "id": "valuable-highway",
      "metadata": {
        "id": "valuable-highway"
      },
      "source": [
        "The second is that they can be quickly built and manipulated using comprehensions ([list](https://peps.python.org/pep-0202/) and [dict](https://peps.python.org/pep-0274/))."
      ]
    },
    {
      "cell_type": "code",
      "execution_count": null,
      "id": "higher-tenant",
      "metadata": {
        "id": "higher-tenant"
      },
      "outputs": [],
      "source": [
        "my_list2 = [x * 3 for x in my_list]\n",
        "print(my_list2)\n",
        "my_dict2 = {k + \"2\": v for k, v in my_dict.items()}\n",
        "print(my_dict2)"
      ]
    },
    {
      "cell_type": "markdown",
      "id": "precise-parish",
      "metadata": {
        "id": "precise-parish"
      },
      "source": [
        "## Atom Class\n",
        "Any system we want to study is going to be made up of Atoms. What is the best way to store information about an atom? From our previous discussion, a `dict` seems most appropriate."
      ]
    },
    {
      "cell_type": "code",
      "execution_count": null,
      "id": "incomplete-chester",
      "metadata": {
        "id": "incomplete-chester"
      },
      "outputs": [],
      "source": [
        "datm = {\"sym\": \"H\", \"r\": [1, 0, 0], \"units\": \"angstroem\"}\n",
        "print(dump(datm))"
      ]
    },
    {
      "cell_type": "markdown",
      "id": "regulated-flashing",
      "metadata": {
        "id": "regulated-flashing"
      },
      "source": [
        "Nonetheless, just manipulating a `dict` by itself is error prone, and you might want some helpful subroutines. For this reasons, we've wrapped up a `dict` in our Atom class."
      ]
    },
    {
      "cell_type": "code",
      "source": [
        "# let us now install the bigdft client (see previous lessons)\n",
        "!wget https://gitlab.com/luigigenovese/bigdft-school/-/raw/main/packaging/install.py &> /dev/null\n",
        "import install\n",
        "install.client() #such installation is already performed. It should take about 20 sec."
      ],
      "metadata": {
        "id": "7i2e9d3pMW7j"
      },
      "id": "7i2e9d3pMW7j",
      "execution_count": null,
      "outputs": []
    },
    {
      "cell_type": "code",
      "execution_count": null,
      "id": "undefined-closing",
      "metadata": {
        "id": "undefined-closing"
      },
      "outputs": [],
      "source": [
        "from BigDFT.Atoms import Atom\n",
        "atom = Atom(datm)\n",
        "# the following also works\n",
        "# atom = Atom({\"sym\": \"H\", \"r\": [1, 0, 0], \"units\": \"angstroem\"})\n",
        "# atom = Atom({\"H\": [1, 0, 0], \"units\": \"angstroem\"})\n",
        "print(dump(atom))"
      ]
    },
    {
      "cell_type": "markdown",
      "id": "recognized-collapse",
      "metadata": {
        "id": "recognized-collapse"
      },
      "source": [
        "Some of the built in subroutines are demonstrated below."
      ]
    },
    {
      "cell_type": "code",
      "execution_count": null,
      "id": "silver-composer",
      "metadata": {
        "id": "silver-composer"
      },
      "outputs": [],
      "source": [
        "print(atom.sym)\n",
        "print(atom.atomic_number)\n",
        "print(atom.get_position(\"angstroem\"))\n",
        "print(atom.get_position(\"bohr\"))"
      ]
    },
    {
      "cell_type": "markdown",
      "id": "accurate-tyler",
      "metadata": {
        "id": "accurate-tyler"
      },
      "source": [
        "With this approach, we nonetheless retain the flexibility of a `dict`."
      ]
    },
    {
      "cell_type": "code",
      "execution_count": null,
      "id": "everyday-guyana",
      "metadata": {
        "id": "everyday-guyana"
      },
      "outputs": [],
      "source": [
        "atom[\"source\"] = \"tutorial\"\n",
        "print(atom[\"source\"])\n",
        "for k, v in atom.items():\n",
        "    print(k, v)"
      ]
    },
    {
      "cell_type": "markdown",
      "id": "postal-blackjack",
      "metadata": {
        "id": "postal-blackjack"
      },
      "source": [
        "## Fragments\n",
        "We won't do many calculations involving a single atom, instead we want to put together groups of atoms. In this case, we will use a list as our model data structure, with the wrapper class refered to as a `Fragment`. "
      ]
    },
    {
      "cell_type": "code",
      "execution_count": null,
      "id": "shaped-institution",
      "metadata": {
        "id": "shaped-institution"
      },
      "outputs": [],
      "source": [
        "atm1 = Atom({\"sym\": \"O\", \"r\": [2.3229430273, 1.3229430273, 1.7139430273], \"units\": \"angstroem\"})\n",
        "atm2 = Atom({\"sym\": \"H\", \"r\": [2.3229430273, 2.0801430273, 1.1274430273], \"units\": \"angstroem\"})\n",
        "atm3 = Atom({\"sym\": \"H\", \"r\": [2.3229430273, 0.5657430273000001, 1.1274430273], \"units\": \"angstroem\"})"
      ]
    },
    {
      "cell_type": "code",
      "execution_count": null,
      "id": "killing-keyboard",
      "metadata": {
        "id": "killing-keyboard"
      },
      "outputs": [],
      "source": [
        "from BigDFT.Fragments import Fragment\n",
        "frag1 = Fragment([atm1, atm2, atm3])\n",
        "print(len(frag1))\n",
        "print(frag1.centroid)"
      ]
    },
    {
      "cell_type": "markdown",
      "id": "unable-behalf",
      "metadata": {
        "id": "unable-behalf"
      },
      "source": [
        "It's also possible to build up a fragment in a more step by step process."
      ]
    },
    {
      "cell_type": "code",
      "execution_count": null,
      "id": "burning-muscle",
      "metadata": {
        "id": "burning-muscle"
      },
      "outputs": [],
      "source": [
        "frag1 = Fragment()\n",
        "frag1.append(atm1)\n",
        "frag1 += Fragment([atm2])\n",
        "frag1.extend(Fragment([atm3]))"
      ]
    },
    {
      "cell_type": "markdown",
      "id": "danish-potato",
      "metadata": {
        "id": "danish-potato"
      },
      "source": [
        "We added the feature to translate and rotate a fragment."
      ]
    },
    {
      "cell_type": "code",
      "execution_count": null,
      "id": "pregnant-experience",
      "metadata": {
        "id": "pregnant-experience"
      },
      "outputs": [],
      "source": [
        "from copy import deepcopy\n",
        "frag2 = deepcopy(frag1)\n",
        "frag2.translate([10, 0, 0])\n",
        "frag2.rotate(x=90, units=\"degrees\")"
      ]
    },
    {
      "cell_type": "code",
      "execution_count": null,
      "id": "selective-packaging",
      "metadata": {
        "id": "selective-packaging"
      },
      "outputs": [],
      "source": [
        "print(dump(frag2))"
      ]
    },
    {
      "cell_type": "markdown",
      "id": "boxed-valuable",
      "metadata": {
        "id": "boxed-valuable"
      },
      "source": [
        "## Systems\n",
        "Many Quantum Mechanical codes top off at the list of atoms level, but in PyBigDFT we go one step further. At the top, we have the `System` class which is based on a `dict`."
      ]
    },
    {
      "cell_type": "code",
      "execution_count": null,
      "id": "common-result",
      "metadata": {
        "id": "common-result"
      },
      "outputs": [],
      "source": [
        "from BigDFT.Systems import System\n",
        "sys = System()\n",
        "sys[\"WAT:0\"] = frag1\n",
        "sys[\"WAT:1\"] = frag2"
      ]
    },
    {
      "cell_type": "code",
      "execution_count": null,
      "id": "coastal-salvation",
      "metadata": {
        "id": "coastal-salvation"
      },
      "outputs": [],
      "source": [
        "print(dump(sys))"
      ]
    },
    {
      "cell_type": "markdown",
      "id": "relevant-ottawa",
      "metadata": {
        "id": "relevant-ottawa"
      },
      "source": [
        "In principle, any dictionary key is fine to use for our `System` class, but in practice we follow the convention of giving it a name and identifier separated by a colon. To summarize the hierarchy, let's iterate over our `System`."
      ]
    },
    {
      "cell_type": "code",
      "execution_count": null,
      "id": "tropical-photography",
      "metadata": {
        "id": "tropical-photography"
      },
      "outputs": [],
      "source": [
        "for fragid, frag in sys.items():\n",
        "    print(fragid)\n",
        "    for atm in frag:\n",
        "        print(dict(atm))"
      ]
    },
    {
      "cell_type": "markdown",
      "id": "growing-madrid",
      "metadata": {
        "id": "growing-madrid"
      },
      "source": [
        "Now that we've reached the top level, let's visualize the system we have built."
      ]
    },
    {
      "cell_type": "code",
      "source": [
        "# install.packages('py3Dmol') # in case this has not been done before"
      ],
      "metadata": {
        "id": "O-pQKJK9NWI9"
      },
      "id": "O-pQKJK9NWI9",
      "execution_count": null,
      "outputs": []
    },
    {
      "cell_type": "code",
      "execution_count": null,
      "id": "liable-conclusion",
      "metadata": {
        "id": "liable-conclusion"
      },
      "outputs": [],
      "source": [
        "_ = sys.display()"
      ]
    },
    {
      "cell_type": "markdown",
      "id": "decimal-costs",
      "metadata": {
        "id": "decimal-costs"
      },
      "source": [
        "The visualization module has identified that there are two separate fragments, and colored them accordingly. Of course if we merged our fragments, the visualization would look different."
      ]
    },
    {
      "cell_type": "code",
      "execution_count": null,
      "id": "delayed-compact",
      "metadata": {
        "id": "delayed-compact"
      },
      "outputs": [],
      "source": [
        "sys2 = System()\n",
        "sys2[\"COM:0\"] = sum(sys.values())"
      ]
    },
    {
      "cell_type": "code",
      "execution_count": null,
      "id": "ethical-wiring",
      "metadata": {
        "id": "ethical-wiring"
      },
      "outputs": [],
      "source": [
        "_ = sys2.display()"
      ]
    },
    {
      "cell_type": "markdown",
      "id": "neutral-prefix",
      "metadata": {
        "id": "neutral-prefix"
      },
      "source": [
        "## Shallow Copies and Multiple Views\n",
        "It is worth recalling the copy semantics of python when dealing with complex objects."
      ]
    },
    {
      "cell_type": "code",
      "execution_count": null,
      "id": "frozen-olympus",
      "metadata": {
        "id": "frozen-olympus"
      },
      "outputs": [],
      "source": [
        "a = {\"x\": \"1\"}\n",
        "b = {\"x\": \"2\"}\n",
        "my_list = [a, b]\n",
        "print(my_list)\n",
        "a[\"x\"] = 3\n",
        "print(my_list)"
      ]
    },
    {
      "cell_type": "markdown",
      "id": "musical-return",
      "metadata": {
        "id": "musical-return"
      },
      "source": [
        "We can take advantage of this to construct multiple views of the same molecule. For example, we might want to have two separate views of the same set of atoms. In one view, we've split the set into two molecules, and the other we have just one big fragment. This might be convenient if, for example, we want to be able to rotate the entire system as a group."
      ]
    },
    {
      "cell_type": "code",
      "execution_count": null,
      "id": "wrong-breakdown",
      "metadata": {
        "id": "wrong-breakdown"
      },
      "outputs": [],
      "source": [
        "sep = deepcopy(sys)\n",
        "joint = System()\n",
        "joint[\"COM:0\"] = sum(sep.values())"
      ]
    },
    {
      "cell_type": "code",
      "execution_count": null,
      "id": "suited-waste",
      "metadata": {
        "id": "suited-waste"
      },
      "outputs": [],
      "source": [
        "joint[\"COM:0\"].rotate(y=90, units=\"degrees\")"
      ]
    },
    {
      "cell_type": "code",
      "execution_count": null,
      "id": "cultural-making",
      "metadata": {
        "id": "cultural-making"
      },
      "outputs": [],
      "source": [
        "_ = sep.display()"
      ]
    },
    {
      "cell_type": "code",
      "execution_count": null,
      "id": "clinical-profession",
      "metadata": {
        "id": "clinical-profession"
      },
      "outputs": [],
      "source": [
        "_  = joint.display()"
      ]
    },
    {
      "cell_type": "markdown",
      "id": "curious-acrobat",
      "metadata": {
        "id": "curious-acrobat"
      },
      "source": [
        "## Extended Systems\n",
        "For extended systems, the extra ingredient required is a `UnitCell`. "
      ]
    },
    {
      "cell_type": "code",
      "execution_count": null,
      "id": "proved-dining",
      "metadata": {
        "id": "proved-dining"
      },
      "outputs": [],
      "source": [
        "from BigDFT.UnitCells import UnitCell\n",
        "sys.cell = UnitCell([7.0, 7.0, 7.0], units=\"angstroem\")"
      ]
    },
    {
      "cell_type": "code",
      "execution_count": null,
      "id": "super-amount",
      "metadata": {
        "id": "super-amount"
      },
      "outputs": [],
      "source": [
        "_ = sys.display()"
      ]
    },
    {
      "cell_type": "markdown",
      "id": "experienced-worry",
      "metadata": {
        "id": "experienced-worry"
      },
      "source": [
        "We see that the minimum image convention has wrapped the red fragment around so that it is now on the left side. We can inspect this position values closer from the `Atom` class."
      ]
    },
    {
      "cell_type": "code",
      "execution_count": null,
      "id": "cooperative-vegetarian",
      "metadata": {
        "id": "cooperative-vegetarian"
      },
      "outputs": [],
      "source": [
        "for fragid, frag in sys.items():\n",
        "    print(fragid)\n",
        "    for at in frag:\n",
        "        print(at.get_position(\"angstroem\"), at.get_position(\"angstroem\", cell=sys.cell))"
      ]
    },
    {
      "cell_type": "markdown",
      "id": "democratic-italy",
      "metadata": {
        "id": "democratic-italy"
      },
      "source": [
        "We also can get accessed to fractional units this way."
      ]
    },
    {
      "cell_type": "code",
      "execution_count": null,
      "id": "partial-bunch",
      "metadata": {
        "id": "partial-bunch"
      },
      "outputs": [],
      "source": [
        "for fragid, frag in sys.items():\n",
        "    print(fragid)\n",
        "    for at in frag:\n",
        "        print(at.get_position(\"reduced\", cell=sys.cell))"
      ]
    },
    {
      "cell_type": "markdown",
      "id": "357e65fe-54fc-44c2-8367-a29a4bd1c556",
      "metadata": {
        "id": "357e65fe-54fc-44c2-8367-a29a4bd1c556"
      },
      "source": [
        "The ```sys.get_posinp()``` method provides the information written in `YAML` markup format:"
      ]
    },
    {
      "cell_type": "code",
      "execution_count": null,
      "id": "be8c3440-9f1e-44ab-8e00-fdeca6543262",
      "metadata": {
        "id": "be8c3440-9f1e-44ab-8e00-fdeca6543262"
      },
      "outputs": [],
      "source": [
        "sys.get_posinp()"
      ]
    },
    {
      "cell_type": "code",
      "source": [
        "install.close_drive()"
      ],
      "metadata": {
        "id": "6T784eS-NwKa"
      },
      "id": "6T784eS-NwKa",
      "execution_count": null,
      "outputs": []
    }
  ],
  "metadata": {
    "kernelspec": {
      "display_name": "Python 3 (ipykernel)",
      "language": "python",
      "name": "python3"
    },
    "language_info": {
      "codemirror_mode": {
        "name": "ipython",
        "version": 3
      },
      "file_extension": ".py",
      "mimetype": "text/x-python",
      "name": "python",
      "nbconvert_exporter": "python",
      "pygments_lexer": "ipython3",
      "version": "3.9.7"
    },
    "colab": {
      "provenance": []
    }
  },
  "nbformat": 4,
  "nbformat_minor": 5
}