{
  "cells": [
    {
      "cell_type": "markdown",
      "metadata": {
        "id": "N8UJPt0JXChy"
      },
      "source": [
        "# Handling the log files : solution to exercise on N2 molecule \n",
        "\n",
        "Compare the values of the HOMO and HOMO-1 eigenvalues for the LDA and the HF run.\n",
        "Change the values of the *hgrid* and *crmult* to find the converged values. Note that a thorough description of those two (essential) parameters is provided later on when studying a [CH4 molecule](./CH4.ipynb).\n",
        "\n",
        "Note that, both in the LDA and in the HF calculation, a norm-conserving PSP is used.\n",
        "\n",
        "The results can be compared to all-electron calculations, done with different basis sets, from references (units are eV)\n",
        "(1) S.&nbsp;Hamel <i>et&nbsp;al.</i> J. Electron Spectrospcopy and Related Phenomena 123 (2002) 345-363 and (2) P.&nbsp;Politzer, F.&nbsp;Abu-Awwad, Theor. Chem. Acc. (1998), 99, 83-87:\n",
        "\n",
        "eigenvalues          | LDA(1) | HF(1) | HF(2) | (Exp.)\n",
        "---------------------|--------|-------|-------|-------\n",
        "3&sigma;<sub>g</sub> | 10.36  | 17.25 | 17.31 | (15.60)\n",
        "1&pi;<sub>u</sub>    | 11.84  | 16.71 | 17.02 | (16.98)\n",
        "2&sigma;<sub>u</sub> | 13.41  | 21.25 | 21.08 | (18.78)\n",
        " \n",
        "The results depends, of course, on the precision chosen for the calculation, and of the presence of the pseudopotential.\n",
        "As it is well-known, the pseudopotential appoximation is however much less severe than the approximation induced by typical XC functionals. We might see that, even in the HF case, the presence of a LDA-based pseudopotential (of rather good quality) does not alter so much the results. \n",
        "\n",
        "Here you can find the values from BigDFT calculation using a very good precision (*hgrid=0.3*, *crmult=7.0*). \n",
        "Note that 1 Ha=27.21138386 eV.\n",
        "\n",
        "eigenvalues          | LDA    | HF\n",
        "---------------------|--------|------\n",
        "3&sigma;<sub>g</sub> | 10.41  | 16.82\n",
        "1&pi;<sub>u</sub>    | 11.88  | 17.37\n",
        "2&sigma;<sub>u</sub> | 13.42  | 21.18\n",
        "\n",
        "How much do these values differ from the calculation with default parameters? Do they converge to a given value?\n",
        "What is the *correlation* for the N2 molecule in (PSP) LDA?"
      ]
    },
    {
      "cell_type": "code",
      "source": [
        "install = \"client (Google drive)\" #@param [\"full_suite\", \"client (Google drive)\", \"client\"]\n",
        "install_var=install\n",
        "!wget https://gitlab.com/luigigenovese/bigdft-school/-/raw/main/packaging/install.py &> /dev/null\n",
        "args={'locally': True} if install == 'client' else {}\n",
        "import install\n",
        "getattr(install,install_var.split()[0])(**args)"
      ],
      "metadata": {
        "cellView": "form",
        "id": "NT1p6RAbXZrB",
        "outputId": "ec679ffd-8a2a-4b84-a3ce-d4aa9b6ec94c",
        "colab": {
          "base_uri": "https://localhost:8080/"
        }
      },
      "execution_count": 1,
      "outputs": [
        {
          "output_type": "stream",
          "name": "stdout",
          "text": [
            "Mounted at /content/drive\n",
            "Executing: mkdir -p /content/drive/MyDrive\n",
            "\n",
            "Executing: git clone --depth 1 https://github.com/BigDFT-group/bigdft-school\n",
            "Error Occurred:  \n",
            " fatal: destination path 'bigdft-school' already exists and is not an empty directory.\n",
            "\n",
            "Executing: mkdir -p /content/drive/MyDrive/bigdft-school\n",
            "\n"
          ]
        }
      ]
    },
    {
      "cell_type": "code",
      "source": [
        "install.data('data/session1.tar.xz')"
      ],
      "metadata": {
        "id": "IcsijgQ-XhbA",
        "outputId": "e3723808-34d5-47fa-e97c-9db2dc09f9a7",
        "colab": {
          "base_uri": "https://localhost:8080/"
        }
      },
      "execution_count": 21,
      "outputs": [
        {
          "output_type": "stream",
          "name": "stdout",
          "text": [
            "\n"
          ]
        }
      ]
    },
    {
      "cell_type": "code",
      "execution_count": 3,
      "metadata": {
        "id": "L0w7Iy_JXCh4"
      },
      "outputs": [],
      "source": [
        "from BigDFT.Systems import System\n",
        "from BigDFT.Fragments import Fragment\n",
        "from BigDFT.IO import XYZReader\n",
        "\n",
        "N2 = System()\n",
        "with XYZReader(\"N2\") as ifile:\n",
        "    N2[\"N:0\"] = Fragment(xyzfile=ifile)"
      ]
    },
    {
      "cell_type": "code",
      "execution_count": 23,
      "metadata": {
        "id": "GyS1QNhYXCh6"
      },
      "outputs": [],
      "source": [
        "from BigDFT.Calculators import SystemCalculator\n",
        "from BigDFT.Logfiles import Logfile\n",
        "from BigDFT.Inputfiles import Inputfile\n",
        "\n",
        "HtoeV = 27.21138386 #Conversion Hartree to meV\n",
        "\n",
        "inp = Inputfile()\n",
        "inp['psppar.N']={'Pseudopotential XC': 1}\n",
        "study = SystemCalculator(skip=True, verbose=False) #Create a calculator\n",
        "\n",
        "#Run the code with the name scheme LDA\n",
        "inp.set_xc('LDA')\n",
        "LDA = study.run(input=inp, name=\"LDA\",posinp=N2.get_posinp(), run_dir=\"scratch\") \n",
        "\n",
        "#Run the code with the name scheme HF\n",
        "inp.set_xc('HF')\n",
        "HF = study.run(input=inp, name=\"HF\",posinp=N2.get_posinp(), run_dir=\"scratch\")\n",
        "\n",
        "#Run the code with the name scheme HF \n",
        "inp.set_xc('PBE0')\n",
        "PBE0 = study.run(input=inp, name=\"PBE0\",posinp=N2.get_posinp(), run_dir=\"scratch\") "
      ]
    },
    {
      "cell_type": "markdown",
      "metadata": {
        "id": "-VHirpaXXCh8"
      },
      "source": [
        "The variables *first*, *LDA*, *HF* and *PBE0* are instances of the class *BigDFT.Logfiles.Logfile* which contain all information as the total energy.\n",
        "We should also use directly this call loading the corresponding output file as"
      ]
    },
    {
      "cell_type": "code",
      "execution_count": 24,
      "metadata": {
        "id": "cOHfdisPXCh8"
      },
      "outputs": [],
      "source": [
        "PBE0 = Logfile(\"scratch/log-PBE0.yaml\")"
      ]
    },
    {
      "cell_type": "markdown",
      "metadata": {
        "id": "LlEmrzgKXCh9"
      },
      "source": [
        "We compare the values for LDA and HF."
      ]
    },
    {
      "cell_type": "code",
      "execution_count": 25,
      "metadata": {
        "id": "MAz-ncbAXCh9",
        "outputId": "d6ab6911-4d2a-44a2-c407-cd66e358d058",
        "colab": {
          "base_uri": "https://localhost:8080/",
          "height": 143
        }
      },
      "outputs": [
        {
          "output_type": "display_data",
          "data": {
            "text/plain": [
              "   eigenvalues    LDA     HF\n",
              "0  3$\\sigma_g$ -10.39 -16.80\n",
              "1     1$\\pi_u$ -11.86 -17.36\n",
              "2  2$\\sigma_u$ -13.41 -21.17"
            ],
            "text/html": [
              "\n",
              "  <div id=\"df-8cc34990-747b-4077-8419-6e7ff186c727\">\n",
              "    <div class=\"colab-df-container\">\n",
              "      <div>\n",
              "<style scoped>\n",
              "    .dataframe tbody tr th:only-of-type {\n",
              "        vertical-align: middle;\n",
              "    }\n",
              "\n",
              "    .dataframe tbody tr th {\n",
              "        vertical-align: top;\n",
              "    }\n",
              "\n",
              "    .dataframe thead th {\n",
              "        text-align: right;\n",
              "    }\n",
              "</style>\n",
              "<table border=\"1\" class=\"dataframe\">\n",
              "  <thead>\n",
              "    <tr style=\"text-align: right;\">\n",
              "      <th></th>\n",
              "      <th>eigenvalues</th>\n",
              "      <th>LDA</th>\n",
              "      <th>HF</th>\n",
              "    </tr>\n",
              "  </thead>\n",
              "  <tbody>\n",
              "    <tr>\n",
              "      <th>0</th>\n",
              "      <td>3$\\sigma_g$</td>\n",
              "      <td>-10.39</td>\n",
              "      <td>-16.80</td>\n",
              "    </tr>\n",
              "    <tr>\n",
              "      <th>1</th>\n",
              "      <td>1$\\pi_u$</td>\n",
              "      <td>-11.86</td>\n",
              "      <td>-17.36</td>\n",
              "    </tr>\n",
              "    <tr>\n",
              "      <th>2</th>\n",
              "      <td>2$\\sigma_u$</td>\n",
              "      <td>-13.41</td>\n",
              "      <td>-21.17</td>\n",
              "    </tr>\n",
              "  </tbody>\n",
              "</table>\n",
              "</div>\n",
              "      <button class=\"colab-df-convert\" onclick=\"convertToInteractive('df-8cc34990-747b-4077-8419-6e7ff186c727')\"\n",
              "              title=\"Convert this dataframe to an interactive table.\"\n",
              "              style=\"display:none;\">\n",
              "        \n",
              "  <svg xmlns=\"http://www.w3.org/2000/svg\" height=\"24px\"viewBox=\"0 0 24 24\"\n",
              "       width=\"24px\">\n",
              "    <path d=\"M0 0h24v24H0V0z\" fill=\"none\"/>\n",
              "    <path d=\"M18.56 5.44l.94 2.06.94-2.06 2.06-.94-2.06-.94-.94-2.06-.94 2.06-2.06.94zm-11 1L8.5 8.5l.94-2.06 2.06-.94-2.06-.94L8.5 2.5l-.94 2.06-2.06.94zm10 10l.94 2.06.94-2.06 2.06-.94-2.06-.94-.94-2.06-.94 2.06-2.06.94z\"/><path d=\"M17.41 7.96l-1.37-1.37c-.4-.4-.92-.59-1.43-.59-.52 0-1.04.2-1.43.59L10.3 9.45l-7.72 7.72c-.78.78-.78 2.05 0 2.83L4 21.41c.39.39.9.59 1.41.59.51 0 1.02-.2 1.41-.59l7.78-7.78 2.81-2.81c.8-.78.8-2.07 0-2.86zM5.41 20L4 18.59l7.72-7.72 1.47 1.35L5.41 20z\"/>\n",
              "  </svg>\n",
              "      </button>\n",
              "      \n",
              "  <style>\n",
              "    .colab-df-container {\n",
              "      display:flex;\n",
              "      flex-wrap:wrap;\n",
              "      gap: 12px;\n",
              "    }\n",
              "\n",
              "    .colab-df-convert {\n",
              "      background-color: #E8F0FE;\n",
              "      border: none;\n",
              "      border-radius: 50%;\n",
              "      cursor: pointer;\n",
              "      display: none;\n",
              "      fill: #1967D2;\n",
              "      height: 32px;\n",
              "      padding: 0 0 0 0;\n",
              "      width: 32px;\n",
              "    }\n",
              "\n",
              "    .colab-df-convert:hover {\n",
              "      background-color: #E2EBFA;\n",
              "      box-shadow: 0px 1px 2px rgba(60, 64, 67, 0.3), 0px 1px 3px 1px rgba(60, 64, 67, 0.15);\n",
              "      fill: #174EA6;\n",
              "    }\n",
              "\n",
              "    [theme=dark] .colab-df-convert {\n",
              "      background-color: #3B4455;\n",
              "      fill: #D2E3FC;\n",
              "    }\n",
              "\n",
              "    [theme=dark] .colab-df-convert:hover {\n",
              "      background-color: #434B5C;\n",
              "      box-shadow: 0px 1px 3px 1px rgba(0, 0, 0, 0.15);\n",
              "      filter: drop-shadow(0px 1px 2px rgba(0, 0, 0, 0.3));\n",
              "      fill: #FFFFFF;\n",
              "    }\n",
              "  </style>\n",
              "\n",
              "      <script>\n",
              "        const buttonEl =\n",
              "          document.querySelector('#df-8cc34990-747b-4077-8419-6e7ff186c727 button.colab-df-convert');\n",
              "        buttonEl.style.display =\n",
              "          google.colab.kernel.accessAllowed ? 'block' : 'none';\n",
              "\n",
              "        async function convertToInteractive(key) {\n",
              "          const element = document.querySelector('#df-8cc34990-747b-4077-8419-6e7ff186c727');\n",
              "          const dataTable =\n",
              "            await google.colab.kernel.invokeFunction('convertToInteractive',\n",
              "                                                     [key], {});\n",
              "          if (!dataTable) return;\n",
              "\n",
              "          const docLinkHtml = 'Like what you see? Visit the ' +\n",
              "            '<a target=\"_blank\" href=https://colab.research.google.com/notebooks/data_table.ipynb>data table notebook</a>'\n",
              "            + ' to learn more about interactive tables.';\n",
              "          element.innerHTML = '';\n",
              "          dataTable['output_type'] = 'display_data';\n",
              "          await google.colab.output.renderOutput(dataTable, element);\n",
              "          const docLink = document.createElement('div');\n",
              "          docLink.innerHTML = docLinkHtml;\n",
              "          element.appendChild(docLink);\n",
              "        }\n",
              "      </script>\n",
              "    </div>\n",
              "  </div>\n",
              "  "
            ]
          },
          "metadata": {}
        }
      ],
      "source": [
        "from pandas import DataFrame, options\n",
        "\n",
        "df = DataFrame(columns=[\"eigenvalues\", \"LDA\", \"HF\"])\n",
        "options.display.float_format = '{:,.2f}'.format\n",
        "\n",
        "lda_evals = LDA.evals[0][0]\n",
        "hf_evals = HF.evals[0][0]\n",
        "\n",
        "df.loc[0] = [\"3$\\sigma_g$\", lda_evals[-1]*HtoeV, hf_evals[-1]*HtoeV]\n",
        "df.loc[1] = [\"1$\\pi_u$\", lda_evals[-3]*HtoeV, hf_evals[-3]*HtoeV]\n",
        "df.loc[2] = [\"2$\\sigma_u$\", lda_evals[-4]*HtoeV, hf_evals[-4]*HtoeV]\n",
        "\n",
        "display(df)"
      ]
    },
    {
      "cell_type": "markdown",
      "metadata": {
        "id": "XHdwVI6QXCh_"
      },
      "source": [
        "## Modifications of the calculation parameters\n",
        "Then we do a convergence curve varying *hgrid* which controls the grid step of the Daubechies basis set and *crmult* the extension. The default values are:"
      ]
    },
    {
      "cell_type": "code",
      "execution_count": 26,
      "metadata": {
        "id": "I7mZJEsmXCiA",
        "outputId": "21209734-88a4-428f-8f2b-7d9152b02bc6",
        "colab": {
          "base_uri": "https://localhost:8080/"
        }
      },
      "outputs": [
        {
          "output_type": "stream",
          "name": "stdout",
          "text": [
            "hgrids [0.45, 0.45, 0.45]\n",
            "rmult [5.0, 8.0]\n"
          ]
        }
      ],
      "source": [
        "print('hgrids',LDA.log['dft']['hgrids'])\n",
        "print('rmult',LDA.log['dft']['rmult'])"
      ]
    },
    {
      "cell_type": "markdown",
      "metadata": {
        "id": "rGIeWV12XCiA"
      },
      "source": [
        "*hgrids* is an array of 3 values for the x, y, and z direction. A simple scalar can be indicated for the input.\n",
        "*rmult* is composed into two multiplied factors, one for the coarse grid, and the second one for the fine grid.\n",
        "We build our script for LDA and run it (on one core, it takes 10 minutes roughly for all calculations)."
      ]
    },
    {
      "cell_type": "code",
      "execution_count": 28,
      "metadata": {
        "id": "rohMzNqyXCiB"
      },
      "outputs": [],
      "source": [
        "Hgrids = [0.45, 0.40, 0.35, 0.30, 0.25]\n",
        "Crmult = [3.0, 5.0, 7.0, 9.0]\n",
        "log_LDA = {}\n",
        "\n",
        "inp.set_xc('LDA')\n",
        "\n",
        "emin_LDA = 0.0\n",
        "for crmult in Crmult:\n",
        "    log_LDA[crmult] = []\n",
        "    for hgrid in Hgrids:\n",
        "        inp.set_hgrid(hgrid)\n",
        "        inp['dft']['rmult'] = [ crmult, 8.0]\n",
        "        name = \"LDA-%4.2f-%04.1f\" % (hgrid,crmult)\n",
        "        log = study.run(input=inp, name=name, posinp=N2.get_posinp(), run_dir=\"scratch\")\n",
        "        log_LDA[crmult].append( log )\n",
        "        emin_LDA =min(emin_LDA,log.energy)"
      ]
    },
    {
      "cell_type": "markdown",
      "metadata": {
        "id": "FDSgWhG0XCiC"
      },
      "source": [
        "We do the same loops to run the Hartree-Fock calculations."
      ]
    },
    {
      "cell_type": "code",
      "execution_count": 29,
      "metadata": {
        "id": "Z3G0e-7dXCiC"
      },
      "outputs": [],
      "source": [
        "log_HF = {}\n",
        "inp.set_xc(\"HF\")\n",
        "\n",
        "emin_HF = 0.0\n",
        "for crmult in Crmult:\n",
        "    log_HF[crmult] = []\n",
        "    for hgrid in Hgrids:\n",
        "        inp.set_hgrid(hgrid)\n",
        "        inp['dft']['rmult'] = [ crmult, 8.0]\n",
        "        name = \"HF-%4.2f-%04.1f\" % (hgrid,crmult)\n",
        "        log = study.run(input=inp, name=name, posinp=N2.get_posinp(), run_dir=\"scratch\")\n",
        "        log_HF[crmult].append(log)\n",
        "        emin_HF = min(emin_HF,log.energy)"
      ]
    },
    {
      "cell_type": "code",
      "execution_count": 30,
      "metadata": {
        "id": "EzxBMjF_XCiC",
        "outputId": "8645f5e6-0d56-406c-ea2a-cdd92a278dd2",
        "colab": {
          "base_uri": "https://localhost:8080/",
          "height": 458
        }
      },
      "outputs": [
        {
          "output_type": "display_data",
          "data": {
            "text/plain": [
              "<Figure size 1080x504 with 1 Axes>"
            ],
            "image/png": "[encoded data removed]"
          },
          "metadata": {
            "needs_background": "light"
          }
        }
      ],
      "source": [
        "import matplotlib.pyplot as plt\n",
        "import numpy as np\n",
        "# Lists of markers and colors (for matplotlib)\n",
        "colors = ['#74a9cf', '#2b8cbe', '#045a8d', '#009900', '#FF8000']\n",
        "colors = ['#000000', '#ff0000', '#045a8d', '#009900', '#FF8000']\n",
        "markers = ['o','s','d','d','d']\n",
        "\n",
        "plt.figure(figsize=(15,7))\n",
        "# Plot with matplotlib\n",
        "for i,crmult in enumerate(Crmult):\n",
        "    im = i%len(colors)\n",
        "    ener = [ HtoeV*(l.energy-emin_LDA) for l in log_LDA[crmult] ]\n",
        "    plt.plot(Hgrids, ener, marker=markers[im], \n",
        "             ls='-', label=str(crmult),color=colors[im])  \n",
        "\n",
        "plt.yscale('log')\n",
        "plt.xlabel('Grid step (Bohr)')\n",
        "plt.ylabel('Total energy $\\Delta E$ (eV)')\n",
        "plt.title('Dissociation energy of the N2 dimer for different rmult')\n",
        "plt.legend(loc=4)\n",
        "plt.show()"
      ]
    },
    {
      "cell_type": "markdown",
      "metadata": {
        "id": "BZqniEfVXCiE"
      },
      "source": [
        "In order to converge the result, you need to decrease the grid step and also increase the extension of the mesh. For a given *crmult*, the curve are almost flat. For a *hgrid* value of of 0.35, there is few difference between the values with *crmult*=5.0 and 7.0 but for a *hgrid* value of 0.20 it is important. Now we give the HOMO-1 and HOMO eigenvalues both for LDA and HF functionals"
      ]
    },
    {
      "cell_type": "code",
      "execution_count": 32,
      "metadata": {
        "id": "6VmIRruZXCiE",
        "outputId": "d0a8ed70-5389-436f-ca7d-2a871275b09b",
        "colab": {
          "base_uri": "https://localhost:8080/",
          "height": 206
        }
      },
      "outputs": [
        {
          "output_type": "display_data",
          "data": {
            "text/plain": [
              "    LDA    HF\n",
              "0 10.41 16.82\n",
              "1 11.88 16.82\n",
              "2 11.88 17.37\n",
              "3 13.42 21.18\n",
              "4 28.35 40.21"
            ],
            "text/html": [
              "\n",
              "  <div id=\"df-be5631a8-b788-4f62-9679-7e544a5cc9d7\">\n",
              "    <div class=\"colab-df-container\">\n",
              "      <div>\n",
              "<style scoped>\n",
              "    .dataframe tbody tr th:only-of-type {\n",
              "        vertical-align: middle;\n",
              "    }\n",
              "\n",
              "    .dataframe tbody tr th {\n",
              "        vertical-align: top;\n",
              "    }\n",
              "\n",
              "    .dataframe thead th {\n",
              "        text-align: right;\n",
              "    }\n",
              "</style>\n",
              "<table border=\"1\" class=\"dataframe\">\n",
              "  <thead>\n",
              "    <tr style=\"text-align: right;\">\n",
              "      <th></th>\n",
              "      <th>LDA</th>\n",
              "      <th>HF</th>\n",
              "    </tr>\n",
              "  </thead>\n",
              "  <tbody>\n",
              "    <tr>\n",
              "      <th>0</th>\n",
              "      <td>10.41</td>\n",
              "      <td>16.82</td>\n",
              "    </tr>\n",
              "    <tr>\n",
              "      <th>1</th>\n",
              "      <td>11.88</td>\n",
              "      <td>16.82</td>\n",
              "    </tr>\n",
              "    <tr>\n",
              "      <th>2</th>\n",
              "      <td>11.88</td>\n",
              "      <td>17.37</td>\n",
              "    </tr>\n",
              "    <tr>\n",
              "      <th>3</th>\n",
              "      <td>13.42</td>\n",
              "      <td>21.18</td>\n",
              "    </tr>\n",
              "    <tr>\n",
              "      <th>4</th>\n",
              "      <td>28.35</td>\n",
              "      <td>40.21</td>\n",
              "    </tr>\n",
              "  </tbody>\n",
              "</table>\n",
              "</div>\n",
              "      <button class=\"colab-df-convert\" onclick=\"convertToInteractive('df-be5631a8-b788-4f62-9679-7e544a5cc9d7')\"\n",
              "              title=\"Convert this dataframe to an interactive table.\"\n",
              "              style=\"display:none;\">\n",
              "        \n",
              "  <svg xmlns=\"http://www.w3.org/2000/svg\" height=\"24px\"viewBox=\"0 0 24 24\"\n",
              "       width=\"24px\">\n",
              "    <path d=\"M0 0h24v24H0V0z\" fill=\"none\"/>\n",
              "    <path d=\"M18.56 5.44l.94 2.06.94-2.06 2.06-.94-2.06-.94-.94-2.06-.94 2.06-2.06.94zm-11 1L8.5 8.5l.94-2.06 2.06-.94-2.06-.94L8.5 2.5l-.94 2.06-2.06.94zm10 10l.94 2.06.94-2.06 2.06-.94-2.06-.94-.94-2.06-.94 2.06-2.06.94z\"/><path d=\"M17.41 7.96l-1.37-1.37c-.4-.4-.92-.59-1.43-.59-.52 0-1.04.2-1.43.59L10.3 9.45l-7.72 7.72c-.78.78-.78 2.05 0 2.83L4 21.41c.39.39.9.59 1.41.59.51 0 1.02-.2 1.41-.59l7.78-7.78 2.81-2.81c.8-.78.8-2.07 0-2.86zM5.41 20L4 18.59l7.72-7.72 1.47 1.35L5.41 20z\"/>\n",
              "  </svg>\n",
              "      </button>\n",
              "      \n",
              "  <style>\n",
              "    .colab-df-container {\n",
              "      display:flex;\n",
              "      flex-wrap:wrap;\n",
              "      gap: 12px;\n",
              "    }\n",
              "\n",
              "    .colab-df-convert {\n",
              "      background-color: #E8F0FE;\n",
              "      border: none;\n",
              "      border-radius: 50%;\n",
              "      cursor: pointer;\n",
              "      display: none;\n",
              "      fill: #1967D2;\n",
              "      height: 32px;\n",
              "      padding: 0 0 0 0;\n",
              "      width: 32px;\n",
              "    }\n",
              "\n",
              "    .colab-df-convert:hover {\n",
              "      background-color: #E2EBFA;\n",
              "      box-shadow: 0px 1px 2px rgba(60, 64, 67, 0.3), 0px 1px 3px 1px rgba(60, 64, 67, 0.15);\n",
              "      fill: #174EA6;\n",
              "    }\n",
              "\n",
              "    [theme=dark] .colab-df-convert {\n",
              "      background-color: #3B4455;\n",
              "      fill: #D2E3FC;\n",
              "    }\n",
              "\n",
              "    [theme=dark] .colab-df-convert:hover {\n",
              "      background-color: #434B5C;\n",
              "      box-shadow: 0px 1px 3px 1px rgba(0, 0, 0, 0.15);\n",
              "      filter: drop-shadow(0px 1px 2px rgba(0, 0, 0, 0.3));\n",
              "      fill: #FFFFFF;\n",
              "    }\n",
              "  </style>\n",
              "\n",
              "      <script>\n",
              "        const buttonEl =\n",
              "          document.querySelector('#df-be5631a8-b788-4f62-9679-7e544a5cc9d7 button.colab-df-convert');\n",
              "        buttonEl.style.display =\n",
              "          google.colab.kernel.accessAllowed ? 'block' : 'none';\n",
              "\n",
              "        async function convertToInteractive(key) {\n",
              "          const element = document.querySelector('#df-be5631a8-b788-4f62-9679-7e544a5cc9d7');\n",
              "          const dataTable =\n",
              "            await google.colab.kernel.invokeFunction('convertToInteractive',\n",
              "                                                     [key], {});\n",
              "          if (!dataTable) return;\n",
              "\n",
              "          const docLinkHtml = 'Like what you see? Visit the ' +\n",
              "            '<a target=\"_blank\" href=https://colab.research.google.com/notebooks/data_table.ipynb>data table notebook</a>'\n",
              "            + ' to learn more about interactive tables.';\n",
              "          element.innerHTML = '';\n",
              "          dataTable['output_type'] = 'display_data';\n",
              "          await google.colab.output.renderOutput(dataTable, element);\n",
              "          const docLink = document.createElement('div');\n",
              "          docLink.innerHTML = docLinkHtml;\n",
              "          element.appendChild(docLink);\n",
              "        }\n",
              "      </script>\n",
              "    </div>\n",
              "  </div>\n",
              "  "
            ]
          },
          "metadata": {}
        }
      ],
      "source": [
        "ih = Hgrids.index(0.3)\n",
        "lda_evals = log_LDA[7.0][ih].evals[0][0]\n",
        "hf_evals = log_HF[7.0][ih].evals[0][0]\n",
        "    \n",
        "df = DataFrame(columns=[\"LDA\", \"HF\"])\n",
        "for idx, (l,h) in enumerate(zip(reversed(lda_evals),reversed(hf_evals))):\n",
        "    df.loc[idx] = [-HtoeV*l, -HtoeV*h]\n",
        "    \n",
        "display(df)"
      ]
    }
  ],
  "metadata": {
    "kernelspec": {
      "display_name": "Python 3 (ipykernel)",
      "language": "python",
      "name": "python3"
    },
    "language_info": {
      "codemirror_mode": {
        "name": "ipython",
        "version": 3
      },
      "file_extension": ".py",
      "mimetype": "text/x-python",
      "name": "python",
      "nbconvert_exporter": "python",
      "pygments_lexer": "ipython3",
      "version": "3.7.12"
    },
    "colab": {
      "provenance": []
    }
  },
  "nbformat": 4,
  "nbformat_minor": 0
}