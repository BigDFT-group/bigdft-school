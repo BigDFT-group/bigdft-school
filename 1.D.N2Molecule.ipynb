{
 "cells": [
  {
   "cell_type": "markdown",
   "metadata": {},
   "source": [
    "# Basics of BigDFT: N2 molecule as example\n",
    "\n",
    "This is a simple notebook that shows how to execute a simple calculation with BigDFT.\n",
    "You will learn how to manipulate basic DFT objects from a python script."
   ]
  },
  {
   "cell_type": "markdown",
   "metadata": {},
   "source": [
    "## How to perform a first run with default parameters\n",
    "\n",
    "For this tutorial, we will run just a simple N2 molecule, taken from the BigDFT database (available [here](https://gitlab.com/l_sim/bigdft-suite/-/tree/devel/PyBigDFT/BigDFT/Database/XYZs))."
   ]
  },
  {
   "cell_type": "code",
   "execution_count": 1,
   "metadata": {},
   "outputs": [],
   "source": [
    "from BigDFT.Systems import System\n",
    "from BigDFT.Fragments import Fragment\n",
    "from BigDFT.IO import XYZReader\n",
    "\n",
    "N2 = System()\n",
    "with XYZReader(\"N2\") as ifile:\n",
    "    N2[\"N:0\"] = Fragment([next(ifile)])\n",
    "    N2[\"N:1\"] = Fragment([next(ifile)])"
   ]
  },
  {
   "cell_type": "markdown",
   "metadata": {},
   "source": [
    "Every system object has a `posinp` representation, which is a dictionary representation of the geometry. We will use this representation later."
   ]
  },
  {
   "cell_type": "code",
   "execution_count": 2,
   "metadata": {},
   "outputs": [
    {
     "name": "stdout",
     "output_type": "stream",
     "text": [
      "{'positions': [{'N': [0.0, 0.0, 0.5488], 'frag': ['N', '0']}, {'N': [0.0, 0.0, -0.5488], 'frag': ['N', '1']}], 'units': 'angstroem', 'cell': [inf, inf, inf]}\n"
     ]
    }
   ],
   "source": [
    "print(N2.get_posinp())"
   ]
  },
  {
   "cell_type": "markdown",
   "metadata": {},
   "source": [
    "We now run the DFT calculation (with the default input parameters) of this molecule.\n",
    "This can be done by instantiating a class from the `Calculators` module. Then we call the run method of that calculator with the `posinp` of N2 as a parameter."
   ]
  },
  {
   "cell_type": "code",
   "execution_count": 4,
   "metadata": {},
   "outputs": [],
   "source": [
    "from BigDFT import Calculators as C\n",
    "from os import environ\n",
    "environ['I_MPI_FABRICS']='shm'\n",
    "study = C.SystemCalculator(verbose=False) #Create a calculator\n",
    "log = study.run(posinp=N2.get_posinp(),name=\"N2\") #run the code"
   ]
  },
  {
   "cell_type": "markdown",
   "metadata": {},
   "source": [
    "The `run` method of the `BigDFT.Calculators.SystemCalculator` class shows in the standard output which is the \n",
    "command that is invoked.\n",
    "Then, an instance of the `Logfile` class is returned.\n",
    "Such class can be used (we will see after) to extract the information about the electronic structure of the system."
   ]
  },
  {
   "cell_type": "markdown",
   "metadata": {},
   "source": [
    "Now we can retrieve important informations on the run. See the examples below:"
   ]
  },
  {
   "cell_type": "code",
   "execution_count": 5,
   "metadata": {},
   "outputs": [
    {
     "data": {
      "text/plain": [
       "-19.884615273244822"
      ]
     },
     "execution_count": 5,
     "metadata": {},
     "output_type": "execute_result"
    }
   ],
   "source": [
    "log.energy #this value is in Ha"
   ]
  },
  {
   "cell_type": "code",
   "execution_count": 6,
   "metadata": {},
   "outputs": [
    {
     "data": {
      "text/plain": [
       "[[-1.041353673208,\n",
       "  -0.4926440819324,\n",
       "  -0.4357815638016,\n",
       "  -0.4357812404171,\n",
       "  -0.3818323179544]]"
      ]
     },
     "execution_count": 6,
     "metadata": {},
     "output_type": "execute_result"
    }
   ],
   "source": [
    "log.evals[0].tolist() # the eigenvalues in Ha ([0] stands for the first K-point, here meaningless)"
   ]
  },
  {
   "cell_type": "code",
   "execution_count": 7,
   "metadata": {},
   "outputs": [
    {
     "data": {
      "text/plain": [
       "<matplotlib.axes._subplots.AxesSubplot at 0x153189d2b040>"
      ]
     },
     "execution_count": 7,
     "metadata": {},
     "output_type": "execute_result"
    },
    {
     "data": {
      "image/png": "[encoded data removed]",
      "text/plain": [
       "<Figure size 640x480 with 1 Axes>"
      ]
     },
     "metadata": {},
     "output_type": "display_data"
    }
   ],
   "source": [
    "log.get_dos().plot() #the density of states"
   ]
  },
  {
   "cell_type": "markdown",
   "metadata": {},
   "source": [
    "The tutorial [DoS Manipulation](./DoS-Manipulation.ipynb) can be followed to learn how to plot Density of States from a Logfile"
   ]
  },
  {
   "cell_type": "markdown",
   "metadata": {},
   "source": [
    "## How to use the SystemCalculator instance \n",
    "\n",
    "Before managing different calculations at once, let us look closer at the `SystemCalculator` that was presented above."
   ]
  },
  {
   "cell_type": "code",
   "execution_count": 8,
   "metadata": {},
   "outputs": [],
   "source": [
    "study = C.SystemCalculator(verbose=False,omp=1,mpi_run='mpirun -np 2')"
   ]
  },
  {
   "cell_type": "markdown",
   "metadata": {},
   "source": [
    "As you can see, initiating an instance allows to set the computational parameters such as the OpenMP and MPI parallelisation. In this case, a single thread is used while two processes are running in parallel, therefore reducing the computation time. \n",
    "The global options of the runner (or calculator) can then be accessed by "
   ]
  },
  {
   "cell_type": "code",
   "execution_count": 9,
   "metadata": {},
   "outputs": [
    {
     "data": {
      "text/plain": [
       "{'omp': '1',\n",
       " 'mpi_run': 'mpirun -np 2',\n",
       " 'dry_run': False,\n",
       " 'skip': False,\n",
       " 'verbose': False}"
      ]
     },
     "execution_count": 9,
     "metadata": {},
     "output_type": "execute_result"
    }
   ],
   "source": [
    "study.global_options()"
   ]
  },
  {
   "cell_type": "markdown",
   "metadata": {},
   "source": [
    "Global options can be also added and removed as follows"
   ]
  },
  {
   "cell_type": "code",
   "execution_count": 10,
   "metadata": {},
   "outputs": [
    {
     "data": {
      "text/plain": [
       "{'omp': '1',\n",
       " 'mpi_run': 'mpirun -np 2',\n",
       " 'dry_run': False,\n",
       " 'skip': False,\n",
       " 'verbose': False,\n",
       " 'new_option': 'value'}"
      ]
     },
     "execution_count": 10,
     "metadata": {},
     "output_type": "execute_result"
    }
   ],
   "source": [
    "study.update_global_options(new_option = 'value')\n",
    "study.global_options()"
   ]
  },
  {
   "cell_type": "markdown",
   "metadata": {},
   "source": [
    "Similarly, global options can also be removed"
   ]
  },
  {
   "cell_type": "code",
   "execution_count": 11,
   "metadata": {},
   "outputs": [
    {
     "data": {
      "text/plain": [
       "{'omp': '1',\n",
       " 'mpi_run': 'mpirun -np 2',\n",
       " 'dry_run': False,\n",
       " 'skip': False,\n",
       " 'verbose': False}"
      ]
     },
     "execution_count": 11,
     "metadata": {},
     "output_type": "execute_result"
    }
   ],
   "source": [
    "study.pop_global_option('new_option')\n",
    "study.global_options()"
   ]
  },
  {
   "cell_type": "markdown",
   "metadata": {},
   "source": [
    "Lastly, note that PyBigDFT also enables to run workflows remotely, as explained in this [tutorial](./RemoteRunner.ipynb)."
   ]
  },
  {
   "cell_type": "markdown",
   "metadata": {},
   "source": [
    "## How to modify the input parameters from the default ones\n",
    "\n",
    "To specify non-default input parameters to the code, we should employ a `Inputfile` object. One can choose a naming prefix for a run, which enables to classify the runs which are performed, and ease the subsequent postprocessing.\n",
    "\n",
    "Methods of the class can be employed for modifying the input parameters. For instance, the XC functional can be chosen via the `set_xc` method.\n",
    "Imagine for example that you are interested in visualizing the wavefunctions output of the calculation. To do that, the suitable method of the class instance should be called.\n",
    "Create a new calculation set by using, for instance, the `LDA` prefix."
   ]
  },
  {
   "cell_type": "code",
   "execution_count": 12,
   "metadata": {},
   "outputs": [],
   "source": [
    "from BigDFT import Inputfiles as I\n",
    "\n",
    "inp = I.Inputfile()\n",
    "inp.set_xc('LDA')\n",
    "inp.write_orbitals_on_disk()"
   ]
  },
  {
   "cell_type": "markdown",
   "metadata": {},
   "source": [
    "The wavefunctions will be present at the end of calculation, by indicating the value of the key *orbitals* in the output dictionary."
   ]
  },
  {
   "cell_type": "code",
   "execution_count": 13,
   "metadata": {},
   "outputs": [],
   "source": [
    "#Run the code with the LDA prefix\n",
    "LDA = study.run(name=\"LDA\",input=inp,posinp=N2.get_posinp())"
   ]
  },
  {
   "cell_type": "markdown",
   "metadata": {},
   "source": [
    "When using a naming scheme, the output files are placed in a directory called  **data-LDA**. In our LDA example, the wavefunctions of the system can thus be found in the **data-LDA** directory:"
   ]
  },
  {
   "cell_type": "code",
   "execution_count": 14,
   "metadata": {},
   "outputs": [
    {
     "name": "stdout",
     "output_type": "stream",
     "text": [
      "time-LDA.yaml\t\t\t  wavefunction-k001-NR.bin.b000004\n",
      "wavefunction-k001-NR.bin.b000001  wavefunction-k001-NR.bin.b000005\n",
      "wavefunction-k001-NR.bin.b000002  wavefunction-rhoij.bin\n",
      "wavefunction-k001-NR.bin.b000003\n"
     ]
    }
   ],
   "source": [
    "!ls data-LDA"
   ]
  },
  {
   "cell_type": "markdown",
   "metadata": {},
   "source": [
    "Here 001 means the first K-point (meaningless in this case), N stands for non spin-polarized, R for real part and the remaining number is the orbital ID. Post-processing of these files is done in the another tutorial.\n",
    "\n",
    "In the same spirit, another calculation can be done with different parameters. Imagine we want to perform a Hartree-Fock calculation.\n",
    "We should simply change the XC functional used. However, we also have to specify the pseudopotential."
   ]
  },
  {
   "cell_type": "code",
   "execution_count": 15,
   "metadata": {},
   "outputs": [],
   "source": [
    "inp.set_xc('HF')\n",
    "inp['psppar.N']={'Pseudopotential XC': 1} #this set the default PSP for LDA\n",
    "HF = study.run(name=\"HF\",input=inp) #Run the code with the name scheme HF"
   ]
  },
  {
   "cell_type": "markdown",
   "metadata": {},
   "source": [
    "Without specifying the PSP, an error will occur. The same error is specified at the end of the log file, \n",
    "and also in [debug/bigdft-err-0.yaml](./debug/bigdft-err-0.yaml):\n",
    "<pre>\n",
    " Additional Info:\n",
    "   The pseudopotential parameter file \"psppar.N\" is lacking, and no registered pseudo found \n",
    "   for \"N\"</pre>"
   ]
  },
  {
   "cell_type": "markdown",
   "metadata": {},
   "source": [
    "This is because the pseudopotential is assigned by default in the code only for LDA and PBE XC approximations. \n",
    "Another alternative is to specify the internal PSP that might be used, taking from the default database of BigDFT. This can be done as follows:"
   ]
  },
  {
   "cell_type": "code",
   "execution_count": 16,
   "metadata": {},
   "outputs": [],
   "source": [
    "inp['psppar.N']={'Pseudopotential XC': 1} #here 1 stands for LDA as per the XC codes"
   ]
  },
  {
   "cell_type": "markdown",
   "metadata": {},
   "source": [
    "When possible, care should be taken in choosing a pseudopotential which has been generated with the same XC approximation used. Unfortunately, at present HGH data are only available for semilocal functionals. For example, the same exercise as follows could have been done with Hybrid XC functionals, like for example PBE0 (ixc=-406). In the case of Hartree-Fock calculations, using semilocal functionals generally yield accurate results (see [Physical Review B 37.5 (1988): 2674](https://journals.aps.org/prb/pdf/10.1103/PhysRevB.37.2674)). \n",
    "\n",
    "In BigDFT, XC functionals are specified using the built in named functionals, or using the [LibXC codes](https://www.tddft.org/programs/libxc/functionals/)."
   ]
  },
  {
   "cell_type": "code",
   "execution_count": 17,
   "metadata": {},
   "outputs": [],
   "source": [
    "inp.set_xc('PBE0')\n",
    "PBE0 = study.run(name=\"PBE0\",input=inp) #Run the code with the name scheme PBE0"
   ]
  },
  {
   "cell_type": "markdown",
   "metadata": {},
   "source": [
    "The variables *LDA*, *HF*, and *PBE0* contains all information about the calculation. This is a class Logfile which simplify considerably the extraction of parameters of the associated output file *log-LDA.yaml*. If we simply type:"
   ]
  },
  {
   "cell_type": "code",
   "execution_count": 18,
   "metadata": {},
   "outputs": [
    {
     "name": "stdout",
     "output_type": "stream",
     "text": [
      "- Atom types:\n",
      "  - N\n",
      "- cell: Free BC\n",
      "- number_of_orbitals: 5\n",
      "- posinp_file: LDA.yaml\n",
      "- XC_parameter: -20\n",
      "- grid_spacing:\n",
      "  - 0.45\n",
      "  - 0.45\n",
      "  - 0.45\n",
      "- spin_polarization: 1\n",
      "- total_magn_moment: 0\n",
      "- system_charge: 0\n",
      "- rmult:\n",
      "  - 5.0\n",
      "  - 8.0\n",
      "- dipole:\n",
      "  - -0.0005134858\n",
      "  - -0.0005134858\n",
      "  - -0.000559708\n",
      "- energy: -19.88461527324464\n",
      "- fermi_level: -0.3818323179544\n",
      "- forcemax: 0.01156401391398\n",
      "- forcemax_cv: 0.0\n",
      "- gnrm_cv: 0.0001\n",
      "- nat: 2\n",
      "- symmetry: disabled\n",
      "- No. of KS orbitals:\n",
      "  - 5\n",
      "\n"
     ]
    }
   ],
   "source": [
    "print(LDA)"
   ]
  },
  {
   "cell_type": "markdown",
   "metadata": {},
   "source": [
    "We display some information about the LDA calculation. For instance, we can extract the eigenvalues of the Hamiltonian *i.e.* the DOS (Density of States):"
   ]
  },
  {
   "cell_type": "code",
   "execution_count": 19,
   "metadata": {},
   "outputs": [
    {
     "data": {
      "text/plain": [
       "[[-1.041353673208,\n",
       "  -0.4926440819324,\n",
       "  -0.4357815638016,\n",
       "  -0.4357812404171,\n",
       "  -0.3818323179544]]"
      ]
     },
     "execution_count": 19,
     "metadata": {},
     "output_type": "execute_result"
    }
   ],
   "source": [
    "LDA.evals[0].tolist()"
   ]
  },
  {
   "cell_type": "markdown",
   "metadata": {},
   "source": [
    "Note that *LDA.log* is the python dictionary associated to the full output file. \n",
    "This [tutorial](./Logfile-basics.ipynb) explains the basic methods."
   ]
  },
  {
   "cell_type": "code",
   "execution_count": 20,
   "metadata": {},
   "outputs": [
    {
     "name": "stdout",
     "output_type": "stream",
     "text": [
      "- Atom types:\n",
      "  - N\n",
      "- cell: Free BC\n",
      "- number_of_orbitals: 5\n",
      "- posinp_file: PBE0.yaml\n",
      "- XC_parameter: -406\n",
      "- grid_spacing:\n",
      "  - 0.45\n",
      "  - 0.45\n",
      "  - 0.45\n",
      "- spin_polarization: 1\n",
      "- total_magn_moment: 0\n",
      "- system_charge: 0\n",
      "- rmult:\n",
      "  - 5.0\n",
      "  - 8.0\n",
      "- dipole:\n",
      "  - -0.0004219248\n",
      "  - -0.0004219248\n",
      "  - -0.0004512606\n",
      "- energy: -19.971244525934665\n",
      "- fermi_level: -0.4512290316272\n",
      "- forcemax: 0.05514199331393\n",
      "- forcemax_cv: 0.0\n",
      "- gnrm_cv: 0.0001\n",
      "- nat: 2\n",
      "- symmetry: disabled\n",
      "- No. of KS orbitals:\n",
      "  - 5\n",
      "\n"
     ]
    }
   ],
   "source": [
    "print(PBE0)"
   ]
  },
  {
   "cell_type": "markdown",
   "metadata": {},
   "source": [
    "The following exercise (and its [solution](./N2-solution.ipynb)) gives some clues about it."
   ]
  },
  {
   "cell_type": "markdown",
   "metadata": {},
   "source": [
    "## The overall structure of files in the disk\n",
    "\n",
    "In the disk, after that the run is performed, different files are created:\n",
    "* [input_minimal.yaml](./N2_minimal) which contains the minimal set of input variables to perform the run;\n",
    "* [log.yaml](./log-N2.yaml) which contains the log of the run with all calculated quantities;\n",
    "* [time.yaml](./time-N2.yaml) and [forces_posinp.yaml](./forces_N2.yaml) which we will see later.\n",
    "\n",
    "For its I/O, BigDFT uses the [yaml](http://www.yaml.org/spec) format.\n",
    "If you look at the [input_minimal.yaml](./N2_minimal) file, you can see:\n",
    "<pre>\n",
    "  #---------------------------------------------------------------------- Minimal input file\n",
    "  #This file indicates the minimal set of input variables which has to be given to perform \n",
    "  #the run. The code would produce the same output if this file is used as input.\n",
    " posinp:\n",
    "   units: angstroem\n",
    "   positions:\n",
    "   - N: [0.0, 0.0, 0.0]\n",
    "   - N: [0.0, 0.0, 1.114989995956421]\n",
    "   properties:\n",
    "     format: xyz\n",
    "     source: posinp.xyz</pre>\n",
    "\n",
    "In this case, only the atomic positions are indicated using a yaml format.\n",
    "\n",
    "However, there is a one-to-one correspondence between a yaml file and a python dictionary. For this reason\n",
    "we will create the input parameters of this runs from dictionaries. See the useful [yaml online parser](http://yaml-online-parser.appspot.com/) page to understand the correspondence.\n",
    "\n",
    "\n",
    "In the log file [log.yaml](./log-N2.yaml), BigDFT automatically displays all the input parameters used for the calculations. \n",
    "\n",
    "The parameters which were not explicitly given are set to a default value, except the atomic positions of course, which have to be given. As we did not specified input files here, our run is a single-point LDA calculation, without spin-polarisation."
   ]
  },
  {
   "cell_type": "markdown",
   "metadata": {},
   "source": [
    "### Exercise\n",
    "\n",
    "Compare the values of the HOMO and HOMO-1 eigenvalues for the LDA and the HF run.\n",
    "Change the values of the *hgrid* and *crmult* to find the converged values. Note that a thorough description of those two (essential) parameters is provided later on when studying a [CH4 molecule](CH4.ipynb).\n",
    "\n",
    "Note that, both in the LDA and in the HF calculation, a norm-conserving PSP is used.\n",
    "\n",
    "The results can be compared to all-electron calculations, done with different basis sets, from references (units are eV) \n",
    "(1) S.&nbsp;Hamel <i>et&nbsp;al.</i> J. Electron Spectrospcopy and Related Phenomena 123 (2002) 345-363 and (2) P.&nbsp;Politzer, F.&nbsp;Abu-Awwad, Theor. Chem. Acc. (1998), 99, 83-87:\n",
    "\n",
    "eigenvalues          | LDA(1) | HF(1) | HF(2) | (Exp.)\n",
    "---------------------|--------|-------|-------|-------\n",
    "3&sigma;<sub>g</sub> | 10.36  | 17.25 | 17.31 | (15.60)\n",
    "1&pi;<sub>u</sub>    | 11.84  | 16.71 | 17.02 | (16.98)\n",
    "2&sigma;<sub>u</sub> | 13.41  | 21.25 | 21.08 | (18.78)\n",
    "\n",
    "The results depends, of course, on the precision chosen for the calculation, and of the presence of the pseudopotential.\n",
    "As it is well-known, the pseudopotential appoximation is however much less severe than the approximation induced by typical XC functionals. We might see that, even in the HF case, the presence of a LDA-based pseudopotential (of rather good quality) does not alter so much the results. \n",
    "\n",
    "Here you can find the values from BigDFT calculation using a very good precision (*hgrid=0.3*, *crmult=7.0*). \n",
    "Note that 1 Ha=27.21138386 eV.\n",
    " \n",
    "eigenvalues          | LDA   | HF\n",
    "---------------------|-------|------\n",
    "3&sigma;<sub>g</sub> | 10.40 | 17.32\n",
    "1&pi;<sub>u</sub>    | 11.75 | 16.62\n",
    "2&sigma;<sub>u</sub> | 13.52 | 21.30\n",
    "\n",
    "How much do these values differ from the calculation with default parameters? Do they converge to a given value?\n",
    "What is the *correlation* for the N2 molecule in (PSP) LDA?\n",
    "\n",
    "See here the [solution](./N2-solution.ipynb)."
   ]
  },
  {
   "cell_type": "code",
   "execution_count": null,
   "metadata": {},
   "outputs": [],
   "source": []
  }
 ],
 "metadata": {
  "kernelspec": {
   "display_name": "Python 3 (ipykernel)",
   "language": "python",
   "name": "python3"
  },
  "language_info": {
   "codemirror_mode": {
    "name": "ipython",
    "version": 3
   },
   "file_extension": ".py",
   "mimetype": "text/x-python",
   "name": "python",
   "nbconvert_exporter": "python",
   "pygments_lexer": "ipython3",
   "version": "3.9.7"
  }
 },
 "nbformat": 4,
 "nbformat_minor": 4
}
