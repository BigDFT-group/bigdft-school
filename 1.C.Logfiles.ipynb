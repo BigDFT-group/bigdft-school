{
  "cells": [
    {
      "cell_type": "markdown",
      "id": "4733472b",
      "metadata": {
        "id": "4733472b"
      },
      "source": [
        "# Logfiles analysis\n",
        "\n",
        "Let us inspect the result of a BigDFT calculation from the `Logfile` class.\n",
        "\n",
        "An instance is returned after the execution is finished in the form of a `yaml` file, from which the `Logfile` object is extracted.\n",
        "\n",
        "Let us for example investigate the logfile of the LDA calculation of N2."
      ]
    },
    {
      "cell_type": "code",
      "source": [
        "install = \"client (Google drive)\" #@param [\"full_suite\", \"client (Google drive)\", \"client\"]\n",
        "install_var=install\n",
        "!wget https://gitlab.com/luigigenovese/bigdft-school/-/raw/main/packaging/install.py &> /dev/null\n",
        "args={'locally': True} if install == 'client' else {}\n",
        "import install\n",
        "getattr(install,install_var.split()[0])(**args)"
      ],
      "metadata": {
        "cellView": "form",
        "id": "GU5BV3ndT7RJ",
        "outputId": "ef04e5cd-29d7-415e-c8da-f9e895f2cdb5",
        "colab": {
          "base_uri": "https://localhost:8080/"
        }
      },
      "id": "GU5BV3ndT7RJ",
      "execution_count": null,
      "outputs": [
        {
          "output_type": "stream",
          "name": "stdout",
          "text": [
            "Mounted at /content/drive\n",
            "Executing: mkdir -p /content/drive/MyDrive\n",
            "\n",
            "Executing: git clone --depth 1 https://github.com/BigDFT-group/bigdft-school\n",
            "Error Occurred:  \n",
            " fatal: destination path 'bigdft-school' already exists and is not an empty directory.\n",
            "\n",
            "Executing: mkdir -p /content/drive/MyDrive/bigdft-school\n",
            "\n"
          ]
        }
      ]
    },
    {
      "cell_type": "code",
      "execution_count": null,
      "id": "88cd1317",
      "metadata": {
        "id": "88cd1317"
      },
      "outputs": [],
      "source": [
        "from BigDFT import Logfiles as L\n",
        "\n",
        "logfile = L.Logfile('./scratch/log-xc__LDA.yaml')"
      ]
    },
    {
      "cell_type": "markdown",
      "id": "dd5fe3e3",
      "metadata": {
        "id": "dd5fe3e3"
      },
      "source": [
        "From this instance, it is first possible to visualize the associated system"
      ]
    },
    {
      "cell_type": "code",
      "execution_count": null,
      "id": "597b2971",
      "metadata": {
        "colab": {
          "base_uri": "https://localhost:8080/",
          "height": 317
        },
        "id": "597b2971",
        "outputId": "22e48c30-0e09-4458-82e5-8fdb7c5fe578"
      },
      "outputs": [
        {
          "output_type": "display_data",
          "data": {
            "application/3dmoljs_load.v0": "<div id=\"3dmolviewer_16637683939194956\"  style=\"position: relative; width: 400px; height: 300px\">\n        <p id=\"3dmolwarning_16637683939194956\" style=\"background-color:#ffcccc;color:black\">You appear to be running in JupyterLab (or JavaScript failed to load for some other reason).  You need to install the 3dmol extension: <br>\n        <tt>jupyter labextension install jupyterlab_3dmol</tt></p>\n        </div>\n<script>\n\nvar loadScriptAsync = function(uri){\n  return new Promise((resolve, reject) => {\n    var tag = document.createElement('script');\n    tag.src = uri;\n    tag.async = true;\n    tag.onload = () => {\n      resolve();\n    };\n  var firstScriptTag = document.getElementsByTagName('script')[0];\n  firstScriptTag.parentNode.insertBefore(tag, firstScriptTag);\n});\n};\n\nif(typeof $3Dmolpromise === 'undefined') {\n$3Dmolpromise = null;\n  $3Dmolpromise = loadScriptAsync('https://cdn.jsdelivr.net/npm/3dmol@latest/build/3Dmol-min.min.js');\n}\n\nvar viewer_16637683939194956 = null;\nvar warn = document.getElementById(\"3dmolwarning_16637683939194956\");\nif(warn) {\n    warn.parentNode.removeChild(warn);\n}\n$3Dmolpromise.then(function() {\nvar viewergrid_16637683939194956 = null;\nviewergrid_16637683939194956 = $3Dmol.createViewerGrid($(\"#3dmolviewer_16637683939194956\"),{rows: 1, cols: 1, control_all: false},{backgroundColor:\"white\"});\nviewer_16637683939194956 = viewergrid_16637683939194956[0][0];\nviewergrid_16637683939194956[0][0].zoomTo();\tviewergrid_16637683939194956[0][0].addModelsAsFrames(\"MODEL 0\\nHETATM    1 N    FUL A   0       0.000   0.000   0.549  1.00  0.00       B   N  \\nHETATM    2 N    FUL A   0       0.000   0.000  -0.549  1.00  0.00       B   N  \\nENDMDL\\n\",\"pdb\",{\"keepH\": \"true\"});\n\tviewergrid_16637683939194956[0][0].setStyle({\"model\": -1},{\"line\": {\"color\": \"black\"}});\n\tviewergrid_16637683939194956[0][0].addModelsAsFrames(\"MODEL 0\\nHETATM    1 N    FUL A   0       0.000   0.000   0.549  1.00  0.00       B   N  \\nHETATM    2 N    FUL A   0       0.000   0.000  -0.549  1.00  0.00       B   N  \\nENDMDL\\n\",\"pdb\",{\"keepH\": \"true\"});\n\tviewergrid_16637683939194956[0][0].setStyle({\"model\": -1, \"serial\": 1},{\"sphere\": {\"scale\": 0.2, \"color\": \"#7F00FF\"}});\n\tviewergrid_16637683939194956[0][0].addModelsAsFrames(\"MODEL 0\\nHETATM    1 N    FUL A   0       0.000   0.000   0.549  1.00  0.00       B   N  \\nHETATM    2 N    FUL A   0       0.000   0.000  -0.549  1.00  0.00       B   N  \\nENDMDL\\n\",\"pdb\",{\"keepH\": \"true\"});\n\tviewergrid_16637683939194956[0][0].setStyle({\"model\": -1, \"serial\": 2},{\"sphere\": {\"scale\": 0.2, \"color\": \"#7F00FF\"}});\n\tviewergrid_16637683939194956[0][0].addUnitCell({\"model\": -1},{\"box\": {\"color\": \"black\"}, \"alabel\": \"\", \"blabel\": \"\", \"clabel\": \"\"});\n\tviewergrid_16637683939194956[0][0].zoomTo();\nviewergrid_16637683939194956[0][0].render();\n});\n</script>",
            "text/html": [
              "<div id=\"3dmolviewer_16637683939194956\"  style=\"position: relative; width: 400px; height: 300px\">\n",
              "        <p id=\"3dmolwarning_16637683939194956\" style=\"background-color:#ffcccc;color:black\">You appear to be running in JupyterLab (or JavaScript failed to load for some other reason).  You need to install the 3dmol extension: <br>\n",
              "        <tt>jupyter labextension install jupyterlab_3dmol</tt></p>\n",
              "        </div>\n",
              "<script>\n",
              "\n",
              "var loadScriptAsync = function(uri){\n",
              "  return new Promise((resolve, reject) => {\n",
              "    var tag = document.createElement('script');\n",
              "    tag.src = uri;\n",
              "    tag.async = true;\n",
              "    tag.onload = () => {\n",
              "      resolve();\n",
              "    };\n",
              "  var firstScriptTag = document.getElementsByTagName('script')[0];\n",
              "  firstScriptTag.parentNode.insertBefore(tag, firstScriptTag);\n",
              "});\n",
              "};\n",
              "\n",
              "if(typeof $3Dmolpromise === 'undefined') {\n",
              "$3Dmolpromise = null;\n",
              "  $3Dmolpromise = loadScriptAsync('https://cdn.jsdelivr.net/npm/3dmol@latest/build/3Dmol-min.min.js');\n",
              "}\n",
              "\n",
              "var viewer_16637683939194956 = null;\n",
              "var warn = document.getElementById(\"3dmolwarning_16637683939194956\");\n",
              "if(warn) {\n",
              "    warn.parentNode.removeChild(warn);\n",
              "}\n",
              "$3Dmolpromise.then(function() {\n",
              "var viewergrid_16637683939194956 = null;\n",
              "viewergrid_16637683939194956 = $3Dmol.createViewerGrid($(\"#3dmolviewer_16637683939194956\"),{rows: 1, cols: 1, control_all: false},{backgroundColor:\"white\"});\n",
              "viewer_16637683939194956 = viewergrid_16637683939194956[0][0];\n",
              "viewergrid_16637683939194956[0][0].zoomTo();\tviewergrid_16637683939194956[0][0].addModelsAsFrames(\"MODEL 0\\nHETATM    1 N    FUL A   0       0.000   0.000   0.549  1.00  0.00       B   N  \\nHETATM    2 N    FUL A   0       0.000   0.000  -0.549  1.00  0.00       B   N  \\nENDMDL\\n\",\"pdb\",{\"keepH\": \"true\"});\n",
              "\tviewergrid_16637683939194956[0][0].setStyle({\"model\": -1},{\"line\": {\"color\": \"black\"}});\n",
              "\tviewergrid_16637683939194956[0][0].addModelsAsFrames(\"MODEL 0\\nHETATM    1 N    FUL A   0       0.000   0.000   0.549  1.00  0.00       B   N  \\nHETATM    2 N    FUL A   0       0.000   0.000  -0.549  1.00  0.00       B   N  \\nENDMDL\\n\",\"pdb\",{\"keepH\": \"true\"});\n",
              "\tviewergrid_16637683939194956[0][0].setStyle({\"model\": -1, \"serial\": 1},{\"sphere\": {\"scale\": 0.2, \"color\": \"#7F00FF\"}});\n",
              "\tviewergrid_16637683939194956[0][0].addModelsAsFrames(\"MODEL 0\\nHETATM    1 N    FUL A   0       0.000   0.000   0.549  1.00  0.00       B   N  \\nHETATM    2 N    FUL A   0       0.000   0.000  -0.549  1.00  0.00       B   N  \\nENDMDL\\n\",\"pdb\",{\"keepH\": \"true\"});\n",
              "\tviewergrid_16637683939194956[0][0].setStyle({\"model\": -1, \"serial\": 2},{\"sphere\": {\"scale\": 0.2, \"color\": \"#7F00FF\"}});\n",
              "\tviewergrid_16637683939194956[0][0].addUnitCell({\"model\": -1},{\"box\": {\"color\": \"black\"}, \"alabel\": \"\", \"blabel\": \"\", \"clabel\": \"\"});\n",
              "\tviewergrid_16637683939194956[0][0].zoomTo();\n",
              "viewergrid_16637683939194956[0][0].render();\n",
              "});\n",
              "</script>"
            ]
          },
          "metadata": {}
        }
      ],
      "source": [
        "from BigDFT import Systems as S\n",
        "\n",
        "sys = S.system_from_log(logfile,fragmentation='full')\n",
        "sys.display();"
      ]
    },
    {
      "cell_type": "markdown",
      "id": "6fa5ac4e",
      "metadata": {
        "id": "6fa5ac4e"
      },
      "source": [
        "The information of the logfile are presented clearly"
      ]
    },
    {
      "cell_type": "code",
      "execution_count": null,
      "id": "3b20779e",
      "metadata": {
        "colab": {
          "base_uri": "https://localhost:8080/"
        },
        "id": "3b20779e",
        "outputId": "525964ce-9c28-4024-836c-fa63623d06a3"
      },
      "outputs": [
        {
          "output_type": "stream",
          "name": "stdout",
          "text": [
            "- Atom types:\n",
            "  - N\n",
            "- cell: Free BC\n",
            "- number_of_orbitals: 5\n",
            "- posinp_file: xc__LDA.yaml\n",
            "- XC_parameter: -20\n",
            "- grid_spacing: 0.3\n",
            "- spin_polarization: 1\n",
            "- total_magn_moment: 0\n",
            "- system_charge: 0\n",
            "- rmult: 6\n",
            "- dipole:\n",
            "  - -7.546821e-05\n",
            "  - -7.546821e-05\n",
            "  - -0.0001150379\n",
            "- energy: -19.889158366113875\n",
            "- fermi_level: -0.382575362697\n",
            "- forcemax: 0.01184049963069\n",
            "- forcemax_cv: 0.0\n",
            "- gnrm_cv: 0.0001\n",
            "- nat: 2\n",
            "- symmetry: disabled\n",
            "- No. of KS orbitals:\n",
            "  - 5\n",
            "\n"
          ]
        }
      ],
      "source": [
        "print(logfile)"
      ]
    },
    {
      "cell_type": "markdown",
      "id": "c668323e",
      "metadata": {
        "id": "c668323e"
      },
      "source": [
        "The `yaml` serialization is easily obtainable by calling the `log` attribute, in the form of a `dict`. However, this serialiazation is not particularly useful to visualize the output. Better to refer directly to the logfile."
      ]
    },
    {
      "cell_type": "code",
      "execution_count": null,
      "id": "59744774",
      "metadata": {
        "colab": {
          "base_uri": "https://localhost:8080/"
        },
        "id": "59744774",
        "outputId": "1a01c109-1e6b-4b24-cf5f-2bedc86e8314"
      },
      "outputs": [
        {
          "output_type": "stream",
          "name": "stdout",
          "text": [
            "Accumulated memory requirements during principal run stages (MiB.KiB):\n",
            "  Density Construction: 192.2\n",
            "  Hamiltonian application: 193.614\n",
            "  Kernel calculation: 268.641\n",
            "  Orbitals Orthonormalization: 193.614\n",
            "  Poisson Solver: 274.794\n",
            "Atomic Forces (Ha/Bohr):\n",
            "- N:\n",
            "  - 0.0\n",
            "  - -3.388131789017e-21\n",
            "  - -0.01184049963069\n",
            "- N:\n",
            "  - 0.0\n",
            "  - 3.388131789017e-21\n",
            "  - 0.01184049963069\n",
            "Atomic System Properties:\n",
            "  Boundary Conditions: Free\n",
            "  Number of Symmetries: 0\n",
            "  Number of atomic types: 1\n",
            "  Number of atoms: 2\n",
            "  Space group: disabled\n",
            "  Types of atoms:\n",
            "  - N\n",
            "Atomic structure:\n",
            "  Rigid Shift Applied (AU):\n",
            "  - 8.1\n",
            "  - 8.1\n",
            "  - 9.15\n",
            "  position offset:\n",
            "  - -8.1\n",
            "  - -8.1\n",
            "  - -9.15\n",
            "  positions:\n",
            "  - N:\n",
            "    - 4.286335408\n",
            "    - 4.286335408\n",
            "    - 5.39077148\n",
            "  - N:\n",
            "    - 4.286335408\n",
            "    - 4.286335408\n",
            "    - 4.29317148\n",
            "  units: angstroem\n",
            "Average noise forces:\n",
            "  total: 2.6498158e-05\n",
            "  x: -1.62783873e-05\n",
            "  y: -1.62783874e-05\n",
            "  z: 1.31217602e-05\n",
            "Basis set definition:\n",
            "  Coarse and Fine Radii Multipliers:\n",
            "  - 6.0\n",
            "  - 6.0\n",
            "  Suggested Grid Spacings (a0):\n",
            "  - 0.3\n",
            "  - 0.3\n",
            "  - 0.3\n",
            "BigDFT infocode: 0\n",
            "Box Grid spacings:\n",
            "- 0.3\n",
            "- 0.3\n",
            "- 0.3\n",
            "Calculate Non Local forces: true\n",
            "Calculate local forces: true\n",
            "Clean forces norm (Ha/Bohr):\n",
            "  fnrm2: 0.0002803948630088\n",
            "  maxval: 0.01184049963069\n",
            "Code logo: '__________________________________ A fast and precise DFT wavelet code\n",
            "  |     |     |     |     |     | |     |     |     |     |     |      BBBB         i       gggggg\n",
            "  |_____|_____|_____|_____|_____|     B    B               g |     |  :  |  :  |     |     |    B     B        i     g\n",
            "  |     |-0+--|-0+--|     |     |    B    B         i     g        g |_____|__:__|__:__|_____|_____|___\n",
            "  BBBBB          i     g         g |  :  |     |     |  :  |     |    B    B         i     g         g\n",
            "  |--+0-|     |     |-0+--|     |    B     B     iiii     g         g |__:__|_____|_____|__:__|_____|    B     B        i      g        g\n",
            "  |     |  :  |  :  |     |     |    B BBBB        i        g      g |     |-0+--|-0+--|     |     |    B        iiiii          gggggg\n",
            "  |_____|__:__|__:__|_____|_____|__BBBBB |     |     |     |  :  |     |                           TTTTTTTTT\n",
            "  |     |     |     |--+0-|     |  DDDDDD          FFFFF        T |_____|_____|_____|__:__|_____|\n",
            "  D      D        F        TTTT T |     |     |     |  :  |     |D        D      F        T     T\n",
            "  |     |     |     |--+0-|     |D         D     FFFF     T     T |_____|_____|_____|__:__|_____|D___      D     F         T    T\n",
            "  |     |     |  :  |     |     |D         D     F          TTTTT |     |     |--+0-|     |     |\n",
            "  D        D     F         T    T |_____|_____|__:__|_____|_____|          D     F        T     T\n",
            "  |     |     |     |     |     |         D               T    T |     |     |     |     |     |   DDDDDD       F         TTTT\n",
            "  |_____|_____|_____|_____|_____|______                    www.bigdft.org   '\n",
            "Communication checks:\n",
            "  Reverse transpositions: true\n",
            "  Transpositions: true\n",
            "Compilation options:\n",
            "  Compiler flags:\n",
            "    CFLAGS: -g -O2\n",
            "    CXXFLAGS: -g -O2\n",
            "    FCFLAGS: -O2 -Wno-error -fbounds-check -fbacktrace -ffpe-trap=invalid,zero,overflow\n",
            "      -fopenmp -m64 -g -Wl,--no-as-needed -ldl -fallow-argument-mismatch\n",
            "  Compilers (CC, FC, CXX):\n",
            "  - gcc\n",
            "  - mpifort\n",
            "  - g++\n",
            "  Configure arguments: (...)\n",
            "DFT parameters:\n",
            "  eXchange Correlation:\n",
            "    Exchange-Correlation reference: 'XC: Teter 93'\n",
            "    Reference Papers:\n",
            "    - Comput. Phys. Commun. 183, 2272 (2012)\n",
            "    - S. Goedecker, M. Teter, and J. Hutter, Phys. Rev. B 54, 1703 (1996)\n",
            "    Spin polarization: false\n",
            "    XC ID: -20\n",
            "    XC functional implementation: libXC\n",
            "Data Writing directory: ./\n",
            "Electric Dipole Moment (AU):\n",
            "  P vector:\n",
            "  - -7.546821e-05\n",
            "  - -7.546821e-05\n",
            "  - -0.0001150379\n",
            "  norm(P): 0.00015692235\n",
            "Electric Dipole Moment (Debye):\n",
            "  P vector:\n",
            "  - -0.000191821\n",
            "  - -0.000191821\n",
            "  - -0.0002923972\n",
            "  norm(P): 0.000398856792\n",
            "Energy (Hartree): -19.889158366113875\n",
            "Estimated Memory Peak (MB): 274\n",
            "Force Norm (Hartree/Bohr): 0.016744995162996684\n",
            "GPU acceleration: false\n",
            "Geometry Optimization Parameters:\n",
            "  Algorithm: none\n",
            "  Fluctuation in forces: 1.0\n",
            "  Maximum in forces: 0.0\n",
            "  Maximum steps: 1\n",
            "  Random atomic displacement: 0.0\n",
            "  Steepest descent step: 4.0\n",
            "Ground State Optimization:\n",
            "- Hamiltonian Optimization:\n",
            "  - Subspace Optimization:\n",
            "      Non-Hermiticity of Hamiltonian in the Subspace: 1.1e-29\n",
            "      Orbitals:\n",
            "      - e: -1.041921681617\n",
            "        f: 2.0\n",
            "      - e: -0.4931878871014\n",
            "        f: 2.0\n",
            "      - e: -0.4364601439754\n",
            "        f: 2.0\n",
            "      - e: -0.4364600985988\n",
            "        f: 2.0\n",
            "      - e: -0.382575362697\n",
            "        f: 2.0\n",
            "      Wavefunctions Iterations:\n",
            "      - D: 0.0108\n",
            "        DIIS weights:\n",
            "        - 1.0\n",
            "        - 1.0\n",
            "        EKS: -19.599442009873712\n",
            "        Energies:\n",
            "          EH: 26.4374284056\n",
            "          EXC: -4.59353822458\n",
            "          Ekin: 13.1903000846\n",
            "          Enl: 1.87025796309\n",
            "          Epot: -21.6971880749\n",
            "          EvXC: -6.01510228509\n",
            "        GPU acceleration: false\n",
            "        Hamiltonian Applied: true\n",
            "        Orthoconstraint: true\n",
            "        Orthogonalization Method: 0\n",
            "        Poisson Solver:\n",
            "          BC: Free\n",
            "          Box:\n",
            "          - 139\n",
            "          - 139\n",
            "          - 153\n",
            "          MPI tasks: 1\n",
            "        Preconditioning: true\n",
            "        Total electronic charge: 9.999999991874\n",
            "        gnrm: 0.327\n",
            "        iter: 1\n",
            "      - D: -0.267\n",
            "        DIIS weights:\n",
            "        - -0.0193\n",
            "        - 1.02\n",
            "        - -0.00444\n",
            "        EKS: -19.86603074686917\n",
            "        Energies:\n",
            "          EH: 28.0070497949\n",
            "          EXC: -4.83337440271\n",
            "          Ekin: 14.5862099594\n",
            "          Enl: 1.87459079009\n",
            "          Epot: -21.8711736933\n",
            "          EvXC: -6.33171403218\n",
            "        GPU acceleration: false\n",
            "        Hamiltonian Applied: true\n",
            "        Orthoconstraint: true\n",
            "        Orthogonalization Method: 0\n",
            "        Poisson Solver:\n",
            "          BC: Free\n",
            "          Box:\n",
            "          - 139\n",
            "          - 139\n",
            "          - 153\n",
            "          MPI tasks: 1\n",
            "        Preconditioning: true\n",
            "        Total electronic charge: 9.999999991103\n",
            "        gnrm: 0.112\n",
            "        iter: 2\n",
            "      - D: -0.0197\n",
            "        DIIS weights:\n",
            "        - -0.0496\n",
            "        - -0.311\n",
            "        - 1.36\n",
            "        - -0.000167\n",
            "        EKS: -19.88574559888267\n",
            "        Energies:\n",
            "          EH: 27.8466684777\n",
            "          EXC: -4.79736322355\n",
            "          Ekin: 14.5652554957\n",
            "          Enl: 1.75939315938\n",
            "          Epot: -21.9036916524\n",
            "          EvXC: -6.28427673737\n",
            "        GPU acceleration: false\n",
            "        Hamiltonian Applied: true\n",
            "        Orthoconstraint: true\n",
            "        Orthogonalization Method: 0\n",
            "        Poisson Solver:\n",
            "          BC: Free\n",
            "          Box:\n",
            "          - 139\n",
            "          - 139\n",
            "          - 153\n",
            "          MPI tasks: 1\n",
            "        Preconditioning: true\n",
            "        Total electronic charge: 9.999999991363\n",
            "        gnrm: 0.0465\n",
            "        iter: 3\n",
            "      - D: -0.00319\n",
            "        DIIS weights:\n",
            "        - 0.0074\n",
            "        - 0.00227\n",
            "        - -0.163\n",
            "        - 1.15\n",
            "        - -1.17e-05\n",
            "        EKS: -19.888938639401168\n",
            "        Energies:\n",
            "          EH: 27.8580241523\n",
            "          EXC: -4.79644006663\n",
            "          Ekin: 14.650953604\n",
            "          Enl: 1.76326525276\n",
            "          Epot: -21.984858617\n",
            "          EvXC: -6.28311297722\n",
            "        GPU acceleration: false\n",
            "        Hamiltonian Applied: true\n",
            "        Orthoconstraint: true\n",
            "        Orthogonalization Method: 0\n",
            "        Poisson Solver:\n",
            "          BC: Free\n",
            "          Box:\n",
            "          - 139\n",
            "          - 139\n",
            "          - 153\n",
            "          MPI tasks: 1\n",
            "        Preconditioning: true\n",
            "        Total electronic charge: 9.999999990899\n",
            "        gnrm: 0.0147\n",
            "        iter: 4\n",
            "      - D: -0.000175\n",
            "        DIIS weights:\n",
            "        - 0.000392\n",
            "        - 0.0201\n",
            "        - -0.0779\n",
            "        - -0.194\n",
            "        - 1.25\n",
            "        - -1.4e-06\n",
            "        EKS: -19.889113592353517\n",
            "        Energies:\n",
            "          EH: 27.8467924008\n",
            "          EXC: -4.79473286047\n",
            "          Ekin: 14.6632488885\n",
            "          Enl: 1.75246638581\n",
            "          Epot: -21.9972192265\n",
            "          EvXC: -6.28086325865\n",
            "        GPU acceleration: false\n",
            "        Hamiltonian Applied: true\n",
            "        Orthoconstraint: true\n",
            "        Orthogonalization Method: 0\n",
            "        Poisson Solver:\n",
            "          BC: Free\n",
            "          Box:\n",
            "          - 139\n",
            "          - 139\n",
            "          - 153\n",
            "          MPI tasks: 1\n",
            "        Preconditioning: true\n",
            "        Total electronic charge: 9.999999990778\n",
            "        gnrm: 0.00417\n",
            "        iter: 5\n",
            "      - D: -3.15e-05\n",
            "        DIIS weights:\n",
            "        - -0.000504\n",
            "        - -0.00289\n",
            "        - 0.0237\n",
            "        - -0.0483\n",
            "        - -0.349\n",
            "        - 1.38\n",
            "        - -2.32e-07\n",
            "        EKS: -19.889145072041345\n",
            "        Energies:\n",
            "          EH: 27.8474270849\n",
            "          EXC: -4.79498675479\n",
            "          Ekin: 14.6734260845\n",
            "          Enl: 1.75179027165\n",
            "          Epot: -22.0061999013\n",
            "          EvXC: -6.28119995034\n",
            "        GPU acceleration: false\n",
            "        Hamiltonian Applied: true\n",
            "        Orthoconstraint: true\n",
            "        Orthogonalization Method: 0\n",
            "        Poisson Solver:\n",
            "          BC: Free\n",
            "          Box:\n",
            "          - 139\n",
            "          - 139\n",
            "          - 153\n",
            "          MPI tasks: 1\n",
            "        Preconditioning: true\n",
            "        Total electronic charge: 9.999999990731\n",
            "        gnrm: 0.00208\n",
            "        iter: 6\n",
            "      - D: -8.62e-06\n",
            "        DIIS weights:\n",
            "        - -0.00117\n",
            "        - 0.00272\n",
            "        - 0.00774\n",
            "        - 0.0534\n",
            "        - -0.679\n",
            "        - 1.62\n",
            "        - -6.3e-08\n",
            "        EKS: -19.88915368972063\n",
            "        Energies:\n",
            "          EH: 27.8475331181\n",
            "          EXC: -4.79509022639\n",
            "          Ekin: 14.6773557191\n",
            "          Enl: 1.75059978639\n",
            "          Epot: -22.0088750039\n",
            "          EvXC: -6.28133679073\n",
            "        GPU acceleration: false\n",
            "        Hamiltonian Applied: true\n",
            "        Orthoconstraint: true\n",
            "        Orthogonalization Method: 0\n",
            "        Poisson Solver:\n",
            "          BC: Free\n",
            "          Box:\n",
            "          - 139\n",
            "          - 139\n",
            "          - 153\n",
            "          MPI tasks: 1\n",
            "        Preconditioning: true\n",
            "        Total electronic charge: 9.999999990723\n",
            "        gnrm: 0.0012\n",
            "        iter: 7\n",
            "      - D: -3.38e-06\n",
            "        DIIS weights:\n",
            "        - 0.000933\n",
            "        - -0.00748\n",
            "        - 0.00505\n",
            "        - 0.12\n",
            "        - -0.829\n",
            "        - 1.71\n",
            "        - -1.73e-08\n",
            "        EKS: -19.88915706546748\n",
            "        Energies:\n",
            "          EH: 27.8474618626\n",
            "          EXC: -4.79512344364\n",
            "          Ekin: 14.6788591005\n",
            "          Enl: 1.74992235176\n",
            "          Epot: -22.0097864012\n",
            "          EvXC: -6.28138082733\n",
            "        GPU acceleration: false\n",
            "        Hamiltonian Applied: true\n",
            "        Orthoconstraint: true\n",
            "        Orthogonalization Method: 0\n",
            "        Poisson Solver:\n",
            "          BC: Free\n",
            "          Box:\n",
            "          - 139\n",
            "          - 139\n",
            "          - 153\n",
            "          MPI tasks: 1\n",
            "        Preconditioning: true\n",
            "        Total electronic charge: 9.999999990725\n",
            "        gnrm: 0.000625\n",
            "        iter: 8\n",
            "      - D: -1.1e-06\n",
            "        DIIS weights:\n",
            "        - -0.00254\n",
            "        - -0.00483\n",
            "        - 0.121\n",
            "        - -0.342\n",
            "        - -0.0805\n",
            "        - 1.31\n",
            "        - -2.52e-09\n",
            "        EKS: -19.88915816781627\n",
            "        Energies:\n",
            "          EH: 27.847315648\n",
            "          EXC: -4.79512716638\n",
            "          Ekin: 14.6794324855\n",
            "          Enl: 1.74951890641\n",
            "          Epot: -22.0101049665\n",
            "          EvXC: -6.28138585872\n",
            "        GPU acceleration: false\n",
            "        Hamiltonian Applied: true\n",
            "        Orthoconstraint: true\n",
            "        Orthogonalization Method: 0\n",
            "        Poisson Solver:\n",
            "          BC: Free\n",
            "          Box:\n",
            "          - 139\n",
            "          - 139\n",
            "          - 153\n",
            "          MPI tasks: 1\n",
            "        Preconditioning: true\n",
            "        Total electronic charge: 9.999999990726\n",
            "        gnrm: 0.000264\n",
            "        iter: 9\n",
            "      - D: -1.83e-07\n",
            "        DIIS weights:\n",
            "        - -0.00216\n",
            "        - 0.00429\n",
            "        - 0.0526\n",
            "        - -0.01\n",
            "        - -0.481\n",
            "        - 1.44\n",
            "        - -4.05e-10\n",
            "        EKS: -19.889158351154023\n",
            "        Energies:\n",
            "          EH: 27.8472885182\n",
            "          EXC: -4.79513511046\n",
            "          Ekin: 14.6796604001\n",
            "          Enl: 1.74936581972\n",
            "          Epot: -22.0102097031\n",
            "          EvXC: -6.28139639829\n",
            "        GPU acceleration: false\n",
            "        Hamiltonian Applied: true\n",
            "        Orthoconstraint: true\n",
            "        Orthogonalization Method: 0\n",
            "        Poisson Solver:\n",
            "          BC: Free\n",
            "          Box:\n",
            "          - 139\n",
            "          - 139\n",
            "          - 153\n",
            "          MPI tasks: 1\n",
            "        Preconditioning: true\n",
            "        Total electronic charge: 9.999999990726\n",
            "        gnrm: 8.56e-05\n",
            "        iter: 10\n",
            "      - &id001\n",
            "        D: -1.5e-08\n",
            "        EKS: -19.889158366113875\n",
            "        Energies:\n",
            "          EH: 27.8472608482\n",
            "          EXC: -4.79513251984\n",
            "          Eion: 12.0530523624\n",
            "          Ekin: 14.6796478684\n",
            "          Enl: 1.7493457461\n",
            "          Epot: -22.0102039625\n",
            "          EvXC: -6.28139298747\n",
            "        GPU acceleration: false\n",
            "        Hamiltonian Applied: true\n",
            "        Poisson Solver:\n",
            "          BC: Free\n",
            "          Box:\n",
            "          - 139\n",
            "          - 139\n",
            "          - 153\n",
            "          MPI tasks: 1\n",
            "        Total electronic charge: 9.999999990726\n",
            "        gnrm: 8.56e-05\n",
            "        iter: 11\n",
            "High Res. box is treated separately: true\n",
            "Input Hamiltonian:\n",
            "  Accuracy estimation for this run:\n",
            "    Convergence Criterion: 2.98e-05\n",
            "    Energy: 0.000149\n",
            "  Atomic Input Orbital Generation:\n",
            "  - Atom Type: N\n",
            "    Electronic configuration:\n",
            "      p:\n",
            "      - 1.0\n",
            "      - 1.0\n",
            "      - 1.0\n",
            "      s:\n",
            "      - 2.0\n",
            "  Deviation from normalization: 5.49e-07\n",
            "  EKS: -19.610209365963435\n",
            "  Energies:\n",
            "    EH: 27.4148935003\n",
            "    EXC: -4.70955110299\n",
            "    Ekin: 13.9049636532\n",
            "    Enl: 2.36627080396\n",
            "    Epot: -21.978325416\n",
            "    EvXC: -6.16827383377\n",
            "  Expected kinetic energy: 13.904814679\n",
            "  GPU acceleration: false\n",
            "  IG wavefunctions defined: true\n",
            "  Input Guess Overlap Matrices:\n",
            "    Calculated: true\n",
            "    Diagonalized: true\n",
            "  Orbitals:\n",
            "  - e: -1.055295241538\n",
            "    f: 2.0\n",
            "  - e: -0.526343538307\n",
            "    f: 2.0\n",
            "  - e: -0.4497660615404\n",
            "    f: 2.0\n",
            "  - e: -0.4497660067994\n",
            "    f: 2.0\n",
            "  - e: -0.3984990982962\n",
            "    f: 2.0\n",
            "  - e: -0.09753192536927\n",
            "    f: 0.0\n",
            "  - e: -0.09753187279788\n",
            "    f: 0.0\n",
            "  - e: 0.7245931378153\n",
            "    f: 0.0\n",
            "  Poisson Solver:\n",
            "    BC: Free\n",
            "    Box:\n",
            "    - 139\n",
            "    - 139\n",
            "    - 153\n",
            "    MPI tasks: 1\n",
            "  Policy: Wavefunctions from PSP Atomic Orbitals\n",
            "  Total No. of Atomic Input Orbitals: 8\n",
            "  Total electronic charge: 9.99999999057\n",
            "  Wavelet conversion succeeded: true\n",
            "Input Occupation Numbers:\n",
            "- Occupation Numbers:\n",
            "    Orbitals No. 1-5: 2.0\n",
            "Interaction energy ions multipoles: 0.0\n",
            "Interaction energy multipoles multipoles: 0.0\n",
            "Ion-Ion interaction energy: 12.0530523624271\n",
            "Last Iteration: *id001\n",
            "Material acceleration: false\n",
            "Max No. of dictionaries used: 4938\n",
            "Maximal OpenMP threads per MPI task: 1\n",
            "Memory Consumption Report:\n",
            "  Memory occupation:\n",
            "    Memory Peak of process: 327.492 MB\n",
            "    Peak Value (MB): 298.198\n",
            "    for the array: zt\n",
            "    in the routine: G_PoissonSolver\n",
            "  Remaining Memory (B): 0\n",
            "  Tot. No. of Allocations: 3547\n",
            "  Tot. No. of Deallocations: 3547\n",
            "Memory requirements for principal quantities (MiB.KiB):\n",
            "  All (distributed) orbitals: 8.416\n",
            "  Full Uncompressed (ISF) grid: 22.567\n",
            "  Nonlocal Pseudopotential Arrays: 0.113\n",
            "  Single orbital: 0.861\n",
            "  Subspace Matrix: 0.1\n",
            "  Wavefunction storage size: 58.859\n",
            "  Workspaces storage size: 1.1012\n",
            "Multipole analysis origin:\n",
            "- 8.1\n",
            "- 8.1\n",
            "- 9.15\n",
            "NonLocal PSP Projectors Descriptors:\n",
            "  Creation strategy: On-the-fly\n",
            "  Cumulative size of masking arrays: 3984\n",
            "  Maximum size of masking arrays for a projector: 1992\n",
            "  Percent of zero components: 14\n",
            "  Size of workspaces: 57504\n",
            "  Total number of components: 14372\n",
            "  Total number of projectors: 2\n",
            "Number of MPI tasks: 1\n",
            "Number of dictionary folders allocated: 1\n",
            "OpenMP parallelization: true\n",
            "Orbitals Repartition:\n",
            "  MPI tasks  0- 0: 5\n",
            "Poisson Kernel Creation:\n",
            "  Boundary Conditions: Free\n",
            "  Memory Requirements per MPI task:\n",
            "    Density (MB): 23.93\n",
            "    Full Grid Arrays (MB): 22.55\n",
            "    Kernel (MB): 24.42\n",
            "Poisson Kernel Initialization:\n",
            "  MPI tasks: 1\n",
            "  OpenMP threads per MPI task: 1\n",
            "  environment:\n",
            "    cavity: none\n",
            "    fd_order: 16\n",
            "    itermax: 200\n",
            "    minres: 1.0e-08\n",
            "    pb_method: none\n",
            "  kernel:\n",
            "    isf_order: 16\n",
            "    screening: 0\n",
            "    stress_tensor: true\n",
            "  setup:\n",
            "    accel: none\n",
            "    global_data: false\n",
            "    output: none\n",
            "    taskgroup_size: 0\n",
            "    verbose: true\n",
            "Poisson Solver:\n",
            "  BC: Free\n",
            "  Box:\n",
            "  - 139\n",
            "  - 139\n",
            "  - 153\n",
            "  MPI tasks: 1\n",
            "Post Optimization Parameters:\n",
            "  Finite-Size Effect estimation:\n",
            "    Scheduled: false\n",
            "Properties of atoms in the system:\n",
            "- Grid Spacing threshold (AU): 0.64\n",
            "  Local Pseudo Potential (HGH convention):\n",
            "    Coefficients (c1 .. c4):\n",
            "    - -12.23482\n",
            "    - 1.76641\n",
            "    - 0.0\n",
            "    - 0.0\n",
            "    Rloc: 0.28918\n",
            "  No. of Atoms: 2\n",
            "  No. of Electrons: 5\n",
            "  No. of projectors: 1\n",
            "  NonLocal PSP Parameters:\n",
            "  - Channel (l): 0\n",
            "    Rloc: 0.2566\n",
            "    h_ij matrix:\n",
            "    - - 13.55224\n",
            "      - 0.0\n",
            "      - 0.0\n",
            "    - - 0.0\n",
            "      - 0.0\n",
            "      - 0.0\n",
            "    - - 0.0\n",
            "      - 0.0\n",
            "      - 0.0\n",
            "  - Channel (l): 1\n",
            "    Rloc: 0.27013\n",
            "    h_ij matrix:\n",
            "    - - 0.0\n",
            "      - 0.0\n",
            "      - 0.0\n",
            "    - - 0.0\n",
            "      - 0.0\n",
            "      - 0.0\n",
            "    - - 0.0\n",
            "      - 0.0\n",
            "      - 0.0\n",
            "  PSP XC: 'XC: Teter 93'\n",
            "  Pseudopotential type: HGH-K\n",
            "  Radii of active regions (AU):\n",
            "    Coarse: 1.37026\n",
            "    Coarse PSP: 0.67533\n",
            "    Fine: 0.2566\n",
            "    Source: Hard-Coded\n",
            "  Symbol: N\n",
            "Quadrupole Moment (AU):\n",
            "  Q matrix:\n",
            "  - - 1.136\n",
            "    - -6.0873e-07\n",
            "    - -0.0002684\n",
            "  - - -6.0873e-07\n",
            "    - 1.136\n",
            "    - -0.0002684\n",
            "  - - -0.0002684\n",
            "    - -0.0002684\n",
            "    - -2.272\n",
            "  trace: 0.0\n",
            "Raw forces norm (Ha/Bohr):\n",
            "  fnrm2: 0.0002803969784791\n",
            "  maxval: 0.01184985563241\n",
            "Reference Paper: The Journal of Chemical Physics 129, 014109 (2008)\n",
            "Root process Hostname: localhost\n",
            "Self-Consistent Cycle Parameters:\n",
            "  Density/Potential:\n",
            "    Max. Iterations: 1\n",
            "  Wavefunction:\n",
            "    CG Steps for Preconditioner: 6\n",
            "    DIIS History length: 6\n",
            "    Gradient Norm Threshold: 0.0001\n",
            "    Input wavefunction policy: INPUT_PSI_LCAO\n",
            "    Max. Subspace Diagonalizations: 1\n",
            "    Max. Wfn Iterations: 50\n",
            "    Number of plotted density orbitals: 0\n",
            "    Output grid policy: NONE\n",
            "    Output wavefunction policy: NONE\n",
            "    Virtual orbitals: 0\n",
            "Sizes of the simulation domain:\n",
            "  AU:\n",
            "  - 16.2\n",
            "  - 16.2\n",
            "  - 18.3\n",
            "  Angstroem:\n",
            "  - 8.5727\n",
            "  - 8.5727\n",
            "  - 9.6839\n",
            "  Grid Spacing Units:\n",
            "  - 54\n",
            "  - 54\n",
            "  - 61\n",
            "  High resolution region boundaries (GU):\n",
            "    From:\n",
            "    - 22\n",
            "    - 22\n",
            "    - 22\n",
            "    To:\n",
            "    - 32\n",
            "    - 32\n",
            "    - 39\n",
            "Spin treatment: Averaged\n",
            "Spreads of the electronic density (AU):\n",
            "- 0.8724061\n",
            "- 0.8724061\n",
            "- 1.396506\n",
            "Timestamp of this run: 2022-09-21 12:56:10.369000\n",
            "Timings for root process:\n",
            "  CPU time (s): 18.8\n",
            "  Elapsed time (s): 18.88\n",
            "Total Number of Electrons: 10\n",
            "Total Number of Orbitals: 5\n",
            "Total electronic charge: 9.999999990726\n",
            "Total ionic charge: -10.0\n",
            "Version Number: 1.9.2\n",
            "Walltime since initialization: 18.95284916\n",
            "Wavefunctions Descriptors, full simulation domain:\n",
            "  Coarse resolution grid:\n",
            "    No. of points: 102710\n",
            "    No. of segments: 2746\n",
            "  Fine resolution grid:\n",
            "    No. of points: 1066\n",
            "    No. of segments: 154\n",
            "Wavefunctions memory occupation for root MPI process: 4 MB 207 KB 608 B\n",
            "chess:\n",
            "  foe:\n",
            "    accuracy_entropy: 0.0001\n",
            "    accuracy_foe: 1.0e-05\n",
            "    accuracy_ice: 1.0e-08\n",
            "    accuracy_penalty: 1.0e-05\n",
            "    adjust_fscale: true\n",
            "    betax_foe: -1000.0\n",
            "    betax_ice: -1000.0\n",
            "    ef_interpol_chargediff: 1.0\n",
            "    ef_interpol_det: 1.0e-12\n",
            "    eval_range_foe:\n",
            "    - -0.5\n",
            "    - 0.5\n",
            "    evbounds_nsatur: 3\n",
            "    evboundsshrink_nsatur: 4\n",
            "    fscale: 0.05\n",
            "    fscale_ediff_low: 5.0e-05\n",
            "    fscale_ediff_up: 0.0001\n",
            "    fscale_lowerbound: 0.005\n",
            "    fscale_upperbound: 0.05\n",
            "    matmul_optimize_load_balancing: false\n",
            "    occupation_function: 102\n",
            "  lapack:\n",
            "    blocksize_pdgemm: -8\n",
            "    blocksize_pdsyev: -8\n",
            "    maxproc_pdgemm: 4\n",
            "    maxproc_pdsyev: 4\n",
            "  ntpoly:\n",
            "    convergence_density: 1.0e-10\n",
            "    convergence_overlap: 1.0e-10\n",
            "    threshold_density: 0.0\n",
            "    threshold_overlap: 0.0\n",
            "dft:\n",
            "  alpha_hf: -1.0\n",
            "  calculate_strten: true\n",
            "  disablesym: false\n",
            "  dispersion: 0\n",
            "  elecfield:\n",
            "  - 0.0\n",
            "  - 0.0\n",
            "  - 0.0\n",
            "  external_potential: 0.0\n",
            "  gnrm_cv: 0.0001\n",
            "  gnrm_cv_virt: 0.0001\n",
            "  hgrids: 0.3\n",
            "  idsx: 6\n",
            "  inputpsiid: 0\n",
            "  itermax: 50\n",
            "  itermax_occ_ctrl: 0\n",
            "  itermax_virt: 50\n",
            "  itermin: 0\n",
            "  ixc: -20\n",
            "  mpol: 0\n",
            "  ncong: 6\n",
            "  ncongt: 30\n",
            "  ngrids:\n",
            "  - 0\n",
            "  - 0\n",
            "  - 0\n",
            "  norbv: 0\n",
            "  nplot: 0\n",
            "  nrepmax: 1\n",
            "  nrepmax_occ_ctrl: 1\n",
            "  nspin: 1\n",
            "  nvirt: 0\n",
            "  occupancy_control: None\n",
            "  output_denspot: 0\n",
            "  plot_mppot_axes:\n",
            "  - -1\n",
            "  - -1\n",
            "  - -1\n",
            "  plot_pot_axes:\n",
            "  - -1\n",
            "  - -1\n",
            "  - -1\n",
            "  projection: gaussian\n",
            "  qcharge: 0\n",
            "  rbuf: 0.0\n",
            "  rmult: 6\n",
            "geopt:\n",
            "  beta_stretchx: 5e-1\n",
            "  betax: 4.0\n",
            "  forcemax: 0.0\n",
            "  frac_fluct: 1.0\n",
            "  method: none\n",
            "  ncount_cluster_x: 1\n",
            "  randdis: 0.0\n",
            "kpt:\n",
            "  bands: false\n",
            "  kpt:\n",
            "  - - 0.0\n",
            "    - 0.0\n",
            "    - 0.0\n",
            "  method: manual\n",
            "  wkpt:\n",
            "  - 1.0\n",
            "lin_basis:\n",
            "  alpha_diis: 1.0\n",
            "  alpha_sd: 1.0\n",
            "  correction_orthoconstraint: 1\n",
            "  deltae_cv: 0.0001\n",
            "  extended_ig: false\n",
            "  fix_basis: 1.0e-10\n",
            "  gnrm_cv:\n",
            "  - 0.01\n",
            "  - 0.0001\n",
            "  gnrm_dyn: 0.0001\n",
            "  gnrm_ig: 0.001\n",
            "  idsx:\n",
            "  - 6\n",
            "  - 6\n",
            "  min_gnrm_for_dynamic: 0.001\n",
            "  nit:\n",
            "  - 4\n",
            "  - 5\n",
            "  nit_ig: 50\n",
            "  nstep_prec: 5\n",
            "  orthogonalize_ao: true\n",
            "  orthogonalize_sfs: true\n",
            "  reset_DIIS_history: false\n",
            "lin_basis_params:\n",
            "  ao_confinement: 0.0083\n",
            "  confinement:\n",
            "  - 0.0083\n",
            "  - 0.0\n",
            "  nbasis: 4\n",
            "  rloc:\n",
            "  - 7.0\n",
            "  - 7.0\n",
            "  rloc_kernel: 9.0\n",
            "  rloc_kernel_foe: 14.0\n",
            "lin_general:\n",
            "  calc_dipole: false\n",
            "  calc_quadrupole: false\n",
            "  calculate_FOE_eigenvalues:\n",
            "  - 0\n",
            "  - -1\n",
            "  calculate_onsite_overlap: false\n",
            "  cdft_add_w_guess: 0.0\n",
            "  charge_multipoles: 0\n",
            "  check_multipoles: true\n",
            "  conf_damping: -0.5\n",
            "  consider_entropy: false\n",
            "  extra_states: 0\n",
            "  frag_neighbour_cutoff: 12.0d0\n",
            "  frag_num_neighbours: 0\n",
            "  hybrid: false\n",
            "  kernel_restart_mode: 0\n",
            "  kernel_restart_noise: 0.0d0\n",
            "  max_inversion_error: 1.d0\n",
            "  multipole_centers: 0.0\n",
            "  nit:\n",
            "  - 100\n",
            "  - 100\n",
            "  output_coeff: 0\n",
            "  output_fragments: 0\n",
            "  output_mat: 0\n",
            "  output_matmul: false\n",
            "  output_multipole_matrices: true\n",
            "  output_wf: 0\n",
            "  plot_locreg_grids: false\n",
            "  precision_FOE_eigenvalues: 0.005\n",
            "  rpnrm_cv:\n",
            "  - 1.0e-12\n",
            "  - 1.0e-12\n",
            "  subspace_diag: false\n",
            "  support_function_multipoles: false\n",
            "  taylor_order: 0\n",
            "lin_kernel:\n",
            "  alpha_fit_coeff: false\n",
            "  alpha_sd_coeff: 0.2\n",
            "  alphamix:\n",
            "  - 0.5\n",
            "  - 0.5\n",
            "  coeff_scaling_factor: 1.0\n",
            "  delta_pnrm: -1.0\n",
            "  diag_start: false\n",
            "  gnrm_cv_coeff:\n",
            "  - 1.0e-05\n",
            "  - 1.0e-05\n",
            "  idsx:\n",
            "  - 0\n",
            "  - 0\n",
            "  idsx_coeff:\n",
            "  - 0\n",
            "  - 0\n",
            "  linear_method: DIAG\n",
            "  mixing_method: DEN\n",
            "  nit:\n",
            "  - 5\n",
            "  - 5\n",
            "  nstep:\n",
            "  - 1\n",
            "  - 1\n",
            "  rpnrm_cv:\n",
            "  - 1.0e-10\n",
            "  - 1.0e-10\n",
            "logfile: true\n",
            "md:\n",
            "  always_from_scratch: false\n",
            "  mdsteps: 0\n",
            "  no_translation: false\n",
            "  print_frequency: 1\n",
            "  restart_nose: false\n",
            "  restart_pos: false\n",
            "  restart_vel: false\n",
            "  temperature: 300.d0\n",
            "  thermostat: none\n",
            "  timestep: 20.d0\n",
            "  wavefunction_extrapolation: 0\n",
            "mix:\n",
            "  alphadiis: 2.0\n",
            "  alphamix: 0.0\n",
            "  diis_sd_switch_tolerance: 0\n",
            "  iscf: 0\n",
            "  itrpmax: 1\n",
            "  norbsempty: 0\n",
            "  occopt: 1\n",
            "  rpnrm_cv: 0.0001\n",
            "  tel: 0.0\n",
            "mode:\n",
            "  add_coulomb_force: false\n",
            "  method: dft\n",
            "outdir: ./\n",
            "output:\n",
            "  apply_coeffs: true\n",
            "  atomic_density_matrix: None\n",
            "  coupling_matrix: complete\n",
            "  orbitals: None\n",
            "  outputpsiid: wavefunction\n",
            "  sdos: false\n",
            "  verbosity: 2\n",
            "perf:\n",
            "  FOE_restart: 0\n",
            "  accel: false\n",
            "  adjust_kernel_iterations: true\n",
            "  adjust_kernel_threshold: true\n",
            "  blas: false\n",
            "  calculate_KS_residue: true\n",
            "  calculate_forces: true\n",
            "  calculate_gap: false\n",
            "  check_matrix_compression: true\n",
            "  check_overlap: 1\n",
            "  check_sumrho: 1\n",
            "  coeff_weight_analysis: false\n",
            "  correction_co_contra: true\n",
            "  debug: false\n",
            "  domain: null\n",
            "  enable_matrix_taskgroups: true\n",
            "  exctxpar: OP2P\n",
            "  experimental_mode: false\n",
            "  explicit_locregcenters: false\n",
            "  fftcache: 8192\n",
            "  foe_gap: false\n",
            "  hamapp_radius_incr: 8\n",
            "  ig_blocks:\n",
            "  - 300\n",
            "  - 800\n",
            "  ig_diag: true\n",
            "  ig_norbp: 5\n",
            "  ig_tol: 0.0001\n",
            "  imethod_overlap: 1\n",
            "  inguess_geopt: 0\n",
            "  intermediate_forces: false\n",
            "  iterative_orthogonalization: false\n",
            "  kappa_conv: 0.1\n",
            "  linear: false\n",
            "  loewdin_charge_analysis: false\n",
            "  methortho: 0\n",
            "  mixing_after_inputguess: 1\n",
            "  mp_isf: 16\n",
            "  multipole_preserving: false\n",
            "  ocl_devices: null\n",
            "  ocl_platform: null\n",
            "  projrad: 15.0\n",
            "  psp_onfly: true\n",
            "  rho_commun: DEF\n",
            "  signaling: false\n",
            "  signaltimeout: 0\n",
            "  store_index: true\n",
            "  store_overlap_matrices: true\n",
            "  tolsym: 1.0e-08\n",
            "  unblock_comms: false\n",
            "  wf_extent_analysis: false\n",
            "posinp:\n",
            "  cell:\n",
            "  - .inf\n",
            "  - .inf\n",
            "  - .inf\n",
            "  positions:\n",
            "  - N:\n",
            "    - 0.0\n",
            "    - 0.0\n",
            "    - 0.5488\n",
            "    frag:\n",
            "    - N\n",
            "    - 0\n",
            "  - N:\n",
            "    - 0.0\n",
            "    - 0.0\n",
            "    - -0.5488\n",
            "    frag:\n",
            "    - N\n",
            "    - 1\n",
            "  properties:\n",
            "    format: yaml\n",
            "    source: xc__LDA.yaml\n",
            "  units: angstroem\n",
            "psolver:\n",
            "  environment:\n",
            "    cavity: none\n",
            "    fd_order: 16\n",
            "    itermax: 200\n",
            "    minres: 1.0e-08\n",
            "    pb_method: none\n",
            "  kernel:\n",
            "    isf_order: 16\n",
            "    screening: 0\n",
            "    stress_tensor: true\n",
            "  setup:\n",
            "    accel: none\n",
            "    global_data: false\n",
            "    output: none\n",
            "    taskgroup_size: 0\n",
            "    verbose: true\n",
            "psppar.N:\n",
            "  Atomic number: 7\n",
            "  Local Pseudo Potential (HGH convention):\n",
            "    Coefficients (c1 .. c4):\n",
            "    - -12.23481988\n",
            "    - 1.76640728\n",
            "    - 0.0\n",
            "    - 0.0\n",
            "    Rloc: 0.28917923\n",
            "  No. of Electrons: 5\n",
            "  NonLocal PSP Parameters:\n",
            "  - Channel (l): 0\n",
            "    Rloc: 0.25660487\n",
            "    h_ij terms:\n",
            "    - 13.55224272\n",
            "    - 0.0\n",
            "    - 0.0\n",
            "    - 0.0\n",
            "    - 0.0\n",
            "    - 0.0\n",
            "  - Channel (l): 1\n",
            "    Rloc: 0.27013369\n",
            "    h_ij terms:\n",
            "    - 0.0\n",
            "    - 0.0\n",
            "    - 0.0\n",
            "    - 0.0\n",
            "    - 0.0\n",
            "    - 0.0\n",
            "  Pseudopotential XC: 1\n",
            "  Pseudopotential type: HGH-K\n",
            "  Radii of active regions (AU):\n",
            "    Coarse: 1.370256482166319\n",
            "    Coarse PSP: 0.675334225\n",
            "    Fine: 0.25660487\n",
            "    Source: Hard-Coded\n",
            "  Source: Hard-Coded\n",
            "radical: xc__LDA\n",
            "run_from_files: true\n",
            "sic:\n",
            "  sic_alpha: 0.0\n",
            "  sic_approach: none\n",
            "skip: true\n",
            "tddft:\n",
            "  decompose_perturbation: none\n",
            "  tddft_approach: none\n",
            "\n"
          ]
        }
      ],
      "source": [
        "from yaml import dump\n",
        "print(dump(logfile.log))"
      ]
    },
    {
      "cell_type": "markdown",
      "id": "f0258cfc",
      "metadata": {
        "id": "f0258cfc"
      },
      "source": [
        "For example, information on the Poisson solver is accessible by"
      ]
    },
    {
      "cell_type": "code",
      "execution_count": null,
      "id": "10b65a06",
      "metadata": {
        "colab": {
          "base_uri": "https://localhost:8080/"
        },
        "id": "10b65a06",
        "outputId": "c4f3cbaa-5e48-4ba9-eaaf-dac0c6d9b58c"
      },
      "outputs": [
        {
          "output_type": "execute_result",
          "data": {
            "text/plain": [
              "{'BC': 'Free', 'Box': [139, 139, 153], 'MPI tasks': 1}"
            ]
          },
          "metadata": {},
          "execution_count": 7
        }
      ],
      "source": [
        "logfile.log[\"Poisson Solver\"]"
      ]
    },
    {
      "cell_type": "markdown",
      "id": "639ee6c8",
      "metadata": {
        "id": "639ee6c8"
      },
      "source": [
        "Or similarly, the self-consistent field cycle"
      ]
    },
    {
      "cell_type": "code",
      "execution_count": null,
      "id": "e5672197",
      "metadata": {
        "colab": {
          "base_uri": "https://localhost:8080/",
          "height": 341
        },
        "id": "e5672197",
        "outputId": "30e5d36b-1875-45d6-bd90-6ffa4759375e"
      },
      "outputs": [
        {
          "output_type": "execute_result",
          "data": {
            "text/plain": [
              "<matplotlib.axes._subplots.AxesSubplot at 0x7f81610982d0>"
            ]
          },
          "metadata": {},
          "execution_count": 15
        },
        {
          "output_type": "display_data",
          "data": {
            "text/plain": [
              "<Figure size 460.8x345.6 with 1 Axes>"
            ],
            "image/png": "[encoded data removed]"
          },
          "metadata": {
            "needs_background": "light"
          }
        }
      ],
      "source": [
        "logfile.SCF_convergence()"
      ]
    },
    {
      "cell_type": "markdown",
      "id": "c228613d",
      "metadata": {
        "id": "c228613d"
      },
      "source": [
        "All `keys` elements are listed afterwards"
      ]
    },
    {
      "cell_type": "code",
      "execution_count": null,
      "id": "a6c5379c",
      "metadata": {
        "colab": {
          "base_uri": "https://localhost:8080/"
        },
        "id": "a6c5379c",
        "outputId": "7b3f5f44-0602-4274-a03d-ccabbf63a63d"
      },
      "outputs": [
        {
          "output_type": "stream",
          "name": "stdout",
          "text": [
            "dict_keys(['Code logo', 'Reference Paper', 'Version Number', 'Timestamp of this run', 'Root process Hostname', 'Number of MPI tasks', 'OpenMP parallelization', 'Maximal OpenMP threads per MPI task', 'Compilation options', 'radical', 'outdir', 'logfile', 'run_from_files', 'skip', 'dft', 'psolver', 'chess', 'output', 'kpt', 'geopt', 'md', 'mix', 'sic', 'tddft', 'mode', 'perf', 'lin_general', 'lin_basis', 'lin_kernel', 'lin_basis_params', 'psppar.N', 'posinp', 'Data Writing directory', 'Atomic System Properties', 'Geometry Optimization Parameters', 'Material acceleration', 'DFT parameters', 'Basis set definition', 'Self-Consistent Cycle Parameters', 'Post Optimization Parameters', 'Properties of atoms in the system', 'Atomic structure', 'Box Grid spacings', 'Sizes of the simulation domain', 'High Res. box is treated separately', 'Wavefunctions Descriptors, full simulation domain', 'Poisson Kernel Initialization', 'Poisson Kernel Creation', 'Total Number of Electrons', 'Spin treatment', 'Orbitals Repartition', 'Total Number of Orbitals', 'Input Occupation Numbers', 'Wavefunctions memory occupation for root MPI process', 'NonLocal PSP Projectors Descriptors', 'Communication checks', 'Memory requirements for principal quantities (MiB.KiB)', 'Accumulated memory requirements during principal run stages (MiB.KiB)', 'Estimated Memory Peak (MB)', 'Ion-Ion interaction energy', 'Total ionic charge', 'Poisson Solver', 'Interaction energy ions multipoles', 'Interaction energy multipoles multipoles', 'Input Hamiltonian', 'Ground State Optimization', 'Last Iteration', 'GPU acceleration', 'Total electronic charge', 'Multipole analysis origin', 'Electric Dipole Moment (AU)', 'Electric Dipole Moment (Debye)', 'Quadrupole Moment (AU)', 'Spreads of the electronic density (AU)', 'Calculate local forces', 'Calculate Non Local forces', 'Timings for root process', 'BigDFT infocode', 'Average noise forces', 'Clean forces norm (Ha/Bohr)', 'Raw forces norm (Ha/Bohr)', 'Atomic Forces (Ha/Bohr)', 'Energy (Hartree)', 'Force Norm (Hartree/Bohr)', 'Memory Consumption Report', 'Walltime since initialization', 'Max No. of dictionaries used', 'Number of dictionary folders allocated'])\n"
          ]
        }
      ],
      "source": [
        "print(logfile.log.keys())"
      ]
    },
    {
      "cell_type": "markdown",
      "id": "c5f98073",
      "metadata": {
        "id": "c5f98073"
      },
      "source": [
        "## Extended systems: graphene\n",
        "\n",
        "Let us inspect a simple example of a solid state calculation by considering a two-dimensional (2D) materials, graphene. "
      ]
    },
    {
      "cell_type": "code",
      "execution_count": null,
      "id": "a2812728",
      "metadata": {
        "id": "a2812728"
      },
      "outputs": [],
      "source": [
        "gr = L.Logfile(\"./scratch/log-graphene.yaml\")"
      ]
    },
    {
      "cell_type": "markdown",
      "id": "e99415df",
      "metadata": {
        "id": "e99415df"
      },
      "source": [
        "[Graphene](https://en.wikipedia.org/wiki/Graphene) is a 2D carbon allotrope in the form of a honeycomb network that consists of a two inequivalent triangular lattices, with a C-C bond of 1.42$~$angstroem, or equivalently, a lattice parameter such that $a_0 = 2.46~$angstroem."
      ]
    },
    {
      "cell_type": "code",
      "execution_count": null,
      "id": "8b4325f9",
      "metadata": {
        "colab": {
          "base_uri": "https://localhost:8080/"
        },
        "id": "8b4325f9",
        "outputId": "e0823d9b-3bce-46f2-e8a6-1bf0eb00f9ab"
      },
      "outputs": [
        {
          "output_type": "execute_result",
          "data": {
            "text/plain": [
              "{'units': 'angstroem',\n",
              " 'cell': [4.330127018922193, inf, 2.5],\n",
              " 'positions': [{'C': [0.0, 4.127582245, 1.25]},\n",
              "  {'C': [2.165063509, 4.127582245, 0.0]},\n",
              "  {'C': [0.7216878365, 4.127582245, 0.0]},\n",
              "  {'C': [2.886751346, 4.127582245, 1.25]}],\n",
              " 'position offset': [0.0, -7.8, 0.0],\n",
              " 'Rigid Shift Applied (AU)': [0.0, 7.8, 0.0],\n",
              " 'forces': [{'C': [3.725158813391e-05, 0.0, -1.280528231035e-18]},\n",
              "  {'C': [3.725158813391e-05, 0.0, 2.817162108277e-18]},\n",
              "  {'C': [-3.725158813391e-05, 0.0, -2.048845169656e-18]},\n",
              "  {'C': [-3.725158813391e-05, 0.0, -2.048845169656e-18]}]}"
            ]
          },
          "metadata": {},
          "execution_count": 18
        }
      ],
      "source": [
        "# or gr.log[\"Atomic structure\"]\n",
        "gr.astruct"
      ]
    },
    {
      "cell_type": "code",
      "execution_count": null,
      "id": "ed20dab7",
      "metadata": {
        "colab": {
          "base_uri": "https://localhost:8080/",
          "height": 317
        },
        "id": "ed20dab7",
        "outputId": "37b7c718-35f2-4e00-f4f7-91fcb2660e6f"
      },
      "outputs": [
        {
          "output_type": "display_data",
          "data": {
            "application/3dmoljs_load.v0": "<div id=\"3dmolviewer_1663768695492784\"  style=\"position: relative; width: 400px; height: 300px\">\n        <p id=\"3dmolwarning_1663768695492784\" style=\"background-color:#ffcccc;color:black\">You appear to be running in JupyterLab (or JavaScript failed to load for some other reason).  You need to install the 3dmol extension: <br>\n        <tt>jupyter labextension install jupyterlab_3dmol</tt></p>\n        </div>\n<script>\n\nvar loadScriptAsync = function(uri){\n  return new Promise((resolve, reject) => {\n    var tag = document.createElement('script');\n    tag.src = uri;\n    tag.async = true;\n    tag.onload = () => {\n      resolve();\n    };\n  var firstScriptTag = document.getElementsByTagName('script')[0];\n  firstScriptTag.parentNode.insertBefore(tag, firstScriptTag);\n});\n};\n\nif(typeof $3Dmolpromise === 'undefined') {\n$3Dmolpromise = null;\n  $3Dmolpromise = loadScriptAsync('https://cdn.jsdelivr.net/npm/3dmol@latest/build/3Dmol-min.min.js');\n}\n\nvar viewer_1663768695492784 = null;\nvar warn = document.getElementById(\"3dmolwarning_1663768695492784\");\nif(warn) {\n    warn.parentNode.removeChild(warn);\n}\n$3Dmolpromise.then(function() {\nvar viewergrid_1663768695492784 = null;\nviewergrid_1663768695492784 = $3Dmol.createViewerGrid($(\"#3dmolviewer_1663768695492784\"),{rows: 1, cols: 1, control_all: false},{backgroundColor:\"white\"});\nviewer_1663768695492784 = viewergrid_1663768695492784[0][0];\nviewergrid_1663768695492784[0][0].zoomTo();\tviewergrid_1663768695492784[0][0].addModelsAsFrames(\"MODEL 0\\nHETATM    1 C    FUL A   0       0.000   0.000   1.250  1.00  0.00       B   C  \\nHETATM    2 C    FUL A   0       2.165   0.000   0.000  1.00  0.00       B   C  \\nHETATM    3 C    FUL A   0       0.722   0.000   0.000  1.00  0.00       B   C  \\nHETATM    4 C    FUL A   0       2.887   0.000   1.250  1.00  0.00       B   C  \\nENDMDL\\n\",\"pdb\",{\"keepH\": \"true\"});\n\tviewergrid_1663768695492784[0][0].setStyle({\"model\": -1},{\"line\": {\"color\": \"black\"}});\n\tviewergrid_1663768695492784[0][0].addModelsAsFrames(\"MODEL 0\\nHETATM    1 C    FUL A   0       0.000   0.000   1.250  1.00  0.00       B   C  \\nHETATM    2 C    FUL A   0       2.165   0.000   0.000  1.00  0.00       B   C  \\nHETATM    3 C    FUL A   0       0.722   0.000   0.000  1.00  0.00       B   C  \\nHETATM    4 C    FUL A   0       2.887   0.000   1.250  1.00  0.00       B   C  \\nENDMDL\\n\",\"pdb\",{\"keepH\": \"true\"});\n\tviewergrid_1663768695492784[0][0].setStyle({\"model\": -1, \"serial\": 1},{\"sphere\": {\"scale\": 0.2, \"color\": \"#7F00FF\"}});\n\tviewergrid_1663768695492784[0][0].addModelsAsFrames(\"MODEL 0\\nHETATM    1 C    FUL A   0       0.000   0.000   1.250  1.00  0.00       B   C  \\nHETATM    2 C    FUL A   0       2.165   0.000   0.000  1.00  0.00       B   C  \\nHETATM    3 C    FUL A   0       0.722   0.000   0.000  1.00  0.00       B   C  \\nHETATM    4 C    FUL A   0       2.887   0.000   1.250  1.00  0.00       B   C  \\nENDMDL\\n\",\"pdb\",{\"keepH\": \"true\"});\n\tviewergrid_1663768695492784[0][0].setStyle({\"model\": -1, \"serial\": 2},{\"sphere\": {\"scale\": 0.2, \"color\": \"#7F00FF\"}});\n\tviewergrid_1663768695492784[0][0].addModelsAsFrames(\"MODEL 0\\nHETATM    1 C    FUL A   0       0.000   0.000   1.250  1.00  0.00       B   C  \\nHETATM    2 C    FUL A   0       2.165   0.000   0.000  1.00  0.00       B   C  \\nHETATM    3 C    FUL A   0       0.722   0.000   0.000  1.00  0.00       B   C  \\nHETATM    4 C    FUL A   0       2.887   0.000   1.250  1.00  0.00       B   C  \\nENDMDL\\n\",\"pdb\",{\"keepH\": \"true\"});\n\tviewergrid_1663768695492784[0][0].setStyle({\"model\": -1, \"serial\": 3},{\"sphere\": {\"scale\": 0.2, \"color\": \"#7F00FF\"}});\n\tviewergrid_1663768695492784[0][0].addModelsAsFrames(\"MODEL 0\\nHETATM    1 C    FUL A   0       0.000   0.000   1.250  1.00  0.00       B   C  \\nHETATM    2 C    FUL A   0       2.165   0.000   0.000  1.00  0.00       B   C  \\nHETATM    3 C    FUL A   0       0.722   0.000   0.000  1.00  0.00       B   C  \\nHETATM    4 C    FUL A   0       2.887   0.000   1.250  1.00  0.00       B   C  \\nENDMDL\\n\",\"pdb\",{\"keepH\": \"true\"});\n\tviewergrid_1663768695492784[0][0].setStyle({\"model\": -1, \"serial\": 4},{\"sphere\": {\"scale\": 0.2, \"color\": \"#7F00FF\"}});\n\tviewergrid_1663768695492784[0][0].addUnitCell({\"model\": -1},{\"box\": {\"color\": \"black\"}, \"alabel\": \"\", \"blabel\": \"\", \"clabel\": \"\"});\n\tviewergrid_1663768695492784[0][0].zoomTo();\nviewergrid_1663768695492784[0][0].render();\n});\n</script>",
            "text/html": [
              "<div id=\"3dmolviewer_1663768695492784\"  style=\"position: relative; width: 400px; height: 300px\">\n",
              "        <p id=\"3dmolwarning_1663768695492784\" style=\"background-color:#ffcccc;color:black\">You appear to be running in JupyterLab (or JavaScript failed to load for some other reason).  You need to install the 3dmol extension: <br>\n",
              "        <tt>jupyter labextension install jupyterlab_3dmol</tt></p>\n",
              "        </div>\n",
              "<script>\n",
              "\n",
              "var loadScriptAsync = function(uri){\n",
              "  return new Promise((resolve, reject) => {\n",
              "    var tag = document.createElement('script');\n",
              "    tag.src = uri;\n",
              "    tag.async = true;\n",
              "    tag.onload = () => {\n",
              "      resolve();\n",
              "    };\n",
              "  var firstScriptTag = document.getElementsByTagName('script')[0];\n",
              "  firstScriptTag.parentNode.insertBefore(tag, firstScriptTag);\n",
              "});\n",
              "};\n",
              "\n",
              "if(typeof $3Dmolpromise === 'undefined') {\n",
              "$3Dmolpromise = null;\n",
              "  $3Dmolpromise = loadScriptAsync('https://cdn.jsdelivr.net/npm/3dmol@latest/build/3Dmol-min.min.js');\n",
              "}\n",
              "\n",
              "var viewer_1663768695492784 = null;\n",
              "var warn = document.getElementById(\"3dmolwarning_1663768695492784\");\n",
              "if(warn) {\n",
              "    warn.parentNode.removeChild(warn);\n",
              "}\n",
              "$3Dmolpromise.then(function() {\n",
              "var viewergrid_1663768695492784 = null;\n",
              "viewergrid_1663768695492784 = $3Dmol.createViewerGrid($(\"#3dmolviewer_1663768695492784\"),{rows: 1, cols: 1, control_all: false},{backgroundColor:\"white\"});\n",
              "viewer_1663768695492784 = viewergrid_1663768695492784[0][0];\n",
              "viewergrid_1663768695492784[0][0].zoomTo();\tviewergrid_1663768695492784[0][0].addModelsAsFrames(\"MODEL 0\\nHETATM    1 C    FUL A   0       0.000   0.000   1.250  1.00  0.00       B   C  \\nHETATM    2 C    FUL A   0       2.165   0.000   0.000  1.00  0.00       B   C  \\nHETATM    3 C    FUL A   0       0.722   0.000   0.000  1.00  0.00       B   C  \\nHETATM    4 C    FUL A   0       2.887   0.000   1.250  1.00  0.00       B   C  \\nENDMDL\\n\",\"pdb\",{\"keepH\": \"true\"});\n",
              "\tviewergrid_1663768695492784[0][0].setStyle({\"model\": -1},{\"line\": {\"color\": \"black\"}});\n",
              "\tviewergrid_1663768695492784[0][0].addModelsAsFrames(\"MODEL 0\\nHETATM    1 C    FUL A   0       0.000   0.000   1.250  1.00  0.00       B   C  \\nHETATM    2 C    FUL A   0       2.165   0.000   0.000  1.00  0.00       B   C  \\nHETATM    3 C    FUL A   0       0.722   0.000   0.000  1.00  0.00       B   C  \\nHETATM    4 C    FUL A   0       2.887   0.000   1.250  1.00  0.00       B   C  \\nENDMDL\\n\",\"pdb\",{\"keepH\": \"true\"});\n",
              "\tviewergrid_1663768695492784[0][0].setStyle({\"model\": -1, \"serial\": 1},{\"sphere\": {\"scale\": 0.2, \"color\": \"#7F00FF\"}});\n",
              "\tviewergrid_1663768695492784[0][0].addModelsAsFrames(\"MODEL 0\\nHETATM    1 C    FUL A   0       0.000   0.000   1.250  1.00  0.00       B   C  \\nHETATM    2 C    FUL A   0       2.165   0.000   0.000  1.00  0.00       B   C  \\nHETATM    3 C    FUL A   0       0.722   0.000   0.000  1.00  0.00       B   C  \\nHETATM    4 C    FUL A   0       2.887   0.000   1.250  1.00  0.00       B   C  \\nENDMDL\\n\",\"pdb\",{\"keepH\": \"true\"});\n",
              "\tviewergrid_1663768695492784[0][0].setStyle({\"model\": -1, \"serial\": 2},{\"sphere\": {\"scale\": 0.2, \"color\": \"#7F00FF\"}});\n",
              "\tviewergrid_1663768695492784[0][0].addModelsAsFrames(\"MODEL 0\\nHETATM    1 C    FUL A   0       0.000   0.000   1.250  1.00  0.00       B   C  \\nHETATM    2 C    FUL A   0       2.165   0.000   0.000  1.00  0.00       B   C  \\nHETATM    3 C    FUL A   0       0.722   0.000   0.000  1.00  0.00       B   C  \\nHETATM    4 C    FUL A   0       2.887   0.000   1.250  1.00  0.00       B   C  \\nENDMDL\\n\",\"pdb\",{\"keepH\": \"true\"});\n",
              "\tviewergrid_1663768695492784[0][0].setStyle({\"model\": -1, \"serial\": 3},{\"sphere\": {\"scale\": 0.2, \"color\": \"#7F00FF\"}});\n",
              "\tviewergrid_1663768695492784[0][0].addModelsAsFrames(\"MODEL 0\\nHETATM    1 C    FUL A   0       0.000   0.000   1.250  1.00  0.00       B   C  \\nHETATM    2 C    FUL A   0       2.165   0.000   0.000  1.00  0.00       B   C  \\nHETATM    3 C    FUL A   0       0.722   0.000   0.000  1.00  0.00       B   C  \\nHETATM    4 C    FUL A   0       2.887   0.000   1.250  1.00  0.00       B   C  \\nENDMDL\\n\",\"pdb\",{\"keepH\": \"true\"});\n",
              "\tviewergrid_1663768695492784[0][0].setStyle({\"model\": -1, \"serial\": 4},{\"sphere\": {\"scale\": 0.2, \"color\": \"#7F00FF\"}});\n",
              "\tviewergrid_1663768695492784[0][0].addUnitCell({\"model\": -1},{\"box\": {\"color\": \"black\"}, \"alabel\": \"\", \"blabel\": \"\", \"clabel\": \"\"});\n",
              "\tviewergrid_1663768695492784[0][0].zoomTo();\n",
              "viewergrid_1663768695492784[0][0].render();\n",
              "});\n",
              "</script>"
            ]
          },
          "metadata": {}
        }
      ],
      "source": [
        "# this only visualizes the unit cell atoms\n",
        "sys = S.system_from_log(gr,fragmentation='full')\n",
        "sys.display();"
      ]
    },
    {
      "cell_type": "markdown",
      "id": "dc44d407",
      "metadata": {
        "id": "dc44d407"
      },
      "source": [
        "In order to properly characterize extended systems, a $k$-points mesh is required to handle periodicity. "
      ]
    },
    {
      "cell_type": "code",
      "execution_count": null,
      "id": "0bde594c",
      "metadata": {
        "colab": {
          "base_uri": "https://localhost:8080/"
        },
        "id": "0bde594c",
        "outputId": "f3e2ecf6-3f42-4baf-95de-c2cf51282b03"
      },
      "outputs": [
        {
          "output_type": "execute_result",
          "data": {
            "text/plain": [
              "[15, 1, 27]"
            ]
          },
          "metadata": {},
          "execution_count": 21
        }
      ],
      "source": [
        "gr.kpt_mesh"
      ]
    },
    {
      "cell_type": "markdown",
      "id": "6fdb2f88",
      "metadata": {
        "id": "6fdb2f88"
      },
      "source": [
        "Additionally, mixing is sometimes needed for convergence, such that the effect of abrupt changes in the density are smoothened away."
      ]
    },
    {
      "cell_type": "code",
      "execution_count": null,
      "id": "8826eec8",
      "metadata": {
        "colab": {
          "base_uri": "https://localhost:8080/"
        },
        "id": "8826eec8",
        "outputId": "78347ab1-d5e7-40c7-f81c-148f4c166efc"
      },
      "outputs": [
        {
          "output_type": "stream",
          "name": "stdout",
          "text": [
            "alphadiis: 1.d0\n",
            "alphamix: 0.8\n",
            "diis_sd_switch_tolerance: 0\n",
            "iscf: 17\n",
            "itrpmax: 200\n",
            "norbsempty: 10\n",
            "occopt: 1\n",
            "rpnrm_cv: 1.0e-10\n",
            "tel: 0.01\n",
            "\n"
          ]
        }
      ],
      "source": [
        "print(dump(gr.log[\"mix\"]))\n",
        "# inp[\"import\"] = \"mixing\""
      ]
    },
    {
      "cell_type": "markdown",
      "id": "41077f6c",
      "metadata": {
        "id": "41077f6c"
      },
      "source": [
        "The interested reader is invited to go through this [tutorial](../tutorials/SolidState.ipynb)\n",
        "\n",
        "### Graphene massless Dirac fermions\n",
        "\n",
        "When analyzing electronic properties, the $k$-dependence is obtained by plotting the band structure. This is done along a given path, that can be specified by the user. "
      ]
    },
    {
      "cell_type": "code",
      "source": [
        "install.packages('spglib','ase')"
      ],
      "metadata": {
        "id": "WIT89ogAWEPU"
      },
      "id": "WIT89ogAWEPU",
      "execution_count": null,
      "outputs": []
    },
    {
      "cell_type": "code",
      "execution_count": null,
      "id": "222ed0e2",
      "metadata": {
        "colab": {
          "base_uri": "https://localhost:8080/"
        },
        "id": "222ed0e2",
        "outputId": "b19ef23b-8c84-4674-b2d2-fc15b1ef24f3"
      },
      "outputs": [
        {
          "output_type": "stream",
          "name": "stdout",
          "text": [
            "spacegroup P6/mmm (191)\n",
            "Lattice found: orthorhombic\n"
          ]
        },
        {
          "output_type": "stream",
          "name": "stderr",
          "text": [
            "/content/drive/MyDrive/bigdft-school/install/lib/python3.7/site-packages/ase/dft/kpoints.py:655: UserWarning: Please call this function with cell as the first argument\n",
            "  warnings.warn('Please call this function with cell as the first '\n"
          ]
        },
        {
          "output_type": "stream",
          "name": "stdout",
          "text": [
            "irreductible k-points 112\n",
            "Interpolation bias 1.0852849288836878e-08\n",
            "('G', array([0., 0., 0.]))\n",
            "('R', array([0.5, 0.5, 0.5]))\n",
            "('S', array([0. , 0.5, 0.5]))\n",
            "('T', array([0.5, 0. , 0.5]))\n",
            "('U', array([0.5, 0.5, 0. ]))\n",
            "('X', array([0. , 0.5, 0. ]))\n",
            "('Y', array([0. , 0. , 0.5]))\n",
            "('Z', array([0.5, 0. , 0. ]))\n",
            "[['G', 'X', 'S', 'Y', 'G', 'Z', 'U', 'R', 'T', 'Z'], ['Y', 'T'], ['U', 'X'], ['S', 'R']]\n"
          ]
        }
      ],
      "source": [
        "BZ_gr = gr.get_brillouin_zone()\n",
        "\n",
        "hsp = BZ_gr.special_points # high symmetry points\n",
        "[print(i) for i in hsp.items()]\n",
        "paths = BZ_gr.special_paths # high symmetry path list\n",
        "print(paths)"
      ]
    },
    {
      "cell_type": "markdown",
      "id": "2cbc1b3e",
      "metadata": {
        "id": "2cbc1b3e"
      },
      "source": [
        "Here we choose half the first path, since the 2D character of our system implies no dependence in $k_x$."
      ]
    },
    {
      "cell_type": "code",
      "execution_count": null,
      "id": "e16c09b8",
      "metadata": {
        "id": "e16c09b8"
      },
      "outputs": [],
      "source": [
        "path = paths[0][:5]"
      ]
    },
    {
      "cell_type": "markdown",
      "id": "0a3dafe5",
      "metadata": {
        "id": "0a3dafe5"
      },
      "source": [
        "Eventually, the band structure is plotted using the `BZ` class by giving a list of special $k$-points (i.e. the `path` defined above)"
      ]
    },
    {
      "cell_type": "code",
      "execution_count": null,
      "id": "07a808e5",
      "metadata": {
        "colab": {
          "base_uri": "https://localhost:8080/",
          "height": 368
        },
        "id": "07a808e5",
        "outputId": "41fb02af-2567-47ce-a721-1be24b2c9e09"
      },
      "outputs": [
        {
          "output_type": "stream",
          "name": "stderr",
          "text": [
            "/content/drive/MyDrive/bigdft-school/install/lib/python3.7/site-packages/ase/dft/kpoints.py:357: UserWarning: Please do not use (kpts, x, X) = bandpath(...).  Use path = bandpath(...) and then kpts = path.kpts and (x, X, labels) = path.get_linear_kpoint_axis().\n",
            "  warnings.warn('Please do not use (kpts, x, X) = bandpath(...).  '\n"
          ]
        },
        {
          "output_type": "display_data",
          "data": {
            "text/plain": [
              "<Figure size 460.8x345.6 with 1 Axes>"
            ],
            "image/png": "[encoded data removed]"
          },
          "metadata": {
            "needs_background": "light"
          }
        }
      ],
      "source": [
        "import BigDFT.BZ as BZ\n",
        "\n",
        "npts = 200\n",
        "path_bs = BZ.BZPath(BZ_gr.lattice,path,hsp,npts=npts)\n",
        "\n",
        "ax = BZ_gr.plot(path=path_bs,npts=npts)\n",
        "ax.set_ylim([-10,5]);"
      ]
    },
    {
      "cell_type": "markdown",
      "id": "eb22787e",
      "metadata": {
        "id": "eb22787e"
      },
      "source": [
        "## Exercise on XC functional (suite)\n",
        "\n",
        "From the previous analysis on XC functionals of N2, compare the following physical or numerical properties:\n",
        "-  the density of states\n",
        "-  the wavefunction convergence\n",
        "-  the memory employed\n",
        "-  ...\n",
        "\n",
        "**Hint**: the `Logfile` are obtained with the fetch_results() method"
      ]
    },
    {
      "cell_type": "code",
      "source": [
        "#get the data\n",
        "install.data('data/session1.tar.xz')"
      ],
      "metadata": {
        "id": "g0XO6yFnXvjK",
        "outputId": "4d751b10-d3b5-4518-a27c-fc8593af4a34",
        "colab": {
          "base_uri": "https://localhost:8080/"
        }
      },
      "id": "g0XO6yFnXvjK",
      "execution_count": null,
      "outputs": [
        {
          "output_type": "stream",
          "name": "stdout",
          "text": [
            "\n"
          ]
        }
      ]
    },
    {
      "cell_type": "code",
      "source": [
        "from BigDFT import Datasets as D\n",
        "from BigDFT import Inputfiles as I\n",
        "from BigDFT import Calculators as C\n",
        "from BigDFT.Database import Molecules as M # alternative method to get N2 positions\n",
        "from copy import deepcopy\n",
        "inp = I.Inputfile()\n",
        "inp.set_hgrid(.3)\n",
        "inp.set_rmult(6)\n",
        "pos = M.Molecule('N2')\n",
        "study = C.SystemCalculator(skip=True,verbose=True)\n",
        "xc_dataset = D.Dataset('xc')\n",
        "xc_list = ['LDA','PBE','HF','PBE0']\n",
        "for xc in xc_list:\n",
        "    inp_run = deepcopy(inp)\n",
        "    inp_run.set_xc(xc)\n",
        "    if xc in ['HF','PBE0']:\n",
        "        inp_run['psppar.N']={'Pseudopotential XC': 1} \n",
        "    xc_dataset.append_run(id={'xc':xc},run_dir='scratch',input=inp_run,posinp=pos,runner=study)"
      ],
      "metadata": {
        "id": "8ZDOezzGX2U7",
        "outputId": "9f449fbe-4749-484a-bf04-bf82cddb745d",
        "colab": {
          "base_uri": "https://localhost:8080/"
        }
      },
      "id": "8ZDOezzGX2U7",
      "execution_count": null,
      "outputs": [
        {
          "output_type": "stream",
          "name": "stdout",
          "text": [
            "Initialize a Calculator with OMP_NUM_THREADS=1 and command /content/drive/MyDrive/bigdft-school/install/bin/bigdft\n"
          ]
        }
      ]
    },
    {
      "cell_type": "code",
      "source": [
        "xc_dataset.run()"
      ],
      "metadata": {
        "id": "FnuIKvUKYk1-",
        "outputId": "fc1b4344-c095-42a6-aa80-f9a0ea8d13de",
        "colab": {
          "base_uri": "https://localhost:8080/"
        }
      },
      "id": "FnuIKvUKYk1-",
      "execution_count": null,
      "outputs": [
        {
          "output_type": "stream",
          "name": "stdout",
          "text": [
            "Creating the yaml input file \"scratch/xc__LDA.yaml\"\n",
            "Run directory scratch\n",
            "Executing command:  /content/drive/MyDrive/bigdft-school/install/bin/bigdft -n xc__LDA -s Yes\n",
            "Creating the yaml input file \"scratch/xc__PBE.yaml\"\n",
            "Run directory scratch\n",
            "Executing command:  /content/drive/MyDrive/bigdft-school/install/bin/bigdft -n xc__PBE -s Yes\n",
            "Creating the yaml input file \"scratch/xc__HF.yaml\"\n",
            "Run directory scratch\n",
            "Executing command:  /content/drive/MyDrive/bigdft-school/install/bin/bigdft -n xc__HF -s Yes\n",
            "Creating the yaml input file \"scratch/xc__PBE0.yaml\"\n",
            "Run directory scratch\n",
            "Executing command:  /content/drive/MyDrive/bigdft-school/install/bin/bigdft -n xc__PBE0 -s Yes\n"
          ]
        },
        {
          "output_type": "execute_result",
          "data": {
            "text/plain": [
              "{0: <BigDFT.Logfiles.Logfile at 0x7f815a809910>,\n",
              " 1: <BigDFT.Logfiles.Logfile at 0x7f8158e21f10>,\n",
              " 2: <BigDFT.Logfiles.Logfile at 0x7f8158afd950>,\n",
              " 3: <BigDFT.Logfiles.Logfile at 0x7f8159421950>}"
            ]
          },
          "metadata": {},
          "execution_count": 45
        }
      ]
    },
    {
      "cell_type": "code",
      "execution_count": null,
      "id": "491f5669",
      "metadata": {
        "id": "491f5669"
      },
      "outputs": [],
      "source": [
        "logfiles = xc_dataset.fetch_results()"
      ]
    },
    {
      "cell_type": "markdown",
      "id": "e9d535f7",
      "metadata": {
        "id": "e9d535f7"
      },
      "source": [
        "### Solution"
      ]
    },
    {
      "cell_type": "code",
      "execution_count": null,
      "id": "ca417323",
      "metadata": {
        "colab": {
          "base_uri": "https://localhost:8080/",
          "height": 396
        },
        "id": "ca417323",
        "outputId": "e3ee44c6-945d-4c1a-eb2e-10f8d5288dff"
      },
      "outputs": [
        {
          "output_type": "display_data",
          "data": {
            "text/plain": [
              "<Figure size 576x432 with 1 Axes>"
            ],
            "image/png": "[encoded data removed]"
          },
          "metadata": {
            "needs_background": "light"
          }
        }
      ],
      "source": [
        "from matplotlib import pyplot as plt, lines\n",
        "fig,ax = plt.subplots(figsize=(8,6))\n",
        "for log in logfiles[1:]:\n",
        "    dos = log.get_dos()\n",
        "    dos.plot(ax=ax)\n",
        "colors = ['tab:blue','tab:orange','tab:green']\n",
        "lins = [lines.Line2D([0],[0],color=c) for c in colors]\n",
        "ax.legend(lins,xc_list[1:]);"
      ]
    },
    {
      "cell_type": "code",
      "execution_count": null,
      "id": "e47afb2d",
      "metadata": {
        "colab": {
          "base_uri": "https://localhost:8080/",
          "height": 388
        },
        "id": "e47afb2d",
        "outputId": "e3a9e8c8-4a44-4be4-8d66-767091d6ea53"
      },
      "outputs": [
        {
          "output_type": "display_data",
          "data": {
            "text/plain": [
              "<Figure size 576x432 with 1 Axes>"
            ],
            "image/png": "[encoded data removed]"
          },
          "metadata": {
            "needs_background": "light"
          }
        }
      ],
      "source": [
        "fig,ax = plt.subplots(figsize=(8,6))\n",
        "for log in logfiles[1:]:\n",
        "    log.SCF_convergence(ax=ax)\n",
        "colors = ['tab:blue','tab:orange','tab:green']\n",
        "lins = [lines.Line2D([0],[0],color=c) for c in colors]\n",
        "ax.legend(lins,xc_list[1:]);"
      ]
    },
    {
      "cell_type": "code",
      "execution_count": null,
      "id": "cc613871",
      "metadata": {
        "colab": {
          "base_uri": "https://localhost:8080/"
        },
        "id": "cc613871",
        "outputId": "c3bdad8b-5acb-4b78-e7c7-c438d8634e30"
      },
      "outputs": [
        {
          "output_type": "stream",
          "name": "stdout",
          "text": [
            "LDA 274\n",
            "PBE 274\n",
            "HF 274\n",
            "PBE0 274\n"
          ]
        }
      ],
      "source": [
        "for log,xc in zip(logfiles,xc_list):\n",
        "    print(xc,log.log['Estimated Memory Peak (MB)'])"
      ]
    },
    {
      "cell_type": "code",
      "source": [],
      "metadata": {
        "id": "eMDbZ6_BZQgl"
      },
      "id": "eMDbZ6_BZQgl",
      "execution_count": null,
      "outputs": []
    }
  ],
  "metadata": {
    "kernelspec": {
      "display_name": "Python 3 (ipykernel)",
      "language": "python",
      "name": "python3"
    },
    "language_info": {
      "codemirror_mode": {
        "name": "ipython",
        "version": 3
      },
      "file_extension": ".py",
      "mimetype": "text/x-python",
      "name": "python",
      "nbconvert_exporter": "python",
      "pygments_lexer": "ipython3",
      "version": "3.9.13"
    },
    "colab": {
      "provenance": [],
      "toc_visible": true
    }
  },
  "nbformat": 4,
  "nbformat_minor": 5
}