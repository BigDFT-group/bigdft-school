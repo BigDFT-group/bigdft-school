{
  "cells": [
    {
      "cell_type": "markdown",
      "id": "4e27ab20",
      "metadata": {
        "id": "4e27ab20"
      },
      "source": [
        "# Introduction\n",
        "\n",
        "In this series of tutorials, the fundamental aspects of a BigDFT calculation are inspected.\n",
        "\n",
        "The **topics** addressed are:\n",
        "- building a system\n",
        "- running a simple calculation\n",
        "- reading a Logfile\n",
        "\n",
        "Those subjects are then each followed by **exercises**.\n",
        "\n",
        "The **prerequisites** are:\n",
        "- beginner level in python programming (1)\n",
        "- understanding of *ab initio* methods (2)\n",
        "\n",
        "In the following, PyBigDFT is used to build systems and then compute their first-principles properties using BigDFT.\n",
        "\n",
        "The code packages are installed through the following"
      ]
    },
    {
      "cell_type": "code",
      "source": [
        "install = \"client (Google drive)\" #@param [\"full_suite\", \"client (Google drive)\", \"client\"]\n",
        "install_var=install\n",
        "!wget https://gitlab.com/luigigenovese/bigdft-school/-/raw/main/packaging/install.py &> /dev/null\n",
        "args={'locally': True} if install == 'client' else {}\n",
        "import install\n",
        "getattr(install,install_var.split()[0])(**args)"
      ],
      "metadata": {
        "cellView": "form",
        "id": "3S0OSOVQ8OIl"
      },
      "id": "3S0OSOVQ8OIl",
      "execution_count": null,
      "outputs": []
    },
    {
      "cell_type": "markdown",
      "id": "bb9527df",
      "metadata": {
        "id": "bb9527df"
      },
      "source": [
        "For this part of the tutorial we have to install an extra package.\n",
        "If your client installation is performed on the google drive, such command will not be needed in the future.\n"
      ]
    },
    {
      "cell_type": "code",
      "source": [
        "install.packages('py3Dmol')"
      ],
      "metadata": {
        "id": "c-z8AjUC9s5K"
      },
      "id": "c-z8AjUC9s5K",
      "execution_count": null,
      "outputs": []
    },
    {
      "cell_type": "markdown",
      "id": "f94bdcb8",
      "metadata": {
        "id": "f94bdcb8"
      },
      "source": [
        "## Python intrinsics manipulation\n",
        "\n",
        "In python, two datastructures are very common: **lists** and **dictionaries**."
      ]
    },
    {
      "cell_type": "code",
      "execution_count": 4,
      "id": "cfd1b854",
      "metadata": {
        "id": "cfd1b854",
        "outputId": "4d82f868-fb5e-4827-ff36-29e75239d12b",
        "colab": {
          "base_uri": "https://localhost:8080/"
        }
      },
      "outputs": [
        {
          "output_type": "stream",
          "name": "stdout",
          "text": [
            "3\n",
            "4\n"
          ]
        }
      ],
      "source": [
        "my_list = [0, 1, 2, 3]\n",
        "print(my_list[-1])\n",
        "my_dict = {\"a\": \"word\", \"c\": 4}\n",
        "print(my_dict[\"c\"])"
      ]
    },
    {
      "cell_type": "markdown",
      "id": "614991a9",
      "metadata": {
        "id": "614991a9"
      },
      "source": [
        "Those objects are easily built and manipulated using comprehensions"
      ]
    },
    {
      "cell_type": "code",
      "execution_count": 5,
      "id": "18c3df57",
      "metadata": {
        "id": "18c3df57",
        "outputId": "a285cecc-0073-4f54-fecb-230576c9e3cb",
        "colab": {
          "base_uri": "https://localhost:8080/"
        }
      },
      "outputs": [
        {
          "output_type": "stream",
          "name": "stdout",
          "text": [
            "[0, 3, 6, 9]\n",
            "{'a2': 'word', 'c2': 4}\n"
          ]
        }
      ],
      "source": [
        "my_list2 = [x*3 for x in my_list]\n",
        "print(my_list2)\n",
        "my_dict2 = {k+\"2\": v for k,v in my_dict.items()}\n",
        "print(my_dict2)"
      ]
    },
    {
      "cell_type": "markdown",
      "id": "7994a78c",
      "metadata": {
        "id": "7994a78c"
      },
      "source": [
        "Additionally, those objects are serializable in yaml format for improved readability"
      ]
    },
    {
      "cell_type": "code",
      "execution_count": 6,
      "id": "c0d07d78",
      "metadata": {
        "id": "c0d07d78",
        "outputId": "a522f1a2-fb46-42dd-bc4b-1c438d86913c",
        "colab": {
          "base_uri": "https://localhost:8080/"
        }
      },
      "outputs": [
        {
          "output_type": "stream",
          "name": "stdout",
          "text": [
            "a2: word\n",
            "c2: 4\n",
            "\n"
          ]
        }
      ],
      "source": [
        "from yaml import dump\n",
        "\n",
        "print(dump(my_dict2))"
      ]
    },
    {
      "cell_type": "markdown",
      "id": "f8e1a5f5",
      "metadata": {
        "id": "f8e1a5f5"
      },
      "source": [
        "## What we mean with *ab initio* methods?\n",
        "\n",
        "Ab initio quantum chemistry methods attempt to solve Schrödinger's equation given the **positions** of the nuclei and the **number of electrons**, yielding useful information such as electron densities, energies and other properties of the system.\n",
        "\n",
        "A first-principles calculation therefore requires:\n",
        "- a geometry (along with a lattice for solid-state)\n",
        "- an exchange-correlation (XC) functional\n",
        "- a set of input parameters which are specific of the numerical treatment of the method"
      ]
    },
    {
      "cell_type": "markdown",
      "id": "3279bc37",
      "metadata": {
        "id": "3279bc37"
      },
      "source": [
        "# The Geometry: Building a system\n",
        "\n",
        "In PyBigDFT, geometries are build upon different layers:\n",
        "- Atoms: stores any information (dict)\n",
        "- Fragments: are collection of Atoms (list)\n",
        "- Systems: are collection of Fragments (dict)"
      ]
    },
    {
      "cell_type": "markdown",
      "id": "precise-parish",
      "metadata": {
        "id": "precise-parish"
      },
      "source": [
        "## Atoms\n",
        "\n",
        "Any system is composed of atoms, which require both a **symbol** and a **position**. \n",
        "\n",
        "The most appropriate way to store such information (or any other) about an atom is inside a `dict`"
      ]
    },
    {
      "cell_type": "code",
      "execution_count": 7,
      "id": "incomplete-chester",
      "metadata": {
        "id": "incomplete-chester",
        "outputId": "ae705331-e517-41df-9f79-f2b3d27281f1",
        "colab": {
          "base_uri": "https://localhost:8080/"
        }
      },
      "outputs": [
        {
          "output_type": "stream",
          "name": "stdout",
          "text": [
            "r:\n",
            "- 1\n",
            "- 0\n",
            "- 0\n",
            "sym: H\n",
            "units: angstroem\n",
            "\n"
          ]
        }
      ],
      "source": [
        "at = {\"sym\": \"H\", \"r\": [1, 0, 0], \"units\": \"angstroem\"}\n",
        "print(dump(at))"
      ]
    },
    {
      "cell_type": "markdown",
      "id": "regulated-flashing",
      "metadata": {
        "id": "regulated-flashing"
      },
      "source": [
        "The `Atoms` class wraps up `dict` in order to provide helpful subroutines."
      ]
    },
    {
      "cell_type": "code",
      "execution_count": 8,
      "id": "undefined-closing",
      "metadata": {
        "id": "undefined-closing",
        "outputId": "658354d5-b59b-4714-82b9-cbd989556d5f",
        "colab": {
          "base_uri": "https://localhost:8080/"
        }
      },
      "outputs": [
        {
          "output_type": "stream",
          "name": "stdout",
          "text": [
            "!!python/object:BigDFT.Atoms.Atom\n",
            "store:\n",
            "  r:\n",
            "  - 1\n",
            "  - 0\n",
            "  - 0\n",
            "  sym: H\n",
            "  units: angstroem\n",
            "\n"
          ]
        }
      ],
      "source": [
        "from BigDFT.Atoms import Atom\n",
        "\n",
        "atom = Atom(at)\n",
        "print(dump(atom))"
      ]
    },
    {
      "cell_type": "markdown",
      "id": "recognized-collapse",
      "metadata": {
        "id": "recognized-collapse"
      },
      "source": [
        "Some of the built in subroutines are demonstrated below."
      ]
    },
    {
      "cell_type": "code",
      "execution_count": 9,
      "id": "silver-composer",
      "metadata": {
        "id": "silver-composer",
        "outputId": "b54aee18-d16a-4a2d-b74a-99b8bbfbf205",
        "colab": {
          "base_uri": "https://localhost:8080/"
        }
      },
      "outputs": [
        {
          "output_type": "stream",
          "name": "stdout",
          "text": [
            "H\n",
            "1\n",
            "[1.0, 0.0, 0.0]\n",
            "[1.8897261245650618, 0.0, 0.0]\n"
          ]
        }
      ],
      "source": [
        "print(atom.sym)\n",
        "print(atom.atomic_number)\n",
        "print(atom.get_position(\"angstroem\"))\n",
        "print(atom.get_position(\"bohr\"))"
      ]
    },
    {
      "cell_type": "markdown",
      "id": "accurate-tyler",
      "metadata": {
        "id": "accurate-tyler"
      },
      "source": [
        "With this approach, the flexibility of a `dict` is retained."
      ]
    },
    {
      "cell_type": "code",
      "execution_count": 10,
      "id": "everyday-guyana",
      "metadata": {
        "id": "everyday-guyana",
        "outputId": "2f8da78a-5407-4346-af85-ebda346da32f",
        "colab": {
          "base_uri": "https://localhost:8080/"
        }
      },
      "outputs": [
        {
          "output_type": "stream",
          "name": "stdout",
          "text": [
            "tutorial\n",
            "sym H\n",
            "r [1, 0, 0]\n",
            "units angstroem\n",
            "source tutorial\n"
          ]
        }
      ],
      "source": [
        "atom[\"source\"] = \"tutorial\"\n",
        "print(atom[\"source\"])\n",
        "for k,v in atom.items():\n",
        "    print(k,v)"
      ]
    },
    {
      "cell_type": "markdown",
      "id": "postal-blackjack",
      "metadata": {
        "id": "postal-blackjack"
      },
      "source": [
        "## Fragments\n",
        "\n",
        "Calculations involve not single atoms but instead **groups of atoms**. In this case, lists are used as model data structures, with the wrapper class referred to as a `Fragment`. "
      ]
    },
    {
      "cell_type": "code",
      "execution_count": 11,
      "id": "shaped-institution",
      "metadata": {
        "id": "shaped-institution"
      },
      "outputs": [],
      "source": [
        "at1 = Atom({\"sym\": \"O\", \"r\": [2.3229430273, 1.3229430273, 1.7139430273], \"units\": \"angstroem\"})\n",
        "at2 = Atom({\"sym\": \"H\", \"r\": [2.3229430273, 2.0801430273, 1.1274430273], \"units\": \"angstroem\"})\n",
        "at3 = Atom({\"sym\": \"H\", \"r\": [2.3229430273, 0.5657430273000001, 1.1274430273], \"units\": \"angstroem\"})"
      ]
    },
    {
      "cell_type": "code",
      "execution_count": 12,
      "id": "killing-keyboard",
      "metadata": {
        "id": "killing-keyboard",
        "outputId": "640ff3dd-cd91-4959-ee45-b7ccf6066d89",
        "colab": {
          "base_uri": "https://localhost:8080/"
        }
      },
      "outputs": [
        {
          "output_type": "stream",
          "name": "stdout",
          "text": [
            "3\n",
            "[4.38972612 2.5        2.5       ]\n"
          ]
        }
      ],
      "source": [
        "from BigDFT.Fragments import Fragment\n",
        "\n",
        "frag1 = Fragment([at1, at2, at3])\n",
        "print(len(frag1))\n",
        "print(frag1.centroid)"
      ]
    },
    {
      "cell_type": "markdown",
      "id": "unable-behalf",
      "metadata": {
        "id": "unable-behalf"
      },
      "source": [
        "It's also possible to build up a fragment in a more step by step process."
      ]
    },
    {
      "cell_type": "code",
      "execution_count": 13,
      "id": "burning-muscle",
      "metadata": {
        "id": "burning-muscle"
      },
      "outputs": [],
      "source": [
        "frag1 = Fragment()\n",
        "frag1.append(at1)\n",
        "frag1 += Fragment([at2])\n",
        "frag1.extend(Fragment([at3]))"
      ]
    },
    {
      "cell_type": "markdown",
      "id": "bfac1e70",
      "metadata": {
        "id": "bfac1e70"
      },
      "source": [
        "The fragment properties are then visualized in yaml format"
      ]
    },
    {
      "cell_type": "code",
      "execution_count": 14,
      "id": "selective-packaging",
      "metadata": {
        "id": "selective-packaging",
        "outputId": "98f69491-9358-4205-bb23-e876e67d649a",
        "colab": {
          "base_uri": "https://localhost:8080/"
        }
      },
      "outputs": [
        {
          "output_type": "stream",
          "name": "stdout",
          "text": [
            "!!python/object:BigDFT.Fragments.Fragment\n",
            "atoms:\n",
            "- !!python/object:BigDFT.Atoms.Atom\n",
            "  store:\n",
            "    r:\n",
            "    - 2.3229430273\n",
            "    - 1.3229430273\n",
            "    - 1.7139430273\n",
            "    sym: O\n",
            "    units: angstroem\n",
            "- !!python/object:BigDFT.Atoms.Atom\n",
            "  store:\n",
            "    r:\n",
            "    - 2.3229430273\n",
            "    - 2.0801430273\n",
            "    - 1.1274430273\n",
            "    sym: H\n",
            "    units: angstroem\n",
            "- !!python/object:BigDFT.Atoms.Atom\n",
            "  store:\n",
            "    r:\n",
            "    - 2.3229430273\n",
            "    - 0.5657430273000001\n",
            "    - 1.1274430273\n",
            "    sym: H\n",
            "    units: angstroem\n",
            "conmat: null\n",
            "frozen: null\n",
            "q1: null\n",
            "q2: null\n",
            "\n"
          ]
        }
      ],
      "source": [
        "print(dump(frag1))"
      ]
    },
    {
      "cell_type": "markdown",
      "id": "boxed-valuable",
      "metadata": {
        "id": "boxed-valuable"
      },
      "source": [
        "## Systems\n",
        "\n",
        "In PyBigDFT, we have the `System` class at the top, based on a `dict`.\n",
        "Systems are **named collections of fragments**, with the convention for naming fragments as \"NAME:ID\" (where name is a string and ID is a number)."
      ]
    },
    {
      "cell_type": "code",
      "execution_count": 15,
      "id": "common-result",
      "metadata": {
        "id": "common-result"
      },
      "outputs": [],
      "source": [
        "from BigDFT.Systems import System\n",
        "\n",
        "sys = System()\n",
        "sys[\"WAT:0\"] = frag1"
      ]
    },
    {
      "cell_type": "markdown",
      "id": "dc6b3191",
      "metadata": {
        "id": "dc6b3191"
      },
      "source": [
        "Similarly, systems are easily readable"
      ]
    },
    {
      "cell_type": "code",
      "execution_count": 16,
      "id": "coastal-salvation",
      "metadata": {
        "id": "coastal-salvation",
        "outputId": "9c07be59-80b7-4e53-87b2-ec9785fa518b",
        "colab": {
          "base_uri": "https://localhost:8080/"
        }
      },
      "outputs": [
        {
          "output_type": "stream",
          "name": "stdout",
          "text": [
            "!!python/object:BigDFT.Systems.System\n",
            "cell: !!python/object:BigDFT.UnitCells.UnitCell\n",
            "  cell:\n",
            "  - - .inf\n",
            "    - 0\n",
            "    - 0\n",
            "  - - 0\n",
            "    - .inf\n",
            "    - 0\n",
            "  - - 0\n",
            "    - 0\n",
            "    - .inf\n",
            "conmat: null\n",
            "store:\n",
            "  WAT:0: !!python/object:BigDFT.Fragments.Fragment\n",
            "    atoms:\n",
            "    - !!python/object:BigDFT.Atoms.Atom\n",
            "      store:\n",
            "        r:\n",
            "        - 2.3229430273\n",
            "        - 1.3229430273\n",
            "        - 1.7139430273\n",
            "        sym: O\n",
            "        units: angstroem\n",
            "    - !!python/object:BigDFT.Atoms.Atom\n",
            "      store:\n",
            "        r:\n",
            "        - 2.3229430273\n",
            "        - 2.0801430273\n",
            "        - 1.1274430273\n",
            "        sym: H\n",
            "        units: angstroem\n",
            "    - !!python/object:BigDFT.Atoms.Atom\n",
            "      store:\n",
            "        r:\n",
            "        - 2.3229430273\n",
            "        - 0.5657430273000001\n",
            "        - 1.1274430273\n",
            "        sym: H\n",
            "        units: angstroem\n",
            "    conmat: null\n",
            "    frozen: null\n",
            "    q1: null\n",
            "    q2: null\n",
            "\n"
          ]
        }
      ],
      "source": [
        "print(dump(sys))"
      ]
    },
    {
      "cell_type": "markdown",
      "id": "2d01506b",
      "metadata": {
        "id": "2d01506b"
      },
      "source": [
        "Additional properties can also be displayed, like the **connectivity matrix** and the **unit cell**."
      ]
    },
    {
      "cell_type": "markdown",
      "id": "growing-madrid",
      "metadata": {
        "id": "growing-madrid"
      },
      "source": [
        "## System visualization and fragments manipulation\n",
        "\n",
        "It is extremely convenient to visualize `System` objects, just do"
      ]
    },
    {
      "cell_type": "code",
      "execution_count": 17,
      "id": "liable-conclusion",
      "metadata": {
        "id": "liable-conclusion",
        "outputId": "f72d0c84-1714-479f-eaae-fc50af3af3b2",
        "colab": {
          "base_uri": "https://localhost:8080/",
          "height": 335
        }
      },
      "outputs": [
        {
          "output_type": "display_data",
          "data": {
            "application/3dmoljs_load.v0": "<div id=\"3dmolviewer_1663764251919332\"  style=\"position: relative; width: 400px; height: 300px\">\n        <p id=\"3dmolwarning_1663764251919332\" style=\"background-color:#ffcccc;color:black\">You appear to be running in JupyterLab (or JavaScript failed to load for some other reason).  You need to install the 3dmol extension: <br>\n        <tt>jupyter labextension install jupyterlab_3dmol</tt></p>\n        </div>\n<script>\n\nvar loadScriptAsync = function(uri){\n  return new Promise((resolve, reject) => {\n    var tag = document.createElement('script');\n    tag.src = uri;\n    tag.async = true;\n    tag.onload = () => {\n      resolve();\n    };\n  var firstScriptTag = document.getElementsByTagName('script')[0];\n  firstScriptTag.parentNode.insertBefore(tag, firstScriptTag);\n});\n};\n\nif(typeof $3Dmolpromise === 'undefined') {\n$3Dmolpromise = null;\n  $3Dmolpromise = loadScriptAsync('https://cdn.jsdelivr.net/npm/3dmol@latest/build/3Dmol-min.min.js');\n}\n\nvar viewer_1663764251919332 = null;\nvar warn = document.getElementById(\"3dmolwarning_1663764251919332\");\nif(warn) {\n    warn.parentNode.removeChild(warn);\n}\n$3Dmolpromise.then(function() {\nvar viewergrid_1663764251919332 = null;\nviewergrid_1663764251919332 = $3Dmol.createViewerGrid($(\"#3dmolviewer_1663764251919332\"),{rows: 1, cols: 1, control_all: false},{backgroundColor:\"white\"});\nviewer_1663764251919332 = viewergrid_1663764251919332[0][0];\nviewergrid_1663764251919332[0][0].zoomTo();\tviewergrid_1663764251919332[0][0].addModelsAsFrames(\"MODEL 0\\nHETATM    1 O    WAT A   0       2.323   1.323   1.714  1.00  0.00       B   O  \\nHETATM    2 H    WAT A   0       2.323   2.080   1.127  1.00  0.00       B   H  \\nHETATM    3 H    WAT A   0       2.323   0.566   1.127  1.00  0.00       B   H  \\nENDMDL\\n\",\"pdb\",{\"keepH\": \"true\"});\n\tviewergrid_1663764251919332[0][0].setStyle({\"model\": -1},{\"line\": {\"color\": \"black\"}});\n\tviewergrid_1663764251919332[0][0].addModelsAsFrames(\"MODEL 0\\nHETATM    1 O    WAT A   0       2.323   1.323   1.714  1.00  0.00       B   O  \\nHETATM    2 H    WAT A   0       2.323   2.080   1.127  1.00  0.00       B   H  \\nHETATM    3 H    WAT A   0       2.323   0.566   1.127  1.00  0.00       B   H  \\nENDMDL\\n\",\"pdb\",{\"keepH\": \"true\"});\n\tviewergrid_1663764251919332[0][0].setStyle({\"model\": -1, \"serial\": 1},{\"sphere\": {\"scale\": 0.2, \"color\": \"#7F00FF\"}});\n\tviewergrid_1663764251919332[0][0].addModelsAsFrames(\"MODEL 0\\nHETATM    1 O    WAT A   0       2.323   1.323   1.714  1.00  0.00       B   O  \\nHETATM    2 H    WAT A   0       2.323   2.080   1.127  1.00  0.00       B   H  \\nHETATM    3 H    WAT A   0       2.323   0.566   1.127  1.00  0.00       B   H  \\nENDMDL\\n\",\"pdb\",{\"keepH\": \"true\"});\n\tviewergrid_1663764251919332[0][0].setStyle({\"model\": -1, \"serial\": 2},{\"sphere\": {\"scale\": 0.2, \"color\": \"#7F00FF\"}});\n\tviewergrid_1663764251919332[0][0].addModelsAsFrames(\"MODEL 0\\nHETATM    1 O    WAT A   0       2.323   1.323   1.714  1.00  0.00       B   O  \\nHETATM    2 H    WAT A   0       2.323   2.080   1.127  1.00  0.00       B   H  \\nHETATM    3 H    WAT A   0       2.323   0.566   1.127  1.00  0.00       B   H  \\nENDMDL\\n\",\"pdb\",{\"keepH\": \"true\"});\n\tviewergrid_1663764251919332[0][0].setStyle({\"model\": -1, \"serial\": 3},{\"sphere\": {\"scale\": 0.2, \"color\": \"#7F00FF\"}});\n\tviewergrid_1663764251919332[0][0].addUnitCell({\"model\": -1},{\"box\": {\"color\": \"black\"}, \"alabel\": \"\", \"blabel\": \"\", \"clabel\": \"\"});\n\tviewergrid_1663764251919332[0][0].zoomTo();\nviewergrid_1663764251919332[0][0].render();\n});\n</script>",
            "text/html": [
              "<div id=\"3dmolviewer_1663764251919332\"  style=\"position: relative; width: 400px; height: 300px\">\n",
              "        <p id=\"3dmolwarning_1663764251919332\" style=\"background-color:#ffcccc;color:black\">You appear to be running in JupyterLab (or JavaScript failed to load for some other reason).  You need to install the 3dmol extension: <br>\n",
              "        <tt>jupyter labextension install jupyterlab_3dmol</tt></p>\n",
              "        </div>\n",
              "<script>\n",
              "\n",
              "var loadScriptAsync = function(uri){\n",
              "  return new Promise((resolve, reject) => {\n",
              "    var tag = document.createElement('script');\n",
              "    tag.src = uri;\n",
              "    tag.async = true;\n",
              "    tag.onload = () => {\n",
              "      resolve();\n",
              "    };\n",
              "  var firstScriptTag = document.getElementsByTagName('script')[0];\n",
              "  firstScriptTag.parentNode.insertBefore(tag, firstScriptTag);\n",
              "});\n",
              "};\n",
              "\n",
              "if(typeof $3Dmolpromise === 'undefined') {\n",
              "$3Dmolpromise = null;\n",
              "  $3Dmolpromise = loadScriptAsync('https://cdn.jsdelivr.net/npm/3dmol@latest/build/3Dmol-min.min.js');\n",
              "}\n",
              "\n",
              "var viewer_1663764251919332 = null;\n",
              "var warn = document.getElementById(\"3dmolwarning_1663764251919332\");\n",
              "if(warn) {\n",
              "    warn.parentNode.removeChild(warn);\n",
              "}\n",
              "$3Dmolpromise.then(function() {\n",
              "var viewergrid_1663764251919332 = null;\n",
              "viewergrid_1663764251919332 = $3Dmol.createViewerGrid($(\"#3dmolviewer_1663764251919332\"),{rows: 1, cols: 1, control_all: false},{backgroundColor:\"white\"});\n",
              "viewer_1663764251919332 = viewergrid_1663764251919332[0][0];\n",
              "viewergrid_1663764251919332[0][0].zoomTo();\tviewergrid_1663764251919332[0][0].addModelsAsFrames(\"MODEL 0\\nHETATM    1 O    WAT A   0       2.323   1.323   1.714  1.00  0.00       B   O  \\nHETATM    2 H    WAT A   0       2.323   2.080   1.127  1.00  0.00       B   H  \\nHETATM    3 H    WAT A   0       2.323   0.566   1.127  1.00  0.00       B   H  \\nENDMDL\\n\",\"pdb\",{\"keepH\": \"true\"});\n",
              "\tviewergrid_1663764251919332[0][0].setStyle({\"model\": -1},{\"line\": {\"color\": \"black\"}});\n",
              "\tviewergrid_1663764251919332[0][0].addModelsAsFrames(\"MODEL 0\\nHETATM    1 O    WAT A   0       2.323   1.323   1.714  1.00  0.00       B   O  \\nHETATM    2 H    WAT A   0       2.323   2.080   1.127  1.00  0.00       B   H  \\nHETATM    3 H    WAT A   0       2.323   0.566   1.127  1.00  0.00       B   H  \\nENDMDL\\n\",\"pdb\",{\"keepH\": \"true\"});\n",
              "\tviewergrid_1663764251919332[0][0].setStyle({\"model\": -1, \"serial\": 1},{\"sphere\": {\"scale\": 0.2, \"color\": \"#7F00FF\"}});\n",
              "\tviewergrid_1663764251919332[0][0].addModelsAsFrames(\"MODEL 0\\nHETATM    1 O    WAT A   0       2.323   1.323   1.714  1.00  0.00       B   O  \\nHETATM    2 H    WAT A   0       2.323   2.080   1.127  1.00  0.00       B   H  \\nHETATM    3 H    WAT A   0       2.323   0.566   1.127  1.00  0.00       B   H  \\nENDMDL\\n\",\"pdb\",{\"keepH\": \"true\"});\n",
              "\tviewergrid_1663764251919332[0][0].setStyle({\"model\": -1, \"serial\": 2},{\"sphere\": {\"scale\": 0.2, \"color\": \"#7F00FF\"}});\n",
              "\tviewergrid_1663764251919332[0][0].addModelsAsFrames(\"MODEL 0\\nHETATM    1 O    WAT A   0       2.323   1.323   1.714  1.00  0.00       B   O  \\nHETATM    2 H    WAT A   0       2.323   2.080   1.127  1.00  0.00       B   H  \\nHETATM    3 H    WAT A   0       2.323   0.566   1.127  1.00  0.00       B   H  \\nENDMDL\\n\",\"pdb\",{\"keepH\": \"true\"});\n",
              "\tviewergrid_1663764251919332[0][0].setStyle({\"model\": -1, \"serial\": 3},{\"sphere\": {\"scale\": 0.2, \"color\": \"#7F00FF\"}});\n",
              "\tviewergrid_1663764251919332[0][0].addUnitCell({\"model\": -1},{\"box\": {\"color\": \"black\"}, \"alabel\": \"\", \"blabel\": \"\", \"clabel\": \"\"});\n",
              "\tviewergrid_1663764251919332[0][0].zoomTo();\n",
              "viewergrid_1663764251919332[0][0].render();\n",
              "});\n",
              "</script>"
            ]
          },
          "metadata": {}
        },
        {
          "output_type": "execute_result",
          "data": {
            "text/plain": [
              "<BigDFT.Visualization.InlineVisualizer at 0x7fc0ec7e5f90>"
            ]
          },
          "metadata": {},
          "execution_count": 17
        }
      ],
      "source": [
        "sys.display()"
      ]
    },
    {
      "cell_type": "markdown",
      "id": "danish-potato",
      "metadata": {
        "id": "danish-potato"
      },
      "source": [
        "It is equally convenient to manipulate fragments within systems.\n",
        "\n",
        "Let us **rotate** and **translate** the previous water fragment and add it to the system."
      ]
    },
    {
      "cell_type": "code",
      "execution_count": 18,
      "id": "pregnant-experience",
      "metadata": {
        "id": "pregnant-experience"
      },
      "outputs": [],
      "source": [
        "from copy import deepcopy\n",
        "\n",
        "frag2 = deepcopy(frag1)\n",
        "frag2.translate([10, 0, 0])\n",
        "frag2.rotate(x=90, units=\"degrees\")\n",
        "sys[\"WAT:1\"] = frag2"
      ]
    },
    {
      "cell_type": "code",
      "execution_count": 19,
      "id": "ethical-wiring",
      "metadata": {
        "scrolled": true,
        "id": "ethical-wiring",
        "outputId": "794dfb90-f8dc-401d-bd02-3bd4ce4db354",
        "colab": {
          "base_uri": "https://localhost:8080/",
          "height": 335
        }
      },
      "outputs": [
        {
          "output_type": "display_data",
          "data": {
            "application/3dmoljs_load.v0": "<div id=\"3dmolviewer_16637642608442073\"  style=\"position: relative; width: 400px; height: 300px\">\n        <p id=\"3dmolwarning_16637642608442073\" style=\"background-color:#ffcccc;color:black\">You appear to be running in JupyterLab (or JavaScript failed to load for some other reason).  You need to install the 3dmol extension: <br>\n        <tt>jupyter labextension install jupyterlab_3dmol</tt></p>\n        </div>\n<script>\n\nvar loadScriptAsync = function(uri){\n  return new Promise((resolve, reject) => {\n    var tag = document.createElement('script');\n    tag.src = uri;\n    tag.async = true;\n    tag.onload = () => {\n      resolve();\n    };\n  var firstScriptTag = document.getElementsByTagName('script')[0];\n  firstScriptTag.parentNode.insertBefore(tag, firstScriptTag);\n});\n};\n\nif(typeof $3Dmolpromise === 'undefined') {\n$3Dmolpromise = null;\n  $3Dmolpromise = loadScriptAsync('https://cdn.jsdelivr.net/npm/3dmol@latest/build/3Dmol-min.min.js');\n}\n\nvar viewer_16637642608442073 = null;\nvar warn = document.getElementById(\"3dmolwarning_16637642608442073\");\nif(warn) {\n    warn.parentNode.removeChild(warn);\n}\n$3Dmolpromise.then(function() {\nvar viewergrid_16637642608442073 = null;\nviewergrid_16637642608442073 = $3Dmol.createViewerGrid($(\"#3dmolviewer_16637642608442073\"),{rows: 1, cols: 1, control_all: false},{backgroundColor:\"white\"});\nviewer_16637642608442073 = viewergrid_16637642608442073[0][0];\nviewergrid_16637642608442073[0][0].zoomTo();\tviewergrid_16637642608442073[0][0].addModelsAsFrames(\"MODEL 0\\nHETATM    1 O    WAT A   0       2.323   1.323   1.714  1.00  0.00       B   O  \\nHETATM    2 H    WAT A   0       2.323   2.080   1.127  1.00  0.00       B   H  \\nHETATM    3 H    WAT A   0       2.323   0.566   1.127  1.00  0.00       B   H  \\nHETATM    4 O    WAT A   1       7.615   0.932   1.323  1.00  0.00       B   O  \\nHETATM    5 H    WAT A   1       7.615   1.518   2.080  1.00  0.00       B   H  \\nHETATM    6 H    WAT A   1       7.615   1.518   0.566  1.00  0.00       B   H  \\nENDMDL\\n\",\"pdb\",{\"keepH\": \"true\"});\n\tviewergrid_16637642608442073[0][0].setStyle({\"model\": -1},{\"line\": {\"color\": \"black\"}});\n\tviewergrid_16637642608442073[0][0].addModelsAsFrames(\"MODEL 0\\nHETATM    1 O    WAT A   0       2.323   1.323   1.714  1.00  0.00       B   O  \\nHETATM    2 H    WAT A   0       2.323   2.080   1.127  1.00  0.00       B   H  \\nHETATM    3 H    WAT A   0       2.323   0.566   1.127  1.00  0.00       B   H  \\nHETATM    4 O    WAT A   1       7.615   0.932   1.323  1.00  0.00       B   O  \\nHETATM    5 H    WAT A   1       7.615   1.518   2.080  1.00  0.00       B   H  \\nHETATM    6 H    WAT A   1       7.615   1.518   0.566  1.00  0.00       B   H  \\nENDMDL\\n\",\"pdb\",{\"keepH\": \"true\"});\n\tviewergrid_16637642608442073[0][0].setStyle({\"model\": -1, \"serial\": 1},{\"sphere\": {\"scale\": 0.2, \"color\": \"#7F00FF\"}});\n\tviewergrid_16637642608442073[0][0].addModelsAsFrames(\"MODEL 0\\nHETATM    1 O    WAT A   0       2.323   1.323   1.714  1.00  0.00       B   O  \\nHETATM    2 H    WAT A   0       2.323   2.080   1.127  1.00  0.00       B   H  \\nHETATM    3 H    WAT A   0       2.323   0.566   1.127  1.00  0.00       B   H  \\nHETATM    4 O    WAT A   1       7.615   0.932   1.323  1.00  0.00       B   O  \\nHETATM    5 H    WAT A   1       7.615   1.518   2.080  1.00  0.00       B   H  \\nHETATM    6 H    WAT A   1       7.615   1.518   0.566  1.00  0.00       B   H  \\nENDMDL\\n\",\"pdb\",{\"keepH\": \"true\"});\n\tviewergrid_16637642608442073[0][0].setStyle({\"model\": -1, \"serial\": 2},{\"sphere\": {\"scale\": 0.2, \"color\": \"#7F00FF\"}});\n\tviewergrid_16637642608442073[0][0].addModelsAsFrames(\"MODEL 0\\nHETATM    1 O    WAT A   0       2.323   1.323   1.714  1.00  0.00       B   O  \\nHETATM    2 H    WAT A   0       2.323   2.080   1.127  1.00  0.00       B   H  \\nHETATM    3 H    WAT A   0       2.323   0.566   1.127  1.00  0.00       B   H  \\nHETATM    4 O    WAT A   1       7.615   0.932   1.323  1.00  0.00       B   O  \\nHETATM    5 H    WAT A   1       7.615   1.518   2.080  1.00  0.00       B   H  \\nHETATM    6 H    WAT A   1       7.615   1.518   0.566  1.00  0.00       B   H  \\nENDMDL\\n\",\"pdb\",{\"keepH\": \"true\"});\n\tviewergrid_16637642608442073[0][0].setStyle({\"model\": -1, \"serial\": 3},{\"sphere\": {\"scale\": 0.2, \"color\": \"#7F00FF\"}});\n\tviewergrid_16637642608442073[0][0].addModelsAsFrames(\"MODEL 0\\nHETATM    1 O    WAT A   0       2.323   1.323   1.714  1.00  0.00       B   O  \\nHETATM    2 H    WAT A   0       2.323   2.080   1.127  1.00  0.00       B   H  \\nHETATM    3 H    WAT A   0       2.323   0.566   1.127  1.00  0.00       B   H  \\nHETATM    4 O    WAT A   1       7.615   0.932   1.323  1.00  0.00       B   O  \\nHETATM    5 H    WAT A   1       7.615   1.518   2.080  1.00  0.00       B   H  \\nHETATM    6 H    WAT A   1       7.615   1.518   0.566  1.00  0.00       B   H  \\nENDMDL\\n\",\"pdb\",{\"keepH\": \"true\"});\n\tviewergrid_16637642608442073[0][0].setStyle({\"model\": -1},{\"line\": {\"color\": \"black\"}});\n\tviewergrid_16637642608442073[0][0].addModelsAsFrames(\"MODEL 0\\nHETATM    1 O    WAT A   0       2.323   1.323   1.714  1.00  0.00       B   O  \\nHETATM    2 H    WAT A   0       2.323   2.080   1.127  1.00  0.00       B   H  \\nHETATM    3 H    WAT A   0       2.323   0.566   1.127  1.00  0.00       B   H  \\nHETATM    4 O    WAT A   1       7.615   0.932   1.323  1.00  0.00       B   O  \\nHETATM    5 H    WAT A   1       7.615   1.518   2.080  1.00  0.00       B   H  \\nHETATM    6 H    WAT A   1       7.615   1.518   0.566  1.00  0.00       B   H  \\nENDMDL\\n\",\"pdb\",{\"keepH\": \"true\"});\n\tviewergrid_16637642608442073[0][0].setStyle({\"model\": -1, \"serial\": 4},{\"sphere\": {\"scale\": 0.2, \"color\": \"#FF0000\"}});\n\tviewergrid_16637642608442073[0][0].addModelsAsFrames(\"MODEL 0\\nHETATM    1 O    WAT A   0       2.323   1.323   1.714  1.00  0.00       B   O  \\nHETATM    2 H    WAT A   0       2.323   2.080   1.127  1.00  0.00       B   H  \\nHETATM    3 H    WAT A   0       2.323   0.566   1.127  1.00  0.00       B   H  \\nHETATM    4 O    WAT A   1       7.615   0.932   1.323  1.00  0.00       B   O  \\nHETATM    5 H    WAT A   1       7.615   1.518   2.080  1.00  0.00       B   H  \\nHETATM    6 H    WAT A   1       7.615   1.518   0.566  1.00  0.00       B   H  \\nENDMDL\\n\",\"pdb\",{\"keepH\": \"true\"});\n\tviewergrid_16637642608442073[0][0].setStyle({\"model\": -1, \"serial\": 5},{\"sphere\": {\"scale\": 0.2, \"color\": \"#FF0000\"}});\n\tviewergrid_16637642608442073[0][0].addModelsAsFrames(\"MODEL 0\\nHETATM    1 O    WAT A   0       2.323   1.323   1.714  1.00  0.00       B   O  \\nHETATM    2 H    WAT A   0       2.323   2.080   1.127  1.00  0.00       B   H  \\nHETATM    3 H    WAT A   0       2.323   0.566   1.127  1.00  0.00       B   H  \\nHETATM    4 O    WAT A   1       7.615   0.932   1.323  1.00  0.00       B   O  \\nHETATM    5 H    WAT A   1       7.615   1.518   2.080  1.00  0.00       B   H  \\nHETATM    6 H    WAT A   1       7.615   1.518   0.566  1.00  0.00       B   H  \\nENDMDL\\n\",\"pdb\",{\"keepH\": \"true\"});\n\tviewergrid_16637642608442073[0][0].setStyle({\"model\": -1, \"serial\": 6},{\"sphere\": {\"scale\": 0.2, \"color\": \"#FF0000\"}});\n\tviewergrid_16637642608442073[0][0].addUnitCell({\"model\": -1},{\"box\": {\"color\": \"black\"}, \"alabel\": \"\", \"blabel\": \"\", \"clabel\": \"\"});\n\tviewergrid_16637642608442073[0][0].zoomTo();\nviewergrid_16637642608442073[0][0].render();\n});\n</script>",
            "text/html": [
              "<div id=\"3dmolviewer_16637642608442073\"  style=\"position: relative; width: 400px; height: 300px\">\n",
              "        <p id=\"3dmolwarning_16637642608442073\" style=\"background-color:#ffcccc;color:black\">You appear to be running in JupyterLab (or JavaScript failed to load for some other reason).  You need to install the 3dmol extension: <br>\n",
              "        <tt>jupyter labextension install jupyterlab_3dmol</tt></p>\n",
              "        </div>\n",
              "<script>\n",
              "\n",
              "var loadScriptAsync = function(uri){\n",
              "  return new Promise((resolve, reject) => {\n",
              "    var tag = document.createElement('script');\n",
              "    tag.src = uri;\n",
              "    tag.async = true;\n",
              "    tag.onload = () => {\n",
              "      resolve();\n",
              "    };\n",
              "  var firstScriptTag = document.getElementsByTagName('script')[0];\n",
              "  firstScriptTag.parentNode.insertBefore(tag, firstScriptTag);\n",
              "});\n",
              "};\n",
              "\n",
              "if(typeof $3Dmolpromise === 'undefined') {\n",
              "$3Dmolpromise = null;\n",
              "  $3Dmolpromise = loadScriptAsync('https://cdn.jsdelivr.net/npm/3dmol@latest/build/3Dmol-min.min.js');\n",
              "}\n",
              "\n",
              "var viewer_16637642608442073 = null;\n",
              "var warn = document.getElementById(\"3dmolwarning_16637642608442073\");\n",
              "if(warn) {\n",
              "    warn.parentNode.removeChild(warn);\n",
              "}\n",
              "$3Dmolpromise.then(function() {\n",
              "var viewergrid_16637642608442073 = null;\n",
              "viewergrid_16637642608442073 = $3Dmol.createViewerGrid($(\"#3dmolviewer_16637642608442073\"),{rows: 1, cols: 1, control_all: false},{backgroundColor:\"white\"});\n",
              "viewer_16637642608442073 = viewergrid_16637642608442073[0][0];\n",
              "viewergrid_16637642608442073[0][0].zoomTo();\tviewergrid_16637642608442073[0][0].addModelsAsFrames(\"MODEL 0\\nHETATM    1 O    WAT A   0       2.323   1.323   1.714  1.00  0.00       B   O  \\nHETATM    2 H    WAT A   0       2.323   2.080   1.127  1.00  0.00       B   H  \\nHETATM    3 H    WAT A   0       2.323   0.566   1.127  1.00  0.00       B   H  \\nHETATM    4 O    WAT A   1       7.615   0.932   1.323  1.00  0.00       B   O  \\nHETATM    5 H    WAT A   1       7.615   1.518   2.080  1.00  0.00       B   H  \\nHETATM    6 H    WAT A   1       7.615   1.518   0.566  1.00  0.00       B   H  \\nENDMDL\\n\",\"pdb\",{\"keepH\": \"true\"});\n",
              "\tviewergrid_16637642608442073[0][0].setStyle({\"model\": -1},{\"line\": {\"color\": \"black\"}});\n",
              "\tviewergrid_16637642608442073[0][0].addModelsAsFrames(\"MODEL 0\\nHETATM    1 O    WAT A   0       2.323   1.323   1.714  1.00  0.00       B   O  \\nHETATM    2 H    WAT A   0       2.323   2.080   1.127  1.00  0.00       B   H  \\nHETATM    3 H    WAT A   0       2.323   0.566   1.127  1.00  0.00       B   H  \\nHETATM    4 O    WAT A   1       7.615   0.932   1.323  1.00  0.00       B   O  \\nHETATM    5 H    WAT A   1       7.615   1.518   2.080  1.00  0.00       B   H  \\nHETATM    6 H    WAT A   1       7.615   1.518   0.566  1.00  0.00       B   H  \\nENDMDL\\n\",\"pdb\",{\"keepH\": \"true\"});\n",
              "\tviewergrid_16637642608442073[0][0].setStyle({\"model\": -1, \"serial\": 1},{\"sphere\": {\"scale\": 0.2, \"color\": \"#7F00FF\"}});\n",
              "\tviewergrid_16637642608442073[0][0].addModelsAsFrames(\"MODEL 0\\nHETATM    1 O    WAT A   0       2.323   1.323   1.714  1.00  0.00       B   O  \\nHETATM    2 H    WAT A   0       2.323   2.080   1.127  1.00  0.00       B   H  \\nHETATM    3 H    WAT A   0       2.323   0.566   1.127  1.00  0.00       B   H  \\nHETATM    4 O    WAT A   1       7.615   0.932   1.323  1.00  0.00       B   O  \\nHETATM    5 H    WAT A   1       7.615   1.518   2.080  1.00  0.00       B   H  \\nHETATM    6 H    WAT A   1       7.615   1.518   0.566  1.00  0.00       B   H  \\nENDMDL\\n\",\"pdb\",{\"keepH\": \"true\"});\n",
              "\tviewergrid_16637642608442073[0][0].setStyle({\"model\": -1, \"serial\": 2},{\"sphere\": {\"scale\": 0.2, \"color\": \"#7F00FF\"}});\n",
              "\tviewergrid_16637642608442073[0][0].addModelsAsFrames(\"MODEL 0\\nHETATM    1 O    WAT A   0       2.323   1.323   1.714  1.00  0.00       B   O  \\nHETATM    2 H    WAT A   0       2.323   2.080   1.127  1.00  0.00       B   H  \\nHETATM    3 H    WAT A   0       2.323   0.566   1.127  1.00  0.00       B   H  \\nHETATM    4 O    WAT A   1       7.615   0.932   1.323  1.00  0.00       B   O  \\nHETATM    5 H    WAT A   1       7.615   1.518   2.080  1.00  0.00       B   H  \\nHETATM    6 H    WAT A   1       7.615   1.518   0.566  1.00  0.00       B   H  \\nENDMDL\\n\",\"pdb\",{\"keepH\": \"true\"});\n",
              "\tviewergrid_16637642608442073[0][0].setStyle({\"model\": -1, \"serial\": 3},{\"sphere\": {\"scale\": 0.2, \"color\": \"#7F00FF\"}});\n",
              "\tviewergrid_16637642608442073[0][0].addModelsAsFrames(\"MODEL 0\\nHETATM    1 O    WAT A   0       2.323   1.323   1.714  1.00  0.00       B   O  \\nHETATM    2 H    WAT A   0       2.323   2.080   1.127  1.00  0.00       B   H  \\nHETATM    3 H    WAT A   0       2.323   0.566   1.127  1.00  0.00       B   H  \\nHETATM    4 O    WAT A   1       7.615   0.932   1.323  1.00  0.00       B   O  \\nHETATM    5 H    WAT A   1       7.615   1.518   2.080  1.00  0.00       B   H  \\nHETATM    6 H    WAT A   1       7.615   1.518   0.566  1.00  0.00       B   H  \\nENDMDL\\n\",\"pdb\",{\"keepH\": \"true\"});\n",
              "\tviewergrid_16637642608442073[0][0].setStyle({\"model\": -1},{\"line\": {\"color\": \"black\"}});\n",
              "\tviewergrid_16637642608442073[0][0].addModelsAsFrames(\"MODEL 0\\nHETATM    1 O    WAT A   0       2.323   1.323   1.714  1.00  0.00       B   O  \\nHETATM    2 H    WAT A   0       2.323   2.080   1.127  1.00  0.00       B   H  \\nHETATM    3 H    WAT A   0       2.323   0.566   1.127  1.00  0.00       B   H  \\nHETATM    4 O    WAT A   1       7.615   0.932   1.323  1.00  0.00       B   O  \\nHETATM    5 H    WAT A   1       7.615   1.518   2.080  1.00  0.00       B   H  \\nHETATM    6 H    WAT A   1       7.615   1.518   0.566  1.00  0.00       B   H  \\nENDMDL\\n\",\"pdb\",{\"keepH\": \"true\"});\n",
              "\tviewergrid_16637642608442073[0][0].setStyle({\"model\": -1, \"serial\": 4},{\"sphere\": {\"scale\": 0.2, \"color\": \"#FF0000\"}});\n",
              "\tviewergrid_16637642608442073[0][0].addModelsAsFrames(\"MODEL 0\\nHETATM    1 O    WAT A   0       2.323   1.323   1.714  1.00  0.00       B   O  \\nHETATM    2 H    WAT A   0       2.323   2.080   1.127  1.00  0.00       B   H  \\nHETATM    3 H    WAT A   0       2.323   0.566   1.127  1.00  0.00       B   H  \\nHETATM    4 O    WAT A   1       7.615   0.932   1.323  1.00  0.00       B   O  \\nHETATM    5 H    WAT A   1       7.615   1.518   2.080  1.00  0.00       B   H  \\nHETATM    6 H    WAT A   1       7.615   1.518   0.566  1.00  0.00       B   H  \\nENDMDL\\n\",\"pdb\",{\"keepH\": \"true\"});\n",
              "\tviewergrid_16637642608442073[0][0].setStyle({\"model\": -1, \"serial\": 5},{\"sphere\": {\"scale\": 0.2, \"color\": \"#FF0000\"}});\n",
              "\tviewergrid_16637642608442073[0][0].addModelsAsFrames(\"MODEL 0\\nHETATM    1 O    WAT A   0       2.323   1.323   1.714  1.00  0.00       B   O  \\nHETATM    2 H    WAT A   0       2.323   2.080   1.127  1.00  0.00       B   H  \\nHETATM    3 H    WAT A   0       2.323   0.566   1.127  1.00  0.00       B   H  \\nHETATM    4 O    WAT A   1       7.615   0.932   1.323  1.00  0.00       B   O  \\nHETATM    5 H    WAT A   1       7.615   1.518   2.080  1.00  0.00       B   H  \\nHETATM    6 H    WAT A   1       7.615   1.518   0.566  1.00  0.00       B   H  \\nENDMDL\\n\",\"pdb\",{\"keepH\": \"true\"});\n",
              "\tviewergrid_16637642608442073[0][0].setStyle({\"model\": -1, \"serial\": 6},{\"sphere\": {\"scale\": 0.2, \"color\": \"#FF0000\"}});\n",
              "\tviewergrid_16637642608442073[0][0].addUnitCell({\"model\": -1},{\"box\": {\"color\": \"black\"}, \"alabel\": \"\", \"blabel\": \"\", \"clabel\": \"\"});\n",
              "\tviewergrid_16637642608442073[0][0].zoomTo();\n",
              "viewergrid_16637642608442073[0][0].render();\n",
              "});\n",
              "</script>"
            ]
          },
          "metadata": {}
        },
        {
          "output_type": "execute_result",
          "data": {
            "text/plain": [
              "<BigDFT.Visualization.InlineVisualizer at 0x7fc0ec768b50>"
            ]
          },
          "metadata": {},
          "execution_count": 19
        }
      ],
      "source": [
        "sys.display()"
      ]
    },
    {
      "cell_type": "markdown",
      "id": "decimal-costs",
      "metadata": {
        "id": "decimal-costs"
      },
      "source": [
        "The visualization module has identified that there are two separate fragments, coloring them accordingly (merging fragments would render a uniform visualization)."
      ]
    },
    {
      "cell_type": "markdown",
      "id": "relevant-ottawa",
      "metadata": {
        "id": "relevant-ottawa"
      },
      "source": [
        "To summarize the hierarchy, let's iterate over our `System`."
      ]
    },
    {
      "cell_type": "code",
      "execution_count": 20,
      "id": "tropical-photography",
      "metadata": {
        "id": "tropical-photography",
        "outputId": "c040bec2-9f22-4e52-8e2d-84294955c676",
        "colab": {
          "base_uri": "https://localhost:8080/"
        }
      },
      "outputs": [
        {
          "output_type": "stream",
          "name": "stdout",
          "text": [
            "WAT:0\n",
            "{'sym': 'O', 'r': [2.3229430273, 1.3229430273, 1.7139430273], 'units': 'angstroem'}\n",
            "{'sym': 'H', 'r': [2.3229430273, 2.0801430273, 1.1274430273], 'units': 'angstroem'}\n",
            "{'sym': 'H', 'r': [2.3229430273, 0.5657430273000001, 1.1274430273], 'units': 'angstroem'}\n",
            "WAT:1\n",
            "{'sym': 'O', 'r': [14.389726124565062, 1.7611170852950608, 2.499999999999999], 'units': 'bohr'}\n",
            "{'sym': 'H', 'r': [14.389726124565062, 2.86944145735247, 3.930900621520664], 'units': 'bohr'}\n",
            "{'sym': 'H', 'r': [14.389726124565062, 2.86944145735247, 1.0690993784793343], 'units': 'bohr'}\n"
          ]
        }
      ],
      "source": [
        "for fragid, frag in sys.items():\n",
        "    print(fragid)\n",
        "    for atm in frag:\n",
        "        print(dict(atm))"
      ]
    },
    {
      "cell_type": "code",
      "source": [
        "# atom iteration, if we do not want to keep track of the fragment\n",
        "for atm in sys.get_atoms():\n",
        "  print(dict(atm))"
      ],
      "metadata": {
        "id": "piNqcW_kFDMU",
        "outputId": "d6f8f252-c75e-4b33-8f13-6929bf0db702",
        "colab": {
          "base_uri": "https://localhost:8080/"
        }
      },
      "id": "piNqcW_kFDMU",
      "execution_count": 22,
      "outputs": [
        {
          "output_type": "stream",
          "name": "stdout",
          "text": [
            "{'sym': 'O', 'r': [2.3229430273, 1.3229430273, 1.7139430273], 'units': 'angstroem'}\n",
            "{'sym': 'H', 'r': [2.3229430273, 2.0801430273, 1.1274430273], 'units': 'angstroem'}\n",
            "{'sym': 'H', 'r': [2.3229430273, 0.5657430273000001, 1.1274430273], 'units': 'angstroem'}\n",
            "{'sym': 'O', 'r': [14.389726124565062, 1.7611170852950608, 2.499999999999999], 'units': 'bohr'}\n",
            "{'sym': 'H', 'r': [14.389726124565062, 2.86944145735247, 3.930900621520664], 'units': 'bohr'}\n",
            "{'sym': 'H', 'r': [14.389726124565062, 2.86944145735247, 1.0690993784793343], 'units': 'bohr'}\n"
          ]
        }
      ]
    },
    {
      "cell_type": "markdown",
      "id": "0a6ba746",
      "metadata": {
        "id": "0a6ba746"
      },
      "source": [
        "## Solid State Systems\n",
        "\n",
        "The cell attribute of the `System` object enables to investigate systems ranging from **molecular biology** to **condensed matter physics**, by fixing the periodic boundaries conditions. \n",
        "\n",
        "The `UnitCell` class is available to manage the cell."
      ]
    },
    {
      "cell_type": "code",
      "execution_count": 23,
      "id": "f01c3a88",
      "metadata": {
        "id": "f01c3a88"
      },
      "outputs": [],
      "source": [
        "from BigDFT.UnitCells import UnitCell\n",
        "\n",
        "sys.cell = UnitCell([5, 5, 5], units=\"bohr\")"
      ]
    },
    {
      "cell_type": "code",
      "execution_count": 24,
      "id": "714d6415",
      "metadata": {
        "id": "714d6415",
        "outputId": "944aee4d-ad4d-4837-c528-59115f1677d8",
        "colab": {
          "base_uri": "https://localhost:8080/"
        }
      },
      "outputs": [
        {
          "output_type": "stream",
          "name": "stdout",
          "text": [
            "[5.0, 5.0, 5.0]\n"
          ]
        }
      ],
      "source": [
        "print(sys.cell.get_posinp())"
      ]
    },
    {
      "cell_type": "markdown",
      "id": "ad427cca",
      "metadata": {
        "id": "ad427cca"
      },
      "source": [
        "BigDFT is able to handle several boundary conditions, depending on the cell. \n",
        "- if set to `None`: free boundary\n",
        "- if $x$ and $y$ are set to `inf`: 1D system \n",
        "- if $y$ is set to `inf`: 2D periodic system (note that $y$ direction is free)\n",
        "- if all values are `float`: 3D periodic system."
      ]
    },
    {
      "cell_type": "markdown",
      "id": "712f1b61",
      "metadata": {
        "id": "712f1b61"
      },
      "source": [
        "For wire boundary conditions"
      ]
    },
    {
      "cell_type": "code",
      "execution_count": 25,
      "id": "37fa9adf",
      "metadata": {
        "id": "37fa9adf",
        "outputId": "5ea772aa-defa-42c3-c032-f42114d0e984",
        "colab": {
          "base_uri": "https://localhost:8080/"
        }
      },
      "outputs": [
        {
          "output_type": "stream",
          "name": "stdout",
          "text": [
            "[inf, inf, 5.0]\n"
          ]
        }
      ],
      "source": [
        "sys.cell = UnitCell([float(\"inf\"), float(\"inf\"), 5], units=\"bohr\")\n",
        "print(sys.cell.get_posinp(\"bohr\"))"
      ]
    },
    {
      "cell_type": "markdown",
      "id": "4f83071f",
      "metadata": {
        "id": "4f83071f"
      },
      "source": [
        "For the surface condition"
      ]
    },
    {
      "cell_type": "code",
      "execution_count": 26,
      "id": "00ae28d8",
      "metadata": {
        "id": "00ae28d8",
        "outputId": "55261357-97cb-46a1-ba3b-8394ea0516c8",
        "colab": {
          "base_uri": "https://localhost:8080/"
        }
      },
      "outputs": [
        {
          "output_type": "stream",
          "name": "stdout",
          "text": [
            "[5.0, inf, 5.0]\n"
          ]
        }
      ],
      "source": [
        "sys.cell = UnitCell([5, float(\"inf\"), 5], units=\"bohr\")\n",
        "print(sys.cell.get_posinp(\"bohr\"))"
      ]
    },
    {
      "cell_type": "markdown",
      "id": "cf5f0997",
      "metadata": {
        "id": "cf5f0997"
      },
      "source": [
        "Note that **reduced** (fractional) coordinates can be employed to alternatively specify the locations of atoms (*for fully periodic boundary conditions*)."
      ]
    },
    {
      "cell_type": "code",
      "execution_count": 27,
      "id": "50a8eefa",
      "metadata": {
        "id": "50a8eefa"
      },
      "outputs": [],
      "source": [
        "cell = UnitCell([10, 10, 10], units=\"bohr\")"
      ]
    },
    {
      "cell_type": "code",
      "execution_count": 28,
      "id": "2625773f",
      "metadata": {
        "scrolled": true,
        "id": "2625773f",
        "outputId": "2122ae3d-6102-496b-ba9a-3e2cb8608cba",
        "colab": {
          "base_uri": "https://localhost:8080/"
        }
      },
      "outputs": [
        {
          "output_type": "stream",
          "name": "stdout",
          "text": [
            "[0.5, 0.25, 0.0]\n",
            "[5.0, 2.5, 0.0]\n",
            "[2.6458860546, 1.3229430273, 0.0]\n"
          ]
        }
      ],
      "source": [
        "at = Atom({'r': [0.5, 0.25, 0.0], 'sym': \"He\", 'units': 'reduced'})\n",
        "\n",
        "print(at.get_position(\"reduced\", cell))\n",
        "print(at.get_position(\"bohr\", cell))\n",
        "print(at.get_position(\"angstroem\", cell))"
      ]
    },
    {
      "cell_type": "markdown",
      "id": "fc1d7221",
      "metadata": {
        "id": "fc1d7221"
      },
      "source": [
        "## File I/O\n",
        "\n",
        "A wide range of standard files can easily be manipulated with PyBigDFT."
      ]
    },
    {
      "cell_type": "markdown",
      "id": "703734c1",
      "metadata": {
        "id": "703734c1"
      },
      "source": [
        "### XYZ Files\n",
        "\n",
        "The `XYZReader` class enables to access the some built in molecules in the database (available [here](https://gitlab.com/l_sim/bigdft-suite/-/tree/devel/PyBigDFT/BigDFT/Database/XYZs)). Otherwise, a path for the filename is required."
      ]
    },
    {
      "cell_type": "code",
      "execution_count": 29,
      "id": "dae55825",
      "metadata": {
        "id": "dae55825"
      },
      "outputs": [],
      "source": [
        "from BigDFT.IO import XYZReader\n",
        "\n",
        "sys = System()\n",
        "sys[\"CH4:0\"] = Fragment()\n",
        "with XYZReader(\"CH4\") as ifile:\n",
        "    for atom in ifile:\n",
        "        sys[\"CH4:0\"].append(atom)\n",
        "        \n",
        "sys[\"CH2F:1\"] = Fragment()\n",
        "with XYZReader(\"CH2F\") as ifile:\n",
        "    for atom in ifile:\n",
        "        sys[\"CH2F:1\"].append(atom)\n",
        "        \n",
        "sys[\"CH2F:1\"].translate([-5, 0, 0])"
      ]
    },
    {
      "cell_type": "markdown",
      "id": "90ad090c",
      "metadata": {
        "id": "90ad090c"
      },
      "source": [
        "The resulting system is"
      ]
    },
    {
      "cell_type": "code",
      "execution_count": 30,
      "id": "98116fc4",
      "metadata": {
        "id": "98116fc4",
        "outputId": "089c3c79-db45-4007-cacd-69ec73d5754c",
        "colab": {
          "base_uri": "https://localhost:8080/",
          "height": 335
        }
      },
      "outputs": [
        {
          "output_type": "display_data",
          "data": {
            "application/3dmoljs_load.v0": "<div id=\"3dmolviewer_1663764593315393\"  style=\"position: relative; width: 400px; height: 300px\">\n        <p id=\"3dmolwarning_1663764593315393\" style=\"background-color:#ffcccc;color:black\">You appear to be running in JupyterLab (or JavaScript failed to load for some other reason).  You need to install the 3dmol extension: <br>\n        <tt>jupyter labextension install jupyterlab_3dmol</tt></p>\n        </div>\n<script>\n\nvar loadScriptAsync = function(uri){\n  return new Promise((resolve, reject) => {\n    var tag = document.createElement('script');\n    tag.src = uri;\n    tag.async = true;\n    tag.onload = () => {\n      resolve();\n    };\n  var firstScriptTag = document.getElementsByTagName('script')[0];\n  firstScriptTag.parentNode.insertBefore(tag, firstScriptTag);\n});\n};\n\nif(typeof $3Dmolpromise === 'undefined') {\n$3Dmolpromise = null;\n  $3Dmolpromise = loadScriptAsync('https://cdn.jsdelivr.net/npm/3dmol@latest/build/3Dmol-min.min.js');\n}\n\nvar viewer_1663764593315393 = null;\nvar warn = document.getElementById(\"3dmolwarning_1663764593315393\");\nif(warn) {\n    warn.parentNode.removeChild(warn);\n}\n$3Dmolpromise.then(function() {\nvar viewergrid_1663764593315393 = null;\nviewergrid_1663764593315393 = $3Dmol.createViewerGrid($(\"#3dmolviewer_1663764593315393\"),{rows: 1, cols: 1, control_all: false},{backgroundColor:\"white\"});\nviewer_1663764593315393 = viewergrid_1663764593315393[0][0];\nviewergrid_1663764593315393[0][0].zoomTo();\tviewergrid_1663764593315393[0][0].addModelsAsFrames(\"MODEL 0\\nHETATM    1 C    CH4 A   0       0.000   0.000   0.000  1.00  0.00       B   C  \\nHETATM    2 H    CH4 A   0       0.628   0.628   0.628  1.00  0.00       B   H  \\nHETATM    3 H    CH4 A   0       0.628  -0.628  -0.628  1.00  0.00       B   H  \\nHETATM    4 H    CH4 A   0      -0.628   0.628  -0.628  1.00  0.00       B   H  \\nHETATM    5 H    CH4 A   0      -0.628  -0.628   0.628  1.00  0.00       B   H  \\nHETATM    6 C    CH2 A   1      -2.675   0.655   0.000  1.00  0.00       B   C  \\nHETATM    7 F    CH2 A   1      -2.675  -0.682   0.000  1.00  0.00       B   F  \\nHETATM    8 H    CH2 A   1      -2.431   1.104   0.947  1.00  0.00       B   H  \\nHETATM    9 H    CH2 A   1      -2.431   1.104  -0.947  1.00  0.00       B   H  \\nENDMDL\\n\",\"pdb\",{\"keepH\": \"true\"});\n\tviewergrid_1663764593315393[0][0].setStyle({\"model\": -1},{\"line\": {\"color\": \"black\"}});\n\tviewergrid_1663764593315393[0][0].addModelsAsFrames(\"MODEL 0\\nHETATM    1 C    CH4 A   0       0.000   0.000   0.000  1.00  0.00       B   C  \\nHETATM    2 H    CH4 A   0       0.628   0.628   0.628  1.00  0.00       B   H  \\nHETATM    3 H    CH4 A   0       0.628  -0.628  -0.628  1.00  0.00       B   H  \\nHETATM    4 H    CH4 A   0      -0.628   0.628  -0.628  1.00  0.00       B   H  \\nHETATM    5 H    CH4 A   0      -0.628  -0.628   0.628  1.00  0.00       B   H  \\nHETATM    6 C    CH2 A   1      -2.675   0.655   0.000  1.00  0.00       B   C  \\nHETATM    7 F    CH2 A   1      -2.675  -0.682   0.000  1.00  0.00       B   F  \\nHETATM    8 H    CH2 A   1      -2.431   1.104   0.947  1.00  0.00       B   H  \\nHETATM    9 H    CH2 A   1      -2.431   1.104  -0.947  1.00  0.00       B   H  \\nENDMDL\\n\",\"pdb\",{\"keepH\": \"true\"});\n\tviewergrid_1663764593315393[0][0].setStyle({\"model\": -1, \"serial\": 1},{\"sphere\": {\"scale\": 0.2, \"color\": \"#FF0000\"}});\n\tviewergrid_1663764593315393[0][0].addModelsAsFrames(\"MODEL 0\\nHETATM    1 C    CH4 A   0       0.000   0.000   0.000  1.00  0.00       B   C  \\nHETATM    2 H    CH4 A   0       0.628   0.628   0.628  1.00  0.00       B   H  \\nHETATM    3 H    CH4 A   0       0.628  -0.628  -0.628  1.00  0.00       B   H  \\nHETATM    4 H    CH4 A   0      -0.628   0.628  -0.628  1.00  0.00       B   H  \\nHETATM    5 H    CH4 A   0      -0.628  -0.628   0.628  1.00  0.00       B   H  \\nHETATM    6 C    CH2 A   1      -2.675   0.655   0.000  1.00  0.00       B   C  \\nHETATM    7 F    CH2 A   1      -2.675  -0.682   0.000  1.00  0.00       B   F  \\nHETATM    8 H    CH2 A   1      -2.431   1.104   0.947  1.00  0.00       B   H  \\nHETATM    9 H    CH2 A   1      -2.431   1.104  -0.947  1.00  0.00       B   H  \\nENDMDL\\n\",\"pdb\",{\"keepH\": \"true\"});\n\tviewergrid_1663764593315393[0][0].setStyle({\"model\": -1, \"serial\": 2},{\"sphere\": {\"scale\": 0.2, \"color\": \"#FF0000\"}});\n\tviewergrid_1663764593315393[0][0].addModelsAsFrames(\"MODEL 0\\nHETATM    1 C    CH4 A   0       0.000   0.000   0.000  1.00  0.00       B   C  \\nHETATM    2 H    CH4 A   0       0.628   0.628   0.628  1.00  0.00       B   H  \\nHETATM    3 H    CH4 A   0       0.628  -0.628  -0.628  1.00  0.00       B   H  \\nHETATM    4 H    CH4 A   0      -0.628   0.628  -0.628  1.00  0.00       B   H  \\nHETATM    5 H    CH4 A   0      -0.628  -0.628   0.628  1.00  0.00       B   H  \\nHETATM    6 C    CH2 A   1      -2.675   0.655   0.000  1.00  0.00       B   C  \\nHETATM    7 F    CH2 A   1      -2.675  -0.682   0.000  1.00  0.00       B   F  \\nHETATM    8 H    CH2 A   1      -2.431   1.104   0.947  1.00  0.00       B   H  \\nHETATM    9 H    CH2 A   1      -2.431   1.104  -0.947  1.00  0.00       B   H  \\nENDMDL\\n\",\"pdb\",{\"keepH\": \"true\"});\n\tviewergrid_1663764593315393[0][0].setStyle({\"model\": -1, \"serial\": 3},{\"sphere\": {\"scale\": 0.2, \"color\": \"#FF0000\"}});\n\tviewergrid_1663764593315393[0][0].addModelsAsFrames(\"MODEL 0\\nHETATM    1 C    CH4 A   0       0.000   0.000   0.000  1.00  0.00       B   C  \\nHETATM    2 H    CH4 A   0       0.628   0.628   0.628  1.00  0.00       B   H  \\nHETATM    3 H    CH4 A   0       0.628  -0.628  -0.628  1.00  0.00       B   H  \\nHETATM    4 H    CH4 A   0      -0.628   0.628  -0.628  1.00  0.00       B   H  \\nHETATM    5 H    CH4 A   0      -0.628  -0.628   0.628  1.00  0.00       B   H  \\nHETATM    6 C    CH2 A   1      -2.675   0.655   0.000  1.00  0.00       B   C  \\nHETATM    7 F    CH2 A   1      -2.675  -0.682   0.000  1.00  0.00       B   F  \\nHETATM    8 H    CH2 A   1      -2.431   1.104   0.947  1.00  0.00       B   H  \\nHETATM    9 H    CH2 A   1      -2.431   1.104  -0.947  1.00  0.00       B   H  \\nENDMDL\\n\",\"pdb\",{\"keepH\": \"true\"});\n\tviewergrid_1663764593315393[0][0].setStyle({\"model\": -1, \"serial\": 4},{\"sphere\": {\"scale\": 0.2, \"color\": \"#FF0000\"}});\n\tviewergrid_1663764593315393[0][0].addModelsAsFrames(\"MODEL 0\\nHETATM    1 C    CH4 A   0       0.000   0.000   0.000  1.00  0.00       B   C  \\nHETATM    2 H    CH4 A   0       0.628   0.628   0.628  1.00  0.00       B   H  \\nHETATM    3 H    CH4 A   0       0.628  -0.628  -0.628  1.00  0.00       B   H  \\nHETATM    4 H    CH4 A   0      -0.628   0.628  -0.628  1.00  0.00       B   H  \\nHETATM    5 H    CH4 A   0      -0.628  -0.628   0.628  1.00  0.00       B   H  \\nHETATM    6 C    CH2 A   1      -2.675   0.655   0.000  1.00  0.00       B   C  \\nHETATM    7 F    CH2 A   1      -2.675  -0.682   0.000  1.00  0.00       B   F  \\nHETATM    8 H    CH2 A   1      -2.431   1.104   0.947  1.00  0.00       B   H  \\nHETATM    9 H    CH2 A   1      -2.431   1.104  -0.947  1.00  0.00       B   H  \\nENDMDL\\n\",\"pdb\",{\"keepH\": \"true\"});\n\tviewergrid_1663764593315393[0][0].setStyle({\"model\": -1, \"serial\": 5},{\"sphere\": {\"scale\": 0.2, \"color\": \"#FF0000\"}});\n\tviewergrid_1663764593315393[0][0].addModelsAsFrames(\"MODEL 0\\nHETATM    1 C    CH4 A   0       0.000   0.000   0.000  1.00  0.00       B   C  \\nHETATM    2 H    CH4 A   0       0.628   0.628   0.628  1.00  0.00       B   H  \\nHETATM    3 H    CH4 A   0       0.628  -0.628  -0.628  1.00  0.00       B   H  \\nHETATM    4 H    CH4 A   0      -0.628   0.628  -0.628  1.00  0.00       B   H  \\nHETATM    5 H    CH4 A   0      -0.628  -0.628   0.628  1.00  0.00       B   H  \\nHETATM    6 C    CH2 A   1      -2.675   0.655   0.000  1.00  0.00       B   C  \\nHETATM    7 F    CH2 A   1      -2.675  -0.682   0.000  1.00  0.00       B   F  \\nHETATM    8 H    CH2 A   1      -2.431   1.104   0.947  1.00  0.00       B   H  \\nHETATM    9 H    CH2 A   1      -2.431   1.104  -0.947  1.00  0.00       B   H  \\nENDMDL\\n\",\"pdb\",{\"keepH\": \"true\"});\n\tviewergrid_1663764593315393[0][0].setStyle({\"model\": -1},{\"line\": {\"color\": \"black\"}});\n\tviewergrid_1663764593315393[0][0].addModelsAsFrames(\"MODEL 0\\nHETATM    1 C    CH4 A   0       0.000   0.000   0.000  1.00  0.00       B   C  \\nHETATM    2 H    CH4 A   0       0.628   0.628   0.628  1.00  0.00       B   H  \\nHETATM    3 H    CH4 A   0       0.628  -0.628  -0.628  1.00  0.00       B   H  \\nHETATM    4 H    CH4 A   0      -0.628   0.628  -0.628  1.00  0.00       B   H  \\nHETATM    5 H    CH4 A   0      -0.628  -0.628   0.628  1.00  0.00       B   H  \\nHETATM    6 C    CH2 A   1      -2.675   0.655   0.000  1.00  0.00       B   C  \\nHETATM    7 F    CH2 A   1      -2.675  -0.682   0.000  1.00  0.00       B   F  \\nHETATM    8 H    CH2 A   1      -2.431   1.104   0.947  1.00  0.00       B   H  \\nHETATM    9 H    CH2 A   1      -2.431   1.104  -0.947  1.00  0.00       B   H  \\nENDMDL\\n\",\"pdb\",{\"keepH\": \"true\"});\n\tviewergrid_1663764593315393[0][0].setStyle({\"model\": -1, \"serial\": 6},{\"sphere\": {\"scale\": 0.2, \"color\": \"#7F00FF\"}});\n\tviewergrid_1663764593315393[0][0].addModelsAsFrames(\"MODEL 0\\nHETATM    1 C    CH4 A   0       0.000   0.000   0.000  1.00  0.00       B   C  \\nHETATM    2 H    CH4 A   0       0.628   0.628   0.628  1.00  0.00       B   H  \\nHETATM    3 H    CH4 A   0       0.628  -0.628  -0.628  1.00  0.00       B   H  \\nHETATM    4 H    CH4 A   0      -0.628   0.628  -0.628  1.00  0.00       B   H  \\nHETATM    5 H    CH4 A   0      -0.628  -0.628   0.628  1.00  0.00       B   H  \\nHETATM    6 C    CH2 A   1      -2.675   0.655   0.000  1.00  0.00       B   C  \\nHETATM    7 F    CH2 A   1      -2.675  -0.682   0.000  1.00  0.00       B   F  \\nHETATM    8 H    CH2 A   1      -2.431   1.104   0.947  1.00  0.00       B   H  \\nHETATM    9 H    CH2 A   1      -2.431   1.104  -0.947  1.00  0.00       B   H  \\nENDMDL\\n\",\"pdb\",{\"keepH\": \"true\"});\n\tviewergrid_1663764593315393[0][0].setStyle({\"model\": -1, \"serial\": 7},{\"sphere\": {\"scale\": 0.2, \"color\": \"#7F00FF\"}});\n\tviewergrid_1663764593315393[0][0].addModelsAsFrames(\"MODEL 0\\nHETATM    1 C    CH4 A   0       0.000   0.000   0.000  1.00  0.00       B   C  \\nHETATM    2 H    CH4 A   0       0.628   0.628   0.628  1.00  0.00       B   H  \\nHETATM    3 H    CH4 A   0       0.628  -0.628  -0.628  1.00  0.00       B   H  \\nHETATM    4 H    CH4 A   0      -0.628   0.628  -0.628  1.00  0.00       B   H  \\nHETATM    5 H    CH4 A   0      -0.628  -0.628   0.628  1.00  0.00       B   H  \\nHETATM    6 C    CH2 A   1      -2.675   0.655   0.000  1.00  0.00       B   C  \\nHETATM    7 F    CH2 A   1      -2.675  -0.682   0.000  1.00  0.00       B   F  \\nHETATM    8 H    CH2 A   1      -2.431   1.104   0.947  1.00  0.00       B   H  \\nHETATM    9 H    CH2 A   1      -2.431   1.104  -0.947  1.00  0.00       B   H  \\nENDMDL\\n\",\"pdb\",{\"keepH\": \"true\"});\n\tviewergrid_1663764593315393[0][0].setStyle({\"model\": -1, \"serial\": 8},{\"sphere\": {\"scale\": 0.2, \"color\": \"#7F00FF\"}});\n\tviewergrid_1663764593315393[0][0].addModelsAsFrames(\"MODEL 0\\nHETATM    1 C    CH4 A   0       0.000   0.000   0.000  1.00  0.00       B   C  \\nHETATM    2 H    CH4 A   0       0.628   0.628   0.628  1.00  0.00       B   H  \\nHETATM    3 H    CH4 A   0       0.628  -0.628  -0.628  1.00  0.00       B   H  \\nHETATM    4 H    CH4 A   0      -0.628   0.628  -0.628  1.00  0.00       B   H  \\nHETATM    5 H    CH4 A   0      -0.628  -0.628   0.628  1.00  0.00       B   H  \\nHETATM    6 C    CH2 A   1      -2.675   0.655   0.000  1.00  0.00       B   C  \\nHETATM    7 F    CH2 A   1      -2.675  -0.682   0.000  1.00  0.00       B   F  \\nHETATM    8 H    CH2 A   1      -2.431   1.104   0.947  1.00  0.00       B   H  \\nHETATM    9 H    CH2 A   1      -2.431   1.104  -0.947  1.00  0.00       B   H  \\nENDMDL\\n\",\"pdb\",{\"keepH\": \"true\"});\n\tviewergrid_1663764593315393[0][0].setStyle({\"model\": -1, \"serial\": 9},{\"sphere\": {\"scale\": 0.2, \"color\": \"#7F00FF\"}});\n\tviewergrid_1663764593315393[0][0].addUnitCell({\"model\": -1},{\"box\": {\"color\": \"black\"}, \"alabel\": \"\", \"blabel\": \"\", \"clabel\": \"\"});\n\tviewergrid_1663764593315393[0][0].zoomTo();\nviewergrid_1663764593315393[0][0].render();\n});\n</script>",
            "text/html": [
              "<div id=\"3dmolviewer_1663764593315393\"  style=\"position: relative; width: 400px; height: 300px\">\n",
              "        <p id=\"3dmolwarning_1663764593315393\" style=\"background-color:#ffcccc;color:black\">You appear to be running in JupyterLab (or JavaScript failed to load for some other reason).  You need to install the 3dmol extension: <br>\n",
              "        <tt>jupyter labextension install jupyterlab_3dmol</tt></p>\n",
              "        </div>\n",
              "<script>\n",
              "\n",
              "var loadScriptAsync = function(uri){\n",
              "  return new Promise((resolve, reject) => {\n",
              "    var tag = document.createElement('script');\n",
              "    tag.src = uri;\n",
              "    tag.async = true;\n",
              "    tag.onload = () => {\n",
              "      resolve();\n",
              "    };\n",
              "  var firstScriptTag = document.getElementsByTagName('script')[0];\n",
              "  firstScriptTag.parentNode.insertBefore(tag, firstScriptTag);\n",
              "});\n",
              "};\n",
              "\n",
              "if(typeof $3Dmolpromise === 'undefined') {\n",
              "$3Dmolpromise = null;\n",
              "  $3Dmolpromise = loadScriptAsync('https://cdn.jsdelivr.net/npm/3dmol@latest/build/3Dmol-min.min.js');\n",
              "}\n",
              "\n",
              "var viewer_1663764593315393 = null;\n",
              "var warn = document.getElementById(\"3dmolwarning_1663764593315393\");\n",
              "if(warn) {\n",
              "    warn.parentNode.removeChild(warn);\n",
              "}\n",
              "$3Dmolpromise.then(function() {\n",
              "var viewergrid_1663764593315393 = null;\n",
              "viewergrid_1663764593315393 = $3Dmol.createViewerGrid($(\"#3dmolviewer_1663764593315393\"),{rows: 1, cols: 1, control_all: false},{backgroundColor:\"white\"});\n",
              "viewer_1663764593315393 = viewergrid_1663764593315393[0][0];\n",
              "viewergrid_1663764593315393[0][0].zoomTo();\tviewergrid_1663764593315393[0][0].addModelsAsFrames(\"MODEL 0\\nHETATM    1 C    CH4 A   0       0.000   0.000   0.000  1.00  0.00       B   C  \\nHETATM    2 H    CH4 A   0       0.628   0.628   0.628  1.00  0.00       B   H  \\nHETATM    3 H    CH4 A   0       0.628  -0.628  -0.628  1.00  0.00       B   H  \\nHETATM    4 H    CH4 A   0      -0.628   0.628  -0.628  1.00  0.00       B   H  \\nHETATM    5 H    CH4 A   0      -0.628  -0.628   0.628  1.00  0.00       B   H  \\nHETATM    6 C    CH2 A   1      -2.675   0.655   0.000  1.00  0.00       B   C  \\nHETATM    7 F    CH2 A   1      -2.675  -0.682   0.000  1.00  0.00       B   F  \\nHETATM    8 H    CH2 A   1      -2.431   1.104   0.947  1.00  0.00       B   H  \\nHETATM    9 H    CH2 A   1      -2.431   1.104  -0.947  1.00  0.00       B   H  \\nENDMDL\\n\",\"pdb\",{\"keepH\": \"true\"});\n",
              "\tviewergrid_1663764593315393[0][0].setStyle({\"model\": -1},{\"line\": {\"color\": \"black\"}});\n",
              "\tviewergrid_1663764593315393[0][0].addModelsAsFrames(\"MODEL 0\\nHETATM    1 C    CH4 A   0       0.000   0.000   0.000  1.00  0.00       B   C  \\nHETATM    2 H    CH4 A   0       0.628   0.628   0.628  1.00  0.00       B   H  \\nHETATM    3 H    CH4 A   0       0.628  -0.628  -0.628  1.00  0.00       B   H  \\nHETATM    4 H    CH4 A   0      -0.628   0.628  -0.628  1.00  0.00       B   H  \\nHETATM    5 H    CH4 A   0      -0.628  -0.628   0.628  1.00  0.00       B   H  \\nHETATM    6 C    CH2 A   1      -2.675   0.655   0.000  1.00  0.00       B   C  \\nHETATM    7 F    CH2 A   1      -2.675  -0.682   0.000  1.00  0.00       B   F  \\nHETATM    8 H    CH2 A   1      -2.431   1.104   0.947  1.00  0.00       B   H  \\nHETATM    9 H    CH2 A   1      -2.431   1.104  -0.947  1.00  0.00       B   H  \\nENDMDL\\n\",\"pdb\",{\"keepH\": \"true\"});\n",
              "\tviewergrid_1663764593315393[0][0].setStyle({\"model\": -1, \"serial\": 1},{\"sphere\": {\"scale\": 0.2, \"color\": \"#FF0000\"}});\n",
              "\tviewergrid_1663764593315393[0][0].addModelsAsFrames(\"MODEL 0\\nHETATM    1 C    CH4 A   0       0.000   0.000   0.000  1.00  0.00       B   C  \\nHETATM    2 H    CH4 A   0       0.628   0.628   0.628  1.00  0.00       B   H  \\nHETATM    3 H    CH4 A   0       0.628  -0.628  -0.628  1.00  0.00       B   H  \\nHETATM    4 H    CH4 A   0      -0.628   0.628  -0.628  1.00  0.00       B   H  \\nHETATM    5 H    CH4 A   0      -0.628  -0.628   0.628  1.00  0.00       B   H  \\nHETATM    6 C    CH2 A   1      -2.675   0.655   0.000  1.00  0.00       B   C  \\nHETATM    7 F    CH2 A   1      -2.675  -0.682   0.000  1.00  0.00       B   F  \\nHETATM    8 H    CH2 A   1      -2.431   1.104   0.947  1.00  0.00       B   H  \\nHETATM    9 H    CH2 A   1      -2.431   1.104  -0.947  1.00  0.00       B   H  \\nENDMDL\\n\",\"pdb\",{\"keepH\": \"true\"});\n",
              "\tviewergrid_1663764593315393[0][0].setStyle({\"model\": -1, \"serial\": 2},{\"sphere\": {\"scale\": 0.2, \"color\": \"#FF0000\"}});\n",
              "\tviewergrid_1663764593315393[0][0].addModelsAsFrames(\"MODEL 0\\nHETATM    1 C    CH4 A   0       0.000   0.000   0.000  1.00  0.00       B   C  \\nHETATM    2 H    CH4 A   0       0.628   0.628   0.628  1.00  0.00       B   H  \\nHETATM    3 H    CH4 A   0       0.628  -0.628  -0.628  1.00  0.00       B   H  \\nHETATM    4 H    CH4 A   0      -0.628   0.628  -0.628  1.00  0.00       B   H  \\nHETATM    5 H    CH4 A   0      -0.628  -0.628   0.628  1.00  0.00       B   H  \\nHETATM    6 C    CH2 A   1      -2.675   0.655   0.000  1.00  0.00       B   C  \\nHETATM    7 F    CH2 A   1      -2.675  -0.682   0.000  1.00  0.00       B   F  \\nHETATM    8 H    CH2 A   1      -2.431   1.104   0.947  1.00  0.00       B   H  \\nHETATM    9 H    CH2 A   1      -2.431   1.104  -0.947  1.00  0.00       B   H  \\nENDMDL\\n\",\"pdb\",{\"keepH\": \"true\"});\n",
              "\tviewergrid_1663764593315393[0][0].setStyle({\"model\": -1, \"serial\": 3},{\"sphere\": {\"scale\": 0.2, \"color\": \"#FF0000\"}});\n",
              "\tviewergrid_1663764593315393[0][0].addModelsAsFrames(\"MODEL 0\\nHETATM    1 C    CH4 A   0       0.000   0.000   0.000  1.00  0.00       B   C  \\nHETATM    2 H    CH4 A   0       0.628   0.628   0.628  1.00  0.00       B   H  \\nHETATM    3 H    CH4 A   0       0.628  -0.628  -0.628  1.00  0.00       B   H  \\nHETATM    4 H    CH4 A   0      -0.628   0.628  -0.628  1.00  0.00       B   H  \\nHETATM    5 H    CH4 A   0      -0.628  -0.628   0.628  1.00  0.00       B   H  \\nHETATM    6 C    CH2 A   1      -2.675   0.655   0.000  1.00  0.00       B   C  \\nHETATM    7 F    CH2 A   1      -2.675  -0.682   0.000  1.00  0.00       B   F  \\nHETATM    8 H    CH2 A   1      -2.431   1.104   0.947  1.00  0.00       B   H  \\nHETATM    9 H    CH2 A   1      -2.431   1.104  -0.947  1.00  0.00       B   H  \\nENDMDL\\n\",\"pdb\",{\"keepH\": \"true\"});\n",
              "\tviewergrid_1663764593315393[0][0].setStyle({\"model\": -1, \"serial\": 4},{\"sphere\": {\"scale\": 0.2, \"color\": \"#FF0000\"}});\n",
              "\tviewergrid_1663764593315393[0][0].addModelsAsFrames(\"MODEL 0\\nHETATM    1 C    CH4 A   0       0.000   0.000   0.000  1.00  0.00       B   C  \\nHETATM    2 H    CH4 A   0       0.628   0.628   0.628  1.00  0.00       B   H  \\nHETATM    3 H    CH4 A   0       0.628  -0.628  -0.628  1.00  0.00       B   H  \\nHETATM    4 H    CH4 A   0      -0.628   0.628  -0.628  1.00  0.00       B   H  \\nHETATM    5 H    CH4 A   0      -0.628  -0.628   0.628  1.00  0.00       B   H  \\nHETATM    6 C    CH2 A   1      -2.675   0.655   0.000  1.00  0.00       B   C  \\nHETATM    7 F    CH2 A   1      -2.675  -0.682   0.000  1.00  0.00       B   F  \\nHETATM    8 H    CH2 A   1      -2.431   1.104   0.947  1.00  0.00       B   H  \\nHETATM    9 H    CH2 A   1      -2.431   1.104  -0.947  1.00  0.00       B   H  \\nENDMDL\\n\",\"pdb\",{\"keepH\": \"true\"});\n",
              "\tviewergrid_1663764593315393[0][0].setStyle({\"model\": -1, \"serial\": 5},{\"sphere\": {\"scale\": 0.2, \"color\": \"#FF0000\"}});\n",
              "\tviewergrid_1663764593315393[0][0].addModelsAsFrames(\"MODEL 0\\nHETATM    1 C    CH4 A   0       0.000   0.000   0.000  1.00  0.00       B   C  \\nHETATM    2 H    CH4 A   0       0.628   0.628   0.628  1.00  0.00       B   H  \\nHETATM    3 H    CH4 A   0       0.628  -0.628  -0.628  1.00  0.00       B   H  \\nHETATM    4 H    CH4 A   0      -0.628   0.628  -0.628  1.00  0.00       B   H  \\nHETATM    5 H    CH4 A   0      -0.628  -0.628   0.628  1.00  0.00       B   H  \\nHETATM    6 C    CH2 A   1      -2.675   0.655   0.000  1.00  0.00       B   C  \\nHETATM    7 F    CH2 A   1      -2.675  -0.682   0.000  1.00  0.00       B   F  \\nHETATM    8 H    CH2 A   1      -2.431   1.104   0.947  1.00  0.00       B   H  \\nHETATM    9 H    CH2 A   1      -2.431   1.104  -0.947  1.00  0.00       B   H  \\nENDMDL\\n\",\"pdb\",{\"keepH\": \"true\"});\n",
              "\tviewergrid_1663764593315393[0][0].setStyle({\"model\": -1},{\"line\": {\"color\": \"black\"}});\n",
              "\tviewergrid_1663764593315393[0][0].addModelsAsFrames(\"MODEL 0\\nHETATM    1 C    CH4 A   0       0.000   0.000   0.000  1.00  0.00       B   C  \\nHETATM    2 H    CH4 A   0       0.628   0.628   0.628  1.00  0.00       B   H  \\nHETATM    3 H    CH4 A   0       0.628  -0.628  -0.628  1.00  0.00       B   H  \\nHETATM    4 H    CH4 A   0      -0.628   0.628  -0.628  1.00  0.00       B   H  \\nHETATM    5 H    CH4 A   0      -0.628  -0.628   0.628  1.00  0.00       B   H  \\nHETATM    6 C    CH2 A   1      -2.675   0.655   0.000  1.00  0.00       B   C  \\nHETATM    7 F    CH2 A   1      -2.675  -0.682   0.000  1.00  0.00       B   F  \\nHETATM    8 H    CH2 A   1      -2.431   1.104   0.947  1.00  0.00       B   H  \\nHETATM    9 H    CH2 A   1      -2.431   1.104  -0.947  1.00  0.00       B   H  \\nENDMDL\\n\",\"pdb\",{\"keepH\": \"true\"});\n",
              "\tviewergrid_1663764593315393[0][0].setStyle({\"model\": -1, \"serial\": 6},{\"sphere\": {\"scale\": 0.2, \"color\": \"#7F00FF\"}});\n",
              "\tviewergrid_1663764593315393[0][0].addModelsAsFrames(\"MODEL 0\\nHETATM    1 C    CH4 A   0       0.000   0.000   0.000  1.00  0.00       B   C  \\nHETATM    2 H    CH4 A   0       0.628   0.628   0.628  1.00  0.00       B   H  \\nHETATM    3 H    CH4 A   0       0.628  -0.628  -0.628  1.00  0.00       B   H  \\nHETATM    4 H    CH4 A   0      -0.628   0.628  -0.628  1.00  0.00       B   H  \\nHETATM    5 H    CH4 A   0      -0.628  -0.628   0.628  1.00  0.00       B   H  \\nHETATM    6 C    CH2 A   1      -2.675   0.655   0.000  1.00  0.00       B   C  \\nHETATM    7 F    CH2 A   1      -2.675  -0.682   0.000  1.00  0.00       B   F  \\nHETATM    8 H    CH2 A   1      -2.431   1.104   0.947  1.00  0.00       B   H  \\nHETATM    9 H    CH2 A   1      -2.431   1.104  -0.947  1.00  0.00       B   H  \\nENDMDL\\n\",\"pdb\",{\"keepH\": \"true\"});\n",
              "\tviewergrid_1663764593315393[0][0].setStyle({\"model\": -1, \"serial\": 7},{\"sphere\": {\"scale\": 0.2, \"color\": \"#7F00FF\"}});\n",
              "\tviewergrid_1663764593315393[0][0].addModelsAsFrames(\"MODEL 0\\nHETATM    1 C    CH4 A   0       0.000   0.000   0.000  1.00  0.00       B   C  \\nHETATM    2 H    CH4 A   0       0.628   0.628   0.628  1.00  0.00       B   H  \\nHETATM    3 H    CH4 A   0       0.628  -0.628  -0.628  1.00  0.00       B   H  \\nHETATM    4 H    CH4 A   0      -0.628   0.628  -0.628  1.00  0.00       B   H  \\nHETATM    5 H    CH4 A   0      -0.628  -0.628   0.628  1.00  0.00       B   H  \\nHETATM    6 C    CH2 A   1      -2.675   0.655   0.000  1.00  0.00       B   C  \\nHETATM    7 F    CH2 A   1      -2.675  -0.682   0.000  1.00  0.00       B   F  \\nHETATM    8 H    CH2 A   1      -2.431   1.104   0.947  1.00  0.00       B   H  \\nHETATM    9 H    CH2 A   1      -2.431   1.104  -0.947  1.00  0.00       B   H  \\nENDMDL\\n\",\"pdb\",{\"keepH\": \"true\"});\n",
              "\tviewergrid_1663764593315393[0][0].setStyle({\"model\": -1, \"serial\": 8},{\"sphere\": {\"scale\": 0.2, \"color\": \"#7F00FF\"}});\n",
              "\tviewergrid_1663764593315393[0][0].addModelsAsFrames(\"MODEL 0\\nHETATM    1 C    CH4 A   0       0.000   0.000   0.000  1.00  0.00       B   C  \\nHETATM    2 H    CH4 A   0       0.628   0.628   0.628  1.00  0.00       B   H  \\nHETATM    3 H    CH4 A   0       0.628  -0.628  -0.628  1.00  0.00       B   H  \\nHETATM    4 H    CH4 A   0      -0.628   0.628  -0.628  1.00  0.00       B   H  \\nHETATM    5 H    CH4 A   0      -0.628  -0.628   0.628  1.00  0.00       B   H  \\nHETATM    6 C    CH2 A   1      -2.675   0.655   0.000  1.00  0.00       B   C  \\nHETATM    7 F    CH2 A   1      -2.675  -0.682   0.000  1.00  0.00       B   F  \\nHETATM    8 H    CH2 A   1      -2.431   1.104   0.947  1.00  0.00       B   H  \\nHETATM    9 H    CH2 A   1      -2.431   1.104  -0.947  1.00  0.00       B   H  \\nENDMDL\\n\",\"pdb\",{\"keepH\": \"true\"});\n",
              "\tviewergrid_1663764593315393[0][0].setStyle({\"model\": -1, \"serial\": 9},{\"sphere\": {\"scale\": 0.2, \"color\": \"#7F00FF\"}});\n",
              "\tviewergrid_1663764593315393[0][0].addUnitCell({\"model\": -1},{\"box\": {\"color\": \"black\"}, \"alabel\": \"\", \"blabel\": \"\", \"clabel\": \"\"});\n",
              "\tviewergrid_1663764593315393[0][0].zoomTo();\n",
              "viewergrid_1663764593315393[0][0].render();\n",
              "});\n",
              "</script>"
            ]
          },
          "metadata": {}
        },
        {
          "output_type": "execute_result",
          "data": {
            "text/plain": [
              "<BigDFT.Visualization.InlineVisualizer at 0x7fc0ebbc65d0>"
            ]
          },
          "metadata": {},
          "execution_count": 30
        }
      ],
      "source": [
        "sys.display()"
      ]
    },
    {
      "cell_type": "markdown",
      "id": "efa73301",
      "metadata": {
        "id": "efa73301"
      },
      "source": [
        "Afterwards, the `XYZWriter` class enables to write down our data in the `xyz` format."
      ]
    },
    {
      "cell_type": "code",
      "execution_count": 31,
      "id": "d26e5ce3",
      "metadata": {
        "id": "d26e5ce3"
      },
      "outputs": [],
      "source": [
        "from BigDFT.IO import XYZWriter\n",
        "\n",
        "natoms = sum([len(x) for x in sys.values()])\n",
        "with XYZWriter(\"sys.xyz\", natoms=natoms) as ofile:\n",
        "    for frag in sys.values():\n",
        "        for at in frag:\n",
        "            ofile.write(at)"
      ]
    },
    {
      "cell_type": "markdown",
      "id": "220e96ce",
      "metadata": {
        "id": "220e96ce"
      },
      "source": [
        "Or, similarly"
      ]
    },
    {
      "cell_type": "code",
      "execution_count": 32,
      "id": "ec0309a6",
      "metadata": {
        "id": "ec0309a6"
      },
      "outputs": [],
      "source": [
        "from BigDFT import IO\n",
        "\n",
        "with open('sys.xyz','w') as infile:\n",
        "    IO.write_xyz(sys,infile)"
      ]
    },
    {
      "cell_type": "markdown",
      "id": "63afdd1b",
      "metadata": {
        "id": "63afdd1b"
      },
      "source": [
        "The advantage of the `XYZreader` (or `XYZwriter`) approach is to directly yield the following attributes: `units`, `natoms` and `cell`. \n",
        "\n",
        "Warning: when reading an `xyz` file, **there is no fragment information available**\n",
        "\n",
        "The system is either defined as one fragment (`single`) or each atoms are a single fragment (`atomic`)\n",
        "\n",
        "**Important**: from the point of view of the BigDFT code, the only important thing is the position of the atoms. The distribution of a system into fragment can be useful for building and (especially) for post-processing purposes. The code will not care about two different fragmentations if the atomic positions are the same."
      ]
    },
    {
      "cell_type": "code",
      "execution_count": 33,
      "id": "04adfe31",
      "metadata": {
        "id": "04adfe31",
        "outputId": "7536a82c-876a-4685-ff33-1d606ec67609",
        "colab": {
          "base_uri": "https://localhost:8080/",
          "height": 335
        }
      },
      "outputs": [
        {
          "output_type": "display_data",
          "data": {
            "application/3dmoljs_load.v0": "<div id=\"3dmolviewer_16637646188875446\"  style=\"position: relative; width: 400px; height: 300px\">\n        <p id=\"3dmolwarning_16637646188875446\" style=\"background-color:#ffcccc;color:black\">You appear to be running in JupyterLab (or JavaScript failed to load for some other reason).  You need to install the 3dmol extension: <br>\n        <tt>jupyter labextension install jupyterlab_3dmol</tt></p>\n        </div>\n<script>\n\nvar loadScriptAsync = function(uri){\n  return new Promise((resolve, reject) => {\n    var tag = document.createElement('script');\n    tag.src = uri;\n    tag.async = true;\n    tag.onload = () => {\n      resolve();\n    };\n  var firstScriptTag = document.getElementsByTagName('script')[0];\n  firstScriptTag.parentNode.insertBefore(tag, firstScriptTag);\n});\n};\n\nif(typeof $3Dmolpromise === 'undefined') {\n$3Dmolpromise = null;\n  $3Dmolpromise = loadScriptAsync('https://cdn.jsdelivr.net/npm/3dmol@latest/build/3Dmol-min.min.js');\n}\n\nvar viewer_16637646188875446 = null;\nvar warn = document.getElementById(\"3dmolwarning_16637646188875446\");\nif(warn) {\n    warn.parentNode.removeChild(warn);\n}\n$3Dmolpromise.then(function() {\nvar viewergrid_16637646188875446 = null;\nviewergrid_16637646188875446 = $3Dmol.createViewerGrid($(\"#3dmolviewer_16637646188875446\"),{rows: 1, cols: 1, control_all: false},{backgroundColor:\"white\"});\nviewer_16637646188875446 = viewergrid_16637646188875446[0][0];\nviewergrid_16637646188875446[0][0].zoomTo();\tviewergrid_16637646188875446[0][0].addModelsAsFrames(\"MODEL 0\\nHETATM    1 C    FRA A   0       0.000   0.000   0.000  1.00  0.00       B   C  \\nHETATM    2 H    FRA A   0       0.628   0.628   0.628  1.00  0.00       B   H  \\nHETATM    3 H    FRA A   0       0.628  -0.628  -0.628  1.00  0.00       B   H  \\nHETATM    4 H    FRA A   0      -0.628   0.628  -0.628  1.00  0.00       B   H  \\nHETATM    5 H    FRA A   0      -0.628  -0.628   0.628  1.00  0.00       B   H  \\nHETATM    6 C    FRA A   0      -2.675   0.655   0.000  1.00  0.00       B   C  \\nHETATM    7 F    FRA A   0      -2.675  -0.682   0.000  1.00  0.00       B   F  \\nHETATM    8 H    FRA A   0      -2.431   1.104   0.947  1.00  0.00       B   H  \\nHETATM    9 H    FRA A   0      -2.431   1.104  -0.947  1.00  0.00       B   H  \\nENDMDL\\n\",\"pdb\",{\"keepH\": \"true\"});\n\tviewergrid_16637646188875446[0][0].setStyle({\"model\": -1},{\"line\": {\"color\": \"black\"}});\n\tviewergrid_16637646188875446[0][0].addModelsAsFrames(\"MODEL 0\\nHETATM    1 C    FRA A   0       0.000   0.000   0.000  1.00  0.00       B   C  \\nHETATM    2 H    FRA A   0       0.628   0.628   0.628  1.00  0.00       B   H  \\nHETATM    3 H    FRA A   0       0.628  -0.628  -0.628  1.00  0.00       B   H  \\nHETATM    4 H    FRA A   0      -0.628   0.628  -0.628  1.00  0.00       B   H  \\nHETATM    5 H    FRA A   0      -0.628  -0.628   0.628  1.00  0.00       B   H  \\nHETATM    6 C    FRA A   0      -2.675   0.655   0.000  1.00  0.00       B   C  \\nHETATM    7 F    FRA A   0      -2.675  -0.682   0.000  1.00  0.00       B   F  \\nHETATM    8 H    FRA A   0      -2.431   1.104   0.947  1.00  0.00       B   H  \\nHETATM    9 H    FRA A   0      -2.431   1.104  -0.947  1.00  0.00       B   H  \\nENDMDL\\n\",\"pdb\",{\"keepH\": \"true\"});\n\tviewergrid_16637646188875446[0][0].setStyle({\"model\": -1, \"serial\": 1},{\"sphere\": {\"scale\": 0.2, \"color\": \"#7F00FF\"}});\n\tviewergrid_16637646188875446[0][0].addModelsAsFrames(\"MODEL 0\\nHETATM    1 C    FRA A   0       0.000   0.000   0.000  1.00  0.00       B   C  \\nHETATM    2 H    FRA A   0       0.628   0.628   0.628  1.00  0.00       B   H  \\nHETATM    3 H    FRA A   0       0.628  -0.628  -0.628  1.00  0.00       B   H  \\nHETATM    4 H    FRA A   0      -0.628   0.628  -0.628  1.00  0.00       B   H  \\nHETATM    5 H    FRA A   0      -0.628  -0.628   0.628  1.00  0.00       B   H  \\nHETATM    6 C    FRA A   0      -2.675   0.655   0.000  1.00  0.00       B   C  \\nHETATM    7 F    FRA A   0      -2.675  -0.682   0.000  1.00  0.00       B   F  \\nHETATM    8 H    FRA A   0      -2.431   1.104   0.947  1.00  0.00       B   H  \\nHETATM    9 H    FRA A   0      -2.431   1.104  -0.947  1.00  0.00       B   H  \\nENDMDL\\n\",\"pdb\",{\"keepH\": \"true\"});\n\tviewergrid_16637646188875446[0][0].setStyle({\"model\": -1, \"serial\": 2},{\"sphere\": {\"scale\": 0.2, \"color\": \"#7F00FF\"}});\n\tviewergrid_16637646188875446[0][0].addModelsAsFrames(\"MODEL 0\\nHETATM    1 C    FRA A   0       0.000   0.000   0.000  1.00  0.00       B   C  \\nHETATM    2 H    FRA A   0       0.628   0.628   0.628  1.00  0.00       B   H  \\nHETATM    3 H    FRA A   0       0.628  -0.628  -0.628  1.00  0.00       B   H  \\nHETATM    4 H    FRA A   0      -0.628   0.628  -0.628  1.00  0.00       B   H  \\nHETATM    5 H    FRA A   0      -0.628  -0.628   0.628  1.00  0.00       B   H  \\nHETATM    6 C    FRA A   0      -2.675   0.655   0.000  1.00  0.00       B   C  \\nHETATM    7 F    FRA A   0      -2.675  -0.682   0.000  1.00  0.00       B   F  \\nHETATM    8 H    FRA A   0      -2.431   1.104   0.947  1.00  0.00       B   H  \\nHETATM    9 H    FRA A   0      -2.431   1.104  -0.947  1.00  0.00       B   H  \\nENDMDL\\n\",\"pdb\",{\"keepH\": \"true\"});\n\tviewergrid_16637646188875446[0][0].setStyle({\"model\": -1, \"serial\": 3},{\"sphere\": {\"scale\": 0.2, \"color\": \"#7F00FF\"}});\n\tviewergrid_16637646188875446[0][0].addModelsAsFrames(\"MODEL 0\\nHETATM    1 C    FRA A   0       0.000   0.000   0.000  1.00  0.00       B   C  \\nHETATM    2 H    FRA A   0       0.628   0.628   0.628  1.00  0.00       B   H  \\nHETATM    3 H    FRA A   0       0.628  -0.628  -0.628  1.00  0.00       B   H  \\nHETATM    4 H    FRA A   0      -0.628   0.628  -0.628  1.00  0.00       B   H  \\nHETATM    5 H    FRA A   0      -0.628  -0.628   0.628  1.00  0.00       B   H  \\nHETATM    6 C    FRA A   0      -2.675   0.655   0.000  1.00  0.00       B   C  \\nHETATM    7 F    FRA A   0      -2.675  -0.682   0.000  1.00  0.00       B   F  \\nHETATM    8 H    FRA A   0      -2.431   1.104   0.947  1.00  0.00       B   H  \\nHETATM    9 H    FRA A   0      -2.431   1.104  -0.947  1.00  0.00       B   H  \\nENDMDL\\n\",\"pdb\",{\"keepH\": \"true\"});\n\tviewergrid_16637646188875446[0][0].setStyle({\"model\": -1, \"serial\": 4},{\"sphere\": {\"scale\": 0.2, \"color\": \"#7F00FF\"}});\n\tviewergrid_16637646188875446[0][0].addModelsAsFrames(\"MODEL 0\\nHETATM    1 C    FRA A   0       0.000   0.000   0.000  1.00  0.00       B   C  \\nHETATM    2 H    FRA A   0       0.628   0.628   0.628  1.00  0.00       B   H  \\nHETATM    3 H    FRA A   0       0.628  -0.628  -0.628  1.00  0.00       B   H  \\nHETATM    4 H    FRA A   0      -0.628   0.628  -0.628  1.00  0.00       B   H  \\nHETATM    5 H    FRA A   0      -0.628  -0.628   0.628  1.00  0.00       B   H  \\nHETATM    6 C    FRA A   0      -2.675   0.655   0.000  1.00  0.00       B   C  \\nHETATM    7 F    FRA A   0      -2.675  -0.682   0.000  1.00  0.00       B   F  \\nHETATM    8 H    FRA A   0      -2.431   1.104   0.947  1.00  0.00       B   H  \\nHETATM    9 H    FRA A   0      -2.431   1.104  -0.947  1.00  0.00       B   H  \\nENDMDL\\n\",\"pdb\",{\"keepH\": \"true\"});\n\tviewergrid_16637646188875446[0][0].setStyle({\"model\": -1, \"serial\": 5},{\"sphere\": {\"scale\": 0.2, \"color\": \"#7F00FF\"}});\n\tviewergrid_16637646188875446[0][0].addModelsAsFrames(\"MODEL 0\\nHETATM    1 C    FRA A   0       0.000   0.000   0.000  1.00  0.00       B   C  \\nHETATM    2 H    FRA A   0       0.628   0.628   0.628  1.00  0.00       B   H  \\nHETATM    3 H    FRA A   0       0.628  -0.628  -0.628  1.00  0.00       B   H  \\nHETATM    4 H    FRA A   0      -0.628   0.628  -0.628  1.00  0.00       B   H  \\nHETATM    5 H    FRA A   0      -0.628  -0.628   0.628  1.00  0.00       B   H  \\nHETATM    6 C    FRA A   0      -2.675   0.655   0.000  1.00  0.00       B   C  \\nHETATM    7 F    FRA A   0      -2.675  -0.682   0.000  1.00  0.00       B   F  \\nHETATM    8 H    FRA A   0      -2.431   1.104   0.947  1.00  0.00       B   H  \\nHETATM    9 H    FRA A   0      -2.431   1.104  -0.947  1.00  0.00       B   H  \\nENDMDL\\n\",\"pdb\",{\"keepH\": \"true\"});\n\tviewergrid_16637646188875446[0][0].setStyle({\"model\": -1, \"serial\": 6},{\"sphere\": {\"scale\": 0.2, \"color\": \"#7F00FF\"}});\n\tviewergrid_16637646188875446[0][0].addModelsAsFrames(\"MODEL 0\\nHETATM    1 C    FRA A   0       0.000   0.000   0.000  1.00  0.00       B   C  \\nHETATM    2 H    FRA A   0       0.628   0.628   0.628  1.00  0.00       B   H  \\nHETATM    3 H    FRA A   0       0.628  -0.628  -0.628  1.00  0.00       B   H  \\nHETATM    4 H    FRA A   0      -0.628   0.628  -0.628  1.00  0.00       B   H  \\nHETATM    5 H    FRA A   0      -0.628  -0.628   0.628  1.00  0.00       B   H  \\nHETATM    6 C    FRA A   0      -2.675   0.655   0.000  1.00  0.00       B   C  \\nHETATM    7 F    FRA A   0      -2.675  -0.682   0.000  1.00  0.00       B   F  \\nHETATM    8 H    FRA A   0      -2.431   1.104   0.947  1.00  0.00       B   H  \\nHETATM    9 H    FRA A   0      -2.431   1.104  -0.947  1.00  0.00       B   H  \\nENDMDL\\n\",\"pdb\",{\"keepH\": \"true\"});\n\tviewergrid_16637646188875446[0][0].setStyle({\"model\": -1, \"serial\": 7},{\"sphere\": {\"scale\": 0.2, \"color\": \"#7F00FF\"}});\n\tviewergrid_16637646188875446[0][0].addModelsAsFrames(\"MODEL 0\\nHETATM    1 C    FRA A   0       0.000   0.000   0.000  1.00  0.00       B   C  \\nHETATM    2 H    FRA A   0       0.628   0.628   0.628  1.00  0.00       B   H  \\nHETATM    3 H    FRA A   0       0.628  -0.628  -0.628  1.00  0.00       B   H  \\nHETATM    4 H    FRA A   0      -0.628   0.628  -0.628  1.00  0.00       B   H  \\nHETATM    5 H    FRA A   0      -0.628  -0.628   0.628  1.00  0.00       B   H  \\nHETATM    6 C    FRA A   0      -2.675   0.655   0.000  1.00  0.00       B   C  \\nHETATM    7 F    FRA A   0      -2.675  -0.682   0.000  1.00  0.00       B   F  \\nHETATM    8 H    FRA A   0      -2.431   1.104   0.947  1.00  0.00       B   H  \\nHETATM    9 H    FRA A   0      -2.431   1.104  -0.947  1.00  0.00       B   H  \\nENDMDL\\n\",\"pdb\",{\"keepH\": \"true\"});\n\tviewergrid_16637646188875446[0][0].setStyle({\"model\": -1, \"serial\": 8},{\"sphere\": {\"scale\": 0.2, \"color\": \"#7F00FF\"}});\n\tviewergrid_16637646188875446[0][0].addModelsAsFrames(\"MODEL 0\\nHETATM    1 C    FRA A   0       0.000   0.000   0.000  1.00  0.00       B   C  \\nHETATM    2 H    FRA A   0       0.628   0.628   0.628  1.00  0.00       B   H  \\nHETATM    3 H    FRA A   0       0.628  -0.628  -0.628  1.00  0.00       B   H  \\nHETATM    4 H    FRA A   0      -0.628   0.628  -0.628  1.00  0.00       B   H  \\nHETATM    5 H    FRA A   0      -0.628  -0.628   0.628  1.00  0.00       B   H  \\nHETATM    6 C    FRA A   0      -2.675   0.655   0.000  1.00  0.00       B   C  \\nHETATM    7 F    FRA A   0      -2.675  -0.682   0.000  1.00  0.00       B   F  \\nHETATM    8 H    FRA A   0      -2.431   1.104   0.947  1.00  0.00       B   H  \\nHETATM    9 H    FRA A   0      -2.431   1.104  -0.947  1.00  0.00       B   H  \\nENDMDL\\n\",\"pdb\",{\"keepH\": \"true\"});\n\tviewergrid_16637646188875446[0][0].setStyle({\"model\": -1, \"serial\": 9},{\"sphere\": {\"scale\": 0.2, \"color\": \"#7F00FF\"}});\n\tviewergrid_16637646188875446[0][0].addUnitCell({\"model\": -1},{\"box\": {\"color\": \"black\"}, \"alabel\": \"\", \"blabel\": \"\", \"clabel\": \"\"});\n\tviewergrid_16637646188875446[0][0].zoomTo();\nviewergrid_16637646188875446[0][0].render();\n});\n</script>",
            "text/html": [
              "<div id=\"3dmolviewer_16637646188875446\"  style=\"position: relative; width: 400px; height: 300px\">\n",
              "        <p id=\"3dmolwarning_16637646188875446\" style=\"background-color:#ffcccc;color:black\">You appear to be running in JupyterLab (or JavaScript failed to load for some other reason).  You need to install the 3dmol extension: <br>\n",
              "        <tt>jupyter labextension install jupyterlab_3dmol</tt></p>\n",
              "        </div>\n",
              "<script>\n",
              "\n",
              "var loadScriptAsync = function(uri){\n",
              "  return new Promise((resolve, reject) => {\n",
              "    var tag = document.createElement('script');\n",
              "    tag.src = uri;\n",
              "    tag.async = true;\n",
              "    tag.onload = () => {\n",
              "      resolve();\n",
              "    };\n",
              "  var firstScriptTag = document.getElementsByTagName('script')[0];\n",
              "  firstScriptTag.parentNode.insertBefore(tag, firstScriptTag);\n",
              "});\n",
              "};\n",
              "\n",
              "if(typeof $3Dmolpromise === 'undefined') {\n",
              "$3Dmolpromise = null;\n",
              "  $3Dmolpromise = loadScriptAsync('https://cdn.jsdelivr.net/npm/3dmol@latest/build/3Dmol-min.min.js');\n",
              "}\n",
              "\n",
              "var viewer_16637646188875446 = null;\n",
              "var warn = document.getElementById(\"3dmolwarning_16637646188875446\");\n",
              "if(warn) {\n",
              "    warn.parentNode.removeChild(warn);\n",
              "}\n",
              "$3Dmolpromise.then(function() {\n",
              "var viewergrid_16637646188875446 = null;\n",
              "viewergrid_16637646188875446 = $3Dmol.createViewerGrid($(\"#3dmolviewer_16637646188875446\"),{rows: 1, cols: 1, control_all: false},{backgroundColor:\"white\"});\n",
              "viewer_16637646188875446 = viewergrid_16637646188875446[0][0];\n",
              "viewergrid_16637646188875446[0][0].zoomTo();\tviewergrid_16637646188875446[0][0].addModelsAsFrames(\"MODEL 0\\nHETATM    1 C    FRA A   0       0.000   0.000   0.000  1.00  0.00       B   C  \\nHETATM    2 H    FRA A   0       0.628   0.628   0.628  1.00  0.00       B   H  \\nHETATM    3 H    FRA A   0       0.628  -0.628  -0.628  1.00  0.00       B   H  \\nHETATM    4 H    FRA A   0      -0.628   0.628  -0.628  1.00  0.00       B   H  \\nHETATM    5 H    FRA A   0      -0.628  -0.628   0.628  1.00  0.00       B   H  \\nHETATM    6 C    FRA A   0      -2.675   0.655   0.000  1.00  0.00       B   C  \\nHETATM    7 F    FRA A   0      -2.675  -0.682   0.000  1.00  0.00       B   F  \\nHETATM    8 H    FRA A   0      -2.431   1.104   0.947  1.00  0.00       B   H  \\nHETATM    9 H    FRA A   0      -2.431   1.104  -0.947  1.00  0.00       B   H  \\nENDMDL\\n\",\"pdb\",{\"keepH\": \"true\"});\n",
              "\tviewergrid_16637646188875446[0][0].setStyle({\"model\": -1},{\"line\": {\"color\": \"black\"}});\n",
              "\tviewergrid_16637646188875446[0][0].addModelsAsFrames(\"MODEL 0\\nHETATM    1 C    FRA A   0       0.000   0.000   0.000  1.00  0.00       B   C  \\nHETATM    2 H    FRA A   0       0.628   0.628   0.628  1.00  0.00       B   H  \\nHETATM    3 H    FRA A   0       0.628  -0.628  -0.628  1.00  0.00       B   H  \\nHETATM    4 H    FRA A   0      -0.628   0.628  -0.628  1.00  0.00       B   H  \\nHETATM    5 H    FRA A   0      -0.628  -0.628   0.628  1.00  0.00       B   H  \\nHETATM    6 C    FRA A   0      -2.675   0.655   0.000  1.00  0.00       B   C  \\nHETATM    7 F    FRA A   0      -2.675  -0.682   0.000  1.00  0.00       B   F  \\nHETATM    8 H    FRA A   0      -2.431   1.104   0.947  1.00  0.00       B   H  \\nHETATM    9 H    FRA A   0      -2.431   1.104  -0.947  1.00  0.00       B   H  \\nENDMDL\\n\",\"pdb\",{\"keepH\": \"true\"});\n",
              "\tviewergrid_16637646188875446[0][0].setStyle({\"model\": -1, \"serial\": 1},{\"sphere\": {\"scale\": 0.2, \"color\": \"#7F00FF\"}});\n",
              "\tviewergrid_16637646188875446[0][0].addModelsAsFrames(\"MODEL 0\\nHETATM    1 C    FRA A   0       0.000   0.000   0.000  1.00  0.00       B   C  \\nHETATM    2 H    FRA A   0       0.628   0.628   0.628  1.00  0.00       B   H  \\nHETATM    3 H    FRA A   0       0.628  -0.628  -0.628  1.00  0.00       B   H  \\nHETATM    4 H    FRA A   0      -0.628   0.628  -0.628  1.00  0.00       B   H  \\nHETATM    5 H    FRA A   0      -0.628  -0.628   0.628  1.00  0.00       B   H  \\nHETATM    6 C    FRA A   0      -2.675   0.655   0.000  1.00  0.00       B   C  \\nHETATM    7 F    FRA A   0      -2.675  -0.682   0.000  1.00  0.00       B   F  \\nHETATM    8 H    FRA A   0      -2.431   1.104   0.947  1.00  0.00       B   H  \\nHETATM    9 H    FRA A   0      -2.431   1.104  -0.947  1.00  0.00       B   H  \\nENDMDL\\n\",\"pdb\",{\"keepH\": \"true\"});\n",
              "\tviewergrid_16637646188875446[0][0].setStyle({\"model\": -1, \"serial\": 2},{\"sphere\": {\"scale\": 0.2, \"color\": \"#7F00FF\"}});\n",
              "\tviewergrid_16637646188875446[0][0].addModelsAsFrames(\"MODEL 0\\nHETATM    1 C    FRA A   0       0.000   0.000   0.000  1.00  0.00       B   C  \\nHETATM    2 H    FRA A   0       0.628   0.628   0.628  1.00  0.00       B   H  \\nHETATM    3 H    FRA A   0       0.628  -0.628  -0.628  1.00  0.00       B   H  \\nHETATM    4 H    FRA A   0      -0.628   0.628  -0.628  1.00  0.00       B   H  \\nHETATM    5 H    FRA A   0      -0.628  -0.628   0.628  1.00  0.00       B   H  \\nHETATM    6 C    FRA A   0      -2.675   0.655   0.000  1.00  0.00       B   C  \\nHETATM    7 F    FRA A   0      -2.675  -0.682   0.000  1.00  0.00       B   F  \\nHETATM    8 H    FRA A   0      -2.431   1.104   0.947  1.00  0.00       B   H  \\nHETATM    9 H    FRA A   0      -2.431   1.104  -0.947  1.00  0.00       B   H  \\nENDMDL\\n\",\"pdb\",{\"keepH\": \"true\"});\n",
              "\tviewergrid_16637646188875446[0][0].setStyle({\"model\": -1, \"serial\": 3},{\"sphere\": {\"scale\": 0.2, \"color\": \"#7F00FF\"}});\n",
              "\tviewergrid_16637646188875446[0][0].addModelsAsFrames(\"MODEL 0\\nHETATM    1 C    FRA A   0       0.000   0.000   0.000  1.00  0.00       B   C  \\nHETATM    2 H    FRA A   0       0.628   0.628   0.628  1.00  0.00       B   H  \\nHETATM    3 H    FRA A   0       0.628  -0.628  -0.628  1.00  0.00       B   H  \\nHETATM    4 H    FRA A   0      -0.628   0.628  -0.628  1.00  0.00       B   H  \\nHETATM    5 H    FRA A   0      -0.628  -0.628   0.628  1.00  0.00       B   H  \\nHETATM    6 C    FRA A   0      -2.675   0.655   0.000  1.00  0.00       B   C  \\nHETATM    7 F    FRA A   0      -2.675  -0.682   0.000  1.00  0.00       B   F  \\nHETATM    8 H    FRA A   0      -2.431   1.104   0.947  1.00  0.00       B   H  \\nHETATM    9 H    FRA A   0      -2.431   1.104  -0.947  1.00  0.00       B   H  \\nENDMDL\\n\",\"pdb\",{\"keepH\": \"true\"});\n",
              "\tviewergrid_16637646188875446[0][0].setStyle({\"model\": -1, \"serial\": 4},{\"sphere\": {\"scale\": 0.2, \"color\": \"#7F00FF\"}});\n",
              "\tviewergrid_16637646188875446[0][0].addModelsAsFrames(\"MODEL 0\\nHETATM    1 C    FRA A   0       0.000   0.000   0.000  1.00  0.00       B   C  \\nHETATM    2 H    FRA A   0       0.628   0.628   0.628  1.00  0.00       B   H  \\nHETATM    3 H    FRA A   0       0.628  -0.628  -0.628  1.00  0.00       B   H  \\nHETATM    4 H    FRA A   0      -0.628   0.628  -0.628  1.00  0.00       B   H  \\nHETATM    5 H    FRA A   0      -0.628  -0.628   0.628  1.00  0.00       B   H  \\nHETATM    6 C    FRA A   0      -2.675   0.655   0.000  1.00  0.00       B   C  \\nHETATM    7 F    FRA A   0      -2.675  -0.682   0.000  1.00  0.00       B   F  \\nHETATM    8 H    FRA A   0      -2.431   1.104   0.947  1.00  0.00       B   H  \\nHETATM    9 H    FRA A   0      -2.431   1.104  -0.947  1.00  0.00       B   H  \\nENDMDL\\n\",\"pdb\",{\"keepH\": \"true\"});\n",
              "\tviewergrid_16637646188875446[0][0].setStyle({\"model\": -1, \"serial\": 5},{\"sphere\": {\"scale\": 0.2, \"color\": \"#7F00FF\"}});\n",
              "\tviewergrid_16637646188875446[0][0].addModelsAsFrames(\"MODEL 0\\nHETATM    1 C    FRA A   0       0.000   0.000   0.000  1.00  0.00       B   C  \\nHETATM    2 H    FRA A   0       0.628   0.628   0.628  1.00  0.00       B   H  \\nHETATM    3 H    FRA A   0       0.628  -0.628  -0.628  1.00  0.00       B   H  \\nHETATM    4 H    FRA A   0      -0.628   0.628  -0.628  1.00  0.00       B   H  \\nHETATM    5 H    FRA A   0      -0.628  -0.628   0.628  1.00  0.00       B   H  \\nHETATM    6 C    FRA A   0      -2.675   0.655   0.000  1.00  0.00       B   C  \\nHETATM    7 F    FRA A   0      -2.675  -0.682   0.000  1.00  0.00       B   F  \\nHETATM    8 H    FRA A   0      -2.431   1.104   0.947  1.00  0.00       B   H  \\nHETATM    9 H    FRA A   0      -2.431   1.104  -0.947  1.00  0.00       B   H  \\nENDMDL\\n\",\"pdb\",{\"keepH\": \"true\"});\n",
              "\tviewergrid_16637646188875446[0][0].setStyle({\"model\": -1, \"serial\": 6},{\"sphere\": {\"scale\": 0.2, \"color\": \"#7F00FF\"}});\n",
              "\tviewergrid_16637646188875446[0][0].addModelsAsFrames(\"MODEL 0\\nHETATM    1 C    FRA A   0       0.000   0.000   0.000  1.00  0.00       B   C  \\nHETATM    2 H    FRA A   0       0.628   0.628   0.628  1.00  0.00       B   H  \\nHETATM    3 H    FRA A   0       0.628  -0.628  -0.628  1.00  0.00       B   H  \\nHETATM    4 H    FRA A   0      -0.628   0.628  -0.628  1.00  0.00       B   H  \\nHETATM    5 H    FRA A   0      -0.628  -0.628   0.628  1.00  0.00       B   H  \\nHETATM    6 C    FRA A   0      -2.675   0.655   0.000  1.00  0.00       B   C  \\nHETATM    7 F    FRA A   0      -2.675  -0.682   0.000  1.00  0.00       B   F  \\nHETATM    8 H    FRA A   0      -2.431   1.104   0.947  1.00  0.00       B   H  \\nHETATM    9 H    FRA A   0      -2.431   1.104  -0.947  1.00  0.00       B   H  \\nENDMDL\\n\",\"pdb\",{\"keepH\": \"true\"});\n",
              "\tviewergrid_16637646188875446[0][0].setStyle({\"model\": -1, \"serial\": 7},{\"sphere\": {\"scale\": 0.2, \"color\": \"#7F00FF\"}});\n",
              "\tviewergrid_16637646188875446[0][0].addModelsAsFrames(\"MODEL 0\\nHETATM    1 C    FRA A   0       0.000   0.000   0.000  1.00  0.00       B   C  \\nHETATM    2 H    FRA A   0       0.628   0.628   0.628  1.00  0.00       B   H  \\nHETATM    3 H    FRA A   0       0.628  -0.628  -0.628  1.00  0.00       B   H  \\nHETATM    4 H    FRA A   0      -0.628   0.628  -0.628  1.00  0.00       B   H  \\nHETATM    5 H    FRA A   0      -0.628  -0.628   0.628  1.00  0.00       B   H  \\nHETATM    6 C    FRA A   0      -2.675   0.655   0.000  1.00  0.00       B   C  \\nHETATM    7 F    FRA A   0      -2.675  -0.682   0.000  1.00  0.00       B   F  \\nHETATM    8 H    FRA A   0      -2.431   1.104   0.947  1.00  0.00       B   H  \\nHETATM    9 H    FRA A   0      -2.431   1.104  -0.947  1.00  0.00       B   H  \\nENDMDL\\n\",\"pdb\",{\"keepH\": \"true\"});\n",
              "\tviewergrid_16637646188875446[0][0].setStyle({\"model\": -1, \"serial\": 8},{\"sphere\": {\"scale\": 0.2, \"color\": \"#7F00FF\"}});\n",
              "\tviewergrid_16637646188875446[0][0].addModelsAsFrames(\"MODEL 0\\nHETATM    1 C    FRA A   0       0.000   0.000   0.000  1.00  0.00       B   C  \\nHETATM    2 H    FRA A   0       0.628   0.628   0.628  1.00  0.00       B   H  \\nHETATM    3 H    FRA A   0       0.628  -0.628  -0.628  1.00  0.00       B   H  \\nHETATM    4 H    FRA A   0      -0.628   0.628  -0.628  1.00  0.00       B   H  \\nHETATM    5 H    FRA A   0      -0.628  -0.628   0.628  1.00  0.00       B   H  \\nHETATM    6 C    FRA A   0      -2.675   0.655   0.000  1.00  0.00       B   C  \\nHETATM    7 F    FRA A   0      -2.675  -0.682   0.000  1.00  0.00       B   F  \\nHETATM    8 H    FRA A   0      -2.431   1.104   0.947  1.00  0.00       B   H  \\nHETATM    9 H    FRA A   0      -2.431   1.104  -0.947  1.00  0.00       B   H  \\nENDMDL\\n\",\"pdb\",{\"keepH\": \"true\"});\n",
              "\tviewergrid_16637646188875446[0][0].setStyle({\"model\": -1, \"serial\": 9},{\"sphere\": {\"scale\": 0.2, \"color\": \"#7F00FF\"}});\n",
              "\tviewergrid_16637646188875446[0][0].addUnitCell({\"model\": -1},{\"box\": {\"color\": \"black\"}, \"alabel\": \"\", \"blabel\": \"\", \"clabel\": \"\"});\n",
              "\tviewergrid_16637646188875446[0][0].zoomTo();\n",
              "viewergrid_16637646188875446[0][0].render();\n",
              "});\n",
              "</script>"
            ]
          },
          "metadata": {}
        },
        {
          "output_type": "execute_result",
          "data": {
            "text/plain": [
              "<BigDFT.Visualization.InlineVisualizer at 0x7fc0ebc9ff10>"
            ]
          },
          "metadata": {},
          "execution_count": 33
        }
      ],
      "source": [
        "with open('sys.xyz','r') as ifile:\n",
        "    sys_a = IO.read_xyz(ifile,fragmentation=\"single\")\n",
        "sys_a.display()"
      ]
    },
    {
      "cell_type": "code",
      "execution_count": 35,
      "id": "355fdb13",
      "metadata": {
        "id": "355fdb13",
        "outputId": "830893e9-f6b2-4dbe-ba19-e70e079998c1",
        "colab": {
          "base_uri": "https://localhost:8080/",
          "height": 335
        }
      },
      "outputs": [
        {
          "output_type": "display_data",
          "data": {
            "application/3dmoljs_load.v0": "<div id=\"3dmolviewer_16637647326511998\"  style=\"position: relative; width: 400px; height: 300px\">\n        <p id=\"3dmolwarning_16637647326511998\" style=\"background-color:#ffcccc;color:black\">You appear to be running in JupyterLab (or JavaScript failed to load for some other reason).  You need to install the 3dmol extension: <br>\n        <tt>jupyter labextension install jupyterlab_3dmol</tt></p>\n        </div>\n<script>\n\nvar loadScriptAsync = function(uri){\n  return new Promise((resolve, reject) => {\n    var tag = document.createElement('script');\n    tag.src = uri;\n    tag.async = true;\n    tag.onload = () => {\n      resolve();\n    };\n  var firstScriptTag = document.getElementsByTagName('script')[0];\n  firstScriptTag.parentNode.insertBefore(tag, firstScriptTag);\n});\n};\n\nif(typeof $3Dmolpromise === 'undefined') {\n$3Dmolpromise = null;\n  $3Dmolpromise = loadScriptAsync('https://cdn.jsdelivr.net/npm/3dmol@latest/build/3Dmol-min.min.js');\n}\n\nvar viewer_16637647326511998 = null;\nvar warn = document.getElementById(\"3dmolwarning_16637647326511998\");\nif(warn) {\n    warn.parentNode.removeChild(warn);\n}\n$3Dmolpromise.then(function() {\nvar viewergrid_16637647326511998 = null;\nviewergrid_16637647326511998 = $3Dmol.createViewerGrid($(\"#3dmolviewer_16637647326511998\"),{rows: 1, cols: 1, control_all: false},{backgroundColor:\"white\"});\nviewer_16637647326511998 = viewergrid_16637647326511998[0][0];\nviewergrid_16637647326511998[0][0].zoomTo();\tviewergrid_16637647326511998[0][0].addModelsAsFrames(\"MODEL 0\\nHETATM    1 C    ATM A   0       0.000   0.000   0.000  1.00  0.00       B   C  \\nHETATM    2 H    ATM A   1       0.628   0.628   0.628  1.00  0.00       B   H  \\nHETATM    3 H    ATM A   2       0.628  -0.628  -0.628  1.00  0.00       B   H  \\nHETATM    4 H    ATM A   3      -0.628   0.628  -0.628  1.00  0.00       B   H  \\nHETATM    5 H    ATM A   4      -0.628  -0.628   0.628  1.00  0.00       B   H  \\nHETATM    6 C    ATM A   5      -2.675   0.655   0.000  1.00  0.00       B   C  \\nHETATM    7 F    ATM A   6      -2.675  -0.682   0.000  1.00  0.00       B   F  \\nHETATM    8 H    ATM A   7      -2.431   1.104   0.947  1.00  0.00       B   H  \\nHETATM    9 H    ATM A   8      -2.431   1.104  -0.947  1.00  0.00       B   H  \\nENDMDL\\n\",\"pdb\",{\"keepH\": \"true\"});\n\tviewergrid_16637647326511998[0][0].setStyle({\"model\": -1},{\"line\": {\"color\": \"black\"}});\n\tviewergrid_16637647326511998[0][0].addModelsAsFrames(\"MODEL 0\\nHETATM    1 C    ATM A   0       0.000   0.000   0.000  1.00  0.00       B   C  \\nHETATM    2 H    ATM A   1       0.628   0.628   0.628  1.00  0.00       B   H  \\nHETATM    3 H    ATM A   2       0.628  -0.628  -0.628  1.00  0.00       B   H  \\nHETATM    4 H    ATM A   3      -0.628   0.628  -0.628  1.00  0.00       B   H  \\nHETATM    5 H    ATM A   4      -0.628  -0.628   0.628  1.00  0.00       B   H  \\nHETATM    6 C    ATM A   5      -2.675   0.655   0.000  1.00  0.00       B   C  \\nHETATM    7 F    ATM A   6      -2.675  -0.682   0.000  1.00  0.00       B   F  \\nHETATM    8 H    ATM A   7      -2.431   1.104   0.947  1.00  0.00       B   H  \\nHETATM    9 H    ATM A   8      -2.431   1.104  -0.947  1.00  0.00       B   H  \\nENDMDL\\n\",\"pdb\",{\"keepH\": \"true\"});\n\tviewergrid_16637647326511998[0][0].setStyle({\"model\": -1, \"serial\": 1},{\"sphere\": {\"scale\": 0.2, \"color\": \"#FF5F30\"}});\n\tviewergrid_16637647326511998[0][0].addModelsAsFrames(\"MODEL 0\\nHETATM    1 C    ATM A   0       0.000   0.000   0.000  1.00  0.00       B   C  \\nHETATM    2 H    ATM A   1       0.628   0.628   0.628  1.00  0.00       B   H  \\nHETATM    3 H    ATM A   2       0.628  -0.628  -0.628  1.00  0.00       B   H  \\nHETATM    4 H    ATM A   3      -0.628   0.628  -0.628  1.00  0.00       B   H  \\nHETATM    5 H    ATM A   4      -0.628  -0.628   0.628  1.00  0.00       B   H  \\nHETATM    6 C    ATM A   5      -2.675   0.655   0.000  1.00  0.00       B   C  \\nHETATM    7 F    ATM A   6      -2.675  -0.682   0.000  1.00  0.00       B   F  \\nHETATM    8 H    ATM A   7      -2.431   1.104   0.947  1.00  0.00       B   H  \\nHETATM    9 H    ATM A   8      -2.431   1.104  -0.947  1.00  0.00       B   H  \\nENDMDL\\n\",\"pdb\",{\"keepH\": \"true\"});\n\tviewergrid_16637647326511998[0][0].setStyle({\"model\": -1},{\"line\": {\"color\": \"black\"}});\n\tviewergrid_16637647326511998[0][0].addModelsAsFrames(\"MODEL 0\\nHETATM    1 C    ATM A   0       0.000   0.000   0.000  1.00  0.00       B   C  \\nHETATM    2 H    ATM A   1       0.628   0.628   0.628  1.00  0.00       B   H  \\nHETATM    3 H    ATM A   2       0.628  -0.628  -0.628  1.00  0.00       B   H  \\nHETATM    4 H    ATM A   3      -0.628   0.628  -0.628  1.00  0.00       B   H  \\nHETATM    5 H    ATM A   4      -0.628  -0.628   0.628  1.00  0.00       B   H  \\nHETATM    6 C    ATM A   5      -2.675   0.655   0.000  1.00  0.00       B   C  \\nHETATM    7 F    ATM A   6      -2.675  -0.682   0.000  1.00  0.00       B   F  \\nHETATM    8 H    ATM A   7      -2.431   1.104   0.947  1.00  0.00       B   H  \\nHETATM    9 H    ATM A   8      -2.431   1.104  -0.947  1.00  0.00       B   H  \\nENDMDL\\n\",\"pdb\",{\"keepH\": \"true\"});\n\tviewergrid_16637647326511998[0][0].setStyle({\"model\": -1, \"serial\": 2},{\"sphere\": {\"scale\": 0.2, \"color\": \"#3F61FA\"}});\n\tviewergrid_16637647326511998[0][0].addModelsAsFrames(\"MODEL 0\\nHETATM    1 C    ATM A   0       0.000   0.000   0.000  1.00  0.00       B   C  \\nHETATM    2 H    ATM A   1       0.628   0.628   0.628  1.00  0.00       B   H  \\nHETATM    3 H    ATM A   2       0.628  -0.628  -0.628  1.00  0.00       B   H  \\nHETATM    4 H    ATM A   3      -0.628   0.628  -0.628  1.00  0.00       B   H  \\nHETATM    5 H    ATM A   4      -0.628  -0.628   0.628  1.00  0.00       B   H  \\nHETATM    6 C    ATM A   5      -2.675   0.655   0.000  1.00  0.00       B   C  \\nHETATM    7 F    ATM A   6      -2.675  -0.682   0.000  1.00  0.00       B   F  \\nHETATM    8 H    ATM A   7      -2.431   1.104   0.947  1.00  0.00       B   H  \\nHETATM    9 H    ATM A   8      -2.431   1.104  -0.947  1.00  0.00       B   H  \\nENDMDL\\n\",\"pdb\",{\"keepH\": \"true\"});\n\tviewergrid_16637647326511998[0][0].setStyle({\"model\": -1},{\"line\": {\"color\": \"black\"}});\n\tviewergrid_16637647326511998[0][0].addModelsAsFrames(\"MODEL 0\\nHETATM    1 C    ATM A   0       0.000   0.000   0.000  1.00  0.00       B   C  \\nHETATM    2 H    ATM A   1       0.628   0.628   0.628  1.00  0.00       B   H  \\nHETATM    3 H    ATM A   2       0.628  -0.628  -0.628  1.00  0.00       B   H  \\nHETATM    4 H    ATM A   3      -0.628   0.628  -0.628  1.00  0.00       B   H  \\nHETATM    5 H    ATM A   4      -0.628  -0.628   0.628  1.00  0.00       B   H  \\nHETATM    6 C    ATM A   5      -2.675   0.655   0.000  1.00  0.00       B   C  \\nHETATM    7 F    ATM A   6      -2.675  -0.682   0.000  1.00  0.00       B   F  \\nHETATM    8 H    ATM A   7      -2.431   1.104   0.947  1.00  0.00       B   H  \\nHETATM    9 H    ATM A   8      -2.431   1.104  -0.947  1.00  0.00       B   H  \\nENDMDL\\n\",\"pdb\",{\"keepH\": \"true\"});\n\tviewergrid_16637647326511998[0][0].setStyle({\"model\": -1, \"serial\": 3},{\"sphere\": {\"scale\": 0.2, \"color\": \"#FF0000\"}});\n\tviewergrid_16637647326511998[0][0].addModelsAsFrames(\"MODEL 0\\nHETATM    1 C    ATM A   0       0.000   0.000   0.000  1.00  0.00       B   C  \\nHETATM    2 H    ATM A   1       0.628   0.628   0.628  1.00  0.00       B   H  \\nHETATM    3 H    ATM A   2       0.628  -0.628  -0.628  1.00  0.00       B   H  \\nHETATM    4 H    ATM A   3      -0.628   0.628  -0.628  1.00  0.00       B   H  \\nHETATM    5 H    ATM A   4      -0.628  -0.628   0.628  1.00  0.00       B   H  \\nHETATM    6 C    ATM A   5      -2.675   0.655   0.000  1.00  0.00       B   C  \\nHETATM    7 F    ATM A   6      -2.675  -0.682   0.000  1.00  0.00       B   F  \\nHETATM    8 H    ATM A   7      -2.431   1.104   0.947  1.00  0.00       B   H  \\nHETATM    9 H    ATM A   8      -2.431   1.104  -0.947  1.00  0.00       B   H  \\nENDMDL\\n\",\"pdb\",{\"keepH\": \"true\"});\n\tviewergrid_16637647326511998[0][0].setStyle({\"model\": -1},{\"line\": {\"color\": \"black\"}});\n\tviewergrid_16637647326511998[0][0].addModelsAsFrames(\"MODEL 0\\nHETATM    1 C    ATM A   0       0.000   0.000   0.000  1.00  0.00       B   C  \\nHETATM    2 H    ATM A   1       0.628   0.628   0.628  1.00  0.00       B   H  \\nHETATM    3 H    ATM A   2       0.628  -0.628  -0.628  1.00  0.00       B   H  \\nHETATM    4 H    ATM A   3      -0.628   0.628  -0.628  1.00  0.00       B   H  \\nHETATM    5 H    ATM A   4      -0.628  -0.628   0.628  1.00  0.00       B   H  \\nHETATM    6 C    ATM A   5      -2.675   0.655   0.000  1.00  0.00       B   C  \\nHETATM    7 F    ATM A   6      -2.675  -0.682   0.000  1.00  0.00       B   F  \\nHETATM    8 H    ATM A   7      -2.431   1.104   0.947  1.00  0.00       B   H  \\nHETATM    9 H    ATM A   8      -2.431   1.104  -0.947  1.00  0.00       B   H  \\nENDMDL\\n\",\"pdb\",{\"keepH\": \"true\"});\n\tviewergrid_16637647326511998[0][0].setStyle({\"model\": -1, \"serial\": 4},{\"sphere\": {\"scale\": 0.2, \"color\": \"#00B4EB\"}});\n\tviewergrid_16637647326511998[0][0].addModelsAsFrames(\"MODEL 0\\nHETATM    1 C    ATM A   0       0.000   0.000   0.000  1.00  0.00       B   C  \\nHETATM    2 H    ATM A   1       0.628   0.628   0.628  1.00  0.00       B   H  \\nHETATM    3 H    ATM A   2       0.628  -0.628  -0.628  1.00  0.00       B   H  \\nHETATM    4 H    ATM A   3      -0.628   0.628  -0.628  1.00  0.00       B   H  \\nHETATM    5 H    ATM A   4      -0.628  -0.628   0.628  1.00  0.00       B   H  \\nHETATM    6 C    ATM A   5      -2.675   0.655   0.000  1.00  0.00       B   C  \\nHETATM    7 F    ATM A   6      -2.675  -0.682   0.000  1.00  0.00       B   F  \\nHETATM    8 H    ATM A   7      -2.431   1.104   0.947  1.00  0.00       B   H  \\nHETATM    9 H    ATM A   8      -2.431   1.104  -0.947  1.00  0.00       B   H  \\nENDMDL\\n\",\"pdb\",{\"keepH\": \"true\"});\n\tviewergrid_16637647326511998[0][0].setStyle({\"model\": -1},{\"line\": {\"color\": \"black\"}});\n\tviewergrid_16637647326511998[0][0].addModelsAsFrames(\"MODEL 0\\nHETATM    1 C    ATM A   0       0.000   0.000   0.000  1.00  0.00       B   C  \\nHETATM    2 H    ATM A   1       0.628   0.628   0.628  1.00  0.00       B   H  \\nHETATM    3 H    ATM A   2       0.628  -0.628  -0.628  1.00  0.00       B   H  \\nHETATM    4 H    ATM A   3      -0.628   0.628  -0.628  1.00  0.00       B   H  \\nHETATM    5 H    ATM A   4      -0.628  -0.628   0.628  1.00  0.00       B   H  \\nHETATM    6 C    ATM A   5      -2.675   0.655   0.000  1.00  0.00       B   C  \\nHETATM    7 F    ATM A   6      -2.675  -0.682   0.000  1.00  0.00       B   F  \\nHETATM    8 H    ATM A   7      -2.431   1.104   0.947  1.00  0.00       B   H  \\nHETATM    9 H    ATM A   8      -2.431   1.104  -0.947  1.00  0.00       B   H  \\nENDMDL\\n\",\"pdb\",{\"keepH\": \"true\"});\n\tviewergrid_16637647326511998[0][0].setStyle({\"model\": -1, \"serial\": 5},{\"sphere\": {\"scale\": 0.2, \"color\": \"#80FEB3\"}});\n\tviewergrid_16637647326511998[0][0].addModelsAsFrames(\"MODEL 0\\nHETATM    1 C    ATM A   0       0.000   0.000   0.000  1.00  0.00       B   C  \\nHETATM    2 H    ATM A   1       0.628   0.628   0.628  1.00  0.00       B   H  \\nHETATM    3 H    ATM A   2       0.628  -0.628  -0.628  1.00  0.00       B   H  \\nHETATM    4 H    ATM A   3      -0.628   0.628  -0.628  1.00  0.00       B   H  \\nHETATM    5 H    ATM A   4      -0.628  -0.628   0.628  1.00  0.00       B   H  \\nHETATM    6 C    ATM A   5      -2.675   0.655   0.000  1.00  0.00       B   C  \\nHETATM    7 F    ATM A   6      -2.675  -0.682   0.000  1.00  0.00       B   F  \\nHETATM    8 H    ATM A   7      -2.431   1.104   0.947  1.00  0.00       B   H  \\nHETATM    9 H    ATM A   8      -2.431   1.104  -0.947  1.00  0.00       B   H  \\nENDMDL\\n\",\"pdb\",{\"keepH\": \"true\"});\n\tviewergrid_16637647326511998[0][0].setStyle({\"model\": -1},{\"line\": {\"color\": \"black\"}});\n\tviewergrid_16637647326511998[0][0].addModelsAsFrames(\"MODEL 0\\nHETATM    1 C    ATM A   0       0.000   0.000   0.000  1.00  0.00       B   C  \\nHETATM    2 H    ATM A   1       0.628   0.628   0.628  1.00  0.00       B   H  \\nHETATM    3 H    ATM A   2       0.628  -0.628  -0.628  1.00  0.00       B   H  \\nHETATM    4 H    ATM A   3      -0.628   0.628  -0.628  1.00  0.00       B   H  \\nHETATM    5 H    ATM A   4      -0.628  -0.628   0.628  1.00  0.00       B   H  \\nHETATM    6 C    ATM A   5      -2.675   0.655   0.000  1.00  0.00       B   C  \\nHETATM    7 F    ATM A   6      -2.675  -0.682   0.000  1.00  0.00       B   F  \\nHETATM    8 H    ATM A   7      -2.431   1.104   0.947  1.00  0.00       B   H  \\nHETATM    9 H    ATM A   8      -2.431   1.104  -0.947  1.00  0.00       B   H  \\nENDMDL\\n\",\"pdb\",{\"keepH\": \"true\"});\n\tviewergrid_16637647326511998[0][0].setStyle({\"model\": -1, \"serial\": 6},{\"sphere\": {\"scale\": 0.2, \"color\": \"#FFB260\"}});\n\tviewergrid_16637647326511998[0][0].addModelsAsFrames(\"MODEL 0\\nHETATM    1 C    ATM A   0       0.000   0.000   0.000  1.00  0.00       B   C  \\nHETATM    2 H    ATM A   1       0.628   0.628   0.628  1.00  0.00       B   H  \\nHETATM    3 H    ATM A   2       0.628  -0.628  -0.628  1.00  0.00       B   H  \\nHETATM    4 H    ATM A   3      -0.628   0.628  -0.628  1.00  0.00       B   H  \\nHETATM    5 H    ATM A   4      -0.628  -0.628   0.628  1.00  0.00       B   H  \\nHETATM    6 C    ATM A   5      -2.675   0.655   0.000  1.00  0.00       B   C  \\nHETATM    7 F    ATM A   6      -2.675  -0.682   0.000  1.00  0.00       B   F  \\nHETATM    8 H    ATM A   7      -2.431   1.104   0.947  1.00  0.00       B   H  \\nHETATM    9 H    ATM A   8      -2.431   1.104  -0.947  1.00  0.00       B   H  \\nENDMDL\\n\",\"pdb\",{\"keepH\": \"true\"});\n\tviewergrid_16637647326511998[0][0].setStyle({\"model\": -1},{\"line\": {\"color\": \"black\"}});\n\tviewergrid_16637647326511998[0][0].addModelsAsFrames(\"MODEL 0\\nHETATM    1 C    ATM A   0       0.000   0.000   0.000  1.00  0.00       B   C  \\nHETATM    2 H    ATM A   1       0.628   0.628   0.628  1.00  0.00       B   H  \\nHETATM    3 H    ATM A   2       0.628  -0.628  -0.628  1.00  0.00       B   H  \\nHETATM    4 H    ATM A   3      -0.628   0.628  -0.628  1.00  0.00       B   H  \\nHETATM    5 H    ATM A   4      -0.628  -0.628   0.628  1.00  0.00       B   H  \\nHETATM    6 C    ATM A   5      -2.675   0.655   0.000  1.00  0.00       B   C  \\nHETATM    7 F    ATM A   6      -2.675  -0.682   0.000  1.00  0.00       B   F  \\nHETATM    8 H    ATM A   7      -2.431   1.104   0.947  1.00  0.00       B   H  \\nHETATM    9 H    ATM A   8      -2.431   1.104  -0.947  1.00  0.00       B   H  \\nENDMDL\\n\",\"pdb\",{\"keepH\": \"true\"});\n\tviewergrid_16637647326511998[0][0].setStyle({\"model\": -1, \"serial\": 7},{\"sphere\": {\"scale\": 0.2, \"color\": \"#40ECD3\"}});\n\tviewergrid_16637647326511998[0][0].addModelsAsFrames(\"MODEL 0\\nHETATM    1 C    ATM A   0       0.000   0.000   0.000  1.00  0.00       B   C  \\nHETATM    2 H    ATM A   1       0.628   0.628   0.628  1.00  0.00       B   H  \\nHETATM    3 H    ATM A   2       0.628  -0.628  -0.628  1.00  0.00       B   H  \\nHETATM    4 H    ATM A   3      -0.628   0.628  -0.628  1.00  0.00       B   H  \\nHETATM    5 H    ATM A   4      -0.628  -0.628   0.628  1.00  0.00       B   H  \\nHETATM    6 C    ATM A   5      -2.675   0.655   0.000  1.00  0.00       B   C  \\nHETATM    7 F    ATM A   6      -2.675  -0.682   0.000  1.00  0.00       B   F  \\nHETATM    8 H    ATM A   7      -2.431   1.104   0.947  1.00  0.00       B   H  \\nHETATM    9 H    ATM A   8      -2.431   1.104  -0.947  1.00  0.00       B   H  \\nENDMDL\\n\",\"pdb\",{\"keepH\": \"true\"});\n\tviewergrid_16637647326511998[0][0].setStyle({\"model\": -1},{\"line\": {\"color\": \"black\"}});\n\tviewergrid_16637647326511998[0][0].addModelsAsFrames(\"MODEL 0\\nHETATM    1 C    ATM A   0       0.000   0.000   0.000  1.00  0.00       B   C  \\nHETATM    2 H    ATM A   1       0.628   0.628   0.628  1.00  0.00       B   H  \\nHETATM    3 H    ATM A   2       0.628  -0.628  -0.628  1.00  0.00       B   H  \\nHETATM    4 H    ATM A   3      -0.628   0.628  -0.628  1.00  0.00       B   H  \\nHETATM    5 H    ATM A   4      -0.628  -0.628   0.628  1.00  0.00       B   H  \\nHETATM    6 C    ATM A   5      -2.675   0.655   0.000  1.00  0.00       B   C  \\nHETATM    7 F    ATM A   6      -2.675  -0.682   0.000  1.00  0.00       B   F  \\nHETATM    8 H    ATM A   7      -2.431   1.104   0.947  1.00  0.00       B   H  \\nHETATM    9 H    ATM A   8      -2.431   1.104  -0.947  1.00  0.00       B   H  \\nENDMDL\\n\",\"pdb\",{\"keepH\": \"true\"});\n\tviewergrid_16637647326511998[0][0].setStyle({\"model\": -1, \"serial\": 8},{\"sphere\": {\"scale\": 0.2, \"color\": \"#C0EA8C\"}});\n\tviewergrid_16637647326511998[0][0].addModelsAsFrames(\"MODEL 0\\nHETATM    1 C    ATM A   0       0.000   0.000   0.000  1.00  0.00       B   C  \\nHETATM    2 H    ATM A   1       0.628   0.628   0.628  1.00  0.00       B   H  \\nHETATM    3 H    ATM A   2       0.628  -0.628  -0.628  1.00  0.00       B   H  \\nHETATM    4 H    ATM A   3      -0.628   0.628  -0.628  1.00  0.00       B   H  \\nHETATM    5 H    ATM A   4      -0.628  -0.628   0.628  1.00  0.00       B   H  \\nHETATM    6 C    ATM A   5      -2.675   0.655   0.000  1.00  0.00       B   C  \\nHETATM    7 F    ATM A   6      -2.675  -0.682   0.000  1.00  0.00       B   F  \\nHETATM    8 H    ATM A   7      -2.431   1.104   0.947  1.00  0.00       B   H  \\nHETATM    9 H    ATM A   8      -2.431   1.104  -0.947  1.00  0.00       B   H  \\nENDMDL\\n\",\"pdb\",{\"keepH\": \"true\"});\n\tviewergrid_16637647326511998[0][0].setStyle({\"model\": -1},{\"line\": {\"color\": \"black\"}});\n\tviewergrid_16637647326511998[0][0].addModelsAsFrames(\"MODEL 0\\nHETATM    1 C    ATM A   0       0.000   0.000   0.000  1.00  0.00       B   C  \\nHETATM    2 H    ATM A   1       0.628   0.628   0.628  1.00  0.00       B   H  \\nHETATM    3 H    ATM A   2       0.628  -0.628  -0.628  1.00  0.00       B   H  \\nHETATM    4 H    ATM A   3      -0.628   0.628  -0.628  1.00  0.00       B   H  \\nHETATM    5 H    ATM A   4      -0.628  -0.628   0.628  1.00  0.00       B   H  \\nHETATM    6 C    ATM A   5      -2.675   0.655   0.000  1.00  0.00       B   C  \\nHETATM    7 F    ATM A   6      -2.675  -0.682   0.000  1.00  0.00       B   F  \\nHETATM    8 H    ATM A   7      -2.431   1.104   0.947  1.00  0.00       B   H  \\nHETATM    9 H    ATM A   8      -2.431   1.104  -0.947  1.00  0.00       B   H  \\nENDMDL\\n\",\"pdb\",{\"keepH\": \"true\"});\n\tviewergrid_16637647326511998[0][0].setStyle({\"model\": -1, \"serial\": 9},{\"sphere\": {\"scale\": 0.2, \"color\": \"#7F00FF\"}});\n\tviewergrid_16637647326511998[0][0].addUnitCell({\"model\": -1},{\"box\": {\"color\": \"black\"}, \"alabel\": \"\", \"blabel\": \"\", \"clabel\": \"\"});\n\tviewergrid_16637647326511998[0][0].zoomTo();\nviewergrid_16637647326511998[0][0].render();\n});\n</script>",
            "text/html": [
              "<div id=\"3dmolviewer_16637647326511998\"  style=\"position: relative; width: 400px; height: 300px\">\n",
              "        <p id=\"3dmolwarning_16637647326511998\" style=\"background-color:#ffcccc;color:black\">You appear to be running in JupyterLab (or JavaScript failed to load for some other reason).  You need to install the 3dmol extension: <br>\n",
              "        <tt>jupyter labextension install jupyterlab_3dmol</tt></p>\n",
              "        </div>\n",
              "<script>\n",
              "\n",
              "var loadScriptAsync = function(uri){\n",
              "  return new Promise((resolve, reject) => {\n",
              "    var tag = document.createElement('script');\n",
              "    tag.src = uri;\n",
              "    tag.async = true;\n",
              "    tag.onload = () => {\n",
              "      resolve();\n",
              "    };\n",
              "  var firstScriptTag = document.getElementsByTagName('script')[0];\n",
              "  firstScriptTag.parentNode.insertBefore(tag, firstScriptTag);\n",
              "});\n",
              "};\n",
              "\n",
              "if(typeof $3Dmolpromise === 'undefined') {\n",
              "$3Dmolpromise = null;\n",
              "  $3Dmolpromise = loadScriptAsync('https://cdn.jsdelivr.net/npm/3dmol@latest/build/3Dmol-min.min.js');\n",
              "}\n",
              "\n",
              "var viewer_16637647326511998 = null;\n",
              "var warn = document.getElementById(\"3dmolwarning_16637647326511998\");\n",
              "if(warn) {\n",
              "    warn.parentNode.removeChild(warn);\n",
              "}\n",
              "$3Dmolpromise.then(function() {\n",
              "var viewergrid_16637647326511998 = null;\n",
              "viewergrid_16637647326511998 = $3Dmol.createViewerGrid($(\"#3dmolviewer_16637647326511998\"),{rows: 1, cols: 1, control_all: false},{backgroundColor:\"white\"});\n",
              "viewer_16637647326511998 = viewergrid_16637647326511998[0][0];\n",
              "viewergrid_16637647326511998[0][0].zoomTo();\tviewergrid_16637647326511998[0][0].addModelsAsFrames(\"MODEL 0\\nHETATM    1 C    ATM A   0       0.000   0.000   0.000  1.00  0.00       B   C  \\nHETATM    2 H    ATM A   1       0.628   0.628   0.628  1.00  0.00       B   H  \\nHETATM    3 H    ATM A   2       0.628  -0.628  -0.628  1.00  0.00       B   H  \\nHETATM    4 H    ATM A   3      -0.628   0.628  -0.628  1.00  0.00       B   H  \\nHETATM    5 H    ATM A   4      -0.628  -0.628   0.628  1.00  0.00       B   H  \\nHETATM    6 C    ATM A   5      -2.675   0.655   0.000  1.00  0.00       B   C  \\nHETATM    7 F    ATM A   6      -2.675  -0.682   0.000  1.00  0.00       B   F  \\nHETATM    8 H    ATM A   7      -2.431   1.104   0.947  1.00  0.00       B   H  \\nHETATM    9 H    ATM A   8      -2.431   1.104  -0.947  1.00  0.00       B   H  \\nENDMDL\\n\",\"pdb\",{\"keepH\": \"true\"});\n",
              "\tviewergrid_16637647326511998[0][0].setStyle({\"model\": -1},{\"line\": {\"color\": \"black\"}});\n",
              "\tviewergrid_16637647326511998[0][0].addModelsAsFrames(\"MODEL 0\\nHETATM    1 C    ATM A   0       0.000   0.000   0.000  1.00  0.00       B   C  \\nHETATM    2 H    ATM A   1       0.628   0.628   0.628  1.00  0.00       B   H  \\nHETATM    3 H    ATM A   2       0.628  -0.628  -0.628  1.00  0.00       B   H  \\nHETATM    4 H    ATM A   3      -0.628   0.628  -0.628  1.00  0.00       B   H  \\nHETATM    5 H    ATM A   4      -0.628  -0.628   0.628  1.00  0.00       B   H  \\nHETATM    6 C    ATM A   5      -2.675   0.655   0.000  1.00  0.00       B   C  \\nHETATM    7 F    ATM A   6      -2.675  -0.682   0.000  1.00  0.00       B   F  \\nHETATM    8 H    ATM A   7      -2.431   1.104   0.947  1.00  0.00       B   H  \\nHETATM    9 H    ATM A   8      -2.431   1.104  -0.947  1.00  0.00       B   H  \\nENDMDL\\n\",\"pdb\",{\"keepH\": \"true\"});\n",
              "\tviewergrid_16637647326511998[0][0].setStyle({\"model\": -1, \"serial\": 1},{\"sphere\": {\"scale\": 0.2, \"color\": \"#FF5F30\"}});\n",
              "\tviewergrid_16637647326511998[0][0].addModelsAsFrames(\"MODEL 0\\nHETATM    1 C    ATM A   0       0.000   0.000   0.000  1.00  0.00       B   C  \\nHETATM    2 H    ATM A   1       0.628   0.628   0.628  1.00  0.00       B   H  \\nHETATM    3 H    ATM A   2       0.628  -0.628  -0.628  1.00  0.00       B   H  \\nHETATM    4 H    ATM A   3      -0.628   0.628  -0.628  1.00  0.00       B   H  \\nHETATM    5 H    ATM A   4      -0.628  -0.628   0.628  1.00  0.00       B   H  \\nHETATM    6 C    ATM A   5      -2.675   0.655   0.000  1.00  0.00       B   C  \\nHETATM    7 F    ATM A   6      -2.675  -0.682   0.000  1.00  0.00       B   F  \\nHETATM    8 H    ATM A   7      -2.431   1.104   0.947  1.00  0.00       B   H  \\nHETATM    9 H    ATM A   8      -2.431   1.104  -0.947  1.00  0.00       B   H  \\nENDMDL\\n\",\"pdb\",{\"keepH\": \"true\"});\n",
              "\tviewergrid_16637647326511998[0][0].setStyle({\"model\": -1},{\"line\": {\"color\": \"black\"}});\n",
              "\tviewergrid_16637647326511998[0][0].addModelsAsFrames(\"MODEL 0\\nHETATM    1 C    ATM A   0       0.000   0.000   0.000  1.00  0.00       B   C  \\nHETATM    2 H    ATM A   1       0.628   0.628   0.628  1.00  0.00       B   H  \\nHETATM    3 H    ATM A   2       0.628  -0.628  -0.628  1.00  0.00       B   H  \\nHETATM    4 H    ATM A   3      -0.628   0.628  -0.628  1.00  0.00       B   H  \\nHETATM    5 H    ATM A   4      -0.628  -0.628   0.628  1.00  0.00       B   H  \\nHETATM    6 C    ATM A   5      -2.675   0.655   0.000  1.00  0.00       B   C  \\nHETATM    7 F    ATM A   6      -2.675  -0.682   0.000  1.00  0.00       B   F  \\nHETATM    8 H    ATM A   7      -2.431   1.104   0.947  1.00  0.00       B   H  \\nHETATM    9 H    ATM A   8      -2.431   1.104  -0.947  1.00  0.00       B   H  \\nENDMDL\\n\",\"pdb\",{\"keepH\": \"true\"});\n",
              "\tviewergrid_16637647326511998[0][0].setStyle({\"model\": -1, \"serial\": 2},{\"sphere\": {\"scale\": 0.2, \"color\": \"#3F61FA\"}});\n",
              "\tviewergrid_16637647326511998[0][0].addModelsAsFrames(\"MODEL 0\\nHETATM    1 C    ATM A   0       0.000   0.000   0.000  1.00  0.00       B   C  \\nHETATM    2 H    ATM A   1       0.628   0.628   0.628  1.00  0.00       B   H  \\nHETATM    3 H    ATM A   2       0.628  -0.628  -0.628  1.00  0.00       B   H  \\nHETATM    4 H    ATM A   3      -0.628   0.628  -0.628  1.00  0.00       B   H  \\nHETATM    5 H    ATM A   4      -0.628  -0.628   0.628  1.00  0.00       B   H  \\nHETATM    6 C    ATM A   5      -2.675   0.655   0.000  1.00  0.00       B   C  \\nHETATM    7 F    ATM A   6      -2.675  -0.682   0.000  1.00  0.00       B   F  \\nHETATM    8 H    ATM A   7      -2.431   1.104   0.947  1.00  0.00       B   H  \\nHETATM    9 H    ATM A   8      -2.431   1.104  -0.947  1.00  0.00       B   H  \\nENDMDL\\n\",\"pdb\",{\"keepH\": \"true\"});\n",
              "\tviewergrid_16637647326511998[0][0].setStyle({\"model\": -1},{\"line\": {\"color\": \"black\"}});\n",
              "\tviewergrid_16637647326511998[0][0].addModelsAsFrames(\"MODEL 0\\nHETATM    1 C    ATM A   0       0.000   0.000   0.000  1.00  0.00       B   C  \\nHETATM    2 H    ATM A   1       0.628   0.628   0.628  1.00  0.00       B   H  \\nHETATM    3 H    ATM A   2       0.628  -0.628  -0.628  1.00  0.00       B   H  \\nHETATM    4 H    ATM A   3      -0.628   0.628  -0.628  1.00  0.00       B   H  \\nHETATM    5 H    ATM A   4      -0.628  -0.628   0.628  1.00  0.00       B   H  \\nHETATM    6 C    ATM A   5      -2.675   0.655   0.000  1.00  0.00       B   C  \\nHETATM    7 F    ATM A   6      -2.675  -0.682   0.000  1.00  0.00       B   F  \\nHETATM    8 H    ATM A   7      -2.431   1.104   0.947  1.00  0.00       B   H  \\nHETATM    9 H    ATM A   8      -2.431   1.104  -0.947  1.00  0.00       B   H  \\nENDMDL\\n\",\"pdb\",{\"keepH\": \"true\"});\n",
              "\tviewergrid_16637647326511998[0][0].setStyle({\"model\": -1, \"serial\": 3},{\"sphere\": {\"scale\": 0.2, \"color\": \"#FF0000\"}});\n",
              "\tviewergrid_16637647326511998[0][0].addModelsAsFrames(\"MODEL 0\\nHETATM    1 C    ATM A   0       0.000   0.000   0.000  1.00  0.00       B   C  \\nHETATM    2 H    ATM A   1       0.628   0.628   0.628  1.00  0.00       B   H  \\nHETATM    3 H    ATM A   2       0.628  -0.628  -0.628  1.00  0.00       B   H  \\nHETATM    4 H    ATM A   3      -0.628   0.628  -0.628  1.00  0.00       B   H  \\nHETATM    5 H    ATM A   4      -0.628  -0.628   0.628  1.00  0.00       B   H  \\nHETATM    6 C    ATM A   5      -2.675   0.655   0.000  1.00  0.00       B   C  \\nHETATM    7 F    ATM A   6      -2.675  -0.682   0.000  1.00  0.00       B   F  \\nHETATM    8 H    ATM A   7      -2.431   1.104   0.947  1.00  0.00       B   H  \\nHETATM    9 H    ATM A   8      -2.431   1.104  -0.947  1.00  0.00       B   H  \\nENDMDL\\n\",\"pdb\",{\"keepH\": \"true\"});\n",
              "\tviewergrid_16637647326511998[0][0].setStyle({\"model\": -1},{\"line\": {\"color\": \"black\"}});\n",
              "\tviewergrid_16637647326511998[0][0].addModelsAsFrames(\"MODEL 0\\nHETATM    1 C    ATM A   0       0.000   0.000   0.000  1.00  0.00       B   C  \\nHETATM    2 H    ATM A   1       0.628   0.628   0.628  1.00  0.00       B   H  \\nHETATM    3 H    ATM A   2       0.628  -0.628  -0.628  1.00  0.00       B   H  \\nHETATM    4 H    ATM A   3      -0.628   0.628  -0.628  1.00  0.00       B   H  \\nHETATM    5 H    ATM A   4      -0.628  -0.628   0.628  1.00  0.00       B   H  \\nHETATM    6 C    ATM A   5      -2.675   0.655   0.000  1.00  0.00       B   C  \\nHETATM    7 F    ATM A   6      -2.675  -0.682   0.000  1.00  0.00       B   F  \\nHETATM    8 H    ATM A   7      -2.431   1.104   0.947  1.00  0.00       B   H  \\nHETATM    9 H    ATM A   8      -2.431   1.104  -0.947  1.00  0.00       B   H  \\nENDMDL\\n\",\"pdb\",{\"keepH\": \"true\"});\n",
              "\tviewergrid_16637647326511998[0][0].setStyle({\"model\": -1, \"serial\": 4},{\"sphere\": {\"scale\": 0.2, \"color\": \"#00B4EB\"}});\n",
              "\tviewergrid_16637647326511998[0][0].addModelsAsFrames(\"MODEL 0\\nHETATM    1 C    ATM A   0       0.000   0.000   0.000  1.00  0.00       B   C  \\nHETATM    2 H    ATM A   1       0.628   0.628   0.628  1.00  0.00       B   H  \\nHETATM    3 H    ATM A   2       0.628  -0.628  -0.628  1.00  0.00       B   H  \\nHETATM    4 H    ATM A   3      -0.628   0.628  -0.628  1.00  0.00       B   H  \\nHETATM    5 H    ATM A   4      -0.628  -0.628   0.628  1.00  0.00       B   H  \\nHETATM    6 C    ATM A   5      -2.675   0.655   0.000  1.00  0.00       B   C  \\nHETATM    7 F    ATM A   6      -2.675  -0.682   0.000  1.00  0.00       B   F  \\nHETATM    8 H    ATM A   7      -2.431   1.104   0.947  1.00  0.00       B   H  \\nHETATM    9 H    ATM A   8      -2.431   1.104  -0.947  1.00  0.00       B   H  \\nENDMDL\\n\",\"pdb\",{\"keepH\": \"true\"});\n",
              "\tviewergrid_16637647326511998[0][0].setStyle({\"model\": -1},{\"line\": {\"color\": \"black\"}});\n",
              "\tviewergrid_16637647326511998[0][0].addModelsAsFrames(\"MODEL 0\\nHETATM    1 C    ATM A   0       0.000   0.000   0.000  1.00  0.00       B   C  \\nHETATM    2 H    ATM A   1       0.628   0.628   0.628  1.00  0.00       B   H  \\nHETATM    3 H    ATM A   2       0.628  -0.628  -0.628  1.00  0.00       B   H  \\nHETATM    4 H    ATM A   3      -0.628   0.628  -0.628  1.00  0.00       B   H  \\nHETATM    5 H    ATM A   4      -0.628  -0.628   0.628  1.00  0.00       B   H  \\nHETATM    6 C    ATM A   5      -2.675   0.655   0.000  1.00  0.00       B   C  \\nHETATM    7 F    ATM A   6      -2.675  -0.682   0.000  1.00  0.00       B   F  \\nHETATM    8 H    ATM A   7      -2.431   1.104   0.947  1.00  0.00       B   H  \\nHETATM    9 H    ATM A   8      -2.431   1.104  -0.947  1.00  0.00       B   H  \\nENDMDL\\n\",\"pdb\",{\"keepH\": \"true\"});\n",
              "\tviewergrid_16637647326511998[0][0].setStyle({\"model\": -1, \"serial\": 5},{\"sphere\": {\"scale\": 0.2, \"color\": \"#80FEB3\"}});\n",
              "\tviewergrid_16637647326511998[0][0].addModelsAsFrames(\"MODEL 0\\nHETATM    1 C    ATM A   0       0.000   0.000   0.000  1.00  0.00       B   C  \\nHETATM    2 H    ATM A   1       0.628   0.628   0.628  1.00  0.00       B   H  \\nHETATM    3 H    ATM A   2       0.628  -0.628  -0.628  1.00  0.00       B   H  \\nHETATM    4 H    ATM A   3      -0.628   0.628  -0.628  1.00  0.00       B   H  \\nHETATM    5 H    ATM A   4      -0.628  -0.628   0.628  1.00  0.00       B   H  \\nHETATM    6 C    ATM A   5      -2.675   0.655   0.000  1.00  0.00       B   C  \\nHETATM    7 F    ATM A   6      -2.675  -0.682   0.000  1.00  0.00       B   F  \\nHETATM    8 H    ATM A   7      -2.431   1.104   0.947  1.00  0.00       B   H  \\nHETATM    9 H    ATM A   8      -2.431   1.104  -0.947  1.00  0.00       B   H  \\nENDMDL\\n\",\"pdb\",{\"keepH\": \"true\"});\n",
              "\tviewergrid_16637647326511998[0][0].setStyle({\"model\": -1},{\"line\": {\"color\": \"black\"}});\n",
              "\tviewergrid_16637647326511998[0][0].addModelsAsFrames(\"MODEL 0\\nHETATM    1 C    ATM A   0       0.000   0.000   0.000  1.00  0.00       B   C  \\nHETATM    2 H    ATM A   1       0.628   0.628   0.628  1.00  0.00       B   H  \\nHETATM    3 H    ATM A   2       0.628  -0.628  -0.628  1.00  0.00       B   H  \\nHETATM    4 H    ATM A   3      -0.628   0.628  -0.628  1.00  0.00       B   H  \\nHETATM    5 H    ATM A   4      -0.628  -0.628   0.628  1.00  0.00       B   H  \\nHETATM    6 C    ATM A   5      -2.675   0.655   0.000  1.00  0.00       B   C  \\nHETATM    7 F    ATM A   6      -2.675  -0.682   0.000  1.00  0.00       B   F  \\nHETATM    8 H    ATM A   7      -2.431   1.104   0.947  1.00  0.00       B   H  \\nHETATM    9 H    ATM A   8      -2.431   1.104  -0.947  1.00  0.00       B   H  \\nENDMDL\\n\",\"pdb\",{\"keepH\": \"true\"});\n",
              "\tviewergrid_16637647326511998[0][0].setStyle({\"model\": -1, \"serial\": 6},{\"sphere\": {\"scale\": 0.2, \"color\": \"#FFB260\"}});\n",
              "\tviewergrid_16637647326511998[0][0].addModelsAsFrames(\"MODEL 0\\nHETATM    1 C    ATM A   0       0.000   0.000   0.000  1.00  0.00       B   C  \\nHETATM    2 H    ATM A   1       0.628   0.628   0.628  1.00  0.00       B   H  \\nHETATM    3 H    ATM A   2       0.628  -0.628  -0.628  1.00  0.00       B   H  \\nHETATM    4 H    ATM A   3      -0.628   0.628  -0.628  1.00  0.00       B   H  \\nHETATM    5 H    ATM A   4      -0.628  -0.628   0.628  1.00  0.00       B   H  \\nHETATM    6 C    ATM A   5      -2.675   0.655   0.000  1.00  0.00       B   C  \\nHETATM    7 F    ATM A   6      -2.675  -0.682   0.000  1.00  0.00       B   F  \\nHETATM    8 H    ATM A   7      -2.431   1.104   0.947  1.00  0.00       B   H  \\nHETATM    9 H    ATM A   8      -2.431   1.104  -0.947  1.00  0.00       B   H  \\nENDMDL\\n\",\"pdb\",{\"keepH\": \"true\"});\n",
              "\tviewergrid_16637647326511998[0][0].setStyle({\"model\": -1},{\"line\": {\"color\": \"black\"}});\n",
              "\tviewergrid_16637647326511998[0][0].addModelsAsFrames(\"MODEL 0\\nHETATM    1 C    ATM A   0       0.000   0.000   0.000  1.00  0.00       B   C  \\nHETATM    2 H    ATM A   1       0.628   0.628   0.628  1.00  0.00       B   H  \\nHETATM    3 H    ATM A   2       0.628  -0.628  -0.628  1.00  0.00       B   H  \\nHETATM    4 H    ATM A   3      -0.628   0.628  -0.628  1.00  0.00       B   H  \\nHETATM    5 H    ATM A   4      -0.628  -0.628   0.628  1.00  0.00       B   H  \\nHETATM    6 C    ATM A   5      -2.675   0.655   0.000  1.00  0.00       B   C  \\nHETATM    7 F    ATM A   6      -2.675  -0.682   0.000  1.00  0.00       B   F  \\nHETATM    8 H    ATM A   7      -2.431   1.104   0.947  1.00  0.00       B   H  \\nHETATM    9 H    ATM A   8      -2.431   1.104  -0.947  1.00  0.00       B   H  \\nENDMDL\\n\",\"pdb\",{\"keepH\": \"true\"});\n",
              "\tviewergrid_16637647326511998[0][0].setStyle({\"model\": -1, \"serial\": 7},{\"sphere\": {\"scale\": 0.2, \"color\": \"#40ECD3\"}});\n",
              "\tviewergrid_16637647326511998[0][0].addModelsAsFrames(\"MODEL 0\\nHETATM    1 C    ATM A   0       0.000   0.000   0.000  1.00  0.00       B   C  \\nHETATM    2 H    ATM A   1       0.628   0.628   0.628  1.00  0.00       B   H  \\nHETATM    3 H    ATM A   2       0.628  -0.628  -0.628  1.00  0.00       B   H  \\nHETATM    4 H    ATM A   3      -0.628   0.628  -0.628  1.00  0.00       B   H  \\nHETATM    5 H    ATM A   4      -0.628  -0.628   0.628  1.00  0.00       B   H  \\nHETATM    6 C    ATM A   5      -2.675   0.655   0.000  1.00  0.00       B   C  \\nHETATM    7 F    ATM A   6      -2.675  -0.682   0.000  1.00  0.00       B   F  \\nHETATM    8 H    ATM A   7      -2.431   1.104   0.947  1.00  0.00       B   H  \\nHETATM    9 H    ATM A   8      -2.431   1.104  -0.947  1.00  0.00       B   H  \\nENDMDL\\n\",\"pdb\",{\"keepH\": \"true\"});\n",
              "\tviewergrid_16637647326511998[0][0].setStyle({\"model\": -1},{\"line\": {\"color\": \"black\"}});\n",
              "\tviewergrid_16637647326511998[0][0].addModelsAsFrames(\"MODEL 0\\nHETATM    1 C    ATM A   0       0.000   0.000   0.000  1.00  0.00       B   C  \\nHETATM    2 H    ATM A   1       0.628   0.628   0.628  1.00  0.00       B   H  \\nHETATM    3 H    ATM A   2       0.628  -0.628  -0.628  1.00  0.00       B   H  \\nHETATM    4 H    ATM A   3      -0.628   0.628  -0.628  1.00  0.00       B   H  \\nHETATM    5 H    ATM A   4      -0.628  -0.628   0.628  1.00  0.00       B   H  \\nHETATM    6 C    ATM A   5      -2.675   0.655   0.000  1.00  0.00       B   C  \\nHETATM    7 F    ATM A   6      -2.675  -0.682   0.000  1.00  0.00       B   F  \\nHETATM    8 H    ATM A   7      -2.431   1.104   0.947  1.00  0.00       B   H  \\nHETATM    9 H    ATM A   8      -2.431   1.104  -0.947  1.00  0.00       B   H  \\nENDMDL\\n\",\"pdb\",{\"keepH\": \"true\"});\n",
              "\tviewergrid_16637647326511998[0][0].setStyle({\"model\": -1, \"serial\": 8},{\"sphere\": {\"scale\": 0.2, \"color\": \"#C0EA8C\"}});\n",
              "\tviewergrid_16637647326511998[0][0].addModelsAsFrames(\"MODEL 0\\nHETATM    1 C    ATM A   0       0.000   0.000   0.000  1.00  0.00       B   C  \\nHETATM    2 H    ATM A   1       0.628   0.628   0.628  1.00  0.00       B   H  \\nHETATM    3 H    ATM A   2       0.628  -0.628  -0.628  1.00  0.00       B   H  \\nHETATM    4 H    ATM A   3      -0.628   0.628  -0.628  1.00  0.00       B   H  \\nHETATM    5 H    ATM A   4      -0.628  -0.628   0.628  1.00  0.00       B   H  \\nHETATM    6 C    ATM A   5      -2.675   0.655   0.000  1.00  0.00       B   C  \\nHETATM    7 F    ATM A   6      -2.675  -0.682   0.000  1.00  0.00       B   F  \\nHETATM    8 H    ATM A   7      -2.431   1.104   0.947  1.00  0.00       B   H  \\nHETATM    9 H    ATM A   8      -2.431   1.104  -0.947  1.00  0.00       B   H  \\nENDMDL\\n\",\"pdb\",{\"keepH\": \"true\"});\n",
              "\tviewergrid_16637647326511998[0][0].setStyle({\"model\": -1},{\"line\": {\"color\": \"black\"}});\n",
              "\tviewergrid_16637647326511998[0][0].addModelsAsFrames(\"MODEL 0\\nHETATM    1 C    ATM A   0       0.000   0.000   0.000  1.00  0.00       B   C  \\nHETATM    2 H    ATM A   1       0.628   0.628   0.628  1.00  0.00       B   H  \\nHETATM    3 H    ATM A   2       0.628  -0.628  -0.628  1.00  0.00       B   H  \\nHETATM    4 H    ATM A   3      -0.628   0.628  -0.628  1.00  0.00       B   H  \\nHETATM    5 H    ATM A   4      -0.628  -0.628   0.628  1.00  0.00       B   H  \\nHETATM    6 C    ATM A   5      -2.675   0.655   0.000  1.00  0.00       B   C  \\nHETATM    7 F    ATM A   6      -2.675  -0.682   0.000  1.00  0.00       B   F  \\nHETATM    8 H    ATM A   7      -2.431   1.104   0.947  1.00  0.00       B   H  \\nHETATM    9 H    ATM A   8      -2.431   1.104  -0.947  1.00  0.00       B   H  \\nENDMDL\\n\",\"pdb\",{\"keepH\": \"true\"});\n",
              "\tviewergrid_16637647326511998[0][0].setStyle({\"model\": -1, \"serial\": 9},{\"sphere\": {\"scale\": 0.2, \"color\": \"#7F00FF\"}});\n",
              "\tviewergrid_16637647326511998[0][0].addUnitCell({\"model\": -1},{\"box\": {\"color\": \"black\"}, \"alabel\": \"\", \"blabel\": \"\", \"clabel\": \"\"});\n",
              "\tviewergrid_16637647326511998[0][0].zoomTo();\n",
              "viewergrid_16637647326511998[0][0].render();\n",
              "});\n",
              "</script>"
            ]
          },
          "metadata": {}
        },
        {
          "output_type": "execute_result",
          "data": {
            "text/plain": [
              "<BigDFT.Visualization.InlineVisualizer at 0x7fc0ebbd1e10>"
            ]
          },
          "metadata": {},
          "execution_count": 35
        }
      ],
      "source": [
        "with open('sys.xyz','r') as ifile:\n",
        "    sys_b = IO.read_xyz(ifile,fragmentation=\"atomic\")\n",
        "sys_b.display()"
      ]
    },
    {
      "cell_type": "markdown",
      "id": "d8390cae",
      "metadata": {
        "id": "d8390cae"
      },
      "source": [
        "### Other Formats\n",
        "\n",
        "Similarly to `xyz` files, let us write a PDB file (for example)."
      ]
    },
    {
      "cell_type": "code",
      "execution_count": 36,
      "id": "bd8f4fda",
      "metadata": {
        "id": "bd8f4fda"
      },
      "outputs": [],
      "source": [
        "with open('sys.pdb', 'w') as ofile:\n",
        "    IO.write_pdb(sys, ofile)"
      ]
    },
    {
      "cell_type": "markdown",
      "id": "ed4f2bdb",
      "metadata": {
        "id": "ed4f2bdb"
      },
      "source": [
        "Let us then inspect this pdb file"
      ]
    },
    {
      "cell_type": "code",
      "execution_count": 37,
      "id": "4a699045",
      "metadata": {
        "id": "4a699045",
        "outputId": "f3d45420-9534-4f42-a7de-c94e205d8637",
        "colab": {
          "base_uri": "https://localhost:8080/"
        }
      },
      "outputs": [
        {
          "output_type": "stream",
          "name": "stdout",
          "text": [
            "HETATM    1 C    CH4 A   0       0.000   0.000   0.000  1.00  0.00       B   C  \n",
            "HETATM    2 H    CH4 A   0       0.628   0.628   0.628  1.00  0.00       B   H  \n",
            "HETATM    3 H    CH4 A   0       0.628  -0.628  -0.628  1.00  0.00       B   H  \n",
            "HETATM    4 H    CH4 A   0      -0.628   0.628  -0.628  1.00  0.00       B   H  \n",
            "HETATM    5 H    CH4 A   0      -0.628  -0.628   0.628  1.00  0.00       B   H  \n",
            "HETATM    6 C    CH2 A   1      -2.675   0.655   0.000  1.00  0.00       B   C  \n",
            "HETATM    7 F    CH2 A   1      -2.675  -0.682   0.000  1.00  0.00       B   F  \n",
            "HETATM    8 H    CH2 A   1      -2.431   1.104   0.947  1.00  0.00       B   H  \n",
            "HETATM    9 H    CH2 A   1      -2.431   1.104  -0.947  1.00  0.00       B   H  \n"
          ]
        }
      ],
      "source": [
        "with open('sys.pdb','r') as ifile:\n",
        "    for line in ifile:\n",
        "        print(line, end=\"\")"
      ]
    },
    {
      "cell_type": "markdown",
      "id": "a8fea3c1",
      "metadata": {
        "id": "a8fea3c1"
      },
      "source": [
        "Of course, a pdb system is also readable"
      ]
    },
    {
      "cell_type": "code",
      "execution_count": 38,
      "id": "f29269c6",
      "metadata": {
        "id": "f29269c6",
        "outputId": "1366c2f7-d156-43de-d3cf-9242b908756d",
        "colab": {
          "base_uri": "https://localhost:8080/"
        }
      },
      "outputs": [
        {
          "output_type": "stream",
          "name": "stdout",
          "text": [
            "CH4:0\n",
            "{'sym': 'C', 'r': [0.0, 0.0, 0.0], 'name': 'C', 'units': 'angstroem'}\n",
            "{'sym': 'H', 'r': [0.628, 0.628, 0.628], 'name': 'H', 'units': 'angstroem'}\n",
            "{'sym': 'H', 'r': [0.628, -0.628, -0.628], 'name': 'H', 'units': 'angstroem'}\n",
            "{'sym': 'H', 'r': [-0.628, 0.628, -0.628], 'name': 'H', 'units': 'angstroem'}\n",
            "{'sym': 'H', 'r': [-0.628, -0.628, 0.628], 'name': 'H', 'units': 'angstroem'}\n",
            "CH2:1\n",
            "{'sym': 'C', 'r': [-2.675, 0.655, 0.0], 'name': 'C', 'units': 'angstroem'}\n",
            "{'sym': 'F', 'r': [-2.675, -0.682, 0.0], 'name': 'F', 'units': 'angstroem'}\n",
            "{'sym': 'H', 'r': [-2.431, 1.104, 0.947], 'name': 'H', 'units': 'angstroem'}\n",
            "{'sym': 'H', 'r': [-2.431, 1.104, -0.947], 'name': 'H', 'units': 'angstroem'}\n"
          ]
        }
      ],
      "source": [
        "for fragid, frag in IO.read_pdb(open('sys.pdb','r')).items():\n",
        "    print(fragid)\n",
        "    for at in frag:\n",
        "        print(dict(at))"
      ]
    },
    {
      "cell_type": "markdown",
      "id": "66704abb",
      "metadata": {
        "id": "66704abb"
      },
      "source": [
        "Notice how the **information on fragments is conserved** "
      ]
    },
    {
      "cell_type": "markdown",
      "id": "8019dee4",
      "metadata": {
        "id": "8019dee4"
      },
      "source": [
        "## Exercises on systems \n",
        "\n",
        "1) Construct a complex of C2H4 molecules, arranged in a equilateral triangle, using the molecule database.\n",
        "\n",
        "2) Construct a carbon chain of inter-atomic distance of 1.5 angstroem.\n",
        "\n",
        "3) Construct a graphene lattice using a rectangular cell and a carbon-carbon bond of 1.42 angstroem. (**Advanced**)"
      ]
    },
    {
      "cell_type": "markdown",
      "id": "abd98406",
      "metadata": {
        "id": "abd98406"
      },
      "source": [
        "# A first-principles calculation : Nitrogen molecule\n",
        "\n",
        "Let us go through the fundamentals of simple BigDFT calculation.\n",
        "\n",
        "The following parameters need to addressed one by one:\n",
        "- the atomic positions\n",
        "- the exchange-correlation functional\n",
        "- the proper converged parameters\n",
        "\n",
        "For this part of the tutorial, it is interesting to install the full suite, as some calculations can be performed live."
      ]
    },
    {
      "cell_type": "code",
      "source": [
        "\n",
        "install = \"full_suite\" #@param [\"full_suite\", \"client (Google drive)\", \"client\"]\n",
        "install_var=install\n",
        "!wget https://gitlab.com/luigigenovese/bigdft-school/-/raw/main/packaging/install.py &> /dev/null\n",
        "args={'locally': True} if install == 'client' else {}\n",
        "import install\n",
        "getattr(install,install_var.split()[0])(**args)"
      ],
      "metadata": {
        "cellView": "form",
        "id": "7p4LfcLuIPyv"
      },
      "id": "7p4LfcLuIPyv",
      "execution_count": null,
      "outputs": []
    },
    {
      "cell_type": "code",
      "source": [
        "import install\n",
        "install.set_ready()"
      ],
      "metadata": {
        "id": "875LnOeKJnN_",
        "outputId": "95670124-ebcd-4729-b239-b37d963e5b87",
        "colab": {
          "base_uri": "https://localhost:8080/"
        }
      },
      "id": "875LnOeKJnN_",
      "execution_count": 1,
      "outputs": [
        {
          "output_type": "stream",
          "name": "stdout",
          "text": [
            "Executing: mkdir -p /content/bigdft-school\n",
            "\n"
          ]
        }
      ]
    },
    {
      "cell_type": "code",
      "source": [
        "# we need some data to be installed also\n",
        "install.data('data/session1.tar.xz')"
      ],
      "metadata": {
        "id": "2dDd-AfrJYYq"
      },
      "id": "2dDd-AfrJYYq",
      "execution_count": null,
      "outputs": []
    },
    {
      "cell_type": "markdown",
      "id": "944731df",
      "metadata": {
        "id": "944731df"
      },
      "source": [
        "## How to perform a first run \n",
        "\n",
        "Atomic positions can be obtained from the BigDFT database (available [here](https://gitlab.com/l_sim/bigdft-suite/-/tree/devel/PyBigDFT/BigDFT/Database/XYZs))."
      ]
    },
    {
      "cell_type": "code",
      "execution_count": 3,
      "id": "0fd73cbd",
      "metadata": {
        "id": "0fd73cbd"
      },
      "outputs": [],
      "source": [
        "from BigDFT.Systems import System\n",
        "from BigDFT.Fragments import Fragment\n",
        "from BigDFT.IO import XYZReader\n",
        "\n",
        "N2 = System()\n",
        "with XYZReader(\"N2\") as ifile:\n",
        "    N2[\"N:0\"] = Fragment([next(ifile)])\n",
        "    N2[\"N:1\"] = Fragment([next(ifile)])"
      ]
    },
    {
      "cell_type": "markdown",
      "id": "c0a5814e",
      "metadata": {
        "id": "c0a5814e"
      },
      "source": [
        "The atomic positions are then"
      ]
    },
    {
      "cell_type": "code",
      "execution_count": 4,
      "id": "8670348d",
      "metadata": {
        "id": "8670348d",
        "outputId": "afcb7c09-8730-4b3d-cc7a-85fd399f0131",
        "colab": {
          "base_uri": "https://localhost:8080/"
        }
      },
      "outputs": [
        {
          "output_type": "stream",
          "name": "stdout",
          "text": [
            "{'positions': [{'N': [0.0, 0.0, 0.5488], 'frag': ['N', '0']}, {'N': [0.0, 0.0, -0.5488], 'frag': ['N', '1']}], 'units': 'angstroem', 'cell': [inf, inf, inf]}\n"
          ]
        }
      ],
      "source": [
        "print(N2.get_posinp())"
      ]
    },
    {
      "cell_type": "markdown",
      "id": "2a10aba3",
      "metadata": {
        "id": "2a10aba3"
      },
      "source": [
        "A calculation is run using the `Calculator` class. "
      ]
    },
    {
      "cell_type": "code",
      "execution_count": 7,
      "id": "de4c8435",
      "metadata": {
        "id": "de4c8435",
        "outputId": "9138a237-9545-4d6a-eef1-a70b06b9c925",
        "colab": {
          "base_uri": "https://localhost:8080/"
        }
      },
      "outputs": [
        {
          "output_type": "stream",
          "name": "stdout",
          "text": [
            "Initialize a Calculator with OMP_NUM_THREADS=1 and command bigdft\n",
            "Creating the yaml input file \"scratch/default.yaml\"\n",
            "Run directory scratch\n",
            "Executing command:  bigdft -n N2\n"
          ]
        }
      ],
      "source": [
        "from BigDFT import Calculators as C\n",
        "\n",
        "study = C.SystemCalculator(verbose=True) #Create a calculator\n",
        "log = study.run(posinp=N2.get_posinp(),name=\"N2\",run_dir='scratch') #run the code"
      ]
    },
    {
      "cell_type": "markdown",
      "id": "d278f930",
      "metadata": {
        "id": "d278f930"
      },
      "source": [
        "An instance of the `Logfile` class is returned, containing information about the electronic structure (and more) of the system.\n",
        "\n",
        "For example, the total energy of the system is"
      ]
    },
    {
      "cell_type": "code",
      "execution_count": 6,
      "id": "93abba65",
      "metadata": {
        "id": "93abba65",
        "outputId": "9cd3af13-7834-47af-9871-b0e3911cf55b",
        "colab": {
          "base_uri": "https://localhost:8080/"
        }
      },
      "outputs": [
        {
          "output_type": "execute_result",
          "data": {
            "text/plain": [
              "-19.884615273242606"
            ]
          },
          "metadata": {},
          "execution_count": 6
        }
      ],
      "source": [
        "log.energy #this value is in Ha"
      ]
    },
    {
      "cell_type": "markdown",
      "id": "186cef9d",
      "metadata": {
        "id": "186cef9d"
      },
      "source": [
        "Similarly, the eigenvalues and the DoS are obtained as"
      ]
    },
    {
      "cell_type": "code",
      "execution_count": 8,
      "id": "51ed2a1c",
      "metadata": {
        "id": "51ed2a1c",
        "outputId": "e6d11fef-b62d-4ce1-b73a-a43f994a660d",
        "colab": {
          "base_uri": "https://localhost:8080/"
        }
      },
      "outputs": [
        {
          "output_type": "execute_result",
          "data": {
            "text/plain": [
              "[[-1.041353673208,\n",
              "  -0.4926440819324,\n",
              "  -0.4357815638016,\n",
              "  -0.4357812404171,\n",
              "  -0.3818323179544]]"
            ]
          },
          "metadata": {},
          "execution_count": 8
        }
      ],
      "source": [
        "log.evals[0].tolist() # the eigenvalues in Ha ([0] stands for the first K-point, here meaningless)"
      ]
    },
    {
      "cell_type": "code",
      "execution_count": 9,
      "id": "38f5257a",
      "metadata": {
        "id": "38f5257a",
        "outputId": "1ce609e4-7ed1-4f9d-f475-00003400aedd",
        "colab": {
          "base_uri": "https://localhost:8080/",
          "height": 331
        }
      },
      "outputs": [
        {
          "output_type": "display_data",
          "data": {
            "text/plain": [
              "<Figure size 460.8x345.6 with 1 Axes>"
            ],
            "image/png": "[encoded data removed]"
          },
          "metadata": {
            "needs_background": "light"
          }
        }
      ],
      "source": [
        "log.get_dos().plot(); #the density of states"
      ]
    },
    {
      "cell_type": "markdown",
      "id": "643b8938",
      "metadata": {
        "id": "643b8938"
      },
      "source": [
        "### Calculators\n",
        "\n",
        "let us look closer at the SystemCalculator that was presented above."
      ]
    },
    {
      "cell_type": "code",
      "execution_count": 10,
      "id": "9a27a103",
      "metadata": {
        "id": "9a27a103"
      },
      "outputs": [],
      "source": [
        "# we use very little resources asa we are in the cloud.\n",
        "calc = C.SystemCalculator(verbose=False,omp=2,mpi_run='mpirun --allow-run-as-root -np 1')"
      ]
    },
    {
      "cell_type": "markdown",
      "id": "a578dd69",
      "metadata": {
        "id": "a578dd69"
      },
      "source": [
        "This allows to set the computational parameters such as the OpenMP and MPI parallelisations, which is of **crucial importance** for memory and time efficiency. \n",
        "\n",
        "**Important**: this tutorial is not representative of the actual time spent in running the code. Here we are using google Colab resources and therfore\n",
        "\n",
        "The global options of the runner (or calculator) can then be accessed by"
      ]
    },
    {
      "cell_type": "code",
      "execution_count": 11,
      "id": "be3e2efa",
      "metadata": {
        "id": "be3e2efa",
        "outputId": "265ecaa2-3863-4851-bc96-44aeb9798fbb",
        "colab": {
          "base_uri": "https://localhost:8080/"
        }
      },
      "outputs": [
        {
          "output_type": "execute_result",
          "data": {
            "text/plain": [
              "{'omp': '2',\n",
              " 'mpi_run': 'mpirun --allow-run-as-root -np 1',\n",
              " 'dry_run': False,\n",
              " 'skip': False,\n",
              " 'verbose': False}"
            ]
          },
          "metadata": {},
          "execution_count": 11
        }
      ],
      "source": [
        "calc.global_options()"
      ]
    },
    {
      "cell_type": "markdown",
      "id": "95094664",
      "metadata": {
        "id": "95094664"
      },
      "source": [
        "### RemoteRunner\n",
        "\n",
        "Note that PyBigDFT also enables to run workflows remotely, as explained in this [tutorial](../tutorials/RemoteRunner.ipynb)."
      ]
    },
    {
      "cell_type": "markdown",
      "id": "2d990c22",
      "metadata": {
        "id": "2d990c22"
      },
      "source": [
        "## How to modify the input parameters\n",
        "\n",
        "To specify non-default input parameters to the code, we should employ a `Inputfile` object.\n",
        "\n",
        "For instance, the XC functional can be chosen via the `set_xc` method.\n",
        "All methods are accessible [here](https://l_sim.gitlab.io/bigdft-suite/PyBigDFT/build/html/BigDFT.InputActions.html)"
      ]
    },
    {
      "cell_type": "code",
      "execution_count": 12,
      "id": "3f6600da",
      "metadata": {
        "id": "3f6600da"
      },
      "outputs": [],
      "source": [
        "from BigDFT import Inputfiles as I\n",
        "\n",
        "inp = I.Inputfile()\n",
        "inp.set_xc('LDA')"
      ]
    },
    {
      "cell_type": "markdown",
      "id": "64665bd8",
      "metadata": {
        "id": "64665bd8"
      },
      "source": [
        "In the same spirit, a Hartree-Fock calculation is performed using."
      ]
    },
    {
      "cell_type": "code",
      "execution_count": 14,
      "id": "8a88f2bf",
      "metadata": {
        "id": "8a88f2bf",
        "outputId": "14ba286d-511f-4ea8-f647-25fd8cd7521b",
        "colab": {
          "base_uri": "https://localhost:8080/"
        }
      },
      "outputs": [
        {
          "output_type": "stream",
          "name": "stdout",
          "text": [
            "Creating the yaml input file \"scratch/HF.yaml\"\n",
            "Run directory scratch\n",
            "Executing command:  bigdft -n HF\n",
            "ERROR: some problem occured during the execution of the command, check the 'debug/' directory and the logfile\n",
            "The error occured is BIGDFT_INPUT_FILE_ERROR\n",
            "Additional Info:  The pseudopotential parameter file \"psppar.N\" is lacking, and no registered pseudo found for \"N\"\n"
          ]
        }
      ],
      "source": [
        "inp.set_xc('HF')\n",
        "HF = study.run(name=\"HF\",input=inp,run_dir='scratch') #Run the code with the name scheme HF"
      ]
    },
    {
      "cell_type": "markdown",
      "id": "0584038a",
      "metadata": {
        "id": "0584038a"
      },
      "source": [
        "An **error** occurred !\n",
        "\n",
        "Let us identify the issue by opening [debug/bigdft-err-0.yaml](./debug/bigdft-err-0.yaml)\n",
        "\n",
        "<pre>\n",
        " Additional Info:\n",
        "   The pseudopotential parameter file \"psppar.N\" is lacking, and no registered pseudo found \n",
        "   for \"N\"</pre>\n",
        "   \n",
        "The issue is that the pseudopotential is assigned by default in the code **only for LDA and PBE** XC approximations.\n",
        "\n",
        "Therefore, one simply needs to specify it."
      ]
    },
    {
      "cell_type": "code",
      "execution_count": 16,
      "id": "4ef47529",
      "metadata": {
        "id": "4ef47529",
        "outputId": "eb381328-1744-4a46-f5eb-84492827cf3e",
        "colab": {
          "base_uri": "https://localhost:8080/"
        }
      },
      "outputs": [
        {
          "output_type": "stream",
          "name": "stdout",
          "text": [
            "Creating the yaml input file \"scratch/HF.yaml\"\n",
            "Run directory scratch\n",
            "Executing command:  bigdft -n HF -s Yes\n"
          ]
        }
      ],
      "source": [
        "inp['psppar.N']={'Pseudopotential XC': 1} #here 1 stands for LDA as per the XC codes\n",
        "study.update_global_options(skip=True) #if a finalized calculation is found in scratch, the calculation is not performed\n",
        "HF = study.run(name=\"HF\",input=inp,run_dir='scratch')"
      ]
    },
    {
      "cell_type": "markdown",
      "id": "e53fe688",
      "metadata": {
        "id": "e53fe688"
      },
      "source": [
        "One should be careful in **choosing a pseudopotential** which has been **generated with the same XC approximation** used. \n",
        "\n",
        "At present, Hartwigsen-Goedeker-Hutter (HGH) data are unfortunately only available for semilocal functionals. For example, the same exercise as follows could have been done with Hybrid XC functionals (e.g. PBE0 (ixc=-406)). \n",
        "\n",
        "In the case of Hartree-Fock calculations, using semilocal functionals generally yield accurate results (see [Physical Review B 37.5 (1988): 2674](https://journals.aps.org/prb/pdf/10.1103/PhysRevB.37.2674)). \n",
        "\n",
        "In BigDFT, XC functionals are specified using the built in named functionals, or using the [LibXC codes](https://www.tddft.org/programs/libxc/functionals/)."
      ]
    },
    {
      "cell_type": "markdown",
      "id": "bb7ae13d",
      "metadata": {
        "id": "bb7ae13d"
      },
      "source": [
        "## How to perform a convergence analysis\n",
        "\n",
        "Daubechies Wavelets is a systematic basis set (as plane waves are), where accuracy is arbitrarily increased by varying some parameters, i.e. (typically) `hgrid` and `rmult`.\n",
        "\n",
        "**`hgrids`**\n",
        "      set up the grid step for the basis set spatial expansion. There is **one float value** describing the grid         steps in the three space directions (i.e. $x$, $y$ and $z$) or a **3D array** is also accepted.\n",
        "      These values are in bohr unit and typically range from 0.3 to 0.65. \n",
        "      The harder the pseudo-potential, the lower value should be set up.\n",
        "      These values are set using the `set_hgrid` method of the `Inpufile` class.\n",
        "        \n",
        "**`rmult`**\n",
        "      set up the basis set spatial expansion. It contains an array of two float values that are **two multiplying       factors** defining chemical-species-dependent quantities.\n",
        "      The first factor is the most important since it describes the spatial expansion of the basis set, defined as       a set of real space points with non-zero values inside spheres centered on atoms.\n",
        "      The first multiplying factor is called `crmult` for Coarse grid Radius MULTiplier, with typical values of 5       to 7.\n",
        "      The second one called `frmult` for Fine grid Radius MULTiplier is related to the fine resolution.\n",
        "      This parameter is less pertinent for the convergence of energy and can be ignored.\n",
        "      It is possible to indicate only one float value, the `crmult` parameter.\n",
        "      Such parameters can be set by the method `set_rmult` of `Inputfile` class."
      ]
    },
    {
      "cell_type": "markdown",
      "id": "06c4f443",
      "metadata": {
        "id": "06c4f443"
      },
      "source": [
        "Let us find the appropriate parameters to characterize a N2 molecule using the `Dataset`class, by comparing the extracted energies depending on `hgrid` and `rmult`."
      ]
    },
    {
      "cell_type": "code",
      "execution_count": 17,
      "id": "f896379c",
      "metadata": {
        "id": "f896379c"
      },
      "outputs": [],
      "source": [
        "hgrids = [0.55, 0.5, 0.45, 0.4, 0.35, 0.3, 0.25, 0.2] #bohr\n",
        "rmult = [3.5, 4.0, 4.5, 5.0, 5.5, 6.0, 6.5, 7.0]"
      ]
    },
    {
      "cell_type": "markdown",
      "id": "63963e74",
      "metadata": {
        "id": "63963e74"
      },
      "source": [
        "Let us build three different datasets, by varying:\n",
        "- `hgrid` and `rmult` together. \n",
        "- only `hgrid`\n",
        "- only `rmult`\n",
        "\n",
        "Each input dictionary is also labeled by a unique name."
      ]
    },
    {
      "cell_type": "code",
      "execution_count": 23,
      "id": "81df65ec",
      "metadata": {
        "id": "81df65ec",
        "outputId": "3d4389a4-8f0d-4fd9-987c-fc55e41bb5ba",
        "colab": {
          "base_uri": "https://localhost:8080/"
        }
      },
      "outputs": [
        {
          "output_type": "stream",
          "name": "stdout",
          "text": [
            "Initialize a Calculator with OMP_NUM_THREADS=1 and command bigdft\n"
          ]
        }
      ],
      "source": [
        "from BigDFT import Datasets as D\n",
        "from copy import deepcopy\n",
        "\n",
        "inp = I.Inputfile()\n",
        "pos = N2.get_posinp()\n",
        "study = C.SystemCalculator(verbose=True, skip=True) #to avoid long waiting time\n",
        "\n",
        "h_and_c_dataset = D.Dataset('h_and_c')\n",
        "for h,c in zip(hgrids,rmult):\n",
        "    inp_run = deepcopy(inp) # to avoid modifications of `inp`\n",
        "    inp_run.set_hgrid(h)\n",
        "    inp_run.set_rmult([c,9.0])\n",
        "    h_and_c_dataset.append_run(id={'h':h,'c':c},run_dir='scratch',input=inp_run,posinp=pos,runner=study)"
      ]
    },
    {
      "cell_type": "code",
      "execution_count": 24,
      "id": "3089271c",
      "metadata": {
        "id": "3089271c"
      },
      "outputs": [],
      "source": [
        "h_only_dataset = D.Dataset('h_only')\n",
        "for h in hgrids:\n",
        "    inp_run = deepcopy(inp)\n",
        "    inp_run.set_hgrid(h)\n",
        "    h_only_dataset.append_run(id={'h':h},run_dir='scratch',input=inp_run,posinp=pos,runner=study)"
      ]
    },
    {
      "cell_type": "code",
      "execution_count": 25,
      "id": "ee1d6a52",
      "metadata": {
        "id": "ee1d6a52"
      },
      "outputs": [],
      "source": [
        "c_only_dataset = D.Dataset('c_only')\n",
        "for c in rmult:\n",
        "    inp_run = deepcopy(inp)\n",
        "    inp_run.set_rmult([c,9.0])\n",
        "    c_only_dataset.append_run(id={'c':c},run_dir='scratch',input=inp_run,posinp=pos,runner=study)"
      ]
    },
    {
      "cell_type": "markdown",
      "id": "5f1ee9d3",
      "metadata": {
        "id": "5f1ee9d3"
      },
      "source": [
        "Each dataset is then ran. This cell, when executed with the full_suite, should take about 6-7 minutes to complete. While this is running, you can proceed with the following tutorial which can be executed in `dry_run` scheme (namely without actually running the computations)."
      ]
    },
    {
      "cell_type": "code",
      "execution_count": 26,
      "id": "0dfbfce3",
      "metadata": {
        "id": "0dfbfce3",
        "outputId": "43b65864-8837-4a93-8a6b-1e1b67a2ae29",
        "colab": {
          "base_uri": "https://localhost:8080/"
        }
      },
      "outputs": [
        {
          "output_type": "stream",
          "name": "stdout",
          "text": [
            "Creating the yaml input file \"scratch/h__0.55.yaml\"\n",
            "Run directory scratch\n",
            "Executing command:  bigdft -n h__0.55 -s Yes\n",
            "Creating the yaml input file \"scratch/h__0.5.yaml\"\n",
            "Run directory scratch\n",
            "Executing command:  bigdft -n h__0.5 -s Yes\n",
            "Creating the yaml input file \"scratch/h__0.45.yaml\"\n",
            "Run directory scratch\n",
            "Executing command:  bigdft -n h__0.45 -s Yes\n",
            "Creating the yaml input file \"scratch/h__0.4.yaml\"\n",
            "Run directory scratch\n",
            "Executing command:  bigdft -n h__0.4 -s Yes\n",
            "Creating the yaml input file \"scratch/h__0.35.yaml\"\n",
            "Run directory scratch\n",
            "Executing command:  bigdft -n h__0.35 -s Yes\n",
            "Creating the yaml input file \"scratch/h__0.3.yaml\"\n",
            "Run directory scratch\n",
            "Executing command:  bigdft -n h__0.3 -s Yes\n",
            "Creating the yaml input file \"scratch/h__0.25.yaml\"\n",
            "Run directory scratch\n",
            "Executing command:  bigdft -n h__0.25 -s Yes\n",
            "Creating the yaml input file \"scratch/h__0.2.yaml\"\n",
            "Run directory scratch\n",
            "Executing command:  bigdft -n h__0.2 -s Yes\n",
            "Creating the yaml input file \"scratch/c__3.5.yaml\"\n",
            "Run directory scratch\n",
            "Executing command:  bigdft -n c__3.5 -s Yes\n",
            "Creating the yaml input file \"scratch/c__4.0.yaml\"\n",
            "Run directory scratch\n",
            "Executing command:  bigdft -n c__4.0 -s Yes\n",
            "Creating the yaml input file \"scratch/c__4.5.yaml\"\n",
            "Run directory scratch\n",
            "Executing command:  bigdft -n c__4.5 -s Yes\n",
            "Creating the yaml input file \"scratch/c__5.0.yaml\"\n",
            "Run directory scratch\n",
            "Executing command:  bigdft -n c__5.0 -s Yes\n",
            "Creating the yaml input file \"scratch/c__5.5.yaml\"\n",
            "Run directory scratch\n",
            "Executing command:  bigdft -n c__5.5 -s Yes\n",
            "Creating the yaml input file \"scratch/c__6.0.yaml\"\n",
            "Run directory scratch\n",
            "Executing command:  bigdft -n c__6.0 -s Yes\n",
            "Creating the yaml input file \"scratch/c__6.5.yaml\"\n",
            "Run directory scratch\n",
            "Executing command:  bigdft -n c__6.5 -s Yes\n",
            "Creating the yaml input file \"scratch/c__7.0.yaml\"\n",
            "Run directory scratch\n",
            "Executing command:  bigdft -n c__7.0 -s Yes\n",
            "Creating the yaml input file \"scratch/c__3.5-_-h__0.55.yaml\"\n",
            "Run directory scratch\n",
            "Executing command:  bigdft -n c__3.5-_-h__0.55 -s Yes\n",
            "Creating the yaml input file \"scratch/c__4.0-_-h__0.5.yaml\"\n",
            "Run directory scratch\n",
            "Executing command:  bigdft -n c__4.0-_-h__0.5 -s Yes\n",
            "Creating the yaml input file \"scratch/c__4.5-_-h__0.45.yaml\"\n",
            "Run directory scratch\n",
            "Executing command:  bigdft -n c__4.5-_-h__0.45 -s Yes\n",
            "Creating the yaml input file \"scratch/c__5.0-_-h__0.4.yaml\"\n",
            "Run directory scratch\n",
            "Executing command:  bigdft -n c__5.0-_-h__0.4 -s Yes\n",
            "Creating the yaml input file \"scratch/c__5.5-_-h__0.35.yaml\"\n",
            "Run directory scratch\n",
            "Executing command:  bigdft -n c__5.5-_-h__0.35 -s Yes\n",
            "Creating the yaml input file \"scratch/c__6.0-_-h__0.3.yaml\"\n",
            "Run directory scratch\n",
            "Executing command:  bigdft -n c__6.0-_-h__0.3 -s Yes\n",
            "Creating the yaml input file \"scratch/c__6.5-_-h__0.25.yaml\"\n",
            "Run directory scratch\n",
            "Executing command:  bigdft -n c__6.5-_-h__0.25 -s Yes\n",
            "Creating the yaml input file \"scratch/c__7.0-_-h__0.2.yaml\"\n",
            "Run directory scratch\n",
            "Executing command:  bigdft -n c__7.0-_-h__0.2 -s Yes\n"
          ]
        },
        {
          "output_type": "execute_result",
          "data": {
            "text/plain": [
              "{0: <BigDFT.Logfiles.Logfile at 0x7f9796ec4ed0>,\n",
              " 1: <BigDFT.Logfiles.Logfile at 0x7f9796cb6cd0>,\n",
              " 2: <BigDFT.Logfiles.Logfile at 0x7f9796d4e710>,\n",
              " 3: <BigDFT.Logfiles.Logfile at 0x7f9796bcfa90>,\n",
              " 4: <BigDFT.Logfiles.Logfile at 0x7f97995db050>,\n",
              " 5: <BigDFT.Logfiles.Logfile at 0x7f9796ee4590>,\n",
              " 6: <BigDFT.Logfiles.Logfile at 0x7f9796bbf110>,\n",
              " 7: <BigDFT.Logfiles.Logfile at 0x7f9796c0dad0>}"
            ]
          },
          "metadata": {},
          "execution_count": 26
        }
      ],
      "source": [
        "h_only_dataset.run()\n",
        "c_only_dataset.run()\n",
        "h_and_c_dataset.run()"
      ]
    },
    {
      "cell_type": "markdown",
      "id": "3a8be190",
      "metadata": {
        "id": "3a8be190"
      },
      "source": [
        "We now store the energies of each of the dataset runs, and identify the minimum as the minimum value from the `h_and_c` dataset:"
      ]
    },
    {
      "cell_type": "code",
      "execution_count": 29,
      "id": "feb2d70c",
      "metadata": {
        "id": "feb2d70c"
      },
      "outputs": [],
      "source": [
        "from numpy import array\n",
        "\n",
        "energies_h = array(h_only_dataset.fetch_results(attribute='energy'))\n",
        "energies_c = array(c_only_dataset.fetch_results(attribute='energy'))\n",
        "energies_hc = array(h_and_c_dataset.fetch_results(attribute='energy'))\n",
        "#find the minimum and subtract (do you understand numpy syntax? Otherwise don't be afraid to ask...)\n",
        "emin = min(energies_hc)\n",
        "h_data=energies_h-emin\n",
        "c_data=energies_c-emin\n",
        "h_and_c_data=energies_hc-emin"
      ]
    },
    {
      "cell_type": "markdown",
      "id": "94ac56c2",
      "metadata": {
        "id": "94ac56c2"
      },
      "source": [
        "We plot the energy values varying the grid spacing or the wavelet extension"
      ]
    },
    {
      "cell_type": "code",
      "source": [
        "h_and_c_dataset.ids"
      ],
      "metadata": {
        "id": "oUaTsBlHOawX",
        "outputId": "57659670-6587-4893-9861-669ac63b9b15",
        "colab": {
          "base_uri": "https://localhost:8080/"
        }
      },
      "id": "oUaTsBlHOawX",
      "execution_count": 27,
      "outputs": [
        {
          "output_type": "execute_result",
          "data": {
            "text/plain": [
              "[{'h': 0.55, 'c': 3.5},\n",
              " {'h': 0.5, 'c': 4.0},\n",
              " {'h': 0.45, 'c': 4.5},\n",
              " {'h': 0.4, 'c': 5.0},\n",
              " {'h': 0.35, 'c': 5.5},\n",
              " {'h': 0.3, 'c': 6.0},\n",
              " {'h': 0.25, 'c': 6.5},\n",
              " {'h': 0.2, 'c': 7.0}]"
            ]
          },
          "metadata": {},
          "execution_count": 27
        }
      ]
    },
    {
      "cell_type": "code",
      "execution_count": 41,
      "id": "84683888",
      "metadata": {
        "id": "84683888",
        "outputId": "4fc1013e-b21f-4b03-b22d-5c2d0123198e",
        "colab": {
          "base_uri": "https://localhost:8080/",
          "height": 279
        }
      },
      "outputs": [
        {
          "output_type": "display_data",
          "data": {
            "text/plain": [
              "<Figure size 432x288 with 1 Axes>"
            ],
            "image/png": "[encoded data removed]"
          },
          "metadata": {
            "needs_background": "light"
          }
        }
      ],
      "source": [
        "import matplotlib.pyplot as plt\n",
        "\n",
        "plt.xlabel('Grid step (Bohr)')\n",
        "plt.yscale('log')\n",
        "plt.plot(hgrids,h_data,label='c=3.5',marker='o',linestyle='solid')\n",
        "for dt,e in zip(h_and_c_dataset.ids,h_and_c_data):\n",
        "    x=dt['h']\n",
        "    plt.scatter(x,e,label='c='+str(dt['c']))\n",
        "plt.legend(loc='best');"
      ]
    },
    {
      "cell_type": "markdown",
      "id": "850afb92",
      "metadata": {
        "id": "850afb92"
      },
      "source": [
        "Likewise, we plot the energy values for the grid spacing"
      ]
    },
    {
      "cell_type": "code",
      "execution_count": 42,
      "id": "f0418728",
      "metadata": {
        "id": "f0418728",
        "outputId": "0c322df3-71c7-4f18-bca8-39d32b554419",
        "colab": {
          "base_uri": "https://localhost:8080/",
          "height": 279
        }
      },
      "outputs": [
        {
          "output_type": "display_data",
          "data": {
            "text/plain": [
              "<Figure size 432x288 with 1 Axes>"
            ],
            "image/png": "[encoded data removed]"
          },
          "metadata": {
            "needs_background": "light"
          }
        }
      ],
      "source": [
        "plt.xlabel('Rmult value')\n",
        "plt.plot(rmult,c_data,label='h=0.55')\n",
        "for dt,e in zip(h_and_c_dataset.ids,h_and_c_data):\n",
        "    x=dt['c']\n",
        "    plt.scatter(x,e,label='h='+str(dt['h']))\n",
        "plt.yscale('log')\n",
        "plt.legend(loc='best');"
      ]
    },
    {
      "cell_type": "markdown",
      "id": "43c99f7d",
      "metadata": {
        "id": "43c99f7d"
      },
      "source": [
        "Importantly, both hgrids and rmult have to be decreased and increased (respectively) in order to achieve convergence. Increasing only one of the two parameter will eventually lead to **saturation of the absolute error** on the energy."
      ]
    },
    {
      "cell_type": "markdown",
      "id": "6238248d",
      "metadata": {
        "id": "6238248d"
      },
      "source": [
        "### Exercise on XC functional\n",
        "\n",
        "Compare the values of the HOMO and HOMO-1 eigenvalues for the LDA, PBE, HF and PBE0 functionals. The corresponding outputs are already available in the directory `scratch`, therefore you may run them in skip mode.\n",
        "\n",
        "The calculation were run with `hgrid=.3` and `rmult=6` using the `Dataset` class, as detailed below.  \n",
        "\n",
        "**Hint**: the attributes of a `Logfile` object are listed [here](https://l_sim.gitlab.io/bigdft-suite/PyBigDFT/build/html/_modules/BigDFT/Logfiles.html#get_logs). The followin totorial will also explain some tips."
      ]
    },
    {
      "cell_type": "code",
      "execution_count": 43,
      "id": "bb7f343e",
      "metadata": {
        "id": "bb7f343e"
      },
      "outputs": [],
      "source": [
        "xc_list = ['LDA','PBE','HF','PBE0']"
      ]
    },
    {
      "cell_type": "code",
      "execution_count": 44,
      "id": "c04627fa",
      "metadata": {
        "id": "c04627fa",
        "outputId": "4855ee54-35ac-48e8-a79b-f83313058956",
        "colab": {
          "base_uri": "https://localhost:8080/"
        }
      },
      "outputs": [
        {
          "output_type": "stream",
          "name": "stdout",
          "text": [
            "Initialize a Calculator with OMP_NUM_THREADS=1 and command bigdft\n"
          ]
        }
      ],
      "source": [
        "from BigDFT import Datasets as D\n",
        "\n",
        "inp = I.Inputfile()\n",
        "inp.set_hgrid(.3)\n",
        "inp.set_rmult(6)\n",
        "pos = N2.get_posinp()\n",
        "study = C.SystemCalculator(skip=True,verbose=True)\n",
        "\n",
        "xc_dataset = D.Dataset('xc')\n",
        "for xc in xc_list:\n",
        "    inp_run = deepcopy(inp)\n",
        "    inp_run.set_xc(xc)\n",
        "    if xc in ['HF','PBE0']:\n",
        "        inp_run['psppar.N']={'Pseudopotential XC': 1} \n",
        "    xc_dataset.append_run(id={'xc':xc},run_dir='scratch',input=inp_run,posinp=pos,runner=study)"
      ]
    },
    {
      "cell_type": "code",
      "execution_count": 47,
      "id": "1f09047f",
      "metadata": {
        "id": "1f09047f",
        "outputId": "658a66b9-97a8-41b4-d620-859a39a632dc",
        "colab": {
          "base_uri": "https://localhost:8080/"
        }
      },
      "outputs": [
        {
          "output_type": "stream",
          "name": "stdout",
          "text": [
            "Creating the yaml input file \"scratch/xc__LDA.yaml\"\n",
            "Run directory scratch\n",
            "Executing command:  bigdft -n xc__LDA -s Yes\n",
            "Creating the yaml input file \"scratch/xc__PBE.yaml\"\n",
            "Run directory scratch\n",
            "Executing command:  bigdft -n xc__PBE -s Yes\n",
            "Creating the yaml input file \"scratch/xc__HF.yaml\"\n",
            "Run directory scratch\n",
            "Executing command:  bigdft -n xc__HF -s Yes\n",
            "Creating the yaml input file \"scratch/xc__PBE0.yaml\"\n",
            "Run directory scratch\n",
            "Executing command:  bigdft -n xc__PBE0 -s Yes\n"
          ]
        },
        {
          "output_type": "execute_result",
          "data": {
            "text/plain": [
              "{0: <BigDFT.Logfiles.Logfile at 0x7f9796cd3a90>,\n",
              " 1: <BigDFT.Logfiles.Logfile at 0x7f9796d97610>,\n",
              " 2: <BigDFT.Logfiles.Logfile at 0x7f9796d92e50>,\n",
              " 3: <BigDFT.Logfiles.Logfile at 0x7f9796d92b10>}"
            ]
          },
          "metadata": {},
          "execution_count": 47
        }
      ],
      "source": [
        "xc_dataset.run() #if you run this in skip=False mode you'll need about 6 minutes in Colab cloud resources."
      ]
    },
    {
      "cell_type": "markdown",
      "id": "ad8de6ff",
      "metadata": {
        "id": "ad8de6ff"
      },
      "source": [
        "### Solution"
      ]
    },
    {
      "cell_type": "code",
      "execution_count": 48,
      "id": "da9e0748",
      "metadata": {
        "id": "da9e0748",
        "outputId": "e91c9fe3-9d49-4d23-ede3-0ac75cfcbb3a",
        "colab": {
          "base_uri": "https://localhost:8080/",
          "height": 265
        }
      },
      "outputs": [
        {
          "output_type": "display_data",
          "data": {
            "text/plain": [
              "<Figure size 432x288 with 1 Axes>"
            ],
            "image/png": "[encoded data removed]"
          },
          "metadata": {
            "needs_background": "light"
          }
        }
      ],
      "source": [
        "from numpy import array\n",
        "#this is a qlick look at the difference in evals, possible because we have very few orbitals\n",
        "evals = array(xc_dataset.fetch_results(attribute='evals'))\n",
        "\n",
        "plt.plot(xc_list,evals[:,0,0,:],'o');"
      ]
    },
    {
      "cell_type": "markdown",
      "id": "81a266f6",
      "metadata": {
        "id": "81a266f6"
      },
      "source": [
        "## Exercise (summary)\n",
        "\n",
        "1) Compare other attributes of the `Logfile` instance of N2, such as the energy contributions (Hartree, ions, XC, ...), depending on the XC functional\n",
        "\n",
        "2) Compare the convergence characteristics (`hgrid` and `rmult`) of N2 depending on the XC functional (semilocal vs non-local)\n",
        "\n",
        "3) Compute the dissociation energies of CH4 (data [here](https://aip.scitation.org/doi/10.1063/1.469843)) (**Advanced**)"
      ]
    },
    {
      "cell_type": "markdown",
      "id": "4733472b",
      "metadata": {
        "id": "4733472b"
      },
      "source": [
        "# Logfiles analysis\n",
        "\n",
        "Let us inspect the result of a BigDFT calculation from the `Logfile` class.\n",
        "\n",
        "An instance is returned after the execution is finished in the form of a `yaml` file, from which the `Logfile` object is extracted.\n",
        "\n",
        "Let us for example investigate the logfile of the LDA calculation of N2."
      ]
    },
    {
      "cell_type": "code",
      "execution_count": null,
      "id": "88cd1317",
      "metadata": {
        "id": "88cd1317"
      },
      "outputs": [],
      "source": [
        "from BigDFT import Logfiles as L\n",
        "\n",
        "logfile = L.Logfile('./scratch/log-xc__LDA.yaml')"
      ]
    },
    {
      "cell_type": "markdown",
      "id": "dd5fe3e3",
      "metadata": {
        "id": "dd5fe3e3"
      },
      "source": [
        "From this instance, it is first possible to visualize the associated system"
      ]
    },
    {
      "cell_type": "code",
      "execution_count": null,
      "id": "597b2971",
      "metadata": {
        "id": "597b2971",
        "outputId": "f798c675-3335-4865-fc1c-901edeee84c4"
      },
      "outputs": [
        {
          "data": {
            "application/3dmoljs_load.v0": "<div id=\"3dmolviewer_1662590118186599\"  style=\"position: relative; width: 400px; height: 300px\">\n        <p id=\"3dmolwarning_1662590118186599\" style=\"background-color:#ffcccc;color:black\">You appear to be running in JupyterLab (or JavaScript failed to load for some other reason).  You need to install the 3dmol extension: <br>\n        <tt>jupyter labextension install jupyterlab_3dmol</tt></p>\n        </div>\n<script>\n\nvar loadScriptAsync = function(uri){\n  return new Promise((resolve, reject) => {\n    var tag = document.createElement('script');\n    tag.src = uri;\n    tag.async = true;\n    tag.onload = () => {\n      resolve();\n    };\n  var firstScriptTag = document.getElementsByTagName('script')[0];\n  firstScriptTag.parentNode.insertBefore(tag, firstScriptTag);\n});\n};\n\nif(typeof $3Dmolpromise === 'undefined') {\n$3Dmolpromise = null;\n  $3Dmolpromise = loadScriptAsync('https://3dmol.org/build/3Dmol.js');\n}\n\nvar viewer_1662590118186599 = null;\nvar warn = document.getElementById(\"3dmolwarning_1662590118186599\");\nif(warn) {\n    warn.parentNode.removeChild(warn);\n}\n$3Dmolpromise.then(function() {\nvar viewergrid_1662590118186599 = null;\nviewergrid_1662590118186599 = $3Dmol.createViewerGrid($(\"#3dmolviewer_1662590118186599\"),{rows: 1, cols: 1, control_all: false},{backgroundColor:\"white\"});\nviewer_1662590118186599 = viewergrid_1662590118186599[0][0];\nviewergrid_1662590118186599[0][0].zoomTo();\tviewergrid_1662590118186599[0][0].addModelsAsFrames(\"MODEL 0\\nHETATM    1 N    FUL A   0       0.000   0.000   0.549  1.00  0.00       B   N  \\nHETATM    2 N    FUL A   0       0.000   0.000  -0.549  1.00  0.00       B   N  \\nENDMDL\\n\",\"pdb\",{\"keepH\": \"true\"});\n\tviewergrid_1662590118186599[0][0].setStyle({\"model\": -1},{\"line\": {\"color\": \"black\"}});\n\tviewergrid_1662590118186599[0][0].addModelsAsFrames(\"MODEL 0\\nHETATM    1 N    FUL A   0       0.000   0.000   0.549  1.00  0.00       B   N  \\nHETATM    2 N    FUL A   0       0.000   0.000  -0.549  1.00  0.00       B   N  \\nENDMDL\\n\",\"pdb\",{\"keepH\": \"true\"});\n\tviewergrid_1662590118186599[0][0].setStyle({\"model\": -1, \"serial\": 1},{\"sphere\": {\"scale\": 0.2, \"color\": \"#800000\"}});\n\tviewergrid_1662590118186599[0][0].addModelsAsFrames(\"MODEL 0\\nHETATM    1 N    FUL A   0       0.000   0.000   0.549  1.00  0.00       B   N  \\nHETATM    2 N    FUL A   0       0.000   0.000  -0.549  1.00  0.00       B   N  \\nENDMDL\\n\",\"pdb\",{\"keepH\": \"true\"});\n\tviewergrid_1662590118186599[0][0].setStyle({\"model\": -1, \"serial\": 2},{\"sphere\": {\"scale\": 0.2, \"color\": \"#800000\"}});\n\tviewergrid_1662590118186599[0][0].addUnitCell({\"model\": -1},{\"box\": {\"color\": \"black\"}, \"alabel\": \"\", \"blabel\": \"\", \"clabel\": \"\"});\n\tviewergrid_1662590118186599[0][0].zoomTo();\nviewergrid_1662590118186599[0][0].render();\n});\n</script>",
            "text/html": [
              "<div id=\"3dmolviewer_1662590118186599\"  style=\"position: relative; width: 400px; height: 300px\">\n",
              "        <p id=\"3dmolwarning_1662590118186599\" style=\"background-color:#ffcccc;color:black\">You appear to be running in JupyterLab (or JavaScript failed to load for some other reason).  You need to install the 3dmol extension: <br>\n",
              "        <tt>jupyter labextension install jupyterlab_3dmol</tt></p>\n",
              "        </div>\n",
              "<script>\n",
              "\n",
              "var loadScriptAsync = function(uri){\n",
              "  return new Promise((resolve, reject) => {\n",
              "    var tag = document.createElement('script');\n",
              "    tag.src = uri;\n",
              "    tag.async = true;\n",
              "    tag.onload = () => {\n",
              "      resolve();\n",
              "    };\n",
              "  var firstScriptTag = document.getElementsByTagName('script')[0];\n",
              "  firstScriptTag.parentNode.insertBefore(tag, firstScriptTag);\n",
              "});\n",
              "};\n",
              "\n",
              "if(typeof $3Dmolpromise === 'undefined') {\n",
              "$3Dmolpromise = null;\n",
              "  $3Dmolpromise = loadScriptAsync('https://3dmol.org/build/3Dmol.js');\n",
              "}\n",
              "\n",
              "var viewer_1662590118186599 = null;\n",
              "var warn = document.getElementById(\"3dmolwarning_1662590118186599\");\n",
              "if(warn) {\n",
              "    warn.parentNode.removeChild(warn);\n",
              "}\n",
              "$3Dmolpromise.then(function() {\n",
              "var viewergrid_1662590118186599 = null;\n",
              "viewergrid_1662590118186599 = $3Dmol.createViewerGrid($(\"#3dmolviewer_1662590118186599\"),{rows: 1, cols: 1, control_all: false},{backgroundColor:\"white\"});\n",
              "viewer_1662590118186599 = viewergrid_1662590118186599[0][0];\n",
              "viewergrid_1662590118186599[0][0].zoomTo();\tviewergrid_1662590118186599[0][0].addModelsAsFrames(\"MODEL 0\\nHETATM    1 N    FUL A   0       0.000   0.000   0.549  1.00  0.00       B   N  \\nHETATM    2 N    FUL A   0       0.000   0.000  -0.549  1.00  0.00       B   N  \\nENDMDL\\n\",\"pdb\",{\"keepH\": \"true\"});\n",
              "\tviewergrid_1662590118186599[0][0].setStyle({\"model\": -1},{\"line\": {\"color\": \"black\"}});\n",
              "\tviewergrid_1662590118186599[0][0].addModelsAsFrames(\"MODEL 0\\nHETATM    1 N    FUL A   0       0.000   0.000   0.549  1.00  0.00       B   N  \\nHETATM    2 N    FUL A   0       0.000   0.000  -0.549  1.00  0.00       B   N  \\nENDMDL\\n\",\"pdb\",{\"keepH\": \"true\"});\n",
              "\tviewergrid_1662590118186599[0][0].setStyle({\"model\": -1, \"serial\": 1},{\"sphere\": {\"scale\": 0.2, \"color\": \"#800000\"}});\n",
              "\tviewergrid_1662590118186599[0][0].addModelsAsFrames(\"MODEL 0\\nHETATM    1 N    FUL A   0       0.000   0.000   0.549  1.00  0.00       B   N  \\nHETATM    2 N    FUL A   0       0.000   0.000  -0.549  1.00  0.00       B   N  \\nENDMDL\\n\",\"pdb\",{\"keepH\": \"true\"});\n",
              "\tviewergrid_1662590118186599[0][0].setStyle({\"model\": -1, \"serial\": 2},{\"sphere\": {\"scale\": 0.2, \"color\": \"#800000\"}});\n",
              "\tviewergrid_1662590118186599[0][0].addUnitCell({\"model\": -1},{\"box\": {\"color\": \"black\"}, \"alabel\": \"\", \"blabel\": \"\", \"clabel\": \"\"});\n",
              "\tviewergrid_1662590118186599[0][0].zoomTo();\n",
              "viewergrid_1662590118186599[0][0].render();\n",
              "});\n",
              "</script>"
            ]
          },
          "metadata": {},
          "output_type": "display_data"
        }
      ],
      "source": [
        "from BigDFT import Systems as S\n",
        "\n",
        "sys = S.system_from_log(logfile,fragmentation='full')\n",
        "sys.display();"
      ]
    },
    {
      "cell_type": "markdown",
      "id": "6fa5ac4e",
      "metadata": {
        "id": "6fa5ac4e"
      },
      "source": [
        "The information of the logfile are presented clearly"
      ]
    },
    {
      "cell_type": "code",
      "execution_count": null,
      "id": "3b20779e",
      "metadata": {
        "id": "3b20779e",
        "outputId": "5b97bf05-6e49-4df9-e957-4837f5569b3e"
      },
      "outputs": [
        {
          "name": "stdout",
          "output_type": "stream",
          "text": [
            "- Atom types:\n",
            "  - N\n",
            "- cell: Free BC\n",
            "- number_of_orbitals: 5\n",
            "- posinp_file: xc__LDA.yaml\n",
            "- XC_parameter: -20\n",
            "- grid_spacing: 0.3\n",
            "- spin_polarization: 1\n",
            "- total_magn_moment: 0\n",
            "- system_charge: 0\n",
            "- rmult: 6\n",
            "- dipole:\n",
            "  - -7.546821e-05\n",
            "  - -7.546821e-05\n",
            "  - -0.0001150379\n",
            "- energy: -19.889158366113875\n",
            "- fermi_level: -0.382575362697\n",
            "- forcemax: 0.01184049963069\n",
            "- forcemax_cv: 0.0\n",
            "- gnrm_cv: 0.0001\n",
            "- nat: 2\n",
            "- symmetry: disabled\n",
            "- No. of KS orbitals:\n",
            "  - 5\n",
            "\n"
          ]
        }
      ],
      "source": [
        "print(logfile)"
      ]
    },
    {
      "cell_type": "markdown",
      "id": "c668323e",
      "metadata": {
        "id": "c668323e"
      },
      "source": [
        "The `yaml` serialization is easily obtainable by calling the `log` attribute, in the form of a `dict`. However, this serialiazation is not particularly useful to visualize the output. Better to refer directly to the logfile."
      ]
    },
    {
      "cell_type": "code",
      "execution_count": null,
      "id": "59744774",
      "metadata": {
        "id": "59744774",
        "outputId": "57ffe3b5-b0b0-41ba-b1cf-093c840e940c"
      },
      "outputs": [
        {
          "name": "stdout",
          "output_type": "stream",
          "text": [
            "Accumulated memory requirements during principal run stages (MiB.KiB):\n",
            "  Density Construction: 192.2\n",
            "  Hamiltonian application: 193.614\n",
            "  Kernel calculation: 268.641\n",
            "  Orbitals Orthonormalization: 193.614\n",
            "  Poisson Solver: 274.794\n",
            "Atomic Forces (Ha/Bohr):\n",
            "- N:\n",
            "  - 0.0\n",
            "  - -3.388131789017e-21\n",
            "  - -0.01184049963069\n",
            "- N:\n",
            "  - 0.0\n",
            "  - 3.388131789017e-21\n",
            "  - 0.01184049963069\n",
            "Atomic System Properties:\n",
            "  Boundary Conditions: Free\n",
            "  Number of Symmetries: 0\n",
            "  Number of atomic types: 1\n",
            "  Number of atoms: 2\n",
            "  Space group: disabled\n",
            "  Types of atoms:\n",
            "  - N\n",
            "Atomic structure:\n",
            "  Rigid Shift Applied (AU):\n",
            "  - 8.1\n",
            "  - 8.1\n",
            "  - 9.15\n",
            "  position offset:\n",
            "  - -8.1\n",
            "  - -8.1\n",
            "  - -9.15\n",
            "  positions:\n",
            "  - N:\n",
            "    - 4.286335408\n",
            "    - 4.286335408\n",
            "    - 5.39077148\n",
            "  - N:\n",
            "    - 4.286335408\n",
            "    - 4.286335408\n",
            "    - 4.29317148\n",
            "  units: angstroem\n",
            "Average noise forces:\n",
            "  total: 2.6498158e-05\n",
            "  x: -1.62783873e-05\n",
            "  y: -1.62783874e-05\n",
            "  z: 1.31217602e-05\n",
            "Basis set definition:\n",
            "  Coarse and Fine Radii Multipliers:\n",
            "  - 6.0\n",
            "  - 6.0\n",
            "  Suggested Grid Spacings (a0):\n",
            "  - 0.3\n",
            "  - 0.3\n",
            "  - 0.3\n",
            "BigDFT infocode: 0\n",
            "Box Grid spacings:\n",
            "- 0.3\n",
            "- 0.3\n",
            "- 0.3\n",
            "Calculate Non Local forces: true\n",
            "Calculate local forces: true\n",
            "Clean forces norm (Ha/Bohr):\n",
            "  fnrm2: 0.0002803948630088\n",
            "  maxval: 0.01184049963069\n",
            "Code logo: '__________________________________ A fast and precise DFT wavelet code\n",
            "  |     |     |     |     |     | |     |     |     |     |     |      BBBB         i       gggggg\n",
            "  |_____|_____|_____|_____|_____|     B    B               g |     |  :  |  :  |     |     |    B     B        i     g\n",
            "  |     |-0+--|-0+--|     |     |    B    B         i     g        g |_____|__:__|__:__|_____|_____|___\n",
            "  BBBBB          i     g         g |  :  |     |     |  :  |     |    B    B         i     g         g\n",
            "  |--+0-|     |     |-0+--|     |    B     B     iiii     g         g |__:__|_____|_____|__:__|_____|    B     B        i      g        g\n",
            "  |     |  :  |  :  |     |     |    B BBBB        i        g      g |     |-0+--|-0+--|     |     |    B        iiiii          gggggg\n",
            "  |_____|__:__|__:__|_____|_____|__BBBBB |     |     |     |  :  |     |                           TTTTTTTTT\n",
            "  |     |     |     |--+0-|     |  DDDDDD          FFFFF        T |_____|_____|_____|__:__|_____|\n",
            "  D      D        F        TTTT T |     |     |     |  :  |     |D        D      F        T     T\n",
            "  |     |     |     |--+0-|     |D         D     FFFF     T     T |_____|_____|_____|__:__|_____|D___      D     F         T    T\n",
            "  |     |     |  :  |     |     |D         D     F          TTTTT |     |     |--+0-|     |     |\n",
            "  D        D     F         T    T |_____|_____|__:__|_____|_____|          D     F        T     T\n",
            "  |     |     |     |     |     |         D               T    T |     |     |     |     |     |   DDDDDD       F         TTTT\n",
            "  |_____|_____|_____|_____|_____|______                    www.bigdft.org   '\n",
            "Communication checks:\n",
            "  Reverse transpositions: true\n",
            "  Transpositions: true\n",
            "Compilation options:\n",
            "  Compiler flags:\n",
            "    CFLAGS: -g -O2\n",
            "    CXXFLAGS: -g -O2\n",
            "    FCFLAGS: -O2 -Wno-error -fbounds-check -fbacktrace -ffpe-trap=invalid,zero,overflow\n",
            "      -fopenmp -m64 -g -Wl,--no-as-needed -ldl -fallow-argument-mismatch\n",
            "  Compilers (CC, FC, CXX):\n",
            "  - gcc\n",
            "  - mpifort\n",
            "  - g++\n",
            "  Configure arguments: (...)\n",
            "DFT parameters:\n",
            "  eXchange Correlation:\n",
            "    Exchange-Correlation reference: 'XC: Teter 93'\n",
            "    Reference Papers:\n",
            "    - Comput. Phys. Commun. 183, 2272 (2012)\n",
            "    - S. Goedecker, M. Teter, and J. Hutter, Phys. Rev. B 54, 1703 (1996)\n",
            "    Spin polarization: false\n",
            "    XC ID: -20\n",
            "    XC functional implementation: libXC\n",
            "Data Writing directory: ./\n",
            "Electric Dipole Moment (AU):\n",
            "  P vector:\n",
            "  - -7.546821e-05\n",
            "  - -7.546821e-05\n",
            "  - -0.0001150379\n",
            "  norm(P): 0.00015692235\n",
            "Electric Dipole Moment (Debye):\n",
            "  P vector:\n",
            "  - -0.000191821\n",
            "  - -0.000191821\n",
            "  - -0.0002923972\n",
            "  norm(P): 0.000398856792\n",
            "Energy (Hartree): -19.889158366113875\n",
            "Estimated Memory Peak (MB): 274\n",
            "Force Norm (Hartree/Bohr): 0.016744995162996684\n",
            "GPU acceleration: false\n",
            "Geometry Optimization Parameters:\n",
            "  Algorithm: none\n",
            "  Fluctuation in forces: 1.0\n",
            "  Maximum in forces: 0.0\n",
            "  Maximum steps: 1\n",
            "  Random atomic displacement: 0.0\n",
            "  Steepest descent step: 4.0\n",
            "Ground State Optimization:\n",
            "- Hamiltonian Optimization:\n",
            "  - Subspace Optimization:\n",
            "      Non-Hermiticity of Hamiltonian in the Subspace: 1.1e-29\n",
            "      Orbitals:\n",
            "      - e: -1.041921681617\n",
            "        f: 2.0\n",
            "      - e: -0.4931878871014\n",
            "        f: 2.0\n",
            "      - e: -0.4364601439754\n",
            "        f: 2.0\n",
            "      - e: -0.4364600985988\n",
            "        f: 2.0\n",
            "      - e: -0.382575362697\n",
            "        f: 2.0\n",
            "      Wavefunctions Iterations:\n",
            "      - D: 0.0108\n",
            "        DIIS weights:\n",
            "        - 1.0\n",
            "        - 1.0\n",
            "        EKS: -19.599442009873712\n",
            "        Energies:\n",
            "          EH: 26.4374284056\n",
            "          EXC: -4.59353822458\n",
            "          Ekin: 13.1903000846\n",
            "          Enl: 1.87025796309\n",
            "          Epot: -21.6971880749\n",
            "          EvXC: -6.01510228509\n",
            "        GPU acceleration: false\n",
            "        Hamiltonian Applied: true\n",
            "        Orthoconstraint: true\n",
            "        Orthogonalization Method: 0\n",
            "        Poisson Solver:\n",
            "          BC: Free\n",
            "          Box:\n",
            "          - 139\n",
            "          - 139\n",
            "          - 153\n",
            "          MPI tasks: 1\n",
            "        Preconditioning: true\n",
            "        Total electronic charge: 9.999999991874\n",
            "        gnrm: 0.327\n",
            "        iter: 1\n",
            "      - D: -0.267\n",
            "        DIIS weights:\n",
            "        - -0.0193\n",
            "        - 1.02\n",
            "        - -0.00444\n",
            "        EKS: -19.86603074686917\n",
            "        Energies:\n",
            "          EH: 28.0070497949\n",
            "          EXC: -4.83337440271\n",
            "          Ekin: 14.5862099594\n",
            "          Enl: 1.87459079009\n",
            "          Epot: -21.8711736933\n",
            "          EvXC: -6.33171403218\n",
            "        GPU acceleration: false\n",
            "        Hamiltonian Applied: true\n",
            "        Orthoconstraint: true\n",
            "        Orthogonalization Method: 0\n",
            "        Poisson Solver:\n",
            "          BC: Free\n",
            "          Box:\n",
            "          - 139\n",
            "          - 139\n",
            "          - 153\n",
            "          MPI tasks: 1\n",
            "        Preconditioning: true\n",
            "        Total electronic charge: 9.999999991103\n",
            "        gnrm: 0.112\n",
            "        iter: 2\n",
            "      - D: -0.0197\n",
            "        DIIS weights:\n",
            "        - -0.0496\n",
            "        - -0.311\n",
            "        - 1.36\n",
            "        - -0.000167\n",
            "        EKS: -19.88574559888267\n",
            "        Energies:\n",
            "          EH: 27.8466684777\n",
            "          EXC: -4.79736322355\n",
            "          Ekin: 14.5652554957\n",
            "          Enl: 1.75939315938\n",
            "          Epot: -21.9036916524\n",
            "          EvXC: -6.28427673737\n",
            "        GPU acceleration: false\n",
            "        Hamiltonian Applied: true\n",
            "        Orthoconstraint: true\n",
            "        Orthogonalization Method: 0\n",
            "        Poisson Solver:\n",
            "          BC: Free\n",
            "          Box:\n",
            "          - 139\n",
            "          - 139\n",
            "          - 153\n",
            "          MPI tasks: 1\n",
            "        Preconditioning: true\n",
            "        Total electronic charge: 9.999999991363\n",
            "        gnrm: 0.0465\n",
            "        iter: 3\n",
            "      - D: -0.00319\n",
            "        DIIS weights:\n",
            "        - 0.0074\n",
            "        - 0.00227\n",
            "        - -0.163\n",
            "        - 1.15\n",
            "        - -1.17e-05\n",
            "        EKS: -19.888938639401168\n",
            "        Energies:\n",
            "          EH: 27.8580241523\n",
            "          EXC: -4.79644006663\n",
            "          Ekin: 14.650953604\n",
            "          Enl: 1.76326525276\n",
            "          Epot: -21.984858617\n",
            "          EvXC: -6.28311297722\n",
            "        GPU acceleration: false\n",
            "        Hamiltonian Applied: true\n",
            "        Orthoconstraint: true\n",
            "        Orthogonalization Method: 0\n",
            "        Poisson Solver:\n",
            "          BC: Free\n",
            "          Box:\n",
            "          - 139\n",
            "          - 139\n",
            "          - 153\n",
            "          MPI tasks: 1\n",
            "        Preconditioning: true\n",
            "        Total electronic charge: 9.999999990899\n",
            "        gnrm: 0.0147\n",
            "        iter: 4\n",
            "      - D: -0.000175\n",
            "        DIIS weights:\n",
            "        - 0.000392\n",
            "        - 0.0201\n",
            "        - -0.0779\n",
            "        - -0.194\n",
            "        - 1.25\n",
            "        - -1.4e-06\n",
            "        EKS: -19.889113592353517\n",
            "        Energies:\n",
            "          EH: 27.8467924008\n",
            "          EXC: -4.79473286047\n",
            "          Ekin: 14.6632488885\n",
            "          Enl: 1.75246638581\n",
            "          Epot: -21.9972192265\n",
            "          EvXC: -6.28086325865\n",
            "        GPU acceleration: false\n",
            "        Hamiltonian Applied: true\n",
            "        Orthoconstraint: true\n",
            "        Orthogonalization Method: 0\n",
            "        Poisson Solver:\n",
            "          BC: Free\n",
            "          Box:\n",
            "          - 139\n",
            "          - 139\n",
            "          - 153\n",
            "          MPI tasks: 1\n",
            "        Preconditioning: true\n",
            "        Total electronic charge: 9.999999990778\n",
            "        gnrm: 0.00417\n",
            "        iter: 5\n",
            "      - D: -3.15e-05\n",
            "        DIIS weights:\n",
            "        - -0.000504\n",
            "        - -0.00289\n",
            "        - 0.0237\n",
            "        - -0.0483\n",
            "        - -0.349\n",
            "        - 1.38\n",
            "        - -2.32e-07\n",
            "        EKS: -19.889145072041345\n",
            "        Energies:\n",
            "          EH: 27.8474270849\n",
            "          EXC: -4.79498675479\n",
            "          Ekin: 14.6734260845\n",
            "          Enl: 1.75179027165\n",
            "          Epot: -22.0061999013\n",
            "          EvXC: -6.28119995034\n",
            "        GPU acceleration: false\n",
            "        Hamiltonian Applied: true\n",
            "        Orthoconstraint: true\n",
            "        Orthogonalization Method: 0\n",
            "        Poisson Solver:\n",
            "          BC: Free\n",
            "          Box:\n",
            "          - 139\n",
            "          - 139\n",
            "          - 153\n",
            "          MPI tasks: 1\n",
            "        Preconditioning: true\n",
            "        Total electronic charge: 9.999999990731\n",
            "        gnrm: 0.00208\n",
            "        iter: 6\n",
            "      - D: -8.62e-06\n",
            "        DIIS weights:\n",
            "        - -0.00117\n",
            "        - 0.00272\n",
            "        - 0.00774\n",
            "        - 0.0534\n",
            "        - -0.679\n",
            "        - 1.62\n",
            "        - -6.3e-08\n",
            "        EKS: -19.88915368972063\n",
            "        Energies:\n",
            "          EH: 27.8475331181\n",
            "          EXC: -4.79509022639\n",
            "          Ekin: 14.6773557191\n",
            "          Enl: 1.75059978639\n",
            "          Epot: -22.0088750039\n",
            "          EvXC: -6.28133679073\n",
            "        GPU acceleration: false\n",
            "        Hamiltonian Applied: true\n",
            "        Orthoconstraint: true\n",
            "        Orthogonalization Method: 0\n",
            "        Poisson Solver:\n",
            "          BC: Free\n",
            "          Box:\n",
            "          - 139\n",
            "          - 139\n",
            "          - 153\n",
            "          MPI tasks: 1\n",
            "        Preconditioning: true\n",
            "        Total electronic charge: 9.999999990723\n",
            "        gnrm: 0.0012\n",
            "        iter: 7\n",
            "      - D: -3.38e-06\n",
            "        DIIS weights:\n",
            "        - 0.000933\n",
            "        - -0.00748\n",
            "        - 0.00505\n",
            "        - 0.12\n",
            "        - -0.829\n",
            "        - 1.71\n",
            "        - -1.73e-08\n",
            "        EKS: -19.88915706546748\n",
            "        Energies:\n",
            "          EH: 27.8474618626\n",
            "          EXC: -4.79512344364\n",
            "          Ekin: 14.6788591005\n",
            "          Enl: 1.74992235176\n",
            "          Epot: -22.0097864012\n",
            "          EvXC: -6.28138082733\n",
            "        GPU acceleration: false\n",
            "        Hamiltonian Applied: true\n",
            "        Orthoconstraint: true\n",
            "        Orthogonalization Method: 0\n",
            "        Poisson Solver:\n",
            "          BC: Free\n",
            "          Box:\n",
            "          - 139\n",
            "          - 139\n",
            "          - 153\n",
            "          MPI tasks: 1\n",
            "        Preconditioning: true\n",
            "        Total electronic charge: 9.999999990725\n",
            "        gnrm: 0.000625\n",
            "        iter: 8\n",
            "      - D: -1.1e-06\n",
            "        DIIS weights:\n",
            "        - -0.00254\n",
            "        - -0.00483\n",
            "        - 0.121\n",
            "        - -0.342\n",
            "        - -0.0805\n",
            "        - 1.31\n",
            "        - -2.52e-09\n",
            "        EKS: -19.88915816781627\n",
            "        Energies:\n",
            "          EH: 27.847315648\n",
            "          EXC: -4.79512716638\n",
            "          Ekin: 14.6794324855\n",
            "          Enl: 1.74951890641\n",
            "          Epot: -22.0101049665\n",
            "          EvXC: -6.28138585872\n",
            "        GPU acceleration: false\n",
            "        Hamiltonian Applied: true\n",
            "        Orthoconstraint: true\n",
            "        Orthogonalization Method: 0\n",
            "        Poisson Solver:\n",
            "          BC: Free\n",
            "          Box:\n",
            "          - 139\n",
            "          - 139\n",
            "          - 153\n",
            "          MPI tasks: 1\n",
            "        Preconditioning: true\n",
            "        Total electronic charge: 9.999999990726\n",
            "        gnrm: 0.000264\n",
            "        iter: 9\n",
            "      - D: -1.83e-07\n",
            "        DIIS weights:\n",
            "        - -0.00216\n",
            "        - 0.00429\n",
            "        - 0.0526\n",
            "        - -0.01\n",
            "        - -0.481\n",
            "        - 1.44\n",
            "        - -4.05e-10\n",
            "        EKS: -19.889158351154023\n",
            "        Energies:\n",
            "          EH: 27.8472885182\n",
            "          EXC: -4.79513511046\n",
            "          Ekin: 14.6796604001\n",
            "          Enl: 1.74936581972\n",
            "          Epot: -22.0102097031\n",
            "          EvXC: -6.28139639829\n",
            "        GPU acceleration: false\n",
            "        Hamiltonian Applied: true\n",
            "        Orthoconstraint: true\n",
            "        Orthogonalization Method: 0\n",
            "        Poisson Solver:\n",
            "          BC: Free\n",
            "          Box:\n",
            "          - 139\n",
            "          - 139\n",
            "          - 153\n",
            "          MPI tasks: 1\n",
            "        Preconditioning: true\n",
            "        Total electronic charge: 9.999999990726\n",
            "        gnrm: 8.56e-05\n",
            "        iter: 10\n",
            "      - &id001\n",
            "        D: -1.5e-08\n",
            "        EKS: -19.889158366113875\n",
            "        Energies:\n",
            "          EH: 27.8472608482\n",
            "          EXC: -4.79513251984\n",
            "          Eion: 12.0530523624\n",
            "          Ekin: 14.6796478684\n",
            "          Enl: 1.7493457461\n",
            "          Epot: -22.0102039625\n",
            "          EvXC: -6.28139298747\n",
            "        GPU acceleration: false\n",
            "        Hamiltonian Applied: true\n",
            "        Poisson Solver:\n",
            "          BC: Free\n",
            "          Box:\n",
            "          - 139\n",
            "          - 139\n",
            "          - 153\n",
            "          MPI tasks: 1\n",
            "        Total electronic charge: 9.999999990726\n",
            "        gnrm: 8.56e-05\n",
            "        iter: 11\n",
            "High Res. box is treated separately: true\n",
            "Input Hamiltonian:\n",
            "  Accuracy estimation for this run:\n",
            "    Convergence Criterion: 2.98e-05\n",
            "    Energy: 0.000149\n",
            "  Atomic Input Orbital Generation:\n",
            "  - Atom Type: N\n",
            "    Electronic configuration:\n",
            "      p:\n",
            "      - 1.0\n",
            "      - 1.0\n",
            "      - 1.0\n",
            "      s:\n",
            "      - 2.0\n",
            "  Deviation from normalization: 5.49e-07\n",
            "  EKS: -19.610209365963435\n",
            "  Energies:\n",
            "    EH: 27.4148935003\n",
            "    EXC: -4.70955110299\n",
            "    Ekin: 13.9049636532\n",
            "    Enl: 2.36627080396\n",
            "    Epot: -21.978325416\n",
            "    EvXC: -6.16827383377\n",
            "  Expected kinetic energy: 13.904814679\n",
            "  GPU acceleration: false\n",
            "  IG wavefunctions defined: true\n",
            "  Input Guess Overlap Matrices:\n",
            "    Calculated: true\n",
            "    Diagonalized: true\n",
            "  Orbitals:\n",
            "  - e: -1.055295241538\n",
            "    f: 2.0\n",
            "  - e: -0.526343538307\n",
            "    f: 2.0\n",
            "  - e: -0.4497660615404\n",
            "    f: 2.0\n",
            "  - e: -0.4497660067994\n",
            "    f: 2.0\n",
            "  - e: -0.3984990982962\n",
            "    f: 2.0\n",
            "  - e: -0.09753192536927\n",
            "    f: 0.0\n",
            "  - e: -0.09753187279788\n",
            "    f: 0.0\n",
            "  - e: 0.7245931378153\n",
            "    f: 0.0\n",
            "  Poisson Solver:\n",
            "    BC: Free\n",
            "    Box:\n",
            "    - 139\n",
            "    - 139\n",
            "    - 153\n",
            "    MPI tasks: 1\n",
            "  Policy: Wavefunctions from PSP Atomic Orbitals\n",
            "  Total No. of Atomic Input Orbitals: 8\n",
            "  Total electronic charge: 9.99999999057\n",
            "  Wavelet conversion succeeded: true\n",
            "Input Occupation Numbers:\n",
            "- Occupation Numbers:\n",
            "    Orbitals No. 1-5: 2.0\n",
            "Interaction energy ions multipoles: 0.0\n",
            "Interaction energy multipoles multipoles: 0.0\n",
            "Ion-Ion interaction energy: 12.0530523624271\n",
            "Last Iteration: *id001\n",
            "Material acceleration: false\n",
            "Max No. of dictionaries used: 4938\n",
            "Maximal OpenMP threads per MPI task: 1\n",
            "Memory Consumption Report:\n",
            "  Memory occupation:\n",
            "    Memory Peak of process: 327.764 MB\n",
            "    Peak Value (MB): 298.198\n",
            "    for the array: zt\n",
            "    in the routine: G_PoissonSolver\n",
            "  Remaining Memory (B): 0\n",
            "  Tot. No. of Allocations: 3546\n",
            "  Tot. No. of Deallocations: 3546\n",
            "Memory requirements for principal quantities (MiB.KiB):\n",
            "  All (distributed) orbitals: 8.416\n",
            "  Full Uncompressed (ISF) grid: 22.567\n",
            "  Nonlocal Pseudopotential Arrays: 0.113\n",
            "  Single orbital: 0.861\n",
            "  Subspace Matrix: 0.1\n",
            "  Wavefunction storage size: 58.859\n",
            "  Workspaces storage size: 1.1012\n",
            "Multipole analysis origin:\n",
            "- 8.1\n",
            "- 8.1\n",
            "- 9.15\n",
            "NonLocal PSP Projectors Descriptors:\n",
            "  Creation strategy: On-the-fly\n",
            "  Cumulative size of masking arrays: 3984\n",
            "  Maximum size of masking arrays for a projector: 1992\n",
            "  Percent of zero components: 14\n",
            "  Size of workspaces: 57504\n",
            "  Total number of components: 14372\n",
            "  Total number of projectors: 2\n",
            "Number of MPI tasks: 1\n",
            "Number of dictionary folders allocated: 1\n",
            "OpenMP parallelization: true\n",
            "Orbitals Repartition:\n",
            "  MPI tasks  0- 0: 5\n",
            "Poisson Kernel Creation:\n",
            "  Boundary Conditions: Free\n",
            "  Memory Requirements per MPI task:\n",
            "    Density (MB): 23.93\n",
            "    Full Grid Arrays (MB): 22.55\n",
            "    Kernel (MB): 24.42\n",
            "Poisson Kernel Initialization:\n",
            "  MPI tasks: 1\n",
            "  OpenMP threads per MPI task: 1\n",
            "  environment:\n",
            "    cavity: none\n",
            "    fd_order: 16\n",
            "    itermax: 200\n",
            "    minres: 1.0e-08\n",
            "    pb_method: none\n",
            "  kernel:\n",
            "    isf_order: 16\n",
            "    screening: 0\n",
            "    stress_tensor: true\n",
            "  setup:\n",
            "    accel: none\n",
            "    global_data: false\n",
            "    output: none\n",
            "    taskgroup_size: 0\n",
            "    verbose: true\n",
            "Poisson Solver:\n",
            "  BC: Free\n",
            "  Box:\n",
            "  - 139\n",
            "  - 139\n",
            "  - 153\n",
            "  MPI tasks: 1\n",
            "Post Optimization Parameters:\n",
            "  Finite-Size Effect estimation:\n",
            "    Scheduled: false\n",
            "Properties of atoms in the system:\n",
            "- Grid Spacing threshold (AU): 0.64\n",
            "  Local Pseudo Potential (HGH convention):\n",
            "    Coefficients (c1 .. c4):\n",
            "    - -12.23482\n",
            "    - 1.76641\n",
            "    - 0.0\n",
            "    - 0.0\n",
            "    Rloc: 0.28918\n",
            "  No. of Atoms: 2\n",
            "  No. of Electrons: 5\n",
            "  No. of projectors: 1\n",
            "  NonLocal PSP Parameters:\n",
            "  - Channel (l): 0\n",
            "    Rloc: 0.2566\n",
            "    h_ij matrix:\n",
            "    - - 13.55224\n",
            "      - 0.0\n",
            "      - 0.0\n",
            "    - - 0.0\n",
            "      - 0.0\n",
            "      - 0.0\n",
            "    - - 0.0\n",
            "      - 0.0\n",
            "      - 0.0\n",
            "  - Channel (l): 1\n",
            "    Rloc: 0.27013\n",
            "    h_ij matrix:\n",
            "    - - 0.0\n",
            "      - 0.0\n",
            "      - 0.0\n",
            "    - - 0.0\n",
            "      - 0.0\n",
            "      - 0.0\n",
            "    - - 0.0\n",
            "      - 0.0\n",
            "      - 0.0\n",
            "  PSP XC: 'XC: Teter 93'\n",
            "  Pseudopotential type: HGH-K\n",
            "  Radii of active regions (AU):\n",
            "    Coarse: 1.37026\n",
            "    Coarse PSP: 0.67533\n",
            "    Fine: 0.2566\n",
            "    Source: Hard-Coded\n",
            "  Symbol: N\n",
            "Quadrupole Moment (AU):\n",
            "  Q matrix:\n",
            "  - - 1.136\n",
            "    - -6.0873e-07\n",
            "    - -0.0002684\n",
            "  - - -6.0873e-07\n",
            "    - 1.136\n",
            "    - -0.0002684\n",
            "  - - -0.0002684\n",
            "    - -0.0002684\n",
            "    - -2.272\n",
            "  trace: 0.0\n",
            "Raw forces norm (Ha/Bohr):\n",
            "  fnrm2: 0.0002803969784791\n",
            "  maxval: 0.01184985563241\n",
            "Reference Paper: The Journal of Chemical Physics 129, 014109 (2008)\n",
            "Root process Hostname: localhost\n",
            "Self-Consistent Cycle Parameters:\n",
            "  Density/Potential:\n",
            "    Max. Iterations: 1\n",
            "  Wavefunction:\n",
            "    CG Steps for Preconditioner: 6\n",
            "    DIIS History length: 6\n",
            "    Gradient Norm Threshold: 0.0001\n",
            "    Input wavefunction policy: INPUT_PSI_LCAO\n",
            "    Max. Subspace Diagonalizations: 1\n",
            "    Max. Wfn Iterations: 50\n",
            "    Number of plotted density orbitals: 0\n",
            "    Output grid policy: NONE\n",
            "    Output wavefunction policy: NONE\n",
            "    Virtual orbitals: 0\n",
            "Sizes of the simulation domain:\n",
            "  AU:\n",
            "  - 16.2\n",
            "  - 16.2\n",
            "  - 18.3\n",
            "  Angstroem:\n",
            "  - 8.5727\n",
            "  - 8.5727\n",
            "  - 9.6839\n",
            "  Grid Spacing Units:\n",
            "  - 54\n",
            "  - 54\n",
            "  - 61\n",
            "  High resolution region boundaries (GU):\n",
            "    From:\n",
            "    - 22\n",
            "    - 22\n",
            "    - 22\n",
            "    To:\n",
            "    - 32\n",
            "    - 32\n",
            "    - 39\n",
            "Spin treatment: Averaged\n",
            "Spreads of the electronic density (AU):\n",
            "- 0.8724061\n",
            "- 0.8724061\n",
            "- 1.396506\n",
            "Timestamp of this run: 2022-09-07 14:48:30.018000\n",
            "Timings for root process:\n",
            "  CPU time (s): 19.73\n",
            "  Elapsed time (s): 19.83\n",
            "Total Number of Electrons: 10\n",
            "Total Number of Orbitals: 5\n",
            "Total electronic charge: 9.999999990726\n",
            "Total ionic charge: -10.0\n",
            "Version Number: 1.9.2\n",
            "Walltime since initialization: 19.878042757\n",
            "Wavefunctions Descriptors, full simulation domain:\n",
            "  Coarse resolution grid:\n",
            "    No. of points: 102710\n",
            "    No. of segments: 2746\n",
            "  Fine resolution grid:\n",
            "    No. of points: 1066\n",
            "    No. of segments: 154\n",
            "Wavefunctions memory occupation for root MPI process: 4 MB 207 KB 608 B\n",
            "chess:\n",
            "  foe:\n",
            "    accuracy_entropy: 0.0001\n",
            "    accuracy_foe: 1.0e-05\n",
            "    accuracy_ice: 1.0e-08\n",
            "    accuracy_penalty: 1.0e-05\n",
            "    adjust_fscale: true\n",
            "    betax_foe: -1000.0\n",
            "    betax_ice: -1000.0\n",
            "    ef_interpol_chargediff: 1.0\n",
            "    ef_interpol_det: 1.0e-12\n",
            "    eval_range_foe:\n",
            "    - -0.5\n",
            "    - 0.5\n",
            "    evbounds_nsatur: 3\n",
            "    evboundsshrink_nsatur: 4\n",
            "    fscale: 0.05\n",
            "    fscale_ediff_low: 5.0e-05\n",
            "    fscale_ediff_up: 0.0001\n",
            "    fscale_lowerbound: 0.005\n",
            "    fscale_upperbound: 0.05\n",
            "    matmul_optimize_load_balancing: false\n",
            "    occupation_function: 102\n",
            "  lapack:\n",
            "    blocksize_pdgemm: -8\n",
            "    blocksize_pdsyev: -8\n",
            "    maxproc_pdgemm: 4\n",
            "    maxproc_pdsyev: 4\n",
            "  ntpoly:\n",
            "    convergence_density: 1.0e-10\n",
            "    convergence_overlap: 1.0e-10\n",
            "    threshold_density: 0.0\n",
            "    threshold_overlap: 0.0\n",
            "dft:\n",
            "  alpha_hf: -1.0\n",
            "  calculate_strten: true\n",
            "  disablesym: false\n",
            "  dispersion: 0\n",
            "  elecfield:\n",
            "  - 0.0\n",
            "  - 0.0\n",
            "  - 0.0\n",
            "  external_potential: 0.0\n",
            "  gnrm_cv: 0.0001\n",
            "  gnrm_cv_virt: 0.0001\n",
            "  hgrids: 0.3\n",
            "  idsx: 6\n",
            "  inputpsiid: 0\n",
            "  itermax: 50\n",
            "  itermax_occ_ctrl: 0\n",
            "  itermax_virt: 50\n",
            "  itermin: 0\n",
            "  ixc: -20\n",
            "  mpol: 0\n",
            "  ncong: 6\n",
            "  ncongt: 30\n",
            "  ngrids:\n",
            "  - 0\n",
            "  - 0\n",
            "  - 0\n",
            "  norbv: 0\n",
            "  nplot: 0\n",
            "  nrepmax: 1\n",
            "  nrepmax_occ_ctrl: 1\n",
            "  nspin: 1\n",
            "  nvirt: 0\n",
            "  occupancy_control: None\n",
            "  output_denspot: 0\n",
            "  plot_mppot_axes:\n",
            "  - -1\n",
            "  - -1\n",
            "  - -1\n",
            "  plot_pot_axes:\n",
            "  - -1\n",
            "  - -1\n",
            "  - -1\n",
            "  projection: gaussian\n",
            "  qcharge: 0\n",
            "  rbuf: 0.0\n",
            "  rmult: 6\n",
            "geopt:\n",
            "  beta_stretchx: 5e-1\n",
            "  betax: 4.0\n",
            "  forcemax: 0.0\n",
            "  frac_fluct: 1.0\n",
            "  method: none\n",
            "  ncount_cluster_x: 1\n",
            "  randdis: 0.0\n",
            "kpt:\n",
            "  bands: false\n",
            "  kpt:\n",
            "  - - 0.0\n",
            "    - 0.0\n",
            "    - 0.0\n",
            "  method: manual\n",
            "  wkpt:\n",
            "  - 1.0\n",
            "lin_basis:\n",
            "  alpha_diis: 1.0\n",
            "  alpha_sd: 1.0\n",
            "  correction_orthoconstraint: 1\n",
            "  deltae_cv: 0.0001\n",
            "  extended_ig: false\n",
            "  fix_basis: 1.0e-10\n",
            "  gnrm_cv:\n",
            "  - 0.01\n",
            "  - 0.0001\n",
            "  gnrm_dyn: 0.0001\n",
            "  gnrm_ig: 0.001\n",
            "  idsx:\n",
            "  - 6\n",
            "  - 6\n",
            "  min_gnrm_for_dynamic: 0.001\n",
            "  nit:\n",
            "  - 4\n",
            "  - 5\n",
            "  nit_ig: 50\n",
            "  nstep_prec: 5\n",
            "  orthogonalize_ao: true\n",
            "  orthogonalize_sfs: true\n",
            "  reset_DIIS_history: false\n",
            "lin_basis_params:\n",
            "  ao_confinement: 0.0083\n",
            "  confinement:\n",
            "  - 0.0083\n",
            "  - 0.0\n",
            "  nbasis: 4\n",
            "  rloc:\n",
            "  - 7.0\n",
            "  - 7.0\n",
            "  rloc_kernel: 9.0\n",
            "  rloc_kernel_foe: 14.0\n",
            "lin_general:\n",
            "  calc_dipole: false\n",
            "  calc_quadrupole: false\n",
            "  calculate_FOE_eigenvalues:\n",
            "  - 0\n",
            "  - -1\n",
            "  calculate_onsite_overlap: false\n",
            "  cdft_add_w_guess: 0.0\n",
            "  charge_multipoles: 0\n",
            "  check_multipoles: true\n",
            "  conf_damping: -0.5\n",
            "  consider_entropy: false\n",
            "  extra_states: 0\n",
            "  frag_neighbour_cutoff: 12.0d0\n",
            "  frag_num_neighbours: 0\n",
            "  hybrid: false\n",
            "  kernel_restart_mode: 0\n",
            "  kernel_restart_noise: 0.0d0\n",
            "  max_inversion_error: 1.d0\n",
            "  multipole_centers: 0.0\n",
            "  nit:\n",
            "  - 100\n",
            "  - 100\n",
            "  output_coeff: 0\n",
            "  output_fragments: 0\n",
            "  output_mat: 0\n",
            "  output_matmul: false\n",
            "  output_multipole_matrices: true\n",
            "  output_wf: 0\n",
            "  plot_locreg_grids: false\n",
            "  precision_FOE_eigenvalues: 0.005\n",
            "  rpnrm_cv:\n",
            "  - 1.0e-12\n",
            "  - 1.0e-12\n",
            "  subspace_diag: false\n",
            "  support_function_multipoles: false\n",
            "  taylor_order: 0\n",
            "lin_kernel:\n",
            "  alpha_fit_coeff: false\n",
            "  alpha_sd_coeff: 0.2\n",
            "  alphamix:\n",
            "  - 0.5\n",
            "  - 0.5\n",
            "  coeff_scaling_factor: 1.0\n",
            "  delta_pnrm: -1.0\n",
            "  diag_start: false\n",
            "  gnrm_cv_coeff:\n",
            "  - 1.0e-05\n",
            "  - 1.0e-05\n",
            "  idsx:\n",
            "  - 0\n",
            "  - 0\n",
            "  idsx_coeff:\n",
            "  - 0\n",
            "  - 0\n",
            "  linear_method: DIAG\n",
            "  mixing_method: DEN\n",
            "  nit:\n",
            "  - 5\n",
            "  - 5\n",
            "  nstep:\n",
            "  - 1\n",
            "  - 1\n",
            "  rpnrm_cv:\n",
            "  - 1.0e-10\n",
            "  - 1.0e-10\n",
            "logfile: true\n",
            "md:\n",
            "  always_from_scratch: false\n",
            "  mdsteps: 0\n",
            "  no_translation: false\n",
            "  print_frequency: 1\n",
            "  restart_nose: false\n",
            "  restart_pos: false\n",
            "  restart_vel: false\n",
            "  temperature: 300.d0\n",
            "  thermostat: none\n",
            "  timestep: 20.d0\n",
            "  wavefunction_extrapolation: 0\n",
            "mix:\n",
            "  alphadiis: 2.0\n",
            "  alphamix: 0.0\n",
            "  diis_sd_switch_tolerance: 0\n",
            "  iscf: 0\n",
            "  itrpmax: 1\n",
            "  norbsempty: 0\n",
            "  occopt: 1\n",
            "  rpnrm_cv: 0.0001\n",
            "  tel: 0.0\n",
            "mode:\n",
            "  add_coulomb_force: false\n",
            "  method: dft\n",
            "outdir: ./\n",
            "output:\n",
            "  apply_coeffs: true\n",
            "  atomic_density_matrix: None\n",
            "  coupling_matrix: complete\n",
            "  orbitals: None\n",
            "  outputpsiid: wavefunction\n",
            "  sdos: false\n",
            "  verbosity: 2\n",
            "perf:\n",
            "  FOE_restart: 0\n",
            "  accel: false\n",
            "  adjust_kernel_iterations: true\n",
            "  adjust_kernel_threshold: true\n",
            "  blas: false\n",
            "  calculate_KS_residue: true\n",
            "  calculate_forces: true\n",
            "  calculate_gap: false\n",
            "  check_matrix_compression: true\n",
            "  check_overlap: 1\n",
            "  check_sumrho: 1\n",
            "  coeff_weight_analysis: false\n",
            "  correction_co_contra: true\n",
            "  debug: false\n",
            "  domain: null\n",
            "  enable_matrix_taskgroups: true\n",
            "  exctxpar: OP2P\n",
            "  experimental_mode: false\n",
            "  explicit_locregcenters: false\n",
            "  fftcache: 8192\n",
            "  foe_gap: false\n",
            "  hamapp_radius_incr: 8\n",
            "  ig_blocks:\n",
            "  - 300\n",
            "  - 800\n",
            "  ig_diag: true\n",
            "  ig_norbp: 5\n",
            "  ig_tol: 0.0001\n",
            "  imethod_overlap: 1\n",
            "  inguess_geopt: 0\n",
            "  intermediate_forces: false\n",
            "  iterative_orthogonalization: false\n",
            "  kappa_conv: 0.1\n",
            "  linear: false\n",
            "  loewdin_charge_analysis: false\n",
            "  methortho: 0\n",
            "  mixing_after_inputguess: 1\n",
            "  mp_isf: 16\n",
            "  multipole_preserving: false\n",
            "  ocl_devices: null\n",
            "  ocl_platform: null\n",
            "  projrad: 15.0\n",
            "  psp_onfly: true\n",
            "  rho_commun: DEF\n",
            "  signaling: false\n",
            "  signaltimeout: 0\n",
            "  store_index: true\n",
            "  store_overlap_matrices: true\n",
            "  tolsym: 1.0e-08\n",
            "  unblock_comms: false\n",
            "  wf_extent_analysis: false\n",
            "posinp:\n",
            "  cell:\n",
            "  - .inf\n",
            "  - .inf\n",
            "  - .inf\n",
            "  positions:\n",
            "  - N:\n",
            "    - 0.0\n",
            "    - 0.0\n",
            "    - 0.5488\n",
            "    frag:\n",
            "    - N\n",
            "    - 0\n",
            "  - N:\n",
            "    - 0.0\n",
            "    - 0.0\n",
            "    - -0.5488\n",
            "    frag:\n",
            "    - N\n",
            "    - 1\n",
            "  properties:\n",
            "    format: yaml\n",
            "    source: xc__LDA.yaml\n",
            "  units: angstroem\n",
            "psolver:\n",
            "  environment:\n",
            "    cavity: none\n",
            "    fd_order: 16\n",
            "    itermax: 200\n",
            "    minres: 1.0e-08\n",
            "    pb_method: none\n",
            "  kernel:\n",
            "    isf_order: 16\n",
            "    screening: 0\n",
            "    stress_tensor: true\n",
            "  setup:\n",
            "    accel: none\n",
            "    global_data: false\n",
            "    output: none\n",
            "    taskgroup_size: 0\n",
            "    verbose: true\n",
            "psppar.N:\n",
            "  Atomic number: 7\n",
            "  Local Pseudo Potential (HGH convention):\n",
            "    Coefficients (c1 .. c4):\n",
            "    - -12.23481988\n",
            "    - 1.76640728\n",
            "    - 0.0\n",
            "    - 0.0\n",
            "    Rloc: 0.28917923\n",
            "  No. of Electrons: 5\n",
            "  NonLocal PSP Parameters:\n",
            "  - Channel (l): 0\n",
            "    Rloc: 0.25660487\n",
            "    h_ij terms:\n",
            "    - 13.55224272\n",
            "    - 0.0\n",
            "    - 0.0\n",
            "    - 0.0\n",
            "    - 0.0\n",
            "    - 0.0\n",
            "  - Channel (l): 1\n",
            "    Rloc: 0.27013369\n",
            "    h_ij terms:\n",
            "    - 0.0\n",
            "    - 0.0\n",
            "    - 0.0\n",
            "    - 0.0\n",
            "    - 0.0\n",
            "    - 0.0\n",
            "  Pseudopotential XC: 1\n",
            "  Pseudopotential type: HGH-K\n",
            "  Radii of active regions (AU):\n",
            "    Coarse: 1.370256482166319\n",
            "    Coarse PSP: 0.675334225\n",
            "    Fine: 0.25660487\n",
            "    Source: Hard-Coded\n",
            "  Source: Hard-Coded\n",
            "radical: xc__LDA\n",
            "run_from_files: true\n",
            "sic:\n",
            "  sic_alpha: 0.0\n",
            "  sic_approach: none\n",
            "skip: false\n",
            "tddft:\n",
            "  decompose_perturbation: none\n",
            "  tddft_approach: none\n",
            "\n"
          ]
        }
      ],
      "source": [
        "print(dump(logfile.log))"
      ]
    },
    {
      "cell_type": "markdown",
      "id": "f0258cfc",
      "metadata": {
        "id": "f0258cfc"
      },
      "source": [
        "For example, information on the Poisson solver is accessible by"
      ]
    },
    {
      "cell_type": "code",
      "execution_count": null,
      "id": "10b65a06",
      "metadata": {
        "id": "10b65a06",
        "outputId": "5fd5c77e-9c7b-4f66-9c1d-e8d2a0686e0d"
      },
      "outputs": [
        {
          "data": {
            "text/plain": [
              "{'BC': 'Free', 'Box': [139, 139, 153], 'MPI tasks': 1}"
            ]
          },
          "execution_count": 107,
          "metadata": {},
          "output_type": "execute_result"
        }
      ],
      "source": [
        "logfile.log[\"Poisson Solver\"]"
      ]
    },
    {
      "cell_type": "markdown",
      "id": "639ee6c8",
      "metadata": {
        "id": "639ee6c8"
      },
      "source": [
        "Or similarly, the self-consistent field cycle"
      ]
    },
    {
      "cell_type": "code",
      "execution_count": null,
      "id": "e5672197",
      "metadata": {
        "id": "e5672197",
        "outputId": "9b9ae96a-0019-4cff-be25-06b44948f43e"
      },
      "outputs": [
        {
          "name": "stdout",
          "output_type": "stream",
          "text": [
            "- Hamiltonian Optimization:\n",
            "  - Subspace Optimization:\n",
            "      Non-Hermiticity of Hamiltonian in the Subspace: 1.1e-29\n",
            "      Orbitals:\n",
            "      - e: -1.041921681617\n",
            "        f: 2.0\n",
            "      - e: -0.4931878871014\n",
            "        f: 2.0\n",
            "      - e: -0.4364601439754\n",
            "        f: 2.0\n",
            "      - e: -0.4364600985988\n",
            "        f: 2.0\n",
            "      - e: -0.382575362697\n",
            "        f: 2.0\n",
            "      Wavefunctions Iterations:\n",
            "      - D: 0.0108\n",
            "        DIIS weights:\n",
            "        - 1.0\n",
            "        - 1.0\n",
            "        EKS: -19.599442009873712\n",
            "        Energies:\n",
            "          EH: 26.4374284056\n",
            "          EXC: -4.59353822458\n",
            "          Ekin: 13.1903000846\n",
            "          Enl: 1.87025796309\n",
            "          Epot: -21.6971880749\n",
            "          EvXC: -6.01510228509\n",
            "        GPU acceleration: false\n",
            "        Hamiltonian Applied: true\n",
            "        Orthoconstraint: true\n",
            "        Orthogonalization Method: 0\n",
            "        Poisson Solver:\n",
            "          BC: Free\n",
            "          Box:\n",
            "          - 139\n",
            "          - 139\n",
            "          - 153\n",
            "          MPI tasks: 1\n",
            "        Preconditioning: true\n",
            "        Total electronic charge: 9.999999991874\n",
            "        gnrm: 0.327\n",
            "        iter: 1\n",
            "      - D: -0.267\n",
            "        DIIS weights:\n",
            "        - -0.0193\n",
            "        - 1.02\n",
            "        - -0.00444\n",
            "        EKS: -19.86603074686917\n",
            "        Energies:\n",
            "          EH: 28.0070497949\n",
            "          EXC: -4.83337440271\n",
            "          Ekin: 14.5862099594\n",
            "          Enl: 1.87459079009\n",
            "          Epot: -21.8711736933\n",
            "          EvXC: -6.33171403218\n",
            "        GPU acceleration: false\n",
            "        Hamiltonian Applied: true\n",
            "        Orthoconstraint: true\n",
            "        Orthogonalization Method: 0\n",
            "        Poisson Solver:\n",
            "          BC: Free\n",
            "          Box:\n",
            "          - 139\n",
            "          - 139\n",
            "          - 153\n",
            "          MPI tasks: 1\n",
            "        Preconditioning: true\n",
            "        Total electronic charge: 9.999999991103\n",
            "        gnrm: 0.112\n",
            "        iter: 2\n",
            "      - D: -0.0197\n",
            "        DIIS weights:\n",
            "        - -0.0496\n",
            "        - -0.311\n",
            "        - 1.36\n",
            "        - -0.000167\n",
            "        EKS: -19.88574559888267\n",
            "        Energies:\n",
            "          EH: 27.8466684777\n",
            "          EXC: -4.79736322355\n",
            "          Ekin: 14.5652554957\n",
            "          Enl: 1.75939315938\n",
            "          Epot: -21.9036916524\n",
            "          EvXC: -6.28427673737\n",
            "        GPU acceleration: false\n",
            "        Hamiltonian Applied: true\n",
            "        Orthoconstraint: true\n",
            "        Orthogonalization Method: 0\n",
            "        Poisson Solver:\n",
            "          BC: Free\n",
            "          Box:\n",
            "          - 139\n",
            "          - 139\n",
            "          - 153\n",
            "          MPI tasks: 1\n",
            "        Preconditioning: true\n",
            "        Total electronic charge: 9.999999991363\n",
            "        gnrm: 0.0465\n",
            "        iter: 3\n",
            "      - D: -0.00319\n",
            "        DIIS weights:\n",
            "        - 0.0074\n",
            "        - 0.00227\n",
            "        - -0.163\n",
            "        - 1.15\n",
            "        - -1.17e-05\n",
            "        EKS: -19.888938639401168\n",
            "        Energies:\n",
            "          EH: 27.8580241523\n",
            "          EXC: -4.79644006663\n",
            "          Ekin: 14.650953604\n",
            "          Enl: 1.76326525276\n",
            "          Epot: -21.984858617\n",
            "          EvXC: -6.28311297722\n",
            "        GPU acceleration: false\n",
            "        Hamiltonian Applied: true\n",
            "        Orthoconstraint: true\n",
            "        Orthogonalization Method: 0\n",
            "        Poisson Solver:\n",
            "          BC: Free\n",
            "          Box:\n",
            "          - 139\n",
            "          - 139\n",
            "          - 153\n",
            "          MPI tasks: 1\n",
            "        Preconditioning: true\n",
            "        Total electronic charge: 9.999999990899\n",
            "        gnrm: 0.0147\n",
            "        iter: 4\n",
            "      - D: -0.000175\n",
            "        DIIS weights:\n",
            "        - 0.000392\n",
            "        - 0.0201\n",
            "        - -0.0779\n",
            "        - -0.194\n",
            "        - 1.25\n",
            "        - -1.4e-06\n",
            "        EKS: -19.889113592353517\n",
            "        Energies:\n",
            "          EH: 27.8467924008\n",
            "          EXC: -4.79473286047\n",
            "          Ekin: 14.6632488885\n",
            "          Enl: 1.75246638581\n",
            "          Epot: -21.9972192265\n",
            "          EvXC: -6.28086325865\n",
            "        GPU acceleration: false\n",
            "        Hamiltonian Applied: true\n",
            "        Orthoconstraint: true\n",
            "        Orthogonalization Method: 0\n",
            "        Poisson Solver:\n",
            "          BC: Free\n",
            "          Box:\n",
            "          - 139\n",
            "          - 139\n",
            "          - 153\n",
            "          MPI tasks: 1\n",
            "        Preconditioning: true\n",
            "        Total electronic charge: 9.999999990778\n",
            "        gnrm: 0.00417\n",
            "        iter: 5\n",
            "      - D: -3.15e-05\n",
            "        DIIS weights:\n",
            "        - -0.000504\n",
            "        - -0.00289\n",
            "        - 0.0237\n",
            "        - -0.0483\n",
            "        - -0.349\n",
            "        - 1.38\n",
            "        - -2.32e-07\n",
            "        EKS: -19.889145072041345\n",
            "        Energies:\n",
            "          EH: 27.8474270849\n",
            "          EXC: -4.79498675479\n",
            "          Ekin: 14.6734260845\n",
            "          Enl: 1.75179027165\n",
            "          Epot: -22.0061999013\n",
            "          EvXC: -6.28119995034\n",
            "        GPU acceleration: false\n",
            "        Hamiltonian Applied: true\n",
            "        Orthoconstraint: true\n",
            "        Orthogonalization Method: 0\n",
            "        Poisson Solver:\n",
            "          BC: Free\n",
            "          Box:\n",
            "          - 139\n",
            "          - 139\n",
            "          - 153\n",
            "          MPI tasks: 1\n",
            "        Preconditioning: true\n",
            "        Total electronic charge: 9.999999990731\n",
            "        gnrm: 0.00208\n",
            "        iter: 6\n",
            "      - D: -8.62e-06\n",
            "        DIIS weights:\n",
            "        - -0.00117\n",
            "        - 0.00272\n",
            "        - 0.00774\n",
            "        - 0.0534\n",
            "        - -0.679\n",
            "        - 1.62\n",
            "        - -6.3e-08\n",
            "        EKS: -19.88915368972063\n",
            "        Energies:\n",
            "          EH: 27.8475331181\n",
            "          EXC: -4.79509022639\n",
            "          Ekin: 14.6773557191\n",
            "          Enl: 1.75059978639\n",
            "          Epot: -22.0088750039\n",
            "          EvXC: -6.28133679073\n",
            "        GPU acceleration: false\n",
            "        Hamiltonian Applied: true\n",
            "        Orthoconstraint: true\n",
            "        Orthogonalization Method: 0\n",
            "        Poisson Solver:\n",
            "          BC: Free\n",
            "          Box:\n",
            "          - 139\n",
            "          - 139\n",
            "          - 153\n",
            "          MPI tasks: 1\n",
            "        Preconditioning: true\n",
            "        Total electronic charge: 9.999999990723\n",
            "        gnrm: 0.0012\n",
            "        iter: 7\n",
            "      - D: -3.38e-06\n",
            "        DIIS weights:\n",
            "        - 0.000933\n",
            "        - -0.00748\n",
            "        - 0.00505\n",
            "        - 0.12\n",
            "        - -0.829\n",
            "        - 1.71\n",
            "        - -1.73e-08\n",
            "        EKS: -19.88915706546748\n",
            "        Energies:\n",
            "          EH: 27.8474618626\n",
            "          EXC: -4.79512344364\n",
            "          Ekin: 14.6788591005\n",
            "          Enl: 1.74992235176\n",
            "          Epot: -22.0097864012\n",
            "          EvXC: -6.28138082733\n",
            "        GPU acceleration: false\n",
            "        Hamiltonian Applied: true\n",
            "        Orthoconstraint: true\n",
            "        Orthogonalization Method: 0\n",
            "        Poisson Solver:\n",
            "          BC: Free\n",
            "          Box:\n",
            "          - 139\n",
            "          - 139\n",
            "          - 153\n",
            "          MPI tasks: 1\n",
            "        Preconditioning: true\n",
            "        Total electronic charge: 9.999999990725\n",
            "        gnrm: 0.000625\n",
            "        iter: 8\n",
            "      - D: -1.1e-06\n",
            "        DIIS weights:\n",
            "        - -0.00254\n",
            "        - -0.00483\n",
            "        - 0.121\n",
            "        - -0.342\n",
            "        - -0.0805\n",
            "        - 1.31\n",
            "        - -2.52e-09\n",
            "        EKS: -19.88915816781627\n",
            "        Energies:\n",
            "          EH: 27.847315648\n",
            "          EXC: -4.79512716638\n",
            "          Ekin: 14.6794324855\n",
            "          Enl: 1.74951890641\n",
            "          Epot: -22.0101049665\n",
            "          EvXC: -6.28138585872\n",
            "        GPU acceleration: false\n",
            "        Hamiltonian Applied: true\n",
            "        Orthoconstraint: true\n",
            "        Orthogonalization Method: 0\n",
            "        Poisson Solver:\n",
            "          BC: Free\n",
            "          Box:\n",
            "          - 139\n",
            "          - 139\n",
            "          - 153\n",
            "          MPI tasks: 1\n",
            "        Preconditioning: true\n",
            "        Total electronic charge: 9.999999990726\n",
            "        gnrm: 0.000264\n",
            "        iter: 9\n",
            "      - D: -1.83e-07\n",
            "        DIIS weights:\n",
            "        - -0.00216\n",
            "        - 0.00429\n",
            "        - 0.0526\n",
            "        - -0.01\n",
            "        - -0.481\n",
            "        - 1.44\n",
            "        - -4.05e-10\n",
            "        EKS: -19.889158351154023\n",
            "        Energies:\n",
            "          EH: 27.8472885182\n",
            "          EXC: -4.79513511046\n",
            "          Ekin: 14.6796604001\n",
            "          Enl: 1.74936581972\n",
            "          Epot: -22.0102097031\n",
            "          EvXC: -6.28139639829\n",
            "        GPU acceleration: false\n",
            "        Hamiltonian Applied: true\n",
            "        Orthoconstraint: true\n",
            "        Orthogonalization Method: 0\n",
            "        Poisson Solver:\n",
            "          BC: Free\n",
            "          Box:\n",
            "          - 139\n",
            "          - 139\n",
            "          - 153\n",
            "          MPI tasks: 1\n",
            "        Preconditioning: true\n",
            "        Total electronic charge: 9.999999990726\n",
            "        gnrm: 8.56e-05\n",
            "        iter: 10\n",
            "      - D: -1.5e-08\n",
            "        EKS: -19.889158366113875\n",
            "        Energies:\n",
            "          EH: 27.8472608482\n",
            "          EXC: -4.79513251984\n",
            "          Eion: 12.0530523624\n",
            "          Ekin: 14.6796478684\n",
            "          Enl: 1.7493457461\n",
            "          Epot: -22.0102039625\n",
            "          EvXC: -6.28139298747\n",
            "        GPU acceleration: false\n",
            "        Hamiltonian Applied: true\n",
            "        Poisson Solver:\n",
            "          BC: Free\n",
            "          Box:\n",
            "          - 139\n",
            "          - 139\n",
            "          - 153\n",
            "          MPI tasks: 1\n",
            "        Total electronic charge: 9.999999990726\n",
            "        gnrm: 8.56e-05\n",
            "        iter: 11\n",
            "\n"
          ]
        }
      ],
      "source": [
        "print(len(logfile.log['Ground State Optimization']))"
      ]
    },
    {
      "cell_type": "markdown",
      "id": "c228613d",
      "metadata": {
        "id": "c228613d"
      },
      "source": [
        "All `keys` elements are listed afterwards"
      ]
    },
    {
      "cell_type": "code",
      "execution_count": null,
      "id": "a6c5379c",
      "metadata": {
        "id": "a6c5379c",
        "outputId": "95b756a9-050d-496c-d0e9-86ef4ab5fe96"
      },
      "outputs": [
        {
          "name": "stdout",
          "output_type": "stream",
          "text": [
            "dict_keys(['Code logo', 'Reference Paper', 'Version Number', 'Timestamp of this run', 'Root process Hostname', 'Number of MPI tasks', 'OpenMP parallelization', 'Maximal OpenMP threads per MPI task', 'Compilation options', 'radical', 'outdir', 'logfile', 'run_from_files', 'skip', 'dft', 'psolver', 'chess', 'output', 'kpt', 'geopt', 'md', 'mix', 'sic', 'tddft', 'mode', 'perf', 'lin_general', 'lin_basis', 'lin_kernel', 'lin_basis_params', 'psppar.N', 'posinp', 'Data Writing directory', 'Atomic System Properties', 'Geometry Optimization Parameters', 'Material acceleration', 'DFT parameters', 'Basis set definition', 'Self-Consistent Cycle Parameters', 'Post Optimization Parameters', 'Properties of atoms in the system', 'Atomic structure', 'Box Grid spacings', 'Sizes of the simulation domain', 'High Res. box is treated separately', 'Wavefunctions Descriptors, full simulation domain', 'Poisson Kernel Initialization', 'Poisson Kernel Creation', 'Total Number of Electrons', 'Spin treatment', 'Orbitals Repartition', 'Total Number of Orbitals', 'Input Occupation Numbers', 'Wavefunctions memory occupation for root MPI process', 'NonLocal PSP Projectors Descriptors', 'Communication checks', 'Memory requirements for principal quantities (MiB.KiB)', 'Accumulated memory requirements during principal run stages (MiB.KiB)', 'Estimated Memory Peak (MB)', 'Ion-Ion interaction energy', 'Total ionic charge', 'Poisson Solver', 'Interaction energy ions multipoles', 'Interaction energy multipoles multipoles', 'Input Hamiltonian', 'Ground State Optimization', 'Last Iteration', 'GPU acceleration', 'Total electronic charge', 'Multipole analysis origin', 'Electric Dipole Moment (AU)', 'Electric Dipole Moment (Debye)', 'Quadrupole Moment (AU)', 'Spreads of the electronic density (AU)', 'Calculate local forces', 'Calculate Non Local forces', 'Timings for root process', 'BigDFT infocode', 'Average noise forces', 'Clean forces norm (Ha/Bohr)', 'Raw forces norm (Ha/Bohr)', 'Atomic Forces (Ha/Bohr)', 'Energy (Hartree)', 'Force Norm (Hartree/Bohr)', 'Memory Consumption Report', 'Walltime since initialization', 'Max No. of dictionaries used', 'Number of dictionary folders allocated'])\n"
          ]
        }
      ],
      "source": [
        "print(logfile.log.keys())"
      ]
    },
    {
      "cell_type": "markdown",
      "id": "c5f98073",
      "metadata": {
        "id": "c5f98073"
      },
      "source": [
        "## Extended systems: graphene\n",
        "\n",
        "Let us inspect a simple example of a solid state calculation by considering a two-dimensional (2D) materials, graphene. "
      ]
    },
    {
      "cell_type": "code",
      "execution_count": null,
      "id": "a2812728",
      "metadata": {
        "id": "a2812728"
      },
      "outputs": [],
      "source": [
        "gr = L.Logfile(\"./scratch/log-graphene.yaml\")"
      ]
    },
    {
      "cell_type": "markdown",
      "id": "e99415df",
      "metadata": {
        "id": "e99415df"
      },
      "source": [
        "[Graphene](https://en.wikipedia.org/wiki/Graphene) is a 2D carbon allotrope in the form of a honeycomb network that consists of a two inequivalent triangular lattices, with a C-C bond of 1.42$~$angstroem, or equivalently, a lattice parameter such that $a_0 = 2.46~$angstroem."
      ]
    },
    {
      "cell_type": "code",
      "execution_count": null,
      "id": "8b4325f9",
      "metadata": {
        "id": "8b4325f9",
        "outputId": "f3d02069-3e67-4f87-ecee-3cbaaea8ff48"
      },
      "outputs": [
        {
          "data": {
            "text/plain": [
              "{'units': 'angstroem',\n",
              " 'cell': [4.330127018922193, inf, 2.5],\n",
              " 'positions': [{'C': [0.0, 4.127582245, 1.25]},\n",
              "  {'C': [2.165063509, 4.127582245, 0.0]},\n",
              "  {'C': [0.7216878365, 4.127582245, 0.0]},\n",
              "  {'C': [2.886751346, 4.127582245, 1.25]}],\n",
              " 'position offset': [0.0, -7.8, 0.0],\n",
              " 'Rigid Shift Applied (AU)': [0.0, 7.8, 0.0],\n",
              " 'forces': [{'C': [3.725158813391e-05, 0.0, -1.280528231035e-18]},\n",
              "  {'C': [3.725158813391e-05, 0.0, 2.817162108277e-18]},\n",
              "  {'C': [-3.725158813391e-05, 0.0, -2.048845169656e-18]},\n",
              "  {'C': [-3.725158813391e-05, 0.0, -2.048845169656e-18]}]}"
            ]
          },
          "execution_count": 129,
          "metadata": {},
          "output_type": "execute_result"
        }
      ],
      "source": [
        "# or gr.log[\"Atomic structure\"]\n",
        "gr.astruct"
      ]
    },
    {
      "cell_type": "code",
      "execution_count": null,
      "id": "ed20dab7",
      "metadata": {
        "id": "ed20dab7",
        "outputId": "fd6495ef-b0cd-41f7-9fab-cf3c9e4cc080"
      },
      "outputs": [
        {
          "data": {
            "application/3dmoljs_load.v0": "<div id=\"3dmolviewer_16625924570134513\"  style=\"position: relative; width: 400px; height: 300px\">\n        <p id=\"3dmolwarning_16625924570134513\" style=\"background-color:#ffcccc;color:black\">You appear to be running in JupyterLab (or JavaScript failed to load for some other reason).  You need to install the 3dmol extension: <br>\n        <tt>jupyter labextension install jupyterlab_3dmol</tt></p>\n        </div>\n<script>\n\nvar loadScriptAsync = function(uri){\n  return new Promise((resolve, reject) => {\n    var tag = document.createElement('script');\n    tag.src = uri;\n    tag.async = true;\n    tag.onload = () => {\n      resolve();\n    };\n  var firstScriptTag = document.getElementsByTagName('script')[0];\n  firstScriptTag.parentNode.insertBefore(tag, firstScriptTag);\n});\n};\n\nif(typeof $3Dmolpromise === 'undefined') {\n$3Dmolpromise = null;\n  $3Dmolpromise = loadScriptAsync('https://3dmol.org/build/3Dmol.js');\n}\n\nvar viewer_16625924570134513 = null;\nvar warn = document.getElementById(\"3dmolwarning_16625924570134513\");\nif(warn) {\n    warn.parentNode.removeChild(warn);\n}\n$3Dmolpromise.then(function() {\nvar viewergrid_16625924570134513 = null;\nviewergrid_16625924570134513 = $3Dmol.createViewerGrid($(\"#3dmolviewer_16625924570134513\"),{rows: 1, cols: 1, control_all: false},{backgroundColor:\"white\"});\nviewer_16625924570134513 = viewergrid_16625924570134513[0][0];\nviewergrid_16625924570134513[0][0].zoomTo();\tviewergrid_16625924570134513[0][0].addModelsAsFrames(\"MODEL 0\\nHETATM    1 C    FUL A   0       0.000   0.000   1.250  1.00  0.00       B   C  \\nHETATM    2 C    FUL A   0       2.165   0.000   0.000  1.00  0.00       B   C  \\nHETATM    3 C    FUL A   0       0.722   0.000   0.000  1.00  0.00       B   C  \\nHETATM    4 C    FUL A   0       2.887   0.000   1.250  1.00  0.00       B   C  \\nENDMDL\\n\",\"pdb\",{\"keepH\": \"true\"});\n\tviewergrid_16625924570134513[0][0].setStyle({\"model\": -1},{\"line\": {\"color\": \"black\"}});\n\tviewergrid_16625924570134513[0][0].addModelsAsFrames(\"MODEL 0\\nHETATM    1 C    FUL A   0       0.000   0.000   1.250  1.00  0.00       B   C  \\nHETATM    2 C    FUL A   0       2.165   0.000   0.000  1.00  0.00       B   C  \\nHETATM    3 C    FUL A   0       0.722   0.000   0.000  1.00  0.00       B   C  \\nHETATM    4 C    FUL A   0       2.887   0.000   1.250  1.00  0.00       B   C  \\nENDMDL\\n\",\"pdb\",{\"keepH\": \"true\"});\n\tviewergrid_16625924570134513[0][0].setStyle({\"model\": -1, \"serial\": 1},{\"sphere\": {\"scale\": 0.2, \"color\": \"#800000\"}});\n\tviewergrid_16625924570134513[0][0].addModelsAsFrames(\"MODEL 0\\nHETATM    1 C    FUL A   0       0.000   0.000   1.250  1.00  0.00       B   C  \\nHETATM    2 C    FUL A   0       2.165   0.000   0.000  1.00  0.00       B   C  \\nHETATM    3 C    FUL A   0       0.722   0.000   0.000  1.00  0.00       B   C  \\nHETATM    4 C    FUL A   0       2.887   0.000   1.250  1.00  0.00       B   C  \\nENDMDL\\n\",\"pdb\",{\"keepH\": \"true\"});\n\tviewergrid_16625924570134513[0][0].setStyle({\"model\": -1, \"serial\": 2},{\"sphere\": {\"scale\": 0.2, \"color\": \"#800000\"}});\n\tviewergrid_16625924570134513[0][0].addModelsAsFrames(\"MODEL 0\\nHETATM    1 C    FUL A   0       0.000   0.000   1.250  1.00  0.00       B   C  \\nHETATM    2 C    FUL A   0       2.165   0.000   0.000  1.00  0.00       B   C  \\nHETATM    3 C    FUL A   0       0.722   0.000   0.000  1.00  0.00       B   C  \\nHETATM    4 C    FUL A   0       2.887   0.000   1.250  1.00  0.00       B   C  \\nENDMDL\\n\",\"pdb\",{\"keepH\": \"true\"});\n\tviewergrid_16625924570134513[0][0].setStyle({\"model\": -1, \"serial\": 3},{\"sphere\": {\"scale\": 0.2, \"color\": \"#800000\"}});\n\tviewergrid_16625924570134513[0][0].addModelsAsFrames(\"MODEL 0\\nHETATM    1 C    FUL A   0       0.000   0.000   1.250  1.00  0.00       B   C  \\nHETATM    2 C    FUL A   0       2.165   0.000   0.000  1.00  0.00       B   C  \\nHETATM    3 C    FUL A   0       0.722   0.000   0.000  1.00  0.00       B   C  \\nHETATM    4 C    FUL A   0       2.887   0.000   1.250  1.00  0.00       B   C  \\nENDMDL\\n\",\"pdb\",{\"keepH\": \"true\"});\n\tviewergrid_16625924570134513[0][0].setStyle({\"model\": -1, \"serial\": 4},{\"sphere\": {\"scale\": 0.2, \"color\": \"#800000\"}});\n\tviewergrid_16625924570134513[0][0].addUnitCell({\"model\": -1},{\"box\": {\"color\": \"black\"}, \"alabel\": \"\", \"blabel\": \"\", \"clabel\": \"\"});\n\tviewergrid_16625924570134513[0][0].zoomTo();\nviewergrid_16625924570134513[0][0].render();\n});\n</script>",
            "text/html": [
              "<div id=\"3dmolviewer_16625924570134513\"  style=\"position: relative; width: 400px; height: 300px\">\n",
              "        <p id=\"3dmolwarning_16625924570134513\" style=\"background-color:#ffcccc;color:black\">You appear to be running in JupyterLab (or JavaScript failed to load for some other reason).  You need to install the 3dmol extension: <br>\n",
              "        <tt>jupyter labextension install jupyterlab_3dmol</tt></p>\n",
              "        </div>\n",
              "<script>\n",
              "\n",
              "var loadScriptAsync = function(uri){\n",
              "  return new Promise((resolve, reject) => {\n",
              "    var tag = document.createElement('script');\n",
              "    tag.src = uri;\n",
              "    tag.async = true;\n",
              "    tag.onload = () => {\n",
              "      resolve();\n",
              "    };\n",
              "  var firstScriptTag = document.getElementsByTagName('script')[0];\n",
              "  firstScriptTag.parentNode.insertBefore(tag, firstScriptTag);\n",
              "});\n",
              "};\n",
              "\n",
              "if(typeof $3Dmolpromise === 'undefined') {\n",
              "$3Dmolpromise = null;\n",
              "  $3Dmolpromise = loadScriptAsync('https://3dmol.org/build/3Dmol.js');\n",
              "}\n",
              "\n",
              "var viewer_16625924570134513 = null;\n",
              "var warn = document.getElementById(\"3dmolwarning_16625924570134513\");\n",
              "if(warn) {\n",
              "    warn.parentNode.removeChild(warn);\n",
              "}\n",
              "$3Dmolpromise.then(function() {\n",
              "var viewergrid_16625924570134513 = null;\n",
              "viewergrid_16625924570134513 = $3Dmol.createViewerGrid($(\"#3dmolviewer_16625924570134513\"),{rows: 1, cols: 1, control_all: false},{backgroundColor:\"white\"});\n",
              "viewer_16625924570134513 = viewergrid_16625924570134513[0][0];\n",
              "viewergrid_16625924570134513[0][0].zoomTo();\tviewergrid_16625924570134513[0][0].addModelsAsFrames(\"MODEL 0\\nHETATM    1 C    FUL A   0       0.000   0.000   1.250  1.00  0.00       B   C  \\nHETATM    2 C    FUL A   0       2.165   0.000   0.000  1.00  0.00       B   C  \\nHETATM    3 C    FUL A   0       0.722   0.000   0.000  1.00  0.00       B   C  \\nHETATM    4 C    FUL A   0       2.887   0.000   1.250  1.00  0.00       B   C  \\nENDMDL\\n\",\"pdb\",{\"keepH\": \"true\"});\n",
              "\tviewergrid_16625924570134513[0][0].setStyle({\"model\": -1},{\"line\": {\"color\": \"black\"}});\n",
              "\tviewergrid_16625924570134513[0][0].addModelsAsFrames(\"MODEL 0\\nHETATM    1 C    FUL A   0       0.000   0.000   1.250  1.00  0.00       B   C  \\nHETATM    2 C    FUL A   0       2.165   0.000   0.000  1.00  0.00       B   C  \\nHETATM    3 C    FUL A   0       0.722   0.000   0.000  1.00  0.00       B   C  \\nHETATM    4 C    FUL A   0       2.887   0.000   1.250  1.00  0.00       B   C  \\nENDMDL\\n\",\"pdb\",{\"keepH\": \"true\"});\n",
              "\tviewergrid_16625924570134513[0][0].setStyle({\"model\": -1, \"serial\": 1},{\"sphere\": {\"scale\": 0.2, \"color\": \"#800000\"}});\n",
              "\tviewergrid_16625924570134513[0][0].addModelsAsFrames(\"MODEL 0\\nHETATM    1 C    FUL A   0       0.000   0.000   1.250  1.00  0.00       B   C  \\nHETATM    2 C    FUL A   0       2.165   0.000   0.000  1.00  0.00       B   C  \\nHETATM    3 C    FUL A   0       0.722   0.000   0.000  1.00  0.00       B   C  \\nHETATM    4 C    FUL A   0       2.887   0.000   1.250  1.00  0.00       B   C  \\nENDMDL\\n\",\"pdb\",{\"keepH\": \"true\"});\n",
              "\tviewergrid_16625924570134513[0][0].setStyle({\"model\": -1, \"serial\": 2},{\"sphere\": {\"scale\": 0.2, \"color\": \"#800000\"}});\n",
              "\tviewergrid_16625924570134513[0][0].addModelsAsFrames(\"MODEL 0\\nHETATM    1 C    FUL A   0       0.000   0.000   1.250  1.00  0.00       B   C  \\nHETATM    2 C    FUL A   0       2.165   0.000   0.000  1.00  0.00       B   C  \\nHETATM    3 C    FUL A   0       0.722   0.000   0.000  1.00  0.00       B   C  \\nHETATM    4 C    FUL A   0       2.887   0.000   1.250  1.00  0.00       B   C  \\nENDMDL\\n\",\"pdb\",{\"keepH\": \"true\"});\n",
              "\tviewergrid_16625924570134513[0][0].setStyle({\"model\": -1, \"serial\": 3},{\"sphere\": {\"scale\": 0.2, \"color\": \"#800000\"}});\n",
              "\tviewergrid_16625924570134513[0][0].addModelsAsFrames(\"MODEL 0\\nHETATM    1 C    FUL A   0       0.000   0.000   1.250  1.00  0.00       B   C  \\nHETATM    2 C    FUL A   0       2.165   0.000   0.000  1.00  0.00       B   C  \\nHETATM    3 C    FUL A   0       0.722   0.000   0.000  1.00  0.00       B   C  \\nHETATM    4 C    FUL A   0       2.887   0.000   1.250  1.00  0.00       B   C  \\nENDMDL\\n\",\"pdb\",{\"keepH\": \"true\"});\n",
              "\tviewergrid_16625924570134513[0][0].setStyle({\"model\": -1, \"serial\": 4},{\"sphere\": {\"scale\": 0.2, \"color\": \"#800000\"}});\n",
              "\tviewergrid_16625924570134513[0][0].addUnitCell({\"model\": -1},{\"box\": {\"color\": \"black\"}, \"alabel\": \"\", \"blabel\": \"\", \"clabel\": \"\"});\n",
              "\tviewergrid_16625924570134513[0][0].zoomTo();\n",
              "viewergrid_16625924570134513[0][0].render();\n",
              "});\n",
              "</script>"
            ]
          },
          "metadata": {},
          "output_type": "display_data"
        }
      ],
      "source": [
        "sys = S.system_from_log(gr,fragmentation='full')\n",
        "sys.display();"
      ]
    },
    {
      "cell_type": "markdown",
      "id": "dc44d407",
      "metadata": {
        "id": "dc44d407"
      },
      "source": [
        "In order to properly characterize extended systems, a $k$-points mesh is required to handle periodicity. "
      ]
    },
    {
      "cell_type": "code",
      "execution_count": null,
      "id": "0bde594c",
      "metadata": {
        "id": "0bde594c",
        "outputId": "f7155e12-2fac-4b63-c103-90b90ca8666a"
      },
      "outputs": [
        {
          "data": {
            "text/plain": [
              "[15, 1, 27]"
            ]
          },
          "execution_count": 120,
          "metadata": {},
          "output_type": "execute_result"
        }
      ],
      "source": [
        "gr.kpt_mesh"
      ]
    },
    {
      "cell_type": "markdown",
      "id": "6fdb2f88",
      "metadata": {
        "id": "6fdb2f88"
      },
      "source": [
        "Additionally, mixing is sometimes needed for convergence, such that the effect of abrupt changes in the density are smoothened away."
      ]
    },
    {
      "cell_type": "code",
      "execution_count": null,
      "id": "8826eec8",
      "metadata": {
        "id": "8826eec8",
        "outputId": "0dd145c4-94d4-40ea-c709-622232e7f6e2"
      },
      "outputs": [
        {
          "name": "stdout",
          "output_type": "stream",
          "text": [
            "alphadiis: 1.d0\n",
            "alphamix: 0.8\n",
            "diis_sd_switch_tolerance: 0\n",
            "iscf: 17\n",
            "itrpmax: 200\n",
            "norbsempty: 10\n",
            "occopt: 1\n",
            "rpnrm_cv: 1.0e-10\n",
            "tel: 0.01\n",
            "\n"
          ]
        }
      ],
      "source": [
        "print(dump(gr.log[\"mix\"]))\n",
        "# inp[\"import\"] = \"mixing\""
      ]
    },
    {
      "cell_type": "markdown",
      "id": "41077f6c",
      "metadata": {
        "id": "41077f6c"
      },
      "source": [
        "The interested reader is invited to go through this [tutorial](../tutorials/SolidState.ipynb)\n",
        "\n",
        "### Graphene massless Dirac fermions\n",
        "\n",
        "When analyzing electronic properties, the $k$-dependence is obtained by plotting the band structure. This is done along a given path, that can be specified by the user. "
      ]
    },
    {
      "cell_type": "code",
      "execution_count": null,
      "id": "222ed0e2",
      "metadata": {
        "id": "222ed0e2",
        "outputId": "37c5cbb1-8a7b-4db5-f576-b694f1aca195"
      },
      "outputs": [
        {
          "name": "stdout",
          "output_type": "stream",
          "text": [
            "spacegroup P6/mmm (191)\n",
            "Lattice found: orthorhombic\n",
            "irreductible k-points 112\n"
          ]
        },
        {
          "name": "stderr",
          "output_type": "stream",
          "text": [
            "/home/sam/Software/miniconda/miniconda3/lib/python3.9/site-packages/ase/dft/kpoints.py:655: UserWarning: Please call this function with cell as the first argument\n",
            "  warnings.warn('Please call this function with cell as the first '\n"
          ]
        },
        {
          "name": "stdout",
          "output_type": "stream",
          "text": [
            "Interpolation bias 1.0852849288836878e-08\n",
            "('G', array([0., 0., 0.]))\n",
            "('R', array([0.5, 0.5, 0.5]))\n",
            "('S', array([0. , 0.5, 0.5]))\n",
            "('T', array([0.5, 0. , 0.5]))\n",
            "('U', array([0.5, 0.5, 0. ]))\n",
            "('X', array([0. , 0.5, 0. ]))\n",
            "('Y', array([0. , 0. , 0.5]))\n",
            "('Z', array([0.5, 0. , 0. ]))\n",
            "[['G', 'X', 'S', 'Y', 'G', 'Z', 'U', 'R', 'T', 'Z'], ['Y', 'T'], ['U', 'X'], ['S', 'R']]\n"
          ]
        }
      ],
      "source": [
        "BZ_gr = gr.get_brillouin_zone()\n",
        "\n",
        "hsp = BZ_gr.special_points # high symmetry points\n",
        "[print(i) for i in hsp.items()]\n",
        "paths = BZ_gr.special_paths # high symmetry path list\n",
        "print(paths)"
      ]
    },
    {
      "cell_type": "markdown",
      "id": "2cbc1b3e",
      "metadata": {
        "id": "2cbc1b3e"
      },
      "source": [
        "Here we choose half the first path, since the 2D character of our system implies no dependence in $k_x$."
      ]
    },
    {
      "cell_type": "code",
      "execution_count": null,
      "id": "e16c09b8",
      "metadata": {
        "id": "e16c09b8"
      },
      "outputs": [],
      "source": [
        "path = paths[0][:5]"
      ]
    },
    {
      "cell_type": "markdown",
      "id": "0a3dafe5",
      "metadata": {
        "id": "0a3dafe5"
      },
      "source": [
        "Eventually, the band structure is plotted using the `BZ` class by giving a list of special $k$-points (i.e. the `path` defined above)"
      ]
    },
    {
      "cell_type": "code",
      "execution_count": null,
      "id": "07a808e5",
      "metadata": {
        "id": "07a808e5",
        "outputId": "325e3d66-e977-423f-e9bc-b333fafec2b0"
      },
      "outputs": [
        {
          "name": "stderr",
          "output_type": "stream",
          "text": [
            "/home/sam/Software/miniconda/miniconda3/lib/python3.9/site-packages/ase/dft/kpoints.py:357: UserWarning: Please do not use (kpts, x, X) = bandpath(...).  Use path = bandpath(...) and then kpts = path.kpts and (x, X, labels) = path.get_linear_kpoint_axis().\n",
            "  warnings.warn('Please do not use (kpts, x, X) = bandpath(...).  '\n"
          ]
        },
        {
          "data": {
            "image/png": "[encoded data removed]",
            "text/plain": [
              "<Figure size 460.8x345.6 with 1 Axes>"
            ]
          },
          "metadata": {
            "needs_background": "light"
          },
          "output_type": "display_data"
        }
      ],
      "source": [
        "import BigDFT.BZ as BZ\n",
        "\n",
        "npts = 200\n",
        "path_bs = BZ.BZPath(BZ_gr.lattice,path,hsp,npts=npts)\n",
        "\n",
        "ax = BZ_gr.plot(path=path_bs,npts=npts)\n",
        "ax.set_ylim([-10,5]);"
      ]
    },
    {
      "cell_type": "markdown",
      "id": "eb22787e",
      "metadata": {
        "id": "eb22787e"
      },
      "source": [
        "## Exercise on XC functional (suite)\n",
        "\n",
        "From the previous analysis on XC functionals of N2, compare the following physical or numerical properties:\n",
        "-  the density of states\n",
        "-  the wavefunction convergence\n",
        "-  the memory employed\n",
        "-  ...\n",
        "\n",
        "**Hint**: the `Logfile` are obtained with the fetch_results() method"
      ]
    },
    {
      "cell_type": "code",
      "execution_count": null,
      "id": "491f5669",
      "metadata": {
        "id": "491f5669"
      },
      "outputs": [],
      "source": [
        "logfiles = xc_dataset.fetch_results()"
      ]
    },
    {
      "cell_type": "markdown",
      "id": "e9d535f7",
      "metadata": {
        "id": "e9d535f7"
      },
      "source": [
        "### Solution"
      ]
    },
    {
      "cell_type": "code",
      "execution_count": null,
      "id": "ca417323",
      "metadata": {
        "id": "ca417323",
        "outputId": "4c1b8ad1-68c9-438e-e347-32a818e19498"
      },
      "outputs": [
        {
          "data": {
            "image/png": "[encoded data removed]",
            "text/plain": [
              "<Figure size 576x432 with 1 Axes>"
            ]
          },
          "metadata": {
            "needs_background": "light"
          },
          "output_type": "display_data"
        }
      ],
      "source": [
        "from matplotlib import *\n",
        "\n",
        "fig,ax = plt.subplots(figsize=(8,6))\n",
        "for log in logfiles[1:]:\n",
        "    dos = log.get_dos()\n",
        "    dos.plot(ax=ax)\n",
        "colors = ['tab:blue','tab:orange','tab:green']\n",
        "lines = [lines.Line2D([0],[0],color=c) for c in colors]\n",
        "ax.legend(lines,xc_list[1:]);"
      ]
    },
    {
      "cell_type": "code",
      "execution_count": null,
      "id": "e47afb2d",
      "metadata": {
        "id": "e47afb2d",
        "outputId": "0e1b1467-253f-4746-e049-7384bfb1ce40"
      },
      "outputs": [
        {
          "data": {
            "image/png": "[encoded data removed]",
            "text/plain": [
              "<Figure size 576x432 with 1 Axes>"
            ]
          },
          "metadata": {
            "needs_background": "light"
          },
          "output_type": "display_data"
        }
      ],
      "source": [
        "from matplotlib import *\n",
        "\n",
        "fig,ax = plt.subplots(figsize=(8,6))\n",
        "for log in logfiles[1:]:\n",
        "    log.wfn_plot()\n",
        "colors = ['tab:blue','tab:orange','tab:green']\n",
        "lines = [lines.Line2D([0],[0],color=c) for c in colors]\n",
        "ax.legend(lines,xc_list[1:]);"
      ]
    },
    {
      "cell_type": "code",
      "execution_count": null,
      "id": "b51746d6",
      "metadata": {
        "id": "b51746d6",
        "outputId": "15b71225-c386-40bd-b704-6a50c595f6aa"
      },
      "outputs": [
        {
          "name": "stdout",
          "output_type": "stream",
          "text": [
            "- Atom types:\n",
            "  - N\n",
            "- cell: Free BC\n",
            "- number_of_orbitals: 5\n",
            "- posinp_file: xc__LDA.yaml\n",
            "- XC_parameter: -20\n",
            "- grid_spacing: 0.3\n",
            "- spin_polarization: 1\n",
            "- total_magn_moment: 0\n",
            "- system_charge: 0\n",
            "- rmult: 6\n",
            "- dipole:\n",
            "  - -7.546821e-05\n",
            "  - -7.546821e-05\n",
            "  - -0.0001150379\n",
            "- energy: -19.889158366113875\n",
            "- fermi_level: -0.382575362697\n",
            "- forcemax: 0.01184049963069\n",
            "- forcemax_cv: 0.0\n",
            "- gnrm_cv: 0.0001\n",
            "- nat: 2\n",
            "- symmetry: disabled\n",
            "- No. of KS orbitals:\n",
            "  - 5\n",
            "\n",
            "-------------\n",
            "\n",
            "Accumulated memory requirements during principal run stages (MiB.KiB):\n",
            "  Density Construction: 192.2\n",
            "  Hamiltonian application: 193.614\n",
            "  Kernel calculation: 268.641\n",
            "  Orbitals Orthonormalization: 193.614\n",
            "  Poisson Solver: 274.794\n",
            "Atomic Forces (Ha/Bohr):\n",
            "- N:\n",
            "  - 0.0\n",
            "  - -3.388131789017e-21\n",
            "  - -0.01184049963069\n",
            "- N:\n",
            "  - 0.0\n",
            "  - 3.388131789017e-21\n",
            "  - 0.01184049963069\n",
            "Atomic System Properties:\n",
            "  Boundary Conditions: Free\n",
            "  Number of Symmetries: 0\n",
            "  Number of atomic types: 1\n",
            "  Number of atoms: 2\n",
            "  Space group: disabled\n",
            "  Types of atoms:\n",
            "  - N\n",
            "Atomic structure:\n",
            "  Rigid Shift Applied (AU):\n",
            "  - 8.1\n",
            "  - 8.1\n",
            "  - 9.15\n",
            "  position offset:\n",
            "  - -8.1\n",
            "  - -8.1\n",
            "  - -9.15\n",
            "  positions:\n",
            "  - N:\n",
            "    - 4.286335408\n",
            "    - 4.286335408\n",
            "    - 5.39077148\n",
            "  - N:\n",
            "    - 4.286335408\n",
            "    - 4.286335408\n",
            "    - 4.29317148\n",
            "  units: angstroem\n",
            "Average noise forces:\n",
            "  total: 2.6498158e-05\n",
            "  x: -1.62783873e-05\n",
            "  y: -1.62783874e-05\n",
            "  z: 1.31217602e-05\n",
            "Basis set definition:\n",
            "  Coarse and Fine Radii Multipliers:\n",
            "  - 6.0\n",
            "  - 6.0\n",
            "  Suggested Grid Spacings (a0):\n",
            "  - 0.3\n",
            "  - 0.3\n",
            "  - 0.3\n",
            "BigDFT infocode: 0\n",
            "Box Grid spacings:\n",
            "- 0.3\n",
            "- 0.3\n",
            "- 0.3\n",
            "Calculate Non Local forces: true\n",
            "Calculate local forces: true\n",
            "Clean forces norm (Ha/Bohr):\n",
            "  fnrm2: 0.0002803948630088\n",
            "  maxval: 0.01184049963069\n",
            "Code logo: '__________________________________ A fast and precise DFT wavelet code\n",
            "  |     |     |     |     |     | |     |     |     |     |     |      BBBB         i       gggggg\n",
            "  |_____|_____|_____|_____|_____|     B    B               g |     |  :  |  :  |     |     |    B     B        i     g\n",
            "  |     |-0+--|-0+--|     |     |    B    B         i     g        g |_____|__:__|__:__|_____|_____|___\n",
            "  BBBBB          i     g         g |  :  |     |     |  :  |     |    B    B         i     g         g\n",
            "  |--+0-|     |     |-0+--|     |    B     B     iiii     g         g |__:__|_____|_____|__:__|_____|    B     B        i      g        g\n",
            "  |     |  :  |  :  |     |     |    B BBBB        i        g      g |     |-0+--|-0+--|     |     |    B        iiiii          gggggg\n",
            "  |_____|__:__|__:__|_____|_____|__BBBBB |     |     |     |  :  |     |                           TTTTTTTTT\n",
            "  |     |     |     |--+0-|     |  DDDDDD          FFFFF        T |_____|_____|_____|__:__|_____|\n",
            "  D      D        F        TTTT T |     |     |     |  :  |     |D        D      F        T     T\n",
            "  |     |     |     |--+0-|     |D         D     FFFF     T     T |_____|_____|_____|__:__|_____|D___      D     F         T    T\n",
            "  |     |     |  :  |     |     |D         D     F          TTTTT |     |     |--+0-|     |     |\n",
            "  D        D     F         T    T |_____|_____|__:__|_____|_____|          D     F        T     T\n",
            "  |     |     |     |     |     |         D               T    T |     |     |     |     |     |   DDDDDD       F         TTTT\n",
            "  |_____|_____|_____|_____|_____|______                    www.bigdft.org   '\n",
            "Communication checks:\n",
            "  Reverse transpositions: true\n",
            "  Transpositions: true\n",
            "Compilation options:\n",
            "  Compiler flags:\n",
            "    CFLAGS: -g -O2\n",
            "    CXXFLAGS: -g -O2\n",
            "    FCFLAGS: -O2 -Wno-error -fbounds-check -fbacktrace -ffpe-trap=invalid,zero,overflow\n",
            "      -fopenmp -m64 -g -Wl,--no-as-needed -ldl -fallow-argument-mismatch\n",
            "  Compilers (CC, FC, CXX):\n",
            "  - gcc\n",
            "  - mpifort\n",
            "  - g++\n",
            "  Configure arguments: (...)\n",
            "DFT parameters:\n",
            "  eXchange Correlation:\n",
            "    Exchange-Correlation reference: 'XC: Teter 93'\n",
            "    Reference Papers:\n",
            "    - Comput. Phys. Commun. 183, 2272 (2012)\n",
            "    - S. Goedecker, M. Teter, and J. Hutter, Phys. Rev. B 54, 1703 (1996)\n",
            "    Spin polarization: false\n",
            "    XC ID: -20\n",
            "    XC functional implementation: libXC\n",
            "Data Writing directory: ./\n",
            "Electric Dipole Moment (AU):\n",
            "  P vector:\n",
            "  - -7.546821e-05\n",
            "  - -7.546821e-05\n",
            "  - -0.0001150379\n",
            "  norm(P): 0.00015692235\n",
            "Electric Dipole Moment (Debye):\n",
            "  P vector:\n",
            "  - -0.000191821\n",
            "  - -0.000191821\n",
            "  - -0.0002923972\n",
            "  norm(P): 0.000398856792\n",
            "Energy (Hartree): -19.889158366113875\n",
            "Estimated Memory Peak (MB): 274\n",
            "Force Norm (Hartree/Bohr): 0.016744995162996684\n",
            "GPU acceleration: false\n",
            "Geometry Optimization Parameters:\n",
            "  Algorithm: none\n",
            "  Fluctuation in forces: 1.0\n",
            "  Maximum in forces: 0.0\n",
            "  Maximum steps: 1\n",
            "  Random atomic displacement: 0.0\n",
            "  Steepest descent step: 4.0\n",
            "Ground State Optimization:\n",
            "- Hamiltonian Optimization:\n",
            "  - Subspace Optimization:\n",
            "      Non-Hermiticity of Hamiltonian in the Subspace: 1.1e-29\n",
            "      Orbitals:\n",
            "      - e: -1.041921681617\n",
            "        f: 2.0\n",
            "      - e: -0.4931878871014\n",
            "        f: 2.0\n",
            "      - e: -0.4364601439754\n",
            "        f: 2.0\n",
            "      - e: -0.4364600985988\n",
            "        f: 2.0\n",
            "      - e: -0.382575362697\n",
            "        f: 2.0\n",
            "      Wavefunctions Iterations:\n",
            "      - D: 0.0108\n",
            "        DIIS weights:\n",
            "        - 1.0\n",
            "        - 1.0\n",
            "        EKS: -19.599442009873712\n",
            "        Energies:\n",
            "          EH: 26.4374284056\n",
            "          EXC: -4.59353822458\n",
            "          Ekin: 13.1903000846\n",
            "          Enl: 1.87025796309\n",
            "          Epot: -21.6971880749\n",
            "          EvXC: -6.01510228509\n",
            "        GPU acceleration: false\n",
            "        Hamiltonian Applied: true\n",
            "        Orthoconstraint: true\n",
            "        Orthogonalization Method: 0\n",
            "        Poisson Solver:\n",
            "          BC: Free\n",
            "          Box:\n",
            "          - 139\n",
            "          - 139\n",
            "          - 153\n",
            "          MPI tasks: 1\n",
            "        Preconditioning: true\n",
            "        Total electronic charge: 9.999999991874\n",
            "        gnrm: 0.327\n",
            "        iter: 1\n",
            "      - D: -0.267\n",
            "        DIIS weights:\n",
            "        - -0.0193\n",
            "        - 1.02\n",
            "        - -0.00444\n",
            "        EKS: -19.86603074686917\n",
            "        Energies:\n",
            "          EH: 28.0070497949\n",
            "          EXC: -4.83337440271\n",
            "          Ekin: 14.5862099594\n",
            "          Enl: 1.87459079009\n",
            "          Epot: -21.8711736933\n",
            "          EvXC: -6.33171403218\n",
            "        GPU acceleration: false\n",
            "        Hamiltonian Applied: true\n",
            "        Orthoconstraint: true\n",
            "        Orthogonalization Method: 0\n",
            "        Poisson Solver:\n",
            "          BC: Free\n",
            "          Box:\n",
            "          - 139\n",
            "          - 139\n",
            "          - 153\n",
            "          MPI tasks: 1\n",
            "        Preconditioning: true\n",
            "        Total electronic charge: 9.999999991103\n",
            "        gnrm: 0.112\n",
            "        iter: 2\n",
            "      - D: -0.0197\n",
            "        DIIS weights:\n",
            "        - -0.0496\n",
            "        - -0.311\n",
            "        - 1.36\n",
            "        - -0.000167\n",
            "        EKS: -19.88574559888267\n",
            "        Energies:\n",
            "          EH: 27.8466684777\n",
            "          EXC: -4.79736322355\n",
            "          Ekin: 14.5652554957\n",
            "          Enl: 1.75939315938\n",
            "          Epot: -21.9036916524\n",
            "          EvXC: -6.28427673737\n",
            "        GPU acceleration: false\n",
            "        Hamiltonian Applied: true\n",
            "        Orthoconstraint: true\n",
            "        Orthogonalization Method: 0\n",
            "        Poisson Solver:\n",
            "          BC: Free\n",
            "          Box:\n",
            "          - 139\n",
            "          - 139\n",
            "          - 153\n",
            "          MPI tasks: 1\n",
            "        Preconditioning: true\n",
            "        Total electronic charge: 9.999999991363\n",
            "        gnrm: 0.0465\n",
            "        iter: 3\n",
            "      - D: -0.00319\n",
            "        DIIS weights:\n",
            "        - 0.0074\n",
            "        - 0.00227\n",
            "        - -0.163\n",
            "        - 1.15\n",
            "        - -1.17e-05\n",
            "        EKS: -19.888938639401168\n",
            "        Energies:\n",
            "          EH: 27.8580241523\n",
            "          EXC: -4.79644006663\n",
            "          Ekin: 14.650953604\n",
            "          Enl: 1.76326525276\n",
            "          Epot: -21.984858617\n",
            "          EvXC: -6.28311297722\n",
            "        GPU acceleration: false\n",
            "        Hamiltonian Applied: true\n",
            "        Orthoconstraint: true\n",
            "        Orthogonalization Method: 0\n",
            "        Poisson Solver:\n",
            "          BC: Free\n",
            "          Box:\n",
            "          - 139\n",
            "          - 139\n",
            "          - 153\n",
            "          MPI tasks: 1\n",
            "        Preconditioning: true\n",
            "        Total electronic charge: 9.999999990899\n",
            "        gnrm: 0.0147\n",
            "        iter: 4\n",
            "      - D: -0.000175\n",
            "        DIIS weights:\n",
            "        - 0.000392\n",
            "        - 0.0201\n",
            "        - -0.0779\n",
            "        - -0.194\n",
            "        - 1.25\n",
            "        - -1.4e-06\n",
            "        EKS: -19.889113592353517\n",
            "        Energies:\n",
            "          EH: 27.8467924008\n",
            "          EXC: -4.79473286047\n",
            "          Ekin: 14.6632488885\n",
            "          Enl: 1.75246638581\n",
            "          Epot: -21.9972192265\n",
            "          EvXC: -6.28086325865\n",
            "        GPU acceleration: false\n",
            "        Hamiltonian Applied: true\n",
            "        Orthoconstraint: true\n",
            "        Orthogonalization Method: 0\n",
            "        Poisson Solver:\n",
            "          BC: Free\n",
            "          Box:\n",
            "          - 139\n",
            "          - 139\n",
            "          - 153\n",
            "          MPI tasks: 1\n",
            "        Preconditioning: true\n",
            "        Total electronic charge: 9.999999990778\n",
            "        gnrm: 0.00417\n",
            "        iter: 5\n",
            "      - D: -3.15e-05\n",
            "        DIIS weights:\n",
            "        - -0.000504\n",
            "        - -0.00289\n",
            "        - 0.0237\n",
            "        - -0.0483\n",
            "        - -0.349\n",
            "        - 1.38\n",
            "        - -2.32e-07\n",
            "        EKS: -19.889145072041345\n",
            "        Energies:\n",
            "          EH: 27.8474270849\n",
            "          EXC: -4.79498675479\n",
            "          Ekin: 14.6734260845\n",
            "          Enl: 1.75179027165\n",
            "          Epot: -22.0061999013\n",
            "          EvXC: -6.28119995034\n",
            "        GPU acceleration: false\n",
            "        Hamiltonian Applied: true\n",
            "        Orthoconstraint: true\n",
            "        Orthogonalization Method: 0\n",
            "        Poisson Solver:\n",
            "          BC: Free\n",
            "          Box:\n",
            "          - 139\n",
            "          - 139\n",
            "          - 153\n",
            "          MPI tasks: 1\n",
            "        Preconditioning: true\n",
            "        Total electronic charge: 9.999999990731\n",
            "        gnrm: 0.00208\n",
            "        iter: 6\n",
            "      - D: -8.62e-06\n",
            "        DIIS weights:\n",
            "        - -0.00117\n",
            "        - 0.00272\n",
            "        - 0.00774\n",
            "        - 0.0534\n",
            "        - -0.679\n",
            "        - 1.62\n",
            "        - -6.3e-08\n",
            "        EKS: -19.88915368972063\n",
            "        Energies:\n",
            "          EH: 27.8475331181\n",
            "          EXC: -4.79509022639\n",
            "          Ekin: 14.6773557191\n",
            "          Enl: 1.75059978639\n",
            "          Epot: -22.0088750039\n",
            "          EvXC: -6.28133679073\n",
            "        GPU acceleration: false\n",
            "        Hamiltonian Applied: true\n",
            "        Orthoconstraint: true\n",
            "        Orthogonalization Method: 0\n",
            "        Poisson Solver:\n",
            "          BC: Free\n",
            "          Box:\n",
            "          - 139\n",
            "          - 139\n",
            "          - 153\n",
            "          MPI tasks: 1\n",
            "        Preconditioning: true\n",
            "        Total electronic charge: 9.999999990723\n",
            "        gnrm: 0.0012\n",
            "        iter: 7\n",
            "      - D: -3.38e-06\n",
            "        DIIS weights:\n",
            "        - 0.000933\n",
            "        - -0.00748\n",
            "        - 0.00505\n",
            "        - 0.12\n",
            "        - -0.829\n",
            "        - 1.71\n",
            "        - -1.73e-08\n",
            "        EKS: -19.88915706546748\n",
            "        Energies:\n",
            "          EH: 27.8474618626\n",
            "          EXC: -4.79512344364\n",
            "          Ekin: 14.6788591005\n",
            "          Enl: 1.74992235176\n",
            "          Epot: -22.0097864012\n",
            "          EvXC: -6.28138082733\n",
            "        GPU acceleration: false\n",
            "        Hamiltonian Applied: true\n",
            "        Orthoconstraint: true\n",
            "        Orthogonalization Method: 0\n",
            "        Poisson Solver:\n",
            "          BC: Free\n",
            "          Box:\n",
            "          - 139\n",
            "          - 139\n",
            "          - 153\n",
            "          MPI tasks: 1\n",
            "        Preconditioning: true\n",
            "        Total electronic charge: 9.999999990725\n",
            "        gnrm: 0.000625\n",
            "        iter: 8\n",
            "      - D: -1.1e-06\n",
            "        DIIS weights:\n",
            "        - -0.00254\n",
            "        - -0.00483\n",
            "        - 0.121\n",
            "        - -0.342\n",
            "        - -0.0805\n",
            "        - 1.31\n",
            "        - -2.52e-09\n",
            "        EKS: -19.88915816781627\n",
            "        Energies:\n",
            "          EH: 27.847315648\n",
            "          EXC: -4.79512716638\n",
            "          Ekin: 14.6794324855\n",
            "          Enl: 1.74951890641\n",
            "          Epot: -22.0101049665\n",
            "          EvXC: -6.28138585872\n",
            "        GPU acceleration: false\n",
            "        Hamiltonian Applied: true\n",
            "        Orthoconstraint: true\n",
            "        Orthogonalization Method: 0\n",
            "        Poisson Solver:\n",
            "          BC: Free\n",
            "          Box:\n",
            "          - 139\n",
            "          - 139\n",
            "          - 153\n",
            "          MPI tasks: 1\n",
            "        Preconditioning: true\n",
            "        Total electronic charge: 9.999999990726\n",
            "        gnrm: 0.000264\n",
            "        iter: 9\n",
            "      - D: -1.83e-07\n",
            "        DIIS weights:\n",
            "        - -0.00216\n",
            "        - 0.00429\n",
            "        - 0.0526\n",
            "        - -0.01\n",
            "        - -0.481\n",
            "        - 1.44\n",
            "        - -4.05e-10\n",
            "        EKS: -19.889158351154023\n",
            "        Energies:\n",
            "          EH: 27.8472885182\n",
            "          EXC: -4.79513511046\n",
            "          Ekin: 14.6796604001\n",
            "          Enl: 1.74936581972\n",
            "          Epot: -22.0102097031\n",
            "          EvXC: -6.28139639829\n",
            "        GPU acceleration: false\n",
            "        Hamiltonian Applied: true\n",
            "        Orthoconstraint: true\n",
            "        Orthogonalization Method: 0\n",
            "        Poisson Solver:\n",
            "          BC: Free\n",
            "          Box:\n",
            "          - 139\n",
            "          - 139\n",
            "          - 153\n",
            "          MPI tasks: 1\n",
            "        Preconditioning: true\n",
            "        Total electronic charge: 9.999999990726\n",
            "        gnrm: 8.56e-05\n",
            "        iter: 10\n",
            "      - &id001\n",
            "        D: -1.5e-08\n",
            "        EKS: -19.889158366113875\n",
            "        Energies:\n",
            "          EH: 27.8472608482\n",
            "          EXC: -4.79513251984\n",
            "          Eion: 12.0530523624\n",
            "          Ekin: 14.6796478684\n",
            "          Enl: 1.7493457461\n",
            "          Epot: -22.0102039625\n",
            "          EvXC: -6.28139298747\n",
            "        GPU acceleration: false\n",
            "        Hamiltonian Applied: true\n",
            "        Poisson Solver:\n",
            "          BC: Free\n",
            "          Box:\n",
            "          - 139\n",
            "          - 139\n",
            "          - 153\n",
            "          MPI tasks: 1\n",
            "        Total electronic charge: 9.999999990726\n",
            "        gnrm: 8.56e-05\n",
            "        iter: 11\n",
            "High Res. box is treated separately: true\n",
            "Input Hamiltonian:\n",
            "  Accuracy estimation for this run:\n",
            "    Convergence Criterion: 2.98e-05\n",
            "    Energy: 0.000149\n",
            "  Atomic Input Orbital Generation:\n",
            "  - Atom Type: N\n",
            "    Electronic configuration:\n",
            "      p:\n",
            "      - 1.0\n",
            "      - 1.0\n",
            "      - 1.0\n",
            "      s:\n",
            "      - 2.0\n",
            "  Deviation from normalization: 5.49e-07\n",
            "  EKS: -19.610209365963435\n",
            "  Energies:\n",
            "    EH: 27.4148935003\n",
            "    EXC: -4.70955110299\n",
            "    Ekin: 13.9049636532\n",
            "    Enl: 2.36627080396\n",
            "    Epot: -21.978325416\n",
            "    EvXC: -6.16827383377\n",
            "  Expected kinetic energy: 13.904814679\n",
            "  GPU acceleration: false\n",
            "  IG wavefunctions defined: true\n",
            "  Input Guess Overlap Matrices:\n",
            "    Calculated: true\n",
            "    Diagonalized: true\n",
            "  Orbitals:\n",
            "  - e: -1.055295241538\n",
            "    f: 2.0\n",
            "  - e: -0.526343538307\n",
            "    f: 2.0\n",
            "  - e: -0.4497660615404\n",
            "    f: 2.0\n",
            "  - e: -0.4497660067994\n",
            "    f: 2.0\n",
            "  - e: -0.3984990982962\n",
            "    f: 2.0\n",
            "  - e: -0.09753192536927\n",
            "    f: 0.0\n",
            "  - e: -0.09753187279788\n",
            "    f: 0.0\n",
            "  - e: 0.7245931378153\n",
            "    f: 0.0\n",
            "  Poisson Solver:\n",
            "    BC: Free\n",
            "    Box:\n",
            "    - 139\n",
            "    - 139\n",
            "    - 153\n",
            "    MPI tasks: 1\n",
            "  Policy: Wavefunctions from PSP Atomic Orbitals\n",
            "  Total No. of Atomic Input Orbitals: 8\n",
            "  Total electronic charge: 9.99999999057\n",
            "  Wavelet conversion succeeded: true\n",
            "Input Occupation Numbers:\n",
            "- Occupation Numbers:\n",
            "    Orbitals No. 1-5: 2.0\n",
            "Interaction energy ions multipoles: 0.0\n",
            "Interaction energy multipoles multipoles: 0.0\n",
            "Ion-Ion interaction energy: 12.0530523624271\n",
            "Last Iteration: *id001\n",
            "Material acceleration: false\n",
            "Max No. of dictionaries used: 4938\n",
            "Maximal OpenMP threads per MPI task: 1\n",
            "Memory Consumption Report:\n",
            "  Memory occupation:\n",
            "    Memory Peak of process: 327.764 MB\n",
            "    Peak Value (MB): 298.198\n",
            "    for the array: zt\n",
            "    in the routine: G_PoissonSolver\n",
            "  Remaining Memory (B): 0\n",
            "  Tot. No. of Allocations: 3546\n",
            "  Tot. No. of Deallocations: 3546\n",
            "Memory requirements for principal quantities (MiB.KiB):\n",
            "  All (distributed) orbitals: 8.416\n",
            "  Full Uncompressed (ISF) grid: 22.567\n",
            "  Nonlocal Pseudopotential Arrays: 0.113\n",
            "  Single orbital: 0.861\n",
            "  Subspace Matrix: 0.1\n",
            "  Wavefunction storage size: 58.859\n",
            "  Workspaces storage size: 1.1012\n",
            "Multipole analysis origin:\n",
            "- 8.1\n",
            "- 8.1\n",
            "- 9.15\n",
            "NonLocal PSP Projectors Descriptors:\n",
            "  Creation strategy: On-the-fly\n",
            "  Cumulative size of masking arrays: 3984\n",
            "  Maximum size of masking arrays for a projector: 1992\n",
            "  Percent of zero components: 14\n",
            "  Size of workspaces: 57504\n",
            "  Total number of components: 14372\n",
            "  Total number of projectors: 2\n",
            "Number of MPI tasks: 1\n",
            "Number of dictionary folders allocated: 1\n",
            "OpenMP parallelization: true\n",
            "Orbitals Repartition:\n",
            "  MPI tasks  0- 0: 5\n",
            "Poisson Kernel Creation:\n",
            "  Boundary Conditions: Free\n",
            "  Memory Requirements per MPI task:\n",
            "    Density (MB): 23.93\n",
            "    Full Grid Arrays (MB): 22.55\n",
            "    Kernel (MB): 24.42\n",
            "Poisson Kernel Initialization:\n",
            "  MPI tasks: 1\n",
            "  OpenMP threads per MPI task: 1\n",
            "  environment:\n",
            "    cavity: none\n",
            "    fd_order: 16\n",
            "    itermax: 200\n",
            "    minres: 1.0e-08\n",
            "    pb_method: none\n",
            "  kernel:\n",
            "    isf_order: 16\n",
            "    screening: 0\n",
            "    stress_tensor: true\n",
            "  setup:\n",
            "    accel: none\n",
            "    global_data: false\n",
            "    output: none\n",
            "    taskgroup_size: 0\n",
            "    verbose: true\n",
            "Poisson Solver:\n",
            "  BC: Free\n",
            "  Box:\n",
            "  - 139\n",
            "  - 139\n",
            "  - 153\n",
            "  MPI tasks: 1\n",
            "Post Optimization Parameters:\n",
            "  Finite-Size Effect estimation:\n",
            "    Scheduled: false\n",
            "Properties of atoms in the system:\n",
            "- Grid Spacing threshold (AU): 0.64\n",
            "  Local Pseudo Potential (HGH convention):\n",
            "    Coefficients (c1 .. c4):\n",
            "    - -12.23482\n",
            "    - 1.76641\n",
            "    - 0.0\n",
            "    - 0.0\n",
            "    Rloc: 0.28918\n",
            "  No. of Atoms: 2\n",
            "  No. of Electrons: 5\n",
            "  No. of projectors: 1\n",
            "  NonLocal PSP Parameters:\n",
            "  - Channel (l): 0\n",
            "    Rloc: 0.2566\n",
            "    h_ij matrix:\n",
            "    - - 13.55224\n",
            "      - 0.0\n",
            "      - 0.0\n",
            "    - - 0.0\n",
            "      - 0.0\n",
            "      - 0.0\n",
            "    - - 0.0\n",
            "      - 0.0\n",
            "      - 0.0\n",
            "  - Channel (l): 1\n",
            "    Rloc: 0.27013\n",
            "    h_ij matrix:\n",
            "    - - 0.0\n",
            "      - 0.0\n",
            "      - 0.0\n",
            "    - - 0.0\n",
            "      - 0.0\n",
            "      - 0.0\n",
            "    - - 0.0\n",
            "      - 0.0\n",
            "      - 0.0\n",
            "  PSP XC: 'XC: Teter 93'\n",
            "  Pseudopotential type: HGH-K\n",
            "  Radii of active regions (AU):\n",
            "    Coarse: 1.37026\n",
            "    Coarse PSP: 0.67533\n",
            "    Fine: 0.2566\n",
            "    Source: Hard-Coded\n",
            "  Symbol: N\n",
            "Quadrupole Moment (AU):\n",
            "  Q matrix:\n",
            "  - - 1.136\n",
            "    - -6.0873e-07\n",
            "    - -0.0002684\n",
            "  - - -6.0873e-07\n",
            "    - 1.136\n",
            "    - -0.0002684\n",
            "  - - -0.0002684\n",
            "    - -0.0002684\n",
            "    - -2.272\n",
            "  trace: 0.0\n",
            "Raw forces norm (Ha/Bohr):\n",
            "  fnrm2: 0.0002803969784791\n",
            "  maxval: 0.01184985563241\n",
            "Reference Paper: The Journal of Chemical Physics 129, 014109 (2008)\n",
            "Root process Hostname: localhost\n",
            "Self-Consistent Cycle Parameters:\n",
            "  Density/Potential:\n",
            "    Max. Iterations: 1\n",
            "  Wavefunction:\n",
            "    CG Steps for Preconditioner: 6\n",
            "    DIIS History length: 6\n",
            "    Gradient Norm Threshold: 0.0001\n",
            "    Input wavefunction policy: INPUT_PSI_LCAO\n",
            "    Max. Subspace Diagonalizations: 1\n",
            "    Max. Wfn Iterations: 50\n",
            "    Number of plotted density orbitals: 0\n",
            "    Output grid policy: NONE\n",
            "    Output wavefunction policy: NONE\n",
            "    Virtual orbitals: 0\n",
            "Sizes of the simulation domain:\n",
            "  AU:\n",
            "  - 16.2\n",
            "  - 16.2\n",
            "  - 18.3\n",
            "  Angstroem:\n",
            "  - 8.5727\n",
            "  - 8.5727\n",
            "  - 9.6839\n",
            "  Grid Spacing Units:\n",
            "  - 54\n",
            "  - 54\n",
            "  - 61\n",
            "  High resolution region boundaries (GU):\n",
            "    From:\n",
            "    - 22\n",
            "    - 22\n",
            "    - 22\n",
            "    To:\n",
            "    - 32\n",
            "    - 32\n",
            "    - 39\n",
            "Spin treatment: Averaged\n",
            "Spreads of the electronic density (AU):\n",
            "- 0.8724061\n",
            "- 0.8724061\n",
            "- 1.396506\n",
            "Timestamp of this run: 2022-09-07 14:48:30.018000\n",
            "Timings for root process:\n",
            "  CPU time (s): 19.73\n",
            "  Elapsed time (s): 19.83\n",
            "Total Number of Electrons: 10\n",
            "Total Number of Orbitals: 5\n",
            "Total electronic charge: 9.999999990726\n",
            "Total ionic charge: -10.0\n",
            "Version Number: 1.9.2\n",
            "Walltime since initialization: 19.878042757\n",
            "Wavefunctions Descriptors, full simulation domain:\n",
            "  Coarse resolution grid:\n",
            "    No. of points: 102710\n",
            "    No. of segments: 2746\n",
            "  Fine resolution grid:\n",
            "    No. of points: 1066\n",
            "    No. of segments: 154\n",
            "Wavefunctions memory occupation for root MPI process: 4 MB 207 KB 608 B\n",
            "chess:\n",
            "  foe:\n",
            "    accuracy_entropy: 0.0001\n",
            "    accuracy_foe: 1.0e-05\n",
            "    accuracy_ice: 1.0e-08\n",
            "    accuracy_penalty: 1.0e-05\n",
            "    adjust_fscale: true\n",
            "    betax_foe: -1000.0\n",
            "    betax_ice: -1000.0\n",
            "    ef_interpol_chargediff: 1.0\n",
            "    ef_interpol_det: 1.0e-12\n",
            "    eval_range_foe:\n",
            "    - -0.5\n",
            "    - 0.5\n",
            "    evbounds_nsatur: 3\n",
            "    evboundsshrink_nsatur: 4\n",
            "    fscale: 0.05\n",
            "    fscale_ediff_low: 5.0e-05\n",
            "    fscale_ediff_up: 0.0001\n",
            "    fscale_lowerbound: 0.005\n",
            "    fscale_upperbound: 0.05\n",
            "    matmul_optimize_load_balancing: false\n",
            "    occupation_function: 102\n",
            "  lapack:\n",
            "    blocksize_pdgemm: -8\n",
            "    blocksize_pdsyev: -8\n",
            "    maxproc_pdgemm: 4\n",
            "    maxproc_pdsyev: 4\n",
            "  ntpoly:\n",
            "    convergence_density: 1.0e-10\n",
            "    convergence_overlap: 1.0e-10\n",
            "    threshold_density: 0.0\n",
            "    threshold_overlap: 0.0\n",
            "dft:\n",
            "  alpha_hf: -1.0\n",
            "  calculate_strten: true\n",
            "  disablesym: false\n",
            "  dispersion: 0\n",
            "  elecfield:\n",
            "  - 0.0\n",
            "  - 0.0\n",
            "  - 0.0\n",
            "  external_potential: 0.0\n",
            "  gnrm_cv: 0.0001\n",
            "  gnrm_cv_virt: 0.0001\n",
            "  hgrids: 0.3\n",
            "  idsx: 6\n",
            "  inputpsiid: 0\n",
            "  itermax: 50\n",
            "  itermax_occ_ctrl: 0\n",
            "  itermax_virt: 50\n",
            "  itermin: 0\n",
            "  ixc: -20\n",
            "  mpol: 0\n",
            "  ncong: 6\n",
            "  ncongt: 30\n",
            "  ngrids:\n",
            "  - 0\n",
            "  - 0\n",
            "  - 0\n",
            "  norbv: 0\n",
            "  nplot: 0\n",
            "  nrepmax: 1\n",
            "  nrepmax_occ_ctrl: 1\n",
            "  nspin: 1\n",
            "  nvirt: 0\n",
            "  occupancy_control: None\n",
            "  output_denspot: 0\n",
            "  plot_mppot_axes:\n",
            "  - -1\n",
            "  - -1\n",
            "  - -1\n",
            "  plot_pot_axes:\n",
            "  - -1\n",
            "  - -1\n",
            "  - -1\n",
            "  projection: gaussian\n",
            "  qcharge: 0\n",
            "  rbuf: 0.0\n",
            "  rmult: 6\n",
            "geopt:\n",
            "  beta_stretchx: 5e-1\n",
            "  betax: 4.0\n",
            "  forcemax: 0.0\n",
            "  frac_fluct: 1.0\n",
            "  method: none\n",
            "  ncount_cluster_x: 1\n",
            "  randdis: 0.0\n",
            "kpt:\n",
            "  bands: false\n",
            "  kpt:\n",
            "  - - 0.0\n",
            "    - 0.0\n",
            "    - 0.0\n",
            "  method: manual\n",
            "  wkpt:\n",
            "  - 1.0\n",
            "lin_basis:\n",
            "  alpha_diis: 1.0\n",
            "  alpha_sd: 1.0\n",
            "  correction_orthoconstraint: 1\n",
            "  deltae_cv: 0.0001\n",
            "  extended_ig: false\n",
            "  fix_basis: 1.0e-10\n",
            "  gnrm_cv:\n",
            "  - 0.01\n",
            "  - 0.0001\n",
            "  gnrm_dyn: 0.0001\n",
            "  gnrm_ig: 0.001\n",
            "  idsx:\n",
            "  - 6\n",
            "  - 6\n",
            "  min_gnrm_for_dynamic: 0.001\n",
            "  nit:\n",
            "  - 4\n",
            "  - 5\n",
            "  nit_ig: 50\n",
            "  nstep_prec: 5\n",
            "  orthogonalize_ao: true\n",
            "  orthogonalize_sfs: true\n",
            "  reset_DIIS_history: false\n",
            "lin_basis_params:\n",
            "  ao_confinement: 0.0083\n",
            "  confinement:\n",
            "  - 0.0083\n",
            "  - 0.0\n",
            "  nbasis: 4\n",
            "  rloc:\n",
            "  - 7.0\n",
            "  - 7.0\n",
            "  rloc_kernel: 9.0\n",
            "  rloc_kernel_foe: 14.0\n",
            "lin_general:\n",
            "  calc_dipole: false\n",
            "  calc_quadrupole: false\n",
            "  calculate_FOE_eigenvalues:\n",
            "  - 0\n",
            "  - -1\n",
            "  calculate_onsite_overlap: false\n",
            "  cdft_add_w_guess: 0.0\n",
            "  charge_multipoles: 0\n",
            "  check_multipoles: true\n",
            "  conf_damping: -0.5\n",
            "  consider_entropy: false\n",
            "  extra_states: 0\n",
            "  frag_neighbour_cutoff: 12.0d0\n",
            "  frag_num_neighbours: 0\n",
            "  hybrid: false\n",
            "  kernel_restart_mode: 0\n",
            "  kernel_restart_noise: 0.0d0\n",
            "  max_inversion_error: 1.d0\n",
            "  multipole_centers: 0.0\n",
            "  nit:\n",
            "  - 100\n",
            "  - 100\n",
            "  output_coeff: 0\n",
            "  output_fragments: 0\n",
            "  output_mat: 0\n",
            "  output_matmul: false\n",
            "  output_multipole_matrices: true\n",
            "  output_wf: 0\n",
            "  plot_locreg_grids: false\n",
            "  precision_FOE_eigenvalues: 0.005\n",
            "  rpnrm_cv:\n",
            "  - 1.0e-12\n",
            "  - 1.0e-12\n",
            "  subspace_diag: false\n",
            "  support_function_multipoles: false\n",
            "  taylor_order: 0\n",
            "lin_kernel:\n",
            "  alpha_fit_coeff: false\n",
            "  alpha_sd_coeff: 0.2\n",
            "  alphamix:\n",
            "  - 0.5\n",
            "  - 0.5\n",
            "  coeff_scaling_factor: 1.0\n",
            "  delta_pnrm: -1.0\n",
            "  diag_start: false\n",
            "  gnrm_cv_coeff:\n",
            "  - 1.0e-05\n",
            "  - 1.0e-05\n",
            "  idsx:\n",
            "  - 0\n",
            "  - 0\n",
            "  idsx_coeff:\n",
            "  - 0\n",
            "  - 0\n",
            "  linear_method: DIAG\n",
            "  mixing_method: DEN\n",
            "  nit:\n",
            "  - 5\n",
            "  - 5\n",
            "  nstep:\n",
            "  - 1\n",
            "  - 1\n",
            "  rpnrm_cv:\n",
            "  - 1.0e-10\n",
            "  - 1.0e-10\n",
            "logfile: true\n",
            "md:\n",
            "  always_from_scratch: false\n",
            "  mdsteps: 0\n",
            "  no_translation: false\n",
            "  print_frequency: 1\n",
            "  restart_nose: false\n",
            "  restart_pos: false\n",
            "  restart_vel: false\n",
            "  temperature: 300.d0\n",
            "  thermostat: none\n",
            "  timestep: 20.d0\n",
            "  wavefunction_extrapolation: 0\n",
            "mix:\n",
            "  alphadiis: 2.0\n",
            "  alphamix: 0.0\n",
            "  diis_sd_switch_tolerance: 0\n",
            "  iscf: 0\n",
            "  itrpmax: 1\n",
            "  norbsempty: 0\n",
            "  occopt: 1\n",
            "  rpnrm_cv: 0.0001\n",
            "  tel: 0.0\n",
            "mode:\n",
            "  add_coulomb_force: false\n",
            "  method: dft\n",
            "outdir: ./\n",
            "output:\n",
            "  apply_coeffs: true\n",
            "  atomic_density_matrix: None\n",
            "  coupling_matrix: complete\n",
            "  orbitals: None\n",
            "  outputpsiid: wavefunction\n",
            "  sdos: false\n",
            "  verbosity: 2\n",
            "perf:\n",
            "  FOE_restart: 0\n",
            "  accel: false\n",
            "  adjust_kernel_iterations: true\n",
            "  adjust_kernel_threshold: true\n",
            "  blas: false\n",
            "  calculate_KS_residue: true\n",
            "  calculate_forces: true\n",
            "  calculate_gap: false\n",
            "  check_matrix_compression: true\n",
            "  check_overlap: 1\n",
            "  check_sumrho: 1\n",
            "  coeff_weight_analysis: false\n",
            "  correction_co_contra: true\n",
            "  debug: false\n",
            "  domain: null\n",
            "  enable_matrix_taskgroups: true\n",
            "  exctxpar: OP2P\n",
            "  experimental_mode: false\n",
            "  explicit_locregcenters: false\n",
            "  fftcache: 8192\n",
            "  foe_gap: false\n",
            "  hamapp_radius_incr: 8\n",
            "  ig_blocks:\n",
            "  - 300\n",
            "  - 800\n",
            "  ig_diag: true\n",
            "  ig_norbp: 5\n",
            "  ig_tol: 0.0001\n",
            "  imethod_overlap: 1\n",
            "  inguess_geopt: 0\n",
            "  intermediate_forces: false\n",
            "  iterative_orthogonalization: false\n",
            "  kappa_conv: 0.1\n",
            "  linear: false\n",
            "  loewdin_charge_analysis: false\n",
            "  methortho: 0\n",
            "  mixing_after_inputguess: 1\n",
            "  mp_isf: 16\n",
            "  multipole_preserving: false\n",
            "  ocl_devices: null\n",
            "  ocl_platform: null\n",
            "  projrad: 15.0\n",
            "  psp_onfly: true\n",
            "  rho_commun: DEF\n",
            "  signaling: false\n",
            "  signaltimeout: 0\n",
            "  store_index: true\n",
            "  store_overlap_matrices: true\n",
            "  tolsym: 1.0e-08\n",
            "  unblock_comms: false\n",
            "  wf_extent_analysis: false\n",
            "posinp:\n",
            "  cell:\n",
            "  - .inf\n",
            "  - .inf\n",
            "  - .inf\n",
            "  positions:\n",
            "  - N:\n",
            "    - 0.0\n",
            "    - 0.0\n",
            "    - 0.5488\n",
            "    frag:\n",
            "    - N\n",
            "    - 0\n",
            "  - N:\n",
            "    - 0.0\n",
            "    - 0.0\n",
            "    - -0.5488\n",
            "    frag:\n",
            "    - N\n",
            "    - 1\n",
            "  properties:\n",
            "    format: yaml\n",
            "    source: xc__LDA.yaml\n",
            "  units: angstroem\n",
            "psolver:\n",
            "  environment:\n",
            "    cavity: none\n",
            "    fd_order: 16\n",
            "    itermax: 200\n",
            "    minres: 1.0e-08\n",
            "    pb_method: none\n",
            "  kernel:\n",
            "    isf_order: 16\n",
            "    screening: 0\n",
            "    stress_tensor: true\n",
            "  setup:\n",
            "    accel: none\n",
            "    global_data: false\n",
            "    output: none\n",
            "    taskgroup_size: 0\n",
            "    verbose: true\n",
            "psppar.N:\n",
            "  Atomic number: 7\n",
            "  Local Pseudo Potential (HGH convention):\n",
            "    Coefficients (c1 .. c4):\n",
            "    - -12.23481988\n",
            "    - 1.76640728\n",
            "    - 0.0\n",
            "    - 0.0\n",
            "    Rloc: 0.28917923\n",
            "  No. of Electrons: 5\n",
            "  NonLocal PSP Parameters:\n",
            "  - Channel (l): 0\n",
            "    Rloc: 0.25660487\n",
            "    h_ij terms:\n",
            "    - 13.55224272\n",
            "    - 0.0\n",
            "    - 0.0\n",
            "    - 0.0\n",
            "    - 0.0\n",
            "    - 0.0\n",
            "  - Channel (l): 1\n",
            "    Rloc: 0.27013369\n",
            "    h_ij terms:\n",
            "    - 0.0\n",
            "    - 0.0\n",
            "    - 0.0\n",
            "    - 0.0\n",
            "    - 0.0\n",
            "    - 0.0\n",
            "  Pseudopotential XC: 1\n",
            "  Pseudopotential type: HGH-K\n",
            "  Radii of active regions (AU):\n",
            "    Coarse: 1.370256482166319\n",
            "    Coarse PSP: 0.675334225\n",
            "    Fine: 0.25660487\n",
            "    Source: Hard-Coded\n",
            "  Source: Hard-Coded\n",
            "radical: xc__LDA\n",
            "run_from_files: true\n",
            "sic:\n",
            "  sic_alpha: 0.0\n",
            "  sic_approach: none\n",
            "skip: false\n",
            "tddft:\n",
            "  decompose_perturbation: none\n",
            "  tddft_approach: none\n",
            "\n"
          ]
        }
      ],
      "source": [
        "print(logfiles[0])\n",
        "print('-------------\\n')\n",
        "print(dump(logfiles[0].log))"
      ]
    },
    {
      "cell_type": "code",
      "execution_count": null,
      "id": "cc613871",
      "metadata": {
        "id": "cc613871",
        "outputId": "948c4ccd-d536-4fe6-89f5-ffaa81237900"
      },
      "outputs": [
        {
          "name": "stdout",
          "output_type": "stream",
          "text": [
            "LDA 274\n",
            "PBE 274\n",
            "HF 274\n",
            "PBE0 274\n"
          ]
        }
      ],
      "source": [
        "for log,xc in zip(logfiles,xc_list):\n",
        "    print(xc,log.log['Estimated Memory Peak (MB)'])"
      ]
    }
  ],
  "metadata": {
    "kernelspec": {
      "display_name": "Python 3 (ipykernel)",
      "language": "python",
      "name": "python3"
    },
    "language_info": {
      "codemirror_mode": {
        "name": "ipython",
        "version": 3
      },
      "file_extension": ".py",
      "mimetype": "text/x-python",
      "name": "python",
      "nbconvert_exporter": "python",
      "pygments_lexer": "ipython3",
      "version": "3.9.13"
    },
    "colab": {
      "provenance": [],
      "toc_visible": true
    }
  },
  "nbformat": 4,
  "nbformat_minor": 5
}