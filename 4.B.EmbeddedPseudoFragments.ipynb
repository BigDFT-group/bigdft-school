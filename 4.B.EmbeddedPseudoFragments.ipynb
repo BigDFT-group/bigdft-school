{
  "cells": [
    {
      "cell_type": "markdown",
      "metadata": {
        "id": "EJQAHEg-aKdj"
      },
      "source": [
        "# The Embedded Pseudo-Fragment Approach: 1D Carbon Chain\n",
        "\n",
        "In this tutorial you will learn how to use the embedded pseudo-fragment approach of BigDFT, which generates optimised support functions for a template which is _embedded_ in a representative system, and then uses them as a fixed basis for a larger system. In this tutorial, we consider both a periodic and finite chain of carbon atoms.\n",
        "\n",
        "This tutorial follows the methodology described in L. E. Ratcliff and L. Genovese, J. Phys.: Condens. Matter 31, 285901 (2019).\n",
        "\n",
        "This tutorial follows on from the tutorial on molecular fragments, and thus also has the same prerequisites.\n",
        "\n",
        "\n",
        "Notebook by Dr. Laura Ratcliff. "
      ]
    },
    {
      "cell_type": "code",
      "source": [
        "install = \"client (Google drive)\" #@param [\"full_suite\", \"client (Google drive)\", \"client\"]\n",
        "install_var=install\n",
        "!wget https://gitlab.com/luigigenovese/bigdft-school/-/raw/main/packaging/install.py &> /dev/null\n",
        "args={'locally': True} if install == 'client' else {}\n",
        "import install\n",
        "getattr(install,install_var.split()[0])(**args)"
      ],
      "metadata": {
        "cellView": "form",
        "id": "4Ap7fjgFaM8O",
        "outputId": "1d06c526-0b27-4338-ae04-346c2512d343",
        "colab": {
          "base_uri": "https://localhost:8080/"
        }
      },
      "execution_count": 1,
      "outputs": [
        {
          "output_type": "stream",
          "name": "stdout",
          "text": [
            "Mounted at /content/drive\n",
            "Executing: mkdir -p /content/drive/MyDrive\n",
            "\n",
            "Executing: git clone --depth 1 https://github.com/BigDFT-group/bigdft-school\n",
            "Error Occurred:  \n",
            " fatal: destination path 'bigdft-school' already exists and is not an empty directory.\n",
            "\n",
            "Executing: mkdir -p /content/drive/MyDrive/bigdft-school\n",
            "\n"
          ]
        }
      ]
    },
    {
      "cell_type": "code",
      "source": [
        "install.data('data/carbon_chain.tar.gz')"
      ],
      "metadata": {
        "id": "ZzssGah2aTAF"
      },
      "execution_count": 3,
      "outputs": []
    },
    {
      "cell_type": "markdown",
      "metadata": {
        "id": "XqJVExmcaKdo"
      },
      "source": [
        "## Periodic Carbon Chain\n",
        "\n",
        "### System Construction\n",
        "\n",
        "In order to demonstrate the differences compared to the molecular fragment approach, first we will consider a simple model system, namely a periodic chain of C atoms. Using the tools introduced in the System Generation tutorial, we'll first construct the system."
      ]
    },
    {
      "cell_type": "code",
      "execution_count": 4,
      "metadata": {
        "id": "dZne0NGxaKdp"
      },
      "outputs": [],
      "source": [
        "from BigDFT.Systems import System\n",
        "from BigDFT.UnitCells import UnitCell\n",
        "from BigDFT.Fragments import Fragment\n",
        "from BigDFT.Atoms import Atom\n",
        "\n",
        "# let's define a function so we can easily reuse it\n",
        "def create_periodic_chain(bond_length, nat):\n",
        "    \n",
        "    # first we create a system\n",
        "    periodic_chain = System()\n",
        "\n",
        "    # and calculate the cell length\n",
        "    cell_length = nat * bond_length\n",
        "\n",
        "    # using this, we can construct a system, where each atom will be its own fragment\n",
        "    for iat in range(nat):\n",
        "        atom = Atom({\"sym\": \"C\", \"r\": [0.0, 0.0, iat * bond_length], \"units\": \"angstroem\"})\n",
        "        periodic_chain[\"FRA:\"+str(iat)] = Fragment([atom])\n",
        "\n",
        "    # the chain is aligned along the z-axis, so we can use 1D boundary conditions\n",
        "    periodic_chain.cell = UnitCell([float(\"inf\"), float(\"inf\"), cell_length], units=\"angstroem\")\n",
        "    \n",
        "    return periodic_chain\n",
        "\n",
        "\n",
        "# we'll now define some parameters for our chain\n",
        "bond_length = 1.5\n",
        "nat = 20\n",
        "periodic_chain = create_periodic_chain(bond_length, nat)"
      ]
    },
    {
      "cell_type": "markdown",
      "metadata": {
        "id": "c4JqFNQJaKdq"
      },
      "source": [
        "Let's take a look at the system."
      ]
    },
    {
      "cell_type": "code",
      "execution_count": 5,
      "metadata": {
        "id": "SqLUg2VGaKdr",
        "outputId": "1f169adb-b4dd-41b7-9400-0eaaf9df3693",
        "colab": {
          "base_uri": "https://localhost:8080/",
          "height": 117
        }
      },
      "outputs": [
        {
          "output_type": "display_data",
          "data": {
            "application/3dmoljs_load.v0": "<div id=\"3dmolviewer_16637866793258305\"  style=\"position: relative; width: 400px; height: 100px\">\n        <p id=\"3dmolwarning_16637866793258305\" style=\"background-color:#ffcccc;color:black\">You appear to be running in JupyterLab (or JavaScript failed to load for some other reason).  You need to install the 3dmol extension: <br>\n        <tt>jupyter labextension install jupyterlab_3dmol</tt></p>\n        </div>\n<script>\n\nvar loadScriptAsync = function(uri){\n  return new Promise((resolve, reject) => {\n    var tag = document.createElement('script');\n    tag.src = uri;\n    tag.async = true;\n    tag.onload = () => {\n      resolve();\n    };\n  var firstScriptTag = document.getElementsByTagName('script')[0];\n  firstScriptTag.parentNode.insertBefore(tag, firstScriptTag);\n});\n};\n\nif(typeof $3Dmolpromise === 'undefined') {\n$3Dmolpromise = null;\n  $3Dmolpromise = loadScriptAsync('https://cdn.jsdelivr.net/npm/3dmol@latest/build/3Dmol-min.min.js');\n}\n\nvar viewer_16637866793258305 = null;\nvar warn = document.getElementById(\"3dmolwarning_16637866793258305\");\nif(warn) {\n    warn.parentNode.removeChild(warn);\n}\n$3Dmolpromise.then(function() {\nvar viewergrid_16637866793258305 = null;\nviewergrid_16637866793258305 = $3Dmol.createViewerGrid($(\"#3dmolviewer_16637866793258305\"),{rows: 1, cols: 1, control_all: false},{backgroundColor:\"white\"});\nviewer_16637866793258305 = viewergrid_16637866793258305[0][0];\nviewergrid_16637866793258305[0][0].zoomTo();\tviewergrid_16637866793258305[0][0].addModelsAsFrames(\"MODEL 0\\nCRYST1      inf      inf   30.000     90     90     90                          \\nHETATM    1 C    FRA A   0       0.000   0.000   0.000  1.00  0.00       B   C  \\nHETATM    2 C    FRA A   1       0.000   0.000   1.500  1.00  0.00       B   C  \\nHETATM    3 C    FRA A   2       0.000   0.000   3.000  1.00  0.00       B   C  \\nHETATM    4 C    FRA A   3       0.000   0.000   4.500  1.00  0.00       B   C  \\nHETATM    5 C    FRA A   4       0.000   0.000   6.000  1.00  0.00       B   C  \\nHETATM    6 C    FRA A   5       0.000   0.000   7.500  1.00  0.00       B   C  \\nHETATM    7 C    FRA A   6       0.000   0.000   9.000  1.00  0.00       B   C  \\nHETATM    8 C    FRA A   7       0.000   0.000  10.500  1.00  0.00       B   C  \\nHETATM    9 C    FRA A   8       0.000   0.000  12.000  1.00  0.00       B   C  \\nHETATM   10 C    FRA A   9       0.000   0.000  13.500  1.00  0.00       B   C  \\nHETATM   11 C    FRA A  10       0.000   0.000  15.000  1.00  0.00       B   C  \\nHETATM   12 C    FRA A  11       0.000   0.000  16.500  1.00  0.00       B   C  \\nHETATM   13 C    FRA A  12       0.000   0.000  18.000  1.00  0.00       B   C  \\nHETATM   14 C    FRA A  13       0.000   0.000  19.500  1.00  0.00       B   C  \\nHETATM   15 C    FRA A  14       0.000   0.000  21.000  1.00  0.00       B   C  \\nHETATM   16 C    FRA A  15       0.000   0.000  22.500  1.00  0.00       B   C  \\nHETATM   17 C    FRA A  16       0.000   0.000  24.000  1.00  0.00       B   C  \\nHETATM   18 C    FRA A  17       0.000   0.000  25.500  1.00  0.00       B   C  \\nHETATM   19 C    FRA A  18       0.000   0.000  27.000  1.00  0.00       B   C  \\nHETATM   20 C    FRA A  19       0.000   0.000  28.500  1.00  0.00       B   C  \\nENDMDL\\n\",\"pdb\",{\"keepH\": \"true\"});\n\tviewergrid_16637866793258305[0][0].setStyle({\"model\": -1},{\"line\": {\"color\": \"black\"}});\n\tviewergrid_16637866793258305[0][0].addModelsAsFrames(\"MODEL 0\\nCRYST1      inf      inf   30.000     90     90     90                          \\nHETATM    1 C    FRA A   0       0.000   0.000   0.000  1.00  0.00       B   C  \\nHETATM    2 C    FRA A   1       0.000   0.000   1.500  1.00  0.00       B   C  \\nHETATM    3 C    FRA A   2       0.000   0.000   3.000  1.00  0.00       B   C  \\nHETATM    4 C    FRA A   3       0.000   0.000   4.500  1.00  0.00       B   C  \\nHETATM    5 C    FRA A   4       0.000   0.000   6.000  1.00  0.00       B   C  \\nHETATM    6 C    FRA A   5       0.000   0.000   7.500  1.00  0.00       B   C  \\nHETATM    7 C    FRA A   6       0.000   0.000   9.000  1.00  0.00       B   C  \\nHETATM    8 C    FRA A   7       0.000   0.000  10.500  1.00  0.00       B   C  \\nHETATM    9 C    FRA A   8       0.000   0.000  12.000  1.00  0.00       B   C  \\nHETATM   10 C    FRA A   9       0.000   0.000  13.500  1.00  0.00       B   C  \\nHETATM   11 C    FRA A  10       0.000   0.000  15.000  1.00  0.00       B   C  \\nHETATM   12 C    FRA A  11       0.000   0.000  16.500  1.00  0.00       B   C  \\nHETATM   13 C    FRA A  12       0.000   0.000  18.000  1.00  0.00       B   C  \\nHETATM   14 C    FRA A  13       0.000   0.000  19.500  1.00  0.00       B   C  \\nHETATM   15 C    FRA A  14       0.000   0.000  21.000  1.00  0.00       B   C  \\nHETATM   16 C    FRA A  15       0.000   0.000  22.500  1.00  0.00       B   C  \\nHETATM   17 C    FRA A  16       0.000   0.000  24.000  1.00  0.00       B   C  \\nHETATM   18 C    FRA A  17       0.000   0.000  25.500  1.00  0.00       B   C  \\nHETATM   19 C    FRA A  18       0.000   0.000  27.000  1.00  0.00       B   C  \\nHETATM   20 C    FRA A  19       0.000   0.000  28.500  1.00  0.00       B   C  \\nENDMDL\\n\",\"pdb\",{\"keepH\": \"true\"});\n\tviewergrid_16637866793258305[0][0].setStyle({\"model\": -1, \"serial\": 1},{\"sphere\": {\"scale\": 0.2, \"color\": \"#7F00FF\"}});\n\tviewergrid_16637866793258305[0][0].addModelsAsFrames(\"MODEL 0\\nCRYST1      inf      inf   30.000     90     90     90                          \\nHETATM    1 C    FRA A   0       0.000   0.000   0.000  1.00  0.00       B   C  \\nHETATM    2 C    FRA A   1       0.000   0.000   1.500  1.00  0.00       B   C  \\nHETATM    3 C    FRA A   2       0.000   0.000   3.000  1.00  0.00       B   C  \\nHETATM    4 C    FRA A   3       0.000   0.000   4.500  1.00  0.00       B   C  \\nHETATM    5 C    FRA A   4       0.000   0.000   6.000  1.00  0.00       B   C  \\nHETATM    6 C    FRA A   5       0.000   0.000   7.500  1.00  0.00       B   C  \\nHETATM    7 C    FRA A   6       0.000   0.000   9.000  1.00  0.00       B   C  \\nHETATM    8 C    FRA A   7       0.000   0.000  10.500  1.00  0.00       B   C  \\nHETATM    9 C    FRA A   8       0.000   0.000  12.000  1.00  0.00       B   C  \\nHETATM   10 C    FRA A   9       0.000   0.000  13.500  1.00  0.00       B   C  \\nHETATM   11 C    FRA A  10       0.000   0.000  15.000  1.00  0.00       B   C  \\nHETATM   12 C    FRA A  11       0.000   0.000  16.500  1.00  0.00       B   C  \\nHETATM   13 C    FRA A  12       0.000   0.000  18.000  1.00  0.00       B   C  \\nHETATM   14 C    FRA A  13       0.000   0.000  19.500  1.00  0.00       B   C  \\nHETATM   15 C    FRA A  14       0.000   0.000  21.000  1.00  0.00       B   C  \\nHETATM   16 C    FRA A  15       0.000   0.000  22.500  1.00  0.00       B   C  \\nHETATM   17 C    FRA A  16       0.000   0.000  24.000  1.00  0.00       B   C  \\nHETATM   18 C    FRA A  17       0.000   0.000  25.500  1.00  0.00       B   C  \\nHETATM   19 C    FRA A  18       0.000   0.000  27.000  1.00  0.00       B   C  \\nHETATM   20 C    FRA A  19       0.000   0.000  28.500  1.00  0.00       B   C  \\nENDMDL\\n\",\"pdb\",{\"keepH\": \"true\"});\n\tviewergrid_16637866793258305[0][0].setStyle({\"model\": -1},{\"line\": {\"color\": \"black\"}});\n\tviewergrid_16637866793258305[0][0].addModelsAsFrames(\"MODEL 0\\nCRYST1      inf      inf   30.000     90     90     90                          \\nHETATM    1 C    FRA A   0       0.000   0.000   0.000  1.00  0.00       B   C  \\nHETATM    2 C    FRA A   1       0.000   0.000   1.500  1.00  0.00       B   C  \\nHETATM    3 C    FRA A   2       0.000   0.000   3.000  1.00  0.00       B   C  \\nHETATM    4 C    FRA A   3       0.000   0.000   4.500  1.00  0.00       B   C  \\nHETATM    5 C    FRA A   4       0.000   0.000   6.000  1.00  0.00       B   C  \\nHETATM    6 C    FRA A   5       0.000   0.000   7.500  1.00  0.00       B   C  \\nHETATM    7 C    FRA A   6       0.000   0.000   9.000  1.00  0.00       B   C  \\nHETATM    8 C    FRA A   7       0.000   0.000  10.500  1.00  0.00       B   C  \\nHETATM    9 C    FRA A   8       0.000   0.000  12.000  1.00  0.00       B   C  \\nHETATM   10 C    FRA A   9       0.000   0.000  13.500  1.00  0.00       B   C  \\nHETATM   11 C    FRA A  10       0.000   0.000  15.000  1.00  0.00       B   C  \\nHETATM   12 C    FRA A  11       0.000   0.000  16.500  1.00  0.00       B   C  \\nHETATM   13 C    FRA A  12       0.000   0.000  18.000  1.00  0.00       B   C  \\nHETATM   14 C    FRA A  13       0.000   0.000  19.500  1.00  0.00       B   C  \\nHETATM   15 C    FRA A  14       0.000   0.000  21.000  1.00  0.00       B   C  \\nHETATM   16 C    FRA A  15       0.000   0.000  22.500  1.00  0.00       B   C  \\nHETATM   17 C    FRA A  16       0.000   0.000  24.000  1.00  0.00       B   C  \\nHETATM   18 C    FRA A  17       0.000   0.000  25.500  1.00  0.00       B   C  \\nHETATM   19 C    FRA A  18       0.000   0.000  27.000  1.00  0.00       B   C  \\nHETATM   20 C    FRA A  19       0.000   0.000  28.500  1.00  0.00       B   C  \\nENDMDL\\n\",\"pdb\",{\"keepH\": \"true\"});\n\tviewergrid_16637866793258305[0][0].setStyle({\"model\": -1, \"serial\": 2},{\"sphere\": {\"scale\": 0.2, \"color\": \"#6528FE\"}});\n\tviewergrid_16637866793258305[0][0].addModelsAsFrames(\"MODEL 0\\nCRYST1      inf      inf   30.000     90     90     90                          \\nHETATM    1 C    FRA A   0       0.000   0.000   0.000  1.00  0.00       B   C  \\nHETATM    2 C    FRA A   1       0.000   0.000   1.500  1.00  0.00       B   C  \\nHETATM    3 C    FRA A   2       0.000   0.000   3.000  1.00  0.00       B   C  \\nHETATM    4 C    FRA A   3       0.000   0.000   4.500  1.00  0.00       B   C  \\nHETATM    5 C    FRA A   4       0.000   0.000   6.000  1.00  0.00       B   C  \\nHETATM    6 C    FRA A   5       0.000   0.000   7.500  1.00  0.00       B   C  \\nHETATM    7 C    FRA A   6       0.000   0.000   9.000  1.00  0.00       B   C  \\nHETATM    8 C    FRA A   7       0.000   0.000  10.500  1.00  0.00       B   C  \\nHETATM    9 C    FRA A   8       0.000   0.000  12.000  1.00  0.00       B   C  \\nHETATM   10 C    FRA A   9       0.000   0.000  13.500  1.00  0.00       B   C  \\nHETATM   11 C    FRA A  10       0.000   0.000  15.000  1.00  0.00       B   C  \\nHETATM   12 C    FRA A  11       0.000   0.000  16.500  1.00  0.00       B   C  \\nHETATM   13 C    FRA A  12       0.000   0.000  18.000  1.00  0.00       B   C  \\nHETATM   14 C    FRA A  13       0.000   0.000  19.500  1.00  0.00       B   C  \\nHETATM   15 C    FRA A  14       0.000   0.000  21.000  1.00  0.00       B   C  \\nHETATM   16 C    FRA A  15       0.000   0.000  22.500  1.00  0.00       B   C  \\nHETATM   17 C    FRA A  16       0.000   0.000  24.000  1.00  0.00       B   C  \\nHETATM   18 C    FRA A  17       0.000   0.000  25.500  1.00  0.00       B   C  \\nHETATM   19 C    FRA A  18       0.000   0.000  27.000  1.00  0.00       B   C  \\nHETATM   20 C    FRA A  19       0.000   0.000  28.500  1.00  0.00       B   C  \\nENDMDL\\n\",\"pdb\",{\"keepH\": \"true\"});\n\tviewergrid_16637866793258305[0][0].setStyle({\"model\": -1},{\"line\": {\"color\": \"black\"}});\n\tviewergrid_16637866793258305[0][0].addModelsAsFrames(\"MODEL 0\\nCRYST1      inf      inf   30.000     90     90     90                          \\nHETATM    1 C    FRA A   0       0.000   0.000   0.000  1.00  0.00       B   C  \\nHETATM    2 C    FRA A   1       0.000   0.000   1.500  1.00  0.00       B   C  \\nHETATM    3 C    FRA A   2       0.000   0.000   3.000  1.00  0.00       B   C  \\nHETATM    4 C    FRA A   3       0.000   0.000   4.500  1.00  0.00       B   C  \\nHETATM    5 C    FRA A   4       0.000   0.000   6.000  1.00  0.00       B   C  \\nHETATM    6 C    FRA A   5       0.000   0.000   7.500  1.00  0.00       B   C  \\nHETATM    7 C    FRA A   6       0.000   0.000   9.000  1.00  0.00       B   C  \\nHETATM    8 C    FRA A   7       0.000   0.000  10.500  1.00  0.00       B   C  \\nHETATM    9 C    FRA A   8       0.000   0.000  12.000  1.00  0.00       B   C  \\nHETATM   10 C    FRA A   9       0.000   0.000  13.500  1.00  0.00       B   C  \\nHETATM   11 C    FRA A  10       0.000   0.000  15.000  1.00  0.00       B   C  \\nHETATM   12 C    FRA A  11       0.000   0.000  16.500  1.00  0.00       B   C  \\nHETATM   13 C    FRA A  12       0.000   0.000  18.000  1.00  0.00       B   C  \\nHETATM   14 C    FRA A  13       0.000   0.000  19.500  1.00  0.00       B   C  \\nHETATM   15 C    FRA A  14       0.000   0.000  21.000  1.00  0.00       B   C  \\nHETATM   16 C    FRA A  15       0.000   0.000  22.500  1.00  0.00       B   C  \\nHETATM   17 C    FRA A  16       0.000   0.000  24.000  1.00  0.00       B   C  \\nHETATM   18 C    FRA A  17       0.000   0.000  25.500  1.00  0.00       B   C  \\nHETATM   19 C    FRA A  18       0.000   0.000  27.000  1.00  0.00       B   C  \\nHETATM   20 C    FRA A  19       0.000   0.000  28.500  1.00  0.00       B   C  \\nENDMDL\\n\",\"pdb\",{\"keepH\": \"true\"});\n\tviewergrid_16637866793258305[0][0].setStyle({\"model\": -1, \"serial\": 3},{\"sphere\": {\"scale\": 0.2, \"color\": \"#4B50FB\"}});\n\tviewergrid_16637866793258305[0][0].addModelsAsFrames(\"MODEL 0\\nCRYST1      inf      inf   30.000     90     90     90                          \\nHETATM    1 C    FRA A   0       0.000   0.000   0.000  1.00  0.00       B   C  \\nHETATM    2 C    FRA A   1       0.000   0.000   1.500  1.00  0.00       B   C  \\nHETATM    3 C    FRA A   2       0.000   0.000   3.000  1.00  0.00       B   C  \\nHETATM    4 C    FRA A   3       0.000   0.000   4.500  1.00  0.00       B   C  \\nHETATM    5 C    FRA A   4       0.000   0.000   6.000  1.00  0.00       B   C  \\nHETATM    6 C    FRA A   5       0.000   0.000   7.500  1.00  0.00       B   C  \\nHETATM    7 C    FRA A   6       0.000   0.000   9.000  1.00  0.00       B   C  \\nHETATM    8 C    FRA A   7       0.000   0.000  10.500  1.00  0.00       B   C  \\nHETATM    9 C    FRA A   8       0.000   0.000  12.000  1.00  0.00       B   C  \\nHETATM   10 C    FRA A   9       0.000   0.000  13.500  1.00  0.00       B   C  \\nHETATM   11 C    FRA A  10       0.000   0.000  15.000  1.00  0.00       B   C  \\nHETATM   12 C    FRA A  11       0.000   0.000  16.500  1.00  0.00       B   C  \\nHETATM   13 C    FRA A  12       0.000   0.000  18.000  1.00  0.00       B   C  \\nHETATM   14 C    FRA A  13       0.000   0.000  19.500  1.00  0.00       B   C  \\nHETATM   15 C    FRA A  14       0.000   0.000  21.000  1.00  0.00       B   C  \\nHETATM   16 C    FRA A  15       0.000   0.000  22.500  1.00  0.00       B   C  \\nHETATM   17 C    FRA A  16       0.000   0.000  24.000  1.00  0.00       B   C  \\nHETATM   18 C    FRA A  17       0.000   0.000  25.500  1.00  0.00       B   C  \\nHETATM   19 C    FRA A  18       0.000   0.000  27.000  1.00  0.00       B   C  \\nHETATM   20 C    FRA A  19       0.000   0.000  28.500  1.00  0.00       B   C  \\nENDMDL\\n\",\"pdb\",{\"keepH\": \"true\"});\n\tviewergrid_16637866793258305[0][0].setStyle({\"model\": -1},{\"line\": {\"color\": \"black\"}});\n\tviewergrid_16637866793258305[0][0].addModelsAsFrames(\"MODEL 0\\nCRYST1      inf      inf   30.000     90     90     90                          \\nHETATM    1 C    FRA A   0       0.000   0.000   0.000  1.00  0.00       B   C  \\nHETATM    2 C    FRA A   1       0.000   0.000   1.500  1.00  0.00       B   C  \\nHETATM    3 C    FRA A   2       0.000   0.000   3.000  1.00  0.00       B   C  \\nHETATM    4 C    FRA A   3       0.000   0.000   4.500  1.00  0.00       B   C  \\nHETATM    5 C    FRA A   4       0.000   0.000   6.000  1.00  0.00       B   C  \\nHETATM    6 C    FRA A   5       0.000   0.000   7.500  1.00  0.00       B   C  \\nHETATM    7 C    FRA A   6       0.000   0.000   9.000  1.00  0.00       B   C  \\nHETATM    8 C    FRA A   7       0.000   0.000  10.500  1.00  0.00       B   C  \\nHETATM    9 C    FRA A   8       0.000   0.000  12.000  1.00  0.00       B   C  \\nHETATM   10 C    FRA A   9       0.000   0.000  13.500  1.00  0.00       B   C  \\nHETATM   11 C    FRA A  10       0.000   0.000  15.000  1.00  0.00       B   C  \\nHETATM   12 C    FRA A  11       0.000   0.000  16.500  1.00  0.00       B   C  \\nHETATM   13 C    FRA A  12       0.000   0.000  18.000  1.00  0.00       B   C  \\nHETATM   14 C    FRA A  13       0.000   0.000  19.500  1.00  0.00       B   C  \\nHETATM   15 C    FRA A  14       0.000   0.000  21.000  1.00  0.00       B   C  \\nHETATM   16 C    FRA A  15       0.000   0.000  22.500  1.00  0.00       B   C  \\nHETATM   17 C    FRA A  16       0.000   0.000  24.000  1.00  0.00       B   C  \\nHETATM   18 C    FRA A  17       0.000   0.000  25.500  1.00  0.00       B   C  \\nHETATM   19 C    FRA A  18       0.000   0.000  27.000  1.00  0.00       B   C  \\nHETATM   20 C    FRA A  19       0.000   0.000  28.500  1.00  0.00       B   C  \\nENDMDL\\n\",\"pdb\",{\"keepH\": \"true\"});\n\tviewergrid_16637866793258305[0][0].setStyle({\"model\": -1, \"serial\": 4},{\"sphere\": {\"scale\": 0.2, \"color\": \"#2F78F7\"}});\n\tviewergrid_16637866793258305[0][0].addModelsAsFrames(\"MODEL 0\\nCRYST1      inf      inf   30.000     90     90     90                          \\nHETATM    1 C    FRA A   0       0.000   0.000   0.000  1.00  0.00       B   C  \\nHETATM    2 C    FRA A   1       0.000   0.000   1.500  1.00  0.00       B   C  \\nHETATM    3 C    FRA A   2       0.000   0.000   3.000  1.00  0.00       B   C  \\nHETATM    4 C    FRA A   3       0.000   0.000   4.500  1.00  0.00       B   C  \\nHETATM    5 C    FRA A   4       0.000   0.000   6.000  1.00  0.00       B   C  \\nHETATM    6 C    FRA A   5       0.000   0.000   7.500  1.00  0.00       B   C  \\nHETATM    7 C    FRA A   6       0.000   0.000   9.000  1.00  0.00       B   C  \\nHETATM    8 C    FRA A   7       0.000   0.000  10.500  1.00  0.00       B   C  \\nHETATM    9 C    FRA A   8       0.000   0.000  12.000  1.00  0.00       B   C  \\nHETATM   10 C    FRA A   9       0.000   0.000  13.500  1.00  0.00       B   C  \\nHETATM   11 C    FRA A  10       0.000   0.000  15.000  1.00  0.00       B   C  \\nHETATM   12 C    FRA A  11       0.000   0.000  16.500  1.00  0.00       B   C  \\nHETATM   13 C    FRA A  12       0.000   0.000  18.000  1.00  0.00       B   C  \\nHETATM   14 C    FRA A  13       0.000   0.000  19.500  1.00  0.00       B   C  \\nHETATM   15 C    FRA A  14       0.000   0.000  21.000  1.00  0.00       B   C  \\nHETATM   16 C    FRA A  15       0.000   0.000  22.500  1.00  0.00       B   C  \\nHETATM   17 C    FRA A  16       0.000   0.000  24.000  1.00  0.00       B   C  \\nHETATM   18 C    FRA A  17       0.000   0.000  25.500  1.00  0.00       B   C  \\nHETATM   19 C    FRA A  18       0.000   0.000  27.000  1.00  0.00       B   C  \\nHETATM   20 C    FRA A  19       0.000   0.000  28.500  1.00  0.00       B   C  \\nENDMDL\\n\",\"pdb\",{\"keepH\": \"true\"});\n\tviewergrid_16637866793258305[0][0].setStyle({\"model\": -1},{\"line\": {\"color\": \"black\"}});\n\tviewergrid_16637866793258305[0][0].addModelsAsFrames(\"MODEL 0\\nCRYST1      inf      inf   30.000     90     90     90                          \\nHETATM    1 C    FRA A   0       0.000   0.000   0.000  1.00  0.00       B   C  \\nHETATM    2 C    FRA A   1       0.000   0.000   1.500  1.00  0.00       B   C  \\nHETATM    3 C    FRA A   2       0.000   0.000   3.000  1.00  0.00       B   C  \\nHETATM    4 C    FRA A   3       0.000   0.000   4.500  1.00  0.00       B   C  \\nHETATM    5 C    FRA A   4       0.000   0.000   6.000  1.00  0.00       B   C  \\nHETATM    6 C    FRA A   5       0.000   0.000   7.500  1.00  0.00       B   C  \\nHETATM    7 C    FRA A   6       0.000   0.000   9.000  1.00  0.00       B   C  \\nHETATM    8 C    FRA A   7       0.000   0.000  10.500  1.00  0.00       B   C  \\nHETATM    9 C    FRA A   8       0.000   0.000  12.000  1.00  0.00       B   C  \\nHETATM   10 C    FRA A   9       0.000   0.000  13.500  1.00  0.00       B   C  \\nHETATM   11 C    FRA A  10       0.000   0.000  15.000  1.00  0.00       B   C  \\nHETATM   12 C    FRA A  11       0.000   0.000  16.500  1.00  0.00       B   C  \\nHETATM   13 C    FRA A  12       0.000   0.000  18.000  1.00  0.00       B   C  \\nHETATM   14 C    FRA A  13       0.000   0.000  19.500  1.00  0.00       B   C  \\nHETATM   15 C    FRA A  14       0.000   0.000  21.000  1.00  0.00       B   C  \\nHETATM   16 C    FRA A  15       0.000   0.000  22.500  1.00  0.00       B   C  \\nHETATM   17 C    FRA A  16       0.000   0.000  24.000  1.00  0.00       B   C  \\nHETATM   18 C    FRA A  17       0.000   0.000  25.500  1.00  0.00       B   C  \\nHETATM   19 C    FRA A  18       0.000   0.000  27.000  1.00  0.00       B   C  \\nHETATM   20 C    FRA A  19       0.000   0.000  28.500  1.00  0.00       B   C  \\nENDMDL\\n\",\"pdb\",{\"keepH\": \"true\"});\n\tviewergrid_16637866793258305[0][0].setStyle({\"model\": -1, \"serial\": 5},{\"sphere\": {\"scale\": 0.2, \"color\": \"#159AF1\"}});\n\tviewergrid_16637866793258305[0][0].addModelsAsFrames(\"MODEL 0\\nCRYST1      inf      inf   30.000     90     90     90                          \\nHETATM    1 C    FRA A   0       0.000   0.000   0.000  1.00  0.00       B   C  \\nHETATM    2 C    FRA A   1       0.000   0.000   1.500  1.00  0.00       B   C  \\nHETATM    3 C    FRA A   2       0.000   0.000   3.000  1.00  0.00       B   C  \\nHETATM    4 C    FRA A   3       0.000   0.000   4.500  1.00  0.00       B   C  \\nHETATM    5 C    FRA A   4       0.000   0.000   6.000  1.00  0.00       B   C  \\nHETATM    6 C    FRA A   5       0.000   0.000   7.500  1.00  0.00       B   C  \\nHETATM    7 C    FRA A   6       0.000   0.000   9.000  1.00  0.00       B   C  \\nHETATM    8 C    FRA A   7       0.000   0.000  10.500  1.00  0.00       B   C  \\nHETATM    9 C    FRA A   8       0.000   0.000  12.000  1.00  0.00       B   C  \\nHETATM   10 C    FRA A   9       0.000   0.000  13.500  1.00  0.00       B   C  \\nHETATM   11 C    FRA A  10       0.000   0.000  15.000  1.00  0.00       B   C  \\nHETATM   12 C    FRA A  11       0.000   0.000  16.500  1.00  0.00       B   C  \\nHETATM   13 C    FRA A  12       0.000   0.000  18.000  1.00  0.00       B   C  \\nHETATM   14 C    FRA A  13       0.000   0.000  19.500  1.00  0.00       B   C  \\nHETATM   15 C    FRA A  14       0.000   0.000  21.000  1.00  0.00       B   C  \\nHETATM   16 C    FRA A  15       0.000   0.000  22.500  1.00  0.00       B   C  \\nHETATM   17 C    FRA A  16       0.000   0.000  24.000  1.00  0.00       B   C  \\nHETATM   18 C    FRA A  17       0.000   0.000  25.500  1.00  0.00       B   C  \\nHETATM   19 C    FRA A  18       0.000   0.000  27.000  1.00  0.00       B   C  \\nHETATM   20 C    FRA A  19       0.000   0.000  28.500  1.00  0.00       B   C  \\nENDMDL\\n\",\"pdb\",{\"keepH\": \"true\"});\n\tviewergrid_16637866793258305[0][0].setStyle({\"model\": -1},{\"line\": {\"color\": \"black\"}});\n\tviewergrid_16637866793258305[0][0].addModelsAsFrames(\"MODEL 0\\nCRYST1      inf      inf   30.000     90     90     90                          \\nHETATM    1 C    FRA A   0       0.000   0.000   0.000  1.00  0.00       B   C  \\nHETATM    2 C    FRA A   1       0.000   0.000   1.500  1.00  0.00       B   C  \\nHETATM    3 C    FRA A   2       0.000   0.000   3.000  1.00  0.00       B   C  \\nHETATM    4 C    FRA A   3       0.000   0.000   4.500  1.00  0.00       B   C  \\nHETATM    5 C    FRA A   4       0.000   0.000   6.000  1.00  0.00       B   C  \\nHETATM    6 C    FRA A   5       0.000   0.000   7.500  1.00  0.00       B   C  \\nHETATM    7 C    FRA A   6       0.000   0.000   9.000  1.00  0.00       B   C  \\nHETATM    8 C    FRA A   7       0.000   0.000  10.500  1.00  0.00       B   C  \\nHETATM    9 C    FRA A   8       0.000   0.000  12.000  1.00  0.00       B   C  \\nHETATM   10 C    FRA A   9       0.000   0.000  13.500  1.00  0.00       B   C  \\nHETATM   11 C    FRA A  10       0.000   0.000  15.000  1.00  0.00       B   C  \\nHETATM   12 C    FRA A  11       0.000   0.000  16.500  1.00  0.00       B   C  \\nHETATM   13 C    FRA A  12       0.000   0.000  18.000  1.00  0.00       B   C  \\nHETATM   14 C    FRA A  13       0.000   0.000  19.500  1.00  0.00       B   C  \\nHETATM   15 C    FRA A  14       0.000   0.000  21.000  1.00  0.00       B   C  \\nHETATM   16 C    FRA A  15       0.000   0.000  22.500  1.00  0.00       B   C  \\nHETATM   17 C    FRA A  16       0.000   0.000  24.000  1.00  0.00       B   C  \\nHETATM   18 C    FRA A  17       0.000   0.000  25.500  1.00  0.00       B   C  \\nHETATM   19 C    FRA A  18       0.000   0.000  27.000  1.00  0.00       B   C  \\nHETATM   20 C    FRA A  19       0.000   0.000  28.500  1.00  0.00       B   C  \\nENDMDL\\n\",\"pdb\",{\"keepH\": \"true\"});\n\tviewergrid_16637866793258305[0][0].setStyle({\"model\": -1, \"serial\": 6},{\"sphere\": {\"scale\": 0.2, \"color\": \"#06BBE9\"}});\n\tviewergrid_16637866793258305[0][0].addModelsAsFrames(\"MODEL 0\\nCRYST1      inf      inf   30.000     90     90     90                          \\nHETATM    1 C    FRA A   0       0.000   0.000   0.000  1.00  0.00       B   C  \\nHETATM    2 C    FRA A   1       0.000   0.000   1.500  1.00  0.00       B   C  \\nHETATM    3 C    FRA A   2       0.000   0.000   3.000  1.00  0.00       B   C  \\nHETATM    4 C    FRA A   3       0.000   0.000   4.500  1.00  0.00       B   C  \\nHETATM    5 C    FRA A   4       0.000   0.000   6.000  1.00  0.00       B   C  \\nHETATM    6 C    FRA A   5       0.000   0.000   7.500  1.00  0.00       B   C  \\nHETATM    7 C    FRA A   6       0.000   0.000   9.000  1.00  0.00       B   C  \\nHETATM    8 C    FRA A   7       0.000   0.000  10.500  1.00  0.00       B   C  \\nHETATM    9 C    FRA A   8       0.000   0.000  12.000  1.00  0.00       B   C  \\nHETATM   10 C    FRA A   9       0.000   0.000  13.500  1.00  0.00       B   C  \\nHETATM   11 C    FRA A  10       0.000   0.000  15.000  1.00  0.00       B   C  \\nHETATM   12 C    FRA A  11       0.000   0.000  16.500  1.00  0.00       B   C  \\nHETATM   13 C    FRA A  12       0.000   0.000  18.000  1.00  0.00       B   C  \\nHETATM   14 C    FRA A  13       0.000   0.000  19.500  1.00  0.00       B   C  \\nHETATM   15 C    FRA A  14       0.000   0.000  21.000  1.00  0.00       B   C  \\nHETATM   16 C    FRA A  15       0.000   0.000  22.500  1.00  0.00       B   C  \\nHETATM   17 C    FRA A  16       0.000   0.000  24.000  1.00  0.00       B   C  \\nHETATM   18 C    FRA A  17       0.000   0.000  25.500  1.00  0.00       B   C  \\nHETATM   19 C    FRA A  18       0.000   0.000  27.000  1.00  0.00       B   C  \\nHETATM   20 C    FRA A  19       0.000   0.000  28.500  1.00  0.00       B   C  \\nENDMDL\\n\",\"pdb\",{\"keepH\": \"true\"});\n\tviewergrid_16637866793258305[0][0].setStyle({\"model\": -1},{\"line\": {\"color\": \"black\"}});\n\tviewergrid_16637866793258305[0][0].addModelsAsFrames(\"MODEL 0\\nCRYST1      inf      inf   30.000     90     90     90                          \\nHETATM    1 C    FRA A   0       0.000   0.000   0.000  1.00  0.00       B   C  \\nHETATM    2 C    FRA A   1       0.000   0.000   1.500  1.00  0.00       B   C  \\nHETATM    3 C    FRA A   2       0.000   0.000   3.000  1.00  0.00       B   C  \\nHETATM    4 C    FRA A   3       0.000   0.000   4.500  1.00  0.00       B   C  \\nHETATM    5 C    FRA A   4       0.000   0.000   6.000  1.00  0.00       B   C  \\nHETATM    6 C    FRA A   5       0.000   0.000   7.500  1.00  0.00       B   C  \\nHETATM    7 C    FRA A   6       0.000   0.000   9.000  1.00  0.00       B   C  \\nHETATM    8 C    FRA A   7       0.000   0.000  10.500  1.00  0.00       B   C  \\nHETATM    9 C    FRA A   8       0.000   0.000  12.000  1.00  0.00       B   C  \\nHETATM   10 C    FRA A   9       0.000   0.000  13.500  1.00  0.00       B   C  \\nHETATM   11 C    FRA A  10       0.000   0.000  15.000  1.00  0.00       B   C  \\nHETATM   12 C    FRA A  11       0.000   0.000  16.500  1.00  0.00       B   C  \\nHETATM   13 C    FRA A  12       0.000   0.000  18.000  1.00  0.00       B   C  \\nHETATM   14 C    FRA A  13       0.000   0.000  19.500  1.00  0.00       B   C  \\nHETATM   15 C    FRA A  14       0.000   0.000  21.000  1.00  0.00       B   C  \\nHETATM   16 C    FRA A  15       0.000   0.000  22.500  1.00  0.00       B   C  \\nHETATM   17 C    FRA A  16       0.000   0.000  24.000  1.00  0.00       B   C  \\nHETATM   18 C    FRA A  17       0.000   0.000  25.500  1.00  0.00       B   C  \\nHETATM   19 C    FRA A  18       0.000   0.000  27.000  1.00  0.00       B   C  \\nHETATM   20 C    FRA A  19       0.000   0.000  28.500  1.00  0.00       B   C  \\nENDMDL\\n\",\"pdb\",{\"keepH\": \"true\"});\n\tviewergrid_16637866793258305[0][0].setStyle({\"model\": -1, \"serial\": 7},{\"sphere\": {\"scale\": 0.2, \"color\": \"#20D4E0\"}});\n\tviewergrid_16637866793258305[0][0].addModelsAsFrames(\"MODEL 0\\nCRYST1      inf      inf   30.000     90     90     90                          \\nHETATM    1 C    FRA A   0       0.000   0.000   0.000  1.00  0.00       B   C  \\nHETATM    2 C    FRA A   1       0.000   0.000   1.500  1.00  0.00       B   C  \\nHETATM    3 C    FRA A   2       0.000   0.000   3.000  1.00  0.00       B   C  \\nHETATM    4 C    FRA A   3       0.000   0.000   4.500  1.00  0.00       B   C  \\nHETATM    5 C    FRA A   4       0.000   0.000   6.000  1.00  0.00       B   C  \\nHETATM    6 C    FRA A   5       0.000   0.000   7.500  1.00  0.00       B   C  \\nHETATM    7 C    FRA A   6       0.000   0.000   9.000  1.00  0.00       B   C  \\nHETATM    8 C    FRA A   7       0.000   0.000  10.500  1.00  0.00       B   C  \\nHETATM    9 C    FRA A   8       0.000   0.000  12.000  1.00  0.00       B   C  \\nHETATM   10 C    FRA A   9       0.000   0.000  13.500  1.00  0.00       B   C  \\nHETATM   11 C    FRA A  10       0.000   0.000  15.000  1.00  0.00       B   C  \\nHETATM   12 C    FRA A  11       0.000   0.000  16.500  1.00  0.00       B   C  \\nHETATM   13 C    FRA A  12       0.000   0.000  18.000  1.00  0.00       B   C  \\nHETATM   14 C    FRA A  13       0.000   0.000  19.500  1.00  0.00       B   C  \\nHETATM   15 C    FRA A  14       0.000   0.000  21.000  1.00  0.00       B   C  \\nHETATM   16 C    FRA A  15       0.000   0.000  22.500  1.00  0.00       B   C  \\nHETATM   17 C    FRA A  16       0.000   0.000  24.000  1.00  0.00       B   C  \\nHETATM   18 C    FRA A  17       0.000   0.000  25.500  1.00  0.00       B   C  \\nHETATM   19 C    FRA A  18       0.000   0.000  27.000  1.00  0.00       B   C  \\nHETATM   20 C    FRA A  19       0.000   0.000  28.500  1.00  0.00       B   C  \\nENDMDL\\n\",\"pdb\",{\"keepH\": \"true\"});\n\tviewergrid_16637866793258305[0][0].setStyle({\"model\": -1},{\"line\": {\"color\": \"black\"}});\n\tviewergrid_16637866793258305[0][0].addModelsAsFrames(\"MODEL 0\\nCRYST1      inf      inf   30.000     90     90     90                          \\nHETATM    1 C    FRA A   0       0.000   0.000   0.000  1.00  0.00       B   C  \\nHETATM    2 C    FRA A   1       0.000   0.000   1.500  1.00  0.00       B   C  \\nHETATM    3 C    FRA A   2       0.000   0.000   3.000  1.00  0.00       B   C  \\nHETATM    4 C    FRA A   3       0.000   0.000   4.500  1.00  0.00       B   C  \\nHETATM    5 C    FRA A   4       0.000   0.000   6.000  1.00  0.00       B   C  \\nHETATM    6 C    FRA A   5       0.000   0.000   7.500  1.00  0.00       B   C  \\nHETATM    7 C    FRA A   6       0.000   0.000   9.000  1.00  0.00       B   C  \\nHETATM    8 C    FRA A   7       0.000   0.000  10.500  1.00  0.00       B   C  \\nHETATM    9 C    FRA A   8       0.000   0.000  12.000  1.00  0.00       B   C  \\nHETATM   10 C    FRA A   9       0.000   0.000  13.500  1.00  0.00       B   C  \\nHETATM   11 C    FRA A  10       0.000   0.000  15.000  1.00  0.00       B   C  \\nHETATM   12 C    FRA A  11       0.000   0.000  16.500  1.00  0.00       B   C  \\nHETATM   13 C    FRA A  12       0.000   0.000  18.000  1.00  0.00       B   C  \\nHETATM   14 C    FRA A  13       0.000   0.000  19.500  1.00  0.00       B   C  \\nHETATM   15 C    FRA A  14       0.000   0.000  21.000  1.00  0.00       B   C  \\nHETATM   16 C    FRA A  15       0.000   0.000  22.500  1.00  0.00       B   C  \\nHETATM   17 C    FRA A  16       0.000   0.000  24.000  1.00  0.00       B   C  \\nHETATM   18 C    FRA A  17       0.000   0.000  25.500  1.00  0.00       B   C  \\nHETATM   19 C    FRA A  18       0.000   0.000  27.000  1.00  0.00       B   C  \\nHETATM   20 C    FRA A  19       0.000   0.000  28.500  1.00  0.00       B   C  \\nENDMDL\\n\",\"pdb\",{\"keepH\": \"true\"});\n\tviewergrid_16637866793258305[0][0].setStyle({\"model\": -1, \"serial\": 8},{\"sphere\": {\"scale\": 0.2, \"color\": \"#3CE9D5\"}});\n\tviewergrid_16637866793258305[0][0].addModelsAsFrames(\"MODEL 0\\nCRYST1      inf      inf   30.000     90     90     90                          \\nHETATM    1 C    FRA A   0       0.000   0.000   0.000  1.00  0.00       B   C  \\nHETATM    2 C    FRA A   1       0.000   0.000   1.500  1.00  0.00       B   C  \\nHETATM    3 C    FRA A   2       0.000   0.000   3.000  1.00  0.00       B   C  \\nHETATM    4 C    FRA A   3       0.000   0.000   4.500  1.00  0.00       B   C  \\nHETATM    5 C    FRA A   4       0.000   0.000   6.000  1.00  0.00       B   C  \\nHETATM    6 C    FRA A   5       0.000   0.000   7.500  1.00  0.00       B   C  \\nHETATM    7 C    FRA A   6       0.000   0.000   9.000  1.00  0.00       B   C  \\nHETATM    8 C    FRA A   7       0.000   0.000  10.500  1.00  0.00       B   C  \\nHETATM    9 C    FRA A   8       0.000   0.000  12.000  1.00  0.00       B   C  \\nHETATM   10 C    FRA A   9       0.000   0.000  13.500  1.00  0.00       B   C  \\nHETATM   11 C    FRA A  10       0.000   0.000  15.000  1.00  0.00       B   C  \\nHETATM   12 C    FRA A  11       0.000   0.000  16.500  1.00  0.00       B   C  \\nHETATM   13 C    FRA A  12       0.000   0.000  18.000  1.00  0.00       B   C  \\nHETATM   14 C    FRA A  13       0.000   0.000  19.500  1.00  0.00       B   C  \\nHETATM   15 C    FRA A  14       0.000   0.000  21.000  1.00  0.00       B   C  \\nHETATM   16 C    FRA A  15       0.000   0.000  22.500  1.00  0.00       B   C  \\nHETATM   17 C    FRA A  16       0.000   0.000  24.000  1.00  0.00       B   C  \\nHETATM   18 C    FRA A  17       0.000   0.000  25.500  1.00  0.00       B   C  \\nHETATM   19 C    FRA A  18       0.000   0.000  27.000  1.00  0.00       B   C  \\nHETATM   20 C    FRA A  19       0.000   0.000  28.500  1.00  0.00       B   C  \\nENDMDL\\n\",\"pdb\",{\"keepH\": \"true\"});\n\tviewergrid_16637866793258305[0][0].setStyle({\"model\": -1},{\"line\": {\"color\": \"black\"}});\n\tviewergrid_16637866793258305[0][0].addModelsAsFrames(\"MODEL 0\\nCRYST1      inf      inf   30.000     90     90     90                          \\nHETATM    1 C    FRA A   0       0.000   0.000   0.000  1.00  0.00       B   C  \\nHETATM    2 C    FRA A   1       0.000   0.000   1.500  1.00  0.00       B   C  \\nHETATM    3 C    FRA A   2       0.000   0.000   3.000  1.00  0.00       B   C  \\nHETATM    4 C    FRA A   3       0.000   0.000   4.500  1.00  0.00       B   C  \\nHETATM    5 C    FRA A   4       0.000   0.000   6.000  1.00  0.00       B   C  \\nHETATM    6 C    FRA A   5       0.000   0.000   7.500  1.00  0.00       B   C  \\nHETATM    7 C    FRA A   6       0.000   0.000   9.000  1.00  0.00       B   C  \\nHETATM    8 C    FRA A   7       0.000   0.000  10.500  1.00  0.00       B   C  \\nHETATM    9 C    FRA A   8       0.000   0.000  12.000  1.00  0.00       B   C  \\nHETATM   10 C    FRA A   9       0.000   0.000  13.500  1.00  0.00       B   C  \\nHETATM   11 C    FRA A  10       0.000   0.000  15.000  1.00  0.00       B   C  \\nHETATM   12 C    FRA A  11       0.000   0.000  16.500  1.00  0.00       B   C  \\nHETATM   13 C    FRA A  12       0.000   0.000  18.000  1.00  0.00       B   C  \\nHETATM   14 C    FRA A  13       0.000   0.000  19.500  1.00  0.00       B   C  \\nHETATM   15 C    FRA A  14       0.000   0.000  21.000  1.00  0.00       B   C  \\nHETATM   16 C    FRA A  15       0.000   0.000  22.500  1.00  0.00       B   C  \\nHETATM   17 C    FRA A  16       0.000   0.000  24.000  1.00  0.00       B   C  \\nHETATM   18 C    FRA A  17       0.000   0.000  25.500  1.00  0.00       B   C  \\nHETATM   19 C    FRA A  18       0.000   0.000  27.000  1.00  0.00       B   C  \\nHETATM   20 C    FRA A  19       0.000   0.000  28.500  1.00  0.00       B   C  \\nENDMDL\\n\",\"pdb\",{\"keepH\": \"true\"});\n\tviewergrid_16637866793258305[0][0].setStyle({\"model\": -1, \"serial\": 9},{\"sphere\": {\"scale\": 0.2, \"color\": \"#56F6C9\"}});\n\tviewergrid_16637866793258305[0][0].addModelsAsFrames(\"MODEL 0\\nCRYST1      inf      inf   30.000     90     90     90                          \\nHETATM    1 C    FRA A   0       0.000   0.000   0.000  1.00  0.00       B   C  \\nHETATM    2 C    FRA A   1       0.000   0.000   1.500  1.00  0.00       B   C  \\nHETATM    3 C    FRA A   2       0.000   0.000   3.000  1.00  0.00       B   C  \\nHETATM    4 C    FRA A   3       0.000   0.000   4.500  1.00  0.00       B   C  \\nHETATM    5 C    FRA A   4       0.000   0.000   6.000  1.00  0.00       B   C  \\nHETATM    6 C    FRA A   5       0.000   0.000   7.500  1.00  0.00       B   C  \\nHETATM    7 C    FRA A   6       0.000   0.000   9.000  1.00  0.00       B   C  \\nHETATM    8 C    FRA A   7       0.000   0.000  10.500  1.00  0.00       B   C  \\nHETATM    9 C    FRA A   8       0.000   0.000  12.000  1.00  0.00       B   C  \\nHETATM   10 C    FRA A   9       0.000   0.000  13.500  1.00  0.00       B   C  \\nHETATM   11 C    FRA A  10       0.000   0.000  15.000  1.00  0.00       B   C  \\nHETATM   12 C    FRA A  11       0.000   0.000  16.500  1.00  0.00       B   C  \\nHETATM   13 C    FRA A  12       0.000   0.000  18.000  1.00  0.00       B   C  \\nHETATM   14 C    FRA A  13       0.000   0.000  19.500  1.00  0.00       B   C  \\nHETATM   15 C    FRA A  14       0.000   0.000  21.000  1.00  0.00       B   C  \\nHETATM   16 C    FRA A  15       0.000   0.000  22.500  1.00  0.00       B   C  \\nHETATM   17 C    FRA A  16       0.000   0.000  24.000  1.00  0.00       B   C  \\nHETATM   18 C    FRA A  17       0.000   0.000  25.500  1.00  0.00       B   C  \\nHETATM   19 C    FRA A  18       0.000   0.000  27.000  1.00  0.00       B   C  \\nHETATM   20 C    FRA A  19       0.000   0.000  28.500  1.00  0.00       B   C  \\nENDMDL\\n\",\"pdb\",{\"keepH\": \"true\"});\n\tviewergrid_16637866793258305[0][0].setStyle({\"model\": -1},{\"line\": {\"color\": \"black\"}});\n\tviewergrid_16637866793258305[0][0].addModelsAsFrames(\"MODEL 0\\nCRYST1      inf      inf   30.000     90     90     90                          \\nHETATM    1 C    FRA A   0       0.000   0.000   0.000  1.00  0.00       B   C  \\nHETATM    2 C    FRA A   1       0.000   0.000   1.500  1.00  0.00       B   C  \\nHETATM    3 C    FRA A   2       0.000   0.000   3.000  1.00  0.00       B   C  \\nHETATM    4 C    FRA A   3       0.000   0.000   4.500  1.00  0.00       B   C  \\nHETATM    5 C    FRA A   4       0.000   0.000   6.000  1.00  0.00       B   C  \\nHETATM    6 C    FRA A   5       0.000   0.000   7.500  1.00  0.00       B   C  \\nHETATM    7 C    FRA A   6       0.000   0.000   9.000  1.00  0.00       B   C  \\nHETATM    8 C    FRA A   7       0.000   0.000  10.500  1.00  0.00       B   C  \\nHETATM    9 C    FRA A   8       0.000   0.000  12.000  1.00  0.00       B   C  \\nHETATM   10 C    FRA A   9       0.000   0.000  13.500  1.00  0.00       B   C  \\nHETATM   11 C    FRA A  10       0.000   0.000  15.000  1.00  0.00       B   C  \\nHETATM   12 C    FRA A  11       0.000   0.000  16.500  1.00  0.00       B   C  \\nHETATM   13 C    FRA A  12       0.000   0.000  18.000  1.00  0.00       B   C  \\nHETATM   14 C    FRA A  13       0.000   0.000  19.500  1.00  0.00       B   C  \\nHETATM   15 C    FRA A  14       0.000   0.000  21.000  1.00  0.00       B   C  \\nHETATM   16 C    FRA A  15       0.000   0.000  22.500  1.00  0.00       B   C  \\nHETATM   17 C    FRA A  16       0.000   0.000  24.000  1.00  0.00       B   C  \\nHETATM   18 C    FRA A  17       0.000   0.000  25.500  1.00  0.00       B   C  \\nHETATM   19 C    FRA A  18       0.000   0.000  27.000  1.00  0.00       B   C  \\nHETATM   20 C    FRA A  19       0.000   0.000  28.500  1.00  0.00       B   C  \\nENDMDL\\n\",\"pdb\",{\"keepH\": \"true\"});\n\tviewergrid_16637866793258305[0][0].setStyle({\"model\": -1, \"serial\": 10},{\"sphere\": {\"scale\": 0.2, \"color\": \"#72FEBB\"}});\n\tviewergrid_16637866793258305[0][0].addModelsAsFrames(\"MODEL 0\\nCRYST1      inf      inf   30.000     90     90     90                          \\nHETATM    1 C    FRA A   0       0.000   0.000   0.000  1.00  0.00       B   C  \\nHETATM    2 C    FRA A   1       0.000   0.000   1.500  1.00  0.00       B   C  \\nHETATM    3 C    FRA A   2       0.000   0.000   3.000  1.00  0.00       B   C  \\nHETATM    4 C    FRA A   3       0.000   0.000   4.500  1.00  0.00       B   C  \\nHETATM    5 C    FRA A   4       0.000   0.000   6.000  1.00  0.00       B   C  \\nHETATM    6 C    FRA A   5       0.000   0.000   7.500  1.00  0.00       B   C  \\nHETATM    7 C    FRA A   6       0.000   0.000   9.000  1.00  0.00       B   C  \\nHETATM    8 C    FRA A   7       0.000   0.000  10.500  1.00  0.00       B   C  \\nHETATM    9 C    FRA A   8       0.000   0.000  12.000  1.00  0.00       B   C  \\nHETATM   10 C    FRA A   9       0.000   0.000  13.500  1.00  0.00       B   C  \\nHETATM   11 C    FRA A  10       0.000   0.000  15.000  1.00  0.00       B   C  \\nHETATM   12 C    FRA A  11       0.000   0.000  16.500  1.00  0.00       B   C  \\nHETATM   13 C    FRA A  12       0.000   0.000  18.000  1.00  0.00       B   C  \\nHETATM   14 C    FRA A  13       0.000   0.000  19.500  1.00  0.00       B   C  \\nHETATM   15 C    FRA A  14       0.000   0.000  21.000  1.00  0.00       B   C  \\nHETATM   16 C    FRA A  15       0.000   0.000  22.500  1.00  0.00       B   C  \\nHETATM   17 C    FRA A  16       0.000   0.000  24.000  1.00  0.00       B   C  \\nHETATM   18 C    FRA A  17       0.000   0.000  25.500  1.00  0.00       B   C  \\nHETATM   19 C    FRA A  18       0.000   0.000  27.000  1.00  0.00       B   C  \\nHETATM   20 C    FRA A  19       0.000   0.000  28.500  1.00  0.00       B   C  \\nENDMDL\\n\",\"pdb\",{\"keepH\": \"true\"});\n\tviewergrid_16637866793258305[0][0].setStyle({\"model\": -1},{\"line\": {\"color\": \"black\"}});\n\tviewergrid_16637866793258305[0][0].addModelsAsFrames(\"MODEL 0\\nCRYST1      inf      inf   30.000     90     90     90                          \\nHETATM    1 C    FRA A   0       0.000   0.000   0.000  1.00  0.00       B   C  \\nHETATM    2 C    FRA A   1       0.000   0.000   1.500  1.00  0.00       B   C  \\nHETATM    3 C    FRA A   2       0.000   0.000   3.000  1.00  0.00       B   C  \\nHETATM    4 C    FRA A   3       0.000   0.000   4.500  1.00  0.00       B   C  \\nHETATM    5 C    FRA A   4       0.000   0.000   6.000  1.00  0.00       B   C  \\nHETATM    6 C    FRA A   5       0.000   0.000   7.500  1.00  0.00       B   C  \\nHETATM    7 C    FRA A   6       0.000   0.000   9.000  1.00  0.00       B   C  \\nHETATM    8 C    FRA A   7       0.000   0.000  10.500  1.00  0.00       B   C  \\nHETATM    9 C    FRA A   8       0.000   0.000  12.000  1.00  0.00       B   C  \\nHETATM   10 C    FRA A   9       0.000   0.000  13.500  1.00  0.00       B   C  \\nHETATM   11 C    FRA A  10       0.000   0.000  15.000  1.00  0.00       B   C  \\nHETATM   12 C    FRA A  11       0.000   0.000  16.500  1.00  0.00       B   C  \\nHETATM   13 C    FRA A  12       0.000   0.000  18.000  1.00  0.00       B   C  \\nHETATM   14 C    FRA A  13       0.000   0.000  19.500  1.00  0.00       B   C  \\nHETATM   15 C    FRA A  14       0.000   0.000  21.000  1.00  0.00       B   C  \\nHETATM   16 C    FRA A  15       0.000   0.000  22.500  1.00  0.00       B   C  \\nHETATM   17 C    FRA A  16       0.000   0.000  24.000  1.00  0.00       B   C  \\nHETATM   18 C    FRA A  17       0.000   0.000  25.500  1.00  0.00       B   C  \\nHETATM   19 C    FRA A  18       0.000   0.000  27.000  1.00  0.00       B   C  \\nHETATM   20 C    FRA A  19       0.000   0.000  28.500  1.00  0.00       B   C  \\nENDMDL\\n\",\"pdb\",{\"keepH\": \"true\"});\n\tviewergrid_16637866793258305[0][0].setStyle({\"model\": -1, \"serial\": 11},{\"sphere\": {\"scale\": 0.2, \"color\": \"#8CFEAC\"}});\n\tviewergrid_16637866793258305[0][0].addModelsAsFrames(\"MODEL 0\\nCRYST1      inf      inf   30.000     90     90     90                          \\nHETATM    1 C    FRA A   0       0.000   0.000   0.000  1.00  0.00       B   C  \\nHETATM    2 C    FRA A   1       0.000   0.000   1.500  1.00  0.00       B   C  \\nHETATM    3 C    FRA A   2       0.000   0.000   3.000  1.00  0.00       B   C  \\nHETATM    4 C    FRA A   3       0.000   0.000   4.500  1.00  0.00       B   C  \\nHETATM    5 C    FRA A   4       0.000   0.000   6.000  1.00  0.00       B   C  \\nHETATM    6 C    FRA A   5       0.000   0.000   7.500  1.00  0.00       B   C  \\nHETATM    7 C    FRA A   6       0.000   0.000   9.000  1.00  0.00       B   C  \\nHETATM    8 C    FRA A   7       0.000   0.000  10.500  1.00  0.00       B   C  \\nHETATM    9 C    FRA A   8       0.000   0.000  12.000  1.00  0.00       B   C  \\nHETATM   10 C    FRA A   9       0.000   0.000  13.500  1.00  0.00       B   C  \\nHETATM   11 C    FRA A  10       0.000   0.000  15.000  1.00  0.00       B   C  \\nHETATM   12 C    FRA A  11       0.000   0.000  16.500  1.00  0.00       B   C  \\nHETATM   13 C    FRA A  12       0.000   0.000  18.000  1.00  0.00       B   C  \\nHETATM   14 C    FRA A  13       0.000   0.000  19.500  1.00  0.00       B   C  \\nHETATM   15 C    FRA A  14       0.000   0.000  21.000  1.00  0.00       B   C  \\nHETATM   16 C    FRA A  15       0.000   0.000  22.500  1.00  0.00       B   C  \\nHETATM   17 C    FRA A  16       0.000   0.000  24.000  1.00  0.00       B   C  \\nHETATM   18 C    FRA A  17       0.000   0.000  25.500  1.00  0.00       B   C  \\nHETATM   19 C    FRA A  18       0.000   0.000  27.000  1.00  0.00       B   C  \\nHETATM   20 C    FRA A  19       0.000   0.000  28.500  1.00  0.00       B   C  \\nENDMDL\\n\",\"pdb\",{\"keepH\": \"true\"});\n\tviewergrid_16637866793258305[0][0].setStyle({\"model\": -1},{\"line\": {\"color\": \"black\"}});\n\tviewergrid_16637866793258305[0][0].addModelsAsFrames(\"MODEL 0\\nCRYST1      inf      inf   30.000     90     90     90                          \\nHETATM    1 C    FRA A   0       0.000   0.000   0.000  1.00  0.00       B   C  \\nHETATM    2 C    FRA A   1       0.000   0.000   1.500  1.00  0.00       B   C  \\nHETATM    3 C    FRA A   2       0.000   0.000   3.000  1.00  0.00       B   C  \\nHETATM    4 C    FRA A   3       0.000   0.000   4.500  1.00  0.00       B   C  \\nHETATM    5 C    FRA A   4       0.000   0.000   6.000  1.00  0.00       B   C  \\nHETATM    6 C    FRA A   5       0.000   0.000   7.500  1.00  0.00       B   C  \\nHETATM    7 C    FRA A   6       0.000   0.000   9.000  1.00  0.00       B   C  \\nHETATM    8 C    FRA A   7       0.000   0.000  10.500  1.00  0.00       B   C  \\nHETATM    9 C    FRA A   8       0.000   0.000  12.000  1.00  0.00       B   C  \\nHETATM   10 C    FRA A   9       0.000   0.000  13.500  1.00  0.00       B   C  \\nHETATM   11 C    FRA A  10       0.000   0.000  15.000  1.00  0.00       B   C  \\nHETATM   12 C    FRA A  11       0.000   0.000  16.500  1.00  0.00       B   C  \\nHETATM   13 C    FRA A  12       0.000   0.000  18.000  1.00  0.00       B   C  \\nHETATM   14 C    FRA A  13       0.000   0.000  19.500  1.00  0.00       B   C  \\nHETATM   15 C    FRA A  14       0.000   0.000  21.000  1.00  0.00       B   C  \\nHETATM   16 C    FRA A  15       0.000   0.000  22.500  1.00  0.00       B   C  \\nHETATM   17 C    FRA A  16       0.000   0.000  24.000  1.00  0.00       B   C  \\nHETATM   18 C    FRA A  17       0.000   0.000  25.500  1.00  0.00       B   C  \\nHETATM   19 C    FRA A  18       0.000   0.000  27.000  1.00  0.00       B   C  \\nHETATM   20 C    FRA A  19       0.000   0.000  28.500  1.00  0.00       B   C  \\nENDMDL\\n\",\"pdb\",{\"keepH\": \"true\"});\n\tviewergrid_16637866793258305[0][0].setStyle({\"model\": -1, \"serial\": 12},{\"sphere\": {\"scale\": 0.2, \"color\": \"#A8F69C\"}});\n\tviewergrid_16637866793258305[0][0].addModelsAsFrames(\"MODEL 0\\nCRYST1      inf      inf   30.000     90     90     90                          \\nHETATM    1 C    FRA A   0       0.000   0.000   0.000  1.00  0.00       B   C  \\nHETATM    2 C    FRA A   1       0.000   0.000   1.500  1.00  0.00       B   C  \\nHETATM    3 C    FRA A   2       0.000   0.000   3.000  1.00  0.00       B   C  \\nHETATM    4 C    FRA A   3       0.000   0.000   4.500  1.00  0.00       B   C  \\nHETATM    5 C    FRA A   4       0.000   0.000   6.000  1.00  0.00       B   C  \\nHETATM    6 C    FRA A   5       0.000   0.000   7.500  1.00  0.00       B   C  \\nHETATM    7 C    FRA A   6       0.000   0.000   9.000  1.00  0.00       B   C  \\nHETATM    8 C    FRA A   7       0.000   0.000  10.500  1.00  0.00       B   C  \\nHETATM    9 C    FRA A   8       0.000   0.000  12.000  1.00  0.00       B   C  \\nHETATM   10 C    FRA A   9       0.000   0.000  13.500  1.00  0.00       B   C  \\nHETATM   11 C    FRA A  10       0.000   0.000  15.000  1.00  0.00       B   C  \\nHETATM   12 C    FRA A  11       0.000   0.000  16.500  1.00  0.00       B   C  \\nHETATM   13 C    FRA A  12       0.000   0.000  18.000  1.00  0.00       B   C  \\nHETATM   14 C    FRA A  13       0.000   0.000  19.500  1.00  0.00       B   C  \\nHETATM   15 C    FRA A  14       0.000   0.000  21.000  1.00  0.00       B   C  \\nHETATM   16 C    FRA A  15       0.000   0.000  22.500  1.00  0.00       B   C  \\nHETATM   17 C    FRA A  16       0.000   0.000  24.000  1.00  0.00       B   C  \\nHETATM   18 C    FRA A  17       0.000   0.000  25.500  1.00  0.00       B   C  \\nHETATM   19 C    FRA A  18       0.000   0.000  27.000  1.00  0.00       B   C  \\nHETATM   20 C    FRA A  19       0.000   0.000  28.500  1.00  0.00       B   C  \\nENDMDL\\n\",\"pdb\",{\"keepH\": \"true\"});\n\tviewergrid_16637866793258305[0][0].setStyle({\"model\": -1},{\"line\": {\"color\": \"black\"}});\n\tviewergrid_16637866793258305[0][0].addModelsAsFrames(\"MODEL 0\\nCRYST1      inf      inf   30.000     90     90     90                          \\nHETATM    1 C    FRA A   0       0.000   0.000   0.000  1.00  0.00       B   C  \\nHETATM    2 C    FRA A   1       0.000   0.000   1.500  1.00  0.00       B   C  \\nHETATM    3 C    FRA A   2       0.000   0.000   3.000  1.00  0.00       B   C  \\nHETATM    4 C    FRA A   3       0.000   0.000   4.500  1.00  0.00       B   C  \\nHETATM    5 C    FRA A   4       0.000   0.000   6.000  1.00  0.00       B   C  \\nHETATM    6 C    FRA A   5       0.000   0.000   7.500  1.00  0.00       B   C  \\nHETATM    7 C    FRA A   6       0.000   0.000   9.000  1.00  0.00       B   C  \\nHETATM    8 C    FRA A   7       0.000   0.000  10.500  1.00  0.00       B   C  \\nHETATM    9 C    FRA A   8       0.000   0.000  12.000  1.00  0.00       B   C  \\nHETATM   10 C    FRA A   9       0.000   0.000  13.500  1.00  0.00       B   C  \\nHETATM   11 C    FRA A  10       0.000   0.000  15.000  1.00  0.00       B   C  \\nHETATM   12 C    FRA A  11       0.000   0.000  16.500  1.00  0.00       B   C  \\nHETATM   13 C    FRA A  12       0.000   0.000  18.000  1.00  0.00       B   C  \\nHETATM   14 C    FRA A  13       0.000   0.000  19.500  1.00  0.00       B   C  \\nHETATM   15 C    FRA A  14       0.000   0.000  21.000  1.00  0.00       B   C  \\nHETATM   16 C    FRA A  15       0.000   0.000  22.500  1.00  0.00       B   C  \\nHETATM   17 C    FRA A  16       0.000   0.000  24.000  1.00  0.00       B   C  \\nHETATM   18 C    FRA A  17       0.000   0.000  25.500  1.00  0.00       B   C  \\nHETATM   19 C    FRA A  18       0.000   0.000  27.000  1.00  0.00       B   C  \\nHETATM   20 C    FRA A  19       0.000   0.000  28.500  1.00  0.00       B   C  \\nENDMDL\\n\",\"pdb\",{\"keepH\": \"true\"});\n\tviewergrid_16637866793258305[0][0].setStyle({\"model\": -1, \"serial\": 13},{\"sphere\": {\"scale\": 0.2, \"color\": \"#C2E98B\"}});\n\tviewergrid_16637866793258305[0][0].addModelsAsFrames(\"MODEL 0\\nCRYST1      inf      inf   30.000     90     90     90                          \\nHETATM    1 C    FRA A   0       0.000   0.000   0.000  1.00  0.00       B   C  \\nHETATM    2 C    FRA A   1       0.000   0.000   1.500  1.00  0.00       B   C  \\nHETATM    3 C    FRA A   2       0.000   0.000   3.000  1.00  0.00       B   C  \\nHETATM    4 C    FRA A   3       0.000   0.000   4.500  1.00  0.00       B   C  \\nHETATM    5 C    FRA A   4       0.000   0.000   6.000  1.00  0.00       B   C  \\nHETATM    6 C    FRA A   5       0.000   0.000   7.500  1.00  0.00       B   C  \\nHETATM    7 C    FRA A   6       0.000   0.000   9.000  1.00  0.00       B   C  \\nHETATM    8 C    FRA A   7       0.000   0.000  10.500  1.00  0.00       B   C  \\nHETATM    9 C    FRA A   8       0.000   0.000  12.000  1.00  0.00       B   C  \\nHETATM   10 C    FRA A   9       0.000   0.000  13.500  1.00  0.00       B   C  \\nHETATM   11 C    FRA A  10       0.000   0.000  15.000  1.00  0.00       B   C  \\nHETATM   12 C    FRA A  11       0.000   0.000  16.500  1.00  0.00       B   C  \\nHETATM   13 C    FRA A  12       0.000   0.000  18.000  1.00  0.00       B   C  \\nHETATM   14 C    FRA A  13       0.000   0.000  19.500  1.00  0.00       B   C  \\nHETATM   15 C    FRA A  14       0.000   0.000  21.000  1.00  0.00       B   C  \\nHETATM   16 C    FRA A  15       0.000   0.000  22.500  1.00  0.00       B   C  \\nHETATM   17 C    FRA A  16       0.000   0.000  24.000  1.00  0.00       B   C  \\nHETATM   18 C    FRA A  17       0.000   0.000  25.500  1.00  0.00       B   C  \\nHETATM   19 C    FRA A  18       0.000   0.000  27.000  1.00  0.00       B   C  \\nHETATM   20 C    FRA A  19       0.000   0.000  28.500  1.00  0.00       B   C  \\nENDMDL\\n\",\"pdb\",{\"keepH\": \"true\"});\n\tviewergrid_16637866793258305[0][0].setStyle({\"model\": -1},{\"line\": {\"color\": \"black\"}});\n\tviewergrid_16637866793258305[0][0].addModelsAsFrames(\"MODEL 0\\nCRYST1      inf      inf   30.000     90     90     90                          \\nHETATM    1 C    FRA A   0       0.000   0.000   0.000  1.00  0.00       B   C  \\nHETATM    2 C    FRA A   1       0.000   0.000   1.500  1.00  0.00       B   C  \\nHETATM    3 C    FRA A   2       0.000   0.000   3.000  1.00  0.00       B   C  \\nHETATM    4 C    FRA A   3       0.000   0.000   4.500  1.00  0.00       B   C  \\nHETATM    5 C    FRA A   4       0.000   0.000   6.000  1.00  0.00       B   C  \\nHETATM    6 C    FRA A   5       0.000   0.000   7.500  1.00  0.00       B   C  \\nHETATM    7 C    FRA A   6       0.000   0.000   9.000  1.00  0.00       B   C  \\nHETATM    8 C    FRA A   7       0.000   0.000  10.500  1.00  0.00       B   C  \\nHETATM    9 C    FRA A   8       0.000   0.000  12.000  1.00  0.00       B   C  \\nHETATM   10 C    FRA A   9       0.000   0.000  13.500  1.00  0.00       B   C  \\nHETATM   11 C    FRA A  10       0.000   0.000  15.000  1.00  0.00       B   C  \\nHETATM   12 C    FRA A  11       0.000   0.000  16.500  1.00  0.00       B   C  \\nHETATM   13 C    FRA A  12       0.000   0.000  18.000  1.00  0.00       B   C  \\nHETATM   14 C    FRA A  13       0.000   0.000  19.500  1.00  0.00       B   C  \\nHETATM   15 C    FRA A  14       0.000   0.000  21.000  1.00  0.00       B   C  \\nHETATM   16 C    FRA A  15       0.000   0.000  22.500  1.00  0.00       B   C  \\nHETATM   17 C    FRA A  16       0.000   0.000  24.000  1.00  0.00       B   C  \\nHETATM   18 C    FRA A  17       0.000   0.000  25.500  1.00  0.00       B   C  \\nHETATM   19 C    FRA A  18       0.000   0.000  27.000  1.00  0.00       B   C  \\nHETATM   20 C    FRA A  19       0.000   0.000  28.500  1.00  0.00       B   C  \\nENDMDL\\n\",\"pdb\",{\"keepH\": \"true\"});\n\tviewergrid_16637866793258305[0][0].setStyle({\"model\": -1, \"serial\": 14},{\"sphere\": {\"scale\": 0.2, \"color\": \"#DED478\"}});\n\tviewergrid_16637866793258305[0][0].addModelsAsFrames(\"MODEL 0\\nCRYST1      inf      inf   30.000     90     90     90                          \\nHETATM    1 C    FRA A   0       0.000   0.000   0.000  1.00  0.00       B   C  \\nHETATM    2 C    FRA A   1       0.000   0.000   1.500  1.00  0.00       B   C  \\nHETATM    3 C    FRA A   2       0.000   0.000   3.000  1.00  0.00       B   C  \\nHETATM    4 C    FRA A   3       0.000   0.000   4.500  1.00  0.00       B   C  \\nHETATM    5 C    FRA A   4       0.000   0.000   6.000  1.00  0.00       B   C  \\nHETATM    6 C    FRA A   5       0.000   0.000   7.500  1.00  0.00       B   C  \\nHETATM    7 C    FRA A   6       0.000   0.000   9.000  1.00  0.00       B   C  \\nHETATM    8 C    FRA A   7       0.000   0.000  10.500  1.00  0.00       B   C  \\nHETATM    9 C    FRA A   8       0.000   0.000  12.000  1.00  0.00       B   C  \\nHETATM   10 C    FRA A   9       0.000   0.000  13.500  1.00  0.00       B   C  \\nHETATM   11 C    FRA A  10       0.000   0.000  15.000  1.00  0.00       B   C  \\nHETATM   12 C    FRA A  11       0.000   0.000  16.500  1.00  0.00       B   C  \\nHETATM   13 C    FRA A  12       0.000   0.000  18.000  1.00  0.00       B   C  \\nHETATM   14 C    FRA A  13       0.000   0.000  19.500  1.00  0.00       B   C  \\nHETATM   15 C    FRA A  14       0.000   0.000  21.000  1.00  0.00       B   C  \\nHETATM   16 C    FRA A  15       0.000   0.000  22.500  1.00  0.00       B   C  \\nHETATM   17 C    FRA A  16       0.000   0.000  24.000  1.00  0.00       B   C  \\nHETATM   18 C    FRA A  17       0.000   0.000  25.500  1.00  0.00       B   C  \\nHETATM   19 C    FRA A  18       0.000   0.000  27.000  1.00  0.00       B   C  \\nHETATM   20 C    FRA A  19       0.000   0.000  28.500  1.00  0.00       B   C  \\nENDMDL\\n\",\"pdb\",{\"keepH\": \"true\"});\n\tviewergrid_16637866793258305[0][0].setStyle({\"model\": -1},{\"line\": {\"color\": \"black\"}});\n\tviewergrid_16637866793258305[0][0].addModelsAsFrames(\"MODEL 0\\nCRYST1      inf      inf   30.000     90     90     90                          \\nHETATM    1 C    FRA A   0       0.000   0.000   0.000  1.00  0.00       B   C  \\nHETATM    2 C    FRA A   1       0.000   0.000   1.500  1.00  0.00       B   C  \\nHETATM    3 C    FRA A   2       0.000   0.000   3.000  1.00  0.00       B   C  \\nHETATM    4 C    FRA A   3       0.000   0.000   4.500  1.00  0.00       B   C  \\nHETATM    5 C    FRA A   4       0.000   0.000   6.000  1.00  0.00       B   C  \\nHETATM    6 C    FRA A   5       0.000   0.000   7.500  1.00  0.00       B   C  \\nHETATM    7 C    FRA A   6       0.000   0.000   9.000  1.00  0.00       B   C  \\nHETATM    8 C    FRA A   7       0.000   0.000  10.500  1.00  0.00       B   C  \\nHETATM    9 C    FRA A   8       0.000   0.000  12.000  1.00  0.00       B   C  \\nHETATM   10 C    FRA A   9       0.000   0.000  13.500  1.00  0.00       B   C  \\nHETATM   11 C    FRA A  10       0.000   0.000  15.000  1.00  0.00       B   C  \\nHETATM   12 C    FRA A  11       0.000   0.000  16.500  1.00  0.00       B   C  \\nHETATM   13 C    FRA A  12       0.000   0.000  18.000  1.00  0.00       B   C  \\nHETATM   14 C    FRA A  13       0.000   0.000  19.500  1.00  0.00       B   C  \\nHETATM   15 C    FRA A  14       0.000   0.000  21.000  1.00  0.00       B   C  \\nHETATM   16 C    FRA A  15       0.000   0.000  22.500  1.00  0.00       B   C  \\nHETATM   17 C    FRA A  16       0.000   0.000  24.000  1.00  0.00       B   C  \\nHETATM   18 C    FRA A  17       0.000   0.000  25.500  1.00  0.00       B   C  \\nHETATM   19 C    FRA A  18       0.000   0.000  27.000  1.00  0.00       B   C  \\nHETATM   20 C    FRA A  19       0.000   0.000  28.500  1.00  0.00       B   C  \\nENDMDL\\n\",\"pdb\",{\"keepH\": \"true\"});\n\tviewergrid_16637866793258305[0][0].setStyle({\"model\": -1, \"serial\": 15},{\"sphere\": {\"scale\": 0.2, \"color\": \"#F8BB66\"}});\n\tviewergrid_16637866793258305[0][0].addModelsAsFrames(\"MODEL 0\\nCRYST1      inf      inf   30.000     90     90     90                          \\nHETATM    1 C    FRA A   0       0.000   0.000   0.000  1.00  0.00       B   C  \\nHETATM    2 C    FRA A   1       0.000   0.000   1.500  1.00  0.00       B   C  \\nHETATM    3 C    FRA A   2       0.000   0.000   3.000  1.00  0.00       B   C  \\nHETATM    4 C    FRA A   3       0.000   0.000   4.500  1.00  0.00       B   C  \\nHETATM    5 C    FRA A   4       0.000   0.000   6.000  1.00  0.00       B   C  \\nHETATM    6 C    FRA A   5       0.000   0.000   7.500  1.00  0.00       B   C  \\nHETATM    7 C    FRA A   6       0.000   0.000   9.000  1.00  0.00       B   C  \\nHETATM    8 C    FRA A   7       0.000   0.000  10.500  1.00  0.00       B   C  \\nHETATM    9 C    FRA A   8       0.000   0.000  12.000  1.00  0.00       B   C  \\nHETATM   10 C    FRA A   9       0.000   0.000  13.500  1.00  0.00       B   C  \\nHETATM   11 C    FRA A  10       0.000   0.000  15.000  1.00  0.00       B   C  \\nHETATM   12 C    FRA A  11       0.000   0.000  16.500  1.00  0.00       B   C  \\nHETATM   13 C    FRA A  12       0.000   0.000  18.000  1.00  0.00       B   C  \\nHETATM   14 C    FRA A  13       0.000   0.000  19.500  1.00  0.00       B   C  \\nHETATM   15 C    FRA A  14       0.000   0.000  21.000  1.00  0.00       B   C  \\nHETATM   16 C    FRA A  15       0.000   0.000  22.500  1.00  0.00       B   C  \\nHETATM   17 C    FRA A  16       0.000   0.000  24.000  1.00  0.00       B   C  \\nHETATM   18 C    FRA A  17       0.000   0.000  25.500  1.00  0.00       B   C  \\nHETATM   19 C    FRA A  18       0.000   0.000  27.000  1.00  0.00       B   C  \\nHETATM   20 C    FRA A  19       0.000   0.000  28.500  1.00  0.00       B   C  \\nENDMDL\\n\",\"pdb\",{\"keepH\": \"true\"});\n\tviewergrid_16637866793258305[0][0].setStyle({\"model\": -1},{\"line\": {\"color\": \"black\"}});\n\tviewergrid_16637866793258305[0][0].addModelsAsFrames(\"MODEL 0\\nCRYST1      inf      inf   30.000     90     90     90                          \\nHETATM    1 C    FRA A   0       0.000   0.000   0.000  1.00  0.00       B   C  \\nHETATM    2 C    FRA A   1       0.000   0.000   1.500  1.00  0.00       B   C  \\nHETATM    3 C    FRA A   2       0.000   0.000   3.000  1.00  0.00       B   C  \\nHETATM    4 C    FRA A   3       0.000   0.000   4.500  1.00  0.00       B   C  \\nHETATM    5 C    FRA A   4       0.000   0.000   6.000  1.00  0.00       B   C  \\nHETATM    6 C    FRA A   5       0.000   0.000   7.500  1.00  0.00       B   C  \\nHETATM    7 C    FRA A   6       0.000   0.000   9.000  1.00  0.00       B   C  \\nHETATM    8 C    FRA A   7       0.000   0.000  10.500  1.00  0.00       B   C  \\nHETATM    9 C    FRA A   8       0.000   0.000  12.000  1.00  0.00       B   C  \\nHETATM   10 C    FRA A   9       0.000   0.000  13.500  1.00  0.00       B   C  \\nHETATM   11 C    FRA A  10       0.000   0.000  15.000  1.00  0.00       B   C  \\nHETATM   12 C    FRA A  11       0.000   0.000  16.500  1.00  0.00       B   C  \\nHETATM   13 C    FRA A  12       0.000   0.000  18.000  1.00  0.00       B   C  \\nHETATM   14 C    FRA A  13       0.000   0.000  19.500  1.00  0.00       B   C  \\nHETATM   15 C    FRA A  14       0.000   0.000  21.000  1.00  0.00       B   C  \\nHETATM   16 C    FRA A  15       0.000   0.000  22.500  1.00  0.00       B   C  \\nHETATM   17 C    FRA A  16       0.000   0.000  24.000  1.00  0.00       B   C  \\nHETATM   18 C    FRA A  17       0.000   0.000  25.500  1.00  0.00       B   C  \\nHETATM   19 C    FRA A  18       0.000   0.000  27.000  1.00  0.00       B   C  \\nHETATM   20 C    FRA A  19       0.000   0.000  28.500  1.00  0.00       B   C  \\nENDMDL\\n\",\"pdb\",{\"keepH\": \"true\"});\n\tviewergrid_16637866793258305[0][0].setStyle({\"model\": -1, \"serial\": 16},{\"sphere\": {\"scale\": 0.2, \"color\": \"#FF9A51\"}});\n\tviewergrid_16637866793258305[0][0].addModelsAsFrames(\"MODEL 0\\nCRYST1      inf      inf   30.000     90     90     90                          \\nHETATM    1 C    FRA A   0       0.000   0.000   0.000  1.00  0.00       B   C  \\nHETATM    2 C    FRA A   1       0.000   0.000   1.500  1.00  0.00       B   C  \\nHETATM    3 C    FRA A   2       0.000   0.000   3.000  1.00  0.00       B   C  \\nHETATM    4 C    FRA A   3       0.000   0.000   4.500  1.00  0.00       B   C  \\nHETATM    5 C    FRA A   4       0.000   0.000   6.000  1.00  0.00       B   C  \\nHETATM    6 C    FRA A   5       0.000   0.000   7.500  1.00  0.00       B   C  \\nHETATM    7 C    FRA A   6       0.000   0.000   9.000  1.00  0.00       B   C  \\nHETATM    8 C    FRA A   7       0.000   0.000  10.500  1.00  0.00       B   C  \\nHETATM    9 C    FRA A   8       0.000   0.000  12.000  1.00  0.00       B   C  \\nHETATM   10 C    FRA A   9       0.000   0.000  13.500  1.00  0.00       B   C  \\nHETATM   11 C    FRA A  10       0.000   0.000  15.000  1.00  0.00       B   C  \\nHETATM   12 C    FRA A  11       0.000   0.000  16.500  1.00  0.00       B   C  \\nHETATM   13 C    FRA A  12       0.000   0.000  18.000  1.00  0.00       B   C  \\nHETATM   14 C    FRA A  13       0.000   0.000  19.500  1.00  0.00       B   C  \\nHETATM   15 C    FRA A  14       0.000   0.000  21.000  1.00  0.00       B   C  \\nHETATM   16 C    FRA A  15       0.000   0.000  22.500  1.00  0.00       B   C  \\nHETATM   17 C    FRA A  16       0.000   0.000  24.000  1.00  0.00       B   C  \\nHETATM   18 C    FRA A  17       0.000   0.000  25.500  1.00  0.00       B   C  \\nHETATM   19 C    FRA A  18       0.000   0.000  27.000  1.00  0.00       B   C  \\nHETATM   20 C    FRA A  19       0.000   0.000  28.500  1.00  0.00       B   C  \\nENDMDL\\n\",\"pdb\",{\"keepH\": \"true\"});\n\tviewergrid_16637866793258305[0][0].setStyle({\"model\": -1},{\"line\": {\"color\": \"black\"}});\n\tviewergrid_16637866793258305[0][0].addModelsAsFrames(\"MODEL 0\\nCRYST1      inf      inf   30.000     90     90     90                          \\nHETATM    1 C    FRA A   0       0.000   0.000   0.000  1.00  0.00       B   C  \\nHETATM    2 C    FRA A   1       0.000   0.000   1.500  1.00  0.00       B   C  \\nHETATM    3 C    FRA A   2       0.000   0.000   3.000  1.00  0.00       B   C  \\nHETATM    4 C    FRA A   3       0.000   0.000   4.500  1.00  0.00       B   C  \\nHETATM    5 C    FRA A   4       0.000   0.000   6.000  1.00  0.00       B   C  \\nHETATM    6 C    FRA A   5       0.000   0.000   7.500  1.00  0.00       B   C  \\nHETATM    7 C    FRA A   6       0.000   0.000   9.000  1.00  0.00       B   C  \\nHETATM    8 C    FRA A   7       0.000   0.000  10.500  1.00  0.00       B   C  \\nHETATM    9 C    FRA A   8       0.000   0.000  12.000  1.00  0.00       B   C  \\nHETATM   10 C    FRA A   9       0.000   0.000  13.500  1.00  0.00       B   C  \\nHETATM   11 C    FRA A  10       0.000   0.000  15.000  1.00  0.00       B   C  \\nHETATM   12 C    FRA A  11       0.000   0.000  16.500  1.00  0.00       B   C  \\nHETATM   13 C    FRA A  12       0.000   0.000  18.000  1.00  0.00       B   C  \\nHETATM   14 C    FRA A  13       0.000   0.000  19.500  1.00  0.00       B   C  \\nHETATM   15 C    FRA A  14       0.000   0.000  21.000  1.00  0.00       B   C  \\nHETATM   16 C    FRA A  15       0.000   0.000  22.500  1.00  0.00       B   C  \\nHETATM   17 C    FRA A  16       0.000   0.000  24.000  1.00  0.00       B   C  \\nHETATM   18 C    FRA A  17       0.000   0.000  25.500  1.00  0.00       B   C  \\nHETATM   19 C    FRA A  18       0.000   0.000  27.000  1.00  0.00       B   C  \\nHETATM   20 C    FRA A  19       0.000   0.000  28.500  1.00  0.00       B   C  \\nENDMDL\\n\",\"pdb\",{\"keepH\": \"true\"});\n\tviewergrid_16637866793258305[0][0].setStyle({\"model\": -1, \"serial\": 17},{\"sphere\": {\"scale\": 0.2, \"color\": \"#FF783E\"}});\n\tviewergrid_16637866793258305[0][0].addModelsAsFrames(\"MODEL 0\\nCRYST1      inf      inf   30.000     90     90     90                          \\nHETATM    1 C    FRA A   0       0.000   0.000   0.000  1.00  0.00       B   C  \\nHETATM    2 C    FRA A   1       0.000   0.000   1.500  1.00  0.00       B   C  \\nHETATM    3 C    FRA A   2       0.000   0.000   3.000  1.00  0.00       B   C  \\nHETATM    4 C    FRA A   3       0.000   0.000   4.500  1.00  0.00       B   C  \\nHETATM    5 C    FRA A   4       0.000   0.000   6.000  1.00  0.00       B   C  \\nHETATM    6 C    FRA A   5       0.000   0.000   7.500  1.00  0.00       B   C  \\nHETATM    7 C    FRA A   6       0.000   0.000   9.000  1.00  0.00       B   C  \\nHETATM    8 C    FRA A   7       0.000   0.000  10.500  1.00  0.00       B   C  \\nHETATM    9 C    FRA A   8       0.000   0.000  12.000  1.00  0.00       B   C  \\nHETATM   10 C    FRA A   9       0.000   0.000  13.500  1.00  0.00       B   C  \\nHETATM   11 C    FRA A  10       0.000   0.000  15.000  1.00  0.00       B   C  \\nHETATM   12 C    FRA A  11       0.000   0.000  16.500  1.00  0.00       B   C  \\nHETATM   13 C    FRA A  12       0.000   0.000  18.000  1.00  0.00       B   C  \\nHETATM   14 C    FRA A  13       0.000   0.000  19.500  1.00  0.00       B   C  \\nHETATM   15 C    FRA A  14       0.000   0.000  21.000  1.00  0.00       B   C  \\nHETATM   16 C    FRA A  15       0.000   0.000  22.500  1.00  0.00       B   C  \\nHETATM   17 C    FRA A  16       0.000   0.000  24.000  1.00  0.00       B   C  \\nHETATM   18 C    FRA A  17       0.000   0.000  25.500  1.00  0.00       B   C  \\nHETATM   19 C    FRA A  18       0.000   0.000  27.000  1.00  0.00       B   C  \\nHETATM   20 C    FRA A  19       0.000   0.000  28.500  1.00  0.00       B   C  \\nENDMDL\\n\",\"pdb\",{\"keepH\": \"true\"});\n\tviewergrid_16637866793258305[0][0].setStyle({\"model\": -1},{\"line\": {\"color\": \"black\"}});\n\tviewergrid_16637866793258305[0][0].addModelsAsFrames(\"MODEL 0\\nCRYST1      inf      inf   30.000     90     90     90                          \\nHETATM    1 C    FRA A   0       0.000   0.000   0.000  1.00  0.00       B   C  \\nHETATM    2 C    FRA A   1       0.000   0.000   1.500  1.00  0.00       B   C  \\nHETATM    3 C    FRA A   2       0.000   0.000   3.000  1.00  0.00       B   C  \\nHETATM    4 C    FRA A   3       0.000   0.000   4.500  1.00  0.00       B   C  \\nHETATM    5 C    FRA A   4       0.000   0.000   6.000  1.00  0.00       B   C  \\nHETATM    6 C    FRA A   5       0.000   0.000   7.500  1.00  0.00       B   C  \\nHETATM    7 C    FRA A   6       0.000   0.000   9.000  1.00  0.00       B   C  \\nHETATM    8 C    FRA A   7       0.000   0.000  10.500  1.00  0.00       B   C  \\nHETATM    9 C    FRA A   8       0.000   0.000  12.000  1.00  0.00       B   C  \\nHETATM   10 C    FRA A   9       0.000   0.000  13.500  1.00  0.00       B   C  \\nHETATM   11 C    FRA A  10       0.000   0.000  15.000  1.00  0.00       B   C  \\nHETATM   12 C    FRA A  11       0.000   0.000  16.500  1.00  0.00       B   C  \\nHETATM   13 C    FRA A  12       0.000   0.000  18.000  1.00  0.00       B   C  \\nHETATM   14 C    FRA A  13       0.000   0.000  19.500  1.00  0.00       B   C  \\nHETATM   15 C    FRA A  14       0.000   0.000  21.000  1.00  0.00       B   C  \\nHETATM   16 C    FRA A  15       0.000   0.000  22.500  1.00  0.00       B   C  \\nHETATM   17 C    FRA A  16       0.000   0.000  24.000  1.00  0.00       B   C  \\nHETATM   18 C    FRA A  17       0.000   0.000  25.500  1.00  0.00       B   C  \\nHETATM   19 C    FRA A  18       0.000   0.000  27.000  1.00  0.00       B   C  \\nHETATM   20 C    FRA A  19       0.000   0.000  28.500  1.00  0.00       B   C  \\nENDMDL\\n\",\"pdb\",{\"keepH\": \"true\"});\n\tviewergrid_16637866793258305[0][0].setStyle({\"model\": -1, \"serial\": 18},{\"sphere\": {\"scale\": 0.2, \"color\": \"#FF5028\"}});\n\tviewergrid_16637866793258305[0][0].addModelsAsFrames(\"MODEL 0\\nCRYST1      inf      inf   30.000     90     90     90                          \\nHETATM    1 C    FRA A   0       0.000   0.000   0.000  1.00  0.00       B   C  \\nHETATM    2 C    FRA A   1       0.000   0.000   1.500  1.00  0.00       B   C  \\nHETATM    3 C    FRA A   2       0.000   0.000   3.000  1.00  0.00       B   C  \\nHETATM    4 C    FRA A   3       0.000   0.000   4.500  1.00  0.00       B   C  \\nHETATM    5 C    FRA A   4       0.000   0.000   6.000  1.00  0.00       B   C  \\nHETATM    6 C    FRA A   5       0.000   0.000   7.500  1.00  0.00       B   C  \\nHETATM    7 C    FRA A   6       0.000   0.000   9.000  1.00  0.00       B   C  \\nHETATM    8 C    FRA A   7       0.000   0.000  10.500  1.00  0.00       B   C  \\nHETATM    9 C    FRA A   8       0.000   0.000  12.000  1.00  0.00       B   C  \\nHETATM   10 C    FRA A   9       0.000   0.000  13.500  1.00  0.00       B   C  \\nHETATM   11 C    FRA A  10       0.000   0.000  15.000  1.00  0.00       B   C  \\nHETATM   12 C    FRA A  11       0.000   0.000  16.500  1.00  0.00       B   C  \\nHETATM   13 C    FRA A  12       0.000   0.000  18.000  1.00  0.00       B   C  \\nHETATM   14 C    FRA A  13       0.000   0.000  19.500  1.00  0.00       B   C  \\nHETATM   15 C    FRA A  14       0.000   0.000  21.000  1.00  0.00       B   C  \\nHETATM   16 C    FRA A  15       0.000   0.000  22.500  1.00  0.00       B   C  \\nHETATM   17 C    FRA A  16       0.000   0.000  24.000  1.00  0.00       B   C  \\nHETATM   18 C    FRA A  17       0.000   0.000  25.500  1.00  0.00       B   C  \\nHETATM   19 C    FRA A  18       0.000   0.000  27.000  1.00  0.00       B   C  \\nHETATM   20 C    FRA A  19       0.000   0.000  28.500  1.00  0.00       B   C  \\nENDMDL\\n\",\"pdb\",{\"keepH\": \"true\"});\n\tviewergrid_16637866793258305[0][0].setStyle({\"model\": -1},{\"line\": {\"color\": \"black\"}});\n\tviewergrid_16637866793258305[0][0].addModelsAsFrames(\"MODEL 0\\nCRYST1      inf      inf   30.000     90     90     90                          \\nHETATM    1 C    FRA A   0       0.000   0.000   0.000  1.00  0.00       B   C  \\nHETATM    2 C    FRA A   1       0.000   0.000   1.500  1.00  0.00       B   C  \\nHETATM    3 C    FRA A   2       0.000   0.000   3.000  1.00  0.00       B   C  \\nHETATM    4 C    FRA A   3       0.000   0.000   4.500  1.00  0.00       B   C  \\nHETATM    5 C    FRA A   4       0.000   0.000   6.000  1.00  0.00       B   C  \\nHETATM    6 C    FRA A   5       0.000   0.000   7.500  1.00  0.00       B   C  \\nHETATM    7 C    FRA A   6       0.000   0.000   9.000  1.00  0.00       B   C  \\nHETATM    8 C    FRA A   7       0.000   0.000  10.500  1.00  0.00       B   C  \\nHETATM    9 C    FRA A   8       0.000   0.000  12.000  1.00  0.00       B   C  \\nHETATM   10 C    FRA A   9       0.000   0.000  13.500  1.00  0.00       B   C  \\nHETATM   11 C    FRA A  10       0.000   0.000  15.000  1.00  0.00       B   C  \\nHETATM   12 C    FRA A  11       0.000   0.000  16.500  1.00  0.00       B   C  \\nHETATM   13 C    FRA A  12       0.000   0.000  18.000  1.00  0.00       B   C  \\nHETATM   14 C    FRA A  13       0.000   0.000  19.500  1.00  0.00       B   C  \\nHETATM   15 C    FRA A  14       0.000   0.000  21.000  1.00  0.00       B   C  \\nHETATM   16 C    FRA A  15       0.000   0.000  22.500  1.00  0.00       B   C  \\nHETATM   17 C    FRA A  16       0.000   0.000  24.000  1.00  0.00       B   C  \\nHETATM   18 C    FRA A  17       0.000   0.000  25.500  1.00  0.00       B   C  \\nHETATM   19 C    FRA A  18       0.000   0.000  27.000  1.00  0.00       B   C  \\nHETATM   20 C    FRA A  19       0.000   0.000  28.500  1.00  0.00       B   C  \\nENDMDL\\n\",\"pdb\",{\"keepH\": \"true\"});\n\tviewergrid_16637866793258305[0][0].setStyle({\"model\": -1, \"serial\": 19},{\"sphere\": {\"scale\": 0.2, \"color\": \"#FF2814\"}});\n\tviewergrid_16637866793258305[0][0].addModelsAsFrames(\"MODEL 0\\nCRYST1      inf      inf   30.000     90     90     90                          \\nHETATM    1 C    FRA A   0       0.000   0.000   0.000  1.00  0.00       B   C  \\nHETATM    2 C    FRA A   1       0.000   0.000   1.500  1.00  0.00       B   C  \\nHETATM    3 C    FRA A   2       0.000   0.000   3.000  1.00  0.00       B   C  \\nHETATM    4 C    FRA A   3       0.000   0.000   4.500  1.00  0.00       B   C  \\nHETATM    5 C    FRA A   4       0.000   0.000   6.000  1.00  0.00       B   C  \\nHETATM    6 C    FRA A   5       0.000   0.000   7.500  1.00  0.00       B   C  \\nHETATM    7 C    FRA A   6       0.000   0.000   9.000  1.00  0.00       B   C  \\nHETATM    8 C    FRA A   7       0.000   0.000  10.500  1.00  0.00       B   C  \\nHETATM    9 C    FRA A   8       0.000   0.000  12.000  1.00  0.00       B   C  \\nHETATM   10 C    FRA A   9       0.000   0.000  13.500  1.00  0.00       B   C  \\nHETATM   11 C    FRA A  10       0.000   0.000  15.000  1.00  0.00       B   C  \\nHETATM   12 C    FRA A  11       0.000   0.000  16.500  1.00  0.00       B   C  \\nHETATM   13 C    FRA A  12       0.000   0.000  18.000  1.00  0.00       B   C  \\nHETATM   14 C    FRA A  13       0.000   0.000  19.500  1.00  0.00       B   C  \\nHETATM   15 C    FRA A  14       0.000   0.000  21.000  1.00  0.00       B   C  \\nHETATM   16 C    FRA A  15       0.000   0.000  22.500  1.00  0.00       B   C  \\nHETATM   17 C    FRA A  16       0.000   0.000  24.000  1.00  0.00       B   C  \\nHETATM   18 C    FRA A  17       0.000   0.000  25.500  1.00  0.00       B   C  \\nHETATM   19 C    FRA A  18       0.000   0.000  27.000  1.00  0.00       B   C  \\nHETATM   20 C    FRA A  19       0.000   0.000  28.500  1.00  0.00       B   C  \\nENDMDL\\n\",\"pdb\",{\"keepH\": \"true\"});\n\tviewergrid_16637866793258305[0][0].setStyle({\"model\": -1},{\"line\": {\"color\": \"black\"}});\n\tviewergrid_16637866793258305[0][0].addModelsAsFrames(\"MODEL 0\\nCRYST1      inf      inf   30.000     90     90     90                          \\nHETATM    1 C    FRA A   0       0.000   0.000   0.000  1.00  0.00       B   C  \\nHETATM    2 C    FRA A   1       0.000   0.000   1.500  1.00  0.00       B   C  \\nHETATM    3 C    FRA A   2       0.000   0.000   3.000  1.00  0.00       B   C  \\nHETATM    4 C    FRA A   3       0.000   0.000   4.500  1.00  0.00       B   C  \\nHETATM    5 C    FRA A   4       0.000   0.000   6.000  1.00  0.00       B   C  \\nHETATM    6 C    FRA A   5       0.000   0.000   7.500  1.00  0.00       B   C  \\nHETATM    7 C    FRA A   6       0.000   0.000   9.000  1.00  0.00       B   C  \\nHETATM    8 C    FRA A   7       0.000   0.000  10.500  1.00  0.00       B   C  \\nHETATM    9 C    FRA A   8       0.000   0.000  12.000  1.00  0.00       B   C  \\nHETATM   10 C    FRA A   9       0.000   0.000  13.500  1.00  0.00       B   C  \\nHETATM   11 C    FRA A  10       0.000   0.000  15.000  1.00  0.00       B   C  \\nHETATM   12 C    FRA A  11       0.000   0.000  16.500  1.00  0.00       B   C  \\nHETATM   13 C    FRA A  12       0.000   0.000  18.000  1.00  0.00       B   C  \\nHETATM   14 C    FRA A  13       0.000   0.000  19.500  1.00  0.00       B   C  \\nHETATM   15 C    FRA A  14       0.000   0.000  21.000  1.00  0.00       B   C  \\nHETATM   16 C    FRA A  15       0.000   0.000  22.500  1.00  0.00       B   C  \\nHETATM   17 C    FRA A  16       0.000   0.000  24.000  1.00  0.00       B   C  \\nHETATM   18 C    FRA A  17       0.000   0.000  25.500  1.00  0.00       B   C  \\nHETATM   19 C    FRA A  18       0.000   0.000  27.000  1.00  0.00       B   C  \\nHETATM   20 C    FRA A  19       0.000   0.000  28.500  1.00  0.00       B   C  \\nENDMDL\\n\",\"pdb\",{\"keepH\": \"true\"});\n\tviewergrid_16637866793258305[0][0].setStyle({\"model\": -1, \"serial\": 20},{\"sphere\": {\"scale\": 0.2, \"color\": \"#FF0000\"}});\n\tviewergrid_16637866793258305[0][0].addUnitCell({\"model\": -1},{\"box\": {\"color\": \"black\"}, \"alabel\": \"\", \"blabel\": \"\", \"clabel\": \"\"});\n\tviewergrid_16637866793258305[0][0].zoomTo();\n\tviewergrid_16637866793258305[0][0].zoom(3.0);\nviewergrid_16637866793258305[0][0].render();\n});\n</script>",
            "text/html": [
              "<div id=\"3dmolviewer_16637866793258305\"  style=\"position: relative; width: 400px; height: 100px\">\n",
              "        <p id=\"3dmolwarning_16637866793258305\" style=\"background-color:#ffcccc;color:black\">You appear to be running in JupyterLab (or JavaScript failed to load for some other reason).  You need to install the 3dmol extension: <br>\n",
              "        <tt>jupyter labextension install jupyterlab_3dmol</tt></p>\n",
              "        </div>\n",
              "<script>\n",
              "\n",
              "var loadScriptAsync = function(uri){\n",
              "  return new Promise((resolve, reject) => {\n",
              "    var tag = document.createElement('script');\n",
              "    tag.src = uri;\n",
              "    tag.async = true;\n",
              "    tag.onload = () => {\n",
              "      resolve();\n",
              "    };\n",
              "  var firstScriptTag = document.getElementsByTagName('script')[0];\n",
              "  firstScriptTag.parentNode.insertBefore(tag, firstScriptTag);\n",
              "});\n",
              "};\n",
              "\n",
              "if(typeof $3Dmolpromise === 'undefined') {\n",
              "$3Dmolpromise = null;\n",
              "  $3Dmolpromise = loadScriptAsync('https://cdn.jsdelivr.net/npm/3dmol@latest/build/3Dmol-min.min.js');\n",
              "}\n",
              "\n",
              "var viewer_16637866793258305 = null;\n",
              "var warn = document.getElementById(\"3dmolwarning_16637866793258305\");\n",
              "if(warn) {\n",
              "    warn.parentNode.removeChild(warn);\n",
              "}\n",
              "$3Dmolpromise.then(function() {\n",
              "var viewergrid_16637866793258305 = null;\n",
              "viewergrid_16637866793258305 = $3Dmol.createViewerGrid($(\"#3dmolviewer_16637866793258305\"),{rows: 1, cols: 1, control_all: false},{backgroundColor:\"white\"});\n",
              "viewer_16637866793258305 = viewergrid_16637866793258305[0][0];\n",
              "viewergrid_16637866793258305[0][0].zoomTo();\tviewergrid_16637866793258305[0][0].addModelsAsFrames(\"MODEL 0\\nCRYST1      inf      inf   30.000     90     90     90                          \\nHETATM    1 C    FRA A   0       0.000   0.000   0.000  1.00  0.00       B   C  \\nHETATM    2 C    FRA A   1       0.000   0.000   1.500  1.00  0.00       B   C  \\nHETATM    3 C    FRA A   2       0.000   0.000   3.000  1.00  0.00       B   C  \\nHETATM    4 C    FRA A   3       0.000   0.000   4.500  1.00  0.00       B   C  \\nHETATM    5 C    FRA A   4       0.000   0.000   6.000  1.00  0.00       B   C  \\nHETATM    6 C    FRA A   5       0.000   0.000   7.500  1.00  0.00       B   C  \\nHETATM    7 C    FRA A   6       0.000   0.000   9.000  1.00  0.00       B   C  \\nHETATM    8 C    FRA A   7       0.000   0.000  10.500  1.00  0.00       B   C  \\nHETATM    9 C    FRA A   8       0.000   0.000  12.000  1.00  0.00       B   C  \\nHETATM   10 C    FRA A   9       0.000   0.000  13.500  1.00  0.00       B   C  \\nHETATM   11 C    FRA A  10       0.000   0.000  15.000  1.00  0.00       B   C  \\nHETATM   12 C    FRA A  11       0.000   0.000  16.500  1.00  0.00       B   C  \\nHETATM   13 C    FRA A  12       0.000   0.000  18.000  1.00  0.00       B   C  \\nHETATM   14 C    FRA A  13       0.000   0.000  19.500  1.00  0.00       B   C  \\nHETATM   15 C    FRA A  14       0.000   0.000  21.000  1.00  0.00       B   C  \\nHETATM   16 C    FRA A  15       0.000   0.000  22.500  1.00  0.00       B   C  \\nHETATM   17 C    FRA A  16       0.000   0.000  24.000  1.00  0.00       B   C  \\nHETATM   18 C    FRA A  17       0.000   0.000  25.500  1.00  0.00       B   C  \\nHETATM   19 C    FRA A  18       0.000   0.000  27.000  1.00  0.00       B   C  \\nHETATM   20 C    FRA A  19       0.000   0.000  28.500  1.00  0.00       B   C  \\nENDMDL\\n\",\"pdb\",{\"keepH\": \"true\"});\n",
              "\tviewergrid_16637866793258305[0][0].setStyle({\"model\": -1},{\"line\": {\"color\": \"black\"}});\n",
              "\tviewergrid_16637866793258305[0][0].addModelsAsFrames(\"MODEL 0\\nCRYST1      inf      inf   30.000     90     90     90                          \\nHETATM    1 C    FRA A   0       0.000   0.000   0.000  1.00  0.00       B   C  \\nHETATM    2 C    FRA A   1       0.000   0.000   1.500  1.00  0.00       B   C  \\nHETATM    3 C    FRA A   2       0.000   0.000   3.000  1.00  0.00       B   C  \\nHETATM    4 C    FRA A   3       0.000   0.000   4.500  1.00  0.00       B   C  \\nHETATM    5 C    FRA A   4       0.000   0.000   6.000  1.00  0.00       B   C  \\nHETATM    6 C    FRA A   5       0.000   0.000   7.500  1.00  0.00       B   C  \\nHETATM    7 C    FRA A   6       0.000   0.000   9.000  1.00  0.00       B   C  \\nHETATM    8 C    FRA A   7       0.000   0.000  10.500  1.00  0.00       B   C  \\nHETATM    9 C    FRA A   8       0.000   0.000  12.000  1.00  0.00       B   C  \\nHETATM   10 C    FRA A   9       0.000   0.000  13.500  1.00  0.00       B   C  \\nHETATM   11 C    FRA A  10       0.000   0.000  15.000  1.00  0.00       B   C  \\nHETATM   12 C    FRA A  11       0.000   0.000  16.500  1.00  0.00       B   C  \\nHETATM   13 C    FRA A  12       0.000   0.000  18.000  1.00  0.00       B   C  \\nHETATM   14 C    FRA A  13       0.000   0.000  19.500  1.00  0.00       B   C  \\nHETATM   15 C    FRA A  14       0.000   0.000  21.000  1.00  0.00       B   C  \\nHETATM   16 C    FRA A  15       0.000   0.000  22.500  1.00  0.00       B   C  \\nHETATM   17 C    FRA A  16       0.000   0.000  24.000  1.00  0.00       B   C  \\nHETATM   18 C    FRA A  17       0.000   0.000  25.500  1.00  0.00       B   C  \\nHETATM   19 C    FRA A  18       0.000   0.000  27.000  1.00  0.00       B   C  \\nHETATM   20 C    FRA A  19       0.000   0.000  28.500  1.00  0.00       B   C  \\nENDMDL\\n\",\"pdb\",{\"keepH\": \"true\"});\n",
              "\tviewergrid_16637866793258305[0][0].setStyle({\"model\": -1, \"serial\": 1},{\"sphere\": {\"scale\": 0.2, \"color\": \"#7F00FF\"}});\n",
              "\tviewergrid_16637866793258305[0][0].addModelsAsFrames(\"MODEL 0\\nCRYST1      inf      inf   30.000     90     90     90                          \\nHETATM    1 C    FRA A   0       0.000   0.000   0.000  1.00  0.00       B   C  \\nHETATM    2 C    FRA A   1       0.000   0.000   1.500  1.00  0.00       B   C  \\nHETATM    3 C    FRA A   2       0.000   0.000   3.000  1.00  0.00       B   C  \\nHETATM    4 C    FRA A   3       0.000   0.000   4.500  1.00  0.00       B   C  \\nHETATM    5 C    FRA A   4       0.000   0.000   6.000  1.00  0.00       B   C  \\nHETATM    6 C    FRA A   5       0.000   0.000   7.500  1.00  0.00       B   C  \\nHETATM    7 C    FRA A   6       0.000   0.000   9.000  1.00  0.00       B   C  \\nHETATM    8 C    FRA A   7       0.000   0.000  10.500  1.00  0.00       B   C  \\nHETATM    9 C    FRA A   8       0.000   0.000  12.000  1.00  0.00       B   C  \\nHETATM   10 C    FRA A   9       0.000   0.000  13.500  1.00  0.00       B   C  \\nHETATM   11 C    FRA A  10       0.000   0.000  15.000  1.00  0.00       B   C  \\nHETATM   12 C    FRA A  11       0.000   0.000  16.500  1.00  0.00       B   C  \\nHETATM   13 C    FRA A  12       0.000   0.000  18.000  1.00  0.00       B   C  \\nHETATM   14 C    FRA A  13       0.000   0.000  19.500  1.00  0.00       B   C  \\nHETATM   15 C    FRA A  14       0.000   0.000  21.000  1.00  0.00       B   C  \\nHETATM   16 C    FRA A  15       0.000   0.000  22.500  1.00  0.00       B   C  \\nHETATM   17 C    FRA A  16       0.000   0.000  24.000  1.00  0.00       B   C  \\nHETATM   18 C    FRA A  17       0.000   0.000  25.500  1.00  0.00       B   C  \\nHETATM   19 C    FRA A  18       0.000   0.000  27.000  1.00  0.00       B   C  \\nHETATM   20 C    FRA A  19       0.000   0.000  28.500  1.00  0.00       B   C  \\nENDMDL\\n\",\"pdb\",{\"keepH\": \"true\"});\n",
              "\tviewergrid_16637866793258305[0][0].setStyle({\"model\": -1},{\"line\": {\"color\": \"black\"}});\n",
              "\tviewergrid_16637866793258305[0][0].addModelsAsFrames(\"MODEL 0\\nCRYST1      inf      inf   30.000     90     90     90                          \\nHETATM    1 C    FRA A   0       0.000   0.000   0.000  1.00  0.00       B   C  \\nHETATM    2 C    FRA A   1       0.000   0.000   1.500  1.00  0.00       B   C  \\nHETATM    3 C    FRA A   2       0.000   0.000   3.000  1.00  0.00       B   C  \\nHETATM    4 C    FRA A   3       0.000   0.000   4.500  1.00  0.00       B   C  \\nHETATM    5 C    FRA A   4       0.000   0.000   6.000  1.00  0.00       B   C  \\nHETATM    6 C    FRA A   5       0.000   0.000   7.500  1.00  0.00       B   C  \\nHETATM    7 C    FRA A   6       0.000   0.000   9.000  1.00  0.00       B   C  \\nHETATM    8 C    FRA A   7       0.000   0.000  10.500  1.00  0.00       B   C  \\nHETATM    9 C    FRA A   8       0.000   0.000  12.000  1.00  0.00       B   C  \\nHETATM   10 C    FRA A   9       0.000   0.000  13.500  1.00  0.00       B   C  \\nHETATM   11 C    FRA A  10       0.000   0.000  15.000  1.00  0.00       B   C  \\nHETATM   12 C    FRA A  11       0.000   0.000  16.500  1.00  0.00       B   C  \\nHETATM   13 C    FRA A  12       0.000   0.000  18.000  1.00  0.00       B   C  \\nHETATM   14 C    FRA A  13       0.000   0.000  19.500  1.00  0.00       B   C  \\nHETATM   15 C    FRA A  14       0.000   0.000  21.000  1.00  0.00       B   C  \\nHETATM   16 C    FRA A  15       0.000   0.000  22.500  1.00  0.00       B   C  \\nHETATM   17 C    FRA A  16       0.000   0.000  24.000  1.00  0.00       B   C  \\nHETATM   18 C    FRA A  17       0.000   0.000  25.500  1.00  0.00       B   C  \\nHETATM   19 C    FRA A  18       0.000   0.000  27.000  1.00  0.00       B   C  \\nHETATM   20 C    FRA A  19       0.000   0.000  28.500  1.00  0.00       B   C  \\nENDMDL\\n\",\"pdb\",{\"keepH\": \"true\"});\n",
              "\tviewergrid_16637866793258305[0][0].setStyle({\"model\": -1, \"serial\": 2},{\"sphere\": {\"scale\": 0.2, \"color\": \"#6528FE\"}});\n",
              "\tviewergrid_16637866793258305[0][0].addModelsAsFrames(\"MODEL 0\\nCRYST1      inf      inf   30.000     90     90     90                          \\nHETATM    1 C    FRA A   0       0.000   0.000   0.000  1.00  0.00       B   C  \\nHETATM    2 C    FRA A   1       0.000   0.000   1.500  1.00  0.00       B   C  \\nHETATM    3 C    FRA A   2       0.000   0.000   3.000  1.00  0.00       B   C  \\nHETATM    4 C    FRA A   3       0.000   0.000   4.500  1.00  0.00       B   C  \\nHETATM    5 C    FRA A   4       0.000   0.000   6.000  1.00  0.00       B   C  \\nHETATM    6 C    FRA A   5       0.000   0.000   7.500  1.00  0.00       B   C  \\nHETATM    7 C    FRA A   6       0.000   0.000   9.000  1.00  0.00       B   C  \\nHETATM    8 C    FRA A   7       0.000   0.000  10.500  1.00  0.00       B   C  \\nHETATM    9 C    FRA A   8       0.000   0.000  12.000  1.00  0.00       B   C  \\nHETATM   10 C    FRA A   9       0.000   0.000  13.500  1.00  0.00       B   C  \\nHETATM   11 C    FRA A  10       0.000   0.000  15.000  1.00  0.00       B   C  \\nHETATM   12 C    FRA A  11       0.000   0.000  16.500  1.00  0.00       B   C  \\nHETATM   13 C    FRA A  12       0.000   0.000  18.000  1.00  0.00       B   C  \\nHETATM   14 C    FRA A  13       0.000   0.000  19.500  1.00  0.00       B   C  \\nHETATM   15 C    FRA A  14       0.000   0.000  21.000  1.00  0.00       B   C  \\nHETATM   16 C    FRA A  15       0.000   0.000  22.500  1.00  0.00       B   C  \\nHETATM   17 C    FRA A  16       0.000   0.000  24.000  1.00  0.00       B   C  \\nHETATM   18 C    FRA A  17       0.000   0.000  25.500  1.00  0.00       B   C  \\nHETATM   19 C    FRA A  18       0.000   0.000  27.000  1.00  0.00       B   C  \\nHETATM   20 C    FRA A  19       0.000   0.000  28.500  1.00  0.00       B   C  \\nENDMDL\\n\",\"pdb\",{\"keepH\": \"true\"});\n",
              "\tviewergrid_16637866793258305[0][0].setStyle({\"model\": -1},{\"line\": {\"color\": \"black\"}});\n",
              "\tviewergrid_16637866793258305[0][0].addModelsAsFrames(\"MODEL 0\\nCRYST1      inf      inf   30.000     90     90     90                          \\nHETATM    1 C    FRA A   0       0.000   0.000   0.000  1.00  0.00       B   C  \\nHETATM    2 C    FRA A   1       0.000   0.000   1.500  1.00  0.00       B   C  \\nHETATM    3 C    FRA A   2       0.000   0.000   3.000  1.00  0.00       B   C  \\nHETATM    4 C    FRA A   3       0.000   0.000   4.500  1.00  0.00       B   C  \\nHETATM    5 C    FRA A   4       0.000   0.000   6.000  1.00  0.00       B   C  \\nHETATM    6 C    FRA A   5       0.000   0.000   7.500  1.00  0.00       B   C  \\nHETATM    7 C    FRA A   6       0.000   0.000   9.000  1.00  0.00       B   C  \\nHETATM    8 C    FRA A   7       0.000   0.000  10.500  1.00  0.00       B   C  \\nHETATM    9 C    FRA A   8       0.000   0.000  12.000  1.00  0.00       B   C  \\nHETATM   10 C    FRA A   9       0.000   0.000  13.500  1.00  0.00       B   C  \\nHETATM   11 C    FRA A  10       0.000   0.000  15.000  1.00  0.00       B   C  \\nHETATM   12 C    FRA A  11       0.000   0.000  16.500  1.00  0.00       B   C  \\nHETATM   13 C    FRA A  12       0.000   0.000  18.000  1.00  0.00       B   C  \\nHETATM   14 C    FRA A  13       0.000   0.000  19.500  1.00  0.00       B   C  \\nHETATM   15 C    FRA A  14       0.000   0.000  21.000  1.00  0.00       B   C  \\nHETATM   16 C    FRA A  15       0.000   0.000  22.500  1.00  0.00       B   C  \\nHETATM   17 C    FRA A  16       0.000   0.000  24.000  1.00  0.00       B   C  \\nHETATM   18 C    FRA A  17       0.000   0.000  25.500  1.00  0.00       B   C  \\nHETATM   19 C    FRA A  18       0.000   0.000  27.000  1.00  0.00       B   C  \\nHETATM   20 C    FRA A  19       0.000   0.000  28.500  1.00  0.00       B   C  \\nENDMDL\\n\",\"pdb\",{\"keepH\": \"true\"});\n",
              "\tviewergrid_16637866793258305[0][0].setStyle({\"model\": -1, \"serial\": 3},{\"sphere\": {\"scale\": 0.2, \"color\": \"#4B50FB\"}});\n",
              "\tviewergrid_16637866793258305[0][0].addModelsAsFrames(\"MODEL 0\\nCRYST1      inf      inf   30.000     90     90     90                          \\nHETATM    1 C    FRA A   0       0.000   0.000   0.000  1.00  0.00       B   C  \\nHETATM    2 C    FRA A   1       0.000   0.000   1.500  1.00  0.00       B   C  \\nHETATM    3 C    FRA A   2       0.000   0.000   3.000  1.00  0.00       B   C  \\nHETATM    4 C    FRA A   3       0.000   0.000   4.500  1.00  0.00       B   C  \\nHETATM    5 C    FRA A   4       0.000   0.000   6.000  1.00  0.00       B   C  \\nHETATM    6 C    FRA A   5       0.000   0.000   7.500  1.00  0.00       B   C  \\nHETATM    7 C    FRA A   6       0.000   0.000   9.000  1.00  0.00       B   C  \\nHETATM    8 C    FRA A   7       0.000   0.000  10.500  1.00  0.00       B   C  \\nHETATM    9 C    FRA A   8       0.000   0.000  12.000  1.00  0.00       B   C  \\nHETATM   10 C    FRA A   9       0.000   0.000  13.500  1.00  0.00       B   C  \\nHETATM   11 C    FRA A  10       0.000   0.000  15.000  1.00  0.00       B   C  \\nHETATM   12 C    FRA A  11       0.000   0.000  16.500  1.00  0.00       B   C  \\nHETATM   13 C    FRA A  12       0.000   0.000  18.000  1.00  0.00       B   C  \\nHETATM   14 C    FRA A  13       0.000   0.000  19.500  1.00  0.00       B   C  \\nHETATM   15 C    FRA A  14       0.000   0.000  21.000  1.00  0.00       B   C  \\nHETATM   16 C    FRA A  15       0.000   0.000  22.500  1.00  0.00       B   C  \\nHETATM   17 C    FRA A  16       0.000   0.000  24.000  1.00  0.00       B   C  \\nHETATM   18 C    FRA A  17       0.000   0.000  25.500  1.00  0.00       B   C  \\nHETATM   19 C    FRA A  18       0.000   0.000  27.000  1.00  0.00       B   C  \\nHETATM   20 C    FRA A  19       0.000   0.000  28.500  1.00  0.00       B   C  \\nENDMDL\\n\",\"pdb\",{\"keepH\": \"true\"});\n",
              "\tviewergrid_16637866793258305[0][0].setStyle({\"model\": -1},{\"line\": {\"color\": \"black\"}});\n",
              "\tviewergrid_16637866793258305[0][0].addModelsAsFrames(\"MODEL 0\\nCRYST1      inf      inf   30.000     90     90     90                          \\nHETATM    1 C    FRA A   0       0.000   0.000   0.000  1.00  0.00       B   C  \\nHETATM    2 C    FRA A   1       0.000   0.000   1.500  1.00  0.00       B   C  \\nHETATM    3 C    FRA A   2       0.000   0.000   3.000  1.00  0.00       B   C  \\nHETATM    4 C    FRA A   3       0.000   0.000   4.500  1.00  0.00       B   C  \\nHETATM    5 C    FRA A   4       0.000   0.000   6.000  1.00  0.00       B   C  \\nHETATM    6 C    FRA A   5       0.000   0.000   7.500  1.00  0.00       B   C  \\nHETATM    7 C    FRA A   6       0.000   0.000   9.000  1.00  0.00       B   C  \\nHETATM    8 C    FRA A   7       0.000   0.000  10.500  1.00  0.00       B   C  \\nHETATM    9 C    FRA A   8       0.000   0.000  12.000  1.00  0.00       B   C  \\nHETATM   10 C    FRA A   9       0.000   0.000  13.500  1.00  0.00       B   C  \\nHETATM   11 C    FRA A  10       0.000   0.000  15.000  1.00  0.00       B   C  \\nHETATM   12 C    FRA A  11       0.000   0.000  16.500  1.00  0.00       B   C  \\nHETATM   13 C    FRA A  12       0.000   0.000  18.000  1.00  0.00       B   C  \\nHETATM   14 C    FRA A  13       0.000   0.000  19.500  1.00  0.00       B   C  \\nHETATM   15 C    FRA A  14       0.000   0.000  21.000  1.00  0.00       B   C  \\nHETATM   16 C    FRA A  15       0.000   0.000  22.500  1.00  0.00       B   C  \\nHETATM   17 C    FRA A  16       0.000   0.000  24.000  1.00  0.00       B   C  \\nHETATM   18 C    FRA A  17       0.000   0.000  25.500  1.00  0.00       B   C  \\nHETATM   19 C    FRA A  18       0.000   0.000  27.000  1.00  0.00       B   C  \\nHETATM   20 C    FRA A  19       0.000   0.000  28.500  1.00  0.00       B   C  \\nENDMDL\\n\",\"pdb\",{\"keepH\": \"true\"});\n",
              "\tviewergrid_16637866793258305[0][0].setStyle({\"model\": -1, \"serial\": 4},{\"sphere\": {\"scale\": 0.2, \"color\": \"#2F78F7\"}});\n",
              "\tviewergrid_16637866793258305[0][0].addModelsAsFrames(\"MODEL 0\\nCRYST1      inf      inf   30.000     90     90     90                          \\nHETATM    1 C    FRA A   0       0.000   0.000   0.000  1.00  0.00       B   C  \\nHETATM    2 C    FRA A   1       0.000   0.000   1.500  1.00  0.00       B   C  \\nHETATM    3 C    FRA A   2       0.000   0.000   3.000  1.00  0.00       B   C  \\nHETATM    4 C    FRA A   3       0.000   0.000   4.500  1.00  0.00       B   C  \\nHETATM    5 C    FRA A   4       0.000   0.000   6.000  1.00  0.00       B   C  \\nHETATM    6 C    FRA A   5       0.000   0.000   7.500  1.00  0.00       B   C  \\nHETATM    7 C    FRA A   6       0.000   0.000   9.000  1.00  0.00       B   C  \\nHETATM    8 C    FRA A   7       0.000   0.000  10.500  1.00  0.00       B   C  \\nHETATM    9 C    FRA A   8       0.000   0.000  12.000  1.00  0.00       B   C  \\nHETATM   10 C    FRA A   9       0.000   0.000  13.500  1.00  0.00       B   C  \\nHETATM   11 C    FRA A  10       0.000   0.000  15.000  1.00  0.00       B   C  \\nHETATM   12 C    FRA A  11       0.000   0.000  16.500  1.00  0.00       B   C  \\nHETATM   13 C    FRA A  12       0.000   0.000  18.000  1.00  0.00       B   C  \\nHETATM   14 C    FRA A  13       0.000   0.000  19.500  1.00  0.00       B   C  \\nHETATM   15 C    FRA A  14       0.000   0.000  21.000  1.00  0.00       B   C  \\nHETATM   16 C    FRA A  15       0.000   0.000  22.500  1.00  0.00       B   C  \\nHETATM   17 C    FRA A  16       0.000   0.000  24.000  1.00  0.00       B   C  \\nHETATM   18 C    FRA A  17       0.000   0.000  25.500  1.00  0.00       B   C  \\nHETATM   19 C    FRA A  18       0.000   0.000  27.000  1.00  0.00       B   C  \\nHETATM   20 C    FRA A  19       0.000   0.000  28.500  1.00  0.00       B   C  \\nENDMDL\\n\",\"pdb\",{\"keepH\": \"true\"});\n",
              "\tviewergrid_16637866793258305[0][0].setStyle({\"model\": -1},{\"line\": {\"color\": \"black\"}});\n",
              "\tviewergrid_16637866793258305[0][0].addModelsAsFrames(\"MODEL 0\\nCRYST1      inf      inf   30.000     90     90     90                          \\nHETATM    1 C    FRA A   0       0.000   0.000   0.000  1.00  0.00       B   C  \\nHETATM    2 C    FRA A   1       0.000   0.000   1.500  1.00  0.00       B   C  \\nHETATM    3 C    FRA A   2       0.000   0.000   3.000  1.00  0.00       B   C  \\nHETATM    4 C    FRA A   3       0.000   0.000   4.500  1.00  0.00       B   C  \\nHETATM    5 C    FRA A   4       0.000   0.000   6.000  1.00  0.00       B   C  \\nHETATM    6 C    FRA A   5       0.000   0.000   7.500  1.00  0.00       B   C  \\nHETATM    7 C    FRA A   6       0.000   0.000   9.000  1.00  0.00       B   C  \\nHETATM    8 C    FRA A   7       0.000   0.000  10.500  1.00  0.00       B   C  \\nHETATM    9 C    FRA A   8       0.000   0.000  12.000  1.00  0.00       B   C  \\nHETATM   10 C    FRA A   9       0.000   0.000  13.500  1.00  0.00       B   C  \\nHETATM   11 C    FRA A  10       0.000   0.000  15.000  1.00  0.00       B   C  \\nHETATM   12 C    FRA A  11       0.000   0.000  16.500  1.00  0.00       B   C  \\nHETATM   13 C    FRA A  12       0.000   0.000  18.000  1.00  0.00       B   C  \\nHETATM   14 C    FRA A  13       0.000   0.000  19.500  1.00  0.00       B   C  \\nHETATM   15 C    FRA A  14       0.000   0.000  21.000  1.00  0.00       B   C  \\nHETATM   16 C    FRA A  15       0.000   0.000  22.500  1.00  0.00       B   C  \\nHETATM   17 C    FRA A  16       0.000   0.000  24.000  1.00  0.00       B   C  \\nHETATM   18 C    FRA A  17       0.000   0.000  25.500  1.00  0.00       B   C  \\nHETATM   19 C    FRA A  18       0.000   0.000  27.000  1.00  0.00       B   C  \\nHETATM   20 C    FRA A  19       0.000   0.000  28.500  1.00  0.00       B   C  \\nENDMDL\\n\",\"pdb\",{\"keepH\": \"true\"});\n",
              "\tviewergrid_16637866793258305[0][0].setStyle({\"model\": -1, \"serial\": 5},{\"sphere\": {\"scale\": 0.2, \"color\": \"#159AF1\"}});\n",
              "\tviewergrid_16637866793258305[0][0].addModelsAsFrames(\"MODEL 0\\nCRYST1      inf      inf   30.000     90     90     90                          \\nHETATM    1 C    FRA A   0       0.000   0.000   0.000  1.00  0.00       B   C  \\nHETATM    2 C    FRA A   1       0.000   0.000   1.500  1.00  0.00       B   C  \\nHETATM    3 C    FRA A   2       0.000   0.000   3.000  1.00  0.00       B   C  \\nHETATM    4 C    FRA A   3       0.000   0.000   4.500  1.00  0.00       B   C  \\nHETATM    5 C    FRA A   4       0.000   0.000   6.000  1.00  0.00       B   C  \\nHETATM    6 C    FRA A   5       0.000   0.000   7.500  1.00  0.00       B   C  \\nHETATM    7 C    FRA A   6       0.000   0.000   9.000  1.00  0.00       B   C  \\nHETATM    8 C    FRA A   7       0.000   0.000  10.500  1.00  0.00       B   C  \\nHETATM    9 C    FRA A   8       0.000   0.000  12.000  1.00  0.00       B   C  \\nHETATM   10 C    FRA A   9       0.000   0.000  13.500  1.00  0.00       B   C  \\nHETATM   11 C    FRA A  10       0.000   0.000  15.000  1.00  0.00       B   C  \\nHETATM   12 C    FRA A  11       0.000   0.000  16.500  1.00  0.00       B   C  \\nHETATM   13 C    FRA A  12       0.000   0.000  18.000  1.00  0.00       B   C  \\nHETATM   14 C    FRA A  13       0.000   0.000  19.500  1.00  0.00       B   C  \\nHETATM   15 C    FRA A  14       0.000   0.000  21.000  1.00  0.00       B   C  \\nHETATM   16 C    FRA A  15       0.000   0.000  22.500  1.00  0.00       B   C  \\nHETATM   17 C    FRA A  16       0.000   0.000  24.000  1.00  0.00       B   C  \\nHETATM   18 C    FRA A  17       0.000   0.000  25.500  1.00  0.00       B   C  \\nHETATM   19 C    FRA A  18       0.000   0.000  27.000  1.00  0.00       B   C  \\nHETATM   20 C    FRA A  19       0.000   0.000  28.500  1.00  0.00       B   C  \\nENDMDL\\n\",\"pdb\",{\"keepH\": \"true\"});\n",
              "\tviewergrid_16637866793258305[0][0].setStyle({\"model\": -1},{\"line\": {\"color\": \"black\"}});\n",
              "\tviewergrid_16637866793258305[0][0].addModelsAsFrames(\"MODEL 0\\nCRYST1      inf      inf   30.000     90     90     90                          \\nHETATM    1 C    FRA A   0       0.000   0.000   0.000  1.00  0.00       B   C  \\nHETATM    2 C    FRA A   1       0.000   0.000   1.500  1.00  0.00       B   C  \\nHETATM    3 C    FRA A   2       0.000   0.000   3.000  1.00  0.00       B   C  \\nHETATM    4 C    FRA A   3       0.000   0.000   4.500  1.00  0.00       B   C  \\nHETATM    5 C    FRA A   4       0.000   0.000   6.000  1.00  0.00       B   C  \\nHETATM    6 C    FRA A   5       0.000   0.000   7.500  1.00  0.00       B   C  \\nHETATM    7 C    FRA A   6       0.000   0.000   9.000  1.00  0.00       B   C  \\nHETATM    8 C    FRA A   7       0.000   0.000  10.500  1.00  0.00       B   C  \\nHETATM    9 C    FRA A   8       0.000   0.000  12.000  1.00  0.00       B   C  \\nHETATM   10 C    FRA A   9       0.000   0.000  13.500  1.00  0.00       B   C  \\nHETATM   11 C    FRA A  10       0.000   0.000  15.000  1.00  0.00       B   C  \\nHETATM   12 C    FRA A  11       0.000   0.000  16.500  1.00  0.00       B   C  \\nHETATM   13 C    FRA A  12       0.000   0.000  18.000  1.00  0.00       B   C  \\nHETATM   14 C    FRA A  13       0.000   0.000  19.500  1.00  0.00       B   C  \\nHETATM   15 C    FRA A  14       0.000   0.000  21.000  1.00  0.00       B   C  \\nHETATM   16 C    FRA A  15       0.000   0.000  22.500  1.00  0.00       B   C  \\nHETATM   17 C    FRA A  16       0.000   0.000  24.000  1.00  0.00       B   C  \\nHETATM   18 C    FRA A  17       0.000   0.000  25.500  1.00  0.00       B   C  \\nHETATM   19 C    FRA A  18       0.000   0.000  27.000  1.00  0.00       B   C  \\nHETATM   20 C    FRA A  19       0.000   0.000  28.500  1.00  0.00       B   C  \\nENDMDL\\n\",\"pdb\",{\"keepH\": \"true\"});\n",
              "\tviewergrid_16637866793258305[0][0].setStyle({\"model\": -1, \"serial\": 6},{\"sphere\": {\"scale\": 0.2, \"color\": \"#06BBE9\"}});\n",
              "\tviewergrid_16637866793258305[0][0].addModelsAsFrames(\"MODEL 0\\nCRYST1      inf      inf   30.000     90     90     90                          \\nHETATM    1 C    FRA A   0       0.000   0.000   0.000  1.00  0.00       B   C  \\nHETATM    2 C    FRA A   1       0.000   0.000   1.500  1.00  0.00       B   C  \\nHETATM    3 C    FRA A   2       0.000   0.000   3.000  1.00  0.00       B   C  \\nHETATM    4 C    FRA A   3       0.000   0.000   4.500  1.00  0.00       B   C  \\nHETATM    5 C    FRA A   4       0.000   0.000   6.000  1.00  0.00       B   C  \\nHETATM    6 C    FRA A   5       0.000   0.000   7.500  1.00  0.00       B   C  \\nHETATM    7 C    FRA A   6       0.000   0.000   9.000  1.00  0.00       B   C  \\nHETATM    8 C    FRA A   7       0.000   0.000  10.500  1.00  0.00       B   C  \\nHETATM    9 C    FRA A   8       0.000   0.000  12.000  1.00  0.00       B   C  \\nHETATM   10 C    FRA A   9       0.000   0.000  13.500  1.00  0.00       B   C  \\nHETATM   11 C    FRA A  10       0.000   0.000  15.000  1.00  0.00       B   C  \\nHETATM   12 C    FRA A  11       0.000   0.000  16.500  1.00  0.00       B   C  \\nHETATM   13 C    FRA A  12       0.000   0.000  18.000  1.00  0.00       B   C  \\nHETATM   14 C    FRA A  13       0.000   0.000  19.500  1.00  0.00       B   C  \\nHETATM   15 C    FRA A  14       0.000   0.000  21.000  1.00  0.00       B   C  \\nHETATM   16 C    FRA A  15       0.000   0.000  22.500  1.00  0.00       B   C  \\nHETATM   17 C    FRA A  16       0.000   0.000  24.000  1.00  0.00       B   C  \\nHETATM   18 C    FRA A  17       0.000   0.000  25.500  1.00  0.00       B   C  \\nHETATM   19 C    FRA A  18       0.000   0.000  27.000  1.00  0.00       B   C  \\nHETATM   20 C    FRA A  19       0.000   0.000  28.500  1.00  0.00       B   C  \\nENDMDL\\n\",\"pdb\",{\"keepH\": \"true\"});\n",
              "\tviewergrid_16637866793258305[0][0].setStyle({\"model\": -1},{\"line\": {\"color\": \"black\"}});\n",
              "\tviewergrid_16637866793258305[0][0].addModelsAsFrames(\"MODEL 0\\nCRYST1      inf      inf   30.000     90     90     90                          \\nHETATM    1 C    FRA A   0       0.000   0.000   0.000  1.00  0.00       B   C  \\nHETATM    2 C    FRA A   1       0.000   0.000   1.500  1.00  0.00       B   C  \\nHETATM    3 C    FRA A   2       0.000   0.000   3.000  1.00  0.00       B   C  \\nHETATM    4 C    FRA A   3       0.000   0.000   4.500  1.00  0.00       B   C  \\nHETATM    5 C    FRA A   4       0.000   0.000   6.000  1.00  0.00       B   C  \\nHETATM    6 C    FRA A   5       0.000   0.000   7.500  1.00  0.00       B   C  \\nHETATM    7 C    FRA A   6       0.000   0.000   9.000  1.00  0.00       B   C  \\nHETATM    8 C    FRA A   7       0.000   0.000  10.500  1.00  0.00       B   C  \\nHETATM    9 C    FRA A   8       0.000   0.000  12.000  1.00  0.00       B   C  \\nHETATM   10 C    FRA A   9       0.000   0.000  13.500  1.00  0.00       B   C  \\nHETATM   11 C    FRA A  10       0.000   0.000  15.000  1.00  0.00       B   C  \\nHETATM   12 C    FRA A  11       0.000   0.000  16.500  1.00  0.00       B   C  \\nHETATM   13 C    FRA A  12       0.000   0.000  18.000  1.00  0.00       B   C  \\nHETATM   14 C    FRA A  13       0.000   0.000  19.500  1.00  0.00       B   C  \\nHETATM   15 C    FRA A  14       0.000   0.000  21.000  1.00  0.00       B   C  \\nHETATM   16 C    FRA A  15       0.000   0.000  22.500  1.00  0.00       B   C  \\nHETATM   17 C    FRA A  16       0.000   0.000  24.000  1.00  0.00       B   C  \\nHETATM   18 C    FRA A  17       0.000   0.000  25.500  1.00  0.00       B   C  \\nHETATM   19 C    FRA A  18       0.000   0.000  27.000  1.00  0.00       B   C  \\nHETATM   20 C    FRA A  19       0.000   0.000  28.500  1.00  0.00       B   C  \\nENDMDL\\n\",\"pdb\",{\"keepH\": \"true\"});\n",
              "\tviewergrid_16637866793258305[0][0].setStyle({\"model\": -1, \"serial\": 7},{\"sphere\": {\"scale\": 0.2, \"color\": \"#20D4E0\"}});\n",
              "\tviewergrid_16637866793258305[0][0].addModelsAsFrames(\"MODEL 0\\nCRYST1      inf      inf   30.000     90     90     90                          \\nHETATM    1 C    FRA A   0       0.000   0.000   0.000  1.00  0.00       B   C  \\nHETATM    2 C    FRA A   1       0.000   0.000   1.500  1.00  0.00       B   C  \\nHETATM    3 C    FRA A   2       0.000   0.000   3.000  1.00  0.00       B   C  \\nHETATM    4 C    FRA A   3       0.000   0.000   4.500  1.00  0.00       B   C  \\nHETATM    5 C    FRA A   4       0.000   0.000   6.000  1.00  0.00       B   C  \\nHETATM    6 C    FRA A   5       0.000   0.000   7.500  1.00  0.00       B   C  \\nHETATM    7 C    FRA A   6       0.000   0.000   9.000  1.00  0.00       B   C  \\nHETATM    8 C    FRA A   7       0.000   0.000  10.500  1.00  0.00       B   C  \\nHETATM    9 C    FRA A   8       0.000   0.000  12.000  1.00  0.00       B   C  \\nHETATM   10 C    FRA A   9       0.000   0.000  13.500  1.00  0.00       B   C  \\nHETATM   11 C    FRA A  10       0.000   0.000  15.000  1.00  0.00       B   C  \\nHETATM   12 C    FRA A  11       0.000   0.000  16.500  1.00  0.00       B   C  \\nHETATM   13 C    FRA A  12       0.000   0.000  18.000  1.00  0.00       B   C  \\nHETATM   14 C    FRA A  13       0.000   0.000  19.500  1.00  0.00       B   C  \\nHETATM   15 C    FRA A  14       0.000   0.000  21.000  1.00  0.00       B   C  \\nHETATM   16 C    FRA A  15       0.000   0.000  22.500  1.00  0.00       B   C  \\nHETATM   17 C    FRA A  16       0.000   0.000  24.000  1.00  0.00       B   C  \\nHETATM   18 C    FRA A  17       0.000   0.000  25.500  1.00  0.00       B   C  \\nHETATM   19 C    FRA A  18       0.000   0.000  27.000  1.00  0.00       B   C  \\nHETATM   20 C    FRA A  19       0.000   0.000  28.500  1.00  0.00       B   C  \\nENDMDL\\n\",\"pdb\",{\"keepH\": \"true\"});\n",
              "\tviewergrid_16637866793258305[0][0].setStyle({\"model\": -1},{\"line\": {\"color\": \"black\"}});\n",
              "\tviewergrid_16637866793258305[0][0].addModelsAsFrames(\"MODEL 0\\nCRYST1      inf      inf   30.000     90     90     90                          \\nHETATM    1 C    FRA A   0       0.000   0.000   0.000  1.00  0.00       B   C  \\nHETATM    2 C    FRA A   1       0.000   0.000   1.500  1.00  0.00       B   C  \\nHETATM    3 C    FRA A   2       0.000   0.000   3.000  1.00  0.00       B   C  \\nHETATM    4 C    FRA A   3       0.000   0.000   4.500  1.00  0.00       B   C  \\nHETATM    5 C    FRA A   4       0.000   0.000   6.000  1.00  0.00       B   C  \\nHETATM    6 C    FRA A   5       0.000   0.000   7.500  1.00  0.00       B   C  \\nHETATM    7 C    FRA A   6       0.000   0.000   9.000  1.00  0.00       B   C  \\nHETATM    8 C    FRA A   7       0.000   0.000  10.500  1.00  0.00       B   C  \\nHETATM    9 C    FRA A   8       0.000   0.000  12.000  1.00  0.00       B   C  \\nHETATM   10 C    FRA A   9       0.000   0.000  13.500  1.00  0.00       B   C  \\nHETATM   11 C    FRA A  10       0.000   0.000  15.000  1.00  0.00       B   C  \\nHETATM   12 C    FRA A  11       0.000   0.000  16.500  1.00  0.00       B   C  \\nHETATM   13 C    FRA A  12       0.000   0.000  18.000  1.00  0.00       B   C  \\nHETATM   14 C    FRA A  13       0.000   0.000  19.500  1.00  0.00       B   C  \\nHETATM   15 C    FRA A  14       0.000   0.000  21.000  1.00  0.00       B   C  \\nHETATM   16 C    FRA A  15       0.000   0.000  22.500  1.00  0.00       B   C  \\nHETATM   17 C    FRA A  16       0.000   0.000  24.000  1.00  0.00       B   C  \\nHETATM   18 C    FRA A  17       0.000   0.000  25.500  1.00  0.00       B   C  \\nHETATM   19 C    FRA A  18       0.000   0.000  27.000  1.00  0.00       B   C  \\nHETATM   20 C    FRA A  19       0.000   0.000  28.500  1.00  0.00       B   C  \\nENDMDL\\n\",\"pdb\",{\"keepH\": \"true\"});\n",
              "\tviewergrid_16637866793258305[0][0].setStyle({\"model\": -1, \"serial\": 8},{\"sphere\": {\"scale\": 0.2, \"color\": \"#3CE9D5\"}});\n",
              "\tviewergrid_16637866793258305[0][0].addModelsAsFrames(\"MODEL 0\\nCRYST1      inf      inf   30.000     90     90     90                          \\nHETATM    1 C    FRA A   0       0.000   0.000   0.000  1.00  0.00       B   C  \\nHETATM    2 C    FRA A   1       0.000   0.000   1.500  1.00  0.00       B   C  \\nHETATM    3 C    FRA A   2       0.000   0.000   3.000  1.00  0.00       B   C  \\nHETATM    4 C    FRA A   3       0.000   0.000   4.500  1.00  0.00       B   C  \\nHETATM    5 C    FRA A   4       0.000   0.000   6.000  1.00  0.00       B   C  \\nHETATM    6 C    FRA A   5       0.000   0.000   7.500  1.00  0.00       B   C  \\nHETATM    7 C    FRA A   6       0.000   0.000   9.000  1.00  0.00       B   C  \\nHETATM    8 C    FRA A   7       0.000   0.000  10.500  1.00  0.00       B   C  \\nHETATM    9 C    FRA A   8       0.000   0.000  12.000  1.00  0.00       B   C  \\nHETATM   10 C    FRA A   9       0.000   0.000  13.500  1.00  0.00       B   C  \\nHETATM   11 C    FRA A  10       0.000   0.000  15.000  1.00  0.00       B   C  \\nHETATM   12 C    FRA A  11       0.000   0.000  16.500  1.00  0.00       B   C  \\nHETATM   13 C    FRA A  12       0.000   0.000  18.000  1.00  0.00       B   C  \\nHETATM   14 C    FRA A  13       0.000   0.000  19.500  1.00  0.00       B   C  \\nHETATM   15 C    FRA A  14       0.000   0.000  21.000  1.00  0.00       B   C  \\nHETATM   16 C    FRA A  15       0.000   0.000  22.500  1.00  0.00       B   C  \\nHETATM   17 C    FRA A  16       0.000   0.000  24.000  1.00  0.00       B   C  \\nHETATM   18 C    FRA A  17       0.000   0.000  25.500  1.00  0.00       B   C  \\nHETATM   19 C    FRA A  18       0.000   0.000  27.000  1.00  0.00       B   C  \\nHETATM   20 C    FRA A  19       0.000   0.000  28.500  1.00  0.00       B   C  \\nENDMDL\\n\",\"pdb\",{\"keepH\": \"true\"});\n",
              "\tviewergrid_16637866793258305[0][0].setStyle({\"model\": -1},{\"line\": {\"color\": \"black\"}});\n",
              "\tviewergrid_16637866793258305[0][0].addModelsAsFrames(\"MODEL 0\\nCRYST1      inf      inf   30.000     90     90     90                          \\nHETATM    1 C    FRA A   0       0.000   0.000   0.000  1.00  0.00       B   C  \\nHETATM    2 C    FRA A   1       0.000   0.000   1.500  1.00  0.00       B   C  \\nHETATM    3 C    FRA A   2       0.000   0.000   3.000  1.00  0.00       B   C  \\nHETATM    4 C    FRA A   3       0.000   0.000   4.500  1.00  0.00       B   C  \\nHETATM    5 C    FRA A   4       0.000   0.000   6.000  1.00  0.00       B   C  \\nHETATM    6 C    FRA A   5       0.000   0.000   7.500  1.00  0.00       B   C  \\nHETATM    7 C    FRA A   6       0.000   0.000   9.000  1.00  0.00       B   C  \\nHETATM    8 C    FRA A   7       0.000   0.000  10.500  1.00  0.00       B   C  \\nHETATM    9 C    FRA A   8       0.000   0.000  12.000  1.00  0.00       B   C  \\nHETATM   10 C    FRA A   9       0.000   0.000  13.500  1.00  0.00       B   C  \\nHETATM   11 C    FRA A  10       0.000   0.000  15.000  1.00  0.00       B   C  \\nHETATM   12 C    FRA A  11       0.000   0.000  16.500  1.00  0.00       B   C  \\nHETATM   13 C    FRA A  12       0.000   0.000  18.000  1.00  0.00       B   C  \\nHETATM   14 C    FRA A  13       0.000   0.000  19.500  1.00  0.00       B   C  \\nHETATM   15 C    FRA A  14       0.000   0.000  21.000  1.00  0.00       B   C  \\nHETATM   16 C    FRA A  15       0.000   0.000  22.500  1.00  0.00       B   C  \\nHETATM   17 C    FRA A  16       0.000   0.000  24.000  1.00  0.00       B   C  \\nHETATM   18 C    FRA A  17       0.000   0.000  25.500  1.00  0.00       B   C  \\nHETATM   19 C    FRA A  18       0.000   0.000  27.000  1.00  0.00       B   C  \\nHETATM   20 C    FRA A  19       0.000   0.000  28.500  1.00  0.00       B   C  \\nENDMDL\\n\",\"pdb\",{\"keepH\": \"true\"});\n",
              "\tviewergrid_16637866793258305[0][0].setStyle({\"model\": -1, \"serial\": 9},{\"sphere\": {\"scale\": 0.2, \"color\": \"#56F6C9\"}});\n",
              "\tviewergrid_16637866793258305[0][0].addModelsAsFrames(\"MODEL 0\\nCRYST1      inf      inf   30.000     90     90     90                          \\nHETATM    1 C    FRA A   0       0.000   0.000   0.000  1.00  0.00       B   C  \\nHETATM    2 C    FRA A   1       0.000   0.000   1.500  1.00  0.00       B   C  \\nHETATM    3 C    FRA A   2       0.000   0.000   3.000  1.00  0.00       B   C  \\nHETATM    4 C    FRA A   3       0.000   0.000   4.500  1.00  0.00       B   C  \\nHETATM    5 C    FRA A   4       0.000   0.000   6.000  1.00  0.00       B   C  \\nHETATM    6 C    FRA A   5       0.000   0.000   7.500  1.00  0.00       B   C  \\nHETATM    7 C    FRA A   6       0.000   0.000   9.000  1.00  0.00       B   C  \\nHETATM    8 C    FRA A   7       0.000   0.000  10.500  1.00  0.00       B   C  \\nHETATM    9 C    FRA A   8       0.000   0.000  12.000  1.00  0.00       B   C  \\nHETATM   10 C    FRA A   9       0.000   0.000  13.500  1.00  0.00       B   C  \\nHETATM   11 C    FRA A  10       0.000   0.000  15.000  1.00  0.00       B   C  \\nHETATM   12 C    FRA A  11       0.000   0.000  16.500  1.00  0.00       B   C  \\nHETATM   13 C    FRA A  12       0.000   0.000  18.000  1.00  0.00       B   C  \\nHETATM   14 C    FRA A  13       0.000   0.000  19.500  1.00  0.00       B   C  \\nHETATM   15 C    FRA A  14       0.000   0.000  21.000  1.00  0.00       B   C  \\nHETATM   16 C    FRA A  15       0.000   0.000  22.500  1.00  0.00       B   C  \\nHETATM   17 C    FRA A  16       0.000   0.000  24.000  1.00  0.00       B   C  \\nHETATM   18 C    FRA A  17       0.000   0.000  25.500  1.00  0.00       B   C  \\nHETATM   19 C    FRA A  18       0.000   0.000  27.000  1.00  0.00       B   C  \\nHETATM   20 C    FRA A  19       0.000   0.000  28.500  1.00  0.00       B   C  \\nENDMDL\\n\",\"pdb\",{\"keepH\": \"true\"});\n",
              "\tviewergrid_16637866793258305[0][0].setStyle({\"model\": -1},{\"line\": {\"color\": \"black\"}});\n",
              "\tviewergrid_16637866793258305[0][0].addModelsAsFrames(\"MODEL 0\\nCRYST1      inf      inf   30.000     90     90     90                          \\nHETATM    1 C    FRA A   0       0.000   0.000   0.000  1.00  0.00       B   C  \\nHETATM    2 C    FRA A   1       0.000   0.000   1.500  1.00  0.00       B   C  \\nHETATM    3 C    FRA A   2       0.000   0.000   3.000  1.00  0.00       B   C  \\nHETATM    4 C    FRA A   3       0.000   0.000   4.500  1.00  0.00       B   C  \\nHETATM    5 C    FRA A   4       0.000   0.000   6.000  1.00  0.00       B   C  \\nHETATM    6 C    FRA A   5       0.000   0.000   7.500  1.00  0.00       B   C  \\nHETATM    7 C    FRA A   6       0.000   0.000   9.000  1.00  0.00       B   C  \\nHETATM    8 C    FRA A   7       0.000   0.000  10.500  1.00  0.00       B   C  \\nHETATM    9 C    FRA A   8       0.000   0.000  12.000  1.00  0.00       B   C  \\nHETATM   10 C    FRA A   9       0.000   0.000  13.500  1.00  0.00       B   C  \\nHETATM   11 C    FRA A  10       0.000   0.000  15.000  1.00  0.00       B   C  \\nHETATM   12 C    FRA A  11       0.000   0.000  16.500  1.00  0.00       B   C  \\nHETATM   13 C    FRA A  12       0.000   0.000  18.000  1.00  0.00       B   C  \\nHETATM   14 C    FRA A  13       0.000   0.000  19.500  1.00  0.00       B   C  \\nHETATM   15 C    FRA A  14       0.000   0.000  21.000  1.00  0.00       B   C  \\nHETATM   16 C    FRA A  15       0.000   0.000  22.500  1.00  0.00       B   C  \\nHETATM   17 C    FRA A  16       0.000   0.000  24.000  1.00  0.00       B   C  \\nHETATM   18 C    FRA A  17       0.000   0.000  25.500  1.00  0.00       B   C  \\nHETATM   19 C    FRA A  18       0.000   0.000  27.000  1.00  0.00       B   C  \\nHETATM   20 C    FRA A  19       0.000   0.000  28.500  1.00  0.00       B   C  \\nENDMDL\\n\",\"pdb\",{\"keepH\": \"true\"});\n",
              "\tviewergrid_16637866793258305[0][0].setStyle({\"model\": -1, \"serial\": 10},{\"sphere\": {\"scale\": 0.2, \"color\": \"#72FEBB\"}});\n",
              "\tviewergrid_16637866793258305[0][0].addModelsAsFrames(\"MODEL 0\\nCRYST1      inf      inf   30.000     90     90     90                          \\nHETATM    1 C    FRA A   0       0.000   0.000   0.000  1.00  0.00       B   C  \\nHETATM    2 C    FRA A   1       0.000   0.000   1.500  1.00  0.00       B   C  \\nHETATM    3 C    FRA A   2       0.000   0.000   3.000  1.00  0.00       B   C  \\nHETATM    4 C    FRA A   3       0.000   0.000   4.500  1.00  0.00       B   C  \\nHETATM    5 C    FRA A   4       0.000   0.000   6.000  1.00  0.00       B   C  \\nHETATM    6 C    FRA A   5       0.000   0.000   7.500  1.00  0.00       B   C  \\nHETATM    7 C    FRA A   6       0.000   0.000   9.000  1.00  0.00       B   C  \\nHETATM    8 C    FRA A   7       0.000   0.000  10.500  1.00  0.00       B   C  \\nHETATM    9 C    FRA A   8       0.000   0.000  12.000  1.00  0.00       B   C  \\nHETATM   10 C    FRA A   9       0.000   0.000  13.500  1.00  0.00       B   C  \\nHETATM   11 C    FRA A  10       0.000   0.000  15.000  1.00  0.00       B   C  \\nHETATM   12 C    FRA A  11       0.000   0.000  16.500  1.00  0.00       B   C  \\nHETATM   13 C    FRA A  12       0.000   0.000  18.000  1.00  0.00       B   C  \\nHETATM   14 C    FRA A  13       0.000   0.000  19.500  1.00  0.00       B   C  \\nHETATM   15 C    FRA A  14       0.000   0.000  21.000  1.00  0.00       B   C  \\nHETATM   16 C    FRA A  15       0.000   0.000  22.500  1.00  0.00       B   C  \\nHETATM   17 C    FRA A  16       0.000   0.000  24.000  1.00  0.00       B   C  \\nHETATM   18 C    FRA A  17       0.000   0.000  25.500  1.00  0.00       B   C  \\nHETATM   19 C    FRA A  18       0.000   0.000  27.000  1.00  0.00       B   C  \\nHETATM   20 C    FRA A  19       0.000   0.000  28.500  1.00  0.00       B   C  \\nENDMDL\\n\",\"pdb\",{\"keepH\": \"true\"});\n",
              "\tviewergrid_16637866793258305[0][0].setStyle({\"model\": -1},{\"line\": {\"color\": \"black\"}});\n",
              "\tviewergrid_16637866793258305[0][0].addModelsAsFrames(\"MODEL 0\\nCRYST1      inf      inf   30.000     90     90     90                          \\nHETATM    1 C    FRA A   0       0.000   0.000   0.000  1.00  0.00       B   C  \\nHETATM    2 C    FRA A   1       0.000   0.000   1.500  1.00  0.00       B   C  \\nHETATM    3 C    FRA A   2       0.000   0.000   3.000  1.00  0.00       B   C  \\nHETATM    4 C    FRA A   3       0.000   0.000   4.500  1.00  0.00       B   C  \\nHETATM    5 C    FRA A   4       0.000   0.000   6.000  1.00  0.00       B   C  \\nHETATM    6 C    FRA A   5       0.000   0.000   7.500  1.00  0.00       B   C  \\nHETATM    7 C    FRA A   6       0.000   0.000   9.000  1.00  0.00       B   C  \\nHETATM    8 C    FRA A   7       0.000   0.000  10.500  1.00  0.00       B   C  \\nHETATM    9 C    FRA A   8       0.000   0.000  12.000  1.00  0.00       B   C  \\nHETATM   10 C    FRA A   9       0.000   0.000  13.500  1.00  0.00       B   C  \\nHETATM   11 C    FRA A  10       0.000   0.000  15.000  1.00  0.00       B   C  \\nHETATM   12 C    FRA A  11       0.000   0.000  16.500  1.00  0.00       B   C  \\nHETATM   13 C    FRA A  12       0.000   0.000  18.000  1.00  0.00       B   C  \\nHETATM   14 C    FRA A  13       0.000   0.000  19.500  1.00  0.00       B   C  \\nHETATM   15 C    FRA A  14       0.000   0.000  21.000  1.00  0.00       B   C  \\nHETATM   16 C    FRA A  15       0.000   0.000  22.500  1.00  0.00       B   C  \\nHETATM   17 C    FRA A  16       0.000   0.000  24.000  1.00  0.00       B   C  \\nHETATM   18 C    FRA A  17       0.000   0.000  25.500  1.00  0.00       B   C  \\nHETATM   19 C    FRA A  18       0.000   0.000  27.000  1.00  0.00       B   C  \\nHETATM   20 C    FRA A  19       0.000   0.000  28.500  1.00  0.00       B   C  \\nENDMDL\\n\",\"pdb\",{\"keepH\": \"true\"});\n",
              "\tviewergrid_16637866793258305[0][0].setStyle({\"model\": -1, \"serial\": 11},{\"sphere\": {\"scale\": 0.2, \"color\": \"#8CFEAC\"}});\n",
              "\tviewergrid_16637866793258305[0][0].addModelsAsFrames(\"MODEL 0\\nCRYST1      inf      inf   30.000     90     90     90                          \\nHETATM    1 C    FRA A   0       0.000   0.000   0.000  1.00  0.00       B   C  \\nHETATM    2 C    FRA A   1       0.000   0.000   1.500  1.00  0.00       B   C  \\nHETATM    3 C    FRA A   2       0.000   0.000   3.000  1.00  0.00       B   C  \\nHETATM    4 C    FRA A   3       0.000   0.000   4.500  1.00  0.00       B   C  \\nHETATM    5 C    FRA A   4       0.000   0.000   6.000  1.00  0.00       B   C  \\nHETATM    6 C    FRA A   5       0.000   0.000   7.500  1.00  0.00       B   C  \\nHETATM    7 C    FRA A   6       0.000   0.000   9.000  1.00  0.00       B   C  \\nHETATM    8 C    FRA A   7       0.000   0.000  10.500  1.00  0.00       B   C  \\nHETATM    9 C    FRA A   8       0.000   0.000  12.000  1.00  0.00       B   C  \\nHETATM   10 C    FRA A   9       0.000   0.000  13.500  1.00  0.00       B   C  \\nHETATM   11 C    FRA A  10       0.000   0.000  15.000  1.00  0.00       B   C  \\nHETATM   12 C    FRA A  11       0.000   0.000  16.500  1.00  0.00       B   C  \\nHETATM   13 C    FRA A  12       0.000   0.000  18.000  1.00  0.00       B   C  \\nHETATM   14 C    FRA A  13       0.000   0.000  19.500  1.00  0.00       B   C  \\nHETATM   15 C    FRA A  14       0.000   0.000  21.000  1.00  0.00       B   C  \\nHETATM   16 C    FRA A  15       0.000   0.000  22.500  1.00  0.00       B   C  \\nHETATM   17 C    FRA A  16       0.000   0.000  24.000  1.00  0.00       B   C  \\nHETATM   18 C    FRA A  17       0.000   0.000  25.500  1.00  0.00       B   C  \\nHETATM   19 C    FRA A  18       0.000   0.000  27.000  1.00  0.00       B   C  \\nHETATM   20 C    FRA A  19       0.000   0.000  28.500  1.00  0.00       B   C  \\nENDMDL\\n\",\"pdb\",{\"keepH\": \"true\"});\n",
              "\tviewergrid_16637866793258305[0][0].setStyle({\"model\": -1},{\"line\": {\"color\": \"black\"}});\n",
              "\tviewergrid_16637866793258305[0][0].addModelsAsFrames(\"MODEL 0\\nCRYST1      inf      inf   30.000     90     90     90                          \\nHETATM    1 C    FRA A   0       0.000   0.000   0.000  1.00  0.00       B   C  \\nHETATM    2 C    FRA A   1       0.000   0.000   1.500  1.00  0.00       B   C  \\nHETATM    3 C    FRA A   2       0.000   0.000   3.000  1.00  0.00       B   C  \\nHETATM    4 C    FRA A   3       0.000   0.000   4.500  1.00  0.00       B   C  \\nHETATM    5 C    FRA A   4       0.000   0.000   6.000  1.00  0.00       B   C  \\nHETATM    6 C    FRA A   5       0.000   0.000   7.500  1.00  0.00       B   C  \\nHETATM    7 C    FRA A   6       0.000   0.000   9.000  1.00  0.00       B   C  \\nHETATM    8 C    FRA A   7       0.000   0.000  10.500  1.00  0.00       B   C  \\nHETATM    9 C    FRA A   8       0.000   0.000  12.000  1.00  0.00       B   C  \\nHETATM   10 C    FRA A   9       0.000   0.000  13.500  1.00  0.00       B   C  \\nHETATM   11 C    FRA A  10       0.000   0.000  15.000  1.00  0.00       B   C  \\nHETATM   12 C    FRA A  11       0.000   0.000  16.500  1.00  0.00       B   C  \\nHETATM   13 C    FRA A  12       0.000   0.000  18.000  1.00  0.00       B   C  \\nHETATM   14 C    FRA A  13       0.000   0.000  19.500  1.00  0.00       B   C  \\nHETATM   15 C    FRA A  14       0.000   0.000  21.000  1.00  0.00       B   C  \\nHETATM   16 C    FRA A  15       0.000   0.000  22.500  1.00  0.00       B   C  \\nHETATM   17 C    FRA A  16       0.000   0.000  24.000  1.00  0.00       B   C  \\nHETATM   18 C    FRA A  17       0.000   0.000  25.500  1.00  0.00       B   C  \\nHETATM   19 C    FRA A  18       0.000   0.000  27.000  1.00  0.00       B   C  \\nHETATM   20 C    FRA A  19       0.000   0.000  28.500  1.00  0.00       B   C  \\nENDMDL\\n\",\"pdb\",{\"keepH\": \"true\"});\n",
              "\tviewergrid_16637866793258305[0][0].setStyle({\"model\": -1, \"serial\": 12},{\"sphere\": {\"scale\": 0.2, \"color\": \"#A8F69C\"}});\n",
              "\tviewergrid_16637866793258305[0][0].addModelsAsFrames(\"MODEL 0\\nCRYST1      inf      inf   30.000     90     90     90                          \\nHETATM    1 C    FRA A   0       0.000   0.000   0.000  1.00  0.00       B   C  \\nHETATM    2 C    FRA A   1       0.000   0.000   1.500  1.00  0.00       B   C  \\nHETATM    3 C    FRA A   2       0.000   0.000   3.000  1.00  0.00       B   C  \\nHETATM    4 C    FRA A   3       0.000   0.000   4.500  1.00  0.00       B   C  \\nHETATM    5 C    FRA A   4       0.000   0.000   6.000  1.00  0.00       B   C  \\nHETATM    6 C    FRA A   5       0.000   0.000   7.500  1.00  0.00       B   C  \\nHETATM    7 C    FRA A   6       0.000   0.000   9.000  1.00  0.00       B   C  \\nHETATM    8 C    FRA A   7       0.000   0.000  10.500  1.00  0.00       B   C  \\nHETATM    9 C    FRA A   8       0.000   0.000  12.000  1.00  0.00       B   C  \\nHETATM   10 C    FRA A   9       0.000   0.000  13.500  1.00  0.00       B   C  \\nHETATM   11 C    FRA A  10       0.000   0.000  15.000  1.00  0.00       B   C  \\nHETATM   12 C    FRA A  11       0.000   0.000  16.500  1.00  0.00       B   C  \\nHETATM   13 C    FRA A  12       0.000   0.000  18.000  1.00  0.00       B   C  \\nHETATM   14 C    FRA A  13       0.000   0.000  19.500  1.00  0.00       B   C  \\nHETATM   15 C    FRA A  14       0.000   0.000  21.000  1.00  0.00       B   C  \\nHETATM   16 C    FRA A  15       0.000   0.000  22.500  1.00  0.00       B   C  \\nHETATM   17 C    FRA A  16       0.000   0.000  24.000  1.00  0.00       B   C  \\nHETATM   18 C    FRA A  17       0.000   0.000  25.500  1.00  0.00       B   C  \\nHETATM   19 C    FRA A  18       0.000   0.000  27.000  1.00  0.00       B   C  \\nHETATM   20 C    FRA A  19       0.000   0.000  28.500  1.00  0.00       B   C  \\nENDMDL\\n\",\"pdb\",{\"keepH\": \"true\"});\n",
              "\tviewergrid_16637866793258305[0][0].setStyle({\"model\": -1},{\"line\": {\"color\": \"black\"}});\n",
              "\tviewergrid_16637866793258305[0][0].addModelsAsFrames(\"MODEL 0\\nCRYST1      inf      inf   30.000     90     90     90                          \\nHETATM    1 C    FRA A   0       0.000   0.000   0.000  1.00  0.00       B   C  \\nHETATM    2 C    FRA A   1       0.000   0.000   1.500  1.00  0.00       B   C  \\nHETATM    3 C    FRA A   2       0.000   0.000   3.000  1.00  0.00       B   C  \\nHETATM    4 C    FRA A   3       0.000   0.000   4.500  1.00  0.00       B   C  \\nHETATM    5 C    FRA A   4       0.000   0.000   6.000  1.00  0.00       B   C  \\nHETATM    6 C    FRA A   5       0.000   0.000   7.500  1.00  0.00       B   C  \\nHETATM    7 C    FRA A   6       0.000   0.000   9.000  1.00  0.00       B   C  \\nHETATM    8 C    FRA A   7       0.000   0.000  10.500  1.00  0.00       B   C  \\nHETATM    9 C    FRA A   8       0.000   0.000  12.000  1.00  0.00       B   C  \\nHETATM   10 C    FRA A   9       0.000   0.000  13.500  1.00  0.00       B   C  \\nHETATM   11 C    FRA A  10       0.000   0.000  15.000  1.00  0.00       B   C  \\nHETATM   12 C    FRA A  11       0.000   0.000  16.500  1.00  0.00       B   C  \\nHETATM   13 C    FRA A  12       0.000   0.000  18.000  1.00  0.00       B   C  \\nHETATM   14 C    FRA A  13       0.000   0.000  19.500  1.00  0.00       B   C  \\nHETATM   15 C    FRA A  14       0.000   0.000  21.000  1.00  0.00       B   C  \\nHETATM   16 C    FRA A  15       0.000   0.000  22.500  1.00  0.00       B   C  \\nHETATM   17 C    FRA A  16       0.000   0.000  24.000  1.00  0.00       B   C  \\nHETATM   18 C    FRA A  17       0.000   0.000  25.500  1.00  0.00       B   C  \\nHETATM   19 C    FRA A  18       0.000   0.000  27.000  1.00  0.00       B   C  \\nHETATM   20 C    FRA A  19       0.000   0.000  28.500  1.00  0.00       B   C  \\nENDMDL\\n\",\"pdb\",{\"keepH\": \"true\"});\n",
              "\tviewergrid_16637866793258305[0][0].setStyle({\"model\": -1, \"serial\": 13},{\"sphere\": {\"scale\": 0.2, \"color\": \"#C2E98B\"}});\n",
              "\tviewergrid_16637866793258305[0][0].addModelsAsFrames(\"MODEL 0\\nCRYST1      inf      inf   30.000     90     90     90                          \\nHETATM    1 C    FRA A   0       0.000   0.000   0.000  1.00  0.00       B   C  \\nHETATM    2 C    FRA A   1       0.000   0.000   1.500  1.00  0.00       B   C  \\nHETATM    3 C    FRA A   2       0.000   0.000   3.000  1.00  0.00       B   C  \\nHETATM    4 C    FRA A   3       0.000   0.000   4.500  1.00  0.00       B   C  \\nHETATM    5 C    FRA A   4       0.000   0.000   6.000  1.00  0.00       B   C  \\nHETATM    6 C    FRA A   5       0.000   0.000   7.500  1.00  0.00       B   C  \\nHETATM    7 C    FRA A   6       0.000   0.000   9.000  1.00  0.00       B   C  \\nHETATM    8 C    FRA A   7       0.000   0.000  10.500  1.00  0.00       B   C  \\nHETATM    9 C    FRA A   8       0.000   0.000  12.000  1.00  0.00       B   C  \\nHETATM   10 C    FRA A   9       0.000   0.000  13.500  1.00  0.00       B   C  \\nHETATM   11 C    FRA A  10       0.000   0.000  15.000  1.00  0.00       B   C  \\nHETATM   12 C    FRA A  11       0.000   0.000  16.500  1.00  0.00       B   C  \\nHETATM   13 C    FRA A  12       0.000   0.000  18.000  1.00  0.00       B   C  \\nHETATM   14 C    FRA A  13       0.000   0.000  19.500  1.00  0.00       B   C  \\nHETATM   15 C    FRA A  14       0.000   0.000  21.000  1.00  0.00       B   C  \\nHETATM   16 C    FRA A  15       0.000   0.000  22.500  1.00  0.00       B   C  \\nHETATM   17 C    FRA A  16       0.000   0.000  24.000  1.00  0.00       B   C  \\nHETATM   18 C    FRA A  17       0.000   0.000  25.500  1.00  0.00       B   C  \\nHETATM   19 C    FRA A  18       0.000   0.000  27.000  1.00  0.00       B   C  \\nHETATM   20 C    FRA A  19       0.000   0.000  28.500  1.00  0.00       B   C  \\nENDMDL\\n\",\"pdb\",{\"keepH\": \"true\"});\n",
              "\tviewergrid_16637866793258305[0][0].setStyle({\"model\": -1},{\"line\": {\"color\": \"black\"}});\n",
              "\tviewergrid_16637866793258305[0][0].addModelsAsFrames(\"MODEL 0\\nCRYST1      inf      inf   30.000     90     90     90                          \\nHETATM    1 C    FRA A   0       0.000   0.000   0.000  1.00  0.00       B   C  \\nHETATM    2 C    FRA A   1       0.000   0.000   1.500  1.00  0.00       B   C  \\nHETATM    3 C    FRA A   2       0.000   0.000   3.000  1.00  0.00       B   C  \\nHETATM    4 C    FRA A   3       0.000   0.000   4.500  1.00  0.00       B   C  \\nHETATM    5 C    FRA A   4       0.000   0.000   6.000  1.00  0.00       B   C  \\nHETATM    6 C    FRA A   5       0.000   0.000   7.500  1.00  0.00       B   C  \\nHETATM    7 C    FRA A   6       0.000   0.000   9.000  1.00  0.00       B   C  \\nHETATM    8 C    FRA A   7       0.000   0.000  10.500  1.00  0.00       B   C  \\nHETATM    9 C    FRA A   8       0.000   0.000  12.000  1.00  0.00       B   C  \\nHETATM   10 C    FRA A   9       0.000   0.000  13.500  1.00  0.00       B   C  \\nHETATM   11 C    FRA A  10       0.000   0.000  15.000  1.00  0.00       B   C  \\nHETATM   12 C    FRA A  11       0.000   0.000  16.500  1.00  0.00       B   C  \\nHETATM   13 C    FRA A  12       0.000   0.000  18.000  1.00  0.00       B   C  \\nHETATM   14 C    FRA A  13       0.000   0.000  19.500  1.00  0.00       B   C  \\nHETATM   15 C    FRA A  14       0.000   0.000  21.000  1.00  0.00       B   C  \\nHETATM   16 C    FRA A  15       0.000   0.000  22.500  1.00  0.00       B   C  \\nHETATM   17 C    FRA A  16       0.000   0.000  24.000  1.00  0.00       B   C  \\nHETATM   18 C    FRA A  17       0.000   0.000  25.500  1.00  0.00       B   C  \\nHETATM   19 C    FRA A  18       0.000   0.000  27.000  1.00  0.00       B   C  \\nHETATM   20 C    FRA A  19       0.000   0.000  28.500  1.00  0.00       B   C  \\nENDMDL\\n\",\"pdb\",{\"keepH\": \"true\"});\n",
              "\tviewergrid_16637866793258305[0][0].setStyle({\"model\": -1, \"serial\": 14},{\"sphere\": {\"scale\": 0.2, \"color\": \"#DED478\"}});\n",
              "\tviewergrid_16637866793258305[0][0].addModelsAsFrames(\"MODEL 0\\nCRYST1      inf      inf   30.000     90     90     90                          \\nHETATM    1 C    FRA A   0       0.000   0.000   0.000  1.00  0.00       B   C  \\nHETATM    2 C    FRA A   1       0.000   0.000   1.500  1.00  0.00       B   C  \\nHETATM    3 C    FRA A   2       0.000   0.000   3.000  1.00  0.00       B   C  \\nHETATM    4 C    FRA A   3       0.000   0.000   4.500  1.00  0.00       B   C  \\nHETATM    5 C    FRA A   4       0.000   0.000   6.000  1.00  0.00       B   C  \\nHETATM    6 C    FRA A   5       0.000   0.000   7.500  1.00  0.00       B   C  \\nHETATM    7 C    FRA A   6       0.000   0.000   9.000  1.00  0.00       B   C  \\nHETATM    8 C    FRA A   7       0.000   0.000  10.500  1.00  0.00       B   C  \\nHETATM    9 C    FRA A   8       0.000   0.000  12.000  1.00  0.00       B   C  \\nHETATM   10 C    FRA A   9       0.000   0.000  13.500  1.00  0.00       B   C  \\nHETATM   11 C    FRA A  10       0.000   0.000  15.000  1.00  0.00       B   C  \\nHETATM   12 C    FRA A  11       0.000   0.000  16.500  1.00  0.00       B   C  \\nHETATM   13 C    FRA A  12       0.000   0.000  18.000  1.00  0.00       B   C  \\nHETATM   14 C    FRA A  13       0.000   0.000  19.500  1.00  0.00       B   C  \\nHETATM   15 C    FRA A  14       0.000   0.000  21.000  1.00  0.00       B   C  \\nHETATM   16 C    FRA A  15       0.000   0.000  22.500  1.00  0.00       B   C  \\nHETATM   17 C    FRA A  16       0.000   0.000  24.000  1.00  0.00       B   C  \\nHETATM   18 C    FRA A  17       0.000   0.000  25.500  1.00  0.00       B   C  \\nHETATM   19 C    FRA A  18       0.000   0.000  27.000  1.00  0.00       B   C  \\nHETATM   20 C    FRA A  19       0.000   0.000  28.500  1.00  0.00       B   C  \\nENDMDL\\n\",\"pdb\",{\"keepH\": \"true\"});\n",
              "\tviewergrid_16637866793258305[0][0].setStyle({\"model\": -1},{\"line\": {\"color\": \"black\"}});\n",
              "\tviewergrid_16637866793258305[0][0].addModelsAsFrames(\"MODEL 0\\nCRYST1      inf      inf   30.000     90     90     90                          \\nHETATM    1 C    FRA A   0       0.000   0.000   0.000  1.00  0.00       B   C  \\nHETATM    2 C    FRA A   1       0.000   0.000   1.500  1.00  0.00       B   C  \\nHETATM    3 C    FRA A   2       0.000   0.000   3.000  1.00  0.00       B   C  \\nHETATM    4 C    FRA A   3       0.000   0.000   4.500  1.00  0.00       B   C  \\nHETATM    5 C    FRA A   4       0.000   0.000   6.000  1.00  0.00       B   C  \\nHETATM    6 C    FRA A   5       0.000   0.000   7.500  1.00  0.00       B   C  \\nHETATM    7 C    FRA A   6       0.000   0.000   9.000  1.00  0.00       B   C  \\nHETATM    8 C    FRA A   7       0.000   0.000  10.500  1.00  0.00       B   C  \\nHETATM    9 C    FRA A   8       0.000   0.000  12.000  1.00  0.00       B   C  \\nHETATM   10 C    FRA A   9       0.000   0.000  13.500  1.00  0.00       B   C  \\nHETATM   11 C    FRA A  10       0.000   0.000  15.000  1.00  0.00       B   C  \\nHETATM   12 C    FRA A  11       0.000   0.000  16.500  1.00  0.00       B   C  \\nHETATM   13 C    FRA A  12       0.000   0.000  18.000  1.00  0.00       B   C  \\nHETATM   14 C    FRA A  13       0.000   0.000  19.500  1.00  0.00       B   C  \\nHETATM   15 C    FRA A  14       0.000   0.000  21.000  1.00  0.00       B   C  \\nHETATM   16 C    FRA A  15       0.000   0.000  22.500  1.00  0.00       B   C  \\nHETATM   17 C    FRA A  16       0.000   0.000  24.000  1.00  0.00       B   C  \\nHETATM   18 C    FRA A  17       0.000   0.000  25.500  1.00  0.00       B   C  \\nHETATM   19 C    FRA A  18       0.000   0.000  27.000  1.00  0.00       B   C  \\nHETATM   20 C    FRA A  19       0.000   0.000  28.500  1.00  0.00       B   C  \\nENDMDL\\n\",\"pdb\",{\"keepH\": \"true\"});\n",
              "\tviewergrid_16637866793258305[0][0].setStyle({\"model\": -1, \"serial\": 15},{\"sphere\": {\"scale\": 0.2, \"color\": \"#F8BB66\"}});\n",
              "\tviewergrid_16637866793258305[0][0].addModelsAsFrames(\"MODEL 0\\nCRYST1      inf      inf   30.000     90     90     90                          \\nHETATM    1 C    FRA A   0       0.000   0.000   0.000  1.00  0.00       B   C  \\nHETATM    2 C    FRA A   1       0.000   0.000   1.500  1.00  0.00       B   C  \\nHETATM    3 C    FRA A   2       0.000   0.000   3.000  1.00  0.00       B   C  \\nHETATM    4 C    FRA A   3       0.000   0.000   4.500  1.00  0.00       B   C  \\nHETATM    5 C    FRA A   4       0.000   0.000   6.000  1.00  0.00       B   C  \\nHETATM    6 C    FRA A   5       0.000   0.000   7.500  1.00  0.00       B   C  \\nHETATM    7 C    FRA A   6       0.000   0.000   9.000  1.00  0.00       B   C  \\nHETATM    8 C    FRA A   7       0.000   0.000  10.500  1.00  0.00       B   C  \\nHETATM    9 C    FRA A   8       0.000   0.000  12.000  1.00  0.00       B   C  \\nHETATM   10 C    FRA A   9       0.000   0.000  13.500  1.00  0.00       B   C  \\nHETATM   11 C    FRA A  10       0.000   0.000  15.000  1.00  0.00       B   C  \\nHETATM   12 C    FRA A  11       0.000   0.000  16.500  1.00  0.00       B   C  \\nHETATM   13 C    FRA A  12       0.000   0.000  18.000  1.00  0.00       B   C  \\nHETATM   14 C    FRA A  13       0.000   0.000  19.500  1.00  0.00       B   C  \\nHETATM   15 C    FRA A  14       0.000   0.000  21.000  1.00  0.00       B   C  \\nHETATM   16 C    FRA A  15       0.000   0.000  22.500  1.00  0.00       B   C  \\nHETATM   17 C    FRA A  16       0.000   0.000  24.000  1.00  0.00       B   C  \\nHETATM   18 C    FRA A  17       0.000   0.000  25.500  1.00  0.00       B   C  \\nHETATM   19 C    FRA A  18       0.000   0.000  27.000  1.00  0.00       B   C  \\nHETATM   20 C    FRA A  19       0.000   0.000  28.500  1.00  0.00       B   C  \\nENDMDL\\n\",\"pdb\",{\"keepH\": \"true\"});\n",
              "\tviewergrid_16637866793258305[0][0].setStyle({\"model\": -1},{\"line\": {\"color\": \"black\"}});\n",
              "\tviewergrid_16637866793258305[0][0].addModelsAsFrames(\"MODEL 0\\nCRYST1      inf      inf   30.000     90     90     90                          \\nHETATM    1 C    FRA A   0       0.000   0.000   0.000  1.00  0.00       B   C  \\nHETATM    2 C    FRA A   1       0.000   0.000   1.500  1.00  0.00       B   C  \\nHETATM    3 C    FRA A   2       0.000   0.000   3.000  1.00  0.00       B   C  \\nHETATM    4 C    FRA A   3       0.000   0.000   4.500  1.00  0.00       B   C  \\nHETATM    5 C    FRA A   4       0.000   0.000   6.000  1.00  0.00       B   C  \\nHETATM    6 C    FRA A   5       0.000   0.000   7.500  1.00  0.00       B   C  \\nHETATM    7 C    FRA A   6       0.000   0.000   9.000  1.00  0.00       B   C  \\nHETATM    8 C    FRA A   7       0.000   0.000  10.500  1.00  0.00       B   C  \\nHETATM    9 C    FRA A   8       0.000   0.000  12.000  1.00  0.00       B   C  \\nHETATM   10 C    FRA A   9       0.000   0.000  13.500  1.00  0.00       B   C  \\nHETATM   11 C    FRA A  10       0.000   0.000  15.000  1.00  0.00       B   C  \\nHETATM   12 C    FRA A  11       0.000   0.000  16.500  1.00  0.00       B   C  \\nHETATM   13 C    FRA A  12       0.000   0.000  18.000  1.00  0.00       B   C  \\nHETATM   14 C    FRA A  13       0.000   0.000  19.500  1.00  0.00       B   C  \\nHETATM   15 C    FRA A  14       0.000   0.000  21.000  1.00  0.00       B   C  \\nHETATM   16 C    FRA A  15       0.000   0.000  22.500  1.00  0.00       B   C  \\nHETATM   17 C    FRA A  16       0.000   0.000  24.000  1.00  0.00       B   C  \\nHETATM   18 C    FRA A  17       0.000   0.000  25.500  1.00  0.00       B   C  \\nHETATM   19 C    FRA A  18       0.000   0.000  27.000  1.00  0.00       B   C  \\nHETATM   20 C    FRA A  19       0.000   0.000  28.500  1.00  0.00       B   C  \\nENDMDL\\n\",\"pdb\",{\"keepH\": \"true\"});\n",
              "\tviewergrid_16637866793258305[0][0].setStyle({\"model\": -1, \"serial\": 16},{\"sphere\": {\"scale\": 0.2, \"color\": \"#FF9A51\"}});\n",
              "\tviewergrid_16637866793258305[0][0].addModelsAsFrames(\"MODEL 0\\nCRYST1      inf      inf   30.000     90     90     90                          \\nHETATM    1 C    FRA A   0       0.000   0.000   0.000  1.00  0.00       B   C  \\nHETATM    2 C    FRA A   1       0.000   0.000   1.500  1.00  0.00       B   C  \\nHETATM    3 C    FRA A   2       0.000   0.000   3.000  1.00  0.00       B   C  \\nHETATM    4 C    FRA A   3       0.000   0.000   4.500  1.00  0.00       B   C  \\nHETATM    5 C    FRA A   4       0.000   0.000   6.000  1.00  0.00       B   C  \\nHETATM    6 C    FRA A   5       0.000   0.000   7.500  1.00  0.00       B   C  \\nHETATM    7 C    FRA A   6       0.000   0.000   9.000  1.00  0.00       B   C  \\nHETATM    8 C    FRA A   7       0.000   0.000  10.500  1.00  0.00       B   C  \\nHETATM    9 C    FRA A   8       0.000   0.000  12.000  1.00  0.00       B   C  \\nHETATM   10 C    FRA A   9       0.000   0.000  13.500  1.00  0.00       B   C  \\nHETATM   11 C    FRA A  10       0.000   0.000  15.000  1.00  0.00       B   C  \\nHETATM   12 C    FRA A  11       0.000   0.000  16.500  1.00  0.00       B   C  \\nHETATM   13 C    FRA A  12       0.000   0.000  18.000  1.00  0.00       B   C  \\nHETATM   14 C    FRA A  13       0.000   0.000  19.500  1.00  0.00       B   C  \\nHETATM   15 C    FRA A  14       0.000   0.000  21.000  1.00  0.00       B   C  \\nHETATM   16 C    FRA A  15       0.000   0.000  22.500  1.00  0.00       B   C  \\nHETATM   17 C    FRA A  16       0.000   0.000  24.000  1.00  0.00       B   C  \\nHETATM   18 C    FRA A  17       0.000   0.000  25.500  1.00  0.00       B   C  \\nHETATM   19 C    FRA A  18       0.000   0.000  27.000  1.00  0.00       B   C  \\nHETATM   20 C    FRA A  19       0.000   0.000  28.500  1.00  0.00       B   C  \\nENDMDL\\n\",\"pdb\",{\"keepH\": \"true\"});\n",
              "\tviewergrid_16637866793258305[0][0].setStyle({\"model\": -1},{\"line\": {\"color\": \"black\"}});\n",
              "\tviewergrid_16637866793258305[0][0].addModelsAsFrames(\"MODEL 0\\nCRYST1      inf      inf   30.000     90     90     90                          \\nHETATM    1 C    FRA A   0       0.000   0.000   0.000  1.00  0.00       B   C  \\nHETATM    2 C    FRA A   1       0.000   0.000   1.500  1.00  0.00       B   C  \\nHETATM    3 C    FRA A   2       0.000   0.000   3.000  1.00  0.00       B   C  \\nHETATM    4 C    FRA A   3       0.000   0.000   4.500  1.00  0.00       B   C  \\nHETATM    5 C    FRA A   4       0.000   0.000   6.000  1.00  0.00       B   C  \\nHETATM    6 C    FRA A   5       0.000   0.000   7.500  1.00  0.00       B   C  \\nHETATM    7 C    FRA A   6       0.000   0.000   9.000  1.00  0.00       B   C  \\nHETATM    8 C    FRA A   7       0.000   0.000  10.500  1.00  0.00       B   C  \\nHETATM    9 C    FRA A   8       0.000   0.000  12.000  1.00  0.00       B   C  \\nHETATM   10 C    FRA A   9       0.000   0.000  13.500  1.00  0.00       B   C  \\nHETATM   11 C    FRA A  10       0.000   0.000  15.000  1.00  0.00       B   C  \\nHETATM   12 C    FRA A  11       0.000   0.000  16.500  1.00  0.00       B   C  \\nHETATM   13 C    FRA A  12       0.000   0.000  18.000  1.00  0.00       B   C  \\nHETATM   14 C    FRA A  13       0.000   0.000  19.500  1.00  0.00       B   C  \\nHETATM   15 C    FRA A  14       0.000   0.000  21.000  1.00  0.00       B   C  \\nHETATM   16 C    FRA A  15       0.000   0.000  22.500  1.00  0.00       B   C  \\nHETATM   17 C    FRA A  16       0.000   0.000  24.000  1.00  0.00       B   C  \\nHETATM   18 C    FRA A  17       0.000   0.000  25.500  1.00  0.00       B   C  \\nHETATM   19 C    FRA A  18       0.000   0.000  27.000  1.00  0.00       B   C  \\nHETATM   20 C    FRA A  19       0.000   0.000  28.500  1.00  0.00       B   C  \\nENDMDL\\n\",\"pdb\",{\"keepH\": \"true\"});\n",
              "\tviewergrid_16637866793258305[0][0].setStyle({\"model\": -1, \"serial\": 17},{\"sphere\": {\"scale\": 0.2, \"color\": \"#FF783E\"}});\n",
              "\tviewergrid_16637866793258305[0][0].addModelsAsFrames(\"MODEL 0\\nCRYST1      inf      inf   30.000     90     90     90                          \\nHETATM    1 C    FRA A   0       0.000   0.000   0.000  1.00  0.00       B   C  \\nHETATM    2 C    FRA A   1       0.000   0.000   1.500  1.00  0.00       B   C  \\nHETATM    3 C    FRA A   2       0.000   0.000   3.000  1.00  0.00       B   C  \\nHETATM    4 C    FRA A   3       0.000   0.000   4.500  1.00  0.00       B   C  \\nHETATM    5 C    FRA A   4       0.000   0.000   6.000  1.00  0.00       B   C  \\nHETATM    6 C    FRA A   5       0.000   0.000   7.500  1.00  0.00       B   C  \\nHETATM    7 C    FRA A   6       0.000   0.000   9.000  1.00  0.00       B   C  \\nHETATM    8 C    FRA A   7       0.000   0.000  10.500  1.00  0.00       B   C  \\nHETATM    9 C    FRA A   8       0.000   0.000  12.000  1.00  0.00       B   C  \\nHETATM   10 C    FRA A   9       0.000   0.000  13.500  1.00  0.00       B   C  \\nHETATM   11 C    FRA A  10       0.000   0.000  15.000  1.00  0.00       B   C  \\nHETATM   12 C    FRA A  11       0.000   0.000  16.500  1.00  0.00       B   C  \\nHETATM   13 C    FRA A  12       0.000   0.000  18.000  1.00  0.00       B   C  \\nHETATM   14 C    FRA A  13       0.000   0.000  19.500  1.00  0.00       B   C  \\nHETATM   15 C    FRA A  14       0.000   0.000  21.000  1.00  0.00       B   C  \\nHETATM   16 C    FRA A  15       0.000   0.000  22.500  1.00  0.00       B   C  \\nHETATM   17 C    FRA A  16       0.000   0.000  24.000  1.00  0.00       B   C  \\nHETATM   18 C    FRA A  17       0.000   0.000  25.500  1.00  0.00       B   C  \\nHETATM   19 C    FRA A  18       0.000   0.000  27.000  1.00  0.00       B   C  \\nHETATM   20 C    FRA A  19       0.000   0.000  28.500  1.00  0.00       B   C  \\nENDMDL\\n\",\"pdb\",{\"keepH\": \"true\"});\n",
              "\tviewergrid_16637866793258305[0][0].setStyle({\"model\": -1},{\"line\": {\"color\": \"black\"}});\n",
              "\tviewergrid_16637866793258305[0][0].addModelsAsFrames(\"MODEL 0\\nCRYST1      inf      inf   30.000     90     90     90                          \\nHETATM    1 C    FRA A   0       0.000   0.000   0.000  1.00  0.00       B   C  \\nHETATM    2 C    FRA A   1       0.000   0.000   1.500  1.00  0.00       B   C  \\nHETATM    3 C    FRA A   2       0.000   0.000   3.000  1.00  0.00       B   C  \\nHETATM    4 C    FRA A   3       0.000   0.000   4.500  1.00  0.00       B   C  \\nHETATM    5 C    FRA A   4       0.000   0.000   6.000  1.00  0.00       B   C  \\nHETATM    6 C    FRA A   5       0.000   0.000   7.500  1.00  0.00       B   C  \\nHETATM    7 C    FRA A   6       0.000   0.000   9.000  1.00  0.00       B   C  \\nHETATM    8 C    FRA A   7       0.000   0.000  10.500  1.00  0.00       B   C  \\nHETATM    9 C    FRA A   8       0.000   0.000  12.000  1.00  0.00       B   C  \\nHETATM   10 C    FRA A   9       0.000   0.000  13.500  1.00  0.00       B   C  \\nHETATM   11 C    FRA A  10       0.000   0.000  15.000  1.00  0.00       B   C  \\nHETATM   12 C    FRA A  11       0.000   0.000  16.500  1.00  0.00       B   C  \\nHETATM   13 C    FRA A  12       0.000   0.000  18.000  1.00  0.00       B   C  \\nHETATM   14 C    FRA A  13       0.000   0.000  19.500  1.00  0.00       B   C  \\nHETATM   15 C    FRA A  14       0.000   0.000  21.000  1.00  0.00       B   C  \\nHETATM   16 C    FRA A  15       0.000   0.000  22.500  1.00  0.00       B   C  \\nHETATM   17 C    FRA A  16       0.000   0.000  24.000  1.00  0.00       B   C  \\nHETATM   18 C    FRA A  17       0.000   0.000  25.500  1.00  0.00       B   C  \\nHETATM   19 C    FRA A  18       0.000   0.000  27.000  1.00  0.00       B   C  \\nHETATM   20 C    FRA A  19       0.000   0.000  28.500  1.00  0.00       B   C  \\nENDMDL\\n\",\"pdb\",{\"keepH\": \"true\"});\n",
              "\tviewergrid_16637866793258305[0][0].setStyle({\"model\": -1, \"serial\": 18},{\"sphere\": {\"scale\": 0.2, \"color\": \"#FF5028\"}});\n",
              "\tviewergrid_16637866793258305[0][0].addModelsAsFrames(\"MODEL 0\\nCRYST1      inf      inf   30.000     90     90     90                          \\nHETATM    1 C    FRA A   0       0.000   0.000   0.000  1.00  0.00       B   C  \\nHETATM    2 C    FRA A   1       0.000   0.000   1.500  1.00  0.00       B   C  \\nHETATM    3 C    FRA A   2       0.000   0.000   3.000  1.00  0.00       B   C  \\nHETATM    4 C    FRA A   3       0.000   0.000   4.500  1.00  0.00       B   C  \\nHETATM    5 C    FRA A   4       0.000   0.000   6.000  1.00  0.00       B   C  \\nHETATM    6 C    FRA A   5       0.000   0.000   7.500  1.00  0.00       B   C  \\nHETATM    7 C    FRA A   6       0.000   0.000   9.000  1.00  0.00       B   C  \\nHETATM    8 C    FRA A   7       0.000   0.000  10.500  1.00  0.00       B   C  \\nHETATM    9 C    FRA A   8       0.000   0.000  12.000  1.00  0.00       B   C  \\nHETATM   10 C    FRA A   9       0.000   0.000  13.500  1.00  0.00       B   C  \\nHETATM   11 C    FRA A  10       0.000   0.000  15.000  1.00  0.00       B   C  \\nHETATM   12 C    FRA A  11       0.000   0.000  16.500  1.00  0.00       B   C  \\nHETATM   13 C    FRA A  12       0.000   0.000  18.000  1.00  0.00       B   C  \\nHETATM   14 C    FRA A  13       0.000   0.000  19.500  1.00  0.00       B   C  \\nHETATM   15 C    FRA A  14       0.000   0.000  21.000  1.00  0.00       B   C  \\nHETATM   16 C    FRA A  15       0.000   0.000  22.500  1.00  0.00       B   C  \\nHETATM   17 C    FRA A  16       0.000   0.000  24.000  1.00  0.00       B   C  \\nHETATM   18 C    FRA A  17       0.000   0.000  25.500  1.00  0.00       B   C  \\nHETATM   19 C    FRA A  18       0.000   0.000  27.000  1.00  0.00       B   C  \\nHETATM   20 C    FRA A  19       0.000   0.000  28.500  1.00  0.00       B   C  \\nENDMDL\\n\",\"pdb\",{\"keepH\": \"true\"});\n",
              "\tviewergrid_16637866793258305[0][0].setStyle({\"model\": -1},{\"line\": {\"color\": \"black\"}});\n",
              "\tviewergrid_16637866793258305[0][0].addModelsAsFrames(\"MODEL 0\\nCRYST1      inf      inf   30.000     90     90     90                          \\nHETATM    1 C    FRA A   0       0.000   0.000   0.000  1.00  0.00       B   C  \\nHETATM    2 C    FRA A   1       0.000   0.000   1.500  1.00  0.00       B   C  \\nHETATM    3 C    FRA A   2       0.000   0.000   3.000  1.00  0.00       B   C  \\nHETATM    4 C    FRA A   3       0.000   0.000   4.500  1.00  0.00       B   C  \\nHETATM    5 C    FRA A   4       0.000   0.000   6.000  1.00  0.00       B   C  \\nHETATM    6 C    FRA A   5       0.000   0.000   7.500  1.00  0.00       B   C  \\nHETATM    7 C    FRA A   6       0.000   0.000   9.000  1.00  0.00       B   C  \\nHETATM    8 C    FRA A   7       0.000   0.000  10.500  1.00  0.00       B   C  \\nHETATM    9 C    FRA A   8       0.000   0.000  12.000  1.00  0.00       B   C  \\nHETATM   10 C    FRA A   9       0.000   0.000  13.500  1.00  0.00       B   C  \\nHETATM   11 C    FRA A  10       0.000   0.000  15.000  1.00  0.00       B   C  \\nHETATM   12 C    FRA A  11       0.000   0.000  16.500  1.00  0.00       B   C  \\nHETATM   13 C    FRA A  12       0.000   0.000  18.000  1.00  0.00       B   C  \\nHETATM   14 C    FRA A  13       0.000   0.000  19.500  1.00  0.00       B   C  \\nHETATM   15 C    FRA A  14       0.000   0.000  21.000  1.00  0.00       B   C  \\nHETATM   16 C    FRA A  15       0.000   0.000  22.500  1.00  0.00       B   C  \\nHETATM   17 C    FRA A  16       0.000   0.000  24.000  1.00  0.00       B   C  \\nHETATM   18 C    FRA A  17       0.000   0.000  25.500  1.00  0.00       B   C  \\nHETATM   19 C    FRA A  18       0.000   0.000  27.000  1.00  0.00       B   C  \\nHETATM   20 C    FRA A  19       0.000   0.000  28.500  1.00  0.00       B   C  \\nENDMDL\\n\",\"pdb\",{\"keepH\": \"true\"});\n",
              "\tviewergrid_16637866793258305[0][0].setStyle({\"model\": -1, \"serial\": 19},{\"sphere\": {\"scale\": 0.2, \"color\": \"#FF2814\"}});\n",
              "\tviewergrid_16637866793258305[0][0].addModelsAsFrames(\"MODEL 0\\nCRYST1      inf      inf   30.000     90     90     90                          \\nHETATM    1 C    FRA A   0       0.000   0.000   0.000  1.00  0.00       B   C  \\nHETATM    2 C    FRA A   1       0.000   0.000   1.500  1.00  0.00       B   C  \\nHETATM    3 C    FRA A   2       0.000   0.000   3.000  1.00  0.00       B   C  \\nHETATM    4 C    FRA A   3       0.000   0.000   4.500  1.00  0.00       B   C  \\nHETATM    5 C    FRA A   4       0.000   0.000   6.000  1.00  0.00       B   C  \\nHETATM    6 C    FRA A   5       0.000   0.000   7.500  1.00  0.00       B   C  \\nHETATM    7 C    FRA A   6       0.000   0.000   9.000  1.00  0.00       B   C  \\nHETATM    8 C    FRA A   7       0.000   0.000  10.500  1.00  0.00       B   C  \\nHETATM    9 C    FRA A   8       0.000   0.000  12.000  1.00  0.00       B   C  \\nHETATM   10 C    FRA A   9       0.000   0.000  13.500  1.00  0.00       B   C  \\nHETATM   11 C    FRA A  10       0.000   0.000  15.000  1.00  0.00       B   C  \\nHETATM   12 C    FRA A  11       0.000   0.000  16.500  1.00  0.00       B   C  \\nHETATM   13 C    FRA A  12       0.000   0.000  18.000  1.00  0.00       B   C  \\nHETATM   14 C    FRA A  13       0.000   0.000  19.500  1.00  0.00       B   C  \\nHETATM   15 C    FRA A  14       0.000   0.000  21.000  1.00  0.00       B   C  \\nHETATM   16 C    FRA A  15       0.000   0.000  22.500  1.00  0.00       B   C  \\nHETATM   17 C    FRA A  16       0.000   0.000  24.000  1.00  0.00       B   C  \\nHETATM   18 C    FRA A  17       0.000   0.000  25.500  1.00  0.00       B   C  \\nHETATM   19 C    FRA A  18       0.000   0.000  27.000  1.00  0.00       B   C  \\nHETATM   20 C    FRA A  19       0.000   0.000  28.500  1.00  0.00       B   C  \\nENDMDL\\n\",\"pdb\",{\"keepH\": \"true\"});\n",
              "\tviewergrid_16637866793258305[0][0].setStyle({\"model\": -1},{\"line\": {\"color\": \"black\"}});\n",
              "\tviewergrid_16637866793258305[0][0].addModelsAsFrames(\"MODEL 0\\nCRYST1      inf      inf   30.000     90     90     90                          \\nHETATM    1 C    FRA A   0       0.000   0.000   0.000  1.00  0.00       B   C  \\nHETATM    2 C    FRA A   1       0.000   0.000   1.500  1.00  0.00       B   C  \\nHETATM    3 C    FRA A   2       0.000   0.000   3.000  1.00  0.00       B   C  \\nHETATM    4 C    FRA A   3       0.000   0.000   4.500  1.00  0.00       B   C  \\nHETATM    5 C    FRA A   4       0.000   0.000   6.000  1.00  0.00       B   C  \\nHETATM    6 C    FRA A   5       0.000   0.000   7.500  1.00  0.00       B   C  \\nHETATM    7 C    FRA A   6       0.000   0.000   9.000  1.00  0.00       B   C  \\nHETATM    8 C    FRA A   7       0.000   0.000  10.500  1.00  0.00       B   C  \\nHETATM    9 C    FRA A   8       0.000   0.000  12.000  1.00  0.00       B   C  \\nHETATM   10 C    FRA A   9       0.000   0.000  13.500  1.00  0.00       B   C  \\nHETATM   11 C    FRA A  10       0.000   0.000  15.000  1.00  0.00       B   C  \\nHETATM   12 C    FRA A  11       0.000   0.000  16.500  1.00  0.00       B   C  \\nHETATM   13 C    FRA A  12       0.000   0.000  18.000  1.00  0.00       B   C  \\nHETATM   14 C    FRA A  13       0.000   0.000  19.500  1.00  0.00       B   C  \\nHETATM   15 C    FRA A  14       0.000   0.000  21.000  1.00  0.00       B   C  \\nHETATM   16 C    FRA A  15       0.000   0.000  22.500  1.00  0.00       B   C  \\nHETATM   17 C    FRA A  16       0.000   0.000  24.000  1.00  0.00       B   C  \\nHETATM   18 C    FRA A  17       0.000   0.000  25.500  1.00  0.00       B   C  \\nHETATM   19 C    FRA A  18       0.000   0.000  27.000  1.00  0.00       B   C  \\nHETATM   20 C    FRA A  19       0.000   0.000  28.500  1.00  0.00       B   C  \\nENDMDL\\n\",\"pdb\",{\"keepH\": \"true\"});\n",
              "\tviewergrid_16637866793258305[0][0].setStyle({\"model\": -1, \"serial\": 20},{\"sphere\": {\"scale\": 0.2, \"color\": \"#FF0000\"}});\n",
              "\tviewergrid_16637866793258305[0][0].addUnitCell({\"model\": -1},{\"box\": {\"color\": \"black\"}, \"alabel\": \"\", \"blabel\": \"\", \"clabel\": \"\"});\n",
              "\tviewergrid_16637866793258305[0][0].zoomTo();\n",
              "\tviewergrid_16637866793258305[0][0].zoom(3.0);\n",
              "viewergrid_16637866793258305[0][0].render();\n",
              "});\n",
              "</script>"
            ]
          },
          "metadata": {}
        }
      ],
      "source": [
        "from BigDFT.Visualization import InlineVisualizer, get_colordict\n",
        "\n",
        "viz = InlineVisualizer(400, 100)\n",
        "cdict = get_colordict(periodic_chain, field_vals=[float(x) for x in range(len(list(periodic_chain)))], \n",
        "                      colorcode=\"rainbow\")\n",
        "viz.display_system(periodic_chain, zoom=3.0, colordict=cdict)"
      ]
    },
    {
      "cell_type": "markdown",
      "metadata": {
        "id": "R6m5iBIMaKds"
      },
      "source": [
        "### Isolated C Atom Template\n",
        "\n",
        "Since each atom in the chain is identical (to within the error induced by the egg-box effect), we can define a single fragment type, consisting of a single carbon atom, so let's also construct a single C atom system.\n",
        "\n",
        "Once we've created the system, we'll also write it to an xyz file, since we will need this for the fragment calculation."
      ]
    },
    {
      "cell_type": "code",
      "execution_count": 6,
      "metadata": {
        "id": "4zpXt2BjaKdt"
      },
      "outputs": [],
      "source": [
        "from BigDFT.IO import write_xyz\n",
        "\n",
        "template = System()\n",
        "atom = Atom({\"sym\": \"C\", \"r\": [0.0, 0.0, 0.0], \"units\": \"angstroem\"})\n",
        "template[\"FRA:0\"] = Fragment([atom])\n",
        "\n",
        "template_name = 'isolated_C'\n",
        "ofile = open(template_name+'.xyz', 'w')\n",
        "write_xyz(template, ofile)\n",
        "ofile.close()"
      ]
    },
    {
      "cell_type": "markdown",
      "metadata": {
        "id": "Frv54qRgaKdu"
      },
      "source": [
        "So far, we only know how to generate isolated templates. We expect this will be a poor approximation, since the C atoms are covalently bonded, but let's try anyway to see what happens. We can use the same input file parameters as for molecular fragments."
      ]
    },
    {
      "cell_type": "code",
      "execution_count": 7,
      "metadata": {
        "id": "tUm__6_XaKdu"
      },
      "outputs": [],
      "source": [
        "from BigDFT import Inputfiles as I, InputActions as A\n",
        "\n",
        "# template input file\n",
        "inpt = I.Inputfile()\n",
        "\n",
        "# fragment input file\n",
        "inpf = I.Inputfile()\n",
        "\n",
        "# common parameters\n",
        "for inp in [inpt, inpf]:\n",
        "    # set the grid spacing, XC functional and specify pseudopotential type\n",
        "    inp.set_hgrid(0.5)\n",
        "    inp.set_xc('PBE')\n",
        "    inp.set_psp_nlcc()\n",
        "    \n",
        "    # import the linear scaling profile\n",
        "    inp['import'] = 'linear'\n",
        "    \n",
        "    # turn off the communications checks, which can be costly for larger systems\n",
        "    inp.update({'perf': {'check_sumrho': 0, 'check_overlap': 0}})\n",
        "    \n",
        "    # output the SFs in binary format, and skip the multipole calculation\n",
        "    inp.update({'lin_general': {'output_wf': 2, 'charge_multipoles': 0}})"
      ]
    },
    {
      "cell_type": "markdown",
      "metadata": {
        "id": "vsDvEM7uaKdv"
      },
      "source": [
        "We'll set up the calculator using only a few MPI tasks, as it doesn't make sense to have lots of MPI tasks for a single atom."
      ]
    },
    {
      "cell_type": "code",
      "execution_count": 8,
      "metadata": {
        "id": "LsmFdnsQaKdw"
      },
      "outputs": [],
      "source": [
        "from BigDFT import Calculators as C\n",
        "code = C.SystemCalculator(omp=2, mpi_run='mpirun -n 2', verbose=False, skip=True)"
      ]
    },
    {
      "cell_type": "markdown",
      "metadata": {
        "id": "jPZYl_zHaKdw"
      },
      "source": [
        "And we'll again define our functions to check convergence."
      ]
    },
    {
      "cell_type": "code",
      "execution_count": 9,
      "metadata": {
        "id": "zgS-drluaKdx"
      },
      "outputs": [],
      "source": [
        "def check_convergence_optimised_sfs(run):\n",
        "    \n",
        "    # in this case we check the convergence of the outer loop\n",
        "    dout = run.log['Ground State Optimization'][-1]['self consistency summary'][-1]['delta out']\n",
        "\n",
        "    # check what threshold we were trying to meet\n",
        "    dthresh = float(run.log['lin_general']['rpnrm_cv'])\n",
        "    \n",
        "    if dout > dthresh:\n",
        "        print('WARNING, calculation did not converge')\n",
        "        return False\n",
        "    else:\n",
        "        return True\n",
        "    \n",
        "def check_convergence_fixed_sfs(run):\n",
        "    \n",
        "    # in this case we check the convergence of the kernel loop\n",
        "    dout = run.log['Ground State Optimization'][-1]['kernel optimization'][-1]['summary']['delta']\n",
        "\n",
        "    # check what threshold we were trying to meet\n",
        "    dthresh = float(run.log['lin_kernel']['rpnrm_cv'])\n",
        "    \n",
        "    if dout > dthresh:\n",
        "        print('WARNING, calculation did not converge')\n",
        "        return False\n",
        "    else:\n",
        "        return True"
      ]
    },
    {
      "cell_type": "markdown",
      "metadata": {
        "id": "pmNAn5r8aKdx"
      },
      "source": [
        "Now let's run the isolated C atom template."
      ]
    },
    {
      "cell_type": "code",
      "execution_count": 10,
      "metadata": {
        "id": "a9YiO_aAaKdy",
        "outputId": "bd7594c3-5618-4c28-a22a-539a6df9f55a",
        "colab": {
          "base_uri": "https://localhost:8080/"
        }
      },
      "outputs": [
        {
          "output_type": "stream",
          "name": "stdout",
          "text": [
            "Isolated template took 0.4 minutes, E = -169.630 eV/atom\n"
          ]
        }
      ],
      "source": [
        "run_template = code.run(input=inpt, sys=template, name=template_name)                \n",
        "\n",
        "converged = check_convergence_optimised_sfs(run_template)\n",
        "\n",
        "Ha2eV = 27.211396132\n",
        "template_energy = Ha2eV * run_template.energy / run_template.nat\n",
        "template_time = run_template.log['Timings for root process']['Elapsed time (s)'] / 60.0   \n",
        "                    \n",
        "print('Isolated template took '+'{0:.1f}'.format(template_time)+' minutes, E = '+\\\n",
        "      '{0:.3f}'.format(template_energy)+' eV/atom')"
      ]
    },
    {
      "cell_type": "markdown",
      "metadata": {
        "id": "P98bIWIqaKdy"
      },
      "source": [
        "As in the molecular fragments tutorial, let's also run the chain using full linear scaling mode, to give us a reference. We will make the same modifications to the input file as before.\n",
        "\n",
        "Before we run, we'll also change the calculator - now that we have more atoms, we can also use more MPI tasks."
      ]
    },
    {
      "cell_type": "code",
      "execution_count": 11,
      "metadata": {
        "id": "1bXJ_9YUaKdz",
        "outputId": "6e38e682-5de5-45fe-caf8-2c7d7ba6c5b3",
        "colab": {
          "base_uri": "https://localhost:8080/"
        }
      },
      "outputs": [
        {
          "output_type": "stream",
          "name": "stdout",
          "text": [
            "Fully optimised chain took 1.7 minutes, E = -176.777 eV/atom\n"
          ]
        }
      ],
      "source": [
        "code = C.SystemCalculator(omp=2, mpi_run='mpirun -n 4', verbose=False, skip=True)\n",
        "\n",
        "# we'll name the calculation after the number of atoms in the chain\n",
        "name = 'periodic_chain'+str(nat)+'_linear'\n",
        "\n",
        "inpt['lin_general'].update({'output_wf': 0, 'output_mat': 0})\n",
        "inpt['lin_general'].update({'subspace_diag': True})\n",
        "\n",
        "run_full = code.run(input=inpt, sys=periodic_chain, name=name)    \n",
        "\n",
        "converged = check_convergence_optimised_sfs(run_full)\n",
        "\n",
        "full_energy = Ha2eV * run_full.energy / run_full.nat\n",
        "full_time = run_full.log['Timings for root process']['Elapsed time (s)'] / 60.0   \n",
        "                    \n",
        "print('Fully optimised chain took '+'{0:.1f}'.format(full_time)+' minutes, E = '+\\\n",
        "      '{0:.3f}'.format(full_energy)+' eV/atom')"
      ]
    },
    {
      "cell_type": "markdown",
      "metadata": {
        "id": "cG0rsFysaKdz"
      },
      "source": [
        "In order to run the fragment calculation, as before, we also then need to setup the data directories. Since we will be doing a range of different fragment calculations, we'll give the fragment data directories a generic name, and will make use of the radical keyword. This time, we'll turn it into a function for easy reuse."
      ]
    },
    {
      "cell_type": "code",
      "execution_count": 12,
      "metadata": {
        "id": "eaIXCWeVaKd0"
      },
      "outputs": [],
      "source": [
        "def setup_molecular_fragment_data(fragment_name, template_name):\n",
        "    import os\n",
        "    \n",
        "    main_dir = os.getcwd()\n",
        "\n",
        "    data_dir = 'data-'+fragment_name\n",
        "    if not os.path.exists(data_dir):\n",
        "        os.makedirs(data_dir)\n",
        "\n",
        "    os.chdir(data_dir)\n",
        "\n",
        "    if not os.path.islink(template_name+'.xyz'):\n",
        "        os.symlink('../'+template_name+'.xyz', template_name+'.xyz')\n",
        "\n",
        "    if not os.path.islink('data-'+template_name):\n",
        "        os.symlink('../data-'+template_name, 'data-'+template_name)\n",
        "\n",
        "    os.chdir(main_dir)\n",
        "    \n",
        "fragment_name = 'fragments'\n",
        "setup_molecular_fragment_data(fragment_name, template_name)"
      ]
    },
    {
      "cell_type": "markdown",
      "metadata": {
        "id": "9O_GSC0uaKd0"
      },
      "source": [
        "Finally, we'll also again make the fragment input file, using the same parameters as before."
      ]
    },
    {
      "cell_type": "code",
      "execution_count": 13,
      "metadata": {
        "id": "mCvITDKFaKd0"
      },
      "outputs": [],
      "source": [
        "inpf['dft'].update({'inputpsiid': 'linear_restart'})\n",
        "inpf['perf'].update({'adjust_kernel_iterations': False, 'adjust_kernel_threshold': False})\n",
        "inpf['lin_general'].update({'hybrid': False, 'nit': [0, 1], 'output_mat': 0, 'output_wf': 0,\n",
        "                            'subspace_diag': True})\n",
        "inpf.update({'lin_basis': {'nit': 1, 'idsx': 1}})\n",
        "inpf.update({'lin_kernel': {'nit': 200, 'rpnrm_cv': 1.0e-11, 'delta_pnrm': -1, 'alphamix': 0.1}})\n",
        "\n",
        "# as before, we have a single template type\n",
        "inpf.update({'frag': {template_name: [i for i in range(1, nat + 1)]}})\n",
        "\n",
        "inpf.update({'radical': fragment_name})"
      ]
    },
    {
      "cell_type": "markdown",
      "metadata": {
        "id": "VMLDPOkMaKd1"
      },
      "source": [
        "Let's now run the fragment calculation using the isolated C template."
      ]
    },
    {
      "cell_type": "code",
      "execution_count": 14,
      "metadata": {
        "id": "N1U5406NaKd1",
        "outputId": "4a65be55-b40f-4b33-eda3-e378c38758da",
        "colab": {
          "base_uri": "https://localhost:8080/"
        }
      },
      "outputs": [
        {
          "output_type": "stream",
          "name": "stdout",
          "text": [
            "Fragment calculation for the chain took 0.4 minutes, E = -175.159 eV/atom\n",
            "Difference between fragment and linear scaling energy = 1.618 eV/atom\n"
          ]
        }
      ],
      "source": [
        "# we'll label the run with both the system name and the template name\n",
        "name = 'periodic_chain'+str(nat)+'_fragment_'+template_name\n",
        "\n",
        "# we need to remember to use the fragment input file, instead of the template one\n",
        "run_fragment = code.run(input=inpf, sys=periodic_chain, name=name)    \n",
        "\n",
        "converged = check_convergence_fixed_sfs(run_fragment)\n",
        "\n",
        "fragment_energy = Ha2eV * run_fragment.energy / run_fragment.nat\n",
        "fragment_time = run_fragment.log['Timings for root process']['Elapsed time (s)'] / 60.0   \n",
        "                    \n",
        "print('Fragment calculation for the chain took '+'{0:.1f}'.format(fragment_time)+' minutes, E = '+\\\n",
        "      '{0:.3f}'.format(fragment_energy)+' eV/atom')\n",
        "\n",
        "print('Difference between fragment and linear scaling energy = '+\\\n",
        "      '{0:.3f}'.format(fragment_energy - full_energy)+' eV/atom')"
      ]
    },
    {
      "cell_type": "markdown",
      "metadata": {
        "id": "I4myoiFdaKd1"
      },
      "source": [
        "Unlike the anthracene dimer, the difference between the fragment and linear scaling calculations is high - more than 1 eV/atom. This is unsurprising, since as we discussed, an isolated C atom is not representative of a C atom in a periodic chain. \n",
        "\n",
        "Instead, we need to somehow generate a template in an environment which is similar to the C atom in the chain. In other words, we need to _embed_ the template into a representative environment, which is what we will do in the following section."
      ]
    },
    {
      "cell_type": "markdown",
      "metadata": {
        "id": "HbAKiqv7aKd2"
      },
      "source": [
        "### Embedded C Atom Template\n",
        "\n",
        "We want the template calculation to have the following features:\n",
        "- the template environment should match as close as possible to the target environment\n",
        "- the system should be as small as possible, so that the fragment and template calculations still remain cheaper than doing a full linear scaling calculation\n",
        "\n",
        "In this case, we can achieve both goals by using a smaller periodic C chain, with the same bond length. \n",
        "\n",
        "Linear scaling BigDFT has a lower limit on how small a system can be when using periodic boundary conditions, in that the support functions (plus the additional grid points used when applying the Hamiltonian) must be smaller than the axis. For the parameters we are using in this tutorial, this limit is around 10 atoms, so let's create a new chain containing 10 atoms."
      ]
    },
    {
      "cell_type": "code",
      "execution_count": 15,
      "metadata": {
        "id": "Cm0MTC64aKd2"
      },
      "outputs": [],
      "source": [
        "# we can reuse the function we created earlier, changing only the number of atoms\n",
        "nat_template = 10\n",
        "short_periodic_chain = create_periodic_chain(bond_length, nat_template)"
      ]
    },
    {
      "cell_type": "markdown",
      "metadata": {
        "id": "BaXvU-fiaKd2"
      },
      "source": [
        "The template calculation uses a very similar input file to the isolated template calculation - we still perform a linear scaling calculation, and we still output the matrices and support functions. \n",
        "\n",
        "However, there is a key difference, in that we already need to tell BigDFT that the system is composed of fragments. This follows the same syntax as the molecular fragment calculation, but this time we also need to already setup the data directories."
      ]
    },
    {
      "cell_type": "code",
      "execution_count": 16,
      "metadata": {
        "id": "wgLRgPX7aKd3"
      },
      "outputs": [],
      "source": [
        "# since we're creating the directories from scratch, we'll have to modify the function we created\n",
        "def setup_embedded_fragment_data(fragment_name, template_name):\n",
        "    import os\n",
        "    \n",
        "    main_dir = os.getcwd()\n",
        "\n",
        "    data_dir = 'data-'+fragment_name\n",
        "    if not os.path.exists(data_dir):\n",
        "        os.makedirs(data_dir)\n",
        "\n",
        "    os.chdir(data_dir)\n",
        "\n",
        "    if not os.path.islink(template_name+'.xyz'):\n",
        "        os.symlink('../'+template_name+'.xyz', template_name+'.xyz')\n",
        "\n",
        "    if not os.path.exists('data-'+template_name):\n",
        "        os.makedirs('data-'+template_name)\n",
        "\n",
        "    os.chdir(main_dir)\n",
        "\n",
        "import shutil\n",
        "    \n",
        "# before we can generate the folders, we need to make sure we have the template xyz file\n",
        "# the template itself will still be the same (a single C atom),\n",
        "# but we'll give it another name to keep the data separate\n",
        "embedded_template_name = 'embedded_C'\n",
        "shutil.copy(template_name+'.xyz', embedded_template_name+'.xyz')\n",
        "setup_embedded_fragment_data(fragment_name, embedded_template_name)\n",
        "\n",
        "# first let's define the fragment list - as before we have a single template type\n",
        "inpt.update({'frag': {embedded_template_name: [i for i in range(1, nat_template + 1)]}})\n",
        "\n",
        "# we'll also tell BigDFT to only write the associated files in the fragment directories\n",
        "# in other words the files should be written in data-fragments/data-template only,\n",
        "# and not also directly in data-fragments\n",
        "# this will save disk space\n",
        "inpt['lin_general'].update({'output_fragments': 1})\n",
        "\n",
        "# we also need to reactivate writing out the required files\n",
        "inpt['lin_general'].update({'output_wf': 2, 'output_mat': 1})\n",
        "\n",
        "inpt.update({'radical': fragment_name})"
      ]
    },
    {
      "cell_type": "markdown",
      "metadata": {
        "id": "f6h7h8qoaKd3"
      },
      "source": [
        "Now we have all the ingredients we need to run the embedded template calculation."
      ]
    },
    {
      "cell_type": "code",
      "execution_count": 17,
      "metadata": {
        "id": "amfp0roGaKd4",
        "outputId": "19d79a1e-7164-4fff-f184-11813659ded0",
        "colab": {
          "base_uri": "https://localhost:8080/"
        }
      },
      "outputs": [
        {
          "output_type": "stream",
          "name": "stdout",
          "text": [
            "Template chain took 0.9 minutes, E = -176.933 eV/atom\n"
          ]
        }
      ],
      "source": [
        "# we'll name the calculation after the number of atoms in the chain\n",
        "name = 'periodic_chain'+str(nat_template)+'_template'\n",
        "\n",
        "run_embedded_template = code.run(input=inpt, sys=short_periodic_chain, name=name)    \n",
        "\n",
        "converged = check_convergence_optimised_sfs(run_embedded_template)\n",
        "\n",
        "embedded_template_energy = Ha2eV * run_embedded_template.energy / run_embedded_template.nat\n",
        "embedded_template_time = run_embedded_template.log['Timings for root process']['Elapsed time (s)'] / 60.0   \n",
        "                    \n",
        "print('Template chain took '+'{0:.1f}'.format(embedded_template_time)+' minutes, E = '+\\\n",
        "      '{0:.3f}'.format(embedded_template_energy)+' eV/atom')"
      ]
    },
    {
      "cell_type": "markdown",
      "metadata": {
        "id": "g2_Bh6ADaKd4"
      },
      "source": [
        "We can now run a fragment calculation using this new template. The only thing we have to change is the fragment name."
      ]
    },
    {
      "cell_type": "code",
      "execution_count": 18,
      "metadata": {
        "id": "kXu4SE9DaKd4",
        "outputId": "4d3389bc-023d-49ce-8a67-73514ff34ba5",
        "colab": {
          "base_uri": "https://localhost:8080/"
        }
      },
      "outputs": [
        {
          "output_type": "stream",
          "name": "stdout",
          "text": [
            "Embedded fragment calculation for the chain took 0.4 minutes, E = -176.774 eV/atom\n",
            "Difference between embedded fragment and linear scaling energy = 0.003 eV/atom\n"
          ]
        }
      ],
      "source": [
        "inpf.update({'frag': {embedded_template_name: [i for i in range(1, nat + 1)]}})\n",
        "\n",
        "name = 'periodic_chain'+str(nat)+'_fragment_'+embedded_template_name\n",
        "\n",
        "run_embedded_fragment = code.run(input=inpf, sys=periodic_chain, name=name)    \n",
        "\n",
        "converged = check_convergence_fixed_sfs(run_fragment)\n",
        "\n",
        "embedded_fragment_energy = Ha2eV * run_embedded_fragment.energy / run_embedded_fragment.nat\n",
        "embedded_fragment_time = run_embedded_fragment.log['Timings for root process']['Elapsed time (s)'] / 60.0   \n",
        "                    \n",
        "print('Embedded fragment calculation for the chain took '+'{0:.1f}'.format(embedded_fragment_time)+\\\n",
        "      ' minutes, E = '+'{0:.3f}'.format(embedded_fragment_energy)+' eV/atom')\n",
        "\n",
        "print('Difference between embedded fragment and linear scaling energy = '+\\\n",
        "      '{0:.3f}'.format(embedded_fragment_energy - full_energy)+' eV/atom')"
      ]
    },
    {
      "cell_type": "markdown",
      "metadata": {
        "id": "BVKLaarjaKd5"
      },
      "source": [
        "The error with respect to the full linear scaling calculation is now only a few meV/atom, confirming that the embedded template environment is a good representation of the target environment.\n",
        "\n",
        "Beyond the general similarity between local chemical environments, we can also more directly quantify any distortions between the atomic structure of the template and target system. We can do this by extracting the average cost function value, $J$, defined as:\n",
        "\n",
        "$J_{\\alpha\\beta}=\\frac{1}{N_{\\mathrm{at}}}\\sum_{a=1}^{N_{\\mathrm{at}}}||\\mathbf{R}_a^\\alpha-\\sum_{b=1}^{N_{\\mathrm{at}}}\\mathcal{R}^{\\beta\\rightarrow \\alpha}_{ab}\\mathbf{R}_a^\\beta||^2$,\n",
        "\n",
        "where $\\mathcal{R}^{\\beta\\rightarrow \\alpha}_{ab}$ is a rotation matrix between two instances of a fragment characterised by their atomic coordinates $\\mathbf{R}^{\\alpha}$ and $\\mathbf{R}^{\\beta}$, and $N_{\\mathrm{at}}$ is the number of atoms in the fragment. By definition, $J=0$ corresponds to a rigid rotation.\n",
        "\n",
        "We can see below that $J_{av}$ is zero. However, this is only meaningful in the case where fragments contain more than 1 atom. "
      ]
    },
    {
      "cell_type": "code",
      "execution_count": 19,
      "metadata": {
        "id": "GTn-BgRdaKd5",
        "outputId": "307a12c6-a8c5-464c-c1cd-a8d459acb097",
        "colab": {
          "base_uri": "https://localhost:8080/"
        }
      },
      "outputs": [
        {
          "output_type": "stream",
          "name": "stdout",
          "text": [
            "Average cost function value = 0.00 angstroem\n"
          ]
        }
      ],
      "source": [
        "J_av = run_embedded_fragment.log['Input Hamiltonian']['Average Wahba cost function value']\n",
        "print('Average cost function value = '+'{0:.2f}'.format(J_av)+' angstroem')"
      ]
    },
    {
      "cell_type": "markdown",
      "metadata": {
        "id": "kVynJNlwaKd5"
      },
      "source": [
        "However, we can also calculate $J$ using PyBigDFT for an arbitrary set of coordinates. As an example, let's compare two C dimers with differing bond lengths.\n",
        "\n",
        "As we can see, this difference in bond lengths leads to a non-zero cost function."
      ]
    },
    {
      "cell_type": "code",
      "execution_count": 20,
      "metadata": {
        "id": "rwSPQCGXaKd6",
        "outputId": "008a2be9-20c1-4c03-9a36-c28f3700eed9",
        "colab": {
          "base_uri": "https://localhost:8080/"
        }
      },
      "outputs": [
        {
          "output_type": "stream",
          "name": "stdout",
          "text": [
            "J=0.09 angstroem\n"
          ]
        }
      ],
      "source": [
        "from BigDFT.Fragments import RotoTranslation\n",
        "\n",
        "atom1 = Atom({\"sym\": \"C\", \"r\": [0.0, 0.0, 0.0], \"units\": \"angstroem\"})\n",
        "atom2 = Atom({\"sym\": \"C\", \"r\": [0.0, 0.0, 1.5], \"units\": \"angstroem\"})\n",
        "dimer1 = Fragment([atom1, atom2])\n",
        "\n",
        "atom1 = Atom({\"sym\": \"C\", \"r\": [0.0, 0.0, 0.0], \"units\": \"angstroem\"})\n",
        "atom2 = Atom({\"sym\": \"C\", \"r\": [0.0, 0.0, 1.6], \"units\": \"angstroem\"})\n",
        "dimer2 = Fragment([atom1, atom2])\n",
        "\n",
        "J = RotoTranslation(dimer1, dimer2).J\n",
        "\n",
        "print('J='+'{0:.2f}'.format(J)+' angstroem')"
      ]
    },
    {
      "cell_type": "markdown",
      "metadata": {
        "id": "bo2ac_H2aKd6"
      },
      "source": [
        "This error also depends on another factor, namely whether or not any reformatting of the support functions is required, i.e. in cases where the support functions need rotating or shifting, or other details of the grid change, then interpolation will need to be performed. This is what we saw in the molecular fragments tutorial, where the eggbox effect was visible.\n",
        "\n",
        "In this case, we have a wavelet grid spacing of 0.5 bohr, which is not a factor of the bond length. We would therefore expect that the atoms do not align with the grid points, and interpolation should be required to shift the support functions.\n",
        "\n",
        "We can check what reformatting changes are made by inspecting the log."
      ]
    },
    {
      "cell_type": "code",
      "execution_count": 21,
      "metadata": {
        "id": "wy6S6Tt7aKd6",
        "outputId": "a01df9a0-e1ea-437a-fffc-68301638bdb1",
        "colab": {
          "base_uri": "https://localhost:8080/"
        }
      },
      "outputs": [
        {
          "output_type": "stream",
          "name": "stdout",
          "text": [
            "Support function reformatting:\n",
            "{'No reformatting required': 80, 'Grid spacing has changed': 0, 'Box size has changed': 0, 'Number of coarse grid points has changed': 0, 'Number of fine grid points has changed': 0, 'Molecule was shifted': 0, 'Molecule was rotated': 0, 'Wrapping/unwrapping': 76}\n"
          ]
        }
      ],
      "source": [
        "print('Support function reformatting:')\n",
        "print(run_embedded_fragment.log['Input Hamiltonian']\\\n",
        "      ['Overview of the reformatting (several categories may apply)'])"
      ]
    },
    {
      "cell_type": "markdown",
      "metadata": {
        "id": "tMbRpuLPaKd7"
      },
      "source": [
        "Other than wrapping/unwrapping due to the periodic boundary conditions, which does not require any interpolation, no reformatting has taken place.\n",
        "\n",
        "This is surprising, however we are working in periodic boundary conditions. BigDFT has to modify the grid spacing so that the grid spacing is consistent with the cell dimensions along the periodic direction. If we inspect the logfile, we can see that the grid spacing has been modified in the $z$-direction, matching the cell dimensions and also resulting in the atoms being on grid points. This explains why no reformatting was required."
      ]
    },
    {
      "cell_type": "code",
      "execution_count": 22,
      "metadata": {
        "id": "0k7teQRZaKd7",
        "outputId": "60989a70-c079-4c99-bbce-f3ff0639475b",
        "colab": {
          "base_uri": "https://localhost:8080/"
        }
      },
      "outputs": [
        {
          "output_type": "stream",
          "name": "stdout",
          "text": [
            "Grid spacings =  [0.5, 0.5, 0.4724]\n"
          ]
        }
      ],
      "source": [
        "print('Grid spacings = ',run_embedded_fragment.log['Box Grid spacings'])"
      ]
    },
    {
      "cell_type": "markdown",
      "metadata": {
        "id": "9kW76ly1aKd8"
      },
      "source": [
        "## Finite Carbon Chain\n",
        "\n",
        "Let's now look at a system where we have more than one type of template environment. One example of a system where this is required is a finite C chain, instead of a periodic one, where the edge atoms will experience a different environment to the central atoms. \n",
        "\n",
        "### System Construction\n",
        "\n",
        "Let's first modify the function we created to make a finite chain. As before, we'll create a 20 atom chain which is our target system. We'll terminate each end with H."
      ]
    },
    {
      "cell_type": "code",
      "execution_count": 23,
      "metadata": {
        "id": "qhgRZhq2aKd8"
      },
      "outputs": [],
      "source": [
        "def create_finite_chain(c_c_bond_length, c_h_bond_length, natC):\n",
        "    \n",
        "    finite_chain = System()\n",
        "    \n",
        "    # add the 1st H atom\n",
        "    atom = Atom({\"sym\": \"H\", \"r\": [0.0, 0.0, 0.0], \"units\": \"angstroem\"})\n",
        "    finite_chain[\"FRA:0\"] = Fragment([atom])\n",
        "\n",
        "    # add the C atoms\n",
        "    x = c_h_bond_length\n",
        "    for iat in range(natC):\n",
        "        atom = Atom({\"sym\": \"C\", \"r\": [0.0, 0.0, x], \"units\": \"angstroem\"})\n",
        "        finite_chain[\"FRA:\"+str(iat + 1)] = Fragment([atom])\n",
        "        if iat < natC - 1:\n",
        "            x += c_c_bond_length\n",
        "        else:\n",
        "            x += c_h_bond_length\n",
        "        \n",
        "    # and now the final H atom\n",
        "    atom = Atom({\"sym\": \"H\", \"r\": [0.0, 0.0, x], \"units\": \"angstroem\"})\n",
        "    finite_chain[\"FRA:\"+str(natC + 1)] = Fragment([atom])\n",
        "    \n",
        "    return finite_chain\n",
        "\n",
        "\n",
        "bond_length = 1.5\n",
        "c_h_bond_length = 1.1\n",
        "nat = 20\n",
        "finite_chain = create_finite_chain(bond_length, c_h_bond_length, nat)"
      ]
    },
    {
      "cell_type": "markdown",
      "metadata": {
        "id": "JDKulup2aKd8"
      },
      "source": [
        "As before, we'll run the full linear scaling calculation to give us a reference energy. We'll first need to remove the fragment definition from the input file, as well as turn off I/O."
      ]
    },
    {
      "cell_type": "code",
      "execution_count": 24,
      "metadata": {
        "id": "nNJaN1mgaKd9",
        "outputId": "de0f5395-81a7-415f-a3f2-c72eab4d7e7f",
        "colab": {
          "base_uri": "https://localhost:8080/"
        }
      },
      "outputs": [
        {
          "output_type": "stream",
          "name": "stdout",
          "text": [
            "Fully optimised finite chain took 2.2 minutes, E = -162.104 eV/atom\n"
          ]
        }
      ],
      "source": [
        "name = 'finite_chain'+str(nat)+'_linear'\n",
        "\n",
        "inpt.pop('frag')\n",
        "inpt['lin_general'].update({'output_wf': 0, 'output_mat': 0})\n",
        "inpt['lin_general'].update({'subspace_diag': True})\n",
        "\n",
        "run_finite = code.run(input=inpt, sys=finite_chain, name=name)    \n",
        "\n",
        "converged = check_convergence_optimised_sfs(run_finite)\n",
        "\n",
        "finite_energy = Ha2eV * run_finite.energy / run_finite.nat\n",
        "finite_time = run_finite.log['Timings for root process']['Elapsed time (s)'] / 60.0   \n",
        "                    \n",
        "print('Fully optimised finite chain took '+'{0:.1f}'.format(finite_time)+' minutes, E = '+\\\n",
        "      '{0:.3f}'.format(finite_energy)+' eV/atom')"
      ]
    },
    {
      "cell_type": "markdown",
      "metadata": {
        "id": "gf_H94upaKd9"
      },
      "source": [
        "Since we're now working in free boundary conditions, we're no longer restricted by a minimum system size. However, for consistency, let's use a template calculation of the same size."
      ]
    },
    {
      "cell_type": "code",
      "execution_count": 25,
      "metadata": {
        "id": "aoW17lY2aKd9"
      },
      "outputs": [],
      "source": [
        "nat_template = 10\n",
        "short_finite_chain = create_finite_chain(bond_length, c_h_bond_length, nat_template)"
      ]
    },
    {
      "cell_type": "markdown",
      "metadata": {
        "id": "eeEhpF9_aKd-"
      },
      "source": [
        "### Fragment Definitions\n",
        "\n",
        "Now we have to make a choice about how to define our fragments. Let's assume a simple scenario - an edge-like region, and a bulk-like region. To begin with, we'll assume that the C atoms bonded to H are part of the edge region, and all other C atoms form part of the bulk. We will therefore define an edge fragment consisting of a C-H pair, and a bulk fragment, which consists of a single C atom.\n",
        "\n",
        "When using the fragment approach in BigDFT, atoms need to be both contiguous and in the same order. Since the left edge fragment is HC and the right fragment is CH, this will cause a problem. We can either reorder the input file, or we can simply define two edge fragment types - a left and right edge.\n",
        "\n",
        "We have to give these fragment types a name - let's just call them edgeL, edgeR and bulk for simplicity. We then need to set up the directories."
      ]
    },
    {
      "cell_type": "code",
      "execution_count": 26,
      "metadata": {
        "id": "uovs8Zj6aKd-"
      },
      "outputs": [],
      "source": [
        "# the bulk fragment is just a single C atom, so we can copy the existing template file\n",
        "bulk_template_name = 'bulk'\n",
        "shutil.copy(template_name+'.xyz', bulk_template_name+'.xyz')\n",
        "setup_embedded_fragment_data(fragment_name, bulk_template_name)\n",
        "\n",
        "# the edge fragment requires a new xyz file\n",
        "# we can copy the first two fragments from the template -\n",
        "# since we're not explicitly using the fragment functionality of PyBigDFT,\n",
        "# it doesn't matter that the system is made of more than one fragment\n",
        "from copy import deepcopy\n",
        "edgeL_template = System()\n",
        "for ifrag in range(2):\n",
        "    edgeL_template[\"FRA:\"+str(ifrag)] = deepcopy(short_finite_chain[\"FRA:\"+str(ifrag)])\n",
        "\n",
        "# we can now write out the left edge template\n",
        "edgeL_template_name = 'edgeL'\n",
        "ofile = open(edgeL_template_name+'.xyz', 'w')\n",
        "write_xyz(edgeL_template, ofile)\n",
        "ofile.close()\n",
        "\n",
        "edgeR_template = System()\n",
        "for ifrag in range(nat_template, nat_template+2):\n",
        "    edgeR_template[\"FRA:\"+str(ifrag)] = deepcopy(short_finite_chain[\"FRA:\"+str(ifrag)])\n",
        "\n",
        "# we can now write out the right edge template\n",
        "edgeR_template_name = 'edgeR'\n",
        "ofile = open(edgeR_template_name+'.xyz', 'w')\n",
        "write_xyz(edgeR_template, ofile)\n",
        "ofile.close()\n",
        "\n",
        "# and setup the associated directories\n",
        "setup_embedded_fragment_data(fragment_name, edgeL_template_name)\n",
        "setup_embedded_fragment_data(fragment_name, edgeR_template_name)"
      ]
    },
    {
      "cell_type": "markdown",
      "metadata": {
        "id": "5Uy3RoxxaKeB"
      },
      "source": [
        "Finally, we again need to update the input file. This time, we have to do some extra work to define the two fragment types."
      ]
    },
    {
      "cell_type": "code",
      "execution_count": 27,
      "metadata": {
        "id": "F6woqsvUaKeC"
      },
      "outputs": [],
      "source": [
        "# the fragments are in the order edgeL, bulk, ..., bulk, edgeR\n",
        "# therefore the bulk fragments go from 2, ..., natC - 1\n",
        "# we can use this to build the fragment dictionary\n",
        "inpt.update({'frag': {edgeL_template_name: [1],\n",
        "                      bulk_template_name: [i for i in range(2, nat_template)],\n",
        "                      edgeR_template_name: [nat_template]}})\n",
        "\n",
        "inpt['lin_general'].update({'output_wf': 2, 'output_mat': 1})"
      ]
    },
    {
      "cell_type": "markdown",
      "metadata": {
        "id": "TyCei14DaKeC"
      },
      "source": [
        "We can now run the template calculation."
      ]
    },
    {
      "cell_type": "code",
      "execution_count": 28,
      "metadata": {
        "id": "QrSQVeD0aKeC",
        "outputId": "ced89361-a830-486d-d7ea-ab2880a58765",
        "colab": {
          "base_uri": "https://localhost:8080/"
        }
      },
      "outputs": [
        {
          "output_type": "stream",
          "name": "stdout",
          "text": [
            "Template chain took 1.4 minutes, E = -149.888 eV/atom\n"
          ]
        }
      ],
      "source": [
        "name = 'finite_chain'+str(nat_template)+'_template'\n",
        "\n",
        "run_finite_template = code.run(input=inpt, sys=short_finite_chain, name=name)    \n",
        "\n",
        "converged = check_convergence_optimised_sfs(run_finite_template)\n",
        "\n",
        "finite_template_energy = Ha2eV * run_finite_template.energy / run_finite_template.nat\n",
        "finite_template_time = run_finite_template.log['Timings for root process']['Elapsed time (s)'] / 60.0   \n",
        "                    \n",
        "print('Template chain took '+'{0:.1f}'.format(finite_template_time)+' minutes, E = '+\\\n",
        "      '{0:.3f}'.format(finite_template_energy)+' eV/atom')"
      ]
    },
    {
      "cell_type": "markdown",
      "metadata": {
        "id": "x6F0uzhcaKeC"
      },
      "source": [
        "Let's also update the fragment dictionary for the fragment calculation."
      ]
    },
    {
      "cell_type": "code",
      "execution_count": 29,
      "metadata": {
        "id": "g_L-V3qPaKeC"
      },
      "outputs": [],
      "source": [
        "inpf.update({'frag': {edgeL_template_name: [1],\n",
        "                      bulk_template_name: [i for i in range(2, nat)],\n",
        "                      edgeR_template_name: [nat]}})"
      ]
    },
    {
      "cell_type": "markdown",
      "metadata": {
        "id": "LUEcmvzraKeD"
      },
      "source": [
        "We can now run the fragment calculation."
      ]
    },
    {
      "cell_type": "code",
      "execution_count": 30,
      "metadata": {
        "id": "vJm2Rl9ZaKeD",
        "outputId": "2d79ece8-0f99-4cf8-be19-30524600305a",
        "colab": {
          "base_uri": "https://localhost:8080/"
        }
      },
      "outputs": [
        {
          "output_type": "stream",
          "name": "stdout",
          "text": [
            "Fragment calculation for the chain took 0.7 minutes, E = -161.830 eV/atom\n",
            "Difference between fragment and linear scaling energy = 0.273 eV/atom\n"
          ]
        }
      ],
      "source": [
        "name = 'finite_chain'+str(nat)+'_fragment_edge_bulk'\n",
        "\n",
        "run_finite_fragment = code.run(input=inpf, sys=finite_chain, name=name)    \n",
        "\n",
        "converged = check_convergence_fixed_sfs(run_finite_fragment)\n",
        "\n",
        "finite_fragment_energy = Ha2eV * run_finite_fragment.energy / run_finite_fragment.nat\n",
        "finite_fragment_time = run_finite_fragment.log['Timings for root process']['Elapsed time (s)'] / 60.0   \n",
        "                    \n",
        "print('Fragment calculation for the chain took '+'{0:.1f}'.format(finite_fragment_time)+' minutes, E = '+\\\n",
        "      '{0:.3f}'.format(finite_fragment_energy)+' eV/atom')\n",
        "\n",
        "print('Difference between fragment and linear scaling energy = '+\\\n",
        "      '{0:.3f}'.format(finite_fragment_energy - finite_energy)+' eV/atom')"
      ]
    },
    {
      "cell_type": "markdown",
      "metadata": {
        "id": "C14ET4GhaKeD"
      },
      "source": [
        "The error is much lower than the scenario where we used an isolated template for the periodic chain, but it's still higher than we would like. However, we made an assumption that only the C atoms bonded to H are edge-like, while all others are bulk-like. \n",
        "\n",
        "This is an over-simplification, since the next nearest neighbours may also feel the effect of the edges. In addition, BigDFT will write out the support functions for the first instance of a given fragment, which means that the bulk fragment will be coming from an atom quite close to the edge, which may again be a poor approximation. If we want to reduce the error, we therefore need to change the fragment setup.\n",
        "\n",
        "There are a number of ways we could do this - actually running the calculations is beyond the scope of this tutorial, but to give some suggestions:\n",
        "- You could change the fragment definition to add an extra C atom to the edge fragments, i.e. the left fragment would consist of H-C-C. In other words, we also treat the second nearest neighbouring C atoms to the H as distinct from the bulk-like C atoms. This will reduce the error.\n",
        "- Note that this approach requires running both a new template and full system calculation. We could instead define each atom as a unique type of fragment. This would mean that we could perform a single template (short chain) calculation, and only repeat the full system (long chain) calculation for different splits of bulk and edge-like atoms\n",
        "- It's also possible to mix and match fragments coming from different template calculations, so you could use a bulk fragment coming from the periodic calculation, and edge fragments coming from the finite template calculation."
      ]
    },
    {
      "cell_type": "markdown",
      "metadata": {
        "id": "bmSsQg6UaKeD"
      },
      "source": [
        "## Using a Fragment Guess\n",
        "\n",
        "Sometimes, the fragment approach (either molecular or embedded) isn't accurate enough for the system and quantity we are interested in. This could be because the fragments are too distorted (i.e. high $J$), too closely interacting, or the number of fragment types required would involve building too large a template system.\n",
        "\n",
        "In these cases, we can either directly use LS-BigDFT, or we can use the fragment approach to build an input guess for LS-BigDFT, and further optimise the SFs from there. This follows the same principle as using LS-BigDFT to generate a cubic scaling guess, in fact if we wanted we could go from a fragment guess directly to cubic scaling BigDFT. For the final part of this tutorial, we will focus only on using a fragment guess for LS-BigDFT.\n",
        "\n",
        "Let's start by copying the fragment input file, and then making some changes to the SF and kernel optimisation parameters."
      ]
    },
    {
      "cell_type": "code",
      "execution_count": 31,
      "metadata": {
        "id": "tH0smhutaKeE"
      },
      "outputs": [],
      "source": [
        "inpr = deepcopy(inpf)\n",
        "\n",
        "# we need to turn back on SF optimisation - let's set both the number of iterations and DIIS history length to 4\n",
        "inpr['lin_basis'].update({'nit': 4, 'idsx': 4})\n",
        "\n",
        "# we'll also modify the kernel optimisation loop to not fully converge each time\n",
        "inpr['lin_kernel'].update({'nit': 6})\n",
        "\n",
        "# finally we need to update the number of outer loop iterations\n",
        "inpr['lin_general'].update({'nit': [0, 200]})\n",
        "\n",
        "# everything else can stay the same,\n",
        "# but let's set the fragment definition again, in case you overwrote it when performing the exercises\n",
        "\n",
        "inpr.update({'frag': {edgeL_template_name: [1],\n",
        "                      bulk_template_name: [i for i in range(2, nat)],\n",
        "                      edgeR_template_name: [nat]}})"
      ]
    },
    {
      "cell_type": "markdown",
      "metadata": {
        "id": "ApnQQAYQaKeE"
      },
      "source": [
        "Now we can run the calculation."
      ]
    },
    {
      "cell_type": "code",
      "execution_count": 32,
      "metadata": {
        "id": "IKokyK39aKeE",
        "outputId": "838356de-ccfb-4a36-de79-cd69838356ac",
        "colab": {
          "base_uri": "https://localhost:8080/"
        }
      },
      "outputs": [
        {
          "output_type": "stream",
          "name": "stdout",
          "text": [
            "Fragment calculation took 0.7 minutes, E = -161.830 eV/atom\n",
            "Fragment guess calculation took 1.6 minutes, E = -162.105 eV/atom\n",
            "Full linear Scaling calculation took 2.2 minutes, E = -162.104 eV/atom\n",
            "\n",
            "Difference between fragment and linear scaling energy = 0.273 eV/atom\n",
            "Difference between fragment guess and linear scaling energy = -0.001 eV/atom\n"
          ]
        }
      ],
      "source": [
        "name = 'finite_chain'+str(nat)+'_fragment_guess_edge_bulk'\n",
        "\n",
        "run_finite_fragment_guess = code.run(input=inpr, sys=finite_chain, name=name)    \n",
        "\n",
        "converged = check_convergence_fixed_sfs(run_finite_fragment_guess)\n",
        "\n",
        "finite_fragment_guess_energy = Ha2eV * run_finite_fragment_guess.energy / run_finite_fragment_guess.nat\n",
        "finite_fragment_guess_time = run_finite_fragment_guess.log['Timings for root process']['Elapsed time (s)'] / 60.0\n",
        "                    \n",
        "print('Fragment calculation took '+'{0:.1f}'.format(finite_fragment_time)+' minutes, E = '+\\\n",
        "      '{0:.3f}'.format(finite_fragment_energy)+' eV/atom')\n",
        "\n",
        "print('Fragment guess calculation took '+'{0:.1f}'.format(finite_fragment_guess_time)+' minutes, E = '+\\\n",
        "      '{0:.3f}'.format(finite_fragment_guess_energy)+' eV/atom')\n",
        "\n",
        "print('Full linear Scaling calculation took '+'{0:.1f}'.format(finite_time)+' minutes, E = '+\\\n",
        "      '{0:.3f}'.format(finite_energy)+' eV/atom')\n",
        "\n",
        "print('')\n",
        "\n",
        "print('Difference between fragment and linear scaling energy = '+\\\n",
        "      '{0:.3f}'.format(finite_fragment_energy - finite_energy)+' eV/atom')\n",
        "\n",
        "print('Difference between fragment guess and linear scaling energy = '+\\\n",
        "      '{0:.3f}'.format(finite_fragment_guess_energy - finite_energy)+' eV/atom')"
      ]
    },
    {
      "cell_type": "markdown",
      "metadata": {
        "id": "aJb68zGGaKeE"
      },
      "source": [
        "As we might expect, the fragment guess approach gives approximately the same energy as the linear scaling approach. The small difference is purely down to the different convergence routes, and should disappear as the convergence tolerances for the SFs, density kernel and outer loop are decreased.\n",
        "\n",
        "Of course, the computational cost is also more expensive compare to doing a one-shot calculation. The cost of the template calculation also needs to be taken into account, while the quality of the guess may also affect how many iterations are needed to converge. However, in cases where the full system is much larger than the template, such an approach may prove to be advantageous compared to doing a LS calculation from scratch."
      ]
    },
    {
      "cell_type": "code",
      "execution_count": null,
      "metadata": {
        "id": "LZYEE_ZDaKeF"
      },
      "outputs": [],
      "source": []
    },
    {
      "cell_type": "code",
      "execution_count": null,
      "metadata": {
        "id": "mDltY-qOaKeF"
      },
      "outputs": [],
      "source": []
    }
  ],
  "metadata": {
    "kernelspec": {
      "display_name": "Python 3",
      "language": "python",
      "name": "python3"
    },
    "language_info": {
      "codemirror_mode": {
        "name": "ipython",
        "version": 3
      },
      "file_extension": ".py",
      "mimetype": "text/x-python",
      "name": "python",
      "nbconvert_exporter": "python",
      "pygments_lexer": "ipython3",
      "version": "3.8.10"
    },
    "colab": {
      "provenance": []
    }
  },
  "nbformat": 4,
  "nbformat_minor": 0
}