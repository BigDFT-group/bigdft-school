{
  "cells": [
    {
      "cell_type": "markdown",
      "id": "lasting-luxury",
      "metadata": {
        "id": "lasting-luxury"
      },
      "source": [
        "# System Generation\n",
        "In this lesson, we will describe the data structures available in PyBigDFT for manipulating the systems we want to study (whether molecular or solid state). This will also be a moment for us to introduce one of the main philosophy's of this framework. In python, we have two very common datastructures: lists and dictionaries."
      ]
    },
    {
      "cell_type": "code",
      "execution_count": 1,
      "id": "occasional-thirty",
      "metadata": {
        "id": "occasional-thirty",
        "outputId": "c5d8cd75-a01f-46bc-80d4-57ff92947e0b",
        "colab": {
          "base_uri": "https://localhost:8080/"
        }
      },
      "outputs": [
        {
          "output_type": "stream",
          "name": "stdout",
          "text": [
            "3\n",
            "4\n"
          ]
        }
      ],
      "source": [
        "my_list = [0, 1, 2, 3]\n",
        "print(my_list[-1])\n",
        "my_dict = {\"a\": \"word\", \"c\": 4}\n",
        "print(my_dict[\"c\"])"
      ]
    },
    {
      "cell_type": "markdown",
      "id": "improved-sunday",
      "metadata": {
        "id": "improved-sunday"
      },
      "source": [
        "These two datastructures have some nice features. First, they are serializable in human readable formats like [json](https://en.wikipedia.org/wiki/JSON) or [yaml](https://en.wikipedia.org/wiki/JSON)."
      ]
    },
    {
      "cell_type": "code",
      "execution_count": 2,
      "id": "starting-russia",
      "metadata": {
        "id": "starting-russia",
        "outputId": "3a43148f-67a0-4cb9-a91f-6c8b304bbcc1",
        "colab": {
          "base_uri": "https://localhost:8080/"
        }
      },
      "outputs": [
        {
          "output_type": "stream",
          "name": "stdout",
          "text": [
            "- 0\n",
            "- 1\n",
            "- 2\n",
            "- 3\n",
            "\n",
            "a: word\n",
            "c: 4\n",
            "\n"
          ]
        }
      ],
      "source": [
        "from yaml import dump\n",
        "print(dump(my_list))\n",
        "print(dump(my_dict))"
      ]
    },
    {
      "cell_type": "markdown",
      "id": "valuable-highway",
      "metadata": {
        "id": "valuable-highway"
      },
      "source": [
        "The second is that they can be quickly built and manipulated using comprehensions ([list](https://peps.python.org/pep-0202/) and [dict](https://peps.python.org/pep-0274/))."
      ]
    },
    {
      "cell_type": "code",
      "execution_count": 3,
      "id": "higher-tenant",
      "metadata": {
        "id": "higher-tenant",
        "outputId": "20d08b85-bca7-4125-9f2e-383f82515857",
        "colab": {
          "base_uri": "https://localhost:8080/"
        }
      },
      "outputs": [
        {
          "output_type": "stream",
          "name": "stdout",
          "text": [
            "[0, 3, 6, 9]\n",
            "{'a2': 'word', 'c2': 4}\n"
          ]
        }
      ],
      "source": [
        "my_list2 = [x * 3 for x in my_list]\n",
        "print(my_list2)\n",
        "my_dict2 = {k + \"2\": v for k, v in my_dict.items()}\n",
        "print(my_dict2)"
      ]
    },
    {
      "cell_type": "markdown",
      "id": "precise-parish",
      "metadata": {
        "id": "precise-parish"
      },
      "source": [
        "## Atom Class\n",
        "Any system we want to study is going to be made up of Atoms. What is the best way to store information about an atom? From our previous discussion, a `dict` seems most appropriate."
      ]
    },
    {
      "cell_type": "code",
      "execution_count": 4,
      "id": "incomplete-chester",
      "metadata": {
        "id": "incomplete-chester",
        "outputId": "417f4405-e73b-46e8-e8b3-de1bc66afb87",
        "colab": {
          "base_uri": "https://localhost:8080/"
        }
      },
      "outputs": [
        {
          "output_type": "stream",
          "name": "stdout",
          "text": [
            "r:\n",
            "- 1\n",
            "- 0\n",
            "- 0\n",
            "sym: H\n",
            "units: angstroem\n",
            "\n"
          ]
        }
      ],
      "source": [
        "datm = {\"sym\": \"H\", \"r\": [1, 0, 0], \"units\": \"angstroem\"}\n",
        "print(dump(datm))"
      ]
    },
    {
      "cell_type": "markdown",
      "id": "regulated-flashing",
      "metadata": {
        "id": "regulated-flashing"
      },
      "source": [
        "Nonetheless, just manipulating a `dict` by itself is error prone, and you might want some helpful subroutines. For this reasons, we've wrapped up a `dict` in our Atom class."
      ]
    },
    {
      "cell_type": "code",
      "source": [
        "install = \"client (Google drive)\" #@param [\"full_suite\", \"client (Google drive)\", \"client\"]\n",
        "install_var=install\n",
        "!wget https://gitlab.com/luigigenovese/bigdft-school/-/raw/main/packaging/install.py &> /dev/null\n",
        "args={'locally': True} if install == 'client' else {}\n",
        "import install\n",
        "getattr(install,install_var.split()[0])(**args)"
      ],
      "metadata": {
        "id": "7i2e9d3pMW7j",
        "cellView": "form"
      },
      "id": "7i2e9d3pMW7j",
      "execution_count": null,
      "outputs": []
    },
    {
      "cell_type": "code",
      "execution_count": 6,
      "id": "undefined-closing",
      "metadata": {
        "id": "undefined-closing",
        "outputId": "89c74dcd-405a-45ae-bc4f-df55be4c58e0",
        "colab": {
          "base_uri": "https://localhost:8080/"
        }
      },
      "outputs": [
        {
          "output_type": "stream",
          "name": "stdout",
          "text": [
            "!!python/object:BigDFT.Atoms.Atom\n",
            "store:\n",
            "  r:\n",
            "  - 1\n",
            "  - 0\n",
            "  - 0\n",
            "  sym: H\n",
            "  units: angstroem\n",
            "\n"
          ]
        }
      ],
      "source": [
        "from BigDFT.Atoms import Atom\n",
        "atom = Atom(datm)\n",
        "# the following also works\n",
        "# atom = Atom({\"sym\": \"H\", \"r\": [1, 0, 0], \"units\": \"angstroem\"})\n",
        "# atom = Atom({\"H\": [1, 0, 0], \"units\": \"angstroem\"})\n",
        "print(dump(atom))"
      ]
    },
    {
      "cell_type": "markdown",
      "id": "recognized-collapse",
      "metadata": {
        "id": "recognized-collapse"
      },
      "source": [
        "Some of the built in subroutines are demonstrated below."
      ]
    },
    {
      "cell_type": "code",
      "execution_count": 7,
      "id": "silver-composer",
      "metadata": {
        "id": "silver-composer",
        "outputId": "d6bb8ac4-4db2-4022-8bcf-e25cf2a34ac1",
        "colab": {
          "base_uri": "https://localhost:8080/"
        }
      },
      "outputs": [
        {
          "output_type": "stream",
          "name": "stdout",
          "text": [
            "H\n",
            "1\n",
            "[1.0, 0.0, 0.0]\n",
            "[1.8897261245650618, 0.0, 0.0]\n"
          ]
        }
      ],
      "source": [
        "print(atom.sym)\n",
        "print(atom.atomic_number)\n",
        "print(atom.get_position(\"angstroem\"))\n",
        "print(atom.get_position(\"bohr\"))"
      ]
    },
    {
      "cell_type": "markdown",
      "id": "accurate-tyler",
      "metadata": {
        "id": "accurate-tyler"
      },
      "source": [
        "With this approach, we nonetheless retain the flexibility of a `dict`."
      ]
    },
    {
      "cell_type": "code",
      "execution_count": 8,
      "id": "everyday-guyana",
      "metadata": {
        "id": "everyday-guyana",
        "outputId": "22284e16-068e-4fcd-a909-69a1f516248a",
        "colab": {
          "base_uri": "https://localhost:8080/"
        }
      },
      "outputs": [
        {
          "output_type": "stream",
          "name": "stdout",
          "text": [
            "tutorial\n",
            "sym H\n",
            "r [1, 0, 0]\n",
            "units angstroem\n",
            "source tutorial\n"
          ]
        }
      ],
      "source": [
        "atom[\"source\"] = \"tutorial\"\n",
        "print(atom[\"source\"])\n",
        "for k, v in atom.items():\n",
        "    print(k, v)"
      ]
    },
    {
      "cell_type": "markdown",
      "id": "postal-blackjack",
      "metadata": {
        "id": "postal-blackjack"
      },
      "source": [
        "## Fragments\n",
        "We won't do many calculations involving a single atom, instead we want to put together groups of atoms. In this case, we will use a list as our model data structure, with the wrapper class refered to as a `Fragment`. "
      ]
    },
    {
      "cell_type": "code",
      "execution_count": 9,
      "id": "shaped-institution",
      "metadata": {
        "id": "shaped-institution"
      },
      "outputs": [],
      "source": [
        "atm1 = Atom({\"sym\": \"O\", \"r\": [2.3229430273, 1.3229430273, 1.7139430273], \"units\": \"angstroem\"})\n",
        "atm2 = Atom({\"sym\": \"H\", \"r\": [2.3229430273, 2.0801430273, 1.1274430273], \"units\": \"angstroem\"})\n",
        "atm3 = Atom({\"sym\": \"H\", \"r\": [2.3229430273, 0.5657430273000001, 1.1274430273], \"units\": \"angstroem\"})"
      ]
    },
    {
      "cell_type": "code",
      "execution_count": 10,
      "id": "killing-keyboard",
      "metadata": {
        "id": "killing-keyboard",
        "outputId": "26cc5015-d3e3-40d2-915b-06429eeadbab",
        "colab": {
          "base_uri": "https://localhost:8080/"
        }
      },
      "outputs": [
        {
          "output_type": "stream",
          "name": "stdout",
          "text": [
            "3\n",
            "[4.38972612 2.5        2.5       ]\n"
          ]
        }
      ],
      "source": [
        "from BigDFT.Fragments import Fragment\n",
        "frag1 = Fragment([atm1, atm2, atm3])\n",
        "print(len(frag1))\n",
        "print(frag1.centroid)"
      ]
    },
    {
      "cell_type": "markdown",
      "id": "unable-behalf",
      "metadata": {
        "id": "unable-behalf"
      },
      "source": [
        "It's also possible to build up a fragment in a more step by step process."
      ]
    },
    {
      "cell_type": "code",
      "execution_count": 11,
      "id": "burning-muscle",
      "metadata": {
        "id": "burning-muscle"
      },
      "outputs": [],
      "source": [
        "frag1 = Fragment()\n",
        "frag1.append(atm1)\n",
        "frag1 += Fragment([atm2])\n",
        "frag1.extend(Fragment([atm3]))"
      ]
    },
    {
      "cell_type": "markdown",
      "id": "danish-potato",
      "metadata": {
        "id": "danish-potato"
      },
      "source": [
        "We added the feature to translate and rotate a fragment."
      ]
    },
    {
      "cell_type": "code",
      "execution_count": 12,
      "id": "pregnant-experience",
      "metadata": {
        "id": "pregnant-experience"
      },
      "outputs": [],
      "source": [
        "from copy import deepcopy\n",
        "frag2 = deepcopy(frag1)\n",
        "frag2.translate([10, 0, 0])\n",
        "frag2.rotate(x=90, units=\"degrees\")"
      ]
    },
    {
      "cell_type": "code",
      "execution_count": 13,
      "id": "selective-packaging",
      "metadata": {
        "id": "selective-packaging",
        "outputId": "1a7fdfc6-6a91-4421-8760-5f6fb8eaee84",
        "colab": {
          "base_uri": "https://localhost:8080/"
        }
      },
      "outputs": [
        {
          "output_type": "stream",
          "name": "stdout",
          "text": [
            "!!python/object:BigDFT.Fragments.Fragment\n",
            "atoms:\n",
            "- !!python/object:BigDFT.Atoms.Atom\n",
            "  store:\n",
            "    r:\n",
            "    - 14.389726124565062\n",
            "    - 1.7611170852950608\n",
            "    - 2.499999999999999\n",
            "    sym: O\n",
            "    units: bohr\n",
            "- !!python/object:BigDFT.Atoms.Atom\n",
            "  store:\n",
            "    r:\n",
            "    - 14.389726124565062\n",
            "    - 2.86944145735247\n",
            "    - 3.930900621520664\n",
            "    sym: H\n",
            "    units: bohr\n",
            "- !!python/object:BigDFT.Atoms.Atom\n",
            "  store:\n",
            "    r:\n",
            "    - 14.389726124565062\n",
            "    - 2.86944145735247\n",
            "    - 1.0690993784793343\n",
            "    sym: H\n",
            "    units: bohr\n",
            "conmat: null\n",
            "frozen: null\n",
            "q1: null\n",
            "q2: null\n",
            "\n"
          ]
        }
      ],
      "source": [
        "print(dump(frag2))"
      ]
    },
    {
      "cell_type": "markdown",
      "id": "boxed-valuable",
      "metadata": {
        "id": "boxed-valuable"
      },
      "source": [
        "## Systems\n",
        "Many Quantum Mechanical codes top off at the list of atoms level, but in PyBigDFT we go one step further. At the top, we have the `System` class which is based on a `dict`."
      ]
    },
    {
      "cell_type": "code",
      "execution_count": 14,
      "id": "common-result",
      "metadata": {
        "id": "common-result"
      },
      "outputs": [],
      "source": [
        "from BigDFT.Systems import System\n",
        "sys = System()\n",
        "sys[\"WAT:0\"] = frag1\n",
        "sys[\"WAT:1\"] = frag2"
      ]
    },
    {
      "cell_type": "code",
      "execution_count": 15,
      "id": "coastal-salvation",
      "metadata": {
        "id": "coastal-salvation",
        "outputId": "83134285-f847-4b12-a1e1-b9caa6130a61",
        "colab": {
          "base_uri": "https://localhost:8080/"
        }
      },
      "outputs": [
        {
          "output_type": "stream",
          "name": "stdout",
          "text": [
            "!!python/object:BigDFT.Systems.System\n",
            "cell: !!python/object:BigDFT.UnitCells.UnitCell\n",
            "  cell:\n",
            "  - - .inf\n",
            "    - 0\n",
            "    - 0\n",
            "  - - 0\n",
            "    - .inf\n",
            "    - 0\n",
            "  - - 0\n",
            "    - 0\n",
            "    - .inf\n",
            "conmat: null\n",
            "store:\n",
            "  WAT:0: !!python/object:BigDFT.Fragments.Fragment\n",
            "    atoms:\n",
            "    - !!python/object:BigDFT.Atoms.Atom\n",
            "      store:\n",
            "        r:\n",
            "        - 2.3229430273\n",
            "        - 1.3229430273\n",
            "        - 1.7139430273\n",
            "        sym: O\n",
            "        units: angstroem\n",
            "    - !!python/object:BigDFT.Atoms.Atom\n",
            "      store:\n",
            "        r:\n",
            "        - 2.3229430273\n",
            "        - 2.0801430273\n",
            "        - 1.1274430273\n",
            "        sym: H\n",
            "        units: angstroem\n",
            "    - !!python/object:BigDFT.Atoms.Atom\n",
            "      store:\n",
            "        r:\n",
            "        - 2.3229430273\n",
            "        - 0.5657430273000001\n",
            "        - 1.1274430273\n",
            "        sym: H\n",
            "        units: angstroem\n",
            "    conmat: null\n",
            "    frozen: null\n",
            "    q1: null\n",
            "    q2: null\n",
            "  WAT:1: !!python/object:BigDFT.Fragments.Fragment\n",
            "    atoms:\n",
            "    - !!python/object:BigDFT.Atoms.Atom\n",
            "      store:\n",
            "        r:\n",
            "        - 14.389726124565062\n",
            "        - 1.7611170852950608\n",
            "        - 2.499999999999999\n",
            "        sym: O\n",
            "        units: bohr\n",
            "    - !!python/object:BigDFT.Atoms.Atom\n",
            "      store:\n",
            "        r:\n",
            "        - 14.389726124565062\n",
            "        - 2.86944145735247\n",
            "        - 3.930900621520664\n",
            "        sym: H\n",
            "        units: bohr\n",
            "    - !!python/object:BigDFT.Atoms.Atom\n",
            "      store:\n",
            "        r:\n",
            "        - 14.389726124565062\n",
            "        - 2.86944145735247\n",
            "        - 1.0690993784793343\n",
            "        sym: H\n",
            "        units: bohr\n",
            "    conmat: null\n",
            "    frozen: null\n",
            "    q1: null\n",
            "    q2: null\n",
            "\n"
          ]
        }
      ],
      "source": [
        "print(dump(sys))"
      ]
    },
    {
      "cell_type": "markdown",
      "id": "relevant-ottawa",
      "metadata": {
        "id": "relevant-ottawa"
      },
      "source": [
        "In principle, any dictionary key is fine to use for our `System` class, but in practice we follow the convention of giving it a name and identifier separated by a colon. To summarize the hierarchy, let's iterate over our `System`."
      ]
    },
    {
      "cell_type": "code",
      "execution_count": 16,
      "id": "tropical-photography",
      "metadata": {
        "id": "tropical-photography",
        "outputId": "cf0b7b52-38ff-47b4-8651-7d3ae7c1d468",
        "colab": {
          "base_uri": "https://localhost:8080/"
        }
      },
      "outputs": [
        {
          "output_type": "stream",
          "name": "stdout",
          "text": [
            "WAT:0\n",
            "{'sym': 'O', 'r': [2.3229430273, 1.3229430273, 1.7139430273], 'units': 'angstroem'}\n",
            "{'sym': 'H', 'r': [2.3229430273, 2.0801430273, 1.1274430273], 'units': 'angstroem'}\n",
            "{'sym': 'H', 'r': [2.3229430273, 0.5657430273000001, 1.1274430273], 'units': 'angstroem'}\n",
            "WAT:1\n",
            "{'sym': 'O', 'r': [14.389726124565062, 1.7611170852950608, 2.499999999999999], 'units': 'bohr'}\n",
            "{'sym': 'H', 'r': [14.389726124565062, 2.86944145735247, 3.930900621520664], 'units': 'bohr'}\n",
            "{'sym': 'H', 'r': [14.389726124565062, 2.86944145735247, 1.0690993784793343], 'units': 'bohr'}\n"
          ]
        }
      ],
      "source": [
        "for fragid, frag in sys.items():\n",
        "    print(fragid)\n",
        "    for atm in frag:\n",
        "        print(dict(atm))"
      ]
    },
    {
      "cell_type": "markdown",
      "id": "growing-madrid",
      "metadata": {
        "id": "growing-madrid"
      },
      "source": [
        "Now that we've reached the top level, let's visualize the system we have built."
      ]
    },
    {
      "cell_type": "code",
      "source": [
        "# install.packages('py3Dmol') # in case this has not been done before"
      ],
      "metadata": {
        "id": "O-pQKJK9NWI9"
      },
      "id": "O-pQKJK9NWI9",
      "execution_count": 17,
      "outputs": []
    },
    {
      "cell_type": "code",
      "execution_count": 18,
      "id": "liable-conclusion",
      "metadata": {
        "id": "liable-conclusion",
        "outputId": "2985961e-872d-4ae9-8150-89992622e76e",
        "colab": {
          "base_uri": "https://localhost:8080/",
          "height": 317
        }
      },
      "outputs": [
        {
          "output_type": "display_data",
          "data": {
            "application/3dmoljs_load.v0": "<div id=\"3dmolviewer_16637679799768922\"  style=\"position: relative; width: 400px; height: 300px\">\n        <p id=\"3dmolwarning_16637679799768922\" style=\"background-color:#ffcccc;color:black\">You appear to be running in JupyterLab (or JavaScript failed to load for some other reason).  You need to install the 3dmol extension: <br>\n        <tt>jupyter labextension install jupyterlab_3dmol</tt></p>\n        </div>\n<script>\n\nvar loadScriptAsync = function(uri){\n  return new Promise((resolve, reject) => {\n    var tag = document.createElement('script');\n    tag.src = uri;\n    tag.async = true;\n    tag.onload = () => {\n      resolve();\n    };\n  var firstScriptTag = document.getElementsByTagName('script')[0];\n  firstScriptTag.parentNode.insertBefore(tag, firstScriptTag);\n});\n};\n\nif(typeof $3Dmolpromise === 'undefined') {\n$3Dmolpromise = null;\n  $3Dmolpromise = loadScriptAsync('https://cdn.jsdelivr.net/npm/3dmol@latest/build/3Dmol-min.min.js');\n}\n\nvar viewer_16637679799768922 = null;\nvar warn = document.getElementById(\"3dmolwarning_16637679799768922\");\nif(warn) {\n    warn.parentNode.removeChild(warn);\n}\n$3Dmolpromise.then(function() {\nvar viewergrid_16637679799768922 = null;\nviewergrid_16637679799768922 = $3Dmol.createViewerGrid($(\"#3dmolviewer_16637679799768922\"),{rows: 1, cols: 1, control_all: false},{backgroundColor:\"white\"});\nviewer_16637679799768922 = viewergrid_16637679799768922[0][0];\nviewergrid_16637679799768922[0][0].zoomTo();\tviewergrid_16637679799768922[0][0].addModelsAsFrames(\"MODEL 0\\nHETATM    1 O    WAT A   0       2.323   1.323   1.714  1.00  0.00       B   O  \\nHETATM    2 H    WAT A   0       2.323   2.080   1.127  1.00  0.00       B   H  \\nHETATM    3 H    WAT A   0       2.323   0.566   1.127  1.00  0.00       B   H  \\nHETATM    4 O    WAT A   1       7.615   0.932   1.323  1.00  0.00       B   O  \\nHETATM    5 H    WAT A   1       7.615   1.518   2.080  1.00  0.00       B   H  \\nHETATM    6 H    WAT A   1       7.615   1.518   0.566  1.00  0.00       B   H  \\nENDMDL\\n\",\"pdb\",{\"keepH\": \"true\"});\n\tviewergrid_16637679799768922[0][0].setStyle({\"model\": -1},{\"line\": {\"color\": \"black\"}});\n\tviewergrid_16637679799768922[0][0].addModelsAsFrames(\"MODEL 0\\nHETATM    1 O    WAT A   0       2.323   1.323   1.714  1.00  0.00       B   O  \\nHETATM    2 H    WAT A   0       2.323   2.080   1.127  1.00  0.00       B   H  \\nHETATM    3 H    WAT A   0       2.323   0.566   1.127  1.00  0.00       B   H  \\nHETATM    4 O    WAT A   1       7.615   0.932   1.323  1.00  0.00       B   O  \\nHETATM    5 H    WAT A   1       7.615   1.518   2.080  1.00  0.00       B   H  \\nHETATM    6 H    WAT A   1       7.615   1.518   0.566  1.00  0.00       B   H  \\nENDMDL\\n\",\"pdb\",{\"keepH\": \"true\"});\n\tviewergrid_16637679799768922[0][0].setStyle({\"model\": -1, \"serial\": 1},{\"sphere\": {\"scale\": 0.2, \"color\": \"#7F00FF\"}});\n\tviewergrid_16637679799768922[0][0].addModelsAsFrames(\"MODEL 0\\nHETATM    1 O    WAT A   0       2.323   1.323   1.714  1.00  0.00       B   O  \\nHETATM    2 H    WAT A   0       2.323   2.080   1.127  1.00  0.00       B   H  \\nHETATM    3 H    WAT A   0       2.323   0.566   1.127  1.00  0.00       B   H  \\nHETATM    4 O    WAT A   1       7.615   0.932   1.323  1.00  0.00       B   O  \\nHETATM    5 H    WAT A   1       7.615   1.518   2.080  1.00  0.00       B   H  \\nHETATM    6 H    WAT A   1       7.615   1.518   0.566  1.00  0.00       B   H  \\nENDMDL\\n\",\"pdb\",{\"keepH\": \"true\"});\n\tviewergrid_16637679799768922[0][0].setStyle({\"model\": -1, \"serial\": 2},{\"sphere\": {\"scale\": 0.2, \"color\": \"#7F00FF\"}});\n\tviewergrid_16637679799768922[0][0].addModelsAsFrames(\"MODEL 0\\nHETATM    1 O    WAT A   0       2.323   1.323   1.714  1.00  0.00       B   O  \\nHETATM    2 H    WAT A   0       2.323   2.080   1.127  1.00  0.00       B   H  \\nHETATM    3 H    WAT A   0       2.323   0.566   1.127  1.00  0.00       B   H  \\nHETATM    4 O    WAT A   1       7.615   0.932   1.323  1.00  0.00       B   O  \\nHETATM    5 H    WAT A   1       7.615   1.518   2.080  1.00  0.00       B   H  \\nHETATM    6 H    WAT A   1       7.615   1.518   0.566  1.00  0.00       B   H  \\nENDMDL\\n\",\"pdb\",{\"keepH\": \"true\"});\n\tviewergrid_16637679799768922[0][0].setStyle({\"model\": -1, \"serial\": 3},{\"sphere\": {\"scale\": 0.2, \"color\": \"#7F00FF\"}});\n\tviewergrid_16637679799768922[0][0].addModelsAsFrames(\"MODEL 0\\nHETATM    1 O    WAT A   0       2.323   1.323   1.714  1.00  0.00       B   O  \\nHETATM    2 H    WAT A   0       2.323   2.080   1.127  1.00  0.00       B   H  \\nHETATM    3 H    WAT A   0       2.323   0.566   1.127  1.00  0.00       B   H  \\nHETATM    4 O    WAT A   1       7.615   0.932   1.323  1.00  0.00       B   O  \\nHETATM    5 H    WAT A   1       7.615   1.518   2.080  1.00  0.00       B   H  \\nHETATM    6 H    WAT A   1       7.615   1.518   0.566  1.00  0.00       B   H  \\nENDMDL\\n\",\"pdb\",{\"keepH\": \"true\"});\n\tviewergrid_16637679799768922[0][0].setStyle({\"model\": -1},{\"line\": {\"color\": \"black\"}});\n\tviewergrid_16637679799768922[0][0].addModelsAsFrames(\"MODEL 0\\nHETATM    1 O    WAT A   0       2.323   1.323   1.714  1.00  0.00       B   O  \\nHETATM    2 H    WAT A   0       2.323   2.080   1.127  1.00  0.00       B   H  \\nHETATM    3 H    WAT A   0       2.323   0.566   1.127  1.00  0.00       B   H  \\nHETATM    4 O    WAT A   1       7.615   0.932   1.323  1.00  0.00       B   O  \\nHETATM    5 H    WAT A   1       7.615   1.518   2.080  1.00  0.00       B   H  \\nHETATM    6 H    WAT A   1       7.615   1.518   0.566  1.00  0.00       B   H  \\nENDMDL\\n\",\"pdb\",{\"keepH\": \"true\"});\n\tviewergrid_16637679799768922[0][0].setStyle({\"model\": -1, \"serial\": 4},{\"sphere\": {\"scale\": 0.2, \"color\": \"#FF0000\"}});\n\tviewergrid_16637679799768922[0][0].addModelsAsFrames(\"MODEL 0\\nHETATM    1 O    WAT A   0       2.323   1.323   1.714  1.00  0.00       B   O  \\nHETATM    2 H    WAT A   0       2.323   2.080   1.127  1.00  0.00       B   H  \\nHETATM    3 H    WAT A   0       2.323   0.566   1.127  1.00  0.00       B   H  \\nHETATM    4 O    WAT A   1       7.615   0.932   1.323  1.00  0.00       B   O  \\nHETATM    5 H    WAT A   1       7.615   1.518   2.080  1.00  0.00       B   H  \\nHETATM    6 H    WAT A   1       7.615   1.518   0.566  1.00  0.00       B   H  \\nENDMDL\\n\",\"pdb\",{\"keepH\": \"true\"});\n\tviewergrid_16637679799768922[0][0].setStyle({\"model\": -1, \"serial\": 5},{\"sphere\": {\"scale\": 0.2, \"color\": \"#FF0000\"}});\n\tviewergrid_16637679799768922[0][0].addModelsAsFrames(\"MODEL 0\\nHETATM    1 O    WAT A   0       2.323   1.323   1.714  1.00  0.00       B   O  \\nHETATM    2 H    WAT A   0       2.323   2.080   1.127  1.00  0.00       B   H  \\nHETATM    3 H    WAT A   0       2.323   0.566   1.127  1.00  0.00       B   H  \\nHETATM    4 O    WAT A   1       7.615   0.932   1.323  1.00  0.00       B   O  \\nHETATM    5 H    WAT A   1       7.615   1.518   2.080  1.00  0.00       B   H  \\nHETATM    6 H    WAT A   1       7.615   1.518   0.566  1.00  0.00       B   H  \\nENDMDL\\n\",\"pdb\",{\"keepH\": \"true\"});\n\tviewergrid_16637679799768922[0][0].setStyle({\"model\": -1, \"serial\": 6},{\"sphere\": {\"scale\": 0.2, \"color\": \"#FF0000\"}});\n\tviewergrid_16637679799768922[0][0].addUnitCell({\"model\": -1},{\"box\": {\"color\": \"black\"}, \"alabel\": \"\", \"blabel\": \"\", \"clabel\": \"\"});\n\tviewergrid_16637679799768922[0][0].zoomTo();\nviewergrid_16637679799768922[0][0].render();\n});\n</script>",
            "text/html": [
              "<div id=\"3dmolviewer_16637679799768922\"  style=\"position: relative; width: 400px; height: 300px\">\n",
              "        <p id=\"3dmolwarning_16637679799768922\" style=\"background-color:#ffcccc;color:black\">You appear to be running in JupyterLab (or JavaScript failed to load for some other reason).  You need to install the 3dmol extension: <br>\n",
              "        <tt>jupyter labextension install jupyterlab_3dmol</tt></p>\n",
              "        </div>\n",
              "<script>\n",
              "\n",
              "var loadScriptAsync = function(uri){\n",
              "  return new Promise((resolve, reject) => {\n",
              "    var tag = document.createElement('script');\n",
              "    tag.src = uri;\n",
              "    tag.async = true;\n",
              "    tag.onload = () => {\n",
              "      resolve();\n",
              "    };\n",
              "  var firstScriptTag = document.getElementsByTagName('script')[0];\n",
              "  firstScriptTag.parentNode.insertBefore(tag, firstScriptTag);\n",
              "});\n",
              "};\n",
              "\n",
              "if(typeof $3Dmolpromise === 'undefined') {\n",
              "$3Dmolpromise = null;\n",
              "  $3Dmolpromise = loadScriptAsync('https://cdn.jsdelivr.net/npm/3dmol@latest/build/3Dmol-min.min.js');\n",
              "}\n",
              "\n",
              "var viewer_16637679799768922 = null;\n",
              "var warn = document.getElementById(\"3dmolwarning_16637679799768922\");\n",
              "if(warn) {\n",
              "    warn.parentNode.removeChild(warn);\n",
              "}\n",
              "$3Dmolpromise.then(function() {\n",
              "var viewergrid_16637679799768922 = null;\n",
              "viewergrid_16637679799768922 = $3Dmol.createViewerGrid($(\"#3dmolviewer_16637679799768922\"),{rows: 1, cols: 1, control_all: false},{backgroundColor:\"white\"});\n",
              "viewer_16637679799768922 = viewergrid_16637679799768922[0][0];\n",
              "viewergrid_16637679799768922[0][0].zoomTo();\tviewergrid_16637679799768922[0][0].addModelsAsFrames(\"MODEL 0\\nHETATM    1 O    WAT A   0       2.323   1.323   1.714  1.00  0.00       B   O  \\nHETATM    2 H    WAT A   0       2.323   2.080   1.127  1.00  0.00       B   H  \\nHETATM    3 H    WAT A   0       2.323   0.566   1.127  1.00  0.00       B   H  \\nHETATM    4 O    WAT A   1       7.615   0.932   1.323  1.00  0.00       B   O  \\nHETATM    5 H    WAT A   1       7.615   1.518   2.080  1.00  0.00       B   H  \\nHETATM    6 H    WAT A   1       7.615   1.518   0.566  1.00  0.00       B   H  \\nENDMDL\\n\",\"pdb\",{\"keepH\": \"true\"});\n",
              "\tviewergrid_16637679799768922[0][0].setStyle({\"model\": -1},{\"line\": {\"color\": \"black\"}});\n",
              "\tviewergrid_16637679799768922[0][0].addModelsAsFrames(\"MODEL 0\\nHETATM    1 O    WAT A   0       2.323   1.323   1.714  1.00  0.00       B   O  \\nHETATM    2 H    WAT A   0       2.323   2.080   1.127  1.00  0.00       B   H  \\nHETATM    3 H    WAT A   0       2.323   0.566   1.127  1.00  0.00       B   H  \\nHETATM    4 O    WAT A   1       7.615   0.932   1.323  1.00  0.00       B   O  \\nHETATM    5 H    WAT A   1       7.615   1.518   2.080  1.00  0.00       B   H  \\nHETATM    6 H    WAT A   1       7.615   1.518   0.566  1.00  0.00       B   H  \\nENDMDL\\n\",\"pdb\",{\"keepH\": \"true\"});\n",
              "\tviewergrid_16637679799768922[0][0].setStyle({\"model\": -1, \"serial\": 1},{\"sphere\": {\"scale\": 0.2, \"color\": \"#7F00FF\"}});\n",
              "\tviewergrid_16637679799768922[0][0].addModelsAsFrames(\"MODEL 0\\nHETATM    1 O    WAT A   0       2.323   1.323   1.714  1.00  0.00       B   O  \\nHETATM    2 H    WAT A   0       2.323   2.080   1.127  1.00  0.00       B   H  \\nHETATM    3 H    WAT A   0       2.323   0.566   1.127  1.00  0.00       B   H  \\nHETATM    4 O    WAT A   1       7.615   0.932   1.323  1.00  0.00       B   O  \\nHETATM    5 H    WAT A   1       7.615   1.518   2.080  1.00  0.00       B   H  \\nHETATM    6 H    WAT A   1       7.615   1.518   0.566  1.00  0.00       B   H  \\nENDMDL\\n\",\"pdb\",{\"keepH\": \"true\"});\n",
              "\tviewergrid_16637679799768922[0][0].setStyle({\"model\": -1, \"serial\": 2},{\"sphere\": {\"scale\": 0.2, \"color\": \"#7F00FF\"}});\n",
              "\tviewergrid_16637679799768922[0][0].addModelsAsFrames(\"MODEL 0\\nHETATM    1 O    WAT A   0       2.323   1.323   1.714  1.00  0.00       B   O  \\nHETATM    2 H    WAT A   0       2.323   2.080   1.127  1.00  0.00       B   H  \\nHETATM    3 H    WAT A   0       2.323   0.566   1.127  1.00  0.00       B   H  \\nHETATM    4 O    WAT A   1       7.615   0.932   1.323  1.00  0.00       B   O  \\nHETATM    5 H    WAT A   1       7.615   1.518   2.080  1.00  0.00       B   H  \\nHETATM    6 H    WAT A   1       7.615   1.518   0.566  1.00  0.00       B   H  \\nENDMDL\\n\",\"pdb\",{\"keepH\": \"true\"});\n",
              "\tviewergrid_16637679799768922[0][0].setStyle({\"model\": -1, \"serial\": 3},{\"sphere\": {\"scale\": 0.2, \"color\": \"#7F00FF\"}});\n",
              "\tviewergrid_16637679799768922[0][0].addModelsAsFrames(\"MODEL 0\\nHETATM    1 O    WAT A   0       2.323   1.323   1.714  1.00  0.00       B   O  \\nHETATM    2 H    WAT A   0       2.323   2.080   1.127  1.00  0.00       B   H  \\nHETATM    3 H    WAT A   0       2.323   0.566   1.127  1.00  0.00       B   H  \\nHETATM    4 O    WAT A   1       7.615   0.932   1.323  1.00  0.00       B   O  \\nHETATM    5 H    WAT A   1       7.615   1.518   2.080  1.00  0.00       B   H  \\nHETATM    6 H    WAT A   1       7.615   1.518   0.566  1.00  0.00       B   H  \\nENDMDL\\n\",\"pdb\",{\"keepH\": \"true\"});\n",
              "\tviewergrid_16637679799768922[0][0].setStyle({\"model\": -1},{\"line\": {\"color\": \"black\"}});\n",
              "\tviewergrid_16637679799768922[0][0].addModelsAsFrames(\"MODEL 0\\nHETATM    1 O    WAT A   0       2.323   1.323   1.714  1.00  0.00       B   O  \\nHETATM    2 H    WAT A   0       2.323   2.080   1.127  1.00  0.00       B   H  \\nHETATM    3 H    WAT A   0       2.323   0.566   1.127  1.00  0.00       B   H  \\nHETATM    4 O    WAT A   1       7.615   0.932   1.323  1.00  0.00       B   O  \\nHETATM    5 H    WAT A   1       7.615   1.518   2.080  1.00  0.00       B   H  \\nHETATM    6 H    WAT A   1       7.615   1.518   0.566  1.00  0.00       B   H  \\nENDMDL\\n\",\"pdb\",{\"keepH\": \"true\"});\n",
              "\tviewergrid_16637679799768922[0][0].setStyle({\"model\": -1, \"serial\": 4},{\"sphere\": {\"scale\": 0.2, \"color\": \"#FF0000\"}});\n",
              "\tviewergrid_16637679799768922[0][0].addModelsAsFrames(\"MODEL 0\\nHETATM    1 O    WAT A   0       2.323   1.323   1.714  1.00  0.00       B   O  \\nHETATM    2 H    WAT A   0       2.323   2.080   1.127  1.00  0.00       B   H  \\nHETATM    3 H    WAT A   0       2.323   0.566   1.127  1.00  0.00       B   H  \\nHETATM    4 O    WAT A   1       7.615   0.932   1.323  1.00  0.00       B   O  \\nHETATM    5 H    WAT A   1       7.615   1.518   2.080  1.00  0.00       B   H  \\nHETATM    6 H    WAT A   1       7.615   1.518   0.566  1.00  0.00       B   H  \\nENDMDL\\n\",\"pdb\",{\"keepH\": \"true\"});\n",
              "\tviewergrid_16637679799768922[0][0].setStyle({\"model\": -1, \"serial\": 5},{\"sphere\": {\"scale\": 0.2, \"color\": \"#FF0000\"}});\n",
              "\tviewergrid_16637679799768922[0][0].addModelsAsFrames(\"MODEL 0\\nHETATM    1 O    WAT A   0       2.323   1.323   1.714  1.00  0.00       B   O  \\nHETATM    2 H    WAT A   0       2.323   2.080   1.127  1.00  0.00       B   H  \\nHETATM    3 H    WAT A   0       2.323   0.566   1.127  1.00  0.00       B   H  \\nHETATM    4 O    WAT A   1       7.615   0.932   1.323  1.00  0.00       B   O  \\nHETATM    5 H    WAT A   1       7.615   1.518   2.080  1.00  0.00       B   H  \\nHETATM    6 H    WAT A   1       7.615   1.518   0.566  1.00  0.00       B   H  \\nENDMDL\\n\",\"pdb\",{\"keepH\": \"true\"});\n",
              "\tviewergrid_16637679799768922[0][0].setStyle({\"model\": -1, \"serial\": 6},{\"sphere\": {\"scale\": 0.2, \"color\": \"#FF0000\"}});\n",
              "\tviewergrid_16637679799768922[0][0].addUnitCell({\"model\": -1},{\"box\": {\"color\": \"black\"}, \"alabel\": \"\", \"blabel\": \"\", \"clabel\": \"\"});\n",
              "\tviewergrid_16637679799768922[0][0].zoomTo();\n",
              "viewergrid_16637679799768922[0][0].render();\n",
              "});\n",
              "</script>"
            ]
          },
          "metadata": {}
        }
      ],
      "source": [
        "_ = sys.display()"
      ]
    },
    {
      "cell_type": "markdown",
      "id": "decimal-costs",
      "metadata": {
        "id": "decimal-costs"
      },
      "source": [
        "The visualization module has identified that there are two separate fragments, and colored them accordingly. Of course if we merged our fragments, the visualization would look different."
      ]
    },
    {
      "cell_type": "code",
      "execution_count": 19,
      "id": "delayed-compact",
      "metadata": {
        "id": "delayed-compact"
      },
      "outputs": [],
      "source": [
        "sys2 = System()\n",
        "sys2[\"COM:0\"] = sum(sys.values())"
      ]
    },
    {
      "cell_type": "code",
      "execution_count": 20,
      "id": "ethical-wiring",
      "metadata": {
        "id": "ethical-wiring",
        "outputId": "a1f4788b-e0ae-46df-b4f4-ad560bb07980",
        "colab": {
          "base_uri": "https://localhost:8080/",
          "height": 317
        }
      },
      "outputs": [
        {
          "output_type": "display_data",
          "data": {
            "application/3dmoljs_load.v0": "<div id=\"3dmolviewer_16637679843171723\"  style=\"position: relative; width: 400px; height: 300px\">\n        <p id=\"3dmolwarning_16637679843171723\" style=\"background-color:#ffcccc;color:black\">You appear to be running in JupyterLab (or JavaScript failed to load for some other reason).  You need to install the 3dmol extension: <br>\n        <tt>jupyter labextension install jupyterlab_3dmol</tt></p>\n        </div>\n<script>\n\nvar loadScriptAsync = function(uri){\n  return new Promise((resolve, reject) => {\n    var tag = document.createElement('script');\n    tag.src = uri;\n    tag.async = true;\n    tag.onload = () => {\n      resolve();\n    };\n  var firstScriptTag = document.getElementsByTagName('script')[0];\n  firstScriptTag.parentNode.insertBefore(tag, firstScriptTag);\n});\n};\n\nif(typeof $3Dmolpromise === 'undefined') {\n$3Dmolpromise = null;\n  $3Dmolpromise = loadScriptAsync('https://cdn.jsdelivr.net/npm/3dmol@latest/build/3Dmol-min.min.js');\n}\n\nvar viewer_16637679843171723 = null;\nvar warn = document.getElementById(\"3dmolwarning_16637679843171723\");\nif(warn) {\n    warn.parentNode.removeChild(warn);\n}\n$3Dmolpromise.then(function() {\nvar viewergrid_16637679843171723 = null;\nviewergrid_16637679843171723 = $3Dmol.createViewerGrid($(\"#3dmolviewer_16637679843171723\"),{rows: 1, cols: 1, control_all: false},{backgroundColor:\"white\"});\nviewer_16637679843171723 = viewergrid_16637679843171723[0][0];\nviewergrid_16637679843171723[0][0].zoomTo();\tviewergrid_16637679843171723[0][0].addModelsAsFrames(\"MODEL 0\\nHETATM    1 O    COM A   0       2.323   1.323   1.714  1.00  0.00       B   O  \\nHETATM    2 H    COM A   0       2.323   2.080   1.127  1.00  0.00       B   H  \\nHETATM    3 H    COM A   0       2.323   0.566   1.127  1.00  0.00       B   H  \\nHETATM    4 O    COM A   0       7.615   0.932   1.323  1.00  0.00       B   O  \\nHETATM    5 H    COM A   0       7.615   1.518   2.080  1.00  0.00       B   H  \\nHETATM    6 H    COM A   0       7.615   1.518   0.566  1.00  0.00       B   H  \\nENDMDL\\n\",\"pdb\",{\"keepH\": \"true\"});\n\tviewergrid_16637679843171723[0][0].setStyle({\"model\": -1},{\"line\": {\"color\": \"black\"}});\n\tviewergrid_16637679843171723[0][0].addModelsAsFrames(\"MODEL 0\\nHETATM    1 O    COM A   0       2.323   1.323   1.714  1.00  0.00       B   O  \\nHETATM    2 H    COM A   0       2.323   2.080   1.127  1.00  0.00       B   H  \\nHETATM    3 H    COM A   0       2.323   0.566   1.127  1.00  0.00       B   H  \\nHETATM    4 O    COM A   0       7.615   0.932   1.323  1.00  0.00       B   O  \\nHETATM    5 H    COM A   0       7.615   1.518   2.080  1.00  0.00       B   H  \\nHETATM    6 H    COM A   0       7.615   1.518   0.566  1.00  0.00       B   H  \\nENDMDL\\n\",\"pdb\",{\"keepH\": \"true\"});\n\tviewergrid_16637679843171723[0][0].setStyle({\"model\": -1, \"serial\": 1},{\"sphere\": {\"scale\": 0.2, \"color\": \"#7F00FF\"}});\n\tviewergrid_16637679843171723[0][0].addModelsAsFrames(\"MODEL 0\\nHETATM    1 O    COM A   0       2.323   1.323   1.714  1.00  0.00       B   O  \\nHETATM    2 H    COM A   0       2.323   2.080   1.127  1.00  0.00       B   H  \\nHETATM    3 H    COM A   0       2.323   0.566   1.127  1.00  0.00       B   H  \\nHETATM    4 O    COM A   0       7.615   0.932   1.323  1.00  0.00       B   O  \\nHETATM    5 H    COM A   0       7.615   1.518   2.080  1.00  0.00       B   H  \\nHETATM    6 H    COM A   0       7.615   1.518   0.566  1.00  0.00       B   H  \\nENDMDL\\n\",\"pdb\",{\"keepH\": \"true\"});\n\tviewergrid_16637679843171723[0][0].setStyle({\"model\": -1, \"serial\": 2},{\"sphere\": {\"scale\": 0.2, \"color\": \"#7F00FF\"}});\n\tviewergrid_16637679843171723[0][0].addModelsAsFrames(\"MODEL 0\\nHETATM    1 O    COM A   0       2.323   1.323   1.714  1.00  0.00       B   O  \\nHETATM    2 H    COM A   0       2.323   2.080   1.127  1.00  0.00       B   H  \\nHETATM    3 H    COM A   0       2.323   0.566   1.127  1.00  0.00       B   H  \\nHETATM    4 O    COM A   0       7.615   0.932   1.323  1.00  0.00       B   O  \\nHETATM    5 H    COM A   0       7.615   1.518   2.080  1.00  0.00       B   H  \\nHETATM    6 H    COM A   0       7.615   1.518   0.566  1.00  0.00       B   H  \\nENDMDL\\n\",\"pdb\",{\"keepH\": \"true\"});\n\tviewergrid_16637679843171723[0][0].setStyle({\"model\": -1, \"serial\": 3},{\"sphere\": {\"scale\": 0.2, \"color\": \"#7F00FF\"}});\n\tviewergrid_16637679843171723[0][0].addModelsAsFrames(\"MODEL 0\\nHETATM    1 O    COM A   0       2.323   1.323   1.714  1.00  0.00       B   O  \\nHETATM    2 H    COM A   0       2.323   2.080   1.127  1.00  0.00       B   H  \\nHETATM    3 H    COM A   0       2.323   0.566   1.127  1.00  0.00       B   H  \\nHETATM    4 O    COM A   0       7.615   0.932   1.323  1.00  0.00       B   O  \\nHETATM    5 H    COM A   0       7.615   1.518   2.080  1.00  0.00       B   H  \\nHETATM    6 H    COM A   0       7.615   1.518   0.566  1.00  0.00       B   H  \\nENDMDL\\n\",\"pdb\",{\"keepH\": \"true\"});\n\tviewergrid_16637679843171723[0][0].setStyle({\"model\": -1, \"serial\": 4},{\"sphere\": {\"scale\": 0.2, \"color\": \"#7F00FF\"}});\n\tviewergrid_16637679843171723[0][0].addModelsAsFrames(\"MODEL 0\\nHETATM    1 O    COM A   0       2.323   1.323   1.714  1.00  0.00       B   O  \\nHETATM    2 H    COM A   0       2.323   2.080   1.127  1.00  0.00       B   H  \\nHETATM    3 H    COM A   0       2.323   0.566   1.127  1.00  0.00       B   H  \\nHETATM    4 O    COM A   0       7.615   0.932   1.323  1.00  0.00       B   O  \\nHETATM    5 H    COM A   0       7.615   1.518   2.080  1.00  0.00       B   H  \\nHETATM    6 H    COM A   0       7.615   1.518   0.566  1.00  0.00       B   H  \\nENDMDL\\n\",\"pdb\",{\"keepH\": \"true\"});\n\tviewergrid_16637679843171723[0][0].setStyle({\"model\": -1, \"serial\": 5},{\"sphere\": {\"scale\": 0.2, \"color\": \"#7F00FF\"}});\n\tviewergrid_16637679843171723[0][0].addModelsAsFrames(\"MODEL 0\\nHETATM    1 O    COM A   0       2.323   1.323   1.714  1.00  0.00       B   O  \\nHETATM    2 H    COM A   0       2.323   2.080   1.127  1.00  0.00       B   H  \\nHETATM    3 H    COM A   0       2.323   0.566   1.127  1.00  0.00       B   H  \\nHETATM    4 O    COM A   0       7.615   0.932   1.323  1.00  0.00       B   O  \\nHETATM    5 H    COM A   0       7.615   1.518   2.080  1.00  0.00       B   H  \\nHETATM    6 H    COM A   0       7.615   1.518   0.566  1.00  0.00       B   H  \\nENDMDL\\n\",\"pdb\",{\"keepH\": \"true\"});\n\tviewergrid_16637679843171723[0][0].setStyle({\"model\": -1, \"serial\": 6},{\"sphere\": {\"scale\": 0.2, \"color\": \"#7F00FF\"}});\n\tviewergrid_16637679843171723[0][0].addUnitCell({\"model\": -1},{\"box\": {\"color\": \"black\"}, \"alabel\": \"\", \"blabel\": \"\", \"clabel\": \"\"});\n\tviewergrid_16637679843171723[0][0].zoomTo();\nviewergrid_16637679843171723[0][0].render();\n});\n</script>",
            "text/html": [
              "<div id=\"3dmolviewer_16637679843171723\"  style=\"position: relative; width: 400px; height: 300px\">\n",
              "        <p id=\"3dmolwarning_16637679843171723\" style=\"background-color:#ffcccc;color:black\">You appear to be running in JupyterLab (or JavaScript failed to load for some other reason).  You need to install the 3dmol extension: <br>\n",
              "        <tt>jupyter labextension install jupyterlab_3dmol</tt></p>\n",
              "        </div>\n",
              "<script>\n",
              "\n",
              "var loadScriptAsync = function(uri){\n",
              "  return new Promise((resolve, reject) => {\n",
              "    var tag = document.createElement('script');\n",
              "    tag.src = uri;\n",
              "    tag.async = true;\n",
              "    tag.onload = () => {\n",
              "      resolve();\n",
              "    };\n",
              "  var firstScriptTag = document.getElementsByTagName('script')[0];\n",
              "  firstScriptTag.parentNode.insertBefore(tag, firstScriptTag);\n",
              "});\n",
              "};\n",
              "\n",
              "if(typeof $3Dmolpromise === 'undefined') {\n",
              "$3Dmolpromise = null;\n",
              "  $3Dmolpromise = loadScriptAsync('https://cdn.jsdelivr.net/npm/3dmol@latest/build/3Dmol-min.min.js');\n",
              "}\n",
              "\n",
              "var viewer_16637679843171723 = null;\n",
              "var warn = document.getElementById(\"3dmolwarning_16637679843171723\");\n",
              "if(warn) {\n",
              "    warn.parentNode.removeChild(warn);\n",
              "}\n",
              "$3Dmolpromise.then(function() {\n",
              "var viewergrid_16637679843171723 = null;\n",
              "viewergrid_16637679843171723 = $3Dmol.createViewerGrid($(\"#3dmolviewer_16637679843171723\"),{rows: 1, cols: 1, control_all: false},{backgroundColor:\"white\"});\n",
              "viewer_16637679843171723 = viewergrid_16637679843171723[0][0];\n",
              "viewergrid_16637679843171723[0][0].zoomTo();\tviewergrid_16637679843171723[0][0].addModelsAsFrames(\"MODEL 0\\nHETATM    1 O    COM A   0       2.323   1.323   1.714  1.00  0.00       B   O  \\nHETATM    2 H    COM A   0       2.323   2.080   1.127  1.00  0.00       B   H  \\nHETATM    3 H    COM A   0       2.323   0.566   1.127  1.00  0.00       B   H  \\nHETATM    4 O    COM A   0       7.615   0.932   1.323  1.00  0.00       B   O  \\nHETATM    5 H    COM A   0       7.615   1.518   2.080  1.00  0.00       B   H  \\nHETATM    6 H    COM A   0       7.615   1.518   0.566  1.00  0.00       B   H  \\nENDMDL\\n\",\"pdb\",{\"keepH\": \"true\"});\n",
              "\tviewergrid_16637679843171723[0][0].setStyle({\"model\": -1},{\"line\": {\"color\": \"black\"}});\n",
              "\tviewergrid_16637679843171723[0][0].addModelsAsFrames(\"MODEL 0\\nHETATM    1 O    COM A   0       2.323   1.323   1.714  1.00  0.00       B   O  \\nHETATM    2 H    COM A   0       2.323   2.080   1.127  1.00  0.00       B   H  \\nHETATM    3 H    COM A   0       2.323   0.566   1.127  1.00  0.00       B   H  \\nHETATM    4 O    COM A   0       7.615   0.932   1.323  1.00  0.00       B   O  \\nHETATM    5 H    COM A   0       7.615   1.518   2.080  1.00  0.00       B   H  \\nHETATM    6 H    COM A   0       7.615   1.518   0.566  1.00  0.00       B   H  \\nENDMDL\\n\",\"pdb\",{\"keepH\": \"true\"});\n",
              "\tviewergrid_16637679843171723[0][0].setStyle({\"model\": -1, \"serial\": 1},{\"sphere\": {\"scale\": 0.2, \"color\": \"#7F00FF\"}});\n",
              "\tviewergrid_16637679843171723[0][0].addModelsAsFrames(\"MODEL 0\\nHETATM    1 O    COM A   0       2.323   1.323   1.714  1.00  0.00       B   O  \\nHETATM    2 H    COM A   0       2.323   2.080   1.127  1.00  0.00       B   H  \\nHETATM    3 H    COM A   0       2.323   0.566   1.127  1.00  0.00       B   H  \\nHETATM    4 O    COM A   0       7.615   0.932   1.323  1.00  0.00       B   O  \\nHETATM    5 H    COM A   0       7.615   1.518   2.080  1.00  0.00       B   H  \\nHETATM    6 H    COM A   0       7.615   1.518   0.566  1.00  0.00       B   H  \\nENDMDL\\n\",\"pdb\",{\"keepH\": \"true\"});\n",
              "\tviewergrid_16637679843171723[0][0].setStyle({\"model\": -1, \"serial\": 2},{\"sphere\": {\"scale\": 0.2, \"color\": \"#7F00FF\"}});\n",
              "\tviewergrid_16637679843171723[0][0].addModelsAsFrames(\"MODEL 0\\nHETATM    1 O    COM A   0       2.323   1.323   1.714  1.00  0.00       B   O  \\nHETATM    2 H    COM A   0       2.323   2.080   1.127  1.00  0.00       B   H  \\nHETATM    3 H    COM A   0       2.323   0.566   1.127  1.00  0.00       B   H  \\nHETATM    4 O    COM A   0       7.615   0.932   1.323  1.00  0.00       B   O  \\nHETATM    5 H    COM A   0       7.615   1.518   2.080  1.00  0.00       B   H  \\nHETATM    6 H    COM A   0       7.615   1.518   0.566  1.00  0.00       B   H  \\nENDMDL\\n\",\"pdb\",{\"keepH\": \"true\"});\n",
              "\tviewergrid_16637679843171723[0][0].setStyle({\"model\": -1, \"serial\": 3},{\"sphere\": {\"scale\": 0.2, \"color\": \"#7F00FF\"}});\n",
              "\tviewergrid_16637679843171723[0][0].addModelsAsFrames(\"MODEL 0\\nHETATM    1 O    COM A   0       2.323   1.323   1.714  1.00  0.00       B   O  \\nHETATM    2 H    COM A   0       2.323   2.080   1.127  1.00  0.00       B   H  \\nHETATM    3 H    COM A   0       2.323   0.566   1.127  1.00  0.00       B   H  \\nHETATM    4 O    COM A   0       7.615   0.932   1.323  1.00  0.00       B   O  \\nHETATM    5 H    COM A   0       7.615   1.518   2.080  1.00  0.00       B   H  \\nHETATM    6 H    COM A   0       7.615   1.518   0.566  1.00  0.00       B   H  \\nENDMDL\\n\",\"pdb\",{\"keepH\": \"true\"});\n",
              "\tviewergrid_16637679843171723[0][0].setStyle({\"model\": -1, \"serial\": 4},{\"sphere\": {\"scale\": 0.2, \"color\": \"#7F00FF\"}});\n",
              "\tviewergrid_16637679843171723[0][0].addModelsAsFrames(\"MODEL 0\\nHETATM    1 O    COM A   0       2.323   1.323   1.714  1.00  0.00       B   O  \\nHETATM    2 H    COM A   0       2.323   2.080   1.127  1.00  0.00       B   H  \\nHETATM    3 H    COM A   0       2.323   0.566   1.127  1.00  0.00       B   H  \\nHETATM    4 O    COM A   0       7.615   0.932   1.323  1.00  0.00       B   O  \\nHETATM    5 H    COM A   0       7.615   1.518   2.080  1.00  0.00       B   H  \\nHETATM    6 H    COM A   0       7.615   1.518   0.566  1.00  0.00       B   H  \\nENDMDL\\n\",\"pdb\",{\"keepH\": \"true\"});\n",
              "\tviewergrid_16637679843171723[0][0].setStyle({\"model\": -1, \"serial\": 5},{\"sphere\": {\"scale\": 0.2, \"color\": \"#7F00FF\"}});\n",
              "\tviewergrid_16637679843171723[0][0].addModelsAsFrames(\"MODEL 0\\nHETATM    1 O    COM A   0       2.323   1.323   1.714  1.00  0.00       B   O  \\nHETATM    2 H    COM A   0       2.323   2.080   1.127  1.00  0.00       B   H  \\nHETATM    3 H    COM A   0       2.323   0.566   1.127  1.00  0.00       B   H  \\nHETATM    4 O    COM A   0       7.615   0.932   1.323  1.00  0.00       B   O  \\nHETATM    5 H    COM A   0       7.615   1.518   2.080  1.00  0.00       B   H  \\nHETATM    6 H    COM A   0       7.615   1.518   0.566  1.00  0.00       B   H  \\nENDMDL\\n\",\"pdb\",{\"keepH\": \"true\"});\n",
              "\tviewergrid_16637679843171723[0][0].setStyle({\"model\": -1, \"serial\": 6},{\"sphere\": {\"scale\": 0.2, \"color\": \"#7F00FF\"}});\n",
              "\tviewergrid_16637679843171723[0][0].addUnitCell({\"model\": -1},{\"box\": {\"color\": \"black\"}, \"alabel\": \"\", \"blabel\": \"\", \"clabel\": \"\"});\n",
              "\tviewergrid_16637679843171723[0][0].zoomTo();\n",
              "viewergrid_16637679843171723[0][0].render();\n",
              "});\n",
              "</script>"
            ]
          },
          "metadata": {}
        }
      ],
      "source": [
        "_ = sys2.display()"
      ]
    },
    {
      "cell_type": "markdown",
      "id": "neutral-prefix",
      "metadata": {
        "id": "neutral-prefix"
      },
      "source": [
        "## Shallow Copies and Multiple Views\n",
        "It is worth recalling the copy semantics of python when dealing with complex objects."
      ]
    },
    {
      "cell_type": "code",
      "execution_count": 21,
      "id": "frozen-olympus",
      "metadata": {
        "id": "frozen-olympus",
        "outputId": "b8493e41-1566-43cc-a12c-b02dfa513b99",
        "colab": {
          "base_uri": "https://localhost:8080/"
        }
      },
      "outputs": [
        {
          "output_type": "stream",
          "name": "stdout",
          "text": [
            "[{'x': '1'}, {'x': '2'}]\n",
            "[{'x': 3}, {'x': '2'}]\n"
          ]
        }
      ],
      "source": [
        "a = {\"x\": \"1\"}\n",
        "b = {\"x\": \"2\"}\n",
        "my_list = [a, b]\n",
        "print(my_list)\n",
        "a[\"x\"] = 3\n",
        "print(my_list)"
      ]
    },
    {
      "cell_type": "markdown",
      "id": "musical-return",
      "metadata": {
        "id": "musical-return"
      },
      "source": [
        "We can take advantage of this to construct multiple views of the same molecule. For example, we might want to have two separate views of the same set of atoms. In one view, we've split the set into two molecules, and the other we have just one big fragment. This might be convenient if, for example, we want to be able to rotate the entire system as a group."
      ]
    },
    {
      "cell_type": "code",
      "execution_count": 22,
      "id": "wrong-breakdown",
      "metadata": {
        "id": "wrong-breakdown"
      },
      "outputs": [],
      "source": [
        "sep = deepcopy(sys)\n",
        "joint = System()\n",
        "joint[\"COM:0\"] = sum(sep.values())"
      ]
    },
    {
      "cell_type": "code",
      "execution_count": 23,
      "id": "suited-waste",
      "metadata": {
        "id": "suited-waste"
      },
      "outputs": [],
      "source": [
        "joint[\"COM:0\"].rotate(y=90, units=\"degrees\")"
      ]
    },
    {
      "cell_type": "code",
      "execution_count": 24,
      "id": "cultural-making",
      "metadata": {
        "id": "cultural-making",
        "outputId": "d6de4587-a4c1-4180-ed8d-d4b501518d73",
        "colab": {
          "base_uri": "https://localhost:8080/",
          "height": 317
        }
      },
      "outputs": [
        {
          "output_type": "display_data",
          "data": {
            "application/3dmoljs_load.v0": "<div id=\"3dmolviewer_16637679952804685\"  style=\"position: relative; width: 400px; height: 300px\">\n        <p id=\"3dmolwarning_16637679952804685\" style=\"background-color:#ffcccc;color:black\">You appear to be running in JupyterLab (or JavaScript failed to load for some other reason).  You need to install the 3dmol extension: <br>\n        <tt>jupyter labextension install jupyterlab_3dmol</tt></p>\n        </div>\n<script>\n\nvar loadScriptAsync = function(uri){\n  return new Promise((resolve, reject) => {\n    var tag = document.createElement('script');\n    tag.src = uri;\n    tag.async = true;\n    tag.onload = () => {\n      resolve();\n    };\n  var firstScriptTag = document.getElementsByTagName('script')[0];\n  firstScriptTag.parentNode.insertBefore(tag, firstScriptTag);\n});\n};\n\nif(typeof $3Dmolpromise === 'undefined') {\n$3Dmolpromise = null;\n  $3Dmolpromise = loadScriptAsync('https://cdn.jsdelivr.net/npm/3dmol@latest/build/3Dmol-min.min.js');\n}\n\nvar viewer_16637679952804685 = null;\nvar warn = document.getElementById(\"3dmolwarning_16637679952804685\");\nif(warn) {\n    warn.parentNode.removeChild(warn);\n}\n$3Dmolpromise.then(function() {\nvar viewergrid_16637679952804685 = null;\nviewergrid_16637679952804685 = $3Dmol.createViewerGrid($(\"#3dmolviewer_16637679952804685\"),{rows: 1, cols: 1, control_all: false},{backgroundColor:\"white\"});\nviewer_16637679952804685 = viewergrid_16637679952804685[0][0];\nviewergrid_16637679952804685[0][0].zoomTo();\tviewergrid_16637679952804685[0][0].addModelsAsFrames(\"MODEL 0\\nHETATM    1 O    WAT A   0       5.360   1.323   3.969  1.00  0.00       B   O  \\nHETATM    2 H    WAT A   0       4.773   2.080   3.969  1.00  0.00       B   H  \\nHETATM    3 H    WAT A   0       4.773   0.566   3.969  1.00  0.00       B   H  \\nHETATM    4 O    WAT A   1       4.969   0.932  -1.323  1.00  0.00       B   O  \\nHETATM    5 H    WAT A   1       5.726   1.518  -1.323  1.00  0.00       B   H  \\nHETATM    6 H    WAT A   1       4.212   1.518  -1.323  1.00  0.00       B   H  \\nENDMDL\\n\",\"pdb\",{\"keepH\": \"true\"});\n\tviewergrid_16637679952804685[0][0].setStyle({\"model\": -1},{\"line\": {\"color\": \"black\"}});\n\tviewergrid_16637679952804685[0][0].addModelsAsFrames(\"MODEL 0\\nHETATM    1 O    WAT A   0       5.360   1.323   3.969  1.00  0.00       B   O  \\nHETATM    2 H    WAT A   0       4.773   2.080   3.969  1.00  0.00       B   H  \\nHETATM    3 H    WAT A   0       4.773   0.566   3.969  1.00  0.00       B   H  \\nHETATM    4 O    WAT A   1       4.969   0.932  -1.323  1.00  0.00       B   O  \\nHETATM    5 H    WAT A   1       5.726   1.518  -1.323  1.00  0.00       B   H  \\nHETATM    6 H    WAT A   1       4.212   1.518  -1.323  1.00  0.00       B   H  \\nENDMDL\\n\",\"pdb\",{\"keepH\": \"true\"});\n\tviewergrid_16637679952804685[0][0].setStyle({\"model\": -1, \"serial\": 1},{\"sphere\": {\"scale\": 0.2, \"color\": \"#7F00FF\"}});\n\tviewergrid_16637679952804685[0][0].addModelsAsFrames(\"MODEL 0\\nHETATM    1 O    WAT A   0       5.360   1.323   3.969  1.00  0.00       B   O  \\nHETATM    2 H    WAT A   0       4.773   2.080   3.969  1.00  0.00       B   H  \\nHETATM    3 H    WAT A   0       4.773   0.566   3.969  1.00  0.00       B   H  \\nHETATM    4 O    WAT A   1       4.969   0.932  -1.323  1.00  0.00       B   O  \\nHETATM    5 H    WAT A   1       5.726   1.518  -1.323  1.00  0.00       B   H  \\nHETATM    6 H    WAT A   1       4.212   1.518  -1.323  1.00  0.00       B   H  \\nENDMDL\\n\",\"pdb\",{\"keepH\": \"true\"});\n\tviewergrid_16637679952804685[0][0].setStyle({\"model\": -1, \"serial\": 2},{\"sphere\": {\"scale\": 0.2, \"color\": \"#7F00FF\"}});\n\tviewergrid_16637679952804685[0][0].addModelsAsFrames(\"MODEL 0\\nHETATM    1 O    WAT A   0       5.360   1.323   3.969  1.00  0.00       B   O  \\nHETATM    2 H    WAT A   0       4.773   2.080   3.969  1.00  0.00       B   H  \\nHETATM    3 H    WAT A   0       4.773   0.566   3.969  1.00  0.00       B   H  \\nHETATM    4 O    WAT A   1       4.969   0.932  -1.323  1.00  0.00       B   O  \\nHETATM    5 H    WAT A   1       5.726   1.518  -1.323  1.00  0.00       B   H  \\nHETATM    6 H    WAT A   1       4.212   1.518  -1.323  1.00  0.00       B   H  \\nENDMDL\\n\",\"pdb\",{\"keepH\": \"true\"});\n\tviewergrid_16637679952804685[0][0].setStyle({\"model\": -1, \"serial\": 3},{\"sphere\": {\"scale\": 0.2, \"color\": \"#7F00FF\"}});\n\tviewergrid_16637679952804685[0][0].addModelsAsFrames(\"MODEL 0\\nHETATM    1 O    WAT A   0       5.360   1.323   3.969  1.00  0.00       B   O  \\nHETATM    2 H    WAT A   0       4.773   2.080   3.969  1.00  0.00       B   H  \\nHETATM    3 H    WAT A   0       4.773   0.566   3.969  1.00  0.00       B   H  \\nHETATM    4 O    WAT A   1       4.969   0.932  -1.323  1.00  0.00       B   O  \\nHETATM    5 H    WAT A   1       5.726   1.518  -1.323  1.00  0.00       B   H  \\nHETATM    6 H    WAT A   1       4.212   1.518  -1.323  1.00  0.00       B   H  \\nENDMDL\\n\",\"pdb\",{\"keepH\": \"true\"});\n\tviewergrid_16637679952804685[0][0].setStyle({\"model\": -1},{\"line\": {\"color\": \"black\"}});\n\tviewergrid_16637679952804685[0][0].addModelsAsFrames(\"MODEL 0\\nHETATM    1 O    WAT A   0       5.360   1.323   3.969  1.00  0.00       B   O  \\nHETATM    2 H    WAT A   0       4.773   2.080   3.969  1.00  0.00       B   H  \\nHETATM    3 H    WAT A   0       4.773   0.566   3.969  1.00  0.00       B   H  \\nHETATM    4 O    WAT A   1       4.969   0.932  -1.323  1.00  0.00       B   O  \\nHETATM    5 H    WAT A   1       5.726   1.518  -1.323  1.00  0.00       B   H  \\nHETATM    6 H    WAT A   1       4.212   1.518  -1.323  1.00  0.00       B   H  \\nENDMDL\\n\",\"pdb\",{\"keepH\": \"true\"});\n\tviewergrid_16637679952804685[0][0].setStyle({\"model\": -1, \"serial\": 4},{\"sphere\": {\"scale\": 0.2, \"color\": \"#FF0000\"}});\n\tviewergrid_16637679952804685[0][0].addModelsAsFrames(\"MODEL 0\\nHETATM    1 O    WAT A   0       5.360   1.323   3.969  1.00  0.00       B   O  \\nHETATM    2 H    WAT A   0       4.773   2.080   3.969  1.00  0.00       B   H  \\nHETATM    3 H    WAT A   0       4.773   0.566   3.969  1.00  0.00       B   H  \\nHETATM    4 O    WAT A   1       4.969   0.932  -1.323  1.00  0.00       B   O  \\nHETATM    5 H    WAT A   1       5.726   1.518  -1.323  1.00  0.00       B   H  \\nHETATM    6 H    WAT A   1       4.212   1.518  -1.323  1.00  0.00       B   H  \\nENDMDL\\n\",\"pdb\",{\"keepH\": \"true\"});\n\tviewergrid_16637679952804685[0][0].setStyle({\"model\": -1, \"serial\": 5},{\"sphere\": {\"scale\": 0.2, \"color\": \"#FF0000\"}});\n\tviewergrid_16637679952804685[0][0].addModelsAsFrames(\"MODEL 0\\nHETATM    1 O    WAT A   0       5.360   1.323   3.969  1.00  0.00       B   O  \\nHETATM    2 H    WAT A   0       4.773   2.080   3.969  1.00  0.00       B   H  \\nHETATM    3 H    WAT A   0       4.773   0.566   3.969  1.00  0.00       B   H  \\nHETATM    4 O    WAT A   1       4.969   0.932  -1.323  1.00  0.00       B   O  \\nHETATM    5 H    WAT A   1       5.726   1.518  -1.323  1.00  0.00       B   H  \\nHETATM    6 H    WAT A   1       4.212   1.518  -1.323  1.00  0.00       B   H  \\nENDMDL\\n\",\"pdb\",{\"keepH\": \"true\"});\n\tviewergrid_16637679952804685[0][0].setStyle({\"model\": -1, \"serial\": 6},{\"sphere\": {\"scale\": 0.2, \"color\": \"#FF0000\"}});\n\tviewergrid_16637679952804685[0][0].addUnitCell({\"model\": -1},{\"box\": {\"color\": \"black\"}, \"alabel\": \"\", \"blabel\": \"\", \"clabel\": \"\"});\n\tviewergrid_16637679952804685[0][0].zoomTo();\nviewergrid_16637679952804685[0][0].render();\n});\n</script>",
            "text/html": [
              "<div id=\"3dmolviewer_16637679952804685\"  style=\"position: relative; width: 400px; height: 300px\">\n",
              "        <p id=\"3dmolwarning_16637679952804685\" style=\"background-color:#ffcccc;color:black\">You appear to be running in JupyterLab (or JavaScript failed to load for some other reason).  You need to install the 3dmol extension: <br>\n",
              "        <tt>jupyter labextension install jupyterlab_3dmol</tt></p>\n",
              "        </div>\n",
              "<script>\n",
              "\n",
              "var loadScriptAsync = function(uri){\n",
              "  return new Promise((resolve, reject) => {\n",
              "    var tag = document.createElement('script');\n",
              "    tag.src = uri;\n",
              "    tag.async = true;\n",
              "    tag.onload = () => {\n",
              "      resolve();\n",
              "    };\n",
              "  var firstScriptTag = document.getElementsByTagName('script')[0];\n",
              "  firstScriptTag.parentNode.insertBefore(tag, firstScriptTag);\n",
              "});\n",
              "};\n",
              "\n",
              "if(typeof $3Dmolpromise === 'undefined') {\n",
              "$3Dmolpromise = null;\n",
              "  $3Dmolpromise = loadScriptAsync('https://cdn.jsdelivr.net/npm/3dmol@latest/build/3Dmol-min.min.js');\n",
              "}\n",
              "\n",
              "var viewer_16637679952804685 = null;\n",
              "var warn = document.getElementById(\"3dmolwarning_16637679952804685\");\n",
              "if(warn) {\n",
              "    warn.parentNode.removeChild(warn);\n",
              "}\n",
              "$3Dmolpromise.then(function() {\n",
              "var viewergrid_16637679952804685 = null;\n",
              "viewergrid_16637679952804685 = $3Dmol.createViewerGrid($(\"#3dmolviewer_16637679952804685\"),{rows: 1, cols: 1, control_all: false},{backgroundColor:\"white\"});\n",
              "viewer_16637679952804685 = viewergrid_16637679952804685[0][0];\n",
              "viewergrid_16637679952804685[0][0].zoomTo();\tviewergrid_16637679952804685[0][0].addModelsAsFrames(\"MODEL 0\\nHETATM    1 O    WAT A   0       5.360   1.323   3.969  1.00  0.00       B   O  \\nHETATM    2 H    WAT A   0       4.773   2.080   3.969  1.00  0.00       B   H  \\nHETATM    3 H    WAT A   0       4.773   0.566   3.969  1.00  0.00       B   H  \\nHETATM    4 O    WAT A   1       4.969   0.932  -1.323  1.00  0.00       B   O  \\nHETATM    5 H    WAT A   1       5.726   1.518  -1.323  1.00  0.00       B   H  \\nHETATM    6 H    WAT A   1       4.212   1.518  -1.323  1.00  0.00       B   H  \\nENDMDL\\n\",\"pdb\",{\"keepH\": \"true\"});\n",
              "\tviewergrid_16637679952804685[0][0].setStyle({\"model\": -1},{\"line\": {\"color\": \"black\"}});\n",
              "\tviewergrid_16637679952804685[0][0].addModelsAsFrames(\"MODEL 0\\nHETATM    1 O    WAT A   0       5.360   1.323   3.969  1.00  0.00       B   O  \\nHETATM    2 H    WAT A   0       4.773   2.080   3.969  1.00  0.00       B   H  \\nHETATM    3 H    WAT A   0       4.773   0.566   3.969  1.00  0.00       B   H  \\nHETATM    4 O    WAT A   1       4.969   0.932  -1.323  1.00  0.00       B   O  \\nHETATM    5 H    WAT A   1       5.726   1.518  -1.323  1.00  0.00       B   H  \\nHETATM    6 H    WAT A   1       4.212   1.518  -1.323  1.00  0.00       B   H  \\nENDMDL\\n\",\"pdb\",{\"keepH\": \"true\"});\n",
              "\tviewergrid_16637679952804685[0][0].setStyle({\"model\": -1, \"serial\": 1},{\"sphere\": {\"scale\": 0.2, \"color\": \"#7F00FF\"}});\n",
              "\tviewergrid_16637679952804685[0][0].addModelsAsFrames(\"MODEL 0\\nHETATM    1 O    WAT A   0       5.360   1.323   3.969  1.00  0.00       B   O  \\nHETATM    2 H    WAT A   0       4.773   2.080   3.969  1.00  0.00       B   H  \\nHETATM    3 H    WAT A   0       4.773   0.566   3.969  1.00  0.00       B   H  \\nHETATM    4 O    WAT A   1       4.969   0.932  -1.323  1.00  0.00       B   O  \\nHETATM    5 H    WAT A   1       5.726   1.518  -1.323  1.00  0.00       B   H  \\nHETATM    6 H    WAT A   1       4.212   1.518  -1.323  1.00  0.00       B   H  \\nENDMDL\\n\",\"pdb\",{\"keepH\": \"true\"});\n",
              "\tviewergrid_16637679952804685[0][0].setStyle({\"model\": -1, \"serial\": 2},{\"sphere\": {\"scale\": 0.2, \"color\": \"#7F00FF\"}});\n",
              "\tviewergrid_16637679952804685[0][0].addModelsAsFrames(\"MODEL 0\\nHETATM    1 O    WAT A   0       5.360   1.323   3.969  1.00  0.00       B   O  \\nHETATM    2 H    WAT A   0       4.773   2.080   3.969  1.00  0.00       B   H  \\nHETATM    3 H    WAT A   0       4.773   0.566   3.969  1.00  0.00       B   H  \\nHETATM    4 O    WAT A   1       4.969   0.932  -1.323  1.00  0.00       B   O  \\nHETATM    5 H    WAT A   1       5.726   1.518  -1.323  1.00  0.00       B   H  \\nHETATM    6 H    WAT A   1       4.212   1.518  -1.323  1.00  0.00       B   H  \\nENDMDL\\n\",\"pdb\",{\"keepH\": \"true\"});\n",
              "\tviewergrid_16637679952804685[0][0].setStyle({\"model\": -1, \"serial\": 3},{\"sphere\": {\"scale\": 0.2, \"color\": \"#7F00FF\"}});\n",
              "\tviewergrid_16637679952804685[0][0].addModelsAsFrames(\"MODEL 0\\nHETATM    1 O    WAT A   0       5.360   1.323   3.969  1.00  0.00       B   O  \\nHETATM    2 H    WAT A   0       4.773   2.080   3.969  1.00  0.00       B   H  \\nHETATM    3 H    WAT A   0       4.773   0.566   3.969  1.00  0.00       B   H  \\nHETATM    4 O    WAT A   1       4.969   0.932  -1.323  1.00  0.00       B   O  \\nHETATM    5 H    WAT A   1       5.726   1.518  -1.323  1.00  0.00       B   H  \\nHETATM    6 H    WAT A   1       4.212   1.518  -1.323  1.00  0.00       B   H  \\nENDMDL\\n\",\"pdb\",{\"keepH\": \"true\"});\n",
              "\tviewergrid_16637679952804685[0][0].setStyle({\"model\": -1},{\"line\": {\"color\": \"black\"}});\n",
              "\tviewergrid_16637679952804685[0][0].addModelsAsFrames(\"MODEL 0\\nHETATM    1 O    WAT A   0       5.360   1.323   3.969  1.00  0.00       B   O  \\nHETATM    2 H    WAT A   0       4.773   2.080   3.969  1.00  0.00       B   H  \\nHETATM    3 H    WAT A   0       4.773   0.566   3.969  1.00  0.00       B   H  \\nHETATM    4 O    WAT A   1       4.969   0.932  -1.323  1.00  0.00       B   O  \\nHETATM    5 H    WAT A   1       5.726   1.518  -1.323  1.00  0.00       B   H  \\nHETATM    6 H    WAT A   1       4.212   1.518  -1.323  1.00  0.00       B   H  \\nENDMDL\\n\",\"pdb\",{\"keepH\": \"true\"});\n",
              "\tviewergrid_16637679952804685[0][0].setStyle({\"model\": -1, \"serial\": 4},{\"sphere\": {\"scale\": 0.2, \"color\": \"#FF0000\"}});\n",
              "\tviewergrid_16637679952804685[0][0].addModelsAsFrames(\"MODEL 0\\nHETATM    1 O    WAT A   0       5.360   1.323   3.969  1.00  0.00       B   O  \\nHETATM    2 H    WAT A   0       4.773   2.080   3.969  1.00  0.00       B   H  \\nHETATM    3 H    WAT A   0       4.773   0.566   3.969  1.00  0.00       B   H  \\nHETATM    4 O    WAT A   1       4.969   0.932  -1.323  1.00  0.00       B   O  \\nHETATM    5 H    WAT A   1       5.726   1.518  -1.323  1.00  0.00       B   H  \\nHETATM    6 H    WAT A   1       4.212   1.518  -1.323  1.00  0.00       B   H  \\nENDMDL\\n\",\"pdb\",{\"keepH\": \"true\"});\n",
              "\tviewergrid_16637679952804685[0][0].setStyle({\"model\": -1, \"serial\": 5},{\"sphere\": {\"scale\": 0.2, \"color\": \"#FF0000\"}});\n",
              "\tviewergrid_16637679952804685[0][0].addModelsAsFrames(\"MODEL 0\\nHETATM    1 O    WAT A   0       5.360   1.323   3.969  1.00  0.00       B   O  \\nHETATM    2 H    WAT A   0       4.773   2.080   3.969  1.00  0.00       B   H  \\nHETATM    3 H    WAT A   0       4.773   0.566   3.969  1.00  0.00       B   H  \\nHETATM    4 O    WAT A   1       4.969   0.932  -1.323  1.00  0.00       B   O  \\nHETATM    5 H    WAT A   1       5.726   1.518  -1.323  1.00  0.00       B   H  \\nHETATM    6 H    WAT A   1       4.212   1.518  -1.323  1.00  0.00       B   H  \\nENDMDL\\n\",\"pdb\",{\"keepH\": \"true\"});\n",
              "\tviewergrid_16637679952804685[0][0].setStyle({\"model\": -1, \"serial\": 6},{\"sphere\": {\"scale\": 0.2, \"color\": \"#FF0000\"}});\n",
              "\tviewergrid_16637679952804685[0][0].addUnitCell({\"model\": -1},{\"box\": {\"color\": \"black\"}, \"alabel\": \"\", \"blabel\": \"\", \"clabel\": \"\"});\n",
              "\tviewergrid_16637679952804685[0][0].zoomTo();\n",
              "viewergrid_16637679952804685[0][0].render();\n",
              "});\n",
              "</script>"
            ]
          },
          "metadata": {}
        }
      ],
      "source": [
        "_ = sep.display()"
      ]
    },
    {
      "cell_type": "code",
      "execution_count": 25,
      "id": "clinical-profession",
      "metadata": {
        "id": "clinical-profession",
        "outputId": "6041da9f-8d82-4f57-d435-743542152a62",
        "colab": {
          "base_uri": "https://localhost:8080/",
          "height": 317
        }
      },
      "outputs": [
        {
          "output_type": "display_data",
          "data": {
            "application/3dmoljs_load.v0": "<div id=\"3dmolviewer_16637679967291334\"  style=\"position: relative; width: 400px; height: 300px\">\n        <p id=\"3dmolwarning_16637679967291334\" style=\"background-color:#ffcccc;color:black\">You appear to be running in JupyterLab (or JavaScript failed to load for some other reason).  You need to install the 3dmol extension: <br>\n        <tt>jupyter labextension install jupyterlab_3dmol</tt></p>\n        </div>\n<script>\n\nvar loadScriptAsync = function(uri){\n  return new Promise((resolve, reject) => {\n    var tag = document.createElement('script');\n    tag.src = uri;\n    tag.async = true;\n    tag.onload = () => {\n      resolve();\n    };\n  var firstScriptTag = document.getElementsByTagName('script')[0];\n  firstScriptTag.parentNode.insertBefore(tag, firstScriptTag);\n});\n};\n\nif(typeof $3Dmolpromise === 'undefined') {\n$3Dmolpromise = null;\n  $3Dmolpromise = loadScriptAsync('https://cdn.jsdelivr.net/npm/3dmol@latest/build/3Dmol-min.min.js');\n}\n\nvar viewer_16637679967291334 = null;\nvar warn = document.getElementById(\"3dmolwarning_16637679967291334\");\nif(warn) {\n    warn.parentNode.removeChild(warn);\n}\n$3Dmolpromise.then(function() {\nvar viewergrid_16637679967291334 = null;\nviewergrid_16637679967291334 = $3Dmol.createViewerGrid($(\"#3dmolviewer_16637679967291334\"),{rows: 1, cols: 1, control_all: false},{backgroundColor:\"white\"});\nviewer_16637679967291334 = viewergrid_16637679967291334[0][0];\nviewergrid_16637679967291334[0][0].zoomTo();\tviewergrid_16637679967291334[0][0].addModelsAsFrames(\"MODEL 0\\nHETATM    1 O    COM A   0       5.360   1.323   3.969  1.00  0.00       B   O  \\nHETATM    2 H    COM A   0       4.773   2.080   3.969  1.00  0.00       B   H  \\nHETATM    3 H    COM A   0       4.773   0.566   3.969  1.00  0.00       B   H  \\nHETATM    4 O    COM A   0       4.969   0.932  -1.323  1.00  0.00       B   O  \\nHETATM    5 H    COM A   0       5.726   1.518  -1.323  1.00  0.00       B   H  \\nHETATM    6 H    COM A   0       4.212   1.518  -1.323  1.00  0.00       B   H  \\nENDMDL\\n\",\"pdb\",{\"keepH\": \"true\"});\n\tviewergrid_16637679967291334[0][0].setStyle({\"model\": -1},{\"line\": {\"color\": \"black\"}});\n\tviewergrid_16637679967291334[0][0].addModelsAsFrames(\"MODEL 0\\nHETATM    1 O    COM A   0       5.360   1.323   3.969  1.00  0.00       B   O  \\nHETATM    2 H    COM A   0       4.773   2.080   3.969  1.00  0.00       B   H  \\nHETATM    3 H    COM A   0       4.773   0.566   3.969  1.00  0.00       B   H  \\nHETATM    4 O    COM A   0       4.969   0.932  -1.323  1.00  0.00       B   O  \\nHETATM    5 H    COM A   0       5.726   1.518  -1.323  1.00  0.00       B   H  \\nHETATM    6 H    COM A   0       4.212   1.518  -1.323  1.00  0.00       B   H  \\nENDMDL\\n\",\"pdb\",{\"keepH\": \"true\"});\n\tviewergrid_16637679967291334[0][0].setStyle({\"model\": -1, \"serial\": 1},{\"sphere\": {\"scale\": 0.2, \"color\": \"#7F00FF\"}});\n\tviewergrid_16637679967291334[0][0].addModelsAsFrames(\"MODEL 0\\nHETATM    1 O    COM A   0       5.360   1.323   3.969  1.00  0.00       B   O  \\nHETATM    2 H    COM A   0       4.773   2.080   3.969  1.00  0.00       B   H  \\nHETATM    3 H    COM A   0       4.773   0.566   3.969  1.00  0.00       B   H  \\nHETATM    4 O    COM A   0       4.969   0.932  -1.323  1.00  0.00       B   O  \\nHETATM    5 H    COM A   0       5.726   1.518  -1.323  1.00  0.00       B   H  \\nHETATM    6 H    COM A   0       4.212   1.518  -1.323  1.00  0.00       B   H  \\nENDMDL\\n\",\"pdb\",{\"keepH\": \"true\"});\n\tviewergrid_16637679967291334[0][0].setStyle({\"model\": -1, \"serial\": 2},{\"sphere\": {\"scale\": 0.2, \"color\": \"#7F00FF\"}});\n\tviewergrid_16637679967291334[0][0].addModelsAsFrames(\"MODEL 0\\nHETATM    1 O    COM A   0       5.360   1.323   3.969  1.00  0.00       B   O  \\nHETATM    2 H    COM A   0       4.773   2.080   3.969  1.00  0.00       B   H  \\nHETATM    3 H    COM A   0       4.773   0.566   3.969  1.00  0.00       B   H  \\nHETATM    4 O    COM A   0       4.969   0.932  -1.323  1.00  0.00       B   O  \\nHETATM    5 H    COM A   0       5.726   1.518  -1.323  1.00  0.00       B   H  \\nHETATM    6 H    COM A   0       4.212   1.518  -1.323  1.00  0.00       B   H  \\nENDMDL\\n\",\"pdb\",{\"keepH\": \"true\"});\n\tviewergrid_16637679967291334[0][0].setStyle({\"model\": -1, \"serial\": 3},{\"sphere\": {\"scale\": 0.2, \"color\": \"#7F00FF\"}});\n\tviewergrid_16637679967291334[0][0].addModelsAsFrames(\"MODEL 0\\nHETATM    1 O    COM A   0       5.360   1.323   3.969  1.00  0.00       B   O  \\nHETATM    2 H    COM A   0       4.773   2.080   3.969  1.00  0.00       B   H  \\nHETATM    3 H    COM A   0       4.773   0.566   3.969  1.00  0.00       B   H  \\nHETATM    4 O    COM A   0       4.969   0.932  -1.323  1.00  0.00       B   O  \\nHETATM    5 H    COM A   0       5.726   1.518  -1.323  1.00  0.00       B   H  \\nHETATM    6 H    COM A   0       4.212   1.518  -1.323  1.00  0.00       B   H  \\nENDMDL\\n\",\"pdb\",{\"keepH\": \"true\"});\n\tviewergrid_16637679967291334[0][0].setStyle({\"model\": -1, \"serial\": 4},{\"sphere\": {\"scale\": 0.2, \"color\": \"#7F00FF\"}});\n\tviewergrid_16637679967291334[0][0].addModelsAsFrames(\"MODEL 0\\nHETATM    1 O    COM A   0       5.360   1.323   3.969  1.00  0.00       B   O  \\nHETATM    2 H    COM A   0       4.773   2.080   3.969  1.00  0.00       B   H  \\nHETATM    3 H    COM A   0       4.773   0.566   3.969  1.00  0.00       B   H  \\nHETATM    4 O    COM A   0       4.969   0.932  -1.323  1.00  0.00       B   O  \\nHETATM    5 H    COM A   0       5.726   1.518  -1.323  1.00  0.00       B   H  \\nHETATM    6 H    COM A   0       4.212   1.518  -1.323  1.00  0.00       B   H  \\nENDMDL\\n\",\"pdb\",{\"keepH\": \"true\"});\n\tviewergrid_16637679967291334[0][0].setStyle({\"model\": -1, \"serial\": 5},{\"sphere\": {\"scale\": 0.2, \"color\": \"#7F00FF\"}});\n\tviewergrid_16637679967291334[0][0].addModelsAsFrames(\"MODEL 0\\nHETATM    1 O    COM A   0       5.360   1.323   3.969  1.00  0.00       B   O  \\nHETATM    2 H    COM A   0       4.773   2.080   3.969  1.00  0.00       B   H  \\nHETATM    3 H    COM A   0       4.773   0.566   3.969  1.00  0.00       B   H  \\nHETATM    4 O    COM A   0       4.969   0.932  -1.323  1.00  0.00       B   O  \\nHETATM    5 H    COM A   0       5.726   1.518  -1.323  1.00  0.00       B   H  \\nHETATM    6 H    COM A   0       4.212   1.518  -1.323  1.00  0.00       B   H  \\nENDMDL\\n\",\"pdb\",{\"keepH\": \"true\"});\n\tviewergrid_16637679967291334[0][0].setStyle({\"model\": -1, \"serial\": 6},{\"sphere\": {\"scale\": 0.2, \"color\": \"#7F00FF\"}});\n\tviewergrid_16637679967291334[0][0].addUnitCell({\"model\": -1},{\"box\": {\"color\": \"black\"}, \"alabel\": \"\", \"blabel\": \"\", \"clabel\": \"\"});\n\tviewergrid_16637679967291334[0][0].zoomTo();\nviewergrid_16637679967291334[0][0].render();\n});\n</script>",
            "text/html": [
              "<div id=\"3dmolviewer_16637679967291334\"  style=\"position: relative; width: 400px; height: 300px\">\n",
              "        <p id=\"3dmolwarning_16637679967291334\" style=\"background-color:#ffcccc;color:black\">You appear to be running in JupyterLab (or JavaScript failed to load for some other reason).  You need to install the 3dmol extension: <br>\n",
              "        <tt>jupyter labextension install jupyterlab_3dmol</tt></p>\n",
              "        </div>\n",
              "<script>\n",
              "\n",
              "var loadScriptAsync = function(uri){\n",
              "  return new Promise((resolve, reject) => {\n",
              "    var tag = document.createElement('script');\n",
              "    tag.src = uri;\n",
              "    tag.async = true;\n",
              "    tag.onload = () => {\n",
              "      resolve();\n",
              "    };\n",
              "  var firstScriptTag = document.getElementsByTagName('script')[0];\n",
              "  firstScriptTag.parentNode.insertBefore(tag, firstScriptTag);\n",
              "});\n",
              "};\n",
              "\n",
              "if(typeof $3Dmolpromise === 'undefined') {\n",
              "$3Dmolpromise = null;\n",
              "  $3Dmolpromise = loadScriptAsync('https://cdn.jsdelivr.net/npm/3dmol@latest/build/3Dmol-min.min.js');\n",
              "}\n",
              "\n",
              "var viewer_16637679967291334 = null;\n",
              "var warn = document.getElementById(\"3dmolwarning_16637679967291334\");\n",
              "if(warn) {\n",
              "    warn.parentNode.removeChild(warn);\n",
              "}\n",
              "$3Dmolpromise.then(function() {\n",
              "var viewergrid_16637679967291334 = null;\n",
              "viewergrid_16637679967291334 = $3Dmol.createViewerGrid($(\"#3dmolviewer_16637679967291334\"),{rows: 1, cols: 1, control_all: false},{backgroundColor:\"white\"});\n",
              "viewer_16637679967291334 = viewergrid_16637679967291334[0][0];\n",
              "viewergrid_16637679967291334[0][0].zoomTo();\tviewergrid_16637679967291334[0][0].addModelsAsFrames(\"MODEL 0\\nHETATM    1 O    COM A   0       5.360   1.323   3.969  1.00  0.00       B   O  \\nHETATM    2 H    COM A   0       4.773   2.080   3.969  1.00  0.00       B   H  \\nHETATM    3 H    COM A   0       4.773   0.566   3.969  1.00  0.00       B   H  \\nHETATM    4 O    COM A   0       4.969   0.932  -1.323  1.00  0.00       B   O  \\nHETATM    5 H    COM A   0       5.726   1.518  -1.323  1.00  0.00       B   H  \\nHETATM    6 H    COM A   0       4.212   1.518  -1.323  1.00  0.00       B   H  \\nENDMDL\\n\",\"pdb\",{\"keepH\": \"true\"});\n",
              "\tviewergrid_16637679967291334[0][0].setStyle({\"model\": -1},{\"line\": {\"color\": \"black\"}});\n",
              "\tviewergrid_16637679967291334[0][0].addModelsAsFrames(\"MODEL 0\\nHETATM    1 O    COM A   0       5.360   1.323   3.969  1.00  0.00       B   O  \\nHETATM    2 H    COM A   0       4.773   2.080   3.969  1.00  0.00       B   H  \\nHETATM    3 H    COM A   0       4.773   0.566   3.969  1.00  0.00       B   H  \\nHETATM    4 O    COM A   0       4.969   0.932  -1.323  1.00  0.00       B   O  \\nHETATM    5 H    COM A   0       5.726   1.518  -1.323  1.00  0.00       B   H  \\nHETATM    6 H    COM A   0       4.212   1.518  -1.323  1.00  0.00       B   H  \\nENDMDL\\n\",\"pdb\",{\"keepH\": \"true\"});\n",
              "\tviewergrid_16637679967291334[0][0].setStyle({\"model\": -1, \"serial\": 1},{\"sphere\": {\"scale\": 0.2, \"color\": \"#7F00FF\"}});\n",
              "\tviewergrid_16637679967291334[0][0].addModelsAsFrames(\"MODEL 0\\nHETATM    1 O    COM A   0       5.360   1.323   3.969  1.00  0.00       B   O  \\nHETATM    2 H    COM A   0       4.773   2.080   3.969  1.00  0.00       B   H  \\nHETATM    3 H    COM A   0       4.773   0.566   3.969  1.00  0.00       B   H  \\nHETATM    4 O    COM A   0       4.969   0.932  -1.323  1.00  0.00       B   O  \\nHETATM    5 H    COM A   0       5.726   1.518  -1.323  1.00  0.00       B   H  \\nHETATM    6 H    COM A   0       4.212   1.518  -1.323  1.00  0.00       B   H  \\nENDMDL\\n\",\"pdb\",{\"keepH\": \"true\"});\n",
              "\tviewergrid_16637679967291334[0][0].setStyle({\"model\": -1, \"serial\": 2},{\"sphere\": {\"scale\": 0.2, \"color\": \"#7F00FF\"}});\n",
              "\tviewergrid_16637679967291334[0][0].addModelsAsFrames(\"MODEL 0\\nHETATM    1 O    COM A   0       5.360   1.323   3.969  1.00  0.00       B   O  \\nHETATM    2 H    COM A   0       4.773   2.080   3.969  1.00  0.00       B   H  \\nHETATM    3 H    COM A   0       4.773   0.566   3.969  1.00  0.00       B   H  \\nHETATM    4 O    COM A   0       4.969   0.932  -1.323  1.00  0.00       B   O  \\nHETATM    5 H    COM A   0       5.726   1.518  -1.323  1.00  0.00       B   H  \\nHETATM    6 H    COM A   0       4.212   1.518  -1.323  1.00  0.00       B   H  \\nENDMDL\\n\",\"pdb\",{\"keepH\": \"true\"});\n",
              "\tviewergrid_16637679967291334[0][0].setStyle({\"model\": -1, \"serial\": 3},{\"sphere\": {\"scale\": 0.2, \"color\": \"#7F00FF\"}});\n",
              "\tviewergrid_16637679967291334[0][0].addModelsAsFrames(\"MODEL 0\\nHETATM    1 O    COM A   0       5.360   1.323   3.969  1.00  0.00       B   O  \\nHETATM    2 H    COM A   0       4.773   2.080   3.969  1.00  0.00       B   H  \\nHETATM    3 H    COM A   0       4.773   0.566   3.969  1.00  0.00       B   H  \\nHETATM    4 O    COM A   0       4.969   0.932  -1.323  1.00  0.00       B   O  \\nHETATM    5 H    COM A   0       5.726   1.518  -1.323  1.00  0.00       B   H  \\nHETATM    6 H    COM A   0       4.212   1.518  -1.323  1.00  0.00       B   H  \\nENDMDL\\n\",\"pdb\",{\"keepH\": \"true\"});\n",
              "\tviewergrid_16637679967291334[0][0].setStyle({\"model\": -1, \"serial\": 4},{\"sphere\": {\"scale\": 0.2, \"color\": \"#7F00FF\"}});\n",
              "\tviewergrid_16637679967291334[0][0].addModelsAsFrames(\"MODEL 0\\nHETATM    1 O    COM A   0       5.360   1.323   3.969  1.00  0.00       B   O  \\nHETATM    2 H    COM A   0       4.773   2.080   3.969  1.00  0.00       B   H  \\nHETATM    3 H    COM A   0       4.773   0.566   3.969  1.00  0.00       B   H  \\nHETATM    4 O    COM A   0       4.969   0.932  -1.323  1.00  0.00       B   O  \\nHETATM    5 H    COM A   0       5.726   1.518  -1.323  1.00  0.00       B   H  \\nHETATM    6 H    COM A   0       4.212   1.518  -1.323  1.00  0.00       B   H  \\nENDMDL\\n\",\"pdb\",{\"keepH\": \"true\"});\n",
              "\tviewergrid_16637679967291334[0][0].setStyle({\"model\": -1, \"serial\": 5},{\"sphere\": {\"scale\": 0.2, \"color\": \"#7F00FF\"}});\n",
              "\tviewergrid_16637679967291334[0][0].addModelsAsFrames(\"MODEL 0\\nHETATM    1 O    COM A   0       5.360   1.323   3.969  1.00  0.00       B   O  \\nHETATM    2 H    COM A   0       4.773   2.080   3.969  1.00  0.00       B   H  \\nHETATM    3 H    COM A   0       4.773   0.566   3.969  1.00  0.00       B   H  \\nHETATM    4 O    COM A   0       4.969   0.932  -1.323  1.00  0.00       B   O  \\nHETATM    5 H    COM A   0       5.726   1.518  -1.323  1.00  0.00       B   H  \\nHETATM    6 H    COM A   0       4.212   1.518  -1.323  1.00  0.00       B   H  \\nENDMDL\\n\",\"pdb\",{\"keepH\": \"true\"});\n",
              "\tviewergrid_16637679967291334[0][0].setStyle({\"model\": -1, \"serial\": 6},{\"sphere\": {\"scale\": 0.2, \"color\": \"#7F00FF\"}});\n",
              "\tviewergrid_16637679967291334[0][0].addUnitCell({\"model\": -1},{\"box\": {\"color\": \"black\"}, \"alabel\": \"\", \"blabel\": \"\", \"clabel\": \"\"});\n",
              "\tviewergrid_16637679967291334[0][0].zoomTo();\n",
              "viewergrid_16637679967291334[0][0].render();\n",
              "});\n",
              "</script>"
            ]
          },
          "metadata": {}
        }
      ],
      "source": [
        "_  = joint.display()"
      ]
    },
    {
      "cell_type": "markdown",
      "id": "curious-acrobat",
      "metadata": {
        "id": "curious-acrobat"
      },
      "source": [
        "## Extended Systems\n",
        "For extended systems, the extra ingredient required is a `UnitCell`. "
      ]
    },
    {
      "cell_type": "code",
      "execution_count": 26,
      "id": "proved-dining",
      "metadata": {
        "id": "proved-dining"
      },
      "outputs": [],
      "source": [
        "from BigDFT.UnitCells import UnitCell\n",
        "sys.cell = UnitCell([7.0, 7.0, 7.0], units=\"angstroem\")"
      ]
    },
    {
      "cell_type": "code",
      "execution_count": 27,
      "id": "super-amount",
      "metadata": {
        "id": "super-amount",
        "outputId": "bd925091-effd-4792-a47d-8188ea1342a6",
        "colab": {
          "base_uri": "https://localhost:8080/",
          "height": 317
        }
      },
      "outputs": [
        {
          "output_type": "display_data",
          "data": {
            "application/3dmoljs_load.v0": "<div id=\"3dmolviewer_16637680036846046\"  style=\"position: relative; width: 400px; height: 300px\">\n        <p id=\"3dmolwarning_16637680036846046\" style=\"background-color:#ffcccc;color:black\">You appear to be running in JupyterLab (or JavaScript failed to load for some other reason).  You need to install the 3dmol extension: <br>\n        <tt>jupyter labextension install jupyterlab_3dmol</tt></p>\n        </div>\n<script>\n\nvar loadScriptAsync = function(uri){\n  return new Promise((resolve, reject) => {\n    var tag = document.createElement('script');\n    tag.src = uri;\n    tag.async = true;\n    tag.onload = () => {\n      resolve();\n    };\n  var firstScriptTag = document.getElementsByTagName('script')[0];\n  firstScriptTag.parentNode.insertBefore(tag, firstScriptTag);\n});\n};\n\nif(typeof $3Dmolpromise === 'undefined') {\n$3Dmolpromise = null;\n  $3Dmolpromise = loadScriptAsync('https://cdn.jsdelivr.net/npm/3dmol@latest/build/3Dmol-min.min.js');\n}\n\nvar viewer_16637680036846046 = null;\nvar warn = document.getElementById(\"3dmolwarning_16637680036846046\");\nif(warn) {\n    warn.parentNode.removeChild(warn);\n}\n$3Dmolpromise.then(function() {\nvar viewergrid_16637680036846046 = null;\nviewergrid_16637680036846046 = $3Dmol.createViewerGrid($(\"#3dmolviewer_16637680036846046\"),{rows: 1, cols: 1, control_all: false},{backgroundColor:\"white\"});\nviewer_16637680036846046 = viewergrid_16637680036846046[0][0];\nviewergrid_16637680036846046[0][0].zoomTo();\tviewergrid_16637680036846046[0][0].addModelsAsFrames(\"MODEL 0\\nCRYST1    7.000    7.000    7.000     90     90     90                          \\nHETATM    1 O    WAT A   0       2.323   1.323   1.714  1.00  0.00       B   O  \\nHETATM    2 H    WAT A   0       2.323   2.080   1.127  1.00  0.00       B   H  \\nHETATM    3 H    WAT A   0       2.323   0.566   1.127  1.00  0.00       B   H  \\nHETATM    4 O    WAT A   1       0.615   0.932   1.323  1.00  0.00       B   O  \\nHETATM    5 H    WAT A   1       0.615   1.518   2.080  1.00  0.00       B   H  \\nHETATM    6 H    WAT A   1       0.615   1.518   0.566  1.00  0.00       B   H  \\nENDMDL\\n\",\"pdb\",{\"keepH\": \"true\"});\n\tviewergrid_16637680036846046[0][0].setStyle({\"model\": -1},{\"line\": {\"color\": \"black\"}});\n\tviewergrid_16637680036846046[0][0].addModelsAsFrames(\"MODEL 0\\nCRYST1    7.000    7.000    7.000     90     90     90                          \\nHETATM    1 O    WAT A   0       2.323   1.323   1.714  1.00  0.00       B   O  \\nHETATM    2 H    WAT A   0       2.323   2.080   1.127  1.00  0.00       B   H  \\nHETATM    3 H    WAT A   0       2.323   0.566   1.127  1.00  0.00       B   H  \\nHETATM    4 O    WAT A   1       0.615   0.932   1.323  1.00  0.00       B   O  \\nHETATM    5 H    WAT A   1       0.615   1.518   2.080  1.00  0.00       B   H  \\nHETATM    6 H    WAT A   1       0.615   1.518   0.566  1.00  0.00       B   H  \\nENDMDL\\n\",\"pdb\",{\"keepH\": \"true\"});\n\tviewergrid_16637680036846046[0][0].setStyle({\"model\": -1, \"serial\": 1},{\"sphere\": {\"scale\": 0.2, \"color\": \"#7F00FF\"}});\n\tviewergrid_16637680036846046[0][0].addModelsAsFrames(\"MODEL 0\\nCRYST1    7.000    7.000    7.000     90     90     90                          \\nHETATM    1 O    WAT A   0       2.323   1.323   1.714  1.00  0.00       B   O  \\nHETATM    2 H    WAT A   0       2.323   2.080   1.127  1.00  0.00       B   H  \\nHETATM    3 H    WAT A   0       2.323   0.566   1.127  1.00  0.00       B   H  \\nHETATM    4 O    WAT A   1       0.615   0.932   1.323  1.00  0.00       B   O  \\nHETATM    5 H    WAT A   1       0.615   1.518   2.080  1.00  0.00       B   H  \\nHETATM    6 H    WAT A   1       0.615   1.518   0.566  1.00  0.00       B   H  \\nENDMDL\\n\",\"pdb\",{\"keepH\": \"true\"});\n\tviewergrid_16637680036846046[0][0].setStyle({\"model\": -1, \"serial\": 2},{\"sphere\": {\"scale\": 0.2, \"color\": \"#7F00FF\"}});\n\tviewergrid_16637680036846046[0][0].addModelsAsFrames(\"MODEL 0\\nCRYST1    7.000    7.000    7.000     90     90     90                          \\nHETATM    1 O    WAT A   0       2.323   1.323   1.714  1.00  0.00       B   O  \\nHETATM    2 H    WAT A   0       2.323   2.080   1.127  1.00  0.00       B   H  \\nHETATM    3 H    WAT A   0       2.323   0.566   1.127  1.00  0.00       B   H  \\nHETATM    4 O    WAT A   1       0.615   0.932   1.323  1.00  0.00       B   O  \\nHETATM    5 H    WAT A   1       0.615   1.518   2.080  1.00  0.00       B   H  \\nHETATM    6 H    WAT A   1       0.615   1.518   0.566  1.00  0.00       B   H  \\nENDMDL\\n\",\"pdb\",{\"keepH\": \"true\"});\n\tviewergrid_16637680036846046[0][0].setStyle({\"model\": -1, \"serial\": 3},{\"sphere\": {\"scale\": 0.2, \"color\": \"#7F00FF\"}});\n\tviewergrid_16637680036846046[0][0].addModelsAsFrames(\"MODEL 0\\nCRYST1    7.000    7.000    7.000     90     90     90                          \\nHETATM    1 O    WAT A   0       2.323   1.323   1.714  1.00  0.00       B   O  \\nHETATM    2 H    WAT A   0       2.323   2.080   1.127  1.00  0.00       B   H  \\nHETATM    3 H    WAT A   0       2.323   0.566   1.127  1.00  0.00       B   H  \\nHETATM    4 O    WAT A   1       0.615   0.932   1.323  1.00  0.00       B   O  \\nHETATM    5 H    WAT A   1       0.615   1.518   2.080  1.00  0.00       B   H  \\nHETATM    6 H    WAT A   1       0.615   1.518   0.566  1.00  0.00       B   H  \\nENDMDL\\n\",\"pdb\",{\"keepH\": \"true\"});\n\tviewergrid_16637680036846046[0][0].setStyle({\"model\": -1},{\"line\": {\"color\": \"black\"}});\n\tviewergrid_16637680036846046[0][0].addModelsAsFrames(\"MODEL 0\\nCRYST1    7.000    7.000    7.000     90     90     90                          \\nHETATM    1 O    WAT A   0       2.323   1.323   1.714  1.00  0.00       B   O  \\nHETATM    2 H    WAT A   0       2.323   2.080   1.127  1.00  0.00       B   H  \\nHETATM    3 H    WAT A   0       2.323   0.566   1.127  1.00  0.00       B   H  \\nHETATM    4 O    WAT A   1       0.615   0.932   1.323  1.00  0.00       B   O  \\nHETATM    5 H    WAT A   1       0.615   1.518   2.080  1.00  0.00       B   H  \\nHETATM    6 H    WAT A   1       0.615   1.518   0.566  1.00  0.00       B   H  \\nENDMDL\\n\",\"pdb\",{\"keepH\": \"true\"});\n\tviewergrid_16637680036846046[0][0].setStyle({\"model\": -1, \"serial\": 4},{\"sphere\": {\"scale\": 0.2, \"color\": \"#FF0000\"}});\n\tviewergrid_16637680036846046[0][0].addModelsAsFrames(\"MODEL 0\\nCRYST1    7.000    7.000    7.000     90     90     90                          \\nHETATM    1 O    WAT A   0       2.323   1.323   1.714  1.00  0.00       B   O  \\nHETATM    2 H    WAT A   0       2.323   2.080   1.127  1.00  0.00       B   H  \\nHETATM    3 H    WAT A   0       2.323   0.566   1.127  1.00  0.00       B   H  \\nHETATM    4 O    WAT A   1       0.615   0.932   1.323  1.00  0.00       B   O  \\nHETATM    5 H    WAT A   1       0.615   1.518   2.080  1.00  0.00       B   H  \\nHETATM    6 H    WAT A   1       0.615   1.518   0.566  1.00  0.00       B   H  \\nENDMDL\\n\",\"pdb\",{\"keepH\": \"true\"});\n\tviewergrid_16637680036846046[0][0].setStyle({\"model\": -1, \"serial\": 5},{\"sphere\": {\"scale\": 0.2, \"color\": \"#FF0000\"}});\n\tviewergrid_16637680036846046[0][0].addModelsAsFrames(\"MODEL 0\\nCRYST1    7.000    7.000    7.000     90     90     90                          \\nHETATM    1 O    WAT A   0       2.323   1.323   1.714  1.00  0.00       B   O  \\nHETATM    2 H    WAT A   0       2.323   2.080   1.127  1.00  0.00       B   H  \\nHETATM    3 H    WAT A   0       2.323   0.566   1.127  1.00  0.00       B   H  \\nHETATM    4 O    WAT A   1       0.615   0.932   1.323  1.00  0.00       B   O  \\nHETATM    5 H    WAT A   1       0.615   1.518   2.080  1.00  0.00       B   H  \\nHETATM    6 H    WAT A   1       0.615   1.518   0.566  1.00  0.00       B   H  \\nENDMDL\\n\",\"pdb\",{\"keepH\": \"true\"});\n\tviewergrid_16637680036846046[0][0].setStyle({\"model\": -1, \"serial\": 6},{\"sphere\": {\"scale\": 0.2, \"color\": \"#FF0000\"}});\n\tviewergrid_16637680036846046[0][0].addUnitCell({\"model\": -1},{\"box\": {\"color\": \"black\"}, \"alabel\": \"\", \"blabel\": \"\", \"clabel\": \"\"});\n\tviewergrid_16637680036846046[0][0].zoomTo();\nviewergrid_16637680036846046[0][0].render();\n});\n</script>",
            "text/html": [
              "<div id=\"3dmolviewer_16637680036846046\"  style=\"position: relative; width: 400px; height: 300px\">\n",
              "        <p id=\"3dmolwarning_16637680036846046\" style=\"background-color:#ffcccc;color:black\">You appear to be running in JupyterLab (or JavaScript failed to load for some other reason).  You need to install the 3dmol extension: <br>\n",
              "        <tt>jupyter labextension install jupyterlab_3dmol</tt></p>\n",
              "        </div>\n",
              "<script>\n",
              "\n",
              "var loadScriptAsync = function(uri){\n",
              "  return new Promise((resolve, reject) => {\n",
              "    var tag = document.createElement('script');\n",
              "    tag.src = uri;\n",
              "    tag.async = true;\n",
              "    tag.onload = () => {\n",
              "      resolve();\n",
              "    };\n",
              "  var firstScriptTag = document.getElementsByTagName('script')[0];\n",
              "  firstScriptTag.parentNode.insertBefore(tag, firstScriptTag);\n",
              "});\n",
              "};\n",
              "\n",
              "if(typeof $3Dmolpromise === 'undefined') {\n",
              "$3Dmolpromise = null;\n",
              "  $3Dmolpromise = loadScriptAsync('https://cdn.jsdelivr.net/npm/3dmol@latest/build/3Dmol-min.min.js');\n",
              "}\n",
              "\n",
              "var viewer_16637680036846046 = null;\n",
              "var warn = document.getElementById(\"3dmolwarning_16637680036846046\");\n",
              "if(warn) {\n",
              "    warn.parentNode.removeChild(warn);\n",
              "}\n",
              "$3Dmolpromise.then(function() {\n",
              "var viewergrid_16637680036846046 = null;\n",
              "viewergrid_16637680036846046 = $3Dmol.createViewerGrid($(\"#3dmolviewer_16637680036846046\"),{rows: 1, cols: 1, control_all: false},{backgroundColor:\"white\"});\n",
              "viewer_16637680036846046 = viewergrid_16637680036846046[0][0];\n",
              "viewergrid_16637680036846046[0][0].zoomTo();\tviewergrid_16637680036846046[0][0].addModelsAsFrames(\"MODEL 0\\nCRYST1    7.000    7.000    7.000     90     90     90                          \\nHETATM    1 O    WAT A   0       2.323   1.323   1.714  1.00  0.00       B   O  \\nHETATM    2 H    WAT A   0       2.323   2.080   1.127  1.00  0.00       B   H  \\nHETATM    3 H    WAT A   0       2.323   0.566   1.127  1.00  0.00       B   H  \\nHETATM    4 O    WAT A   1       0.615   0.932   1.323  1.00  0.00       B   O  \\nHETATM    5 H    WAT A   1       0.615   1.518   2.080  1.00  0.00       B   H  \\nHETATM    6 H    WAT A   1       0.615   1.518   0.566  1.00  0.00       B   H  \\nENDMDL\\n\",\"pdb\",{\"keepH\": \"true\"});\n",
              "\tviewergrid_16637680036846046[0][0].setStyle({\"model\": -1},{\"line\": {\"color\": \"black\"}});\n",
              "\tviewergrid_16637680036846046[0][0].addModelsAsFrames(\"MODEL 0\\nCRYST1    7.000    7.000    7.000     90     90     90                          \\nHETATM    1 O    WAT A   0       2.323   1.323   1.714  1.00  0.00       B   O  \\nHETATM    2 H    WAT A   0       2.323   2.080   1.127  1.00  0.00       B   H  \\nHETATM    3 H    WAT A   0       2.323   0.566   1.127  1.00  0.00       B   H  \\nHETATM    4 O    WAT A   1       0.615   0.932   1.323  1.00  0.00       B   O  \\nHETATM    5 H    WAT A   1       0.615   1.518   2.080  1.00  0.00       B   H  \\nHETATM    6 H    WAT A   1       0.615   1.518   0.566  1.00  0.00       B   H  \\nENDMDL\\n\",\"pdb\",{\"keepH\": \"true\"});\n",
              "\tviewergrid_16637680036846046[0][0].setStyle({\"model\": -1, \"serial\": 1},{\"sphere\": {\"scale\": 0.2, \"color\": \"#7F00FF\"}});\n",
              "\tviewergrid_16637680036846046[0][0].addModelsAsFrames(\"MODEL 0\\nCRYST1    7.000    7.000    7.000     90     90     90                          \\nHETATM    1 O    WAT A   0       2.323   1.323   1.714  1.00  0.00       B   O  \\nHETATM    2 H    WAT A   0       2.323   2.080   1.127  1.00  0.00       B   H  \\nHETATM    3 H    WAT A   0       2.323   0.566   1.127  1.00  0.00       B   H  \\nHETATM    4 O    WAT A   1       0.615   0.932   1.323  1.00  0.00       B   O  \\nHETATM    5 H    WAT A   1       0.615   1.518   2.080  1.00  0.00       B   H  \\nHETATM    6 H    WAT A   1       0.615   1.518   0.566  1.00  0.00       B   H  \\nENDMDL\\n\",\"pdb\",{\"keepH\": \"true\"});\n",
              "\tviewergrid_16637680036846046[0][0].setStyle({\"model\": -1, \"serial\": 2},{\"sphere\": {\"scale\": 0.2, \"color\": \"#7F00FF\"}});\n",
              "\tviewergrid_16637680036846046[0][0].addModelsAsFrames(\"MODEL 0\\nCRYST1    7.000    7.000    7.000     90     90     90                          \\nHETATM    1 O    WAT A   0       2.323   1.323   1.714  1.00  0.00       B   O  \\nHETATM    2 H    WAT A   0       2.323   2.080   1.127  1.00  0.00       B   H  \\nHETATM    3 H    WAT A   0       2.323   0.566   1.127  1.00  0.00       B   H  \\nHETATM    4 O    WAT A   1       0.615   0.932   1.323  1.00  0.00       B   O  \\nHETATM    5 H    WAT A   1       0.615   1.518   2.080  1.00  0.00       B   H  \\nHETATM    6 H    WAT A   1       0.615   1.518   0.566  1.00  0.00       B   H  \\nENDMDL\\n\",\"pdb\",{\"keepH\": \"true\"});\n",
              "\tviewergrid_16637680036846046[0][0].setStyle({\"model\": -1, \"serial\": 3},{\"sphere\": {\"scale\": 0.2, \"color\": \"#7F00FF\"}});\n",
              "\tviewergrid_16637680036846046[0][0].addModelsAsFrames(\"MODEL 0\\nCRYST1    7.000    7.000    7.000     90     90     90                          \\nHETATM    1 O    WAT A   0       2.323   1.323   1.714  1.00  0.00       B   O  \\nHETATM    2 H    WAT A   0       2.323   2.080   1.127  1.00  0.00       B   H  \\nHETATM    3 H    WAT A   0       2.323   0.566   1.127  1.00  0.00       B   H  \\nHETATM    4 O    WAT A   1       0.615   0.932   1.323  1.00  0.00       B   O  \\nHETATM    5 H    WAT A   1       0.615   1.518   2.080  1.00  0.00       B   H  \\nHETATM    6 H    WAT A   1       0.615   1.518   0.566  1.00  0.00       B   H  \\nENDMDL\\n\",\"pdb\",{\"keepH\": \"true\"});\n",
              "\tviewergrid_16637680036846046[0][0].setStyle({\"model\": -1},{\"line\": {\"color\": \"black\"}});\n",
              "\tviewergrid_16637680036846046[0][0].addModelsAsFrames(\"MODEL 0\\nCRYST1    7.000    7.000    7.000     90     90     90                          \\nHETATM    1 O    WAT A   0       2.323   1.323   1.714  1.00  0.00       B   O  \\nHETATM    2 H    WAT A   0       2.323   2.080   1.127  1.00  0.00       B   H  \\nHETATM    3 H    WAT A   0       2.323   0.566   1.127  1.00  0.00       B   H  \\nHETATM    4 O    WAT A   1       0.615   0.932   1.323  1.00  0.00       B   O  \\nHETATM    5 H    WAT A   1       0.615   1.518   2.080  1.00  0.00       B   H  \\nHETATM    6 H    WAT A   1       0.615   1.518   0.566  1.00  0.00       B   H  \\nENDMDL\\n\",\"pdb\",{\"keepH\": \"true\"});\n",
              "\tviewergrid_16637680036846046[0][0].setStyle({\"model\": -1, \"serial\": 4},{\"sphere\": {\"scale\": 0.2, \"color\": \"#FF0000\"}});\n",
              "\tviewergrid_16637680036846046[0][0].addModelsAsFrames(\"MODEL 0\\nCRYST1    7.000    7.000    7.000     90     90     90                          \\nHETATM    1 O    WAT A   0       2.323   1.323   1.714  1.00  0.00       B   O  \\nHETATM    2 H    WAT A   0       2.323   2.080   1.127  1.00  0.00       B   H  \\nHETATM    3 H    WAT A   0       2.323   0.566   1.127  1.00  0.00       B   H  \\nHETATM    4 O    WAT A   1       0.615   0.932   1.323  1.00  0.00       B   O  \\nHETATM    5 H    WAT A   1       0.615   1.518   2.080  1.00  0.00       B   H  \\nHETATM    6 H    WAT A   1       0.615   1.518   0.566  1.00  0.00       B   H  \\nENDMDL\\n\",\"pdb\",{\"keepH\": \"true\"});\n",
              "\tviewergrid_16637680036846046[0][0].setStyle({\"model\": -1, \"serial\": 5},{\"sphere\": {\"scale\": 0.2, \"color\": \"#FF0000\"}});\n",
              "\tviewergrid_16637680036846046[0][0].addModelsAsFrames(\"MODEL 0\\nCRYST1    7.000    7.000    7.000     90     90     90                          \\nHETATM    1 O    WAT A   0       2.323   1.323   1.714  1.00  0.00       B   O  \\nHETATM    2 H    WAT A   0       2.323   2.080   1.127  1.00  0.00       B   H  \\nHETATM    3 H    WAT A   0       2.323   0.566   1.127  1.00  0.00       B   H  \\nHETATM    4 O    WAT A   1       0.615   0.932   1.323  1.00  0.00       B   O  \\nHETATM    5 H    WAT A   1       0.615   1.518   2.080  1.00  0.00       B   H  \\nHETATM    6 H    WAT A   1       0.615   1.518   0.566  1.00  0.00       B   H  \\nENDMDL\\n\",\"pdb\",{\"keepH\": \"true\"});\n",
              "\tviewergrid_16637680036846046[0][0].setStyle({\"model\": -1, \"serial\": 6},{\"sphere\": {\"scale\": 0.2, \"color\": \"#FF0000\"}});\n",
              "\tviewergrid_16637680036846046[0][0].addUnitCell({\"model\": -1},{\"box\": {\"color\": \"black\"}, \"alabel\": \"\", \"blabel\": \"\", \"clabel\": \"\"});\n",
              "\tviewergrid_16637680036846046[0][0].zoomTo();\n",
              "viewergrid_16637680036846046[0][0].render();\n",
              "});\n",
              "</script>"
            ]
          },
          "metadata": {}
        }
      ],
      "source": [
        "_ = sys.display()"
      ]
    },
    {
      "cell_type": "markdown",
      "id": "experienced-worry",
      "metadata": {
        "id": "experienced-worry"
      },
      "source": [
        "We see that the minimum image convention has wrapped the red fragment around so that it is now on the left side. We can inspect this position values closer from the `Atom` class."
      ]
    },
    {
      "cell_type": "code",
      "execution_count": 28,
      "id": "cooperative-vegetarian",
      "metadata": {
        "id": "cooperative-vegetarian",
        "outputId": "abbbb166-bebc-4539-bb6e-bbd752105af9",
        "colab": {
          "base_uri": "https://localhost:8080/"
        }
      },
      "outputs": [
        {
          "output_type": "stream",
          "name": "stdout",
          "text": [
            "WAT:0\n",
            "[2.3229430273, 1.3229430273, 1.7139430273] [2.3229430273, 1.3229430273, 1.7139430273]\n",
            "[2.3229430273, 2.0801430273, 1.1274430273] [2.3229430273, 2.0801430273, 1.1274430273]\n",
            "[2.3229430273, 0.5657430273000001, 1.1274430273] [2.3229430273, 0.5657430273000001, 1.1274430273]\n",
            "WAT:1\n",
            "[7.6147151365, 0.9319430273000001, 1.3229430272999996] [0.6147151365000005, 0.9319430273000001, 1.3229430272999996]\n",
            "[7.6147151365, 1.5184430273000002, 2.0801430272999997] [0.6147151365000005, 1.5184430273000002, 2.0801430272999997]\n",
            "[7.6147151365, 1.5184430273000002, 0.5657430272999997] [0.6147151365000005, 1.5184430273000002, 0.5657430272999997]\n"
          ]
        }
      ],
      "source": [
        "for fragid, frag in sys.items():\n",
        "    print(fragid)\n",
        "    for at in frag:\n",
        "        print(at.get_position(\"angstroem\"), at.get_position(\"angstroem\", cell=sys.cell))"
      ]
    },
    {
      "cell_type": "markdown",
      "id": "democratic-italy",
      "metadata": {
        "id": "democratic-italy"
      },
      "source": [
        "We also can get accessed to fractional units this way."
      ]
    },
    {
      "cell_type": "code",
      "execution_count": 29,
      "id": "partial-bunch",
      "metadata": {
        "id": "partial-bunch",
        "outputId": "dfdaf7bb-d108-48d4-af65-93db7022f4a2",
        "colab": {
          "base_uri": "https://localhost:8080/"
        }
      },
      "outputs": [
        {
          "output_type": "stream",
          "name": "stdout",
          "text": [
            "WAT:0\n",
            "[0.3318490039, 0.18899186104285715, 0.2448490039]\n",
            "[0.3318490039, 0.29716328961428573, 0.1610632896142857]\n",
            "[0.3318490039, 0.08082043247142859, 0.1610632896142857]\n",
            "WAT:1\n",
            "[0.08781644807142865, 0.1331347181857143, 0.1889918610428571]\n",
            "[0.08781644807142865, 0.21692043247142861, 0.2971632896142857]\n",
            "[0.08781644807142865, 0.21692043247142861, 0.08082043247142852]\n"
          ]
        }
      ],
      "source": [
        "for fragid, frag in sys.items():\n",
        "    print(fragid)\n",
        "    for at in frag:\n",
        "        print(at.get_position(\"reduced\", cell=sys.cell))"
      ]
    },
    {
      "cell_type": "markdown",
      "id": "357e65fe-54fc-44c2-8367-a29a4bd1c556",
      "metadata": {
        "id": "357e65fe-54fc-44c2-8367-a29a4bd1c556"
      },
      "source": [
        "The ```sys.get_posinp()``` method provides the information written in `YAML` markup format:"
      ]
    },
    {
      "cell_type": "code",
      "execution_count": 30,
      "id": "be8c3440-9f1e-44ab-8e00-fdeca6543262",
      "metadata": {
        "id": "be8c3440-9f1e-44ab-8e00-fdeca6543262",
        "outputId": "a96db1b4-2e63-480a-8ca2-6e55816aebaf",
        "colab": {
          "base_uri": "https://localhost:8080/"
        }
      },
      "outputs": [
        {
          "output_type": "execute_result",
          "data": {
            "text/plain": [
              "{'positions': [{'O': [2.3229430273, 1.3229430273, 1.7139430273],\n",
              "   'frag': ['WAT', '0']},\n",
              "  {'H': [2.3229430273, 2.0801430273, 1.1274430273], 'frag': ['WAT', '0']},\n",
              "  {'H': [2.3229430273, 0.5657430273000001, 1.1274430273],\n",
              "   'frag': ['WAT', '0']},\n",
              "  {'O': [0.6147151365000005, 0.9319430273000001, 1.3229430272999996],\n",
              "   'frag': ['WAT', '1']},\n",
              "  {'H': [0.6147151365000005, 1.5184430273000002, 2.0801430272999997],\n",
              "   'frag': ['WAT', '1']},\n",
              "  {'H': [0.6147151365000005, 1.5184430273000002, 0.5657430272999997],\n",
              "   'frag': ['WAT', '1']}],\n",
              " 'units': 'angstroem',\n",
              " 'cell': [7.0, 7.0, 7.0]}"
            ]
          },
          "metadata": {},
          "execution_count": 30
        }
      ],
      "source": [
        "sys.get_posinp()"
      ]
    },
    {
      "cell_type": "code",
      "source": [
        "install.close_drive()"
      ],
      "metadata": {
        "id": "6T784eS-NwKa"
      },
      "id": "6T784eS-NwKa",
      "execution_count": null,
      "outputs": []
    }
  ],
  "metadata": {
    "kernelspec": {
      "display_name": "Python 3 (ipykernel)",
      "language": "python",
      "name": "python3"
    },
    "language_info": {
      "codemirror_mode": {
        "name": "ipython",
        "version": 3
      },
      "file_extension": ".py",
      "mimetype": "text/x-python",
      "name": "python",
      "nbconvert_exporter": "python",
      "pygments_lexer": "ipython3",
      "version": "3.9.7"
    },
    "colab": {
      "provenance": []
    }
  },
  "nbformat": 4,
  "nbformat_minor": 5
}