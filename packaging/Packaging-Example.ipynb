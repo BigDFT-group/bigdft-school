{
  "nbformat": 4,
  "nbformat_minor": 0,
  "metadata": {
    "colab": {
      "provenance": [],
      "collapsed_sections": []
    },
    "kernelspec": {
      "name": "python3",
      "display_name": "Python 3"
    },
    "language_info": {
      "name": "python"
    }
  },
  "cells": [
    {
      "cell_type": "code",
      "source": [
        "! wget https://gitlab.com/luigigenovese/bigdft-school/-/raw/main/packaging/nbup.py &> /dev/null\n",
        "import nbup  # Kernel will crash after this"
      ],
      "metadata": {
        "id": "85XHZLop-7GY"
      },
      "execution_count": null,
      "outputs": []
    },
    {
      "cell_type": "code",
      "source": [
        "# Fix the environment (can't be included in nbup because kernel crash)\n",
        "from os import environ\n",
        "environ[\"BIGDFT_ROOT\"] = \"/usr/local/bin\""
      ],
      "metadata": {
        "id": "ae9PJolRCX1P"
      },
      "execution_count": null,
      "outputs": []
    },
    {
      "cell_type": "code",
      "source": [
        "# Test that we can import everything\n",
        "import futile\n",
        "import BigDFT\n",
        "\n",
        "# Test A Full Calculation with PyBigDFT\n",
        "from BigDFT.Systems import System\n",
        "from BigDFT.Fragments import Fragment\n",
        "from BigDFT.Atoms import Atom\n",
        "\n",
        "at = Atom({\"He\": [0, 0, 0]})\n",
        "frag = Fragment([at])\n",
        "sys = System({\"FRA:0\": frag})\n",
        "\n",
        "from BigDFT.Calculators import SystemCalculator\n",
        "code = SystemCalculator()\n",
        "\n",
        "from BigDFT.Inputfiles import Inputfile\n",
        "inp = Inputfile()\n",
        "inp.set_xc(\"PBE\")\n",
        "inp.set_hgrid(0.4)\n",
        "\n",
        "log = code.run(sys=sys, input=inp)\n",
        "print(log.energy)\n",
        "\n"
      ],
      "metadata": {
        "id": "kR0i8GZ6_1Jh"
      },
      "execution_count": null,
      "outputs": []
    },
    {
      "cell_type": "code",
      "source": [],
      "metadata": {
        "id": "aWEiwnXpDNrX"
      },
      "execution_count": null,
      "outputs": []
    }
  ]
}